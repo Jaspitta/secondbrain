{
 "cells": [
  {
   "cell_type": "markdown",
   "id": "0",
   "metadata": {},
   "source": [
    "## 17.3 Edge list representation"
   ]
  },
  {
   "cell_type": "markdown",
   "id": "1",
   "metadata": {},
   "source": [
    "The simplest way to store a graph is to have two separate collections,\n",
    "for its nodes and edges. This is called an **edge list** representation.\n",
    "The word 'list' doesn't refer to Python's list type,\n",
    "but rather to listing all edges explicitly.\n",
    "Any suitable data structure can be used for the collections:\n",
    "they're usually arrays, linked lists or sets.\n",
    "\n",
    "In Python, it's best to use sets, one with the nodes,\n",
    "the other with pairs of nodes. Let's consider the same example graphs.\n",
    "\n",
    "<p id=\"fig-17.3.1\"></p>\n",
    "\n",
    "*[Figure 17.3.1](../33_Figures/Figures_17_3.ipynb#Figure-17.3.1)*\n",
    "\n",
    "![Image 17_1_un_directed.png](17_1_un_directed.png)\n",
    "\n",
    "The undirected graph on the left could be represented with sets\n",
    "\n",
    "- `{'Alice', 'Bob', 'Chan', 'David'}`\n",
    "- `{('Alice', 'Bob'), ('Bob', 'Chan'), ('Alice', 'David'), ('David', 'Bob')}`.\n",
    "\n",
    "An undirected edge between nodes A and B is stored as a single pair\n",
    "to save memory: it doesn't matter whether it's (A, B) or (B, A).\n",
    "Since edges are undirected, one could consider representing each as\n",
    "a set of two nodes: {{'Alice', 'Bob'}, {'Bob', 'Chan'}, ...}.\n",
    "[Python's sets](../08_Unordered/08_5_summary.ipynb#8.5.3-Sets) require items to be hashable,\n",
    "but sets themselves aren't,\n",
    "so `{{'Alice', 'Bob'}, {'Bob', 'Chan'}}` isn't a valid Python literal.\n",
    "\n",
    "The digraph on the right would be represented with sets\n",
    "\n",
    "- `{1, 2, 3, 4}`\n",
    "- `{(1, 2), (2, 1), (4, 1), (4, 2)}`.\n",
    "\n",
    "Using Python's `set` type has two advantages. The first is conceptual:\n",
    "the representation directly follows the definition of graphs as\n",
    "a set of nodes and a set of edges.\n",
    "The second is practical: the type supports constant-time membership checks,\n",
    "additions and deletions, whereas Python's lists don't.\n",
    "\n",
    "If nodes can't be represented by a hashable type\n",
    "(strings, integers, Booleans and tuples thereof),\n",
    "then Python's lists are the second-best choice for an edge list representation."
   ]
  },
  {
   "cell_type": "markdown",
   "id": "2",
   "metadata": {},
   "source": [
    "### 17.3.1 Exercises"
   ]
  },
  {
   "cell_type": "markdown",
   "id": "3",
   "metadata": {},
   "source": [
    "#### Exercise 17.3.1"
   ]
  },
  {
   "cell_type": "markdown",
   "id": "4",
   "metadata": {},
   "source": [
    "Bob thinks that the collection of nodes helps implement graph operations\n",
    "in an easy and efficient way, but is not strictly necessary,\n",
    "since the nodes can be obtained by going though the collection of edges.\n",
    "He proposes to not store the collection of nodes for very large graphs,\n",
    "to save memory.\n",
    "\n",
    "Is he right? Is the collection of nodes redundant?\n",
    "Can we implement the graph ADT just with the collection of edges?"
   ]
  },
  {
   "cell_type": "markdown",
   "id": "5",
   "metadata": {},
   "source": [
    "_Write your answer here._"
   ]
  },
  {
   "cell_type": "markdown",
   "id": "6",
   "metadata": {},
   "source": [
    "[Hint](../31_Hints/Hints_17_3_01.ipynb)\n",
    "[Answer](../32_Answers/Answers_17_3_01.ipynb)"
   ]
  },
  {
   "cell_type": "markdown",
   "id": "7",
   "metadata": {},
   "source": [
    "#### Exercise 17.3.2"
   ]
  },
  {
   "cell_type": "markdown",
   "id": "8",
   "metadata": {},
   "source": [
    "For each operation below, describe very briefly how it's implemented\n",
    "for digraphs and give the worst-case complexity in terms of\n",
    "the number of nodes *n* and the number of edges *e*.\n",
    "You may wish to look again at the complexity of\n",
    "[set operations](../08_Unordered/08_5_summary.ipynb#8.5.3-Sets).\n",
    "I've done some operations for you."
   ]
  },
  {
   "cell_type": "markdown",
   "id": "9",
   "metadata": {},
   "source": [
    "Operation | Implementation | Complexity\n",
    ":-|:-|:-\n",
    "add node A | add to set of nodes | Θ(1)\n",
    "remove node A |   |\n",
    "has edge (A, B) | check membership in the set of edges | Θ(1)\n",
    "add edge (A, B) |   |\n",
    "remove edge (A, B) |   |\n",
    "in-neighbours of A | find all B such that (B, A) is in the set of edges | Θ(*e*)\n",
    "out-neighbours of A | |\n",
    "in-degree of A |   |"
   ]
  },
  {
   "cell_type": "markdown",
   "id": "10",
   "metadata": {},
   "source": [
    "[Hint](../31_Hints/Hints_17_3_02.ipynb)\n",
    "[Answer](../32_Answers/Answers_17_3_02.ipynb)"
   ]
  },
  {
   "cell_type": "markdown",
   "id": "11",
   "metadata": {},
   "source": [
    "#### Exercise 17.3.3"
   ]
  },
  {
   "cell_type": "markdown",
   "id": "12",
   "metadata": {},
   "source": [
    "Our definition of graph doesn't allow **loops** (edges between the same node)\n",
    "but sometimes they are necessary to model a network.\n",
    "It's therefore useful to know how to handle them.\n",
    "\n",
    "Consider a director/actor network. It can be modelled with a digraph\n",
    "where the nodes represent people and where edge (A, B) means that\n",
    "A has directed B in some play or film.\n",
    "If person A acted in a play or film they directed,\n",
    "then the digraph must include edge (A, A).\n",
    "\n",
    "Can an edge list representation accommodate loops? How?"
   ]
  },
  {
   "cell_type": "markdown",
   "id": "13",
   "metadata": {},
   "source": [
    "_Write your answer here._"
   ]
  },
  {
   "cell_type": "markdown",
   "id": "14",
   "metadata": {},
   "source": [
    "[Answer](../32_Answers/Answers_17_3_03.ipynb)"
   ]
  },
  {
   "cell_type": "markdown",
   "id": "15",
   "metadata": {},
   "source": [
    "⟵ [Previous section](17_2_concepts.ipynb) | [Up](17-introduction.ipynb) | [Next section](17_4_adj_matrix.ipynb) ⟶"
   ]
  }
 ],
 "metadata": {
  "kernelspec": {
   "display_name": "Python 3",
   "language": "python",
   "name": "python3"
  },
  "language_info": {
   "codemirror_mode": {
    "name": "ipython",
    "version": 3
   },
   "file_extension": ".py",
   "mimetype": "text/x-python",
   "name": "python",
   "nbconvert_exporter": "python",
   "pygments_lexer": "ipython3",
   "version": "3.12.10"
  }
 },
 "nbformat": 4,
 "nbformat_minor": 5
}
