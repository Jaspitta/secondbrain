{
 "cells": [
  {
   "cell_type": "markdown",
   "id": "0",
   "metadata": {},
   "source": [
    "## 17.1 Modelling with graphs"
   ]
  },
  {
   "cell_type": "markdown",
   "id": "1",
   "metadata": {},
   "source": [
    "Graphs are simple abstract mathematical structures and that's what makes\n",
    "them so powerful: they can model myriad real-world situations.\n",
    "Once you learn what graphs are and what they can represent,\n",
    "it's difficult not to see graphs everywhere.\n",
    "\n",
    "An **undirected graph** consists of a set of items called **nodes** and\n",
    "a set of **undirected edges**, such that each edge connects two different nodes\n",
    "and there's at most one edge between any pair of nodes.\n",
    "A **directed graph** (abbreviated **digraph**) consists of a set of nodes and\n",
    "a set of **directed edges**, such that each edge connects two different nodes\n",
    "and there's at most two edges in opposite directions between any pair of nodes.\n",
    "\n",
    "Graphs are usually depicted with the items within circles or ellipses\n",
    "and edges as lines.\n",
    "Directed edges have an arrowhead to show their direction.\n",
    "The next figure shows an undirected graph on the left and a digraph on the right.\n",
    "\n",
    "<p id=\"fig-17.1.1\"></p>\n",
    "\n",
    "*[Figure 17.1.1](../33_Figures/Figures_17_1.ipynb#Figure-17.1.1)*\n",
    "\n",
    "![Image 17_1_un_directed.png](17_1_un_directed.png)\n",
    "\n",
    "Any undirected graph can be represented as a digraph.\n",
    "If we replace each undirected edge by two opposing directed edges,\n",
    "we transform an undirected graph into an equivalent digraph, albeit with\n",
    "double the number of edges."
   ]
  },
  {
   "cell_type": "markdown",
   "id": "2",
   "metadata": {},
   "source": [
    "<div class=\"alert alert-info\">\n",
    "<strong>Info:</strong> Nodes are also called vertices (singular: vertex) and\n",
    "edges are also called links. Directed edges are also called arcs.\n",
    "There are many kinds of graphs; those defined above are called simple graphs.\n",
    "</div>"
   ]
  },
  {
   "cell_type": "markdown",
   "id": "3",
   "metadata": {},
   "source": [
    "As I mentioned in the introduction, graphs can represent all sorts of networks.\n",
    "\n",
    "Several transport networks can be modelled by undirected graphs.\n",
    "\n",
    "- A railway network can be modelled with nodes representing stations and\n",
    "  edges representing track between stations. Track doesn't have a direction,\n",
    "  it can be used by trains travelling in both directions,\n",
    "  so the edges are undirected.\n",
    "- A flight network can be modelled with nodes representing airports and\n",
    "  edges representing the existence of a direct flight between two airports.\n",
    "  Assuming there's a return flight between the same airports,\n",
    "  the edges are undirected.\n",
    "- The motorway network of a country can be represented by an undirected graph,\n",
    "  because motorways can be used in both directions.\n",
    "  Nodes represent junctions and edges represent stretches of road between them.\n",
    "\n",
    "It's often better to use digraphs, in order to represent transport networks\n",
    "in more detail.\n",
    "\n",
    "- The street network of a city can be modelled by a digraph with nodes\n",
    "  representing junctions and edges representing streets.\n",
    "  The direction of the edge indicates how the traffic flows.\n",
    "  Directed edges allow us to distinguish one-way from two-way streets.\n",
    "- If one direction of a motorway segment between two junctions is blocked,\n",
    "  e.g. due to an accident, we need to represent each direction separately.\n",
    "  A digraph with opposing edges between pairs of junctions is a more flexible\n",
    "  model than an undirected graph, because it allows us to\n",
    "  remove edges (and add them back) as the situation on the ground changes.\n",
    "\n",
    "Like transport networks, communication and information networks can be modelled\n",
    "by undirected or directed graphs, depending on whether communication and\n",
    "information flows both ways between any pair of nodes or not, and on whether\n",
    "we want to represent each direction of flow separately or not.\n",
    "\n",
    "The internet (a communication network) can be modelled as an undirected graph\n",
    "with nodes representing computers and edges representing a direct link\n",
    "(like an Ethernet cable or a Wi-Fi connection) between two computers.\n",
    "The World Wide Web (an information network) can be modelled as a digraph,\n",
    "where nodes represent web pages and an edge from A to B indicates that\n",
    "page A links to page B.\n",
    "\n",
    "A spreadsheet can also be seen as an information network,\n",
    "with nodes representing cells and a directed edge from node A to node B if\n",
    "the value of cell A is used by the formula in cell B.\n",
    "Whenever the user changes the value of a cell,\n",
    "the spreadsheet app follows outgoing edges to quickly\n",
    "recompute only those formulas that directly or indirectly depend on that cell.\n",
    "\n",
    "The following spreadsheet adds 20% VAT to the cost of a good or service.\n",
    "\n",
    "<p id=\"fig-17.1.2\"></p>\n",
    "\n",
    "*[Figure 17.1.2](../33_Figures/Figures_17_1.ipynb#Figure-17.1.2)*\n",
    "\n",
    "![Image 17_1_spreadsheet.png](17_1_spreadsheet.png)\n",
    "\n",
    "The underlying digraph is:\n",
    "\n",
    "<p id=\"fig-17.1.3\"></p>\n",
    "\n",
    "*[Figure 17.1.3](../33_Figures/Figures_17_1.ipynb#Figure-17.1.3)*\n",
    "\n",
    "![Image 17_1_cells.png](17_1_cells.png)\n",
    "\n",
    "Whenever the value in cell A2 changes, the app follows the outgoing edge\n",
    "to recompute B2 and then its outgoing edge to recompute C2.\n",
    "\n",
    "Another example from Computing is the digraph formed by the data and\n",
    "the variable names in memory and the references between them. As the diagrams\n",
    "in [Section&nbsp;6.2.1](../06_Implementing/06_2_static_array.ipynb#6.2.1-Variables-and-assignments) show,\n",
    "the nodes are the variables and the data, and an edge from A to B indicates that\n",
    "A refers to B. An assignment `A = C` removes any existing edge from A and\n",
    "creates an edge from A to the data referred to by C.\n",
    "\n",
    "Biological networks are usually modelled with digraphs. For example,\n",
    "a food web is modelled with nodes representing animal and plant species, and\n",
    "an edge from node A to node B indicating that animal A eats animal or plant B.\n",
    "\n",
    "In a spreadsheet, a formula in one cell depends on the values in other cells;\n",
    "in a food web, a species depends on other species for nourishment.\n",
    "More generally, digraphs can represent networks of dependencies.\n",
    "For example, a digraph can model a work schedule, with nodes representing tasks\n",
    "and an edge from A to B indicating that task A has to be done before task B.\n",
    "\n",
    "Social networks are modelled with graphs where nodes represent people.\n",
    "To model the Twitter network, we use a digraph with an edge from A to B\n",
    "indicating that A follows B.\n",
    "To model the Facebook or LinkedIn networks, we use an undirected graph\n",
    "with an edge between two people indicating that they are friends or acquainted.\n",
    "\n",
    "Digraphs can also represent state transition diagrams.\n",
    "Each node is a possible state and an edge from A to B represents a transition:\n",
    "it's possible to go from state A to state B. For example, each possible state of\n",
    "a [Noughts and Crosses game](../04_Iteration/04_5_tuples.ipynb#Exercise-4.5.2)\n",
    "corresponds to a node and each edge to a valid move,\n",
    "leading from one state to another. For example, if either player can start the\n",
    "game, the digraph includes the following nodes and edges (among many others).\n",
    "\n",
    "<p id=\"fig-17.1.4\"></p>\n",
    "\n",
    "*[Figure 17.1.4](../33_Figures/Figures_17_1.ipynb#Figure-17.1.4)*\n",
    "\n",
    "![Image 17_1_XO.png](17_1_XO.png)\n",
    "\n",
    "Programs can then analyse the graph to determine a good move.\n",
    "Except for the simplest of games, the graph is too big to be fully analysed, so\n",
    "the program works on a partial graph: for example it generates only the states\n",
    "reachable from the current state in three moves.\n",
    "We'll return to state transition graphs in a [later chapter](../21_Graphs_2/21_4_states.ipynb#21.4-State-graphs).\n",
    "\n",
    "In summary, whenever you want to represent a set of entities and\n",
    "a **binary relation**, i.e. between pairs of entities,\n",
    "a graph may be the best choice.\n",
    "If the relation is **symmetric**, i.e. holds in both directions, then\n",
    "you can use an undirected graph; otherwise it has to be directed.\n",
    "The 'A is friends with B' relation on Facebook is symmetric:\n",
    "if Alice is Bob's friend, then Bob is Alice's friend.\n",
    "The 'A follows B' relation on Twitter isn't symmetric:\n",
    "Alice may follow Bob without Bob following Alice.\n",
    "\n",
    "For asymmetric relations we often have a choice about the direction of edges.\n",
    "We can represent the same Twitter network with edges representing the 'follows'\n",
    "or the 'is followed by' relation, depending on the problem at hand.\n",
    "The 'is followed by' graph can be obtained from the 'follows' graph by reversing\n",
    "the direction of the edges.\n",
    "\n",
    "Likewise, if there's an edge from task A to task B in a work schedule graph\n",
    "this could either mean that task A depends on (and thus is done after) task B,\n",
    "or that task A prepares for (and thus is done before) task B.\n",
    "\n",
    "When you're asked to model some situation with a graph, you must state\n",
    "exactly what the edges and their direction represent.\n",
    "All edges must represent the same relation, otherwise the model is useless.\n",
    "\n",
    "Once you have modelled a set of entities and their relations as a graph,\n",
    "you can use general-purpose algorithms to process your graph. For example,\n",
    "you may have experienced a spreadsheet app telling you there's a circular\n",
    "dependency between your formulas.\n",
    "The app simply uses a general algorithm to find a cycle in any digraph.\n",
    "The same algorithm can find circular dependencies in a work schedule.\n",
    "\n",
    "If a digraph has no cycles, there's an algorithm for sequencing the nodes so\n",
    "that for every edge from A to B, B will appear after A in the sequence.\n",
    "Such an algorithm is used by a spreadsheet to determine in which order to\n",
    "recalculate values: in the above example, cell C2 must be recomputed after B2.\n",
    "It's also used by\n",
    "[garbage collection](../06_Implementing/06_2_static_array.ipynb#6.2.1-Variables-and-assignments): if name or\n",
    "datum A refers to B which in turn refers to C, and nothing else refers to them,\n",
    "then A, B and C can be garbage collected, in that order.\n",
    "\n",
    "As a final example, there's a general algorithm that finds the shortest path,\n",
    "with the least number of edges, to go from a node A to a node B.\n",
    "The same algorithm can be used on various networks to find, for example,\n",
    "a flight itinerary with the fewest transfers or\n",
    "a path for a data packet to go through the fewest intermediary computers.\n",
    "\n",
    "No wonder graphs and their algorithms are so widely used, in games, satnavs,\n",
    "spreadsheets, language interpreters, by transport, communication and\n",
    "social media companies, by scientists studying how gossip and diseases spread,\n",
    "etc."
   ]
  },
  {
   "cell_type": "markdown",
   "id": "4",
   "metadata": {},
   "source": [
    "### 17.1.1 Exercises"
   ]
  },
  {
   "cell_type": "markdown",
   "id": "5",
   "metadata": {},
   "source": [
    "#### Exercise 17.1.1"
   ]
  },
  {
   "cell_type": "markdown",
   "id": "6",
   "metadata": {},
   "source": [
    "A train network has a north–south train running between stations N and S,\n",
    "stopping at stations A and B in between. There's also an east–west train\n",
    "that runs between stations E and W and stops at B in between.\n",
    "\n",
    "Draw an undirected graph that represents direct travel: there's an edge between\n",
    "two stations if one can travel from one to the other without changing trains.\n",
    "\n",
    "Don't worry too much about the layout of your graph: edges may cross,\n",
    "as in the undirected graph above.\n",
    "\n",
    "[Hint](../31_Hints/Hints_17_1_01.ipynb)\n",
    "[Answer](../32_Answers/Answers_17_1_01.ipynb)"
   ]
  },
  {
   "cell_type": "markdown",
   "id": "7",
   "metadata": {},
   "source": [
    "#### Exercise 17.1.2"
   ]
  },
  {
   "cell_type": "markdown",
   "id": "8",
   "metadata": {},
   "source": [
    "Give two examples of relations between people (one symmetric, the other not)\n",
    "that don't involve social media."
   ]
  },
  {
   "cell_type": "markdown",
   "id": "9",
   "metadata": {},
   "source": [
    "_Write your answer here._"
   ]
  },
  {
   "cell_type": "markdown",
   "id": "10",
   "metadata": {},
   "source": [
    "[Answer](../32_Answers/Answers_17_1_02.ipynb)"
   ]
  },
  {
   "cell_type": "markdown",
   "id": "11",
   "metadata": {},
   "source": [
    "#### Exercise 17.1.3"
   ]
  },
  {
   "cell_type": "markdown",
   "id": "12",
   "metadata": {},
   "source": [
    "How could you represent a sequence of items (e.g. a queue) as a graph?\n",
    "State what the nodes and edges represent and whether the edges are directed."
   ]
  },
  {
   "cell_type": "markdown",
   "id": "13",
   "metadata": {},
   "source": [
    "_Write your answer here._"
   ]
  },
  {
   "cell_type": "markdown",
   "id": "14",
   "metadata": {},
   "source": [
    "[Hint](../31_Hints/Hints_17_1_03.ipynb)\n",
    "[Answer](../32_Answers/Answers_17_1_03.ipynb)"
   ]
  },
  {
   "cell_type": "markdown",
   "id": "15",
   "metadata": {},
   "source": [
    "#### Exercise 17.1.4"
   ]
  },
  {
   "cell_type": "markdown",
   "id": "16",
   "metadata": {},
   "source": [
    "How could you represent a set of items as a graph?\n",
    "State what the nodes and edges represent and whether the edges are directed."
   ]
  },
  {
   "cell_type": "markdown",
   "id": "17",
   "metadata": {},
   "source": [
    "_Write your answer here._"
   ]
  },
  {
   "cell_type": "markdown",
   "id": "18",
   "metadata": {},
   "source": [
    "[Answer](../32_Answers/Answers_17_1_04.ipynb)"
   ]
  },
  {
   "cell_type": "markdown",
   "id": "19",
   "metadata": {},
   "source": [
    "#### Exercise 17.1.5"
   ]
  },
  {
   "cell_type": "markdown",
   "id": "20",
   "metadata": {},
   "source": [
    "Some train and subway networks have several lines connecting two stops.\n",
    "For example, on the London Underground you can take the Circle or District line\n",
    "from Westminster to Tower Hill.\n",
    "\n",
    "Our graph definitions don't allow multiple edges between two nodes.\n",
    "How could you model such networks then?"
   ]
  },
  {
   "cell_type": "markdown",
   "id": "21",
   "metadata": {},
   "source": [
    "_Write your answer here._"
   ]
  },
  {
   "cell_type": "markdown",
   "id": "22",
   "metadata": {},
   "source": [
    "[Hint](../31_Hints/Hints_17_1_05.ipynb)\n",
    "[Answer](../32_Answers/Answers_17_1_05.ipynb)"
   ]
  },
  {
   "cell_type": "markdown",
   "id": "23",
   "metadata": {},
   "source": [
    "⟵ [Previous section](17-introduction.ipynb) | [Up](17-introduction.ipynb) | [Next section](17_2_concepts.ipynb) ⟶"
   ]
  }
 ],
 "metadata": {
  "kernelspec": {
   "display_name": "Python 3",
   "language": "python",
   "name": "python3"
  },
  "language_info": {
   "codemirror_mode": {
    "name": "ipython",
    "version": 3
   },
   "file_extension": ".py",
   "mimetype": "text/x-python",
   "name": "python",
   "nbconvert_exporter": "python",
   "pygments_lexer": "ipython3",
   "version": "3.12.10"
  }
 },
 "nbformat": 4,
 "nbformat_minor": 5
}
