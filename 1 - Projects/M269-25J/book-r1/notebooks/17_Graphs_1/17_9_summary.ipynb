{
 "cells": [
  {
   "cell_type": "markdown",
   "id": "0",
   "metadata": {},
   "source": [
    "## 17.9 Summary"
   ]
  },
  {
   "cell_type": "markdown",
   "id": "1",
   "metadata": {},
   "source": [
    "A **graph** consists of a set of items called **nodes** and a set of pairs of nodes,\n",
    "called **edges**.\n",
    "Each edge connects a node with a different node and can be directed or undirected.\n",
    "A **directed graph** (or **digraph**) only has directed edges;\n",
    "an **undirected graph** only has undirected edges.\n",
    "Between each pair of nodes, there's at most one undirected edge or\n",
    "two directed edges in opposing directions.\n",
    "\n",
    "A relation between pairs of items is a **binary relation**. A binary relation is\n",
    "**symmetric** if it's reciprocal: if A is related to B, then B is related to A.\n",
    "\n",
    "Since edges connect pairs of nodes, graphs can model any set of entities\n",
    "and a binary relation over them. This includes many kinds of networks.\n",
    "We can use an undirected graph only if the relation is symmetric."
   ]
  },
  {
   "cell_type": "markdown",
   "id": "2",
   "metadata": {},
   "source": [
    "### 17.9.1 Terminology"
   ]
  },
  {
   "cell_type": "markdown",
   "id": "3",
   "metadata": {},
   "source": [
    "Two nodes are **adjacent** if connected by an edge. If there's an edge from A to B,\n",
    "then A is an **in-neighbour** of B and B is an **out-neighbour** of A.\n",
    "An undirected edge is both from A to B and from B to A.\n",
    "\n",
    "A node's **neighbours** are its adjacent nodes.\n",
    "The **degree** of a node is the number of edges attached to it.\n",
    "\n",
    "The **in- and out-degree** of a node are the number of its in- and out-neighbours,\n",
    "respectively. In an undirected graph, the in-neighbours and the out-neighbours\n",
    "of a node are the same, so its in- and out-degrees are the same as the degree.\n",
    "\n",
    "Every undirected graph can be represented as a digraph with twice the edges,\n",
    "by replacing each undirected edge with two opposing directed edges.\n",
    "Algorithms based on in- and out-neighbours and in- and out-degrees can thus be applied to\n",
    "directed *and* undirected graphs.\n",
    "\n",
    "A **path** of length *k* from node A to node B is a sequence of *k* + 1 nodes,\n",
    "starting with A and ending with B.\n",
    "There must be an edge from each node in the sequence to the next one.\n",
    "In addition, all nodes and edges in a path must be different.\n",
    "Node B is **reachable** from node A if there's a path from A to B.\n",
    "A **shortest path** has the fewest possible edges among all paths from A to B.\n",
    "\n",
    "An undirected graph is **connected** if all pairs of nodes are mutually reachable;\n",
    "otherwise it's **disconnected**. If there's a node S from which all other nodes are\n",
    "reachable, then all nodes are mutually reachable via S: the graph is connected.\n",
    "A digraph is connected or disconnected if we obtain a connected or disconnected\n",
    "undirected graph when ignoring all edge directions.\n",
    "\n",
    "A **cycle** is a path with the exception that the first and last node are the same.\n",
    "A graph with at least one cycle is **cyclic**; otherwise it's **acyclic**.\n",
    "The acronym **DAG** stands for directed acyclic graph.\n",
    "A **tree** is a connected acyclic undirected graph.\n",
    "In a tree, there's a single path from one node to any other node.\n",
    "A tree with *n* nodes has *n* – 1 edges.\n",
    "\n",
    "The **empty graph** has neither nodes nor edges.\n",
    "A **null graph** has nodes but no edges.\n",
    "A **path graph** is a non-empty undirected graph that can be laid out in a line,\n",
    "with each node except the last connected to the next one. If we take\n",
    "a path graph with at least three nodes and connect the last node to the first,\n",
    "we obtain a cycle graph.\n",
    "A **complete graph** has all possible edges.\n",
    "A **random graph** has each possible edge with the same probability.\n",
    "\n",
    "A graph is **dense** if it has many of the possible edges;\n",
    "it's **sparse** if it has few of the possible edges. There's no precise\n",
    "definition to classify each graph as sparse, dense or neither.\n",
    "Complete graphs are the densest graphs; null graphs are the sparsest graphs.\n",
    "\n",
    "A **subgraph** of a graph G consists of only a subset of the nodes and edges of G."
   ]
  },
  {
   "cell_type": "markdown",
   "id": "4",
   "metadata": {},
   "source": [
    "### 17.9.2 Data structures"
   ]
  },
  {
   "cell_type": "markdown",
   "id": "5",
   "metadata": {},
   "source": [
    "An **edge list** representation consists of one collection containing the nodes and\n",
    "one collection containing the edges. Several data structures are possible,\n",
    "depending on the type of the collections, e.g. sequences or sets, and how they are stored,\n",
    "e.g. as arrays, linked lists, lookup tables or hash tables.\n",
    "\n",
    "An **adjacency matrix** representation consists of an *n* by *n* matrix that\n",
    "represents all possible edges and a lookup table that maps the indices to nodes.\n",
    "The cell in the row for node A and in the column for node B is a Boolean\n",
    "indicating if there's an edge from A to B.\n",
    "Adjacency matrices waste memory for sparse graphs and for undirected graphs.\n",
    "\n",
    "An **adjacency list** representation consists of a map where the keys are nodes\n",
    "and the values are their out-neighbours (and possibly their in-neighbours too).\n",
    "Each value is the adjacency list for the corresponding node.\n",
    "Several data structures are possible to store the map and each adjacency list.\n",
    "For example, the map can be implemented with a lookup table, hash table or BST,\n",
    "and an adjacency list can be represented as a sequence or a set.\n",
    "\n",
    "Of all these possibilities, the most efficient for most graphs is\n",
    "an adjacency list representation in which the map and the adjacency lists are\n",
    "stored in hash tables. This requires the representation of nodes to be hashable.\n",
    "\n",
    "In M269, the undirected and directed graph ADTs have the following operations\n",
    "with the listed worst-case complexities for undirected and directed graphs.\n",
    "When referring to graphs,\n",
    "we use *n* for the number of nodes and *e* for the number of edges.\n",
    "\n",
    "Operation | Written as | Undirected | Directed\n",
    ":-|:-|:-|:-\n",
    "new | let G be an empty graph | Θ(1)| Θ(1)\n",
    "has node | A in G | Θ(1)| Θ(1)\n",
    "add node | add A to G | Θ(1)| Θ(1)\n",
    "remove node | remove A from G | Θ(*n*) | Θ(*n*)\n",
    "has edge | (A, B) in G | Θ(1)| Θ(1)\n",
    "add edge | add (A, B) to G | Θ(1)| Θ(1)\n",
    "remove edge | remove (A, B) from G | Θ(1)| Θ(1)\n",
    "nodes | nodes of G | Θ(*n*) | Θ(*n*)\n",
    "edges | edges of G | Θ(*e*) | Θ(*e*)\n",
    "in-neighbours | in-neighbours of A in G | Θ(degree(A)) | Θ(*n*)\n",
    "out-neighbours | out-neighbours of A in G | Θ(degree(A)) | Θ(out-degree(A))\n",
    "neighbours | neighbours of A in G | Θ(degree(A)) | Θ(*n*)\n",
    "in-degree | in-degree of A in G | Θ(1) | Θ(*n*)\n",
    "out-degree | out-degree of A in G | Θ(1) | Θ(1)\n",
    "degree | degree of A in G | Θ(1) | Θ(*n*)"
   ]
  },
  {
   "cell_type": "markdown",
   "id": "6",
   "metadata": {},
   "source": [
    "### 17.9.3 Traversals"
   ]
  },
  {
   "cell_type": "markdown",
   "id": "7",
   "metadata": {},
   "source": [
    "A **traversal** of a graph starts from a given node and follows the outgoing edges\n",
    "to visit every node reachable from the start.\n",
    "The algorithm keeps a collection of yet-unprocessed edges.\n",
    "While the collection isn't empty, it removes one edge from the collection.\n",
    "If it leads to a yet-unvisited node, the edge is followed, the node is visited,\n",
    "and its outgoing edges are added to the unprocessed collection.\n",
    "\n",
    "If the collection is a set, the traversal visits nodes in no particular order.\n",
    "\n",
    "If the collection is a FIFO sequence (queue), the nodes are visited in\n",
    "breadth-first order: first the out-neighbours of the start node, then\n",
    "their out-neighbours, and so on.\n",
    "This finds the shortest paths from the start node to each other reachable node.\n",
    "\n",
    "If the collection is a LIFO sequence (stack), the nodes are visited in\n",
    "depth-first order: first one out-neighbour of the start node, then\n",
    "one of its out-neighbours, etc.\n",
    "\n",
    "All three variants traverse an acyclic subgraph of the input graph.\n",
    "They all take constant time in the best case and Θ(*n* + *e*) in the worst case.\n",
    "They can all be used to decide if a non-empty undirected graph is connected\n",
    "and, in particular, a tree."
   ]
  },
  {
   "cell_type": "markdown",
   "id": "8",
   "metadata": {},
   "source": [
    "### 17.9.4 Python"
   ]
  },
  {
   "cell_type": "markdown",
   "id": "9",
   "metadata": {},
   "source": [
    "Class `Hashable` in module `typing` can be used to annotate function parameters\n",
    "as being hashable objects.\n",
    "\n",
    "Function `random` in module `random` returns each time it's called a random\n",
    "floating-point number from 0 (inclusive) to 1 (exclusive).\n",
    "\n",
    "Replacing `self.` with `super().` allows a subclass to\n",
    "call methods of its superclass."
   ]
  },
  {
   "cell_type": "markdown",
   "id": "10",
   "metadata": {},
   "source": [
    "⟵ [Previous section](17_8_bfs_dfs.ipynb) | [Up](17-introduction.ipynb) | [Next section](../18_Greed/18-introduction.ipynb) ⟶"
   ]
  }
 ],
 "metadata": {
  "kernelspec": {
   "display_name": "Python 3",
   "language": "python",
   "name": "python3"
  },
  "language_info": {
   "codemirror_mode": {
    "name": "ipython",
    "version": 3
   },
   "file_extension": ".py",
   "mimetype": "text/x-python",
   "name": "python",
   "nbconvert_exporter": "python",
   "pygments_lexer": "ipython3",
   "version": "3.12.10"
  }
 },
 "nbformat": 4,
 "nbformat_minor": 5
}
