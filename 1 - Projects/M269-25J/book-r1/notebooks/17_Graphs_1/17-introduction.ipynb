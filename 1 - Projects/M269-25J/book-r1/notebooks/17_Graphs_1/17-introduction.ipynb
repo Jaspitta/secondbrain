{
 "cells": [
  {
   "cell_type": "markdown",
   "id": "0",
   "metadata": {},
   "source": [
    "# 17 Graphs 1"
   ]
  },
  {
   "cell_type": "markdown",
   "id": "1",
   "metadata": {},
   "source": [
    "In collections seen so far, either\n",
    "all items are related to each other by some ordering (sequences),\n",
    "no items are related to each other (sets), or\n",
    "some items are related by a hierarchical order (rooted trees).\n",
    "\n",
    "This chapter introduces graphs, which explicitly state which pairs of items\n",
    "are related to each other (and, by omission, which aren't).\n",
    "Graphs can model all kinds of networks.\n",
    "For example, we can model a social network as a graph where the items represent\n",
    "people and two items (people) are related if and only if they're mutual friends.\n",
    "\n",
    "Algorithms on graphs can then be used to recommend new friends to a person,\n",
    "suggest whom they should ask for an introduction to another person,\n",
    "target ads at popular people who can broadcast them, etc.\n",
    "All social media run on graphs.\n",
    "\n",
    "Due to their flexibility and generality, graphs are one of the most widely used\n",
    "ADTs across many domains besides social media:\n",
    "transport and logistics, computer networks, biology, linguistics, etc."
   ]
  },
  {
   "cell_type": "markdown",
   "id": "2",
   "metadata": {},
   "source": [
    "<div class=\"alert alert-info\">\n",
    "<strong>Info:</strong> Like other terms, 'graph' has multiple meanings. In MU123 and MST124,\n",
    "a graph is an x-y plot, like those in Sections\n",
    "[11.2.3](../11_Search/11<em>2</em>factorisation.ipynb#11.2.3-Sort-candidates) and\n",
    "[11.4.3](../11_Search/11<em>4</em>permutations.ipynb#11.4.3-Complexity).\n",
    "In M269 and MST368, a graph is an abstract model of a network.\n",
    "</div>"
   ]
  },
  {
   "cell_type": "markdown",
   "id": "3",
   "metadata": {},
   "source": [
    "This chapter supports these learning outcomes:\n",
    "\n",
    "- Understand the common general-purpose data structures, algorithmic techniques and complexity classes – you will learn about the graph ADT and how to implement it.\n",
    "- Develop and apply algorithms and data structures to solve computational problems – you will learn how to spot if a problem involves a graph.\n",
    "- Analyse the complexity of algorithms to support software design choices - you will learn that the complexity of graph algorithms requires\n",
    "  considering the number of items and the number of relations.\n",
    "- Write readable, tested, documented and efficient Python code – this chapter introduces\n",
    "  special graphs that serve as edge cases for testing graph algorithms."
   ]
  },
  {
   "cell_type": "markdown",
   "id": "4",
   "metadata": {},
   "source": [
    "<div class=\"alert alert-warning\">\n",
    "<strong>Note:</strong> This is the second-longest chapter in the book.\n",
    "Don't feel rushed to complete it in one week. It's best to see\n",
    "this and the next chapter, which is shorter and has fewer exercises,\n",
    "as a two-week unit mostly about graphs.\n",
    "</div>"
   ]
  },
  {
   "cell_type": "markdown",
   "id": "5",
   "metadata": {},
   "source": [
    "Before starting to work on this chapter, check the M269\n",
    "[news](https://learn2.open.ac.uk/blocks/news/all.php?bi=326014) and [errata](https://learn2.open.ac.uk/mod/url/view.php?id=2554721),\n",
    "and check the TMAs for what is assessed."
   ]
  },
  {
   "cell_type": "markdown",
   "id": "6",
   "metadata": {
    "nbsphinx-toctree": {
     "hidden": true,
     "maxdepth": 1,
     "numbered": false
    }
   },
   "source": [
    "1. [Modelling with graphs](17_1_modelling.ipynb)\n",
    "1. [Basic concepts](17_2_concepts.ipynb)\n",
    "1. [Edge list representation](17_3_edge_list.ipynb)\n",
    "1. [Adjacency matrix representation](17_4_adj_matrix.ipynb)\n",
    "1. [Adjacency list representation](17_5_adj_list.ipynb)\n",
    "1. [Classes for graphs](17_6_classes.ipynb)\n",
    "1. [Traversing a graph](17_7_traversal.ipynb)\n",
    "1. [Breadth- and depth-first search](17_8_bfs_dfs.ipynb)\n",
    "1. [Summary](17_9_summary.ipynb)"
   ]
  },
  {
   "cell_type": "markdown",
   "id": "7",
   "metadata": {},
   "source": [
    "⟵ [Previous chapter](../16_Trees/16-introduction.ipynb) | [Up](../M269.ipynb) | [Next chapter](../18_Greed/18-introduction.ipynb) ⟶"
   ]
  }
 ],
 "metadata": {
  "kernelspec": {
   "display_name": "Python 3",
   "language": "python",
   "name": "python3"
  },
  "language_info": {
   "codemirror_mode": {
    "name": "ipython",
    "version": 3
   },
   "file_extension": ".py",
   "mimetype": "text/x-python",
   "name": "python",
   "nbconvert_exporter": "python",
   "pygments_lexer": "ipython3",
   "version": "3.12.10"
  }
 },
 "nbformat": 4,
 "nbformat_minor": 5
}
