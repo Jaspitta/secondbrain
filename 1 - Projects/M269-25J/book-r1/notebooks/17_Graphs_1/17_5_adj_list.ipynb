{
 "cells": [
  {
   "cell_type": "markdown",
   "id": "0",
   "metadata": {},
   "source": [
    "## 17.5 Adjacency list representation"
   ]
  },
  {
   "cell_type": "markdown",
   "id": "1",
   "metadata": {},
   "source": [
    "The row for node A in the adjacency matrix indicates, with true values,\n",
    "the out-neighbours of&nbsp;A. A more compact representation is to only list\n",
    "the out-neighbours and to omit all other nodes.\n",
    "\n",
    "Let's consider the same example graphs.\n",
    "\n",
    "<p id=\"fig-17.5.1\"></p>\n",
    "\n",
    "*[Figure 17.5.1](../33_Figures/Figures_17_5.ipynb#Figure-17.5.1)*\n",
    "\n",
    "![Image 17_1_un_directed.png](17_1_un_directed.png)\n",
    "\n",
    "The example undirected graph is represented as follows.\n",
    "```python\n",
    "nodes = ['Alice', 'Bob', 'Chan', 'David']\n",
    "edges = [\n",
    "    [1, 3],     # neighbours of node 0 ('Alice')\n",
    "    [0, 2, 3],  # neighbours of node 1 ('Bob')\n",
    "    [1],        # neighbours of node 2 ('Chan')\n",
    "    [0, 1]      # neighbours of node 3 ('David')\n",
    "]\n",
    "```\n",
    "This contains the same information as the adjacency matrix:\n",
    "each row of *n* Booleans is represented as the indices of the true values.\n",
    "\n",
    "Instead of an adjacency matrix we have a lookup table of sequences.\n",
    "Since most real-world networks are sparse, each sequence is usually very short,\n",
    "compared to the number of nodes.\n",
    "The length of the sequence for node A is the out-degree of A.\n",
    "\n",
    "For an undirected graph, each edge (A, B) is stored twice:\n",
    "A is in the neighbours of B and B is in the neighbours of A.\n",
    "\n",
    "The digraph can be represented like this:\n",
    "```python\n",
    "nodes = [1, 2, 3, 4]\n",
    "edges = [\n",
    "    [1],        # out-neighbours of node 0 (labelled 1)\n",
    "    [0],        # out-neighbours of node 1 (labelled 2)\n",
    "    [],         # out-neighbours of node 2 (labelled 3)\n",
    "    [0, 1]      # out-neighbours of node 3 (labelled 4)\n",
    "]\n",
    "```\n",
    "If nodes are of a hashable type, we can use a single hash table to store\n",
    "the nodes *and* their out-neighbours. The digraph would be stored in dictionary\n",
    "`{ 1: [2], 2: [1], 3: [], 4: [1, 2] }` and the undirected graph in dictionary\n",
    "```python\n",
    "{\n",
    "    'Alice': ['Bob', 'David'],\n",
    "    'Bob': ['Alice', 'Chan', 'David'],\n",
    "    'Chan': ['Bob'],\n",
    "    'David': ['Alice', 'Bob']\n",
    "}\n",
    "```\n",
    "There are further variants of this representation,\n",
    "like using linked lists instead of arrays or\n",
    "also storing the in-neighbours of each node. An **adjacency list**\n",
    "representation of a graph is a map of nodes to their in- or out-neighbours.\n",
    "Each entry in the map, i.e. each collection of in- or out-neighbours,\n",
    "is called that node's adjacency list.\n",
    "Again, the word 'list' is used in the general sense of listing:\n",
    "the adjacency lists can be of any suitable collection type.\n",
    "\n",
    "Let's assume that each adjacency list only includes the out-neighbours.\n",
    "This means that every directed edge (A, B) is represented once, namely\n",
    "by having out-neighbour B in the adjacency list for A.\n",
    "If the graph is undirected, then each edge is stored twice as we've seen above.\n",
    "\n",
    "The consequence of this is that any graph operation that goes through\n",
    "all the out-neighbours of all the nodes is effectively going through all the nodes once\n",
    "and through all the edges once or twice and thus has complexity Θ(*n*) + Θ(*e*).\n",
    "Realistic graphs tend to have more edges than nodes, so we simplify to Θ(*e*).\n",
    "This eases the complexity analysis of graph algorithms."
   ]
  },
  {
   "cell_type": "markdown",
   "id": "2",
   "metadata": {},
   "source": [
    "<div class=\"alert alert-warning\">\n",
    "<strong>Note:</strong> An algorithm that goes through each out-neighbour of each node is going through\n",
    "all the edges. This takes Θ(<em>e</em>) time for adjacency lists of out-neighbours.\n",
    "</div>"
   ]
  },
  {
   "cell_type": "markdown",
   "id": "3",
   "metadata": {},
   "source": [
    "### 17.5.1 Exercises"
   ]
  },
  {
   "cell_type": "markdown",
   "id": "4",
   "metadata": {},
   "source": [
    "#### Exercise 17.5.1"
   ]
  },
  {
   "cell_type": "markdown",
   "id": "5",
   "metadata": {},
   "source": [
    "For each operation below, describe briefly its implementation for a digraph\n",
    "and state its complexity. Assume that the graph is stored as\n",
    "a Python dictionary of nodes to lists of out-neighbours, as shown above.\n",
    "Remember that all operations on dictionaries take constant time."
   ]
  },
  {
   "cell_type": "markdown",
   "id": "6",
   "metadata": {},
   "source": [
    "Operation | Implementation | Complexity\n",
    "-|-|-\n",
    "add node A | |\n",
    "remove node A | remove A from all lists and delete the entry for A | Θ(*e*)\n",
    "has edge (A, B) | check if B is in the list for A | Θ(out-degree(A))\n",
    "add edge (A, B) |  |\n",
    "remove edge (A, B) | |\n",
    "in-neighbours of A | |\n",
    "out-neighbours of A | |\n",
    "in-degree of A |  |"
   ]
  },
  {
   "cell_type": "markdown",
   "id": "7",
   "metadata": {},
   "source": [
    "[Answer](../32_Answers/Answers_17_5_01.ipynb)"
   ]
  },
  {
   "cell_type": "markdown",
   "id": "8",
   "metadata": {},
   "source": [
    "#### Exercise 17.5.2"
   ]
  },
  {
   "cell_type": "markdown",
   "id": "9",
   "metadata": {},
   "source": [
    "We can represent each adjacency list with a Python set instead of a Python\n",
    "list. The example digraph is stored as `{ 1: {2}, 2: {1}, 3: set(), 4: {1, 2} }`.\n",
    "\n",
    "State the complexities for the operations on a digraph, for this representation."
   ]
  },
  {
   "cell_type": "markdown",
   "id": "10",
   "metadata": {},
   "source": [
    "Operation | Complexity\n",
    "-|-\n",
    "add node A |\n",
    "remove node A |\n",
    "has edge (A, B) |\n",
    "add edge (A, B) |\n",
    "remove edge (A, B) |\n",
    "in-neighbours of A |\n",
    "out-neighbours of A |\n",
    "in-degree of A |"
   ]
  },
  {
   "cell_type": "markdown",
   "id": "11",
   "metadata": {},
   "source": [
    "[Hint](../31_Hints/Hints_17_5_02.ipynb)\n",
    "[Answer](../32_Answers/Answers_17_5_02.ipynb)"
   ]
  },
  {
   "cell_type": "markdown",
   "id": "12",
   "metadata": {},
   "source": [
    "#### Exercise 17.5.3"
   ]
  },
  {
   "cell_type": "markdown",
   "id": "13",
   "metadata": {},
   "source": [
    "Can an adjacency list representation accommodate loops? How?"
   ]
  },
  {
   "cell_type": "markdown",
   "id": "14",
   "metadata": {},
   "source": [
    "_Write your answer here._"
   ]
  },
  {
   "cell_type": "markdown",
   "id": "15",
   "metadata": {},
   "source": [
    "[Answer](../32_Answers/Answers_17_5_03.ipynb)"
   ]
  },
  {
   "cell_type": "markdown",
   "id": "16",
   "metadata": {},
   "source": [
    "⟵ [Previous section](17_4_adj_matrix.ipynb) | [Up](17-introduction.ipynb) | [Next section](17_6_classes.ipynb) ⟶"
   ]
  }
 ],
 "metadata": {
  "kernelspec": {
   "display_name": "Python 3",
   "language": "python",
   "name": "python3"
  },
  "language_info": {
   "codemirror_mode": {
    "name": "ipython",
    "version": 3
   },
   "file_extension": ".py",
   "mimetype": "text/x-python",
   "name": "python",
   "nbconvert_exporter": "python",
   "pygments_lexer": "ipython3",
   "version": "3.12.10"
  }
 },
 "nbformat": 4,
 "nbformat_minor": 5
}
