{
 "cells": [
  {
   "cell_type": "markdown",
   "id": "0",
   "metadata": {},
   "source": [
    "## 17.4 Adjacency matrix representation"
   ]
  },
  {
   "cell_type": "markdown",
   "id": "1",
   "metadata": {},
   "source": [
    "A graph with *n* nodes can be stored as an **adjacency matrix** of\n",
    "*n* × *n* Booleans: the Boolean in row A and column B is true\n",
    "if and only if there's an edge from A to B. In other words,\n",
    "each row of the matrix indicates the out-neighbours of that row's node.\n",
    "\n",
    "Consider the same example graphs.\n",
    "\n",
    "<p id=\"fig-17.4.1\"></p>\n",
    "\n",
    "*[Figure 17.4.1](../33_Figures/Figures_17_4.ipynb#Figure-17.4.1)*\n",
    "\n",
    "![Image 17_1_un_directed.png](17_1_un_directed.png)\n",
    "\n",
    "Adjacency matrices use node numbers as indices.\n",
    "Unless the graph happens to have nodes labelled 0, 1, 2, ...,\n",
    "we must number the nodes and keep a map from natural numbers to nodes,\n",
    "in addition to the matrix.\n",
    "The map can be implemented as a lookup table, a hash table or a BST.\n",
    "Here's one possible representation of the undirected graph in Python,\n",
    "with a lookup table in the form of a list.\n",
    "```python\n",
    "nodes = ['Alice', 'Bob', 'Chan', 'David']\n",
    "edges = [\n",
    "  [False, True, False, True],   # neighbours of node 0 ('Alice'): nodes 1 and 3\n",
    "  [True, False, True, True],    # neighbours of node 1 ('Bob'): nodes 0, 2, 3\n",
    "  [False, True, False, False],  # neighbours of node 2 ('Chan'): node 1\n",
    "  [True, True, False, False]    # neighbours of node 3 ('David'): nodes 0 and 1\n",
    "]\n",
    "```\n",
    "For example, Alice's neighbours are Bob and David, which are nodes numbered\n",
    "1 and 3. So the row for Alice, row 0, has positions 1 and 3&nbsp;set to true and\n",
    "the others set to false.\n",
    "\n",
    "The digraph could be represented in Python as follows.\n",
    "```python\n",
    "nodes = [1, 2, 3, 4]\n",
    "edges = [\n",
    "  [False, True,  False, False],  # out-neighbours of node 0 (labelled 1)\n",
    "  [True,  False, False, False],  # out-neighbours of node 1 (labelled 2)\n",
    "  [False, False, False, False],  # out-neighbours of node 2 (labelled 3): none\n",
    "  [True,  True,  False, False]   # out-neighbours of node 3 (labelled 4)\n",
    "]\n",
    "```\n",
    "Adjacency matrices are usually only used for small graphs with\n",
    "a fixed set of nodes, for the following reasons.\n",
    "\n",
    "Adjacency matrices for undirected graphs are mirrored along the main diagonal,\n",
    "from the top left to the bottom right.\n",
    "Row A, column B and row B, column A are either both true or both false:\n",
    "either there is an undirected edge between A and B or there isn't.\n",
    "Half of the matrix is wasted memory as it can be inferred from the other half.\n",
    "\n",
    "An adjacency matrix includes all *potential* edges;\n",
    "an edge list only includes the *actual* edges.\n",
    "If a graph is sparse, then an edge list data structure is likely to occupy\n",
    "far less memory than *n* × *n* Booleans.\n",
    "If a graph is dense, then an edge list structure (one pair per edge)\n",
    "is likely to occupy more memory than the adjacency matrix (one Boolean per edge).\n",
    "Since most real-world networks are sparse,\n",
    "adjacency matrices are rarely used in practice.\n",
    "\n",
    "Matrices make adding and removing nodes more complicated.\n",
    "To add a node, we put it in the nodes map and\n",
    "append a row and a column to the matrix.\n",
    "To remove a node, we remove it from the nodes map and\n",
    "remove the corresponding row and column from the matrix,\n",
    "which is inefficient if the matrix is stored as an array of arrays."
   ]
  },
  {
   "cell_type": "markdown",
   "id": "2",
   "metadata": {},
   "source": [
    "### 17.4.1 Exercises"
   ]
  },
  {
   "cell_type": "markdown",
   "id": "3",
   "metadata": {},
   "source": [
    "#### Exercise 17.4.1"
   ]
  },
  {
   "cell_type": "markdown",
   "id": "4",
   "metadata": {},
   "source": [
    "Briefly describe the following operations on digraphs and\n",
    "their complexity in terms of *n* and *e*, the number of nodes and edges,\n",
    "when using an adjacency matrix stored as an array of arrays.\n",
    "For this exercise, you can ignore the additional node map.\n",
    "\n",
    "Operation | Implementation | Complexity\n",
    "-|-|-\n",
    "add node A | append a row and a column | Θ(*n*)\n",
    "remove node A | remove A's row and column | Θ(*n*²)\n",
    "has edge (A, B) | |\n",
    "add edge (A, B) |  |\n",
    "remove edge (A, B) | |\n",
    "in-neighbours of A | |\n",
    "out-neighbours of A | |\n",
    "in-degree of A |  |\n",
    "\n",
    "[Answer](../32_Answers/Answers_17_4_01.ipynb)"
   ]
  },
  {
   "cell_type": "markdown",
   "id": "5",
   "metadata": {},
   "source": [
    "#### Exercise 17.4.2"
   ]
  },
  {
   "cell_type": "markdown",
   "id": "6",
   "metadata": {},
   "source": [
    "Comparing the complexity of the operations in your table above to\n",
    "their [complexity for sets of edges](../17_Graphs_1/17_3_edge_list.ipynb#Exercise-17.3.2),\n",
    "which representation is usually more efficient,\n",
    "assuming nodes are infrequently added?"
   ]
  },
  {
   "cell_type": "markdown",
   "id": "7",
   "metadata": {},
   "source": [
    "_Write your answer here._"
   ]
  },
  {
   "cell_type": "markdown",
   "id": "8",
   "metadata": {},
   "source": [
    "[Hint](../31_Hints/Hints_17_4_02.ipynb)\n",
    "[Answer](../32_Answers/Answers_17_4_02.ipynb)"
   ]
  },
  {
   "cell_type": "markdown",
   "id": "9",
   "metadata": {},
   "source": [
    "#### Exercise 17.4.3"
   ]
  },
  {
   "cell_type": "markdown",
   "id": "10",
   "metadata": {},
   "source": [
    "Can an adjacency matrix represent loops? How?"
   ]
  },
  {
   "cell_type": "markdown",
   "id": "11",
   "metadata": {},
   "source": [
    "_Write your answer here._"
   ]
  },
  {
   "cell_type": "markdown",
   "id": "12",
   "metadata": {},
   "source": [
    "[Answer](../32_Answers/Answers_17_4_03.ipynb)"
   ]
  },
  {
   "cell_type": "markdown",
   "id": "13",
   "metadata": {},
   "source": [
    "⟵ [Previous section](17_3_edge_list.ipynb) | [Up](17-introduction.ipynb) | [Next section](17_5_adj_list.ipynb) ⟶"
   ]
  }
 ],
 "metadata": {
  "kernelspec": {
   "display_name": "Python 3",
   "language": "python",
   "name": "python3"
  },
  "language_info": {
   "codemirror_mode": {
    "name": "ipython",
    "version": 3
   },
   "file_extension": ".py",
   "mimetype": "text/x-python",
   "name": "python",
   "nbconvert_exporter": "python",
   "pygments_lexer": "ipython3",
   "version": "3.12.10"
  }
 },
 "nbformat": 4,
 "nbformat_minor": 5
}
