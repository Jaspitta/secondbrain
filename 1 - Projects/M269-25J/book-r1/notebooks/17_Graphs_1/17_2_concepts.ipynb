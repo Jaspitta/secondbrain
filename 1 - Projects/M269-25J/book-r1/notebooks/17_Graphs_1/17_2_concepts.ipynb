{
 "cells": [
  {
   "cell_type": "markdown",
   "id": "0",
   "metadata": {},
   "source": [
    "## 17.2 Basic concepts"
   ]
  },
  {
   "cell_type": "markdown",
   "id": "1",
   "metadata": {},
   "source": [
    "Before I introduce the graph ADT and associated data structures and algorithms,\n",
    "we need a bit more jargon, to facilitate communication.\n",
    "I use the same graphs as before to illustrate the concepts.\n",
    "\n",
    "<p id=\"fig-17.2.1\"></p>\n",
    "\n",
    "*[Figure 17.2.1](../33_Figures/Figures_17_2.ipynb#Figure-17.2.1)*\n",
    "\n",
    "![Image 17_1_un_directed.png](17_1_un_directed.png)"
   ]
  },
  {
   "cell_type": "markdown",
   "id": "2",
   "metadata": {},
   "source": [
    "### 17.2.1 On nodes and edges"
   ]
  },
  {
   "cell_type": "markdown",
   "id": "3",
   "metadata": {},
   "source": [
    "Two nodes are **adjacent** if they're connected by an edge.\n",
    "Nodes 2 and 4 are adjacent; 'Alice' and 'Chan' aren't.\n",
    "The **neighbours** of a node are all the nodes adjacent to it.\n",
    "The neighbours of node 1 are nodes 2 and 4.\n",
    "\n",
    "In a digraph, if there's a edge from A to B, which we write as the pair (A, B),\n",
    "then A is an **in-neighbour** of B and B an **out-neighbour** of A.\n",
    "Node 4&nbsp;has two out-neighbours and no in-neighbour.\n",
    "\n",
    "The **degree** of a node is the number of edges attached to it, e.g.\n",
    "'Alice' has degree 2. In a digraph,\n",
    "a node's **out-degree** is the number of outgoing edges and\n",
    "its **in-degree** is the number of incoming edges.\n",
    "Node 1&nbsp;has out-degree 1 and in-degree 2; it therefore has degree 3.\n",
    "\n",
    "Although the distinction between in- and out-neighbours and\n",
    "between in- and out-degrees only makes sense for digraphs,\n",
    "I'll use the terms for undirected graphs too, to simplify explanations.\n",
    "\n",
    "In undirected graphs, edges (A, B) and (B, A) are the same, i.e.\n",
    "each edge can be seen as both outgoing and incoming, so\n",
    "the in- and the out-neighbours are the same as the neighbours\n",
    "and the in- and out-degree are the same as the degree. For example,\n",
    "'Alice' and 'Bob' are both the in-neighbours and the out-neighbours of 'David'.\n",
    "Therefore the in-degree, out-degree and degree of 'David' are all 2.\n",
    "\n",
    "In a digraph, the degree of a node is the sum of its in- and out- degrees.\n",
    "In an undirected graph, it's half the sum, because\n",
    "each edge counts both as incoming and outgoing.\n",
    "\n",
    "What are the degrees of nodes 'Chan' and 3 in the above graphs?\n",
    "\n",
    "___\n",
    "\n",
    "Node 'Chan' has degree one and node 3&nbsp;has degree zero."
   ]
  },
  {
   "cell_type": "markdown",
   "id": "4",
   "metadata": {},
   "source": [
    "#### Exercise 17.2.1"
   ]
  },
  {
   "cell_type": "markdown",
   "id": "5",
   "metadata": {},
   "source": [
    "An advertising agency wants to advertise a product in some train stations.\n",
    "They give you the undirected graph of all the train stations in your country,\n",
    "with edges representing direct trains between them.\n",
    "The names of stations were replaced with numbers,\n",
    "to avoid bias by anyone working on the dataset. You're asked to\n",
    "produce a set of the train station(s) where the advert is likely to be seen by\n",
    "more people than in other stations.\n",
    "\n",
    "Complete the following sentence:"
   ]
  },
  {
   "cell_type": "markdown",
   "id": "6",
   "metadata": {},
   "source": [
    "I would select those nodes that ... because ..."
   ]
  },
  {
   "cell_type": "markdown",
   "id": "7",
   "metadata": {},
   "source": [
    "[Hint](../31_Hints/Hints_17_2_01.ipynb)\n",
    "[Answer](../32_Answers/Answers_17_2_01.ipynb)"
   ]
  },
  {
   "cell_type": "markdown",
   "id": "8",
   "metadata": {},
   "source": [
    "### 17.2.2 On graphs"
   ]
  },
  {
   "cell_type": "markdown",
   "id": "9",
   "metadata": {},
   "source": [
    "A **path** from node *first* to node *last* is a sequence of distinct nodes\n",
    "\n",
    "(*first*, *second*, *third*, ..., *penultimate*, *last*)\n",
    "\n",
    "such that edges (*first*, *second*), (*second*, *third*), ...,\n",
    "(*penultimate*, *last*) exist and are distinct.\n",
    "To put it bluntly, a path doesn't waste time going twice through a node or edge.\n",
    "The **length** of a path is the number of edges.\n",
    "Node B is **reachable** from node A if there's a path from A to B.\n",
    "\n",
    "There may be multiple paths between the same nodes, e.g. (4, 1) and (4, 2, 1)\n",
    "are both paths from 4 to 1 in the example digraph. For most practical problems, we're interested in a **shortest path**, with the fewest edges.\n",
    "\n",
    "In the undirected graph, sequence ('Alice', 'Bob', 'Alice') isn't a path\n",
    "because it repeats one node and one edge.\n",
    "Sequence ('Alice', 'David', 'Bob', 'Chan') is a path of length&nbsp;3.\n",
    "\n",
    "In the digraph, (1, 2, 1) isn't a path because,\n",
    "although it has no duplicate edges, it repeats node&nbsp;1.\n",
    "Sequence (1, 4, 2) isn't a path either because edge (1, 4) doesn't exist.\n",
    "\n",
    "A undirected graph is **connected** if there's one node, let's call it S,\n",
    "from which all other nodes are reachable; otherwise it's **disconnected**.\n",
    "It follows that in a connected undirected graph\n",
    "all nodes are mutually reachable. To see why, consider any two nodes A and B.\n",
    "There's a path from S to A and one from S to B because the graph is connected.\n",
    "Since edges are undirected,\n",
    "the reverse paths from A to S and from B to S exist too.\n",
    "So, the paths from A to B via S and from B to A via S exist,\n",
    "proving that any nodes A and B are mutually reachable.\n",
    "\n",
    "A digraph is connected (or disconnected) if, when removing the edge directions,\n",
    "we get a connected (or disconnected) undirected graph.\n",
    "The example digraph is disconnected because there's no path from or to node 3.\n",
    "We'll look at connectivity in digraphs [later](../21_Graphs_2/21_2_di_components.ipynb#21.2-Directed-graph-components).\n",
    "\n",
    "A **cycle** is a path except that the first and last nodes are the same.\n",
    "Since paths don't repeat edges, neither do cycles.\n",
    "Sequence ('Alice', 'Bob', 'Alice') isn't a cycle in the undirected graph,\n",
    "because it repeats one edge, but ('Alice', 'Bob', 'David', 'Alice') is.\n",
    "Sequence (1, 2, 1) is a cycle in the digraph, because it doesn't repeat edges.\n",
    "\n",
    "A graph is **acyclic** if it has no cycles.\n",
    "A directed acyclic graph is abbreviated **DAG**.\n",
    "\n",
    "The previous chapter introduced several kinds of rooted trees.\n",
    "We can now see them as special kinds of graphs.\n",
    "A **tree** is a connected acyclic undirected graph.\n",
    "A tree is [rooted](../16_Trees/16-introduction.ipynb#16-Rooted-trees) if one of its nodes is\n",
    "designated as the root. The neighbours of the root are the root's children,\n",
    "their neighbours are the nodes in level 2 of the rooted tree, and so on.\n",
    "The next figure shows on the left a tree and\n",
    "on the right the same tree rooted at node E.\n",
    "\n",
    "<p id=\"fig-17.2.2\"></p>\n",
    "\n",
    "*[Figure 17.2.2](../33_Figures/Figures_17_2.ipynb#Figure-17.2.2)*\n",
    "\n",
    "![Image 17_2_tree.png](17_2_tree.png)\n",
    "\n",
    "In graphs, and therefore in trees,\n",
    "the neighbours of a node are in no particular order. In a rooted tree,\n",
    "one of the neighbours is the parent, but the other neighbours, the children,\n",
    "still aren't ordered.\n",
    "A [binary tree](../16_Trees/16_1_binary.ipynb#16.1-Binary-tree) is a rooted tree with ordered children:\n",
    "there's a left and a right child.\n",
    "\n",
    "In a rooted tree there’s a single path from any start node *S* to any other final node *F*:\n",
    "go up from *S* to the deepest common ancestor of *S* and *F* and then go down to *F*.\n",
    "For the tree rooted in E, the path from A to D goes through their\n",
    "deepest common ancestor, which happens to be the root: A, B, E, D.\n",
    "Since every tree can be transformed into a hierarchical tree by designating\n",
    "a root, it follows that in any tree there's a single path from any node to any other node.\n",
    "Another way to see that this must be so is to imagine there are two different paths\n",
    "from A to B. Then we could go from A to B following one path and\n",
    "return from B to A following the reverse of the other path.\n",
    "This would lead to a cycle, contrary to the assumption of being a tree.\n",
    "\n",
    "A rooted tree with *n* nodes has *n* – 1 edges, because\n",
    "each node except the root has a single edge to its parent.\n",
    "Since every tree can become a rooted tree,\n",
    "all trees have one edge less than the number of nodes."
   ]
  },
  {
   "cell_type": "markdown",
   "id": "10",
   "metadata": {},
   "source": [
    "<div class=\"alert alert-warning\">\n",
    "<strong>Note:</strong> In M269, in the context of graphs,\n",
    "<em>n</em> refers to the number of nodes and <em>e</em> to the number of edges.\n",
    "</div>"
   ]
  },
  {
   "cell_type": "markdown",
   "id": "11",
   "metadata": {},
   "source": [
    "A graph is **dense** if it has many of the possible edges;\n",
    "it is **sparse** if it has few of the possible edges.\n",
    "The higher the ratio of edges to nodes, the denser the graph.\n",
    "Some graphs are clearly sparse, others are clearly dense, but for some\n",
    "it's in the eye of the beholder.\n",
    "\n",
    "Trees are sparse because they have fewer edges than nodes, i.e.\n",
    "the edge/node ratio is less than one.\n",
    "Most large real-world networks have far more edges than nodes but nevertheless\n",
    "are clearly sparse because they have a tiny fraction of the possible edges.\n",
    "For example, in a city's road network, a junction typically only connects to\n",
    "three or four of the hundreds of junctions in the city,\n",
    "and in a social network we have very few friends among the millions of users."
   ]
  },
  {
   "cell_type": "markdown",
   "id": "12",
   "metadata": {},
   "source": [
    "### 17.2.3 Special graphs"
   ]
  },
  {
   "cell_type": "markdown",
   "id": "13",
   "metadata": {},
   "source": [
    "The following graphs rarely occur when modelling real networks,\n",
    "but they're useful edge cases to test algorithms.\n",
    "\n",
    "The **empty graph** has no nodes and hence no edges.\n",
    "A **null graph** is a non-empty graph without edges.\n",
    "\n",
    "A **path graph** is a non-empty undirected graph in which the nodes can be\n",
    "numbered sequentially and the edges are between nodes 1 and 2, nodes 2 and 3, and so on. Path graphs are trees.\n",
    "If you extract a path from an undirected graph, you obtain a path graph.\n",
    "\n",
    "A **cycle graph** is an undirected graph with at least three nodes.\n",
    "It's obtained from a path graph by connecting the last node to the first.\n",
    "Cycle graphs are cyclic, hence their name.\n",
    "\n",
    "A **complete graph** is an undirected graph\n",
    "where each node is connected to every other one.\n",
    "\n",
    "The next figure shows the null, path and complete graphs with one to four nodes,\n",
    "and the cycle graphs with three and four nodes.\n",
    "I haven't labelled the nodes.\n",
    "\n",
    "<p id=\"fig-17.2.3\"></p>\n",
    "\n",
    "*[Figure 17.2.3](../33_Figures/Figures_17_2.ipynb#Figure-17.2.3)*\n",
    "\n",
    "![Image 17_2_special.png](17_2_special.png)\n",
    "\n",
    "Note that some graphs are special in multiple ways, e.g.\n",
    "the graph with a single node is a null, path and complete graph,\n",
    "and the cycle graph with three nodes is also complete.\n",
    "\n",
    "A cycle graph with one node would have an edge connecting the node to itself.\n",
    "A cycle graph with two nodes would have two edges between them.\n",
    "Neither situation is allowed by our undirected graph definition,\n",
    "so in M269 cycle graphs have at least three nodes."
   ]
  },
  {
   "cell_type": "markdown",
   "id": "14",
   "metadata": {},
   "source": [
    "#### Exercise 17.2.2"
   ]
  },
  {
   "cell_type": "markdown",
   "id": "15",
   "metadata": {},
   "source": [
    "What are the degrees of the nodes in a\n",
    "\n",
    "1. null\n",
    "1. path\n",
    "1. cycle\n",
    "1. complete\n",
    "\n",
    "graph with *n* > 0 nodes (and *n* ≥ 3 for cycle graphs)?"
   ]
  },
  {
   "cell_type": "markdown",
   "id": "16",
   "metadata": {},
   "source": [
    "_Write your answer here._"
   ]
  },
  {
   "cell_type": "markdown",
   "id": "17",
   "metadata": {},
   "source": [
    "[Answer](../32_Answers/Answers_17_2_02.ipynb)"
   ]
  },
  {
   "cell_type": "markdown",
   "id": "18",
   "metadata": {},
   "source": [
    "#### Exercise 17.2.3"
   ]
  },
  {
   "cell_type": "markdown",
   "id": "19",
   "metadata": {},
   "source": [
    "What is the number of edges in a\n",
    "\n",
    "1. path\n",
    "1. cycle\n",
    "1. complete\n",
    "\n",
    "graph with *n* > 0 nodes (and *n* ≥ 3 for cycle graphs)?\n",
    "For each graph, write an expression based on *n*."
   ]
  },
  {
   "cell_type": "markdown",
   "id": "20",
   "metadata": {},
   "source": [
    "_Write your answer here._"
   ]
  },
  {
   "cell_type": "markdown",
   "id": "21",
   "metadata": {},
   "source": [
    "[Answer](../32_Answers/Answers_17_2_03.ipynb)"
   ]
  },
  {
   "cell_type": "markdown",
   "id": "22",
   "metadata": {},
   "source": [
    "#### Exercise 17.2.4"
   ]
  },
  {
   "cell_type": "markdown",
   "id": "23",
   "metadata": {},
   "source": [
    "Is a\n",
    "\n",
    "1. null\n",
    "1. path\n",
    "1. cycle\n",
    "1. complete\n",
    "\n",
    "graph with many nodes sparse or dense?\n",
    "\n",
    "[Answer](../32_Answers/Answers_17_2_04.ipynb)"
   ]
  },
  {
   "cell_type": "markdown",
   "id": "24",
   "metadata": {},
   "source": [
    "### 17.2.4 ADT"
   ]
  },
  {
   "cell_type": "markdown",
   "id": "25",
   "metadata": {},
   "source": [
    "Each of the above concepts can be turned into an operation for a graph ADT,\n",
    "e.g. an operation to check if two given nodes are mutually reachable,\n",
    "but the basic operations required are those on nodes and edges.\n",
    "Here are they for a digraph ADT:\n",
    "\n",
    "Operation | Effect | In algorithms\n",
    ":-|:-|:-\n",
    "new | create an empty graph | let *g* be an empty graph\n",
    "has node | check if node *a* exists | *a* in *g*\n",
    "add node | add a node *a* to a graph | add *a* to *g*\n",
    "remove node | remove a node and its edges | remove *a* from *g*\n",
    "has edge | check if an edge exists | (*a*, *b*) in *g*\n",
    "add edge | add a directed edge | add (*a*, *b*) to *g*\n",
    "remove edge | remove a directed edge | remove (*a*, *b*) from *g*\n",
    "nodes | return the set of all nodes | nodes of *g*\n",
    "edges | return the set of all directed edges | edges of *g*\n",
    "in-neighbours | return a node's set of in-neighbours | in-neighbours of *a* in *g*\n",
    "out-neighbours | return a node's set of out-neighbours | out-neighbours of *a* in *g*\n",
    "neighbours | return the union of the in- and out-neighbours | neighbours of *a* in *g*\n",
    "in-degree | return the in-degree of a node | in-degree of *a* in *g*\n",
    "out-degree | return the out-degree of a node | out-degree of *a* in *g*\n",
    "degree | return the sum of the in- and out-degree | degree of *a* in *g*\n",
    "\n",
    "The undirected graph ADT has the same operations, but some have a different\n",
    "effect because they operate on undirected rather than directed edges:\n",
    "\n",
    "- the operations on neighbours and degrees return the same set\n",
    "  or the same number, for the same node\n",
    "- the operations to add or remove an edge must\n",
    "  add and remove the opposing edge too.\n",
    "\n",
    "As an example of how graph algorithms will be written, here's a simple one,\n",
    "to isolate a given *node* in an undirected graph.\n",
    "\n",
    "1. for each *neighbour* in neighbours of *node* in *graph*:\n",
    "    1. remove edge (*node*, *neighbour*)"
   ]
  },
  {
   "cell_type": "markdown",
   "id": "26",
   "metadata": {},
   "source": [
    "⟵ [Previous section](17_1_modelling.ipynb) | [Up](17-introduction.ipynb) | [Next section](17_3_edge_list.ipynb) ⟶"
   ]
  }
 ],
 "metadata": {
  "kernelspec": {
   "display_name": "Python 3",
   "language": "python",
   "name": "python3"
  },
  "language_info": {
   "codemirror_mode": {
    "name": "ipython",
    "version": 3
   },
   "file_extension": ".py",
   "mimetype": "text/x-python",
   "name": "python",
   "nbconvert_exporter": "python",
   "pygments_lexer": "ipython3",
   "version": "3.12.10"
  }
 },
 "nbformat": 4,
 "nbformat_minor": 5
}
