{
 "cells": [
  {
   "cell_type": "markdown",
   "id": "0",
   "metadata": {},
   "source": [
    "### 31.3.1 Stacks"
   ]
  },
  {
   "cell_type": "markdown",
   "id": "1",
   "metadata": {},
   "source": [
    "#### Figure 7.1.1"
   ]
  },
  {
   "cell_type": "markdown",
   "id": "2",
   "metadata": {},
   "source": [
    "The left half of the figure shows a linked list representation of a stack.\n",
    "There's an arrow from the word 'length' to a box with number 3 inside.\n",
    "There's an arrow from the word 'head' to a pair of boxes: the left box has\n",
    "number 2, the right box has an arrow leading to another pair of boxes. This\n",
    "pair has number 1 in the left box and another arrow to another pair of boxes.\n",
    "This third pair of boxes has number 0 in the left box and a cross in the right box.\n",
    "The right half of the figure shows an array representation of the same stack.\n",
    "The array is depicted as a sequence of 5 boxes with their indices,\n",
    "from 0 to 4, written beneath. The first three boxes have numbers 0, 1 and 2\n",
    "inside them, and the last two boxes have the word 'None'.\n",
    "There's an arrow from the word 'items' to the first box, with number 0.\n",
    "There's an arrow from word 'length' to index&nbsp;3."
   ]
  },
  {
   "cell_type": "markdown",
   "id": "3",
   "metadata": {},
   "source": [
    "⟵ [Previous section](Figures_06.ipynb) | [Up](33-introduction.ipynb) | [Next section](Figures_08.ipynb) ⟶"
   ]
  }
 ],
 "metadata": {
  "kernelspec": {
   "display_name": "Python 3",
   "language": "python",
   "name": "python3"
  },
  "language_info": {
   "codemirror_mode": {
    "name": "ipython",
    "version": 3
   },
   "file_extension": ".py",
   "mimetype": "text/x-python",
   "name": "python",
   "nbconvert_exporter": "python",
   "pygments_lexer": "ipython3",
   "version": "3.12.10"
  }
 },
 "nbformat": 4,
 "nbformat_minor": 5
}
