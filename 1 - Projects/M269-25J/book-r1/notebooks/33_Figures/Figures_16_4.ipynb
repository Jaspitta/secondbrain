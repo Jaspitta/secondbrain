{
 "cells": [
  {
   "cell_type": "markdown",
   "id": "0",
   "metadata": {},
   "source": [
    "### 31.8.3 Binary search trees"
   ]
  },
  {
   "cell_type": "markdown",
   "id": "1",
   "metadata": {},
   "source": [
    "#### Figure 16.4.1"
   ]
  },
  {
   "cell_type": "markdown",
   "id": "2",
   "metadata": {},
   "source": [
    "This figure shows two separate circle-and-line diagrams.\n",
    "Each circle has a number.\n",
    "Left diagram:\n",
    "The top circle has number 4.\n",
    "Below this are two circles.\n",
    "The circle on the left contains number 1; the circle on the right contains number 8.\n",
    "The circle with 8&nbsp;has a single circle below, to its left, with number 5,\n",
    "which in turn also has a single circle below, to its right, with number 6.\n",
    "Right diagram:\n",
    "This is the same diagram as on the left,\n",
    "except that numbers 5 and 6&nbsp;have swapped the circles they're in."
   ]
  },
  {
   "cell_type": "markdown",
   "id": "3",
   "metadata": {},
   "source": [
    "#### Figure 16.4.2"
   ]
  },
  {
   "cell_type": "markdown",
   "id": "4",
   "metadata": {},
   "source": [
    "This figure shows in the middle a right-pointing horizontal arrow,\n",
    "with the word 'becomes' above it.\n",
    "To the left of the arrow there's a circle enclosing the word 'root'.\n",
    "There's nothing to the right of the arrow."
   ]
  },
  {
   "cell_type": "markdown",
   "id": "5",
   "metadata": {},
   "source": [
    "#### Figure 16.4.3"
   ]
  },
  {
   "cell_type": "markdown",
   "id": "6",
   "metadata": {},
   "source": [
    "This figure shows in the middle a right-pointing horizontal arrow,\n",
    "with the word 'becomes' above it.\n",
    "To the left of the arrow is a circle enclosing the word 'root'.\n",
    "Below the circle, to its right, is a triangle with the letter R inside it.\n",
    "The top tip of the triangle is attached with a line to the circle.\n",
    "To the right of the arrow is a triangle with the letter R inside it."
   ]
  },
  {
   "cell_type": "markdown",
   "id": "7",
   "metadata": {},
   "source": [
    "#### Figure 16.4.4"
   ]
  },
  {
   "cell_type": "markdown",
   "id": "8",
   "metadata": {},
   "source": [
    "This figure shows in the middle a right-pointing horizontal arrow,\n",
    "with the word 'becomes' above it.\n",
    "To the left of the arrow is a circle enclosing the word 'root'.\n",
    "The circle has two lines connecting to two triangles below it.\n",
    "The left triangle has the letters L and p inside it:\n",
    "the p is in the bottom right corner of the triangle.\n",
    "The right triangle has the letters R and s inside it:\n",
    "the s is in the bottom left corner of the triangle.\n",
    "To the right of the arrow is the same diagram as on the left, except that\n",
    "the word 'root' has been replaced by the letter s inside the circle,\n",
    "and the right triangle only has the letter R.\n",
    "The triangle's left corner has been chopped off."
   ]
  },
  {
   "cell_type": "markdown",
   "id": "9",
   "metadata": {},
   "source": [
    "⟵ [Previous section](Figures_14.ipynb) | [Up](33-introduction.ipynb) | [Next section](Figures_17.ipynb) ⟶"
   ]
  }
 ],
 "metadata": {
  "kernelspec": {
   "display_name": "Python 3",
   "language": "python",
   "name": "python3"
  },
  "language_info": {
   "codemirror_mode": {
    "name": "ipython",
    "version": 3
   },
   "file_extension": ".py",
   "mimetype": "text/x-python",
   "name": "python",
   "nbconvert_exporter": "python",
   "pygments_lexer": "ipython3",
   "version": "3.12.10"
  }
 },
 "nbformat": 4,
 "nbformat_minor": 5
}
