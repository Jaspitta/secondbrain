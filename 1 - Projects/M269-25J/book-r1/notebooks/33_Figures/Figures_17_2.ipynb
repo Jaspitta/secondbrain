{
 "cells": [
  {
   "cell_type": "markdown",
   "id": "0",
   "metadata": {},
   "source": [
    "### 31.9.2 Basic concepts"
   ]
  },
  {
   "cell_type": "markdown",
   "id": "1",
   "metadata": {},
   "source": [
    "#### Figure 17.2.1"
   ]
  },
  {
   "cell_type": "markdown",
   "id": "2",
   "metadata": {},
   "source": [
    "The diagram on the left consists of four ellipses,\n",
    "labelled Alice, Bob, Chan and David, and four straight lines between them.\n",
    "Bob is connected with Alice, Chan and David. Alice and David are also connected.\n",
    "The diagram on the right consists of four circles labelled 1, 2, 3 and 4,\n",
    "and four arrows connecting them. There are two arrows from 4 to 1 and 2.\n",
    "There's one arrow from 1 to 2 and another from 2 to 1."
   ]
  },
  {
   "cell_type": "markdown",
   "id": "3",
   "metadata": {},
   "source": [
    "#### Figure 17.2.2"
   ]
  },
  {
   "cell_type": "markdown",
   "id": "4",
   "metadata": {},
   "source": [
    "This figure shows two circle-and-line diagrams with six circles,\n",
    "labelled A to F.\n",
    "In the left diagram, A has a line down to B, which has a line down to C.\n",
    "B also has a line to E on it right. E has a line up to D and another down to F.\n",
    "In the right diagram, E is at the top.\n",
    "Below it are B, D and F, from left to right, each connected to E with a line.\n",
    "Below B are A and C, from left to right, both connected to B with a line."
   ]
  },
  {
   "cell_type": "markdown",
   "id": "5",
   "metadata": {},
   "source": [
    "#### Figure 17.2.3"
   ]
  },
  {
   "cell_type": "markdown",
   "id": "6",
   "metadata": {},
   "source": [
    "This figure shows several diagrams, arranged in four rows and four columns.\n",
    "Columns 1, 2, 3 and 4, from left to right, show graphs with one, two, three and\n",
    "four nodes, respectively.\n",
    "The first row shows null graphs: they are depicted as\n",
    "one, two, three or four circles, without any lines between them.\n",
    "The second row shows path graphs. The first diagram has a single circle.\n",
    "The second has two circles connected by a line.\n",
    "The third has three circles arranged horizontally, with a line between\n",
    "the first two, and another line between the second and third circles.\n",
    "The fourth diagram has four circles arranged horizontally, and three lines,\n",
    "each connecting a circle to the next.\n",
    "The third row shows cycle graphs. The first two columns are empty.\n",
    "The third column has three circles arranged horizontally, with three lines:\n",
    "the first circle is connected to the second, the second to the third,\n",
    "and the third to the first.\n",
    "The fourth column has four circles arranged horizontally, with four lines:\n",
    "each circle is connected to the next, and the last is connected to the first.\n",
    "The fourth row shows complete graphs. The first diagram has a single circle.\n",
    "The second has two circles connected by a line.\n",
    "The third has three circles arranged in a triangle, with three lines:\n",
    "each circle is connected to the other two.\n",
    "The fourth diagram has four circles arranged in a rectangle, with six lines:\n",
    "each circle is connected to the other three."
   ]
  },
  {
   "cell_type": "markdown",
   "id": "7",
   "metadata": {},
   "source": [
    "⟵ [Previous section](Figures_16.ipynb) | [Up](33-introduction.ipynb) | [Next section](Figures_18.ipynb) ⟶"
   ]
  }
 ],
 "metadata": {
  "kernelspec": {
   "display_name": "Python 3",
   "language": "python",
   "name": "python3"
  },
  "language_info": {
   "codemirror_mode": {
    "name": "ipython",
    "version": 3
   },
   "file_extension": ".py",
   "mimetype": "text/x-python",
   "name": "python",
   "nbconvert_exporter": "python",
   "pygments_lexer": "ipython3",
   "version": "3.12.10"
  }
 },
 "nbformat": 4,
 "nbformat_minor": 5
}
