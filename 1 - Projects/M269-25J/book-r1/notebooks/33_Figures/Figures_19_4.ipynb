{
 "cells": [
  {
   "cell_type": "markdown",
   "id": "0",
   "metadata": {},
   "source": [
    "### 31.11.2 Up and down"
   ]
  },
  {
   "cell_type": "markdown",
   "id": "1",
   "metadata": {},
   "source": [
    "#### Figure 19.4.1"
   ]
  },
  {
   "cell_type": "markdown",
   "id": "2",
   "metadata": {},
   "source": [
    "This figure shows three line charts plotting values in the y-axis against\n",
    "indices in the x-axis.\n",
    "Each line chart plots five values, indicated by small black circles.\n",
    "The first value, at index&nbsp;0, is plotted on the y-axis.\n",
    "Consecutive circles are linked by a straight line to show\n",
    "the increase or decrease in value. The largest value,\n",
    "i.e. the highest black circle, is highlighted with a further circle around it.\n",
    "In the left-hand chart the values increase from left to right,\n",
    "i.e. each further black circle is higher up. The last one is highlighted.\n",
    "In the middle chart the values decrease from left to right.\n",
    "The first value is highlighted because it's the highest one.\n",
    "In the right-hand chart the values first go up and then go down.\n",
    "The highest value, which is neither the first nor the last, is highlighted."
   ]
  },
  {
   "cell_type": "markdown",
   "id": "3",
   "metadata": {},
   "source": [
    "#### Figure 19.4.2"
   ]
  },
  {
   "cell_type": "markdown",
   "id": "4",
   "metadata": {},
   "source": [
    "This figure shows three line charts plotting values in the y-axis against\n",
    "indices in the x-axis.\n",
    "Each line chart plots five values, indicated by small black circles.\n",
    "The first value, at index&nbsp;0, is plotted on the y-axis.\n",
    "The third and fourth values are marked M and M+1 on the x-axis.\n",
    "Consecutive circles are linked by a straight line to show\n",
    "the increase or decrease in value. The largest value,\n",
    "i.e. the highest black circle, is highlighted with a further circle around it.\n",
    "In the left-hand chart the values increase from left to right,\n",
    "i.e. each further black circle is higher up. The last one is highlighted.\n",
    "In the middle chart the values decrease from left to right.\n",
    "The first value is highlighted because it's the highest one.\n",
    "In the right-hand chart the values first go up and then go down.\n",
    "The highest value, which is neither the first nor the last, is highlighted."
   ]
  },
  {
   "cell_type": "markdown",
   "id": "5",
   "metadata": {},
   "source": [
    "⟵ [Previous section](Figures_18.ipynb) | [Up](33-introduction.ipynb) | [Next section](Figures_21.ipynb) ⟶"
   ]
  }
 ],
 "metadata": {
  "kernelspec": {
   "display_name": "Python 3",
   "language": "python",
   "name": "python3"
  },
  "language_info": {
   "codemirror_mode": {
    "name": "ipython",
    "version": 3
   },
   "file_extension": ".py",
   "mimetype": "text/x-python",
   "name": "python",
   "nbconvert_exporter": "python",
   "pygments_lexer": "ipython3",
   "version": "3.12.10"
  }
 },
 "nbformat": 4,
 "nbformat_minor": 5
}
