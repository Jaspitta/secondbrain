{
 "cells": [
  {
   "cell_type": "markdown",
   "id": "0",
   "metadata": {},
   "source": [
    "### 31.10.3 Minimum spanning tree"
   ]
  },
  {
   "cell_type": "markdown",
   "id": "1",
   "metadata": {},
   "source": [
    "#### Figure 18.3.1"
   ]
  },
  {
   "cell_type": "markdown",
   "id": "2",
   "metadata": {},
   "source": [
    "This figure has two circle-and-line diagrams.\n",
    "Both diagrams have four circles labelled A, B, C and D,\n",
    "laid out clockwise from A on the left.\n",
    "Each diagram has five lines connecting the nodes.\n",
    "Each line is labelled with an integer.\n",
    "Line AB has label 1. Line BC has label 4. Line CD has label 5.\n",
    "Line DA has label 2. Line BD has label 2.\n",
    "In the left-hand diagram, lines DA and DC, labelled 2 and 5, are dashed.\n",
    "In the right-hand diagram, lines DB and DC, labelled 2 and 5, are dashed."
   ]
  },
  {
   "cell_type": "markdown",
   "id": "3",
   "metadata": {},
   "source": [
    "#### Figure 18.3.2"
   ]
  },
  {
   "cell_type": "markdown",
   "id": "4",
   "metadata": {},
   "source": [
    "This figure shows a circle-and-line diagram representing a tree.\n",
    "The diagram has a vertical dashed line that crosses a single edge, labelled M.\n",
    "Among the nodes to the left of the dashed line are two labelled start and A.\n",
    "Among the nodes to the right of the dashed line there's one labelled B."
   ]
  },
  {
   "cell_type": "markdown",
   "id": "5",
   "metadata": {},
   "source": [
    "#### Figure 18.3.3"
   ]
  },
  {
   "cell_type": "markdown",
   "id": "6",
   "metadata": {},
   "source": [
    "This figure shows four circles, labelled 0 to 3, and a straight line between each pair of circles.\n",
    "Each line is labelled with an integer denoting the cost of travelling between those places.\n",
    "It costs 15 to travel between 0 and 1, 10 between 0 and 2 and between 2 and 3,\n",
    "5 between 0 and 3 and between 3 and 1, and 30 between 1 and 2."
   ]
  },
  {
   "cell_type": "markdown",
   "id": "7",
   "metadata": {},
   "source": [
    "⟵ [Previous section](Figures_17.ipynb) | [Up](33-introduction.ipynb) | [Next section](Figures_19.ipynb) ⟶"
   ]
  }
 ],
 "metadata": {
  "kernelspec": {
   "display_name": "Python 3",
   "language": "python",
   "name": "python3"
  },
  "language_info": {
   "codemirror_mode": {
    "name": "ipython",
    "version": 3
   },
   "file_extension": ".py",
   "mimetype": "text/x-python",
   "name": "python",
   "nbconvert_exporter": "python",
   "pygments_lexer": "ipython3",
   "version": "3.12.10"
  }
 },
 "nbformat": 4,
 "nbformat_minor": 5
}
