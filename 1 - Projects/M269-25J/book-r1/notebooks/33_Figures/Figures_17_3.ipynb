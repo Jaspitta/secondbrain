{
 "cells": [
  {
   "cell_type": "markdown",
   "id": "0",
   "metadata": {},
   "source": [
    "### 31.9.3 Edge list representation"
   ]
  },
  {
   "cell_type": "markdown",
   "id": "1",
   "metadata": {},
   "source": [
    "#### Figure 17.3.1"
   ]
  },
  {
   "cell_type": "markdown",
   "id": "2",
   "metadata": {},
   "source": [
    "The diagram on the left consists of four ellipses,\n",
    "labelled Alice, Bob, Chan and David, and four straight lines between them.\n",
    "Bob is connected with Alice, Chan and David. Alice and David are also connected.\n",
    "The diagram on the right consists of four circles labelled 1, 2, 3 and 4,\n",
    "and four arrows connecting them. There are two arrows from 4 to 1 and 2.\n",
    "There's one arrow from 1 to 2 and another from 2 to 1."
   ]
  },
  {
   "cell_type": "markdown",
   "id": "3",
   "metadata": {},
   "source": [
    "⟵ [Previous section](Figures_16.ipynb) | [Up](33-introduction.ipynb) | [Next section](Figures_18.ipynb) ⟶"
   ]
  }
 ],
 "metadata": {
  "kernelspec": {
   "display_name": "Python 3",
   "language": "python",
   "name": "python3"
  },
  "language_info": {
   "codemirror_mode": {
    "name": "ipython",
    "version": 3
   },
   "file_extension": ".py",
   "mimetype": "text/x-python",
   "name": "python",
   "nbconvert_exporter": "python",
   "pygments_lexer": "ipython3",
   "version": "3.12.10"
  }
 },
 "nbformat": 4,
 "nbformat_minor": 5
}
