{
 "cells": [
  {
   "cell_type": "markdown",
   "id": "0",
   "metadata": {},
   "source": [
    "### 31.13.4 Generate subsets"
   ]
  },
  {
   "cell_type": "markdown",
   "id": "1",
   "metadata": {},
   "source": [
    "#### Figure 22.6.1"
   ]
  },
  {
   "cell_type": "markdown",
   "id": "2",
   "metadata": {},
   "source": [
    "This figure shows a complete binary tree with four levels.\n",
    "Each node has a set and a sequence.\n",
    "The root node, in level 1, has the empty set and sequence (1,2,3).\n",
    "Its children, the nodes in level 2, have sequence (2,3).\n",
    "The left child has set {1} whereas the right child has the empty set.\n",
    "The four nodes in level 3 all have sequence (3).\n",
    "From left to right the sets are: {1,2}, {1}, {2} and empty.\n",
    "The eight leaves in level 4 all have the empty sequence.\n",
    "Their sets are all the subsets of {1,2,3}."
   ]
  },
  {
   "cell_type": "markdown",
   "id": "3",
   "metadata": {},
   "source": [
    "⟵ [Previous section](Figures_21.ipynb) | [Up](33-introduction.ipynb) | [Next section](Figures_23.ipynb) ⟶"
   ]
  }
 ],
 "metadata": {
  "kernelspec": {
   "display_name": "Python 3",
   "language": "python",
   "name": "python3"
  },
  "language_info": {
   "codemirror_mode": {
    "name": "ipython",
    "version": 3
   },
   "file_extension": ".py",
   "mimetype": "text/x-python",
   "name": "python",
   "nbconvert_exporter": "python",
   "pygments_lexer": "ipython3",
   "version": "3.12.10"
  }
 },
 "nbformat": 4,
 "nbformat_minor": 5
}
