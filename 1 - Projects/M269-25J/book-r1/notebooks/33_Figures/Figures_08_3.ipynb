{
 "cells": [
  {
   "cell_type": "markdown",
   "id": "0",
   "metadata": {},
   "source": [
    "### 31.4.1 Hash tables"
   ]
  },
  {
   "cell_type": "markdown",
   "id": "1",
   "metadata": {},
   "source": [
    "#### Figure 8.3.1"
   ]
  },
  {
   "cell_type": "markdown",
   "id": "2",
   "metadata": {},
   "source": [
    "The figure shows three boxes, with indices 0, 1 and 2 next to them,\n",
    "and with numbers 312, 407 and 566 inside, respectively.\n",
    "There are three arrows leading respectively from name Alice to index&nbsp;0,\n",
    "from name Bob to index&nbsp;1 and from name Carol to index&nbsp;3.\n",
    "Above the three arrows there's the word 'hash'."
   ]
  },
  {
   "cell_type": "markdown",
   "id": "3",
   "metadata": {},
   "source": [
    "#### Figure 8.3.2"
   ]
  },
  {
   "cell_type": "markdown",
   "id": "4",
   "metadata": {},
   "source": [
    "The figure shows three boxes, with indices 0, 1 and 2 next to them,\n",
    "three names (Alice, Bob and Carol) with arrows to the indices, and\n",
    "the word 'hash' above the arrows.\n",
    "Each of the boxes has a further arrow, each leading to a separate box.\n",
    "Carol has an arrow to the box with index&nbsp;0, which in turn\n",
    "has an arrow to a box with the tuple (Carol, 566) in it.\n",
    "Alice and Bob both have arrows leading to the box with index&nbsp;1, which in turn\n",
    "has an arrow to a box divided in two: the left half has the tuple (Bob, 407)\n",
    "and the right half has the tuple (Alice, 312).\n",
    "The box with index&nbsp;2&nbsp;has no arrow leading from a name to it, but it has\n",
    "an arrow to an empty box."
   ]
  },
  {
   "cell_type": "markdown",
   "id": "5",
   "metadata": {},
   "source": [
    "#### Figure 8.3.3"
   ]
  },
  {
   "cell_type": "markdown",
   "id": "6",
   "metadata": {},
   "source": [
    "The figure shows six boxes, with indices 0 to 5 next to them,\n",
    "three names (Alice, Bob and Carol) with arrows to some indices, and\n",
    "the word 'hash' above the arrows.\n",
    "Each of the boxes has a further arrow, each leading to a separate box.\n",
    "Alice has an arrow to the box with index&nbsp;4, which in turn\n",
    "has an arrow to a box with the tuple (Alice, 312) in it.\n",
    "Bob has an arrow to the box with index&nbsp;1, which in turn\n",
    "has an arrow to a box with the tuple (Bob, 407) in it.\n",
    "Carol has an arrow to the box with index&nbsp;3, which in turn\n",
    "has an arrow to a box with the tuple (Carol, 566) in it.\n",
    "The boxes with indices 0, 2 and 5&nbsp;have no arrows leading from a name to them,\n",
    "but each one has an arrow to a different empty box."
   ]
  },
  {
   "cell_type": "markdown",
   "id": "7",
   "metadata": {},
   "source": [
    "⟵ [Previous section](Figures_07.ipynb) | [Up](33-introduction.ipynb) | [Next section](Figures_09.ipynb) ⟶"
   ]
  }
 ],
 "metadata": {
  "kernelspec": {
   "display_name": "Python 3",
   "language": "python",
   "name": "python3"
  },
  "language_info": {
   "codemirror_mode": {
    "name": "ipython",
    "version": 3
   },
   "file_extension": ".py",
   "mimetype": "text/x-python",
   "name": "python",
   "nbconvert_exporter": "python",
   "pygments_lexer": "ipython3",
   "version": "3.12.10"
  }
 },
 "nbformat": 4,
 "nbformat_minor": 5
}
