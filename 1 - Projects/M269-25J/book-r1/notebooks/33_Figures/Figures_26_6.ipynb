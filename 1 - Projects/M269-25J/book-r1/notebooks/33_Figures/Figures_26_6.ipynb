{
 "cells": [
  {
   "cell_type": "markdown",
   "id": "0",
   "metadata": {},
   "source": [
    "### 31.16.4 Summary"
   ]
  },
  {
   "cell_type": "markdown",
   "id": "1",
   "metadata": {},
   "source": [
    "#### Figure 26.6.1"
   ]
  },
  {
   "cell_type": "markdown",
   "id": "2",
   "metadata": {},
   "source": [
    "This figure shows two diagrams. The left-hand diagram is for the case P = NP.\n",
    "It consists of a rectangle with two smaller rectangles inside it.\n",
    "The outer rectangle is divided in\n",
    "two columns, labelled decision and non-decision,\n",
    "and two rows, labelled tractable and intractable.\n",
    "The first inner rectangle is the outline of the top left-hand cell,\n",
    "which is labelled with P and NP, and represents the tractable decision problems.\n",
    "The second inner rectangle, labelled NP-hard, is in the centre of\n",
    "the outer rectangle, overlapping part of each of the four cells.\n",
    "The overlap between the two inner rectangles is labelled NP-complete.\n",
    "The right-hand diagram is for the case where P is included in NP.\n",
    "It also consists of an outer rectangle and two inner rectangles.\n",
    "The outer rectangle has the same\n",
    "two columns, labelled decision and non-decision,\n",
    "and two rows, labelled tractable and intractable. The first inner rectangle\n",
    "includes the top left-hand cell of tractable decision problems, labelled P,\n",
    "and part of the bottom left-hand cell of intractable decision problems.\n",
    "The boundary between tractable and intractable is marked with a dashed line.\n",
    "The intractable part of the rectangle is labelled with NP.\n",
    "The second inner rectangle, labelled NP-hard, covers part of both columns\n",
    "in the bottom row, so the intractable decision and non-decision problems.\n",
    "The overlap of both inner rectangles is again labelled NP-complete."
   ]
  },
  {
   "cell_type": "markdown",
   "id": "3",
   "metadata": {},
   "source": [
    "⟵ [Previous section](Figures_24.ipynb) | [Up](33-introduction.ipynb) | [Next section](Figures_27.ipynb) ⟶"
   ]
  }
 ],
 "metadata": {
  "kernelspec": {
   "display_name": "Python 3",
   "language": "python",
   "name": "python3"
  },
  "language_info": {
   "codemirror_mode": {
    "name": "ipython",
    "version": 3
   },
   "file_extension": ".py",
   "mimetype": "text/x-python",
   "name": "python",
   "nbconvert_exporter": "python",
   "pygments_lexer": "ipython3",
   "version": "3.12.10"
  }
 },
 "nbformat": 4,
 "nbformat_minor": 5
}
