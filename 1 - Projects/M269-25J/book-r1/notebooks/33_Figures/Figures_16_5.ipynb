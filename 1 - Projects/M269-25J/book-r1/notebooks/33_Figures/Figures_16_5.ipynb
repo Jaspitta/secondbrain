{
 "cells": [
  {
   "cell_type": "markdown",
   "id": "0",
   "metadata": {},
   "source": [
    "### 31.8.4 Balanced trees"
   ]
  },
  {
   "cell_type": "markdown",
   "id": "1",
   "metadata": {},
   "source": [
    "#### Figure 16.5.1"
   ]
  },
  {
   "cell_type": "markdown",
   "id": "2",
   "metadata": {},
   "source": [
    "This circle-and-line diagram has empty circles.\n",
    "Each circle has two circles below it, to the left and right,\n",
    "except the circles in the fourth row.\n",
    "There are one circle in the top row, two circles in the second row,\n",
    "four circles in the third row, and eight circles in the fourth row."
   ]
  },
  {
   "cell_type": "markdown",
   "id": "3",
   "metadata": {},
   "source": [
    "#### Figure 16.5.2"
   ]
  },
  {
   "cell_type": "markdown",
   "id": "4",
   "metadata": {},
   "source": [
    "This figure shows two separate circle-and-line diagrams.\n",
    "Each circle has a number next to it, outside the circle.\n",
    "Left diagram:\n",
    "The top circle has number 5 inside and number 0 outside.\n",
    "The left circle below has number 4 inside and number 1 outside;\n",
    "the right circle has number 8 inside and number 1 outside.\n",
    "Both circles have a single circle below, to their left.\n",
    "The circle below 4&nbsp;has number 1 inside and number 0 outside;\n",
    "the circle below 8&nbsp;has number 6 inside and number 0 outside.\n",
    "Right diagram:\n",
    "The top circle has the addition operator inside and number −2 outside.\n",
    "The left circle below has number 3 inside and number 0 outside.\n",
    "The right circle below addition has the subtraction operator inside\n",
    "and number 1 outside.\n",
    "The left circle below subtraction has the multiplication operator inside and the number 0 outside.\n",
    "The right circle below subtraction has number 6 inside and number 0 outside.\n",
    "The left and right circles below multiplication have numbers 4 and 5 inside\n",
    "and both have number 0 outside."
   ]
  },
  {
   "cell_type": "markdown",
   "id": "5",
   "metadata": {},
   "source": [
    "⟵ [Previous section](Figures_14.ipynb) | [Up](33-introduction.ipynb) | [Next section](Figures_17.ipynb) ⟶"
   ]
  }
 ],
 "metadata": {
  "kernelspec": {
   "display_name": "Python 3",
   "language": "python",
   "name": "python3"
  },
  "language_info": {
   "codemirror_mode": {
    "name": "ipython",
    "version": 3
   },
   "file_extension": ".py",
   "mimetype": "text/x-python",
   "name": "python",
   "nbconvert_exporter": "python",
   "pygments_lexer": "ipython3",
   "version": "3.12.10"
  }
 },
 "nbformat": 4,
 "nbformat_minor": 5
}
