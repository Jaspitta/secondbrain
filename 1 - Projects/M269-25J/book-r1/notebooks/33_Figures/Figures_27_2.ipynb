{
 "cells": [
  {
   "cell_type": "markdown",
   "id": "0",
   "metadata": {},
   "source": [
    "### 31.17.2 The Church–Turing thesis"
   ]
  },
  {
   "cell_type": "markdown",
   "id": "1",
   "metadata": {},
   "source": [
    "#### Figure 27.2.1"
   ]
  },
  {
   "cell_type": "markdown",
   "id": "2",
   "metadata": {},
   "source": [
    "This figure shows three rows of small diagrams, each showing\n",
    "the content of the first four cells of the tape.\n",
    "Each diagram also indicates the current state and the current head position.\n",
    "In the first row, from left to right, there are diagrams:\n",
    "1 The state is start, the head is on cell 1, the tape is a, a, blank, blank.\n",
    "2 The state is up, the head is on cell 2, the tape is X, a, blank, blank.\n",
    "3 The state is up, the head is on cell 3, the tape is X, a, blank, blank.\n",
    "4 The state is back, the head is on cell 2, the tape is X, a, 1, blank.\n",
    "5 The state is back, the head is on cell 1, the tape is X, a, 1, blank.\n",
    "The second row also has five diagrams:\n",
    "1 The state is start, the head is on cell 2, the tape is a, a, 1, blank.\n",
    "2 The state is up, the head is on cell 3, the tape is a, X, 1, blank.\n",
    "3 The state is up, the head is on cell 4, the tape is a, X, 0, blank.\n",
    "4 The state is back, the head is on cell 3, the tape is a, X, 0, 1.\n",
    "5 The state is back, the head is on cell 2, the tape is a, X, 0, 1.\n",
    "The third row has a single diagram:\n",
    "the state is start, the head is on cell 3, the tape is a, a, 0, 1."
   ]
  },
  {
   "cell_type": "markdown",
   "id": "3",
   "metadata": {},
   "source": [
    "⟵ [Previous section](Figures_26.ipynb) | [Up](33-introduction.ipynb)"
   ]
  }
 ],
 "metadata": {
  "kernelspec": {
   "display_name": "Python 3",
   "language": "python",
   "name": "python3"
  },
  "language_info": {
   "codemirror_mode": {
    "name": "ipython",
    "version": 3
   },
   "file_extension": ".py",
   "mimetype": "text/x-python",
   "name": "python",
   "nbconvert_exporter": "python",
   "pygments_lexer": "ipython3",
   "version": "3.12.10"
  }
 },
 "nbformat": 4,
 "nbformat_minor": 5
}
