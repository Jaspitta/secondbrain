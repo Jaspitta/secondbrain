{
 "cells": [
  {
   "cell_type": "markdown",
   "id": "0",
   "metadata": {},
   "source": [
    "### 31.8.2 Traversals"
   ]
  },
  {
   "cell_type": "markdown",
   "id": "1",
   "metadata": {},
   "source": [
    "#### Figure 16.3.1"
   ]
  },
  {
   "cell_type": "markdown",
   "id": "2",
   "metadata": {},
   "source": [
    "This figure shows a diagram made of circles connected by lines.\n",
    "Each circle surrounds an arithmetic operator or a number.\n",
    "Each circle with an operator is connected by two lines to\n",
    "two other circles below it, to the left and right.\n",
    "Each circle with a number has no further circles below it.\n",
    "The circle at the top has the subtraction operator.\n",
    "Below it, the left circle has the multiplication operator\n",
    "and the right circle has number 6.\n",
    "Below the multiplication operator, the left circle has the addition operator\n",
    "and the right circle has number 5.\n",
    "Below the addition operator, the left circle has number 3\n",
    "and the right circle has number 4."
   ]
  },
  {
   "cell_type": "markdown",
   "id": "3",
   "metadata": {},
   "source": [
    "⟵ [Previous section](Figures_14.ipynb) | [Up](33-introduction.ipynb) | [Next section](Figures_17.ipynb) ⟶"
   ]
  }
 ],
 "metadata": {
  "kernelspec": {
   "display_name": "Python 3",
   "language": "python",
   "name": "python3"
  },
  "language_info": {
   "codemirror_mode": {
    "name": "ipython",
    "version": 3
   },
   "file_extension": ".py",
   "mimetype": "text/x-python",
   "name": "python",
   "nbconvert_exporter": "python",
   "pygments_lexer": "ipython3",
   "version": "3.12.10"
  }
 },
 "nbformat": 4,
 "nbformat_minor": 5
}
