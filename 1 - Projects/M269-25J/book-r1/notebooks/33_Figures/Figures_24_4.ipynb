{
 "cells": [
  {
   "cell_type": "markdown",
   "id": "0",
   "metadata": {},
   "source": [
    "### 31.15.3 Levenshtein distance"
   ]
  },
  {
   "cell_type": "markdown",
   "id": "1",
   "metadata": {},
   "source": [
    "#### Figure 24.4.1"
   ]
  },
  {
   "cell_type": "markdown",
   "id": "2",
   "metadata": {},
   "source": [
    "This figure shows a DAG where the nodes are of the form edit(left, right).\n",
    "The root node is edit('rate', 'grate').\n",
    "Its left child is edit('ate', 'grate'), its middle child is edit('ate', 'rate')\n",
    "and its right child is edit('rate', 'rate').\n",
    "Node edit('ate', 'grate') also has three children.\n",
    "From left to right they are: edit('te', 'grate'), edit('te', 'rate') and edit('ate', 'rate'). The latter is also the middle child of the root node.\n",
    "Node edit('te', 'grate') has right child edit('te', 'rate'), which is is also\n",
    "the middle child of edit('ate', 'grate') and\n",
    "the left child of edit('ate', 'rate').\n",
    "The right child of the root, edit('rate', 'rate'),\n",
    "has a single, middle child: edit('ate', 'ate')."
   ]
  },
  {
   "cell_type": "markdown",
   "id": "3",
   "metadata": {},
   "source": [
    "⟵ [Previous section](Figures_23.ipynb) | [Up](33-introduction.ipynb) | [Next section](Figures_26.ipynb) ⟶"
   ]
  }
 ],
 "metadata": {
  "kernelspec": {
   "display_name": "Python 3",
   "language": "python",
   "name": "python3"
  },
  "language_info": {
   "codemirror_mode": {
    "name": "ipython",
    "version": 3
   },
   "file_extension": ".py",
   "mimetype": "text/x-python",
   "name": "python",
   "nbconvert_exporter": "python",
   "pygments_lexer": "ipython3",
   "version": "3.12.10"
  }
 },
 "nbformat": 4,
 "nbformat_minor": 5
}
