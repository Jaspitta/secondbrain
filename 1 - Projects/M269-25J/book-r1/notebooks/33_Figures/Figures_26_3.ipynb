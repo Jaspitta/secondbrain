{
 "cells": [
  {
   "cell_type": "markdown",
   "id": "0",
   "metadata": {},
   "source": [
    "### 31.16.2 Reductions"
   ]
  },
  {
   "cell_type": "markdown",
   "id": "1",
   "metadata": {},
   "source": [
    "#### Figure 26.3.1"
   ]
  },
  {
   "cell_type": "markdown",
   "id": "2",
   "metadata": {},
   "source": [
    "In this figure, a large box labelled 'Unsolved' has three small boxes inside,\n",
    "numbered 1 to 3 from left to right.\n",
    "Box 1, the left inner box, is labelled 'IT'.\n",
    "Box 2, the middle inner box, is labelled 'Solved'.\n",
    "Box 3, the right inner box, is labelled 'OT'.\n",
    "There are four arrows, all pointing to the right.\n",
    "An arrow labelled 'inputs' goes from outside the large 'Unsolved' box\n",
    "to the IT box.\n",
    "A second arrow, also labelled 'inputs', goes from the 'IT' to the 'Solved' box.\n",
    "A third arrow, labelled 'output', goes from the 'Solved' to the 'OT' box.\n",
    "A fourth arrow, also labelled 'output', goes from the 'OT' box to\n",
    "outside the large 'Unsolved' box."
   ]
  },
  {
   "cell_type": "markdown",
   "id": "3",
   "metadata": {},
   "source": [
    "#### Figure 26.3.2"
   ]
  },
  {
   "cell_type": "markdown",
   "id": "4",
   "metadata": {},
   "source": [
    "In this figure, a large box labelled 'Unsolved: interval scheduling'\n",
    "has three small boxes inside, numbered 1 to 3 from left to right.\n",
    "Box 1, the left inner box, is labelled 'IT'.\n",
    "Box 2, the middle inner box, is labelled 'Solved: maximal independent set'.\n",
    "Box 3, the right inner box, is labelled 'OT'.\n",
    "There are five arrows, all pointing to the right.\n",
    "One arrow labelled 'intervals' goes from outside the large 'Unsolved' box\n",
    "to the 'IT' box. Two arrows, labelled 'items' and 'incompatible',\n",
    "go from the 'IT' to the 'Solved' box.\n",
    "One arrow labelled 'compatible' goes from the 'Solved' to the 'OT' box.\n",
    "One arrow labelled 'schedule' goes from the 'OT' box to\n",
    "outside the large 'Unsolved' box."
   ]
  },
  {
   "cell_type": "markdown",
   "id": "5",
   "metadata": {},
   "source": [
    "⟵ [Previous section](Figures_24.ipynb) | [Up](33-introduction.ipynb) | [Next section](Figures_27.ipynb) ⟶"
   ]
  }
 ],
 "metadata": {
  "kernelspec": {
   "display_name": "Python 3",
   "language": "python",
   "name": "python3"
  },
  "language_info": {
   "codemirror_mode": {
    "name": "ipython",
    "version": 3
   },
   "file_extension": ".py",
   "mimetype": "text/x-python",
   "name": "python",
   "nbconvert_exporter": "python",
   "pygments_lexer": "ipython3",
   "version": "3.12.10"
  }
 },
 "nbformat": 4,
 "nbformat_minor": 5
}
