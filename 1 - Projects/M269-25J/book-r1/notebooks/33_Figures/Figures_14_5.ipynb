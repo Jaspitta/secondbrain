{
 "cells": [
  {
   "cell_type": "markdown",
   "id": "0",
   "metadata": {},
   "source": [
    "### 31.7.1 Merge sort"
   ]
  },
  {
   "cell_type": "markdown",
   "id": "1",
   "metadata": {},
   "source": [
    "#### Figure 14.5.1"
   ]
  },
  {
   "cell_type": "markdown",
   "id": "2",
   "metadata": {},
   "source": [
    "This diagram shows seven rows of sequences of letters.\n",
    "When a sequence is split, it is connected with lines to\n",
    "the two resulting sequences in the next row.\n",
    "When two sequences are merged, they are connected with straight lines to\n",
    "the resulting sequence in the next row.\n",
    "The first row shows sequence SORTING.\n",
    "The second row shows it has been split into SORT and ING.\n",
    "The third row shows the first sequence is split into SO and RT,\n",
    "and the second into IN and G.\n",
    "In the fourth row, SO, RT and IN are further split into single letters.\n",
    "In the fifth row, S and O are merged into OS, R and T into RT,\n",
    "and I and N into IN.\n",
    "In the fifth row, OS and RT are merged into ORST,\n",
    "and IN is merged with G into GIN.\n",
    "In the final seventh row, ORST and GIN are merged into GINORST,\n",
    "the sorted sequence of letters."
   ]
  },
  {
   "cell_type": "markdown",
   "id": "3",
   "metadata": {},
   "source": [
    "⟵ [Previous section](Figures_11.ipynb) | [Up](33-introduction.ipynb) | [Next section](Figures_16.ipynb) ⟶"
   ]
  }
 ],
 "metadata": {
  "kernelspec": {
   "display_name": "Python 3",
   "language": "python",
   "name": "python3"
  },
  "language_info": {
   "codemirror_mode": {
    "name": "ipython",
    "version": 3
   },
   "file_extension": ".py",
   "mimetype": "text/x-python",
   "name": "python",
   "nbconvert_exporter": "python",
   "pygments_lexer": "ipython3",
   "version": "3.12.10"
  }
 },
 "nbformat": 4,
 "nbformat_minor": 5
}
