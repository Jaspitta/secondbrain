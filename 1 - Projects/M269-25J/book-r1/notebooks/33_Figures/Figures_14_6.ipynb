{
 "cells": [
  {
   "cell_type": "markdown",
   "id": "0",
   "metadata": {},
   "source": [
    "### 31.7.2 Quicksort"
   ]
  },
  {
   "cell_type": "markdown",
   "id": "1",
   "metadata": {},
   "source": [
    "#### Figure 14.6.1"
   ]
  },
  {
   "cell_type": "markdown",
   "id": "2",
   "metadata": {},
   "source": [
    "This diagram shows seven rows of sequences of letters.\n",
    "When a sequence is split, it is connected with lines to\n",
    "the two resulting unsorted sequences and the pivot in the next row.\n",
    "When two sorted sequences and the pivot are concatenated,\n",
    "they are connected with straight lines to\n",
    "the resulting sequence in the next row.\n",
    "The first row shows sequence SORTING.\n",
    "The second row shows it has been split into ORING and T, with pivot S.\n",
    "The third row shows that ORING is split into ING and R, with pivot O.\n",
    "The fourth row shows that ING is split into G and N with pivot I.\n",
    "These are concatenated into GIN.\n",
    "The sixth row concatenates GIN and R around pivot O to obtain GINOR.\n",
    "The seventh row concatenates GINOR and T around pivot S to obtain GINORST."
   ]
  },
  {
   "cell_type": "markdown",
   "id": "3",
   "metadata": {},
   "source": [
    "⟵ [Previous section](Figures_11.ipynb) | [Up](33-introduction.ipynb) | [Next section](Figures_16.ipynb) ⟶"
   ]
  }
 ],
 "metadata": {
  "kernelspec": {
   "display_name": "Python 3",
   "language": "python",
   "name": "python3"
  },
  "language_info": {
   "codemirror_mode": {
    "name": "ipython",
    "version": 3
   },
   "file_extension": ".py",
   "mimetype": "text/x-python",
   "name": "python",
   "nbconvert_exporter": "python",
   "pygments_lexer": "ipython3",
   "version": "3.12.10"
  }
 },
 "nbformat": 4,
 "nbformat_minor": 5
}
