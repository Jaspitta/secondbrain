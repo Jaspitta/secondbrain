{
 "cells": [
  {
   "cell_type": "markdown",
   "id": "0",
   "metadata": {},
   "source": [
    "### 31.10.2 Weighted graphs"
   ]
  },
  {
   "cell_type": "markdown",
   "id": "1",
   "metadata": {},
   "source": [
    "#### Figure 18.2.1"
   ]
  },
  {
   "cell_type": "markdown",
   "id": "2",
   "metadata": {},
   "source": [
    "This diagram shows a right-angled triangle, with the hypotenuse going from the\n",
    "left bottom point labelled (x1, y1) to the top right point labelled (x2, y2).\n",
    "The horizontal side of the triangle is labelled m subscript x and\n",
    "the vertical side is labelled m subscript y.\n",
    "The hypotenuse is labelled with the equation e = square root of\n",
    "the sum of the square of m subscript x and the square of m subscript y."
   ]
  },
  {
   "cell_type": "markdown",
   "id": "3",
   "metadata": {},
   "source": [
    "#### Figure 18.2.2"
   ]
  },
  {
   "cell_type": "markdown",
   "id": "4",
   "metadata": {},
   "source": [
    "This figure shows four circles, labelled 0 to 3, and a straight line between each pair of circles.\n",
    "Each line is labelled with an integer denoting the cost of travelling between those places.\n",
    "It costs 15 to travel between 0 and 1, 10 between 0 and 2 and between 2 and 3,\n",
    "5 between 0 and 3 and between 3 and 1, and 30 between 1 and 2."
   ]
  },
  {
   "cell_type": "markdown",
   "id": "5",
   "metadata": {},
   "source": [
    "⟵ [Previous section](Figures_17.ipynb) | [Up](33-introduction.ipynb) | [Next section](Figures_19.ipynb) ⟶"
   ]
  }
 ],
 "metadata": {
  "kernelspec": {
   "display_name": "Python 3",
   "language": "python",
   "name": "python3"
  },
  "language_info": {
   "codemirror_mode": {
    "name": "ipython",
    "version": 3
   },
   "file_extension": ".py",
   "mimetype": "text/x-python",
   "name": "python",
   "nbconvert_exporter": "python",
   "pygments_lexer": "ipython3",
   "version": "3.12.10"
  }
 },
 "nbformat": 4,
 "nbformat_minor": 5
}
