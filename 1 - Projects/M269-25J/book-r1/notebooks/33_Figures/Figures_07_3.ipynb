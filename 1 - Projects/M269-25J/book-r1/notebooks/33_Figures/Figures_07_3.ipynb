{
 "cells": [
  {
   "cell_type": "markdown",
   "id": "0",
   "metadata": {},
   "source": [
    "### 31.3.2 Queues"
   ]
  },
  {
   "cell_type": "markdown",
   "id": "1",
   "metadata": {},
   "source": [
    "#### Figure 7.3.1"
   ]
  },
  {
   "cell_type": "markdown",
   "id": "2",
   "metadata": {},
   "source": [
    "The left half of the figure shows the word Alice surround by\n",
    "the numbers 1, 2, 4, 5 and 6, going clockwise, with 1 at the 12 o'clock position.\n",
    "There's an arrow from Alice to number 4.\n",
    "The right half of the figure shows a series of boxes,\n",
    "with the numbers 4, 5, 6, 1, 2 inside them, from left to right.\n",
    "There's an arrow going from the word 'front' to the left-most box,\n",
    "with number 4."
   ]
  },
  {
   "cell_type": "markdown",
   "id": "3",
   "metadata": {},
   "source": [
    "⟵ [Previous section](Figures_06.ipynb) | [Up](33-introduction.ipynb) | [Next section](Figures_08.ipynb) ⟶"
   ]
  }
 ],
 "metadata": {
  "kernelspec": {
   "display_name": "Python 3",
   "language": "python",
   "name": "python3"
  },
  "language_info": {
   "codemirror_mode": {
    "name": "ipython",
    "version": 3
   },
   "file_extension": ".py",
   "mimetype": "text/x-python",
   "name": "python",
   "nbconvert_exporter": "python",
   "pygments_lexer": "ipython3",
   "version": "3.12.10"
  }
 },
 "nbformat": 4,
 "nbformat_minor": 5
}
