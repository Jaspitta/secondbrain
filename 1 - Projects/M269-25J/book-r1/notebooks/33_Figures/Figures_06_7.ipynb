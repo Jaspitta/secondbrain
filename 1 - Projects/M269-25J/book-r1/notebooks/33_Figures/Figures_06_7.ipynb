{
 "cells": [
  {
   "cell_type": "markdown",
   "id": "0",
   "metadata": {},
   "source": [
    "### 31.2.3 Linked lists"
   ]
  },
  {
   "cell_type": "markdown",
   "id": "1",
   "metadata": {},
   "source": [
    "#### Figure 6.7.1"
   ]
  },
  {
   "cell_type": "markdown",
   "id": "2",
   "metadata": {},
   "source": [
    "The figure shows a linked list with three nodes, each depicted by a pair of boxes.\n",
    "The variable 'head' points to (i.e. has an arrow to) a pair of boxes:\n",
    "the left box has number 0; the right box has an arrow leading to\n",
    "another pair of boxes. This second pair has number 1 in the left box and\n",
    "in the right box an arrow to another pair of boxes. This third pair of boxes\n",
    "has number 2 in the left box and a cross in the right box."
   ]
  },
  {
   "cell_type": "markdown",
   "id": "3",
   "metadata": {},
   "source": [
    "#### Figure 6.7.2"
   ]
  },
  {
   "cell_type": "markdown",
   "id": "4",
   "metadata": {},
   "source": [
    "This figure shows two linked lists. The first list is the same as\n",
    "in the previous figure, with three nodes with numbers 0, 1 and 2 and\n",
    "with variable 'head' pointing to the first node with number 0.\n",
    "There are two more variables: 'before' points to the second node,\n",
    "which has number 1, and variable 'after' points to the third node,\n",
    "which has number 2. The second list has a single node pointed to by\n",
    "variable 'new'. The node has number 3 in the left box and\n",
    "a cross in the right box."
   ]
  },
  {
   "cell_type": "markdown",
   "id": "5",
   "metadata": {},
   "source": [
    "#### Figure 6.7.3"
   ]
  },
  {
   "cell_type": "markdown",
   "id": "6",
   "metadata": {},
   "source": [
    "The figure is the same as the previous one, but with two differences. First,\n",
    "the arrow going from the node with number 1 to the node with number 2 now\n",
    "goes to the node with number 3. Second, the cross in the node with number 3\n",
    "has been replaced with an arrow going to the node with number 2."
   ]
  },
  {
   "cell_type": "markdown",
   "id": "7",
   "metadata": {},
   "source": [
    "#### Figure 6.7.4"
   ]
  },
  {
   "cell_type": "markdown",
   "id": "8",
   "metadata": {},
   "source": [
    "The figure shows two linked lists, each with one node.\n",
    "One node has the number 0 in the left box and a cross in the right box. The other\n",
    "node has an exclamation mark in the left box and a cross in the right box.\n",
    "The variable 'new' points to the second node, with the exclamation mark.\n",
    "The variables 'head' and 'before' both point to the first node, with number 0.\n",
    "Additionally, the variable 'after' points to a separate x,\n",
    "indicating that 'after' is a null pointer."
   ]
  },
  {
   "cell_type": "markdown",
   "id": "9",
   "metadata": {},
   "source": [
    "#### Figure 6.7.5"
   ]
  },
  {
   "cell_type": "markdown",
   "id": "10",
   "metadata": {},
   "source": [
    "This figure is like the previous one except that\n",
    "the cross in the right half of the node with number 0&nbsp;has been replaced with\n",
    "an arrow that leads to the other node, with the exclamation mark.\n",
    "The two nodes now form part of a single linked list."
   ]
  },
  {
   "cell_type": "markdown",
   "id": "11",
   "metadata": {},
   "source": [
    "⟵ [Previous section](Figures_04.ipynb) | [Up](33-introduction.ipynb) | [Next section](Figures_07.ipynb) ⟶"
   ]
  }
 ],
 "metadata": {
  "kernelspec": {
   "display_name": "Python 3",
   "language": "python",
   "name": "python3"
  },
  "language_info": {
   "codemirror_mode": {
    "name": "ipython",
    "version": 3
   },
   "file_extension": ".py",
   "mimetype": "text/x-python",
   "name": "python",
   "nbconvert_exporter": "python",
   "pygments_lexer": "ipython3",
   "version": "3.12.10"
  }
 },
 "nbformat": 4,
 "nbformat_minor": 5
}
