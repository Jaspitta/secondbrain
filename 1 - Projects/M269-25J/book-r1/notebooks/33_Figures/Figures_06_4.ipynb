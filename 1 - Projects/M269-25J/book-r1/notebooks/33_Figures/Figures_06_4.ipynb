{
 "cells": [
  {
   "cell_type": "markdown",
   "id": "0",
   "metadata": {},
   "source": [
    "### 31.2.2 Bounded sequences"
   ]
  },
  {
   "cell_type": "markdown",
   "id": "1",
   "metadata": {},
   "source": [
    "#### Figure 6.4.1"
   ]
  },
  {
   "cell_type": "markdown",
   "id": "2",
   "metadata": {},
   "source": [
    "This figure shows a variable named 'items' pointing to a series of five boxes,\n",
    "each with its index beneath, from 0 to 4.\n",
    "A variable named 'size' points to index&nbsp;3.\n",
    "The first box points to another box with value True.\n",
    "The third box points to another box with value 0.2.\n",
    "The other three boxes all point to the same box with value None."
   ]
  },
  {
   "cell_type": "markdown",
   "id": "3",
   "metadata": {},
   "source": [
    "⟵ [Previous section](Figures_04.ipynb) | [Up](33-introduction.ipynb) | [Next section](Figures_07.ipynb) ⟶"
   ]
  }
 ],
 "metadata": {
  "kernelspec": {
   "display_name": "Python 3",
   "language": "python",
   "name": "python3"
  },
  "language_info": {
   "codemirror_mode": {
    "name": "ipython",
    "version": 3
   },
   "file_extension": ".py",
   "mimetype": "text/x-python",
   "name": "python",
   "nbconvert_exporter": "python",
   "pygments_lexer": "ipython3",
   "version": "3.12.10"
  }
 },
 "nbformat": 4,
 "nbformat_minor": 5
}
