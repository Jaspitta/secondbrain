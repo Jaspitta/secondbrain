{
 "cells": [
  {
   "cell_type": "markdown",
   "id": "0",
   "metadata": {},
   "source": [
    "### 31.14.3 Knapsack"
   ]
  },
  {
   "cell_type": "markdown",
   "id": "1",
   "metadata": {},
   "source": [
    "#### Figure 23.3.1"
   ]
  },
  {
   "cell_type": "markdown",
   "id": "2",
   "metadata": {},
   "source": [
    "This figure shows a digraph. Each node is a pair of integers from 0 to 4.\n",
    "The graph is laid out in five levels. Pairs of the form (n, c) are in level n.\n",
    "Pairs starting with 4 are leaves, because all items were considered.\n",
    "Pairs ending with 0 are leaves because there's no capacity left for more items.\n",
    "The node in the top level is (0, 4).\n",
    "It has incoming arrows from (1, 4) on the left and (1, 3) on the right.\n",
    "Node (1, 4) has incoming arrows from (2, 4) on the left and (2, 3) on the right.\n",
    "Node (1, 3) has incoming arrows from (2, 3) on the left and (2, 2) on the right.\n",
    "Node (2, 4) has incoming arrows from (3, 4) on the left and (3, 1) on the right.\n",
    "Node (2, 3) has incoming arrows from (3, 3) on the left and (3, 0) on the right.\n",
    "Node (2, 2) has one incoming arrow from (3, 2) on the left.\n",
    "Node (3, 4) has incoming arrows from (4, 4) on the left and (4, 0) on the right.\n",
    "Node (3, 1) has one incoming arrow from (4, 1) on the left.\n",
    "Node (3, 3) has one incoming arrow from (4, 3) on the left.\n",
    "Node (3, 2) has one incoming arrow from (4, 2) on the left."
   ]
  },
  {
   "cell_type": "markdown",
   "id": "3",
   "metadata": {},
   "source": [
    "⟵ [Previous section](Figures_22.ipynb) | [Up](33-introduction.ipynb) | [Next section](Figures_24.ipynb) ⟶"
   ]
  }
 ],
 "metadata": {
  "kernelspec": {
   "display_name": "Python 3",
   "language": "python",
   "name": "python3"
  },
  "language_info": {
   "codemirror_mode": {
    "name": "ipython",
    "version": 3
   },
   "file_extension": ".py",
   "mimetype": "text/x-python",
   "name": "python",
   "nbconvert_exporter": "python",
   "pygments_lexer": "ipython3",
   "version": "3.12.10"
  }
 },
 "nbformat": 4,
 "nbformat_minor": 5
}
