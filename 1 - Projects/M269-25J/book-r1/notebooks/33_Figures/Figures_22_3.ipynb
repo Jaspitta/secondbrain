{
 "cells": [
  {
   "cell_type": "markdown",
   "id": "0",
   "metadata": {},
   "source": [
    "### 31.13.2 Trackword"
   ]
  },
  {
   "cell_type": "markdown",
   "id": "1",
   "metadata": {},
   "source": [
    "#### Figure 22.3.1"
   ]
  },
  {
   "cell_type": "markdown",
   "id": "2",
   "metadata": {},
   "source": [
    "This figure shows four grids of 3 by 3&nbsp;squares with letters.\n",
    "Grid 1:\n",
    "The letters are S, E and T in the first row, E, R and R in the second row,\n",
    "and V, E and I in the third row.\n",
    "Grid 2:\n",
    "This grid has the same letters and a line showing the path that spells out\n",
    "the word 'retrieves'. The line starts at R in the central square, goes up to E,\n",
    "then goes down the right-hand column (T, R and I), then goes left along the bottom row\n",
    "(E and V) and finally up the left-hand column (E and S).\n",
    "Grid 3:\n",
    "This grid has a line showing one path that spells out 'tree'.\n",
    "The line starts at the T in the top right corner,\n",
    "goes diagonally to R in the central square, then left to E, then\n",
    "diagonally up right to E.\n",
    "Grid 4:\n",
    "This grid shows another path that spells out 'tree'. The line starts again\n",
    "at the T in the top right corner, but then moves down to R,\n",
    "diagonally up left to the E in the first row and finally\n",
    "diagonally down left to the E in the left-hand column.\n",
    "This and the previous path use the same two E squares, but in a different order."
   ]
  },
  {
   "cell_type": "markdown",
   "id": "3",
   "metadata": {},
   "source": [
    "⟵ [Previous section](Figures_21.ipynb) | [Up](33-introduction.ipynb) | [Next section](Figures_23.ipynb) ⟶"
   ]
  }
 ],
 "metadata": {
  "kernelspec": {
   "display_name": "Python 3",
   "language": "python",
   "name": "python3"
  },
  "language_info": {
   "codemirror_mode": {
    "name": "ipython",
    "version": 3
   },
   "file_extension": ".py",
   "mimetype": "text/x-python",
   "name": "python",
   "nbconvert_exporter": "python",
   "pygments_lexer": "ipython3",
   "version": "3.12.10"
  }
 },
 "nbformat": 4,
 "nbformat_minor": 5
}
