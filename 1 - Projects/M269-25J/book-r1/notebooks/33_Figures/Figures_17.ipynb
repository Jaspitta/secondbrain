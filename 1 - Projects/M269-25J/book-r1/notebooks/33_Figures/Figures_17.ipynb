{
 "cells": [
  {
   "cell_type": "markdown",
   "id": "0",
   "metadata": {},
   "source": [
    "## 31.9 Graphs 1"
   ]
  },
  {
   "cell_type": "markdown",
   "id": "1",
   "metadata": {
    "nbsphinx-toctree": {
     "hidden": true,
     "maxdepth": 1,
     "numbered": false
    }
   },
   "source": [
    "1. [Modelling with graphs](Figures_17_1.ipynb)\n",
    "1. [Basic concepts](Figures_17_2.ipynb)\n",
    "1. [Edge list representation](Figures_17_3.ipynb)\n",
    "1. [Adjacency matrix representation](Figures_17_4.ipynb)\n",
    "1. [Adjacency list representation](Figures_17_5.ipynb)"
   ]
  },
  {
   "cell_type": "markdown",
   "id": "2",
   "metadata": {},
   "source": [
    "⟵ [Previous section](Figures_16.ipynb) | [Up](33-introduction.ipynb) | [Next section](Figures_18.ipynb) ⟶"
   ]
  }
 ],
 "metadata": {
  "kernelspec": {
   "display_name": "Python 3",
   "language": "python",
   "name": "python3"
  },
  "language_info": {
   "codemirror_mode": {
    "name": "ipython",
    "version": 3
   },
   "file_extension": ".py",
   "mimetype": "text/x-python",
   "name": "python",
   "nbconvert_exporter": "python",
   "pygments_lexer": "ipython3",
   "version": "3.12.10"
  }
 },
 "nbformat": 4,
 "nbformat_minor": 5
}
