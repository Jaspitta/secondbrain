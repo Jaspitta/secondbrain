{
 "cells": [
  {
   "cell_type": "markdown",
   "id": "0",
   "metadata": {},
   "source": [
    "### 31.12.3 Topological sort"
   ]
  },
  {
   "cell_type": "markdown",
   "id": "1",
   "metadata": {},
   "source": [
    "#### Figure 21.3.1"
   ]
  },
  {
   "cell_type": "markdown",
   "id": "2",
   "metadata": {},
   "source": [
    "This figure shows a directed graph with three nodes, labelled A2, B2 and C2,\n",
    "from left to right. There are three directed edges, pointing left to right,\n",
    "from A2 to B2, from B2 to C2, and from A2 to C2."
   ]
  },
  {
   "cell_type": "markdown",
   "id": "3",
   "metadata": {},
   "source": [
    "#### Figure 21.3.2"
   ]
  },
  {
   "cell_type": "markdown",
   "id": "4",
   "metadata": {},
   "source": [
    "This figure shows a directed graph with four nodes, labelled A to D, and\n",
    "two edges, from A to B and from C to D."
   ]
  },
  {
   "cell_type": "markdown",
   "id": "5",
   "metadata": {},
   "source": [
    "#### Figure 21.3.3"
   ]
  },
  {
   "cell_type": "markdown",
   "id": "6",
   "metadata": {},
   "source": [
    "This figure shows a directed graph with three nodes, labelled A to C,\n",
    "from left to right. There are three edges.\n",
    "The edges from A to B and from B to C point to the right.\n",
    "The edge from C to A points to the left."
   ]
  },
  {
   "cell_type": "markdown",
   "id": "7",
   "metadata": {},
   "source": [
    "#### Figure 21.3.4"
   ]
  },
  {
   "cell_type": "markdown",
   "id": "8",
   "metadata": {},
   "source": [
    "This figure has four separate panes, each showing a digraph and\n",
    "a sequence of nodes. From left to right, the panes as as follows.\n",
    "Pane 1:\n",
    "The digraph has three nodes A2, B2, C2 and three edges, from A2 to B2,\n",
    "from B2 to C2 and from A2 to C2. Node A2&nbsp;has number zero next to it,\n",
    "node B2&nbsp;has number 1, and node C2&nbsp;has number 2.\n",
    "The sequence is empty.\n",
    "Pane 2:\n",
    "The digraph has no node A2. There's only one edge from B2 to C2.\n",
    "Node B2&nbsp;has number 0 and node C2&nbsp;has number 1.\n",
    "The sequence is just A2.\n",
    "Pane 3:\n",
    "The digraph no longer has B2. There's only node C2, with number 0, and no edges.\n",
    "The sequence is A2, B2.\n",
    "Pane 4:\n",
    "There's no digraph. The sequence is A2, B2, C2."
   ]
  },
  {
   "cell_type": "markdown",
   "id": "9",
   "metadata": {},
   "source": [
    "#### Figure 21.3.5"
   ]
  },
  {
   "cell_type": "markdown",
   "id": "10",
   "metadata": {},
   "source": [
    "This figure has four separate panes, each showing a digraph and\n",
    "a sequence of nodes. The digraph is always the same:\n",
    "it has three nodes, labelled A2, B2 and C2, and three edges,\n",
    "from A2 to B2, from B2 to C2 and from A2 to C2.\n",
    "From left to right, the panes as as follows.\n",
    "Pane 1:\n",
    "Node A2&nbsp;has number zero next to it,\n",
    "node B2&nbsp;has number 1, and node C2&nbsp;has number 2.\n",
    "The sequence is empty.\n",
    "Pane 2:\n",
    "Nodes A2 and B2&nbsp;have number zero next to them and node C2&nbsp;has number 1.\n",
    "The sequence is just A2.\n",
    "Pane 3:\n",
    "All nodes have number 0 next to them. The sequence is A2, B2.\n",
    "Pane 4:\n",
    "All nodes have number 0 next to them. The sequence is A2, B2, C2."
   ]
  },
  {
   "cell_type": "markdown",
   "id": "11",
   "metadata": {},
   "source": [
    "⟵ [Previous section](Figures_19.ipynb) | [Up](33-introduction.ipynb) | [Next section](Figures_22.ipynb) ⟶"
   ]
  }
 ],
 "metadata": {
  "kernelspec": {
   "display_name": "Python 3",
   "language": "python",
   "name": "python3"
  },
  "language_info": {
   "codemirror_mode": {
    "name": "ipython",
    "version": 3
   },
   "file_extension": ".py",
   "mimetype": "text/x-python",
   "name": "python",
   "nbconvert_exporter": "python",
   "pygments_lexer": "ipython3",
   "version": "3.12.10"
  }
 },
 "nbformat": 4,
 "nbformat_minor": 5
}
