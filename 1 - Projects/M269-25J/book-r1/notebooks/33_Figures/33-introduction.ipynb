{
 "cells": [
  {
   "cell_type": "markdown",
   "id": "0",
   "metadata": {},
   "source": [
    "# 31 Figures"
   ]
  },
  {
   "cell_type": "markdown",
   "id": "1",
   "metadata": {},
   "source": [
    "This chapter contains the descriptions of all figures throughout the book."
   ]
  },
  {
   "cell_type": "markdown",
   "id": "2",
   "metadata": {
    "nbsphinx-toctree": {
     "hidden": true,
     "maxdepth": 1,
     "numbered": false
    }
   },
   "source": [
    "1. [Sequences and iteration](Figures_04.ipynb)\n",
    "1. [Implementing sequences](Figures_06.ipynb)\n",
    "1. [Stacks and queues](Figures_07.ipynb)\n",
    "1. [Unordered collections](Figures_08.ipynb)\n",
    "1. [Practice 1](Figures_09.ipynb)\n",
    "1. [Exhaustive search](Figures_11.ipynb)\n",
    "1. [Sorting](Figures_14.ipynb)\n",
    "1. [Rooted trees](Figures_16.ipynb)\n",
    "1. [Graphs 1](Figures_17.ipynb)\n",
    "1. [Greed](Figures_18.ipynb)\n",
    "1. [Practice 2](Figures_19.ipynb)\n",
    "1. [Graphs 2](Figures_21.ipynb)\n",
    "1. [Backtracking](Figures_22.ipynb)\n",
    "1. [Dynamic Programming](Figures_23.ipynb)\n",
    "1. [Practice 3](Figures_24.ipynb)\n",
    "1. [Complexity classes](Figures_26.ipynb)\n",
    "1. [Computability](Figures_27.ipynb)"
   ]
  },
  {
   "cell_type": "markdown",
   "id": "3",
   "metadata": {},
   "source": [
    "⟵ [Previous chapter](../32_Answers/32-introduction.ipynb) | [Up](../M269.ipynb) | [Next section](Figures_04.ipynb) ⟶"
   ]
  }
 ],
 "metadata": {
  "kernelspec": {
   "display_name": "Python 3",
   "language": "python",
   "name": "python3"
  },
  "language_info": {
   "codemirror_mode": {
    "name": "ipython",
    "version": 3
   },
   "file_extension": ".py",
   "mimetype": "text/x-python",
   "name": "python",
   "nbconvert_exporter": "python",
   "pygments_lexer": "ipython3",
   "version": "3.12.10"
  }
 },
 "nbformat": 4,
 "nbformat_minor": 5
}
