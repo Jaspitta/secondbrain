{
 "cells": [
  {
   "cell_type": "markdown",
   "id": "0",
   "metadata": {},
   "source": [
    "### 31.14.1 Fibonacci"
   ]
  },
  {
   "cell_type": "markdown",
   "id": "1",
   "metadata": {},
   "source": [
    "#### Figure 23.1.1"
   ]
  },
  {
   "cell_type": "markdown",
   "id": "2",
   "metadata": {},
   "source": [
    "This figure shows a binary tree with each node labelled fib(n),\n",
    "for some n from 1 to 6.\n",
    "The left child of fib(n) is fib(n−1) and the right child is fib(n−2).\n",
    "All leaves are labelled fib(2) or fib(1).\n",
    "The root is fib(6) with left child fib(5), which in turn has left child fib(4),\n",
    "which in turn has left child fib(3), which has children fib(2) and fib(1).\n",
    "fib(4) has right child fib(2).\n",
    "fib(5) has a right child also labelled fib(3), which in turn has again\n",
    "two children fib(2) and fib(1).\n",
    "The right child of root fib(6) is another node labelled fib(4), again with\n",
    "children fib(3) and fib(2), where fib(3) has children fib(2) and fib(1)."
   ]
  },
  {
   "cell_type": "markdown",
   "id": "3",
   "metadata": {},
   "source": [
    "#### Figure 23.1.2"
   ]
  },
  {
   "cell_type": "markdown",
   "id": "4",
   "metadata": {},
   "source": [
    "This figure shows the same binary tree as before but now every right child\n",
    "has no further children.\n",
    "The root is fib(6) with left child fib(5) and right child fib(4).\n",
    "fib(5) has a left child also labelled fib(4) and right child fib(3).\n",
    "The fib(4) child of fib(5) has left child fib(3) and right child fib(2).\n",
    "The fib(3) child of fib(4) has children fib(2) and fib(1)."
   ]
  },
  {
   "cell_type": "markdown",
   "id": "5",
   "metadata": {},
   "source": [
    "#### Figure 23.1.3"
   ]
  },
  {
   "cell_type": "markdown",
   "id": "6",
   "metadata": {},
   "source": [
    "This figure shows a graph with six nodes labelled fib(1) to fib(6),\n",
    "from left to right.\n",
    "There are eight directed edges, all pointing left to right. The edges are:\n",
    "from fib(1) to fib(3); from fib(2) to fib(3) and fib(4);\n",
    "from fib(3) to fib(4) and fib(5); from fib(4) to fib(5) and fib(6);\n",
    "from fib(5) to fib(6)."
   ]
  },
  {
   "cell_type": "markdown",
   "id": "7",
   "metadata": {},
   "source": [
    "⟵ [Previous section](Figures_22.ipynb) | [Up](33-introduction.ipynb) | [Next section](Figures_24.ipynb) ⟶"
   ]
  }
 ],
 "metadata": {
  "kernelspec": {
   "display_name": "Python 3",
   "language": "python",
   "name": "python3"
  },
  "language_info": {
   "codemirror_mode": {
    "name": "ipython",
    "version": 3
   },
   "file_extension": ".py",
   "mimetype": "text/x-python",
   "name": "python",
   "nbconvert_exporter": "python",
   "pygments_lexer": "ipython3",
   "version": "3.12.10"
  }
 },
 "nbformat": 4,
 "nbformat_minor": 5
}
