{
 "cells": [
  {
   "cell_type": "markdown",
   "id": "0",
   "metadata": {},
   "source": [
    "### 31.6.1 Searching permutations"
   ]
  },
  {
   "cell_type": "markdown",
   "id": "1",
   "metadata": {},
   "source": [
    "#### Figure 11.4.1"
   ]
  },
  {
   "cell_type": "markdown",
   "id": "2",
   "metadata": {},
   "source": [
    "This figure shows four circles, labelled 0 to 3, and a straight line between each pair of circles.\n",
    "Each line is labelled with an integer denoting the cost of travelling between those places.\n",
    "It costs 15 to travel between 0 and 1, 10 between 0 and 2 and between 2 and 3,\n",
    "5 between 0 and 3 and between 3 and 1, and 30 between 1 and 2."
   ]
  },
  {
   "cell_type": "markdown",
   "id": "3",
   "metadata": {},
   "source": [
    "#### Figure 11.4.2"
   ]
  },
  {
   "cell_type": "markdown",
   "id": "4",
   "metadata": {},
   "source": [
    "This figure shows a line chart with n going from 1 to 7 in the x-axis.\n",
    "The y-axis goes from 0 to 5000. There are three lines in the chart.\n",
    "The black line plots the values for the square of n (n to the power of 2).\n",
    "The blue line plots the values for the cube of n (n to the power of 3).\n",
    "The red line plots the values for the factorial of n.\n",
    "The black line is horizontal.\n",
    "The blue line goes above the black line from n = 3 onwards and keeps rising gently.\n",
    "The red line is below the blue line until n = 5. Then it rises abruptly.\n",
    "The factorial of 6 is almost 1000 and the factorial of 7 is over 5000,\n",
    "while the cube of 7 is clearly under 500."
   ]
  },
  {
   "cell_type": "markdown",
   "id": "5",
   "metadata": {},
   "source": [
    "⟵ [Previous section](Figures_09.ipynb) | [Up](33-introduction.ipynb) | [Next section](Figures_14.ipynb) ⟶"
   ]
  }
 ],
 "metadata": {
  "kernelspec": {
   "display_name": "Python 3",
   "language": "python",
   "name": "python3"
  },
  "language_info": {
   "codemirror_mode": {
    "name": "ipython",
    "version": 3
   },
   "file_extension": ".py",
   "mimetype": "text/x-python",
   "name": "python",
   "nbconvert_exporter": "python",
   "pygments_lexer": "ipython3",
   "version": "3.12.10"
  }
 },
 "nbformat": 4,
 "nbformat_minor": 5
}
