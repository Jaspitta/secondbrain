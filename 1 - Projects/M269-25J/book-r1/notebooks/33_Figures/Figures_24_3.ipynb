{
 "cells": [
  {
   "cell_type": "markdown",
   "id": "0",
   "metadata": {},
   "source": [
    "### 31.15.2 Borrow a book"
   ]
  },
  {
   "cell_type": "markdown",
   "id": "1",
   "metadata": {},
   "source": [
    "#### Figure 24.3.1"
   ]
  },
  {
   "cell_type": "markdown",
   "id": "2",
   "metadata": {},
   "source": [
    "This figure shows a directed graph with 21 nodes.\n",
    "They are laid out in three rows of seven nodes each.\n",
    "Each node is labelled with a letter–weekday pair.\n",
    "Left to right in each row, the weekdays are Mon, Tue, Wed, Thu, Fri, Sat and Sun.\n",
    "From top to bottom, the letters in each row are A, B and C.\n",
    "Each node has an edge to the node to its right in the same row, e.g.\n",
    "from A, Mon to A, Tue and from B, Thu to B, Fri.\n",
    "In each row there's an edge from the right-most node to the left-most node,\n",
    "e.g. from A, Sun to A, Mon and from B, Sun to B, Mon.\n",
    "All these edges have weight 1.\n",
    "In addition there are three pairs of edges across rows.\n",
    "These six edges have weight 0.\n",
    "There's a pair of edges from B, Tue to C, Tue and back to C, Tue.\n",
    "The second pair goes from A, Wed to B, Wed and back to A, Wed.\n",
    "The third pair goes from A, Sat to C, Sat and back to A, Sat."
   ]
  },
  {
   "cell_type": "markdown",
   "id": "3",
   "metadata": {},
   "source": [
    "⟵ [Previous section](Figures_23.ipynb) | [Up](33-introduction.ipynb) | [Next section](Figures_26.ipynb) ⟶"
   ]
  }
 ],
 "metadata": {
  "kernelspec": {
   "display_name": "Python 3",
   "language": "python",
   "name": "python3"
  },
  "language_info": {
   "codemirror_mode": {
    "name": "ipython",
    "version": 3
   },
   "file_extension": ".py",
   "mimetype": "text/x-python",
   "name": "python",
   "nbconvert_exporter": "python",
   "pygments_lexer": "ipython3",
   "version": "3.12.10"
  }
 },
 "nbformat": 4,
 "nbformat_minor": 5
}
