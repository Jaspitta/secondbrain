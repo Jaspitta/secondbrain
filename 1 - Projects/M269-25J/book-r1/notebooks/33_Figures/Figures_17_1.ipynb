{
 "cells": [
  {
   "cell_type": "markdown",
   "id": "0",
   "metadata": {},
   "source": [
    "### 31.9.1 Modelling with graphs"
   ]
  },
  {
   "cell_type": "markdown",
   "id": "1",
   "metadata": {},
   "source": [
    "#### Figure 17.1.1"
   ]
  },
  {
   "cell_type": "markdown",
   "id": "2",
   "metadata": {},
   "source": [
    "The diagram on the left consists of four ellipses,\n",
    "labelled Alice, Bob, Chan and David, and four straight lines between them.\n",
    "Bob is connected with Alice, Chan and David. Alice and David are also connected.\n",
    "The diagram on the right consists of four circles labelled 1, 2, 3 and 4,\n",
    "and four arrows connecting them. There are two arrows from 4 to 1 and 2.\n",
    "There's one arrow from 1 to 2 and another from 2 to 1."
   ]
  },
  {
   "cell_type": "markdown",
   "id": "3",
   "metadata": {},
   "source": [
    "#### Figure 17.1.2"
   ]
  },
  {
   "cell_type": "markdown",
   "id": "4",
   "metadata": {},
   "source": [
    "This screenshot shows the top left-hand corner of a spreadsheet, with\n",
    "three columns labelled A, B and C from left to right and\n",
    "two rows numbered 1 and 2.\n",
    "Column A has the text 'Cost' in row 1 and the number 5 in row 2.\n",
    "Column B has the text 'VAT' in row 1 and the formula '=A2 times 0.2' in row 2.\n",
    "Column C has the text 'Total' in row 1 and the formula '=A2 + B2' in row 2."
   ]
  },
  {
   "cell_type": "markdown",
   "id": "5",
   "metadata": {},
   "source": [
    "#### Figure 17.1.3"
   ]
  },
  {
   "cell_type": "markdown",
   "id": "6",
   "metadata": {},
   "source": [
    "This diagram has three circles, labelled A2, B2 and C2, from left to right.\n",
    "There are three arrows, from A2 to B2, from B2 to C2, and from A2 to C2."
   ]
  },
  {
   "cell_type": "markdown",
   "id": "7",
   "metadata": {},
   "source": [
    "#### Figure 17.1.4"
   ]
  },
  {
   "cell_type": "markdown",
   "id": "8",
   "metadata": {},
   "source": [
    "This diagram has four Noughts and Crosses boards,\n",
    "each being a three by three square grid.\n",
    "The board at the top of the diagram is empty.\n",
    "The board on the left has a single X, in the top left square.\n",
    "The board on the right has a single O, in the centre square.\n",
    "The board at the bottom has an X in the top left square and an O in the centre.\n",
    "Two arrows go from the top empty board to the left and right boards.\n",
    "Two other arrows go from the left and right boards to the bottom one."
   ]
  },
  {
   "cell_type": "markdown",
   "id": "9",
   "metadata": {},
   "source": [
    "#### Figure 17.1.5"
   ]
  },
  {
   "cell_type": "markdown",
   "id": "10",
   "metadata": {},
   "source": [
    "This figure shows two layouts of the same graph with six nodes labelled\n",
    "A, B, N, S, W and E. In the left-hand layout, nodes N, S, W, E are in\n",
    "the north, south, west and east positions, respectively.\n",
    "Node A is below node N.\n",
    "Node B is below node A, between nodes W and E, and above node S.\n",
    "In the right-hand layout, node A is to the left of node B.\n",
    "Nodes N and S are between A and B, with N above them and S below them.\n",
    "Node W is above node E and both are to the right of node B.\n",
    "Both layouts have nine undirected edges connecting the nodes as follows.\n",
    "Node N is connected to A, B and S. Node S is also connected to A and B.\n",
    "A is also connected to B. W and E are connected to each other and to B."
   ]
  },
  {
   "cell_type": "markdown",
   "id": "11",
   "metadata": {},
   "source": [
    "#### Figure 17.1.6"
   ]
  },
  {
   "cell_type": "markdown",
   "id": "12",
   "metadata": {},
   "source": [
    "This diagram has three ellipses, arranged horizontally and labelled\n",
    "from left to right as 'first item', 'second item' and 'last item'.\n",
    "There are three dots between the second and third ellipse, i.e.\n",
    "between the second and last items.\n",
    "There are three arrows going from the first to the second items,\n",
    "from the second item to three dots and from the three dots to the last item."
   ]
  },
  {
   "cell_type": "markdown",
   "id": "13",
   "metadata": {},
   "source": [
    "⟵ [Previous section](Figures_16.ipynb) | [Up](33-introduction.ipynb) | [Next section](Figures_18.ipynb) ⟶"
   ]
  }
 ],
 "metadata": {
  "kernelspec": {
   "display_name": "Python 3",
   "language": "python",
   "name": "python3"
  },
  "language_info": {
   "codemirror_mode": {
    "name": "ipython",
    "version": 3
   },
   "file_extension": ".py",
   "mimetype": "text/x-python",
   "name": "python",
   "nbconvert_exporter": "python",
   "pygments_lexer": "ipython3",
   "version": "3.12.10"
  }
 },
 "nbformat": 4,
 "nbformat_minor": 5
}
