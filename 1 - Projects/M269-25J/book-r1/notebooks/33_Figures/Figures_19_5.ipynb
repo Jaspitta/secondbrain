{
 "cells": [
  {
   "cell_type": "markdown",
   "id": "0",
   "metadata": {},
   "source": [
    "### 31.11.3 A knight goes places"
   ]
  },
  {
   "cell_type": "markdown",
   "id": "1",
   "metadata": {},
   "source": [
    "#### Figure 19.5.1"
   ]
  },
  {
   "cell_type": "markdown",
   "id": "2",
   "metadata": {},
   "source": [
    "This figure shows a chessboard made of squares arranged in five rows,\n",
    "numbered zero to four from top to bottom, and six columns,\n",
    "numbered zero to five from left to right. The square in row 3, column 4\n",
    "(second row from the bottom, second column from the right) has the\n",
    "horse-shaped image of a knight. Each other square has a number from one to four.\n",
    "There are L-shaped lines with arrows from the square with the knight to the\n",
    "four squares with number 1. Two lines go up and then left or right.\n",
    "The other two lines go left and then up or down."
   ]
  },
  {
   "cell_type": "markdown",
   "id": "3",
   "metadata": {},
   "source": [
    "#### Figure 19.5.2"
   ]
  },
  {
   "cell_type": "markdown",
   "id": "4",
   "metadata": {},
   "source": [
    "This figure shows a chessboard with three rows and three columns.\n",
    "The knight is in the top left-hand corner. The central square is empty.\n",
    "Each other square has a number from 1 to 4."
   ]
  },
  {
   "cell_type": "markdown",
   "id": "5",
   "metadata": {},
   "source": [
    "⟵ [Previous section](Figures_18.ipynb) | [Up](33-introduction.ipynb) | [Next section](Figures_21.ipynb) ⟶"
   ]
  }
 ],
 "metadata": {
  "kernelspec": {
   "display_name": "Python 3",
   "language": "python",
   "name": "python3"
  },
  "language_info": {
   "codemirror_mode": {
    "name": "ipython",
    "version": 3
   },
   "file_extension": ".py",
   "mimetype": "text/x-python",
   "name": "python",
   "nbconvert_exporter": "python",
   "pygments_lexer": "ipython3",
   "version": "3.12.10"
  }
 },
 "nbformat": 4,
 "nbformat_minor": 5
}
