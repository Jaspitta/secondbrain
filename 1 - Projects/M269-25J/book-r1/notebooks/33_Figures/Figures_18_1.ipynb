{
 "cells": [
  {
   "cell_type": "markdown",
   "id": "0",
   "metadata": {},
   "source": [
    "### 31.10.1 Interval scheduling"
   ]
  },
  {
   "cell_type": "markdown",
   "id": "1",
   "metadata": {},
   "source": [
    "#### Figure 18.1.1"
   ]
  },
  {
   "cell_type": "markdown",
   "id": "2",
   "metadata": {},
   "source": [
    "This figure has a timeline at the bottom,\n",
    "going from 0 to 7 from left to right.\n",
    "There are four time intervals, depicted as horizontal lines.\n",
    "From left to right the intervals are: start at 1 and end at 4;\n",
    "start at 3 and end at 7; start at 5 and end at 6; start at 6 and end at 7."
   ]
  },
  {
   "cell_type": "markdown",
   "id": "3",
   "metadata": {},
   "source": [
    "#### Figure 18.1.2"
   ]
  },
  {
   "cell_type": "markdown",
   "id": "4",
   "metadata": {},
   "source": [
    "This figure shows three horizontal lines labelled A, B and C.\n",
    "Line C starts before A and B, and ends after them.\n",
    "Line A starts and ends before B."
   ]
  },
  {
   "cell_type": "markdown",
   "id": "5",
   "metadata": {},
   "source": [
    "#### Figure 18.1.3"
   ]
  },
  {
   "cell_type": "markdown",
   "id": "6",
   "metadata": {},
   "source": [
    "This figure shows three horizontal lines labelled A, B and C.\n",
    "Line A starts and ends first. Line B starts end ends last.\n",
    "Line C fills a short gap between A and B:\n",
    "it starts where line A ends and ends where line B starts.\n",
    "Line C is the shortest; line B is longer; line A is the longest."
   ]
  },
  {
   "cell_type": "markdown",
   "id": "7",
   "metadata": {},
   "source": [
    "#### Figure 18.1.4"
   ]
  },
  {
   "cell_type": "markdown",
   "id": "8",
   "metadata": {},
   "source": [
    "This diagram shows nine horizontal lines arranged in three rows.\n",
    "The first row has four lines, labelled A, B, C and D from left to right.\n",
    "The second row has three lines labelled E, F and G from left to right.\n",
    "Line E starts in the middle of line A and ends in the middle of line B.\n",
    "Line F starts before the end of B and ends in the middle of C.\n",
    "Line G starts before the end of C and ends in the middle of D.\n",
    "The third row has two lines labelled H and I.\n",
    "Line H is left-aligned with line E but ends before line B starts.\n",
    "Line I is left-aligned with line D and ends after line G."
   ]
  },
  {
   "cell_type": "markdown",
   "id": "9",
   "metadata": {},
   "source": [
    "#### Figure 18.1.5"
   ]
  },
  {
   "cell_type": "markdown",
   "id": "10",
   "metadata": {},
   "source": [
    "This diagram has eight horizontal lines representing time intervals,\n",
    "labelled from A to H. There's a dashed vertical line labelled t.\n",
    "Lines A, B and C start at different points but all end at t.\n",
    "Lines D and E cross the dashed line: they start before t and end after t.\n",
    "Lines F, G and H all start during interval D but after t.\n",
    "Lines G and H start after E. Lines F and H end at the same time, before G."
   ]
  },
  {
   "cell_type": "markdown",
   "id": "11",
   "metadata": {},
   "source": [
    "⟵ [Previous section](Figures_17.ipynb) | [Up](33-introduction.ipynb) | [Next section](Figures_19.ipynb) ⟶"
   ]
  }
 ],
 "metadata": {
  "kernelspec": {
   "display_name": "Python 3",
   "language": "python",
   "name": "python3"
  },
  "language_info": {
   "codemirror_mode": {
    "name": "ipython",
    "version": 3
   },
   "file_extension": ".py",
   "mimetype": "text/x-python",
   "name": "python",
   "nbconvert_exporter": "python",
   "pygments_lexer": "ipython3",
   "version": "3.12.10"
  }
 },
 "nbformat": 4,
 "nbformat_minor": 5
}
