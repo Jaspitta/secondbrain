{
 "cells": [
  {
   "cell_type": "markdown",
   "id": "0",
   "metadata": {},
   "source": [
    "### 31.13.1 Generate sequences"
   ]
  },
  {
   "cell_type": "markdown",
   "id": "1",
   "metadata": {},
   "source": [
    "#### Figure 22.1.1"
   ]
  },
  {
   "cell_type": "markdown",
   "id": "2",
   "metadata": {},
   "source": [
    "This figure shows a tree in which each node has a sequence and a set.\n",
    "Each node has one child for each element in the set: the child node has\n",
    "that element at the end of the sequence and no longer in the set.\n",
    "The root node has the empty sequence and set {1, 2, 3}.\n",
    "Each further level of the tree increases the size of the sequence and\n",
    "decreases the size of the set. Level 1, the root, has\n",
    "zero numbers in the sequence and three numbers in the set.\n",
    "Level 2 nodes have one number in the sequence and two in the set.\n",
    "Level 3 nodes have two numbers in the sequence and one in the set.\n",
    "Level 4 nodes, the leaves, have three numbers in the sequence and none in the set.\n",
    "For example, the root's three children are: sequence (1) and set {2,3};\n",
    "sequence (2) and set {1,3}; sequence (3) and set {1,2}.\n",
    "Node (1) {2,3} has two children:\n",
    "node (1,2) {3} which in turn has a single child (1,2,3) {},\n",
    "and node (1,3) {2} which in turn has a single child (1,3,2) {}."
   ]
  },
  {
   "cell_type": "markdown",
   "id": "3",
   "metadata": {},
   "source": [
    "⟵ [Previous section](Figures_21.ipynb) | [Up](33-introduction.ipynb) | [Next section](Figures_23.ipynb) ⟶"
   ]
  }
 ],
 "metadata": {
  "kernelspec": {
   "display_name": "Python 3",
   "language": "python",
   "name": "python3"
  },
  "language_info": {
   "codemirror_mode": {
    "name": "ipython",
    "version": 3
   },
   "file_extension": ".py",
   "mimetype": "text/x-python",
   "name": "python",
   "nbconvert_exporter": "python",
   "pygments_lexer": "ipython3",
   "version": "3.12.10"
  }
 },
 "nbformat": 4,
 "nbformat_minor": 5
}
