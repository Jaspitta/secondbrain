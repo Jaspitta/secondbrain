{
 "cells": [
  {
   "cell_type": "markdown",
   "id": "0",
   "metadata": {},
   "source": [
    "### 31.13.3 Back to the TSP"
   ]
  },
  {
   "cell_type": "markdown",
   "id": "1",
   "metadata": {},
   "source": [
    "#### Figure 22.5.1"
   ]
  },
  {
   "cell_type": "markdown",
   "id": "2",
   "metadata": {},
   "source": [
    "This figure shows an undirected weighted graph with nodes labelled 0 to 4.\n",
    "Edges 0–1 and 2–4&nbsp;have weight 20.\n",
    "Edges 1–2, 2–3, 3–4 and 3–0&nbsp;have weight 10.\n",
    "Edges 0–4 and 1–3&nbsp;have weight 5.\n",
    "Edges 0–2 and 1–4&nbsp;have infinite weight."
   ]
  },
  {
   "cell_type": "markdown",
   "id": "3",
   "metadata": {},
   "source": [
    "⟵ [Previous section](Figures_21.ipynb) | [Up](33-introduction.ipynb) | [Next section](Figures_23.ipynb) ⟶"
   ]
  }
 ],
 "metadata": {
  "kernelspec": {
   "display_name": "Python 3",
   "language": "python",
   "name": "python3"
  },
  "language_info": {
   "codemirror_mode": {
    "name": "ipython",
    "version": 3
   },
   "file_extension": ".py",
   "mimetype": "text/x-python",
   "name": "python",
   "nbconvert_exporter": "python",
   "pygments_lexer": "ipython3",
   "version": "3.12.10"
  }
 },
 "nbformat": 4,
 "nbformat_minor": 5
}
