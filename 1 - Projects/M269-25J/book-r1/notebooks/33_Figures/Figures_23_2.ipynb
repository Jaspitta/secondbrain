{
 "cells": [
  {
   "cell_type": "markdown",
   "id": "0",
   "metadata": {},
   "source": [
    "### 31.14.2 Longest common subsequence"
   ]
  },
  {
   "cell_type": "markdown",
   "id": "1",
   "metadata": {},
   "source": [
    "#### Figure 23.2.1"
   ]
  },
  {
   "cell_type": "markdown",
   "id": "2",
   "metadata": {},
   "source": [
    "This figure shows a graph with nodes labelled lcs(y, n),\n",
    "where y is a substring of 'yes' and n is a substring of 'no'.\n",
    "There's an edge from lcs(y1, n1) to lcs(y2, n2) if the solution to\n",
    "lcs(y2, n2) depends on the solution for lcs(y1, n1). For each node,\n",
    "the node to its left and below skips the first letter of the left string, and\n",
    "the node to its right and below skips the first letter of the right string.\n",
    "The node at the top is lcs('yes', 'no'). It has two incoming edges from\n",
    "lcs('es', 'no') to the left and lcs('yes', 'o') to the right.\n",
    "Node lcs('es', 'no') has also two incoming edges, from left node lcs('s', 'no')\n",
    "and right node lcs('es', 'o').\n",
    "Node lcs('s', 'no') has incoming edges from lcs('', 'no') to the left and\n",
    "lcs('s', 'o') to the right.\n",
    "Node lcs('s', 'o') has incoming edges from lcs('', 'o') and lcs('s', '').\n",
    "Node lcs('es', 'o') has incoming edges from node lcs('s', 'o') and lcs('es', '').\n",
    "Node lcs('yes', 'o') has incoming edges from lcs('es', 'o') and lcs('yes', '')."
   ]
  },
  {
   "cell_type": "markdown",
   "id": "3",
   "metadata": {},
   "source": [
    "#### Figure 23.2.2"
   ]
  },
  {
   "cell_type": "markdown",
   "id": "4",
   "metadata": {},
   "source": [
    "This figure shows a table with\n",
    "five columns numbered 0 to 4 from left to right and\n",
    "five rows numbered 0 to 4 from top to bottom.\n",
    "Each table entry is of the form lcs(l, r), where l is a substring of 'soho' and\n",
    "r is a substring of 'ohio'.\n",
    "The cells in row 0 are, from left to right,\n",
    "lcs('soho', 'ohio'), lcs('soho', 'hio'), lcs('soho', 'io'), lcs('soho', 'o') and lcs('soho', '').\n",
    "The cells in row 1 are\n",
    "lcs('oho', 'ohio'), lcs('oho', 'hio'), lcs('oho', 'io'), lcs('soho', 'o') and empty.\n",
    "The cells in row 2 are\n",
    "empty, lcs('ho', 'hio'), lcs('ho', 'io'), lcs('ho', 'o') and lcs('ho', '').\n",
    "The cells in row  3 are\n",
    "empty, empty, lcs('o', 'io'), lcs('o', 'o') and empty.\n",
    "The cells in row 4 are\n",
    "empty, empty, lcs('', 'io'), empty and lcs('', '').\n",
    "The figure has arrows between cells showing their dependencies.\n",
    "There are four diagonal arrows from one cell to the one left and above it.\n",
    "They are:\n",
    "from lcs('', '') in row 4 column 4 to lcs('o', 'o') in row 3, column 3;\n",
    "from lcs('ho', '') in row 2 column 4 to lcs('oho', 'o') in row 1, column 3;\n",
    "from lcs('o', 'io') in row 3 column 2 to lcs('ho', 'hio') in row 2, column 1,\n",
    "which in turn has a diagonal arrow to lcs('oho', 'ohio') in row 1, column 0.\n",
    "All other non-empty cells, except those in the last row or column,\n",
    "have two incoming edges from their left and bottom neighbour."
   ]
  },
  {
   "cell_type": "markdown",
   "id": "5",
   "metadata": {},
   "source": [
    "#### Figure 23.2.3"
   ]
  },
  {
   "cell_type": "markdown",
   "id": "6",
   "metadata": {},
   "source": [
    "This figure shows the same 5 by 5 table as the previous figure, but\n",
    "the empty cells are now filled and their dependencies have been added.\n",
    "Row 4:\n",
    "lcs('', 'ohio') in column 0,\n",
    "lcs('', 'hio') in column 1 and\n",
    "lcs('', 'o') in column 3.\n",
    "Row 3:\n",
    "lcs('o', 'ohio') in column 0 with a diagonal arrow from lcs('', 'hio);\n",
    "lcs('o', 'hio') in column 1 with arrows from lcs('', 'hio') below and lcs('o', 'io') to the right;\n",
    "lcs('o', '') in column 4.\n",
    "Row 2:\n",
    "lcs('ho', 'ohio') in column 0 with arrows from lcs('o', 'ohio') below and lcs('ho', 'hio') to the right.\n",
    "Row 1: lcs('oho', '') in column 4."
   ]
  },
  {
   "cell_type": "markdown",
   "id": "7",
   "metadata": {},
   "source": [
    "⟵ [Previous section](Figures_22.ipynb) | [Up](33-introduction.ipynb) | [Next section](Figures_24.ipynb) ⟶"
   ]
  }
 ],
 "metadata": {
  "kernelspec": {
   "display_name": "Python 3",
   "language": "python",
   "name": "python3"
  },
  "language_info": {
   "codemirror_mode": {
    "name": "ipython",
    "version": 3
   },
   "file_extension": ".py",
   "mimetype": "text/x-python",
   "name": "python",
   "nbconvert_exporter": "python",
   "pygments_lexer": "ipython3",
   "version": "3.12.10"
  }
 },
 "nbformat": 4,
 "nbformat_minor": 5
}
