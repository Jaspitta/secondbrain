{
 "cells": [
  {
   "cell_type": "markdown",
   "id": "0",
   "metadata": {},
   "source": [
    "### 31.8.5 Heapsort"
   ]
  },
  {
   "cell_type": "markdown",
   "id": "1",
   "metadata": {},
   "source": [
    "#### Figure 16.6.1"
   ]
  },
  {
   "cell_type": "markdown",
   "id": "2",
   "metadata": {},
   "source": [
    "This figure shows two separate binary trees.\n",
    "The nodes are empty: there's nothing inside the circles.\n",
    "In both trees, the root has two children.\n",
    "In the left-hand tree, the left child of the root has two children but\n",
    "the right child of the root has no children.\n",
    "In the right-hand tree, the left child of the root has one left child and\n",
    "the right child of the root has one right child."
   ]
  },
  {
   "cell_type": "markdown",
   "id": "3",
   "metadata": {},
   "source": [
    "#### Figure 16.6.2"
   ]
  },
  {
   "cell_type": "markdown",
   "id": "4",
   "metadata": {},
   "source": [
    "This figure shows three binary trees.\n",
    "Left tree:\n",
    "The root, with key 0, has two children with keys 1 and 2.\n",
    "The node with key 1&nbsp;has two children with keys 3 and 4.\n",
    "Middle tree:\n",
    "The root, with key 0, has two children with keys 3 and 2.\n",
    "The node with key 3&nbsp;has two children with keys 1 and 4.\n",
    "Right tree:\n",
    "The root, with key 4, has two children with keys 3 and 2.\n",
    "The node with key 3&nbsp;has two children with keys 1 and 0."
   ]
  },
  {
   "cell_type": "markdown",
   "id": "5",
   "metadata": {},
   "source": [
    "#### Figure 16.6.3"
   ]
  },
  {
   "cell_type": "markdown",
   "id": "6",
   "metadata": {},
   "source": [
    "This figure shows three binary trees, each with three nodes:\n",
    "the root and two children.\n",
    "The middle tree's root has key 4.\n",
    "Its left child has key 1 and its right child has key 2.\n",
    "In the left-hand tree, 4 and 1&nbsp;have swapped places:\n",
    "1 is in the root, 4 is in the left child and 2&nbsp;stays as the right child.\n",
    "In the right-hand tree, 4 and 2&nbsp;have swapped places:\n",
    "2 is in the root, 4 is in the right child and 1&nbsp;stays as the left child."
   ]
  },
  {
   "cell_type": "markdown",
   "id": "7",
   "metadata": {},
   "source": [
    "⟵ [Previous section](Figures_14.ipynb) | [Up](33-introduction.ipynb) | [Next section](Figures_17.ipynb) ⟶"
   ]
  }
 ],
 "metadata": {
  "kernelspec": {
   "display_name": "Python 3",
   "language": "python",
   "name": "python3"
  },
  "language_info": {
   "codemirror_mode": {
    "name": "ipython",
    "version": 3
   },
   "file_extension": ".py",
   "mimetype": "text/x-python",
   "name": "python",
   "nbconvert_exporter": "python",
   "pygments_lexer": "ipython3",
   "version": "3.12.10"
  }
 },
 "nbformat": 4,
 "nbformat_minor": 5
}
