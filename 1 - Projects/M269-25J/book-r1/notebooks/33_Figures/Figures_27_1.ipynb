{
 "cells": [
  {
   "cell_type": "markdown",
   "id": "0",
   "metadata": {},
   "source": [
    "### 31.17.1 Turing machine"
   ]
  },
  {
   "cell_type": "markdown",
   "id": "1",
   "metadata": {},
   "source": [
    "#### Figure 27.1.1"
   ]
  },
  {
   "cell_type": "markdown",
   "id": "2",
   "metadata": {},
   "source": [
    "This figure shows the first five cells of the tape.\n",
    "The top half of the figure shows them before processing,\n",
    "the bottom half after processing. Above each cell is the current state.\n",
    "Below each cell is the head movement,\n",
    "depicted as an arrow pointing left or right.\n",
    "In the top half, from left to right, the states, symbols and head movements are\n",
    "as follows.\n",
    "In the start state, the head is over a blank and then moves right.\n",
    "The machine is now in the even state, over a 1, and moves right.\n",
    "The machine is now in the odd state, over a 0, and moves right.\n",
    "The machine is now in the odd state, over a 1, and moves right.\n",
    "The machine is now in the even state, over a blank.\n",
    "The bottom half of the diagram must be read right to left.\n",
    "The machines replaces the blank with a zero and moves left.\n",
    "The machine is now in the back state, over a 1, and moves left.\n",
    "The machine is now in the back state, over a 0, and moves left.\n",
    "The machine is now in the back state, over a 1, and moves left.\n",
    "The machine is now in the back state, over a blank, and doesn't move."
   ]
  },
  {
   "cell_type": "markdown",
   "id": "3",
   "metadata": {},
   "source": [
    "⟵ [Previous section](Figures_26.ipynb) | [Up](33-introduction.ipynb)"
   ]
  }
 ],
 "metadata": {
  "kernelspec": {
   "display_name": "Python 3",
   "language": "python",
   "name": "python3"
  },
  "language_info": {
   "codemirror_mode": {
    "name": "ipython",
    "version": 3
   },
   "file_extension": ".py",
   "mimetype": "text/x-python",
   "name": "python",
   "nbconvert_exporter": "python",
   "pygments_lexer": "ipython3",
   "version": "3.12.10"
  }
 },
 "nbformat": 4,
 "nbformat_minor": 5
}
