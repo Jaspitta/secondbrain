{
 "cells": [
  {
   "cell_type": "markdown",
   "id": "0",
   "metadata": {},
   "source": [
    "### 31.12.4 State graphs"
   ]
  },
  {
   "cell_type": "markdown",
   "id": "1",
   "metadata": {},
   "source": [
    "#### Figure 21.4.1"
   ]
  },
  {
   "cell_type": "markdown",
   "id": "2",
   "metadata": {},
   "source": [
    "This figure shows a chess board of fours rows of four squares each.\n",
    "Both the rows and columns are numbered from 0 to 3. The top left square,\n",
    "with coordinates (0, 0), has a tower icon, representing a rook.\n",
    "There are four arrows drawn on the board.\n",
    "The first goes right from square (0, 0) to square (0, 1).\n",
    "The second goes right from (0, 1) to (0, 3).\n",
    "The third goes down from (0, 3) to (3, 3).\n",
    "The fourth goes left from (3, 3) to square (2, 3), which has the letter E."
   ]
  },
  {
   "cell_type": "markdown",
   "id": "3",
   "metadata": {},
   "source": [
    "#### Figure 21.4.2"
   ]
  },
  {
   "cell_type": "markdown",
   "id": "4",
   "metadata": {},
   "source": [
    "This figure shows three undirected graphs, all with the same 16 nodes,\n",
    "labelled (0, 0) to (3, 3) and laid out in a four by four grid,\n",
    "like the squares they correspond to. For example, the four corner nodes are\n",
    "(0, 0) in the top left, (0, 3) in the top right,\n",
    "(3, 0) in the bottom left and (3, 3) in the bottom right.\n",
    "Left-hand graph:\n",
    "Every node is connected to the two, three or four nodes horizontally and vertically around it. For example,\n",
    "node (0, 0) has two edges: to node (0, 1) on the right and node (1, 0) below.\n",
    "Node (1, 1) has four edges: to node (0, 1) above, node (2, 1) below, node (1, 0) on the left and node (1, 2) on the right.\n",
    "Middle graph:\n",
    "Each node is connected to exactly two nodes:\n",
    "one is in the same row but two columns to the left or right and\n",
    "the other is in the same column but two rows above or below. For example,\n",
    "node (0,1) is connected to (0, 3), which is two columns to the right, and to\n",
    "(2, 1), which is two rows below.\n",
    "Right-hand graph:\n",
    "This graph only has eight edges. There are four vertical edges, each connecting\n",
    "a node in the top row and the node in the same column of the bottom row, e.g.\n",
    "(0, 2) and (3, 2).\n",
    "There are four horizontal edges, between each node of the first column and\n",
    "the node in the same row of the third column, e.g. (1, 0) and (1, 3)."
   ]
  },
  {
   "cell_type": "markdown",
   "id": "5",
   "metadata": {},
   "source": [
    "#### Figure 21.4.3"
   ]
  },
  {
   "cell_type": "markdown",
   "id": "6",
   "metadata": {},
   "source": [
    "This figure shows a directed graph with 12 nodes,\n",
    "arranged in three rows of four columns. Each node is labelled with\n",
    "one of the four squares (0, 0) to (0, 3), from the first to the last column,\n",
    "and one of the distances 1 to 3, from the top to the bottom row. For example, the first row nodes are ((0, 0), 1), ((0, 1), 1), ((0, 2), 1) and ((0, 3), 1)\n",
    "and the left column nodes are ((0, 0), 1), ((0, 0), 2) and ((0, 0), 3).\n",
    "There are 12 directed edges in total. There are two cycles of three nodes each.\n",
    "One goes from ((0, 0), 1) to ((0, 1), 2) then ((0, 3), 3) and back to ((0, 0), 1).\n",
    "The other goes from ((0, 3), 1) to ((0, 2), 2) then ((0, 0), 3) and back to ((0, 3), 1).\n",
    "Another four edges are part of two paths of three nodes each.\n",
    "One goes from ((0, 1), 1) to ((0, 0), 2) and then ((0, 2), 3).\n",
    "The other goes from ((0, 2), 1) to ((0, 3), 2) and then ((0, 1), 3).\n",
    "In addition there's an edge from ((0, 1), 1) to ((0, 2), 2) and\n",
    "an edge from ((0, 2), 1) to ((0, 1), 2)."
   ]
  },
  {
   "cell_type": "markdown",
   "id": "7",
   "metadata": {},
   "source": [
    "⟵ [Previous section](Figures_19.ipynb) | [Up](33-introduction.ipynb) | [Next section](Figures_22.ipynb) ⟶"
   ]
  }
 ],
 "metadata": {
  "kernelspec": {
   "display_name": "Python 3",
   "language": "python",
   "name": "python3"
  },
  "language_info": {
   "codemirror_mode": {
    "name": "ipython",
    "version": 3
   },
   "file_extension": ".py",
   "mimetype": "text/x-python",
   "name": "python",
   "nbconvert_exporter": "python",
   "pygments_lexer": "ipython3",
   "version": "3.12.10"
  }
 },
 "nbformat": 4,
 "nbformat_minor": 5
}
