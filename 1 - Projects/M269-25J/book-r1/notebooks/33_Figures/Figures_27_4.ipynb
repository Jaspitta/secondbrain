{
 "cells": [
  {
   "cell_type": "markdown",
   "id": "0",
   "metadata": {},
   "source": [
    "### 31.17.3 Undecidability"
   ]
  },
  {
   "cell_type": "markdown",
   "id": "1",
   "metadata": {},
   "source": [
    "#### Figure 27.4.1"
   ]
  },
  {
   "cell_type": "markdown",
   "id": "2",
   "metadata": {},
   "source": [
    "This figure shows two diagrams. The left-hand diagram is for the case P = NP.\n",
    "It consists of a rectangle with three smaller rectangles inside it.\n",
    "The outer rectangle is divided in\n",
    "two columns, labelled decision and non-decision,\n",
    "and three rows, labelled tractable, intractable and not computable.\n",
    "The first inner rectangle is the outline of the top left-hand cell,\n",
    "which is labelled with P and NP, and represents the tractable decision problems.\n",
    "The second inner rectangle is the outline of the bottom left-hand cell,\n",
    "which is labelled with undecidable, and represents the non-computable decision problems.\n",
    "The third inner rectangle, labelled NP-hard, is in the centre of\n",
    "the outer rectangle, overlapping part of each of the six cells.\n",
    "The overlap between the first and third inner rectangles is labelled NP-complete.\n",
    "The right-hand diagram is for the case where P is included in NP.\n",
    "It also consists of an outer rectangle and three inner rectangles.\n",
    "The outer rectangle has the same\n",
    "two columns, labelled decision and non-decision,\n",
    "and three rows, labelled tractable, intractable and not computable.\n",
    "The first inner rectangle\n",
    "includes the top left-hand cell of tractable decision problems, labelled P,\n",
    "and part of the middle left-hand cell of intractable decision problems.\n",
    "The boundary between tractable and intractable is marked with a dashed line.\n",
    "The intractable part of the rectangle is labelled with NP.\n",
    "The second inner rectangle is the outline of the bottom left-hand cell,\n",
    "which is labelled with undecidable, and represents the non-computable decision problems.\n",
    "The third inner rectangle, labelled NP-hard, covers part of both columns\n",
    "in the middle and bottom rows, so the intractable and the non-computable\n",
    "decision and non-decision problems.\n",
    "The overlap of the first and third inner rectangles is labelled NP-complete."
   ]
  },
  {
   "cell_type": "markdown",
   "id": "3",
   "metadata": {},
   "source": [
    "⟵ [Previous section](Figures_26.ipynb) | [Up](33-introduction.ipynb)"
   ]
  }
 ],
 "metadata": {
  "kernelspec": {
   "display_name": "Python 3",
   "language": "python",
   "name": "python3"
  },
  "language_info": {
   "codemirror_mode": {
    "name": "ipython",
    "version": 3
   },
   "file_extension": ".py",
   "mimetype": "text/x-python",
   "name": "python",
   "nbconvert_exporter": "python",
   "pygments_lexer": "ipython3",
   "version": "3.12.10"
  }
 },
 "nbformat": 4,
 "nbformat_minor": 5
}
