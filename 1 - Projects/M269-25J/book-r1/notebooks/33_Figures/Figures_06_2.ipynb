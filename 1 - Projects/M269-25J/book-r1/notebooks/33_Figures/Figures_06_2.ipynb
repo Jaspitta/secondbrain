{
 "cells": [
  {
   "cell_type": "markdown",
   "id": "0",
   "metadata": {},
   "source": [
    "### 31.2.1 Static arrays"
   ]
  },
  {
   "cell_type": "markdown",
   "id": "1",
   "metadata": {},
   "source": [
    "#### Figure 6.2.1"
   ]
  },
  {
   "cell_type": "markdown",
   "id": "2",
   "metadata": {},
   "source": [
    "The figure shows three rectangular boxes next to each other.\n",
    "The left-most box has numbers 123 and 124 over it and the letter H inside it.\n",
    "The middle box has numbers 125 and 126 over it and the letter i inside it.\n",
    "The right-most box has numbers 127 and 128 over it and an exclamation mark\n",
    "inside it."
   ]
  },
  {
   "cell_type": "markdown",
   "id": "3",
   "metadata": {},
   "source": [
    "#### Figure 6.2.2"
   ]
  },
  {
   "cell_type": "markdown",
   "id": "4",
   "metadata": {},
   "source": [
    "The figure shows four rows of boxes.\n",
    "The first row has three boxes containing numbers 123, 100542 and 1423208.\n",
    "These are the first addresses of the other rows of boxes. Each first row box\n",
    "occupies 4&nbsp;bytes, indicated by the addresses above the boxes\n",
    "going from 1050 to 1053 for the left-hand box, 1054 to 1057 for the middle box\n",
    "and 1058 to 1061 for the right-hand box.\n",
    "The second row of boxes are the same as in the previous figure:\n",
    "three boxes with uppercase H, lowercase i and an exclamation mark inside them,\n",
    "and addresses 123 to 128 over them.\n",
    "The third row has two boxes, with uppercase G and lowercase o inside them,\n",
    "and addresses 100542 to 100545 above them.\n",
    "The fourth row has four boxes, with lowercase l, e, f and t inside,\n",
    "and addresses 1423208 to 1423215 above them."
   ]
  },
  {
   "cell_type": "markdown",
   "id": "5",
   "metadata": {},
   "source": [
    "#### Figure 6.2.3"
   ]
  },
  {
   "cell_type": "markdown",
   "id": "6",
   "metadata": {},
   "source": [
    "The figure shows four separate groups of boxes.\n",
    "Three of the groups contain the words Hi!, Go and left,\n",
    "with one character per box.\n",
    "The fourth group has three boxes, each containing the start of an arrow.\n",
    "Each of the three arrows ends below the first box of one of the other three groups.\n",
    "The arrow starting in the left-hand box points to H (the first box of Hi!),\n",
    "the arrow starting in the middle box points to G (the first box of Go) and\n",
    "the arrow starting in the right-hand box points to l\n",
    "(the first box of left)."
   ]
  },
  {
   "cell_type": "markdown",
   "id": "7",
   "metadata": {},
   "source": [
    "#### Figure 6.2.4"
   ]
  },
  {
   "cell_type": "markdown",
   "id": "8",
   "metadata": {},
   "source": [
    "The figure shows variable names pair, point, x and y.\n",
    "Names pair and point have arrows next to them leading to a pair of boxes.\n",
    "The first box has an arrow that leads to a separate box, with number 1 in it.\n",
    "The second box has an arrow that leads to a separate box, with number 2 in it.\n",
    "Variable name x has an arrow that leads to the box with the number 1.\n",
    "Variable y has an arrow that leads to the box with the number 2."
   ]
  },
  {
   "cell_type": "markdown",
   "id": "9",
   "metadata": {},
   "source": [
    "#### Figure 6.2.5"
   ]
  },
  {
   "cell_type": "markdown",
   "id": "10",
   "metadata": {},
   "source": [
    "This figure is the same as the previous one, but the arrow next to\n",
    "variable y is no longer pointing at the box with number 2. Instead, it's\n",
    "pointing at a new box with number 3."
   ]
  },
  {
   "cell_type": "markdown",
   "id": "11",
   "metadata": {},
   "source": [
    "#### Figure 6.2.6"
   ]
  },
  {
   "cell_type": "markdown",
   "id": "12",
   "metadata": {},
   "source": [
    "This figure is the same as the previous one, but the arrow stemming from\n",
    "the second of the pair of boxes is no longer pointing at the box with number 2.\n",
    "Instead, it's pointing at yet another new box with number 3,\n",
    "so there are two boxes with number 3: one has an arrow from variable y,\n",
    "the other has an arrow from the second of the pair of boxes.\n",
    "The box with number 2&nbsp;has no arrows leading to it."
   ]
  },
  {
   "cell_type": "markdown",
   "id": "13",
   "metadata": {},
   "source": [
    "⟵ [Previous section](Figures_04.ipynb) | [Up](33-introduction.ipynb) | [Next section](Figures_07.ipynb) ⟶"
   ]
  }
 ],
 "metadata": {
  "kernelspec": {
   "display_name": "Python 3",
   "language": "python",
   "name": "python3"
  },
  "language_info": {
   "codemirror_mode": {
    "name": "ipython",
    "version": 3
   },
   "file_extension": ".py",
   "mimetype": "text/x-python",
   "name": "python",
   "nbconvert_exporter": "python",
   "pygments_lexer": "ipython3",
   "version": "3.12.10"
  }
 },
 "nbformat": 4,
 "nbformat_minor": 5
}
