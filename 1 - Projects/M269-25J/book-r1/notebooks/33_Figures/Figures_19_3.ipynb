{
 "cells": [
  {
   "cell_type": "markdown",
   "id": "0",
   "metadata": {},
   "source": [
    "### 31.11.1 Beams"
   ]
  },
  {
   "cell_type": "markdown",
   "id": "1",
   "metadata": {},
   "source": [
    "#### Figure 19.3.1"
   ]
  },
  {
   "cell_type": "markdown",
   "id": "2",
   "metadata": {},
   "source": [
    "This circle-and-line diagram shows an undirected unweighted graph with\n",
    "six nodes, labelled from 1 to 6, and six edges.\n",
    "The nodes are organised in two rows. In the top row,\n",
    "nodes 1 and 2 are connected, and nodes 3 and 4 are connected.\n",
    "In the bottom row, node 5 is connected to node 2 above it,\n",
    "and node 6 is connected to nodes 2, 3 and 4."
   ]
  },
  {
   "cell_type": "markdown",
   "id": "3",
   "metadata": {},
   "source": [
    "#### Figure 19.3.2"
   ]
  },
  {
   "cell_type": "markdown",
   "id": "4",
   "metadata": {},
   "source": [
    "This circle-and-line diagram shows an undirected unweighted graph with\n",
    "six nodes, labelled from 1 to 6, and six edges.\n",
    "The nodes are organised in two rows. In the top row,\n",
    "nodes 1 and 2 are connected, and nodes 3 and 4 are connected.\n",
    "In the bottom row, node 5 is connected to node 2 above it,\n",
    "and node 6 is connected to nodes 2, 3 and 4."
   ]
  },
  {
   "cell_type": "markdown",
   "id": "5",
   "metadata": {},
   "source": [
    "#### Figure 19.3.3"
   ]
  },
  {
   "cell_type": "markdown",
   "id": "6",
   "metadata": {},
   "source": [
    "This circle-and-line diagram shows an undirected unweighted graph with four\n",
    "nodes and two edges. Nodes 1 and 2 are connected. Nodes 3 and 4 are connected."
   ]
  },
  {
   "cell_type": "markdown",
   "id": "7",
   "metadata": {},
   "source": [
    "⟵ [Previous section](Figures_18.ipynb) | [Up](33-introduction.ipynb) | [Next section](Figures_21.ipynb) ⟶"
   ]
  }
 ],
 "metadata": {
  "kernelspec": {
   "display_name": "Python 3",
   "language": "python",
   "name": "python3"
  },
  "language_info": {
   "codemirror_mode": {
    "name": "ipython",
    "version": 3
   },
   "file_extension": ".py",
   "mimetype": "text/x-python",
   "name": "python",
   "nbconvert_exporter": "python",
   "pygments_lexer": "ipython3",
   "version": "3.12.10"
  }
 },
 "nbformat": 4,
 "nbformat_minor": 5
}
