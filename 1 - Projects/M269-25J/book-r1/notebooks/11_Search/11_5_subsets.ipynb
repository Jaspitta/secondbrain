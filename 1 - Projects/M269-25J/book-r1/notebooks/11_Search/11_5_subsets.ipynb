{
 "cells": [
  {
   "cell_type": "markdown",
   "id": "0",
   "metadata": {},
   "source": [
    "## 11.5 Searching subsets"
   ]
  },
  {
   "cell_type": "markdown",
   "id": "1",
   "metadata": {},
   "source": [
    "For the TSP, the order in which places are visited impacts the total cost\n",
    "and so the output must be a sequence. For other problems,\n",
    "the output is a set and we must generate subsets instead of permutations of\n",
    "a collection of items. Here's one such problem."
   ]
  },
  {
   "cell_type": "markdown",
   "id": "2",
   "metadata": {},
   "source": [
    "### 11.5.1 Problem"
   ]
  },
  {
   "cell_type": "markdown",
   "id": "3",
   "metadata": {},
   "source": [
    "Many products (cars, dishwashers, etc.) are designed and manufactured\n",
    "as product lines with a set of configurable features, to reduce costs.\n",
    "Not all features are compatible with each other, e.g. the features\n",
    "'petrol engine' and 'diesel engine' are mutually incompatible.\n",
    "\n",
    "Given the features and the pairs of incompatible features,\n",
    "how many different products can be made? This is another example of a CSP:\n",
    "the constraints are given as incompatible feature pairs."
   ]
  },
  {
   "cell_type": "markdown",
   "id": "4",
   "metadata": {},
   "source": [
    "<div class=\"alert alert-info\">\n",
    "<strong>Info:</strong> This is an adaptation of problem\n",
    "<a href=\"https://open.kattis.com/problems/geppetto\">Geppetto</a>.\n",
    "</div>"
   ]
  },
  {
   "cell_type": "markdown",
   "id": "5",
   "metadata": {},
   "source": [
    "Here's one possible definition of the problem.\n",
    "How each feature is represented (an integer, a string, etc.) is irrelevant.\n",
    "\n",
    "**Function**: feasible products\\\n",
    "**Inputs**:\n",
    "*features*, a set of objects; *incompatible*, a set of pairs of objects\\\n",
    "**Preconditions**:\n",
    "\n",
    "- *features* isn't empty\n",
    "- every pair in *incompatible* consists of two different objects in *features*\n",
    "- if *incompatible* has feature pair (A, B), then it hasn't pair (B, A)\n",
    "\n",
    "**Output**: *products*, an integer\\\n",
    "**Postconditions**: *products* is the number of non-empty subsets of *features* that don't contain a pair of objects in *incompatible*\n",
    "\n",
    "The second precondition states that no feature is incompatible with itself.\n",
    "The third precondition prevents redundant incompatibility information.\n",
    "\n",
    "Let's think about some tests. What are the edge cases?\n",
    "\n",
    "___\n",
    "\n",
    "The smallest possible input is a single feature which therefore\n",
    "has no incompatibilities.\n",
    "Other edges cases (with more than one feature) are no incompatibilities\n",
    "and all features are mutually incompatible.\n",
    "\n",
    "To keep lines of code short, I represent features with integers instead of\n",
    "strings. I use tuples to represent pairs."
   ]
  },
  {
   "cell_type": "code",
   "execution_count": 1,
   "id": "6",
   "metadata": {},
   "outputs": [
    {
     "name": "stdout",
     "output_type": "stream",
     "text": [
      "Error: in test \"smallest input\", {} must have type set.\n",
      "Error: in test \"all compatible\", {} must have type set.\n"
     ]
    }
   ],
   "source": [
    "from algoesup import check_tests\n",
    "\n",
    "feasible_products_tests = [\n",
    "    # case,             features,     incompatible, products\n",
    "    ('smallest input',  {1},          {},                 1),\n",
    "    ('all compatible',  {1, 2},       {},                 3),\n",
    "    ('no compatible',   {1, 2},       {(1, 2)},           2),\n",
    "    ('some compatible', {1, 2, 3, 4}, {(1, 2), (3, 4)},   8)\n",
    "]\n",
    "\n",
    "check_tests(feasible_products_tests, [set, set, int])"
   ]
  },
  {
   "cell_type": "markdown",
   "id": "7",
   "metadata": {},
   "source": [
    "The 'all compatible' test has output 3 because there are\n",
    "two products with one feature each and one product with both features.\n",
    "The latter isn't a feasible product when both features are incompatible,\n",
    "so there are only two single-feature products for the 'no compatible' test.\n",
    "\n",
    "Can you explain why there are eight feasible products for the last problem instance?\n",
    "\n",
    "___\n",
    "\n",
    "There are four single-feature products and another four products with\n",
    "two features: one from the first incompatible pair and\n",
    "another from the second pair.\n",
    "Those four products have features 1 and 3, 1 and 4, 2 and 3, and 2 and 4.\n",
    "There are no products with three or four features as they would include\n",
    "two incompatible features."
   ]
  },
  {
   "cell_type": "markdown",
   "id": "8",
   "metadata": {},
   "source": [
    "### 11.5.2 Algorithm"
   ]
  },
  {
   "cell_type": "markdown",
   "id": "9",
   "metadata": {},
   "source": [
    "The problem can be solved with an exhaustive search:\n",
    "generate each non-empty subset of features and test whether it includes\n",
    "a pair of incompatible features. If not, we found a subset of compatible\n",
    "features and can increment the product counter.\n",
    "To check if a candidate feature subset is a solution,\n",
    "we make a linear search over all\n",
    "pairs of incompatible features and test if both are in the current candidate.\n",
    "\n",
    "The overall algorithm thus consists of an exhaustive search within\n",
    "an exhaustive search.\n",
    "\n",
    "In mathematics, a ***k*-combination** is a selection of *k* items\n",
    "from a collection, without considering the order in which they were selected.\n",
    "If the collection from which items are selected is a set,\n",
    "then a *k*-combination is a subset of size *k*.\n",
    "The 0-combination is the empty set.\n",
    "\n",
    "For this problem, *k* is the number of features to be put in the product.\n",
    "The algorithm has to generate and test all *k*-combinations,\n",
    "for each *k* from 1 to the total number of features.\n",
    "\n",
    "1. let *products* be 0\n",
    "2. for each *k* from 1 to │*features*│:\n",
    "   1. for each *product* that is a *k*-combination of *features*:\n",
    "      1. if feasible(*product*, *incompatible*):\n",
    "         1. let *products* be *products* + 1\n",
    "\n",
    "Step&nbsp;2.1.1 tests the current product candidate with\n",
    "an auxiliary Boolean function that does the linear search."
   ]
  },
  {
   "cell_type": "markdown",
   "id": "10",
   "metadata": {},
   "source": [
    "#### Exercise 11.5.1"
   ]
  },
  {
   "cell_type": "markdown",
   "id": "11",
   "metadata": {},
   "source": [
    "Copy the above algorithm and change it so that\n",
    "instead of the number of feasible products\n",
    "it computes a largest set of mutually compatible features.\n",
    "(This is known as the **maximal independent set** problem.)\n",
    "The output variable should be called *compatible*."
   ]
  },
  {
   "cell_type": "markdown",
   "id": "12",
   "metadata": {},
   "source": [
    "_Write your answer here._"
   ]
  },
  {
   "cell_type": "markdown",
   "id": "13",
   "metadata": {},
   "source": [
    "[Answer](../32_Answers/Answers_11_5_01.ipynb)"
   ]
  },
  {
   "cell_type": "markdown",
   "id": "14",
   "metadata": {},
   "source": [
    "### 11.5.3 Complexity"
   ]
  },
  {
   "cell_type": "markdown",
   "id": "15",
   "metadata": {},
   "source": [
    "When generating a subset, we have two choices for each item:\n",
    "either we put it in the subset or we don't.\n",
    "This means there are 2ⁿ subsets of a set with *n* items.\n",
    "\n",
    "A simple rule of thumb is that $2^{10m} = (2^{10})^m = 1024^m$ is about\n",
    "$1000^m$, so sets of 10, 20 and 30 items ($m$ is 1, 2, and 3)\n",
    "have about a thousand, a million and a billion subsets, respectively.\n",
    "\n",
    "The algorithm does a linear search over the incompatible pairs for each subset.\n",
    "The worst-case complexity is therefore Θ(2ⁿ × │*incompatible*│),\n",
    "with *n* = │*features*│.\n",
    "The complexity is said to be **exponential** when it's of the form *c*ⁿ, with\n",
    "*c* some constant greater than one and *n* the size of one of the inputs."
   ]
  },
  {
   "cell_type": "markdown",
   "id": "16",
   "metadata": {},
   "source": [
    "<div class=\"alert alert-info\">\n",
    "<strong>Info:</strong> MU123 Unit&nbsp;13 and MST124 Unit&nbsp;3 Section&nbsp;4 introduce exponential functions.\n",
    "</div>"
   ]
  },
  {
   "cell_type": "markdown",
   "id": "17",
   "metadata": {},
   "source": [
    "Exponential algorithms with *c* = 2 become slow very fast,\n",
    "but not as fast as factorial algorithms,\n",
    "which take eons to finish even for very small inputs,\n",
    "assuming the hardware would last that long.\n",
    "Here's a comparison of several functions.\n",
    "\n",
    "n  |  n² |    n³ |        2ⁿ | n!\n",
    "-:|-:|-:|-:|-:\n",
    " 0 |    0 |      0 |          1 |                                  1\n",
    " 5 |   25 |    125 |         32 |                                120\n",
    "10 |  100 |  1,000 |      1,024 |                          3,628,800\n",
    "15 |  225 |  3,375 |     32,768 |                  1,307,674,368,000\n",
    "20 |  400 |  8,000 |  1,048,576 |          2,432,902,008,176,640,000\n",
    "25 |  625 | 15,625 | 33,554,432 | 15,511,210,043,330,985,984,000,000\n",
    "\n",
    "For example, if generating and testing one subset of features takes 1&nbsp;ms, then\n",
    "the exponential algorithm takes about 33.5 thousand seconds (that's over 9&nbsp;hours!)\n",
    "for 25 features, a rather small input value.\n",
    "\n",
    "If generating one tour and computing its cost also takes 1&nbsp;ms, then the\n",
    "factorial exhaustive search algorithm for the TSP in the previous section takes"
   ]
  },
  {
   "cell_type": "code",
   "execution_count": 2,
   "id": "18",
   "metadata": {},
   "outputs": [
    {
     "name": "stdout",
     "output_type": "stream",
     "text": [
      "491857 billion years\n"
     ]
    }
   ],
   "source": [
    "from math import factorial\n",
    "\n",
    "MS_PER_YEAR = 365 * 24 * 60 * 60 * 1000  # milliseconds in a year\n",
    "print(factorial(25) // MS_PER_YEAR // 1000**3, \"billion years\")"
   ]
  },
  {
   "cell_type": "markdown",
   "id": "19",
   "metadata": {},
   "source": [
    "to find the best tour to visit 25 places and return to the start place."
   ]
  },
  {
   "cell_type": "markdown",
   "id": "20",
   "metadata": {},
   "source": [
    "<div class=\"alert alert-warning\">\n",
    "<strong>Note:</strong> Algorithms with best-case exponential complexity can only be applied\n",
    "to very small input values.\n",
    "Algorithms with best-case factorial complexity are practically useless.\n",
    "</div>"
   ]
  },
  {
   "cell_type": "markdown",
   "id": "21",
   "metadata": {},
   "source": [
    "### 11.5.4 Code"
   ]
  },
  {
   "cell_type": "markdown",
   "id": "22",
   "metadata": {},
   "source": [
    "To generate subsets, we'll use another function from the `itertools` module:\n",
    "`combinations`. It takes a collection of items and an integer *k*,\n",
    "and generates one by one all *k*-combinations of those items.\n",
    "Each combination is represented with a tuple although conceptually it's a set.\n",
    "Here's a simple example."
   ]
  },
  {
   "cell_type": "code",
   "execution_count": 3,
   "id": "23",
   "metadata": {},
   "outputs": [
    {
     "name": "stdout",
     "output_type": "stream",
     "text": [
      "()\n",
      "('some',)\n",
      "('words',)\n",
      "('some', 'words')\n"
     ]
    }
   ],
   "source": [
    "from itertools import combinations\n",
    "\n",
    "items = {\"some\", \"words\"}\n",
    "for size in range(len(items) + 1):\n",
    "    for subset in combinations(items, size):\n",
    "        print(subset)"
   ]
  },
  {
   "cell_type": "markdown",
   "id": "24",
   "metadata": {},
   "source": [
    "Let's implement the algorithm above."
   ]
  },
  {
   "cell_type": "code",
   "execution_count": 4,
   "id": "25",
   "metadata": {},
   "outputs": [
    {
     "name": "stdout",
     "output_type": "stream",
     "text": [
      "Testing feasible_products...\n",
      "Tests finished: 4 passed (100%), 0 failed.\n"
     ]
    }
   ],
   "source": [
    "from itertools import combinations\n",
    "from algoesup import test\n",
    "\n",
    "\n",
    "def feasible_products(features: set, incompatible: set) -> int:\n",
    "    \"\"\"Return the number of subsets of features without incompatibilities.\n",
    "\n",
    "    Preconditions:\n",
    "    - len(features) > 0\n",
    "    - incompatible is a set of pairs of distinct elements of features\n",
    "    - if pair (a, b) is in incompatible, pair (b, a) isn't\n",
    "    \"\"\"\n",
    "\n",
    "    def feasible(product: tuple) -> bool:\n",
    "        \"\"\"Check if product hasn't two incompatible features.\"\"\"\n",
    "        for pair in incompatible:\n",
    "            if pair[0] in product and pair[1] in product:\n",
    "                return False\n",
    "        return True\n",
    "\n",
    "    products = 0\n",
    "    for size in range(1, len(features) + 1):\n",
    "        for product in combinations(features, size):\n",
    "            if feasible(product):\n",
    "                products = products + 1\n",
    "    return products\n",
    "\n",
    "\n",
    "test(feasible_products, feasible_products_tests)"
   ]
  },
  {
   "cell_type": "markdown",
   "id": "26",
   "metadata": {},
   "source": [
    "#### Exercise 11.5.2"
   ]
  },
  {
   "cell_type": "markdown",
   "id": "27",
   "metadata": {},
   "source": [
    "The **0/1 knapsack** problem, another classic optimisation problem,\n",
    "goes as follows.\n",
    "Given a set of items as weight–value pairs,\n",
    "and given the largest weight a rucksack can carry without bursting,\n",
    "find the highest-valued subset of items that can be packed.\n",
    "\n",
    "The name of the problem comes from the fact that the solution has\n",
    "0 or 1 of each item.\n",
    "\n",
    "Outline an algorithm."
   ]
  },
  {
   "cell_type": "markdown",
   "id": "28",
   "metadata": {},
   "source": [
    "_Write your answer here._"
   ]
  },
  {
   "cell_type": "markdown",
   "id": "29",
   "metadata": {},
   "source": [
    "[Hint](../31_Hints/Hints_11_5_02.ipynb)\n",
    "[Answer](../32_Answers/Answers_11_5_02.ipynb)"
   ]
  },
  {
   "cell_type": "markdown",
   "id": "30",
   "metadata": {},
   "source": [
    "⟵ [Previous section](11_4_permutations.ipynb) | [Up](11-introduction.ipynb) | [Next section](11_6_practice.ipynb) ⟶"
   ]
  }
 ],
 "metadata": {
  "kernelspec": {
   "display_name": "Python 3",
   "language": "python",
   "name": "python3"
  },
  "language_info": {
   "codemirror_mode": {
    "name": "ipython",
    "version": 3
   },
   "file_extension": ".py",
   "mimetype": "text/x-python",
   "name": "python",
   "nbconvert_exporter": "python",
   "pygments_lexer": "ipython3",
   "version": "3.12.10"
  }
 },
 "nbformat": 4,
 "nbformat_minor": 5
}
