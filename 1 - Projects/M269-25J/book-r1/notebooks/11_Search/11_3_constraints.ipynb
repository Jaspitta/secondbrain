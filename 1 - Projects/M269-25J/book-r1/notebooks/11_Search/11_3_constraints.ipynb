{
 "cells": [
  {
   "cell_type": "markdown",
   "id": "0",
   "metadata": {},
   "source": [
    "## 11.3 Constraint satisfaction"
   ]
  },
  {
   "cell_type": "markdown",
   "id": "1",
   "metadata": {},
   "source": [
    "Sometimes we must search for each item that satisfies the conditions.\n",
    "Other times we must search for multiple items that *together* satisfy the conditions.\n",
    "That's a form of **constraint satisfaction problem** (**CSP**). The earlier\n",
    "example of checking if a password is valid is a CSP with two constraints:\n",
    "the string must include a lowercase letter and a digit.\n",
    "We search for two candidates (characters) that together\n",
    "satisfy the conditions because no character can satisfy both by itself.\n",
    "\n",
    "CSPs occur often in business, engineering, manufacturing and many other domains.\n",
    "A classic CSP is timetabling: which class should be taught where and when?\n",
    "Constraints include teaching each class in a sufficiently large room,\n",
    "teaching some classes in specialised rooms (e.g. labs), and making sure\n",
    "no one is scheduled for different classes at the same time.\n",
    "\n",
    "Constraints are often described with mathematical equations or inequalities.\n",
    "Solving a CSP amounts to assigning values to all variables so that the\n",
    "constraints are satisfied.\n",
    "There are advanced specialised techniques to solve CSPs.\n",
    "In M269 we'll solve them with exhaustive search only.\n",
    "\n",
    "This section introduces more techniques to make exhaustive search faster."
   ]
  },
  {
   "cell_type": "markdown",
   "id": "2",
   "metadata": {},
   "source": [
    "### 11.3.1 Problem"
   ]
  },
  {
   "cell_type": "markdown",
   "id": "3",
   "metadata": {},
   "source": [
    "Consider the following CSP.\n",
    "\n",
    "> Given positive integers *sum*, *product* and *square sum*,\n",
    "> find all distinct integers *x*, *y* and *z* such that\n",
    "> *x*+*y*+*z* = *sum*, *x*×*y*×*z* = *product* and\n",
    "> *x*² + *y*² + *z*² = *square sum*.\n",
    "\n",
    "This problem has three constraints in the form of equations\n",
    "and another three constraints in the form of inequalities:\n",
    "*x* ≠ *y*, *y* ≠ *z* and *z* ≠ *x*.\n",
    "\n",
    "Some examples:\n",
    "\n",
    "*sum* | *product* | *square sum* | *x* | *y* | *z*\n",
    "-|-|-|-|-|-\n",
    "6 | 6 | 14 | 1 | 2 | 3\n",
    "0 | 6 | 14 | −1 | −2 | 3\n",
    "21 | 336  | 149 | 6 | 7 | 8\n",
    "33 | 1320 | 365 | 10 | 11 | 12\n",
    "\n",
    "Note that this isn't a test table because the problem asks for all\n",
    "solutions *x*, *y*, *z* for each input, but I've provided only one.\n",
    "I actually don't know whether there are other solutions for these inputs."
   ]
  },
  {
   "cell_type": "markdown",
   "id": "4",
   "metadata": {},
   "source": [
    "<div class=\"alert alert-info\">\n",
    "<strong>Info:</strong> This is a slightly modified version of problem\n",
    "<a href=\"https://onlinejudge.org/external/115/11565.pdf\">Simple Equations</a>.\n",
    "</div>"
   ]
  },
  {
   "cell_type": "markdown",
   "id": "5",
   "metadata": {},
   "source": [
    "### 11.3.2 Algorithm and complexity"
   ]
  },
  {
   "cell_type": "markdown",
   "id": "6",
   "metadata": {},
   "source": [
    "The solutions are triples of integers, so\n",
    "the output will be a set of tuples (*x*, *y*, *z*).\n",
    "We generate all possible triples with three nested loops.\n",
    "First we must determine a range of possible candidates for each integer.\n",
    "\n",
    "The sum doesn't constrain the values: I can set *x* as small or large as I want\n",
    "and still find a solution (*y* = –*x* and *z* = *sum*).\n",
    "However, the product equation forces each value to be in the range\n",
    "from –*product* to *product*. If any value is outside that range, then\n",
    "one of the other two is a real number between −1 and 1, not an integer.\n",
    "\n",
    "1. let *solutions* be the empty set\n",
    "1. for each *x* from –*product* to *product*:\n",
    "   1. for each *y* from –*product* to *product*:\n",
    "      1. for each *z* from –*product* to *product*:\n",
    "         1. if *x*, *y* and *z* satisfy the constraints:\n",
    "            1. add (*x*, *y*, *z*) to *solutions*\n",
    "\n",
    "Steps 2, 2.1 and 2.1.1 generate the candidates and step&nbsp;2.1.1.1 tests them:\n",
    "it checks *x* ≠ *y* ≠ *z* ≠ *x* and the three equations.\n",
    "A single Boolean expression for checking four constraints is too long,\n",
    "so I'll implement the test with a separate auxiliary function.\n",
    "\n",
    "Each for-loop does 2 × *product* + 1 iterations: –*product*, ..., –1, 0, 1, ..., *product*.\n",
    "Testing a candidate requires a fixed number of arithmetic operations.\n",
    "The overall complexity is (2 × *product* + 1)³ × Θ(1) = Θ(*product*³)\n",
    "because constants are ignored.\n",
    "\n",
    "This is called **cubic** complexity.\n",
    "Quadratic algorithms are to be avoided when possible;\n",
    "cubic algorithms even more so."
   ]
  },
  {
   "cell_type": "markdown",
   "id": "7",
   "metadata": {},
   "source": [
    "### 11.3.3 Code and performance"
   ]
  },
  {
   "cell_type": "markdown",
   "id": "8",
   "metadata": {},
   "source": [
    "Let's implement the algorithm to see how slowly it runs. For the Python code,\n",
    "I'll use the name `addition` instead of `sum` as the latter is a built-in function.\n",
    "\n",
    "In Python we can nest functions inside each other.\n",
    "This is useful to write auxiliary functions that aren't used by anyone else.\n",
    "The inner function can access the arguments of the outer function."
   ]
  },
  {
   "cell_type": "code",
   "execution_count": 1,
   "id": "9",
   "metadata": {},
   "outputs": [],
   "source": [
    "def equations(addition: int, product: int, square_sum: int) -> set:\n",
    "    \"\"\"Return all triples that satisfy the constraints.\n",
    "\n",
    "    Preconditions: addition > 0, product > 0, square_sum > 0\n",
    "    Postconditions: the output has exactly all (x, y, z) such that\n",
    "    - x ≠ y ≠ z ≠ x and x, y, z are integers\n",
    "    - x+y+z = addition, x*y*z = product, x² + y² + z² = square_sum\n",
    "    \"\"\"\n",
    "\n",
    "    def satisfies(x: int, y: int, z: int) -> bool:\n",
    "        \"\"\"Check if x, y and z satisfy the constraints.\"\"\"\n",
    "        if x == y or y == z or z == x:\n",
    "            return False\n",
    "        if x + y + z != addition or x * y * z != product:\n",
    "            return False\n",
    "        return x * x + y * y + z * z == square_sum\n",
    "\n",
    "    solutions = set()\n",
    "    for x in range(-product, product + 1):\n",
    "        for y in range(-product, product + 1):\n",
    "            for z in range(-product, product + 1):\n",
    "                if satisfies(x, y, z):\n",
    "                    solutions.add((x, y, z))\n",
    "    return solutions"
   ]
  },
  {
   "cell_type": "markdown",
   "id": "10",
   "metadata": {},
   "source": [
    "Let's test this with the simplest example."
   ]
  },
  {
   "cell_type": "code",
   "execution_count": 2,
   "id": "11",
   "metadata": {},
   "outputs": [
    {
     "data": {
      "text/plain": [
       "{(1, 2, 3), (1, 3, 2), (2, 1, 3), (2, 3, 1), (3, 1, 2), (3, 2, 1)}"
      ]
     },
     "execution_count": 2,
     "metadata": {},
     "output_type": "execute_result"
    }
   ],
   "source": [
    "equations(6, 6, 14)"
   ]
  },
  {
   "cell_type": "markdown",
   "id": "12",
   "metadata": {},
   "source": [
    "Oh dear! We get several times the same solution, only in a different order.\n",
    "I'll deal with that in a moment. First, let's time the execution."
   ]
  },
  {
   "cell_type": "code",
   "execution_count": 3,
   "id": "13",
   "metadata": {},
   "outputs": [
    {
     "name": "stdout",
     "output_type": "stream",
     "text": [
      "143 μs ± 273 ns per loop (mean ± std. dev. of 3 runs, 10,000 loops each)\n"
     ]
    }
   ],
   "source": [
    "%timeit -r 3 equations(6, 6, 14)"
   ]
  },
  {
   "cell_type": "markdown",
   "id": "14",
   "metadata": {},
   "source": [
    "This example (*product* = 6) required (2×6 + 1)³ = 2197 iterations,\n",
    "because each loop goes from −6 to 6. If you divide the time shown by 2197,\n",
    "you will know how long it takes to generate and test each triplet *x*, *y*, *z*.\n",
    "(I don't know the run-time in advance, so you have to do the calculation yourself.)"
   ]
  },
  {
   "cell_type": "markdown",
   "id": "15",
   "metadata": {},
   "source": [
    "#### Exercise 11.3.1"
   ]
  },
  {
   "cell_type": "markdown",
   "id": "16",
   "metadata": {},
   "source": [
    "Now that you know the time it takes to generate and test each triplet,\n",
    "you can estimate the total run-time for any value of *product*.\n",
    "Such back-of-the-envelope estimates of the running time\n",
    "help decide if the performance is acceptable or a better algorithm is needed.\n",
    "\n",
    "Using Python as a calculator, write an expression that computes the\n",
    "time, in seconds, for the algorithm to solve the earlier example with *product* = 336.\n",
    "If you haven't calculated the exact time for each iteration (i.e. triplet),\n",
    "assume each iteration takes 100&nbsp;ns.\n",
    "(There are one billion, i.e. a thousand million, nanoseconds in a second.)"
   ]
  },
  {
   "cell_type": "code",
   "execution_count": 4,
   "id": "17",
   "metadata": {},
   "outputs": [],
   "source": [
    "pass"
   ]
  },
  {
   "cell_type": "markdown",
   "id": "18",
   "metadata": {},
   "source": [
    "Now write an expression to compute the time in minutes for solving the example\n",
    "with *product* = 1320."
   ]
  },
  {
   "cell_type": "code",
   "execution_count": 5,
   "id": "19",
   "metadata": {},
   "outputs": [],
   "source": [
    "pass"
   ]
  },
  {
   "cell_type": "markdown",
   "id": "20",
   "metadata": {},
   "source": [
    "[Hint](../31_Hints/Hints_11_3_01.ipynb)\n",
    "[Answer](../32_Answers/Answers_11_3_01.ipynb)"
   ]
  },
  {
   "cell_type": "markdown",
   "id": "21",
   "metadata": {},
   "source": [
    "<div class=\"alert alert-warning\">\n",
    "<strong>Note:</strong> Knowing the complexity and the run-time for a small input,\n",
    "you can estimate the run-times for large inputs.\n",
    "</div>"
   ]
  },
  {
   "cell_type": "markdown",
   "id": "22",
   "metadata": {},
   "source": [
    "### 11.3.4 Don't generate equivalent candidates"
   ]
  },
  {
   "cell_type": "markdown",
   "id": "23",
   "metadata": {},
   "source": [
    "The algorithm is generating all\n",
    "[permutations](../04_Iteration/04_1_sequences.ipynb#4.1.2.3-Sorting) of the same values\n",
    "because the order in which values are added or multiplied doesn't matter.\n",
    "All those solutions are equivalent; we should generate only one of them.\n",
    "\n",
    "The easiest way to generate only one of several permutations is\n",
    "to sort the values, e.g. to only generate triples with *x* < *y* < *z*.\n",
    "This ensures the three values are distinct by construction, which\n",
    "makes the test simpler and more efficient,\n",
    "as it only has to check the equations.\n",
    "\n",
    "1. let *solutions* be the empty set\n",
    "1. for each *x* from –*product* to *product*:\n",
    "   1. for each *y* from *x* + 1 to *product*:\n",
    "      1. for each *z* from *y* + 1 to *product*:\n",
    "         1. if *x*, *y* and *z* satisfy the equations:\n",
    "            1. add (*x*, *y*, *z*) to *solutions*\n",
    "\n",
    "Imposing an order on the triple's values reduces the size of the output set\n",
    "and, more importantly, of the search space:\n",
    "steps 2.1 and 2.1.1 now generate fewer candidates for *y* and *z*."
   ]
  },
  {
   "cell_type": "markdown",
   "id": "24",
   "metadata": {},
   "source": [
    "### 11.3.5 Reduce the range"
   ]
  },
  {
   "cell_type": "markdown",
   "id": "25",
   "metadata": {},
   "source": [
    "Another technique is to avoid generating candidates that will fail the test.\n",
    "In the case of integers, that means making the range of candidates as small as\n",
    "possible, while still making sure it contains all solutions.\n",
    "\n",
    "We only used the product equation to set the initial search space.\n",
    "The equation\n",
    "\n",
    "*x*² + *y*² + *z*² = *square sum*\n",
    "\n",
    "may be useful too.\n",
    "Square numbers are never negative: if any of them\n",
    "is larger than *square sum*, then the constraint can't be satisfied.\n",
    "So *x*, *y* and *z* must be in the range\n",
    "–$\\sqrt{\\textit{square sum}}$ to $\\sqrt{\\textit{square sum}}$.\n",
    "\n",
    "When we have multiple ranges, the values must be in their intersection.\n",
    "In this case, one range is contained in the other, because both go from\n",
    "−*limit* to +*limit* for some integer *limit*, so we take the smallest range.\n",
    "The algorithm becomes:\n",
    "\n",
    "1. let *solutions* be the empty set\n",
    "2. let *limit* be min(*product*, floor($\\sqrt{\\textit{square sum}}$))\n",
    "3. for each *x* from –*limit* to *limit*:\n",
    "   1. for each *y* from *x* + 1 to *limit*:\n",
    "      1. for each *z* from *y* + 1 to *limit*:\n",
    "         1. if *x*, *y* and *z* satisfy the equations:\n",
    "            1. add (*x*, *y*, *z*) to *solutions*\n",
    "\n",
    "Consider the example with *product* = 336 and *square sum* = 149.\n",
    "The original algorithm generates (2 × 336 + 1)³ ≈ 305 million candidates;\n",
    "the new algorithm generates far fewer than\n",
    "(2 × floor($\\sqrt{149}$) + 1)³ = 25³ ≈ 16 thousand, because\n",
    "the loops for *y* and *z* never start at $−\\sqrt{149}$.\n",
    "A vast reduction in the search space!"
   ]
  },
  {
   "cell_type": "markdown",
   "id": "26",
   "metadata": {},
   "source": [
    "### 11.3.6 Compute part of a candidate"
   ]
  },
  {
   "cell_type": "markdown",
   "id": "27",
   "metadata": {},
   "source": [
    "Last but not least,\n",
    "when a constraint creates a dependency between values, we can directly\n",
    "compute one value from the others instead of searching for it."
   ]
  },
  {
   "cell_type": "markdown",
   "id": "28",
   "metadata": {},
   "source": [
    "<div class=\"alert alert-warning\">\n",
    "<strong>Note:</strong> The best way to make searches efficient is to avoid searches.\n",
    "</div>"
   ]
  },
  {
   "cell_type": "markdown",
   "id": "29",
   "metadata": {},
   "source": [
    "For this problem,\n",
    "once we have candidate values for *x* and *y* we can use one equation to\n",
    "determine the value of *z* and then check the other two equations.\n",
    "The sum equation is the simplest to compute *z*.\n",
    "\n",
    "Here's the new algorithm, with sqrt(...) representing the square root function,\n",
    "to simplify the notation.\n",
    "\n",
    "1. let *solutions* be the empty set\n",
    "1. let *limit* be min(*product*, floor(sqrt(*square sum*)))\n",
    "1. for each *x* from –*limit* to *limit*:\n",
    "   1. for each *y* from *x* + 1 to *limit*:\n",
    "      1. let *z* be *sum* − *x* − *y*\n",
    "      1. if *y* < *z* and *x*×*y*×*z* = *product* and *x*²+*y*²+*z*² = *square sum*:\n",
    "         1. add (*x*, *y*, *z*) to *solutions*\n",
    "\n",
    "Since *z* is no longer generated by a loop starting at *y* + 1,\n",
    "we must explicitly check for *y* < *z*.\n",
    "\n",
    "Continuing with the same example, the new algorithm generates at\n",
    "most 25² = 625 candidates, down from 25³ ≈ 16 thousand."
   ]
  },
  {
   "cell_type": "markdown",
   "id": "30",
   "metadata": {},
   "source": [
    "### 11.3.7 Improved code and performance"
   ]
  },
  {
   "cell_type": "markdown",
   "id": "31",
   "metadata": {},
   "source": [
    "Let's implement the final algorithm, test it and\n",
    "measure its performance. I won't repeat the docstring.\n",
    "I will use Python's square root function `sqrt`, defined in module `math`."
   ]
  },
  {
   "cell_type": "code",
   "execution_count": 6,
   "id": "32",
   "metadata": {},
   "outputs": [],
   "source": [
    "import math\n",
    "\n",
    "\n",
    "def fast_equations(addition: int, product: int, square_sum: int) -> set:  # noqa: D103\n",
    "    solutions = set()\n",
    "    limit = min(product, math.floor(math.sqrt(square_sum)))\n",
    "    for x in range(-limit, limit + 1):\n",
    "        for y in range(x + 1, limit + 1):\n",
    "            z = addition - x - y\n",
    "            if y < z and x * y * z == product and x * x + y * y + z * z == square_sum:\n",
    "                solutions.add((x, y, z))\n",
    "    return solutions"
   ]
  },
  {
   "cell_type": "code",
   "execution_count": 7,
   "id": "33",
   "metadata": {},
   "outputs": [
    {
     "name": "stdout",
     "output_type": "stream",
     "text": [
      "{(1, 2, 3)}\n",
      "1.64 μs ± 1.83 ns per loop (mean ± std. dev. of 3 runs, 1,000,000 loops each)\n"
     ]
    }
   ],
   "source": [
    "print(fast_equations(6, 6, 14))\n",
    "%timeit -r 3 fast_equations(6, 6, 14)"
   ]
  },
  {
   "cell_type": "code",
   "execution_count": 8,
   "id": "34",
   "metadata": {},
   "outputs": [
    {
     "name": "stdout",
     "output_type": "stream",
     "text": [
      "{(-2, -1, 3)}\n",
      "1.29 μs ± 2.52 ns per loop (mean ± std. dev. of 3 runs, 1,000,000 loops each)\n"
     ]
    }
   ],
   "source": [
    "print(fast_equations(0, 6, 14))\n",
    "%timeit -r 3 fast_equations(0, 6, 14)"
   ]
  },
  {
   "cell_type": "code",
   "execution_count": 9,
   "id": "35",
   "metadata": {},
   "outputs": [
    {
     "name": "stdout",
     "output_type": "stream",
     "text": [
      "{(6, 7, 8)}\n",
      "15 μs ± 119 ns per loop (mean ± std. dev. of 3 runs, 100,000 loops each)\n"
     ]
    }
   ],
   "source": [
    "print(fast_equations(21, 336, 149))\n",
    "%timeit -r 3 fast_equations(21, 336, 149)"
   ]
  },
  {
   "cell_type": "code",
   "execution_count": 10,
   "id": "36",
   "metadata": {},
   "outputs": [
    {
     "name": "stdout",
     "output_type": "stream",
     "text": [
      "{(10, 11, 12)}\n",
      "35.1 μs ± 15.1 ns per loop (mean ± std. dev. of 3 runs, 10,000 loops each)\n"
     ]
    }
   ],
   "source": [
    "print(fast_equations(33, 1320, 365))\n",
    "%timeit -r 3 fast_equations(33, 1320, 365)"
   ]
  },
  {
   "cell_type": "markdown",
   "id": "37",
   "metadata": {},
   "source": [
    "Now we know: each of these inputs has only one solution.\n",
    "\n",
    "The complexity has gone down from Θ(*product*³) to\\\n",
    "Θ(min(*product*, sqrt(*square sum*))²) =\n",
    "Θ(min(*product*², *square sum*)).\n",
    "\n",
    "An initially cubic algorithm has become quadratic in one input\n",
    "or linear in another,\n",
    "whatever happens to be best for the particular input values.\n",
    "This makes a substantial difference.\n",
    "For *product* = 1320 and *square sum* = 365,\n",
    "an initially expected run-time of 30 minutes (Exercise 11.3.1) shrinks to less than a millisecond.\n",
    "That's the power of systematically thinking about the constraints\n",
    "and using them to reduce the search space."
   ]
  },
  {
   "cell_type": "markdown",
   "id": "38",
   "metadata": {},
   "source": [
    "⟵ [Previous section](11_2_factorisation.ipynb) | [Up](11-introduction.ipynb) | [Next section](11_4_permutations.ipynb) ⟶"
   ]
  }
 ],
 "metadata": {
  "kernelspec": {
   "display_name": "Python 3",
   "language": "python",
   "name": "python3"
  },
  "language_info": {
   "codemirror_mode": {
    "name": "ipython",
    "version": 3
   },
   "file_extension": ".py",
   "mimetype": "text/x-python",
   "name": "python",
   "nbconvert_exporter": "python",
   "pygments_lexer": "ipython3",
   "version": "3.12.10"
  }
 },
 "nbformat": 4,
 "nbformat_minor": 5
}
