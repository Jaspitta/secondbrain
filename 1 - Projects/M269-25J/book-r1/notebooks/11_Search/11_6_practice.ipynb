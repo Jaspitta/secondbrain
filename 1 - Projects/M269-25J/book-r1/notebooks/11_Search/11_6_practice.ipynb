{
 "cells": [
  {
   "cell_type": "markdown",
   "id": "0",
   "metadata": {},
   "source": [
    "## 11.6 Practice"
   ]
  },
  {
   "cell_type": "markdown",
   "id": "1",
   "metadata": {},
   "source": [
    "The following problems can all be solved with some form of exhaustive search.\n",
    "They are in increasing difficulty order, in my opinion.\n",
    "\n",
    "None of the exercises asks for code, but if you have the time,\n",
    "you should try to implement and test at least one of the algorithms."
   ]
  },
  {
   "cell_type": "markdown",
   "id": "2",
   "metadata": {},
   "source": [
    "### 11.6.1 Duplicates"
   ]
  },
  {
   "cell_type": "markdown",
   "id": "3",
   "metadata": {},
   "source": [
    "Given a sequence of items, decide if there are any duplicates,\n",
    "e.g. (1, 'hi', 3, 1, 4) has a duplicate but (4, 'hi', true) hasn't."
   ]
  },
  {
   "cell_type": "markdown",
   "id": "4",
   "metadata": {},
   "source": [
    "#### Exercise 11.6.1"
   ]
  },
  {
   "cell_type": "markdown",
   "id": "5",
   "metadata": {},
   "source": [
    "The Python expression `len(set(items)) < len(items)` does the job for\n",
    "a list of hashable items. Explain why."
   ]
  },
  {
   "cell_type": "markdown",
   "id": "6",
   "metadata": {},
   "source": [
    "_Write your answer here._"
   ]
  },
  {
   "cell_type": "markdown",
   "id": "7",
   "metadata": {},
   "source": [
    "[Answer](../32_Answers/Answers_11_6_01.ipynb)"
   ]
  },
  {
   "cell_type": "markdown",
   "id": "8",
   "metadata": {},
   "source": [
    "#### Exercise 11.6.2"
   ]
  },
  {
   "cell_type": "markdown",
   "id": "9",
   "metadata": {},
   "source": [
    "The previous approach uses extra memory for the set and, in Python,\n",
    "only works for hashable items. Write an exhaustive search algorithm that\n",
    "takes as input a sequence *items* and outputs a Boolean *duplicates*.\n",
    "The algorithm shouldn't use any additional data structures and\n",
    "can only compare items using the (in)equality operation."
   ]
  },
  {
   "cell_type": "markdown",
   "id": "10",
   "metadata": {},
   "source": [
    "_Write your answer here._"
   ]
  },
  {
   "cell_type": "markdown",
   "id": "11",
   "metadata": {},
   "source": [
    "[Hint](../31_Hints/Hints_11_6_02.ipynb)\n",
    "[Answer](../32_Answers/Answers_11_6_02.ipynb)"
   ]
  },
  {
   "cell_type": "markdown",
   "id": "12",
   "metadata": {},
   "source": [
    "#### Exercise 11.6.3"
   ]
  },
  {
   "cell_type": "markdown",
   "id": "13",
   "metadata": {},
   "source": [
    "What are the best- and worst-case complexities of your approach?"
   ]
  },
  {
   "cell_type": "markdown",
   "id": "14",
   "metadata": {},
   "source": [
    "_Write your answer here._"
   ]
  },
  {
   "cell_type": "markdown",
   "id": "15",
   "metadata": {},
   "source": [
    "[Answer](../32_Answers/Answers_11_6_03.ipynb)"
   ]
  },
  {
   "cell_type": "markdown",
   "id": "16",
   "metadata": {},
   "source": [
    "#### Exercise 11.6.4"
   ]
  },
  {
   "cell_type": "markdown",
   "id": "17",
   "metadata": {},
   "source": [
    "Now assume that items are comparable with <, >, ≤, etc.\n",
    "Outline a different exhaustive search approach."
   ]
  },
  {
   "cell_type": "markdown",
   "id": "18",
   "metadata": {},
   "source": [
    "_Write your answer here._"
   ]
  },
  {
   "cell_type": "markdown",
   "id": "19",
   "metadata": {},
   "source": [
    "[Hint](../31_Hints/Hints_11_6_04.ipynb)\n",
    "[Answer](../32_Answers/Answers_11_6_04.ipynb)"
   ]
  },
  {
   "cell_type": "markdown",
   "id": "20",
   "metadata": {},
   "source": [
    "### 11.6.2 Subset sum"
   ]
  },
  {
   "cell_type": "markdown",
   "id": "21",
   "metadata": {},
   "source": [
    "In an [earlier problem](../09_Practice-1/09_3_voucher.ipynb#9.3-Voucher) you were asked to\n",
    "find all pairs of products that together cost exactly a voucher's amount.\n",
    "Let's now consider a more general formulation of that problem:\n",
    "\n",
    "Given a sequence of products and the amount of a voucher,\n",
    "find a subset of products so that their total price comes as close as possible\n",
    "to the voucher amount without exceeding it."
   ]
  },
  {
   "cell_type": "markdown",
   "id": "22",
   "metadata": {},
   "source": [
    "#### Exercise 11.6.5"
   ]
  },
  {
   "cell_type": "markdown",
   "id": "23",
   "metadata": {},
   "source": [
    "What kind of problem is this?"
   ]
  },
  {
   "cell_type": "markdown",
   "id": "24",
   "metadata": {},
   "source": [
    "_Write your answer here._"
   ]
  },
  {
   "cell_type": "markdown",
   "id": "25",
   "metadata": {},
   "source": [
    "[Answer](../32_Answers/Answers_11_6_05.ipynb)"
   ]
  },
  {
   "cell_type": "markdown",
   "id": "26",
   "metadata": {},
   "source": [
    "#### Exercise 11.6.6"
   ]
  },
  {
   "cell_type": "markdown",
   "id": "27",
   "metadata": {},
   "source": [
    "Outline a simple algorithm to solve the problem.\n",
    "You don't need to think about reducing the search space."
   ]
  },
  {
   "cell_type": "markdown",
   "id": "28",
   "metadata": {},
   "source": [
    "_Write your answer here._"
   ]
  },
  {
   "cell_type": "markdown",
   "id": "29",
   "metadata": {},
   "source": [
    "[Hint](../31_Hints/Hints_11_6_06.ipynb)\n",
    "[Answer](../32_Answers/Answers_11_6_06.ipynb)"
   ]
  },
  {
   "cell_type": "markdown",
   "id": "30",
   "metadata": {},
   "source": [
    "#### Exercise 11.6.7"
   ]
  },
  {
   "cell_type": "markdown",
   "id": "31",
   "metadata": {},
   "source": [
    "Can you think of a way of reducing the search space or stopping early\n",
    "to make the exhaustive search more efficient?"
   ]
  },
  {
   "cell_type": "markdown",
   "id": "32",
   "metadata": {},
   "source": [
    "_Write your answer here._"
   ]
  },
  {
   "cell_type": "markdown",
   "id": "33",
   "metadata": {},
   "source": [
    "[Hint](../31_Hints/Hints_11_6_07.ipynb)\n",
    "[Answer](../32_Answers/Answers_11_6_07.ipynb)"
   ]
  },
  {
   "cell_type": "markdown",
   "id": "34",
   "metadata": {},
   "source": [
    "### 11.6.3 Substring"
   ]
  },
  {
   "cell_type": "markdown",
   "id": "35",
   "metadata": {},
   "source": [
    "Imagine Python's `in` operator didn't apply to strings.\n",
    "How could you determine if string *s* is a substring of string *t*?\n",
    "You can assume that *s* isn't longer than *t*;\n",
    "otherwise *s* couldn't be a substring."
   ]
  },
  {
   "cell_type": "markdown",
   "id": "36",
   "metadata": {},
   "source": [
    "#### Exercise 11.6.8"
   ]
  },
  {
   "cell_type": "markdown",
   "id": "37",
   "metadata": {},
   "source": [
    "Outline an algorithm to solve the problem. You can use any\n",
    "[string operation](../04_Iteration/04_9_summary.ipynb#4.9.1-Sequence-operations) you have learned,\n",
    "except the substring operation, of course."
   ]
  },
  {
   "cell_type": "markdown",
   "id": "38",
   "metadata": {},
   "source": [
    "_Write your answer here._"
   ]
  },
  {
   "cell_type": "markdown",
   "id": "39",
   "metadata": {},
   "source": [
    "[Hint](../31_Hints/Hints_11_6_08.ipynb)\n",
    "[Answer](../32_Answers/Answers_11_6_08.ipynb)"
   ]
  },
  {
   "cell_type": "markdown",
   "id": "40",
   "metadata": {},
   "source": [
    "#### Exercise 11.6.9"
   ]
  },
  {
   "cell_type": "markdown",
   "id": "41",
   "metadata": {},
   "source": [
    "What are the worst-case scenario and complexity of your algorithm?"
   ]
  },
  {
   "cell_type": "markdown",
   "id": "42",
   "metadata": {},
   "source": [
    "_Write your answer here._"
   ]
  },
  {
   "cell_type": "markdown",
   "id": "43",
   "metadata": {},
   "source": [
    "[Hint](../31_Hints/Hints_11_6_09.ipynb)\n",
    "[Answer](../32_Answers/Answers_11_6_09.ipynb)"
   ]
  },
  {
   "cell_type": "markdown",
   "id": "44",
   "metadata": {},
   "source": [
    "### 11.6.4 PIN"
   ]
  },
  {
   "cell_type": "markdown",
   "id": "45",
   "metadata": {},
   "source": [
    "Bob forgot his 4-digit PIN. He remembers that all digits are different and that\n",
    "the PIN is divisible by each digit. Find all such PINs to jog Bob's memory."
   ]
  },
  {
   "cell_type": "markdown",
   "id": "46",
   "metadata": {},
   "source": [
    "#### Exercise 11.6.10"
   ]
  },
  {
   "cell_type": "markdown",
   "id": "47",
   "metadata": {},
   "source": [
    "What kind of problem is this?"
   ]
  },
  {
   "cell_type": "markdown",
   "id": "48",
   "metadata": {},
   "source": [
    "_Write your answer here._"
   ]
  },
  {
   "cell_type": "markdown",
   "id": "49",
   "metadata": {},
   "source": [
    "[Answer](../32_Answers/Answers_11_6_10.ipynb)"
   ]
  },
  {
   "cell_type": "markdown",
   "id": "50",
   "metadata": {},
   "source": [
    "#### Exercise 11.6.11"
   ]
  },
  {
   "cell_type": "markdown",
   "id": "51",
   "metadata": {},
   "source": [
    "Outline two different approaches to solve the problem."
   ]
  },
  {
   "cell_type": "markdown",
   "id": "52",
   "metadata": {},
   "source": [
    "_Write your answer here._"
   ]
  },
  {
   "cell_type": "markdown",
   "id": "53",
   "metadata": {},
   "source": [
    "[Hint](../31_Hints/Hints_11_6_11.ipynb)\n",
    "[Answer](../32_Answers/Answers_11_6_11.ipynb)"
   ]
  },
  {
   "cell_type": "markdown",
   "id": "54",
   "metadata": {},
   "source": [
    "#### Exercise 11.6.12"
   ]
  },
  {
   "cell_type": "markdown",
   "id": "55",
   "metadata": {},
   "source": [
    "What is the worst-case complexity of each approach?"
   ]
  },
  {
   "cell_type": "markdown",
   "id": "56",
   "metadata": {},
   "source": [
    "_Write your answer here._"
   ]
  },
  {
   "cell_type": "markdown",
   "id": "57",
   "metadata": {},
   "source": [
    "[Hint](../31_Hints/Hints_11_6_12.ipynb)\n",
    "[Answer](../32_Answers/Answers_11_6_12.ipynb)"
   ]
  },
  {
   "cell_type": "markdown",
   "id": "58",
   "metadata": {},
   "source": [
    "⟵ [Previous section](11_5_subsets.ipynb) | [Up](11-introduction.ipynb) | [Next section](11_7_summary.ipynb) ⟶"
   ]
  }
 ],
 "metadata": {
  "kernelspec": {
   "display_name": "Python 3",
   "language": "python",
   "name": "python3"
  },
  "language_info": {
   "codemirror_mode": {
    "name": "ipython",
    "version": 3
   },
   "file_extension": ".py",
   "mimetype": "text/x-python",
   "name": "python",
   "nbconvert_exporter": "python",
   "pygments_lexer": "ipython3",
   "version": "3.12.10"
  }
 },
 "nbformat": 4,
 "nbformat_minor": 5
}
