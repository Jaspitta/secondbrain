{
 "cells": [
  {
   "cell_type": "markdown",
   "id": "0",
   "metadata": {},
   "source": [
    "# 11 Exhaustive search"
   ]
  },
  {
   "cell_type": "markdown",
   "id": "1",
   "metadata": {},
   "source": [
    "Previous chapters covered the basic 'ingredients' of algorithms:\n",
    "sequence, selection, iteration, and the ordered and unordered ADTs and\n",
    "data structures used by most algorithms. This and the following chapters build on that foundation to explain the main general algorithmic techniques.\n",
    "New ADTs and data structures will still be introduced, as needed.\n",
    "\n",
    "When it's not possible to compute a solution directly from the problem instance,\n",
    "one general approach is to systematically\n",
    "generate all possible candidates, i.e. all *potential* solutions,\n",
    "and for each candidate, check whether it's an *actual* solution to the problem.\n",
    "Such an approach is called **brute-force search** or\n",
    "**exhaustive search**. The candidates generated are the **search space**.\n",
    "\n",
    "Brute-force search is a special case of a **generate and test** algorithm,\n",
    "which generates one object at a time and tests it for some properties.\n",
    "In brute-force search, each possible candidate is generated and then tested against the search criteria.\n",
    "In chapter&nbsp;13 you will learn about binary search, another example of a generate and test algorithm,\n",
    "but that doesn't generate all candidates."
   ]
  },
  {
   "cell_type": "markdown",
   "id": "2",
   "metadata": {},
   "source": [
    "<div class=\"alert alert-info\">\n",
    "<strong>Info:</strong> Other authors use generate and test as a synonym for exhaustive search,\n",
    "but in M269 generate and test is the general technique,\n",
    "with exhaustive and binary search being examples thereof.\n",
    "</div>"
   ]
  },
  {
   "cell_type": "markdown",
   "id": "3",
   "metadata": {},
   "source": [
    "Exhaustive search is usually a slow technique, as it generates many candidates that\n",
    "turn out not to be solutions. However, if we generate the candidates correctly,\n",
    "then it's guaranteed to find a solution.\n",
    "Brute-force search can be a useful first approach to a problem,\n",
    "to make sure we have a correct algorithm, with appropriate tests,\n",
    "before we try to improve the algorithm with a different technique.\n",
    "\n",
    "To make an exhaustive search faster, we can\n",
    "generate each candidate as fast as possible,\n",
    "test each candidate as fast as possible, or\n",
    "enumerate as few candidates as possible, i.e. reduce the search space.\n",
    "The latter has the most impact on efficiency, but we must ensure that the\n",
    "reduced search space still includes all solutions.\n",
    "\n",
    "This chapter introduces examples of brute-force search\n",
    "and of techniques to reduce the search space.\n",
    "It supports the usual learning outcomes:\n",
    "\n",
    "- Understand the common general-purpose data structures, algorithmic techniques and complexity classes – you will learn about cubic, factorial and exponential complexities.\n",
    "- Develop and apply algorithms and data structures to solve computational problems – you will learn how to apply exhaustive search and how to make it faster.\n",
    "- Explain how an algorithm or data structure works, in order to communicate with relevant stakeholders –\n",
    "  several algorithms in this chapter are only outlined, not fully implemented.\n",
    "- Write readable, tested, documented and efficient Python code – this chapter introduces inner functions to better structure the code.\n",
    "\n",
    "Before starting to work on this chapter, check the M269\n",
    "[news](https://learn2.open.ac.uk/blocks/news/all.php?bi=326014) and [errata](https://learn2.open.ac.uk/mod/url/view.php?id=2554721),\n",
    "and check the TMAs for what is assessed."
   ]
  },
  {
   "cell_type": "markdown",
   "id": "4",
   "metadata": {
    "nbsphinx-toctree": {
     "hidden": true,
     "maxdepth": 1,
     "numbered": false
    }
   },
   "source": [
    "1. [Linear search, again](11_1_linear.ipynb)\n",
    "1. [Factorisation](11_2_factorisation.ipynb)\n",
    "1. [Constraint satisfaction](11_3_constraints.ipynb)\n",
    "1. [Searching permutations](11_4_permutations.ipynb)\n",
    "1. [Searching subsets](11_5_subsets.ipynb)\n",
    "1. [Practice](11_6_practice.ipynb)\n",
    "1. [Summary](11_7_summary.ipynb)"
   ]
  },
  {
   "cell_type": "markdown",
   "id": "5",
   "metadata": {},
   "source": [
    "⟵ [Previous chapter](../10_TMA01-2/10-introduction.ipynb) | [Up](../M269.ipynb) | [Next chapter](../12_Recursion/12-introduction.ipynb) ⟶"
   ]
  }
 ],
 "metadata": {
  "kernelspec": {
   "display_name": "Python 3",
   "language": "python",
   "name": "python3"
  },
  "language_info": {
   "codemirror_mode": {
    "name": "ipython",
    "version": 3
   },
   "file_extension": ".py",
   "mimetype": "text/x-python",
   "name": "python",
   "nbconvert_exporter": "python",
   "pygments_lexer": "ipython3",
   "version": "3.12.10"
  }
 },
 "nbformat": 4,
 "nbformat_minor": 5
}
