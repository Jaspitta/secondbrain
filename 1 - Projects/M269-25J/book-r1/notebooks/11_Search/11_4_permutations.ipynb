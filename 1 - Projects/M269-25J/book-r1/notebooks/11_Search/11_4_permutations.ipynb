{
 "cells": [
  {
   "cell_type": "markdown",
   "id": "0",
   "metadata": {},
   "source": [
    "## 11.4 Searching permutations"
   ]
  },
  {
   "cell_type": "markdown",
   "id": "1",
   "metadata": {},
   "source": [
    "As the previous section illustrated, an exhaustive search algorithm with\n",
    "*n* nested loops can generate all permutations of *n* items and\n",
    "test which of them satisfy the search conditions.\n",
    "That's fine if *n* is small and known in advance,\n",
    "but if *n* is an input of the problem, how can we generate the permutations?\n",
    "This section shows how with a classic problem."
   ]
  },
  {
   "cell_type": "markdown",
   "id": "2",
   "metadata": {},
   "source": [
    "### 11.4.1 Problem"
   ]
  },
  {
   "cell_type": "markdown",
   "id": "3",
   "metadata": {},
   "source": [
    "The **travelling salesman problem** (**TSP**) asks to find the shortest way to\n",
    "start in one place, visit other places only once and return to the start place,\n",
    "where 'shortest way' means the least total distance travelled.\n",
    "\n",
    "A **tour** is a route that goes once through each place and\n",
    "returns to the start place, e.g. the route of a truck delivering or collecting\n",
    "goods across multiple places and returning to the warehouse.\n",
    "The TSP is thus asking for the tour with the least total distance,\n",
    "given the distances between *n* places. We assume there are\n",
    "at least two places, in order to travel to a place and back to the start place.\n",
    "\n",
    "If instead of the distance\n",
    "we know the time or cost to go from one place to another,\n",
    "then the TSP asks for the respectively fastest or cheapest tour.\n",
    "If multiple tours are equally short, fast or cheap,\n",
    "then the output can be any of them.\n",
    "\n",
    "Problems that ask for a collection of items that minimise or maximise some\n",
    "quantity are  **optimisation problems**.\n",
    "When talking about optimisation problems in general,\n",
    "the quantity being minimised is traditionally called the **cost**,\n",
    "even if it represents something else, like distance, for particular problems.\n",
    "So, the TSP is an optimisation problem that asks for a tour among *n* places\n",
    "with the lowest cost, given the costs of travelling between any two places."
   ]
  },
  {
   "cell_type": "markdown",
   "id": "4",
   "metadata": {},
   "source": [
    "<div class=\"alert alert-info\">\n",
    "<strong>Info:</strong> The Robotics and AI block of TM129 introduces optimisation problems and the TSP.\n",
    "</div>"
   ]
  },
  {
   "cell_type": "markdown",
   "id": "5",
   "metadata": {},
   "source": [
    "To turn the informal description of the TSP into a problem definition,\n",
    "I must choose how to model places and costs.\n",
    "Whether we're flying around the globe with a band,\n",
    "visiting castles in Scotland or island-hopping in the Azores,\n",
    "it doesn't matter what and where the places are:\n",
    "all we need is the cost of travelling between any two of them.\n",
    "The costs must be given by numbers, so that we can add up the cost of the tour.\n",
    "Although costs are usually positive, I allow for zero and negative numbers,\n",
    "e.g. if we wish to represent the cost below or above a given travel budget.\n",
    "\n",
    "There are several ways of representing the costs between pairs of places.\n",
    "A simple way of quickly looking up costs is to store them in a matrix.\n",
    "This means that places must be represented by natural numbers,\n",
    "in order to index the matrix. We have to decide whether the cost of going\n",
    "from *origin* to *destination* is in\n",
    "row *origin* and column *destination*, or row *destination* and column *origin*.\n",
    "It doesn't matter which way it is, as long as we state it in the preconditions,\n",
    "so that the user knows how to fill the input matrix.\n",
    "\n",
    "Next, the output: the best tour.\n",
    "It can be represented by a sequence of integers,\n",
    "indicating in which order the places are visited.\n",
    "The postconditions must state that all places occur in the tour and\n",
    "that the first and last place are the same.\n",
    "They must also define the optimisation criterion: the tour's cost.\n",
    "\n",
    "**Function**: TSP\\\n",
    "**Inputs**: *costs*, a *n*×*n* matrix of numbers\\\n",
    "**Preconditions**: *n* ≥ 2;\n",
    "*costs*[*i*][*j*] is the cost of travelling from *i* to *j*\\\n",
    "**Output**: *tour*, a sequence of integers\\\n",
    "**Postconditions**:\n",
    "\n",
    "- *tour* has length *n* + 1, with *tour*[0] = *tour*[*n*]\n",
    "- every integer from 0 to *n* − 1 occurs in *tour*\n",
    "- *costs*[*tour*[0]][*tour*[1]] + *costs*[*tour*[1]][*tour*[2]] + ... + *costs*[*tour*[*n* − 1]][*tour*[*n*]] has the lowest possible value\n",
    "\n",
    "Because the tour has length *n* + 1, with one duplicate place,\n",
    "all other places must occur once in the tour.\n",
    "\n",
    "Here's a depiction of the example I'll use, with *n* = 4.\n",
    "In this example, travelling from A to B costs the same as from B to A.\n",
    "The places are numbered from 0 to 3 and indicated by circles.\n",
    "The cost of travelling between two places is indicated\n",
    "next to the line connecting the two places.\n",
    "\n",
    "<p id=\"fig-11.4.1\"></p>\n",
    "\n",
    "*[Figure 11.4.1](../33_Figures/Figures_11_4.ipynb#Figure-11.4.1)*\n",
    "\n",
    "![Image 11_4_tsp.png](11_4_tsp.png)\n",
    "\n",
    "Can you find at least two tours with the same lowest cost?\n",
    "Two tours are different if their start/end place is different or\n",
    "if they visit the places in a different order.\n",
    "\n",
    "___\n",
    "\n",
    "Some of the tours with lowest cost 40 are (0, 1, 3, 2, 0), (1, 3, 2, 0, 1) and\n",
    "(3, 1, 0, 2, 3)."
   ]
  },
  {
   "cell_type": "markdown",
   "id": "6",
   "metadata": {},
   "source": [
    "### 11.4.2 Algorithm"
   ]
  },
  {
   "cell_type": "markdown",
   "id": "7",
   "metadata": {},
   "source": [
    "The exhaustive search algorithm is like a linear search for\n",
    "the best candidate, where the candidates are all possible tours and\n",
    "being better means to have a lower cost.\n",
    "\n",
    "Tours that go through the same places in the same order have the same cost, so\n",
    "to find the best tour it doesn't matter which place we start from,\n",
    "as the example above shows.\n",
    "We can choose place 0 to be the start and end place\n",
    "and generate all permutations of (1, ..., *n* – 1) for the intermediate places.\n",
    "\n",
    "We compute the cost of each candidate tour and see if it improves\n",
    "the current best cost, which is initially infinite.\n",
    "(If we were maximising a quantity, we'd initialise it with negative infinity.)\n",
    "\n",
    "1. let *best cost* be infinite\n",
    "2. for each *places* that is a permutation of (1, 2, ..., *n* – 1):\n",
    "   1. let *this tour* be *places* with 0 prepended and appended\n",
    "   2. let *cost* be *costs*[*this tour*[0]][*this tour*[1]] + ... + *costs*[*this tour*[*n* − 1]][*this tour*[*n*]]\n",
    "   3. if *cost* < *best cost*:\n",
    "      1. let *best cost* be *cost*\n",
    "      2. let *tour* be *this tour*"
   ]
  },
  {
   "cell_type": "markdown",
   "id": "8",
   "metadata": {},
   "source": [
    "#### Exercise 11.4.1"
   ]
  },
  {
   "cell_type": "markdown",
   "id": "9",
   "metadata": {},
   "source": [
    "In many real-life situations,\n",
    "the cost of going from A to B is the same as the cost of going from B to A,\n",
    "like in the example above. In such cases,\n",
    "will the algorithm generate different candidate tours with the same total cost?"
   ]
  },
  {
   "cell_type": "markdown",
   "id": "10",
   "metadata": {},
   "source": [
    "_Write your answer here._"
   ]
  },
  {
   "cell_type": "markdown",
   "id": "11",
   "metadata": {},
   "source": [
    "[Hint](../31_Hints/Hints_11_4_01.ipynb)\n",
    "[Answer](../32_Answers/Answers_11_4_01.ipynb)"
   ]
  },
  {
   "cell_type": "markdown",
   "id": "12",
   "metadata": {},
   "source": [
    "### 11.4.3 Complexity"
   ]
  },
  {
   "cell_type": "markdown",
   "id": "13",
   "metadata": {},
   "source": [
    "There are *n* × (*n*−1) × ... × 2 × 1 permutations of *n* items,\n",
    "because the first item in the permutation can be any of the *n* items,\n",
    "the second item in the permutation can be any of the remaining *n*−1 items,\n",
    "and so on, until only one item remains to be put in the last position.\n",
    "\n",
    "The product of all integers from 1 to *n* is written *n*! and\n",
    "is called the **factorial** of n.\n",
    "There's only one permutation of zero items, the empty sequence, so 0! = 1.\n",
    "\n",
    "The exhaustive search for the best tour among *n* places only generates\n",
    "the permutations of (1, ..., *n* – 1), because the start/end place is fixed,\n",
    "so the complexity is Θ((*n*−1)!).\n",
    "\n",
    "The factorial grows much much faster than the square or the cube of a number.\n",
    "A picture shows it best.\n",
    "\n",
    "<p id=\"fig-11.4.2\"></p>\n",
    "\n",
    "*[Figure 11.4.2](../33_Figures/Figures_11_4.ipynb#Figure-11.4.2)*\n",
    "\n",
    "![Image 11_4_factorial.png](11_4_factorial.png)\n",
    "\n",
    "As the chart shows, 5! is about the same as 5³ (the red and blue lines cross at *n* = 5) but from then on\n",
    "the factorial function leaves the cubic function in the dust, and *n*² looks\n",
    "like a constant function (the black line is flat) in comparison to *n*!.\n",
    "\n",
    "I once asked the driver delivering my supermarket online shopping how\n",
    "many customers he served in one tour with a full van. He said about fifteen.\n",
    "Assuming we can compute the cost of each tour in 1&nbsp;µs,\n",
    "we can obtain a van's best tour in 15! µs.\n",
    "Python's `math` module provides a function to compute the factorial."
   ]
  },
  {
   "cell_type": "code",
   "execution_count": 1,
   "id": "14",
   "metadata": {},
   "outputs": [
    {
     "name": "stdout",
     "output_type": "stream",
     "text": [
      "1307674368000 µs\n"
     ]
    }
   ],
   "source": [
    "from math import factorial\n",
    "\n",
    "print(factorial(15), \"µs\")"
   ]
  },
  {
   "cell_type": "markdown",
   "id": "15",
   "metadata": {},
   "source": [
    "That's a huge number. Let's see how many days that is."
   ]
  },
  {
   "cell_type": "code",
   "execution_count": 2,
   "id": "16",
   "metadata": {},
   "outputs": [
    {
     "name": "stdout",
     "output_type": "stream",
     "text": [
      "15 days\n"
     ]
    }
   ],
   "source": [
    "MS_PER_DAY = 24 * 60 * 60 * 1000 * 1000  # microseconds in a day\n",
    "print(factorial(15) // MS_PER_DAY, \"days\")"
   ]
  },
  {
   "cell_type": "markdown",
   "id": "17",
   "metadata": {},
   "source": [
    "By comparison, if the van delivers to 10 customers,\n",
    "then the best tour can be computed in just&nbsp;..."
   ]
  },
  {
   "cell_type": "code",
   "execution_count": 3,
   "id": "18",
   "metadata": {},
   "outputs": [
    {
     "name": "stdout",
     "output_type": "stream",
     "text": [
      "3 seconds\n"
     ]
    }
   ],
   "source": [
    "MS_PER_S = 1000**2  # microseconds in a second\n",
    "print(factorial(10) // MS_PER_S, \"seconds\")"
   ]
  },
  {
   "cell_type": "markdown",
   "id": "19",
   "metadata": {},
   "source": [
    "This shows again how fast the factorial function grows.\n",
    "\n",
    "As you may imagine, delivery companies don't use exhaustive search,\n",
    "with factorial complexity, to compute the best tour.\n",
    "They use **heuristic** algorithms which compute an approximate 'good enough'\n",
    "solution, rather than the optimal one. A heuristic algorithm for the TSP\n",
    "will be presented in\n",
    "[Exercise 18.3.1](../18_Greed/18_3_mst.ipynb#Exercise-18.3.1)."
   ]
  },
  {
   "cell_type": "markdown",
   "id": "20",
   "metadata": {},
   "source": [
    "#### Exercise 11.4.2"
   ]
  },
  {
   "cell_type": "markdown",
   "id": "21",
   "metadata": {},
   "source": [
    "The previous exercise showed that the algorithm generates 'symmetric' tours.\n",
    "Would the complexity improve if the algorithm could be modified\n",
    "to not generate them?"
   ]
  },
  {
   "cell_type": "markdown",
   "id": "22",
   "metadata": {},
   "source": [
    "_Write your answer here._"
   ]
  },
  {
   "cell_type": "markdown",
   "id": "23",
   "metadata": {},
   "source": [
    "[Answer](../32_Answers/Answers_11_4_02.ipynb)"
   ]
  },
  {
   "cell_type": "markdown",
   "id": "24",
   "metadata": {},
   "source": [
    "### 11.4.4 Code"
   ]
  },
  {
   "cell_type": "markdown",
   "id": "25",
   "metadata": {},
   "source": [
    "To generate permutations, we use function `permutations` in module `itertools`.\n",
    "The function is meant to be used in a for-loop because\n",
    "it returns the permutations one by one, as a tuple.\n",
    "The function's argument is an iterable collection of items."
   ]
  },
  {
   "cell_type": "code",
   "execution_count": 4,
   "id": "26",
   "metadata": {},
   "outputs": [
    {
     "name": "stdout",
     "output_type": "stream",
     "text": [
      "('travelling', 'problem', 'salesman')\n",
      "('travelling', 'salesman', 'problem')\n",
      "('problem', 'travelling', 'salesman')\n",
      "('problem', 'salesman', 'travelling')\n",
      "('salesman', 'travelling', 'problem')\n",
      "('salesman', 'problem', 'travelling')\n"
     ]
    }
   ],
   "source": [
    "from itertools import permutations\n",
    "\n",
    "for permutation in permutations({\"travelling\", \"salesman\", \"problem\"}):\n",
    "    print(permutation)"
   ]
  },
  {
   "cell_type": "markdown",
   "id": "27",
   "metadata": {},
   "source": [
    "Let's construct the matrix of the example input.\n",
    "The cost of 'travelling' from a place to itself can be any number,\n",
    "because it won't be used by the algorithm, but it's usually set to zero."
   ]
  },
  {
   "cell_type": "code",
   "execution_count": 5,
   "id": "28",
   "metadata": {},
   "outputs": [],
   "source": [
    "four_places = [\n",
    "    [0, 15, 10, 5],     # cost from 0 to other places\n",
    "    [15, 0, 30, 5],     # cost from 1 to other places\n",
    "    [10, 30, 0, 10],    # cost from 2 to other places\n",
    "    [5, 5, 10, 0],      # cost from 3 to other places\n",
    "]"
   ]
  },
  {
   "cell_type": "markdown",
   "id": "29",
   "metadata": {},
   "source": [
    "I use slightly different variable names from the algorithm\n",
    "to keep the code lines short."
   ]
  },
  {
   "cell_type": "code",
   "execution_count": 6,
   "id": "30",
   "metadata": {},
   "outputs": [
    {
     "data": {
      "text/plain": [
       "(0, 1, 3, 2, 0)"
      ]
     },
     "execution_count": 6,
     "metadata": {},
     "output_type": "execute_result"
    }
   ],
   "source": [
    "from itertools import permutations\n",
    "import math\n",
    "\n",
    "\n",
    "def tsp(costs: list) -> tuple:\n",
    "    \"\"\"Solve the travelling salesman problem.\n",
    "\n",
    "    Input: costs is a n*n matrix of numbers\n",
    "    Preconditions:\n",
    "    - n > 1\n",
    "    - costs[i][j] is the cost of travelling from i to j\n",
    "    Postconditions:\n",
    "    - len(output) = n + 1\n",
    "    - output[0] = output[n]\n",
    "    - every integer from 0 to n - 1 occurs in the output\n",
    "    - costs[output[0]][output[1]] + ... + costs[output[n-1]][output[n]]\n",
    "      has the lowest possible value\n",
    "    \"\"\"\n",
    "    best_cost = math.inf  # positive infinity (Section 6.8)\n",
    "    n = len(costs)\n",
    "    # generate all permutations of (1, .., n-1)\n",
    "    for places in permutations(range(1, n)):\n",
    "        # tuple literals with 1 item need extra comma (Section 4.5)\n",
    "        tour = (0,) + places + (0,)\n",
    "        cost = 0\n",
    "        for index in range(0, n):\n",
    "            cost = cost + costs[tour[index]][tour[index + 1]]\n",
    "        if cost < best_cost:\n",
    "            best_cost = cost\n",
    "            best_tour = tour\n",
    "    return best_tour\n",
    "\n",
    "\n",
    "tsp(four_places)"
   ]
  },
  {
   "cell_type": "markdown",
   "id": "31",
   "metadata": {},
   "source": [
    "There are two equally best tours starting and ending at place 0,\n",
    "namely (0, 1, 3, 2, 0) and (0, 2, 3, 1, 0),\n",
    "but only the one generated first is output as the second one\n",
    "doesn't improve the best cost."
   ]
  },
  {
   "cell_type": "markdown",
   "id": "32",
   "metadata": {},
   "source": [
    "⟵ [Previous section](11_3_constraints.ipynb) | [Up](11-introduction.ipynb) | [Next section](11_5_subsets.ipynb) ⟶"
   ]
  }
 ],
 "metadata": {
  "kernelspec": {
   "display_name": "Python 3",
   "language": "python",
   "name": "python3"
  },
  "language_info": {
   "codemirror_mode": {
    "name": "ipython",
    "version": 3
   },
   "file_extension": ".py",
   "mimetype": "text/x-python",
   "name": "python",
   "nbconvert_exporter": "python",
   "pygments_lexer": "ipython3",
   "version": "3.12.10"
  }
 },
 "nbformat": 4,
 "nbformat_minor": 5
}
