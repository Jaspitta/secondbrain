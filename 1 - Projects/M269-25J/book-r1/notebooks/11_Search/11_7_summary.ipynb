{
 "cells": [
  {
   "cell_type": "markdown",
   "id": "0",
   "metadata": {},
   "source": [
    "## 11.7 Summary"
   ]
  },
  {
   "cell_type": "markdown",
   "id": "1",
   "metadata": {},
   "source": [
    "A **generate-and-test** algorithm generates one object at a time and\n",
    "checks if it has some properties. The properties may involve other objects,\n",
    "e.g. to check if the generated object is better than the best found so far.\n",
    "\n",
    "An **exhaustive** (or **brute-force**) search is a generate-and-test algorithm that\n",
    "generates possible candidates and tests if each one satisfies the search\n",
    "criteria. The candidates generated are the **search space**.\n",
    "\n",
    "A **linear search** is an exhaustive search over a given collection of candidates.\n",
    "The generation part simply iterates over the collection.\n",
    "If there's no explicit input collection of candidates, then one must be defined\n",
    "in order to apply linear search. For example, solving the factorisation problem\n",
    "requires thinking about the range of possible factors.\n",
    "\n",
    "Searching for all items that satisfy some criteria\n",
    "filters the input collection.\n",
    "A conjunction of criteria can be implemented as a succession of filters,\n",
    "each filter searching the output collection of the previous filter\n",
    "for matches against one criterion."
   ]
  },
  {
   "cell_type": "markdown",
   "id": "2",
   "metadata": {},
   "source": [
    "### 11.7.1 Problems"
   ]
  },
  {
   "cell_type": "markdown",
   "id": "3",
   "metadata": {},
   "source": [
    "Exhaustive search algorithms can be used to solve decision, optimisation\n",
    "and constraint satisfaction problems.\n",
    "\n",
    "A decision problem on a collection can sometimes be solved with a search,\n",
    "either for several items that together satisfy the criteria,\n",
    "or for one item that doesn't satisfy the criteria.\n",
    "For example, we decided if a string is a valid password by searching for\n",
    "a lowercase letter and a digit, and\n",
    "in [Section&nbsp;4.8.1](../04_Iteration/04_8_practice.ipynb#4.8.1-DNA)\n",
    "we decided if a string models a DNA strand by searching for\n",
    "a character different from A, C, G and T.\n",
    "\n",
    "A **constraint satisfaction problem** (**CSP**) asks to find\n",
    "two or more items that together satisfy some criteria,\n",
    "so each candidate is a sequence or subset of items.\n",
    "For example, finding all suitable PINs involves searching for all 4-digit\n",
    "sequences that satisfy some properties.\n",
    "\n",
    "An **optimisation problem** asks for the sequence or subset of items that\n",
    "minimises or maximises some quantity.\n",
    "Optimisation problems often have constraints too.\n",
    "Three classic optimisation problems are:\n",
    "\n",
    "- the **travelling salesman problem** (**TSP**) asks for a sequence of places that are\n",
    "  constrained to be a tour and minimise the travel cost (or time or distance)\n",
    "- the **0/1 knapsack problem** asks for a maximum-value subset of items that\n",
    "  satisfy the constraint of fitting in the knapsack\n",
    "- the **maximal independent set problem** asks for a largest subset of items that\n",
    "  satisfy the constraint of being mutually compatible.\n",
    "\n",
    "Optimisation problems are in practice often solved by **heuristic** algorithms\n",
    "that are efficient but compute an approximate solution."
   ]
  },
  {
   "cell_type": "markdown",
   "id": "4",
   "metadata": {},
   "source": [
    "### 11.7.2 Complexities"
   ]
  },
  {
   "cell_type": "markdown",
   "id": "5",
   "metadata": {},
   "source": [
    "An algorithm has **cubic complexity** if it is Θ(*n*³).\n",
    "\n",
    "The complexity Θ(*c*ⁿ) is said to be **exponential** if\n",
    "*n* is the size of the input and *c* > 1.\n",
    "There are 2ⁿ subsets of a set of *n* items, so generating them all takes\n",
    "exponential time.\n",
    "\n",
    "There are *n*! = 1×2×...×(*n*−1)×*n* permutations of *n* items,\n",
    "so generating all of them takes **factorial** time.\n",
    "\n",
    "Algorithms with cubic complexity are much more efficient than\n",
    "those with exponential complexity, which in turn are much more efficient than\n",
    "those with factorial complexity."
   ]
  },
  {
   "cell_type": "markdown",
   "id": "6",
   "metadata": {},
   "source": [
    "### 11.7.3 Reducing the search space"
   ]
  },
  {
   "cell_type": "markdown",
   "id": "7",
   "metadata": {},
   "source": [
    "Reducing the search space is the most effective way of improving the run-time\n",
    "of brute-force search.\n",
    "Techniques to reduce the search space include:\n",
    "\n",
    "- avoiding generating 'symmetric' candidates\n",
    "- computing directly further solutions when one is found and\n",
    "  removing them from the candidates\n",
    "- sorting candidates to put solutions early on and\n",
    "  to stop when no further solution will appear."
   ]
  },
  {
   "cell_type": "markdown",
   "id": "8",
   "metadata": {},
   "source": [
    "### 11.7.4 Python"
   ]
  },
  {
   "cell_type": "markdown",
   "id": "9",
   "metadata": {},
   "source": [
    "Functions `sqrt` and `factorial` in module `math` compute\n",
    "the square root of a number and the factorial of a non-negative integer, respectively.\n",
    "\n",
    "Method `pop` on a set removes and returns a random element of the set.\n",
    "\n",
    "To generate all permutations of a collection of items, write\n",
    "```python\n",
    "from itertools import permutations\n",
    "\n",
    "for permutation in permutations(items):\n",
    "    # do something with the permutation tuple\n",
    "```\n",
    "To generate all subsets of a collection of items, write\n",
    "```python\n",
    "from itertools import combinations\n",
    "\n",
    "for size in range(len(items) + 1):\n",
    "    for subset in combinations(items, size):\n",
    "        # do something with the subset tuple\n",
    "```\n",
    "You can nest function definitions within function definitions.\n",
    "The **inner function** can access the arguments of the outer function."
   ]
  },
  {
   "cell_type": "markdown",
   "id": "10",
   "metadata": {},
   "source": [
    "⟵ [Previous section](11_6_practice.ipynb) | [Up](11-introduction.ipynb) | [Next section](../12_Recursion/12-introduction.ipynb) ⟶"
   ]
  }
 ],
 "metadata": {
  "kernelspec": {
   "display_name": "Python 3",
   "language": "python",
   "name": "python3"
  },
  "language_info": {
   "codemirror_mode": {
    "name": "ipython",
    "version": 3
   },
   "file_extension": ".py",
   "mimetype": "text/x-python",
   "name": "python",
   "nbconvert_exporter": "python",
   "pygments_lexer": "ipython3",
   "version": "3.12.10"
  }
 },
 "nbformat": 4,
 "nbformat_minor": 5
}
