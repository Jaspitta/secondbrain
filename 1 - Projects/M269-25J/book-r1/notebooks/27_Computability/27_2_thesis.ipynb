{
 "cells": [
  {
   "cell_type": "markdown",
   "id": "0",
   "metadata": {},
   "source": [
    "## 27.2 The Church–Turing thesis"
   ]
  },
  {
   "cell_type": "markdown",
   "id": "1",
   "metadata": {},
   "source": [
    "In this section, I discuss the importance of Turing machines."
   ]
  },
  {
   "cell_type": "markdown",
   "id": "2",
   "metadata": {},
   "source": [
    "### 27.2.1 Computational models"
   ]
  },
  {
   "cell_type": "markdown",
   "id": "3",
   "metadata": {},
   "source": [
    "While a programming language like Python eases the implementation of algorithms,\n",
    "it's not a good medium to define what algorithm and complexity mean.\n",
    "A programming language simply has too many constructs,\n",
    "making definitions more complicated.\n",
    "For example, we had to define 'input size' for each data type:\n",
    "for integers, it's the number of digits;\n",
    "for sequences and sets, it's the number of elements;\n",
    "for graphs, it's the number of nodes and edges.\n",
    "We also had to make assumptions about the complexity of each operation,\n",
    "like numeric operations on 64-bit numbers taking constant time,\n",
    "in order to analyse the complexity of an algorithm.\n",
    "\n",
    "In contrast, a Turing machine is so simple that it became\n",
    "the main computational model, on which all concepts are based.\n",
    "A Turing machine defines precisely the concepts of\n",
    "input, output, algorithm (the transition table) and\n",
    "executing an algorithm (what a computational step is and when to stop).\n",
    "This in turn allows derived concepts to also be precisely defined:\n",
    "\n",
    "- An algorithm is correct, i.e. solves a given problem, if it stops,\n",
    "  for every input that satisfies the preconditions,\n",
    "  with an output that satisfies the postconditions.\n",
    "- A problem is **computable** if there's an algorithm that solves it.\n",
    "- The size of the input is the number of symbols\n",
    "  until the start of the infinite sequence of blanks.\n",
    "- The run-time of an algorithm on a given input is\n",
    "  the number of steps executed until it stops.\n",
    "- The complexity of an algorithm is the growth rate of\n",
    "  the number of steps in terms of the number of input symbols.\n",
    "\n",
    "In summary, the formal definition of algorithm is what can be written as\n",
    "a transition table for a Turing machine, and all other definitions\n",
    "(computability, complexity, classes P and NP, etc.) are based on it."
   ]
  },
  {
   "cell_type": "markdown",
   "id": "4",
   "metadata": {},
   "source": [
    "<div class=\"alert alert-warning\">\n",
    "<strong>Note:</strong> Turing machines are a formal model of computation: they enable\n",
    "a precise definition of algorithm, complexity and computability.\n",
    "</div>"
   ]
  },
  {
   "cell_type": "markdown",
   "id": "5",
   "metadata": {},
   "source": [
    "You may be wondering if basing the notion of computation on such\n",
    "simple conceptual devices is too restrictive.\n",
    "Is the Turing machine a good model of what modern computers do?\n",
    "Can they compute things the Turing machine can't?"
   ]
  },
  {
   "cell_type": "markdown",
   "id": "6",
   "metadata": {},
   "source": [
    "### 27.2.2 Universal models"
   ]
  },
  {
   "cell_type": "markdown",
   "id": "7",
   "metadata": {},
   "source": [
    "In the 1936 paper where Turing introduces his conceptual machine,\n",
    "he provides an argument (not a proof!) for why such a machine can mimic\n",
    "what computers can do. In those days, before electronic computers existed,\n",
    "the word 'computer' still meant 'a human who does mathematical calculations'.\n",
    "\n",
    "Turing's argument was in essence as follows.\n",
    "When solving a mathematical problem, humans read and write symbols\n",
    "on sheets of paper and they have a mental state of what to do next. For example,\n",
    "when adding two numbers, they look at each digit,\n",
    "mentally carrying over if necessary, and write the result one digit at a time.\n",
    "Humans can only process a finite number of symbols and can only remember\n",
    "a finite number of things. They can use more sheets of paper as necessary.\n",
    "While the two-dimensional nature of paper sheets is convenient to put symbols\n",
    "above or under each other, it's not really essential to the computation itself.\n",
    "For example, the addition of two numbers can also be carried out horizontally.\n",
    "\n",
    "Therefore, a machine that has an infinite tape,\n",
    "a head that moves back and forth to read and write symbols,\n",
    "and a finite number of states, should be able to compute anything a human\n",
    "(and, nowadays, electronic computers) can.\n",
    "This is known as the **Church–Turing thesis**: anything that can be computed,\n",
    "can be computed by a Turing machine.\n",
    "The statement is a hypothesis, not a theorem, because it can't be proven:\n",
    "it states that whatever people would informally agree to call an algorithm\n",
    "can be written as a transition table for the Turing machine.\n",
    "\n",
    "Earlier, mathematician Alonzo Church defined the **lambda calculus**,\n",
    "a computational model based on functions.\n",
    "It has been proven that the lambda calculus and Turing machines are equivalent,\n",
    "in the sense that what can be computed with one can be computed with the other.\n",
    "Several variants of Turing machines were also proven to be equivalent.\n",
    "For example, a Turing machine with multiple tapes, each with one head that\n",
    "can move independently of the other heads, can be simulated with\n",
    "a single-tape machine.\n",
    "No computational model has yet been invented that can solve more problems than\n",
    "Turing machines, and this gives further credibility to the Church–Turing thesis.\n",
    "\n",
    "A modern computer, with multiple CPU cores, gigabytes of RAM and a large disk,\n",
    "cannot solve any problem the humble Turing machine can't.\n",
    "Very roughly, the reason is as follows.\n",
    "\n",
    "Any program (in Python, Java, etc.) is translated to machine code,\n",
    "so that the CPU can execute it. Machine code provides a limited number of\n",
    "simple instructions: increment the value in a register,\n",
    "add the values in two registers,\n",
    "fetch a value from a RAM address and put it in a register, etc.\n",
    "If we store the binary content of each memory\n",
    "(register, cache, RAM, disk) in a separate tape with symbols 0 and 1,\n",
    "then each machine code instruction can be implemented with a transition table\n",
    "that moves the heads of the affected tapes.\n",
    "The transition tables are quite large: you've seen how many entries were needed\n",
    "for a simple problem like checking a string is a valid password.\n",
    "However, the point is that a Turing machine that simulates the execution of\n",
    "CPU instructions *can* be written."
   ]
  },
  {
   "cell_type": "markdown",
   "id": "8",
   "metadata": {},
   "source": [
    "<div class=\"alert alert-info\">\n",
    "<strong>Info:</strong> How computers process instructions is explained in TM112 Block&nbsp;1 Part&nbsp;3.\n",
    "</div>"
   ]
  },
  {
   "cell_type": "markdown",
   "id": "9",
   "metadata": {},
   "source": [
    "Since multi-tape machines are equivalent in computational power\n",
    "to single-tape machines, it follows that any algorithm written in Python\n",
    "(or any other language) and executed by a modern computer can be written as\n",
    "a transition table and executed by a Turing machine.\n",
    "\n",
    "If any computable problem can be solved with a Turing machine,\n",
    "it means that it can be solved with a Python function that takes a single input\n",
    "of type `list` and has only two variables: a string with the current state and\n",
    "an integer with the index of the list element currently processed.\n",
    "The reason why two variables suffice to write any algorithm is that we can\n",
    "encode additional variables as states or in the list.\n",
    "\n",
    "When solving the [parity bit](../27_Computability/27_1_turing_machine.ipynb#27.1.3-Implementation) problem,\n",
    "we used additional states.\n",
    "Instead of having two Boolean variables that remember whether a letter or\n",
    "a digit occurred, we represented their four possible values with four states:\n",
    "'start' (no letter or digit seen), 'letter', 'digit' and 'both'.\n",
    "\n",
    "Now let's see an example of storing the additional variables in the tape\n",
    "rather than as additional states."
   ]
  },
  {
   "cell_type": "markdown",
   "id": "10",
   "metadata": {},
   "source": [
    "### 27.2.3 Length of string"
   ]
  },
  {
   "cell_type": "markdown",
   "id": "11",
   "metadata": {},
   "source": [
    "The problem to be solved is to compute the length of a string:\n",
    "\n",
    "> Given a tape with zero or more letters 'a', add 0s and 1s at the end\n",
    "> so that they represent, in reverse binary form, the number of letters.\n",
    "> When the machine stops, the head is over the left-most digit.\n",
    "> For example, if the input is ('a', 'a'), the output is (0, 1)\n",
    "> because the number of letters (namely, two) is 10 in binary.\n",
    "> The input should be preserved, i.e. it should not be overwritten by other symbols.\n",
    "\n",
    "Having the binary digits in reverse order allows us to grow the number\n",
    "to the right as we count letters, without overwriting the string.\n",
    "\n",
    "To solve this problem, when reading an 'a', we must move the head right,\n",
    "increment the binary number and return the head to where it was,\n",
    "so that we can read the next 'a' without inadvertently skipping any letters.\n",
    "\n",
    "We thus need to mark the position of the last 'a' counted,\n",
    "so that the head can return to that position.\n",
    "The best way to do that is to introduce a new symbol that marks the position.\n",
    "I will use 'X' as the symbol (because X marks the spot), but\n",
    "any symbol different from 'a', blank, 0 and 1 will do.\n",
    "\n",
    "We need two states besides 'start'. One state is to increment the counter,\n",
    "let's call it 'up'; the other is to return to the last 'a' read,\n",
    "let's call it 'back'.\n",
    "\n",
    "In the 'up' state, the head moves right skipping all letters.\n",
    "If it finds a 0 or blank, it writes 1 (one more letter was read) and starts moving back.\n",
    "If it finds a 1, it writes 0 and moves right, staying in the 'up' state\n",
    "to carry over the bit and increment the rest of the binary number.\n",
    "\n",
    "In the 'back' state, the head moves left, skipping all symbols until\n",
    "it reads 'X'. At that point, the 'X' is replaced by 'a'\n",
    "(to not change the input), the head moves right and we return to state 'start',\n",
    "because we're now going to repeat the same process to count the next letter.\n",
    "\n",
    "The next figure shows the configurations, i.e. state, tape and head position,\n",
    "the machine goes through to process input ('a', 'a').\n",
    "The first and second rows of the diagram show, from left to right,\n",
    "the five configurations to count each 'a'.\n",
    "The third row shows the final configuration:\n",
    "the machine is again in the 'start' state and the head is over a digit.\n",
    "This means all letters were processed and the machine stops.\n",
    "\n",
    "<p id=\"fig-27.2.1\"></p>\n",
    "\n",
    "*[Figure 27.2.1](../33_Figures/Figures_27_2.ipynb#Figure-27.2.1)*\n",
    "\n",
    "![Image 27_2_length.png](27_2_length.png)\n",
    "\n",
    "Here's the transition table."
   ]
  },
  {
   "cell_type": "code",
   "execution_count": 1,
   "id": "12",
   "metadata": {},
   "outputs": [
    {
     "name": "stdout",
     "output_type": "stream",
     "text": [
      "OK: the transition table passed the automatic checks\n",
      "OK: the test table passed the automatic checks.\n",
      "Tests finished: 4 passed (100%), 0 failed.\n"
     ]
    }
   ],
   "source": [
    "%run -i ../m269_tm\n",
    "\n",
    "LENGTH_IN = {\"a\"}\n",
    "LENGTH_OUT = {0, 1}\n",
    "\n",
    "length = {\n",
    "    # (state, symbol):  (symbol, head, state)\n",
    "    # if 'a', mark the position and start incrementing counter\n",
    "    ('start', 'a'):     ('X', RIGHT, 'up'),\n",
    "    # if empty string, write 0 and stop\n",
    "    ('start', None):    (0, STAY, 'start'),\n",
    "\n",
    "    # before incrementing, skip all letters\n",
    "    ('up', 'a'):        ('a', RIGHT, 'up'),\n",
    "    # if bit is zero: increment and return to marked position\n",
    "    ('up', 0):          (1, LEFT, 'back'),\n",
    "    # if bit is one, carry over: keep incrementing\n",
    "    ('up', 1):          (0, RIGHT, 'up'),\n",
    "    # end of binary number: increment and go back\n",
    "    ('up', None):       (1, LEFT, 'back'),\n",
    "\n",
    "    # to return to marked position, skip all digits and letters\n",
    "    ('back', 0):        (0, LEFT, 'back'),\n",
    "    ('back', 1):        (1, LEFT, 'back'),\n",
    "    ('back', 'a'):      ('a', LEFT, 'back'),\n",
    "    # restore marked position to 'a'; start again with next letter\n",
    "    ('back', 'X'):      ('a', RIGHT, 'start')\n",
    "}\n",
    "\n",
    "check_tm(length, LENGTH_IN, LENGTH_OUT)\n",
    "\n",
    "length_tests = [\n",
    "    # case,     input,              debug, output\n",
    "    ('empty',   [],                 False, [0]),\n",
    "    ('one',     ['a'],              False, [1]),\n",
    "    ('two',     ['a', 'a'],         False, [0, 1]),\n",
    "    ('three',   ['a', 'a', 'a'],    False, [1, 1]),\n",
    "]\n",
    "\n",
    "check_tm_tests(length_tests, LENGTH_IN, LENGTH_OUT)\n",
    "\n",
    "test_tm(length, length_tests)"
   ]
  },
  {
   "cell_type": "markdown",
   "id": "13",
   "metadata": {},
   "source": [
    "Don't forget to replace `False` with `True` if you want to see the steps for\n",
    "any of the tests.\n",
    "\n",
    "In summary, although Turing machines are very constrained,\n",
    "we can write any Python function as a (possibly very complicated)\n",
    "transition table, by representing variables as part of the states\n",
    "or part of the tape's content."
   ]
  },
  {
   "cell_type": "markdown",
   "id": "14",
   "metadata": {},
   "source": [
    "#### Exercise 27.2.1"
   ]
  },
  {
   "cell_type": "markdown",
   "id": "15",
   "metadata": {},
   "source": [
    "If the input symbols were all the 26 lowercase and 26 uppercase letters,\n",
    "instead of just 'a', what changes would you make to the transition table?\n",
    "For this exercise you don't have to preserve the input:\n",
    "you can overwrite it with marker symbols."
   ]
  },
  {
   "cell_type": "markdown",
   "id": "16",
   "metadata": {},
   "source": [
    "_Write your answer here._"
   ]
  },
  {
   "cell_type": "markdown",
   "id": "17",
   "metadata": {},
   "source": [
    "[Hint](../31_Hints/Hints_27_2_01.ipynb)\n",
    "[Answer](../32_Answers/Answers_27_2_01.ipynb)"
   ]
  },
  {
   "cell_type": "markdown",
   "id": "18",
   "metadata": {},
   "source": [
    "#### Exercise 27.2.2"
   ]
  },
  {
   "cell_type": "markdown",
   "id": "19",
   "metadata": {},
   "source": [
    "Do again the previous exercise, but this time preserving the input."
   ]
  },
  {
   "cell_type": "markdown",
   "id": "20",
   "metadata": {},
   "source": [
    "_Write your answer here._"
   ]
  },
  {
   "cell_type": "markdown",
   "id": "21",
   "metadata": {},
   "source": [
    "[Hint](../31_Hints/Hints_27_2_02.ipynb)\n",
    "[Answer](../32_Answers/Answers_27_2_02.ipynb)"
   ]
  },
  {
   "cell_type": "markdown",
   "id": "22",
   "metadata": {},
   "source": [
    "⟵ [Previous section](27_1_turing_machine.ipynb) | [Up](27-introduction.ipynb) | [Next section](27_3_static_analysis.ipynb) ⟶"
   ]
  }
 ],
 "metadata": {
  "kernelspec": {
   "display_name": "Python 3",
   "language": "python",
   "name": "python3"
  },
  "language_info": {
   "codemirror_mode": {
    "name": "ipython",
    "version": 3
   },
   "file_extension": ".py",
   "mimetype": "text/x-python",
   "name": "python",
   "nbconvert_exporter": "python",
   "pygments_lexer": "ipython3",
   "version": "3.12.10"
  }
 },
 "nbformat": 4,
 "nbformat_minor": 5
}
