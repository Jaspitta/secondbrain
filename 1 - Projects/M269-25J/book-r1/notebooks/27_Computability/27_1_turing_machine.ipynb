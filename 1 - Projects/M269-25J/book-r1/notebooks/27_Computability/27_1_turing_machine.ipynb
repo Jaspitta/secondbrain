{
 "cells": [
  {
   "cell_type": "markdown",
   "id": "0",
   "metadata": {},
   "source": [
    "## 27.1 Turing machine"
   ]
  },
  {
   "cell_type": "markdown",
   "id": "1",
   "metadata": {},
   "source": [
    "In 1936, mathematician Alan Turing captured\n",
    "the intuitive notion of algorithms in a formal way.\n",
    "There were no programmable analogue or electronic computers in those days, so\n",
    "he proposed a conceptual machine that could carry out computations.\n",
    "\n",
    "The following is one of many possible definitions of **Turing machines**.\n",
    "As we shall see later, it doesn't really matter which definition we adopt."
   ]
  },
  {
   "cell_type": "markdown",
   "id": "2",
   "metadata": {},
   "source": [
    "### 27.1.1 Definition"
   ]
  },
  {
   "cell_type": "markdown",
   "id": "3",
   "metadata": {},
   "source": [
    "The 'hardware' of the Turing machine consists of a **tape**\n",
    "divided into **cells**. Each cell holds one **symbol**.\n",
    "The symbols are anything that's convenient\n",
    "for the problem at hand: bits (0 and 1), characters, 64-bit integers, etc.\n",
    "The special **blank** symbol indicates that a cell is empty.\n",
    "\n",
    "The tape is infinite: it has a start but no end.\n",
    "The machine has a **head** that is over one cell at a time.\n",
    "The head may move left or right, one cell at a time.\n",
    "The head can read the symbol in the cell it's over (the **current symbol**) and\n",
    "write a symbol into that cell.\n",
    "Initially, the head is at the start of the tape.\n",
    "If at any time the head moves to the left of the first cell, the machine stops.\n",
    "\n",
    "Since the tape is infinite, only part of it contains the data;\n",
    "the rest is an infinite sequence of blanks.\n",
    "The **input** is the initial data on the tape:\n",
    "the zero or more symbols before the infinite blank sequence.\n",
    "When the machine stops executing, the **output** is\n",
    "the symbols from the head onwards until the infinite blank sequence starts.\n",
    "\n",
    "When we write an algorithm in English or implement it in a programming language,\n",
    "the problem definition tells us how many inputs and outputs there are,\n",
    "their types and all the conditions they must satisfy.\n",
    "Likewise, problem statements for Turing machines must tell us\n",
    "the initial and final content of the tape, what symbols are used and\n",
    "where the head is when the machine stops.\n",
    "You will see an example in a minute.\n",
    "\n",
    "As for the 'software' of a Turing machine,\n",
    "it defines when and how to move the head and which symbol to write.\n",
    "This depends on the **current state** of the machine.\n",
    "There's a finite set of possible states and we must indicate which one is\n",
    "the **initial state**.\n",
    "\n",
    "The program for the machine is of the form\n",
    "\n",
    "1. put head on the start of the tape\n",
    "1. let current state be the initial state\n",
    "1. repeat forever:\n",
    "   1. if current state = ... and current symbol = ...:\n",
    "      1. write symbol ...\n",
    "      1. move the head left or right or not at all\n",
    "      1. let current state be ...\n",
    "   1. otherwise if current state = ... and current symbol = ...:\n",
    "      1. write symbol ...\n",
    "      1. move the head left or right or not at all\n",
    "      1. let current state be ...\n",
    "   1. ...\n",
    "   1. otherwise:\n",
    "      1. stop\n",
    "\n",
    "There's at most one if-statement per state–symbol pair\n",
    "and so the order of the if-statements doesn't matter.\n",
    "For *n* symbols and *m* states, there are at most *n*×*m* if-statements.\n",
    "If there's no if-statement for the current symbol and state (step&nbsp;3.4 above),\n",
    "the machine stops.\n",
    "\n",
    "Turing machines use the three algorithmic ingredients:\n",
    "iteration (repeat forever),\n",
    "selection (the if-statements) and sequence of instructions.\n",
    "\n",
    "The if-statements can be represented more compactly as\n",
    "a **transition table** that has one row per state and one column per symbol,\n",
    "including the blank symbol.\n",
    "If there's an if-statement for a particular state and symbol, then the table\n",
    "entry for the corresponding row and column indicates the **execution step**:\n",
    "the symbol written (which can be the same as the symbol read),\n",
    "the movement of the head (left, right or stay) and\n",
    "the new state (which can be the same as the current state).\n",
    "\n",
    "A **configuration** is made of the current state, the position of the head and\n",
    "the content of the tape. Each execution step makes the Turing machine\n",
    "transition from one configuration to the next.\n",
    "\n",
    "Let's see an example Turing machine."
   ]
  },
  {
   "cell_type": "markdown",
   "id": "4",
   "metadata": {},
   "source": [
    "### 27.1.2 Parity bit"
   ]
  },
  {
   "cell_type": "markdown",
   "id": "5",
   "metadata": {},
   "source": [
    "One method to detect if binary data was corrupted during transmission is for\n",
    "the sender to append a bit (0 or 1) to the message,\n",
    "so that the number of ones is even. The added bit is called the parity bit.\n",
    "The receiver checks the number of ones:\n",
    "if it's odd, it asks for the message to be sent again,\n",
    "otherwise it discards the parity bit.\n",
    "\n",
    "For example, if the message is 011 then the parity bit is 0 and the sender\n",
    "transmits 0110. If the receiver gets 0111 then it knows something is wrong\n",
    "(here, the parity bit changed) and asks for a re-transmission of the message.\n",
    "This method can't detect all errors. For example, if the message sent is 011011\n",
    "and the message received is 100111, the errors aren't detected because the\n",
    "number of 1s remains even.\n",
    "\n",
    "Here's the problem description for a Turing machine.\n",
    "\n",
    "> The tape initially has a blank followed by a possibly empty sequence of\n",
    "> 0s and 1s. Add a 0 or 1 at the end, so that the number of 1s is even.\n",
    "> Return the head to the start of the tape.\n",
    "\n",
    "As mentioned before, the description must include\n",
    "the needed symbols ('0s and 1s'),\n",
    "the input ('a blank followed by ...'),\n",
    "what to do ('add a 0 or 1 at the end') and\n",
    "where the head ends up ('return the head to the start') in order to know what\n",
    "the output (the data to the right of the head) is.\n",
    "\n",
    "When providing input and output examples, we only represent the data as\n",
    "a finite sequence of symbols, omitting the infinite sequence of blank cells.\n",
    "The above example can be restated as: if the input is (blank, 0, 1, 1),\n",
    "the output is (blank, 0, 1, 1, 0).\n",
    "\n",
    "To solve the problem, we should first outline the algorithm,\n",
    "before writing the transition table. Here's a first rough outline.\n",
    "\n",
    "> Move the head to the right, over the 0s and 1s, keeping track of whether\n",
    "> the number of 1s is even. When a blank is reached, write a 0 or 1 accordingly.\n",
    "> Move the head to the left, over the 0s and 1s. Stop when a blank is reached.\n",
    "\n",
    "This outline is incomplete because it doesn't explain how to determine if\n",
    "there's an odd or even number of 1s.\n",
    "If a Turing machine had variables, we could count the 1s,\n",
    "but since it hasn't, we must instead think in terms of states.\n",
    "\n",
    "All we need to keep track of, as we process the input,\n",
    "is the parity of the 1s, so let's create two states called 'odd' and 'even'.\n",
    "We don't change state when reading a zero, but\n",
    "when we read a 1, we change the state from 'odd' to 'even' or vice versa.\n",
    "When we read a blank, we write a 0 if in the 'even' state, otherwise a 1.\n",
    "We then get into a new state, let's call it 'back', where we simply\n",
    "move to the left until reading a blank.\n",
    "\n",
    "Finally, we must think of the initial state.\n",
    "Initially, we haven't read any bits,\n",
    "so we should start in the 'even' state. However, the first symbol is a blank.\n",
    "We already have an action for a blank in the 'even' state:\n",
    "write 0 and start moving back.\n",
    "The only way for a machine to distinguish the start blank from the end blank is\n",
    "by being in two different states. We need therefore an extra initial state,\n",
    "let's call it 'start'.\n",
    "\n",
    "Here's a better outline of the algorithm, detailing the actions and\n",
    "providing some of the rationale.\n",
    "\n",
    "1. Begin in state 'start'.\n",
    "1. Skip the initial blank and change to state 'even' because\n",
    "   zero 1s have been read so far.\n",
    "1. Move right over any 0s and 1s, switching between the 'even' and 'odd' state\n",
    "   when reading a 1.\n",
    "1. When reading a blank, write 0 if the state is 'even', otherwise write 1,\n",
    "   because there's an odd number of 1s and so we need an extra 1.\n",
    "1. After writing the parity bit, move left and change to the 'back' state.\n",
    "1. Move left, skipping any 0s and 1s.\n",
    "1. Don't do anything when reading a blank:\n",
    "   this stops the machine with the head at the start of the tape.\n",
    "\n",
    "Notice that an outline doesn't have to spell out all details.\n",
    "For example, I use the word 'skip' to indicate that the head moves\n",
    "over the symbols without changing them. However,\n",
    "when writing the algorithm as a transition table, we must always indicate\n",
    "the symbol written, the head movement and the new state.\n",
    "\n",
    "State | blank | 0 | 1\n",
    "-|-|-|-\n",
    "start | write blank, right, even  | |\n",
    "even  | write 0, left, back  | write 0, right, even | write 1, right, odd\n",
    "odd   | write 1, left, back  | write 0, right, odd  | write 1, right, even\n",
    "back  |   | write 0, left, back | write 1, left, back\n",
    "\n",
    "As the table shows, except when reaching a blank in the 'even' or 'odd' state,\n",
    "we always write the symbol that has been read, to keep the tape unchanged.\n",
    "\n",
    "The next figure shows how the machine processes input (blank, 1, 0, 1).\n",
    "The figure shows above each symbol the current state and\n",
    "below the symbol how the head moves.\n",
    "The new state, after moving the head, is the state above the next cell.\n",
    "\n",
    "<p id=\"fig-27.1.1\"></p>\n",
    "\n",
    "*[Figure 27.1.1](../33_Figures/Figures_27_1.ipynb#Figure-27.1.1)*\n",
    "\n",
    "![Image 27_1_parity.png](27_1_parity.png)\n",
    "\n",
    "The machine begins in state 'start', skips the blank by moving the head right\n",
    "and enters state 'even'.\n",
    "It continues reading symbols and moving right, changing state after reading a 1.\n",
    "\n",
    "When it reaches the blank after the bit sequence, it writes a 0\n",
    "because it's in state 'even', moves the head left and enters state 'back'.\n",
    "It keeps moving the head left in that state until the first blank is reached.\n",
    "There's no entry in the transition table for state 'back' and the blank symbol,\n",
    "so the machine stops."
   ]
  },
  {
   "cell_type": "markdown",
   "id": "6",
   "metadata": {},
   "source": [
    "### 27.1.3 Implementation"
   ]
  },
  {
   "cell_type": "markdown",
   "id": "7",
   "metadata": {},
   "source": [
    "This subsection explains how I implemented Turing machines and the functions\n",
    "I created for you to write, run and test Turing machines. All functions are in\n",
    "file `m269_tm.py`, so let's run it to load those functions."
   ]
  },
  {
   "cell_type": "code",
   "execution_count": 1,
   "id": "8",
   "metadata": {},
   "outputs": [],
   "source": [
    "%run -i ../m269_tm"
   ]
  },
  {
   "cell_type": "markdown",
   "id": "9",
   "metadata": {},
   "source": [
    "The Turing machine simulator will take a transition table, an input tape\n",
    "and an initial state, and execute steps until there's no transition for the current state and symbol.\n",
    "To simplify things, we adopt the following convention."
   ]
  },
  {
   "cell_type": "markdown",
   "id": "10",
   "metadata": {},
   "source": [
    "<div class=\"alert alert-warning\">\n",
    "<strong>Note:</strong> In M269, the initial state of a Turing machine is always called 'start'.\n",
    "</div>"
   ]
  },
  {
   "cell_type": "markdown",
   "id": "11",
   "metadata": {},
   "source": [
    "The simulator will be implemented as a Python function with two inputs\n",
    "(a transition table and a tape) and one output (the tape from the head's final position onwards).\n",
    "\n",
    "There are many ways to represent transition tables in Python.\n",
    "The simplest, in my view, is a map (Python dictionary) of state–symbol pairs to\n",
    "symbol–movement–state triples: given the current state and symbol, the map\n",
    "tells us what symbol is written, how the head moves and what's the new state.\n",
    "\n",
    "I will represent the tape as a list, with one symbol per cell.\n",
    "The blank symbol is represented with `None`.\n",
    "The current position of the head is a natural number, indexing the list.\n",
    "The movement can thus be represented as how the current index changes:\n",
    "−1 to move the head left, +1 to move it right and 0 if it doesn't move.\n",
    "\n",
    "Here's the transition table for the parity problem,\n",
    "written as a Python dictionary. For readability, it uses constants\n",
    "`LEFT` (-1), `STAY` (0), `RIGHT` (+1) defined in `m269_tm.py`.\n",
    "A dictionary's key–value pairs can be given in any order.\n",
    "One possibility is to follow the table I wrote earlier, row by row, to make sure\n",
    "no state–symbol combination is forgotten."
   ]
  },
  {
   "cell_type": "code",
   "execution_count": 2,
   "id": "12",
   "metadata": {},
   "outputs": [],
   "source": [
    "parity = {\n",
    "    # (state now, symbol read):  (symbol written, move, next state)\n",
    "    ('start', None):    (None, RIGHT, 'even'),\n",
    "\n",
    "    ('even', None):     (0, LEFT, 'back'),\n",
    "    ('even', 0):        (0, RIGHT, 'even'),\n",
    "    ('even', 1):        (1, RIGHT, 'odd'),\n",
    "\n",
    "    ('odd', None):      (1, LEFT, 'back'),\n",
    "    ('odd', 0):         (0, RIGHT, 'odd'),\n",
    "    ('odd', 1):         (1, RIGHT, 'even'),\n",
    "\n",
    "    # ('back', None):   stop\n",
    "    ('back', 0):        (0, LEFT, 'back'),\n",
    "    ('back', 1):        (1, LEFT, 'back')\n",
    "}"
   ]
  },
  {
   "cell_type": "markdown",
   "id": "13",
   "metadata": {},
   "source": [
    "An alternative order follows the algorithm.\n",
    "```python\n",
    "parity = {\n",
    "    ('start', None):    (None, RIGHT, 'even'),\n",
    "\n",
    "    # skip 0s and 1s, switching state on each 1\n",
    "    ('even', 0):        (0, RIGHT, 'even'),\n",
    "    ('even', 1):        (1, RIGHT, 'odd'),\n",
    "    ('odd', 0):         (0, RIGHT, 'odd'),\n",
    "    ('odd', 1):         (1, RIGHT, 'even'),\n",
    "\n",
    "    # when reading a blank, write the parity bit and start moving back\n",
    "    ('even', None):     (0, LEFT, 'back'),\n",
    "    ('odd', None):      (1, LEFT, 'back'),\n",
    "\n",
    "    # skip all 0s and 1s, stop when reaching the first blank\n",
    "    ('back', 0):        (0, LEFT, 'back'),\n",
    "    ('back', 1):        (1, LEFT, 'back')\n",
    "}\n",
    "```"
   ]
  },
  {
   "cell_type": "markdown",
   "id": "14",
   "metadata": {},
   "source": [
    "<div class=\"alert alert-warning\">\n",
    "<strong>Note:</strong> In a TMA, you can list the transitions in either of these orders, as you prefer.\n",
    "</div>"
   ]
  },
  {
   "cell_type": "markdown",
   "id": "15",
   "metadata": {},
   "source": [
    "Before running a machine, I recommend you check it with `check_tm`,\n",
    "a function that can spot small mistakes, like mistyping a state name.\n",
    "The function needs the sets of input and output symbols, to check\n",
    "among other things that each input symbol is read by at least one transition\n",
    "(otherwise the machine wouldn't handle all possible input tapes).\n",
    "In this case, the input and output symbols are the same: 0 and 1."
   ]
  },
  {
   "cell_type": "code",
   "execution_count": 3,
   "id": "16",
   "metadata": {},
   "outputs": [
    {
     "name": "stdout",
     "output_type": "stream",
     "text": [
      "OK: the transition table passed the automatic checks\n"
     ]
    }
   ],
   "source": [
    "PARITY_IN = {0, 1}\n",
    "PARITY_OUT = PARITY_IN\n",
    "\n",
    "check_tm(parity, PARITY_IN, PARITY_OUT)"
   ]
  },
  {
   "cell_type": "markdown",
   "id": "17",
   "metadata": {},
   "source": [
    "All's well with this machine.\n",
    "Here's a bogus machine to illustrate some errors that `check_tm` spots."
   ]
  },
  {
   "cell_type": "code",
   "execution_count": 4,
   "id": "18",
   "metadata": {},
   "outputs": [
    {
     "name": "stdout",
     "output_type": "stream",
     "text": [
      "ERROR in (None, 'even'): None is not a state name (string)\n",
      "ERROR in (0, 'back', -1): back is not STAY, LEFT or RIGHT\n",
      "ERROR in (1, 'even'): not a tuple (symbol, movement, state)\n",
      "ERROR: no state named 'start'\n",
      "ERROR: no transitions to states {'begin', 'eben'}\n",
      "ERROR: no transitions read input symbols {0}\n",
      "ERROR: symbols {2} are read but no other transitions write them\n",
      "WARNING: symbols {2, 3} are written but no other transitions read them\n"
     ]
    }
   ],
   "source": [
    "wrong_parity = {\n",
    "    # wrong name for initial state, which becomes unreachable\n",
    "    ('begin', None):    (None, RIGHT, 'even'),\n",
    "    # state, symbol and movement in wrong order, in both tuples\n",
    "    (None, 'even'):     (0, 'back', LEFT),\n",
    "    # missing movement\n",
    "    ('odd', 1):         (1, 'even'),\n",
    "    # typo in state name, which leads to another unreachable state\n",
    "    ('eben', 1):        (0, RIGHT, 'even'),\n",
    "    # symbol 2 is read (expected on the tape) but is not in input nor written by another transition\n",
    "    ('even', 2):        (2, RIGHT, 'even'),\n",
    "    # symbol 3 is written but not used in output or by another transition\n",
    "    ('even', 1):        (3, RIGHT, 'odd')\n",
    "}\n",
    "\n",
    "check_tm(wrong_parity, PARITY_IN, PARITY_OUT)"
   ]
  },
  {
   "cell_type": "markdown",
   "id": "19",
   "metadata": {},
   "source": [
    "Did you spot the error I didn't mention in the comments? (No transition reads 0.)\n",
    "Such small errors can be difficult to find and fix just by testing the machine,\n",
    "hence it's always best to check the transition table first.\n",
    "The checking function can't guarantee the machine is correct,\n",
    "but at least it can catch some mistakes.\n",
    "\n",
    "Now we can run the machine with function `run_tm`.\n",
    "It looks up the dictionary with the current state and symbol and\n",
    "carries out the associated actions:\n",
    "write a symbol, move the head, change the state.\n",
    "It keeps doing this until it finds no entry for the current state–symbol pair.\n",
    "\n",
    "The Turing machines you will be asked to write in M269 are simple\n",
    "and will have short inputs.\n",
    "If your machine hasn't stopped after 100&nbsp;steps,\n",
    "it probably entered an infinite loop, and the simulator will stop.\n",
    "\n",
    "Since the tape is only infinite to the right, the simulator also stops\n",
    "if the head goes left past the first position.\n",
    "\n",
    "Once the simulator stops, it returns the content of the tape from the head's\n",
    "position onwards. That's the output of the machine.\n",
    "Here's the output for the example input given in the figure above."
   ]
  },
  {
   "cell_type": "code",
   "execution_count": 5,
   "id": "20",
   "metadata": {},
   "outputs": [
    {
     "data": {
      "text/plain": [
       "[None, 1, 0, 1, 0]"
      ]
     },
     "execution_count": 5,
     "metadata": {},
     "output_type": "execute_result"
    }
   ],
   "source": [
    "run_tm(parity, [None, 1, 0, 1])"
   ]
  },
  {
   "cell_type": "markdown",
   "id": "21",
   "metadata": {},
   "source": [
    "To see what's happening step by step, the simulator\n",
    "can print out the configurations it is going through.\n",
    "Each configuration is printed in the form\n",
    "```python\n",
    "counter current state [symbols left of the head] current symbol [symbols right of the head]\n",
    "```\n",
    "where the counter starts at zero for the initial configuration.\n",
    "The configurations are printed by enabling debugging mode through a third, Boolean argument."
   ]
  },
  {
   "cell_type": "code",
   "execution_count": 6,
   "id": "22",
   "metadata": {},
   "outputs": [
    {
     "name": "stdout",
     "output_type": "stream",
     "text": [
      "0 start [] None [1, 0, 1]\n",
      "1 even [None] 1 [0, 1]\n",
      "2 odd [None, 1] 0 [1]\n",
      "3 odd [None, 1, 0] 1 []\n",
      "4 even [None, 1, 0, 1] None []\n",
      "5 back [None, 1, 0] 1 [0]\n",
      "6 back [None, 1] 0 [1, 0]\n",
      "7 back [None] 1 [0, 1, 0]\n",
      "8 back [] None [1, 0, 1, 0]\n"
     ]
    },
    {
     "data": {
      "text/plain": [
       "[None, 1, 0, 1, 0]"
      ]
     },
     "execution_count": 6,
     "metadata": {},
     "output_type": "execute_result"
    }
   ],
   "source": [
    "run_tm(parity, [None, 1, 0, 1], debug=True)"
   ]
  },
  {
   "cell_type": "markdown",
   "id": "23",
   "metadata": {},
   "source": [
    "We can use test tables to run a machine\n",
    "with several inputs and compare the actual outputs with the expected ones.\n",
    "The test table just includes the input tape, the debug parameter and the expected output\n",
    "for each test. Debugging is initially off but we can turn it later on for tests that fail."
   ]
  },
  {
   "cell_type": "code",
   "execution_count": 7,
   "id": "24",
   "metadata": {},
   "outputs": [],
   "source": [
    "parity_tests = [\n",
    "    # name,       input,      debug,  output\n",
    "    ('no bits',   [None],     False,  [None, 0]),\n",
    "    ('just 0',    [None, 0],  False,  [None, 0, 0]),\n",
    "    ('just 1',    [None, 1],  False,  [None, 1, 1]),\n",
    "]"
   ]
  },
  {
   "cell_type": "markdown",
   "id": "25",
   "metadata": {},
   "source": [
    "I recommend checking the test table with `check_tm_tests` before running the tests.\n",
    "This function also needs the input and output symbols, to check that each test\n",
    "only uses those symbols."
   ]
  },
  {
   "cell_type": "code",
   "execution_count": 8,
   "id": "26",
   "metadata": {},
   "outputs": [
    {
     "name": "stdout",
     "output_type": "stream",
     "text": [
      "OK: the test table passed the automatic checks.\n"
     ]
    }
   ],
   "source": [
    "check_tm_tests(parity_tests, PARITY_IN, PARITY_OUT)"
   ]
  },
  {
   "cell_type": "markdown",
   "id": "27",
   "metadata": {},
   "source": [
    "Finally, we can run the tests with the new function `test_tm`, which has\n",
    "two parameters: the machine (transition table) to test, and the test table."
   ]
  },
  {
   "cell_type": "code",
   "execution_count": 9,
   "id": "28",
   "metadata": {},
   "outputs": [
    {
     "name": "stdout",
     "output_type": "stream",
     "text": [
      "Tests finished: 3 passed (100%), 0 failed.\n"
     ]
    }
   ],
   "source": [
    "test_tm(parity, parity_tests)"
   ]
  },
  {
   "cell_type": "markdown",
   "id": "29",
   "metadata": {},
   "source": [
    "The function takes an optional third parameter, a Boolean that controls whether\n",
    "the tests' names are printed as they're executed. This helps tracking what's happening,\n",
    "especially when debugging several tests."
   ]
  },
  {
   "cell_type": "code",
   "execution_count": 10,
   "id": "30",
   "metadata": {},
   "outputs": [
    {
     "name": "stdout",
     "output_type": "stream",
     "text": [
      "Running test no bits...\n",
      "0 start [] None []\n",
      "1 even [None] None []\n",
      "2 back [] None [0]\n",
      "Running test just 0...\n",
      "Running test just 1...\n",
      "0 start [] None [1]\n",
      "1 even [None] 1 []\n",
      "2 odd [None, 1] None []\n",
      "3 back [None] 1 [1]\n",
      "4 back [] None [1, 1]\n",
      "Tests finished: 3 passed (100%), 0 failed.\n"
     ]
    }
   ],
   "source": [
    "parity_tests_debug = [\n",
    "    # name,       input,      debug,   output\n",
    "    ('no bits',   [None],     True,    [None, 0]),\n",
    "    ('just 0',    [None, 0],  False,   [None, 0, 0]),\n",
    "    ('just 1',    [None, 1],  True,    [None, 1, 1]),\n",
    "]\n",
    "\n",
    "test_tm(parity, parity_tests_debug, show_tests=True)"
   ]
  },
  {
   "cell_type": "markdown",
   "id": "31",
   "metadata": {},
   "source": [
    "Now over to you, for some practice."
   ]
  },
  {
   "cell_type": "markdown",
   "id": "32",
   "metadata": {},
   "source": [
    "### 27.1.4 Checking passwords"
   ]
  },
  {
   "cell_type": "markdown",
   "id": "33",
   "metadata": {},
   "source": [
    "We want a machine that decides whether the tape contains a valid password:\n",
    "a password with at least one letter and at least one digit.\n",
    "To represent all English letters and all 10 digits,\n",
    "we will use only two symbols: characters 'a' and '0'.\n",
    "\n",
    "The input is a possibly empty sequence of those two characters.\n",
    "The machine should write at the end of the sequence the corresponding Boolean,\n",
    "keep the head over it and stop.\n",
    "The set of symbols thus includes two further symbols, the Boolean values,\n",
    "to represent the output.\n",
    "For example, if the input is ('a', 'a'), then the output is (false).\n",
    "Remember that in this case the output is the sequence of symbols from the head to the right.\n",
    "The final tape is actually ('a', 'a', false)."
   ]
  },
  {
   "cell_type": "markdown",
   "id": "34",
   "metadata": {},
   "source": [
    "#### Exercise 27.1.1"
   ]
  },
  {
   "cell_type": "markdown",
   "id": "35",
   "metadata": {},
   "source": [
    "Outline an algorithm for the Turing machine.\n",
    "Don't forget to indicate the states."
   ]
  },
  {
   "cell_type": "markdown",
   "id": "36",
   "metadata": {},
   "source": [
    "_Write your answer here._"
   ]
  },
  {
   "cell_type": "markdown",
   "id": "37",
   "metadata": {},
   "source": [
    "[Hint](../31_Hints/Hints_27_1_01.ipynb)\n",
    "[Answer](../32_Answers/Answers_27_1_01.ipynb)"
   ]
  },
  {
   "cell_type": "markdown",
   "id": "38",
   "metadata": {},
   "source": [
    "#### Exercise 27.1.2"
   ]
  },
  {
   "cell_type": "markdown",
   "id": "39",
   "metadata": {},
   "source": [
    "Complete the transition table below.\n",
    "I wrote the first two transitions for you."
   ]
  },
  {
   "cell_type": "code",
   "execution_count": 11,
   "id": "40",
   "metadata": {},
   "outputs": [],
   "source": [
    "VALID_IN = {\"0\", \"a\"}\n",
    "VALID_OUT = {True, False}\n",
    "\n",
    "is_valid = {\n",
    "    ('start', 'a'):     ('a', RIGHT, 'letter'),\n",
    "    ('start', '0'):     ('0', RIGHT, 'digit'),\n",
    "    # add your transitions here\n",
    "}\n",
    "\n",
    "check_tm(is_valid, VALID_IN, VALID_OUT)\n",
    "\n",
    "is_valid_tests = [\n",
    "    # case,         input,            debug,  output\n",
    "    ('empty pwd',   [],               False,  [False]),\n",
    "    ('no digits',   ['a', 'a'],       False,  [False]),\n",
    "    ('no letters',  ['0'],            False,  [False]),\n",
    "    ('both',        ['0', 'a', '0'],  False,  [True])\n",
    "]\n",
    "\n",
    "check_tm_tests(is_valid_tests, VALID_IN, VALID_OUT)\n",
    "\n",
    "test_tm(is_valid, is_valid_tests)"
   ]
  },
  {
   "cell_type": "markdown",
   "id": "41",
   "metadata": {},
   "source": [
    "Remember that you can see the step-by-step configurations\n",
    "by setting `debug` to `True`.\n",
    "In that case you may wish to add `True` as a final argument to `test_tm`.\n",
    "\n",
    "[Hint](../31_Hints/Hints_27_1_02.ipynb)\n",
    "[Answer](../32_Answers/Answers_27_1_02.ipynb)"
   ]
  },
  {
   "cell_type": "markdown",
   "id": "42",
   "metadata": {},
   "source": [
    "#### Exercise 27.1.3"
   ]
  },
  {
   "cell_type": "markdown",
   "id": "43",
   "metadata": {},
   "source": [
    "Imagine the input may include all 26 English letters,\n",
    "both in uppercase and lowercase, and all 10 digits.\n",
    "How would you change the transition table to check that the input is\n",
    "a valid password, i.e. has at least one letter and at least one digit?\n",
    "Don't write the table: just describe what additional entries would be needed.\n",
    "(The table would be rather long.\n",
    "Can you estimate how many additional entries are needed?)"
   ]
  },
  {
   "cell_type": "markdown",
   "id": "44",
   "metadata": {},
   "source": [
    "_Write your answer here._"
   ]
  },
  {
   "cell_type": "markdown",
   "id": "45",
   "metadata": {},
   "source": [
    "[Hint](../31_Hints/Hints_27_1_03.ipynb)\n",
    "[Answer](../32_Answers/Answers_27_1_03.ipynb)"
   ]
  },
  {
   "cell_type": "markdown",
   "id": "46",
   "metadata": {},
   "source": [
    "#### Exercise 27.1.4"
   ]
  },
  {
   "cell_type": "markdown",
   "id": "47",
   "metadata": {},
   "source": [
    "Now imagine we require a valid password to also include at least one of the\n",
    "three punctuation marks '.', '!' or '?'. Which states would you need?"
   ]
  },
  {
   "cell_type": "markdown",
   "id": "48",
   "metadata": {},
   "source": [
    "_Write your answer here._"
   ]
  },
  {
   "cell_type": "markdown",
   "id": "49",
   "metadata": {},
   "source": [
    "[Hint](../31_Hints/Hints_27_1_04.ipynb)\n",
    "[Answer](../32_Answers/Answers_27_1_04.ipynb)"
   ]
  },
  {
   "cell_type": "markdown",
   "id": "50",
   "metadata": {},
   "source": [
    "⟵ [Previous section](27-introduction.ipynb) | [Up](27-introduction.ipynb) | [Next section](27_2_thesis.ipynb) ⟶"
   ]
  }
 ],
 "metadata": {
  "kernelspec": {
   "display_name": "Python 3",
   "language": "python",
   "name": "python3"
  },
  "language_info": {
   "codemirror_mode": {
    "name": "ipython",
    "version": 3
   },
   "file_extension": ".py",
   "mimetype": "text/x-python",
   "name": "python",
   "nbconvert_exporter": "python",
   "pygments_lexer": "ipython3",
   "version": "3.12.10"
  }
 },
 "nbformat": 4,
 "nbformat_minor": 5
}
