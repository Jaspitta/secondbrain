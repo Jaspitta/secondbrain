{
 "cells": [
  {
   "cell_type": "markdown",
   "id": "0",
   "metadata": {},
   "source": [
    "# 27 Computability"
   ]
  },
  {
   "cell_type": "markdown",
   "id": "1",
   "metadata": {},
   "source": [
    "We started M269 with problems that can be solved with simple and efficient\n",
    "algorithms, like linear search.\n",
    "Problems became increasingly complicated, but most could still be solved\n",
    "efficiently with clever algorithms and data structures,\n",
    "like binary search and heaps.\n",
    "Even for the most expressive data type – graphs – most algorithms had\n",
    "quadratic complexity or better.\n",
    "\n",
    "Nevertheless, for problems like the travelling salesman and the 0/1 knapsack,\n",
    "even techniques like backtracking or dynamic programming didn't lead to\n",
    "better than exponential algorithms.\n",
    "The previous chapter showed that it's unlikely polynomial algorithms\n",
    "will be found for these problems.\n",
    "\n",
    "This chapter concludes M269 with the hardest of all problems:\n",
    "those that have no algorithmic solution at all: not now, not ever.\n",
    "\n",
    "This chapter supports these learning outcomes:\n",
    "\n",
    "- Know about the limits of computation and their practical implications – this chapter introduces three non-computable problems that\n",
    "  have practical implications.\n",
    "- Understand the Turing Machine model of computation – this chapter introduces the computational model that is\n",
    "  the basis of all formal definitions.\n",
    "\n",
    "Before starting to work on this chapter, check the M269\n",
    "[news](https://learn2.open.ac.uk/blocks/news/all.php?bi=326014) and [errata](https://learn2.open.ac.uk/mod/url/view.php?id=2554721),\n",
    "and check the TMAs for what is assessed."
   ]
  },
  {
   "cell_type": "markdown",
   "id": "2",
   "metadata": {
    "nbsphinx-toctree": {
     "hidden": true,
     "maxdepth": 1,
     "numbered": false
    }
   },
   "source": [
    "1. [Turing machine](27_1_turing_machine.ipynb)\n",
    "1. [The Church–Turing thesis](27_2_thesis.ipynb)\n",
    "1. [Static analysis](27_3_static_analysis.ipynb)\n",
    "1. [Undecidability](27_4_undecidability.ipynb)\n",
    "1. [Summary](27_5_summary.ipynb)"
   ]
  },
  {
   "cell_type": "markdown",
   "id": "3",
   "metadata": {},
   "source": [
    "⟵ [Previous chapter](../26_Complexity_classes/26-introduction.ipynb) | [Up](../M269.ipynb) | [Next chapter](../28_TMA03-2/28-introduction.ipynb) ⟶"
   ]
  }
 ],
 "metadata": {
  "kernelspec": {
   "display_name": "Python 3",
   "language": "python",
   "name": "python3"
  },
  "language_info": {
   "codemirror_mode": {
    "name": "ipython",
    "version": 3
   },
   "file_extension": ".py",
   "mimetype": "text/x-python",
   "name": "python",
   "nbconvert_exporter": "python",
   "pygments_lexer": "ipython3",
   "version": "3.12.10"
  }
 },
 "nbformat": 4,
 "nbformat_minor": 5
}
