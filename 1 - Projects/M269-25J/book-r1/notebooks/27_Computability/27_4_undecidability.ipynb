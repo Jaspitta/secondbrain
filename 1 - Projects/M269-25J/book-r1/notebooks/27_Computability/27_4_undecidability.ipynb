{
 "cells": [
  {
   "cell_type": "markdown",
   "id": "0",
   "metadata": {},
   "source": [
    "## 27.4 Undecidability"
   ]
  },
  {
   "cell_type": "markdown",
   "id": "1",
   "metadata": {},
   "source": [
    "Having looked at how functions can analyse other functions and themselves,\n",
    "let me introduce three problems about functions that are not computable.\n",
    "They all happen to be decision problems.\n",
    "Non-computable decision problems are simply called **undecidable** problems."
   ]
  },
  {
   "cell_type": "markdown",
   "id": "2",
   "metadata": {},
   "source": [
    "### 27.4.1 The halting problem"
   ]
  },
  {
   "cell_type": "markdown",
   "id": "3",
   "metadata": {},
   "source": [
    "Our first undecidable problem is the **halting problem**:\n",
    "given an algorithm and a valid input for it,\n",
    "i.e. that satisfies the preconditions,\n",
    "will the execution of the algorithm terminate for that input?\n",
    "(Note that we're not interested in the output or whether it's correct.)\n",
    "In terms of Turing machines, the problem is: given the transition table and\n",
    "the initial tape content, will the machine eventually stop?\n",
    "\n",
    "We'll assume the algorithm has a single input value, to make the examples concrete.\n",
    "In terms of Python, what we want is a static analysis function with this heading."
   ]
  },
  {
   "cell_type": "code",
   "execution_count": 1,
   "id": "4",
   "metadata": {},
   "outputs": [],
   "source": [
    "from typing import Callable\n",
    "\n",
    "\n",
    "def halts(function: Callable, value: object) -> bool:\n",
    "    \"\"\"Return True if and only if function(value) eventually stops.\"\"\"\n",
    "    # do some highly sophisticated static analysis here"
   ]
  },
  {
   "cell_type": "markdown",
   "id": "5",
   "metadata": {},
   "source": [
    "Note that `halts` must do static analysis: it cannot execute `function`\n",
    "because if the latter enters an infinite loop for `value`, so would `halts`.\n",
    "We would never get the desired `False` output to know that `function`\n",
    "doesn't halt on `value`.\n",
    "\n",
    "It's possible to statically analyse *some* functions\n",
    "and determine whether they enter an infinite loop. For example,\n",
    "we could check if a function has no while- or for-loops, no recursive calls and\n",
    "only uses operations of which we know they halt.\n",
    "In such cases, the function will stop for every input value and\n",
    "`halts` would return `True`.\n",
    "\n",
    "While such restricted forms on static analysis are possible,\n",
    "`halts` doesn't exist: nobody will ever be able to write\n",
    "a general algorithm that can decide whether *any* given algorithm halts\n",
    "on *any* given input.\n",
    "\n",
    "Let's assume that function `halts` did exist.\n",
    "Then we could write functions that call it, like this one:"
   ]
  },
  {
   "cell_type": "code",
   "execution_count": 2,
   "id": "6",
   "metadata": {},
   "outputs": [],
   "source": [
    "def opposite(f: Callable) -> bool:\n",
    "    \"\"\"Return True if and only if f(f) doesn't halt.\n",
    "\n",
    "    Preconditions: f takes a function as argument\n",
    "    \"\"\"\n",
    "    if halts(f, f):  # does f(f) halt?\n",
    "        while True:\n",
    "            pass\n",
    "        return False\n",
    "    else:\n",
    "        return True"
   ]
  },
  {
   "cell_type": "markdown",
   "id": "7",
   "metadata": {},
   "source": [
    "Function `opposite` uses `halts` to check if the call `f(f)` eventually stops.\n",
    "If it does, `opposite` gets into an infinite loop and never returns `False`.\n",
    "If `f(f)` doesn't halt, then `opposite` does, returning `True`.\n",
    "In summary, `opposite(f)` halts if and only if `f(f)` doesn't.\n",
    "\n",
    "For example, `opposite(help)` doesn't halt because `help(help)` does:\n",
    "the `help` function prints its own docstring and stops,\n",
    "as shown in the previous section.\n",
    "\n",
    "Now comes the sting in the tail.\n",
    "What would happen if we call `opposite` on itself?\n",
    "How will `opposite(opposite)` behave? As I just mentioned,\n",
    "\n",
    "> `opposite(f)` halts if and only if `f(f)` doesn't.\n",
    "\n",
    "Replacing `f` with `opposite`, we have that\n",
    "\n",
    "> `opposite(opposite)` halts if and only if `opposite(opposite)` doesn't.\n",
    "\n",
    "In other words,\n",
    "we have a function call that stops and doesn't stop at the same time:\n",
    "an impossible behaviour. This means that function `halts` can't exist:\n",
    "otherwise `opposite` would be able to call it and we'd get into this paradox."
   ]
  },
  {
   "cell_type": "markdown",
   "id": "8",
   "metadata": {},
   "source": [
    "<div class=\"alert alert-info\">\n",
    "<strong>Info:</strong> _<a href=\"http://www.lel.ed.ac.uk/~gpullum/loopsnoop.html\">Scooping the loop snooper</a>_\n",
    "is an entertaining and rhyming rendition of the above proof.\n",
    "This kind of proof is called a proof by contradiction:\n",
    "we assume the opposite of what we want to prove\n",
    "(here we assume <code>halts</code> <em>does</em> exist) and obtain a contradiction,\n",
    "thereby showing that our assumption was wrong.\n",
    "</div>"
   ]
  },
  {
   "cell_type": "markdown",
   "id": "9",
   "metadata": {},
   "source": [
    "We're asking function `halts` to predict how `opposite(opposite)` will behave\n",
    "and once we know what the prediction is, we do the opposite.\n",
    "So it's not possible to make a correct prediction for\n",
    "function `opposite` with input `opposite`.\n",
    "And if there's no algorithm that can solve the halting problem for\n",
    "one particular function and input, then there's no algorithm that\n",
    "can solve the problem for *any* function and input,\n",
    "so the halting problem is undecidable."
   ]
  },
  {
   "cell_type": "markdown",
   "id": "10",
   "metadata": {},
   "source": [
    "### 27.4.2 The totality problem"
   ]
  },
  {
   "cell_type": "markdown",
   "id": "11",
   "metadata": {},
   "source": [
    "The halting problem asks if a given algorithm stops on *one* given input.\n",
    "Unsurprisingly, the more general\n",
    "**totality problem**  (does a given algorithm stop for *all* its valid inputs?)\n",
    "is also undecidable.\n",
    "\n",
    "The undecidability of the totality problem has great practical consequences.\n",
    "No matter how sophisticated our programming tools will ever be,\n",
    "they will never be able to determine for *any* program whether it will\n",
    "enter an infinite loop for some input.\n",
    "They might be able to tell us the answer for *some* programs with particular\n",
    "characteristics, but not for all.\n",
    "Since there's no systematic way to detect infinite loops,\n",
    "the practical consequence is that sometimes apps still 'freeze',\n",
    "even if they were well tested,\n",
    "because tests can't cover all possible inputs."
   ]
  },
  {
   "cell_type": "markdown",
   "id": "12",
   "metadata": {},
   "source": [
    "### 27.4.3 Rice's theorem"
   ]
  },
  {
   "cell_type": "markdown",
   "id": "13",
   "metadata": {},
   "source": [
    "At this point you may be thinking that\n",
    "the undecidability of the totality problem is not a big deal.\n",
    "Only a few programs may get into infinite loops. Most programs have other kinds\n",
    "of errors: division by zero, indices off by one, etc.\n",
    "Unfortunately, detecting any of those issues is an undecidable problem too.\n",
    "\n",
    "In fact, **Rice's theorem** states that *all* non-trivial\n",
    "decision problems about the behaviour of programs are undecidable.\n",
    "'Non-trivial' means the decision can't be the same for all programs.\n",
    "For example, the decision problem\n",
    "'Does the program execute zero or more steps?' is trivial:\n",
    "the answer is always 'yes' and hence the problem is decidable.\n",
    "\n",
    "Note that problems about the structure of programs are decidable.\n",
    "For example, the decision problem\n",
    "'Does the program contain a for- or while-loop?' is about the program's syntax,\n",
    "not its behaviour, and hence it's decidable."
   ]
  },
  {
   "cell_type": "markdown",
   "id": "14",
   "metadata": {},
   "source": [
    "<div class=\"alert alert-info\">\n",
    "<strong>Info:</strong> The theorem is named after Henry Rice, who proved it in his 1951 PhD thesis.\n",
    "</div>"
   ]
  },
  {
   "cell_type": "markdown",
   "id": "15",
   "metadata": {},
   "source": [
    "The practical consequence of Rice's theorem is that most software systems\n",
    "have errors, even when developed by very smart people following best practices,\n",
    "because there's no magic static analysis wand that can determine\n",
    "whether a program is correct.\n",
    "And no advance in AI or quantum computing will\n",
    "turn non-computable problems into computable ones."
   ]
  },
  {
   "cell_type": "markdown",
   "id": "16",
   "metadata": {},
   "source": [
    "### 27.4.4 The equivalence problem"
   ]
  },
  {
   "cell_type": "markdown",
   "id": "17",
   "metadata": {},
   "source": [
    "The halting and totality problems have a single algorithm as input,\n",
    "but we can also define problems on two or more algorithms.\n",
    "The most famous is the **equivalence problem**: given two different algorithms\n",
    "for the same problem, do they compute the same output for the same valid input?\n",
    "\n",
    "An algorithm that solves the equivalence problem would be of great value to\n",
    "the M269 tutors and all programming teachers.\n",
    "We would write *one* model solution for each programming assessment and\n",
    "the equivalence problem algorithm would decide if your submission\n",
    "is equivalent to the model solution and thus correct or not.\n",
    "(Assuming we write correct model answers, which we tend to do.)\n",
    "If the equivalence problem algorithm returns false,\n",
    "your tutor would still have to figure out, through tests or reasoning,\n",
    "for which inputs your and the model programs diverge.\n",
    "\n",
    "More importantly, having an algorithm for the equivalence problem would allow\n",
    "programmers to check successive versions of their programs to make sure\n",
    "that their changes to the efficiency or structure of the code don't\n",
    "break the functionality.\n",
    "\n",
    "Unfortunately, that algorithm doesn't exist:\n",
    "the equivalence problem is also undecidable.\n",
    "\n",
    "Like the halting and totality problems, the equivalence problem can be solved\n",
    "for some particular programs. For example, it's possible to write\n",
    "a Python function that checks if two Python functions are the same, except for\n",
    "differences in the docstring, comments, spaces and the names of variables.\n",
    "However, it’s impossible to write an algorithm that solves\n",
    "the equivalence problem for *any* two programs."
   ]
  },
  {
   "cell_type": "markdown",
   "id": "18",
   "metadata": {},
   "source": [
    "### 27.4.5 Reduction and computability"
   ]
  },
  {
   "cell_type": "markdown",
   "id": "19",
   "metadata": {},
   "source": [
    "You learned in Chapter&nbsp;26&nbsp;how polynomial-time reduction can be used to\n",
    "classify problems as tractable or NP-hard. Here you'll see how\n",
    "it can be used to classify problems as computable or not.\n",
    "\n",
    "If problem A can be reduced to problem B,\n",
    "then we have the following algorithm for A:\n",
    "\n",
    "1. Transform the inputs of A into those of B.\n",
    "2. Compute the output of B using any algorithm for B.\n",
    "3. Transform the output of B into the one for A.\n",
    "\n",
    "Steps 1 and 3 do not have to take polynomial time for A to be solvable:\n",
    "what matters is that there must be some algorithm for B we can use.\n",
    "In summary, a reduction of A to B tells us that if B can be solved, so can A."
   ]
  },
  {
   "cell_type": "markdown",
   "id": "20",
   "metadata": {},
   "source": [
    "<div class=\"alert alert-warning\">\n",
    "<strong>Note:</strong> If problem A reduces to a computable problem B, then A is computable too.\n",
    "</div>"
   ]
  },
  {
   "cell_type": "markdown",
   "id": "21",
   "metadata": {},
   "source": [
    "What if we're told that A reduces to B, i.e. steps 1 and 3 are possible,\n",
    "but that A can't be solved, i.e. there's no algorithm for A?\n",
    "In that case, step&nbsp;2 isn't possible: there's no algorithm for B.\n",
    "If there were one, the three steps would form an algorithm for A,\n",
    "which we're told is not possible. In summary,\n",
    "a reduction of A to B tells us that if A can't be solved, neither can B."
   ]
  },
  {
   "cell_type": "markdown",
   "id": "22",
   "metadata": {},
   "source": [
    "<div class=\"alert alert-warning\">\n",
    "<strong>Note:</strong> If a non-computable problem A reduces to problem B,\n",
    "then B isn't computable either.\n",
    "</div>"
   ]
  },
  {
   "cell_type": "markdown",
   "id": "23",
   "metadata": {},
   "source": [
    "This fact allowed computer scientists to reduce the halting problem to\n",
    "the totality, equivalence and other problems to prove they are undecidable too."
   ]
  },
  {
   "cell_type": "markdown",
   "id": "24",
   "metadata": {},
   "source": [
    "### 27.4.6 The problem landscape"
   ]
  },
  {
   "cell_type": "markdown",
   "id": "25",
   "metadata": {},
   "source": [
    "The [diagram](../26_Complexity_classes/26_6_summary.ipynb#26.6.2-Problem-classes) in Chapter&nbsp;26 covers\n",
    "all computable problems, because each one\n",
    "is either tractable or intractable and is either a decision problem or not.\n",
    "If we add non-computable problems to that diagram, we get:\n",
    "\n",
    "<p id=\"fig-27.4.1\"></p>\n",
    "\n",
    "*[Figure 27.4.1](../33_Figures/Figures_27_4.ipynb#Figure-27.4.1)*\n",
    "\n",
    "![Image 27_4_classes.png](27_4_classes.png)\n",
    "\n",
    "The new diagram shows that the undecidable problems are the intersection of\n",
    "the non-computable and the decision problems.\n",
    "\n",
    "The new diagram also shows that the NP-hard class also includes\n",
    "non-computable problems. For example, it includes the halting problem.\n",
    "\n",
    "As [explained before](../26_Complexity_classes/26_4_hardness.ipynb#26.4.3-The-NP-hard-class),\n",
    "if an NP-hard problem A reduces in polynomial time to problem B,\n",
    "then B is NP-hard too.\n",
    "It has been shown that there's a polynomial-time reduction of the SAT problem,\n",
    "which is NP-hard, to the halting problem, which is therefore NP-hard too."
   ]
  },
  {
   "cell_type": "markdown",
   "id": "26",
   "metadata": {},
   "source": [
    "#### Exercise 27.4.1"
   ]
  },
  {
   "cell_type": "markdown",
   "id": "27",
   "metadata": {},
   "source": [
    "Knowing that the halting problem reduces in polynomial time to\n",
    "the totality and to the equivalence problems, does it mean that\n",
    "these two problems are NP-hard too? Explain why or why not."
   ]
  },
  {
   "cell_type": "markdown",
   "id": "28",
   "metadata": {},
   "source": [
    "_Write your answer here._"
   ]
  },
  {
   "cell_type": "markdown",
   "id": "29",
   "metadata": {},
   "source": [
    "[Hint](../31_Hints/Hints_27_4_01.ipynb)\n",
    "[Answer](../32_Answers/Answers_27_4_01.ipynb)"
   ]
  },
  {
   "cell_type": "markdown",
   "id": "30",
   "metadata": {},
   "source": [
    "#### Exercise 27.4.2"
   ]
  },
  {
   "cell_type": "markdown",
   "id": "31",
   "metadata": {},
   "source": [
    "Bob is confused.\n",
    "\n",
    "'We were told that SAT reduces to the halting problem,' he tells Alice.\\\n",
    "'Indeed,' replies Alice.\\\n",
    "'We were also told that if a non-computable problem reduces to some problem B,\n",
    "then B isn't computable either,' continues Bob.\\\n",
    "'Yes,' confirms Alice.\\\n",
    "'So shouldn't SAT be undecidable, like the halting problem?' asks Bob.\n",
    "\n",
    "How can Alice explain to Bob what's wrong with his reasoning?"
   ]
  },
  {
   "cell_type": "markdown",
   "id": "32",
   "metadata": {},
   "source": [
    "_Write your answer here._"
   ]
  },
  {
   "cell_type": "markdown",
   "id": "33",
   "metadata": {},
   "source": [
    "[Hint](../31_Hints/Hints_27_4_02.ipynb)\n",
    "[Answer](../32_Answers/Answers_27_4_02.ipynb)"
   ]
  },
  {
   "cell_type": "markdown",
   "id": "34",
   "metadata": {},
   "source": [
    "⟵ [Previous section](27_3_static_analysis.ipynb) | [Up](27-introduction.ipynb) | [Next section](27_5_summary.ipynb) ⟶"
   ]
  }
 ],
 "metadata": {
  "kernelspec": {
   "display_name": "Python 3",
   "language": "python",
   "name": "python3"
  },
  "language_info": {
   "codemirror_mode": {
    "name": "ipython",
    "version": 3
   },
   "file_extension": ".py",
   "mimetype": "text/x-python",
   "name": "python",
   "nbconvert_exporter": "python",
   "pygments_lexer": "ipython3",
   "version": "3.12.10"
  }
 },
 "nbformat": 4,
 "nbformat_minor": 5
}
