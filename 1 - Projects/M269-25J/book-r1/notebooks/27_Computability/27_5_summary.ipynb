{
 "cells": [
  {
   "cell_type": "markdown",
   "id": "0",
   "metadata": {},
   "source": [
    "## 27.5 Summary"
   ]
  },
  {
   "cell_type": "markdown",
   "id": "1",
   "metadata": {},
   "source": [
    "This chapter introduced a formal model of computation, the Turing machine,\n",
    "and showed the theoretical and practical limitations of computation,\n",
    "by exhibiting three non-computable problems."
   ]
  },
  {
   "cell_type": "markdown",
   "id": "2",
   "metadata": {},
   "source": [
    "### 27.5.1 Turing machines"
   ]
  },
  {
   "cell_type": "markdown",
   "id": "3",
   "metadata": {},
   "source": [
    "A **Turing machine** consists of\n",
    "\n",
    "- an infinite **tape** made of **cells**, each having one **symbol**\n",
    "- a read/write **head** that is always over a single cell\n",
    "- a non-empty set of **states** (including an **initial state**)\n",
    "- a non-empty set of symbols (including the **blank** symbol)\n",
    "- a **transition table** that defines the algorithm followed by the machine.\n",
    "\n",
    "The blank symbol represents an 'empty' cell.\n",
    "\n",
    "The transition table has at most one entry per state–symbol pair, indicating\n",
    "one **execution step**:\n",
    "\n",
    "- the symbol that is written (it may be the symbol that was read)\n",
    "- how the head moves (one cell to the left or right or not at all)\n",
    "- the next state (it may be the same as the current state).\n",
    "\n",
    "A machine stops if there's no entry in the transition table for\n",
    "the current state and the current symbol under the head.\n",
    "\n",
    "In M269, the tape has a start but no end,\n",
    "the initial state is always called 'start' and\n",
    "the head is initially over the first, left-most cell.\n",
    "The machine stops with an error if the head moves to the left of the start position.\n",
    "\n",
    "The **input** (respectively, **output**) of the machine are the symbols from\n",
    "the initial (respectively, final) position of the head onwards,\n",
    "until the start of the infinite sequence of blanks.\n",
    "\n",
    "A **configuration** is given by the position of the head,\n",
    "the content of the tape and the state.\n",
    "In the initial configuration, the head is in the left-most position,\n",
    "the tape contains the machine's input followed by infinite blanks and\n",
    "the state is 'start'.\n",
    "The execution of the machine can be seen as a sequence of configurations,\n",
    "starting with the initial configuration.\n",
    "Each transition from one configuration to the next corresponds to\n",
    "the execution of one step.\n",
    "\n",
    "Turing machines are a formal model of computation: they define what\n",
    "algorithm, complexity and computability mean.\n",
    "\n",
    "File `m269_tm.py` provides function `run_tm(machine, input, debug)` that\n",
    "executes a given machine on a given input and returns the output.\n",
    "Input and output are represented as lists, with `None` for the blank symbol.\n",
    "The Boolean `debug` parameter is false when omitted; if it's given and true,\n",
    "the configurations are printed as the machine executes.\n",
    "\n",
    "A machine is defined by its transition table, represented with\n",
    "a Python dictionary that has state–symbol pairs as keys and\n",
    "symbol–movement–state triples as values.\n",
    "\n",
    "File `m269_tm.py` includes two further functions `check_tm(machine, in, out)`\n",
    "and `check_tm_tests(tests, in, out)` to check transition table `machine` and\n",
    "test table `tests` with input symbols `in` and outputs symbols `out`.\n",
    "Passing the checks doesn't guarantee that `machine` and `tests` are correct.\n",
    "\n",
    "The same file also defines function `test_tm(machine, tests, show_tests)` to\n",
    "test a machine against a test table. The Boolean `show_tests` parameter\n",
    "is false when omitted; if it's given and true, the name of each test is\n",
    "printed before it's executed."
   ]
  },
  {
   "cell_type": "markdown",
   "id": "4",
   "metadata": {},
   "source": [
    "### 27.5.2 Computability"
   ]
  },
  {
   "cell_type": "markdown",
   "id": "5",
   "metadata": {},
   "source": [
    "The **Church–Turing thesis** states that\n",
    "anything that can be computed can be computed by a Turing machine.\n",
    "The thesis suggests that anything people agree to call an algorithm\n",
    "can be written as a transition table for a Turing machine.\n",
    "It has been proven that the **lambda calculus**\n",
    "(a computational model based on functions) and the various definitions\n",
    "of Turing machine are all equivalent, giving strength to the thesis.\n",
    "\n",
    "A computational problem is **computable** if there's an algorithm,\n",
    "e.g. in the form of a Turing machine transition table or of a Python program,\n",
    "that solves the problem.\n",
    "An **undecidable** problem is a non-computable decision problem.\n",
    "The following problems are undecidable.\n",
    "\n",
    "- **Halting problem**: given an algorithm and a valid input for it,\n",
    "  i.e. that satisfies the problem's preconditions,\n",
    "  does the algorithm eventually stop for that input?\n",
    "- **Totality problem**: given an algorithm, does it stop for all valid inputs?\n",
    "- **Equivalence problem**: given two algorithms for the same problem,\n",
    "  do they produce the same output for each valid input?\n",
    "\n",
    "The undecidability of these problems has practical implications:\n",
    "it's impossible to determine if a program will get into an infinite loop,\n",
    "and it's impossible to determine if modifications to a program,\n",
    "e.g. to make it simpler or more efficient, will maintain its original behaviour.\n",
    "The problems can be solved with **static analysis**\n",
    "(the ability to analyse programs without running them)\n",
    "for particular kinds of programs or modifications,\n",
    "but not for *any* program or modification.\n",
    "\n",
    "Python supports static analysis with function `getsource` in module `inspect`.\n",
    "\n",
    "**Rice's theorem** states that all non-trivial decision problems\n",
    "about the behaviour of an algorithm are undecidable.\n",
    "A decision problem is trivial if the output is the same for all inputs.\n",
    "\n",
    "If problem A reduces (not necessarily in polynomial time) to problem B, then:\n",
    "\n",
    "- if B is computable, so is A\n",
    "- if A isn't computable, neither is B.\n",
    "\n",
    "The halting problem can be reduced (in polynomial time, as it happens)\n",
    "to the totality and to the equivalence problems,\n",
    "thus proving their undecidability.\n",
    "\n",
    "The classes of problems, now including non-computable problems, are as follows.\n",
    "\n",
    "<p id=\"fig-27.5.1\"></p>\n",
    "\n",
    "*[Figure 27.5.1](../33_Figures/Figures_27_5.ipynb#Figure-27.5.1)*\n",
    "\n",
    "![Image 27_4_classes.png](27_4_classes.png)\n",
    "\n",
    "SAT reduces in polynomial time to the halting problem. This entails that\n",
    "the halting, totality and equivalence problems are NP-hard."
   ]
  },
  {
   "cell_type": "markdown",
   "id": "6",
   "metadata": {},
   "source": [
    "⟵ [Previous section](27_4_undecidability.ipynb) | [Up](27-introduction.ipynb) | [Next section](../28_TMA03-2/28-introduction.ipynb) ⟶"
   ]
  }
 ],
 "metadata": {
  "kernelspec": {
   "display_name": "Python 3",
   "language": "python",
   "name": "python3"
  },
  "language_info": {
   "codemirror_mode": {
    "name": "ipython",
    "version": 3
   },
   "file_extension": ".py",
   "mimetype": "text/x-python",
   "name": "python",
   "nbconvert_exporter": "python",
   "pygments_lexer": "ipython3",
   "version": "3.12.10"
  }
 },
 "nbformat": 4,
 "nbformat_minor": 5
}
