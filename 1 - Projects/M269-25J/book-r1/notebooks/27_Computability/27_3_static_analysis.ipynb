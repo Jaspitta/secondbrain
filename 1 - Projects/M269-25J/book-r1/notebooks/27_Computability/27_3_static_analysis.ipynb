{
 "cells": [
  {
   "cell_type": "markdown",
   "id": "0",
   "metadata": {},
   "source": [
    "## 27.3 Static analysis"
   ]
  },
  {
   "cell_type": "markdown",
   "id": "1",
   "metadata": {},
   "source": [
    "The next section will show three problems that can't be solved by any algorithm.\n",
    "The reason is because those problems are about functions,\n",
    "not data (numbers, strings, graphs, etc.).\n",
    "So let's first look more closely at that kind of problem in this section.\n",
    "Since algorithms for Turing machines are unwieldy to write,\n",
    "let's return to Python."
   ]
  },
  {
   "cell_type": "markdown",
   "id": "2",
   "metadata": {},
   "source": [
    "### 27.3.1 Functions on functions"
   ]
  },
  {
   "cell_type": "markdown",
   "id": "3",
   "metadata": {},
   "source": [
    "Consider the following problem.\n",
    "It takes as input a function, not a value of some data type.\n",
    "\n",
    "**Function**: get info\\\n",
    "**Inputs**: *f*, a Python function\\\n",
    "**Preconditions**: true\\\n",
    "**Output**: *text*, a string\\\n",
    "**Postconditions**: *text* is the header and docstring of *f*\n",
    "\n",
    "This problem is solved by the built-in function `help`, introduced in\n",
    "[Section&nbsp;2.6.1](../02_Sequence/02_6_py_functions.ipynb#2.6.1-Documentation)."
   ]
  },
  {
   "cell_type": "code",
   "execution_count": 1,
   "id": "4",
   "metadata": {},
   "outputs": [
    {
     "name": "stdout",
     "output_type": "stream",
     "text": [
      "Help on built-in function len in module builtins:\n",
      "\n",
      "len(obj, /)\n",
      "    Return the number of items in a container.\n",
      "\n"
     ]
    }
   ],
   "source": [
    "help(len)"
   ]
  },
  {
   "cell_type": "markdown",
   "id": "5",
   "metadata": {},
   "source": [
    "Another example of functions being inputs was given in\n",
    "[Section&nbsp;14.1.4](../14_Sorting/14_1_sort_prep.ipynb#14.1.4-Sorting-in-Python):\n",
    "Python's `sort` method and `sorted` function can take as argument\n",
    "a function that for each item computes the key to be used for sorting.\n",
    "The example was to sort cards by suit or by value."
   ]
  },
  {
   "cell_type": "code",
   "execution_count": 2,
   "id": "6",
   "metadata": {},
   "outputs": [
    {
     "data": {
      "text/plain": [
       "['2D', 'AD', '2S', 'AS']"
      ]
     },
     "execution_count": 2,
     "metadata": {},
     "output_type": "execute_result"
    }
   ],
   "source": [
    "%run -i ../m269_sorting        # defines key functions for sorting\n",
    "\n",
    "sorted([\"2S\", \"AS\", \"2D\", \"AD\"], key=suit)  # diamonds, then spades"
   ]
  },
  {
   "cell_type": "code",
   "execution_count": 3,
   "id": "7",
   "metadata": {},
   "outputs": [
    {
     "data": {
      "text/plain": [
       "['AS', 'AD', '2S', '2D']"
      ]
     },
     "execution_count": 3,
     "metadata": {},
     "output_type": "execute_result"
    }
   ],
   "source": [
    "sorted([\"2S\", \"AS\", \"2D\", \"AD\"], key=value)  # aces, then twos"
   ]
  },
  {
   "cell_type": "markdown",
   "id": "8",
   "metadata": {},
   "source": [
    "Function `help` can also be applied to our functions, not just those built-in."
   ]
  },
  {
   "cell_type": "code",
   "execution_count": 4,
   "id": "9",
   "metadata": {},
   "outputs": [
    {
     "name": "stdout",
     "output_type": "stream",
     "text": [
      "Help on function suit in module __main__:\n",
      "\n",
      "suit(card: str) -> str\n",
      "    Return the second character of the card.\n",
      "\n",
      "    Preconditions: card has two characters;\n",
      "    the first is 'A', '2' to '9', 'T', 'J', 'Q' or 'K'\n",
      "    the second is 'C', 'D', 'H' or 'S'\n",
      "\n"
     ]
    }
   ],
   "source": [
    "help(suit)  # replace suit with value to see what value does"
   ]
  },
  {
   "cell_type": "markdown",
   "id": "10",
   "metadata": {},
   "source": [
    "A further example of a 'function on functions' is `test`, used throughout this book:\n",
    "it takes as inputs a test table and the function to be tested.\n",
    "\n",
    "As a final example, consider retrieving the function's source code,\n",
    "including the header and docstring.\n",
    "\n",
    "**Function**: get code\\\n",
    "**Inputs**: *f*, a Python function\\\n",
    "**Preconditions**: the source code of *f* is available\\\n",
    "**Output**: *text*, a string\\\n",
    "**Postconditions**: *text* is the source code of *f*\n",
    "\n",
    "This problem is solved by function `getsource` in module `inspect`.\n",
    "It doesn't work for built-in functions like `len` because their source code\n",
    "isn't available, but it works for code we wrote."
   ]
  },
  {
   "cell_type": "code",
   "execution_count": 5,
   "id": "11",
   "metadata": {},
   "outputs": [
    {
     "name": "stdout",
     "output_type": "stream",
     "text": [
      "def suit(card: str) -> str:\n",
      "    \"\"\"Return the second character of the card.\n",
      "\n",
      "    Preconditions: card has two characters;\n",
      "    the first is 'A', '2' to '9', 'T', 'J', 'Q' or 'K'\n",
      "    the second is 'C', 'D', 'H' or 'S'\n",
      "    \"\"\"\n",
      "    return card[1]\n",
      "\n"
     ]
    }
   ],
   "source": [
    "from inspect import getsource\n",
    "\n",
    "print(getsource(suit))  # replace suit with value if you wish"
   ]
  },
  {
   "cell_type": "markdown",
   "id": "12",
   "metadata": {},
   "source": [
    "You can also look at the source code of imported functions, like `test`,\n",
    "but it's likely they will contain Python constructs you haven't learned.\n",
    "\n",
    "Python provides useful functions that operate on functions, like `help` and `getsource`, but even\n",
    "more useful is the ability to write such functions ourselves."
   ]
  },
  {
   "cell_type": "markdown",
   "id": "13",
   "metadata": {},
   "source": [
    "### 27.3.2 Writing functions on functions"
   ]
  },
  {
   "cell_type": "markdown",
   "id": "14",
   "metadata": {},
   "source": [
    "When we write an assignment like `x = 5`, the Python interpreter allocates\n",
    "some memory and stores there an object representing 5. The object not only\n",
    "contains the value 5 but also information that it's of type `int`. Finally,\n",
    "the interpreter creates pointer `x` to associate name `x` to\n",
    "the memory address where the created object is stored.\n",
    "\n",
    "The interpreter must store the object's type so that it knows\n",
    "what operations are valid. When we write `x + 1`, the interpreter follows the\n",
    "`x` pointer to find the associated object, retrieves the type, which is `int`,\n",
    "and confirms the addition operation is defined.\n",
    "Whereas if we write `len(x)`, the interpreter detects that because `x` is\n",
    "an integer, it has no operation `len` and reports a type error.\n",
    "\n",
    "Similarly, when we write `def suit(card: str) ...`, the interpreter\n",
    "allocates memory, stores the function there together with information that\n",
    "this object is of type `Callable`\n",
    "([Section&nbsp;14.3.2](../14_Sorting/14_3_insertion_sort.ipynb#14.3.2-Iterative-version)) and\n",
    "creates pointer `suit`, pointing at the stored function.\n",
    "When we write `suit('2S')`, the interpreter follows the `suit` pointer,\n",
    "confirms the associated object is of type `Callable`, i.e. a function, and then\n",
    "passes the string to the function and executes it.\n",
    "\n",
    "Therefore, there's nothing magic about `help`, `getsource` and `sorted`.\n",
    "They simply take as input a pointer to a `Callable` object and then\n",
    "extract the docstring or source code of the stored function or, in the case of\n",
    "`sorted`, execute the function on each item to obtain its sorting keys.\n",
    "Our sorting functions in Chapter&nbsp;14 do exactly that:\n",
    "they take a key function as input and apply it to the items to sort them.\n",
    "Here again is our [insertion sort](../14_Sorting/14_3_insertion_sort.ipynb#14.3.2-Iterative-version) code,\n",
    "without docstring and comments."
   ]
  },
  {
   "cell_type": "code",
   "execution_count": 6,
   "id": "15",
   "metadata": {},
   "outputs": [],
   "source": [
    "from typing import Callable\n",
    "\n",
    "\n",
    "def insertion_sort(items: list, key: Callable) -> None:  # noqa: D103\n",
    "    for first_unsorted in range(1, len(items)):\n",
    "        to_sort = items[first_unsorted]\n",
    "        the_key = key(to_sort)\n",
    "        index = first_unsorted\n",
    "        while index > 0 and key(items[index - 1]) > the_key:\n",
    "            items[index] = items[index - 1]\n",
    "            index = index - 1\n",
    "        items[index] = to_sort"
   ]
  },
  {
   "cell_type": "markdown",
   "id": "16",
   "metadata": {},
   "source": [
    "Notice the calls `key(to_sort)` and `key(items[index - 1])` to the function\n",
    "`key` given as an argument."
   ]
  },
  {
   "cell_type": "markdown",
   "id": "17",
   "metadata": {},
   "source": [
    "### 27.3.3 Navel gazing"
   ]
  },
  {
   "cell_type": "markdown",
   "id": "18",
   "metadata": {},
   "source": [
    "If a function takes *any* function as input, then it can be applied to itself."
   ]
  },
  {
   "cell_type": "code",
   "execution_count": 7,
   "id": "19",
   "metadata": {},
   "outputs": [
    {
     "name": "stdout",
     "output_type": "stream",
     "text": [
      "Help on _Helper in module _sitebuiltins object:\n",
      "\n",
      "class _Helper(builtins.object)\n",
      " |  Define the builtin 'help'.\n",
      " |\n",
      " |  This is a wrapper around pydoc.help that provides a helpful message\n",
      " |  when 'help' is typed at the Python interactive prompt.\n",
      " |\n",
      " |  Calling help() at the Python prompt starts an interactive help session.\n",
      " |  Calling help(thing) prints help for the python object 'thing'.\n",
      " |\n",
      " |  Methods defined here:\n",
      " |\n",
      " |  __call__(self, *args, **kwds)\n",
      " |      Call self as a function.\n",
      " |\n",
      " |  __repr__(self)\n",
      " |      Return repr(self).\n",
      " |\n",
      " |  ----------------------------------------------------------------------\n",
      " |  Data descriptors defined here:\n",
      " |\n",
      " |  __dict__\n",
      " |      dictionary for instance variables\n",
      " |\n",
      " |  __weakref__\n",
      " |      list of weak references to the object\n",
      "\n"
     ]
    }
   ],
   "source": [
    "help(help)"
   ]
  },
  {
   "cell_type": "markdown",
   "id": "20",
   "metadata": {},
   "source": [
    "Never mind what the output says. The point of this example is that\n",
    "`help` follows *any* pointer to a function in order to retrieve its header and docstring.\n",
    "Therefore, it can follow the pointer to itself.\n",
    "\n",
    "Functions that 'look into' functions without running them do **static analysis**\n",
    "of the code. Here's an example of another static analysis function:\n",
    "it very crudely attempts to check if a function iterates."
   ]
  },
  {
   "cell_type": "code",
   "execution_count": 8,
   "id": "21",
   "metadata": {},
   "outputs": [],
   "source": [
    "def has_loop(function: Callable) -> bool:\n",
    "    \"\"\"Check if the code of `function` includes 'while' or 'for' and 'in'.\"\"\"\n",
    "    text = getsource(function)\n",
    "    return \" while \" in text or (\" for \" in text and \" in \" in text)"
   ]
  },
  {
   "cell_type": "markdown",
   "id": "22",
   "metadata": {},
   "source": [
    "Insertion sort does a while-loop, so it has a loop."
   ]
  },
  {
   "cell_type": "code",
   "execution_count": 9,
   "id": "23",
   "metadata": {},
   "outputs": [
    {
     "data": {
      "text/plain": [
       "True"
      ]
     },
     "execution_count": 9,
     "metadata": {},
     "output_type": "execute_result"
    }
   ],
   "source": [
    "has_loop(insertion_sort)"
   ]
  },
  {
   "cell_type": "markdown",
   "id": "24",
   "metadata": {},
   "source": [
    "Our key functions don't have a loop: they don't iterate over\n",
    "the 2-character string representing the card."
   ]
  },
  {
   "cell_type": "code",
   "execution_count": 10,
   "id": "25",
   "metadata": {},
   "outputs": [
    {
     "data": {
      "text/plain": [
       "False"
      ]
     },
     "execution_count": 10,
     "metadata": {},
     "output_type": "execute_result"
    }
   ],
   "source": [
    "has_loop(suit)  # replace suit with value if you wish"
   ]
  },
  {
   "cell_type": "markdown",
   "id": "26",
   "metadata": {},
   "source": [
    "Since `has_loop` takes any function with available source code,\n",
    "it can be called on itself."
   ]
  },
  {
   "cell_type": "code",
   "execution_count": 11,
   "id": "27",
   "metadata": {},
   "outputs": [
    {
     "data": {
      "text/plain": [
       "True"
      ]
     },
     "execution_count": 11,
     "metadata": {},
     "output_type": "execute_result"
    }
   ],
   "source": [
    "has_loop(has_loop)"
   ]
  },
  {
   "cell_type": "markdown",
   "id": "28",
   "metadata": {},
   "source": [
    "We get the wrong answer because the function just looks for the characters\n",
    "`while`, `for` and `in` in the source code, without distinguishing their\n",
    "occurrence as a keyword, in a string or in a comment.\n",
    "\n",
    "Function `has_loop` isn't meant to illustrate robust static analysis,\n",
    "but rather that we *can* write functions that analyse others and themselves.\n",
    "As the next section will show, there are limits to the power of static analysis."
   ]
  },
  {
   "cell_type": "markdown",
   "id": "29",
   "metadata": {},
   "source": [
    "#### Exercise 27.3.1 (optional)"
   ]
  },
  {
   "cell_type": "markdown",
   "id": "30",
   "metadata": {},
   "source": [
    "Write a function that checks if the given input function has a docstring.\n",
    "Test the function on the other functions in this notebook and on itself."
   ]
  },
  {
   "cell_type": "markdown",
   "id": "31",
   "metadata": {},
   "source": [
    "⟵ [Previous section](27_2_thesis.ipynb) | [Up](27-introduction.ipynb) | [Next section](27_4_undecidability.ipynb) ⟶"
   ]
  }
 ],
 "metadata": {
  "kernelspec": {
   "display_name": "Python 3",
   "language": "python",
   "name": "python3"
  },
  "language_info": {
   "codemirror_mode": {
    "name": "ipython",
    "version": 3
   },
   "file_extension": ".py",
   "mimetype": "text/x-python",
   "name": "python",
   "nbconvert_exporter": "python",
   "pygments_lexer": "ipython3",
   "version": "3.12.10"
  }
 },
 "nbformat": 4,
 "nbformat_minor": 5
}
