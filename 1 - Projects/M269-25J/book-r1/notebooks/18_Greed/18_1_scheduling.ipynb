{
 "cells": [
  {
   "cell_type": "markdown",
   "id": "0",
   "metadata": {},
   "source": [
    "## 18.1 Interval scheduling"
   ]
  },
  {
   "cell_type": "markdown",
   "id": "1",
   "metadata": {},
   "source": [
    "After a long lockdown, Alice is keen to attend as many music festivals as\n",
    "possible. She has the start and end date of each festival she'd like to attend.\n",
    "What is a largest subset of festivals she can attend?\n",
    "\n",
    "Consider groups of people trying to book a particular room for their meetings.\n",
    "Given the start and end time of each meeting, what's the largest number of\n",
    "meetings that can be scheduled for that room?\n",
    "\n",
    "In general, the **interval scheduling** problem is:\n",
    "given a set of time intervals, find a largest subset without overlaps.\n",
    "Two time intervals overlap if they have at least one time point in common, e.g.\n",
    "if the end time of one interval is part of the other interval.\n",
    "\n",
    "To simplify, I will represent time points as natural numbers\n",
    "and time intervals as pairs of start–end points, e.g. (3, 5) is the interval\n",
    "starting at time point 3 and ending at time point 5.\n",
    "\n",
    "**Operation:** largest interval schedule \\\n",
    "**Inputs:** *intervals*, a set of pairs of natural numbers \\\n",
    "**Preconditions:** for every pair (*start*, *end*), *start* < *end* \\\n",
    "**Output:** *schedule*, a set of pairs of natural numbers \\\n",
    "**Postconditions:**\n",
    "\n",
    "- *schedule* is a subset of *intervals*\n",
    "- for any ($s_1$, $e_1$) ≠ ($s_2$, $e_2$) in *schedule*, either $e_1$ < $s_2$ or $e_2$ < $s_1$\n",
    "- no subset of *intervals* satisfying condition 2 is larger than *schedule*\n",
    "\n",
    "The second postcondition states that for any two intervals in the solution,\n",
    "one must end before the other starts.\n",
    "The third postcondition states that the output has as many intervals as possible.\n",
    "\n",
    "The problem definition uses the word 'Operation' instead of 'Function' because\n",
    "we're not defining a mathematical function: a set of intervals may lead to\n",
    "several largest schedules as the next table shows.\n",
    "An algorithm can return any of them.\n",
    "\n",
    "Case | *intervals* | *schedule*\n",
    ":- | :- | :-\n",
    "no intervals  | {}  | {}\n",
    "one interval  | {(9, 17)}  |  {(9, 17)}\n",
    "no overlap  |  {(4, 5), (0, 1), (2, 3)} | {(4, 5), (0, 1), (2, 3)}\n",
    "some overlap | {(6, 10), (9, 17), (0, 5)} | {(6, 10), (0, 5)} or {(9, 17), (0, 5)}\n",
    "all overlap | {(3, 5), (5, 6), (2, 7)} | {(3, 5)} or {(5, 6)} or {(2, 7)}"
   ]
  },
  {
   "cell_type": "markdown",
   "id": "2",
   "metadata": {},
   "source": [
    "### 18.1.1 The greedy approach"
   ]
  },
  {
   "cell_type": "markdown",
   "id": "3",
   "metadata": {},
   "source": [
    "A greedy algorithm constructs the output collection one item at a time.\n",
    "It first finds all items that are compatible with the choices made so far.\n",
    "For the knapsack problem, it's those items that still fit in the knapsack.\n",
    "For interval scheduling, it's those intervals that don't overlap any already\n",
    "scheduled interval.\n",
    "I will call those items the *extensions* to the current partial solution.\n",
    "\n",
    "Once the algorithm has computed the extensions, it makes a **greedy choice**:\n",
    "it chooses the best extension, or a single best one if\n",
    "there are several equally good options.\n",
    "The criterion used by the greedy choice is the crux of the algorithm;\n",
    "I'll come to it later.\n",
    "\n",
    "The algorithm continues choosing a best item among those compatible with\n",
    "previous choices, until the solution is complete.\n",
    "This is certainly the case when no more items are available,\n",
    "but depending on the problem the solution may be completed earlier.\n",
    "\n",
    "A general algorithmic pattern for greedy algorithms is:\n",
    "\n",
    "1. let *solution* be an empty collection\n",
    "2. repeat:\n",
    "   1. let *extensions* be the possible next items compatible with *solution*\n",
    "   2. if *extensions* isn't empty:\n",
    "      1. add one of the best of *extensions* to *solution*\n",
    "2. until *extensions* is empty\n",
    "\n",
    "This algorithm is computing the extensions from scratch in each iteration.\n",
    "Often, we know the possible extensions in advance (they're the input items)\n",
    "and we just want to add the next best one to the solution.\n",
    "I gave an example in the introduction: we take the next most valuable item\n",
    "and put it in the knapsack if it fits.\n",
    "\n",
    "For such problems, a more efficient greedy algorithm constructs the extensions\n",
    "once, by sorting the input items from best to worst. It then keeps picking\n",
    "the next best item, checks if it's compatible with the partial solution, and\n",
    "if so extends the solution with that item.\n",
    "\n",
    "1. let *solution* be an empty collection\n",
    "1. let *extensions* be the input items sorted from best to worst\n",
    "1. for each *item* in *extensions*:\n",
    "   1. if *item* is compatible with *solution*:\n",
    "      1. add *item* to *solution*\n",
    "\n",
    "The greedy algorithm I outlined in the introduction for the knapsack problem is:\n",
    "\n",
    "1. let *solution* be the empty set\n",
    "1. let *extensions* be the input items sorted from most to least valuable\n",
    "1. for each *item* in *extensions*:\n",
    "   1. if weight of *item* + weight of *solution* ≤ capacity of knapsack:\n",
    "      1. add *item* to *solution*"
   ]
  },
  {
   "cell_type": "markdown",
   "id": "4",
   "metadata": {},
   "source": [
    "<div class=\"alert alert-warning\">\n",
    "<strong>Note:</strong> Greedy algorithms sometimes involve sorting the input.\n",
    "</div>"
   ]
  },
  {
   "cell_type": "markdown",
   "id": "5",
   "metadata": {},
   "source": [
    "Exhaustive search generates all possible candidates (unless it can stop early),\n",
    "to make sure it finds the best one.\n",
    "Greedy algorithms generate a single candidate: they don't explore alternatives.\n",
    "They can't be used when the problem asks for several best solution, e.g.\n",
    "if we wanted to know all largest subsets of non-overlapping intervals.\n",
    "\n",
    "Exhaustive search generates in each iteration a complete candidate and tests it.\n",
    "Greedy algorithms extend a partial candidate by one item per iteration\n",
    "and they don't test the candidate at the end.\n",
    "If the greedy choice is correct, the generated candidate is a best solution."
   ]
  },
  {
   "cell_type": "markdown",
   "id": "6",
   "metadata": {},
   "source": [
    "### 18.1.2 Greedy choices"
   ]
  },
  {
   "cell_type": "markdown",
   "id": "7",
   "metadata": {},
   "source": [
    "Let's now think about the greedy choice for the interval scheduling problem.\n",
    "\n",
    "We want to select as many intervals as possible. One possible choice is\n",
    "to select the interval that starts earliest, so that we're not idle.\n",
    "Consider the intervals in the following figure.\n",
    "\n",
    "<p id=\"fig-18.1.1\"></p>\n",
    "\n",
    "*[Figure 18.1.1](../33_Figures/Figures_18_1.ipynb#Figure-18.1.1)*\n",
    "\n",
    "![Image 18_1_by_start.png](18_1_by_start.png)\n",
    "\n",
    "Processing them by ascending start time, i.e. from left to right in the figure,\n",
    "the algorithm:\n",
    "\n",
    "1. adds (1, 4) to the empty schedule\n",
    "2. skips (3, 7) because it overlaps with (1, 4)\n",
    "3. adds (5, 6) to the schedule because it doesn't overlap (1, 4)\n",
    "4. skips (6, 7) because it overlaps (5, 6) at time point 6.\n",
    "\n",
    "The algorithm produces the schedule {(1,4), (5,6)};\n",
    "it's a correct solution. No schedule with three intervals is possible.\n",
    "\n",
    "Unfortunately, choosing the earliest start doesn't always lead to a solution,\n",
    "as the next figure shows. The long interval C starts first but choosing it\n",
    "prevents finding the largest schedule, with intervals A and B.\n",
    "\n",
    "<p id=\"fig-18.1.2\"></p>\n",
    "\n",
    "*[Figure 18.1.2](../33_Figures/Figures_18_1.ipynb#Figure-18.1.2)*\n",
    "\n",
    "![Image 18_1_long.png](18_1_long.png)\n",
    "\n",
    "Well, if a single long interval prevents choosing several smaller intervals,\n",
    "let's choose as the best interval the shortest one.\n",
    "Alas, this isn't correct either, as the next figure shows.\n",
    "The shortest interval, C, overlaps intervals A and B at two time points:\n",
    "C starts when A ends and C ends when B starts.\n",
    "Therefore, choosing C first prevents finding the largest schedule {A, B}.\n",
    "\n",
    "<p id=\"fig-18.1.3\"></p>\n",
    "\n",
    "*[Figure 18.1.3](../33_Figures/Figures_18_1.ipynb#Figure-18.1.3)*\n",
    "\n",
    "![Image 18_1_short.png](18_1_short.png)\n",
    "\n",
    "These counter-examples suggest we should choose the interval\n",
    "with the fewest overlaps, to remove the fewest other intervals.\n",
    "This sounds reasonable, but there's a counter-example for that.\n",
    "Consider the nine intervals in the following figure.\n",
    "\n",
    "<p id=\"fig-18.1.4\"></p>\n",
    "\n",
    "*[Figure 18.1.4](../33_Figures/Figures_18_1.ipynb#Figure-18.1.4)*\n",
    "\n",
    "![Image 18_1_intervals.png](18_1_intervals.png)\n",
    "\n",
    "All intervals except E and G overlap two other intervals.\n",
    "The algorithm could choose any of them first, but if it chooses F,\n",
    "which eliminates B and C, the algorithm will only find a three-interval subset\n",
    "like {A, F, I} and not a four-interval solution like {A, B, C, D}.\n",
    "\n",
    "Another possible choice is to pick the interval ending soonest,\n",
    "as that maximises the remaining time, allowing more intervals to be picked.\n",
    "Sorting the nine intervals by end time we get sequence\n",
    "(A, H, E, B, F, C, G, I, D).\n",
    "The algorithm adds A, skips H and E because they overlap A,\n",
    "adds B and thus skips F, adds C and then skips G, and finally\n",
    "adds I which forces D to be skipped. The output schedule is {A, B, C, I},\n",
    "which satisfies the postconditions.\n",
    "\n",
    "Choosing the interval ending soonest always leads to a largest subset.\n",
    "To understand why, consider the following diagram where *t* is the\n",
    "lowest ending time of all intervals.\n",
    "\n",
    "<p id=\"fig-18.1.5\"></p>\n",
    "\n",
    "*[Figure 18.1.5](../33_Figures/Figures_18_1.ipynb#Figure-18.1.5)*\n",
    "\n",
    "![Image 18_1_proof.png](18_1_proof.png)\n",
    "\n",
    "Each interval belongs to one of three groups:\n",
    "\n",
    "- it ends at *t*, like intervals A, B, and C\n",
    "- it starts before *t* and ends after *t*, like intervals D and E\n",
    "- it starts after *t*, like intervals F, G and H.\n",
    "\n",
    "All intervals in the first two groups overlap each other, so the largest\n",
    "schedule has at most one of them, no matter how the intervals are chosen.\n",
    "If the algorithm chooses an interval in the second group,\n",
    "it may overlap with an interval in the third group, e.g. E overlaps with F,\n",
    "whereas the first and third groups never overlap.\n",
    "Thus, choosing any of the intervals ending soonest, at *t*, doesn't lead to\n",
    "fewer intervals in the schedule than any other choice, which means it's\n",
    "a largest schedule."
   ]
  },
  {
   "cell_type": "markdown",
   "id": "8",
   "metadata": {},
   "source": [
    "<div class=\"alert alert-warning\">\n",
    "<strong>Note:</strong> Usually, there are several greedy choices for a problem,\n",
    "but possibly only one (or even none) will lead to a correct solution.\n",
    "</div>"
   ]
  },
  {
   "cell_type": "markdown",
   "id": "9",
   "metadata": {},
   "source": [
    "Proving that a greedy algorithm is correct can be hard;\n",
    "you won't be asked to do it.\n",
    "Proving that it's incorrect is usually relatively easy because a\n",
    "single counter-example will do. In his book *The Algorithm Design Manual*,\n",
    "Steven Skiena suggests four approaches for coming up with counter-examples.\n",
    "\n",
    "- Think small: Algorithms fail under very particular conditions,\n",
    "  which can be illustrated with small problem instances.\n",
    "- Think exhaustively: There are only three ways to combine intervals\n",
    "  (overlap, containment, disjoint); they can be used to construct examples systematically, e.g. one interval overlaps and thereby eliminates two other intervals.\n",
    "- Go for a tie: Greedy algorithms choose the best extension, but\n",
    "  if there are several best ones, the algorithm may choose the wrong one.\n",
    "- Seek extremes: Counter-examples sometimes include items with\n",
    "  opposite properties, like small and large, or long and short. For example,\n",
    "  a long interval prevents choosing several small ones."
   ]
  },
  {
   "cell_type": "markdown",
   "id": "10",
   "metadata": {},
   "source": [
    "<div class=\"alert alert-warning\">\n",
    "<strong>Note:</strong> Try constructing counter-examples that are small,\n",
    "contain items that are tied for being the best, or contain extreme items.\n",
    "</div>"
   ]
  },
  {
   "cell_type": "markdown",
   "id": "11",
   "metadata": {},
   "source": [
    "A counter-example reveals subtle conditions that make one greedy choice lead to\n",
    "an incorrect output. Thus they're good tests to check other greedy choices.\n",
    "For example, I checked the correct choice (interval ending soonest)\n",
    "on the counter-example for choosing the interval with fewest overlaps.\n",
    "You can check that the correct greedy choice also handles the counter-examples\n",
    "for choosing the interval starting soonest and for choosing the shortest interval."
   ]
  },
  {
   "cell_type": "markdown",
   "id": "12",
   "metadata": {},
   "source": [
    "<div class=\"alert alert-warning\">\n",
    "<strong>Note:</strong> As you think of possible greedy choices, add counter-examples to a test table\n",
    "and check each greedy choice against them.\n",
    "</div>"
   ]
  },
  {
   "cell_type": "markdown",
   "id": "13",
   "metadata": {},
   "source": [
    "#### Exercise 18.1.1"
   ]
  },
  {
   "cell_type": "markdown",
   "id": "14",
   "metadata": {},
   "source": [
    "In the introduction, I gave a greedy choice for the 0/1 knapsack problem:\n",
    "at each step take the most valuable remaining item that fits the knapsack.\n",
    "To do that we can initially sort the items by descending value.\n",
    "I also showed a counter-example for this choice.\n",
    "\n",
    "Here are two other greedy choices:\n",
    "\n",
    "1. Take the lightest item to keep space for more items,\n",
    "   i.e. sort by ascending weight.\n",
    "1. Take the most profitable item, i.e. sort by descending value-to-weight ratio.\n",
    "\n",
    "For each greedy choice, provide a counter-example: a set of items and\n",
    "a knapsack capacity for which the greedy choice won't maximise the\n",
    "value of the items that can be carried."
   ]
  },
  {
   "cell_type": "markdown",
   "id": "15",
   "metadata": {},
   "source": [
    "_Write your answer here._"
   ]
  },
  {
   "cell_type": "markdown",
   "id": "16",
   "metadata": {},
   "source": [
    "[Answer](../32_Answers/Answers_18_1_01.ipynb)"
   ]
  },
  {
   "cell_type": "markdown",
   "id": "17",
   "metadata": {},
   "source": [
    "### 18.1.3 Algorithm"
   ]
  },
  {
   "cell_type": "markdown",
   "id": "18",
   "metadata": {},
   "source": [
    "Now that we have a greedy choice that leads to a largest schedule,\n",
    "we can apply the second greedy algorithmic pattern to interval scheduling,\n",
    "because the possible extensions are the intervals given in the input.\n",
    "\n",
    "1. let *schedule* be the empty set\n",
    "1. let *extensions* be *intervals* in ascending end time\n",
    "1. for each *interval* in *extensions*:\n",
    "   1. if *interval* is compatible with *schedule*:\n",
    "      1. add *interval* to *schedule*\n",
    "\n",
    "One way to implement step&nbsp;3.1 is to check if the extension interval\n",
    "doesn't overlap any already scheduled interval.\n",
    "That takes linear time in the size of the partial schedule.\n",
    "We should try to exploit the sorted order for a more efficient approach.\n",
    "\n",
    "When explaining why the algorithm is correct, I noted that\n",
    "only the intervals starting after the soonest ending time *t*\n",
    "are compatible with the intervals ending at *t*.\n",
    "So, if we keep the end time of the latest interval scheduled so far,\n",
    "we can easily check if the extension interval being considered is compatible.\n",
    "\n",
    "1. let *schedule* be the empty set\n",
    "1. let *extensions* be the *intervals* in ascending end time\n",
    "1. let *last* be −1\n",
    "1. for each *interval* in *extensions*:\n",
    "   1. if the start of *interval* > *last*:\n",
    "      1. add *interval* to *schedule*\n",
    "      2. let *last* be the end of *interval*\n",
    "\n",
    "What's a worst-case scenario for this algorithm?\n",
    "\n",
    "___\n",
    "\n",
    "The algorithm does most work when no pair of intervals overlaps.\n",
    "In that scenario, the algorithm adds all intervals to the schedule."
   ]
  },
  {
   "cell_type": "markdown",
   "id": "19",
   "metadata": {},
   "source": [
    "#### Exercise 18.1.2"
   ]
  },
  {
   "cell_type": "markdown",
   "id": "20",
   "metadata": {},
   "source": [
    "What's the worst-case complexity of the algorithm?\n",
    "Use *i* = │*intervals*│ for the size of the input."
   ]
  },
  {
   "cell_type": "markdown",
   "id": "21",
   "metadata": {},
   "source": [
    "_Write your answer here._"
   ]
  },
  {
   "cell_type": "markdown",
   "id": "22",
   "metadata": {},
   "source": [
    "[Answer](../32_Answers/Answers_18_1_02.ipynb)"
   ]
  },
  {
   "cell_type": "markdown",
   "id": "23",
   "metadata": {},
   "source": [
    "#### Exercise 18.1.3 (optional)"
   ]
  },
  {
   "cell_type": "markdown",
   "id": "24",
   "metadata": {},
   "source": [
    "Implement and test the algorithm. Write a test table with\n",
    "the above problem instances and counter-examples."
   ]
  },
  {
   "cell_type": "markdown",
   "id": "25",
   "metadata": {},
   "source": [
    "#### Exercise 18.1.4 (optional)"
   ]
  },
  {
   "cell_type": "markdown",
   "id": "26",
   "metadata": {},
   "source": [
    "To appreciate how efficient the greedy approach is, outline an exhaustive search\n",
    "algorithm and explain its worst-case complexity."
   ]
  },
  {
   "cell_type": "markdown",
   "id": "27",
   "metadata": {},
   "source": [
    "_Write your answer here._"
   ]
  },
  {
   "cell_type": "markdown",
   "id": "28",
   "metadata": {},
   "source": [
    "⟵ [Previous section](18-introduction.ipynb) | [Up](18-introduction.ipynb) | [Next section](18_2_weighted_graph.ipynb) ⟶"
   ]
  }
 ],
 "metadata": {
  "kernelspec": {
   "display_name": "Python 3",
   "language": "python",
   "name": "python3"
  },
  "language_info": {
   "codemirror_mode": {
    "name": "ipython",
    "version": 3
   },
   "file_extension": ".py",
   "mimetype": "text/x-python",
   "name": "python",
   "nbconvert_exporter": "python",
   "pygments_lexer": "ipython3",
   "version": "3.12.10"
  }
 },
 "nbformat": 4,
 "nbformat_minor": 5
}
