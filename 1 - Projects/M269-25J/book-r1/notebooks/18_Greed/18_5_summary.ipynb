{
 "cells": [
  {
   "cell_type": "markdown",
   "id": "0",
   "metadata": {},
   "source": [
    "## 18.5 Summary"
   ]
  },
  {
   "cell_type": "markdown",
   "id": "1",
   "metadata": {},
   "source": [
    "A **greedy algorithm** solves an optimisation problem incrementally,\n",
    "making at each step a greedy choice for the best available option.\n",
    "If the options are known in advance, they can be sorted from best to worst.\n",
    "\n",
    "Greedy algorithms are usually very efficient but often are not correct:\n",
    "choosing one best option at a time doesn't necessarily lead to\n",
    "the best solution.\n",
    "\n",
    "Finding a counter-example proves that an algorithm is incorrect.\n",
    "Counter-examples are often small and involve contrasting items.\n",
    "For greedy algorithms, counter-examples may also include\n",
    "several equally best options to choose from, with at least one of them\n",
    "not leading to an optimal solution.\n",
    "\n",
    "The **interval scheduling problem** asks for a largest subset of\n",
    "non-overlapping intervals, given the start and end point of each interval.\n",
    "It can be solved in log-linear time by a greedy algorithm that\n",
    "sorts intervals by ascending end time and picks one at a time,\n",
    "if it doesn't overlap previously chosen intervals.\n",
    "Other greedy choices don't work, as shown by counter-examples."
   ]
  },
  {
   "cell_type": "markdown",
   "id": "2",
   "metadata": {},
   "source": [
    "### 18.5.1 Weighted graphs"
   ]
  },
  {
   "cell_type": "markdown",
   "id": "3",
   "metadata": {},
   "source": [
    "A **weighted graph** has numbers, called weights, associated with its edges.\n",
    "Weights typically represent the cost, time or distance to travel between nodes.\n",
    "A shortest path between two nodes has the lowest sum of weights of all paths\n",
    "between those nodes.\n",
    "\n",
    "Edge list, adjacency matrix and adjacency list representations\n",
    "can be adapted to weighted graphs.\n",
    "Classes `WeightedDiGraph` and `WeightedUndirectedGraph` use adjacency lists.\n",
    "\n",
    "A **spanning tree** of an undirected graph is a subgraph that has all the graph's\n",
    "nodes but is a tree. A disconnected graph has no spanning tree.\n",
    "A connected graph may have several spanning trees.\n",
    "\n",
    "A **minimum spanning tree** (**MST**) of a weighted undirected connected graph is\n",
    "a spanning tree with the lowest sum of weights. A graph may have multiple MSTs.\n",
    "\n",
    "**Prim's algorithm** is a greedy algorithm that constructs an MST incrementally\n",
    "from a given start node.\n",
    "The greedy choice is to pick the lowest-weight edge connecting\n",
    "a node in the tree to a node not in the tree, which is thereby put in the tree.\n",
    "\n",
    "The **single-pair shortest path problem** asks for a shortest path\n",
    "from a given start node to a given end node, if there is one.\n",
    "The **single-source shortest paths problem** asks to solve the single-pair problem\n",
    "for a given start node and each other node reachable from it.\n",
    "\n",
    "**Dijkstra's algorithm** can solve the single-source problem for weighted graphs\n",
    "without negative weights.\n",
    "It's a modification of Prim's algorithm. The greedy choice is to\n",
    "pick the edge leading to the next nearest node from the start node.\n",
    "\n",
    "Prim's and Dijkstra's algorithms have worst-case complexity O(*e* log *e*)."
   ]
  },
  {
   "cell_type": "markdown",
   "id": "4",
   "metadata": {},
   "source": [
    "### 18.5.2 Python"
   ]
  },
  {
   "cell_type": "markdown",
   "id": "5",
   "metadata": {},
   "source": [
    "Function `abs` returns the absolute value of its numeric argument:\n",
    "`abs(x)` is  `-x` if `x` is negative, otherwise it's `x`."
   ]
  },
  {
   "cell_type": "markdown",
   "id": "6",
   "metadata": {},
   "source": [
    "⟵ [Previous section](18_4_shortest_path.ipynb) | [Up](18-introduction.ipynb) | [Next section](../19_Practice-2/19-introduction.ipynb) ⟶"
   ]
  }
 ],
 "metadata": {
  "kernelspec": {
   "display_name": "Python 3",
   "language": "python",
   "name": "python3"
  },
  "language_info": {
   "codemirror_mode": {
    "name": "ipython",
    "version": 3
   },
   "file_extension": ".py",
   "mimetype": "text/x-python",
   "name": "python",
   "nbconvert_exporter": "python",
   "pygments_lexer": "ipython3",
   "version": "3.12.10"
  }
 },
 "nbformat": 4,
 "nbformat_minor": 5
}
