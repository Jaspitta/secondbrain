{
 "cells": [
  {
   "cell_type": "markdown",
   "id": "0",
   "metadata": {},
   "source": [
    "# 18 Greed"
   ]
  },
  {
   "cell_type": "markdown",
   "id": "1",
   "metadata": {},
   "source": [
    "Consider again the\n",
    "[0/1 knapsack problem](../11_Search/11_5_subsets.ipynb#Exercise-11.5.2):\n",
    "given the weights and values of a set of items,\n",
    "we want a most valuable subset of items we can pack in the knapsack,\n",
    "without exceeding its weight capacity.\n",
    "We solved this optimisation problem with an exhaustive search that\n",
    "generates all possible subsets and, for each one, checks if\n",
    "it fits the knapsack and has the largest value found so far.\n",
    "\n",
    "An alternative approach is to start with an empty knapsack and keep adding\n",
    "the most valuable remaining item that still fits in the knapsack.\n",
    "This algorithm is highly efficient: it sorts the items by descending value\n",
    "in log-linear time and then goes through them in linear time.\n",
    "Each item is either put in the knapsack or skipped, because its weight\n",
    "exceeds the remaining capacity of the knapsack.\n",
    "Contrast this with the exhaustive search, which generates and tests\n",
    "an exponential number of subsets.\n",
    "\n",
    "There's a snag, however. The second algorithm isn't correct:\n",
    "it doesn't generate a solution for some inputs as the following\n",
    "[counter-example](../03_Selection/03_4_classification.ipynb#Exercise-3.4.3) shows.\n",
    "The most valuable item is the heaviest. Choosing it won't leave space for\n",
    "anything else. Instead, the two cheaper items form the most valuable subset.\n",
    "\n",
    "![This figure shows an empty knapsack with capacity 4 kg and\n",
    "three objects next to it, ordered by descending weight.\n",
    "The first object weighs 3 kg and is worth £30.\n",
    "The second object weighs 2.5 kg and is worth £20.\n",
    "The third object weighs 1.5 kg and is worth £15.\n",
    "Next, the figure shows the first object in the knapsack,\n",
    "for a total weight of 3 kg and total value of £30.\n",
    "Finally, the figure shows the other two objects in the knapsack,\n",
    "for a total weight of 4 kg and total value of £35.\n",
    "](18_knapsack.png)\n",
    "\n",
    "An algorithm that incrementally constructs the solution by always choosing\n",
    "the best available option, for some notion of 'best', is a **greedy algorithm**.\n",
    "As in real life, greed is often not a good approach.\n",
    "Greedy algorithms solve optimisation problems by choosing a local optimum\n",
    "at each step, in the hope of reaching a global optimum.\n",
    "For many problems, this doesn't happen.\n",
    "\n",
    "However, when it does work, greed is an excellent approach.\n",
    "Greedy algorithms don't revisit the choices made, they simply 'press ahead',\n",
    "so they're iterative, simple and efficient.\n",
    "Even when they don't provide a correct solution, they can be used as\n",
    "[heuristic algorithms](../11_Search/11_7_summary.ipynb#11.7.1-Problems) that\n",
    "quickly compute an approximation of the solution.\n",
    "\n",
    "This chapter explains how to design greedy algorithms,\n",
    "shows problems for which they do compute the correct solution\n",
    "and problems for which they don't, with tips for finding counter-examples that\n",
    "show that a greedy algorithm is incorrect.\n",
    "\n",
    "This chapter also introduces weighted graphs, in which edges have numbers\n",
    "to indicate the distance, cost or time needed to traverse them.\n",
    "Such graphs will be used to illustrate two greedy graph algorithms.\n",
    "\n",
    "The examples and exercises in this chapter support the usual learning outcomes.\n",
    "\n",
    "- Understand the common general-purpose data structures, algorithmic techniques and complexity classes – you will learn about weighted graphs and greedy algorithms.\n",
    "- Explain how an algorithm or data structure works, in order to communicate with relevant stakeholders – you will learn how to find counter-examples to prove a greedy algorithm doesn't work.\n",
    "- Write readable, tested, documented and efficient Python code – this chapter introduces classes for weighted graphs.\n",
    "\n",
    "Before starting to work on this chapter, check the M269\n",
    "[news](https://learn2.open.ac.uk/blocks/news/all.php?bi=326014) and [errata](https://learn2.open.ac.uk/mod/url/view.php?id=2554721),\n",
    "and check the TMAs for what is assessed."
   ]
  },
  {
   "cell_type": "markdown",
   "id": "2",
   "metadata": {
    "nbsphinx-toctree": {
     "hidden": true,
     "maxdepth": 1,
     "numbered": false
    }
   },
   "source": [
    "1. [Interval scheduling](18_1_scheduling.ipynb)\n",
    "1. [Weighted graphs](18_2_weighted_graph.ipynb)\n",
    "1. [Minimum spanning tree](18_3_mst.ipynb)\n",
    "1. [Shortest paths](18_4_shortest_path.ipynb)\n",
    "1. [Summary](18_5_summary.ipynb)"
   ]
  },
  {
   "cell_type": "markdown",
   "id": "3",
   "metadata": {},
   "source": [
    "⟵ [Previous chapter](../17_Graphs_1/17-introduction.ipynb) | [Up](../M269.ipynb) | [Next chapter](../19_Practice-2/19-introduction.ipynb) ⟶"
   ]
  }
 ],
 "metadata": {
  "kernelspec": {
   "display_name": "Python 3",
   "language": "python",
   "name": "python3"
  },
  "language_info": {
   "codemirror_mode": {
    "name": "ipython",
    "version": 3
   },
   "file_extension": ".py",
   "mimetype": "text/x-python",
   "name": "python",
   "nbconvert_exporter": "python",
   "pygments_lexer": "ipython3",
   "version": "3.12.10"
  }
 },
 "nbformat": 4,
 "nbformat_minor": 5
}
