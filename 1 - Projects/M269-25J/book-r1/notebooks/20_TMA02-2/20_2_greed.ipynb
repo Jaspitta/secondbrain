{
 "cells": [
  {
   "cell_type": "markdown",
   "id": "0",
   "metadata": {},
   "source": [
    "## 20.2 Applying greed"
   ]
  },
  {
   "cell_type": "markdown",
   "id": "1",
   "metadata": {},
   "source": [
    "If you have an optimisation problem asking for a single best solution,\n",
    "and the solution is a collection (e.g. a set of items),\n",
    "consider a greedy algorithm.\n",
    "\n",
    "It starts with an empty collection and extends it by one item at a time,\n",
    "making a greedy choice of which item to add next."
   ]
  },
  {
   "cell_type": "markdown",
   "id": "2",
   "metadata": {},
   "source": [
    "### 20.2.1 Approaches"
   ]
  },
  {
   "cell_type": "markdown",
   "id": "3",
   "metadata": {},
   "source": [
    "If you know in advance the possible items to put in the solution,\n",
    "like in the interval scheduling and knapsack problems,\n",
    "consider sorting them from best to worst choice, and adding them in that order.\n",
    "\n",
    "1. let *solution* be an empty collection\n",
    "1. let *extensions* be the items sorted from best to worst\n",
    "1. for each *item* in *extensions*:\n",
    "   1. if *item* is compatible with *solution*:\n",
    "      1. add *item* to *solution*\n",
    "\n",
    "If the items aren't known in advance, the extensions have to be computed as\n",
    "the solution is created.\n",
    "\n",
    "1. let *solution* be an empty collection\n",
    "2. repeat:\n",
    "   1. let *extensions* be the possible next items compatible with *solution*\n",
    "   2. if *extensions* isn't empty:\n",
    "      1. add one of the best of *extensions* to *solution*\n",
    "2. until *extensions* is empty\n",
    "\n",
    "The following combination of both approaches keeps the extensions sorted in a\n",
    "priority queue, so that finding the best extension in step&nbsp;2.2.1 is trivial,\n",
    "and updates the extensions according to which one was added to the solution,\n",
    "instead of recomputing all extensions from scratch in step&nbsp;2.1.\n",
    "\n",
    "1. let *solution* be an empty collection\n",
    "2. let *extensions* be a queue with the items compatible with *solution*,\n",
    "   with priority from best to worst\n",
    "2. while *extensions* isn't empty:\n",
    "      1. remove the first *item* from *extensions*\n",
    "      2. add *item* to *solutions*\n",
    "      3. update *extensions* according to *item*\n",
    "\n",
    "Dijkstra's algorithm for the single-source shortest paths problem and\n",
    "Prim's algorithm for the minimum spanning tree problem use the last approach.\n",
    "The *solution* is a tree (a collection of nodes and edges),\n",
    "extended by one *item* (an edge to a new node) at a time.\n",
    "Step&nbsp;3.3 looks at the neighbours of the new node to update the *extensions*\n",
    "(a priority queue of edges)."
   ]
  },
  {
   "cell_type": "markdown",
   "id": "4",
   "metadata": {},
   "source": [
    "### 20.2.2 Correctness"
   ]
  },
  {
   "cell_type": "markdown",
   "id": "5",
   "metadata": {},
   "source": [
    "Greedy algorithms are correct only if the immediate choice for the best option\n",
    "leads to the overall best solution. That's often not the case.\n",
    "\n",
    "To prove that a particular greedy choice won't produce\n",
    "the correct output, you only need provide *one* counter-example, i.e. an input\n",
    "for which the greedy choice will not lead to the best solution for that input.\n",
    "\n",
    "The counter-example should be small so that you can compute by hand both\n",
    "the output produced by the greedy choice and the correct output,\n",
    "to show they differ.\n",
    "\n",
    "If at any time there are multiple best extensions, the greedy algorithm\n",
    "may choose the wrong one, which won't lead to the best solution.\n",
    "You may thus wish to think of a counter-example that leads to such a choice\n",
    "and assume the algorithm will take the wrong one.\n",
    "\n",
    "A TMA question may ask you to outline or implement a greedy algorithm,\n",
    "including devising your own greedy choice,\n",
    "but it won't ask you to prove the algorithm is correct.\n",
    "The 'correctness' of your algorithm will be based on passing the tests."
   ]
  },
  {
   "cell_type": "markdown",
   "id": "6",
   "metadata": {},
   "source": [
    "⟵ [Previous section](20_1_graphs.ipynb) | [Up](20-introduction.ipynb) | [Next section](20_3_python.ipynb) ⟶"
   ]
  }
 ],
 "metadata": {
  "kernelspec": {
   "display_name": "Python 3",
   "language": "python",
   "name": "python3"
  },
  "language_info": {
   "codemirror_mode": {
    "name": "ipython",
    "version": 3
   },
   "file_extension": ".py",
   "mimetype": "text/x-python",
   "name": "python",
   "nbconvert_exporter": "python",
   "pygments_lexer": "ipython3",
   "version": "3.12.10"
  }
 },
 "nbformat": 4,
 "nbformat_minor": 5
}
