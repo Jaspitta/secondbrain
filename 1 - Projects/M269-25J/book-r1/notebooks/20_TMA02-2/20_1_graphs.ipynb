{
 "cells": [
  {
   "cell_type": "markdown",
   "id": "0",
   "metadata": {},
   "source": [
    "## 20.1 Using graphs"
   ]
  },
  {
   "cell_type": "markdown",
   "id": "1",
   "metadata": {},
   "source": [
    "If the word 'network' appears in the problem statement or there's a\n",
    "relationship (e.g. dependency) between pairs of items, consider using a graph.\n",
    "The relationship may be explicit in the problem statement (e.g. friendship)\n",
    "or it may be implicit (e.g. being adjacent in a 2D grid)."
   ]
  },
  {
   "cell_type": "markdown",
   "id": "2",
   "metadata": {},
   "source": [
    "### 20.1.1 Modelling with graphs"
   ]
  },
  {
   "cell_type": "markdown",
   "id": "3",
   "metadata": {},
   "source": [
    "If the relationship is symmetric (whenever A is related to B,\n",
    "B is related to A), use an undirected graph; otherwise, use a directed graph.\n",
    "\n",
    "If the relationship can be quantified (e.g. distance to the adjacent node) or\n",
    "has an associated numeric property (e.g. cost, duration), use a weighted graph.\n",
    "If the weight represents the distance between two points 'as the taxi drives'\n",
    "on a grid, then it's the [Manhattan distance](../18_Greed/18_2_weighted_graph.ipynb#18.2-Weighted-graphs).\n",
    "If the weight represents the distance between two points 'as the crow flies'\n",
    "on a straight line, then it's the Euclidean distance.\n",
    "\n",
    "To choose a data structure to represent the graph consider whether\n",
    "it's dense (use an adjacency matrix) or sparse (use an adjacency map).\n",
    "\n",
    "When asked to outline an algorithm and its ADTs, if you're using a graph,\n",
    "don't forget to state:\n",
    "\n",
    "- what the nodes and edges represent, e.g. airports and direct flights\n",
    "- if the edges are directed and what determines a node being the source or\n",
    "  target of the edge, e.g.\n",
    "  if the formula in A depends on the value in B, then the edge goes from B to A\n",
    "- if the edges are weighted and what the weights represent, e.g. travel cost\n",
    "- if relevant to the problem, whether the graph is dense or sparse,\n",
    "  cyclic or acyclic, connected or disconnected."
   ]
  },
  {
   "cell_type": "markdown",
   "id": "4",
   "metadata": {},
   "source": [
    "### 20.1.2 Algorithms"
   ]
  },
  {
   "cell_type": "markdown",
   "id": "5",
   "metadata": {},
   "source": [
    "Algorithms on graphs must not rely on any particular order of\n",
    "the nodes and their neighbours.\n",
    "\n",
    "If the problem is about reaching nodes,\n",
    "consider a depth- or breadth-first traversal of the graph.\n",
    "If the problem asks to minimise the number of 'hops'\n",
    "to go from one node to another, use BFS.\n",
    "\n",
    "If the problem asks to minimise the total weight\n",
    "(e.g. cheapest or fastest route), then consider using\n",
    "Dijkstra's shortest path algorithm or Prim's minimum spanning tree algorithm.\n",
    "Remember that Dijkstra's algorithm doesn't work with negative weights.\n",
    "\n",
    "Some problems can't be solved by a direct application of an existing algorithm:\n",
    "they may require some creative adaptation of the algorithm.\n",
    "\n",
    "Aim to state the complexity of a graph algorithm in terms of *n* and *e*, the\n",
    "number of its nodes and edges. For a dense graph, you may replace *e* by *n*².\n",
    "An empty or complete graph is often a best or worst case for graph algorithms.\n",
    "Remember that if an algorithm goes through all neighbours of each node,\n",
    "it's going through all edges."
   ]
  },
  {
   "cell_type": "markdown",
   "id": "6",
   "metadata": {},
   "source": [
    "⟵ [Previous section](20-introduction.ipynb) | [Up](20-introduction.ipynb) | [Next section](20_2_greed.ipynb) ⟶"
   ]
  }
 ],
 "metadata": {
  "kernelspec": {
   "display_name": "Python 3",
   "language": "python",
   "name": "python3"
  },
  "language_info": {
   "codemirror_mode": {
    "name": "ipython",
    "version": 3
   },
   "file_extension": ".py",
   "mimetype": "text/x-python",
   "name": "python",
   "nbconvert_exporter": "python",
   "pygments_lexer": "ipython3",
   "version": "3.12.10"
  }
 },
 "nbformat": 4,
 "nbformat_minor": 5
}
