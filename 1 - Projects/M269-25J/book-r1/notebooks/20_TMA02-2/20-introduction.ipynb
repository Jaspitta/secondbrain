{
 "cells": [
  {
   "cell_type": "markdown",
   "id": "0",
   "metadata": {},
   "source": [
    "# 20 TMA 02 part 2"
   ]
  },
  {
   "cell_type": "markdown",
   "id": "1",
   "metadata": {},
   "source": [
    "This study-free week is for you to catch up if you need to,\n",
    "and to complete and submit TMA&nbsp;02.\n",
    "\n",
    "This chapter provides some advice that complements\n",
    "the summaries of Chapters [16 (trees)](../16_Trees/16_7_summary.ipynb),\n",
    "[17 (graphs)](../17_Graphs_1/17_9_summary.ipynb) and\n",
    "[18 (greed)](../18_Greed/18_5_summary.ipynb).\n",
    "The guidance in Chapters [5](../05_TMA01-1/05-introduction.ipynb#5-TMA-01-part-1),\n",
    "[10](../10_TMA01-2/10-introduction.ipynb#10-TMA-01-part-2) (in particular about checking your TMA) and\n",
    "[15](../15_TMA02-1/15-introduction.ipynb#15-TMA-02-part-1) still applies.\n",
    "\n",
    "Before starting to work on this chapter, check the M269\n",
    "[news](https://learn2.open.ac.uk/blocks/news/all.php?bi=326014) and [errata](https://learn2.open.ac.uk/mod/url/view.php?id=2554721)."
   ]
  },
  {
   "cell_type": "markdown",
   "id": "2",
   "metadata": {
    "nbsphinx-toctree": {
     "hidden": true,
     "maxdepth": 1,
     "numbered": false
    }
   },
   "source": [
    "1. [Using graphs](20_1_graphs.ipynb)\n",
    "1. [Applying greed](20_2_greed.ipynb)\n",
    "1. [Python](20_3_python.ipynb)"
   ]
  },
  {
   "cell_type": "markdown",
   "id": "3",
   "metadata": {},
   "source": [
    "⟵ [Previous chapter](../19_Practice-2/19-introduction.ipynb) | [Up](../M269.ipynb) | [Next chapter](../21_Graphs_2/21-introduction.ipynb) ⟶"
   ]
  }
 ],
 "metadata": {
  "kernelspec": {
   "display_name": "Python 3",
   "language": "python",
   "name": "python3"
  },
  "language_info": {
   "codemirror_mode": {
    "name": "ipython",
    "version": 3
   },
   "file_extension": ".py",
   "mimetype": "text/x-python",
   "name": "python",
   "nbconvert_exporter": "python",
   "pygments_lexer": "ipython3",
   "version": "3.12.10"
  }
 },
 "nbformat": 4,
 "nbformat_minor": 5
}
