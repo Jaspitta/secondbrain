{
 "cells": [
  {
   "cell_type": "markdown",
   "id": "0",
   "metadata": {},
   "source": [
    "## 20.3 Python"
   ]
  },
  {
   "cell_type": "markdown",
   "id": "1",
   "metadata": {},
   "source": [
    "Unless a TMA&nbsp;02 question explicitly states otherwise,\n",
    "your code can only use the types, classes, methods, functions,\n",
    "statements, constants and code templates introduced in Chapters 2–19 of this book.\n",
    "Here's a non-comprehensive index of them, in addition to Section\n",
    "[10.4](../10_TMA01-2/10_4_python.ipynb)."
   ]
  },
  {
   "cell_type": "markdown",
   "id": "2",
   "metadata": {},
   "source": [
    "### 20.3.1 Language constructs"
   ]
  },
  {
   "cell_type": "markdown",
   "id": "3",
   "metadata": {},
   "source": [
    "- nested functions ([11.3.3](../11_Search/11_3_constraints.ipynb#11.3.3-Code-and-performance))\n",
    "- types `Callable` ([14.3.2](../14_Sorting/14_3_insertion_sort.ipynb#14.3.2-Iterative-version)) and\n",
    "  `Hashable` ([17.6.1](../17_Graphs_1/17_6_classes.ipynb#17.6.1-The-DiGraph-class))\n",
    "  in module `typing`"
   ]
  },
  {
   "cell_type": "markdown",
   "id": "4",
   "metadata": {},
   "source": [
    "### 20.3.2 Standard library"
   ]
  },
  {
   "cell_type": "markdown",
   "id": "5",
   "metadata": {},
   "source": [
    "- function `super()` ([17.6.2](../17_Graphs_1/17_6_classes.ipynb#17.6.2-The-UndirectedGraph-class))\n",
    "- function `abs` ([18.2](../18_Greed/18_2_weighted_graph.ipynb#18.2-Weighted-graphs))\n",
    "- method `pop` on sets ([11.2.2](../11_Search/11_2_factorisation.ipynb#11.2.2-Compute-solutions))\n",
    "- functions `sqrt` ([11.2.3](../11_Search/11_2_factorisation.ipynb#11.2.3-Sort-candidates))\n",
    "  and `factorial` ([11.4.3](../11_Search/11_4_permutations.ipynb#11.4.3-Complexity))\n",
    "  in module `math`\n",
    "- functions `permutations` ([11.4.4](../11_Search/11_4_permutations.ipynb#11.4.4-Code)) and\n",
    "  `combinations` ([11.5.4](../11_Search/11_5_subsets.ipynb#11.5.4-Code))\n",
    "  in module `itertools`\n",
    "- `key` argument for function `sorted` and method `sort`\n",
    "  ([14.1.4](../14_Sorting/14_1_sort_prep.ipynb#14.1.4-Sorting-in-Python))\n",
    "- functions `shuffle` ([14.6.3](../14_Sorting/14_6_quicksort.ipynb#14.6.3-Code-and-performance)) and\n",
    "  `random` ([17.6.4](../17_Graphs_1/17_6_classes.ipynb#17.6.4-Random-graphs))\n",
    "  in module `random`\n",
    "- functions `heappush` and `heappop` in module `heapq`\n",
    "  ([16.6.5](../16_Trees/16_6_heapsort.ipynb#16.6.5-Heaps-in-Python))"
   ]
  },
  {
   "cell_type": "markdown",
   "id": "6",
   "metadata": {},
   "source": [
    "### 20.3.3 M269 library"
   ]
  },
  {
   "cell_type": "markdown",
   "id": "7",
   "metadata": {},
   "source": [
    "**Recursion** (file `m269_rec_list.py`):\n",
    "\n",
    "- functions `is_empty`, `head`, `tail` ([12.3.2](../12_Recursion/12_3_length.ipynb#12.3.2-Code))\n",
    "  and `prepend` ([12.5.1](../12_Recursion/12_5_create_sequences.ipynb#12.5.1-Prepend))\n",
    "\n",
    "**Binary tree** (file `m269_tree.py`):\n",
    "\n",
    "- class `Tree` ([16.1.2](../16_Trees/16_1_binary.ipynb#16.1.2-ADT-and-data-structure))\n",
    "- functions `is_empty`, `join`, `leaf`, `is_leaf`\n",
    "  ([16.1.2](../16_Trees/16_1_binary.ipynb#16.1.2-ADT-and-data-structure)),\n",
    "  `size` ([16.2.1](../16_Trees/16_2_algorithms.ipynb#16.2.1-Divide-and-conquer))\n",
    "  and `write` ([16.3.2](../16_Trees/16_3_traversals.ipynb#16.3.2-Pre-order-traversal))\n",
    "- constants `THREE`, `FOUR`, `FIVE`, `SIX`, `TPM `, `PMT`, `MPT`\n",
    "  (example trees, [16.1.2](../16_Trees/16_1_binary.ipynb#16.1.2-ADT-and-data-structure))\n",
    "\n",
    "**Sorting** (file `m269_sorting.py`):\n",
    "\n",
    "- functions `suit`, `value`, `suit_value`, `identity`\n",
    "  ([14.1.2](../14_Sorting/14_1_sort_prep.ipynb#14.1.2-Problem-instances))\n",
    "\n",
    "**Directed graphs** (file `m269_digraph.py`):\n",
    "\n",
    "- class `DiGraph` ([17.6.1](../17_Graphs_1/17_6_classes.ipynb#17.6.1-The-DiGraph-class))\n",
    "- functions `bfs` ([17.8.1](../17_Graphs_1/17_8_bfs_dfs.ipynb#17.8.1-Breadth-first-search))\n",
    "  and `dfs` ([17.8.2](../17_Graphs_1/17_8_bfs_dfs.ipynb#17.8.2-Depth-first-search))\n",
    "- class `WeightedDiGraph` ([18.2.2](../18_Greed/18_2_weighted_graph.ipynb#18.2.2-Classes))\n",
    "- function `dijkstra` ([18.4.2](../18_Greed/18_4_shortest_path.ipynb#18.4.2-Code))\n",
    "\n",
    "**Undirected graphs**:\n",
    "\n",
    "File `m269_ungraph.py`:\n",
    "\n",
    "- class `UndirectedGraph` ([17.6.2](../17_Graphs_1/17_6_classes.ipynb#17.6.2-The-UndirectedGraph-class))\n",
    "- class `WeightedUndirectedGraph` ([18.2.2](../18_Greed/18_2_weighted_graph.ipynb#18.2.2-Classes))\n",
    "- function `prim` ([18.3.3](../18_Greed/18_3_mst.ipynb#18.3.3-Code))\n",
    "\n",
    "File `m269_graphs.py`:\n",
    "\n",
    "- functions `null_graph`, `path_graph`, `cycle_graph`, `complete_graph`\n",
    "  ([17.6.3](../17_Graphs_1/17_6_classes.ipynb#17.6.3-Special-graphs))\n",
    "- function `random_graph` ([17.6.4](../17_Graphs_1/17_6_classes.ipynb#17.6.4-Random-graphs))\n",
    "- constants `EMPTY_UG` ([17.6.3](../17_Graphs_1/17_6_classes.ipynb#17.6.3-Special-graphs)),\n",
    "  `RHOMBUS` ([18.3.3](../18_Greed/18_3_mst.ipynb#18.3.3-Code)) and\n",
    "  `DIJKSTRA` ([18.4.2](../18_Greed/18_4_shortest_path.ipynb#18.4.2-Code))"
   ]
  },
  {
   "cell_type": "markdown",
   "id": "8",
   "metadata": {},
   "source": [
    "⟵ [Previous section](20_2_greed.ipynb) | [Up](20-introduction.ipynb) | [Next section](../21_Graphs_2/21-introduction.ipynb) ⟶"
   ]
  }
 ],
 "metadata": {
  "kernelspec": {
   "display_name": "Python 3",
   "language": "python",
   "name": "python3"
  },
  "language_info": {
   "codemirror_mode": {
    "name": "ipython",
    "version": 3
   },
   "file_extension": ".py",
   "mimetype": "text/x-python",
   "name": "python",
   "nbconvert_exporter": "python",
   "pygments_lexer": "ipython3",
   "version": "3.12.10"
  }
 },
 "nbformat": 4,
 "nbformat_minor": 5
}
