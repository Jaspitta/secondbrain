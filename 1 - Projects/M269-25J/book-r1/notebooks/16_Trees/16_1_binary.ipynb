{
 "cells": [
  {
   "cell_type": "markdown",
   "id": "0",
   "metadata": {},
   "source": [
    "## 16.1 Binary tree"
   ]
  },
  {
   "cell_type": "markdown",
   "id": "1",
   "metadata": {},
   "source": [
    "In M269 we focus on a restricted form of rooted trees: binary trees.\n",
    "They can be defined recursively:\n",
    "\n",
    "> A **binary tree** is either empty or it consists of an item,\n",
    "> called the **root**, and two binary trees,\n",
    "> called the **left subtree** and the **right subtree**.\n",
    "\n",
    "The next figure shows a binary tree that represents the expression (3+4)×5 − 6.\n",
    "Rooted trees are usually depicted from the root downwards, unlike natural trees.\n",
    "\n",
    "<p id=\"fig-16.1.1\"></p>\n",
    "\n",
    "*[Figure 16.1.1](../33_Figures/Figures_16_1.ipynb#Figure-16.1.1)*\n",
    "\n",
    "![Image 16_1_example.png](16_1_example.png)\n",
    "\n",
    "The root is the subtraction operator.\n",
    "The left subtree's root is the multiplication operator.\n",
    "The right subtree consists of root 6 and two empty subtrees.\n",
    "Why the expression is represented in this particular way will become clear\n",
    "in the next section, when we evaluate such expression trees.\n",
    "\n",
    "Many examples, like the folder hierarchy on a disk, can't be modelled as\n",
    "binary trees, because a folder can have more than two subfolders.\n",
    "But the concepts and techniques for binary trees\n",
    "can be extended to rooted trees with any number of subtrees."
   ]
  },
  {
   "cell_type": "markdown",
   "id": "2",
   "metadata": {},
   "source": [
    "### 16.1.1 Terminology"
   ]
  },
  {
   "cell_type": "markdown",
   "id": "3",
   "metadata": {},
   "source": [
    "A **node** consists of an item and\n",
    "the references to the left and right subtrees. The **size** of a tree is\n",
    "the number of its items (or nodes); the example tree has size 7.\n",
    "\n",
    "A node A is the **parent** of node B, and B is the **left or right child** of A,\n",
    "if B is the root of the left or right subtree of A, respectively.\n",
    "For example, node 6 is the right child of the subtraction node,\n",
    "which is also the parent of the multiplication node.\n",
    "\n",
    "Every node has exactly one parent, except the root, which has no parent.\n",
    "A **leaf** is a childless node, i.e. both its subtrees are empty.\n",
    "In the example, the leaves are the integer literals.\n",
    "\n",
    "A node A is an **ancestor** of node B, and B is a **descendant** of A,\n",
    "if A is a parent of B or A is an ancestor of the parent of B.\n",
    "For example, the ancestors of node 3 are\n",
    "addition, multiplication and subtraction.\n",
    "A subtree rooted at a node A consists of A and all its descendants.\n",
    "For example, the subtree rooted at the addition node consists of it\n",
    "and the descendants 3 and 4.\n",
    "\n",
    "The **level** or **depth** of a node is the number of its ancestors.\n",
    "The root has depth 0 because it has no ancestors.\n",
    "In the example tree, node 5 and the addition node have depth 2;\n",
    "nodes 3 and 4 are at level 3.\n",
    "\n",
    "The **height** of a tree is the number of levels.\n",
    "The example tree has four levels, so its height is 4.\n",
    "An empty tree has no levels, so its height is 0.\n",
    "\n",
    "The height of a non-empty tree is one more than the largest depth of all nodes.\n",
    "The largest depth in the example tree is 3 (for the left-most leaves), so the height is 4.\n",
    "A tree with only one node (the root, at depth 0) has height 1."
   ]
  },
  {
   "cell_type": "markdown",
   "id": "4",
   "metadata": {},
   "source": [
    "<div class=\"alert alert-info\">\n",
    "<strong>Info:</strong> Many authors define the height of the empty tree as −1 and the height of\n",
    "a non-empty tree as the largest depth.\n",
    "</div>"
   ]
  },
  {
   "cell_type": "markdown",
   "id": "5",
   "metadata": {},
   "source": [
    "A binary tree is **perfect** if all its levels are full, i.e. all parents have\n",
    "two children and all leaves are at the same depth.\n",
    "An empty tree and a tree with just one node are perfect trees.\n",
    "The left-hand tree in the next figure is also perfect."
   ]
  },
  {
   "cell_type": "markdown",
   "id": "6",
   "metadata": {},
   "source": [
    "#### Exercise 16.1.1"
   ]
  },
  {
   "cell_type": "markdown",
   "id": "7",
   "metadata": {},
   "source": [
    "Consider the following binary trees, which represent, from left to to right,\n",
    "expressions (3+4)×(5-6), 3+((4×5)−6) and (3+(4×5))−6.\n",
    "\n",
    "<p id=\"fig-16.1.2\"></p>\n",
    "\n",
    "*[Figure 16.1.2](../33_Figures/Figures_16_1.ipynb#Figure-16.1.2)*\n",
    "\n",
    "![Image 16_1_exercise.png](16_1_exercise.png)\n",
    "\n",
    "For each tree:\n",
    "\n",
    "1. State its size and height."
   ]
  },
  {
   "cell_type": "markdown",
   "id": "8",
   "metadata": {},
   "source": [
    "_Write your answer here._"
   ]
  },
  {
   "cell_type": "markdown",
   "id": "9",
   "metadata": {},
   "source": [
    "2. List the nodes at level 2."
   ]
  },
  {
   "cell_type": "markdown",
   "id": "10",
   "metadata": {},
   "source": [
    "_Write your answer here._"
   ]
  },
  {
   "cell_type": "markdown",
   "id": "11",
   "metadata": {},
   "source": [
    "3. Explain if the multiplication node is a descendant of the subtraction node."
   ]
  },
  {
   "cell_type": "markdown",
   "id": "12",
   "metadata": {},
   "source": [
    "_Write your answer here._"
   ]
  },
  {
   "cell_type": "markdown",
   "id": "13",
   "metadata": {},
   "source": [
    "[Answer](../32_Answers/Answers_16_1_01.ipynb)"
   ]
  },
  {
   "cell_type": "markdown",
   "id": "14",
   "metadata": {},
   "source": [
    "### 16.1.2 ADT and data structure"
   ]
  },
  {
   "cell_type": "markdown",
   "id": "15",
   "metadata": {},
   "source": [
    "The binary tree ADT has the following operations:\n",
    "\n",
    "Operation | Effect | Algorithm in English\n",
    "-|-|-\n",
    "new  | create a new empty binary tree | let *t* be an empty binary tree\n",
    "join | create a tree from item *i* and trees *l* and *r* | join(*i*, *l*, *r*)\n",
    "root | obtain the root item of non-empty tree *t* | root(*t*)\n",
    "left | obtain the left subtree of non-empty tree *t* | left(*t*)\n",
    "right | obtain the right subtree of non-empty tree *t* | right(*t*)\n",
    "is empty | check if a given tree is empty | *t* is empty\n",
    "\n",
    "The join operation puts together a tree while\n",
    "the root, left and right operations take it apart. We have\n",
    "root(join(*i*, *l*, *r*)) = *i*,\n",
    "left(join(*i*, *l*, *r*)) = *l* and right(join(*i*, *l*, *r*)) = *r*.\n",
    "This is the same approach as for composing sequences with the prepend operation\n",
    "and decomposing them with the head and tail operations."
   ]
  },
  {
   "cell_type": "markdown",
   "id": "16",
   "metadata": {},
   "source": [
    "<div class=\"alert alert-warning\">\n",
    "<strong>Note:</strong> When designing a data type made of several parts,\n",
    "include operations to join and to separate the parts.\n",
    "</div>"
   ]
  },
  {
   "cell_type": "markdown",
   "id": "17",
   "metadata": {},
   "source": [
    "Instead of writing in one go a large class with many methods,\n",
    "I define a data structure and add operations one by one,\n",
    "as standalone functions. Introducing operations incrementally\n",
    "makes it easier for me to explain (and for you to learn) how binary trees work.\n",
    "\n",
    "The binary tree data structure follows the recursive definition:\n",
    "a tree node has an item and points to two children nodes.\n",
    "A binary tree is like a bifurcating [linked list](../06_Implementing/06_7_linked_list.ipynb#6.7-Linked-lists).\n",
    "I represent an empty tree by a node without a root or subtrees."
   ]
  },
  {
   "cell_type": "code",
   "execution_count": 1,
   "id": "18",
   "metadata": {},
   "outputs": [],
   "source": [
    "# this code is also in m269_tree.py\n",
    "\n",
    "\n",
    "class Tree:\n",
    "    \"\"\"A rooted binary tree.\"\"\"\n",
    "\n",
    "    def __init__(self) -> None:\n",
    "        \"\"\"Create an empty tree.\"\"\"\n",
    "        self.root = None\n",
    "        self.left = None\n",
    "        self.right = None"
   ]
  },
  {
   "cell_type": "markdown",
   "id": "19",
   "metadata": {},
   "source": [
    "The class could be named `BinaryTree` or `TreeNode`\n",
    "but since we're using only one kind of tree, I prefer a shorter name.\n",
    "\n",
    "Let's implement the ADT operations.\n",
    "The new operation is provided by the constructor.\n",
    "To obtain the root, left and right subtrees we can simply access\n",
    "the corresponding attribute because we're using the class as the raw\n",
    "data structure. The remaining operations are:"
   ]
  },
  {
   "cell_type": "code",
   "execution_count": 2,
   "id": "20",
   "metadata": {},
   "outputs": [],
   "source": [
    "# this code is also in m269_tree.py\n",
    "\n",
    "\n",
    "def is_empty(tree: Tree) -> bool:\n",
    "    \"\"\"Return True if and only if tree is empty.\"\"\"\n",
    "    return tree.root == tree.left == tree.right == None\n",
    "\n",
    "\n",
    "def join(item: object, left: Tree, right: Tree) -> Tree:\n",
    "    \"\"\"Return a tree with the given root and subtrees.\"\"\"\n",
    "    tree = Tree()\n",
    "    tree.root = item\n",
    "    tree.left = left\n",
    "    tree.right = right\n",
    "    return tree"
   ]
  },
  {
   "cell_type": "markdown",
   "id": "21",
   "metadata": {},
   "source": [
    "We construct trees bottom-up, starting from the leaves and joining two subtrees.\n",
    "Here's how to construct the 3+4&nbsp;subtree of Figure 16.1.1."
   ]
  },
  {
   "cell_type": "code",
   "execution_count": 3,
   "id": "22",
   "metadata": {},
   "outputs": [],
   "source": [
    "THREE = join(3, Tree(), Tree())  # a leaf has empty subtrees\n",
    "FOUR = join(4, Tree(), Tree())\n",
    "SUM = join(\"+\", THREE, FOUR)  # the subtree for 3 + 4"
   ]
  },
  {
   "cell_type": "markdown",
   "id": "23",
   "metadata": {},
   "source": [
    "To create trees more easily, let's define a convenience operation."
   ]
  },
  {
   "cell_type": "code",
   "execution_count": 4,
   "id": "24",
   "metadata": {},
   "outputs": [],
   "source": [
    "# this code is also in m269_tree.py\n",
    "\n",
    "\n",
    "def leaf(item: object) -> Tree:\n",
    "    \"\"\"Return a node with the item and empty subtrees.\"\"\"\n",
    "    return join(item, Tree(), Tree())\n",
    "\n",
    "\n",
    "# The leaves for all the example trees.\n",
    "THREE = leaf(3)\n",
    "FOUR = leaf(4)\n",
    "FIVE = leaf(5)\n",
    "SIX = leaf(6)"
   ]
  },
  {
   "cell_type": "markdown",
   "id": "25",
   "metadata": {},
   "source": [
    "Now we can create the three trees in Figure 16.1.2, named after the order in which\n",
    "the plus, minus and times operators appear in the `join` arguments."
   ]
  },
  {
   "cell_type": "code",
   "execution_count": 5,
   "id": "26",
   "metadata": {},
   "outputs": [],
   "source": [
    "# this code is also in m269_tree.py\n",
    "\n",
    "TPM = join(\"*\", join(\"+\", THREE, FOUR), join(\"-\", FIVE, SIX))  # (3+4)*(5-6)\n",
    "PMT = join(\"+\", THREE, join(\"-\", join(\"*\", FOUR, FIVE), SIX))  # 3+((4*5)-6)\n",
    "MPT = join(\"-\", join(\"+\", THREE, join(\"*\", FOUR, FIVE)), SIX)  # (3+(4*5))-6"
   ]
  },
  {
   "cell_type": "markdown",
   "id": "27",
   "metadata": {},
   "source": [
    "I can reuse the same leaf objects for different trees\n",
    "because they won't be modified (hence the uppercase names)."
   ]
  },
  {
   "cell_type": "markdown",
   "id": "28",
   "metadata": {},
   "source": [
    "#### Exercise 16.1.2"
   ]
  },
  {
   "cell_type": "markdown",
   "id": "29",
   "metadata": {},
   "source": [
    "Write the Python expression for the tree in Figure 16.1.1,\n",
    "for expression ((3+4)×5) − 6."
   ]
  },
  {
   "cell_type": "code",
   "execution_count": 6,
   "id": "30",
   "metadata": {},
   "outputs": [],
   "source": [
    "%run -i ../m269_tree\n",
    "\n",
    "pass"
   ]
  },
  {
   "cell_type": "markdown",
   "id": "31",
   "metadata": {},
   "source": [
    "[Answer](../32_Answers/Answers_16_1_02.ipynb)\n",
    "\n",
    "Before we move on, here's one more operation to illustrate accessing the subtrees."
   ]
  },
  {
   "cell_type": "code",
   "execution_count": 7,
   "id": "32",
   "metadata": {},
   "outputs": [],
   "source": [
    "# this code is also in m269_tree.py\n",
    "\n",
    "\n",
    "def is_leaf(tree: Tree) -> bool:\n",
    "    \"\"\"Return True if and only if the tree is a single leaf.\"\"\"\n",
    "    return not is_empty(tree) and is_empty(tree.left) and is_empty(tree.right)"
   ]
  },
  {
   "cell_type": "code",
   "execution_count": 8,
   "id": "33",
   "metadata": {},
   "outputs": [
    {
     "data": {
      "text/plain": [
       "True"
      ]
     },
     "execution_count": 8,
     "metadata": {},
     "output_type": "execute_result"
    }
   ],
   "source": [
    "is_leaf(THREE)"
   ]
  },
  {
   "cell_type": "code",
   "execution_count": 9,
   "id": "34",
   "metadata": {},
   "outputs": [
    {
     "data": {
      "text/plain": [
       "False"
      ]
     },
     "execution_count": 9,
     "metadata": {},
     "output_type": "execute_result"
    }
   ],
   "source": [
    "is_leaf(Tree())"
   ]
  },
  {
   "cell_type": "code",
   "execution_count": 10,
   "id": "35",
   "metadata": {},
   "outputs": [
    {
     "data": {
      "text/plain": [
       "False"
      ]
     },
     "execution_count": 10,
     "metadata": {},
     "output_type": "execute_result"
    }
   ],
   "source": [
    "is_leaf(TPM)"
   ]
  },
  {
   "cell_type": "markdown",
   "id": "36",
   "metadata": {},
   "source": [
    "⟵ [Previous section](16-introduction.ipynb) | [Up](16-introduction.ipynb) | [Next section](16_2_algorithms.ipynb) ⟶"
   ]
  }
 ],
 "metadata": {
  "kernelspec": {
   "display_name": "Python 3",
   "language": "python",
   "name": "python3"
  },
  "language_info": {
   "codemirror_mode": {
    "name": "ipython",
    "version": 3
   },
   "file_extension": ".py",
   "mimetype": "text/x-python",
   "name": "python",
   "nbconvert_exporter": "python",
   "pygments_lexer": "ipython3",
   "version": "3.12.10"
  }
 },
 "nbformat": 4,
 "nbformat_minor": 5
}
