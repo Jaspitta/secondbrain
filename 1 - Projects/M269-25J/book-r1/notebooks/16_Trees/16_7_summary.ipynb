{
 "cells": [
  {
   "cell_type": "markdown",
   "id": "0",
   "metadata": {},
   "source": [
    "## 16.7 Summary"
   ]
  },
  {
   "cell_type": "markdown",
   "id": "1",
   "metadata": {},
   "source": [
    "### 16.7.1 Rooted trees"
   ]
  },
  {
   "cell_type": "markdown",
   "id": "2",
   "metadata": {},
   "source": [
    "A **rooted tree** consists of zero or more **nodes**.\n",
    "Each node contains an item and is the **parent** of zero or more **child** nodes.\n",
    "The root node has no parent; every other node has exactly one parent.\n",
    "The **leaves** are the nodes without children.\n",
    "The **size** of a tree is how many nodes (or items) it has.\n",
    "\n",
    "Rooted trees represent hierarchical collections of items, organised by **levels**.\n",
    "The **height** of a tree is how many levels it has.\n",
    "Level zero, the top level, contains only the root.\n",
    "If a node is at level *n*, then its children are at level, or **depth**, *n* + 1\n",
    "and its parent is at level *n* − 1.\n",
    "\n",
    "The **ancestors**\n",
    "of a node are its parent, parent's parent, and so on until the root.\n",
    "The **descendants** of a node are\n",
    "its children, children's children and so on until reaching leaf nodes.\n",
    "\n",
    "There are two basic ways of exhaustively searching a rooted tree.\n",
    "A breadth-first search (BFS) generates the nodes level by level:\n",
    "all of a node's children are tested before testing their children.\n",
    "A depth-first search (DFS) generates and tests all descendants of a node's\n",
    "child before doing the same for the next child of that node.\n",
    "A **pre- or post-order traversal** is a DFS that tests a node respectively\n",
    "before or after its children."
   ]
  },
  {
   "cell_type": "markdown",
   "id": "3",
   "metadata": {},
   "source": [
    "### 16.7.2 Binary trees"
   ]
  },
  {
   "cell_type": "markdown",
   "id": "4",
   "metadata": {},
   "source": [
    "In a **binary tree**, each node has at most two children,\n",
    "called the **left child** and **right child**.\n",
    "A binary tree can be recursively defined as being empty or consisting of\n",
    "a root and two binary trees, called the left and right **subtrees**.\n",
    "The binary tree ADT operations are directly based on this definition:\n",
    "\n",
    "Operation | Effect\n",
    "-|-\n",
    "new | create a new empty binary tree\n",
    "join(*i*, *l*, *r*) | create a tree with root item *i* and subtrees *l* and *r*\n",
    "root(*t*) | obtain the root item of binary tree *t*\n",
    "left(*t*) | obtain the left subtree of *t*\n",
    "right(*t*) | obtain the right subtree of *t*\n",
    "*t* is empty | check if *t* has no nodes\n",
    "\n",
    "When writing algorithms in English, the new operation is written as:\n",
    "let *t* be an empty binary tree.\n",
    "Operations root, left and right assume *t* isn't empty.\n",
    "All operations can be implemented in constant time.\n",
    "\n",
    "Due to their recursive structure, binary trees can be processed with\n",
    "recursive divide-and-conquer algorithms.\n",
    "The base case is either an empty tree or a leaf.\n",
    "**Arm's-length recursion**, which tests the base case before the recursive call,\n",
    "should be avoided as it complicates the algorithm and usually makes it slower.\n",
    "\n",
    "An **in-order traversal** of a binary tree is a DFS that processes the root in\n",
    "between processing the left and right subtrees.\n",
    "\n",
    "The **balance factor** of a node is the difference between\n",
    "the left subtree's height and the right subtree's height.\n",
    "A binary tree is **balanced** if every node has balance factor −1, 0 or 1.\n",
    "\n",
    "A binary tree is **complete** if all levels, except possibly the last one, are full\n",
    "and the leaves on the last level have no gaps from left to right.\n",
    "A binary tree is **perfect** if all its levels are full.\n",
    "Complete trees and perfect trees are balanced.\n",
    "\n",
    "The height of a binary tree is at least log │*tree*│, for a complete tree, and\n",
    "at most │*tree*│, for a tree that has one node per level.\n",
    "For a balanced tree, the height is proportional to log │*tree*│."
   ]
  },
  {
   "cell_type": "markdown",
   "id": "5",
   "metadata": {},
   "source": [
    "### 16.7.3 Binary search trees"
   ]
  },
  {
   "cell_type": "markdown",
   "id": "6",
   "metadata": {},
   "source": [
    "A **binary search tree** (**BST**) is a binary tree with an ordering property:\n",
    "each item is larger than the items in the left subtree and\n",
    "smaller than the items in the right subtree.\n",
    "Moreover, each subtree is a BST itself.\n",
    "An in-order traversal of a BST produces items in ascending order.\n",
    "\n",
    "BSTs are used to implement the map ADT, if items are key–value pairs with\n",
    "unique and comparable keys.\n",
    "All map operations require to first search for the node with the given key.\n",
    "This can be done with a binary search, due to the ordering of the items.\n",
    "\n",
    "Binary search visits one node per level so it takes\n",
    "linear time in the height of the tree,\n",
    "assuming each visited node takes constant time to process.\n",
    "Binary search is Θ(1) in the best case, Θ(log │*tree*│) in the average case, and\n",
    "Θ(│*tree*│) in the worst case.\n",
    "\n",
    "A **self-balancing BST** automatically balances itself after\n",
    "a node has been inserted or removed."
   ]
  },
  {
   "cell_type": "markdown",
   "id": "7",
   "metadata": {},
   "source": [
    "### 16.7.4 Heaps"
   ]
  },
  {
   "cell_type": "markdown",
   "id": "8",
   "metadata": {},
   "source": [
    "A **min-heap** or **max-heap** is a binary tree with an additional structural property\n",
    "(it's complete) and an ordering property: each item (or its key) is\n",
    "respectively smaller or larger than its children (or their keys).\n",
    "Min- and max-heaps are used to implement priority queues:\n",
    "the smallest or largest priority item is in the root.\n",
    "\n",
    "A heap can be efficiently stored and manipulated in an array.\n",
    "A new item is added as the last node and bubbles up the tree while it's\n",
    "smaller (or larger, for a max-heap) than the parent.\n",
    "When the root is removed, the last item takes its place and bubbles down\n",
    "while it's larger (respectively, smaller) than their children.\n",
    "Inserting an item and removing the root take logarithmic time at worst,\n",
    "when the item moves up (or the new root moves down) the height of the tree.\n",
    "\n",
    "In Python, min-heaps can be created by repeatedly calling\n",
    "`heappush(heap, item)` on an initially empty list `heap`.\n",
    "The items added to the heap must be comparable.\n",
    "Calling `heappop(heap)` on a non-empty heap returns and removes the root item.\n",
    "Both functions are in module `heapq`.\n",
    "\n",
    "**Heapsort** is a form of selection sort with unsorted items kept in a min-heap\n",
    "instead of a sequence. Heapsort has linear best-case complexity and\n",
    "log-linear worst-case complexity.\n",
    "Due to swapping items up and down across the whole array,\n",
    "heapsort doesn't have good cache locality and is slower in practice than in-place quicksort."
   ]
  },
  {
   "cell_type": "markdown",
   "id": "9",
   "metadata": {},
   "source": [
    "⟵ [Previous section](16_6_heapsort.ipynb) | [Up](16-introduction.ipynb) | [Next section](../17_Graphs_1/17-introduction.ipynb) ⟶"
   ]
  }
 ],
 "metadata": {
  "kernelspec": {
   "display_name": "Python 3",
   "language": "python",
   "name": "python3"
  },
  "language_info": {
   "codemirror_mode": {
    "name": "ipython",
    "version": 3
   },
   "file_extension": ".py",
   "mimetype": "text/x-python",
   "name": "python",
   "nbconvert_exporter": "python",
   "pygments_lexer": "ipython3",
   "version": "3.12.10"
  }
 },
 "nbformat": 4,
 "nbformat_minor": 5
}
