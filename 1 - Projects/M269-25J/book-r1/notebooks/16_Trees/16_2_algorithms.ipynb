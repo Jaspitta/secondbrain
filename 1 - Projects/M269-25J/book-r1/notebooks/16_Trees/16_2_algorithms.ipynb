{
 "cells": [
  {
   "cell_type": "markdown",
   "id": "0",
   "metadata": {},
   "source": [
    "## 16.2 Algorithms on trees"
   ]
  },
  {
   "cell_type": "markdown",
   "id": "1",
   "metadata": {},
   "source": [
    "Algorithms on binary trees usually follow a\n",
    "[divide-and-conquer approach](../13_Divide/13_7_summary.ipynb)\n",
    "to process both subtrees and thereby all nodes.\n",
    "This takes linear time in the size of the tree,\n",
    "assuming that processing each node takes constant time.\n",
    "Let's see a concrete example: computing the size of a tree."
   ]
  },
  {
   "cell_type": "markdown",
   "id": "2",
   "metadata": {},
   "source": [
    "### 16.2.1 Divide and conquer"
   ]
  },
  {
   "cell_type": "markdown",
   "id": "3",
   "metadata": {},
   "source": [
    "Due to the recursive definition of binary trees, a function f on them\n",
    "is usually defined recursively like this:\n",
    "\n",
    "1. if *tree* is empty: f(*tree*) = ...\n",
    "2. otherwise: f(*tree*) = an expression based on operations root, left, right and join.\n",
    "\n",
    "To come up with such a definition you need to answer these questions:\n",
    "\n",
    "1. What's the output for an empty tree?\n",
    "2. If I know the outputs for the left and right subtrees, what's the output for the whole tree?\n",
    "\n",
    "For example, the size of the empty tree is zero, and if I know the sizes of the\n",
    "left and right subtrees, then the size of the tree is their sum plus one,\n",
    "for the root.\n",
    "\n",
    "- if *tree* is empty: size(*tree*) = 0\n",
    "- otherwise: size(*tree*) = size(left(*tree*)) + size(right(*tree*)) + 1\n",
    "\n",
    "The recursive definition of the length of a sequence didn't refer to the head\n",
    "of the sequence; similarly, the size of a tree doesn't refer to the root.\n",
    "\n",
    "Like for sequences, recursive definitions on trees are straightforward to\n",
    "translate to code. First we must 'import' the definition of `Tree`."
   ]
  },
  {
   "cell_type": "code",
   "execution_count": 1,
   "id": "4",
   "metadata": {},
   "outputs": [],
   "source": [
    "%run -i ../m269_tree"
   ]
  },
  {
   "cell_type": "markdown",
   "id": "5",
   "metadata": {},
   "source": [
    "Now we can define a new operation on binary trees."
   ]
  },
  {
   "cell_type": "code",
   "execution_count": 2,
   "id": "6",
   "metadata": {},
   "outputs": [],
   "source": [
    "# this code is also in m269_tree.py\n",
    "\n",
    "\n",
    "def size(tree: Tree) -> int:\n",
    "    \"\"\"Return the number of nodes in tree.\"\"\"\n",
    "    if is_empty(tree):\n",
    "        return 0\n",
    "    else:\n",
    "        return size(tree.left) + size(tree.right) + 1"
   ]
  },
  {
   "cell_type": "markdown",
   "id": "7",
   "metadata": {},
   "source": [
    "I test the function on one expression tree, as they all have the same size."
   ]
  },
  {
   "cell_type": "code",
   "execution_count": 3,
   "id": "8",
   "metadata": {},
   "outputs": [
    {
     "data": {
      "text/plain": [
       "7"
      ]
     },
     "execution_count": 3,
     "metadata": {},
     "output_type": "execute_result"
    }
   ],
   "source": [
    "size(TPM)"
   ]
  },
  {
   "cell_type": "markdown",
   "id": "9",
   "metadata": {},
   "source": [
    "#### Exercise 16.2.1"
   ]
  },
  {
   "cell_type": "markdown",
   "id": "10",
   "metadata": {},
   "source": [
    "Recursively define the height of a tree."
   ]
  },
  {
   "cell_type": "markdown",
   "id": "11",
   "metadata": {},
   "source": [
    "- if *tree* is empty: height(*tree*) = ...\n",
    "- otherwise: height(*tree*) ="
   ]
  },
  {
   "cell_type": "markdown",
   "id": "12",
   "metadata": {},
   "source": [
    "[Hint](../31_Hints/Hints_16_2_01.ipynb)\n",
    "[Answer](../32_Answers/Answers_16_2_01.ipynb)"
   ]
  },
  {
   "cell_type": "markdown",
   "id": "13",
   "metadata": {},
   "source": [
    "#### Exercise 16.2.2"
   ]
  },
  {
   "cell_type": "markdown",
   "id": "14",
   "metadata": {},
   "source": [
    "Implement the operation."
   ]
  },
  {
   "cell_type": "code",
   "execution_count": 4,
   "id": "15",
   "metadata": {},
   "outputs": [],
   "source": [
    "%run -i ../m269_tree\n",
    "from algoesup import test\n",
    "\n",
    "\n",
    "def height(tree: Tree) -> int:\n",
    "    \"\"\"Return the height of the tree.\"\"\"\n",
    "    pass\n",
    "\n",
    "\n",
    "height_tests = [\n",
    "    # case,         tree,   height\n",
    "    ('empty tree',  Tree(), 0),\n",
    "    ('(3+4)*(5-6)', TPM,    3),\n",
    "    ('3+((4*5)-6)', PMT,    4),\n",
    "    ('(3+(4*5))-6', MPT,    4),\n",
    "]\n",
    "\n",
    "test(height, height_tests)"
   ]
  },
  {
   "cell_type": "markdown",
   "id": "16",
   "metadata": {},
   "source": [
    "[Answer](../32_Answers/Answers_16_2_02.ipynb)"
   ]
  },
  {
   "cell_type": "markdown",
   "id": "17",
   "metadata": {},
   "source": [
    "### 16.2.2 Arm's-length recursion"
   ]
  },
  {
   "cell_type": "markdown",
   "id": "18",
   "metadata": {},
   "source": [
    "The size algorithm always does two recursive calls per node,\n",
    "whether a node has 0, 1 or 2 children.\n",
    "However, empty subtrees don't add anything to the size of the tree.\n",
    "Making a recursive call to immediately return zero seems a bit pointless.\n",
    "\n",
    "**Arm's-length recursion** checks for the base case *before* making a recursive\n",
    "call. For the size function, this means checking if a subtree is empty and\n",
    "not making a recursive call if it is. Since one or both subtrees may be empty,\n",
    "we must check three additional cases.\n",
    "The base case must still be checked in case the whole tree is empty."
   ]
  },
  {
   "cell_type": "code",
   "execution_count": 5,
   "id": "19",
   "metadata": {},
   "outputs": [],
   "source": [
    "def size_arm(tree: Tree) -> int:\n",
    "    \"\"\"Return the size of the tree using arm's length recursion.\"\"\"\n",
    "    if is_empty(tree):\n",
    "        return 0\n",
    "    elif is_leaf(tree):  # both subtrees empty\n",
    "        return 1\n",
    "    elif is_empty(tree.left):  # left subtree empty\n",
    "        return size_arm(tree.right) + 1\n",
    "    elif is_empty(tree.right):  # right subtree empty\n",
    "        return size_arm(tree.left) + 1\n",
    "    else:\n",
    "        return size_arm(tree.left) + size_arm(tree.right) + 1"
   ]
  },
  {
   "cell_type": "markdown",
   "id": "20",
   "metadata": {},
   "source": [
    "The new algorithm is longer, inelegant, repetitive and thus\n",
    "prone to typos and other errors. It only recurs on non-empty subtrees,\n",
    "so it makes as many recursive calls as there are nodes, not twice as much,\n",
    "but each call makes more checks.\n",
    "Let's compare this version to the first one, using a tall tree\n",
    "with one child per node; essentially, a linked list."
   ]
  },
  {
   "cell_type": "code",
   "execution_count": 6,
   "id": "21",
   "metadata": {},
   "outputs": [
    {
     "name": "stdout",
     "output_type": "stream",
     "text": [
      "250 μs ± 664 ns per loop (mean ± std. dev. of 5 runs, 1,000 loops each)\n",
      "458 μs ± 1.58 μs per loop (mean ± std. dev. of 5 runs, 1,000 loops each)\n"
     ]
    }
   ],
   "source": [
    "tree = leaf(\"last node\")\n",
    "for level in range(1000):  # noqa: B007\n",
    "    tree = join(\"a parent node\", tree, Tree())\n",
    "\n",
    "%timeit -r 5 size(tree)\n",
    "%timeit -r 5 size_arm(tree)"
   ]
  },
  {
   "cell_type": "markdown",
   "id": "22",
   "metadata": {},
   "source": [
    "In this example, arm's length recursion takes longer, even though it makes fewer recursive calls."
   ]
  },
  {
   "cell_type": "markdown",
   "id": "23",
   "metadata": {},
   "source": [
    "<div class=\"alert alert-warning\">\n",
    "<strong>Note:</strong> Avoid arm's length recursion:\n",
    "it complicates your code and usually slows it down.\n",
    "</div>"
   ]
  },
  {
   "cell_type": "markdown",
   "id": "24",
   "metadata": {},
   "source": [
    "If an operation isn't defined for the empty tree, then an algorithm must first\n",
    "check if a subtree isn't empty before making a recursive call.\n",
    "Consider finding the largest item in a binary tree. The preconditions are that\n",
    "the input tree isn't empty and its items are comparable.\n",
    "\n",
    "- if *tree* is a leaf: largest(*tree*) = root(*tree*)\n",
    "- if left(*tree*) is empty and right(*tree*) isn't:\n",
    "  largest(*tree*) = max(largest(right(*tree*)), root(*tree*))\n",
    "- if right(*tree*) is empty and left(*tree*) isn't:\n",
    "  largest(*tree*) = max(largest(left(*tree*)), root(*tree*))\n",
    "- otherwise: largest(*tree*) = max(largest(left(*tree*)),\n",
    "  largest(right(*tree*)), root(*tree*))\n",
    "\n",
    "This is *not* arm's-length recursion: each recurrence relation is checking for\n",
    "the empty tree, not for the base case (tree is a leaf).\n",
    "The definition is making sure no recursive call violates the preconditions."
   ]
  },
  {
   "cell_type": "markdown",
   "id": "25",
   "metadata": {},
   "source": [
    "⟵ [Previous section](16_1_binary.ipynb) | [Up](16-introduction.ipynb) | [Next section](16_3_traversals.ipynb) ⟶"
   ]
  }
 ],
 "metadata": {
  "kernelspec": {
   "display_name": "Python 3",
   "language": "python",
   "name": "python3"
  },
  "language_info": {
   "codemirror_mode": {
    "name": "ipython",
    "version": 3
   },
   "file_extension": ".py",
   "mimetype": "text/x-python",
   "name": "python",
   "nbconvert_exporter": "python",
   "pygments_lexer": "ipython3",
   "version": "3.12.10"
  }
 },
 "nbformat": 4,
 "nbformat_minor": 5
}
