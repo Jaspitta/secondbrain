{
 "cells": [
  {
   "cell_type": "markdown",
   "id": "0",
   "metadata": {},
   "source": [
    "## 16.4 Binary search trees"
   ]
  },
  {
   "cell_type": "markdown",
   "id": "1",
   "metadata": {},
   "source": [
    "A **binary search tree** (**BST**) is a sorted binary tree, which allows us to\n",
    "find items using binary search instead of exhaustive search.\n",
    "In a BST, all items in the left subtree come before the root item,\n",
    "which in turn comes before all items in the right subtree.\n",
    "(This is the **ordering property** of BSTs.)\n",
    "What 'comes before' means depends on the problem at hand.\n",
    "Both subtrees are BSTs too, so that all items are sorted.\n",
    "The next figure shows two binary trees with integers.\n",
    "\n",
    "<p id=\"fig-16.4.1\"></p>\n",
    "\n",
    "*[Figure 16.4.1](../33_Figures/Figures_16_4.ipynb#Figure-16.4.1)*\n",
    "\n",
    "![Image 16_4_bst_and_not.png](16_4_bst_and_not.png)\n",
    "\n",
    "If 'comes before' means 'less than', then the tree on the left is a BST and the\n",
    "other one isn't because 5 is less than 6 but isn't in the left subtree of 6.\n",
    "If 'comes before' means 'greater than', then neither tree is a BST.\n",
    "\n",
    "If the items in a BST are key–value pairs and the keys are unique,\n",
    "then a BST can be used as the data structure for the\n",
    "[map ADT](../08_Unordered/08_1_map.ipynb#8.1.1-The-map-ADT).\n",
    "The keys must be comparable, otherwise the binary tree wouldn't be a BST.\n",
    "Like in the chapter on sorting, I'll keep BST items in ascending order of keys.\n",
    "A descending order only requires reversing the comparison operator\n",
    "in the following algorithms.\n",
    "\n",
    "We'll use the same `Tree` class as before,\n",
    "but each item will be a key–value pair, represented by a tuple.\n",
    "To make the code more readable I define two constants to index the tuple."
   ]
  },
  {
   "cell_type": "code",
   "execution_count": 1,
   "id": "2",
   "metadata": {},
   "outputs": [],
   "source": [
    "%run -i ../m269_tree\n",
    "\n",
    "KEY = 0\n",
    "VALUE = 1"
   ]
  },
  {
   "cell_type": "markdown",
   "id": "3",
   "metadata": {},
   "source": [
    "I use the left-hand tree in Figure 16.4.1 to test the map operations.\n",
    "The values are irrelevant for the map operations so I'll keep drawing BSTs\n",
    "with the keys only, but I need to add values for the algorithms to work.\n",
    "To keep the example short, the BST will map Arabic to Roman numerals."
   ]
  },
  {
   "cell_type": "code",
   "execution_count": 2,
   "id": "4",
   "metadata": {},
   "outputs": [],
   "source": [
    "I = (1, \"I\")\n",
    "IV = (4, \"IV\")\n",
    "V = (5, \"V\")\n",
    "VI = (6, \"VI\")\n",
    "VIII = (8, \"VIII\")\n",
    "\n",
    "one = join(I, Tree(), Tree())\n",
    "six = join(VI, Tree(), Tree())\n",
    "bst = join(IV, one, join(VIII, join(V, Tree(), six), Tree()))"
   ]
  },
  {
   "cell_type": "markdown",
   "id": "5",
   "metadata": {},
   "source": [
    "### 16.4.1 Search"
   ]
  },
  {
   "cell_type": "markdown",
   "id": "6",
   "metadata": {},
   "source": [
    "Since a BST is sorted, a binary search, with the root item being the equivalent\n",
    "of the middle item in sequences, can be used for two map operations:\n",
    "membership (check if a key exists) and lookup (get the value for a given key).\n",
    "\n",
    "To check if a given key exists, we compare it to the root's key.\n",
    "If the keys differ, the binary search proceeds recursively on the left or right\n",
    "subtree depending on whether the given key is smaller or larger than the root's key, respectively."
   ]
  },
  {
   "cell_type": "code",
   "execution_count": 3,
   "id": "7",
   "metadata": {},
   "outputs": [
    {
     "data": {
      "text/plain": [
       "False"
      ]
     },
     "execution_count": 3,
     "metadata": {},
     "output_type": "execute_result"
    }
   ],
   "source": [
    "def has(tree: Tree, key: object) -> bool:\n",
    "    \"\"\"Return True if and only if a node of tree has the key.\n",
    "\n",
    "    Preconditions: tree is a BST\n",
    "    \"\"\"\n",
    "    if is_empty(tree):\n",
    "        return False\n",
    "    elif tree.root[KEY] == key:\n",
    "        return True\n",
    "    elif tree.root[KEY] < key:\n",
    "        return has(tree.right, key)\n",
    "    else:\n",
    "        return has(tree.left, key)\n",
    "\n",
    "\n",
    "has(bst, 2)"
   ]
  },
  {
   "cell_type": "code",
   "execution_count": 4,
   "id": "8",
   "metadata": {},
   "outputs": [
    {
     "data": {
      "text/plain": [
       "True"
      ]
     },
     "execution_count": 4,
     "metadata": {},
     "output_type": "execute_result"
    }
   ],
   "source": [
    "has(bst, 6)"
   ]
  },
  {
   "cell_type": "markdown",
   "id": "9",
   "metadata": {},
   "source": [
    "Like binary search on sequences, binary search on BSTs is a tail-recursive\n",
    "decrease-and-conquer algorithm with two base cases.\n",
    "However, whereas binary search on sequences always reduces the search space\n",
    "by half, binary search on BSTs reduces it by a variable amount:\n",
    "the left and right subtrees may not have the same size, as the examples show.\n",
    "I'll look at the complexity of binary search on BSTs in the next section.\n",
    "\n",
    "Similar to what happened with hash tables, another map ADT implementation,\n",
    "if we directly access and modify a key stored in the BST, we may\n",
    "break the ordering property and the membership operation won't find it anymore.\n",
    "For example, if key 6 is replaced with key 10, the tree is no longer a BST:\n",
    "the algorithm will search for 10 in the right subtree of 8 and not find it."
   ]
  },
  {
   "cell_type": "markdown",
   "id": "10",
   "metadata": {},
   "source": [
    "#### Exercise 16.4.1"
   ]
  },
  {
   "cell_type": "markdown",
   "id": "11",
   "metadata": {},
   "source": [
    "Implement the lookup operation."
   ]
  },
  {
   "cell_type": "code",
   "execution_count": 5,
   "id": "12",
   "metadata": {},
   "outputs": [],
   "source": [
    "from algoesup import test\n",
    "\n",
    "\n",
    "def lookup(tree: Tree, key: object) -> object:\n",
    "    \"\"\"Return the value associated to the key.\n",
    "\n",
    "    Preconditions: tree is a BST and has the key\n",
    "    \"\"\"\n",
    "    pass\n",
    "\n",
    "\n",
    "lookup_tests = [\n",
    "    ('key in leaf',   bst, 1, 'I'),\n",
    "    ('key in root',   bst, 4, 'IV'),\n",
    "    ('key in other',  bst, 5, 'V')\n",
    "]\n",
    "\n",
    "test(lookup, lookup_tests)"
   ]
  },
  {
   "cell_type": "markdown",
   "id": "13",
   "metadata": {},
   "source": [
    "[Hint](../31_Hints/Hints_16_4_01.ipynb)\n",
    "[Answer](../32_Answers/Answers_16_4_01.ipynb)"
   ]
  },
  {
   "cell_type": "markdown",
   "id": "14",
   "metadata": {},
   "source": [
    "#### Exercise 16.4.2"
   ]
  },
  {
   "cell_type": "markdown",
   "id": "15",
   "metadata": {},
   "source": [
    "Does any DFS or BFS traversal of a BST produce the items in ascending key order?"
   ]
  },
  {
   "cell_type": "markdown",
   "id": "16",
   "metadata": {},
   "source": [
    "_Write your answer here._"
   ]
  },
  {
   "cell_type": "markdown",
   "id": "17",
   "metadata": {},
   "source": [
    "[Hint](../31_Hints/Hints_16_4_02.ipynb)\n",
    "[Answer](../32_Answers/Answers_16_4_02.ipynb)"
   ]
  },
  {
   "cell_type": "markdown",
   "id": "18",
   "metadata": {},
   "source": [
    "#### Exercise 16.4.3"
   ]
  },
  {
   "cell_type": "markdown",
   "id": "19",
   "metadata": {},
   "source": [
    "In a BST, the first and last items in sorted order are in the\n",
    "left- and right-most nodes, respectively. For example, the smallest key in the example\n",
    "is 1 because one can't go further left from that node\n",
    "and the largest key is 8 because one can't go further right from that node.\n",
    "\n",
    "Implement the following function recursively or iteratively.\n",
    "Add any necessary preconditions. Run both tests."
   ]
  },
  {
   "cell_type": "code",
   "execution_count": 6,
   "id": "20",
   "metadata": {},
   "outputs": [],
   "source": [
    "def smallest(tree: Tree) -> object:\n",
    "    \"\"\"Return the item in the tree with the smallest key.\n",
    "\n",
    "    Preconditions: tree is a non-empty BST\n",
    "    \"\"\"\n",
    "    pass"
   ]
  },
  {
   "cell_type": "code",
   "execution_count": 7,
   "id": "21",
   "metadata": {},
   "outputs": [],
   "source": [
    "smallest(bst) == I"
   ]
  },
  {
   "cell_type": "code",
   "execution_count": 8,
   "id": "22",
   "metadata": {},
   "outputs": [],
   "source": [
    "smallest(six) == VI  # this tree has a single node"
   ]
  },
  {
   "cell_type": "markdown",
   "id": "23",
   "metadata": {},
   "source": [
    "[Hint](../31_Hints/Hints_16_4_03.ipynb)\n",
    "[Answer](../32_Answers/Answers_16_4_03.ipynb)"
   ]
  },
  {
   "cell_type": "markdown",
   "id": "24",
   "metadata": {},
   "source": [
    "### 16.4.2 Add node"
   ]
  },
  {
   "cell_type": "markdown",
   "id": "25",
   "metadata": {},
   "source": [
    "The map ADT's associate operation adds a new key–value pair or\n",
    "replaces the existing value.\n",
    "\n",
    "Adding a node requires finding where it should be and adding it there.\n",
    "Here's a [visualisation](https://learn2.open.ac.uk/mod/oucontent/view.php?id=2554725&extra=thumbnail_idm18) of how a BST is created\n",
    "from an unsorted sequence, by adding one item at a time.\n",
    "First we find where the key should be, using binary search.\n",
    "If we reach an empty subtree, we put a new leaf there with the given item.\n",
    "If we reach an existing node, we replace its value."
   ]
  },
  {
   "cell_type": "code",
   "execution_count": 9,
   "id": "26",
   "metadata": {},
   "outputs": [],
   "source": [
    "def associate(tree: Tree, key: object, value: object) -> None:\n",
    "    \"\"\"Associate the value to the key in the tree.\n",
    "\n",
    "    Preconditions: tree is a BST\n",
    "    Postconditions:\n",
    "    - if there's a node with the key, replace its value with the given one\n",
    "    - otherwise, add the key-value pair to the tree\n",
    "    \"\"\"\n",
    "    # Base case: if tree is empty, create a leaf\n",
    "    if is_empty(tree):\n",
    "        tree.root = (key, value)\n",
    "        tree.left = Tree()\n",
    "        tree.right = Tree()\n",
    "    # Base case: if the key is in the root, replace the value\n",
    "    elif tree.root[KEY] == key:\n",
    "        tree.root = (key, value)\n",
    "    # Recurrence relation: add/replace in the appropriate subtree\n",
    "    elif tree.root[KEY] < key:\n",
    "        associate(tree.right, key, value)\n",
    "    else:\n",
    "        associate(tree.left, key, value)"
   ]
  },
  {
   "cell_type": "markdown",
   "id": "27",
   "metadata": {},
   "source": [
    "Like for linked lists, inserting a node has the same complexity as searching:\n",
    "the insertion itself takes constant time once the place is found because\n",
    "no items are shifted, unlike inserting in arrays. Let's test the operation."
   ]
  },
  {
   "cell_type": "code",
   "execution_count": 10,
   "id": "28",
   "metadata": {},
   "outputs": [
    {
     "name": "stdout",
     "output_type": "stream",
     "text": [
      " (4, 'IV')\n",
      "     (1, 'I')\n",
      "         EMPTY\n",
      "         EMPTY\n",
      "     (8, 'VIII')\n",
      "         (5, 'V')\n",
      "             EMPTY\n",
      "             (6, 'VI')\n",
      "                 EMPTY\n",
      "                 EMPTY\n",
      "         EMPTY\n"
     ]
    }
   ],
   "source": [
    "write(bst, 0)  # this is the left tree in Figure 16.4.1"
   ]
  },
  {
   "cell_type": "markdown",
   "id": "29",
   "metadata": {},
   "source": [
    "Adding a node with key 2 will put it as the right child of 1."
   ]
  },
  {
   "cell_type": "code",
   "execution_count": 11,
   "id": "30",
   "metadata": {},
   "outputs": [
    {
     "name": "stdout",
     "output_type": "stream",
     "text": [
      " (4, 'IV')\n",
      "     (1, 'I')\n",
      "         EMPTY\n",
      "         (2, 'II')\n",
      "             EMPTY\n",
      "             EMPTY\n",
      "     (8, 'VIII')\n",
      "         (5, 'V')\n",
      "             EMPTY\n",
      "             (6, 'VI')\n",
      "                 EMPTY\n",
      "                 EMPTY\n",
      "         EMPTY\n"
     ]
    }
   ],
   "source": [
    "associate(bst, 2, \"II\")\n",
    "write(bst, 0)"
   ]
  },
  {
   "cell_type": "markdown",
   "id": "31",
   "metadata": {},
   "source": [
    "### 16.4.3 Remove node"
   ]
  },
  {
   "cell_type": "markdown",
   "id": "32",
   "metadata": {},
   "source": [
    "The map operation to delete an item has to first search for its key.\n",
    "At that point, we have a tree with a left subtree L, a right subtree R\n",
    "and the item to be removed in the root.\n",
    "We have to replace this old BST by a new BST without the root.\n",
    "We can't simply remove the root: that would lead to two disconnected subtrees.\n",
    "We must think what to do case by case.\n",
    "\n",
    "If the root is a leaf, i.e. L and R are empty, then the new tree is empty.\n",
    "\n",
    "<p id=\"fig-16.4.2\"></p>\n",
    "\n",
    "*[Figure 16.4.2](../33_Figures/Figures_16_4.ipynb#Figure-16.4.2)*\n",
    "\n",
    "![Image 16_4_delete_leaf.png](16_4_delete_leaf.png)\n",
    "\n",
    "If L is empty, then the new tree is simply R, and vice versa.\n",
    "\n",
    "<p id=\"fig-16.4.3\"></p>\n",
    "\n",
    "*[Figure 16.4.3](../33_Figures/Figures_16_4.ipynb#Figure-16.4.3)*\n",
    "\n",
    "![Image 16_4_keep_right.png](16_4_keep_right.png)\n",
    "\n",
    "Note that if R is empty, we have the same situation as for removing a leaf,\n",
    "so we can treat all these cases equally:\n",
    "if one subtree is empty, the new tree is the other subtree.\n",
    "\n",
    "Finally, consider the case where neither subtree is empty.\n",
    "We must replace the old root by a node that keeps the ordering property:\n",
    "the key must come after the keys in the left subtree but before those in the\n",
    "right subtree. There are only two possible choices:\n",
    "the **predecessor** node, which has the key that comes immediately before\n",
    "the root's key and the **successor** node,\n",
    "with the key immediately after the root's key.\n",
    "If you think of a sorted sequence like (1, 2, 5, 6, 9),\n",
    "and we want to remove the 5, the only numbers that can take its place are 2,\n",
    "the predecessor of 5, or 6, the successor of 5. We cannot put any other number\n",
    "in place of the 5 as that would break the sorted order.\n",
    "\n",
    "Where in the tree is the predecessor of the root?\n",
    "Alternatively, where's the successor?\n",
    "\n",
    "___\n",
    "\n",
    "The predecessor of the root is in the left subtree, by definition of a BST.\n",
    "Since the predecessor comes immediately before the root, it has the largest key\n",
    "in the left subtree, so it's the right-most node of the left subtree.\n",
    "Vice versa, the successor is the left-most node in the right subtree.\n",
    "\n",
    "After putting the predecessor (or the successor) in place of the root,\n",
    "we have to remove it from its subtree, making a recursive call.\n",
    "\n",
    "You already implemented the operation to obtain the smallest item in a tree\n",
    "(what a coincidence!), so we'll use it to determine the root's successor.\n",
    "The next figure shows the successor *s* replacing the root,\n",
    "while the predecessor *p* stays in its right-most place of the left subtree.\n",
    "\n",
    "<p id=\"fig-16.4.4\"></p>\n",
    "\n",
    "*[Figure 16.4.4](../33_Figures/Figures_16_4.ipynb#Figure-16.4.4)*\n",
    "\n",
    "![Image 16_4_replace_root.png](16_4_replace_root.png)\n",
    "\n",
    "The successor has no left child,\n",
    "otherwise it wouldn't be the smallest key in the right subtree.\n",
    "Therefore, removing the successor falls into the base case above\n",
    "(one subtree is empty) and takes constant time (once we find it).\n",
    "The same applies if we had decided to replace the root by its predecessor,\n",
    "which has no right child.\n",
    "\n",
    "To sum up, removing a node does three searches in the worst case:\n",
    "find the node to be removed and find its successor (or predecessor) twice, first\n",
    "to copy it to the root, then to remove it.\n",
    "So deletion also has the same complexity as searching.\n",
    "I'll come back to this in the next section."
   ]
  },
  {
   "cell_type": "code",
   "execution_count": 12,
   "id": "33",
   "metadata": {},
   "outputs": [],
   "source": [
    "def smallest(tree: Tree) -> object:\n",
    "    \"\"\"Return the item in the tree with the smallest key.\n",
    "\n",
    "    Preconditions: tree is a non-empty BST\n",
    "    \"\"\"\n",
    "    while not is_empty(tree.left):\n",
    "        tree = tree.left\n",
    "    return tree.root\n",
    "\n",
    "\n",
    "def remove(tree: Tree, key: object) -> None:\n",
    "    \"\"\"Remove the tree's node with the key.\n",
    "\n",
    "    Do nothing if there's no such node.\n",
    "    \"\"\"\n",
    "    if is_empty(tree):\n",
    "        pass  # key not found\n",
    "    elif tree.root[KEY] < key:\n",
    "        remove(tree.right, key)\n",
    "    elif key < tree.root[KEY]:\n",
    "        remove(tree.left, key)\n",
    "    else:  # key found: it's in the root\n",
    "        if is_empty(tree.left):  # replace tree with right subtree\n",
    "            tree.root = tree.right.root\n",
    "            tree.left = tree.right.left\n",
    "            tree.right = tree.right.right\n",
    "        elif is_empty(tree.right):  # replace tree with left subtree\n",
    "            tree.root = tree.left.root\n",
    "            tree.right = tree.left.right  # note different order\n",
    "            tree.left = tree.left.left  # of assignments\n",
    "        else:  # replace root with successor\n",
    "            tree.root = smallest(tree.right)\n",
    "            remove(tree.right, tree.root[KEY])"
   ]
  },
  {
   "cell_type": "markdown",
   "id": "34",
   "metadata": {},
   "source": [
    "Let's remove the node that was added above:"
   ]
  },
  {
   "cell_type": "code",
   "execution_count": 13,
   "id": "35",
   "metadata": {},
   "outputs": [
    {
     "name": "stdout",
     "output_type": "stream",
     "text": [
      " (4, 'IV')\n",
      "     (1, 'I')\n",
      "         EMPTY\n",
      "         EMPTY\n",
      "     (8, 'VIII')\n",
      "         (5, 'V')\n",
      "             EMPTY\n",
      "             (6, 'VI')\n",
      "                 EMPTY\n",
      "                 EMPTY\n",
      "         EMPTY\n"
     ]
    }
   ],
   "source": [
    "remove(bst, 2)\n",
    "write(bst, 0)"
   ]
  },
  {
   "cell_type": "markdown",
   "id": "36",
   "metadata": {},
   "source": [
    "If we remove the root 4, it's replaced by its successor 5, which\n",
    "in turn 'promotes' its right subtree, with root 6, one level up:"
   ]
  },
  {
   "cell_type": "code",
   "execution_count": 14,
   "id": "37",
   "metadata": {},
   "outputs": [
    {
     "name": "stdout",
     "output_type": "stream",
     "text": [
      " (5, 'V')\n",
      "     (1, 'I')\n",
      "         EMPTY\n",
      "         EMPTY\n",
      "     (8, 'VIII')\n",
      "         (6, 'VI')\n",
      "             EMPTY\n",
      "             EMPTY\n",
      "         EMPTY\n"
     ]
    }
   ],
   "source": [
    "remove(bst, 4)\n",
    "write(bst, 0)"
   ]
  },
  {
   "cell_type": "markdown",
   "id": "38",
   "metadata": {},
   "source": [
    "⟵ [Previous section](16_3_traversals.ipynb) | [Up](16-introduction.ipynb) | [Next section](16_5_balanced.ipynb) ⟶"
   ]
  }
 ],
 "metadata": {
  "kernelspec": {
   "display_name": "Python 3",
   "language": "python",
   "name": "python3"
  },
  "language_info": {
   "codemirror_mode": {
    "name": "ipython",
    "version": 3
   },
   "file_extension": ".py",
   "mimetype": "text/x-python",
   "name": "python",
   "nbconvert_exporter": "python",
   "pygments_lexer": "ipython3",
   "version": "3.12.10"
  }
 },
 "nbformat": 4,
 "nbformat_minor": 5
}
