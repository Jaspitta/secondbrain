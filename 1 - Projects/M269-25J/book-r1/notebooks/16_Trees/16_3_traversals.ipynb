{
 "cells": [
  {
   "cell_type": "markdown",
   "id": "0",
   "metadata": {},
   "source": [
    "## 16.3 Traversals"
   ]
  },
  {
   "cell_type": "markdown",
   "id": "1",
   "metadata": {},
   "source": [
    "To do a brute-force search over a binary tree we must traverse it\n",
    "to visit all its nodes.\n",
    "The traversal generates the candidates and visiting a node does the testing,\n",
    "i.e. checks if it satisfies the search criteria.\n",
    "\n",
    "Traversals can be used for non-search problems too, e.g. to print the tree.\n",
    "Visiting a node processes its item and what is done depends on the problem,\n",
    "e.g. the size operation process a node by adding one to count.\n",
    "\n",
    "There are several systematic ways of traversing a binary tree.\n",
    "Once again I'll use the tree for expression (3+4)×5−6 to illustrate the concepts.\n",
    "\n",
    "<p id=\"fig-16.3.1\"></p>\n",
    "\n",
    "*[Figure 16.3.1](../33_Figures/Figures_16_3.ipynb#Figure-16.3.1)*\n",
    "\n",
    "![Image 16_1_example.png](16_1_example.png)"
   ]
  },
  {
   "cell_type": "code",
   "execution_count": 1,
   "id": "2",
   "metadata": {},
   "outputs": [],
   "source": [
    "%run -i ../m269_tree\n",
    "\n",
    "# MTP is short for minus, times, plus\n",
    "MTP = join(\"-\", join(\"*\", join(\"+\", THREE, FOUR), FIVE), SIX)"
   ]
  },
  {
   "cell_type": "markdown",
   "id": "3",
   "metadata": {},
   "source": [
    "### 16.3.1 Depth-first search"
   ]
  },
  {
   "cell_type": "markdown",
   "id": "4",
   "metadata": {},
   "source": [
    "Traversals can be classified according to whether the root is visited before,\n",
    "in between or after visiting the subtrees.\n",
    "\n",
    "A **pre-order** traversal first visits the root, then the left subtree, then\n",
    "the right subtree. For the example tree, it would visit nodes\n",
    "−, ×, +, 3, 4, 5, 6 in that order.\n",
    "\n",
    "An **in-order** traversal first visits the left subtree, then the root, then\n",
    "the right subtree. For the example tree, the visiting order is\n",
    "3, +, 4, ×, 5, −, 6.  The in-order traversal generates the usual [infix notation](../07_Ordered/07_2_stack_usage.ipynb#7.2.2-Postfix-expressions)\n",
    "of expressions (operator between operands) but without the brackets.\n",
    "\n",
    "A **post-order** traversal first visits the left subtree, then\n",
    "the right subtree and finally the root. For the example tree,\n",
    "the visiting order is 3, 4, +, 5, ×, 6, −.\n",
    "This is the [postfix notation](../07_Ordered/07_2_stack_usage.ipynb#7.2.2-Postfix-expressions)\n",
    "that can be evaluated with a stack.\n",
    "\n",
    "All these traversals are forms of **depth-first search** (**DFS**),\n",
    "a search that explores one subtree in depth before searching the other subtree."
   ]
  },
  {
   "cell_type": "markdown",
   "id": "5",
   "metadata": {},
   "source": [
    "### 16.3.2 Pre-order traversal"
   ]
  },
  {
   "cell_type": "markdown",
   "id": "6",
   "metadata": {},
   "source": [
    "The algorithmic pattern for preorder(*tree*) is as follows, where\n",
    "step&nbsp;2 is problem-dependent.\n",
    "\n",
    "1. if *tree* is empty:\n",
    "   1. stop\n",
    "2. visit root(*tree*)\n",
    "3. preorder(left(*tree*))\n",
    "4. preorder(right(*tree*))\n",
    "\n",
    "A pre-order traversal can be used to print a tree.\n",
    "In this case, step&nbsp;2 prints the root's value."
   ]
  },
  {
   "cell_type": "code",
   "execution_count": 2,
   "id": "7",
   "metadata": {},
   "outputs": [],
   "source": [
    "# this code is also in m269_tree.py\n",
    "\n",
    "\n",
    "def write(tree: Tree, level: int) -> None:\n",
    "    \"\"\"Print the tree as in file browsers, with subtrees indented.\n",
    "\n",
    "    Preconditions: level >= 0 is the initial indentation level\n",
    "    \"\"\"\n",
    "    if is_empty(tree):\n",
    "        print(\" \" * 4 * level, \"EMPTY\")\n",
    "    else:\n",
    "        print(\" \" * 4 * level, tree.root)\n",
    "        write(tree.left, level + 1)\n",
    "        write(tree.right, level + 1)"
   ]
  },
  {
   "cell_type": "code",
   "execution_count": 3,
   "id": "8",
   "metadata": {},
   "outputs": [
    {
     "name": "stdout",
     "output_type": "stream",
     "text": [
      " -\n",
      "     *\n",
      "         +\n",
      "             3\n",
      "                 EMPTY\n",
      "                 EMPTY\n",
      "             4\n",
      "                 EMPTY\n",
      "                 EMPTY\n",
      "         5\n",
      "             EMPTY\n",
      "             EMPTY\n",
      "     6\n",
      "         EMPTY\n",
      "         EMPTY\n"
     ]
    }
   ],
   "source": [
    "write(MTP, 0)  # compare the output to the figure above"
   ]
  },
  {
   "cell_type": "markdown",
   "id": "9",
   "metadata": {},
   "source": [
    "The pre-order pattern may be modified for some problems. For example,\n",
    "when searching for an item in a tree, we can stop the traversal when we find it."
   ]
  },
  {
   "cell_type": "code",
   "execution_count": 4,
   "id": "10",
   "metadata": {},
   "outputs": [
    {
     "data": {
      "text/plain": [
       "False"
      ]
     },
     "execution_count": 4,
     "metadata": {},
     "output_type": "execute_result"
    }
   ],
   "source": [
    "def has(tree: Tree, item: object) -> bool:\n",
    "    \"\"\"Return True if and only if the item occurs in the tree.\"\"\"\n",
    "    if is_empty(tree):\n",
    "        return False\n",
    "    if tree.root == item:  # visit a node\n",
    "        return True\n",
    "    return has(tree.left, item) or has(tree.right, item)\n",
    "\n",
    "\n",
    "has(MTP, 9)"
   ]
  },
  {
   "cell_type": "markdown",
   "id": "11",
   "metadata": {},
   "source": [
    "This is similar to the recursive membership operation\n",
    "[on sequences](../12_Recursion/12_4_inspect_sequences.ipynb#12.4.2-Membership), which has two analogous\n",
    "base cases: the empty sequence and the head is the sought item.\n",
    "\n",
    "The code uses short-circuit disjunction to search the right subtree only if\n",
    "the item isn't in the left subtree.\n",
    "In languages without short-circuiting we'd write:\n",
    "```python\n",
    "if has(tree.left, item):\n",
    "    return True\n",
    "return has(tree.right, item)\n",
    "```\n",
    "Exhaustive search algorithms on trees usually do a pre-order traversal because\n",
    "by first looking at the root they may avoid visiting the subtrees."
   ]
  },
  {
   "cell_type": "markdown",
   "id": "12",
   "metadata": {},
   "source": [
    "### 16.3.3 In-order traversal"
   ]
  },
  {
   "cell_type": "markdown",
   "id": "13",
   "metadata": {},
   "source": [
    "Other than the name of the recursive function, what do we need to change\n",
    "in the pre-order pattern to obtain in-order traversal?\n",
    "\n",
    "___\n",
    "\n",
    "We just need to swap steps 2 and 3 to visit the left subtree before the root.\n",
    "\n",
    "A plain in-order traversal of an expression tree produces the expression in\n",
    "infix notation but without the parentheses.\n",
    "This is wrong because the original expression (3+4)×5−6 becomes 3+4×5−6 which,\n",
    "according to the usual precedence of operators, means 3+(4×5)−6.\n",
    "We have to print each subtree within brackets."
   ]
  },
  {
   "cell_type": "code",
   "execution_count": 5,
   "id": "14",
   "metadata": {},
   "outputs": [
    {
     "name": "stdout",
     "output_type": "stream",
     "text": [
      "((((  3  )  +  (  4  ))  *  (  5  ))  -  (  6  ))"
     ]
    }
   ],
   "source": [
    "def infix(expression: Tree) -> None:\n",
    "    \"\"\"Print infix form of expression, with full brackets.\"\"\"\n",
    "    if is_empty(expression):\n",
    "        return\n",
    "    print(\"(\", end=\"\")  # print nothing after (\n",
    "    infix(expression.left)\n",
    "    print(\" \", expression.root, \" \", end=\"\")\n",
    "    infix(expression.right)\n",
    "    print(\")\", end=\"\")\n",
    "\n",
    "\n",
    "infix(MTP)"
   ]
  },
  {
   "cell_type": "markdown",
   "id": "15",
   "metadata": {},
   "source": [
    "When the `print` function has argument `end=s`,\n",
    "it prints string `s` instead of the newline character."
   ]
  },
  {
   "cell_type": "markdown",
   "id": "16",
   "metadata": {},
   "source": [
    "#### Exercise 16.3.1"
   ]
  },
  {
   "cell_type": "markdown",
   "id": "17",
   "metadata": {},
   "source": [
    "Here's the function again with some more tests.\n",
    "Change it so that brackets around integer literals aren't printed."
   ]
  },
  {
   "cell_type": "code",
   "execution_count": 6,
   "id": "18",
   "metadata": {},
   "outputs": [],
   "source": [
    "def infix(expression: Tree) -> None:\n",
    "    \"\"\"Print infix form of expression, with full brackets.\"\"\"\n",
    "    if is_empty(expression):\n",
    "        return\n",
    "    print(\"(\", end=\"\")\n",
    "    infix(expression.left)\n",
    "    print(\" \", expression.root, \" \", end=\"\")\n",
    "    infix(expression.right)\n",
    "    print(\")\", end=\"\")\n",
    "\n",
    "\n",
    "infix(MTP)  # ((3+4)*5)–6\n",
    "print()\n",
    "infix(TPM)  # (3+4)*(5-6)\n",
    "print()\n",
    "infix(PMT)  # 3+((4*5)-6)\n",
    "print()\n",
    "infix(MPT)  # (3+(4*5))-6"
   ]
  },
  {
   "cell_type": "markdown",
   "id": "19",
   "metadata": {},
   "source": [
    "[Hint](../31_Hints/Hints_16_3_01.ipynb)\n",
    "[Answer](../32_Answers/Answers_16_3_01.ipynb)"
   ]
  },
  {
   "cell_type": "markdown",
   "id": "20",
   "metadata": {},
   "source": [
    "### 16.3.4 Post-order traversal"
   ]
  },
  {
   "cell_type": "markdown",
   "id": "21",
   "metadata": {},
   "source": [
    "Other than the name of the recursive function, what do we need to change\n",
    "to the pre-order pattern to obtain post-order traversal?\n",
    "\n",
    "___\n",
    "\n",
    "We must move step&nbsp;2 (visit the root) to the end of the algorithm,\n",
    "after visiting the right subtree.\n",
    "\n",
    "We can evaluate an expression tree with a post-order traversal, because we\n",
    "can only process an operator after evaluating the left and right operands.\n",
    "The base case isn't the empty tree as that has no defined value;\n",
    "it's a leaf (a literal)."
   ]
  },
  {
   "cell_type": "code",
   "execution_count": 7,
   "id": "22",
   "metadata": {},
   "outputs": [
    {
     "name": "stdout",
     "output_type": "stream",
     "text": [
      "((((  3  )  +  (  4  ))  *  (  5  ))  -  (  6  )) = 29\n",
      "(((  3  )  +  (  4  ))  *  ((  5  )  -  (  6  ))) = -7\n",
      "((  3  )  +  (((  4  )  *  (  5  ))  -  (  6  ))) = 17\n",
      "(((  3  )  +  ((  4  )  *  (  5  )))  -  (  6  )) = 17\n"
     ]
    }
   ],
   "source": [
    "def evaluate(expression: Tree) -> int:\n",
    "    \"\"\"Return the value of the expression tree.\n",
    "\n",
    "    Preconditions:\n",
    "    - expression isn't empty\n",
    "    - expression only has operators +, -, * and numeric operands\n",
    "    \"\"\"\n",
    "    if is_leaf(expression):\n",
    "        return expression.root\n",
    "    left_value = evaluate(expression.left)\n",
    "    right_value = evaluate(expression.right)\n",
    "    operator = expression.root\n",
    "    if operator == \"+\":\n",
    "        return left_value + right_value\n",
    "    if operator == \"-\":\n",
    "        return left_value - right_value\n",
    "    if operator == \"*\":\n",
    "        return left_value * right_value\n",
    "\n",
    "\n",
    "infix(MTP)  # ((3+4)*5)–6\n",
    "print(\" =\", evaluate(MTP))\n",
    "infix(TPM)  # (3+4)*(5-6)\n",
    "print(\" =\", evaluate(TPM))\n",
    "infix(PMT)  # 3+((4*5)-6)\n",
    "print(\" =\", evaluate(PMT))\n",
    "infix(MPT)  # (3+(4*5))-6\n",
    "print(\" =\", evaluate(MPT))"
   ]
  },
  {
   "cell_type": "markdown",
   "id": "23",
   "metadata": {},
   "source": [
    "If you run this cell after doing the previous exercise you get fewer brackets."
   ]
  },
  {
   "cell_type": "markdown",
   "id": "24",
   "metadata": {},
   "source": [
    "### 16.3.5 Breadth-first search"
   ]
  },
  {
   "cell_type": "markdown",
   "id": "25",
   "metadata": {},
   "source": [
    "A **level-order** traversal goes through the tree level by level,\n",
    "from left to right within each level.\n",
    "This is a form of **breadth-first search** (**BFS**) because it goes through\n",
    "the breadth of each level before moving down to the next one.\n",
    "\n",
    "Depth-first search uses the call stack of the interpreter\n",
    "for the recursive calls; breath-first search uses a queue.\n",
    "When we visit a node, we enqueue its children, i.e. the next level,\n",
    "to visit them later.\n",
    "As we visit each level from left to right and enqueue its children,\n",
    "the next level will also be traversed left to right.\n",
    "The front of the queue is the next node to be visited.\n",
    "When we reach a leaf, no children are enqueued.\n",
    "At some point the queue will be empty and the algorithm stops.\n",
    "Here's the BFS pattern:\n",
    "\n",
    "1. let *to visit* be the empty queue\n",
    "2. enqueue *tree* in *to visit*\n",
    "3. while *to visit* isn't empty:\n",
    "   1. dequeue *tree* from *to visit*\n",
    "   2. visit root(*tree*)\n",
    "   3. if left(*tree*) isn't empty:\n",
    "      1. enqueue left(*tree*) in *to visit*\n",
    "   3. if right(*tree*) isn't empty:\n",
    "      1. enqueue right(*tree*) in *to visit*\n",
    "\n",
    "Here's a version of level-order traversal that prints one level per line.\n",
    "It uses two queues, one for the current level and the other for the next level,\n",
    "to detect when the current level ends and print a newline."
   ]
  },
  {
   "cell_type": "code",
   "execution_count": 8,
   "id": "26",
   "metadata": {},
   "outputs": [
    {
     "name": "stdout",
     "output_type": "stream",
     "text": [
      "-  \n",
      "*  6  \n",
      "+  5  \n",
      "3  4  \n"
     ]
    }
   ],
   "source": [
    "%run -i ../m269_queue\n",
    "\n",
    "\n",
    "def levels(tree: Tree) -> None:\n",
    "    \"\"\"Print the tree from the root down, one level per line.\"\"\"\n",
    "    this_level = Queue()\n",
    "    next_level = Queue()\n",
    "    this_level.enqueue(tree)\n",
    "    while this_level.size() > 0:\n",
    "        tree = this_level.dequeue()\n",
    "        print(tree.root, \" \", end=\"\")\n",
    "        if not is_empty(tree.left):\n",
    "            next_level.enqueue(tree.left)\n",
    "        if not is_empty(tree.right):\n",
    "            next_level.enqueue(tree.right)\n",
    "        # if it was last tree of this level, start new line and level\n",
    "        if this_level.size() == 0:\n",
    "            print()\n",
    "            this_level = next_level\n",
    "            next_level = Queue()\n",
    "\n",
    "\n",
    "levels(MTP)  # (3+4) * 5 - 6"
   ]
  },
  {
   "cell_type": "code",
   "execution_count": 9,
   "id": "27",
   "metadata": {},
   "outputs": [
    {
     "name": "stdout",
     "output_type": "stream",
     "text": [
      "*  \n",
      "+  -  \n",
      "3  4  5  6  \n"
     ]
    }
   ],
   "source": [
    "levels(TPM)  # (3+4) * (5-6)"
   ]
  },
  {
   "cell_type": "markdown",
   "id": "28",
   "metadata": {},
   "source": [
    "⟵ [Previous section](16_2_algorithms.ipynb) | [Up](16-introduction.ipynb) | [Next section](16_4_bst.ipynb) ⟶"
   ]
  }
 ],
 "metadata": {
  "kernelspec": {
   "display_name": "Python 3",
   "language": "python",
   "name": "python3"
  },
  "language_info": {
   "codemirror_mode": {
    "name": "ipython",
    "version": 3
   },
   "file_extension": ".py",
   "mimetype": "text/x-python",
   "name": "python",
   "nbconvert_exporter": "python",
   "pygments_lexer": "ipython3",
   "version": "3.12.10"
  }
 },
 "nbformat": 4,
 "nbformat_minor": 5
}
