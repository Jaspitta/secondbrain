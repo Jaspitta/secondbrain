{
 "cells": [
  {
   "cell_type": "markdown",
   "id": "0",
   "metadata": {},
   "source": [
    "## 16.5 Balanced trees"
   ]
  },
  {
   "cell_type": "markdown",
   "id": "1",
   "metadata": {},
   "source": [
    "As seen in the previous section, all the operations on a BST that\n",
    "aren't traversals rely on search and some constant-time operations.\n",
    "So the complexity of adding or removing a node, or replacing a value,\n",
    "is the complexity of binary search over a BST."
   ]
  },
  {
   "cell_type": "markdown",
   "id": "2",
   "metadata": {},
   "source": [
    "### 16.5.1 Complexity of search"
   ]
  },
  {
   "cell_type": "markdown",
   "id": "3",
   "metadata": {},
   "source": [
    "A binary search takes constant time for each call.\n",
    "What's the best-case complexity of binary search on trees?\n",
    "\n",
    "___\n",
    "\n",
    "In the best case, the item sought is in the root and the search does one call:\n",
    "the complexity is Θ(1). Remember that a best- or worst-case scenario\n",
    "applies to varying input sizes, so the empty tree isn't a best-case scenario.\n",
    "\n",
    "In the worst case, the search will go all the way down to the deepest leaf,\n",
    "where the sought item may be. Such a search will do one recursive\n",
    "call per level: the worst-case complexity is Θ(height(*tree*)).\n",
    "\n",
    "The height is maximal when the tree degenerates to a linked list,\n",
    "with each node having a single left or right child.\n",
    "In that case, each level has a single node, the height is equal to the size and\n",
    "the search has complexity Θ(│*tree*│).\n",
    "\n",
    "The height is minimal when each level (except possibly the last one) is full,\n",
    "i.e. has as many nodes as possible.\n",
    "A perfect tree has minimal height for its size because all levels are full.\n",
    "Here's the shape of a perfect tree with four levels.\n",
    "\n",
    "<p id=\"fig-16.5.1\"></p>\n",
    "\n",
    "*[Figure 16.5.1](../33_Figures/Figures_16_5.ipynb#Figure-16.5.1)*\n",
    "\n",
    "![Image 16_5_perfect.png](16_5_perfect.png)\n",
    "\n",
    "Each level has double the nodes of the previous level because each parent has\n",
    "two children. The number of nodes thus grows exponentially with the height:\n",
    "it can be shown that a perfect tree of height $h$ has $2^h - 1$ nodes.\n",
    "This means that the minimal height for a tree of size $n$ is $\\log_2 n$.\n",
    "So, binary search on a perfect tree has complexity Θ(log │*tree*│) in the worst case,\n",
    "when the sought item is in the lowest level.\n",
    "\n",
    "It has been proven that if we add random comparable items\n",
    "one by one to an initially empty BST, then the height of the resulting BST is\n",
    "on average proportional to the logarithm of its size.\n",
    "Binary search thus has average complexity Θ(log │*tree*│)."
   ]
  },
  {
   "cell_type": "markdown",
   "id": "4",
   "metadata": {},
   "source": [
    "### 16.5.2 Balanced trees"
   ]
  },
  {
   "cell_type": "markdown",
   "id": "5",
   "metadata": {},
   "source": [
    "A perfect tree has minimal height because *every* node has subtrees of\n",
    "exactly the same height. No subtree is deeper than its sibling and so no\n",
    "subtree degenerates into a linked list.\n",
    "\n",
    "Not every tree can have sibling subtrees with the same height. For example,\n",
    "a tree with only two nodes has necessarily one empty subtree of height 0 and\n",
    "one single-node subtree of height 1. To minimise the height of a binary tree\n",
    "we can only require subtrees to have as similar a height as possible.\n",
    "The precise definitions are as follows.\n",
    "\n",
    "The **balance factor** of a node is the height of its left subtree minus\n",
    "the height of its right subtree, e.g. all leaves have balance factor 0.\n",
    "A binary tree is **balanced** if every node has balance factor −1, 0 or 1.\n",
    "In other words, for every node of a balanced tree,\n",
    "its subtrees differ in height by at most one. An empty tree is balanced.\n",
    "A perfect tree is perfectly balanced: all nodes have balance factor 0.\n",
    "\n",
    "The next figure shows two trees you've seen before;\n",
    "each node is annotated with its balance factor.\n",
    "The left-hand tree is balanced because all balance factors are 0 or 1. For example,\n",
    "the nodes in the middle level have a left subtree of height 1 and\n",
    "an empty right subtree so their balance factor is 1 − 0 = 1.\n",
    "The other tree in the figure isn't balanced. The root node has a left subtree\n",
    "of height 1 and a right subtree of height 3&nbsp;so the balance factor is −2.\n",
    "\n",
    "<p id=\"fig-16.5.2\"></p>\n",
    "\n",
    "*[Figure 16.5.2](../33_Figures/Figures_16_5.ipynb#Figure-16.5.2)*\n",
    "\n",
    "![Image 16_5_bf.png](16_5_bf.png)\n",
    "\n",
    "Even though the heights of sibling subtrees are not always equal, it can still\n",
    "be shown that the height of a balanced tree is proportional to the logarithm of\n",
    "its size, which is the best we can expect.\n",
    "A **self-balancing BST** checks after each node addition or removal if\n",
    "it has become unbalanced and, if so, restores the balance. This ensures that\n",
    "binary search (and thus every map operation) always takes logarithmic time\n",
    "in the worst case.\n",
    "\n",
    "There are several self-balancing BST data structures, including AVL trees,\n",
    "which restore the balance by rotating subtrees left or right\n",
    "to decrease the height of one and increase the height of the other.\n",
    "You can watch a [visualisation of an AVL tree](https://learn2.open.ac.uk/mod/oucontent/view.php?id=2554725&extra=thumbnail_idm22)\n",
    "but in M269 you're not expected to know how an AVL tree works.\n",
    "The visualisation uses –1 instead of 0 as the height of an empty tree.\n",
    "The resulting balance factors are the same,\n",
    "because they're the difference of two heights."
   ]
  },
  {
   "cell_type": "markdown",
   "id": "6",
   "metadata": {},
   "source": [
    "<div class=\"alert alert-info\">\n",
    "<strong>Info:</strong> M250 Unit&nbsp;10 introduces Java classes <code>TreeSet</code> and <code>TreeMap</code>\n",
    "in package <code>java.util</code>.\n",
    "They implement the set and map ADTs with self-balancing BSTs.\n",
    "</div>"
   ]
  },
  {
   "cell_type": "markdown",
   "id": "7",
   "metadata": {},
   "source": [
    "#### Exercise 16.5.1"
   ]
  },
  {
   "cell_type": "markdown",
   "id": "8",
   "metadata": {},
   "source": [
    "1. If both subtrees of a non-empty tree are balanced, so is the tree.\n",
    "   True or false?"
   ]
  },
  {
   "cell_type": "markdown",
   "id": "9",
   "metadata": {},
   "source": [
    "_Write your answer here._"
   ]
  },
  {
   "cell_type": "markdown",
   "id": "10",
   "metadata": {},
   "source": [
    "2. If a non-empty tree is balanced, so are both its subtrees.\n",
    "   True or false?"
   ]
  },
  {
   "cell_type": "markdown",
   "id": "11",
   "metadata": {},
   "source": [
    "_Write your answer here._"
   ]
  },
  {
   "cell_type": "markdown",
   "id": "12",
   "metadata": {},
   "source": [
    "[Hint](../31_Hints/Hints_16_5_01.ipynb)\n",
    "[Answer](../32_Answers/Answers_16_5_01.ipynb)"
   ]
  },
  {
   "cell_type": "markdown",
   "id": "13",
   "metadata": {},
   "source": [
    "### 16.5.3 Checking balance"
   ]
  },
  {
   "cell_type": "markdown",
   "id": "14",
   "metadata": {},
   "source": [
    "To decide if a tree is balanced we need to check, for each node,\n",
    "if its balance factor is valid (-1, 0 or 1) and if both subtrees are balanced.\n",
    "Any traversal will do. I choose a pre-order traversal:\n",
    "the root is processed, i.e. its balance factor is computed,\n",
    "before traversing the subtrees."
   ]
  },
  {
   "cell_type": "code",
   "execution_count": 1,
   "id": "15",
   "metadata": {},
   "outputs": [
    {
     "name": "stdout",
     "output_type": "stream",
     "text": [
      "Testing is_balanced...\n",
      "Tests finished: 4 passed (100%), 0 failed.\n"
     ]
    }
   ],
   "source": [
    "%run -i ../m269_tree\n",
    "from algoesup import test\n",
    "\n",
    "\n",
    "def height(tree: Tree) -> int:\n",
    "    \"\"\"Return how many levels the tree has.\"\"\"\n",
    "    if is_empty(tree):\n",
    "        return 0\n",
    "    else:\n",
    "        return max(height(tree.left), height(tree.right)) + 1\n",
    "\n",
    "\n",
    "def is_balanced(tree: Tree) -> bool:\n",
    "    \"\"\"Return True if and only if the tree is balanced.\"\"\"\n",
    "    if is_empty(tree):\n",
    "        return True\n",
    "    else:\n",
    "        valid_factor = -1 <= height(tree.left) - height(tree.right) <= 1\n",
    "        left_balanced = is_balanced(tree.left)\n",
    "        right_balanced = is_balanced(tree.right)\n",
    "        return valid_factor and left_balanced and right_balanced\n",
    "\n",
    "\n",
    "is_balanced_tests = [\n",
    "    ('empty tree',  Tree(),  True),\n",
    "    ('leaf',        SIX,     True),\n",
    "    ('unbalanced',  PMT,     False),\n",
    "    ('balanced',    TPM,     True)\n",
    "]\n",
    "\n",
    "test(is_balanced, is_balanced_tests)"
   ]
  },
  {
   "cell_type": "markdown",
   "id": "16",
   "metadata": {},
   "source": [
    "Let's first analyse the complexity of `height`.\n",
    "The worst-case scenario is a degenerate tree with one node per level, i.e.\n",
    "with height equal to the size. In that case, one subtree is empty and the other\n",
    "has all the remaining nodes.\n",
    "The divide-and-conquer approach degenerates to a decrease-by-one approach.\n",
    "If *n* is the size of the tree, then the complexity of the height function is:\n",
    "\n",
    "- T(0) to recursively handle the empty subtree\n",
    "- T(*n* – 1) to recursively handle the other subtree\n",
    "- Θ(1) to take the largest value and add one.\n",
    "\n",
    "The base case takes constant time, so the recursive definition of T is:\n",
    "\n",
    "- if *n* = 0: T(0) = Θ(1)\n",
    "- if *n* > 0: T(*n*) = T(*n* − 1) + T(0) + Θ(1) = T(*n* − 1) + Θ(1).\n",
    "\n",
    "This leads to T(*n*) = Θ(*n*)."
   ]
  },
  {
   "cell_type": "markdown",
   "id": "17",
   "metadata": {},
   "source": [
    "#### Exercise 16.5.2"
   ]
  },
  {
   "cell_type": "markdown",
   "id": "18",
   "metadata": {},
   "source": [
    "Define the worst-case complexity for `is_balanced` recursively.\n",
    "What is the resulting complexity?"
   ]
  },
  {
   "cell_type": "markdown",
   "id": "19",
   "metadata": {},
   "source": [
    "_Write your answer here._"
   ]
  },
  {
   "cell_type": "markdown",
   "id": "20",
   "metadata": {},
   "source": [
    "[Hint](../31_Hints/Hints_16_5_02.ipynb)\n",
    "[Answer](../32_Answers/Answers_16_5_02.ipynb)\n",
    "\n",
    "The best-case scenario is the perfect tree, which has minimal height\n",
    "and equally divided nodes among the subtrees.\n",
    "The complexity is defined as above,\n",
    "but each recursive call now takes T(*n* / 2) time.\n",
    "So the best-case complexity for the `height` function is:\n",
    "\n",
    "- T(0) = Θ(1)\n",
    "- T(*n*) = T(*n* / 2) + T(*n* / 2) + Θ(1) = 2×T(*n* / 2) + Θ(1).\n",
    "\n",
    "This leads to T(*n*) = Θ(*n*), which fits our intuition.\n",
    "Computing the height of a tree requires visiting all nodes, no matter how\n",
    "they're distributed in the tree.\n",
    "Like the size operation, the height operation always takes linear time.\n",
    "\n",
    "Having the best-case complexity of `height`,\n",
    "we can define the best-case complexity of `is_balanced`:\n",
    "\n",
    "- T(0) = Θ(1)\n",
    "- T(*n*) = 2×T(*n*/2) + Θ(*n* / 2) + Θ(*n* / 2) = 2×T(*n*/2) + Θ(*n*).\n",
    "\n",
    "This leads to T(*n*) = Θ(*n* log *n*).\n",
    "Although the function is doing a linear time operation (computing the height)\n",
    "for each subtree, in a perfect tree each subtree has half the size,\n",
    "hence the logarithmic component."
   ]
  },
  {
   "cell_type": "markdown",
   "id": "21",
   "metadata": {},
   "source": [
    "#### Exercise 16.5.3"
   ]
  },
  {
   "cell_type": "markdown",
   "id": "22",
   "metadata": {},
   "source": [
    "What changes would you make to the above algorithm to decide more efficiently\n",
    "whether a tree is balanced?\n",
    "You can describe the changes briefly instead of writing code."
   ]
  },
  {
   "cell_type": "markdown",
   "id": "23",
   "metadata": {},
   "source": [
    "_Write your answer here._"
   ]
  },
  {
   "cell_type": "markdown",
   "id": "24",
   "metadata": {},
   "source": [
    "[Hint](../31_Hints/Hints_16_5_03.ipynb)\n",
    "[Answer](../32_Answers/Answers_16_5_03.ipynb)"
   ]
  },
  {
   "cell_type": "markdown",
   "id": "25",
   "metadata": {},
   "source": [
    "⟵ [Previous section](16_4_bst.ipynb) | [Up](16-introduction.ipynb) | [Next section](16_6_heapsort.ipynb) ⟶"
   ]
  }
 ],
 "metadata": {
  "kernelspec": {
   "display_name": "Python 3",
   "language": "python",
   "name": "python3"
  },
  "language_info": {
   "codemirror_mode": {
    "name": "ipython",
    "version": 3
   },
   "file_extension": ".py",
   "mimetype": "text/x-python",
   "name": "python",
   "nbconvert_exporter": "python",
   "pygments_lexer": "ipython3",
   "version": "3.12.10"
  }
 },
 "nbformat": 4,
 "nbformat_minor": 5
}
