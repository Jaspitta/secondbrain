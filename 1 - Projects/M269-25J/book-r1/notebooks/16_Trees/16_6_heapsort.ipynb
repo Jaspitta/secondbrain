{
 "cells": [
  {
   "cell_type": "markdown",
   "id": "0",
   "metadata": {},
   "source": [
    "## 16.6 Heapsort"
   ]
  },
  {
   "cell_type": "markdown",
   "id": "1",
   "metadata": {},
   "source": [
    "Selection sort searches the unsorted part for\n",
    "the item with the smallest key, removes it and appends it to sorted part.\n",
    "We can see an item's key as the priority of being chosen next\n",
    "and use a min-priority queue to retrieve the next item for the sorted part.\n",
    "\n",
    "1. let *queue* be a min-priority queue\n",
    "2. for each *item* in *unsorted*:\n",
    "   1. enqueue *item* in *queue* with priority *key*(*item*)\n",
    "2. let *sorted* be the empty sequence\n",
    "2. while *queue* isn't empty:\n",
    "   1. append front of *queue* to *sorted*\n",
    "   2. dequeue *queue*\n",
    "\n",
    "This is a form of selection sort with pre-processing steps 1 and 2 to\n",
    "put the unsorted part in a min-priority queue, which thereby sorts it.\n",
    "\n",
    "If we implement the priority queue with a self-balancing BST,\n",
    "adding and removing an item in steps 2.1 and 4.2 takes logarithmic time.\n",
    "Selection sort on an array takes quadratic time to do *n* linear searches;\n",
    "with a BST-based min-priority queue, it takes log-linear time.\n",
    "\n",
    "Pigeonhole sort is also a form of selection sort with a data structure that\n",
    "allows getting the lowest key item in constant time."
   ]
  },
  {
   "cell_type": "markdown",
   "id": "2",
   "metadata": {},
   "source": [
    "<div class=\"alert alert-warning\">\n",
    "<strong>Note:</strong> An algorithm's complexity may be improved by using an auxiliary data structure.\n",
    "</div>"
   ]
  },
  {
   "cell_type": "markdown",
   "id": "3",
   "metadata": {},
   "source": [
    "Self-balancing BSTs have a memory overhead of two pointers per item and\n",
    "a run-time overhead to keep the tree balanced.\n",
    "There's a more efficient data structure for priority queues."
   ]
  },
  {
   "cell_type": "markdown",
   "id": "4",
   "metadata": {},
   "source": [
    "### 16.6.1 Binary heap"
   ]
  },
  {
   "cell_type": "markdown",
   "id": "5",
   "metadata": {},
   "source": [
    "In a **complete** tree all levels are full except possibly the last one\n",
    "and there are no 'gaps' in the bottom-level leaves, i.e.\n",
    "they were added from left to right.\n",
    "A complete tree has minimal height and is balanced.\n",
    "The next figure shows two balanced binary trees. Only the left-hand tree is complete:\n",
    "the right-hand tree doesn't have middle leaves in the deepest level.\n",
    "\n",
    "<p id=\"fig-16.6.1\"></p>\n",
    "\n",
    "*[Figure 16.6.1](../33_Figures/Figures_16_6.ipynb#Figure-16.6.1)*\n",
    "\n",
    "![Image 16_6_complete.png](16_6_complete.png)\n",
    "\n",
    "A **binary heap** is a complete binary tree with an ordering property:\n",
    "in a **min-heap** each node's key is less than or equal to its children's keys,\n",
    "whereas in a **max-heap** it's larger than or equal to.\n",
    "A min-heap has the smallest item in the root; a max-heap has the largest.\n",
    "In M269, heap means a binary heap, since we're not using other kinds of heaps.\n",
    "\n",
    "The next figure shows a min-heap on the left, a max-heap on the right,\n",
    "whereas the middle tree is complete but not a heap:\n",
    "node 3 is smaller than one of its children but larger than the other.\n",
    "\n",
    "<p id=\"fig-16.6.2\"></p>\n",
    "\n",
    "*[Figure 16.6.2](../33_Figures/Figures_16_6.ipynb#Figure-16.6.2)*\n",
    "\n",
    "![Image 16_6_heap.png](16_6_heap.png)"
   ]
  },
  {
   "cell_type": "markdown",
   "id": "6",
   "metadata": {},
   "source": [
    "#### Exercise 16.6.1"
   ]
  },
  {
   "cell_type": "markdown",
   "id": "7",
   "metadata": {},
   "source": [
    "Can an item be searched in logarithmic time in a binary heap?"
   ]
  },
  {
   "cell_type": "markdown",
   "id": "8",
   "metadata": {},
   "source": [
    "_Write your answer here._"
   ]
  },
  {
   "cell_type": "markdown",
   "id": "9",
   "metadata": {},
   "source": [
    "[Hint](../31_Hints/Hints_16_6_01.ipynb)\n",
    "[Answer](../32_Answers/Answers_16_6_01.ipynb)\n",
    "\n",
    "A complete binary tree can be efficiently stored in an array in level order.\n",
    "We put the root in index&nbsp;0, its left child in index&nbsp;1,\n",
    "its right child in index&nbsp;2, and so on. This way, the node at index *i* has\n",
    "its children at indices _2×i_ + 1 and 2×*i* + 2 and\n",
    "its parent at index floor((*i* – 1)/ 2).\n",
    "This is illustrated by the left-hand tree of the previous figure,\n",
    "where the keys are the same as the nodes' indices.\n",
    "For example, node 1&nbsp;has children 2×1 + 1 = 3 and 2×1 + 2 = 4, and\n",
    "nodes 1 and 2&nbsp;have parent floor((1–1) / 2) = floor ((2–1) / 2) = 0.\n",
    "\n",
    "This approach is much more efficient in terms of memory and run-time than a\n",
    "pointer-based implementation of a complete tree. The latter requires\n",
    "three pointers per node to also access a node's parent, whereas\n",
    "the array-based implementation multiplies and divides indices by 2,\n",
    "which is very fast in binary arithmetic.\n",
    "\n",
    "**Heapsort** is the above min-priority queue version of selection sort,\n",
    "using a min-heap as the data structure.\n",
    "Before I go into the details of the heap operations,\n",
    "you should see them and heapsort at work in this [visualisation](https://learn2.open.ac.uk/mod/oucontent/view.php?id=2554725&extra=thumbnail_idm42).\n",
    "(Ignore the references to Miller and Ranum's textbook.)"
   ]
  },
  {
   "cell_type": "markdown",
   "id": "10",
   "metadata": {},
   "source": [
    "### 16.6.2 Inserting items"
   ]
  },
  {
   "cell_type": "markdown",
   "id": "11",
   "metadata": {},
   "source": [
    "To add an item to a min-heap, we first put it in the next available\n",
    "leaf position, i.e. we append it to the array.\n",
    "This guarantees the tree remains complete.\n",
    "However, the new item may be smaller than its parent. If that's the case,\n",
    "we swap it with its parent to satisfy the heap's ordering property.\n",
    "If the new item is still smaller than its new parent, we keep swapping it\n",
    "up the tree until it becomes the root or is the child of a smaller item.\n",
    "\n",
    "The algorithm keeps two variables with the current index of the new item and\n",
    "its current parent, and updates them as the item 'bubbles' up the tree.\n",
    "\n",
    "1. append *item* to *heap*\n",
    "1. let *index* be │*heap*│ − 1\n",
    "2. let *parent* be floor((*index* – 1) / 2)\n",
    "1. while *index* ≠ 0 and *key*(*item*) < *key*(*heap*[*parent*]):\n",
    "   1. swap *heap*[*index*] with *heap*[*parent*]\n",
    "   1. let *index* be *parent*\n",
    "   1. let *parent* be floor((*index* – 1) / 2)\n",
    "\n",
    "The algorithm relies on short-circuit conjunction in step&nbsp;4,\n",
    "so that the invalid parent index isn't accessed when the item becomes the root."
   ]
  },
  {
   "cell_type": "markdown",
   "id": "12",
   "metadata": {},
   "source": [
    "### 16.6.3 Removing the root"
   ]
  },
  {
   "cell_type": "markdown",
   "id": "13",
   "metadata": {},
   "source": [
    "The only item that can be removed from a min-heap is the root,\n",
    "which is the front of the priority queue.\n",
    "When the root is removed the last leaf node replaces it, so that the tree\n",
    "remains complete. However, this will break the ordering property:\n",
    "the old root was the smallest item but the new root is one of the largest items,\n",
    "because it was in the lowest level. To reinstate the ordering,\n",
    "we simply swap the new root with one of its children and keep swapping it down\n",
    "until it becomes a leaf again or is smaller than its children.\n",
    "\n",
    "Promoting one of the largest items to the root only to move it back down\n",
    "sounds daft, but the actual point is to move the appropriate smaller items up\n",
    "as the swaps are made.\n",
    "\n",
    "Does it matter which child the parent is swapped with?\n",
    "Let's think with a concrete example, the min-heap of Figure 16.6.2.\n",
    "If we dequeue the root, it gets replaced by the last leaf with key 4.\n",
    "The middle of the next figure shows the new root and its children.\n",
    "\n",
    "<p id=\"fig-16.6.3\"></p>\n",
    "\n",
    "*[Figure 16.6.3](../33_Figures/Figures_16_6.ipynb#Figure-16.6.3)*\n",
    "\n",
    "![Image 16_6_swap_down.png](16_6_swap_down.png)\n",
    "\n",
    "If we swap node 4 with its right child, as shown in the right-hand side of\n",
    "the figure, it still isn't a min-heap, because the new root, with key 2,\n",
    "is larger than the left child. If we instead swap node 4 with its left child,\n",
    "node 1, as shown in the left-hand side of the figure, we reinstate the ordering property.\n",
    "\n",
    "In general, we must swap the root with the smallest of its children.\n",
    "This guarantees the child being promoted to parent is smaller than\n",
    "its two new children: its former parent and its former sibling.\n",
    "\n",
    "The algorithm to dequeue the root is as follows,\n",
    "with *front* being the output variable:\n",
    "\n",
    "1. let *front* be *heap*[0]\n",
    "2. let *last* be │*heap*│ − 1\n",
    "3. let *heap*[0] be *heap*[*last*]\n",
    "4. remove *heap*[*last*]\n",
    "5. down(*heap*, 0)\n",
    "\n",
    "The auxiliary function down(*heap*, *index*) moves the node at the given\n",
    "index down as far as possible. The easiest implementation is recursive.\n",
    "One base case is that the node is a leaf, the other that it's already smaller\n",
    "than its children. In both cases, nothing is done.\n",
    "Otherwise the node is swapped with the smallest child and pushed down further.\n",
    "\n",
    "1. let *left* be 2×*index* + 1\n",
    "2. if *left* ≥  │*heap*│:\n",
    "   1. stop\n",
    "3. let *right* be *left* + 1\n",
    "4. if *right* < │*heap*│ and *key*(*heap*[*right*]) < *key*(*heap*[*left*])\n",
    "   1. let *smallest* be *right*\n",
    "5. otherwise:\n",
    "   1. let *smallest* be *left*\n",
    "6. if *key*(*heap*[*index*]) > *key*(*heap*[*smallest*]):\n",
    "   1. swap *heap*[*index*] with *heap*[*smallest*]\n",
    "   2. down(*heap*, *smallest*)\n",
    "\n",
    "Step&nbsp;2 checks that the node to be pushed down is a leaf by checking if the\n",
    "index of its left child is out of bounds.\n",
    "Step&nbsp;4 uses short-circuit conjunction to first check if there's a right child\n",
    "before comparing it to the left child."
   ]
  },
  {
   "cell_type": "markdown",
   "id": "14",
   "metadata": {},
   "source": [
    "### 16.6.4 Complexity"
   ]
  },
  {
   "cell_type": "markdown",
   "id": "15",
   "metadata": {},
   "source": [
    "The worst-case scenario for inserting an item is to bubble it up\n",
    "from the bottom level to the root. Likewise the worst-case scenario for\n",
    "dequeueing the root is to push the new root (which was the right-most leaf) down\n",
    "back to the bottom level."
   ]
  },
  {
   "cell_type": "markdown",
   "id": "16",
   "metadata": {},
   "source": [
    "#### Exercise 16.6.2"
   ]
  },
  {
   "cell_type": "markdown",
   "id": "17",
   "metadata": {},
   "source": [
    "What's the worst-case complexity of heapsort?"
   ]
  },
  {
   "cell_type": "markdown",
   "id": "18",
   "metadata": {},
   "source": [
    "_Write your answer here._"
   ]
  },
  {
   "cell_type": "markdown",
   "id": "19",
   "metadata": {},
   "source": [
    "[Hint](../31_Hints/Hints_16_6_02.ipynb)\n",
    "[Answer](../32_Answers/Answers_16_6_02.ipynb)"
   ]
  },
  {
   "cell_type": "markdown",
   "id": "20",
   "metadata": {},
   "source": [
    "#### Exercise 16.6.3"
   ]
  },
  {
   "cell_type": "markdown",
   "id": "21",
   "metadata": {},
   "source": [
    "What's the best-case scenario and complexity of heapsort?"
   ]
  },
  {
   "cell_type": "markdown",
   "id": "22",
   "metadata": {},
   "source": [
    "_Write your answer here._"
   ]
  },
  {
   "cell_type": "markdown",
   "id": "23",
   "metadata": {},
   "source": [
    "[Hint](../31_Hints/Hints_16_6_03.ipynb)\n",
    "[Answer](../32_Answers/Answers_16_6_03.ipynb)\n",
    "\n",
    "In summary, their weaker ordering property than for BSTs and\n",
    "their structural property (being complete trees) makes heaps more efficient\n",
    "for implementing priority queues than self-balancing BSTs:\n",
    "although each priority queue operation takes logarithmic time for both\n",
    "data structures, heaps use less memory and execute operations faster.\n",
    "\n",
    "Despite heapsort having better worst-case complexity than quicksort,\n",
    "in practice quicksort is preferred because\n",
    "heapsort accesses all parts of the array as it swaps items.\n",
    "If the array doesn't fit in cache memory, then the various parts of the\n",
    "array are copied in and out of the cache as the item bubbles up or down.\n",
    "In contrast, quicksort doesn't access any part of the array outside\n",
    "the partition it's working on.\n",
    "Every partition small enough to fit in the cache stays there until it's sorted.\n",
    "We say that quicksort has better cache locality than heapsort.\n",
    "A well-implemented in-place quicksort algorithm\n",
    "runs faster than heapsort for large arrays."
   ]
  },
  {
   "cell_type": "markdown",
   "id": "24",
   "metadata": {},
   "source": [
    "<div class=\"alert alert-info\">\n",
    "<strong>Info:</strong> TM112 Block&nbsp;1 Section&nbsp;3.1.2 explains cache memory.\n",
    "</div>"
   ]
  },
  {
   "cell_type": "markdown",
   "id": "25",
   "metadata": {},
   "source": [
    "### 16.6.5 Heaps in Python"
   ]
  },
  {
   "cell_type": "markdown",
   "id": "26",
   "metadata": {},
   "source": [
    "Python's module `heapq` implements min-priority queues with min-heaps.\n",
    "No new data type is introduced: a heap is represented by a list.\n",
    "The module includes\n",
    "function `heappush(heap, item)` to add the given item to the given heap, and\n",
    "function `heappop(heap)` to remove and return the smallest item.\n",
    "Note that items are assumed to be directly comparable:\n",
    "there's no additional parameter for a key function.\n",
    "\n",
    "To access the front of the priority queue without removing it,\n",
    "just write `heap[0]`.\n",
    "You can use any other list operation, but most of them are meaningless\n",
    "for priority queues and will break the heap properties.\n",
    "\n",
    "Here's the heapsort algorithm, with a key function.\n",
    "I add each item to the heap as a key–item tuple.\n",
    "Due to lexicographic comparison, the keys are compared first, then the items,\n",
    "if they have the same key. This means that items must be comparable,\n",
    "contrary to the other sorting algorithms, where only keys are.\n",
    "The key is discarded before appending the item to the output sequence."
   ]
  },
  {
   "cell_type": "code",
   "execution_count": 1,
   "id": "27",
   "metadata": {},
   "outputs": [
    {
     "name": "stdout",
     "output_type": "stream",
     "text": [
      "Testing heapsorted...\n",
      "Tests finished: 7 passed (100%), 0 failed.\n"
     ]
    }
   ],
   "source": [
    "from typing import Callable\n",
    "from algoesup import test\n",
    "\n",
    "%run -i ../m269_sorting\n",
    "\n",
    "from heapq import heappush, heappop\n",
    "\n",
    "\n",
    "def heapsorted(unsorted: list, key: Callable) -> list:\n",
    "    \"\"\"Return a permutation with keys in non-decreasing order.\n",
    "\n",
    "    Preconditions:\n",
    "    - all items in unsorted are pairwise comparable\n",
    "    - for any indices i and j,\n",
    "      key(unsorted[i]) and key(unsorted[j]) are comparable\n",
    "    \"\"\"\n",
    "    heap = []\n",
    "    for item in unsorted:\n",
    "        heappush(heap, (key(item), item))\n",
    "    result = []\n",
    "    while len(heap) > 0:\n",
    "        result.append(heappop(heap)[1])\n",
    "    return result\n",
    "\n",
    "\n",
    "test(heapsorted, sorting_tests)"
   ]
  },
  {
   "cell_type": "markdown",
   "id": "28",
   "metadata": {},
   "source": [
    "Let's confirm that heapsort is log-linear."
   ]
  },
  {
   "cell_type": "code",
   "execution_count": 2,
   "id": "29",
   "metadata": {},
   "outputs": [
    {
     "name": "stdout",
     "output_type": "stream",
     "text": [
      "22.9 μs ± 55.8 ns per loop (mean ± std. dev. of 5 runs, 10,000 loops each)\n",
      "48.7 μs ± 54 ns per loop (mean ± std. dev. of 5 runs, 10,000 loops each)\n",
      "105 μs ± 144 ns per loop (mean ± std. dev. of 5 runs, 10,000 loops each)\n",
      "225 μs ± 300 ns per loop (mean ± std. dev. of 5 runs, 1,000 loops each)\n",
      "487 μs ± 584 ns per loop (mean ± std. dev. of 5 runs, 1,000 loops each)\n"
     ]
    }
   ],
   "source": [
    "from random import shuffle\n",
    "\n",
    "for doubling in range(5):\n",
    "    items = list(range(100 * 2**doubling, -1, -1))\n",
    "    shuffle(items)  # random sequence\n",
    "    %timeit -r 5 heapsorted(items, identity)"
   ]
  },
  {
   "cell_type": "markdown",
   "id": "30",
   "metadata": {},
   "source": [
    "⟵ [Previous section](16_5_balanced.ipynb) | [Up](16-introduction.ipynb) | [Next section](16_7_summary.ipynb) ⟶"
   ]
  }
 ],
 "metadata": {
  "kernelspec": {
   "display_name": "Python 3",
   "language": "python",
   "name": "python3"
  },
  "language_info": {
   "codemirror_mode": {
    "name": "ipython",
    "version": 3
   },
   "file_extension": ".py",
   "mimetype": "text/x-python",
   "name": "python",
   "nbconvert_exporter": "python",
   "pygments_lexer": "ipython3",
   "version": "3.12.10"
  }
 },
 "nbformat": 4,
 "nbformat_minor": 5
}
