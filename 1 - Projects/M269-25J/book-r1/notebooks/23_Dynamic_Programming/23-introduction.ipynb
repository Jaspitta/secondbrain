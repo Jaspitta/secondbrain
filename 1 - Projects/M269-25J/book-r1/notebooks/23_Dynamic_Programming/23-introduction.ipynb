{
 "cells": [
  {
   "cell_type": "markdown",
   "id": "0",
   "metadata": {},
   "source": [
    "# 23 Dynamic Programming"
   ]
  },
  {
   "cell_type": "markdown",
   "id": "1",
   "metadata": {},
   "source": [
    "We have solved various problems in a recursive way.\n",
    "In many, the solution to a problem was obtained by solving\n",
    "*one* subproblem (i.e. a smaller instance of the same problem)\n",
    "and so the algorithm made a single recursive call.\n",
    "For example, if the problem is to obtain\n",
    "the [length of a list](../12_Recursion/12_3_length.ipynb#12.3-Length-of-a-sequence), we can solve it recursively\n",
    "by solving the subproblem of computing the length of its tail.\n",
    "Another example is [binary search](../13_Divide/13_4_binary_search.ipynb#13.4-Binary-search): to solve the problem of\n",
    "finding an item in a sorted sequence, it solves the subproblem of\n",
    "finding the item in either the left or right half (it never checks both halves).\n",
    "\n",
    "Other problems were divided into *multiple independent*\n",
    "subproblems, and we applied a divide-and-conquer algorithm that made\n",
    "as many recursive calls as there were subproblems (usually two).\n",
    "For example, [quicksort](../14_Sorting/14_6_quicksort.ipynb#14.6-Quicksort) and [merge sort](../14_Sorting/14_5_merge_sort.ipynb#14.5-Merge-sort)\n",
    "divide the input sequence into two separate parts and sort each one,\n",
    "before combining the sorted parts into a sorted sequence.\n",
    "Algorithms on [binary trees](../16_Trees/16_2_algorithms.ipynb#16.2-Algorithms-on-trees) are another example:\n",
    "they process the left and right subtrees separately and then\n",
    "combine both results with the root's item.\n",
    "\n",
    "However, some problems are naturally split into *overlapping* subproblems, where two or more subproblems have a common subproblem.\n",
    "While an algorithm with multiple recursion can elegantly solve such problems,\n",
    "it's very inefficient as it solves common subproblems repeatedly.\n",
    "\n",
    "**Dynamic programming** is a technique that makes a space–time tradeoff\n",
    "to solve such problems more efficiently. It solves each subproblem only once\n",
    "and stores its solution in a subproblem–solution map. When a common subproblem\n",
    "occurs again, its solution is looked up instead of being recomputed.\n",
    "This chapter covers some classic dynamic programming problems to\n",
    "illustrate the technique.\n",
    "(The term 'dynamic programming' is unrelated to dynamic arrays.)\n",
    "\n",
    "This chapter supports these learning outcomes:\n",
    "\n",
    "- Understand the common general-purpose data structures, algorithmic techniques and complexity classes – this chapter introduces the dynamic programming technique.\n",
    "- Analyse the complexity of algorithms to support software design choices – you will learn how to analyse the complexity of dynamic programming.\n",
    "\n",
    "Before starting to work on this chapter, check the M269\n",
    "[news](https://learn2.open.ac.uk/blocks/news/all.php?bi=326014) and [errata](https://learn2.open.ac.uk/mod/url/view.php?id=2554721),\n",
    "and check the TMAs for what is assessed."
   ]
  },
  {
   "cell_type": "markdown",
   "id": "2",
   "metadata": {
    "nbsphinx-toctree": {
     "hidden": true,
     "maxdepth": 1,
     "numbered": false
    }
   },
   "source": [
    "1. [Fibonacci](23_1_fibonacci.ipynb)\n",
    "1. [Longest common subsequence](23_2_lcs.ipynb)\n",
    "1. [Knapsack](23_3_knapsack.ipynb)\n",
    "1. [Summary](23_4_summary.ipynb)"
   ]
  },
  {
   "cell_type": "markdown",
   "id": "3",
   "metadata": {},
   "source": [
    "⟵ [Previous chapter](../22_Backtracking/22-introduction.ipynb) | [Up](../M269.ipynb) | [Next chapter](../24_Practice-3/24-introduction.ipynb) ⟶"
   ]
  }
 ],
 "metadata": {
  "kernelspec": {
   "display_name": "Python 3",
   "language": "python",
   "name": "python3"
  },
  "language_info": {
   "codemirror_mode": {
    "name": "ipython",
    "version": 3
   },
   "file_extension": ".py",
   "mimetype": "text/x-python",
   "name": "python",
   "nbconvert_exporter": "python",
   "pygments_lexer": "ipython3",
   "version": "3.12.10"
  }
 },
 "nbformat": 4,
 "nbformat_minor": 5
}
