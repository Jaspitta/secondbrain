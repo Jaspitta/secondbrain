{
 "cells": [
  {
   "cell_type": "markdown",
   "id": "0",
   "metadata": {},
   "source": [
    "## 23.2 Longest common subsequence"
   ]
  },
  {
   "cell_type": "markdown",
   "id": "1",
   "metadata": {},
   "source": [
    "As explained in Sections [4.1.2](../04_Iteration/04_1_sequences.ipynb#4.1.2-Creating-sequences)\n",
    "and [4.6.1](../04_Iteration/04_6_lists.ipynb#4.6.1-Modifying-sequences),\n",
    "substrings and subsequences are zero or more items taken from a given sequence,\n",
    "without changing their order.\n",
    "A substring (also called a slice) contains consecutive items from the sequence,\n",
    "whereas a subsequence doesn't have to.\n",
    "Every substring is a subsequence, but not every subsequence is a substring.\n",
    "For example, (1, 2) is a substring and a subsequence of (1, 2, 3),\n",
    "whereas (1, 3) is a subsequence but not a substring, because\n",
    "1 and 3 don't appear consecutively in (1, 2, 3).\n",
    "\n",
    "This section further illustrates dynamic programming with the\n",
    "**longest common subsequence (LCS)** problem:\n",
    "given two sequences A and B, we want a longest of all sequences\n",
    "that are both a subsequence of A and a subsequence of B.\n",
    "For example, the LCS of (1, 3, 5, 7, 9, 11) and (2, 3, 5, 7, 11, 13)\n",
    "is (3, 5, 7, 11).\n",
    "Some sequences have several longest common subsequences, e.g.\n",
    "(1, 2, 3, 2) and (3, 2, 1, 2) have three LCS: (1, 2), (2, 2) and (3, 2).\n",
    "Our algorithm will return one of them.\n",
    "\n",
    "The LCS is an indication of how similar two sequences are. For example,\n",
    "the Linux `diff` command (introduced in TM129) and word processors can\n",
    "compare two versions of a text file and\n",
    "show which lines were added and removed between the versions.\n",
    "They use quite sophisticated algorithms but one simple way to solve\n",
    "that problem is to determine which lines haven't changed, i.e.\n",
    "are common to both versions.\n",
    "Since new lines of text can be inserted between existing lines,\n",
    "the lines of the original file may not appear consecutively in the new file,\n",
    "so we must look for a subsequence, not a substring.\n",
    "\n",
    "As an example, let the original file be the sequence of lines (A, B, C, D) and\n",
    "let the new file be (B, E, D, C, F).\n",
    "Each letter represents the content of one line.\n",
    "Line A was removed, lines C and D were swapped and lines E and F were added.\n",
    "\n",
    "Every line of the original file that isn't in the LCS was removed and\n",
    "every line of the new file that isn't in the LCS was added,\n",
    "because those lines aren't in the common subsequence.\n",
    "Sequences (A, B, C, D) and (B, E, D, C, F) have two LCS: (B, C) and (B, D).\n",
    "Both show that line A was removed and lines E and F were added.\n",
    "If the output is (B, C) then this means line D was removed from after C\n",
    "and added before C. If the output is (B, D) then it's line C that is considered\n",
    "to have moved from before D to after D.\n",
    "\n",
    "Another application of the LCS problem is in bioinformatics.\n",
    "We can represent a [DNA strand](../04_Iteration/04_8_practice.ipynb#4.8.1-DNA) as\n",
    "a string of the letters A, C, G and T.\n",
    "Computing the LCS (or some other similarity measure) of two strands allows\n",
    "scientists to find out if two genes have the same function,\n",
    "if one species evolved from another, if two people are related, etc.\n",
    "\n",
    "In summary, the LCS and similar problems that involve comparing two sequences\n",
    "have many applications and they are often solved with dynamic programming.\n",
    "\n",
    "In the rest of this section, to make the examples shorter to type,\n",
    "I will only use sequences of characters (strings).\n",
    "I'll call the two input strings *left* and *right*.\n",
    "\n",
    "Here are some tests. Feel free to add your own.\n",
    "Make sure there's only one LCS for each test,\n",
    "otherwise your algorithm may pick a different LCS and fail the test."
   ]
  },
  {
   "cell_type": "code",
   "execution_count": 1,
   "id": "2",
   "metadata": {},
   "outputs": [
    {
     "name": "stdout",
     "output_type": "stream",
     "text": [
      "OK: the test table passed the automatic checks.\n"
     ]
    }
   ],
   "source": [
    "from algoesup import check_tests, test\n",
    "\n",
    "DNA_LEFT = \"A\" * 6\n",
    "DNA_RIGHT = \"GATTACA\" * 3  # more A's than DNA_LEFT\n",
    "\n",
    "lcs_tests = [\n",
    "    # case,             left,       right,      LCS\n",
    "    ('one is empty',    'hello',    '',         ''),\n",
    "    ('same string',     'hello',    'hello',    'hello'),\n",
    "    ('nothing common',  'yes',      'no',       ''),\n",
    "    ('typical case',    'soho',     'ohio',     'oho'),\n",
    "    ('subsequence',     DNA_LEFT,   DNA_RIGHT,  DNA_LEFT),\n",
    "    ('substring',       'TACAG',    DNA_RIGHT,  'TACAG')\n",
    "]\n",
    "\n",
    "check_tests(lcs_tests, [str, str, str])"
   ]
  },
  {
   "cell_type": "markdown",
   "id": "3",
   "metadata": {},
   "source": [
    "### 23.2.1 Recursive"
   ]
  },
  {
   "cell_type": "markdown",
   "id": "4",
   "metadata": {},
   "source": [
    "To obtain a dynamic programming solution,\n",
    "we must start with a recursive definition of the problem.\n",
    "At this point you may wish to read again\n",
    "[Section&nbsp;12.8](../12_Recursion/12_8_summary.ipynb) and skim Sections\n",
    "[12.3](../12_Recursion/12_3_length.ipynb#12.3-Length-of-a-sequence) and [12.5](../12_Recursion/12_5_create_sequences.ipynb#12.5-Creating-sequences)\n",
    "to remind yourself how sequences are processed recursively.\n",
    "\n",
    "As usual, I start by thinking of the bases cases.\n",
    "The smallest problem instances are always base cases because\n",
    "they can't be further decreased. The inputs of the LCS problem are strings, so\n",
    "the base cases are when either or both strings are empty.\n",
    "If one string is empty, it has no common characters with the other string,\n",
    "so their LCS is the empty string.\n",
    "\n",
    "- if *left* or *right* is empty: lcs(*left*, *right*) = ''\n",
    "\n",
    "If neither string is empty, we can separate each one into a\n",
    "head (the first character) and a tail (the rest of the string).\n",
    "There are only two possible cases: their heads are the same or they differ.\n",
    "\n",
    "If both strings have the same head, i.e. start with the same character,\n",
    "then that character is common to both and we must include it in the LCS.\n",
    "(If we ignored this common character, we wouldn't get the longest subsequence.)\n",
    "The LCS will be that character followed by the LCS of the tails, e.g.\n",
    "the LCS of 'hello' and 'hill' is 'h' followed by the LCS of 'ello' and 'ill'.\n",
    "\n",
    "- if head(*left*) = head(*right*): lcs(*left*, *right*) =\n",
    "  head(*left*) + lcs(tail(*left*), tail(*right*))\n",
    "\n",
    "Since both heads are equal, I could have used head(*right*) instead of head(*left*). The + operator means concatenation in this context.\n",
    "\n",
    "If the two heads are different, what should we do? Let's look at some examples.\n",
    "When computing the LCS of 'soho' and 'ohio', we must skip the 's' so that we\n",
    "can then match the first two letters of 'oho' and 'ohio'.\n",
    "We have lcs('soho', 'ohio') = lcs('oho', 'ohio') = 'oho'.\n",
    "If we instead skip the initial 'o' of 'ohio', we would get the wrong answer\n",
    "lcs('soho', 'ohio') = lcs('soho', 'hio') = 'ho'.\n",
    "\n",
    "On the other hand, when computing the LCS of 'AAA' and 'GATTACA',\n",
    "which is 'AAA', we can't skip any As in the left string as all have to\n",
    "be matched to the As in the right string.\n",
    "To sum up, if the two heads are different, sometimes we must skip the left head,\n",
    "sometimes the right head, in order to get the longest output.\n",
    "\n",
    "How do we know which head to skip,\n",
    "without looking ahead to the rest of the strings?\n",
    "We don't. When computing the [height of a tree](../16_Trees/16_2_algorithms.ipynb#16.2-Algorithms-on-trees)\n",
    "recursively, we didn't know which subtree was taller,\n",
    "so we computed the height of both and took the height of the tallest.\n",
    "Here we must do the same.\n",
    "\n",
    "- if head(*left*) ≠ head(*right*): lcs(*left*, *right*) = longest of lcs(*left*, tail(*right*)) and lcs(tail(*left*), *right*)\n",
    "\n",
    "If skipping either head leads to common subsequences of the same length,\n",
    "then we can pick either of them. The resulting LCS will depend on\n",
    "which head is skipped, but it will always have the same maximum length.\n",
    "For example,\n",
    "\n",
    "- lcs('aba', 'baca') = lcs('ba', 'baca') = 'ba' if we skip the left head\n",
    "- lcs('aba', 'baca') = lcs('aba', 'aca') = 'aa' if we skip the right head\n",
    "\n",
    "but both LCS have the maximal length of 2."
   ]
  },
  {
   "cell_type": "markdown",
   "id": "5",
   "metadata": {},
   "source": [
    "#### Exercise 23.2.1"
   ]
  },
  {
   "cell_type": "markdown",
   "id": "6",
   "metadata": {},
   "source": [
    "Complete the following function and test it.\n",
    "The `m269_rec_list.py` file has functions `head` and `tail` that allow\n",
    "your code to closely follow the recursive definition.\n",
    "If you prefer, use `...[0]` and `...[1:]` instead."
   ]
  },
  {
   "cell_type": "code",
   "execution_count": 2,
   "id": "7",
   "metadata": {},
   "outputs": [],
   "source": [
    "%run -i ../m269_rec_list\n",
    "\n",
    "\n",
    "def lcs(left: str, right: str) -> str:\n",
    "    \"\"\"Return the longest common subsequence of both strings.\"\"\"\n",
    "    # if one or both strings are empty:\n",
    "        # return the empty string\n",
    "    # elif both heads are equal:\n",
    "        # return the head concatenated with the LCS of both tails\n",
    "    # else:\n",
    "        # compute the LCS when skipping the right head\n",
    "        # compute the LCS when skipping the left head\n",
    "        # return the longest of the two\n",
    "\n",
    "test(lcs, lcs_tests)\n",
    "%timeit -r 3 lcs(DNA_LEFT, DNA_RIGHT)"
   ]
  },
  {
   "cell_type": "markdown",
   "id": "8",
   "metadata": {},
   "source": [
    "[Answer](../32_Answers/Answers_23_2_01.ipynb)"
   ]
  },
  {
   "cell_type": "markdown",
   "id": "9",
   "metadata": {},
   "source": [
    "### 23.2.2 Top-down"
   ]
  },
  {
   "cell_type": "markdown",
   "id": "10",
   "metadata": {},
   "source": [
    "Before we invest effort in developing a dynamic programming solution,\n",
    "we should check whether it's worth it: are any subproblems repeatedly solved?\n",
    "Let's draw the DAG of the problem instances and their dependencies for\n",
    "input strings 'yes' and 'no'.\n",
    "\n",
    "<p id=\"fig-23.2.1\"></p>\n",
    "\n",
    "*[Figure 23.2.1](../33_Figures/Figures_23_2.ipynb#Figure-23.2.1)*\n",
    "\n",
    "![Image 23_2_lcs.png](23_2_lcs.png)\n",
    "\n",
    "As the DAG shows, there are overlapping subproblems, e.g. lcs('es', 'no') and\n",
    "lcs('yes', 'o') overlap on common subproblem lcs('es', 'o').\n",
    "Common subproblems arise from\n",
    "the multiple ways to reach the same tails of the initial input strings,\n",
    "by skipping characters from the left and right strings a in different order.\n",
    "For example, lcs('es', 'o') is solved twice:\n",
    "first by skipping 'y' then 'n', and second by skipping 'n' then 'y'.\n",
    "\n",
    "This means that instance ('s', 'o') is solved three times:\n",
    "\n",
    "- lcs('yes', 'no') ⟵ lcs('es', 'no') ⟵ lcs('es', 'o') ⟵ lcs('s', 'o')\n",
    "- lcs('yes', 'no') ⟵ lcs('yes', 'o') ⟵ lcs('es', 'o') ⟵ lcs('s', 'o')\n",
    "- lcs('yes', 'no') ⟵ lcs('es', 'no') ⟵ lcs('s', 'no') ⟵ lcs('s', 'o')\n",
    "\n",
    "This in turn means that both leaf instances in the bottom row are also solved\n",
    "three times each. More generally, the number of times an instance is solved\n",
    "is the number of different paths from ('yes', 'no') to it.\n",
    "(Remember that recursion follows the DAG edges backwards.)\n",
    "\n",
    "Caching the results for subproblems avoids repeated recursive calls.\n",
    "For example, the second time `lcs('es', 'o')` is called, the cache is looked up\n",
    "and no calls to `lcs('s', 'o')` and `lcs('es', '')` are made."
   ]
  },
  {
   "cell_type": "markdown",
   "id": "11",
   "metadata": {},
   "source": [
    "#### Exercise 23.2.2"
   ]
  },
  {
   "cell_type": "markdown",
   "id": "12",
   "metadata": {},
   "source": [
    "Paste a copy of your code for the previous exercise into\n",
    "the auxiliary function below and modify it to use the `cache` dictionary."
   ]
  },
  {
   "cell_type": "code",
   "execution_count": 3,
   "id": "13",
   "metadata": {},
   "outputs": [],
   "source": [
    "%run -i ../m269_rec_list\n",
    "\n",
    "\n",
    "def lcs_topdown(left: str, right: str) -> str:\n",
    "    \"\"\"Return the LCS of both strings using top-down dynamic programming.\"\"\"\n",
    "\n",
    "    def lcs(left: str, right: str) -> str:\n",
    "        \"\"\"Auxiliary recursive function.\"\"\"\n",
    "        # if problem instance (left, right) isn't in cache:\n",
    "            # compute LCS recursively and store it in cache\n",
    "            # optional: print the cached value to see how the cache is filled\n",
    "        # return the cached LCS for left and right\n",
    "\n",
    "    cache = dict()\n",
    "    return lcs(left, right)"
   ]
  },
  {
   "cell_type": "markdown",
   "id": "14",
   "metadata": {},
   "source": [
    "If you add a print statement I recommend you only run"
   ]
  },
  {
   "cell_type": "code",
   "execution_count": 4,
   "id": "15",
   "metadata": {},
   "outputs": [],
   "source": [
    "lcs_topdown(\"yes\", \"no\")"
   ]
  },
  {
   "cell_type": "markdown",
   "id": "16",
   "metadata": {},
   "source": [
    "and check the order in which the solutions are cached against the DAG above.\n",
    "Then comment out the print statement and run the next cell.\n",
    "The run-time should be lower than for the original recursive version."
   ]
  },
  {
   "cell_type": "code",
   "execution_count": 5,
   "id": "17",
   "metadata": {},
   "outputs": [],
   "source": [
    "test(lcs_topdown, lcs_tests)\n",
    "%timeit -r 3 lcs_topdown(DNA_LEFT, DNA_RIGHT)"
   ]
  },
  {
   "cell_type": "markdown",
   "id": "18",
   "metadata": {},
   "source": [
    "[Hint](../31_Hints/Hints_23_2_02.ipynb)\n",
    "[Answer](../32_Answers/Answers_23_2_02.ipynb)"
   ]
  },
  {
   "cell_type": "markdown",
   "id": "19",
   "metadata": {},
   "source": [
    "### 23.2.3 Recursive with indices"
   ]
  },
  {
   "cell_type": "markdown",
   "id": "20",
   "metadata": {},
   "source": [
    "Before proceeding to the bottom-up version,\n",
    "let's improve the efficiency of what we have.\n",
    "As noted in [Section&nbsp;12.6](../12_Recursion/12_6_avoid_slicing.ipynb#12.6-Avoiding-slicing), we should\n",
    "avoid slicing in every recursive call and use indices instead.\n",
    "\n",
    "For this problem two indices suffice, each pointing to the current head.\n",
    "I will use single-letter names *l* and *r* for the indices, because\n",
    "more descriptive names like *left index* make the recursive definition\n",
    "too verbose and harder to read, in my opinion.\n",
    "\n",
    "Function lcs(*l*, *r*) will compute the LCS of the *left* string from\n",
    "index *l* onwards and of the *right* string from index *r* onwards.\n",
    "To obtain the LCS of both strings from the start, we compute lcs(0, 0).\n",
    "\n",
    "The bases cases are when there's nothing more to process in either string,\n",
    "which happens when either index reaches the end of the corresponding string:\n",
    "\n",
    "- if *l* = │*left*│: lcs(*l*, *r*) = ''\n",
    "- if *r* = │*right*│: lcs(*l*, *r*) = ''\n",
    "\n",
    "The recurrence relations remain the same, just written differently.\n",
    "The head of a string is the character at position *l* or *r*.\n",
    "The tail of a string comprises the characters from the next position: *l*+1 or *r*+1.\n",
    "\n",
    "- if *left*[*l*] = *right*[*r*]: lcs(*l*, *r*) = *left*[*l*] + lcs(*l*+1, *r*+1)\n",
    "- otherwise: lcs(*l*, *r*) = longest of lcs(*l*, *r*+1) and lcs(*l*+1, *r*)"
   ]
  },
  {
   "cell_type": "markdown",
   "id": "21",
   "metadata": {},
   "source": [
    "#### Exercise 23.2.3"
   ]
  },
  {
   "cell_type": "markdown",
   "id": "22",
   "metadata": {},
   "source": [
    "Implement the new recursive definition and run it.\n",
    "The run-time should be lower than in Exercise 23.2.1 (with slicing)\n",
    "and higher than in Exercise 23.2.2 (with cache)."
   ]
  },
  {
   "cell_type": "code",
   "execution_count": 6,
   "id": "23",
   "metadata": {},
   "outputs": [],
   "source": [
    "def lcs_indices(left: str, right: str) -> str:\n",
    "    \"\"\"Return the LCS of left and right using indices, not slicing.\"\"\"\n",
    "\n",
    "    def lcs(l: int, r: int) -> str:\n",
    "        \"\"\"Return the LCS of left[l:] and right[r:].\n",
    "\n",
    "        Preconditions: 0 ≤ l ≤ len(left) and 0 ≤ r ≤ len(right)\n",
    "        \"\"\"\n",
    "        pass\n",
    "\n",
    "    return lcs(0, 0)\n",
    "\n",
    "\n",
    "test(lcs_indices, lcs_tests)\n",
    "%timeit lcs_indices(DNA_LEFT, DNA_RIGHT)"
   ]
  },
  {
   "cell_type": "markdown",
   "id": "24",
   "metadata": {},
   "source": [
    "[Answer](../32_Answers/Answers_23_2_03.ipynb)"
   ]
  },
  {
   "cell_type": "markdown",
   "id": "25",
   "metadata": {},
   "source": [
    "### 23.2.4 Top-down with matrix"
   ]
  },
  {
   "cell_type": "markdown",
   "id": "26",
   "metadata": {},
   "source": [
    "Like for the [Fibonacci problem](../23_Dynamic_Programming/23_1_fibonacci.ipynb#23.1.4-With-arrays),\n",
    "we can use arrays instead of hash tables.\n",
    "By changing the inputs of the recursive function from strings to\n",
    "integer indices, the cache can be implemented as a matrix:\n",
    "`cache[l][r]` is the LCS for strings `left[l:]` and `right[r:]`.\n",
    "Since *l* and *r* start at zero and go up to the length of the strings,\n",
    "the matrix has │*left*│ + 1 rows and │*right*│ + 1 columns.\n",
    "\n",
    "To understand how the matrix cells depend on each other, we must look at the\n",
    "recurrence relations. Here they are again, with the irrelevant info left out:\n",
    "\n",
    "- if ...: lcs(*l*, *r*) = ... lcs(*l*+1, *r*+1)\n",
    "- ...: lcs(*l*, *r*) = ... lcs(*l*, *r*+1) and lcs(*l*+1, *r*)\n",
    "\n",
    "From this we can see that `cache[l][r]`, which is lcs(l, r), may depend\n",
    "on `cache[l+1][r+1]` or on `cache[l][r+1]` and `cache[l+1][r]`.\n",
    "The value of the matrix cell at row *l* and column *r*\n",
    "depends on values that are in the next row *l* + 1, or in the same row *l*\n",
    "but in the next column *r* + 1.\n",
    "\n",
    "Here's the DAG of dependencies for inputs 'soho' and 'ohio',\n",
    "shown as it's stored in the matrix. As we go down the rows (*l* increases), we skip letters in the left string;\n",
    "as we go right in the columns (*r* increases), we skip letters in the right\n",
    "string. If the letters at indices *l* and *r* are the same,\n",
    "the algorithm skips that letter in both strings, and so\n",
    "those cells depend on the cells diagonally below: `cache[l+1][r+1]`.\n",
    "\n",
    "If instead the letters are different, the cell depends on two other cells.\n",
    "For example, the value in row 0, column 2,\n",
    "is the LCS of 'soho' (no letters skipped in the left string) and\n",
    "'io' (two letters skipped in the right string).\n",
    "The LCS in that cell is the longest of the LCS in the two cells\n",
    "immediately below and to the right (`cache[l+1][r]` and `cache[l][r+1]`)\n",
    "because 'soho' and 'io' don't start with the same letter.\n",
    "\n",
    "<p id=\"fig-23.2.2\"></p>\n",
    "\n",
    "*[Figure 23.2.2](../33_Figures/Figures_23_2.ipynb#Figure-23.2.2)*\n",
    "\n",
    "![Image 23_2_matrix_down.png](23_2_matrix_down.png)\n",
    "\n",
    "The empty cells are never filled by the top-down algorithm.\n",
    "Which cells are left empty depends on the input strings, but the recursive calls\n",
    "always start in the top left corner (row 0, column 0). Each call\n",
    "either makes one further recursive call to fill the cell diagonally below or\n",
    "makes two recursive calls to fill the cells below and to the right.\n",
    "The cells in the last row and column store the LCS of the base cases:\n",
    "at least one string is empty.\n",
    "\n",
    "Now that you've seen how the top-down algorithm works, implement it."
   ]
  },
  {
   "cell_type": "markdown",
   "id": "27",
   "metadata": {},
   "source": [
    "#### Exercise 23.2.4"
   ]
  },
  {
   "cell_type": "markdown",
   "id": "28",
   "metadata": {},
   "source": [
    "Copy your `lcs` auxiliary function from Exercise 23.2.3 and add a matrix cache.\n",
    "I've initialised the matrix for you with `None`.\n",
    "We can't use the empty string as that's a valid LCS value."
   ]
  },
  {
   "cell_type": "code",
   "execution_count": 7,
   "id": "29",
   "metadata": {},
   "outputs": [],
   "source": [
    "def lcs_topdown_matrix(left: str, right: str) -> str:\n",
    "    \"\"\"Return the LCS of both strings using top-down dynamic programming.\"\"\"\n",
    "\n",
    "    def lcs(l: int, r: int) -> str:\n",
    "        \"\"\"Return the LCS of left[l:] and right[r:].\n",
    "\n",
    "        Preconditions: 0 ≤ l ≤ len(left) and 0 ≤ r ≤ len(right)\n",
    "        \"\"\"\n",
    "        # if lcs(l, r) isn't in cache:\n",
    "            # compute it recursively and store it in cache\n",
    "            # optional: print the cached value\n",
    "        # return the cached lcs(l, r)\n",
    "\n",
    "    cache = []\n",
    "    for row in range(len(left) + 1):  # noqa: B007\n",
    "        cache.append([None] * (len(right) + 1))\n",
    "    return lcs(0, 0)"
   ]
  },
  {
   "cell_type": "markdown",
   "id": "30",
   "metadata": {},
   "source": [
    "If you add a print statement I recommend you only run"
   ]
  },
  {
   "cell_type": "code",
   "execution_count": 8,
   "id": "31",
   "metadata": {},
   "outputs": [],
   "source": [
    "lcs_topdown_matrix(\"soho\", \"ohio\")"
   ]
  },
  {
   "cell_type": "markdown",
   "id": "32",
   "metadata": {},
   "source": [
    "and check the order in which the matrix is filled against Figure 23.2.2\n",
    "to confirm it follows a topological sort.\n",
    "Then comment out or remove the print statement and run the next cell.\n",
    "You should obtain the lowest run-time so far."
   ]
  },
  {
   "cell_type": "code",
   "execution_count": 9,
   "id": "33",
   "metadata": {},
   "outputs": [],
   "source": [
    "test(lcs_topdown_matrix, lcs_tests)\n",
    "%timeit lcs_topdown_matrix(DNA_LEFT, DNA_RIGHT)"
   ]
  },
  {
   "cell_type": "markdown",
   "id": "34",
   "metadata": {},
   "source": [
    "[Hint](../31_Hints/Hints_23_2_04.ipynb)\n",
    "[Answer](../32_Answers/Answers_23_2_04.ipynb)"
   ]
  },
  {
   "cell_type": "markdown",
   "id": "35",
   "metadata": {},
   "source": [
    "### 23.2.5 Bottom-up"
   ]
  },
  {
   "cell_type": "markdown",
   "id": "36",
   "metadata": {},
   "source": [
    "As we've seen above, when describing the top-down approach,\n",
    "each cell in the matrix either depends on\n",
    "\n",
    "- zero cells, if it's a base case (bottom row and right-most column)\n",
    "- one cell diagonally below to the right, if both substrings start with the same letter\n",
    "- or two cells to the right and below, if the substrings start with different letters.\n",
    "\n",
    "The next figure shows the completely filled matrix.\n",
    "The shaded cells are the cells that the top-down algorithm didn't fill because\n",
    "they don't contribute to solving lcs('soho', 'ohio'):\n",
    "there's no path of dependencies from those cells to the top left cell.\n",
    "\n",
    "<p id=\"fig-23.2.3\"></p>\n",
    "\n",
    "*[Figure 23.2.3](../33_Figures/Figures_23_2.ipynb#Figure-23.2.3)*\n",
    "\n",
    "![Image 23_2_matrix_up.png](23_2_matrix_up.png)\n",
    "\n",
    "In the bottom-up approach we need to fill the matrix so that when a cell is\n",
    "computed, the cells it depends on are already filled.\n",
    "Since a cell depends on cells below and to the right, this means we must\n",
    "fill the cache from the last to the first row and, within each row,\n",
    "from the last to the first column."
   ]
  },
  {
   "cell_type": "code",
   "execution_count": 10,
   "id": "37",
   "metadata": {},
   "outputs": [
    {
     "name": "stdout",
     "output_type": "stream",
     "text": [
      "Testing lcs_bottomup...\n",
      "['oho', 'ho', 'o', 'o', '']\n",
      "['oho', 'ho', 'o', 'o', '']\n",
      "['ho', 'ho', 'o', 'o', '']\n",
      "['o', 'o', 'o', 'o', '']\n",
      "['', '', '', '', '']\n",
      "Tests finished: 6 passed (100%), 0 failed.\n",
      "16.3 μs ± 12 ns per loop (mean ± std. dev. of 7 runs, 100,000 loops each)\n"
     ]
    }
   ],
   "source": [
    "def lcs_bottomup(left: str, right: str) -> str:\n",
    "    \"\"\"Return the LCS of both strings using bottom-up dynamic programming.\"\"\"\n",
    "    # create cache as in top-down approach\n",
    "    cache = []\n",
    "    for row in range(len(left) + 1):  # noqa: B007\n",
    "        cache.append([None] * (len(right) + 1))\n",
    "\n",
    "    # compute LCS bottom-up\n",
    "    for l in range(len(left), -1, -1):  # last to first row\n",
    "        for r in range(len(right), -1, -1):  # last to first column\n",
    "            if l == len(left) or r == len(right):\n",
    "                cache[l][r] = \"\"\n",
    "            elif left[l] == right[r]:\n",
    "                cache[l][r] = left[l] + cache[l + 1][r + 1]\n",
    "            else:\n",
    "                skip_left = cache[l + 1][r]\n",
    "                skip_right = cache[l][r + 1]\n",
    "                if len(skip_left) > len(skip_right):\n",
    "                    cache[l][r] = skip_left\n",
    "                else:\n",
    "                    cache[l][r] = skip_right\n",
    "\n",
    "    # change the next line to see the contents of the matrix for other tests\n",
    "    if left == \"soho\" and right == \"ohio\":\n",
    "        for l in range(len(left) + 1):\n",
    "            print(cache[l])\n",
    "\n",
    "    # solution is in top left corner of matrix (l = r = 0)\n",
    "    return cache[0][0]\n",
    "\n",
    "\n",
    "test(lcs_bottomup, lcs_tests)\n",
    "%timeit lcs_bottomup(DNA_LEFT, DNA_RIGHT)"
   ]
  },
  {
   "cell_type": "markdown",
   "id": "38",
   "metadata": {},
   "source": [
    "### 23.2.6 Complexity and run-time"
   ]
  },
  {
   "cell_type": "markdown",
   "id": "39",
   "metadata": {},
   "source": [
    "The complexity of dynamic programming is the number of entries in the cache\n",
    "multiplied by the complexity of computing each entry.\n",
    "The bottom-up approach always computes all entries, while top-down only\n",
    "computes those necessary to solve the given problem instance.\n",
    "In the worst case, the top-down recursive calls also fill the whole cache,\n",
    "so the bottom-up complexity is the same as the top-down worst-case complexity.\n",
    "\n",
    "For the LCS problem, the matrix has (│*left*│ + 1)×(│*right*│ + 1) cells\n",
    "but for complexity purposes we can ignore the +1.\n",
    "Each cell takes constant time to compute if it's the longest of the\n",
    "strings in the cells below and to the right, or it takes linear time if it's\n",
    "the concatenation of the head with the string in the cell diagonally below.\n",
    "\n",
    "The LCS of two strings can never be longer than the shortest string,\n",
    "because it only includes common characters.\n",
    "So the concatenation takes Θ(min(│*left*│, │*right*│)) in the worst case.\n",
    "\n",
    "To sum up, the LCS problem can be solved with dynamic programming in\n",
    "Θ(min(│*left*│, │*right*│) × │*left*│ × │*right*│) time.\n",
    "\n",
    "When I ran the various solutions I obtained roughly these times\n",
    "for the LCS of `DNA_LEFT` and `DNA_RIGHT`:\n",
    "\n",
    "- recursive: 140&nbsp;µs with slicing and 80&nbsp;µs without\n",
    "- top-down: 55&nbsp;µs with slicing and 30&nbsp;µs without\n",
    "- bottom-up: 47&nbsp;µs.\n",
    "\n",
    "Like for the 'soho' and 'ohio' example, the bottom-up approach solves all\n",
    "7×22&nbsp;subproblems of lcs('AAAAAA', 'GATTACAGATTACAGATTACA'),\n",
    "whereas the top-down approach only solves the necessary ones, so it is faster\n",
    "in spite of the overhead of recursive calls."
   ]
  },
  {
   "cell_type": "markdown",
   "id": "40",
   "metadata": {},
   "source": [
    "<div class=\"alert alert-warning\">\n",
    "<strong>Note:</strong> When solving a problem with dynamic programming, you may have to implement both\n",
    "the top-down and bottom-up approaches to see which is faster for your typical\n",
    "problem instances.\n",
    "</div>"
   ]
  },
  {
   "cell_type": "markdown",
   "id": "41",
   "metadata": {},
   "source": [
    "⟵ [Previous section](23_1_fibonacci.ipynb) | [Up](23-introduction.ipynb) | [Next section](23_3_knapsack.ipynb) ⟶"
   ]
  }
 ],
 "metadata": {
  "kernelspec": {
   "display_name": "Python 3",
   "language": "python",
   "name": "python3"
  },
  "language_info": {
   "codemirror_mode": {
    "name": "ipython",
    "version": 3
   },
   "file_extension": ".py",
   "mimetype": "text/x-python",
   "name": "python",
   "nbconvert_exporter": "python",
   "pygments_lexer": "ipython3",
   "version": "3.12.10"
  }
 },
 "nbformat": 4,
 "nbformat_minor": 5
}
