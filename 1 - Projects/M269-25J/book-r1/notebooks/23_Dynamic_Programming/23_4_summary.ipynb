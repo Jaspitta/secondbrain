{
 "cells": [
  {
   "cell_type": "markdown",
   "id": "0",
   "metadata": {},
   "source": [
    "## 23.4 Summary"
   ]
  },
  {
   "cell_type": "markdown",
   "id": "1",
   "metadata": {},
   "source": [
    "**Dynamic programming** is a technique that makes a space–time tradeoff to more\n",
    "efficiently solve problems that have **overlapping subproblems**:\n",
    "problem instances that depend on a common subproblem\n",
    "(a smaller problem instance).\n",
    "A pure recursive algorithm solves each common subproblem\n",
    "(and the subproblems it depends on) several times.\n",
    "Dynamic programming uses a **cache**: a map of subproblems to their solutions.\n",
    "When a subproblem is first solved, its solution is stored in the cache\n",
    "so that it can be subsequently looked up instead of having to be recomputed.\n",
    "\n",
    "**Top-down** dynamic programming stores the solutions to subproblems as they're\n",
    "recursively solved. At the end, the cache only contains the solutions to those\n",
    "subproblems that are needed to solve the initial problem instance\n",
    "given as input.\n",
    "\n",
    "**Bottom-up** dynamic programming iteratively solves all subproblems,\n",
    "from the smallest to the largest (the initial problem instance).\n",
    "\n",
    "If we represent subproblems and their dependencies as a directed acyclic graph,\n",
    "then the common subproblems are those with two or more out-neighbours.\n",
    "Dynamic programming fills the cache in a topological order of the graph,\n",
    "so that each subproblem P is solved by using the already cached solutions to\n",
    "the subproblems that P depends on.\n",
    "\n",
    "The worst-case complexity of top-down and bottom-up dynamic programming is\n",
    "the maximal size of the cache (number of subproblems) multiplied by\n",
    "the worst-case complexity to solve one subproblem."
   ]
  },
  {
   "cell_type": "markdown",
   "id": "2",
   "metadata": {},
   "source": [
    "⟵ [Previous section](23_3_knapsack.ipynb) | [Up](23-introduction.ipynb) | [Next section](../24_Practice-3/24-introduction.ipynb) ⟶"
   ]
  }
 ],
 "metadata": {
  "kernelspec": {
   "display_name": "Python 3",
   "language": "python",
   "name": "python3"
  },
  "language_info": {
   "codemirror_mode": {
    "name": "ipython",
    "version": 3
   },
   "file_extension": ".py",
   "mimetype": "text/x-python",
   "name": "python",
   "nbconvert_exporter": "python",
   "pygments_lexer": "ipython3",
   "version": "3.12.10"
  }
 },
 "nbformat": 4,
 "nbformat_minor": 5
}
