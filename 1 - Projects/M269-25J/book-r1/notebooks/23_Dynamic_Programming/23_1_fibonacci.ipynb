{
 "cells": [
  {
   "cell_type": "markdown",
   "id": "0",
   "metadata": {},
   "source": [
    "## 23.1 Fibonacci"
   ]
  },
  {
   "cell_type": "markdown",
   "id": "1",
   "metadata": {},
   "source": [
    "The infinite integer sequence 1, 1, 2, 3, 5, 8, 13, 21, ... is known as\n",
    "the Fibonacci sequence. The first two numbers are 1 and thereafter\n",
    "each number is the sum of the previous two.\n",
    "(You can search online for the history and relevance of this sequence,\n",
    "if you're interested.)\n",
    "\n",
    "This section uses the problem of computing the *n*-th Fibonacci number,\n",
    "for *n* ≥ 1, to explain the need for dynamic programming and how it works.\n",
    "We'll use these tests:"
   ]
  },
  {
   "cell_type": "code",
   "execution_count": 1,
   "id": "2",
   "metadata": {},
   "outputs": [
    {
     "name": "stdout",
     "output_type": "stream",
     "text": [
      "OK: the test table passed the automatic checks.\n"
     ]
    }
   ],
   "source": [
    "from algoesup import check_tests, test\n",
    "\n",
    "fibonacci_tests = [\n",
    "    # case,     n,  n-th Fibonacci number\n",
    "    ('n = 1',   1,  1),\n",
    "    ('n = 2',   2,  1),\n",
    "    ('n = 6',   6,  8),\n",
    "    ('n = 10', 10, 55)\n",
    "]\n",
    "\n",
    "check_tests(fibonacci_tests, [int, int])"
   ]
  },
  {
   "cell_type": "markdown",
   "id": "3",
   "metadata": {},
   "source": [
    "### 23.1.1 Recursive"
   ]
  },
  {
   "cell_type": "markdown",
   "id": "4",
   "metadata": {},
   "source": [
    "To develop a dynamic programming algorithm we must start with a\n",
    "recursive definition of the problem at hand, which is:\n",
    "\n",
    "fibonacci(1) = 1\\\n",
    "fibonacci(2) = 1\\\n",
    "fibonacci(*n*) = fibonacci(*n*−1) + fibonacci(*n*−2) for *n* > 2\n",
    "\n",
    "The recursive algorithm follows the definition directly."
   ]
  },
  {
   "cell_type": "code",
   "execution_count": 2,
   "id": "5",
   "metadata": {},
   "outputs": [
    {
     "name": "stdout",
     "output_type": "stream",
     "text": [
      "Testing fibonacci_rec...\n",
      "Tests finished: 4 passed (100%), 0 failed.\n"
     ]
    }
   ],
   "source": [
    "def fibonacci_rec(n: int) -> int:\n",
    "    \"\"\"Return the n-th Fibonacci number, computed recursively.\n",
    "\n",
    "    Preconditions: n > 0\n",
    "    \"\"\"\n",
    "    if n == 1 or n == 2:\n",
    "        return 1\n",
    "    else:\n",
    "        return fibonacci_rec(n - 1) + fibonacci_rec(n - 2)\n",
    "\n",
    "\n",
    "test(fibonacci_rec, fibonacci_tests)"
   ]
  },
  {
   "cell_type": "markdown",
   "id": "6",
   "metadata": {},
   "source": [
    "Unfortunately this algorithm quickly gets very slow."
   ]
  },
  {
   "cell_type": "code",
   "execution_count": 3,
   "id": "7",
   "metadata": {},
   "outputs": [
    {
     "name": "stdout",
     "output_type": "stream",
     "text": [
      "480 μs ± 142 ns per loop (mean ± std. dev. of 3 runs, 1,000 loops each)\n",
      "776 μs ± 108 ns per loop (mean ± std. dev. of 3 runs, 1,000 loops each)\n",
      "1.26 ms ± 646 ns per loop (mean ± std. dev. of 3 runs, 1,000 loops each)\n",
      "2.03 ms ± 1.17 μs per loop (mean ± std. dev. of 3 runs, 100 loops each)\n",
      "3.29 ms ± 1.65 μs per loop (mean ± std. dev. of 3 runs, 100 loops each)\n"
     ]
    }
   ],
   "source": [
    "for n in range(20, 25):\n",
    "    %timeit -r 3 fibonacci_rec(n)"
   ]
  },
  {
   "cell_type": "markdown",
   "id": "8",
   "metadata": {},
   "source": [
    "Computing the twentieth Fibonacci number should only require a few additions,\n",
    "done in nanoseconds, and yet it's taking hundreds of microseconds!\n",
    "The run-time is almost doubling every time *n* increases.\n",
    "This indicates exponential complexity in the value of *n*.\n",
    "\n",
    "We can confirm this with a\n",
    "[recursive definition of the run-time](../13_Divide/13_1_decrease_one.ipynb#13.1.1-Factorial).\n",
    "Computing the first two Fibonacci numbers takes constant time.\n",
    "Every other value takes the time to compute the previous two values\n",
    "and some further constant time for adding them together.\n",
    "\n",
    "T(1) = Θ(1)\\\n",
    "T(2) = Θ(1)\\\n",
    "T(*n*) = T(*n*−1) + T(*n*−2) + Θ(1) for *n* > 2\n",
    "\n",
    "Computing fibonacci(*n*–1) involves computing fibonacci(*n*–2),\n",
    "so the former takes longer to compute than the latter: T(*n*–1) > T(*n*–2).\n",
    "This means that T(*n*) > 2×T(*n*–2):\n",
    "the run-time for *n* is more than double that for *n*−2,\n",
    "as the above run-times confirm: the 24th number takes more than double the time\n",
    "to compute the 22nd, which in turn takes more than double the time for the 20th.\n",
    "If a fixed increment of the input (here, by two)\n",
    "more than doubles the run-time, this means the complexity is exponential.\n",
    "\n",
    "The exponential run-time is due to the overlapping subproblems.\n",
    "(A subproblem is a smaller instance of the same problem.)\n",
    "A diagram shows this best. Here are the recursive calls for *n* = 6,\n",
    "abbreviating the function name to 'fib' to avoid cluttering the diagram.\n",
    "\n",
    "<p id=\"fig-23.1.1\"></p>\n",
    "\n",
    "*[Figure 23.1.1](../33_Figures/Figures_23_1.ipynb#Figure-23.1.1)*\n",
    "\n",
    "![Image 23_1_recursive.png](23_1_recursive.png)\n",
    "\n",
    "The nodes for *n* = 3 and *n* = 4&nbsp;have a common child: *n* = 2.\n",
    "Hence the two problem instances overlap:\n",
    "they require solving a common smaller instance.\n",
    "More generally, problem instances *n* and *n*–1 overlap because they\n",
    "have common subproblem *n*–2. The diagram shows that\n",
    "the algorithm is repeatedly solving the common subproblems.\n",
    "For example, the base case *n* = 2 is computed five times!"
   ]
  },
  {
   "cell_type": "markdown",
   "id": "9",
   "metadata": {},
   "source": [
    "### 23.1.2 Top-down"
   ]
  },
  {
   "cell_type": "markdown",
   "id": "10",
   "metadata": {},
   "source": [
    "A simple way to reduce the run-time is to store the result for each subproblem\n",
    "in a **cache**. When the solution of a subproblem is computed,\n",
    "it's put in the cache so that subsequent calls for the same subproblem\n",
    "simply look up the solution instead of recomputing it.\n",
    "\n",
    "The cache is a data structure that maps subproblems to solutions and\n",
    "so any implementation of the [map ADT](../08_Unordered/08_1_map.ipynb#8.1-Maps) will do, e.g. a hash table\n",
    "where the keys are the subproblems and\n",
    "the values are the corresponding solutions.\n",
    "Once a subproblem–solution pair is added to the cache,\n",
    "it's never removed or modified.\n",
    "So the cache only has to support two ADT operations:\n",
    "membership (is a subproblem already in the cache?) and\n",
    "lookup (what's the solution for this subproblem?).\n",
    "\n",
    "Adding a cache to the recursive algorithm can be done in a systematic way.\n",
    "Here's the recursive function again, without repeating the docstring:\n",
    "```python\n",
    "def fibonacci(n: int) -> int:\n",
    "    if n == 1 or n == 2:\n",
    "        return 1\n",
    "    else:\n",
    "        return fibonacci(n - 1) + fibonacci(n - 2)\n",
    "```\n",
    "Now the version with a cache.\n",
    "First we check if the subproblem is in the cache. If it isn't,\n",
    "we follow the recursive algorithm and store the computed solution in the cache.\n",
    "Finally we return the cached solution, which was already there or\n",
    "has just been computed.\n",
    "```python\n",
    "def fibonacci(n: int, cache: dict) -> int:\n",
    "    if n not in cache:\n",
    "        if n == 1 or n == 2:\n",
    "            cache[n] = 1\n",
    "        else:\n",
    "            cache[n] = fibonacci(n - 1, cache) + fibonacci(n - 2, cache)\n",
    "    return cache[n]\n",
    "```\n",
    "This function has a second parameter, so we can't reuse the tests written above.\n",
    "Moreover, it allows the caller to initially pass any dictionary,\n",
    "which could lead to wrong results.\n",
    "\n",
    "A better version hides the cache from the user:\n",
    "the main function creates an empty cache and\n",
    "an inner recursive function uses it.\n",
    "(Remember that inner functions can access the variables of outer functions.)"
   ]
  },
  {
   "cell_type": "code",
   "execution_count": 4,
   "id": "11",
   "metadata": {},
   "outputs": [
    {
     "name": "stdout",
     "output_type": "stream",
     "text": [
      "Testing fibonacci_td...\n",
      "Tests finished: 4 passed (100%), 0 failed.\n"
     ]
    }
   ],
   "source": [
    "def fibonacci_td(n: int) -> int:  # noqa: D103\n",
    "    def fib(n: int) -> int:\n",
    "        \"\"\"Compute and cache the value if necessary. Return the cached value.\"\"\"\n",
    "        if n not in cache:\n",
    "            if n == 1 or n == 2:\n",
    "                cache[n] = 1\n",
    "            else:\n",
    "                cache[n] = fib(n - 1) + fib(n - 2)\n",
    "        return cache[n]\n",
    "\n",
    "    cache = dict()\n",
    "    return fib(n)\n",
    "\n",
    "\n",
    "test(fibonacci_td, fibonacci_tests)"
   ]
  },
  {
   "cell_type": "markdown",
   "id": "12",
   "metadata": {},
   "source": [
    "In the expression `fib(n-1) + fib(n-2)`, the call `fib(n-2)`\n",
    "takes constant time because it just retrieves the value from the cache:\n",
    "the call `fib(n-1)` already computed `fib(n-2)`.\n",
    "So the second call to `fib(n-2)` makes no further recursive calls.\n",
    "The call tree of the inner function for *n* = 6 becomes:\n",
    "\n",
    "<p id=\"fig-23.1.2\"></p>\n",
    "\n",
    "*[Figure 23.1.2](../33_Figures/Figures_23_1.ipynb#Figure-23.1.2)*\n",
    "\n",
    "![Image 23_1_top_down.png](23_1_top_down.png)\n",
    "\n",
    "The recursive complexity definition becomes\n",
    "\n",
    "T(0) = Θ(1)\\\n",
    "T(1) = Θ(1)\\\n",
    "T(*n*) = T(*n*−1) + Θ(1)\n",
    "\n",
    "As explained in [Section&nbsp;13.1.1](../13_Divide/13_1_decrease_one.ipynb#13.1.1-Factorial),\n",
    "this results in T(*n*) = Θ(*n*). Caching the subproblems' solutions\n",
    "lowered the complexity from exponential to linear!\n",
    "Doubling the value of *n* confirms that\n",
    "the run-times more or less double too."
   ]
  },
  {
   "cell_type": "code",
   "execution_count": 5,
   "id": "13",
   "metadata": {},
   "outputs": [
    {
     "name": "stdout",
     "output_type": "stream",
     "text": [
      "979 ns ± 0.04 ns per loop (mean ± std. dev. of 3 runs, 1,000,000 loops each)\n",
      "1.97 μs ± 2.63 ns per loop (mean ± std. dev. of 3 runs, 1,000,000 loops each)\n",
      "3.95 μs ± 9.36 ns per loop (mean ± std. dev. of 3 runs, 100,000 loops each)\n",
      "7.97 μs ± 6.49 ns per loop (mean ± std. dev. of 3 runs, 100,000 loops each)\n"
     ]
    }
   ],
   "source": [
    "for n in (8, 16, 32, 64):\n",
    "    %timeit -r 3 fibonacci_td(n)"
   ]
  },
  {
   "cell_type": "markdown",
   "id": "14",
   "metadata": {},
   "source": [
    "The technique of caching the solutions as they're recursively computed\n",
    "is known as **top-down dynamic programming**. It starts\n",
    "with the given input (represented by the root node of the call tree) and then\n",
    "recursively solves smaller instances until it reaches a leaf of the call tree,\n",
    "which is either a base case or an already solved (i.e. cached) subproblem."
   ]
  },
  {
   "cell_type": "markdown",
   "id": "15",
   "metadata": {},
   "source": [
    "<div class=\"alert alert-info\">\n",
    "<strong>Info:</strong> Top-down dynamic programming is also called recursion with memoisation\n",
    "(not memorisation).\n",
    "</div>"
   ]
  },
  {
   "cell_type": "markdown",
   "id": "16",
   "metadata": {},
   "source": [
    "### 23.1.3 Bottom-up"
   ]
  },
  {
   "cell_type": "markdown",
   "id": "17",
   "metadata": {},
   "source": [
    "Let's look again at the full call tree in Figure 23.1.1: it shows for each\n",
    "problem node the two children subproblems it depends on.\n",
    "The leaves are the base cases (*n* = 1 and *n* = 2), which depend on nothing.\n",
    "\n",
    "We can solve the problem instances bottom-up:\n",
    "knowing the solutions for the base cases\n",
    "allows us to compute the solution for their parent (*n* = 3), which in turn\n",
    "allows us to compute the solution for its parent (*n* = 4) and so on until\n",
    "we reach the root.\n",
    "\n",
    "This can be done iteratively, by adding to the cache the solutions to\n",
    "*n* = 1, 2, 3, ..., in this order.\n",
    "This ensures that when computing the *n*-th Fibonacci number,\n",
    "the two previous numbers are already in the cache."
   ]
  },
  {
   "cell_type": "code",
   "execution_count": 6,
   "id": "18",
   "metadata": {},
   "outputs": [
    {
     "name": "stdout",
     "output_type": "stream",
     "text": [
      "Testing fibonacci_bu...\n",
      "Tests finished: 4 passed (100%), 0 failed.\n"
     ]
    }
   ],
   "source": [
    "def fibonacci_bu(n: int) -> int:  # noqa: D103\n",
    "    # create cache with base cases fibonacci(1) = fibonacci(2) = 1\n",
    "    cache = {1: 1, 2: 1}\n",
    "    for number in range(3, n + 1):\n",
    "        cache[number] = cache[number - 1] + cache[number - 2]\n",
    "    return cache[n]\n",
    "\n",
    "\n",
    "test(fibonacci_bu, fibonacci_tests)"
   ]
  },
  {
   "cell_type": "markdown",
   "id": "19",
   "metadata": {},
   "source": [
    "The complexity is linear because the loop executes *n*−2 additions.\n",
    "Even though the complexity is the same as for top-down dynamic programming,\n",
    "this version runs faster, because there are no recursive calls and\n",
    "no checks for cached solutions (since they are computed in the order needed)."
   ]
  },
  {
   "cell_type": "code",
   "execution_count": 7,
   "id": "20",
   "metadata": {},
   "outputs": [
    {
     "name": "stdout",
     "output_type": "stream",
     "text": [
      "447 ns ± 0.196 ns per loop (mean ± std. dev. of 3 runs, 1,000,000 loops each)\n",
      "970 ns ± 0.919 ns per loop (mean ± std. dev. of 3 runs, 1,000,000 loops each)\n",
      "2.03 μs ± 5.34 ns per loop (mean ± std. dev. of 3 runs, 100,000 loops each)\n",
      "4.09 μs ± 5.03 ns per loop (mean ± std. dev. of 3 runs, 100,000 loops each)\n"
     ]
    }
   ],
   "source": [
    "for n in (8, 16, 32, 64):\n",
    "    %timeit -r 3 fibonacci_bu(n)"
   ]
  },
  {
   "cell_type": "markdown",
   "id": "21",
   "metadata": {},
   "source": [
    "Iteratively filling the cache from the smaller to the larger problem instances,\n",
    "so that each one is solved using already cached solutions, is known as\n",
    "**bottom-up dynamic programming**."
   ]
  },
  {
   "cell_type": "markdown",
   "id": "22",
   "metadata": {},
   "source": [
    "### 23.1.4 With arrays"
   ]
  },
  {
   "cell_type": "markdown",
   "id": "23",
   "metadata": {},
   "source": [
    "To calculate the *n*-th Fibonacci number, we must solve the problem instances\n",
    "1, 2, 3, ..., *n*. Since these are natural numbers,\n",
    "we can use them to index an array of solutions,\n",
    "instead of hashing them to retrieve solutions from a dictionary.\n",
    "\n",
    "The array must be initialised with impossible solutions, so that\n",
    "it's easy to check whether a solution has been cached or not.\n",
    "Fibonacci numbers are always positive, so the cache can be initialised\n",
    "with zeros or with negative numbers. I choose zeros.\n",
    "\n",
    "I only have to change two lines of code to replace the dictionary in\n",
    "the top-down approach with a Python list, used as a static array."
   ]
  },
  {
   "cell_type": "code",
   "execution_count": 8,
   "id": "24",
   "metadata": {},
   "outputs": [
    {
     "name": "stdout",
     "output_type": "stream",
     "text": [
      "Testing fibonacci_tda...\n",
      "Tests finished: 4 passed (100%), 0 failed.\n"
     ]
    }
   ],
   "source": [
    "def fibonacci_tda(n: int) -> int:  # noqa: D103\n",
    "    def fib(n: int) -> int:\n",
    "        if cache[n] == 0:  # changed\n",
    "            if n == 1 or n == 2:\n",
    "                cache[n] = 1\n",
    "            else:\n",
    "                cache[n] = fib(n - 1) + fib(n - 2)\n",
    "        return cache[n]\n",
    "\n",
    "    cache = [0] * (n + 1)  # changed\n",
    "    return fib(n)\n",
    "\n",
    "\n",
    "test(fibonacci_tda, fibonacci_tests)"
   ]
  },
  {
   "cell_type": "markdown",
   "id": "25",
   "metadata": {},
   "source": [
    "And now the bottom-up approach. I only change the cache creation."
   ]
  },
  {
   "cell_type": "code",
   "execution_count": 9,
   "id": "26",
   "metadata": {},
   "outputs": [
    {
     "name": "stdout",
     "output_type": "stream",
     "text": [
      "Testing fibonacci_bua...\n",
      "Tests finished: 4 passed (100%), 0 failed.\n"
     ]
    }
   ],
   "source": [
    "def fibonacci_bua(n: int) -> int:  # noqa: D103\n",
    "    cache = [0] * (n + 1)\n",
    "    cache[1] = 1  # first base case\n",
    "    if n > 1:\n",
    "        cache[2] = 1  # second base case\n",
    "    for number in range(3, n + 1):\n",
    "        cache[number] = cache[number - 1] + cache[number - 2]\n",
    "    return cache[n]\n",
    "\n",
    "\n",
    "test(fibonacci_bua, fibonacci_tests)"
   ]
  },
  {
   "cell_type": "markdown",
   "id": "27",
   "metadata": {},
   "source": [
    "Dynamic programming usually uses arrays, which require less memory\n",
    "than maps based on hash tables.\n",
    "\n",
    "Let's compare the run-times of all approaches.\n",
    "I only double the input four times (instead of the default ten times) because\n",
    "the recursive version takes too long (exponential time)."
   ]
  },
  {
   "cell_type": "code",
   "execution_count": 10,
   "id": "28",
   "metadata": {},
   "outputs": [
    {
     "name": "stdout",
     "output_type": "stream",
     "text": [
      "Inputs generated by int_value\n",
      "\n",
      "Input value   fibonacci_rec    fibonacci_td   fibonacci_tda    fibonacci_bu   fibonacci_bua \n",
      "          1            46.3           259.5           278.4           141.8           167.8 ns\n",
      "          2            50.6           263.4           282.8           143.0           171.4 ns\n",
      "          4           179.1           509.9           480.7           239.0           244.0 ns\n",
      "          8          1483.4           993.8           880.5           467.8           395.2 ns\n",
      "         16         70093.6          1972.4          1640.2           976.1           708.5 ns"
     ]
    },
    {
     "data": {
      "image/png": "[encoded data removed]",
      "text/plain": [
       "<Figure size 640x480 with 1 Axes>"
      ]
     },
     "metadata": {},
     "output_type": "display_data"
    }
   ],
   "source": [
    "from algoesup import time_functions_int\n",
    "\n",
    "time_functions_int(\n",
    "    [fibonacci_rec, fibonacci_td, fibonacci_tda, fibonacci_bu, fibonacci_bua], double=4\n",
    ")"
   ]
  },
  {
   "cell_type": "markdown",
   "id": "29",
   "metadata": {},
   "source": [
    "As expected, an array-based cache leads to shorter times than a dictionary-based cache.\n",
    "The recursive version doesn't set up a cache and so it is initially the fastest,\n",
    "but the space-time tradeoff of the other versions quickly pays off,\n",
    "as the recursive version gets slower and slower."
   ]
  },
  {
   "cell_type": "markdown",
   "id": "30",
   "metadata": {},
   "source": [
    "### 23.1.5 A graph perspective"
   ]
  },
  {
   "cell_type": "markdown",
   "id": "31",
   "metadata": {},
   "source": [
    "An alternative way of understanding dynamic programming is to look at\n",
    "the dependency graph of the problem instances.\n",
    "The nodes are the instances to be solved.\n",
    "If instance A must be solved before instance B, we draw an edge from A to B.\n",
    "The directed graph is acyclic because an instance can't depend on itself:\n",
    "that would make it impossible to solve.\n",
    "\n",
    "Here's the DAG (directed acyclic graph) for *n* = 6.\n",
    "It's the recursive call tree with repeated nodes merged.\n",
    "\n",
    "<p id=\"fig-23.1.3\"></p>\n",
    "\n",
    "*[Figure 23.1.3](../33_Figures/Figures_23_1.ipynb#Figure-23.1.3)*\n",
    "\n",
    "![Image 23_1_dag.png](23_1_dag.png)\n",
    "\n",
    "The DAG shows that each instance (except the base cases) depends on\n",
    "two smaller ones: every node, except for the base cases, has two in-neighbours.\n",
    "\n",
    "Most nodes also have two out-neighbours, i.e. the solution of\n",
    "one instance is needed for two further instances.\n",
    "If there are edges from A to B and from A to C,\n",
    "this means instances B and C overlap because they have subproblem A in common.\n",
    "Hence we need dynamic programming, because\n",
    "recursion without a cache would repeatedly compute the common subproblems."
   ]
  },
  {
   "cell_type": "markdown",
   "id": "32",
   "metadata": {},
   "source": [
    "<div class=\"alert alert-warning\">\n",
    "<strong>Note:</strong> If the DAG of the problem instances and their dependencies shows that\n",
    "instances overlap, i.e. there are nodes with a common in-neighbour, then\n",
    "use dynamic programming.\n",
    "</div>"
   ]
  },
  {
   "cell_type": "markdown",
   "id": "33",
   "metadata": {},
   "source": [
    "Looking at the DAG, we can see that both recursive versions\n",
    "(with and without cache) follow the edges backwards:\n",
    "they start with the right-most node (the input instance, here *n* = 6) and\n",
    "for each node do the two recursive calls corresponding to its in-neighbours.\n",
    "\n",
    "Bottom-up dynamic programming instead starts with\n",
    "the left-most nodes (the base cases) and\n",
    "uses the subproblems solved so far to solve the next subproblem.\n",
    "It follows the dependency edges to solve increasingly larger subproblems\n",
    "until it reaches the input value (right-most node).\n",
    "\n",
    "Dynamic programming caches the solution for a problem instance after solving it.\n",
    "This means its subproblems have been solved, and thus cached, beforehand.\n",
    "In other words, a subproblem P is cached after all subproblems that P depends on\n",
    "were cached. This means the cache is filled in topological order."
   ]
  },
  {
   "cell_type": "markdown",
   "id": "34",
   "metadata": {},
   "source": [
    "<div class=\"alert alert-warning\">\n",
    "<strong>Note:</strong> Dynamic programming fills the cache (i.e. solves the subproblems) according to\n",
    "the topological sort of the instance dependency DAG.\n",
    "</div>"
   ]
  },
  {
   "cell_type": "markdown",
   "id": "35",
   "metadata": {},
   "source": [
    "The DAG is just a conceptual device to understand subproblem dependencies and\n",
    "in which order the subproblems are added to the cache.\n",
    "As you've seen in this section, dynamic programming algorithms fill the cache\n",
    "without creating a graph data structure and computing a topological sort."
   ]
  },
  {
   "cell_type": "markdown",
   "id": "36",
   "metadata": {},
   "source": [
    "⟵ [Previous section](23-introduction.ipynb) | [Up](23-introduction.ipynb) | [Next section](23_2_lcs.ipynb) ⟶"
   ]
  }
 ],
 "metadata": {
  "kernelspec": {
   "display_name": "Python 3",
   "language": "python",
   "name": "python3"
  },
  "language_info": {
   "codemirror_mode": {
    "name": "ipython",
    "version": 3
   },
   "file_extension": ".py",
   "mimetype": "text/x-python",
   "name": "python",
   "nbconvert_exporter": "python",
   "pygments_lexer": "ipython3",
   "version": "3.12.10"
  }
 },
 "nbformat": 4,
 "nbformat_minor": 5
}
