{
 "cells": [
  {
   "cell_type": "markdown",
   "id": "0",
   "metadata": {},
   "source": [
    "## 23.3 Knapsack"
   ]
  },
  {
   "cell_type": "markdown",
   "id": "1",
   "metadata": {},
   "source": [
    "The 0/1 knapsack problem asks for the most valuable subset of items that\n",
    "doesn't exceed a given weight limit. The problem can be solved with\n",
    "[exhaustive search](../11_Search/11_5_subsets.ipynb#Exercise-11.5.2) or\n",
    "[backtracking](../22_Backtracking/22_7_knapsack.ipynb#22.7-Back-to-the-knapsack) but not with\n",
    "[greed](../18_Greed/18_1_scheduling.ipynb#Exercise-18.1.1).\n",
    "Let's now consider dynamic programming.\n",
    "\n",
    "Bottom-up dynamic programming is usually implemented with for-loops\n",
    "iterating over an index-based cache.\n",
    "Sets can't be indexed, but sequences can.\n",
    "So let's slightly modify the formulation of the problem,\n",
    "using sequences and subsequences instead of sets and subsets.\n",
    "\n",
    "**Function**: knapsack\\\n",
    "**Inputs**: *items*, a sequence of pairs of integers; *capacity*, an integer\\\n",
    "**Preconditions**:\n",
    "for each (*weight*, *value*) in *items*, *weight* > 0 and *value* > 0;\n",
    "*capacity* ≥ 0\\\n",
    "**Output**: *packed*, a sequence of pairs of integers\\\n",
    "**Postconditions**:\n",
    "\n",
    "- *packed* is a subsequence of *items*\n",
    "- the sum of the weights in *packed* doesn’t exceed *capacity*\n",
    "- the sum of the values in *packed* is largest among all sequences satisfying the previous two conditions\n",
    "\n",
    "Here are the necessary constants and functions and some tests."
   ]
  },
  {
   "cell_type": "code",
   "execution_count": 1,
   "id": "2",
   "metadata": {},
   "outputs": [
    {
     "name": "stdout",
     "output_type": "stream",
     "text": [
      "OK: the test table passed the automatic checks.\n"
     ]
    }
   ],
   "source": [
    "from algoesup import check_tests, test\n",
    "\n",
    "WEIGHT = 0\n",
    "VALUE = 1\n",
    "\n",
    "\n",
    "def weight(items: list) -> int:\n",
    "    \"\"\"Return the total weight of the items.\"\"\"\n",
    "    total = 0\n",
    "    for item in items:\n",
    "        total = total + item[WEIGHT]\n",
    "    return total\n",
    "\n",
    "\n",
    "def value(items: list) -> int:\n",
    "    \"\"\"Return the total value of the items.\"\"\"\n",
    "    total = 0\n",
    "    for item in items:\n",
    "        total = total + item[VALUE]\n",
    "    return total\n",
    "\n",
    "\n",
    "ITEMS = [(2, 3), (2, 4), (3, 4), (4, 20), (5, 30)]\n",
    "knapsack_tests = [\n",
    "    # case,         items,  capacity,   knapsack\n",
    "    ('none fits',   ITEMS,  1,          []),\n",
    "    ('all fit',     ITEMS,  16,         ITEMS),\n",
    "    ('one is best', ITEMS,  6,          [(5, 30)])\n",
    "]\n",
    "\n",
    "check_tests(knapsack_tests, [list, int, list])"
   ]
  },
  {
   "cell_type": "markdown",
   "id": "3",
   "metadata": {},
   "source": [
    "### 23.3.1 Recursive"
   ]
  },
  {
   "cell_type": "markdown",
   "id": "4",
   "metadata": {},
   "source": [
    "We must first recursively define the function we want to compute,\n",
    "namely knapsack(*items*, *capacity*).\n",
    "\n",
    "As usual, we start with the bases cases.\n",
    "The two smallest possible inputs correspond to no items and no capacity.\n",
    "In both cases nothing can be put in the knapsack:\n",
    "the output is the empty sequence.\n",
    "\n",
    "- if *items* = (): knapsack(*items*, *capacity*) = ()\n",
    "- if *capacity* = 0: knapsack(*items*, *capacity*) = ()\n",
    "\n",
    "If *items* isn't the empty sequence, we can separate it into\n",
    "a head (the next item to consider) and a tail (the other items).\n",
    "Like for the backtracking solution, there are only two cases:\n",
    "either the head item fits in the knapsack or it doesn't. If the latter, i.e.\n",
    "the item weighs more than the remaining capacity, it must be skipped.\n",
    "\n",
    "- if weight(head(*items*)) > *capacity*:\n",
    "  knapsack(*items*, *capacity*) = knapsack(tail(*items*), *capacity*)\n",
    "\n",
    "If the item fits, we don't know whether we should put it in the knapsack or not,\n",
    "so we try both options and choose the one that leads to\n",
    "the most valuable knapsack.\n",
    "To make the final recurrence relation less verbose and easier to read,\n",
    "I use *item* as an abbreviation of head(*items*).\n",
    "\n",
    "- otherwise: knapsack(*items*, *capacity*) = most valuable of\n",
    "  - knapsack(tail(*items*), *capacity*) and\n",
    "  - (*item*) + knapsack(tail(*items*), *capacity* − weight(*item*))\n",
    "\n",
    "The + operator is again the concatenation operator.\n",
    "If the item is put in the knapsack, the remaining capacity is decreased.\n",
    "Here's my implementation."
   ]
  },
  {
   "cell_type": "code",
   "execution_count": 2,
   "id": "5",
   "metadata": {},
   "outputs": [
    {
     "name": "stdout",
     "output_type": "stream",
     "text": [
      "Testing knapsack...\n",
      "Tests finished: 3 passed (100%), 0 failed.\n"
     ]
    }
   ],
   "source": [
    "def knapsack(items: list, capacity: int) -> list:\n",
    "    \"\"\"Return a highest-value subsequence of items that weigh at most capacity.\n",
    "\n",
    "    Preconditions:\n",
    "    - items is a list of weight-value pairs, both positive integers\n",
    "    - capacity ≥ 0\n",
    "    \"\"\"\n",
    "    if len(items) == 0 or capacity == 0:\n",
    "        return []\n",
    "    else:\n",
    "        item = items[0]  # head\n",
    "        rest = items[1:]  # tail\n",
    "        skip = knapsack(rest, capacity)\n",
    "        # if item doesn't fit, we must skip it\n",
    "        if item[WEIGHT] > capacity:\n",
    "            return skip\n",
    "        # otherwise take it if that leads to a higher value\n",
    "        else:\n",
    "            take = [item] + knapsack(rest, capacity - item[WEIGHT])\n",
    "            if value(skip) > value(take):\n",
    "                return skip\n",
    "            else:\n",
    "                return take\n",
    "\n",
    "\n",
    "test(knapsack, knapsack_tests)"
   ]
  },
  {
   "cell_type": "markdown",
   "id": "6",
   "metadata": {},
   "source": [
    "The next step, in preparation for dynamic programming, is to use indices."
   ]
  },
  {
   "cell_type": "markdown",
   "id": "7",
   "metadata": {},
   "source": [
    "#### Exercise 23.3.1"
   ]
  },
  {
   "cell_type": "markdown",
   "id": "8",
   "metadata": {},
   "source": [
    "Copy the code above into the auxiliary function below and modify it so that\n",
    "it uses the `index` argument instead of repeatedly slicing the `items` list.\n",
    "Add the call to the auxiliary function."
   ]
  },
  {
   "cell_type": "code",
   "execution_count": 3,
   "id": "9",
   "metadata": {},
   "outputs": [],
   "source": [
    "def knapsack_indices(items: list, capacity: int) -> list:  # noqa: D103\n",
    "    # docstring not repeated\n",
    "\n",
    "    def knapsack(index: int, capacity: int) -> list:\n",
    "        \"\"\"Return a subsequence of items[index:].\n",
    "\n",
    "        Preconditions: 0 ≤ index ≤ len(items) and 0 ≤ capacity\n",
    "        Postconditions: the output fits the capacity and maximises the value\n",
    "        \"\"\"\n",
    "        pass\n",
    "\n",
    "    pass  # call the auxiliary function and return the solution\n",
    "\n",
    "\n",
    "test(knapsack_indices, knapsack_tests)"
   ]
  },
  {
   "cell_type": "markdown",
   "id": "10",
   "metadata": {},
   "source": [
    "[Hint](../31_Hints/Hints_23_3_01.ipynb)\n",
    "[Answer](../32_Answers/Answers_23_3_01.ipynb)"
   ]
  },
  {
   "cell_type": "markdown",
   "id": "11",
   "metadata": {},
   "source": [
    "### 23.3.2 Common subproblems"
   ]
  },
  {
   "cell_type": "markdown",
   "id": "12",
   "metadata": {},
   "source": [
    "Like for the Fibonacci and LCS problems, the next step is to think whether there\n",
    "are common subproblems that would benefit from caching the solutions.\n",
    "\n",
    "Is it possible for the recursive function\n",
    "`knapsack(items, capacity)` or `knapsack(index, capacity)` to be called\n",
    "several times with the exact same input values?\n",
    "(Hint: consider the list of items `[(1, 3), (1, 4), (3, 4), (4, 20)]`.)\n",
    "\n",
    "___\n",
    "\n",
    "In the LCS problem, skipping first the left head and then the right head\n",
    "or vice versa leads to the same subproblem. Here we can have the same issue.\n",
    "If two items have the same weight, like the two items with weight 1 in the hint,\n",
    "then whether we skip the first and take the second or\n",
    "take the first and skip the second, we will arrive at the same subproblem,\n",
    "with the same remaining items and capacity.\n",
    "For the example in the hint, the recursive algorithm twice solves the subproblem\n",
    "`knapsack([(3, 4), (4, 20)], capacity - 1)`,\n",
    "or `knapsack(2, capacity - 1)` in the version with indices.\n",
    "This means that any further subproblem will also be solved at least twice.\n",
    "Twice the item with weight 3 will be taken to solve\n",
    "`knapsack([(4, 20)], capacity - 4)` and twice that item will be skipped to\n",
    "solve `knapsack([(4, 20)], capacity - 1)`, and so on.\n",
    "If we draw the DAG we can easily see how many paths lead to each subproblem."
   ]
  },
  {
   "cell_type": "markdown",
   "id": "13",
   "metadata": {},
   "source": [
    "#### Exercise 23.3.2"
   ]
  },
  {
   "cell_type": "markdown",
   "id": "14",
   "metadata": {},
   "source": [
    "1. Draw the DAG of the subproblems of\n",
    "   knapsack([(1, 3), (1, 4), (3, 4), (4, 20)], 4).\n",
    "\n",
    "To make the DAG less tedious to write, I suggest you omit 'knapsack' and\n",
    "just write a list–capacity pair or, even shorter, an index–capacity pair.\n",
    "Here are three of the DAG's nodes:\n",
    "\n",
    "Subproblem | Shorthand | Notes\n",
    "-|-|-\n",
    "([(1, 3), (1, 4), (3, 4), (4, 20)], 4) | (0, 4) | no item processed, capacity is 4\n",
    "([(1, 4), (3, 4), (4, 20)], 4) | (1, 4) | first item skipped, capacity still 4\n",
    "([(1, 4), (3, 4), (4, 20)], 3) | (1, 3) | first item added, reducing capacity by 1\n",
    "\n",
    "2. After drawing the DAG, find which subproblems are solved more than once."
   ]
  },
  {
   "cell_type": "markdown",
   "id": "15",
   "metadata": {},
   "source": [
    "_Write your answer here._"
   ]
  },
  {
   "cell_type": "markdown",
   "id": "16",
   "metadata": {},
   "source": [
    "[Hint](../31_Hints/Hints_23_3_02.ipynb)\n",
    "[Answer](../32_Answers/Answers_23_3_02.ipynb)"
   ]
  },
  {
   "cell_type": "markdown",
   "id": "17",
   "metadata": {},
   "source": [
    "### 23.3.3 Top-down and bottom-up"
   ]
  },
  {
   "cell_type": "markdown",
   "id": "18",
   "metadata": {},
   "source": [
    "The next step is to think about the cache, which is the same for the\n",
    "top-down and bottom-up approaches. As always, the cache stores the solution of\n",
    "each problem instance. For this problem, the cache stores lists of items,\n",
    "namely the most valuable knapsack for each problem instance, which is\n",
    "a pair of integers: the current index and the remaining capacity.\n",
    "\n",
    "What's the best way to implement the cache?\n",
    "With a hash table (Python dictionary), an array or a matrix?\n",
    "If it's a hash table, what are the keys? If it's an array or matrix,\n",
    "what do the indices represent and how many are there,\n",
    "i.e. what is the size of the array or matrix?\n",
    "\n",
    "___\n",
    "\n",
    "Like the LCS problem, this one has two inputs that are natural numbers and\n",
    "can be used as indices to look up the solution in a matrix:\n",
    "`cache[i][c]` is the solution for instance knapsack(*i*, *c*), i.e. it's\n",
    "the most valuable subsequence of `items[i:]` that doesn't exceed weight `c`.\n",
    "\n",
    "The row index goes from 0 to │*items*│ and is the index of the current item.\n",
    "The column index goes from 0 to *capacity* and indicates the remaining capacity.\n",
    "\n",
    "I could instead use columns for item indices and rows for capacities,\n",
    "but I find `cache[i][c]` more intuitive than `cache[c][i]` because\n",
    "in the former the matrix indices follow the same order as the problem inputs."
   ]
  },
  {
   "cell_type": "markdown",
   "id": "19",
   "metadata": {},
   "source": [
    "#### Exercise 23.3.3"
   ]
  },
  {
   "cell_type": "markdown",
   "id": "20",
   "metadata": {},
   "source": [
    "Copy your code for Exercise 23.3.1 and modify it so that\n",
    "it creates and uses a cache in a top-down fashion."
   ]
  },
  {
   "cell_type": "code",
   "execution_count": 4,
   "id": "21",
   "metadata": {},
   "outputs": [],
   "source": [
    "def knapsack_topdown(items: list, capacity: int) -> list:  # noqa: D103\n",
    "    def knapsack(index: int, capacity: int) -> list:\n",
    "        \"\"\"Return a subsequence of items[index:].\n",
    "\n",
    "        Preconditions: 0 ≤ index ≤ len(items) and 0 ≤ capacity\n",
    "        Postconditions: the output fits the capacity and maximises the value\n",
    "        \"\"\"\n",
    "        pass\n",
    "\n",
    "    pass  # create an empty cache and call the auxiliary function"
   ]
  },
  {
   "cell_type": "markdown",
   "id": "22",
   "metadata": {},
   "source": [
    "If you add a print statement to trace how the cache is filled, run"
   ]
  },
  {
   "cell_type": "code",
   "execution_count": 5,
   "id": "23",
   "metadata": {},
   "outputs": [],
   "source": [
    "knapsack_topdown([(1, 3), (1, 4), (3, 4), (4, 20)], 4)"
   ]
  },
  {
   "cell_type": "markdown",
   "id": "24",
   "metadata": {},
   "source": [
    "and check the caching follows a topological sort of the DAG for\n",
    "[Exercise 23.3.2](../32_Answers/Answers_23_3_02.ipynb).\n",
    "\n",
    "Afterwards, uncomment your print statement before running all tests."
   ]
  },
  {
   "cell_type": "code",
   "execution_count": 6,
   "id": "25",
   "metadata": {},
   "outputs": [],
   "source": [
    "test(knapsack_topdown, knapsack_tests)"
   ]
  },
  {
   "cell_type": "markdown",
   "id": "26",
   "metadata": {},
   "source": [
    "[Hint](../31_Hints/Hints_23_3_03.ipynb)\n",
    "[Answer](../32_Answers/Answers_23_3_03.ipynb)\n",
    "\n",
    "The next step is to think in which order to fill the cache for the\n",
    "bottom-up approach. Here again are the recurrence relations,\n",
    "with the parts that don't relate to subproblem dependencies omitted:\n",
    "\n",
    "- if ...:\n",
    "  knapsack(*items*, *capacity*) = knapsack(tail(*items*), *capacity*)\n",
    "- otherwise: knapsack(*items*, *capacity*) = ... of\n",
    "  - knapsack(tail(*items*), *capacity*) and\n",
    "  - ... + knapsack(tail(*items*), *capacity* − weight(*item*))\n",
    "\n",
    "If we convert the above to matrix cells, which cells does `cache[i][c]`\n",
    "possibly depend on? (Hint: reformulate the recurrence relations using indices.)\n",
    "\n",
    "___\n",
    "\n",
    "The recurrence relations (and the code) tell us that knapsack(*i*, *c*)\n",
    "depends on knapsack(*i* + 1, *c*) and knapsack(*i* + 1, *c* − *w*),\n",
    "where *w* is the weight of *items*[*i*].\n",
    "This means that each matrix cell depends on cells in the next row and\n",
    "in columns to the left (lower-capacity value).\n",
    "\n",
    "Therefore, in which order should the rows of the matrix be filled?\n",
    "And in which order should the columns be filled?\n",
    "\n",
    "___\n",
    "\n",
    "The rows must be filled from last to first. As for the columns,\n",
    "they must be filled first to last."
   ]
  },
  {
   "cell_type": "markdown",
   "id": "27",
   "metadata": {},
   "source": [
    "#### Exercise 23.3.4"
   ]
  },
  {
   "cell_type": "markdown",
   "id": "28",
   "metadata": {},
   "source": [
    "Copy your top-down dynamic programming approach to the next cell and modify it\n",
    "so that it fills the cache iteratively."
   ]
  },
  {
   "cell_type": "code",
   "execution_count": 7,
   "id": "29",
   "metadata": {},
   "outputs": [],
   "source": [
    "def knapsack_bottomup(items: list, capacity: int) -> list:  # noqa: D103\n",
    "    # create the cache\n",
    "    # for each row from last to first:\n",
    "        # for each column:\n",
    "            # compute cache[row][column]\n",
    "    pass # return the cell with the solution for items and capacity\n",
    "\n",
    "test(knapsack_bottomup, knapsack_tests)"
   ]
  },
  {
   "cell_type": "markdown",
   "id": "30",
   "metadata": {},
   "source": [
    "[Hint](../31_Hints/Hints_23_3_04.ipynb)\n",
    "[Answer](../32_Answers/Answers_23_3_04.ipynb)\n",
    "\n",
    "If you haven't attempted the exercises,\n",
    "I suggest you copy my solutions to this notebook,\n",
    "so that they are next to each other.\n",
    "That way you will see that the recursive, top-down and bottom-up\n",
    "algorithms are mostly the same, and that\n",
    "each one can be systematically derived from the previous one."
   ]
  },
  {
   "cell_type": "markdown",
   "id": "31",
   "metadata": {},
   "source": [
    "### 23.3.4 Complexity"
   ]
  },
  {
   "cell_type": "markdown",
   "id": "32",
   "metadata": {},
   "source": [
    "As always, the worst-case top-down and bottom-up complexities are the same:\n",
    "the matrix size multiplied by the worst-case complexity of filling each cell.\n",
    "\n",
    "What's the size of the matrix, in terms of │*items*│ and *capacity*?\n",
    "What's the worst-case complexity of filling each cell?\n",
    "(Hint: the reasoning is similar to the LCS problem.)\n",
    "\n",
    "___\n",
    "\n",
    "The matrix has (│*items*│ + 1) × (*capacity* + 1) cells.\n",
    "In the worst case, a cell requires\n",
    "\n",
    "- concatenating the head item with the best knapsack for the tail and remaining capacity\n",
    "- comparing the values of two knapsacks (with and without the item).\n",
    "\n",
    "A knapsack can never have more items than the input list, so the worst-case\n",
    "complexity for computing the value of a cell is Θ(│*items*│).\n",
    "The overall worst-case complexity is\n",
    "(│*items*│ + 1) × (*capacity* + 1) × Θ(│*items*│) = Θ(│*items*│² × *capacity*).\n",
    "\n",
    "This is usually much better than the exponential complexity for generating\n",
    "and testing all subsequences of *items*. However, as the capacity approaches\n",
    "2ⁿ, with *n* = │*items*│, the dynamic approach may not be much faster.\n",
    "For example, if we have ten items to put in a container with 1000 kg capacity,\n",
    "then the cache has over ten thousand cells. Filling them all in the bottom-up\n",
    "approach may take longer than generating the $2^{10} = 1024$ subsets of\n",
    "ten items."
   ]
  },
  {
   "cell_type": "markdown",
   "id": "33",
   "metadata": {},
   "source": [
    "⟵ [Previous section](23_2_lcs.ipynb) | [Up](23-introduction.ipynb) | [Next section](23_4_summary.ipynb) ⟶"
   ]
  }
 ],
 "metadata": {
  "kernelspec": {
   "display_name": "Python 3",
   "language": "python",
   "name": "python3"
  },
  "language_info": {
   "codemirror_mode": {
    "name": "ipython",
    "version": 3
   },
   "file_extension": ".py",
   "mimetype": "text/x-python",
   "name": "python",
   "nbconvert_exporter": "python",
   "pygments_lexer": "ipython3",
   "version": "3.12.10"
  }
 },
 "nbformat": 4,
 "nbformat_minor": 5
}
