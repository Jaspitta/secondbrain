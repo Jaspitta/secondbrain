{
 "cells": [
  {
   "cell_type": "markdown",
   "id": "0",
   "metadata": {},
   "source": [
    "## 22.8 Summary"
   ]
  },
  {
   "cell_type": "markdown",
   "id": "1",
   "metadata": {},
   "source": [
    "Backtracking is a search technique that is usually much more efficient than\n",
    "exhaustive search because it only generates a fraction of all candidates.\n",
    "\n",
    "In M269, we apply backtracking only to constraint satisfaction and\n",
    "optimisation problems on sequences of non-duplicate items or subsets of items.\n",
    "This includes some problems on strings and on paths in a grid or graph.\n",
    "\n",
    "Backtracking starts with an empty candidate sequence or set and\n",
    "extends it one item at a time. In M269, we only solve problems where\n",
    "the possible extensions are known in advance.\n",
    "If extending a candidate with a particular item cannot lead to a solution,\n",
    "or a better solution, then the algorithm goes back and tries a different item or\n",
    "a different candidate.\n",
    "\n",
    "At the core of backtracking is a recursive pre-order traversal of the tree of\n",
    "all candidates and their yet unexplored extensions.\n",
    "From the root to the leaves, items are taken from the extensions and\n",
    "added to the candidate.\n",
    "The leaves have the **complete candidates**: they can't be further extended\n",
    "because there are no extensions left.\n",
    "The other nodes have the **partial candidates**, which can still be extended.\n",
    "There are two core traversals, for generating permutations and subsets.\n",
    "\n",
    "Besides the traversal, a backtracking algorithm does the following:\n",
    "\n",
    "1. Check if it's worth extending the candidate with a chosen item.\n",
    "   This check is the key ingredient to prune the search space and\n",
    "   to turn an exhaustive traversal into a backtracking algorithm.\n",
    "1. Check if a candidate is a solution.\n",
    "1. For optimisation problems, compute the value of each solution found and\n",
    "  update the current best solution as better ones are found.\n",
    "\n",
    "The first check covers the **local constraints** of the problem,\n",
    "and the second check the **global constraints**.\n",
    "The first check prunes the search space if\n",
    "extending the candidate breaks the local constraints or\n",
    "worsens the candidate's value: it gets larger in a minimisation problem or\n",
    "smaller in a maximisation problem.\n",
    "\n",
    "For some problems on subsets, the search space can be further pruned by\n",
    "sorting in advance the items so that when one can't extend a candidate,\n",
    "neither can any of the subsequent items.\n",
    "\n",
    "Backtracking can be applied in a systematic way.\n",
    "First think about what kind of problem it is,\n",
    "what the items, candidates and extensions represent,\n",
    "what the global and local constraints are, and how to prune the search space.\n",
    "Then modify the applicable code template\n",
    "listed in [Section&nbsp;25.2](../25_TMA03-1/25_2_backtracking.ipynb)."
   ]
  },
  {
   "cell_type": "markdown",
   "id": "2",
   "metadata": {},
   "source": [
    "⟵ [Previous section](22_7_knapsack.ipynb) | [Up](22-introduction.ipynb) | [Next section](../23_Dynamic_Programming/23-introduction.ipynb) ⟶"
   ]
  }
 ],
 "metadata": {
  "kernelspec": {
   "display_name": "Python 3",
   "language": "python",
   "name": "python3"
  },
  "language_info": {
   "codemirror_mode": {
    "name": "ipython",
    "version": 3
   },
   "file_extension": ".py",
   "mimetype": "text/x-python",
   "name": "python",
   "nbconvert_exporter": "python",
   "pygments_lexer": "ipython3",
   "version": "3.12.10"
  }
 },
 "nbformat": 4,
 "nbformat_minor": 5
}
