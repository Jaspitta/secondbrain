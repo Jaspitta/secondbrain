{
 "cells": [
  {
   "cell_type": "markdown",
   "id": "0",
   "metadata": {},
   "source": [
    "## 22.1 Generate sequences"
   ]
  },
  {
   "cell_type": "markdown",
   "id": "1",
   "metadata": {},
   "source": [
    "Backtracking can solve many\n",
    "[constraint satisfaction and optimisation problems](../11_Search/11_7_summary.ipynb#11.7.1-Problems).\n",
    "In M269 we restrict backtracking to problems on sets of items or\n",
    "on sequences of unique items, i.e. without duplicates.\n",
    "We will first look at constraint satisfaction problems on sequences.\n",
    "Here's one, admittedly contrived.\n",
    "\n",
    "> Given an integer *n* > 2, obtain all permutations of 1, ..., *n* such that:\n",
    ">\n",
    "> - the first and last numbers are at least *n* / 2 apart (range constraint)\n",
    "> - the sequence starts with an odd number and then alternates even and odd numbers (parity constraint).\n",
    "\n",
    "For *n* = 3, only permutations (1, 2, 3) and (3, 2, 1) satisfy both constraints.\n",
    "Permutations like (2, 1, 3) satisfy neither:\n",
    "\n",
    "- the difference between the first and last numbers is 1, but it should be at least 1.5\n",
    "- the permutation starts with an even number and has consecutive odd numbers.\n",
    "\n",
    "I first solve the problem with a recursive exhaustive search,\n",
    "because backtracking is based on that.\n",
    "\n",
    "A [brute-force search](../11_Search/11_7_summary.ipynb) for the solutions\n",
    "to the above problem generates all possible permutations and\n",
    "tests each permutation against both constraints, to decide if it's a solution.\n",
    "\n",
    "To test the range constraint I compute the difference between the first and\n",
    "last numbers with Python function `abs`, introduced in\n",
    "[Section&nbsp;18.2](../18_Greed/18_2_weighted_graph.ipynb#18.2-Weighted-graphs)."
   ]
  },
  {
   "cell_type": "code",
   "execution_count": 1,
   "id": "2",
   "metadata": {},
   "outputs": [],
   "source": [
    "def satisfies_range(numbers: list, n: int) -> bool:\n",
    "    \"\"\"Check if first and last of numbers are at least n/2 apart.\n",
    "\n",
    "    Preconditions:\n",
    "    - numbers is a list of integers; len(numbers) >= 2\n",
    "    - n > 2\n",
    "    \"\"\"\n",
    "    return abs(numbers[0] - numbers[-1]) >= n / 2"
   ]
  },
  {
   "cell_type": "markdown",
   "id": "3",
   "metadata": {},
   "source": [
    "To test the parity constraint, I must verify there's an odd number at index&nbsp;0,\n",
    "an even number at index&nbsp;1, an odd number at index&nbsp;2, etc.\n",
    "The general rule is that each number and its index must have different parities.\n",
    "If there are no numbers (the list is empty) then the constraint is satisfied."
   ]
  },
  {
   "cell_type": "code",
   "execution_count": 2,
   "id": "4",
   "metadata": {},
   "outputs": [],
   "source": [
    "def satisfies_parity(numbers: list) -> bool:\n",
    "    \"\"\"Check if numbers is an odd, even, odd, ... sequence.\n",
    "\n",
    "    Preconditions: numbers is a list of integers\n",
    "    \"\"\"\n",
    "    for index in range(len(numbers)):\n",
    "        if index % 2 == numbers[index] % 2:\n",
    "            return False\n",
    "    return True"
   ]
  },
  {
   "cell_type": "markdown",
   "id": "5",
   "metadata": {},
   "source": [
    "The test for whether a permutation candidate is a solution is simply:"
   ]
  },
  {
   "cell_type": "code",
   "execution_count": 3,
   "id": "6",
   "metadata": {},
   "outputs": [],
   "source": [
    "def is_solution(permutation: list, n: int) -> bool:\n",
    "    \"\"\"Check if permutation satisfies the range and parity constraints.\n",
    "\n",
    "    Preconditions: n > 2 and permutation is a rearrangement of 1, ..., n\n",
    "    \"\"\"\n",
    "    return satisfies_range(permutation, n) and satisfies_parity(permutation)"
   ]
  },
  {
   "cell_type": "markdown",
   "id": "7",
   "metadata": {},
   "source": [
    "Now all that remains is to generate the permutations.\n",
    "This could be done iteratively with Python's `permutations` function\n",
    "introduced in [Section&nbsp;11.4.4](../11_Search/11_4_permutations.ipynb#11.4.4-Code). However,\n",
    "backtracking requires each permutation to be generated one item at a time.\n",
    "(I'll explain why in Section&nbsp;2.)\n",
    "We need a different way of generating permutations."
   ]
  },
  {
   "cell_type": "markdown",
   "id": "8",
   "metadata": {},
   "source": [
    "### 22.1.1 Recursive generation"
   ]
  },
  {
   "cell_type": "markdown",
   "id": "9",
   "metadata": {},
   "source": [
    "To generate *one* permutation with pencil and paper,\n",
    "we could start with an empty sequence and\n",
    "take the numbers one by one, in any order, from the set {1, ..., *n*},\n",
    "appending each one to the sequence. When the set becomes empty,\n",
    "the sequence is a permutation of the numbers from 1 to *n*.\n",
    "\n",
    "To generate *all* permutations, we need to systematically go back to\n",
    "an earlier choice (e.g. when we picked the first number in the permutation) and\n",
    "make a different one.\n",
    "\n",
    "The following tree shows the decision process for *n* = 3.\n",
    "Each node represents the sequence created so far and the available set of\n",
    "choices. Initially the sequence is empty and all numbers are available.\n",
    "The children of a node are all the possible ways of extending the sequence\n",
    "in that node. When the set is empty, the sequence can't be further extended.\n",
    "Nodes with the empty set are the leaves of the tree and\n",
    "contain the permutations.\n",
    "\n",
    "<p id=\"fig-22.1.1\"></p>\n",
    "\n",
    "*[Figure 22.1.1](../33_Figures/Figures_22_1.ipynb#Figure-22.1.1)*\n",
    "\n",
    "![Image 22_1_extensions.png](22_1_extensions.png)\n",
    "\n",
    "The sequences in the leaves are the **complete candidates**,\n",
    "which for this problem are the permutations.\n",
    "The sequences in the other nodes are the  **partial candidates**.\n",
    "Each set in a node is the **extensions** for that node's candidate.\n",
    "A candidate is complete when it has no extensions. A **solution** is\n",
    "a complete or partial candidate that satisfies the constraints.\n",
    "For this problem, all solutions are complete candidates (permutations).\n",
    "Because of the constraints imposed, not every complete candidate is a solution.\n",
    "\n",
    "Since the candidates can be organised in a tree,\n",
    "all we need to generate them is a recursive tree-traversal algorithm.\n",
    "The [algorithms](../16_Trees/16_3_traversals.ipynb#16.3-Traversals) in Chapter&nbsp;16 went through an existing tree.\n",
    "It would be a waste of time and memory to create the whole tree in advance,\n",
    "with the partial candidates and their extensions,\n",
    "as we're only interested in those complete candidates that are solutions.\n",
    "A better approach is to create the nodes as they're visited. In fact,\n",
    "we don't need to create node objects with pointers to children:\n",
    "we only need the content of nodes (the candidates and their extensions),\n",
    "which is much simpler and efficient.\n",
    "\n",
    "The following is a recursive exhaustive search.\n",
    "It generates all partial and complete candidates and their extensions,\n",
    "and tests complete candidates (the permutations) against the constraints.\n",
    "If the permutation is a solution then it's appended to a sequence of solutions,\n",
    "so that we keep the solutions in the order they're found.\n",
    "I've also added some print statements to follow what the search does."
   ]
  },
  {
   "cell_type": "code",
   "execution_count": 4,
   "id": "10",
   "metadata": {},
   "outputs": [],
   "source": [
    "def extend(candidate: list, extensions: set, n: int, solutions: list) -> None:\n",
    "    \"\"\"Add to solutions all valid permutations that extend candidate.\n",
    "\n",
    "    Preconditions: n > 2 and\n",
    "    - candidate is a list of integers between 1 and n\n",
    "    - extensions is a set of integers between 1 and n\n",
    "    - candidate and extensions have no integer in common\n",
    "    \"\"\"\n",
    "    print(\"Visiting node\", candidate, extensions)\n",
    "    if len(extensions) == 0:  # leaf node: candidate is complete\n",
    "        print(\"Testing candidate\", candidate)\n",
    "        if is_solution(candidate, n):\n",
    "            solutions.append(candidate)\n",
    "    else:  # create and visit children nodes\n",
    "        for item in extensions:\n",
    "            extend(candidate + [item], extensions - {item}, n, solutions)"
   ]
  },
  {
   "cell_type": "markdown",
   "id": "11",
   "metadata": {},
   "source": [
    "Like all recursive algorithms, it has a base case (there are no extensions) and\n",
    "a reduction step (remove one item from the extensions)\n",
    "to make progress towards the base case.\n",
    "\n",
    "Being a tree-traversal function, I must call it on the root node:\n",
    "the empty candidate and the full set of extensions.\n",
    "I must also initialise the solutions sequence."
   ]
  },
  {
   "cell_type": "code",
   "execution_count": 5,
   "id": "12",
   "metadata": {},
   "outputs": [
    {
     "name": "stdout",
     "output_type": "stream",
     "text": [
      "Visiting node [] {1, 2, 3}\n",
      "Visiting node [1] {2, 3}\n",
      "Visiting node [1, 2] {3}\n",
      "Visiting node [1, 2, 3] set()\n",
      "Testing candidate [1, 2, 3]\n",
      "Visiting node [1, 3] {2}\n",
      "Visiting node [1, 3, 2] set()\n",
      "Testing candidate [1, 3, 2]\n",
      "Visiting node [2] {1, 3}\n",
      "Visiting node [2, 1] {3}\n",
      "Visiting node [2, 1, 3] set()\n",
      "Testing candidate [2, 1, 3]\n",
      "Visiting node [2, 3] {1}\n",
      "Visiting node [2, 3, 1] set()\n",
      "Testing candidate [2, 3, 1]\n",
      "Visiting node [3] {1, 2}\n",
      "Visiting node [3, 1] {2}\n",
      "Visiting node [3, 1, 2] set()\n",
      "Testing candidate [3, 1, 2]\n",
      "Visiting node [3, 2] {1}\n",
      "Visiting node [3, 2, 1] set()\n",
      "Testing candidate [3, 2, 1]\n",
      "Solutions: [[1, 2, 3], [3, 2, 1]]\n"
     ]
    }
   ],
   "source": [
    "def valid_permutations(n: int) -> list:\n",
    "    \"\"\"Return all valid permutations of 1, ..., n in the order generated.\"\"\"\n",
    "    candidate = []\n",
    "    extensions = set(range(1, n + 1))  # {1, ..., n}\n",
    "    solutions = []\n",
    "    extend(candidate, extensions, n, solutions)\n",
    "    return solutions\n",
    "\n",
    "\n",
    "print(\"Solutions:\", valid_permutations(3))"
   ]
  },
  {
   "cell_type": "markdown",
   "id": "13",
   "metadata": {},
   "source": [
    "As you can see, the algorithm tests all 3! = 6 permutations of numbers 1 to 3,\n",
    "but only two of them are solutions.\n",
    "\n",
    "If you follow the nodes visited with your finger on the tree diagram, you see\n",
    "that the algorithm is doing a pre-order traversal of the tree.\n",
    "After visiting a leaf and testing the complete candidate in it,\n",
    "the algorithm 'unwinds' (because leaves have no children) to\n",
    "the last node with yet unvisited subtrees and traverses the next subtree.\n",
    "\n",
    "For example, if you look at the printed output and at the tree diagram,\n",
    "after producing permutation `[1, 3, 2]`,\n",
    "there are no further subtrees to explore for partial candidate `[1]`.\n",
    "The execution of the algorithm is back in the for-loop of the call on\n",
    "the root node `extend([], {1,2,3}, 3, solutions)` and\n",
    "goes into the next iteration, with `item` being 2.\n",
    "The next recursive call is `extend([2], {1, 3}, 3, solutions)`,\n",
    "which starts traversing the middle subtree.\n",
    "\n",
    "At this point you may be rightly thinking that this\n",
    "recursive brute-force search is less efficient than an iterative one, because\n",
    "it also generates and visits all partial candidates as\n",
    "the initially empty candidate is extended one item at a time.\n",
    "For *n* = 3, there are 10 partial and only 6 complete candidates.\n",
    "\n",
    "One advantage of the incremental generation approach is that it can also solve\n",
    "problems where the solution sequences don't have all items,\n",
    "i.e. where some partial candidates are solutions too."
   ]
  },
  {
   "cell_type": "markdown",
   "id": "14",
   "metadata": {},
   "source": [
    "### 22.1.2 Accept partial candidates"
   ]
  },
  {
   "cell_type": "markdown",
   "id": "15",
   "metadata": {},
   "source": [
    "Let's change the problem so that solutions can be sequences with only some of\n",
    "the numbers from 1 to *n*, as long as they satisfy both constraints.\n",
    "All permutations satisfying the range and parity constraints are\n",
    "still solutions, but shorter sequences may be solutions too.\n",
    "For example, for *n* = 4,\n",
    "(1, 2, 3, 4) is the only permutation that is a solution, but\n",
    "sequences (1, 2, 3) and (3, 2, 1) are solutions too: they each have\n",
    "a difference of at least 4 / 2 = 2 between the first and last numbers\n",
    "and they alternate odd and even numbers.\n",
    "\n",
    "To solve this problem I must make two changes.\n",
    "First, the tree traversal must check every candidate, not just\n",
    "the complete candidates. (I don't repeat the docstring and print statements.)"
   ]
  },
  {
   "cell_type": "code",
   "execution_count": 6,
   "id": "16",
   "metadata": {},
   "outputs": [],
   "source": [
    "def extend(candidate: list, extensions: set, n: int, solutions: list) -> None:  # noqa: D103\n",
    "    if is_solution(candidate, n):\n",
    "        solutions.append(candidate)\n",
    "    for item in extensions:\n",
    "        extend(candidate + [item], extensions - {item}, n, solutions)"
   ]
  },
  {
   "cell_type": "markdown",
   "id": "17",
   "metadata": {},
   "source": [
    "The change I made was removing the if-else statement that checked\n",
    "if the candidate is complete. The for-loop won't do anything\n",
    "for complete candidates because they have no extensions.\n",
    "\n",
    "The second change is to the function that tests the range constraint,\n",
    "which requires the sequence to have at least two numbers.\n",
    "Previously, we could assume that as part of the preconditions,\n",
    "because only complete candidates (permutations of *n* > 2) were tested.\n",
    "Now that we test all partial candidates,\n",
    "we must explicitly check they have at least two numbers."
   ]
  },
  {
   "cell_type": "code",
   "execution_count": 7,
   "id": "18",
   "metadata": {},
   "outputs": [],
   "source": [
    "def satisfies_range(numbers: list, n: int) -> bool:\n",
    "    \"\"\"Check if first and last of numbers are at least n/2 apart.\n",
    "\n",
    "    Preconditions: numbers is a list of integers; n > 2\n",
    "    \"\"\"\n",
    "    return len(numbers) > 1 and abs(numbers[0] - numbers[-1]) >= n / 2"
   ]
  },
  {
   "cell_type": "markdown",
   "id": "19",
   "metadata": {},
   "source": [
    "Let's confirm that we now find more sequences for *n* = 4."
   ]
  },
  {
   "cell_type": "code",
   "execution_count": 8,
   "id": "20",
   "metadata": {},
   "outputs": [
    {
     "data": {
      "text/plain": [
       "[[1, 2, 3], [1, 2, 3, 4], [1, 4], [1, 4, 3], [3, 2, 1], [3, 4, 1]]"
      ]
     },
     "execution_count": 8,
     "metadata": {},
     "output_type": "execute_result"
    }
   ],
   "source": [
    "valid_permutations(4)"
   ]
  },
  {
   "cell_type": "markdown",
   "id": "21",
   "metadata": {},
   "source": [
    "To sum up, a constraint satisfaction problem on sequences with unique items\n",
    "can be solved with a brute-force search that generates all candidates in\n",
    "a recursive and incremental way, starting from the empty sequence and\n",
    "extending it by one item at a time.\n",
    "Depending on the problem, all candidates or only the complete ones\n",
    "are tested against the constraints.\n",
    "\n",
    "The next section shows the main advantage of incremental generation:\n",
    "a simple change will make the search much more efficient."
   ]
  },
  {
   "cell_type": "markdown",
   "id": "22",
   "metadata": {},
   "source": [
    "⟵ [Previous section](22-introduction.ipynb) | [Up](22-introduction.ipynb) | [Next section](22_2_pruning.ipynb) ⟶"
   ]
  }
 ],
 "metadata": {
  "kernelspec": {
   "display_name": "Python 3",
   "language": "python",
   "name": "python3"
  },
  "language_info": {
   "codemirror_mode": {
    "name": "ipython",
    "version": 3
   },
   "file_extension": ".py",
   "mimetype": "text/x-python",
   "name": "python",
   "nbconvert_exporter": "python",
   "pygments_lexer": "ipython3",
   "version": "3.12.10"
  }
 },
 "nbformat": 4,
 "nbformat_minor": 5
}
