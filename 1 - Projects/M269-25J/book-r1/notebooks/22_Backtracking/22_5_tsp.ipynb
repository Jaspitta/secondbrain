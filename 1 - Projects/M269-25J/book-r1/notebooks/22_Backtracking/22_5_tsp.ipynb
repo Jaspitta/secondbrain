{
 "cells": [
  {
   "cell_type": "markdown",
   "id": "0",
   "metadata": {},
   "source": [
    "## 22.5 Back to the TSP"
   ]
  },
  {
   "cell_type": "markdown",
   "id": "1",
   "metadata": {},
   "source": [
    "In this section, we solve an optimisation problem with backtracking:\n",
    "the [travelling salesman problem](../18_Greed/18_2_weighted_graph.ipynb#18.2-Weighted-graphs) (TSP).\n",
    "\n",
    "**Function**: tsp\\\n",
    "**Inputs**: *graph*, a weighted undirected graph\\\n",
    "**Preconditions**: *graph* is complete; the nodes are 0, 1, ...;\n",
    "the weights are positive\\\n",
    "**Output**: *shortest*, a sequence of nodes of *graph*\\\n",
    "**Postconditions**:\n",
    "\n",
    "- *shortest* is a tour that starts and ends at node 0\n",
    "- no other tour of *graph* has a lower total weight than *shortest*\n",
    "\n",
    "Real networks seldom have connections between all nodes, but\n",
    "we can model any network as a complete graph by adding the missing edges with\n",
    "infinite weight. This prevents them from being selected for a shortest tour.\n",
    "\n",
    "Here's a graph to test the algorithm. Edges 0–2 and 1–4&nbsp;have infinite weight,\n",
    "to show they're missing in the network being modelled.\n",
    "\n",
    "<p id=\"fig-22.5.1\"></p>\n",
    "\n",
    "*[Figure 22.5.1](../33_Figures/Figures_22_5.ipynb#Figure-22.5.1)*\n",
    "\n",
    "![Image 22_5_tsp.png](22_5_tsp.png)\n",
    "\n",
    "The graph has 4! = 24 tours that start and end at node 0, but\n",
    "only those of finite length exist in the network modelled by the graph:\n",
    "(0, 1, 2, 3, 4, 0), (0, 1, 2, 4, 3, 0), (0, 1, 3, 2, 4, 0), (0, 3, 1, 2, 4, 0)\n",
    "and the reverse sequences. The shortest tours are\n",
    "(0, 3, 1, 2, 4, 0) and (0, 4, 2, 1, 3, 0) with length&nbsp;50."
   ]
  },
  {
   "cell_type": "code",
   "execution_count": 1,
   "id": "2",
   "metadata": {},
   "outputs": [],
   "source": [
    "import math\n",
    "\n",
    "%run -i ../m269_digraph.py     # (un)weighted directed graph classes\n",
    "%run -i ../m269_ungraph.py     # undirected graph classes inherit from directed\n",
    "\n",
    "example = WeightedUndirectedGraph()\n",
    "for node in range(5):\n",
    "    example.add_node(node)\n",
    "example.add_edge(0, 1, 20)\n",
    "example.add_edge(0, 2, math.inf)\n",
    "example.add_edge(0, 3, 10)\n",
    "example.add_edge(0, 4, 5)\n",
    "example.add_edge(1, 2, 10)\n",
    "example.add_edge(1, 3, 5)\n",
    "example.add_edge(1, 4, math.inf)\n",
    "example.add_edge(2, 3, 10)\n",
    "example.add_edge(2, 4, 20)\n",
    "example.add_edge(3, 4, 10)"
   ]
  },
  {
   "cell_type": "markdown",
   "id": "3",
   "metadata": {},
   "source": [
    "Previously, we started with high-level questions about what the items,\n",
    "the candidates and the solutions are,\n",
    "to have a good understanding of the problem before solving it.\n",
    "Another approach is to let the backtracking code template guide the questions."
   ]
  },
  {
   "cell_type": "markdown",
   "id": "4",
   "metadata": {},
   "source": [
    "### 22.5.1 The main function"
   ]
  },
  {
   "cell_type": "markdown",
   "id": "5",
   "metadata": {},
   "source": [
    "The TSP is an optimisation problem on tours, which can be represented\n",
    "as sequences of nodes. So let's start with the main function template\n",
    "for optimisation problems on sequences.\n",
    "```python\n",
    "SOLUTION = 0\n",
    "VALUE = 1\n",
    "\n",
    "def problem(instance: object) -> list:\n",
    "    \"\"\"Return the best solution and its value for the problem instance.\"\"\"\n",
    "    candidate = []\n",
    "    extensions = ...\n",
    "    solution = ...\n",
    "    best = [solution, value(solution)]\n",
    "    extend(candidate, extensions, instance, best)\n",
    "    return best\n",
    "```\n",
    "Let's go through it line by line.\n",
    "\n",
    "The problem is the TSP and the instance is a weighted undirected graph,\n",
    "so the function header becomes:\n",
    "```python\n",
    "def tsp(graph: WeightedUndirectedGraph) -> list:\n",
    "```\n",
    "Usually, the initial candidate is the empty sequence and\n",
    "the initial extensions form a set of items to be added to the sequence,\n",
    "each item occurring at most once in a solution. For the TSP problem\n",
    "that's not true: node 0 occurs at the start and end of each tour.\n",
    "To be able to generate tours, the root candidate must be sequence (0)\n",
    "and the extensions are all the nodes in the graph,\n",
    "so that node 0 can be added a second time to the sequence.\n",
    "```python\n",
    "    candidate = [0]\n",
    "    extensions = graph.nodes()\n",
    "```\n",
    "As for initialising the best solution, I could construct the tour\n",
    "(0, 1, 2, ..., *n*–1, 0) and compute its length.\n",
    "```python\n",
    "    solution = sorted(graph.nodes()) + [0]\n",
    "    best = [solution, value(solution)]  # function value to be written\n",
    "```\n",
    "However, I take the opportunity\n",
    "to show you a trick that works for any optimisation problem on sequences,\n",
    "especially when there's no easy way of constructing a good initial solution.\n",
    "We start with a 'pseudo-solution' (usually the empty sequence) and\n",
    "an infinitely high or low value,\n",
    "depending on whether it's a minimisation or maximisation problem.\n",
    "This guarantees that the first solution found is necessarily better.\n",
    "\n",
    "The TSP is a minimisation problem, so we start with an infinitely high value.\n",
    "```python\n",
    "    solution = []\n",
    "    best = [solution, math.inf]\n",
    "```\n",
    "The problem only asks for the tour, not its length,\n",
    "so the last template line becomes:\n",
    "```python\n",
    "    return best[SOLUTION]\n",
    "```\n",
    "Let's put all this together and make the docstring and variable names less generic."
   ]
  },
  {
   "cell_type": "code",
   "execution_count": 2,
   "id": "6",
   "metadata": {},
   "outputs": [],
   "source": [
    "SOLUTION = 0\n",
    "VALUE = 1\n",
    "\n",
    "\n",
    "def tsp(graph: WeightedUndirectedGraph) -> list:\n",
    "    \"\"\"Return a tour-length pair with shortest length.\n",
    "\n",
    "    Preconditions:\n",
    "    graph is complete, has nodes 0, 1, ..., and positive weights\n",
    "    Postconditions: tour starts and ends at node 0\n",
    "    \"\"\"\n",
    "    path = [0]\n",
    "    nodes = graph.nodes()\n",
    "    solution = []\n",
    "    shortest = [solution, math.inf]\n",
    "    extend(path, nodes, graph, shortest)\n",
    "    return shortest[SOLUTION]"
   ]
  },
  {
   "cell_type": "markdown",
   "id": "7",
   "metadata": {},
   "source": [
    "The backtracking algorithm, implemented by function `extend`,\n",
    "is mostly boilerplate.\n",
    "The problem-specific computations are in the auxiliary functions that\n",
    "compute the value of a candidate and check the constraints,\n",
    "so let's tackle them next."
   ]
  },
  {
   "cell_type": "markdown",
   "id": "8",
   "metadata": {},
   "source": [
    "### 22.5.2 The value function"
   ]
  },
  {
   "cell_type": "markdown",
   "id": "9",
   "metadata": {},
   "source": [
    "For any optimisation problem, we must compute the value of a candidate\n",
    "to know whether it improves on the best solution so far.\n",
    "For the TSP, what is a candidate and what does the value function compute?\n",
    "\n",
    "___\n",
    "\n",
    "A candidate is a sequence of nodes representing a path starting at node 0.\n",
    "The function computes the total weight of the edges between consecutive nodes.\n",
    "The next exercise asks you to implement the value function.\n",
    "Before that, I recommend you uncomment and run the next code line to\n",
    "remind yourself of the available graph methods and their parameters."
   ]
  },
  {
   "cell_type": "code",
   "execution_count": 3,
   "id": "10",
   "metadata": {},
   "outputs": [],
   "source": [
    "# help(WeightedUndirectedGraph)"
   ]
  },
  {
   "cell_type": "markdown",
   "id": "11",
   "metadata": {},
   "source": [
    "#### Exercise 22.5.1"
   ]
  },
  {
   "cell_type": "markdown",
   "id": "12",
   "metadata": {},
   "source": [
    "For this and the following exercises, you're given a code template that\n",
    "you must adapt and complete for the TSP. Adapting the code means to:\n",
    "\n",
    "- replace the generic docstrings and identifiers with problem-specific ones\n",
    "  (you can press F, not Shift-F, in command mode to find and replace text\n",
    "  in the current cell or in all cells)\n",
    "- remove any unnecessary parameters.\n",
    "\n",
    "Adapt and complete the following value function template for the TSP."
   ]
  },
  {
   "cell_type": "code",
   "execution_count": 4,
   "id": "13",
   "metadata": {},
   "outputs": [],
   "source": [
    "def value(candidate: list, instance: object) -> int:\n",
    "    \"\"\"Return the value of the candidate sequence for the problem instance.\"\"\"\n",
    "    pass  # replace with your code\n",
    "\n",
    "\n",
    "value([0, 1, 2, 3, 4, 0], example) == 55"
   ]
  },
  {
   "cell_type": "markdown",
   "id": "14",
   "metadata": {},
   "source": [
    "[Hint](../31_Hints/Hints_22_5_01.ipynb)\n",
    "[Answer](../32_Answers/Answers_22_5_01.ipynb)"
   ]
  },
  {
   "cell_type": "markdown",
   "id": "15",
   "metadata": {},
   "source": [
    "### 22.5.3 Checking the constraints"
   ]
  },
  {
   "cell_type": "markdown",
   "id": "16",
   "metadata": {},
   "source": [
    "Two auxiliary functions check the global and local constraints on candidates.\n",
    "For the TSP, candidates are paths (sequences of nodes) starting at node 0,\n",
    "and solutions are candidates representing tours.\n",
    "The questions to think about are as follows.\n",
    "\n",
    "- Can partial candidates be solutions?\n",
    "\n",
    "___\n",
    "\n",
    "A tour has all the graph's nodes, so solutions must be complete candidates;\n",
    "that is, when there's no further node to add to the sequence.\n",
    "\n",
    "\n",
    "- What are the constraints on a complete candidate for it to be a solution?\n",
    "\n",
    "___\n",
    "\n",
    "The candidate path ends with node 0 and each node has an edge to the next one.\n",
    "\n",
    "\n",
    "- Which constraints are local (can be checked on partial candidates) and\n",
    "  which are global (must be checked on complete candidates)?\n",
    "\n",
    "___\n",
    "\n",
    "The existence of edges between consecutive nodes is a local constraint.\n",
    "The sequence ending with node 0 is a global constraint."
   ]
  },
  {
   "cell_type": "markdown",
   "id": "17",
   "metadata": {},
   "source": [
    "#### Exercise 22.5.2"
   ]
  },
  {
   "cell_type": "markdown",
   "id": "18",
   "metadata": {},
   "source": [
    "Adapt and complete the next code template for the TSP."
   ]
  },
  {
   "cell_type": "code",
   "execution_count": 5,
   "id": "19",
   "metadata": {},
   "outputs": [],
   "source": [
    "def satisfies_global(candidate: list, instance: object) -> bool:\n",
    "    \"\"\"Check if the candidate satisfies the global constraints.\"\"\"\n",
    "    pass  # replace with your code"
   ]
  },
  {
   "cell_type": "markdown",
   "id": "20",
   "metadata": {},
   "source": [
    "[Answer](../32_Answers/Answers_22_5_02.ipynb)\n",
    "\n",
    "[Section&nbsp;22.4.3](../22_Backtracking/22_4_optimising.ipynb#22.4.3-Avoid-worse-candidates) mentions that\n",
    "if extending a candidate worsens its value,\n",
    "then it shouldn't be further extended when it reaches the best value so far.\n",
    "\n",
    "For the TSP, does extending a candidate worsen its value?\n",
    "\n",
    "___\n",
    "\n",
    "The value of a candidate path is its length: the total weights of its edges.\n",
    "The problem definition tells us weights are positive, so extending a path\n",
    "increases its length, which for a minimisation problem is a worse value."
   ]
  },
  {
   "cell_type": "markdown",
   "id": "21",
   "metadata": {},
   "source": [
    "#### Exercise 22.5.3"
   ]
  },
  {
   "cell_type": "markdown",
   "id": "22",
   "metadata": {},
   "source": [
    "Adapt and complete the next code template for the TSP."
   ]
  },
  {
   "cell_type": "code",
   "execution_count": 6,
   "id": "23",
   "metadata": {},
   "outputs": [],
   "source": [
    "def can_extend(item: object, candidate: list, instance: object, best: list) -> bool:\n",
    "    \"\"\"Check if item can extend candidate into a better solution than best.\"\"\"\n",
    "    # replace ... with a check for the local constraints\n",
    "    # use < for a minimisation problem\n",
    "    return ... and value(candidate + [item]) > best[VALUE]"
   ]
  },
  {
   "cell_type": "markdown",
   "id": "24",
   "metadata": {},
   "source": [
    "[Hint](../31_Hints/Hints_22_5_03.ipynb)\n",
    "[Answer](../32_Answers/Answers_22_5_03.ipynb)"
   ]
  },
  {
   "cell_type": "markdown",
   "id": "25",
   "metadata": {},
   "source": [
    "### 22.5.4 The backtracking function"
   ]
  },
  {
   "cell_type": "markdown",
   "id": "26",
   "metadata": {},
   "source": [
    "Now we have all auxiliary functions in place for the backtracking algorithm."
   ]
  },
  {
   "cell_type": "markdown",
   "id": "27",
   "metadata": {},
   "source": [
    "#### Exercise 22.5.4"
   ]
  },
  {
   "cell_type": "markdown",
   "id": "28",
   "metadata": {},
   "source": [
    "Adapt the next code template to the TSP.\n",
    "Don't forget to change the calls to `satisfies_global`, `value` and `can_extend`\n",
    "if you changed their names in the cells above."
   ]
  },
  {
   "cell_type": "code",
   "execution_count": 7,
   "id": "29",
   "metadata": {},
   "outputs": [],
   "source": [
    "def extend(candidate: list, extensions: set, instance: object, best: list) -> None:\n",
    "    \"\"\"Update best if candidate is a better solution, otherwise extend it.\"\"\"\n",
    "    print(\"Visiting node\", candidate, extensions)\n",
    "    # remove the next line if partial candidates can be solutions\n",
    "    if len(extensions) == 0:\n",
    "        if satisfies_global(candidate, instance):\n",
    "            candidate_value = value(candidate, instance)\n",
    "            # in the next line, use < for minimisation problems\n",
    "            if candidate_value > best[VALUE]:\n",
    "                print(\"New best with value\", candidate_value)\n",
    "                best[SOLUTION] = candidate\n",
    "                best[VALUE] = candidate_value\n",
    "    for item in extensions:\n",
    "        if can_extend(item, candidate, instance, best):\n",
    "            extend(candidate + [item], extensions - {item}, instance, best)"
   ]
  },
  {
   "cell_type": "markdown",
   "id": "30",
   "metadata": {},
   "source": [
    "[Answer](../32_Answers/Answers_22_5_04.ipynb)\n",
    "\n",
    "Finally uncomment the next line and run it to check your solution."
   ]
  },
  {
   "cell_type": "code",
   "execution_count": 8,
   "id": "31",
   "metadata": {},
   "outputs": [],
   "source": [
    "# tsp(example) in [ [0,3,1,2,4,0], [0,4,2,1,3,0] ]"
   ]
  },
  {
   "cell_type": "markdown",
   "id": "32",
   "metadata": {},
   "source": [
    "The current algorithm still does much wasted work.\n",
    "It keeps extending paths where the second node 0 appears early on,\n",
    "only to later fail the global constraint test.\n",
    "The next exercise asks you to avoid generating such paths."
   ]
  },
  {
   "cell_type": "markdown",
   "id": "33",
   "metadata": {},
   "source": [
    "<div class=\"alert alert-warning\">\n",
    "<strong>Note:</strong> After applying backtracking, look at the candidates generated and think if\n",
    "there are problem-specific ways of further pruning the search space.\n",
    "</div>"
   ]
  },
  {
   "cell_type": "markdown",
   "id": "34",
   "metadata": {},
   "source": [
    "#### Exercise 22.5.5"
   ]
  },
  {
   "cell_type": "markdown",
   "id": "35",
   "metadata": {},
   "source": [
    "Make a copy of your `extend` function and change it so that a path is extended\n",
    "with node 0 only if it's the last remaining extension.\n",
    "This guarantees that all complete candidates end with node 0 and\n",
    "you can remove the call to the global constraint check.\n",
    "\n",
    "Run the example again to see a substantial reduction in the search space.\n",
    "\n",
    "[Answer](../32_Answers/Answers_22_5_05.ipynb)"
   ]
  },
  {
   "cell_type": "markdown",
   "id": "36",
   "metadata": {},
   "source": [
    "⟵ [Previous section](22_4_optimising.ipynb) | [Up](22-introduction.ipynb) | [Next section](22_6_subsets.ipynb) ⟶"
   ]
  }
 ],
 "metadata": {
  "kernelspec": {
   "display_name": "Python 3",
   "language": "python",
   "name": "python3"
  },
  "language_info": {
   "codemirror_mode": {
    "name": "ipython",
    "version": 3
   },
   "file_extension": ".py",
   "mimetype": "text/x-python",
   "name": "python",
   "nbconvert_exporter": "python",
   "pygments_lexer": "ipython3",
   "version": "3.12.10"
  }
 },
 "nbformat": 4,
 "nbformat_minor": 5
}
