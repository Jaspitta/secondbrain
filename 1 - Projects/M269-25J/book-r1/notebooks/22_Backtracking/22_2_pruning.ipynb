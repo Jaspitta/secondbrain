{
 "cells": [
  {
   "cell_type": "markdown",
   "id": "0",
   "metadata": {},
   "source": [
    "## 22.2 Prune the search space"
   ]
  },
  {
   "cell_type": "markdown",
   "id": "1",
   "metadata": {},
   "source": [
    "Backtracking takes the brute-force search of the previous section\n",
    "and adds a simple but powerful idea:\n",
    "since the candidates are generated incrementally, one item at a time,\n",
    "stop extending a candidate as soon as it's clear it won't lead to a solution.\n",
    "This substantially reduces the number of candidates generated,\n",
    "making backtracking much more efficient than brute-force.\n",
    "\n",
    "Let's see backtracking in action on the problem of the previous section:\n",
    "find all sequences of non-repeated numbers, taken from 1 to *n* > 2, such that\n",
    "\n",
    "1. the first and last numbers are at least *n* / 2 apart (range)\n",
    "2. the numbers are odd, even, odd, even, ... (parity).\n",
    "\n",
    "The sequences don't have to be permutations of 1 to *n*:\n",
    "they can include only some of the *n* numbers.\n",
    "\n",
    "Here again is the code that checks these constraints."
   ]
  },
  {
   "cell_type": "code",
   "execution_count": 1,
   "id": "2",
   "metadata": {},
   "outputs": [],
   "source": [
    "def satisfies_range(candidate: list, n: int) -> bool:\n",
    "    \"\"\"Check if first and last numbers in candidate are at least n/2 apart.\n",
    "\n",
    "    Preconditions: candidate is a list of integers; n > 2\n",
    "    \"\"\"\n",
    "    return len(candidate) > 1 and abs(candidate[0] - candidate[-1]) >= n / 2\n",
    "\n",
    "\n",
    "def satisfies_parity(candidate: list) -> bool:\n",
    "    \"\"\"Check if candidate is an odd, even, odd, ... sequence.\n",
    "\n",
    "    Preconditions: candidate is a list of integers\n",
    "    \"\"\"\n",
    "    for index in range(len(candidate)):\n",
    "        if index % 2 == candidate[index] % 2:\n",
    "            return False\n",
    "    return True"
   ]
  },
  {
   "cell_type": "markdown",
   "id": "3",
   "metadata": {},
   "source": [
    "### 22.2.1 Local and global constraints"
   ]
  },
  {
   "cell_type": "markdown",
   "id": "4",
   "metadata": {},
   "source": [
    "The key insight that enables pruning the search space is that\n",
    "the two constraints for this problem are of different nature.\n",
    "The range constraint involves the first and last numbers of the sequence\n",
    "and therefore can only be checked on the whole sequence:\n",
    "it's a **global constraint**.\n",
    "The second constraint is about the parity of each number,\n",
    "independently of the other numbers: it's a **local constraint**.\n",
    "\n",
    "If a partial candidate P doesn't satisfy a global constraint,\n",
    "an extension of P may satisfy it because of the added items.\n",
    "For example, for *n* = 3\n",
    "the sequence (1, 2) doesn't satisfy the range constraint but (1, 2, 3) does.\n",
    "We therefore must keep extending a candidate that fails a global constraint.\n",
    "\n",
    "However, if partial candidate P doesn't satisfy a local constraint,\n",
    "neither does any candidate C that extends P because\n",
    "the item in P that breaks the local constraint is also in C.\n",
    "For example, if P starts with an even number,\n",
    "or has two consecutive odd numbers, then so does any extension of P.\n",
    "This means that there's no point in extending a partial candidate\n",
    "that violates a local constraint: it won't lead to a solution.\n",
    "\n",
    "If a candidate fails the local constraints, a **backtracking algorithm**\n",
    "goes immediately back (hence its name) to a previous partial candidate\n",
    "and tries a different way to extend it.\n",
    "\n",
    "In terms of tree traversal, if a node has a candidate that fails\n",
    "the local constraints, a backtracking algorithm doesn't traverse the subtree\n",
    "rooted at that node: it instead goes back to the node's parent.\n",
    "From there it starts traversing the next sibling subtree.\n",
    "If there's no sibling, the algorithm backtracks to the grandparent, and so on.\n",
    "\n",
    "The changes to the previous recursive generate-and-test algorithm are minor:\n",
    "I simply add a new base case. If the candidate fails the local constraints,\n",
    "the algorithm returns (backtracks) immediately instead of\n",
    "recursively extending the candidate."
   ]
  },
  {
   "cell_type": "code",
   "execution_count": 2,
   "id": "5",
   "metadata": {},
   "outputs": [],
   "source": [
    "def extend(candidate: list, extensions: set, n: int, solutions: list) -> None:\n",
    "    \"\"\"Add to solutions all valid permutations that extend candidate.\n",
    "\n",
    "    Preconditions: n > 2 and\n",
    "    - candidate is a list of integers between 1 and n\n",
    "    - extensions is a set of integers between 1 and n\n",
    "    - candidate and extensions have no integer in common\n",
    "    \"\"\"\n",
    "    print(\"Visiting node\", candidate, extensions)\n",
    "    # base case 1: backtrack\n",
    "    if not satisfies_parity(candidate):\n",
    "        return\n",
    "    # base case 2: candidate is solution\n",
    "    # local constraint is satisfied, so only check global constraint\n",
    "    if satisfies_range(candidate, n):\n",
    "        solutions.append(candidate)\n",
    "    for item in extensions:\n",
    "        extend(candidate + [item], extensions - {item}, n, solutions)"
   ]
  },
  {
   "cell_type": "markdown",
   "id": "6",
   "metadata": {},
   "source": [
    "The main function remains the same."
   ]
  },
  {
   "cell_type": "code",
   "execution_count": 3,
   "id": "7",
   "metadata": {},
   "outputs": [
    {
     "name": "stdout",
     "output_type": "stream",
     "text": [
      "Visiting node [] {1, 2, 3}\n",
      "Visiting node [1] {2, 3}\n",
      "Visiting node [1, 2] {3}\n",
      "Visiting node [1, 2, 3] set()\n",
      "Visiting node [1, 3] {2}\n",
      "Visiting node [2] {1, 3}\n",
      "Visiting node [3] {1, 2}\n",
      "Visiting node [3, 1] {2}\n",
      "Visiting node [3, 2] {1}\n",
      "Visiting node [3, 2, 1] set()\n",
      "Solutions: [[1, 2, 3], [3, 2, 1]]\n"
     ]
    }
   ],
   "source": [
    "def valid_permutations(n: int) -> list:\n",
    "    \"\"\"Return all valid permutations of 1, ..., n in the order generated.\"\"\"\n",
    "    candidate = []\n",
    "    extensions = set(range(1, n + 1))  # {1, ..., n}\n",
    "    solutions = []\n",
    "    extend(candidate, extensions, n, solutions)\n",
    "    return solutions\n",
    "\n",
    "\n",
    "print(\"Solutions:\", valid_permutations(3))"
   ]
  },
  {
   "cell_type": "markdown",
   "id": "8",
   "metadata": {},
   "source": [
    "Now only 10 of the 16 nodes of the full tree are visited. As you can see,\n",
    "sequences (1, 3), (2) and (3, 1) aren't further extended because\n",
    "they break the parity constraint.\n",
    "\n",
    "As suggested in [Chapter&nbsp;15](../15_TMA02-1/15_1_exhaustive_search.ipynb#15.1.3-Generate),\n",
    "we can further reduce the search space by not even generating those sequences,\n",
    "since they will be rejected."
   ]
  },
  {
   "cell_type": "markdown",
   "id": "9",
   "metadata": {},
   "source": [
    "### 22.2.2 Avoid visits"
   ]
  },
  {
   "cell_type": "markdown",
   "id": "10",
   "metadata": {},
   "source": [
    "The algorithm currently first extends a candidate and then\n",
    "checks whether it should backtrack.\n",
    "Since the local constraint applies to each number individually,\n",
    "we can check the parity of the chosen extension number\n",
    "*before* appending it to the sequence.\n",
    "In other words, instead of creating and visiting a node and then backtracking\n",
    "if needed, we avoid creating the node in the first place.\n",
    "This further prunes the search space.\n",
    "\n",
    "Here's the new version, without repeating the docstring.\n",
    "The check for the local parity constraint moves to the for-loop:\n",
    "if the chosen number can extend the current sequence, it will."
   ]
  },
  {
   "cell_type": "code",
   "execution_count": 4,
   "id": "11",
   "metadata": {},
   "outputs": [],
   "source": [
    "def extend(candidate: list, extensions: set, n: int, solutions: list) -> None:  # noqa: D103\n",
    "    print(\"Visiting node\", candidate, extensions)\n",
    "    if satisfies_range(candidate, n):\n",
    "        solutions.append(candidate)\n",
    "    for item in extensions:\n",
    "        if can_extend(item, candidate):  # added line\n",
    "            extend(candidate + [item], extensions - {item}, n, solutions)"
   ]
  },
  {
   "cell_type": "markdown",
   "id": "12",
   "metadata": {},
   "source": [
    "Instead of an explicit base case that goes back to a previous candidate\n",
    "if the current one doesn't satisfy the local constraint, the new version\n",
    "avoids extending candidates with items that fail the local constraint.\n",
    "\n",
    "The new auxiliary function checks the local constraint on a single number\n",
    "instead of a sequence and hence is simpler than `satisfies_parity`."
   ]
  },
  {
   "cell_type": "code",
   "execution_count": 5,
   "id": "13",
   "metadata": {},
   "outputs": [
    {
     "name": "stdout",
     "output_type": "stream",
     "text": [
      "Visiting node [] {1, 2, 3}\n",
      "Visiting node [1] {2, 3}\n",
      "Visiting node [1, 2] {3}\n",
      "Visiting node [1, 2, 3] set()\n",
      "Visiting node [3] {1, 2}\n",
      "Visiting node [3, 2] {1}\n",
      "Visiting node [3, 2, 1] set()\n"
     ]
    },
    {
     "data": {
      "text/plain": [
       "[[1, 2, 3], [3, 2, 1]]"
      ]
     },
     "execution_count": 5,
     "metadata": {},
     "output_type": "execute_result"
    }
   ],
   "source": [
    "def can_extend(item: int, candidate: list) -> bool:\n",
    "    \"\"\"Check if extending candidate with item can lead to a solution.\"\"\"\n",
    "    # the number and the index where it will be must have different parity\n",
    "    return item % 2 != len(candidate) % 2\n",
    "\n",
    "\n",
    "valid_permutations(3)"
   ]
  },
  {
   "cell_type": "markdown",
   "id": "14",
   "metadata": {},
   "source": [
    "As expected, no partial candidate with consecutive numbers of the same parity or\n",
    "starting with an even number is generated.\n",
    "Now only 7 of the 16 nodes are created and visited.\n",
    "The search space has more than halved.\n",
    "\n",
    "To emphasise how much more efficient backtracking can be, consider *n* = 10\n",
    "and only complete candidates, i.e. permutations of the ten numbers.\n",
    "There are 5 × 9! ≈ 1.8 million permutations starting with one of the five even\n",
    "numbers (2, 4, 6, 8, 10) followed by a permutation of the other nine numbers.\n",
    "There are further 5 × 4 × 8! ≈ 800 thousand permutations starting with two\n",
    "consecutive odd numbers, followed by a permutation of the other eight numbers.\n",
    "Backtracking won't generate these 2.6 million permutations and\n",
    "thousands of other ones with consecutive numbers of the same parity, whereas\n",
    "brute-force search generates all 10! ≈ 3.6 million permutations.\n",
    "\n",
    "To sum up, backtracking can efficiently find sequences of items subject to\n",
    "global and local constraints because it generates candidates incrementally.\n",
    "Global constraints are checked on all candidate sequences or\n",
    "only on the complete ones, depending on the problem.\n",
    "Local constraints are checked for each extension being considered,\n",
    "to avoid generating candidates that won't lead to solutions.\n",
    "This usually prunes vast parts of the search space.\n",
    "If a problem has no local constraints then backtracking becomes\n",
    "brute-force search because all candidates have to be generated.\n",
    "\n",
    "The next section shows a typical problem that can be solved with backtracking."
   ]
  },
  {
   "cell_type": "markdown",
   "id": "15",
   "metadata": {},
   "source": [
    "⟵ [Previous section](22_1_sequences.ipynb) | [Up](22-introduction.ipynb) | [Next section](22_3_trackword.ipynb) ⟶"
   ]
  }
 ],
 "metadata": {
  "kernelspec": {
   "display_name": "Python 3",
   "language": "python",
   "name": "python3"
  },
  "language_info": {
   "codemirror_mode": {
    "name": "ipython",
    "version": 3
   },
   "file_extension": ".py",
   "mimetype": "text/x-python",
   "name": "python",
   "nbconvert_exporter": "python",
   "pygments_lexer": "ipython3",
   "version": "3.12.10"
  }
 },
 "nbformat": 4,
 "nbformat_minor": 5
}
