{
 "cells": [
  {
   "cell_type": "markdown",
   "id": "0",
   "metadata": {},
   "source": [
    "## 22.6 Generate subsets"
   ]
  },
  {
   "cell_type": "markdown",
   "id": "1",
   "metadata": {},
   "source": [
    "Backtracking can also solve problems on sets instead of sequences.\n",
    "The only thing that changes is the core tree-traversal algorithm.\n",
    "The rest – handling constraints, computing the value of each candidate,\n",
    "keeping track of the best solution so far, etc. – remains the same.\n",
    "So let's see how a tree traversal can generate all subsets of the given items.\n",
    "\n",
    "When we tried to [greedily solve the knapsack problem](../18_Greed/18_1_scheduling.ipynb#Exercise-18.1.1),\n",
    "we first put all items into a sequence, sorted from best to worst.\n",
    "The algorithm then picked one item at a time.\n",
    "If the knapsack still had capacity for that item,\n",
    "it was added to the output set; otherwise it was skipped.\n",
    "\n",
    "A tree-traversal algorithm to generate all subsets works in the same way.\n",
    "It starts with an empty candidate set and\n",
    "with all items in a sequence of extensions.\n",
    "Recursively, the algorithm takes each item in turn from the extensions and\n",
    "adds it to the candidate set or skips it.\n",
    "\n",
    "Here's the tree of candidate–extension pairs for generating subsets of {1, 2, 3}.\n",
    "In each node, the candidate is the subset constructed so far and\n",
    "the sequence has the numbers yet to consider.\n",
    "\n",
    "<p id=\"fig-22.6.1\"></p>\n",
    "\n",
    "*[Figure 22.6.1](../33_Figures/Figures_22_6.ipynb#Figure-22.6.1)*\n",
    "\n",
    "![Image 22_6_subsets.png](22_6_subsets.png)\n",
    "\n",
    "The root's candidate is the empty set and the root's extensions are\n",
    "all items (here the numbers from 1 to 3), in any order.\n",
    "Each node has two children, both with the first extension removed.\n",
    "The left child adds the extension to the candidate; the right child doesn't.\n",
    "\n",
    "Like for the tree of permutations, the complete candidates,\n",
    "with empty extensions, are in the leaves of this tree.\n",
    "The other nodes have partial candidates.\n",
    "Due to skipping items, some subsets occur multiple times, e.g.\n",
    "two nodes have subset {1, 2} and four nodes have the empty set.\n",
    "We only consider the leaves because only then do we know\n",
    "that no further items will be added.\n",
    "\n",
    "The tree traversal for subsets looks like this,\n",
    "using `s[i:]` as shorthand for `s[i:len(s)]`\n",
    "([Section&nbsp;4.9.1](../04_Iteration/04_9_summary.ipynb#4.9.1-Sequence-operations))."
   ]
  },
  {
   "cell_type": "code",
   "execution_count": 1,
   "id": "2",
   "metadata": {},
   "outputs": [],
   "source": [
    "def extend(candidate: set, extensions: list, solutions: list) -> None:\n",
    "    \"\"\"Extend candidate with all subsets of extensions and add to solutions.\"\"\"\n",
    "    print(\"Visiting node\", candidate, extensions)\n",
    "    if len(extensions) == 0:  # complete candidate\n",
    "        solutions.append(candidate)\n",
    "    else:\n",
    "        item = extensions[0]  # head of sequence\n",
    "        rest = extensions[1:]  # tail of sequence\n",
    "        extend(candidate.union({item}), rest, solutions)  # add item\n",
    "        extend(candidate, rest, solutions)  # skip item"
   ]
  },
  {
   "cell_type": "markdown",
   "id": "3",
   "metadata": {},
   "source": [
    "Like for generating permutations,\n",
    "the base case is when the extensions are empty and\n",
    "the reduction step (the assignment to `rest`) removes one extension.\n",
    "\n",
    "Like for generating permutations, we must start the algorithm in the root node."
   ]
  },
  {
   "cell_type": "code",
   "execution_count": 2,
   "id": "4",
   "metadata": {},
   "outputs": [
    {
     "name": "stdout",
     "output_type": "stream",
     "text": [
      "Visiting node set() [1, 2, 3]\n",
      "Visiting node {1} [2, 3]\n",
      "Visiting node {1, 2} [3]\n",
      "Visiting node {1, 2, 3} []\n",
      "Visiting node {1, 2} []\n",
      "Visiting node {1} [3]\n",
      "Visiting node {1, 3} []\n",
      "Visiting node {1} []\n",
      "Visiting node set() [2, 3]\n",
      "Visiting node {2} [3]\n",
      "Visiting node {2, 3} []\n",
      "Visiting node {2} []\n",
      "Visiting node set() [3]\n",
      "Visiting node {3} []\n",
      "Visiting node set() []\n",
      "Subsets: [{1, 2, 3}, {1, 2}, {1, 3}, {1}, {2, 3}, {2}, {3}, set()]\n"
     ]
    }
   ],
   "source": [
    "def all_subsets(n: int) -> list:\n",
    "    \"\"\"Return all subsets of 1, ..., n in the order generated.\"\"\"\n",
    "    candidate = set()\n",
    "    extensions = list(range(1, n + 1))\n",
    "    solutions = []\n",
    "    extend(candidate, extensions, solutions)\n",
    "    return solutions\n",
    "\n",
    "\n",
    "print(\"Subsets:\", all_subsets(3))"
   ]
  },
  {
   "cell_type": "markdown",
   "id": "5",
   "metadata": {},
   "source": [
    "If you follow how nodes are visited in the tree diagram,\n",
    "you'll see the algorithm is making a pre-order traversal.\n",
    "It chooses to add the item (left subtree) before choosing\n",
    "to skip it (right subtree), so the full subset {1, 2, 3}\n",
    "is generated first and the empty subset is generated last.\n",
    "\n",
    "The algorithm could of course first choose to skip and then\n",
    "choose to add the item. It would generate the same subsets, in reverse order.\n",
    "You can swap the order of the code lines that add and skip an item,\n",
    "to see for yourself.\n",
    "\n",
    "Changing the order of the extensions, e.g. `extensions = list(range(n, 0, -1))`,\n",
    "also changes the order in which subsets are generated.\n",
    "I'll leave it to you to try it out.\n",
    "\n",
    "Now that we have a recursive algorithm to generate each subset incrementally,\n",
    "we can search for a best subset that satisfies some constraints in exactly the\n",
    "same way as we did for sequences.\n",
    "The next section provides an example: the knapsack problem."
   ]
  },
  {
   "cell_type": "markdown",
   "id": "6",
   "metadata": {},
   "source": [
    "⟵ [Previous section](22_5_tsp.ipynb) | [Up](22-introduction.ipynb) | [Next section](22_7_knapsack.ipynb) ⟶"
   ]
  }
 ],
 "metadata": {
  "kernelspec": {
   "display_name": "Python 3",
   "language": "python",
   "name": "python3"
  },
  "language_info": {
   "codemirror_mode": {
    "name": "ipython",
    "version": 3
   },
   "file_extension": ".py",
   "mimetype": "text/x-python",
   "name": "python",
   "nbconvert_exporter": "python",
   "pygments_lexer": "ipython3",
   "version": "3.12.10"
  }
 },
 "nbformat": 4,
 "nbformat_minor": 5
}
