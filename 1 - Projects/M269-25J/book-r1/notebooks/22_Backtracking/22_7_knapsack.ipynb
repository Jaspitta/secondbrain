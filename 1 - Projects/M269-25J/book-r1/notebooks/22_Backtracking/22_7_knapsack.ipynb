{
 "cells": [
  {
   "cell_type": "markdown",
   "id": "0",
   "metadata": {},
   "source": [
    "## 22.7 Back to the knapsack"
   ]
  },
  {
   "cell_type": "markdown",
   "id": "1",
   "metadata": {},
   "source": [
    "To recap, the 0/1 knapsack problem is as follows.\n",
    "\n",
    "**Function**: 0/1 knapsack\\\n",
    "**Inputs**: *items*, a set of pairs of integers; *capacity*, an integer\\\n",
    "**Preconditions**:\n",
    "no integer is negative; each pair represents a weight and a value\\\n",
    "**Output**: *packed*, a set of pairs of integers\\\n",
    "**Postconditions**:\n",
    "\n",
    "- *packed* is a subset of *items*\n",
    "- the sum of the weights in *packed* doesn't exceed *capacity*\n",
    "- the sum of the values in *packed* is largest among all sets satisfying the previous two conditions\n",
    "\n",
    "I'll use the following example:"
   ]
  },
  {
   "cell_type": "code",
   "execution_count": 1,
   "id": "2",
   "metadata": {},
   "outputs": [],
   "source": [
    "ITEMS = {(1, 2), (2, 3), (3, 4), (4, 20), (5, 30)}"
   ]
  },
  {
   "cell_type": "markdown",
   "id": "3",
   "metadata": {},
   "source": [
    "If the knapsack has a capacity of 4, it can hold\n",
    "the first and second items (weight 1 + 2 = 3, value 2 + 3 = 5) or\n",
    "the first and third items (weight 1 + 3 = 4, value 2 + 4 = 6)\n",
    "or the fourth item (weight 4, value 20).\n",
    "The latter is the desired output, because it has the largest value.\n",
    "\n",
    "Let's follow the same procedure as before to solve this problem,\n",
    "with 'stop and think' lines for you to think along."
   ]
  },
  {
   "cell_type": "markdown",
   "id": "4",
   "metadata": {},
   "source": [
    "### 22.7.1 The problem"
   ]
  },
  {
   "cell_type": "markdown",
   "id": "5",
   "metadata": {},
   "source": [
    "The knapsack problem is obviously an optimisation problem on subsets of items,\n",
    "where the value of the items in the subset is the quantity being maximised.\n",
    "Each candidate is the subset of items already put in the knapsack and\n",
    "the corresponding extensions are the items yet to consider.\n",
    "\n",
    "1. What are the global and local constraints for this problem?\n",
    "2. Can partial candidates be solutions or only complete candidates?\n",
    "\n",
    "___\n",
    "\n",
    "1. The only constraint is that the weight of the items in the subset\n",
    "   cannot exceed the knapsack's capacity. It's a local constraint because\n",
    "   it can be checked as each item to be added is considered.\n",
    "1. As mentioned in the previous section, although partial candidates are\n",
    "   subsets too, the solutions are the complete candidates,\n",
    "   after all items have been considered.\n",
    "\n",
    "We can start implementing the solution, from the auxiliary functions towards\n",
    "the backtracking and main functions."
   ]
  },
  {
   "cell_type": "markdown",
   "id": "6",
   "metadata": {},
   "source": [
    "### 22.7.2 The value function"
   ]
  },
  {
   "cell_type": "markdown",
   "id": "7",
   "metadata": {},
   "source": [
    "Every optimisation problem needs a function to compute the value of a solution,\n",
    "so let's start with that.\n",
    "As usual, I define constants for the indices of pairs,\n",
    "to make the code more readable."
   ]
  },
  {
   "cell_type": "code",
   "execution_count": 2,
   "id": "8",
   "metadata": {},
   "outputs": [],
   "source": [
    "WEIGHT = 0\n",
    "VALUE = 1\n",
    "\n",
    "\n",
    "def value(items: set) -> int:\n",
    "    \"\"\"Return the total value of the items.\"\"\"\n",
    "    total = 0\n",
    "    for item in items:\n",
    "        total = total + item[VALUE]\n",
    "    return total"
   ]
  },
  {
   "cell_type": "markdown",
   "id": "9",
   "metadata": {},
   "source": [
    "### 22.7.3 The constraints functions"
   ]
  },
  {
   "cell_type": "markdown",
   "id": "10",
   "metadata": {},
   "source": [
    "Next are the auxiliary functions to check the global and local constraints.\n",
    "Looking at the answers to the earlier questions, how does this problem differ\n",
    "from the other problems in this chapter?\n",
    "\n",
    "___\n",
    "\n",
    "There are no global constraints. Any candidate that satisfies the\n",
    "local constraint (fits the capacity) is a solution, but perhaps not a best one.\n",
    "\n",
    "This means we don't need a `satisfies_global` function.\n",
    "We must only check if an item can extend a candidate\n",
    "(the items already in the knapsack) towards\n",
    "a better solution than the current one. Let's break that down into two parts.\n",
    "\n",
    "How can we check whether an item can extend a candidate towards a solution?\n",
    "Or put differently, how do we know if there's no point in extending\n",
    "the given candidate with the given item?\n",
    "\n",
    "___\n",
    "\n",
    "If the weight of the item plus the weight of the candidate exceeds the capacity,\n",
    "then the item shouldn't be added to the knapsack.\n",
    "\n",
    "Now let's assume that an item can extend a candidate towards a solution.\n",
    "Is there a way to know it won't lead to a better solution than the current best?\n",
    "(Hint: does extending a candidate worsen its value?)\n",
    "\n",
    "___\n",
    "\n",
    "The problem definition above states that items cannot have negative values.\n",
    "If an item *can* extend a candidate, we *must* extend it, because\n",
    "the new item may lead to a better (i.e. higher value) solution.\n",
    "There is no way of pruning the search space early.\n",
    "\n",
    "In summary, an item can extend a candidate if\n",
    "the sum of their weights doesn't exceed the capacity."
   ]
  },
  {
   "cell_type": "code",
   "execution_count": 3,
   "id": "11",
   "metadata": {},
   "outputs": [],
   "source": [
    "def can_extend(item: tuple, candidate: set, capacity: int) -> bool:\n",
    "    \"\"\"Check if adding the item to candidate won't exceed the capacity.\"\"\"\n",
    "    total = item[WEIGHT]\n",
    "    for another_item in candidate:\n",
    "        total = total + another_item[WEIGHT]\n",
    "    return total <= capacity"
   ]
  },
  {
   "cell_type": "markdown",
   "id": "12",
   "metadata": {},
   "source": [
    "### 22.7.4 The backtracking function"
   ]
  },
  {
   "cell_type": "markdown",
   "id": "13",
   "metadata": {},
   "source": [
    "Here's the template for the backtracking function for\n",
    "optimisation problems on sets.\n",
    "The `instance` variable stands for the inputs of the problem,\n",
    "which are passed on to the auxiliary functions.\n",
    "```python\n",
    "SOLUTION = 0\n",
    "VALUE = 1\n",
    "\n",
    "def extend(candidate: set, extensions: list, instance: object, best: list) -> None:\n",
    "    \"\"\"Update best if candidate is a better solution, then try to extend it.\"\"\"\n",
    "    print('Visiting node', candidate, extensions)\n",
    "    if len(extensions) == 0:\n",
    "        if satisfies_global(candidate, instance):\n",
    "            candidate_value = value(candidate, instance)\n",
    "            if candidate_value == best[VALUE]: # replace == with < or >\n",
    "                print('New best with value', candidate_value)\n",
    "                best[SOLUTION] = candidate\n",
    "                best[VALUE] = candidate_value\n",
    "    else:\n",
    "        item = extensions[0]\n",
    "        rest = extensions[1:]\n",
    "        if can_extend(item, candidate, instance, best):\n",
    "            extend(candidate.union({item}), rest, instance, best)\n",
    "        extend(candidate, rest, instance, best)\n",
    "```\n",
    "Let's think what changes are needed for the knapsack problem.\n",
    "\n",
    "Which comparison should be used: less than or greater than?\n",
    "\n",
    "___\n",
    "\n",
    "It's a maximisation problem so the candidate is the new best if\n",
    "its value is greater than the current one.\n",
    "\n",
    "Looking at the auxiliary functions written before,\n",
    "can any code or parameters be removed?\n",
    "\n",
    "___\n",
    "\n",
    "Yes, the `value` function only needs the candidate parameter,\n",
    "the `can_extend` function only needs the item, candidate and capacity,\n",
    "and the `satisfies_global` function isn't needed at all.\n",
    "\n",
    "Finally, given the previous changes, what should the `instance: object`\n",
    "parameter in the function header be replaced with?\n",
    "\n",
    "___\n",
    "\n",
    "It should be `capacity: int`, which is needed by `can_extend`.\n",
    "\n",
    "Here's the backtracking function for the knapsack problem."
   ]
  },
  {
   "cell_type": "code",
   "execution_count": 4,
   "id": "14",
   "metadata": {},
   "outputs": [],
   "source": [
    "SOLUTION = 0\n",
    "VALUE = 1\n",
    "\n",
    "\n",
    "def extend(candidate: set, extensions: list, capacity: int, best: list) -> None:\n",
    "    \"\"\"Update best if candidate is a better solution, then try to extend it.\"\"\"\n",
    "    print(\"Visiting node\", candidate, extensions)\n",
    "    if len(extensions) == 0:\n",
    "        candidate_value = value(candidate)\n",
    "        if candidate_value > best[VALUE]:\n",
    "            print(\"New best with value\", candidate_value)\n",
    "            best[SOLUTION] = candidate\n",
    "            best[VALUE] = candidate_value\n",
    "    else:\n",
    "        item = extensions[0]\n",
    "        rest = extensions[1:]\n",
    "        if can_extend(item, candidate, capacity):\n",
    "            extend(candidate.union({item}), rest, capacity, best)\n",
    "        extend(candidate, rest, capacity, best)"
   ]
  },
  {
   "cell_type": "markdown",
   "id": "15",
   "metadata": {},
   "source": [
    "### 22.7.5 The main function"
   ]
  },
  {
   "cell_type": "markdown",
   "id": "16",
   "metadata": {},
   "source": [
    "We finally have to think of what the main function needs to do.\n",
    "\n",
    "What are the candidate and the extensions of the root node?\n",
    "\n",
    "___\n",
    "\n",
    "The initial candidate is the empty set and the extensions are\n",
    "all the items given in the input, in a sequence.\n",
    "\n",
    "What is a possible initial best solution?\n",
    "\n",
    "___\n",
    "\n",
    "We need a solution that can be easily constructed.\n",
    "The only one I could think of is the empty set:\n",
    "it's a solution of every problem instance though hardly ever the best one\n",
    "(unless no item fits in the knapsack).\n",
    "\n",
    "The main function is thus:"
   ]
  },
  {
   "cell_type": "code",
   "execution_count": 5,
   "id": "17",
   "metadata": {},
   "outputs": [],
   "source": [
    "def knapsack(items: set, capacity: int) -> list:\n",
    "    \"\"\"Return a subset of items and their total value.\n",
    "\n",
    "    Preconditions:\n",
    "    - items is a set of weight-value pairs, both integers\n",
    "    - no integer is negative\n",
    "    Postconditions:\n",
    "    - the output is a set-integer pair\n",
    "    - total weight of the output items <= capacity\n",
    "    - no other subset of items has higher value and fits the capacity\n",
    "    \"\"\"\n",
    "    candidate = set()\n",
    "    extensions = list(items)\n",
    "    solution = set()\n",
    "    best = [solution, value(solution)]\n",
    "    extend(candidate, extensions, capacity, best)\n",
    "    return best"
   ]
  },
  {
   "cell_type": "markdown",
   "id": "18",
   "metadata": {},
   "source": [
    "Let's solve the example at the start of the notebook."
   ]
  },
  {
   "cell_type": "code",
   "execution_count": 6,
   "id": "19",
   "metadata": {},
   "outputs": [
    {
     "name": "stdout",
     "output_type": "stream",
     "text": [
      "Visiting node set() [(2, 3), (1, 2), (3, 4), (5, 30), (4, 20)]\n",
      "Visiting node {(2, 3)} [(1, 2), (3, 4), (5, 30), (4, 20)]\n",
      "Visiting node {(2, 3), (1, 2)} [(3, 4), (5, 30), (4, 20)]\n",
      "Visiting node {(2, 3), (1, 2)} [(5, 30), (4, 20)]\n",
      "Visiting node {(2, 3), (1, 2)} [(4, 20)]\n",
      "Visiting node {(2, 3), (1, 2)} []\n",
      "New best with value 5\n",
      "Visiting node {(2, 3)} [(3, 4), (5, 30), (4, 20)]\n",
      "Visiting node {(2, 3)} [(5, 30), (4, 20)]\n",
      "Visiting node {(2, 3)} [(4, 20)]\n",
      "Visiting node {(2, 3)} []\n",
      "Visiting node set() [(1, 2), (3, 4), (5, 30), (4, 20)]\n",
      "Visiting node {(1, 2)} [(3, 4), (5, 30), (4, 20)]\n",
      "Visiting node {(1, 2), (3, 4)} [(5, 30), (4, 20)]\n",
      "Visiting node {(1, 2), (3, 4)} [(4, 20)]\n",
      "Visiting node {(1, 2), (3, 4)} []\n",
      "New best with value 6\n",
      "Visiting node {(1, 2)} [(5, 30), (4, 20)]\n",
      "Visiting node {(1, 2)} [(4, 20)]\n",
      "Visiting node {(1, 2)} []\n",
      "Visiting node set() [(3, 4), (5, 30), (4, 20)]\n",
      "Visiting node {(3, 4)} [(5, 30), (4, 20)]\n",
      "Visiting node {(3, 4)} [(4, 20)]\n",
      "Visiting node {(3, 4)} []\n",
      "Visiting node set() [(5, 30), (4, 20)]\n",
      "Visiting node set() [(4, 20)]\n",
      "Visiting node {(4, 20)} []\n",
      "New best with value 20\n",
      "Visiting node set() []\n"
     ]
    },
    {
     "data": {
      "text/plain": [
       "[{(4, 20)}, 20]"
      ]
     },
     "execution_count": 6,
     "metadata": {},
     "output_type": "execute_result"
    }
   ],
   "source": [
    "knapsack(ITEMS, 4)"
   ]
  },
  {
   "cell_type": "markdown",
   "id": "20",
   "metadata": {},
   "source": [
    "Compared to an exhaustive search that generates all 2⁵ = 32&nbsp;subsets\n",
    "of the five items and tests each subset for whether it fits the knapsack and\n",
    "has a better value, the backtracking approach only generates seven subsets\n",
    "(those with empty extension sequences in the printout).\n",
    "However, many partial candidates are generated.\n",
    "Fortunately, there's a way to further prune the search space."
   ]
  },
  {
   "cell_type": "markdown",
   "id": "21",
   "metadata": {},
   "source": [
    "### 22.7.6 Sort extensions"
   ]
  },
  {
   "cell_type": "markdown",
   "id": "22",
   "metadata": {},
   "source": [
    "When searching a store for products below £20,\n",
    "we [sorted the products](../11_Search/11_1_linear.ipynb#11.1.3-Sorted-candidates)\n",
    "by ascending price. That allowed us to stop the linear search as soon as\n",
    "we found a product costing £20 or more. We can apply the same idea here.\n",
    "\n",
    "Let's sort the items by ascending weight.\n",
    "If adding the current item to a candidate exceeds the capacity,\n",
    "so will adding any subsequent item in the extensions sequence,\n",
    "because they weigh even more.\n",
    "\n",
    "At the moment, if adding an item exceeds the capacity, we skip only *that* item.\n",
    "Sorting the items by ascending weight allows us to skip *all* the remaining\n",
    "extensions too: a massive reduction in the search space.\n",
    "\n",
    "Here's the new main function. Items are weight–value pairs so Python's\n",
    "lexicographic sorting of tuples puts them in ascending weight.\n",
    "I don't repeat the docstring."
   ]
  },
  {
   "cell_type": "code",
   "execution_count": 7,
   "id": "23",
   "metadata": {},
   "outputs": [],
   "source": [
    "def knapsack(items: set, capacity: int) -> list:  # noqa: D103\n",
    "    candidate = set()\n",
    "    extensions = sorted(items)  # changed line\n",
    "    solution = set()\n",
    "    best = [solution, value(solution)]\n",
    "    extend(candidate, extensions, capacity, best)\n",
    "    return best"
   ]
  },
  {
   "cell_type": "markdown",
   "id": "24",
   "metadata": {},
   "source": [
    "If a partial candidate can't be extended because all remaining extensions\n",
    "go over the capacity, the candidate may still be the best solution so far.\n",
    "This means we have to check partial candidates against the best solution,\n",
    "not just complete candidates. Here's the new backtracking function."
   ]
  },
  {
   "cell_type": "code",
   "execution_count": 8,
   "id": "25",
   "metadata": {},
   "outputs": [],
   "source": [
    "def extend(candidate: set, extensions: list, capacity: int, best: list) -> None:\n",
    "    \"\"\"Update best if candidate is a better solution, then try to extend it.\"\"\"\n",
    "    print(\"Visiting node\", candidate, extensions)\n",
    "    candidate_value = value(candidate)\n",
    "    if candidate_value > best[VALUE]:\n",
    "        print(\"New best with value\", candidate_value)\n",
    "        best[SOLUTION] = candidate\n",
    "        best[VALUE] = candidate_value\n",
    "    if len(extensions) > 0:  # changed line\n",
    "        item = extensions[0]\n",
    "        rest = extensions[1:]\n",
    "        if can_extend(item, candidate, capacity):\n",
    "            extend(candidate.union({item}), rest, capacity, best)\n",
    "            extend(candidate, rest, capacity, best)  # changed line"
   ]
  },
  {
   "cell_type": "markdown",
   "id": "26",
   "metadata": {},
   "source": [
    "Notice the changes to the previous version.\n",
    "\n",
    "- I remove the check at the beginning for a complete candidate (no extensions),\n",
    "  because now partial candidates can be solutions.\n",
    "- I check if there are any extensions before I look at the next item.\n",
    "- I indent the last line of code, the one which skips the item.\n",
    "\n",
    "The last change is subtle but profound.\n",
    "It implements the skipping of all further extensions\n",
    "if the current one can't extend the candidate.\n",
    "Let's see the impact on the search space."
   ]
  },
  {
   "cell_type": "code",
   "execution_count": 9,
   "id": "27",
   "metadata": {},
   "outputs": [
    {
     "name": "stdout",
     "output_type": "stream",
     "text": [
      "Visiting node set() [(1, 2), (2, 3), (3, 4), (4, 20), (5, 30)]\n",
      "Visiting node {(1, 2)} [(2, 3), (3, 4), (4, 20), (5, 30)]\n",
      "New best with value 2\n",
      "Visiting node {(2, 3), (1, 2)} [(3, 4), (4, 20), (5, 30)]\n",
      "New best with value 5\n",
      "Visiting node {(1, 2)} [(3, 4), (4, 20), (5, 30)]\n",
      "Visiting node {(1, 2), (3, 4)} [(4, 20), (5, 30)]\n",
      "New best with value 6\n",
      "Visiting node {(1, 2)} [(4, 20), (5, 30)]\n",
      "Visiting node set() [(2, 3), (3, 4), (4, 20), (5, 30)]\n",
      "Visiting node {(2, 3)} [(3, 4), (4, 20), (5, 30)]\n",
      "Visiting node set() [(3, 4), (4, 20), (5, 30)]\n",
      "Visiting node {(3, 4)} [(4, 20), (5, 30)]\n",
      "Visiting node set() [(4, 20), (5, 30)]\n",
      "Visiting node {(4, 20)} [(5, 30)]\n",
      "New best with value 20\n",
      "Visiting node set() [(5, 30)]\n"
     ]
    },
    {
     "data": {
      "text/plain": [
       "[{(4, 20)}, 20]"
      ]
     },
     "execution_count": 9,
     "metadata": {},
     "output_type": "execute_result"
    }
   ],
   "source": [
    "knapsack(ITEMS, 4)"
   ]
  },
  {
   "cell_type": "markdown",
   "id": "28",
   "metadata": {},
   "source": [
    "The search space has almost halved:\n",
    "only 13 of the previous 24 nodes are created and visited.\n",
    "For example, partial candidate {(1, 2), (2, 3)} is not extended because\n",
    "any further item exceeds the capacity."
   ]
  },
  {
   "cell_type": "markdown",
   "id": "29",
   "metadata": {},
   "source": [
    "<div class=\"alert alert-warning\">\n",
    "<strong>Note:</strong> If possible, order the extensions sequence so that\n",
    "if one item in the sequence can't extend a candidate, none of the following can.\n",
    "</div>"
   ]
  },
  {
   "cell_type": "markdown",
   "id": "30",
   "metadata": {},
   "source": [
    "#### Exercise 22.7.1"
   ]
  },
  {
   "cell_type": "markdown",
   "id": "31",
   "metadata": {},
   "source": [
    "The original problem asks for *any* subset of the items that maximises the value\n",
    "and fits the knapsack. Imagine we add one postcondition:\n",
    "the returned subset should be as small as possible, i.e. we want to pack\n",
    "the fewest items that maximise the value and fit in the knapsack.\n",
    "\n",
    "For example, let the items be {(1, 2), (2, 3), (4, 5)} and the capacity be 4.\n",
    "The largest possible value is 5 and can be obtained in two ways:\n",
    "pack the two items {(1, 2), (2, 3)} or pack the single item {(4, 5)}.\n",
    "Any of these two subsets is a solution to the original problem but only\n",
    "the latter subset is a solution for the new problem, as it has fewer items.\n",
    "\n",
    "What changes would be required to the `extend` function?"
   ]
  },
  {
   "cell_type": "markdown",
   "id": "32",
   "metadata": {},
   "source": [
    "_Write your answer here._"
   ]
  },
  {
   "cell_type": "markdown",
   "id": "33",
   "metadata": {},
   "source": [
    "[Hint](../31_Hints/Hints_22_7_01.ipynb)\n",
    "[Answer](../32_Answers/Answers_22_7_01.ipynb)"
   ]
  },
  {
   "cell_type": "markdown",
   "id": "34",
   "metadata": {},
   "source": [
    "⟵ [Previous section](22_6_subsets.ipynb) | [Up](22-introduction.ipynb) | [Next section](22_8_summary.ipynb) ⟶"
   ]
  }
 ],
 "metadata": {
  "kernelspec": {
   "display_name": "Python 3",
   "language": "python",
   "name": "python3"
  },
  "language_info": {
   "codemirror_mode": {
    "name": "ipython",
    "version": 3
   },
   "file_extension": ".py",
   "mimetype": "text/x-python",
   "name": "python",
   "nbconvert_exporter": "python",
   "pygments_lexer": "ipython3",
   "version": "3.12.10"
  }
 },
 "nbformat": 4,
 "nbformat_minor": 5
}
