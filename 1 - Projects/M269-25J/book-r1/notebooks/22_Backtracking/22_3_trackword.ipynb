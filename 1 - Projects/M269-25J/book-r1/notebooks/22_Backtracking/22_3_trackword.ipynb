{
 "cells": [
  {
   "cell_type": "markdown",
   "id": "0",
   "metadata": {},
   "source": [
    "## 22.3 Trackword"
   ]
  },
  {
   "cell_type": "markdown",
   "id": "1",
   "metadata": {},
   "source": [
    "Trackword is a puzzle to find as many words with three to nine letters as we can\n",
    "in a 3×3 grid of letters. We can start in any square and\n",
    "move to any adjacent square, without visiting any square twice.\n",
    "The grid always contains a 9-letter word.\n",
    "\n",
    "Here's an example created by a\n",
    "[fan site](http://happysoft.org.uk/countdown/trackword.php).\n",
    "The figure shows the grid, the path for the 9-letter word 'retrieves'\n",
    "and two paths for the word 'tree'.\n",
    "The grid also includes words ire, set, tee, sever, reset, reverse, serve, etc.\n",
    "\n",
    "<p id=\"fig-22.3.1\"></p>\n",
    "\n",
    "*[Figure 22.3.1](../33_Figures/Figures_22_3.ipynb#Figure-22.3.1)*\n",
    "\n",
    "![Image 22_3_trackword.png](22_3_trackword.png)\n",
    "\n",
    "For this and other word problems we need a list of valid words.\n",
    "The notebooks folder for this chapter includes the public-domain Enable list,\n",
    "which contains long and inflected words (past tense, plural, etc.).\n",
    "The words in the list are in lowercase, so the grid will be in lowercase too."
   ]
  },
  {
   "cell_type": "markdown",
   "id": "2",
   "metadata": {},
   "source": [
    "<div class=\"alert alert-info\">\n",
    "<strong>Info:</strong> Enable and other word lists are available from the\n",
    "<a href=\"http://wiki.puzzlers.org/dokuwiki/doku.php?id=solving:wordlists:about:start&s=wordlist\">The National Puzzler's League</a>.\n",
    "</div>"
   ]
  },
  {
   "cell_type": "markdown",
   "id": "3",
   "metadata": {},
   "source": [
    "The following code reads words with three to nine letters from the file.\n",
    "It uses Python constructs outside the scope of M269."
   ]
  },
  {
   "cell_type": "code",
   "execution_count": 1,
   "id": "4",
   "metadata": {},
   "outputs": [],
   "source": [
    "vocabulary = set()\n",
    "with open(\"enable1.txt\") as file:\n",
    "    for line in file:\n",
    "        word = line.strip()\n",
    "        if 3 <= len(word) <= 9:\n",
    "            vocabulary.add(word)"
   ]
  },
  {
   "cell_type": "markdown",
   "id": "5",
   "metadata": {},
   "source": [
    "Let's solve this problem with backtracking.\n",
    "I will ask you to think along with 'stop and think' lines."
   ]
  },
  {
   "cell_type": "markdown",
   "id": "6",
   "metadata": {},
   "source": [
    "### 22.3.1 The problem"
   ]
  },
  {
   "cell_type": "markdown",
   "id": "7",
   "metadata": {},
   "source": [
    "The first thing to ponder is whether this problem is adequate for backtracking:\n",
    "\n",
    "1. Is this a constraint satisfaction problem on sequences of unique items?\n",
    "   If so, what are the sequences, why are items unique and\n",
    "   what are the other constraints?\n",
    "\n",
    "___\n",
    "\n",
    "Yes, it is.\n",
    "We want to find all sequences of squares subject to these constraints:\n",
    "the length of the sequence is three to nine, the sequence is a valid path and\n",
    "the letters on the squares form a word.\n",
    "No square can be visited twice so the sequence has no duplicate squares.\n",
    "\n",
    "2. Which of the constraints are global and which are local?\n",
    "\n",
    "___\n",
    "\n",
    "The global constraints are that the sequence forms a word and\n",
    "the word comprises three to nine letters.\n",
    "The local constraint is that each square in the sequence (except the first one)\n",
    "must be adjacent to the previous one."
   ]
  },
  {
   "cell_type": "markdown",
   "id": "8",
   "metadata": {},
   "source": [
    "<div class=\"alert alert-warning\">\n",
    "<strong>Note:</strong> Backtracking is usually applicable to problems involving paths on 2D grids.\n",
    "</div>"
   ]
  },
  {
   "cell_type": "markdown",
   "id": "9",
   "metadata": {},
   "source": [
    "### 22.3.2 Candidates and extensions"
   ]
  },
  {
   "cell_type": "markdown",
   "id": "10",
   "metadata": {},
   "source": [
    "Let's start solving this problem.\n",
    "The core of backtracking is to extend a candidate sequence with\n",
    "one item at a time, taken from an initial set with all possible extensions.\n",
    "So the obvious starting questions to solve a problem are:\n",
    "\n",
    "1. What are the candidates? What do they represent?\n",
    "2. What are the items in the candidates? What do items represent?\n",
    "\n",
    "___\n",
    "\n",
    "1. There are only two options for what a candidate can be:\n",
    "   the string of letters or the path of squares visited so far.\n",
    "   As the example at the start shows, there may be several paths associated to\n",
    "   the same string. If a candidate were a string, we couldn't determine\n",
    "   which squares can be visited next. The candidates are therefore paths:\n",
    "   each one is a sequence of squares visited.\n",
    "1. Each item represents a square of the grid.\n",
    "\n",
    "Once we have thought what each item represents in the problem, we need to think\n",
    "how to represent each item in the solution.\n",
    "\n",
    "3. What data structure should we use for each item?\n",
    "4. What is the initial set of all possible extensions? How can it be generated?\n",
    "\n",
    "___\n",
    "\n",
    "3. We can store each square as a pair of integers\n",
    "   with the square's row-column coordinates.\n",
    "1. The initial extensions are all 9&nbsp;squares of the grid. They can be generated\n",
    "   with a nested loop iterating over all rows and columns of the grid.\n",
    "\n",
    "At this point we know the problem's inputs and the initial extensions,\n",
    "which is enough to write the main function.\n",
    "I always pass the problem's inputs to the backtracking function because\n",
    "it may need them to check the global and local constraints."
   ]
  },
  {
   "cell_type": "code",
   "execution_count": 2,
   "id": "11",
   "metadata": {},
   "outputs": [],
   "source": [
    "def trackword(grid: list, valid: set) -> list:\n",
    "    \"\"\"Return all words found in the grid, in the order generated.\n",
    "\n",
    "    Preconditions:\n",
    "    - grid is a 3 by 3 table of lowercase letters\n",
    "    - valid is a set of strings of allowed words\n",
    "    \"\"\"\n",
    "    path = []  # the initial candidate\n",
    "    squares = set()  # the extensions\n",
    "    for row in range(3):\n",
    "        for column in range(3):\n",
    "            squares.add((row, column))\n",
    "    solutions = []\n",
    "    extend(path, squares, grid, valid, solutions)\n",
    "    return solutions"
   ]
  },
  {
   "cell_type": "markdown",
   "id": "12",
   "metadata": {},
   "source": [
    "The backtracking algorithm needs an extra if-statement if only complete\n",
    "candidates can be solutions, so the next thing to consider is:\n",
    "\n",
    "5. Which candidates are solutions: only complete candidates or\n",
    "   both complete and partial candidates?\n",
    "\n",
    "___\n",
    "\n",
    "The words in the grid can be of any length from 3 to 9, so\n",
    "both partial and complete paths may be solutions.\n",
    "\n",
    "We can now write the backtracking algorithm, because it's boilerplate code\n",
    "that calls two auxiliary functions, passing them the problem's input\n",
    "in case they need it."
   ]
  },
  {
   "cell_type": "code",
   "execution_count": 3,
   "id": "13",
   "metadata": {},
   "outputs": [],
   "source": [
    "def extend(path: list, squares: set, grid: list, valid: set, solutions: list) -> None:\n",
    "    \"\"\"Extend the path with the squares. Add valid words to solutions.\"\"\"\n",
    "    if is_word(path, grid, valid):  # check the global constraints\n",
    "        solutions.append(path)"
   ]
  },
  {
   "cell_type": "markdown",
   "id": "14",
   "metadata": {},
   "source": [
    "As I write the last line I stop in my tracks.\n",
    "The candidates are paths in the grid, but the problem asks for the words, so\n",
    "I must convert each path of squares to the corresponding string of letters."
   ]
  },
  {
   "cell_type": "code",
   "execution_count": 4,
   "id": "15",
   "metadata": {},
   "outputs": [],
   "source": [
    "def path_to_string(path: list, grid: list) -> str:\n",
    "    \"\"\"Return the sequence of letters visited by the path in the grid.\"\"\"\n",
    "    string = \"\"\n",
    "    for square in path:\n",
    "        string = string + grid[square[0]][square[1]]\n",
    "    return string"
   ]
  },
  {
   "cell_type": "markdown",
   "id": "16",
   "metadata": {},
   "source": [
    "Now I can write the complete backtracking algorithm."
   ]
  },
  {
   "cell_type": "code",
   "execution_count": 5,
   "id": "17",
   "metadata": {},
   "outputs": [],
   "source": [
    "def extend(path: list, squares: set, grid: list, valid: set, solutions: list) -> None:\n",
    "    \"\"\"Extend the path with the squares. Add valid words to solutions.\"\"\"\n",
    "    if is_word(path, grid, valid):\n",
    "        solutions.append(path_to_string(path, grid))\n",
    "    for square in squares:\n",
    "        if can_extend(square, path, grid, valid):\n",
    "            extend(path + [square], squares - {square}, grid, valid, solutions)"
   ]
  },
  {
   "cell_type": "markdown",
   "id": "18",
   "metadata": {},
   "source": [
    "Finally, let's implement the auxiliary functions."
   ]
  },
  {
   "cell_type": "markdown",
   "id": "19",
   "metadata": {},
   "source": [
    "### 22.3.3 The constraints"
   ]
  },
  {
   "cell_type": "markdown",
   "id": "20",
   "metadata": {},
   "source": [
    "The global constraints on a path are: it has three to nine letters and\n",
    "they form a valid word.\n",
    "Since only words with three to nine letters were read from the file,\n",
    "I can simply check if the path forms a word."
   ]
  },
  {
   "cell_type": "code",
   "execution_count": 6,
   "id": "21",
   "metadata": {},
   "outputs": [],
   "source": [
    "def is_word(path: list, grid: list, valid: set) -> bool:\n",
    "    \"\"\"Check if the letters in the path form a valid word.\"\"\"\n",
    "    return path_to_string(path, grid) in valid"
   ]
  },
  {
   "cell_type": "markdown",
   "id": "22",
   "metadata": {},
   "source": [
    "As for the local constraint, we must check if the next square is adjacent to\n",
    "the last square in the path so far.\n",
    "If the path is empty, it can be extended with any square."
   ]
  },
  {
   "cell_type": "code",
   "execution_count": 7,
   "id": "23",
   "metadata": {},
   "outputs": [],
   "source": [
    "def can_extend(square: tuple, path: list, grid: list, valid: set) -> bool:\n",
    "    \"\"\"Check if square is adjacent to the last square of path.\"\"\"\n",
    "    if path == []:\n",
    "        return True\n",
    "    last_square = path[-1]\n",
    "    last_row = last_square[0]\n",
    "    last_column = last_square[1]\n",
    "    row = square[0]\n",
    "    column = square[1]\n",
    "    return abs(row - last_row) < 2 and abs(column - last_column) < 2"
   ]
  },
  {
   "cell_type": "markdown",
   "id": "24",
   "metadata": {},
   "source": [
    "That's it! Let's check it works. There are probably many words in this grid,\n",
    "so let's just see a few of them."
   ]
  },
  {
   "cell_type": "code",
   "execution_count": 8,
   "id": "25",
   "metadata": {},
   "outputs": [
    {
     "name": "stdout",
     "output_type": "stream",
     "text": [
      "Total paths: 156\n",
      "Found 9-letter word? True\n",
      "First 10: ['ere', 'err', 'errs', 'err', 'ere', 'ers', 'ere', 'eerie', 'eerier', 'res']\n"
     ]
    }
   ],
   "source": [
    "words = trackword([\"set\", \"err\", \"vei\"], vocabulary)\n",
    "print(\"Total paths:\", len(words))\n",
    "print(\"Found 9-letter word?\", \"retrieves\" in words)\n",
    "print(\"First 10:\", words[:10])"
   ]
  },
  {
   "cell_type": "markdown",
   "id": "26",
   "metadata": {},
   "source": [
    "Some words occur repeatedly in the output list because\n",
    "there are various paths to obtain them.\n",
    "We can easily compute how many unique words there are:"
   ]
  },
  {
   "cell_type": "code",
   "execution_count": 9,
   "id": "27",
   "metadata": {},
   "outputs": [
    {
     "data": {
      "text/plain": [
       "59"
      ]
     },
     "execution_count": 9,
     "metadata": {},
     "output_type": "execute_result"
    }
   ],
   "source": [
    "len(set(words))  # convert to set to remove duplicates"
   ]
  },
  {
   "cell_type": "markdown",
   "id": "28",
   "metadata": {},
   "source": [
    "#### Exercise 22.3.1 (optional)"
   ]
  },
  {
   "cell_type": "markdown",
   "id": "29",
   "metadata": {},
   "source": [
    "Looking at the code again, two improvements come to my mind. First,\n",
    "return a set instead of a sequence of words, to avoid duplicates.\n",
    "Second, remove unnecessary parameters. For example, function `can_extend`\n",
    "doesn't need the `grid` and `valid` arguments.\n",
    "\n",
    "Copy all functions to the cell below, make the suggested changes and any others\n",
    "you wish and run the code to check it still finds 59 words in the grid."
   ]
  },
  {
   "cell_type": "code",
   "execution_count": 10,
   "id": "30",
   "metadata": {},
   "outputs": [],
   "source": [
    "# copy the functions to here\n",
    "\n",
    "len(trackword([\"set\", \"err\", \"vei\"], vocabulary)) == 59"
   ]
  },
  {
   "cell_type": "markdown",
   "id": "31",
   "metadata": {},
   "source": [
    "#### Exercise 22.3.2 (optional)"
   ]
  },
  {
   "cell_type": "markdown",
   "id": "32",
   "metadata": {},
   "source": [
    "Implement a more substantial change:\n",
    "represent each candidate as a sequence–string pair. This is\n",
    "a space–time tradeoff to avoid repeatedly converting a path to a string.\n",
    "When extending a candidate, append a square to the sequence\n",
    "and the corresponding letter to the string."
   ]
  },
  {
   "cell_type": "markdown",
   "id": "33",
   "metadata": {},
   "source": [
    "### 22.3.4 Template"
   ]
  },
  {
   "cell_type": "markdown",
   "id": "34",
   "metadata": {},
   "source": [
    "In general,\n",
    "to solve a problem with backtracking, first think of what the items, candidates\n",
    "and extensions represent and which are the global and local constraints.\n",
    "Then follow this backtracking solution template, replacing the generic\n",
    "function and variable names and docstrings with problem-specific ones, and\n",
    "removing unnecessary parameters.\n",
    "```python\n",
    "def problem(instance: object) -> list:\n",
    "    \"\"\"Return all solutions for the problem instance, in the order generated.\"\"\"\n",
    "    candidate = []\n",
    "    extensions = ...\n",
    "    solutions = []\n",
    "    extend(candidate, extensions, instance, solutions)\n",
    "    return solutions\n",
    "\n",
    "def extend(candidate: list, extensions: set, instance: object, solutions: list) -> None:\n",
    "    \"\"\"Add to solutions all extensions of candidate that solve the problem instance.\"\"\"\n",
    "    # remove next line if partial candidates can be solutions\n",
    "    if len(extensions) == 0:\n",
    "        if satisfies_global(candidate, instance):\n",
    "            solutions.append(candidate)\n",
    "    for item in extensions:\n",
    "        if can_extend(item, candidate, instance):\n",
    "            extend(candidate + [item], extensions - {item}, instance, solutions)\n",
    "\n",
    "def satisfies_global(candidate: list, instance: object) -> bool:\n",
    "    \"\"\"Check if candidate satisfies the global constraints.\"\"\"\n",
    "    return ...\n",
    "\n",
    "def can_extend(item: object, candidate: list, instance: object) -> bool:\n",
    "    \"\"\"Check if item may extend candidate towards a solution.\"\"\"\n",
    "    return ...\n",
    "```"
   ]
  },
  {
   "cell_type": "markdown",
   "id": "35",
   "metadata": {},
   "source": [
    "⟵ [Previous section](22_2_pruning.ipynb) | [Up](22-introduction.ipynb) | [Next section](22_4_optimising.ipynb) ⟶"
   ]
  }
 ],
 "metadata": {
  "kernelspec": {
   "display_name": "Python 3",
   "language": "python",
   "name": "python3"
  },
  "language_info": {
   "codemirror_mode": {
    "name": "ipython",
    "version": 3
   },
   "file_extension": ".py",
   "mimetype": "text/x-python",
   "name": "python",
   "nbconvert_exporter": "python",
   "pygments_lexer": "ipython3",
   "version": "3.12.10"
  }
 },
 "nbformat": 4,
 "nbformat_minor": 5
}
