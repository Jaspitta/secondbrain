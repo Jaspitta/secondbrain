{
 "cells": [
  {
   "cell_type": "markdown",
   "id": "0",
   "metadata": {},
   "source": [
    "## 22.4 Optimise"
   ]
  },
  {
   "cell_type": "markdown",
   "id": "1",
   "metadata": {},
   "source": [
    "I've shown you how to solve constraint satisfaction problems on sequences\n",
    "with backtracking. It shouldn't be a surprise that backtracking can also\n",
    "solve optimisation problems.\n",
    "Instead of collecting all solutions in a list or set,\n",
    "the algorithm keeps only the best solution found so far.\n",
    "Let's see an example."
   ]
  },
  {
   "cell_type": "markdown",
   "id": "2",
   "metadata": {},
   "source": [
    "### 22.4.1 The problem"
   ]
  },
  {
   "cell_type": "markdown",
   "id": "3",
   "metadata": {},
   "source": [
    "I take the earlier problem of finding sequences of numbers from 1 to *n*\n",
    "that satisfy range and parity constraints, and add an optimisation criterion:\n",
    "we want a sequence with a lowest sum.\n",
    "For example, for *n* = 4, the best sequence is (1, 4) because its sum 5\n",
    "is lowest among all other sequences that satisfy both constraints.\n",
    "\n",
    "An optimisation problem asks to find a solution that minimises or maximises\n",
    "some value. We thus need a function that calculates the value of a candidate.\n",
    "For this problem, it's simply the sum of the numbers in the sequence."
   ]
  },
  {
   "cell_type": "code",
   "execution_count": 1,
   "id": "4",
   "metadata": {},
   "outputs": [],
   "source": [
    "def value(numbers: list) -> int:\n",
    "    \"\"\"Return the value of the candidate: the sum of the numbers.\"\"\"\n",
    "    total = 0\n",
    "    for number in numbers:\n",
    "        total = total + number\n",
    "    return total"
   ]
  },
  {
   "cell_type": "markdown",
   "id": "5",
   "metadata": {},
   "source": [
    "With respect to the earlier solution for the constraint satisfaction problem,\n",
    "I need to make two changes. First,\n",
    "instead of appending each solution found to a sequence,\n",
    "the backtracking algorithm must receive the current best solution as input and\n",
    "update it when it finds a better solution.\n",
    "Second, the main function must compute some initial best solution and pass it\n",
    "to the backtracking function.\n",
    "Let's do these changes in turn."
   ]
  },
  {
   "cell_type": "markdown",
   "id": "6",
   "metadata": {},
   "source": [
    "### 22.4.2 Keep the best"
   ]
  },
  {
   "cell_type": "markdown",
   "id": "7",
   "metadata": {},
   "source": [
    "The backtracking algorithm must compare each found solution to the current best\n",
    "and update the latter if the new solution is better.\n",
    "If it's a minimisation problem, better means having a lower value,\n",
    "otherwise better means higher.\n",
    "\n",
    "To avoid recomputing the best solution's value every time it's compared to\n",
    "a new solution, I will trade space for time and keep a solution–value pair\n",
    "instead of just the best solution. Usually I represent a pair with a tuple,\n",
    "but to be able to update the pair, I use a list of length two with\n",
    "[constants to name the indices](../04_Iteration/04_5_tuples.ipynb#4.5.3-Tables)."
   ]
  },
  {
   "cell_type": "code",
   "execution_count": 2,
   "id": "8",
   "metadata": {},
   "outputs": [],
   "source": [
    "SOLUTION = 0\n",
    "VALUE = 1"
   ]
  },
  {
   "cell_type": "markdown",
   "id": "9",
   "metadata": {},
   "source": [
    "I could instead have defined a class with two data fields,\n",
    "similar to the node classes for\n",
    "[linked lists](../06_Implementing/06_7_linked_list.ipynb#6.7.3-The-LinkedSequence-class) and\n",
    "[binary trees](../16_Trees/16_1_binary.ipynb#16.1.2-ADT-and-data-structure).\n",
    "I'll leave that as an optional exercise, if you wish to practise using classes.\n",
    "\n",
    "The backtracking function is largely the same as before.\n",
    "The `solutions` parameter is replaced by the best solution–value pair,\n",
    "which is updated when the current candidate is a better solution.\n",
    "\n",
    "I add some print statements to later follow the algorithm's actions."
   ]
  },
  {
   "cell_type": "code",
   "execution_count": 3,
   "id": "10",
   "metadata": {},
   "outputs": [],
   "source": [
    "def extend(candidate: list, extensions: set, n: int, best: list) -> None:\n",
    "    \"\"\"Update best if needed, and extend candidate.\"\"\"\n",
    "    print(\"Visiting node\", candidate, extensions)\n",
    "    if satisfies_range(candidate, n):\n",
    "        candidate_value = value(candidate)\n",
    "        if candidate_value < best[VALUE]:\n",
    "            print(\"New best\", candidate, \"with value\", candidate_value)\n",
    "            best[SOLUTION] = candidate\n",
    "            best[VALUE] = candidate_value\n",
    "    for item in extensions:\n",
    "        if can_extend(item, candidate):\n",
    "            extend(candidate + [item], extensions - {item}, n, best)"
   ]
  },
  {
   "cell_type": "markdown",
   "id": "11",
   "metadata": {},
   "source": [
    "The current best solution must be initialised before starting the search.\n",
    "Since the search updates the current best every time a better one is found,\n",
    "the initial best can be *any* solution,\n",
    "preferably one that is easy to construct.\n",
    "\n",
    "For this problem, sequence (1, 2, ..., *n*) is a solution:\n",
    "it satisfies both constraints."
   ]
  },
  {
   "cell_type": "code",
   "execution_count": 4,
   "id": "12",
   "metadata": {},
   "outputs": [],
   "source": [
    "def best_sequence(n: int) -> list:\n",
    "    \"\"\"Return a lowest sum sequence that satisfies both constraints.\"\"\"\n",
    "    candidate = []\n",
    "    extensions = set(range(1, n + 1))\n",
    "    solution = list(range(1, n + 1))\n",
    "    best = [solution, value(solution)]\n",
    "    extend(candidate, extensions, n, best)\n",
    "    return best"
   ]
  },
  {
   "cell_type": "markdown",
   "id": "13",
   "metadata": {},
   "source": [
    "The constraint checking functions are as before."
   ]
  },
  {
   "cell_type": "code",
   "execution_count": 5,
   "id": "14",
   "metadata": {},
   "outputs": [
    {
     "name": "stdout",
     "output_type": "stream",
     "text": [
      "Visiting node [] {1, 2, 3, 4}\n",
      "Visiting node [1] {2, 3, 4}\n",
      "Visiting node [1, 2] {3, 4}\n",
      "Visiting node [1, 2, 3] {4}\n",
      "New best [1, 2, 3] with value 6\n",
      "Visiting node [1, 2, 3, 4] set()\n",
      "Visiting node [1, 4] {2, 3}\n",
      "New best [1, 4] with value 5\n",
      "Visiting node [1, 4, 3] {2}\n",
      "Visiting node [1, 4, 3, 2] set()\n",
      "Visiting node [3] {1, 2, 4}\n",
      "Visiting node [3, 2] {1, 4}\n",
      "Visiting node [3, 2, 1] {4}\n",
      "Visiting node [3, 2, 1, 4] set()\n",
      "Visiting node [3, 4] {1, 2}\n",
      "Visiting node [3, 4, 1] {2}\n",
      "Visiting node [3, 4, 1, 2] set()\n"
     ]
    },
    {
     "data": {
      "text/plain": [
       "[[1, 4], 5]"
      ]
     },
     "execution_count": 5,
     "metadata": {},
     "output_type": "execute_result"
    }
   ],
   "source": [
    "def satisfies_range(candidate: list, n: int) -> bool:\n",
    "    \"\"\"Check if first and last numbers in candidate are at least n/2 apart.\n",
    "\n",
    "    Preconditions: candidate is a list of integers; n > 2\n",
    "    \"\"\"\n",
    "    return len(candidate) > 1 and abs(candidate[0] - candidate[-1]) >= n / 2\n",
    "\n",
    "\n",
    "def can_extend(item: int, candidate: list) -> bool:\n",
    "    \"\"\"Check if extending candidate with item can lead to a solution.\"\"\"\n",
    "    # the number and the index where it will be put must have different parity\n",
    "    return item % 2 != len(candidate) % 2\n",
    "\n",
    "\n",
    "best_sequence(4)"
   ]
  },
  {
   "cell_type": "markdown",
   "id": "15",
   "metadata": {},
   "source": [
    "As desired, the result is the sequence (1, 4) with lowest sum 5.\n",
    "\n",
    "This version visits 15 nodes. Can we further prune the search space?\n",
    "(All together now: oh yes, we can!)"
   ]
  },
  {
   "cell_type": "markdown",
   "id": "16",
   "metadata": {},
   "source": [
    "### 22.4.3 Avoid worse candidates"
   ]
  },
  {
   "cell_type": "markdown",
   "id": "17",
   "metadata": {},
   "source": [
    "When using backtracking for an optimisation problem,\n",
    "we must think whether we can avoid generating candidates that won't lead to\n",
    "a better solution than the current one.\n",
    "\n",
    "In this problem, as a sequence is extended, its sum grows\n",
    "because all extensions are positive numbers.\n",
    "When a sequence reaches or surpasses the sum of the current best\n",
    "solution, we know this sequence can't lead to a better solution,\n",
    "with a lower sum, so we can stop extending it.\n",
    "\n",
    "To do this check, the `can_extend` function needs another parameter:\n",
    "the current best."
   ]
  },
  {
   "cell_type": "code",
   "execution_count": 6,
   "id": "18",
   "metadata": {},
   "outputs": [],
   "source": [
    "def can_extend(item: int, candidate: list, best: list) -> bool:\n",
    "    \"\"\"Check if item can extend candidate to a better solution than best.\"\"\"\n",
    "    return item % 2 != len(candidate) % 2 and item + value(candidate) < best[VALUE]"
   ]
  },
  {
   "cell_type": "markdown",
   "id": "19",
   "metadata": {},
   "source": [
    "Because of the extra parameter, we must change its call in `extend`."
   ]
  },
  {
   "cell_type": "code",
   "execution_count": 7,
   "id": "20",
   "metadata": {},
   "outputs": [
    {
     "name": "stdout",
     "output_type": "stream",
     "text": [
      "Visiting node [] {1, 2, 3, 4}\n",
      "Visiting node [1] {2, 3, 4}\n",
      "Visiting node [1, 2] {3, 4}\n",
      "Visiting node [1, 2, 3] {4}\n",
      "New best [1, 2, 3] with value 6\n",
      "Visiting node [1, 4] {2, 3}\n",
      "New best [1, 4] with value 5\n",
      "Visiting node [3] {1, 2, 4}\n"
     ]
    },
    {
     "data": {
      "text/plain": [
       "[[1, 4], 5]"
      ]
     },
     "execution_count": 7,
     "metadata": {},
     "output_type": "execute_result"
    }
   ],
   "source": [
    "def extend(candidate: list, extensions: set, n: int, best: list) -> None:\n",
    "    \"\"\"Update best if a better extension of candidate is found.\"\"\"\n",
    "    print(\"Visiting node\", candidate, extensions)\n",
    "    if satisfies_range(candidate, n):\n",
    "        candidate_value = value(candidate)\n",
    "        if candidate_value < best[VALUE]:\n",
    "            print(\"New best\", candidate, \"with value\", candidate_value)\n",
    "            best[SOLUTION] = candidate\n",
    "            best[VALUE] = candidate_value\n",
    "    for item in extensions:\n",
    "        if can_extend(item, candidate, best):  # changed line\n",
    "            extend(candidate + [item], extensions - {item}, n, best)\n",
    "\n",
    "\n",
    "best_sequence(4)"
   ]
  },
  {
   "cell_type": "markdown",
   "id": "21",
   "metadata": {},
   "source": [
    "As you can see, only six of the previous 15 nodes are created and visited.\n",
    "Once a solution with sum 5 is found, partial candidates starting with 3 aren't\n",
    "generated because number 3 can only be followed by 2 or 4, both leading to\n",
    "sequences with sum at least 5 and thus not improving on the current best.\n",
    "\n",
    "Is this the best (pun intended) we can do to prune the search space?\n",
    "(All together: oh no, it isn't!)"
   ]
  },
  {
   "cell_type": "markdown",
   "id": "22",
   "metadata": {},
   "source": [
    "### 22.4.4 Start well"
   ]
  },
  {
   "cell_type": "markdown",
   "id": "23",
   "metadata": {},
   "source": [
    "I mentioned earlier that we can start with any solution because the search\n",
    "continuously improves on it until it finds the best solution. However,\n",
    "now that the algorithm uses the best solution to not generate candidates\n",
    "leading to equally good or worse solutions,\n",
    "we should start with an initial solution close to a best one,\n",
    "to further prune the search space.\n",
    "The trick is to think of a good solution that is easy to construct.\n",
    "\n",
    "Based on the fact that (1, 4) is a best solution for *n* = 4,\n",
    "I choose (1, *n*) or (1, 2, *n*) as the initial solution,\n",
    "depending on whether *n* is even or odd. (Remember that *n* > 2.)"
   ]
  },
  {
   "cell_type": "code",
   "execution_count": 8,
   "id": "24",
   "metadata": {},
   "outputs": [
    {
     "name": "stdout",
     "output_type": "stream",
     "text": [
      "Visiting node [] {1, 2, 3, 4}\n",
      "Visiting node [1] {2, 3, 4}\n",
      "Visiting node [1, 2] {3, 4}\n",
      "Visiting node [3] {1, 2, 4}\n"
     ]
    },
    {
     "data": {
      "text/plain": [
       "[[1, 4], 5]"
      ]
     },
     "execution_count": 8,
     "metadata": {},
     "output_type": "execute_result"
    }
   ],
   "source": [
    "def best_sequence(n: int) -> list:\n",
    "    \"\"\"Return a lowest sum sequence that satisfies both constraints.\"\"\"\n",
    "    candidate = []\n",
    "    extensions = set(range(1, n + 1))\n",
    "    if n % 2 == 0:\n",
    "        solution = [1, n]\n",
    "    else:\n",
    "        solution = [1, 2, n]\n",
    "    best = [solution, value(solution)]\n",
    "    extend(candidate, extensions, n, best)\n",
    "    return best\n",
    "\n",
    "\n",
    "best_sequence(4)"
   ]
  },
  {
   "cell_type": "markdown",
   "id": "25",
   "metadata": {},
   "source": [
    "The final version only visits four of the initial version's 15 nodes:\n",
    "the search space has been reduced by over 70%!\n",
    "\n",
    "To sum up, backtracking can solve optimisation problems by\n",
    "keeping track of the current best solution and its value, and by\n",
    "updating both when a better solution is found.\n",
    "For optimisation problems where extending a candidate worsens its value,\n",
    "e.g. makes the value larger but it's a minimisation problem,\n",
    "the search space can be pruned by stopping extending a candidate when\n",
    "its value is equal to or worse than the current best. Further pruning\n",
    "can be obtained by constructing an initial solution close to a best one."
   ]
  },
  {
   "cell_type": "markdown",
   "id": "26",
   "metadata": {},
   "source": [
    "⟵ [Previous section](22_3_trackword.ipynb) | [Up](22-introduction.ipynb) | [Next section](22_5_tsp.ipynb) ⟶"
   ]
  }
 ],
 "metadata": {
  "kernelspec": {
   "display_name": "Python 3",
   "language": "python",
   "name": "python3"
  },
  "language_info": {
   "codemirror_mode": {
    "name": "ipython",
    "version": 3
   },
   "file_extension": ".py",
   "mimetype": "text/x-python",
   "name": "python",
   "nbconvert_exporter": "python",
   "pygments_lexer": "ipython3",
   "version": "3.12.10"
  }
 },
 "nbformat": 4,
 "nbformat_minor": 5
}
