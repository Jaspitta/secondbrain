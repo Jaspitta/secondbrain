{
 "cells": [
  {
   "cell_type": "markdown",
   "id": "0",
   "metadata": {},
   "source": [
    "# 22 Backtracking"
   ]
  },
  {
   "cell_type": "markdown",
   "id": "1",
   "metadata": {},
   "source": [
    "In Chapter&nbsp;11 you learned about [exhaustive search](../11_Search/11-introduction.ipynb#11-Exhaustive-search),\n",
    "also called brute-force search or generate and test in M269.\n",
    "It iteratively generates candidates and tests them to check if they are solutions.\n",
    "This usually leads to generating far more candidates than there are solutions.\n",
    "There are some techniques to prune the search space,\n",
    "i.e. to generate fewer candidates, but they depend on the problem.\n",
    "\n",
    "This chapter introduces backtracking, a search technique that is\n",
    "elegant and concise (because it's recursive),\n",
    "efficient (because it can prune the search space substantially)\n",
    "and systematic (because it always follows the same template).\n",
    "The technique only applies to problems where each solution\n",
    "(and therefore each candidate) is a collection of items, because backtracking\n",
    "relies on generating each candidate incrementally, one item at a time.\n",
    "\n",
    "Section&nbsp;1 of this chapter introduces a recursive exhaustive search\n",
    "for sequences of items that satisfy some constraints.\n",
    "Section&nbsp;2 turns exhaustive search into a backtracking algorithm by making\n",
    "a small change that prunes the search space.\n",
    "Section&nbsp;3&nbsp;shows a typical example of applying backtracking: solving a puzzle.\n",
    "\n",
    "Sections 4 and 5&nbsp;show how backtracking can also solve optimisation problems,\n",
    "where one best among several possible solutions is asked for,\n",
    "using the travelling salesman problem as an example.\n",
    "\n",
    "Finally, Sections 6 and 7 explain how to adapt backtracking to solve\n",
    "problems that are about sets of items instead of sequences of items,\n",
    "using the 0/1 knapsack problem as an example."
   ]
  },
  {
   "cell_type": "markdown",
   "id": "2",
   "metadata": {},
   "source": [
    "<div class=\"alert alert-info\">\n",
    "<strong>Info:</strong> Some authors use the term 'exhaustive search' to also include backtracking,\n",
    "but the latter in fact avoids searching all candidates.\n",
    "</div>"
   ]
  },
  {
   "cell_type": "markdown",
   "id": "3",
   "metadata": {},
   "source": [
    "This chapter supports these learning outcomes:\n",
    "\n",
    "- Understand the common general-purpose data structures, algorithmic techniques and complexity classes - you will learn about\n",
    "  backtracking, which is more efficient than brute-force search.\n",
    "- Write readable, tested, documented and efficient Python code – this chapter introduces\n",
    "  code templates for backtracking that you can adapt to solve various problems.\n",
    "\n",
    "Before starting to work on this chapter, check the M269\n",
    "[news](https://learn2.open.ac.uk/blocks/news/all.php?bi=326014) and [errata](https://learn2.open.ac.uk/mod/url/view.php?id=2554721),\n",
    "and check the TMAs for what is assessed."
   ]
  },
  {
   "cell_type": "markdown",
   "id": "4",
   "metadata": {
    "nbsphinx-toctree": {
     "hidden": true,
     "maxdepth": 1,
     "numbered": false
    }
   },
   "source": [
    "1. [Generate sequences](22_1_sequences.ipynb)\n",
    "1. [Prune the search space](22_2_pruning.ipynb)\n",
    "1. [Trackword](22_3_trackword.ipynb)\n",
    "1. [Optimise](22_4_optimising.ipynb)\n",
    "1. [Back to the TSP](22_5_tsp.ipynb)\n",
    "1. [Generate subsets](22_6_subsets.ipynb)\n",
    "1. [Back to the knapsack](22_7_knapsack.ipynb)\n",
    "1. [Summary](22_8_summary.ipynb)"
   ]
  },
  {
   "cell_type": "markdown",
   "id": "5",
   "metadata": {},
   "source": [
    "⟵ [Previous chapter](../21_Graphs_2/21-introduction.ipynb) | [Up](../M269.ipynb) | [Next chapter](../23_Dynamic_Programming/23-introduction.ipynb) ⟶"
   ]
  }
 ],
 "metadata": {
  "kernelspec": {
   "display_name": "Python 3",
   "language": "python",
   "name": "python3"
  },
  "language_info": {
   "codemirror_mode": {
    "name": "ipython",
    "version": 3
   },
   "file_extension": ".py",
   "mimetype": "text/x-python",
   "name": "python",
   "nbconvert_exporter": "python",
   "pygments_lexer": "ipython3",
   "version": "3.12.10"
  }
 },
 "nbformat": 4,
 "nbformat_minor": 5
}
