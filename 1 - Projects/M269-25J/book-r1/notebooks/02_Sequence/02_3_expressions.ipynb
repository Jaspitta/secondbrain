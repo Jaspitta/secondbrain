{
 "cells": [
  {
   "cell_type": "markdown",
   "id": "0",
   "metadata": {},
   "source": [
    "## 2.3 Expressions"
   ]
  },
  {
   "cell_type": "markdown",
   "id": "1",
   "metadata": {},
   "source": [
    "An **expression** is a single value, like 3 or 2.4,\n",
    "a single variable, like *x*, or an operator applied to subexpressions.\n",
    "We can only apply an operator if we know the values of its operands. So, to\n",
    "compute the value of an expression we must first evaluate its subexpressions\n",
    "to obtain their values.\n",
    "We also need to know the value of each variable that occurs in the expression.\n",
    "The following examples assume the variables have already been replaced with their values.\n",
    "\n",
    "Subexpressions that are not single values or variables\n",
    "are enclosed in parentheses.\n",
    "For example, the expression (3 + 4) × 5 consists of a multiplication applied to\n",
    "subexpression 3 + 4 (the left operand) and subexpression 5 (the right operand),\n",
    "which is a single value.\n",
    "In turn, subexpression 3 + 4 is the addition of two values.\n",
    "The value of the expression is (3 + 4) × 5 = 7 × 5 = 35.\n",
    "By contrast, the value of 3 + (4 × 5) is 23.\n",
    "Both expressions have the same operators, but the subexpressions differ.\n",
    "Hence the order of the operations also differs and so do the results.\n",
    "\n",
    "Writing parentheses around each subexpression gets tedious for long expressions,\n",
    "so mathematicians invented conventions to reduce the need for parentheses.\n",
    "The conventions are based on two concepts: **precedence** and **associativity**.\n",
    "\n",
    "The precedence of an operation indicates its order of evaluation in relation to\n",
    "other operations. For example,\n",
    "if multiplication has higher precedence than addition,\n",
    "then 3 + 4 × 5 = 3 + (4 × 5),\n",
    "but if addition has the higher precedence of the two,\n",
    "then 3 + 4 × 5 = (3 + 4) × 5.\n",
    "\n",
    "Operations with the same precedence are\n",
    "**left-associative**, i.e. executed from left to right, or\n",
    "**right-associative**, i.e. executed right to left. For example, if\n",
    "multiplication and addition have the same precedence and are left-associative,\n",
    "then 3 + 4 × 5 = (3 + 4) × 5,\n",
    "but if they're right-associative, then 3 + 4 × 5 = 3 + (4 × 5).\n",
    "\n",
    "The precedence and associativity of operations changed throughout the history\n",
    "of mathematics, and it varies among authors, programming languages,\n",
    "spreadsheet apps and calculators. It's a jungle out there...\n",
    "M269 follows Python's precedence and associativity rules, so that\n",
    "mathematical expressions can be translated directly to Python.\n",
    "The next table lists the operations from highest to lowest precedence,\n",
    "and indicates the associativity for operations at the same precedence level.\n",
    "\n",
    "Operation | Associativity\n",
    "-|-\n",
    "brackets  |  left\n",
    "exponentiation  |  right\n",
    "negation | right\n",
    "multiplication, division, floor division, modulo  |  left\n",
    "addition, subtraction  |  left\n",
    "\n",
    "If we consider brackets as operators, then\n",
    "bracketed expressions have the highest precedence and\n",
    "are evaluated 'inside out' (most nested first),\n",
    "because subexpressions must be evaluated before the operator is applied.\n",
    "Bracketed expressions at the same nesting level are evaluated left to right.\n",
    "The floor operator and\n",
    "any operation written in functional notation are also bracketed expressions.\n",
    "\n",
    "With these rules, an expression represents a calculation algorithm:\n",
    "an expression consists of unambiguous instructions (the arithmetic operations)\n",
    "structured according to the precedence and associativity rules,\n",
    "which make it possible to evaluate an expression as a step-by-step procedure.\n",
    "\n",
    "If the expression includes an operation on invalid operands,\n",
    "then the algorithm stops and the expression is considered **undefined**:\n",
    "it can't be evaluated. If the expression is written in Python, then\n",
    "the interpreter, which is carrying out the evaluation algorithm,\n",
    "stops with some error message (usually division by zero).\n",
    "\n",
    "The algorithm can be 'shown' by making the precedence and associativity rules\n",
    "explicit with parentheses and then rewriting the expression step by step\n",
    "until a value is obtained or until a value can't be obtained.\n",
    "Some examples:\n",
    "\n",
    "- $2^{3^{2}} = 2^{(3^{2})} = 2⁹ = 512$\n",
    "- 3 / 0⁵ = 3 / (0⁵) = 3 / 0: this expression is undefined\n",
    "- 2 + − − −5 = 2 + (−(−(−5))) = 2 + (−5) = −3\n",
    "- 3 + 4 × 5 = 3 + (4 × 5) = 23\n",
    "- 3 − 4 − 5 = (3 − 4) − 5 = −6\n",
    "- 7 − floor(3/4 + 0.5) mod 2 = 7 − (floor((3/4) + 0.5) mod 2) =  7 − (floor(0.75 + 0.5) mod 2 ) = 7 − (floor(1.25) mod 2) = 7 − (1 mod 2) = 7 − 1 = 6\n",
    "- −2⁰ = −(2⁰) = −1\n",
    "\n",
    "The final example explains the mystery at the end of the previous section:\n",
    "exponentiation has the highest precedence, so the negation is evaluated last.\n",
    "The minus sign is not part of the number, it's an operator, and therefore\n",
    "subject to precedence and associativity rules.\n",
    "We have to put brackets to force our intended order of evaluation."
   ]
  },
  {
   "cell_type": "code",
   "execution_count": 1,
   "id": "2",
   "metadata": {},
   "outputs": [
    {
     "data": {
      "text/plain": [
       "1"
      ]
     },
     "execution_count": 1,
     "metadata": {},
     "output_type": "execute_result"
    }
   ],
   "source": [
    "(-2) ** 0"
   ]
  },
  {
   "cell_type": "markdown",
   "id": "3",
   "metadata": {},
   "source": [
    "Negation has higher precedence than the other arithmetic operations,\n",
    "so −2 + 3 evaluates to 1 and not −(2 + 3) = −5.\n",
    "\n",
    "Whenever you have an expression with exponentiation and negative numbers,\n",
    "I recommend adding parentheses to show explicitly how it should be evaluated,\n",
    "even if they are not necessary, as for example in `-(3 ** 4)`."
   ]
  },
  {
   "cell_type": "markdown",
   "id": "4",
   "metadata": {},
   "source": [
    "### 2.3.1 Mistakes"
   ]
  },
  {
   "cell_type": "markdown",
   "id": "5",
   "metadata": {},
   "source": [
    "Since most arithmetic operators are left-associative, it's easy to forget that\n",
    "exponentiation is right-associative, which may lead to different results from what we're expecting."
   ]
  },
  {
   "cell_type": "code",
   "execution_count": 2,
   "id": "6",
   "metadata": {},
   "outputs": [
    {
     "data": {
      "text/plain": [
       "512"
      ]
     },
     "execution_count": 2,
     "metadata": {},
     "output_type": "execute_result"
    }
   ],
   "source": [
    "2**3**2  # this is evaluated right to left"
   ]
  },
  {
   "cell_type": "code",
   "execution_count": 3,
   "id": "7",
   "metadata": {},
   "outputs": [
    {
     "data": {
      "text/plain": [
       "64"
      ]
     },
     "execution_count": 3,
     "metadata": {},
     "output_type": "execute_result"
    }
   ],
   "source": [
    "(2**3) ** 2  # use parentheses to force left-to-right evaluation"
   ]
  },
  {
   "cell_type": "markdown",
   "id": "8",
   "metadata": {},
   "source": [
    "To show clearly your intentions and make code easy to understand,\n",
    "I think it's best to write the first example as `2 ** (3 ** 2)`,\n",
    "even though the parentheses are redundant, because it reminds the reader\n",
    "how the expression is evaluated."
   ]
  },
  {
   "cell_type": "markdown",
   "id": "9",
   "metadata": {},
   "source": [
    "<div class=\"alert alert-warning\">\n",
    "<strong>Note:</strong> When the expression involves exponentiation, use parentheses,\n",
    "even if they're not necessary.\n",
    "</div>"
   ]
  },
  {
   "cell_type": "markdown",
   "id": "10",
   "metadata": {},
   "source": [
    "#### Exercise 2.3.1"
   ]
  },
  {
   "cell_type": "markdown",
   "id": "11",
   "metadata": {},
   "source": [
    "In the previous section I wrote −2³ = −2 × −2 × −2 = −8. Is this correct,\n",
    "considering the precedence and associativity rules now introduced?\n",
    "If yes, explain why; if not, show how −2³ is evaluated."
   ]
  },
  {
   "cell_type": "markdown",
   "id": "12",
   "metadata": {},
   "source": [
    "_Write your answer here._"
   ]
  },
  {
   "cell_type": "markdown",
   "id": "13",
   "metadata": {},
   "source": [
    "[Hint](../31_Hints/Hints_02_3_01.ipynb)\n",
    "[Answer](../32_Answers/Answers_02_3_01.ipynb)"
   ]
  },
  {
   "cell_type": "markdown",
   "id": "14",
   "metadata": {},
   "source": [
    "⟵ [Previous section](02_2_operations.ipynb) | [Up](02-introduction.ipynb) | [Next section](02_4_assignments.ipynb) ⟶"
   ]
  }
 ],
 "metadata": {
  "kernelspec": {
   "display_name": "Python 3",
   "language": "python",
   "name": "python3"
  },
  "language_info": {
   "codemirror_mode": {
    "name": "ipython",
    "version": 3
   },
   "file_extension": ".py",
   "mimetype": "text/x-python",
   "name": "python",
   "nbconvert_exporter": "python",
   "pygments_lexer": "ipython3",
   "version": "3.12.10"
  }
 },
 "nbformat": 4,
 "nbformat_minor": 5
}
