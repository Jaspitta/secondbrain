{
 "cells": [
  {
   "cell_type": "markdown",
   "id": "0",
   "metadata": {},
   "source": [
    "## 2.2 Arithmetic operations"
   ]
  },
  {
   "cell_type": "markdown",
   "id": "1",
   "metadata": {},
   "source": [
    "This section lists the most common arithmetic operations used in M269.\n",
    "Further operations may be introduced in later chapters, as needed.\n",
    "I first introduce the ADT operations and then the corresponding Python operations.\n",
    "\n",
    "The mathematical or Python symbols that represent operations are called\n",
    "**operators**, and the values the operator applies to are the **operands**.\n",
    "For example, in 3 + 4, value 3 is the left operand and value 4 is the right\n",
    "operand of the operator +."
   ]
  },
  {
   "cell_type": "markdown",
   "id": "2",
   "metadata": {},
   "source": [
    "### 2.2.1 On real numbers"
   ]
  },
  {
   "cell_type": "markdown",
   "id": "3",
   "metadata": {},
   "source": [
    "The most common operations of the real number ADT are\n",
    "**addition**, **subtraction**, **multiplication** and **division**.\n",
    "The corresponding operators are +, −, × and /.\n",
    "The corresponding results are called the\n",
    "**sum**, **difference**, **product** and **quotient** of the two operands."
   ]
  },
  {
   "cell_type": "markdown",
   "id": "4",
   "metadata": {},
   "source": [
    "<div class=\"alert alert-info\">\n",
    "<strong>Info:</strong> Other texts may write multiplication as <em>x</em> · <em>y</em>,\n",
    "or even just <em>xy</em>, and division as <em>x</em> ÷ <em>y</em>.\n",
    "</div>"
   ]
  },
  {
   "cell_type": "markdown",
   "id": "5",
   "metadata": {},
   "source": [
    "Division isn't defined when the right operand is zero. For example,\n",
    "3 / 0&nbsp;should be the quotient *z* such that *z* × 0 = 3\n",
    "because multiplication is the inverse of division.\n",
    "But there's no such *z*: any number multiplied by zero gives zero, not&nbsp;3.\n",
    "\n",
    "The **negation** operation, written −*x*,\n",
    "converts a negative number into a positive one and vice versa.\n",
    "We have −0 = 0 and −(−*x*) = *x* for any real number *x*.\n",
    "\n",
    "\n",
    "The **maximum** and **minimum** operations compute\n",
    "the largest and smallest of a series of numbers, respectively.\n",
    "Because the operation can take a variable number of operands,\n",
    "it's written in functional notation, with the name of the operation\n",
    "(max or min, in this case) preceding the operands,\n",
    "which are separated by commas and enclosed within parentheses (round brackets).\n",
    "For example, max(3, π, −0.5) = π, and min(3, π, −0.5) = −0.5.\n",
    "\n",
    "The **floor** operation, written floor(*x*), rounds *x* down.\n",
    "For example, floor(0.7) = 0 and floor(–0.2) = –1."
   ]
  },
  {
   "cell_type": "markdown",
   "id": "6",
   "metadata": {},
   "source": [
    "### 2.2.2 On integers"
   ]
  },
  {
   "cell_type": "markdown",
   "id": "7",
   "metadata": {},
   "source": [
    "All the above operations are also part of the integer ADT,\n",
    "because every integer is a real number too,\n",
    "although it's a bit pointless to round an integer.\n",
    "\n",
    "Addition, negation and the other operations produce an integer when\n",
    "applied to integers, except for division:\n",
    "dividing two integers may result in a real number, e.g. 2 / 3 isn't an integer\n",
    "but 6 / 3 is.\n",
    "\n",
    "We will use the **exponentiation** or **power** operation, written $x^y$,\n",
    "only with integer operands, and when **exponent** $y$ isn't negative.\n",
    "Under these conditions, the operation  multiplies the **base** $x$ with itself $y$ times,\n",
    "e.g. −2³ = −2 × −2 × −2 = −8. We define *x*⁰ = 1 for all integers *x*.\n",
    "\n",
    "The **modulo** operation, written *x* mod *y*, computes the remainder of\n",
    "dividing integer *x* by integer *y*. The modulo is undefined for *y* = 0.\n",
    "For example, dividing 5 by 2 results in 2 with a remainder of 1, so 5 mod 2 = 1,\n",
    "whereas dividing 9 by 3 results in 3 without a remainder, so 9 mod 3 = 0.\n",
    "If *x* mod *y* = 0 then we say that\n",
    "*x* is a **multiple** of *y* (or is **divisible** by *y*) and vice versa\n",
    "*y* is a **factor** or **divisor** of *x*."
   ]
  },
  {
   "cell_type": "markdown",
   "id": "8",
   "metadata": {},
   "source": [
    "<div class=\"alert alert-info\">\n",
    "<strong>Info:</strong> MU123 Unit&nbsp;3 Section&nbsp;1 introduces multiples, factors and powers.\n",
    "</div>"
   ]
  },
  {
   "cell_type": "markdown",
   "id": "9",
   "metadata": {},
   "source": [
    "Unfortunately, for negative operands, there are various definitions of modulo.\n",
    "M269 uses this one: *x* mod *y* = *x* − floor(*x* / *y*) × *y*.\n",
    "The definition also works for positive operands. Here are some examples:\n",
    "\n",
    "- 5 mod 2 = 5 − floor(5/2) × 2 = 5 − 2×2 = 1\n",
    "- −5 mod 2 = −5 − floor(−5/2) × 2 = −5 − (−3×2) = 1\n",
    "- 5 mod −2 = 5 − floor(5/−2) × −2 = 5 − (−3×−2) = −1"
   ]
  },
  {
   "cell_type": "markdown",
   "id": "10",
   "metadata": {},
   "source": [
    "#### Exercise 2.2.1"
   ]
  },
  {
   "cell_type": "markdown",
   "id": "11",
   "metadata": {},
   "source": [
    "An integer is **even** if it's a multiple of two,\n",
    "otherwise it's **odd**. For example, 0, 2 and −2 are even, but 1 and −1 are odd.\n",
    "Which operation would you use, and how,\n",
    "to check if a given integer *x* is even or odd?\n",
    "\n",
    "[Answer](../32_Answers/Answers_02_2_01.ipynb)"
   ]
  },
  {
   "cell_type": "markdown",
   "id": "12",
   "metadata": {},
   "source": [
    "### 2.2.3 On `int` and `float`"
   ]
  },
  {
   "cell_type": "markdown",
   "id": "13",
   "metadata": {},
   "source": [
    "The following operations are defined for both integers and floats.\n",
    "\n",
    "Python uses `+`, `-` and `/` for addition, subtraction,\n",
    "negation and division, but the multiplication operator is `*`.\n",
    "The result of division is always a float."
   ]
  },
  {
   "cell_type": "code",
   "execution_count": 1,
   "id": "14",
   "metadata": {},
   "outputs": [
    {
     "data": {
      "text/plain": [
       "2.0"
      ]
     },
     "execution_count": 1,
     "metadata": {},
     "output_type": "execute_result"
    }
   ],
   "source": [
    "6 / 3"
   ]
  },
  {
   "cell_type": "markdown",
   "id": "15",
   "metadata": {},
   "source": [
    "For the other operations, if both operands are integers, so is the result; otherwise, it's a float."
   ]
  },
  {
   "cell_type": "code",
   "execution_count": 2,
   "id": "16",
   "metadata": {},
   "outputs": [
    {
     "data": {
      "text/plain": [
       "5"
      ]
     },
     "execution_count": 2,
     "metadata": {},
     "output_type": "execute_result"
    }
   ],
   "source": [
    "2 + 3"
   ]
  },
  {
   "cell_type": "code",
   "execution_count": 3,
   "id": "17",
   "metadata": {},
   "outputs": [
    {
     "data": {
      "text/plain": [
       "5.0"
      ]
     },
     "execution_count": 3,
     "metadata": {},
     "output_type": "execute_result"
    }
   ],
   "source": [
    "2.0 + 3"
   ]
  },
  {
   "cell_type": "code",
   "execution_count": 4,
   "id": "18",
   "metadata": {},
   "outputs": [
    {
     "data": {
      "text/plain": [
       "-6"
      ]
     },
     "execution_count": 4,
     "metadata": {},
     "output_type": "execute_result"
    }
   ],
   "source": [
    "2 * -3"
   ]
  },
  {
   "cell_type": "markdown",
   "id": "19",
   "metadata": {},
   "source": [
    "The minimum and maximum operations are written as in mathematics.\n",
    "Here are the earlier examples, now in Python."
   ]
  },
  {
   "cell_type": "code",
   "execution_count": 5,
   "id": "20",
   "metadata": {},
   "outputs": [
    {
     "data": {
      "text/plain": [
       "3.141592653589793"
      ]
     },
     "execution_count": 5,
     "metadata": {},
     "output_type": "execute_result"
    }
   ],
   "source": [
    "import math\n",
    "max(3, math.pi, -0.5)"
   ]
  },
  {
   "cell_type": "code",
   "execution_count": 6,
   "id": "21",
   "metadata": {},
   "outputs": [
    {
     "data": {
      "text/plain": [
       "-0.5"
      ]
     },
     "execution_count": 6,
     "metadata": {},
     "output_type": "execute_result"
    }
   ],
   "source": [
    "min(3, math.pi, -0.5)"
   ]
  },
  {
   "cell_type": "markdown",
   "id": "22",
   "metadata": {},
   "source": [
    "We have to import a module in each notebook that uses it,\n",
    "but once a module is imported,\n",
    "it's available for all subsequent code cells in the same notebook."
   ]
  },
  {
   "cell_type": "markdown",
   "id": "23",
   "metadata": {},
   "source": [
    "### 2.2.4 On `float`"
   ]
  },
  {
   "cell_type": "markdown",
   "id": "24",
   "metadata": {},
   "source": [
    "We'll apply the floor operation to floats only,\n",
    "although it can be applied to integers too.\n",
    "The Python module `math` implements the operation."
   ]
  },
  {
   "cell_type": "code",
   "execution_count": 7,
   "id": "25",
   "metadata": {},
   "outputs": [
    {
     "data": {
      "text/plain": [
       "1"
      ]
     },
     "execution_count": 7,
     "metadata": {},
     "output_type": "execute_result"
    }
   ],
   "source": [
    "math.floor(1.5)"
   ]
  },
  {
   "cell_type": "code",
   "execution_count": 8,
   "id": "26",
   "metadata": {},
   "outputs": [
    {
     "data": {
      "text/plain": [
       "-2"
      ]
     },
     "execution_count": 8,
     "metadata": {},
     "output_type": "execute_result"
    }
   ],
   "source": [
    "math.floor(-1.5)"
   ]
  },
  {
   "cell_type": "markdown",
   "id": "27",
   "metadata": {},
   "source": [
    "### 2.2.5 On `int`"
   ]
  },
  {
   "cell_type": "markdown",
   "id": "28",
   "metadata": {},
   "source": [
    "Python's **floor division** is equivalent to division followed by rounding down.\n",
    "The operation is only defined on integers. The operator is two slashes."
   ]
  },
  {
   "cell_type": "code",
   "execution_count": 9,
   "id": "29",
   "metadata": {},
   "outputs": [
    {
     "data": {
      "text/plain": [
       "-0.6666666666666666"
      ]
     },
     "execution_count": 9,
     "metadata": {},
     "output_type": "execute_result"
    }
   ],
   "source": [
    "2 / -3      # one slash: float division"
   ]
  },
  {
   "cell_type": "code",
   "execution_count": 10,
   "id": "30",
   "metadata": {},
   "outputs": [
    {
     "data": {
      "text/plain": [
       "-1"
      ]
     },
     "execution_count": 10,
     "metadata": {},
     "output_type": "execute_result"
    }
   ],
   "source": [
    "2 // -3     # two slashes: floor division"
   ]
  },
  {
   "cell_type": "code",
   "execution_count": 11,
   "id": "31",
   "metadata": {},
   "outputs": [
    {
     "data": {
      "text/plain": [
       "0"
      ]
     },
     "execution_count": 11,
     "metadata": {},
     "output_type": "execute_result"
    }
   ],
   "source": [
    "2 // 3"
   ]
  },
  {
   "cell_type": "markdown",
   "id": "32",
   "metadata": {},
   "source": [
    "Can you explain the last two results?\n",
    "\n",
    "___\n",
    "\n",
    "(Remember that a long thin line is a 'stop reading and think' sign.)\n",
    "\n",
    "We have 2 / −3 = −0.66..., which rounds down to −1,\n",
    "whereas 2 / 3 = 0.66... rounds down to 0."
   ]
  },
  {
   "cell_type": "markdown",
   "id": "33",
   "metadata": {},
   "source": [
    "<div class=\"alert alert-info\">\n",
    "<strong>Info:</strong> If you're studying M250, note that Python's integer division is different from Java's.\n",
    "Python uses floor division whereas Java uses truncated division,\n",
    "i.e. removes the decimal part, so 2 divided by −3 is –1 in Python but 0 in Java.\n",
    "</div>"
   ]
  },
  {
   "cell_type": "markdown",
   "id": "34",
   "metadata": {},
   "source": [
    "As mentioned before, we'll use the modulo and power operations on integers only.\n",
    "In Python, the corresponding operators are `%` and `**`."
   ]
  },
  {
   "cell_type": "code",
   "execution_count": 12,
   "id": "35",
   "metadata": {},
   "outputs": [
    {
     "data": {
      "text/plain": [
       "1"
      ]
     },
     "execution_count": 12,
     "metadata": {},
     "output_type": "execute_result"
    }
   ],
   "source": [
    "5 % 2"
   ]
  },
  {
   "cell_type": "code",
   "execution_count": 13,
   "id": "36",
   "metadata": {},
   "outputs": [
    {
     "data": {
      "text/plain": [
       "1"
      ]
     },
     "execution_count": 13,
     "metadata": {},
     "output_type": "execute_result"
    }
   ],
   "source": [
    "-5 % 2"
   ]
  },
  {
   "cell_type": "code",
   "execution_count": 14,
   "id": "37",
   "metadata": {},
   "outputs": [
    {
     "data": {
      "text/plain": [
       "-1"
      ]
     },
     "execution_count": 14,
     "metadata": {},
     "output_type": "execute_result"
    }
   ],
   "source": [
    "5 % -2"
   ]
  },
  {
   "cell_type": "code",
   "execution_count": 15,
   "id": "38",
   "metadata": {},
   "outputs": [
    {
     "data": {
      "text/plain": [
       "-8"
      ]
     },
     "execution_count": 15,
     "metadata": {},
     "output_type": "execute_result"
    }
   ],
   "source": [
    "-2 ** 3"
   ]
  },
  {
   "cell_type": "markdown",
   "id": "39",
   "metadata": {},
   "source": [
    "<div class=\"alert alert-info\">\n",
    "<strong>Info:</strong> Python's and Java's modulo operations also differ, e.g.\n",
    "–5 modulo 2 is 1 in Python and –1 in Java.\n",
    "Python uses the definition shown earlier, based on floor division,\n",
    "whereas Java defines the modulo in terms of truncated division.\n",
    "</div>"
   ]
  },
  {
   "cell_type": "markdown",
   "id": "40",
   "metadata": {},
   "source": [
    "### 2.2.6 Mistakes"
   ]
  },
  {
   "cell_type": "markdown",
   "id": "41",
   "metadata": {},
   "source": [
    "Chapter&nbsp;1&nbsp;showed that some code cells may depend on the execution of earlier\n",
    "code cells. In this notebook, you'll get a name error if you run\n",
    "any of the cells with `floor`\n",
    "without having first executed the earlier cell with `import math`.\n",
    "\n",
    "Division, floor division and the modulo\n",
    "are undefined if the right operand is zero.\n",
    "The interpreter raises an error in such cases."
   ]
  },
  {
   "cell_type": "code",
   "execution_count": 16,
   "id": "42",
   "metadata": {},
   "outputs": [
    {
     "ename": "ZeroDivisionError",
     "evalue": "integer modulo by zero",
     "output_type": "error",
     "traceback": [
      "\u001b[0;31m---------------------------------------------------------------------------\u001b[0m",
      "\u001b[0;31mZeroDivisionError\u001b[0m                         Traceback (most recent call last)",
      "Cell \u001b[0;32mIn[16], line 1\u001b[0m\n\u001b[0;32m----> 1\u001b[0m \u001b[38;5;241;43m2\u001b[39;49m\u001b[43m \u001b[49m\u001b[38;5;241;43m%\u001b[39;49m\u001b[43m \u001b[49m\u001b[38;5;241;43m0\u001b[39;49m\n",
      "\u001b[0;31mZeroDivisionError\u001b[0m: integer modulo by zero"
     ]
    }
   ],
   "source": [
    "2 % 0"
   ]
  },
  {
   "cell_type": "markdown",
   "id": "43",
   "metadata": {},
   "source": [
    "If you want, you can duplicate the above cell and\n",
    "replace the modulo operation by division or floor division.\n",
    "\n",
    "If you leave a space between the slashes of the floor division operator,\n",
    "or the asterisks of the power operator, then the interpreter thinks\n",
    "you forgot an operand between two consecutive divisions or multiplications,\n",
    "and reports a generic **syntax error**."
   ]
  },
  {
   "cell_type": "code",
   "execution_count": 17,
   "id": "44",
   "metadata": {},
   "outputs": [
    {
     "ename": "SyntaxError",
     "evalue": "invalid syntax (2930827082.py, line 1)",
     "output_type": "error",
     "traceback": [
      "\u001b[0;36m  Cell \u001b[0;32mIn[17], line 1\u001b[0;36m\u001b[0m\n\u001b[0;31m    2 / / 3\u001b[0m\n\u001b[0m        ^\u001b[0m\n\u001b[0;31mSyntaxError\u001b[0m\u001b[0;31m:\u001b[0m invalid syntax\n"
     ]
    }
   ],
   "source": [
    "2 / / 3"
   ]
  },
  {
   "cell_type": "markdown",
   "id": "45",
   "metadata": {},
   "source": [
    "The little caret (^) points to where the interpreter detected the error.\n",
    "The source of the error is somewhere before that point,\n",
    "sometimes even in an earlier line of code.\n",
    "\n",
    "A common mistake is to think that the minus sign is part of the literal.\n",
    "In fact, it's the negation operator, and this has a subtle side effect."
   ]
  },
  {
   "cell_type": "code",
   "execution_count": 18,
   "id": "46",
   "metadata": {},
   "outputs": [
    {
     "data": {
      "text/plain": [
       "-1"
      ]
     },
     "execution_count": 18,
     "metadata": {},
     "output_type": "execute_result"
    }
   ],
   "source": [
    "-2 ** 0     # expecting x⁰ = 1 for all x"
   ]
  },
  {
   "cell_type": "markdown",
   "id": "47",
   "metadata": {},
   "source": [
    "Why isn't the result 1? Do the laws of maths not apply to Python?\n",
    "Read on for the solution to this mild cliffhanger..."
   ]
  },
  {
   "cell_type": "markdown",
   "id": "48",
   "metadata": {},
   "source": [
    "⟵ [Previous section](02_1_numbers.ipynb) | [Up](02-introduction.ipynb) | [Next section](02_3_expressions.ipynb) ⟶"
   ]
  }
 ],
 "metadata": {
  "kernelspec": {
   "display_name": "Python 3",
   "language": "python",
   "name": "python3"
  },
  "language_info": {
   "codemirror_mode": {
    "name": "ipython",
    "version": 3
   },
   "file_extension": ".py",
   "mimetype": "text/x-python",
   "name": "python",
   "nbconvert_exporter": "python",
   "pygments_lexer": "ipython3",
   "version": "3.12.10"
  }
 },
 "nbformat": 4,
 "nbformat_minor": 5
}
