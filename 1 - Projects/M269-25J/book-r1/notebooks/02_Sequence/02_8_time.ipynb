{
 "cells": [
  {
   "cell_type": "markdown",
   "id": "0",
   "metadata": {},
   "source": [
    "## 2.8 Run-times"
   ]
  },
  {
   "cell_type": "markdown",
   "id": "1",
   "metadata": {},
   "source": [
    "We determine the complexity of an algorithm from its English description.\n",
    "Later, after implementing it in Python, we can measure the run-times\n",
    "for ever-growing inputs to check the actual growth rate against what the\n",
    "complexity analysis predicted.\n",
    "\n",
    "The run-time depends on the hardware, operating system and Python interpreter\n",
    "that execute the code, so you'll get different timings from mine\n",
    "if you run the code cells in this notebook.\n",
    "The run-times also depend on what other processes the computer is executing,\n",
    "so they change every time we run the code.\n",
    "\n",
    "We can measure the run-time of some code with the IPython command `%timeit`.\n",
    "Instructions starting with a percentage sign aren't part of the Python language:\n",
    "they're direct commands to the IPython interpreter.\n",
    "\n",
    "The next cell will take some seconds to run (I'll explain why further below).\n",
    "While code is running, the notebook has an asterisk instead of a number\n",
    "in the brackets to the left of the code cell.\n",
    "Once the code finishes executing, the asterisk becomes a number."
   ]
  },
  {
   "cell_type": "code",
   "execution_count": 1,
   "id": "2",
   "metadata": {},
   "outputs": [
    {
     "name": "stdout",
     "output_type": "stream",
     "text": [
      "3.63 ns ± 0.0203 ns per loop (mean ± std. dev. of 7 runs, 100,000,000 loops each)\n"
     ]
    }
   ],
   "source": [
    "%timeit 2 + 7"
   ]
  },
  {
   "cell_type": "markdown",
   "id": "3",
   "metadata": {},
   "source": [
    "Adding 2 and 7 takes a few nanoseconds (abbreviated ns).\n",
    "The run-time varies each time the code cell is run, depending on the CPU load,\n",
    "so as I write this text I don't know in advance the run-time you will see.\n",
    "In the following I assume computing `2 + 7` takes 8 nanoseconds.\n",
    "\n",
    "Other abbreviations you may see in the run-time report are\n",
    "'s' (seconds), 'ms' (milliseconds) and 'µs' (microseconds).\n",
    "One second is a thousand milliseconds;\n",
    "one millisecond is a thousand microseconds;\n",
    "one microsecond is a thousand nanoseconds.\n",
    "In other words, 1&nbsp;ms = $10^{−3}$&nbsp;s, 1&nbsp;µs = $10^{−6}$&nbsp;s and 1&nbsp;ns = $10^{−9}$&nbsp;s.\n",
    "\n",
    "Measuring a very short lapse of time is prone to\n",
    "significant measurement errors, so `%timeit` executes the code multiple times,\n",
    "measures the total run-time, and divides it by the number of iterations\n",
    "to get a more precise value. On my machine, the addition was computed 100 million times,\n",
    "but on yours it may have been fewer or more times:\n",
    "the IPython interpreter automatically chooses the number of loops.\n",
    "Finally, to reduce the effect of other processes running at the same time,\n",
    "`%timeit` runs everything seven times and takes the average.\n",
    "\n",
    "Even though addition is very fast, running the code cell takes several seconds.\n",
    "Assuming addition takes 8&nbsp;ns, the cell executes in\n",
    "7 runs × 100,000,000 loops × 8&nbsp;ns = 7 × 100 × 8&nbsp;ms = 5,600&nbsp;ms = 5.6&nbsp;s.\n",
    "Fortunately, we can reduce the time waiting for a result by\n",
    "setting the number of runs and loops with options `-r` and `-n`, respectively."
   ]
  },
  {
   "cell_type": "code",
   "execution_count": 2,
   "id": "4",
   "metadata": {},
   "outputs": [
    {
     "name": "stdout",
     "output_type": "stream",
     "text": [
      "3.66 ns ± 0.0334 ns per loop (mean ± std. dev. of 5 runs, 1,000,000 loops each)\n"
     ]
    }
   ],
   "source": [
    "%timeit -r 5 -n 1000000 2 + 7"
   ]
  },
  {
   "cell_type": "markdown",
   "id": "5",
   "metadata": {},
   "source": [
    "I reduce the number of runs to five and the number of loops to one million.\n",
    "Now the cell runs in milliseconds: 5 × 1,000,000 × 8&nbsp;ns = 5 × 1 × 8&nbsp;ms = 40&nbsp;ms.\n",
    "\n",
    "The time measured for addition may differ from previously,\n",
    "e.g. it may now be 7.5&nbsp;ns or 8.5&nbsp;ns instead of 8&nbsp;ns,\n",
    "because reducing the number of runs and loops reduces accuracy.\n",
    "That's OK, as I'll explain in a minute.\n",
    "\n",
    "Modern processors add two 64-bit numbers in hardware,\n",
    "so the very short time is not a surprise.\n",
    "Let's try some inputs that don't fit in 64&nbsp;bits."
   ]
  },
  {
   "cell_type": "code",
   "execution_count": 3,
   "id": "6",
   "metadata": {},
   "outputs": [
    {
     "name": "stdout",
     "output_type": "stream",
     "text": [
      "3.65 ns ± 0.0309 ns per loop (mean ± std. dev. of 5 runs, 1,000,000 loops each)\n"
     ]
    }
   ],
   "source": [
    "%timeit -r 5 -n 1000000 (2 ** 64 + 1) + (2 ** 64 + 2)"
   ]
  },
  {
   "cell_type": "markdown",
   "id": "7",
   "metadata": {},
   "source": [
    "This took about the same time! That can't be right. Let's try a different way."
   ]
  },
  {
   "cell_type": "code",
   "execution_count": 4,
   "id": "8",
   "metadata": {},
   "outputs": [
    {
     "name": "stdout",
     "output_type": "stream",
     "text": [
      "12.6 ns ± 0.357 ns per loop (mean ± std. dev. of 5 runs, 1,000,000 loops each)\n",
      "24.3 ns ± 0.498 ns per loop (mean ± std. dev. of 5 runs, 1,000,000 loops each)\n"
     ]
    }
   ],
   "source": [
    "left = 2\n",
    "right = 7\n",
    "%timeit -r 5 -n 1000000 left + right\n",
    "left = 2**64 + 1\n",
    "right = 2**64 + 2\n",
    "%timeit -r 5 -n 1000000 left + right"
   ]
  },
  {
   "cell_type": "markdown",
   "id": "9",
   "metadata": {},
   "source": [
    "The times look right now: adding longer numbers takes more time, as we'd expect.\n",
    "Before, the interpreter figured out I was adding two constant values\n",
    "and pre-computed the sum, as it wouldn't change.\n",
    "I was just measuring the time to retrieve a value from memory,\n",
    "which is always the same, no matter how small or large the value is.\n",
    "The interpreter can't make such optimisations when adding\n",
    "variables because their values may change."
   ]
  },
  {
   "cell_type": "markdown",
   "id": "10",
   "metadata": {},
   "source": [
    "<div class=\"alert alert-warning\">\n",
    "<strong>Note:</strong> When measuring the run-time of an expression, use variables instead of literals.\n",
    "</div>"
   ]
  },
  {
   "cell_type": "markdown",
   "id": "11",
   "metadata": {},
   "source": [
    "As I mentioned in the previous section,\n",
    "'constant time' doesn't mean that *all* operations take the same time,\n",
    "but rather that *each* operation takes the same time for small and large inputs.\n",
    "For example, I expect that dividing two numbers takes longer than adding them."
   ]
  },
  {
   "cell_type": "code",
   "execution_count": 5,
   "id": "12",
   "metadata": {},
   "outputs": [
    {
     "name": "stdout",
     "output_type": "stream",
     "text": [
      "23.4 ns ± 0.232 ns per loop (mean ± std. dev. of 5 runs, 1,000,000 loops each)\n",
      "29.1 ns ± 0.185 ns per loop (mean ± std. dev. of 5 runs, 1,000,000 loops each)\n"
     ]
    }
   ],
   "source": [
    "left = 9876543210\n",
    "right = 123456789\n",
    "%timeit -r 5 -n 1000000 left + right\n",
    "%timeit -r 5 -n 1000000 left // right"
   ]
  },
  {
   "cell_type": "markdown",
   "id": "13",
   "metadata": {},
   "source": [
    "We can also measure the run-time of functions we define."
   ]
  },
  {
   "cell_type": "code",
   "execution_count": 6,
   "id": "14",
   "metadata": {},
   "outputs": [
    {
     "name": "stdout",
     "output_type": "stream",
     "text": [
      "34.5 ns ± 0.145 ns per loop (mean ± std. dev. of 5 runs, 10,000,000 loops each)\n"
     ]
    }
   ],
   "source": [
    "def brick_volume(length: int, width: int, height: int) -> int:\n",
    "    \"\"\"Return the volume of a brick, given its dimensions.\n",
    "\n",
    "    Preconditions: the dimensions are positive and in millimetres\n",
    "    Postconditions: the output is in cubic millimetres\n",
    "    \"\"\"\n",
    "    return length * width * height\n",
    "\n",
    "\n",
    "l = 2\n",
    "w = 3\n",
    "h = 4\n",
    "%timeit -r 5 brick_volume(l, w, h)"
   ]
  },
  {
   "cell_type": "markdown",
   "id": "15",
   "metadata": {},
   "source": [
    "I didn't set the number of loops, so the interpreter\n",
    "automatically sets it according to the run-time.\n",
    "The longer the code takes to run,\n",
    "the fewer loops are necessary to get a precise measurement. In this example,\n",
    "the interpreter on my machine 'only' made 10 million function calls\n",
    "in each run, whereas it had previously made 100 million additions per run."
   ]
  },
  {
   "cell_type": "markdown",
   "id": "16",
   "metadata": {},
   "source": [
    "### 2.8.1 Checking growth rates"
   ]
  },
  {
   "cell_type": "markdown",
   "id": "17",
   "metadata": {},
   "source": [
    "To check the complexity of an operation,\n",
    "we measure the run-times for a series of inputs and look at the trend.\n",
    "That's why the actual run-time values don't matter,\n",
    "as long as we measure them consistently.\n",
    "What matters is how the run-times increase, as the inputs get larger.\n",
    "Often, we keep doubling the input size or value,\n",
    "as that's a good way to check if an operation has constant or linear complexity.\n",
    "Here's a little experiment for the addition operation."
   ]
  },
  {
   "cell_type": "code",
   "execution_count": 7,
   "id": "18",
   "metadata": {},
   "outputs": [
    {
     "name": "stdout",
     "output_type": "stream",
     "text": [
      "12.1 ns ± 0.0435 ns per loop (mean ± std. dev. of 5 runs, 1,000,000 loops each)\n",
      "12.2 ns ± 0.0437 ns per loop (mean ± std. dev. of 5 runs, 1,000,000 loops each)\n",
      "20.6 ns ± 0.0133 ns per loop (mean ± std. dev. of 5 runs, 10,000 loops each)\n",
      "20.6 ns ± 0.0186 ns per loop (mean ± std. dev. of 5 runs, 10,000 loops each)\n",
      "23.2 ns ± 0.0249 ns per loop (mean ± std. dev. of 5 runs, 10,000 loops each)\n",
      "24.2 ns ± 0.0433 ns per loop (mean ± std. dev. of 5 runs, 10,000 loops each)\n",
      "27.7 ns ± 2.58 ns per loop (mean ± std. dev. of 5 runs, 10,000 loops each)\n"
     ]
    }
   ],
   "source": [
    "left = 2\n",
    "right = 7\n",
    "%timeit -r 5 -n 1000000 left + right  # 1 digit\n",
    "left = 22\n",
    "right = 77\n",
    "%timeit -r 5 -n 1000000 left + right  # 2 digits\n",
    "left = 2222\n",
    "right = 7777\n",
    "%timeit -r 5 -n 10000 left + right  # 4 digits\n",
    "left = 22222222\n",
    "right = 77777777\n",
    "%timeit -r 5 -n 10000 left + right  # 8 digits\n",
    "left = 2222222222222222\n",
    "right = 7777777777777777\n",
    "%timeit -r 5 -n 10000 left + right  # 16 digits\n",
    "left = 22222222222222222222222222222222\n",
    "right = 77777777777777777777777777777777\n",
    "%timeit -r 5 -n 10000 left + right  # 32 digits\n",
    "left = 2222222222222222222222222222222222222222222222222222222222222222\n",
    "right = 7777777777777777777777777777777777777777777777777777777777777777\n",
    "%timeit -r 5 -n 10000 left + right  # 64 digits"
   ]
  },
  {
   "cell_type": "markdown",
   "id": "19",
   "metadata": {},
   "source": [
    "Run-times remain similar but increase (without doubling) as the numbers get larger and go beyond 64-bits,\n",
    "which is consistent with most of the computation being done in hardware. As mentioned before,\n",
    "since we only use 64-bit integers in M269, the run-time will always be within\n",
    "a certain bound and hence we can treat addition as a constant-time operation.\n",
    "\n",
    "You may occasionally observe the mean run-times *decrease* as the inputs increase.\n",
    "A likely reason is that some other processes were running and so the\n",
    "previous measurements took longer or varied more across runs\n",
    "(look at the reported standard deviation) than they normally would.\n",
    "\n",
    "Let's now look at exponentiation.\n",
    "We want to check if it's linear in the value of the exponent,\n",
    "so we must double the value, not the number of digits.\n",
    "Doubling the exponent quickly leads to multiplying integers that don't fit in 64&nbsp;bits,\n",
    "but I'll do it anyway to see how the run-times increase."
   ]
  },
  {
   "cell_type": "code",
   "execution_count": 8,
   "id": "20",
   "metadata": {},
   "outputs": [
    {
     "name": "stdout",
     "output_type": "stream",
     "text": [
      "17.6 ns ± 0.0339 ns per loop (mean ± std. dev. of 5 runs, 10,000 loops each)\n",
      "17.4 ns ± 0.0421 ns per loop (mean ± std. dev. of 5 runs, 10,000 loops each)\n",
      "28.8 ns ± 0.0345 ns per loop (mean ± std. dev. of 5 runs, 10,000 loops each)\n",
      "39.3 ns ± 0.193 ns per loop (mean ± std. dev. of 5 runs, 10,000 loops each)\n",
      "52.2 ns ± 1.43 ns per loop (mean ± std. dev. of 5 runs, 10,000 loops each)\n",
      "75.7 ns ± 0.178 ns per loop (mean ± std. dev. of 5 runs, 10,000 loops each)\n",
      "111 ns ± 2.5 ns per loop (mean ± std. dev. of 5 runs, 10,000 loops each)\n"
     ]
    }
   ],
   "source": [
    "base = 5\n",
    "%timeit -r 5 -n 10000 base ** 1\n",
    "%timeit -r 5 -n 10000 base ** 2\n",
    "%timeit -r 5 -n 10000 base ** 4\n",
    "%timeit -r 5 -n 10000 base ** 8\n",
    "%timeit -r 5 -n 10000 base ** 16\n",
    "%timeit -r 5 -n 10000 base ** 32\n",
    "%timeit -r 5 -n 10000 base ** 64"
   ]
  },
  {
   "cell_type": "markdown",
   "id": "21",
   "metadata": {},
   "source": [
    "Overall, the run-time keeps increasing,\n",
    "but it's not doubling whenever the exponent doubles.\n",
    "The interpreter or the hardware is using a more efficient algorithm\n",
    "than repeatedly multiplying the base with itself.\n",
    "(You will see such an algorithm in Chapter&nbsp;13.)"
   ]
  },
  {
   "cell_type": "markdown",
   "id": "22",
   "metadata": {},
   "source": [
    "<div class=\"alert alert-warning\">\n",
    "<strong>Note:</strong> To see the growth of run-times, keep doubling the input values or input sizes.\n",
    "</div>"
   ]
  },
  {
   "cell_type": "markdown",
   "id": "23",
   "metadata": {},
   "source": [
    "The fact that exponentiation has a lower complexity than linear in my\n",
    "computational environment (and yours too, probably) doesn't change our\n",
    "assumption. When analysing algorithms involving exponentiation,\n",
    "we shall still assume it's linear.\n",
    "The whole point of making these assumptions is to guarantee that you and your\n",
    "700+ fellow M269&nbsp;students obtain the same complexity for the same algorithm,\n",
    "and not different ones, depending on everyone's computational environment.\n",
    "You can imagine the confusion this would cause in forums, tutorials and TMAs.\n",
    "\n",
    "A final note: in general, measuring the run-time on small inputs isn't very useful.\n",
    "First, the computational environment may make some optimisations for small\n",
    "values, which means the timings won't fit a clear growth rate.\n",
    "Second, even without optimisations the run-times may be so short that\n",
    "they will all be very similar, and look like constant run-time, or may fluctuate due to measuring errors.\n",
    "Third, we're interested in how algorithms cope with large, not small, inputs."
   ]
  },
  {
   "cell_type": "markdown",
   "id": "24",
   "metadata": {},
   "source": [
    "<div class=\"alert alert-warning\">\n",
    "<strong>Note:</strong> In general, don't measure run-times for very small inputs.\n",
    "</div>"
   ]
  },
  {
   "cell_type": "markdown",
   "id": "25",
   "metadata": {},
   "source": [
    "#### Exercise 2.8.1"
   ]
  },
  {
   "cell_type": "markdown",
   "id": "26",
   "metadata": {},
   "source": [
    "When measuring the run-times of exponentiation,\n",
    "would  `base = 1` be a good choice? Explain why or why not."
   ]
  },
  {
   "cell_type": "markdown",
   "id": "27",
   "metadata": {},
   "source": [
    "_Write your answer here._"
   ]
  },
  {
   "cell_type": "markdown",
   "id": "28",
   "metadata": {},
   "source": [
    "[Hint](../31_Hints/Hints_02_8_01.ipynb)\n",
    "[Answer](../32_Answers/Answers_02_8_01.ipynb)"
   ]
  },
  {
   "cell_type": "markdown",
   "id": "29",
   "metadata": {},
   "source": [
    "#### Exercise 2.8.2"
   ]
  },
  {
   "cell_type": "markdown",
   "id": "30",
   "metadata": {},
   "source": [
    "To practice measuring run-times and editing notebooks, choose an operation\n",
    "(other than addition and exponentiation) from Section&nbsp;2.2\n",
    "and check whether its run-time is linear as the value or size of the operands increases.\n",
    "Add a code cell below this paragraph for your experiment.\n",
    "\n",
    "Use the same number of runs and loops for each measurement, but different from\n",
    "what I used for addition. Since arithmetic operations take nanoseconds,\n",
    "choose at least one million loops to make the measurement relatively accurate.\n",
    "Since Python may optimise operations for values that fit in one byte,\n",
    "start the experiment with values grater than 255.\n",
    "\n",
    "[Hint](../31_Hints/Hints_02_8_02.ipynb)\n",
    "[Answer](../32_Answers/Answers_02_8_02.ipynb)"
   ]
  },
  {
   "cell_type": "markdown",
   "id": "31",
   "metadata": {},
   "source": [
    "⟵ [Previous section](02_7_complexity.ipynb) | [Up](02-introduction.ipynb) | [Next section](02_9_summary.ipynb) ⟶"
   ]
  }
 ],
 "metadata": {
  "kernelspec": {
   "display_name": "Python 3",
   "language": "python",
   "name": "python3"
  },
  "language_info": {
   "codemirror_mode": {
    "name": "ipython",
    "version": 3
   },
   "file_extension": ".py",
   "mimetype": "text/x-python",
   "name": "python",
   "nbconvert_exporter": "python",
   "pygments_lexer": "ipython3",
   "version": "3.12.10"
  }
 },
 "nbformat": 4,
 "nbformat_minor": 5
}
