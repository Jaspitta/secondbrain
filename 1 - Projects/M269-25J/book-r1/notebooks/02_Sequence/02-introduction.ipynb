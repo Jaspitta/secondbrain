{
 "cells": [
  {
   "cell_type": "markdown",
   "id": "0",
   "metadata": {},
   "source": [
    "# 2 Numbers and sequence"
   ]
  },
  {
   "cell_type": "markdown",
   "id": "1",
   "metadata": {},
   "source": [
    "An algorithm is a step-by-step procedure that takes some inputs and,\n",
    "on completion, produces some outputs. For example,\n",
    "a recipe is an algorithm for transforming ingredients into a dish.\n",
    "A flatpack assembly manual provides an algorithm to put wood, nuts, bolts, etc.\n",
    "together into a piece of furniture. Satnav directions are an algorithm to\n",
    "take your car from its current location to the desired location.\n",
    "\n",
    "Algorithms should be correct, i.e. lead to the desired output,\n",
    "and usually we want them to be efficient too,\n",
    "i.e. lead to the output as quickly as possible.\n",
    "Sometimes we prefer a slower algorithm,\n",
    "for example because it leads to a tastier dish or takes the scenic route.\n",
    "\n",
    "In M269 we are interested in algorithms that can be carried out by computers.\n",
    "This has two implications.\n",
    "First, the inputs and outputs are data instead of physical objects.\n",
    "Second, the instructions must be unambiguously stated, because\n",
    "computers have no capacity for judgement. For example, recipe instructions like\n",
    "'season to taste' or 'fry until golden brown' are not precise:\n",
    "different people will interpret them differently.\n",
    "For the purposes of M269, an **algorithm** is a step-by-step procedure that is\n",
    "expressed as a structured list of unambiguous instructions.\n",
    "\n",
    "\n",
    "This and the next two chapters recap the basic kinds of data and instructions\n",
    "used in computational algorithms. This chapter in particular covers\n",
    "numeric data and arithmetic instructions, structured as a **sequence** of steps\n",
    "to be executed one after the other.\n",
    "This chapter also defines the concepts of correctness and efficiency\n",
    "for computational algorithms.\n",
    "\n",
    "We will express algorithms in English (with some mathematical notation as\n",
    "needed) and in Python, but M269 is not a Python course.\n",
    "The emphasis is on understanding, creating and analysing algorithms;\n",
    "Python is just a means to execute and test the algorithms.\n",
    "I will introduce as little Python as I can get away with:\n",
    "just enough to express in a clear way the algorithms and data structures M269 covers.\n",
    "The advantage of restricting the Python features we use is that it becomes\n",
    "easier to translate an algorithm to Python.\n",
    "The disadvantage is that our code won't be idiomatic,\n",
    "i.e. it won't use the Python language in the best way.\n",
    "\n",
    "This chapter supports the following learning outcomes.\n",
    "\n",
    "- Understand the common general-purpose data structures, algorithmic techniques and complexity classes – this chapter covers numeric data and sequential algorithms, and\n",
    "  introduces algorithmic complexity.\n",
    "- Explain how an algorithm or data structure works, in order to communicate with relevant stakeholders – this chapter\n",
    "  introduces preconditions to describe assumptions on the input values.\n",
    "- Write readable, tested, documented and efficient Python code –\n",
    "  this chapter introduces Python coding conventions and documentation strings.\n",
    "\n",
    "Before starting to work on this chapter, check the M269\n",
    "[news](https://learn2.open.ac.uk/blocks/news/all.php?bi=326014) and [errata](https://learn2.open.ac.uk/mod/url/view.php?id=2554721),\n",
    "and check the TMAs for what is assessed."
   ]
  },
  {
   "cell_type": "markdown",
   "id": "2",
   "metadata": {
    "nbsphinx-toctree": {
     "hidden": true,
     "maxdepth": 1,
     "numbered": false
    }
   },
   "source": [
    "1. [Numbers](02_1_numbers.ipynb)\n",
    "1. [Arithmetic operations](02_2_operations.ipynb)\n",
    "1. [Expressions](02_3_expressions.ipynb)\n",
    "1. [Assignments](02_4_assignments.ipynb)\n",
    "1. [Functions in mathematics](02_5_maths_functions.ipynb)\n",
    "1. [Functions in Python](02_6_py_functions.ipynb)\n",
    "1. [Complexity](02_7_complexity.ipynb)\n",
    "1. [Run-times](02_8_time.ipynb)\n",
    "1. [Summary](02_9_summary.ipynb)"
   ]
  },
  {
   "cell_type": "markdown",
   "id": "3",
   "metadata": {},
   "source": [
    "⟵ [Previous chapter](../01_Introduction/01-introduction.ipynb) | [Up](../M269.ipynb) | [Next chapter](../03_Selection/03-introduction.ipynb) ⟶"
   ]
  }
 ],
 "metadata": {
  "kernelspec": {
   "display_name": "Python 3",
   "language": "python",
   "name": "python3"
  },
  "language_info": {
   "codemirror_mode": {
    "name": "ipython",
    "version": 3
   },
   "file_extension": ".py",
   "mimetype": "text/x-python",
   "name": "python",
   "nbconvert_exporter": "python",
   "pygments_lexer": "ipython3",
   "version": "3.12.10"
  }
 },
 "nbformat": 4,
 "nbformat_minor": 5
}
