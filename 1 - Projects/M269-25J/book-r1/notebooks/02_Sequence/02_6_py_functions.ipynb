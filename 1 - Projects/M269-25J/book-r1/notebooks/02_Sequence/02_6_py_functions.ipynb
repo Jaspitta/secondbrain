{
 "cells": [
  {
   "cell_type": "markdown",
   "id": "0",
   "metadata": {},
   "source": [
    "## 2.6 Functions in Python"
   ]
  },
  {
   "cell_type": "markdown",
   "id": "1",
   "metadata": {},
   "source": [
    "A function definition of the form:\n",
    "\n",
    "**Function**: name\\\n",
    "**Inputs**: *input*, input type\\\n",
    "**Preconditions**: condition 1; condition 2\\\n",
    "**Output**: *output*, output type\\\n",
    "**Postconditions**:\n",
    "\n",
    "- *output* = expression\n",
    "- another condition\n",
    "\n",
    "is translated to a Python function definition of the form:\n",
    "```python\n",
    "def name(input: input_type) -> output_type:\n",
    "    \"\"\"Prescribe what the function computes.\n",
    "\n",
    "    Preconditions: condition 1; condition 2\n",
    "    Postconditions:\n",
    "    - the output is expression\n",
    "    - another condition\n",
    "    \"\"\"\n",
    "    algorithm\n",
    "    return output\n",
    "```\n",
    "For example,\n",
    "\n",
    "**Function**: circumference\\\n",
    "**Inputs**: *radius*, a real number\\\n",
    "**Preconditions**: *radius* > 0\\\n",
    "**Output**: *length*, a real number\\\n",
    "**Postconditions**: *length* = 2 × π × *radius*\n",
    "\n",
    "is implemented in Python like so:"
   ]
  },
  {
   "cell_type": "code",
   "execution_count": 1,
   "id": "2",
   "metadata": {},
   "outputs": [],
   "source": [
    "import math\n",
    "\n",
    "def circumference(radius: float) -> float:\n",
    "    \"\"\"Return the length of the circumference for the given radius.\n",
    "\n",
    "    Preconditions: radius > 0\n",
    "    Postconditions: the output is 2 * π * radius\n",
    "    \"\"\"\n",
    "    length = 2 * math.pi * radius\n",
    "    return length"
   ]
  },
  {
   "cell_type": "markdown",
   "id": "3",
   "metadata": {},
   "source": [
    "Defining a function doesn't produce any output (only applying a function does),\n",
    "but the number on the left shows that the cell was executed, i.e.\n",
    "the function has been successfully defined.\n",
    "\n",
    "A Python function has three parts: the header,\n",
    "the **docstring** (short for documentation string) and the body.\n",
    "(Technically, the docstring is part of the body, but I prefer to separate them.)\n",
    "The docstring and body are indented with respect to the header\n",
    "to indicate that they belong to the function.\n",
    "The conventional indentation is four spaces, as in the above example.\n",
    "Let's look more closely at the header and body.\n",
    "(I'll describe docstrings in the next subsection.)\n",
    "\n",
    "The header starts with the `def` keyword and ends with a colon. The header\n",
    "defines the function's name and its **parameters**, i.e. input variables.\n",
    "The convention is to write function names in lower case, like variable names.\n",
    "Parameters are enclosed in parentheses and separated with commas.\n",
    "The header also includes **type annotations** to indicate\n",
    "the type of each parameter and the type of the output, as shown above.\n",
    "\n",
    "The body contains the algorithm that computes the output value.\n",
    "Contrary to our template, the function header doesn't indicate\n",
    "the output's name, so after the algorithm (a sequence of assignments)\n",
    "we need a **return statement** to indicate which of the assigned variables\n",
    "corresponds to the output. A return statement ends the execution of the body:\n",
    "the interpreter returns the value of the variable following the `return` keyword\n",
    "to the code that called the function.\n",
    "\n",
    "To **call** a function, write its name followed by the **arguments**,\n",
    "i.e. the actual input values, within parentheses.\n",
    "A function call is an expression because\n",
    "a function defines an operation on some given data.\n",
    "The following cell has a single expression, so the returned value is displayed."
   ]
  },
  {
   "cell_type": "code",
   "execution_count": 2,
   "id": "4",
   "metadata": {},
   "outputs": [
    {
     "data": {
      "text/plain": [
       "6.283185307179586"
      ]
     },
     "execution_count": 2,
     "metadata": {},
     "output_type": "execute_result"
    }
   ],
   "source": [
    "circumference(1) # calculate for radius = 1"
   ]
  },
  {
   "cell_type": "markdown",
   "id": "5",
   "metadata": {},
   "source": [
    "<div class=\"alert alert-info\">\n",
    "<strong>Info:</strong> TM112 Block&nbsp;2 Part&nbsp;4 introduces functions in Python.\n",
    "In TM112 and other texts,\n",
    "the input variables (parameters) are also called formal arguments\n",
    "while the input values are called the actual arguments.\n",
    "</div>"
   ]
  },
  {
   "cell_type": "markdown",
   "id": "6",
   "metadata": {},
   "source": [
    "Actually, the `return` keyword may be followed by any expression,\n",
    "not just a variable name.\n",
    "The interpreter evaluates the expression and returns its value.\n",
    "Here's a shorter alternative version.\n",
    "(Remember that we only import a module once per notebook.)"
   ]
  },
  {
   "cell_type": "code",
   "execution_count": 3,
   "id": "7",
   "metadata": {},
   "outputs": [],
   "source": [
    "def circumference(radius: float) -> float:\n",
    "    \"\"\"Return the length of the circumference for the given radius.\n",
    "\n",
    "    Preconditions: radius > 0\n",
    "    Postconditions: the output is 2 * π * radius\n",
    "    \"\"\"\n",
    "    return 2 * math.pi * radius"
   ]
  },
  {
   "cell_type": "markdown",
   "id": "8",
   "metadata": {},
   "source": [
    "This function has the same name as an earlier function,\n",
    "so this definition overrides the previous one.\n",
    "From now on, any calls to `circumference` execute the second version,\n",
    "without the `length` variable.\n",
    "Since both function definitions are equivalent, it doesn't really matter.\n",
    "When writing different versions of a function for exercises,\n",
    "remember that only the last executed function definition is active."
   ]
  },
  {
   "cell_type": "markdown",
   "id": "9",
   "metadata": {},
   "source": [
    "### 2.6.1 Documentation"
   ]
  },
  {
   "cell_type": "markdown",
   "id": "10",
   "metadata": {},
   "source": [
    "Docstrings are enclosed in three double quotes (`\"\"\"`).\n",
    "The first line is a brief statement\n",
    "prescribing what the function does, usually starting with the word 'return'.\n",
    "After a blank line, more details may follow.\n",
    "If the docstring occupies several lines, then\n",
    "the closing quotes are on their own line."
   ]
  },
  {
   "cell_type": "markdown",
   "id": "11",
   "metadata": {},
   "source": [
    "<div class=\"alert alert-info\">\n",
    "<strong>Info:</strong> Python's docstring conventions are described in\n",
    "<a href=\"https://www.python.org/dev/peps/pep-0257/\">PEP 257</a>.\n",
    "</div>"
   ]
  },
  {
   "cell_type": "markdown",
   "id": "12",
   "metadata": {},
   "source": [
    "In M269, we write pre- and postconditions in the docstring, so that users know\n",
    "what input values the function expects and what value it returns.\n",
    "In Python and other languages, function headers have names for the inputs\n",
    "but not for the output. I suggest using simply 'the output' in the docstring.\n",
    "The important thing is for the header and the docstring to contain, together,\n",
    "the same information as the template.\n",
    "\n",
    "Docstrings are optional in Python, i.e. they're not needed for functions to\n",
    "work, but are mandatory in M269. The rationale is to get you into\n",
    "the good professional habit of documenting your code, so that\n",
    "those who use it or have to modify it know what it does."
   ]
  },
  {
   "cell_type": "markdown",
   "id": "13",
   "metadata": {},
   "source": [
    "<div class=\"alert alert-warning\">\n",
    "<strong>Note:</strong> Always document your code.\n",
    "</div>"
   ]
  },
  {
   "cell_type": "markdown",
   "id": "14",
   "metadata": {},
   "source": [
    "Python's `help` function displays the header and docstring of a function,\n",
    "given its name. This works with your and Python's functions.\n",
    "It may come in handy if you forget what a function does."
   ]
  },
  {
   "cell_type": "code",
   "execution_count": 4,
   "id": "15",
   "metadata": {},
   "outputs": [
    {
     "name": "stdout",
     "output_type": "stream",
     "text": [
      "Help on function circumference in module __main__:\n",
      "\n",
      "circumference(radius: float) -> float\n",
      "    Return the length of the circumference for the given radius.\n",
      "\n",
      "    Preconditions: radius > 0\n",
      "    Postconditions: the output is 2 * π * radius\n",
      "\n"
     ]
    }
   ],
   "source": [
    "help(circumference)"
   ]
  },
  {
   "cell_type": "code",
   "execution_count": 5,
   "id": "16",
   "metadata": {},
   "outputs": [
    {
     "name": "stdout",
     "output_type": "stream",
     "text": [
      "Help on built-in function max in module builtins:\n",
      "\n",
      "max(...)\n",
      "    max(iterable, *[, default=obj, key=func]) -> value\n",
      "    max(arg1, arg2, *args, *[, key=func]) -> value\n",
      "\n",
      "    With a single iterable argument, return its biggest item. The\n",
      "    default keyword-only argument specifies an object to return if\n",
      "    the provided iterable is empty.\n",
      "    With two or more arguments, return the largest argument.\n",
      "\n"
     ]
    }
   ],
   "source": [
    "help(max)"
   ]
  },
  {
   "cell_type": "markdown",
   "id": "17",
   "metadata": {},
   "source": [
    "As the docstring for `max` shows, built-in Python functions may have\n",
    "optional parameters that we won't use in M269."
   ]
  },
  {
   "cell_type": "markdown",
   "id": "18",
   "metadata": {},
   "source": [
    "### 2.6.2 Mistakes"
   ]
  },
  {
   "cell_type": "markdown",
   "id": "19",
   "metadata": {},
   "source": [
    "Python functions are the most complex construct seen so far,\n",
    "and thus provide ample opportunity for mistakes:\n",
    "forgetting the colon at the end of the header,\n",
    "forgetting a comma between consecutive parameters,\n",
    "misspelling a parameter name in the function body, etc.\n",
    "\n",
    "Using a keyword as an identifier is also a syntax error:"
   ]
  },
  {
   "cell_type": "code",
   "execution_count": 6,
   "id": "20",
   "metadata": {},
   "outputs": [
    {
     "ename": "SyntaxError",
     "evalue": "invalid syntax (3422408141.py, line 1)",
     "output_type": "error",
     "traceback": [
      "\u001b[0;36m  Cell \u001b[0;32mIn[6], line 1\u001b[0;36m\u001b[0m\n\u001b[0;31m    return = 2 * math.pi * radius\u001b[0m\n\u001b[0m           ^\u001b[0m\n\u001b[0;31mSyntaxError\u001b[0m\u001b[0;31m:\u001b[0m invalid syntax\n"
     ]
    }
   ],
   "source": [
    "return = 2 * math.pi * radius"
   ]
  },
  {
   "cell_type": "markdown",
   "id": "21",
   "metadata": {},
   "source": [
    "Referring to a parameter outside the function body is a name error:"
   ]
  },
  {
   "cell_type": "code",
   "execution_count": 7,
   "id": "22",
   "metadata": {},
   "outputs": [
    {
     "ename": "NameError",
     "evalue": "name 'radius' is not defined",
     "output_type": "error",
     "traceback": [
      "\u001b[0;31m---------------------------------------------------------------------------\u001b[0m",
      "\u001b[0;31mNameError\u001b[0m                                 Traceback (most recent call last)",
      "Cell \u001b[0;32mIn[7], line 1\u001b[0m\n\u001b[0;32m----> 1\u001b[0m diameter \u001b[38;5;241m=\u001b[39m \u001b[38;5;241m2\u001b[39m \u001b[38;5;241m*\u001b[39m \u001b[43mradius\u001b[49m\n",
      "\u001b[0;31mNameError\u001b[0m: name 'radius' is not defined"
     ]
    }
   ],
   "source": [
    "diameter = 2 * radius"
   ]
  },
  {
   "cell_type": "markdown",
   "id": "23",
   "metadata": {},
   "source": [
    "A double quote is *one* character, not two single quotes:\n",
    "note the difference between `\"` and `''`."
   ]
  },
  {
   "cell_type": "code",
   "execution_count": 8,
   "id": "24",
   "metadata": {},
   "outputs": [
    {
     "data": {
      "text/plain": [
       "'This is a docstring.'"
      ]
     },
     "execution_count": 8,
     "metadata": {},
     "output_type": "execute_result"
    }
   ],
   "source": [
    "\"\"\"This is a docstring.\"\"\"              # note the syntax colouring"
   ]
  },
  {
   "cell_type": "code",
   "execution_count": 9,
   "id": "25",
   "metadata": {},
   "outputs": [
    {
     "ename": "SyntaxError",
     "evalue": "invalid syntax (2534202956.py, line 1)",
     "output_type": "error",
     "traceback": [
      "\u001b[0;36m  Cell \u001b[0;32mIn[9], line 1\u001b[0;36m\u001b[0m\n\u001b[0;31m    ''''''This is not a docstring.''''''    # different syntax colouring\u001b[0m\n\u001b[0m          ^\u001b[0m\n\u001b[0;31mSyntaxError\u001b[0m\u001b[0;31m:\u001b[0m invalid syntax\n"
     ]
    }
   ],
   "source": [
    "''''''This is not a docstring.''''''    # different syntax colouring"
   ]
  },
  {
   "cell_type": "markdown",
   "id": "26",
   "metadata": {},
   "source": [
    "If you forget to indent the docstring or the body, you get an error."
   ]
  },
  {
   "cell_type": "code",
   "execution_count": 10,
   "id": "27",
   "metadata": {},
   "outputs": [
    {
     "ename": "IndentationError",
     "evalue": "expected an indented block after function definition on line 1 (809648174.py, line 2)",
     "output_type": "error",
     "traceback": [
      "\u001b[0;36m  Cell \u001b[0;32mIn[10], line 2\u001b[0;36m\u001b[0m\n\u001b[0;31m    \"\"\"Return bla bla bla ...\u001b[0m\n\u001b[0m    ^\u001b[0m\n\u001b[0;31mIndentationError\u001b[0m\u001b[0;31m:\u001b[0m expected an indented block after function definition on line 1\n"
     ]
    }
   ],
   "source": [
    "def circumference(radius: float) -> float:\n",
    "\"\"\"Return bla bla bla ...\n",
    "\"\"\"\n",
    "    return 2 * math.pi * diameter"
   ]
  },
  {
   "cell_type": "code",
   "execution_count": 11,
   "id": "28",
   "metadata": {},
   "outputs": [
    {
     "ename": "SyntaxError",
     "evalue": "'return' outside function (2349434176.py, line 4)",
     "output_type": "error",
     "traceback": [
      "\u001b[0;36m  Cell \u001b[0;32mIn[11], line 4\u001b[0;36m\u001b[0m\n\u001b[0;31m    return 2 * math.pi * diameter\u001b[0m\n\u001b[0m    ^\u001b[0m\n\u001b[0;31mSyntaxError\u001b[0m\u001b[0;31m:\u001b[0m 'return' outside function\n"
     ]
    }
   ],
   "source": [
    "def circumference(radius: float) -> float:\n",
    "    \"\"\"Return bla bla bla ...\n",
    "    \"\"\"\n",
    "return 2 * math.pi * diameter"
   ]
  },
  {
   "cell_type": "markdown",
   "id": "29",
   "metadata": {},
   "source": [
    "The second error has subtle consequences.\n",
    "If you call the function, you get no value back because the return statement\n",
    "wasn't considered part of the function."
   ]
  },
  {
   "cell_type": "code",
   "execution_count": 12,
   "id": "30",
   "metadata": {},
   "outputs": [],
   "source": [
    "circumference(1)"
   ]
  },
  {
   "cell_type": "markdown",
   "id": "31",
   "metadata": {},
   "source": [
    "This means that the interpreter still defined the function, even though it had\n",
    "no return statement!\n",
    "For example, the following definition doesn't raise any error."
   ]
  },
  {
   "cell_type": "code",
   "execution_count": 13,
   "id": "32",
   "metadata": {},
   "outputs": [],
   "source": [
    "def circumference(radius: float) -> float:\n",
    "    \"\"\"Return ...\"\"\"\n",
    "    diameter = 2 * radius\n",
    "    length = math.pi * diameter"
   ]
  },
  {
   "cell_type": "markdown",
   "id": "33",
   "metadata": {},
   "source": [
    "<div class=\"alert alert-warning\">\n",
    "<strong>Note:</strong> If a function doesn't return a value, then the return statement is missing or\n",
    "wrongly indented.\n",
    "</div>"
   ]
  },
  {
   "cell_type": "markdown",
   "id": "34",
   "metadata": {},
   "source": [
    "#### Exercise 2.6.1"
   ]
  },
  {
   "cell_type": "markdown",
   "id": "35",
   "metadata": {},
   "source": [
    "Here's the brick volume function definition again:\n",
    "\n",
    "**Function**: brick volume\\\n",
    "**Inputs**: *length*, an integer; *width*, an integer; *height*, an integer\\\n",
    "**Preconditions**:\n",
    "\n",
    "- *length* > 0; *width* > 0; *height* > 0\n",
    "- *length*, *width* and *height* are in millimetres\n",
    "\n",
    "**Output**: *volume*, an integer\\\n",
    "**Postconditions**:\n",
    "\n",
    "- *volume* = *length* × *width* × *height*\n",
    "- *volume* is in cubic millimetres\n",
    "\n",
    "Translate it to Python. I've given you a head start."
   ]
  },
  {
   "cell_type": "code",
   "execution_count": 14,
   "id": "36",
   "metadata": {},
   "outputs": [],
   "source": [
    "def brick_volume(length: int):\n",
    "    \"\"\"Return ...\n",
    "    \"\"\""
   ]
  },
  {
   "cell_type": "markdown",
   "id": "37",
   "metadata": {},
   "source": [
    "Run the previous cell to define the function,\n",
    "then uncomment and run the next cell."
   ]
  },
  {
   "cell_type": "code",
   "execution_count": 15,
   "id": "38",
   "metadata": {},
   "outputs": [],
   "source": [
    "# brick_volume(2, 3, 4)   # the output should be 2 * 3 * 4 = 24"
   ]
  },
  {
   "cell_type": "markdown",
   "id": "39",
   "metadata": {},
   "source": [
    "[Hint](../31_Hints/Hints_02_6_01.ipynb)\n",
    "[Answer](../32_Answers/Answers_02_6_01.ipynb)"
   ]
  },
  {
   "cell_type": "markdown",
   "id": "40",
   "metadata": {},
   "source": [
    "#### Exercise 2.6.2"
   ]
  },
  {
   "cell_type": "markdown",
   "id": "41",
   "metadata": {},
   "source": [
    "Here's a definition of the total price function.\n",
    "\n",
    "**Function**: total price\\\n",
    "**Inputs**: *price*, a real number; *vat rate*, a real number\\\n",
    "**Preconditions**: *price* > 0; *price* is in euros; 0 ≤ *vat rate* < 1\\\n",
    "**Output**: *total*, a real number\\\n",
    "**Postconditions**: *total* = *price* × (1 + *vat rate*); *total* is in euros\n",
    "\n",
    "Write the corresponding Python function in the next code cell.\n",
    "End the code cell with a function call to check the definition has no errors."
   ]
  },
  {
   "cell_type": "code",
   "execution_count": 16,
   "id": "42",
   "metadata": {},
   "outputs": [],
   "source": [
    "# replace this by a function definition\n",
    "\n",
    "# replace this by a function call"
   ]
  },
  {
   "cell_type": "markdown",
   "id": "43",
   "metadata": {},
   "source": [
    "[Answer](../32_Answers/Answers_02_6_02.ipynb)"
   ]
  },
  {
   "cell_type": "markdown",
   "id": "44",
   "metadata": {},
   "source": [
    "⟵ [Previous section](02_5_maths_functions.ipynb) | [Up](02-introduction.ipynb) | [Next section](02_7_complexity.ipynb) ⟶"
   ]
  }
 ],
 "metadata": {
  "kernelspec": {
   "display_name": "Python 3",
   "language": "python",
   "name": "python3"
  },
  "language_info": {
   "codemirror_mode": {
    "name": "ipython",
    "version": 3
   },
   "file_extension": ".py",
   "mimetype": "text/x-python",
   "name": "python",
   "nbconvert_exporter": "python",
   "pygments_lexer": "ipython3",
   "version": "3.12.10"
  }
 },
 "nbformat": 4,
 "nbformat_minor": 5
}
