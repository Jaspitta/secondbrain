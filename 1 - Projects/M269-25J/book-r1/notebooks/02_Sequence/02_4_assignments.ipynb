{
 "cells": [
  {
   "cell_type": "markdown",
   "id": "0",
   "metadata": {},
   "source": [
    "## 2.4 Assignments"
   ]
  },
  {
   "cell_type": "markdown",
   "id": "1",
   "metadata": {},
   "source": [
    "As mentioned in the previous section, if an expression does involve variables,\n",
    "then we must know their values in order to evaluate the expression.\n",
    "A variable is said to be undefined if no value has been assigned to it.\n",
    "Expressions involving undefined variables are undefined too.\n",
    "\n",
    "To define a variable, we use the **assignment** instruction,\n",
    "which evaluates an expression and assigns its value to a variable.\n",
    "In M269, when writing algorithms in English, assignments are of the form\n",
    "\n",
    "> let *variable* be expression\n",
    "\n",
    "with variable names in italics, so that they stand out.\n",
    "In Python, assignments are of the form `variable = expression`.\n",
    "\n",
    "Python allows us to abbreviate `x = x + y` as `x += y`, `x = x * y` as `x *= y`, and so on.\n",
    "The most frequently used forms are `x += 1`, `x -= 1`, `x *= 2` and `x //= 2` to\n",
    "increment, decrement, double and halve an integer variable."
   ]
  },
  {
   "cell_type": "markdown",
   "id": "2",
   "metadata": {},
   "source": [
    "<div class=\"alert alert-warning\">\n",
    "<strong>Note:</strong> I won't use abbreviated assignments in the book, but you can use them in the TMAs.\n",
    "</div>"
   ]
  },
  {
   "cell_type": "markdown",
   "id": "3",
   "metadata": {},
   "source": [
    "### 2.4.1 Algorithms"
   ]
  },
  {
   "cell_type": "markdown",
   "id": "4",
   "metadata": {},
   "source": [
    "In this chapter, an algorithm is a sequence of assignments.\n",
    "Here's a simple algorithm that computes the age of a person\n",
    "in a particular year as the difference between that year and their birth year.\n",
    "We write algorithms as numbered lists to show the order of steps.\n",
    "\n",
    "1. let *year* be 2020\n",
    "1. let *birth* be 2010\n",
    "1. let *age* be *year* − *birth*\n",
    "\n",
    "The translation to Python is:"
   ]
  },
  {
   "cell_type": "code",
   "execution_count": 1,
   "id": "5",
   "metadata": {},
   "outputs": [],
   "source": [
    "year = 2020\n",
    "birth = 2010\n",
    "age = year - birth"
   ]
  },
  {
   "cell_type": "markdown",
   "id": "6",
   "metadata": {},
   "source": [
    "The previous cell doesn't display a value, because\n",
    "assignments aren't like arithmetic operations: they don't produce an output.\n",
    "In Jupyter notebooks,\n",
    "the value of an expression (which may be a single variable)\n",
    "is displayed only if the expression is the last or only line in a code cell."
   ]
  },
  {
   "cell_type": "code",
   "execution_count": 2,
   "id": "7",
   "metadata": {},
   "outputs": [
    {
     "data": {
      "text/plain": [
       "10"
      ]
     },
     "execution_count": 2,
     "metadata": {},
     "output_type": "execute_result"
    }
   ],
   "source": [
    "year = 2020\n",
    "year                # not last line, so it isn't displayed\n",
    "birth = 2010\n",
    "age = year - birth\n",
    "age                 # last line, so it's displayed"
   ]
  },
  {
   "cell_type": "markdown",
   "id": "8",
   "metadata": {},
   "source": [
    "To display the value of an expression at any point in an algorithm,\n",
    "we'll use the instruction\n",
    "\n",
    "> print expression\n",
    "\n",
    "in English, and `print(expression)` in Python."
   ]
  },
  {
   "cell_type": "code",
   "execution_count": 3,
   "id": "9",
   "metadata": {},
   "outputs": [
    {
     "name": "stdout",
     "output_type": "stream",
     "text": [
      "2020\n"
     ]
    },
    {
     "data": {
      "text/plain": [
       "10"
      ]
     },
     "execution_count": 3,
     "metadata": {},
     "output_type": "execute_result"
    }
   ],
   "source": [
    "year = 2020\n",
    "print(year)\n",
    "birth = 2010\n",
    "age = year - birth\n",
    "age"
   ]
  },
  {
   "cell_type": "markdown",
   "id": "10",
   "metadata": {},
   "source": [
    "### 2.4.2 Names"
   ]
  },
  {
   "cell_type": "markdown",
   "id": "11",
   "metadata": {},
   "source": [
    "Names can consist of multiple words.\n",
    "In English and other languages, we separate multiple words with spaces.\n",
    "In Python, they are joined together with underscores.\n",
    "\n",
    "1. let *current year* be 2020\n",
    "2. let *year of birth* be 2010\n",
    "3. let *age* be *current year* − *year of birth*\n",
    "4. print *age*"
   ]
  },
  {
   "cell_type": "code",
   "execution_count": 4,
   "id": "12",
   "metadata": {},
   "outputs": [
    {
     "name": "stdout",
     "output_type": "stream",
     "text": [
      "10\n"
     ]
    }
   ],
   "source": [
    "current_year = 2020\n",
    "year_of_birth = 2010\n",
    "age = current_year - year_of_birth\n",
    "print(age)"
   ]
  },
  {
   "cell_type": "markdown",
   "id": "13",
   "metadata": {},
   "source": [
    "Names can include digits, which may come in handy if you need a few variables\n",
    "with unrelated values, e.g. *year1* and *year2*, or *year 1* and *year 2*,\n",
    "and correspondingly `year1`, `year_1`, etc.\n",
    "\n",
    "A period can only be used to separate names of different things,\n",
    "like in `math.pi` to separate the names of the module and of the variable.\n",
    "\n",
    "You may see Python code that uses mixed-case variable names, like\n",
    "`currentYear`, `yearOfBirth`, `Year_of_Birth`, etc.\n",
    "Although they're all valid names according to Python's syntax,\n",
    "in M269 we follow the convention of writing variable names in lowercase,\n",
    "with underscores to separate words."
   ]
  },
  {
   "cell_type": "markdown",
   "id": "14",
   "metadata": {},
   "source": [
    "<div class=\"alert alert-warning\">\n",
    "<strong>Note:</strong> Following conventions makes your code easier to understand by others.\n",
    "</div>"
   ]
  },
  {
   "cell_type": "markdown",
   "id": "15",
   "metadata": {},
   "source": [
    "<div class=\"alert alert-info\">\n",
    "<strong>Info:</strong> Writing names in lowercase with underscores is known as snake case.\n",
    "The Python coding style conventions are given in\n",
    "<a href=\"https://www.python.org/dev/peps/pep-0008/\">Python Enhancement Proposal (PEP) 8</a>.\n",
    "</div>"
   ]
  },
  {
   "cell_type": "markdown",
   "id": "16",
   "metadata": {},
   "source": [
    "Descriptive names make algorithms much easier to understand.\n",
    "Use full English words. Avoid abbreviations, like `yob = 2010`,\n",
    "and single-letter names, like `y = 2020`."
   ]
  },
  {
   "cell_type": "markdown",
   "id": "17",
   "metadata": {},
   "source": [
    "<div class=\"alert alert-warning\">\n",
    "<strong>Note:</strong> Use descriptive names that reflect what the variables represent.\n",
    "</div>"
   ]
  },
  {
   "cell_type": "markdown",
   "id": "18",
   "metadata": {},
   "source": [
    "It's time to apply what you learned in this and the previous section.\n",
    "The next exercises ask you to write assignments and expressions\n",
    "that have the brackets, if necessary, in the right places.\n",
    "As mentioned in Chapter&nbsp;1, I assume you know how to work with percentages."
   ]
  },
  {
   "cell_type": "markdown",
   "id": "19",
   "metadata": {},
   "source": [
    "#### Exercise 2.4.1"
   ]
  },
  {
   "cell_type": "markdown",
   "id": "20",
   "metadata": {},
   "source": [
    "Many countries impose a sales tax or value-added tax (VAT)\n",
    "on various products and services. Write an algorithm in English that:\n",
    "\n",
    "1. sets the price of a product to an integer or real value of your choice\n",
    "2. sets the tax rate to 20%\n",
    "3. computes the total price, including the tax to be paid\n",
    "4. prints the total price"
   ]
  },
  {
   "cell_type": "markdown",
   "id": "21",
   "metadata": {},
   "source": [
    "_Write your answer here._"
   ]
  },
  {
   "cell_type": "markdown",
   "id": "22",
   "metadata": {},
   "source": [
    "[Answer](../32_Answers/Answers_02_4_01.ipynb)"
   ]
  },
  {
   "cell_type": "markdown",
   "id": "23",
   "metadata": {},
   "source": [
    "#### Exercise 2.4.2"
   ]
  },
  {
   "cell_type": "markdown",
   "id": "24",
   "metadata": {},
   "source": [
    "Translate the previous algorithm to Python code.\n",
    "Don't forget to press Tab to autocomplete names.\n",
    "If you get errors when executing your code, check the next subsection."
   ]
  },
  {
   "cell_type": "code",
   "execution_count": 5,
   "id": "25",
   "metadata": {},
   "outputs": [],
   "source": [
    "# replace this by your code"
   ]
  },
  {
   "cell_type": "markdown",
   "id": "26",
   "metadata": {},
   "source": [
    "[Answer](../32_Answers/Answers_02_4_02.ipynb)"
   ]
  },
  {
   "cell_type": "markdown",
   "id": "27",
   "metadata": {},
   "source": [
    "### 2.4.3 Mistakes"
   ]
  },
  {
   "cell_type": "markdown",
   "id": "28",
   "metadata": {},
   "source": [
    "An assignment's expression can only refer to previously assigned variables,\n",
    "otherwise the expression is undefined. The following sequence\n",
    "doesn't define variable *age* because *birth* is undefined.\n",
    "\n",
    "1. let *year* be 2020\n",
    "1. let *age* be *year* − *birth*\n",
    "\n",
    "If the above algorithm were written and executed in Python,\n",
    "the interpreter would stop in the second step with a name error for *birth*.\n",
    "\n",
    "If your algorithm for an exercise is calculating a wrong final value,\n",
    "consider using print statements to display the intermediate values.\n",
    "This helps you narrow down the source of the error.\n",
    "\n",
    "If you forget the underscores or periods between the words of a name in Python,\n",
    "you get a syntax error."
   ]
  },
  {
   "cell_type": "code",
   "execution_count": 6,
   "id": "29",
   "metadata": {},
   "outputs": [
    {
     "ename": "SyntaxError",
     "evalue": "invalid syntax (2310491230.py, line 1)",
     "output_type": "error",
     "traceback": [
      "\u001b[0;36m  Cell \u001b[0;32mIn[6], line 1\u001b[0;36m\u001b[0m\n\u001b[0;31m    current year = 2020     # missing underscore\u001b[0m\n\u001b[0m            ^\u001b[0m\n\u001b[0;31mSyntaxError\u001b[0m\u001b[0;31m:\u001b[0m invalid syntax\n"
     ]
    }
   ],
   "source": [
    "current year = 2020     # missing underscore"
   ]
  },
  {
   "cell_type": "markdown",
   "id": "30",
   "metadata": {},
   "source": [
    "Every character matters,\n",
    "so *current year*, *currentyear* and  *currentYear* are different names.\n",
    "In Python, if you misspell a name, you get a name error."
   ]
  },
  {
   "cell_type": "code",
   "execution_count": 7,
   "id": "31",
   "metadata": {},
   "outputs": [
    {
     "ename": "NameError",
     "evalue": "name 'currentyear' is not defined",
     "output_type": "error",
     "traceback": [
      "\u001b[0;31m---------------------------------------------------------------------------\u001b[0m",
      "\u001b[0;31mNameError\u001b[0m                                 Traceback (most recent call last)",
      "Cell \u001b[0;32mIn[7], line 1\u001b[0m\n\u001b[0;32m----> 1\u001b[0m \u001b[43mcurrentyear\u001b[49m     \u001b[38;5;66;03m# current_year is defined, currentyear isn't\u001b[39;00m\n",
      "\u001b[0;31mNameError\u001b[0m: name 'currentyear' is not defined"
     ]
    }
   ],
   "source": [
    "currentyear     # current_year is defined, currentyear isn't"
   ]
  },
  {
   "cell_type": "markdown",
   "id": "32",
   "metadata": {},
   "source": [
    "<div class=\"alert alert-warning\">\n",
    "<strong>Note:</strong> If you get a name error then you either misspelt the name,\n",
    "didn't assign a value to it (e.g. you forgot to run a particular cell),\n",
    "didn't indicate the module defining the name, or didn't import the module.\n",
    "</div>"
   ]
  },
  {
   "cell_type": "markdown",
   "id": "33",
   "metadata": {},
   "source": [
    "Hyphens, apostrophes and punctuation other than periods aren't allowed in names.\n",
    "If you use them in Python, you'll get a (possibly strange) error."
   ]
  },
  {
   "cell_type": "code",
   "execution_count": 8,
   "id": "34",
   "metadata": {},
   "outputs": [
    {
     "ename": "SyntaxError",
     "evalue": "invalid character '’' (U+2019) (4202278776.py, line 1)",
     "output_type": "error",
     "traceback": [
      "\u001b[0;36m  Cell \u001b[0;32mIn[8], line 1\u001b[0;36m\u001b[0m\n\u001b[0;31m    Bob’s_phone_number  # curved apostrophe\u001b[0m\n\u001b[0m       ^\u001b[0m\n\u001b[0;31mSyntaxError\u001b[0m\u001b[0;31m:\u001b[0m invalid character '’' (U+2019)\n"
     ]
    }
   ],
   "source": [
    "Bob’s_phone_number  # curved apostrophe"
   ]
  },
  {
   "cell_type": "code",
   "execution_count": 9,
   "id": "35",
   "metadata": {},
   "outputs": [
    {
     "ename": "SyntaxError",
     "evalue": "unterminated string literal (detected at line 1) (1604857084.py, line 1)",
     "output_type": "error",
     "traceback": [
      "\u001b[0;36m  Cell \u001b[0;32mIn[9], line 1\u001b[0;36m\u001b[0m\n\u001b[0;31m    Bob's_phone_number  # straight apostrophe\u001b[0m\n\u001b[0m       ^\u001b[0m\n\u001b[0;31mSyntaxError\u001b[0m\u001b[0;31m:\u001b[0m unterminated string literal (detected at line 1)\n"
     ]
    }
   ],
   "source": [
    "Bob's_phone_number  # straight apostrophe"
   ]
  },
  {
   "cell_type": "code",
   "execution_count": 10,
   "id": "36",
   "metadata": {},
   "outputs": [
    {
     "ename": "NameError",
     "evalue": "name 'left' is not defined",
     "output_type": "error",
     "traceback": [
      "\u001b[0;31m---------------------------------------------------------------------------\u001b[0m",
      "\u001b[0;31mNameError\u001b[0m                                 Traceback (most recent call last)",
      "Cell \u001b[0;32mIn[10], line 1\u001b[0m\n\u001b[0;32m----> 1\u001b[0m \u001b[43mleft\u001b[49m\u001b[38;5;241m-\u001b[39massociative\n",
      "\u001b[0;31mNameError\u001b[0m: name 'left' is not defined"
     ]
    }
   ],
   "source": [
    "left-associative"
   ]
  },
  {
   "cell_type": "markdown",
   "id": "37",
   "metadata": {},
   "source": [
    "Why is the last example a name error rather than a syntax error?\n",
    "\n",
    "___\n",
    "\n",
    "It's a name error because the hyphen is interpreted as the difference operator\n",
    "between two numeric variables, but neither has been assigned a value."
   ]
  },
  {
   "cell_type": "markdown",
   "id": "38",
   "metadata": {},
   "source": [
    "⟵ [Previous section](02_3_expressions.ipynb) | [Up](02-introduction.ipynb) | [Next section](02_5_maths_functions.ipynb) ⟶"
   ]
  }
 ],
 "metadata": {
  "kernelspec": {
   "display_name": "Python 3",
   "language": "python",
   "name": "python3"
  },
  "language_info": {
   "codemirror_mode": {
    "name": "ipython",
    "version": 3
   },
   "file_extension": ".py",
   "mimetype": "text/x-python",
   "name": "python",
   "nbconvert_exporter": "python",
   "pygments_lexer": "ipython3",
   "version": "3.12.10"
  }
 },
 "nbformat": 4,
 "nbformat_minor": 5
}
