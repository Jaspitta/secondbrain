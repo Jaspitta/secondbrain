{
 "cells": [
  {
   "cell_type": "markdown",
   "id": "0",
   "metadata": {},
   "source": [
    "## 2.9 Summary"
   ]
  },
  {
   "cell_type": "markdown",
   "id": "1",
   "metadata": {},
   "source": [
    "This section summarises the previous ones.\n",
    "All definitions in this and future chapters are for the purposes of M269 only.\n",
    "Other texts and programming languages may define\n",
    "concepts and operations differently."
   ]
  },
  {
   "cell_type": "markdown",
   "id": "2",
   "metadata": {},
   "source": [
    "### 2.9.1 Python"
   ]
  },
  {
   "cell_type": "markdown",
   "id": "3",
   "metadata": {},
   "source": [
    "A **module** is a code library. The statement `import m` imports the module `m`,\n",
    "making its contents available. To access a variable `v` or function `f`\n",
    "defined in `m`, write `m.v` or `m.f`.\n",
    "\n",
    "An **identifier** is a name. It starts with a letter,\n",
    "followed by zero or more letters, underscores, periods or digits.\n",
    "The convention is to write variable and function names in lowercase,\n",
    "with underscores separating words.\n",
    "\n",
    "A **keyword** is a word with a reserved meaning in Python.\n",
    "Keywords include `def`, `import`, `return` and can't be used as identifiers.\n",
    "\n",
    "A **comment** starts with a hash symbol and goes until the end of the line.\n",
    "The Python interpreter ignores comments."
   ]
  },
  {
   "cell_type": "markdown",
   "id": "4",
   "metadata": {},
   "source": [
    "### 2.9.2 Data types"
   ]
  },
  {
   "cell_type": "markdown",
   "id": "5",
   "metadata": {},
   "source": [
    "A **data type** (or just **type**) is a collection of\n",
    "values and operations on those values.\n",
    "An **abstract data type** (**ADT**) is a data type defined\n",
    "independently of any implementation."
   ]
  },
  {
   "cell_type": "markdown",
   "id": "6",
   "metadata": {},
   "source": [
    "#### Real numbers and floats"
   ]
  },
  {
   "cell_type": "markdown",
   "id": "7",
   "metadata": {},
   "source": [
    "The **real numbers** are those that can be represented in decimal form,\n",
    "possibly with an infinite number of digits after the decimal point.\n",
    "The **positive** numbers are greater than zero;\n",
    "the **negative** numbers are less than zero.\n",
    "\n",
    "The real number ADT consists of the real numbers\n",
    "and the operations in the next table.\n",
    "Python's `float` type implements an approximation of the real number ADT.\n",
    "The **floating-point numbers** (or **floats**) are the real numbers that can be\n",
    "represented with a fixed number of binary digits.\n",
    "\n",
    "Operation | Mathematics | Python\n",
    "-|-|-\n",
    "negation  | −*x*  | `-x`\n",
    "addition  | *x* + *y*  | `x + y`\n",
    "subtraction  | *x* − *y*  | `x - y`\n",
    "multiplication  | *x* × *y* | `x * y`\n",
    "division | *x* / *y*  | `x / y`\n",
    "floor (round down) | floor(*x*)  | `math.floor(x)`\n",
    "maximum (largest)| max(*x*, *y*, ...)  | `max(x, y, ...)`\n",
    "minimum (smallest) | min(*x*, *y*, ...)  | `min(x, y, ...)`\n",
    "\n",
    "An **operator** is a symbol used to represent an operation.\n",
    "The **operands** are the values to which the operator applies.\n",
    "The right operand of the division operation can't be zero.\n",
    "\n",
    "A **literal** is a direct representation of a value in Python.\n",
    "Integer and float literals start with a digit,\n",
    "followed by zero or more digits.\n",
    "A float literal includes a single period.\n",
    "\n",
    "The real number π is approximated by the float `math.pi`."
   ]
  },
  {
   "cell_type": "markdown",
   "id": "8",
   "metadata": {},
   "source": [
    "#### Integers"
   ]
  },
  {
   "cell_type": "markdown",
   "id": "9",
   "metadata": {},
   "source": [
    "The **integers** are the numbers 0, 1, −1, 2, −2, etc.\n",
    "Every integer is a real number.\n",
    "The **natural numbers** are the non-negative integers.\n",
    "\n",
    "The integer ADT consists of the integers,\n",
    "the operations above and the operations in the next table.\n",
    "All operations, when applied to integers, produce integers, except division.\n",
    "Python's `int` type implements the integer ADT.\n",
    "\n",
    "Operation | Mathematics | Python | Preconditions\n",
    "-|-|-|-\n",
    "floor division | floor(*x* / *y*) | `x // y` | y ≠ 0\n",
    "modulo | *x* mod *y*  | `x % y`  | y ≠ 0\n",
    "exponentiation or power | $x^y$  | `x ** y`  | y ≥ 0\n",
    "\n",
    "The **modulo** is the remainder of floor division. If *x* mod *y* = 0, then\n",
    "*x* is said to be a **multiple** of (or **divisible by**) *y*,\n",
    "and *y* is said to be a **factor** or **divisor** of *x*.\n",
    "An **even** integer is divisible by&nbsp;2; an **odd** integer isn't."
   ]
  },
  {
   "cell_type": "markdown",
   "id": "10",
   "metadata": {},
   "source": [
    "#### Expressions"
   ]
  },
  {
   "cell_type": "markdown",
   "id": "11",
   "metadata": {},
   "source": [
    "An **expression** is a single value or variable,\n",
    "or an operation applied to subexpressions.\n",
    "Operations are carried out in the following **precedence order**:\n",
    "\n",
    "1. bracketed expressions, including functions\n",
    "2. exponentiation\n",
    "3. negation\n",
    "4. multiplication, division, floor division, modulo\n",
    "5. addition, subtraction.\n",
    "\n",
    "Bracketed expressions are executed from the most to the least nested.\n",
    "Those at the same nesting level are executed from left to right.\n",
    "Operations with the same precedence are **left-associative**\n",
    "(executed from left to right),\n",
    "except negation and exponentiation, which are **right-associative**\n",
    "(executed right to left).\n",
    "\n",
    "In Python, the evaluation of an expression may raise an error and stop,\n",
    "depending on the issue (division by zero, unknown name, or wrong syntax)."
   ]
  },
  {
   "cell_type": "markdown",
   "id": "12",
   "metadata": {},
   "source": [
    "### 2.9.3 Functions"
   ]
  },
  {
   "cell_type": "markdown",
   "id": "13",
   "metadata": {},
   "source": [
    "Most operations in M269, including the above, are **functions** in the mathematical\n",
    "sense: they produce a single output and don't modify the inputs.\n",
    "Functions are defined with the following template.\n",
    "\n",
    "**Function**: the name of the function\\\n",
    "**Inputs**: the name and type of each input variable\\\n",
    "**Preconditions**: any conditions on the inputs\\\n",
    "**Output**: the name and type of the output variable\\\n",
    "**Postconditions**: how the output relates to the inputs\n",
    "\n",
    "**Preconditions** state what must be true *before* we can apply the function\n",
    "to the input values; **postconditions** state what will be true *after* applying it.\n",
    "A function defined as:\n",
    "\n",
    "**Function**: function name\\\n",
    "**Inputs**: *input1*, a type1; *input2*, a type2; ...\\\n",
    "**Preconditions**: conditions on *input1*, *input2*, ...\\\n",
    "**Output**: *output*, an output type\\\n",
    "**Postconditions**: conditions on *output*, *input1*, *input2*, ...\n",
    "\n",
    "is implemented in Python as:\n",
    "```python\n",
    "def function_name(input1: type1, input2: type2, ...) -> output_type:\n",
    "    \"\"\"Prescribe what the function computes.\n",
    "\n",
    "    Preconditions: conditions on input1, input2, ...\n",
    "    Postconditions: conditions on output, input1, input2, ...\n",
    "    \"\"\"\n",
    "    algorithm\n",
    "    return output\n",
    "```\n",
    "A **docstring** documents what a Python function does.\n",
    "It comes after the function header and\n",
    "starts and ends with three double quotes.\n",
    "Python's function `help` takes a function name\n",
    "and displays its header and docstring.\n",
    "\n",
    "Python's function `print(expression1, expression2, ...)` displays the values\n",
    "of the given expressions.\n",
    "\n",
    "\n",
    "An **assignment** statement is of the form\n",
    "'let *variable* be *expression*' (in English)\n",
    "or `variable = expression` (in Python).\n",
    "The right-hand side expression is evaluated and its value assigned to the name.\n",
    "The assignment forms `x += y`, `x -= y`, etc., are abbreviations of\n",
    "`x = x + y`, `x = x - y`, etc.\n",
    "\n",
    "An **algorithm** is a step-by-step procedure expressed as\n",
    "a structured list of unambiguous instructions.\n",
    "In this chapter, an algorithm is a sequence of assignments.\n",
    "Each assignment's expression can only involve the input variables\n",
    "or the variables occurring on the left-hand side of previous assignments.\n",
    "At least one assignment must have the output variable on the left-hand side.\n",
    "\n",
    "An algorithm implementing an operation is **correct** if for all inputs that\n",
    "satisfy the preconditions it produces an output satisfying the postconditions.\n",
    "If the input values don't satisfy the preconditions,\n",
    "there's no meaningful output and the algorithm may behave in any way.\n",
    "\n",
    "Two consecutive Python lines of the form\n",
    "```python\n",
    "output = expression\n",
    "return output\n",
    "```\n",
    "can be simplified to `return expression`."
   ]
  },
  {
   "cell_type": "markdown",
   "id": "14",
   "metadata": {},
   "source": [
    "### 2.9.4 Complexity"
   ]
  },
  {
   "cell_type": "markdown",
   "id": "15",
   "metadata": {},
   "source": [
    "The run-time of a statement or expression is measured with the IPython command\n",
    "`%timeit`. It runs the code many times to improve the measurement accuracy and\n",
    "takes the mean time. To set the exact number of repetitions, write\n",
    "```python\n",
    "%timeit -r R -n N code to execute\n",
    "```\n",
    "where `R` and `N` are positive integer literals indicating\n",
    "the number of runs and the number of iterations per run, respectively.\n",
    "\n",
    "The **complexity** of an algorithm is an indication of\n",
    "how its run-time grows for ever larger inputs.\n",
    "\n",
    "**Big-Theta notation** Θ(*e*) states that, for large inputs,\n",
    "the run-time of an algorithm is proportional to the value of\n",
    "integer expression *e* based on the inputs' values and sizes.\n",
    "The size of number *n*, written │*n*│, is how many digits it has.\n",
    "\n",
    "An algorithm has **constant complexity**, written Θ(1),\n",
    "if its run-time doesn't grow as the inputs get larger.\n",
    "An algorithm has **linear complexity** if its run-time grows proportionally to\n",
    "the inputs' values or sizes.\n",
    "When the inputs' value or size doubles,\n",
    "the run-time of a constant- or linear-time algorithm\n",
    "stays the same or doubles, respectively.\n",
    "\n",
    "Although Python supports arbitrarily large integers, we will only use 64-bit integers.\n",
    "We can thus assume all arithmetic operations to have complexity Θ(1), except $x^y$,\n",
    "which has complexity Θ(*y*).\n",
    "The assignment and return statements also take constant time,\n",
    "after their expressions have been evaluated.\n",
    "\n",
    "An algorithm that executes a fixed number of operations,\n",
    "all of them with constant complexity, has constant complexity too."
   ]
  },
  {
   "cell_type": "markdown",
   "id": "16",
   "metadata": {},
   "source": [
    "⟵ [Previous section](02_8_time.ipynb) | [Up](02-introduction.ipynb) | [Next section](../03_Selection/03-introduction.ipynb) ⟶"
   ]
  }
 ],
 "metadata": {
  "kernelspec": {
   "display_name": "Python 3",
   "language": "python",
   "name": "python3"
  },
  "language_info": {
   "codemirror_mode": {
    "name": "ipython",
    "version": 3
   },
   "file_extension": ".py",
   "mimetype": "text/x-python",
   "name": "python",
   "nbconvert_exporter": "python",
   "pygments_lexer": "ipython3",
   "version": "3.12.10"
  }
 },
 "nbformat": 4,
 "nbformat_minor": 5
}
