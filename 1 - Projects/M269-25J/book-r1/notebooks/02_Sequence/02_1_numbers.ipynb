{
 "cells": [
  {
   "cell_type": "markdown",
   "id": "0",
   "metadata": {},
   "source": [
    "## 2.1 Numbers"
   ]
  },
  {
   "cell_type": "markdown",
   "id": "1",
   "metadata": {},
   "source": [
    "A **data type** is a collection of values and operations on those values.\n",
    "For example, the integer data type includes values like -1, 0 and 1,\n",
    "and operations like addition and multiplication.\n",
    "When referring to a type independently of how it's implemented,\n",
    "we'll use the term **abstract data type**, abbreviated **ADT**.\n",
    "ADTs are usually named after their values, in the singular.\n",
    "\n",
    "This and the next section introduce the numeric types used in M269:\n",
    "the integer ADT, the real number ADT, and the corresponding Python data types.\n",
    "This section covers the values; the next section covers the operations."
   ]
  },
  {
   "cell_type": "markdown",
   "id": "2",
   "metadata": {},
   "source": [
    "### 2.1.1 Integers and real numbers"
   ]
  },
  {
   "cell_type": "markdown",
   "id": "3",
   "metadata": {},
   "source": [
    "The **real numbers** are the numbers that can be represented in decimal form,\n",
    "with a finite or infinite number of digits after the decimal point.\n",
    "The real numbers include the **integers** (0, 1, −1, 2, −2, etc.)\n",
    "and numbers like $\\frac{1}{3}$ = 0.333... and π = 3.141592...."
   ]
  },
  {
   "cell_type": "markdown",
   "id": "4",
   "metadata": {},
   "source": [
    "<div class=\"alert alert-info\">\n",
    "<strong>Info:</strong> The integers are also called integer numbers or whole numbers.\n",
    "</div>"
   ]
  },
  {
   "cell_type": "markdown",
   "id": "5",
   "metadata": {},
   "source": [
    "<div class=\"alert alert-warning\">\n",
    "<strong>Note:</strong> In M269 we won't use the alternative terms mentioned in the information boxes.\n",
    "</div>"
   ]
  },
  {
   "cell_type": "markdown",
   "id": "6",
   "metadata": {},
   "source": [
    "The **positive** numbers are those greater than zero;\n",
    "the **negative** numbers are those less than zero.\n",
    "The **natural numbers** are the non-negative integers: 0, 1, 2, etc.\n",
    "They are typically used for counting,\n",
    "e.g. how many copies of a certain product are in stock:\n",
    "if a product is out of stock, its count is zero."
   ]
  },
  {
   "cell_type": "markdown",
   "id": "7",
   "metadata": {},
   "source": [
    "<div class=\"alert alert-info\">\n",
    "<strong>Info:</strong> Some texts, like the MU123 and MST124 books,\n",
    "don't consider zero to be a natural number.\n",
    "Computing texts usually do, because natural numbers are also used for indexing,\n",
    "as we shall see in Chapter&nbsp;4.\n",
    "</div>"
   ]
  },
  {
   "cell_type": "markdown",
   "id": "8",
   "metadata": {},
   "source": [
    "Many real numbers can be represented in various ways, e.g. 0.5 can be\n",
    "represented as a fraction ($\\frac{1}{2}$),\n",
    "as a percentage (50%) and in scientific notation ($5 × 10^{−1}$).\n",
    "The latter representation is useful for very large and very small numbers.\n",
    "For readability, groups of three digits are separated with commas,\n",
    "e.g. 9,500,000 is nine and a half millions."
   ]
  },
  {
   "cell_type": "markdown",
   "id": "9",
   "metadata": {},
   "source": [
    "<div class=\"alert alert-info\">\n",
    "<strong>Info:</strong> MU123 Units 1 and 3 and MST124 Unit&nbsp;1 introduce\n",
    "the various kinds of numbers and notations.\n",
    "</div>"
   ]
  },
  {
   "cell_type": "markdown",
   "id": "10",
   "metadata": {},
   "source": [
    "Numbers are often accompanied by units of measurement.\n",
    "Depending on the unit and the required precision,\n",
    "we may use integers or real numbers. For example,\n",
    "we can represent a person's height as 1.7 metres or 170 centimetres.\n",
    "As another example, travel sites indicate temperature values with integers,\n",
    "but engineering applications need more precision and use real numbers."
   ]
  },
  {
   "cell_type": "markdown",
   "id": "11",
   "metadata": {},
   "source": [
    "### 2.1.2 `int` and `float` literals"
   ]
  },
  {
   "cell_type": "markdown",
   "id": "12",
   "metadata": {},
   "source": [
    "Python provides several numeric data types. M269 uses types `int` and `float`.\n",
    "\n",
    "Python's `int` type is, for practical purposes,\n",
    "indistinguishable from the integer ADT, because Python can represent\n",
    "any integer, no matter how many digits it has, provided there's enough memory.\n",
    "\n",
    "A **literal** is a direct representation of a value. In Python,\n",
    "an integer literal is one or more digits, like `9500`.\n",
    "Note that in Python, numeric literals don't include a minus sign.\n",
    "I'll come back to this point later.\n",
    "\n",
    "Python's `float` type only includes a restricted subset of the real numbers,\n",
    "namely those that can be represented as a binary **floating-point number**\n",
    "(**float** for short) with some fixed number of binary digits.\n",
    "(The exact number of digits available may depend on the Python interpreter\n",
    "and the hardware used.)\n",
    "\n",
    "In Python, a number written with a decimal point is\n",
    "a float literal (even if it represents an integer number),\n",
    "otherwise it's an integer literal."
   ]
  },
  {
   "cell_type": "code",
   "execution_count": 1,
   "id": "13",
   "metadata": {},
   "outputs": [
    {
     "data": {
      "text/plain": [
       "2.0"
      ]
     },
     "execution_count": 1,
     "metadata": {},
     "output_type": "execute_result"
    }
   ],
   "source": [
    "2.0  # a float literal"
   ]
  },
  {
   "cell_type": "code",
   "execution_count": 2,
   "id": "14",
   "metadata": {},
   "outputs": [
    {
     "data": {
      "text/plain": [
       "2"
      ]
     },
     "execution_count": 2,
     "metadata": {},
     "output_type": "execute_result"
    }
   ],
   "source": [
    "2  # an integer literal"
   ]
  },
  {
   "cell_type": "markdown",
   "id": "15",
   "metadata": {},
   "source": [
    "The text after the hash symbol `#` is a **comment**.\n",
    "Comments are ignored by the Python interpreter;\n",
    "they are notes for us, human readers of the code.\n",
    "\n",
    "The real number π occurs in many mathematical formulas.\n",
    "Python provides a float with an approximate value.\n",
    "Python's definition of π is in a separate **module** (code library)\n",
    "named `math`, because not all applications need it.\n",
    "To use a module, we must tell the interpreter to **import** it, like so:"
   ]
  },
  {
   "cell_type": "code",
   "execution_count": 3,
   "id": "16",
   "metadata": {},
   "outputs": [],
   "source": [
    "import math"
   ]
  },
  {
   "cell_type": "markdown",
   "id": "17",
   "metadata": {},
   "source": [
    "This line of code generates no output, but the number to the left of the\n",
    "cell is a confirmation that it has been executed.\n",
    "The syntax colouring shows that the two words have a different 'status':\n",
    "`import` is a Python **keyword**, a word with a special meaning,\n",
    "while `math` is an **identifier**, simply a name.\n",
    "\n",
    "Now we can access the approximate value of π like so (note the dot):"
   ]
  },
  {
   "cell_type": "code",
   "execution_count": 4,
   "id": "18",
   "metadata": {},
   "outputs": [
    {
     "data": {
      "text/plain": [
       "3.141592653589793"
      ]
     },
     "execution_count": 4,
     "metadata": {},
     "output_type": "execute_result"
    }
   ],
   "source": [
    "math.pi"
   ]
  },
  {
   "cell_type": "markdown",
   "id": "19",
   "metadata": {},
   "source": [
    "Precise calculations with reals may become imprecise with floats\n",
    "due to their internal binary representation.\n",
    "For example, the product of 0.1 and 3 is not 0.3 when using floats,\n",
    "because there's no binary floating-point number that represents exactly&nbsp;0.1."
   ]
  },
  {
   "cell_type": "code",
   "execution_count": 5,
   "id": "20",
   "metadata": {},
   "outputs": [
    {
     "data": {
      "text/plain": [
       "0.30000000000000004"
      ]
     },
     "execution_count": 5,
     "metadata": {},
     "output_type": "execute_result"
    }
   ],
   "source": [
    "0.1 * 3"
   ]
  },
  {
   "cell_type": "markdown",
   "id": "21",
   "metadata": {},
   "source": [
    "<div class=\"alert alert-info\">\n",
    "<strong>Info:</strong> TM112 Block&nbsp;1 Section&nbsp;1.2 explains floating-point numbers and their binary representation.\n",
    "</div>"
   ]
  },
  {
   "cell_type": "markdown",
   "id": "22",
   "metadata": {},
   "source": [
    "M269 rarely uses floats; they occur mainly when measuring the run-time of code."
   ]
  },
  {
   "cell_type": "markdown",
   "id": "23",
   "metadata": {},
   "source": [
    "### 2.1.3 Mistakes"
   ]
  },
  {
   "cell_type": "markdown",
   "id": "24",
   "metadata": {},
   "source": [
    "Programming language interpreters are either very picky or very lax about the\n",
    "form in which they expect instructions to be.\n",
    "Deviations from the expected form can lead to error messages or subtle mistakes that may be difficult to detect.\n",
    "This and similar subsections throughout the book show you some typical mistakes\n",
    "when writing code and how the interpreter reacts to them.\n",
    "\n",
    "Python uses commas to separate items, as we shall see in Chapter&nbsp;4.\n",
    "So, if you use a comma as a thousands separator or as a decimal point,\n",
    "then the interpreter will consider the input to be several separate numbers."
   ]
  },
  {
   "cell_type": "code",
   "execution_count": 6,
   "id": "25",
   "metadata": {},
   "outputs": [
    {
     "data": {
      "text/plain": [
       "(70, 500)"
      ]
     },
     "execution_count": 6,
     "metadata": {},
     "output_type": "execute_result"
    }
   ],
   "source": [
    "70,500  # this is two integers, not seventy and a half thousand"
   ]
  },
  {
   "cell_type": "code",
   "execution_count": 7,
   "id": "26",
   "metadata": {},
   "outputs": [
    {
     "data": {
      "text/plain": [
       "(3, 42)"
      ]
     },
     "execution_count": 7,
     "metadata": {},
     "output_type": "execute_result"
    }
   ],
   "source": [
    "3,42  # wrong decimal separator: must be ."
   ]
  },
  {
   "cell_type": "markdown",
   "id": "27",
   "metadata": {},
   "source": [
    "This mistake is hard to detect, because it's valid Python syntax.\n",
    "If you get an error message about the interpreter expecting a number\n",
    "instead of a list of numbers, then the source of the error might be this one.\n",
    "\n",
    "If the interpreter doesn't know what a name refers to,\n",
    "it raises a **name error**.\n",
    "The exact message may vary, depending on the context.\n",
    "For example, the error may occur if you misspell a name:"
   ]
  },
  {
   "cell_type": "code",
   "execution_count": 8,
   "id": "28",
   "metadata": {},
   "outputs": [
    {
     "ename": "ModuleNotFoundError",
     "evalue": "No module named 'maths'",
     "output_type": "error",
     "traceback": [
      "\u001b[0;31m---------------------------------------------------------------------------\u001b[0m",
      "\u001b[0;31mModuleNotFoundError\u001b[0m                       Traceback (most recent call last)",
      "Cell \u001b[0;32mIn[8], line 1\u001b[0m\n\u001b[0;32m----> 1\u001b[0m \u001b[38;5;28;01mimport\u001b[39;00m\u001b[38;5;250m \u001b[39m\u001b[38;5;21;01mmaths\u001b[39;00m  \u001b[38;5;66;03m# should be math\u001b[39;00m\n",
      "\u001b[0;31mModuleNotFoundError\u001b[0m: No module named 'maths'"
     ]
    }
   ],
   "source": [
    "import maths  # should be math"
   ]
  },
  {
   "cell_type": "markdown",
   "id": "29",
   "metadata": {},
   "source": [
    "or if you forget to indicate in which module the name is defined:"
   ]
  },
  {
   "cell_type": "code",
   "execution_count": 9,
   "id": "30",
   "metadata": {},
   "outputs": [
    {
     "ename": "NameError",
     "evalue": "name 'pi' is not defined",
     "output_type": "error",
     "traceback": [
      "\u001b[0;31m---------------------------------------------------------------------------\u001b[0m",
      "\u001b[0;31mNameError\u001b[0m                                 Traceback (most recent call last)",
      "Cell \u001b[0;32mIn[9], line 1\u001b[0m\n\u001b[0;32m----> 1\u001b[0m \u001b[43mpi\u001b[49m\n",
      "\u001b[0;31mNameError\u001b[0m: name 'pi' is not defined"
     ]
    }
   ],
   "source": [
    "pi"
   ]
  },
  {
   "cell_type": "markdown",
   "id": "31",
   "metadata": {},
   "source": [
    "By the way, if you want to try out your own examples,\n",
    "you should create a checkpoint, copy my code cell,\n",
    "paste a duplicate below the original cell,\n",
    "and then work on the pasted cell.\n",
    "If you don't want to keep your examples, revert to the checkpoint,\n",
    "or simply delete the pasted cell."
   ]
  },
  {
   "cell_type": "markdown",
   "id": "32",
   "metadata": {},
   "source": [
    "⟵ [Previous section](02-introduction.ipynb) | [Up](02-introduction.ipynb) | [Next section](02_2_operations.ipynb) ⟶"
   ]
  }
 ],
 "metadata": {
  "kernelspec": {
   "display_name": "Python 3",
   "language": "python",
   "name": "python3"
  },
  "language_info": {
   "codemirror_mode": {
    "name": "ipython",
    "version": 3
   },
   "file_extension": ".py",
   "mimetype": "text/x-python",
   "name": "python",
   "nbconvert_exporter": "python",
   "pygments_lexer": "ipython3",
   "version": "3.12.10"
  }
 },
 "nbformat": 4,
 "nbformat_minor": 5
}
