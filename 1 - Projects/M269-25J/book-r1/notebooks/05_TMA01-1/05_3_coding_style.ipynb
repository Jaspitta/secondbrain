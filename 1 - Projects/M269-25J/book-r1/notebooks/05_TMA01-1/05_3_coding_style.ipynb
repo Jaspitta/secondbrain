{
 "cells": [
  {
   "cell_type": "markdown",
   "id": "0",
   "metadata": {},
   "source": [
    "## 5.3 Coding style"
   ]
  },
  {
   "cell_type": "markdown",
   "id": "1",
   "metadata": {},
   "source": [
    "General:\n",
    "\n",
    "- Use descriptive names. Avoid abbreviations and single-letter names.\n",
    "- Use 4&nbsp;spaces for each indentation level.\n",
    "- Keep lines shorter than 80 characters, to comfortably fit within the screen.\n",
    "- Write docstrings and multi-line strings between three double quotes.\n",
    "\n",
    "Variables:\n",
    "\n",
    "- Write variable names in lowercase, with underscores separating words, e.g. `test_case`.\n",
    "- Write constant names in uppercase, with underscores separating words, e.g. `TEST_CASE`.\n",
    "\n",
    "Functions:\n",
    "\n",
    "- Write function names in lowercase, with underscores separating words.\n",
    "- A function name should describe *what* the function returns or does, not\n",
    "  *how* it works, unless you have several functions solving the same problem.\n",
    "- Indicate the type of each parameter and the output, with type annotations.\n",
    "- Write a docstring for each function.\n",
    "- If you're implementing a function in the mathematical sense,\n",
    "  make sure your Python function doesn't modify any input."
   ]
  },
  {
   "cell_type": "markdown",
   "id": "2",
   "metadata": {},
   "source": [
    "<div class=\"alert alert-info\">\n",
    "<strong>Info:</strong> This and later coding style guidance is partly based on\n",
    "<a href=\"https://www.python.org/dev/peps/pep-0008\">Style Guide for Python Code</a>\n",
    "(better known as PEP 8) and\n",
    "<a href=\"https://www.python.org/dev/peps/pep-0257\">Docstring Conventions</a>\n",
    "(PEP 257).\n",
    "</div>"
   ]
  },
  {
   "cell_type": "markdown",
   "id": "3",
   "metadata": {},
   "source": [
    "### 5.3.1 The Zen of Python"
   ]
  },
  {
   "cell_type": "markdown",
   "id": "4",
   "metadata": {},
   "source": [
    "The following is about the design of the Python language, but we should strive\n",
    "for the same aims of simplicity, clarity and readability\n",
    "when designing, implementing, documenting and testing our algorithms."
   ]
  },
  {
   "cell_type": "code",
   "execution_count": 1,
   "id": "5",
   "metadata": {},
   "outputs": [
    {
     "name": "stdout",
     "output_type": "stream",
     "text": [
      "The Zen of Python, by Tim Peters\n",
      "\n",
      "Beautiful is better than ugly.\n",
      "Explicit is better than implicit.\n",
      "Simple is better than complex.\n",
      "Complex is better than complicated.\n",
      "Flat is better than nested.\n",
      "Sparse is better than dense.\n",
      "Readability counts.\n",
      "Special cases aren't special enough to break the rules.\n",
      "Although practicality beats purity.\n",
      "Errors should never pass silently.\n",
      "Unless explicitly silenced.\n",
      "In the face of ambiguity, refuse the temptation to guess.\n",
      "There should be one-- and preferably only one --obvious way to do it.\n",
      "Although that way may not be obvious at first unless you're Dutch.\n",
      "Now is better than never.\n",
      "Although never is often better than *right* now.\n",
      "If the implementation is hard to explain, it's a bad idea.\n",
      "If the implementation is easy to explain, it may be a good idea.\n",
      "Namespaces are one honking great idea -- let's do more of those!\n"
     ]
    }
   ],
   "source": [
    "import this"
   ]
  },
  {
   "cell_type": "markdown",
   "id": "6",
   "metadata": {},
   "source": [
    "<div class=\"alert alert-info\">\n",
    "<strong>Info:</strong> Tim Peters contributed to the design and implementation of Python.\n",
    "The creator of Python, Guido van Rossum, is Dutch.\n",
    "</div>"
   ]
  },
  {
   "cell_type": "markdown",
   "id": "7",
   "metadata": {},
   "source": [
    "### 5.3.2 Linters"
   ]
  },
  {
   "cell_type": "markdown",
   "id": "8",
   "metadata": {},
   "source": [
    "Many software companies expect their developers to follow the same coding style,\n",
    "as it makes it easier to understand each others' code and to onboard new developers.\n",
    "Professional developers tend to use tools that automatically check their code.\n",
    "Such tools are called linters.\n",
    "\n",
    "One of the best linters for Python is Ruff, which is included in the M269&nbsp;software.\n",
    "All TMA notebooks have code like this:"
   ]
  },
  {
   "cell_type": "code",
   "execution_count": 2,
   "id": "9",
   "metadata": {},
   "outputs": [
    {
     "name": "stdout",
     "output_type": "stream",
     "text": [
      "ruff was activated\n"
     ]
    }
   ],
   "source": [
    "%load_ext algoesup.magics\n",
    "%ruff on --extend-ignore E711"
   ]
  },
  {
   "cell_type": "markdown",
   "id": "10",
   "metadata": {},
   "source": [
    "After this code is executed, each time you run a code cell,\n",
    "it is automatically linted, like this:"
   ]
  },
  {
   "cell_type": "code",
   "execution_count": 3,
   "id": "11",
   "metadata": {},
   "outputs": [
    {
     "data": {
      "text/markdown": [
       "**ruff** found issues:\n",
       "\n",
       "- 1: \\[[ANN201](https://docs.astral.sh/ruff/rules/missing-return-type-undocumented-public-function)\\] Missing return type annotation for public function `length`. Suggested fix: Add return type annotation: `None`\n",
       "- 1: \\[[D103](https://docs.astral.sh/ruff/rules/undocumented-public-function)\\] Missing docstring in public function\n",
       "- 1: \\[[A002](https://docs.astral.sh/ruff/rules/builtin-argument-shadowing)\\] Function argument `list` is shadowing a Python builtin\n",
       "- 1: \\[[ANN001](https://docs.astral.sh/ruff/rules/missing-type-function-argument)\\] Missing type annotation for function argument `list`\n",
       "- 3: \\[[B007](https://docs.astral.sh/ruff/rules/unused-loop-control-variable)\\] Loop control variable `value` not used within loop body. Suggested fix: Rename unused `value` to `_value`"
      ]
     },
     "metadata": {},
     "output_type": "display_data"
    }
   ],
   "source": [
    "def length(list):\n",
    "    count = 0\n",
    "    for value in list:\n",
    "        count = count + 1"
   ]
  },
  {
   "cell_type": "markdown",
   "id": "12",
   "metadata": {},
   "source": [
    "Ruff reports the line and number of each issue, e.g. line 3&nbsp;has issue B007.\n",
    "Clicking on the issue number takes you to Ruff's manual for further explanation,\n",
    "e.g. click on A002 to understand what 'shadowing a Python builtin' means.\n",
    "\n",
    "Note that Ruff also detects the absence of `return` because it suggests that\n",
    "the output type should be `None`. Ruff has no error code for a missing `return`\n",
    "because it can't guess whether the function is supposed to return a value or not.\n",
    "\n",
    "If Ruff is wrongly flagging an issue, you can tell Ruff to ignore it by\n",
    "ending the 'offending' line with the comment `# noqa: ...` where '...' is the error code.\n",
    "For example, if a loop variable isn't used in the loop's body, Ruff flags error B007.\n",
    "But sometimes, as in the code above, the loop variable is *not* meant to be used,\n",
    "and Ruff suggests a fix based on a Python convention we don't use in M269.\n",
    "So in this case you should add a 'no quality assurance' (`noqa`) comment for\n",
    "Ruff to ignore the issue. Here's the new version of the code,\n",
    "addressing all the issues found by Ruff."
   ]
  },
  {
   "cell_type": "code",
   "execution_count": 4,
   "id": "13",
   "metadata": {},
   "outputs": [],
   "source": [
    "def length(values: list) -> int:\n",
    "    \"\"\"Return the number of items in the list.\"\"\"\n",
    "    count = 0\n",
    "    for value in values:  # noqa: B007\n",
    "        count = count + 1\n",
    "    return count"
   ]
  },
  {
   "cell_type": "markdown",
   "id": "14",
   "metadata": {},
   "source": [
    "You will find throughout the book several `noqa` comments.\n",
    "The most frequent ones are for Ruff to ignore missing docstrings,\n",
    "because I omit them when it's a new version of a function I wrote before,\n",
    "so that you can concentrate on the code changes.\n",
    "\n",
    "While we suggest you keep code lines shorter than 80 characters,\n",
    "Ruff only flags lines longer than 88 characters to give some leeway for\n",
    "longer descriptive names and for functions with several parameters."
   ]
  },
  {
   "cell_type": "markdown",
   "id": "15",
   "metadata": {},
   "source": [
    "<div class=\"alert alert-warning\">\n",
    "<strong>Note:</strong> Ruff may flag issues or make suggestions that are not appropriate in an\n",
    "educational setting like M269. When in doubt about whether to address a Ruff\n",
    "message, post its error code in the Technical Forum.\n",
    "</div>"
   ]
  },
  {
   "cell_type": "markdown",
   "id": "16",
   "metadata": {},
   "source": [
    "All TMA notebooks also contain code like this:"
   ]
  },
  {
   "cell_type": "code",
   "execution_count": 5,
   "id": "17",
   "metadata": {},
   "outputs": [],
   "source": [
    "import platform"
   ]
  },
  {
   "cell_type": "code",
   "execution_count": 6,
   "id": "18",
   "metadata": {},
   "outputs": [
    {
     "name": "stdout",
     "output_type": "stream",
     "text": [
      "allowed was activated\n"
     ]
    }
   ],
   "source": [
    "if platform.system() in (\"Linux\", \"Darwin\"):\n",
    "    %allowed on --config m269-25j --unit 5 --method\n",
    "else:\n",
    "    %allowed on --config m269-25j --unit 5"
   ]
  },
  {
   "cell_type": "markdown",
   "id": "19",
   "metadata": {},
   "source": [
    "This makes the `allowed` linter, also included in the M269&nbsp;software, check your code\n",
    "against the Python subset taught until chapter&nbsp;5 of this book.\n",
    "On Linux and macOS, `allowed` will also check some method calls.\n",
    "Here's an example:"
   ]
  },
  {
   "cell_type": "code",
   "execution_count": 7,
   "id": "20",
   "metadata": {},
   "outputs": [
    {
     "data": {
      "text/markdown": [
       "**allowed** found issues:\n",
       "\n",
       "- 1: sqrt\n",
       "- 6: dict literal\n",
       "- 8: list.count()\n",
       "- 9: pass"
      ]
     },
     "metadata": {},
     "output_type": "display_data"
    },
    {
     "data": {
      "text/markdown": [
       "**ruff** found issues:\n",
       "\n",
       "- 6: \\[[F841](https://docs.astral.sh/ruff/rules/unused-variable)\\] Local variable `arabic_to_roman` is assigned to but never used. Suggested fix: Remove assignment to unused variable `arabic_to_roman`"
      ]
     },
     "metadata": {},
     "output_type": "display_data"
    }
   ],
   "source": [
    "from math import sqrt\n",
    "\n",
    "\n",
    "def some_function(n: int) -> int:\n",
    "    \"\"\"To be implemented.\"\"\"\n",
    "    arabic_to_roman = {1: \"I\", 5: \"V\"}\n",
    "    numbers = [1, 2, 1, 0]\n",
    "    numbers.count(1)\n",
    "    pass"
   ]
  },
  {
   "cell_type": "markdown",
   "id": "21",
   "metadata": {},
   "source": [
    "The `sqrt` function, the dictionary literal and the `pass` statement are flagged\n",
    "because they aren't taught in Chapters 1 to 5. (They will be introduced later.)\n",
    "The `count` method on lists, which isn't used in M269, is also flagged because I use macOS."
   ]
  },
  {
   "cell_type": "markdown",
   "id": "22",
   "metadata": {},
   "source": [
    "<div class=\"alert alert-warning\">\n",
    "<strong>Note:</strong> If you are on Windows, you can check method calls by uploading your TMA to\n",
    "the Open Computing Lab and running all cells there.\n",
    "</div>"
   ]
  },
  {
   "cell_type": "markdown",
   "id": "23",
   "metadata": {},
   "source": [
    "<div class=\"alert alert-warning\">\n",
    "<strong>Note:</strong> Linters aren't perfect. Even if they don't flag anything,\n",
    "your code may have issues: syntax errors, disallowed constructs, etc.\n",
    "Always read your code carefully before submitting your TMA.\n",
    "</div>"
   ]
  },
  {
   "cell_type": "markdown",
   "id": "24",
   "metadata": {},
   "source": [
    "<div class=\"alert alert-info\">\n",
    "<strong>Info:</strong> The <code>allowed</code> linter was co-written by former M269&nbsp;students.\n",
    "If you're interested in contributing to the tool's development,\n",
    "see its <a href=\"https://dsa-ou.github.io/allowed/\">website</a>.\n",
    "</div>"
   ]
  },
  {
   "cell_type": "markdown",
   "id": "25",
   "metadata": {},
   "source": [
    "⟵ [Previous section](05_2_algorithms.ipynb) | [Up](05-introduction.ipynb) | [Next section](../06_Implementing/06-introduction.ipynb) ⟶"
   ]
  }
 ],
 "metadata": {
  "kernelspec": {
   "display_name": "Python 3",
   "language": "python",
   "name": "python3"
  },
  "language_info": {
   "codemirror_mode": {
    "name": "ipython",
    "version": 3
   },
   "file_extension": ".py",
   "mimetype": "text/x-python",
   "name": "python",
   "nbconvert_exporter": "python",
   "pygments_lexer": "ipython3",
   "version": "3.12.10"
  }
 },
 "nbformat": 4,
 "nbformat_minor": 5
}
