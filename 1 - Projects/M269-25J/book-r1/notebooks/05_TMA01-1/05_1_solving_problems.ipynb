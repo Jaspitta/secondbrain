{
 "cells": [
  {
   "cell_type": "markdown",
   "id": "0",
   "metadata": {},
   "source": [
    "## 5.1 Problem definition"
   ]
  },
  {
   "cell_type": "markdown",
   "id": "1",
   "metadata": {},
   "source": [
    "The first stage of the process is to read the informal problem description and\n",
    "translate it into a succinct but precise problem definition.\n",
    "The first question to ask yourself is:\n",
    "\n",
    "- What type of problem is it? Is it asking to\n",
    "  - check a property of the input? (decision problem)\n",
    "  - assign a category to each input? (classification problem)\n",
    "  - find one or more items satisfying some criteria? (search problem)\n",
    "\n",
    "Remember that a search problem may not be stated as such.\n",
    "\n",
    "M269 problems are operations on some data, so the next question is:\n",
    "\n",
    "- Is the operation a function in the mathematical sense,\n",
    "  i.e. does it not modify its inputs?\n",
    "\n",
    "If it is, fill in this template:\n",
    "\n",
    "**Function**: the name of the function\\\n",
    "**Inputs**: the name and type of each input variable\\\n",
    "**Preconditions**: any conditions on the inputs\\\n",
    "**Output**: the name and type of the output variable\\\n",
    "**Postconditions**: how the output relates to the inputs\n",
    "\n",
    "If it isn't, fill in this one instead:\n",
    "\n",
    "**Operation**: the name of the operation\\\n",
    "**Inputs/Outputs**: the name and type of each variable that is modified\\\n",
    "**Inputs**: the name and type of each input variable\\\n",
    "**Preconditions**: any conditions on the inputs\\\n",
    "**Output**: the name and type of the output variable\\\n",
    "**Postconditions**: how the outputs relate to the inputs\n",
    "\n",
    "In the second template, use pre-*x* and post-*x* in the postconditions to refer\n",
    "to the value of input/output variable *x* before and after the operation,\n",
    "respectively.\n",
    "\n",
    "Ask yourself the following questions to fill out the templates."
   ]
  },
  {
   "cell_type": "markdown",
   "id": "2",
   "metadata": {},
   "source": [
    "### 5.1.1 Problem and output names"
   ]
  },
  {
   "cell_type": "markdown",
   "id": "3",
   "metadata": {},
   "source": [
    "The problem name states what the function or operation does or produces.\n",
    "The names of the problem and output variable are often similar or related.\n",
    "\n",
    "- What does the function/operation do? What does it produce?\n",
    "- If it's a decision problem, what yes/no question does it ask of the input?\n",
    "- If it's a search problem, what is being looked for?"
   ]
  },
  {
   "cell_type": "markdown",
   "id": "4",
   "metadata": {},
   "source": [
    "### 5.1.2 Inputs and outputs"
   ]
  },
  {
   "cell_type": "markdown",
   "id": "5",
   "metadata": {},
   "source": [
    "M269 problems usually have at most one input/output variable,\n",
    "which must be a mutable sequence, and exactly one output-only variable.\n",
    "\n",
    "- In the problem description, what is given (input), what is asked for (output)\n",
    "  and what changes (input/output)?\n",
    "- Thinking backwards, what data is needed to compute the function's output?\n",
    "- If it's a decision problem then the output is a Boolean, unless the description\n",
    "  says otherwise. What does it represent when it's true?\n",
    "- If it's a search problem, what kind of input sequence is searched?\n",
    "- If it's a categorisation problem, what are the possible categories?\n",
    "- For each variable, what is its type?\n",
    "\n",
    "If the value is ... | then use type ...\n",
    "-|-\n",
    "a number  | integer or real number\n",
    "a logical value  | Boolean\n",
    "a text  |  string\n",
    "any sequence  |  sequence\n",
    "an immutable sequence  | tuple\n",
    "a mutable sequence  |  list\n",
    "any value  |  object"
   ]
  },
  {
   "cell_type": "markdown",
   "id": "6",
   "metadata": {},
   "source": [
    "### 5.1.3 Preconditions"
   ]
  },
  {
   "cell_type": "markdown",
   "id": "7",
   "metadata": {},
   "source": [
    "Not all of the following questions apply to every problem,\n",
    "but they help you not miss some typical preconditions.\n",
    "\n",
    "- If the input is an integer:\n",
    "  - What are its smallest and largest values?\n",
    "  - Can it be zero? Can it only be positive, or negative, or odd?\n",
    "  - Does it have a unit?\n",
    "- If the input is a sequence:\n",
    "  - Can it be empty? Does it have a minimum or maximum length?\n",
    "  - Is it sorted? By which criterion? Is the order ascending or descending?\n",
    "  - Must the items be pairwise comparable?\n",
    "    This may be necessary for search problems, e.g. to find the largest item.\n",
    "  - Are items unique or can there be duplicates?\n",
    "  - What are the preconditions on the items? For example:\n",
    "      - If the input is a list of integers, must they be positive?\n",
    "      - If the input is a string, can it only contain certain characters?\n",
    "- Do the preconditions include output-only variables? If so, something's wrong\n",
    "  because preconditions only restrict the inputs."
   ]
  },
  {
   "cell_type": "markdown",
   "id": "8",
   "metadata": {},
   "source": [
    "### 5.1.4 Postconditions"
   ]
  },
  {
   "cell_type": "markdown",
   "id": "9",
   "metadata": {},
   "source": [
    "- If it's a decision problem, under which conditions is the output true?\n",
    "- If it's a classification problem then, for each category, what are the conditions\n",
    "  for the input to belong to that category?\n",
    "- If it's a search problem, what are the search criteria?\n",
    "- If an input is a sequence:\n",
    "  - What happens if it's empty?\n",
    "  - What happens if it has odd length? What if it has even length?\n",
    "- If the output is a sequence:\n",
    "  - Can it be empty? Does it have a minimum or maximum length?\n",
    "  - Does it have to be a subsequence of an input sequence?\n",
    "  - Does it have be be sorted?\n",
    "  - What are the postconditions for its items?\n",
    "- Does every input occur in the postconditions?\n",
    "  If not, the postconditions are still incomplete or\n",
    "  the input can be removed, as it's not necessary to compute the output."
   ]
  },
  {
   "cell_type": "markdown",
   "id": "10",
   "metadata": {},
   "source": [
    "### 5.1.5 Test table"
   ]
  },
  {
   "cell_type": "markdown",
   "id": "11",
   "metadata": {},
   "source": [
    "Each test is a problem instance and its expected output, so\n",
    "depending on the pre- and postconditions, some of these questions may not apply,\n",
    "e.g. there may not be a largest input or output, or the input sequence can't have\n",
    "items of different types.\n",
    "\n",
    "- Does the test table have one column for the test case description,\n",
    "  one column per input and one column for the output?\n",
    "- Do the inputs of each test satisfy the preconditions?\n",
    "  If not, you have to revise the test or the preconditions.\n",
    "- Do the outputs of each test satisfy the postconditions?\n",
    "  If not, you have to revise the test or the postconditions.\n",
    "- Are there tests for the smallest and for the largest possible inputs?\n",
    "- Are there tests for the smallest and for the largest possible output?\n",
    "- For an input sequence, are there tests both for even and odd lengths,\n",
    "  for different types of items, for sorted and unsorted sequences,\n",
    "  and for sequences with no, some or all items of the same value?\n",
    "- For a classification problem, is there a test for each category boundary?\n",
    "- For a decision problem, are there tests with true and false outputs?\n",
    "- For a search problem, are there tests for no, one, multiple and all items\n",
    "  matching the search criteria?"
   ]
  },
  {
   "cell_type": "markdown",
   "id": "12",
   "metadata": {},
   "source": [
    "⟵ [Previous section](05-introduction.ipynb) | [Up](05-introduction.ipynb) | [Next section](05_2_algorithms.ipynb) ⟶"
   ]
  }
 ],
 "metadata": {
  "kernelspec": {
   "display_name": "Python 3",
   "language": "python",
   "name": "python3"
  },
  "language_info": {
   "codemirror_mode": {
    "name": "ipython",
    "version": 3
   },
   "file_extension": ".py",
   "mimetype": "text/x-python",
   "name": "python",
   "nbconvert_exporter": "python",
   "pygments_lexer": "ipython3",
   "version": "3.12.10"
  }
 },
 "nbformat": 4,
 "nbformat_minor": 5
}
