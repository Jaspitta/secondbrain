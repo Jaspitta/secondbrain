{
 "cells": [
  {
   "cell_type": "markdown",
   "id": "0",
   "metadata": {},
   "source": [
    "# 5 TMA 01 part 1"
   ]
  },
  {
   "cell_type": "markdown",
   "id": "1",
   "metadata": {},
   "source": [
    "This study-free week is for you to catch up if you need to,\n",
    "and to complete the first part of TMA&nbsp;01. If you haven't done so yet,\n",
    "download TMA&nbsp;01 from the ['Assessment' tab](https://learn2.open.ac.uk/course/view.php?id=240036&area=assessment) of the M269 website,\n",
    "and put it in a `TMA01` subfolder of your M269 folder.\n",
    "\n",
    "There's no recipe to solve a computational problem, but if you ask yourself the\n",
    "right questions then you're more likely to find a solution without multiple trials\n",
    "and errors. Sections 1 and 2 of this chapter provide a non-comprehensive checklist,\n",
    "often in question form, of things to think about in order to solve a problem,\n",
    "be it an exercise or TMA question.\n",
    "\n",
    "M269 uses a very small subset of the Python language. This is to help you\n",
    "write simple algorithms that are easier to understand, analyse and debug\n",
    "than if using the full range of Python operations.\n",
    "Using a small set of operations doesn't necessarily make the algorithms long.\n",
    "\n",
    "Unless a TMA question explicitly states otherwise,\n",
    "your code can only use the Python subset introduced in this book;\n",
    "otherwise, you may lose some or all marks.\n",
    "Section&nbsp;3 of this chapter explains how adherence to the taught subset is partially checked.\n",
    "\n",
    "Before starting to work on this chapter, check the M269\n",
    "[news](https://learn2.open.ac.uk/blocks/news/all.php?bi=326014) and [errata](https://learn2.open.ac.uk/mod/url/view.php?id=2554721)."
   ]
  },
  {
   "cell_type": "markdown",
   "id": "2",
   "metadata": {
    "nbsphinx-toctree": {
     "hidden": true,
     "maxdepth": 1,
     "numbered": false
    }
   },
   "source": [
    "1. [Problem definition](05_1_solving_problems.ipynb)\n",
    "1. [Algorithms and complexity](05_2_algorithms.ipynb)\n",
    "1. [Coding style](05_3_coding_style.ipynb)"
   ]
  },
  {
   "cell_type": "markdown",
   "id": "3",
   "metadata": {},
   "source": [
    "⟵ [Previous chapter](../04_Iteration/04-introduction.ipynb) | [Up](../M269.ipynb) | [Next chapter](../06_Implementing/06-introduction.ipynb) ⟶"
   ]
  }
 ],
 "metadata": {
  "kernelspec": {
   "display_name": "Python 3",
   "language": "python",
   "name": "python3"
  },
  "language_info": {
   "codemirror_mode": {
    "name": "ipython",
    "version": 3
   },
   "file_extension": ".py",
   "mimetype": "text/x-python",
   "name": "python",
   "nbconvert_exporter": "python",
   "pygments_lexer": "ipython3",
   "version": "3.12.10"
  }
 },
 "nbformat": 4,
 "nbformat_minor": 5
}
