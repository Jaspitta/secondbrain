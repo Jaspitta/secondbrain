{
 "cells": [
  {
   "cell_type": "markdown",
   "id": "0",
   "metadata": {},
   "source": [
    "## 5.2 Algorithms and complexity"
   ]
  },
  {
   "cell_type": "markdown",
   "id": "1",
   "metadata": {},
   "source": [
    "Designing an algorithm is the most creative part of the problem-solving process.\n",
    "There's no recipe but there are some templates for recurring kinds of problems."
   ]
  },
  {
   "cell_type": "markdown",
   "id": "2",
   "metadata": {},
   "source": [
    "### 5.2.1 Linear search"
   ]
  },
  {
   "cell_type": "markdown",
   "id": "3",
   "metadata": {},
   "source": [
    "An algorithm executes a linear search over a sequence by going through the sequence,\n",
    "item by item. Here are some variations. They aren't algorithms but rather\n",
    "algorithmic templates, or algorithmic patterns,\n",
    "as I called them in TM112 Blocks 1 and&nbsp;2.\n",
    "\n",
    "To count how many items satisfy the conditions:\n",
    "\n",
    "1. let *counter* be 0\n",
    "2. for each *item* in *sequence*:\n",
    "   1. if *item* satisfies the conditions:\n",
    "      1. let *counter* be *counter* + 1\n",
    "\n",
    "To find the first item that satisfies the conditions:\n",
    "\n",
    "1. let *found* be some value that can't be in the sequence\n",
    "2. for each *item* in *sequence*:\n",
    "   1. if *item* satisfies the conditions:\n",
    "      1. let *found* be *item*\n",
    "      2. stop\n",
    "\n",
    "To find all items that satisfy some conditions:\n",
    "\n",
    "1. let *found* be  the empty sequence\n",
    "2. for each *item* in *sequence*:\n",
    "   1. if *item* satisfies the conditions:\n",
    "      1. append *item* to *found*\n",
    "\n",
    "To find the best item in a non-empty sequence:\n",
    "\n",
    "1. let *best* be *sequence*[0]\n",
    "2. for each *item* in *sequence*:\n",
    "   1. if *item* is better than *best*:\n",
    "      1. let *best* be *item*"
   ]
  },
  {
   "cell_type": "markdown",
   "id": "4",
   "metadata": {},
   "source": [
    "<div class=\"alert alert-info\">\n",
    "<strong>Info:</strong> These are the M269 versions of Patterns 2.5 (counting), 2.7 (find value),\n",
    "2.3 (list filtering) and 2.8 (find best value) in TM112 Block&nbsp;2.\n",
    "</div>"
   ]
  },
  {
   "cell_type": "markdown",
   "id": "5",
   "metadata": {},
   "source": [
    "To check if a sequence satisfies several conditions:\n",
    "\n",
    "1. let *condition 1* be false\n",
    "1. let *condition 2* be false\n",
    "1. etc. (set one more flag per condition)\n",
    "2. for each *item* in *sequence*:\n",
    "   1. if *item* satisfies the first condition:\n",
    "      1. let *condition 1* be true\n",
    "   2. if *item* satisfies the second condition:\n",
    "      1. let *condition 2* be true\n",
    "   1. etc.\n",
    "1. let *is valid* be *condition 1* and *condition 2* and ...\n",
    "\n",
    "Further variations are possible,\n",
    "like finding the last item that satisfies the conditions,\n",
    "finding the indices instead of the items, etc."
   ]
  },
  {
   "cell_type": "markdown",
   "id": "6",
   "metadata": {},
   "source": [
    "### 5.2.2 Complexity"
   ]
  },
  {
   "cell_type": "markdown",
   "id": "7",
   "metadata": {},
   "source": [
    "When analysing an algorithm:\n",
    "\n",
    "- Determine the complexity of each step.\n",
    "- Ignore constant-time steps, except stop and if-statements, because\n",
    "  they don't affect the algorithm's complexity.\n",
    "- If there's at least one if or stop statement, think of which inputs\n",
    "  lead to the least or the most work being done and ignore steps that\n",
    "  aren't executed for such inputs.\n",
    "- The complexity of a loop is the product of the number of iterations and\n",
    "  the complexity of its body.\n",
    "- Best- and worst-case scenarios are about the form of the inputs, e.g.\n",
    "  the sought item is at the start or the end of a sequence, not their sizes.\n",
    "  The smallest and largest inputs are, by themselves,\n",
    "  not a best- or worst-case scenario, but they can be part of it.\n",
    "- The complexity Θ(*e*) is stated with an integer expression *e*\n",
    "  over the input and input/output variables.\n",
    "- Remember that a linear search algorithm over sequence *s* often has\n",
    "  best-case complexity Θ(1) and worst-case complexity Θ(│*s*│)."
   ]
  },
  {
   "cell_type": "markdown",
   "id": "8",
   "metadata": {},
   "source": [
    "⟵ [Previous section](05_1_solving_problems.ipynb) | [Up](05-introduction.ipynb) | [Next section](05_3_coding_style.ipynb) ⟶"
   ]
  }
 ],
 "metadata": {
  "kernelspec": {
   "display_name": "Python 3",
   "language": "python",
   "name": "python3"
  },
  "language_info": {
   "codemirror_mode": {
    "name": "ipython",
    "version": 3
   },
   "file_extension": ".py",
   "mimetype": "text/x-python",
   "name": "python",
   "nbconvert_exporter": "python",
   "pygments_lexer": "ipython3",
   "version": "3.12.10"
  }
 },
 "nbformat": 4,
 "nbformat_minor": 5
}
