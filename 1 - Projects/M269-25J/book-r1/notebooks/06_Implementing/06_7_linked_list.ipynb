{
 "cells": [
  {
   "cell_type": "markdown",
   "id": "0",
   "metadata": {},
   "source": [
    "## 6.7 Linked lists"
   ]
  },
  {
   "cell_type": "markdown",
   "id": "1",
   "metadata": {},
   "source": [
    "Arrays keep all data (or pointers to data) in contiguous memory to support\n",
    "constant-time access. Another approach to implementing sequences scatters the\n",
    "data over memory. There's a reason and a method to this apparent madness.\n",
    "\n",
    "A **linked list** is a chain of **nodes**, each with an element of the sequence\n",
    "(or pointer to it) and a pointer to the next node.\n",
    "The first node is called the **head** of the linked list.\n",
    "The last node has a **null pointer**, as there's no next node.\n",
    "The next figure shows a linked list with integers 0, 1 and 2.\n",
    "The X represents the null pointer and marks the end of the linked list.\n",
    "\n",
    "<p id=\"fig-6.7.1\"></p>\n",
    "\n",
    "*[Figure 6.7.1](../33_Figures/Figures_06_7.ipynb#Figure-6.7.1)*\n",
    "\n",
    "![Image 06_7_linked_list.png](06_7_linked_list.png)\n",
    "\n",
    "The *head* variable refers to the first node.\n",
    "If *head* is the null pointer, then the list is empty."
   ]
  },
  {
   "cell_type": "markdown",
   "id": "2",
   "metadata": {},
   "source": [
    "### 6.7.1 Traversing a linked list"
   ]
  },
  {
   "cell_type": "markdown",
   "id": "3",
   "metadata": {},
   "source": [
    "Traversing a collection means to go through the collection's items, one by one.\n",
    "This is typically done with iteration: a for- or while-loop.\n",
    "(Chapter&nbsp;12 will show how to traverse collections without iteration.)\n",
    "\n",
    "Assuming each node is an object with two instance variables *item* and *next*,\n",
    "then an algorithm to traverse a linked list and process each item is:\n",
    "\n",
    "1. let *current* be *head*\n",
    "2. while *current* isn't the null pointer:\n",
    "   1. process _current.item_\n",
    "   2. let *current* be _current.next_\n",
    "\n",
    "Step&nbsp;2.1 does whatever is needed for the problem at hand and\n",
    "step&nbsp;2.2 updates the reference to now refer to the next node.\n",
    "If the linked list is empty, the step&nbsp;2 condition is false and\n",
    "the loop doesn't execute.\n",
    "\n",
    "This algorithm can be adapted to access the item at a given index of the\n",
    "sequence by replacing the while-loop with a for-loop.\n",
    "This means that accessing an item takes linear time with linked lists,\n",
    "more specifically Θ(*i*) to get the item at index *i*,\n",
    "whereas with arrays it takes constant time."
   ]
  },
  {
   "cell_type": "markdown",
   "id": "4",
   "metadata": {},
   "source": [
    "### 6.7.2 Inserting an item"
   ]
  },
  {
   "cell_type": "markdown",
   "id": "5",
   "metadata": {},
   "source": [
    "The algorithm to insert an item *value* at position *index* is more subtle.\n",
    "Here's an outline of it:\n",
    "\n",
    "> First iterate over the linked list to obtain references to\n",
    "> the nodes that will be before and after the new item.\n",
    "> The 'before' node is at position *index* − 1;\n",
    "> the 'after' node is at position *index*.\n",
    "> Create a new node with the item to be inserted. Make\n",
    "> the 'before' node point to the new node, and the new node point to the 'after' node.\n",
    "> In this way the new node is now at position *index* and the 'after' node\n",
    "> (and the rest of the list) has been 'pushed' one position up.\n",
    "\n",
    "To illustrate the algorithm, let's insert integer 3 in the sequence (0, 1, 2)\n",
    "at index&nbsp;2, i.e. the resulting sequence should be (0, 1, 3, 2).\n",
    "\n",
    "First we obtain references to the node at positions *index* − 1 and *index*:\n",
    "\n",
    "1. let *before* be *head*\n",
    "1. repeat *index* − 1 times:\n",
    "   1. let *before* be _before.next_\n",
    "1. let *after* be _before.next_\n",
    "\n",
    "Next we create a new node with the item to be inserted\n",
    "but without a next node:\n",
    "\n",
    "4. let *new* be a node with *item* = *value* and *next* = null pointer\n",
    "\n",
    "For our example the situation at this stage is:\n",
    "\n",
    "<p id=\"fig-6.7.2\"></p>\n",
    "\n",
    "*[Figure 6.7.2](../33_Figures/Figures_06_7.ipynb#Figure-6.7.2)*\n",
    "\n",
    "![Image 06_7_insert_1.png](06_7_insert_1.png)\n",
    "\n",
    "Finally we change the pointers to put the new node between *before* and *after*.\n",
    "\n",
    "5. let _before.next_ be *new*\n",
    "6. let _new.next_ be *after*\n",
    "\n",
    "<p id=\"fig-6.7.3\"></p>\n",
    "\n",
    "*[Figure 6.7.3](../33_Figures/Figures_06_7.ipynb#Figure-6.7.3)*\n",
    "\n",
    "![Image 06_7_insert_2.png](06_7_insert_2.png)\n",
    "\n",
    "Once the algorithm knows where to insert the new item, the insertion itself\n",
    "takes constant time: no copying of values takes place.\n",
    "\n",
    "Let's check the algorithm with our test table.\n",
    "\n",
    "Case | Pre-*values* | *index* | Post-*values*\n",
    "-|-|-|-\n",
    "length&nbsp;0  | ( ) | 0 | ('!')\n",
    "length&nbsp;1, before  | ( 0 )  | 0  | ('!', 0)\n",
    "length&nbsp;1, after  | ( 0 )  |  1 | (0, '!')\n",
    "length&nbsp;2, before  | (0, 1)  | 0  | ('!', 0, 1)\n",
    "length&nbsp;2, middle  | (0, 1)  | 1  | (0, '!', 1)\n",
    "length&nbsp;2, after  | (0, 1)  | 2  | (0, 1, '!')\n",
    "\n",
    "For the first test case (empty sequence),\n",
    "the *head* variable is the null pointer\n",
    "and so is *before* after step&nbsp;1. Variable *index* has value zero,\n",
    "so the loop is skipped, because it can't be executed minus one times.\n",
    "Step&nbsp;3 tries to access instance variable *next* but *before* is not pointing to a node. This kind of error is called **null pointer dereference**:\n",
    "we're trying to dereference (i.e. access the object pointed by) *before*,\n",
    "but *before* is not a valid pointer.\n",
    "\n",
    "A quick fix to the algorithm is to move step&nbsp;4 (the creation of the new node)\n",
    "to the beginning and then handle empty and non-empty sequences separately.\n",
    "\n",
    "1. let *new* be a node with *item* = *value* and *next* = null pointer\n",
    "1. if *head* is the null pointer:\n",
    "   1. let *head* be *new*\n",
    "1. otherwise:\n",
    "   1. let *before* be *head*\n",
    "   1. repeat *index* − 1 times:\n",
    "      1. let *before* be _before.next_\n",
    "   1. let *after* be _before.next_\n",
    "   1. let _before.next_ be *new*\n",
    "   1. let _new.next_ be *after*\n",
    "\n",
    "Let's move on to the second test:\n",
    "inserting the item at the start of a sequence of length one.\n",
    "Is the algorithm correct for this case?\n",
    "\n",
    "___\n",
    "\n",
    "Alas, it isn't. If an item is inserted at the start, we must update the *head*\n",
    "variable to refer to the new node, but the algorithm never does so.\n",
    "\n",
    "We can fix the algorithm by treating this edge case separately.\n",
    "The current head node becomes the node after the new node,\n",
    "which in turn becomes the head node.\n",
    "\n",
    "1. let *new* be a node with *item* = *value* and *next* = null pointer\n",
    "1. if *head* is the null pointer:\n",
    "   1. let *head* be *new*\n",
    "1. otherwise if *index* = 0:\n",
    "   1. let *after* be *head*\n",
    "   2. let *head* be *new*\n",
    "   3. let _new.next_ be *after*\n",
    "1. otherwise:\n",
    "   1. let *before* be *head*\n",
    "   1. repeat *index* − 1 times:\n",
    "      1. let *before* be _before.next_\n",
    "   1. let *after* be _before.next_\n",
    "   1. let _before.next_ be *new*\n",
    "   1. let _new.next_ be *after*\n",
    "\n",
    "\n",
    "Let's move on to the third test, which inserts the item at index one of\n",
    "a sequence of length one, i.e. it appends the item.\n",
    "Is the algorithm correct for this case?\n",
    "\n",
    "____\n",
    "\n",
    "The sequence not being empty and the index not being zero, the algorithm\n",
    "executes step&nbsp;1 and then step&nbsp;4.1, making *before* refer to the first and only node in the linked list. The loop is repeated zero times, because *index* = 1.\n",
    "Step&nbsp;4.3&nbsp;sets *after* to be the null pointer. The situation is:\n",
    "\n",
    "<p id=\"fig-6.7.4\"></p>\n",
    "\n",
    "*[Figure 6.7.4](../33_Figures/Figures_06_7.ipynb#Figure-6.7.4)*\n",
    "\n",
    "![Image 06_7_append_1.png](06_7_append_1.png)\n",
    "\n",
    "Step&nbsp;4.4 links the 'before' node to the new node. Step&nbsp;4.5&nbsp;has no practical\n",
    "effect, because the new node's *next* variable is already the null pointer.\n",
    "The final situation is as follows. The algorithm correctly appends items.\n",
    "\n",
    "<p id=\"fig-6.7.5\"></p>\n",
    "\n",
    "*[Figure 6.7.5](../33_Figures/Figures_06_7.ipynb#Figure-6.7.5)*\n",
    "\n",
    "![Image 06_7_append_2.png](06_7_append_2.png)\n",
    "\n",
    "The algorithm works when there's no node after the new node.\n",
    "This makes me realise\n",
    "that the part that handles insertions at the start (steps 3 to 3.3)\n",
    "also works for the empty list, when *head* and *after* are the null pointer.\n",
    "I can eliminate steps 2 and 2.1. I actually don't need variable *after* and\n",
    "can reduce steps 3.1 to 3.3 and 4.3 to 4.5 to just two steps each.\n",
    "Here's my final algorithm:\n",
    "\n",
    "1. let *new* be a node with *item* = *value* and *next* = null pointer\n",
    "1. if *index* = 0:\n",
    "   1. let _new.next_ be *head*\n",
    "   1. let *head* be *new*\n",
    "1. otherwise:\n",
    "   1. let *before* be *head*\n",
    "   1. repeat *index* − 1 times:\n",
    "      1. let *before* be _before.next_\n",
    "   1. let _new.next_ be _before.next_\n",
    "   1. let _before.next_ be *new*"
   ]
  },
  {
   "cell_type": "markdown",
   "id": "6",
   "metadata": {},
   "source": [
    "#### Exercise 6.7.1"
   ]
  },
  {
   "cell_type": "markdown",
   "id": "7",
   "metadata": {},
   "source": [
    "Outline an algorithm to remove the item at a given position *index*.\n",
    "\n",
    "[Hint](../31_Hints/Hints_06_7_01.ipynb)\n",
    "[Answer](../32_Answers/Answers_06_7_01.ipynb)"
   ]
  },
  {
   "cell_type": "markdown",
   "id": "8",
   "metadata": {},
   "source": [
    "### 6.7.3 The `LinkedSequence` class"
   ]
  },
  {
   "cell_type": "markdown",
   "id": "9",
   "metadata": {},
   "source": [
    "Python doesn't allow us to manipulate pointers (memory addresses)\n",
    "directly: we can only refer to objects via variables.\n",
    "The most natural choice is to represent a null pointer as\n",
    "a variable with value `None`, but any other object that hasn't got instance\n",
    "variables named 'next' and 'item' can be used: in this way\n",
    "a null pointer dereference becomes an attribute error in Python."
   ]
  },
  {
   "cell_type": "code",
   "execution_count": 1,
   "id": "10",
   "metadata": {},
   "outputs": [
    {
     "ename": "AttributeError",
     "evalue": "'NoneType' object has no attribute 'next'",
     "output_type": "error",
     "traceback": [
      "\u001b[0;31m---------------------------------------------------------------------------\u001b[0m",
      "\u001b[0;31mAttributeError\u001b[0m                            Traceback (most recent call last)",
      "Cell \u001b[0;32mIn[1], line 2\u001b[0m\n\u001b[1;32m      1\u001b[0m node \u001b[38;5;241m=\u001b[39m \u001b[38;5;28;01mNone\u001b[39;00m\n\u001b[0;32m----> 2\u001b[0m \u001b[43mnode\u001b[49m\u001b[38;5;241;43m.\u001b[39;49m\u001b[43mnext\u001b[49m\n",
      "\u001b[0;31mAttributeError\u001b[0m: 'NoneType' object has no attribute 'next'"
     ]
    }
   ],
   "source": [
    "node = None\n",
    "node.next"
   ]
  },
  {
   "cell_type": "markdown",
   "id": "11",
   "metadata": {},
   "source": [
    "The node objects are just data: they don't have operations.\n",
    "Writing a class with two instance variables and four methods to access\n",
    "and modify the variables is overkill.\n",
    "Since nodes are only meaningful in the context of linked lists, I define\n",
    "a `Node` class *within* the `LinkedSequence` class, and\n",
    "let the methods of the latter access the instance variables of nodes.\n",
    "This saves us from writing four trivial methods\n",
    "while keeping nodes hidden from users of sequences.\n",
    "Since `Node` is within `LinkedSequence`, the constructor must be called by\n",
    "its full name: `LinkedSequence.Node(item)`.\n",
    "\n",
    "Here's the class. Most methods of `Sequence` are implemented by\n",
    "traversing the linked list as explained above."
   ]
  },
  {
   "cell_type": "code",
   "execution_count": 2,
   "id": "12",
   "metadata": {},
   "outputs": [],
   "source": [
    "%run -i ../m269_sequence\n",
    "\n",
    "import math\n",
    "\n",
    "\n",
    "class LinkedSequence(Sequence):\n",
    "    \"\"\"A linked list implementation of the sequence ADT.\"\"\"\n",
    "\n",
    "    class Node:\n",
    "        \"\"\"A node in a linked list.\"\"\"\n",
    "\n",
    "        def __init__(self, item: object) -> None:\n",
    "            \"\"\"Initialise the node with the given item.\"\"\"\n",
    "            self.item = item\n",
    "            self.next = None\n",
    "\n",
    "    def __init__(self) -> None:\n",
    "        \"\"\"Initialise the sequence to be empty.\"\"\"\n",
    "        self.head = None\n",
    "\n",
    "    def capacity(self) -> float:\n",
    "        \"\"\"Return how many items the sequence can hold: infinite.\"\"\"\n",
    "        return math.inf  # infinite capacity\n",
    "\n",
    "    def length(self) -> int:\n",
    "        \"\"\"Return the number of items in the sequence.\n",
    "\n",
    "        Postconditions: 0 <= self.length() <= self.capacity()\n",
    "        \"\"\"\n",
    "        size = 0\n",
    "        current = self.head\n",
    "        while current != None:\n",
    "            size = size + 1\n",
    "            current = current.next\n",
    "        return size\n",
    "\n",
    "    def get_item(self, index: int) -> object:\n",
    "        \"\"\"Return the item at position index.\n",
    "\n",
    "        Preconditions: 0 <= index < self.length()\n",
    "        Postconditions: the output is the n-th item of self, with n = index + 1\n",
    "        \"\"\"\n",
    "        current = self.head\n",
    "        for times in range(index):  # noqa: B007\n",
    "            current = current.next\n",
    "        return current.item\n",
    "\n",
    "    def set_item(self, index: int, item: object) -> None:\n",
    "        \"\"\"Replace the item at position index with the given one.\n",
    "\n",
    "        Preconditions: 0 <= index < self.length()\n",
    "        Postconditions: post-self.get_item(index) == item\n",
    "        \"\"\"\n",
    "        current = self.head\n",
    "        for times in range(index):  # noqa: B007\n",
    "            current = current.next\n",
    "        current.item = item\n",
    "\n",
    "    def insert(self, index: int, item: object) -> None:\n",
    "        \"\"\"Insert item at position index.\n",
    "\n",
    "        Preconditions: 0 <= index <= self.length() < self.capacity()\n",
    "        Postconditions: post-self is the sequence\n",
    "        pre-self.get_item(0), ..., pre-self.get_item(index - 1),\n",
    "        item, pre-self.get_item(index), ...,\n",
    "        pre-self.get_item(pre-self.length() - 1)\n",
    "        \"\"\"\n",
    "        new = LinkedSequence.Node(item)\n",
    "        if index == 0:\n",
    "            new.next = self.head\n",
    "            self.head = new\n",
    "        else:\n",
    "            before = self.head\n",
    "            for times in range(index - 1):  # noqa: B007\n",
    "                before = before.next\n",
    "            new.next = before.next\n",
    "            before.next = new"
   ]
  },
  {
   "cell_type": "markdown",
   "id": "13",
   "metadata": {},
   "source": [
    "And again, let's test the operations."
   ]
  },
  {
   "cell_type": "code",
   "execution_count": 3,
   "id": "14",
   "metadata": {},
   "outputs": [
    {
     "name": "stdout",
     "output_type": "stream",
     "text": [
      "Testing length 0\n",
      "Testing length 1\n",
      "Testing length 2\n",
      "Testing length 3\n",
      "Testing length 4\n",
      "Testing length 5\n",
      "Testing length 6\n",
      "Testing length 7\n",
      "Testing length 8\n",
      "Testing length 9\n"
     ]
    }
   ],
   "source": [
    "%run -i ../m269_test\n",
    "\n",
    "test_init(LinkedSequence())\n",
    "for length in range(10):\n",
    "    print(\"Testing length\", length)\n",
    "    test_append(LinkedSequence(), length)\n",
    "    test_insert_start(LinkedSequence(), length)\n",
    "    test_set_item(LinkedSequence(), length)"
   ]
  },
  {
   "cell_type": "markdown",
   "id": "15",
   "metadata": {},
   "source": [
    "#### Exercise 6.7.2 (optional)"
   ]
  },
  {
   "cell_type": "markdown",
   "id": "16",
   "metadata": {},
   "source": [
    "Add a `remove` method to the `LinkedSequence` class and test it with this code:"
   ]
  },
  {
   "cell_type": "code",
   "execution_count": 4,
   "id": "17",
   "metadata": {},
   "outputs": [],
   "source": [
    "for length in range(5):\n",
    "    print(\"Testing length\", length)\n",
    "    test_remove(LinkedSequence(), length)"
   ]
  },
  {
   "cell_type": "markdown",
   "id": "18",
   "metadata": {},
   "source": [
    "### 6.7.4 Linked list v. array"
   ]
  },
  {
   "cell_type": "markdown",
   "id": "19",
   "metadata": {},
   "source": [
    "The sequence ADT can be implemented with dynamic arrays and with linked lists.\n",
    "The choice depends on which operations we require to be most efficient.\n",
    "Here's a table of the complexities for some operations on sequence *s*\n",
    "and index *i*.\n",
    "\n",
    "Sequence operation | Dynamic array | Linked list\n",
    ":-|:-|:-\n",
    "get item at *i*  | Θ(1)  | Θ(*i*)\n",
    "replace item at *i* | Θ(1)  | Θ(*i*)\n",
    "insert at *i* = 0  | Θ(│*s*│)  | Θ(1)\n",
    "insert at *i* = │*s*│ (append) | Θ(1) | Θ(│*s*│)\n",
    "insert elsewhere  | Θ(│*s*│ − *i*) | Θ(*i*)\n",
    "\n",
    "The main advantage of arrays over linked lists is the constant-time access\n",
    "to items, whereas linked lists have to be traversed.\n",
    "Doing operations at the start of a list can be efficient,\n",
    "and we'll take advantage of that in the next chapter, because\n",
    "linked lists don't require copying items when inserting or removing one.\n",
    "Linked lists are never resized.\n",
    "They require more memory than arrays (one pointer per item),\n",
    "but dynamic arrays also waste memory when the size is lower than the capacity.\n",
    "\n",
    "Some operations on linked lists can become more efficient with extra data.\n",
    "The implementation above computes the length in linear time,\n",
    "by counting items while iterating over the linked list.\n",
    "It's also possible to obtain the length in constant time,\n",
    "by adding an instance variable that is initially zero and\n",
    "is incremented (or decremented) when an item is inserted (or removed),\n",
    "as done with dynamic arrays.\n",
    "This is an example of a **space–time tradeoff**:\n",
    "we are willing to increase the memory usage of a linked list object\n",
    "to reduce the run-time of an operation."
   ]
  },
  {
   "cell_type": "markdown",
   "id": "20",
   "metadata": {},
   "source": [
    "<div class=\"alert alert-warning\">\n",
    "<strong>Note:</strong> Each data structure makes some operations more efficient than others. The best\n",
    "data structure for the problem at hand is the one that favours the operations we\n",
    "need more frequently.\n",
    "</div>"
   ]
  },
  {
   "cell_type": "markdown",
   "id": "21",
   "metadata": {},
   "source": [
    "#### Exercise 6.7.3"
   ]
  },
  {
   "cell_type": "markdown",
   "id": "22",
   "metadata": {},
   "source": [
    "How could you make the append operation take constant time on linked lists?"
   ]
  },
  {
   "cell_type": "markdown",
   "id": "23",
   "metadata": {},
   "source": [
    "_Write your answer here._"
   ]
  },
  {
   "cell_type": "markdown",
   "id": "24",
   "metadata": {},
   "source": [
    "[Hint](../31_Hints/Hints_06_7_03.ipynb)\n",
    "[Answer](../32_Answers/Answers_06_7_03.ipynb)"
   ]
  },
  {
   "cell_type": "markdown",
   "id": "25",
   "metadata": {},
   "source": [
    "⟵ [Previous section](06_6_use_dyn_array.ipynb) | [Up](06-introduction.ipynb) | [Next section](06_8_summary.ipynb) ⟶"
   ]
  }
 ],
 "metadata": {
  "kernelspec": {
   "display_name": "Python 3",
   "language": "python",
   "name": "python3"
  },
  "language_info": {
   "codemirror_mode": {
    "name": "ipython",
    "version": 3
   },
   "file_extension": ".py",
   "mimetype": "text/x-python",
   "name": "python",
   "nbconvert_exporter": "python",
   "pygments_lexer": "ipython3",
   "version": "3.12.10"
  }
 },
 "nbformat": 4,
 "nbformat_minor": 5
}
