{
 "cells": [
  {
   "cell_type": "markdown",
   "id": "0",
   "metadata": {},
   "source": [
    "## 6.5 Dynamic arrays"
   ]
  },
  {
   "cell_type": "markdown",
   "id": "1",
   "metadata": {},
   "source": [
    "A **dynamic array** is a data type that adds a resize operation\n",
    "to a static array data structure.\n",
    "The operation creates a new static array of the length asked for,\n",
    "copies the items from the current to the new static array,\n",
    "which then becomes the current one. The old static array is garbage collected.\n",
    "\n",
    "If the length is increased, the extra positions are filled with the default\n",
    "value for the type of items in the static array.\n",
    "If the length is decreased, the excess items are lost.\n",
    "For example, if a dynamic array with integers 3, 5, 7, 9, 11 is resized to\n",
    "a length of three, the new static array has values 3, 5, 7.\n",
    "It's up to dynamic array users to resize them when appropriate\n",
    "for the problem at hand.\n",
    "\n",
    "A dynamic array has the main advantage of static arrays,\n",
    "i.e. constant-time access and replacement of items,\n",
    "with the flexibility of growing and shrinking as necessary.\n",
    "This is achieved through a succession of static arrays of different lengths."
   ]
  },
  {
   "cell_type": "markdown",
   "id": "2",
   "metadata": {},
   "source": [
    "<div class=\"alert alert-info\">\n",
    "<strong>Info:</strong> In some programming languages, a dynamic array is known as a vector.\n",
    "</div>"
   ]
  },
  {
   "cell_type": "markdown",
   "id": "3",
   "metadata": {},
   "source": [
    "Shrinking an array can be done in constant time,\n",
    "by simply setting the length to a smaller value to truncate the array,\n",
    "without any copying. This requires memory management support in order to\n",
    "garbage collect part of an existing array,\n",
    "which may not be available on all platforms.\n",
    "\n",
    "It's thus best to assume the complexity of the resize operation is always\n",
    "linear in the new length, because the operation has to create and initialise\n",
    "a new array of that length and then copy at most that many items to it."
   ]
  },
  {
   "cell_type": "markdown",
   "id": "4",
   "metadata": {},
   "source": [
    "### 6.5.1 The `DynamicArray` class"
   ]
  },
  {
   "cell_type": "markdown",
   "id": "5",
   "metadata": {},
   "source": [
    "Since a dynamic array can be seen as a kind of static array,\n",
    "I can implement dynamic arrays as a subclass of `StaticArray`,\n",
    "which is defined in `m269_array.py`."
   ]
  },
  {
   "cell_type": "code",
   "execution_count": 1,
   "id": "6",
   "metadata": {},
   "outputs": [],
   "source": [
    "%run -i ../m269_array"
   ]
  },
  {
   "cell_type": "markdown",
   "id": "7",
   "metadata": {},
   "source": [
    "Subclasses inherit all the operations of their parent class,\n",
    "so I only have to add the resize operation.\n",
    "Methods of subclasses can (and usually have to) access instance variables\n",
    "of their superclass.\n",
    "\n",
    "The postconditions for the resize operation must state that\n",
    "the new array keeps the same items up to the shorter of the two arrays and\n",
    "the rest, if any, are `None`.\n",
    "I use again the 'pre-*x*' and 'post-*x*' notation to refer to the\n",
    "value of variable *x* before and after the operation."
   ]
  },
  {
   "cell_type": "code",
   "execution_count": 2,
   "id": "8",
   "metadata": {},
   "outputs": [],
   "source": [
    "# this code is also in m269_array.py\n",
    "\n",
    "\n",
    "class DynamicArray(StaticArray):\n",
    "    \"\"\"An array that can grow and shrink.\"\"\"\n",
    "\n",
    "    def resize(self, length: int) -> None:\n",
    "        \"\"\"Shorten or extend the array to the new length.\n",
    "\n",
    "        Preconditions: 0 <= length; length != self.length()\n",
    "        Postconditions: if pre-self is a_0, a_1, ..., a_n then\n",
    "        post-self is b_0, b_1, ..., b_m with\n",
    "        - n == pre-self.length() - 1\n",
    "        - m == length - 1\n",
    "        - b_i == a_i for every i from 0 to min(n, m)\n",
    "        - b_i == None for every i from min(m, n) + 1 to m\n",
    "        \"\"\"\n",
    "        new_array = [None] * length\n",
    "        for index in range(0, min(length, self.length())):\n",
    "            new_array[index] = self.items[index]\n",
    "        self.items = new_array"
   ]
  },
  {
   "cell_type": "markdown",
   "id": "9",
   "metadata": {},
   "source": [
    "Note that I can call the `length` method on the dynamic array `self`\n",
    "even though the method isn't defined in this class.\n",
    "Every instance of `DynamicArray` is an instance of `StaticArray`,\n",
    "so all methods of the latter also apply to the former."
   ]
  },
  {
   "cell_type": "markdown",
   "id": "10",
   "metadata": {},
   "source": [
    "### 6.5.2 Tests"
   ]
  },
  {
   "cell_type": "markdown",
   "id": "11",
   "metadata": {},
   "source": [
    "The black-box testing of the new method is done as usual:\n",
    "create an array with 0, 1, 2, ..., resize it and check the result with the\n",
    "`length`  and `get_item` methods.\n",
    "After resizing, each value is either the same or `None`,\n",
    "as indicated in the postconditions above."
   ]
  },
  {
   "cell_type": "code",
   "execution_count": 3,
   "id": "12",
   "metadata": {},
   "outputs": [],
   "source": [
    "%run -i ../m269_test\n",
    "\n",
    "\n",
    "def test_resize(old_length: int, new_length: int) -> None:\n",
    "    \"\"\"Test resizing a dynamic array from old_length to new_length.\n",
    "\n",
    "    Preconditions:\n",
    "    - 0 <= old_length; 0 <= new_length\n",
    "    - old_length != new_length\n",
    "    \"\"\"\n",
    "    array = DynamicArray(old_length)\n",
    "    for index in range(old_length):\n",
    "        array.set_item(index, index)\n",
    "    array.resize(new_length)\n",
    "    check(\"new length\", array.length(), new_length, array)\n",
    "    for index in range(new_length):\n",
    "        if index < min(old_length, new_length):\n",
    "            value = index  # old item\n",
    "        else:\n",
    "            value = None  # new item\n",
    "        check(\"get item\", array.get_item(index), value, array)"
   ]
  },
  {
   "cell_type": "markdown",
   "id": "13",
   "metadata": {},
   "source": [
    "I must test both growing and shrinking.\n",
    "The edge cases are resizing from and to an array of length zero or one,\n",
    "the smallest non-empty array."
   ]
  },
  {
   "cell_type": "code",
   "execution_count": 4,
   "id": "14",
   "metadata": {},
   "outputs": [
    {
     "name": "stdout",
     "output_type": "stream",
     "text": [
      "Resize from 0 to 1\n",
      "Resize from 0 to 3\n",
      "Resize from 0 to 6\n",
      "Resize from 1 to 0\n",
      "Resize from 1 to 3\n",
      "Resize from 1 to 6\n",
      "Resize from 3 to 0\n",
      "Resize from 3 to 1\n",
      "Resize from 3 to 6\n",
      "Resize from 6 to 0\n",
      "Resize from 6 to 1\n",
      "Resize from 6 to 3\n"
     ]
    }
   ],
   "source": [
    "for old in (0, 1, 3, 6):\n",
    "    for new in (0, 1, 3, 6):\n",
    "        if old != new:\n",
    "            print(\"Resize from\", old, \"to\", new)\n",
    "            test_resize(old, new)"
   ]
  },
  {
   "cell_type": "markdown",
   "id": "15",
   "metadata": {},
   "source": [
    "⟵ [Previous section](06_4_bounded.ipynb) | [Up](06-introduction.ipynb) | [Next section](06_6_use_dyn_array.ipynb) ⟶"
   ]
  }
 ],
 "metadata": {
  "kernelspec": {
   "display_name": "Python 3",
   "language": "python",
   "name": "python3"
  },
  "language_info": {
   "codemirror_mode": {
    "name": "ipython",
    "version": 3
   },
   "file_extension": ".py",
   "mimetype": "text/x-python",
   "name": "python",
   "nbconvert_exporter": "python",
   "pygments_lexer": "ipython3",
   "version": "3.12.10"
  }
 },
 "nbformat": 4,
 "nbformat_minor": 5
}
