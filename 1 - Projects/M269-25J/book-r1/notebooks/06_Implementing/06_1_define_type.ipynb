{
 "cells": [
  {
   "cell_type": "markdown",
   "id": "0",
   "metadata": {},
   "source": [
    "## 6.1 Defining data types"
   ]
  },
  {
   "cell_type": "markdown",
   "id": "1",
   "metadata": {},
   "source": [
    "Before looking at how to implement the sequence ADT,\n",
    "let's start with a simpler example that illustrates the difference between\n",
    "a data structure and a data type, and how to define a data type in Python.\n",
    "\n",
    "Let's suppose we want to define and implement an ADT for fractions $\\frac{x}{y}$,\n",
    "where $x$ and $y$ are integers, with $x$ being the numerator and\n",
    "$y ≠ 0$ being the denominator."
   ]
  },
  {
   "cell_type": "markdown",
   "id": "2",
   "metadata": {},
   "source": [
    "<div class=\"alert alert-info\">\n",
    "<strong>Info:</strong> MU123 Unit&nbsp;3 Section&nbsp;2 introduces fractions and their operations.\n",
    "</div>"
   ]
  },
  {
   "cell_type": "markdown",
   "id": "3",
   "metadata": {},
   "source": [
    "Programming languages have special syntax for literals of built-in\n",
    "data types, like integers and strings and other sequence types.\n",
    "However, for our own types we need to define constructor operations\n",
    "that create values of the new type from values of other types, e.g.\n",
    "like Python's constructor to create strings from integers.\n",
    "To highlight such operations,\n",
    "we shall use 'Constructor' instead of 'Function' in the template.\n",
    "Here's how two of the fraction ADT's operations could be defined.\n",
    "\n",
    "**ADT**: fraction\n",
    "\n",
    "**Constructor**: new fraction\\\n",
    "**Inputs**: *numerator*, an integer; *denominator*, an integer\\\n",
    "**Preconditions**: *denominator* ≠ 0\\\n",
    "**Output**: *ratio*, a fraction\\\n",
    "**Postconditions**: *ratio* = $\\frac{numerator}{denominator}$\n",
    "\n",
    "**Function**: multiplication\\\n",
    "**Inputs**: *left*, a fraction; *right*, a fraction\\\n",
    "**Preconditions**: true\\\n",
    "**Output**: *product*, a fraction\\\n",
    "**Postconditions**: if *left* = $\\frac{ln}{ld}$ and *right* = $\\frac{rn}{rd}$,\n",
    "then *product* = $\\frac{ln \\times rn}{ld \\times rd}$\n",
    "\n",
    "Let's see how to implement the fraction ADT in Python."
   ]
  },
  {
   "cell_type": "markdown",
   "id": "4",
   "metadata": {},
   "source": [
    "### 6.1.1 Data structure"
   ]
  },
  {
   "cell_type": "markdown",
   "id": "5",
   "metadata": {},
   "source": [
    "The first step in implementing an ADT is to choose how to\n",
    "structure the data. A fraction is represented by two integers,\n",
    "so the obvious choice is to use a tuple or list with a pair of integers.\n",
    "A tuple is a better choice, to prevent changes to the numerator or denominator.\n",
    "Furthermore, we must state what each integer represents. It's probably\n",
    "more intuitive for the first integer of the tuple to be the numerator and\n",
    "the second to be the denominator.\n",
    "\n",
    "Data structures vary widely and we can't fit their description into a template,\n",
    "like we do for operations.\n",
    "During your professional life you may need to explain what data structures you\n",
    "use, verbally to a colleague, or in writing documentation, and so it's\n",
    "important you communicate the structure of data in plain but clear English,\n",
    "or whatever language you may use at work.\n",
    "For this example, a good description would be:\n",
    "\n",
    "> The data structure to represent a fraction is a tuple of two integers,\n",
    "> the first being the numerator and the second the non-zero denominator."
   ]
  },
  {
   "cell_type": "markdown",
   "id": "6",
   "metadata": {},
   "source": [
    "### 6.1.2 Functions"
   ]
  },
  {
   "cell_type": "markdown",
   "id": "7",
   "metadata": {},
   "source": [
    "Having decided the data structure, we can implement the operations.\n",
    "Until now we implemented each operation with a Python function,\n",
    "like the following. (I omit docstrings to keep this temporary solution short.)"
   ]
  },
  {
   "cell_type": "code",
   "execution_count": 1,
   "id": "8",
   "metadata": {},
   "outputs": [],
   "source": [
    "def fraction(numerator: int, denominator: int) -> tuple:  # noqa: D103\n",
    "    return (numerator, denominator)\n",
    "\n",
    "\n",
    "def multiplication(left: tuple, right: tuple) -> tuple:  # noqa: D103\n",
    "    return (left[0] * right[0], left[1] * right[1])"
   ]
  },
  {
   "cell_type": "markdown",
   "id": "9",
   "metadata": {},
   "source": [
    "We use the constructor operation to create new values,\n",
    "which are used by the other operations."
   ]
  },
  {
   "cell_type": "code",
   "execution_count": 2,
   "id": "10",
   "metadata": {},
   "outputs": [
    {
     "data": {
      "text/plain": [
       "(1, 4)"
      ]
     },
     "execution_count": 2,
     "metadata": {},
     "output_type": "execute_result"
    }
   ],
   "source": [
    "half = fraction(1, 2)\n",
    "multiplication(half, half)  # one half times one half is a quarter"
   ]
  },
  {
   "cell_type": "markdown",
   "id": "11",
   "metadata": {},
   "source": [
    "This way of implementing ADTs is unsatisfactory because\n",
    "it exposes the data structure to the user.\n",
    "This allows the user to bypass the constructor and make (by mistake) calls like"
   ]
  },
  {
   "cell_type": "code",
   "execution_count": 3,
   "id": "12",
   "metadata": {},
   "outputs": [
    {
     "data": {
      "text/plain": [
       "(1, 6)"
      ]
     },
     "execution_count": 3,
     "metadata": {},
     "output_type": "execute_result"
    }
   ],
   "source": [
    "multiplication((1, 2), (1, 3, 5))"
   ]
  },
  {
   "cell_type": "markdown",
   "id": "13",
   "metadata": {},
   "source": [
    "where the second argument doesn't represent a fraction.\n",
    "Moreover, if we change the data structure then\n",
    "the user will likely have to change their code. We need a better approach."
   ]
  },
  {
   "cell_type": "markdown",
   "id": "14",
   "metadata": {},
   "source": [
    "### 6.1.3 Classes"
   ]
  },
  {
   "cell_type": "markdown",
   "id": "15",
   "metadata": {},
   "source": [
    "A data type is a collection of values and operations on those values.\n",
    "Python and other languages have a construct to bundle together\n",
    "data and functionality: **classes**. Each class implements a data type:\n",
    "the values are the **instances** of the class and\n",
    "the operations are the class's **methods**.\n",
    "An **object** is an instance of some class, and that's why I used\n",
    "the word 'object' in templates to denote any value.\n",
    "For example, `5` and `[]` are objects: `5` is an instance of class `int` and\n",
    "`[]` is an instance of class `list`, which has methods like `pop` and `append`.\n",
    "Methods are usually directly called using the dot notation, but some are\n",
    "indirectly called via operators, like `+` for addition or concatenation."
   ]
  },
  {
   "cell_type": "markdown",
   "id": "16",
   "metadata": {},
   "source": [
    "<div class=\"alert alert-info\">\n",
    "<strong>Info:</strong> Object-oriented programming is an approach that models a software system as a\n",
    "collection of objects calling each other's methods.\n",
    "M250 explains this approach at length.\n",
    "</div>"
   ]
  },
  {
   "cell_type": "markdown",
   "id": "17",
   "metadata": {},
   "source": [
    "Every instance has some variables, called **instance variables**,\n",
    "to hold the data for that instance.\n",
    "When defining a class we define the variables for all instances of that class.\n",
    "Different instances typically have different values for their variables.\n",
    "Let me show you how to define a class in Python. I explain the code afterwards."
   ]
  },
  {
   "cell_type": "code",
   "execution_count": 4,
   "id": "18",
   "metadata": {},
   "outputs": [],
   "source": [
    "class Fraction:\n",
    "    \"\"\"A ratio represented as a pair of integers: numerator and non-zero denominator.\"\"\"\n",
    "\n",
    "    def __init__(self, numerator: int, denominator: int) -> None:\n",
    "        \"\"\"Initialise the fraction.\n",
    "\n",
    "        Preconditions: denominator != 0\n",
    "        \"\"\"\n",
    "        self.value = (numerator, denominator)\n",
    "\n",
    "    def multiplication(self, right: \"Fraction\") -> \"Fraction\":\n",
    "        \"\"\"Return the product of self and right.\n",
    "\n",
    "        Postconditions: if self is the fraction sn/sd and\n",
    "        right is the fraction rn/rd, then the output is fraction\n",
    "        (sn*rn) / (sd*rd)\n",
    "        \"\"\"\n",
    "        numerator = self.value[0] * right.value[0]\n",
    "        denominator = self.value[1] * right.value[1]\n",
    "        return Fraction(numerator, denominator)"
   ]
  },
  {
   "cell_type": "markdown",
   "id": "19",
   "metadata": {},
   "source": [
    "The definition of a class `C` starts with `class C:` and\n",
    "a docstring describing the data type being defined, followed by the methods,\n",
    "which are defined like any Python function.\n",
    "All methods are indented: they are 'within' the class.\n",
    "The name of a class reflects what each instance represents, so\n",
    "it's usually in the singular.\n",
    "The names of built-in classes are usually in lowercase,\n",
    "but the names of classes we define should use capitalised words\n",
    "without underscores to separate them, e.g. `FractionalNumber`.\n",
    "\n",
    "In M269, each class must have a method named `__init__`,\n",
    "with two underscores at the start and at the end.\n",
    "This method takes as first argument an instance of the class,\n",
    "conventionally called `self`, and possibly additional arguments with data to\n",
    "initialise that instance: here, the numerator and denominator of the fraction.\n",
    "The body of the method creates the instance variables,\n",
    "using dot notation to indicate that these variables 'belong' to the instance.\n",
    "For every instance variable `x` there's an assignment to `self.x`.\n",
    "In this example, I create an instance variable `value` that holds the\n",
    "tuple with the two integers passed to the method.\n",
    "\n",
    "Each built-in class, like `range` and `list`, has a constructor: a function\n",
    "with the same name as the class to create instances of that class.\n",
    "The Python interpreter automatically defines a constructor for every class\n",
    "we define, with the same arguments as method `__init__`, except for `self`.\n",
    "For this example, the interpreter creates a constructor `Fraction`\n",
    "with two arguments, which we use to create new fractions."
   ]
  },
  {
   "cell_type": "code",
   "execution_count": 5,
   "id": "20",
   "metadata": {},
   "outputs": [],
   "source": [
    "one_half = Fraction(1, 2)"
   ]
  },
  {
   "cell_type": "markdown",
   "id": "21",
   "metadata": {},
   "source": [
    "When we call the constructor, the interpreter creates an 'empty' instance,\n",
    "without any data, and passes it as the first argument to `__init__`,\n",
    "which creates the instance variables and assigns values to them.\n",
    "The constructor (not the `__init__` method!) then returns the instance:\n",
    "that's why there are no return statements in the `__init__` method.\n",
    "\n",
    "We can use the `help` function to obtain information about any class.\n",
    "Some of the information is of no relevance to M269."
   ]
  },
  {
   "cell_type": "code",
   "execution_count": 6,
   "id": "22",
   "metadata": {},
   "outputs": [
    {
     "name": "stdout",
     "output_type": "stream",
     "text": [
      "Help on class Fraction in module __main__:\n",
      "\n",
      "class Fraction(builtins.object)\n",
      " |  Fraction(numerator: int, denominator: int) -> None\n",
      " |\n",
      " |  A ratio represented as a pair of integers: numerator and non-zero denominator.\n",
      " |\n",
      " |  Methods defined here:\n",
      " |\n",
      " |  __init__(self, numerator: int, denominator: int) -> None\n",
      " |      Initialise the fraction.\n",
      " |\n",
      " |      Preconditions: denominator != 0\n",
      " |\n",
      " |  multiplication(self, right: 'Fraction') -> 'Fraction'\n",
      " |      Return the product of self and right.\n",
      " |\n",
      " |      Postconditions: if self is the fraction sn/sd and\n",
      " |      right is the fraction rn/rd, then the output is fraction\n",
      " |      (sn*rn) / (sd*rd)\n",
      " |\n",
      " |  ----------------------------------------------------------------------\n",
      " |  Data descriptors defined here:\n",
      " |\n",
      " |  __dict__\n",
      " |      dictionary for instance variables\n",
      " |\n",
      " |  __weakref__\n",
      " |      list of weak references to the object\n",
      "\n"
     ]
    }
   ],
   "source": [
    "help(Fraction)"
   ]
  },
  {
   "cell_type": "markdown",
   "id": "23",
   "metadata": {},
   "source": [
    "Note that the `help` function copies the header of the `__init__` method\n",
    "for the constructor. This gives the erroneous impression that\n",
    "the constructor doesn't return anything.\n",
    "\n",
    "Methods are called with dot notation.\n",
    "The interpreter looks up the class of the object to the\n",
    "left of the dot and calls the method defined in that class.\n",
    "The first argument of every method is therefore\n",
    "an instance of the class being defined.\n",
    "We conventionally call it `self` and don't indicate explicitly its type,\n",
    "which is `Fraction` in this example.\n",
    "Here's an example of calling a method."
   ]
  },
  {
   "cell_type": "code",
   "execution_count": 7,
   "id": "24",
   "metadata": {},
   "outputs": [
    {
     "data": {
      "text/plain": [
       "<__main__.Fraction at 0x1085480b0>"
      ]
     },
     "execution_count": 7,
     "metadata": {},
     "output_type": "execute_result"
    }
   ],
   "source": [
    "one_half.multiplication(one_half)"
   ]
  },
  {
   "cell_type": "markdown",
   "id": "25",
   "metadata": {},
   "source": [
    "Unfortunately, the output message is not very useful.\n",
    "The interpreter shows the class and unique id of the resulting object.\n",
    "The id is an integer, shown here in hexadecimal notation.\n",
    "Printing the fraction doesn't help either."
   ]
  },
  {
   "cell_type": "code",
   "execution_count": 8,
   "id": "26",
   "metadata": {},
   "outputs": [
    {
     "name": "stdout",
     "output_type": "stream",
     "text": [
      "<__main__.Fraction object at 0x108548470>\n"
     ]
    }
   ],
   "source": [
    "print(one_half.multiplication(one_half))"
   ]
  },
  {
   "cell_type": "markdown",
   "id": "27",
   "metadata": {},
   "source": [
    "If we want to see the value of an instance in a meaningful way,\n",
    "we have to implement a method `__str__`\n",
    "(again, two underscores before and after) that returns a string.\n",
    "The `print` function calls the `str` constructor on each object it prints,\n",
    "which in turn calls the `__str__` method on that object.\n",
    "\n",
    "Here's the class again, with the additional method."
   ]
  },
  {
   "cell_type": "code",
   "execution_count": 9,
   "id": "28",
   "metadata": {},
   "outputs": [],
   "source": [
    "class Fraction:\n",
    "    \"\"\"A ratio represented as a pair of integers: numerator and non-zero denominator.\"\"\"\n",
    "\n",
    "    def __init__(self, numerator: int, denominator: int) -> None:\n",
    "        \"\"\"Initialise the fraction.\n",
    "\n",
    "        Preconditions: denominator != 0\n",
    "        \"\"\"\n",
    "        self.value = (numerator, denominator)\n",
    "\n",
    "    def multiplication(self, right: \"Fraction\") -> \"Fraction\":\n",
    "        \"\"\"Return the product of self and right.\n",
    "\n",
    "        Postconditions: if self is the fraction sn/sd and\n",
    "        right is the fraction rn/rd, then the output is fraction\n",
    "        (sn*rn) / (sd * rd)\n",
    "        \"\"\"\n",
    "        numerator = self.value[0] * right.value[0]\n",
    "        denominator = self.value[1] * right.value[1]\n",
    "        return Fraction(numerator, denominator)\n",
    "\n",
    "    def __str__(self) -> str:\n",
    "        \"\"\"Return a string representation of the fraction.\"\"\"\n",
    "        return str(self.value[0]) + \" / \" + str(self.value[1])"
   ]
  },
  {
   "cell_type": "markdown",
   "id": "29",
   "metadata": {},
   "source": [
    "Now we can see the value of a fraction:"
   ]
  },
  {
   "cell_type": "code",
   "execution_count": 10,
   "id": "30",
   "metadata": {},
   "outputs": [
    {
     "data": {
      "text/plain": [
       "<__main__.Fraction at 0x10850d4c0>"
      ]
     },
     "execution_count": 10,
     "metadata": {},
     "output_type": "execute_result"
    }
   ],
   "source": [
    "ONE_HALF = Fraction(1, 2)\n",
    "ONE_QUARTER = ONE_HALF.multiplication(ONE_HALF)\n",
    "ONE_QUARTER  # display class and unique id"
   ]
  },
  {
   "cell_type": "code",
   "execution_count": 11,
   "id": "31",
   "metadata": {},
   "outputs": [
    {
     "name": "stdout",
     "output_type": "stream",
     "text": [
      "1 / 4\n"
     ]
    },
    {
     "data": {
      "text/plain": [
       "'1 / 4'"
      ]
     },
     "execution_count": 11,
     "metadata": {},
     "output_type": "execute_result"
    }
   ],
   "source": [
    "print(ONE_QUARTER)\n",
    "str(ONE_QUARTER)"
   ]
  },
  {
   "cell_type": "markdown",
   "id": "32",
   "metadata": {},
   "source": [
    "### 6.1.4 Mistakes"
   ]
  },
  {
   "cell_type": "markdown",
   "id": "33",
   "metadata": {},
   "source": [
    "Whenever you change a class you must rerun code cells that create instances:\n",
    "otherwise they remain instances of the old version of the class. Consider this:"
   ]
  },
  {
   "cell_type": "code",
   "execution_count": 12,
   "id": "34",
   "metadata": {},
   "outputs": [
    {
     "name": "stdout",
     "output_type": "stream",
     "text": [
      "(1, 2)\n",
      "<__main__.Fraction object at 0x10850ffb0>\n",
      "1 / 2\n"
     ]
    }
   ],
   "source": [
    "print(half)  # created with fraction(1, 2); instance of tuple\n",
    "print(one_half)  # created with first version of Fraction class\n",
    "print(ONE_HALF)  # created with second version of Fraction class"
   ]
  },
  {
   "cell_type": "markdown",
   "id": "35",
   "metadata": {},
   "source": [
    "Unless you have rerun cells in a different order,\n",
    "the middle output of the cell above isn't '1 / 2', because `one_half`\n",
    "was created with the constructor for the class without the `__str__` method.\n",
    "\n",
    "The name of a class becomes known only *after* processing the class definition.\n",
    "If we need to use the class name in the header of a method, then we must write it\n",
    "as a string, as I've done for the `multiplication` method.\n",
    "If you forget the string quotes you get a name error."
   ]
  },
  {
   "cell_type": "code",
   "execution_count": 13,
   "id": "36",
   "metadata": {},
   "outputs": [
    {
     "ename": "NameError",
     "evalue": "name 'Date' is not defined",
     "output_type": "error",
     "traceback": [
      "\u001b[0;31m---------------------------------------------------------------------------\u001b[0m",
      "\u001b[0;31mNameError\u001b[0m                                 Traceback (most recent call last)",
      "Cell \u001b[0;32mIn[13], line 1\u001b[0m\n\u001b[0;32m----> 1\u001b[0m \u001b[38;5;28;43;01mclass\u001b[39;49;00m\u001b[38;5;250;43m \u001b[39;49m\u001b[38;5;21;43;01mDate\u001b[39;49;00m\u001b[43m:\u001b[49m\u001b[43m  \u001b[49m\u001b[38;5;66;43;03m# noqa: D101\u001b[39;49;00m\n\u001b[1;32m      2\u001b[0m \u001b[43m    \u001b[49m\u001b[38;5;66;43;03m# docstrings and __init__ omitted to focus on the issue at hand\u001b[39;49;00m\n\u001b[1;32m      4\u001b[0m \u001b[43m    \u001b[49m\u001b[38;5;28;43;01mdef\u001b[39;49;00m\u001b[38;5;250;43m \u001b[39;49m\u001b[38;5;21;43mdifference\u001b[39;49m\u001b[43m(\u001b[49m\u001b[38;5;28;43mself\u001b[39;49m\u001b[43m,\u001b[49m\u001b[43m \u001b[49m\u001b[43mother\u001b[49m\u001b[43m:\u001b[49m\u001b[43m \u001b[49m\u001b[43mDate\u001b[49m\u001b[43m)\u001b[49m\u001b[43m \u001b[49m\u001b[38;5;241;43m-\u001b[39;49m\u001b[38;5;241;43m>\u001b[39;49m\u001b[43m \u001b[49m\u001b[38;5;28;43mint\u001b[39;49m\u001b[43m:\u001b[49m\n\u001b[1;32m      5\u001b[0m \u001b[38;5;250;43m        \u001b[39;49m\u001b[38;5;124;43;03m\"\"\"Return number of days between two dates.\"\"\"\u001b[39;49;00m\n",
      "Cell \u001b[0;32mIn[13], line 4\u001b[0m, in \u001b[0;36mDate\u001b[0;34m()\u001b[0m\n\u001b[1;32m      1\u001b[0m \u001b[38;5;28;01mclass\u001b[39;00m\u001b[38;5;250m \u001b[39m\u001b[38;5;21;01mDate\u001b[39;00m:  \u001b[38;5;66;03m# noqa: D101\u001b[39;00m\n\u001b[1;32m      2\u001b[0m     \u001b[38;5;66;03m# docstrings and __init__ omitted to focus on the issue at hand\u001b[39;00m\n\u001b[0;32m----> 4\u001b[0m     \u001b[38;5;28;01mdef\u001b[39;00m\u001b[38;5;250m \u001b[39m\u001b[38;5;21mdifference\u001b[39m(\u001b[38;5;28mself\u001b[39m, other: \u001b[43mDate\u001b[49m) \u001b[38;5;241m-\u001b[39m\u001b[38;5;241m>\u001b[39m \u001b[38;5;28mint\u001b[39m:\n\u001b[1;32m      5\u001b[0m \u001b[38;5;250m        \u001b[39m\u001b[38;5;124;03m\"\"\"Return number of days between two dates.\"\"\"\u001b[39;00m\n\u001b[1;32m      6\u001b[0m         \u001b[38;5;28;01mreturn\u001b[39;00m \u001b[38;5;241m0\u001b[39m\n",
      "\u001b[0;31mNameError\u001b[0m: name 'Date' is not defined"
     ]
    }
   ],
   "source": [
    "class Date:  # noqa: D101\n",
    "    # docstrings and __init__ omitted to focus on the issue at hand\n",
    "\n",
    "    def difference(self, other: Date) -> int:\n",
    "        \"\"\"Return number of days between two dates.\"\"\"\n",
    "        return 0  # dummy code"
   ]
  },
  {
   "cell_type": "markdown",
   "id": "37",
   "metadata": {},
   "source": [
    "As explained in [Section&nbsp;4.6.4](../04_Iteration/04_6_lists.ipynb#4.6.4-Modifying-lists),\n",
    "method names are only known in the context of their class. Calling a method\n",
    "as if it were a standalone function usually raises a name error."
   ]
  },
  {
   "cell_type": "code",
   "execution_count": 14,
   "id": "38",
   "metadata": {},
   "outputs": [
    {
     "ename": "NameError",
     "evalue": "name '__str__' is not defined",
     "output_type": "error",
     "traceback": [
      "\u001b[0;31m---------------------------------------------------------------------------\u001b[0m",
      "\u001b[0;31mNameError\u001b[0m                                 Traceback (most recent call last)",
      "Cell \u001b[0;32mIn[14], line 1\u001b[0m\n\u001b[0;32m----> 1\u001b[0m \u001b[38;5;21;43m__str__\u001b[39;49m(ONE_QUARTER)\n",
      "\u001b[0;31mNameError\u001b[0m: name '__str__' is not defined"
     ]
    }
   ],
   "source": [
    "__str__(ONE_QUARTER)"
   ]
  },
  {
   "cell_type": "code",
   "execution_count": 15,
   "id": "39",
   "metadata": {},
   "outputs": [
    {
     "data": {
      "text/plain": [
       "'1 / 4'"
      ]
     },
     "execution_count": 15,
     "metadata": {},
     "output_type": "execute_result"
    }
   ],
   "source": [
    "ONE_QUARTER.__str__()"
   ]
  },
  {
   "cell_type": "markdown",
   "id": "40",
   "metadata": {},
   "source": [
    "However, if a standalone function of the same name exists,\n",
    "the interpreter will call that one."
   ]
  },
  {
   "cell_type": "code",
   "execution_count": 16,
   "id": "41",
   "metadata": {},
   "outputs": [
    {
     "ename": "TypeError",
     "evalue": "'Fraction' object is not subscriptable",
     "output_type": "error",
     "traceback": [
      "\u001b[0;31m---------------------------------------------------------------------------\u001b[0m",
      "\u001b[0;31mTypeError\u001b[0m                                 Traceback (most recent call last)",
      "Cell \u001b[0;32mIn[16], line 1\u001b[0m\n\u001b[0;32m----> 1\u001b[0m \u001b[43mmultiplication\u001b[49m\u001b[43m(\u001b[49m\u001b[43mONE_HALF\u001b[49m\u001b[43m,\u001b[49m\u001b[43m \u001b[49m\u001b[43mONE_HALF\u001b[49m\u001b[43m)\u001b[49m\n",
      "Cell \u001b[0;32mIn[1], line 6\u001b[0m, in \u001b[0;36mmultiplication\u001b[0;34m(left, right)\u001b[0m\n\u001b[1;32m      5\u001b[0m \u001b[38;5;28;01mdef\u001b[39;00m\u001b[38;5;250m \u001b[39m\u001b[38;5;21mmultiplication\u001b[39m(left: \u001b[38;5;28mtuple\u001b[39m, right: \u001b[38;5;28mtuple\u001b[39m) \u001b[38;5;241m-\u001b[39m\u001b[38;5;241m>\u001b[39m \u001b[38;5;28mtuple\u001b[39m:  \u001b[38;5;66;03m# noqa: D103\u001b[39;00m\n\u001b[0;32m----> 6\u001b[0m     \u001b[38;5;28;01mreturn\u001b[39;00m (\u001b[43mleft\u001b[49m\u001b[43m[\u001b[49m\u001b[38;5;241;43m0\u001b[39;49m\u001b[43m]\u001b[49m \u001b[38;5;241m*\u001b[39m right[\u001b[38;5;241m0\u001b[39m], left[\u001b[38;5;241m1\u001b[39m] \u001b[38;5;241m*\u001b[39m right[\u001b[38;5;241m1\u001b[39m])\n",
      "\u001b[0;31mTypeError\u001b[0m: 'Fraction' object is not subscriptable"
     ]
    }
   ],
   "source": [
    "multiplication(ONE_HALF, ONE_HALF)"
   ]
  },
  {
   "cell_type": "markdown",
   "id": "42",
   "metadata": {},
   "source": [
    "We get a type error because the indexing operation is not defined on fractions.\n",
    "The standalone function expects two tuples, not two fractions.\n",
    "`Fraction` and `tuple` are different types,\n",
    "even though `Fraction` has an instance variable of type `tuple`.\n",
    "\n",
    "Likewise, I cannot pass a tuple to a method expecting a fraction."
   ]
  },
  {
   "cell_type": "code",
   "execution_count": 17,
   "id": "43",
   "metadata": {},
   "outputs": [
    {
     "ename": "AttributeError",
     "evalue": "'tuple' object has no attribute 'value'",
     "output_type": "error",
     "traceback": [
      "\u001b[0;31m---------------------------------------------------------------------------\u001b[0m",
      "\u001b[0;31mAttributeError\u001b[0m                            Traceback (most recent call last)",
      "Cell \u001b[0;32mIn[17], line 1\u001b[0m\n\u001b[0;32m----> 1\u001b[0m \u001b[43mone_half\u001b[49m\u001b[38;5;241;43m.\u001b[39;49m\u001b[43mmultiplication\u001b[49m\u001b[43m(\u001b[49m\u001b[43m(\u001b[49m\u001b[38;5;241;43m1\u001b[39;49m\u001b[43m,\u001b[49m\u001b[43m \u001b[49m\u001b[38;5;241;43m2\u001b[39;49m\u001b[43m)\u001b[49m\u001b[43m)\u001b[49m\n",
      "Cell \u001b[0;32mIn[4], line 18\u001b[0m, in \u001b[0;36mFraction.multiplication\u001b[0;34m(self, right)\u001b[0m\n\u001b[1;32m     11\u001b[0m \u001b[38;5;28;01mdef\u001b[39;00m\u001b[38;5;250m \u001b[39m\u001b[38;5;21mmultiplication\u001b[39m(\u001b[38;5;28mself\u001b[39m, right: \u001b[38;5;124m\"\u001b[39m\u001b[38;5;124mFraction\u001b[39m\u001b[38;5;124m\"\u001b[39m) \u001b[38;5;241m-\u001b[39m\u001b[38;5;241m>\u001b[39m \u001b[38;5;124m\"\u001b[39m\u001b[38;5;124mFraction\u001b[39m\u001b[38;5;124m\"\u001b[39m:\n\u001b[1;32m     12\u001b[0m \u001b[38;5;250m    \u001b[39m\u001b[38;5;124;03m\"\"\"Return the product of self and right.\u001b[39;00m\n\u001b[1;32m     13\u001b[0m \n\u001b[1;32m     14\u001b[0m \u001b[38;5;124;03m    Postconditions: if self is the fraction sn/sd and\u001b[39;00m\n\u001b[1;32m     15\u001b[0m \u001b[38;5;124;03m    right is the fraction rn/rd, then the output is fraction\u001b[39;00m\n\u001b[1;32m     16\u001b[0m \u001b[38;5;124;03m    (sn*rn) / (sd*rd)\u001b[39;00m\n\u001b[1;32m     17\u001b[0m \u001b[38;5;124;03m    \"\"\"\u001b[39;00m\n\u001b[0;32m---> 18\u001b[0m     numerator \u001b[38;5;241m=\u001b[39m \u001b[38;5;28mself\u001b[39m\u001b[38;5;241m.\u001b[39mvalue[\u001b[38;5;241m0\u001b[39m] \u001b[38;5;241m*\u001b[39m \u001b[43mright\u001b[49m\u001b[38;5;241;43m.\u001b[39;49m\u001b[43mvalue\u001b[49m[\u001b[38;5;241m0\u001b[39m]\n\u001b[1;32m     19\u001b[0m     denominator \u001b[38;5;241m=\u001b[39m \u001b[38;5;28mself\u001b[39m\u001b[38;5;241m.\u001b[39mvalue[\u001b[38;5;241m1\u001b[39m] \u001b[38;5;241m*\u001b[39m right\u001b[38;5;241m.\u001b[39mvalue[\u001b[38;5;241m1\u001b[39m]\n\u001b[1;32m     20\u001b[0m     \u001b[38;5;28;01mreturn\u001b[39;00m Fraction(numerator, denominator)\n",
      "\u001b[0;31mAttributeError\u001b[0m: 'tuple' object has no attribute 'value'"
     ]
    }
   ],
   "source": [
    "one_half.multiplication((1, 2))"
   ]
  },
  {
   "cell_type": "markdown",
   "id": "44",
   "metadata": {},
   "source": [
    "I get a special case of a name error: the interpreter is complaining that\n",
    "tuples don't have an instance variable named `value`.\n",
    "In Python, the instance variables and methods are a class's **attributes**.\n",
    "If you have two attributes with the same name, e.g.\n",
    "an instance variable and a method, you will get errors.\n",
    "In the following incomplete example of a class for dates (day, month, year),\n",
    "the name `day` refers both to an integer instance variable and a method."
   ]
  },
  {
   "cell_type": "code",
   "execution_count": 18,
   "id": "45",
   "metadata": {},
   "outputs": [],
   "source": [
    "class Date:  # noqa: D101\n",
    "    def __init__(self) -> None:  # noqa: D107\n",
    "        self.day = 1\n",
    "\n",
    "    def day(self) -> int:  # noqa: D102\n",
    "        return self.day"
   ]
  },
  {
   "cell_type": "markdown",
   "id": "46",
   "metadata": {},
   "source": [
    "We can access the instance variable..."
   ]
  },
  {
   "cell_type": "code",
   "execution_count": 19,
   "id": "47",
   "metadata": {},
   "outputs": [
    {
     "data": {
      "text/plain": [
       "1"
      ]
     },
     "execution_count": 19,
     "metadata": {},
     "output_type": "execute_result"
    }
   ],
   "source": [
    "Date().day"
   ]
  },
  {
   "cell_type": "markdown",
   "id": "48",
   "metadata": {},
   "source": [
    "...but not call the method."
   ]
  },
  {
   "cell_type": "code",
   "execution_count": 20,
   "id": "49",
   "metadata": {},
   "outputs": [
    {
     "ename": "TypeError",
     "evalue": "'int' object is not callable",
     "output_type": "error",
     "traceback": [
      "\u001b[0;31m---------------------------------------------------------------------------\u001b[0m",
      "\u001b[0;31mTypeError\u001b[0m                                 Traceback (most recent call last)",
      "Cell \u001b[0;32mIn[20], line 1\u001b[0m\n\u001b[0;32m----> 1\u001b[0m \u001b[43mDate\u001b[49m\u001b[43m(\u001b[49m\u001b[43m)\u001b[49m\u001b[38;5;241;43m.\u001b[39;49m\u001b[43mday\u001b[49m\u001b[43m(\u001b[49m\u001b[43m)\u001b[49m\n",
      "\u001b[0;31mTypeError\u001b[0m: 'int' object is not callable"
     ]
    }
   ],
   "source": [
    "Date().day()"
   ]
  },
  {
   "cell_type": "markdown",
   "id": "50",
   "metadata": {},
   "source": [
    "As the above example shows, Python doesn't prevent users of a class from\n",
    "accessing its instance variables. Here's another example."
   ]
  },
  {
   "cell_type": "code",
   "execution_count": 21,
   "id": "51",
   "metadata": {},
   "outputs": [
    {
     "name": "stdout",
     "output_type": "stream",
     "text": [
      "1 / 2 is positive and smaller than 1\n"
     ]
    }
   ],
   "source": [
    "if 0 < ONE_HALF.value[0] < ONE_HALF.value[1]:\n",
    "    print(ONE_HALF, \"is positive and smaller than 1\")"
   ]
  },
  {
   "cell_type": "markdown",
   "id": "52",
   "metadata": {},
   "source": [
    "This code relies on a particular instance variable name and data structure\n",
    "for representing fractions. If either changes, the code won't work.\n",
    "For example, imagine we replace the tuple with two integer instance variables:"
   ]
  },
  {
   "cell_type": "code",
   "execution_count": 22,
   "id": "53",
   "metadata": {},
   "outputs": [
    {
     "name": "stdout",
     "output_type": "stream",
     "text": [
      "1 / 6\n"
     ]
    }
   ],
   "source": [
    "class Fraction:  # noqa: D101\n",
    "    # docstrings omitted to focus on data structure changes\n",
    "\n",
    "    def __init__(self, numerator: int, denominator: int) -> None:  # noqa: D107\n",
    "        self.numerator = numerator\n",
    "        self.denominator = denominator\n",
    "\n",
    "    def multiplication(self, right: \"Fraction\") -> \"Fraction\":  # noqa: D102\n",
    "        numerator = self.numerator * right.numerator\n",
    "        denominator = self.denominator * right.denominator\n",
    "        return Fraction(numerator, denominator)\n",
    "\n",
    "    def __str__(self) -> str:  # noqa: D105\n",
    "        return str(self.numerator) + \" / \" + str(self.denominator)\n",
    "\n",
    "\n",
    "print(Fraction(1, 2).multiplication(Fraction(1, 3)))"
   ]
  },
  {
   "cell_type": "markdown",
   "id": "54",
   "metadata": {},
   "source": [
    "Any code that uses the previous version of the class without\n",
    "accessing the instance variables also works with this version,\n",
    "because the **interface** of the class,\n",
    "i.e. its methods and their headers, hasn't changed."
   ]
  },
  {
   "cell_type": "markdown",
   "id": "55",
   "metadata": {},
   "source": [
    "<div class=\"alert alert-warning\">\n",
    "<strong>Note:</strong> Only the class's methods should access the instance variables.\n",
    "</div>"
   ]
  },
  {
   "cell_type": "markdown",
   "id": "56",
   "metadata": {},
   "source": [
    "<div class=\"alert alert-info\">\n",
    "<strong>Info:</strong> Unlike Java, Python doesn't have access modifiers\n",
    "to make instance variables private or protected.\n",
    "</div>"
   ]
  },
  {
   "cell_type": "markdown",
   "id": "57",
   "metadata": {},
   "source": [
    "Accessing instance variables from outside a class is poor programming practice.\n",
    "If you need access to instance variables to solve a problem,\n",
    "you may not have defined enough methods. For example, the `Fraction` class\n",
    "should provide methods to return the numerator and denominator of a fraction.\n",
    "I'm adding only one of them, to illustrate how methods can call each other.\n",
    "Compare the following version to the previous one."
   ]
  },
  {
   "cell_type": "code",
   "execution_count": 23,
   "id": "58",
   "metadata": {},
   "outputs": [
    {
     "name": "stdout",
     "output_type": "stream",
     "text": [
      "1 / 6\n"
     ]
    }
   ],
   "source": [
    "class Fraction:  # noqa: D101\n",
    "    def __init__(self, numerator: int, denominator: int) -> None:  # noqa: D107\n",
    "        self.top = numerator\n",
    "        self.denominator = denominator\n",
    "\n",
    "    def numerator(self) -> int:  # noqa: D102\n",
    "        return self.top\n",
    "\n",
    "    def multiplication(self, right: \"Fraction\") -> \"Fraction\":  # noqa: D102\n",
    "        numerator = self.numerator() * right.numerator()\n",
    "        denominator = self.denominator * right.denominator\n",
    "        return Fraction(numerator, denominator)\n",
    "\n",
    "    def __str__(self) -> str:  # noqa: D105\n",
    "        return str(self.numerator()) + \" / \" + str(self.denominator)\n",
    "\n",
    "\n",
    "print(Fraction(1, 2).multiplication(Fraction(1, 3)))"
   ]
  },
  {
   "cell_type": "markdown",
   "id": "59",
   "metadata": {},
   "source": [
    "I renamed one instance variable, so that it doesn't have the same name as\n",
    "the new method. Note that `x.y()` calls method `y` on instance `x`,\n",
    "whereas `x.y` accesses variable `y` of instance `x`.\n",
    "\n",
    "Assume that a second method to obtain the denominator is added. Can you think\n",
    "of an advantage for the multiplication, string conversion and other methods to\n",
    "be added to call the auxiliary methods instead of\n",
    "directly accessing the instance variables?\n",
    "\n",
    "____\n",
    "\n",
    "If the data structure further changes, only the `__init__`, `numerator` and\n",
    "`denominator` methods must change; all other methods on fractions\n",
    "(multiplication, addition, string conversion, rounding, etc.) remain the same."
   ]
  },
  {
   "cell_type": "markdown",
   "id": "60",
   "metadata": {},
   "source": [
    "⟵ [Previous section](06-introduction.ipynb) | [Up](06-introduction.ipynb) | [Next section](06_2_static_array.ipynb) ⟶"
   ]
  }
 ],
 "metadata": {
  "kernelspec": {
   "display_name": "Python 3",
   "language": "python",
   "name": "python3"
  },
  "language_info": {
   "codemirror_mode": {
    "name": "ipython",
    "version": 3
   },
   "file_extension": ".py",
   "mimetype": "text/x-python",
   "name": "python",
   "nbconvert_exporter": "python",
   "pygments_lexer": "ipython3",
   "version": "3.12.10"
  }
 },
 "nbformat": 4,
 "nbformat_minor": 5
}
