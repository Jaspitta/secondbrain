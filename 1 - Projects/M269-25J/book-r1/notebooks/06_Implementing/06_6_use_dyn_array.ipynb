{
 "cells": [
  {
   "cell_type": "markdown",
   "id": "0",
   "metadata": {},
   "source": [
    "## 6.6 Using dynamic arrays"
   ]
  },
  {
   "cell_type": "markdown",
   "id": "1",
   "metadata": {},
   "source": [
    "With dynamic arrays, we can now implement the unrestricted sequence ADT:\n",
    "when the capacity is exhausted but an item is about to be inserted,\n",
    "we resize the dynamic array to increase the capacity and then insert the item.\n",
    "It has been shown that the best policy is to set the new capacity in proportion to the current capacity.\n",
    "For example, in the implementation below\n",
    "I set the new capacity to double of the current one.\n",
    "\n",
    "Let's see why that's a good policy.\n",
    "Resizing a full array, with length and capacity *n*, takes Θ(*n*),\n",
    "in order to copy the *n* items to the larger static array.\n",
    "Since the new array has capacity 2×*n*, we can insert *n* more items without resizing.\n",
    "Spreading the cost of resizing over the subsequent insertions,\n",
    "we see that the overhead per insertion is Θ(*n*) / *n* = Θ(1). In other words,\n",
    "the run-time of a resize operation is the same as if\n",
    "we added some constant time to each insertion.\n",
    "\n",
    "Adding a constant time doesn't increase the complexity of an operation,\n",
    "so the complexity of inserting in dynamic arrays is the same as for static arrays:\n",
    "inserting at position *i* takes Θ(_n – i_) and appending (*i* = *n*–1) takes Θ(1).\n",
    "\n",
    "Python's lists are implemented as dynamic arrays,\n",
    "because this allows lists to grow as necessary, while\n",
    "accessing, replacing and appending items in constant time."
   ]
  },
  {
   "cell_type": "markdown",
   "id": "2",
   "metadata": {},
   "source": [
    "<div class=\"alert alert-warning\">\n",
    "<strong>Note:</strong> Dynamic arrays are the best data structure for implementing the sequence ADT.\n",
    "</div>"
   ]
  },
  {
   "cell_type": "markdown",
   "id": "3",
   "metadata": {},
   "source": [
    "### 6.6.1 The `ArraySequence` class"
   ]
  },
  {
   "cell_type": "markdown",
   "id": "4",
   "metadata": {},
   "source": [
    "To implement the sequence ADT with dynamic arrays,\n",
    "we need the `Sequence` and `DynamicArray` classes."
   ]
  },
  {
   "cell_type": "code",
   "execution_count": 1,
   "id": "5",
   "metadata": {},
   "outputs": [],
   "source": [
    "%run -i ../m269_array\n",
    "%run -i ../m269_sequence"
   ]
  },
  {
   "cell_type": "markdown",
   "id": "6",
   "metadata": {},
   "source": [
    "The name and docstring of the new subclass reveal which data structure is used,\n",
    "so that users know that indexing, replacing and appending take constant time."
   ]
  },
  {
   "cell_type": "code",
   "execution_count": 2,
   "id": "7",
   "metadata": {},
   "outputs": [],
   "source": [
    "# this code is also in m269_sequence.py\n",
    "\n",
    "import math\n",
    "\n",
    "\n",
    "class ArraySequence(Sequence):\n",
    "    \"\"\"A dynamic array implementation of the sequence ADT.\"\"\"\n",
    "\n",
    "    def __init__(self) -> None:\n",
    "        \"\"\"Create an empty sequence.\"\"\"\n",
    "        self.items = DynamicArray(1)\n",
    "        self.size = 0\n",
    "\n",
    "    def capacity(self) -> float:\n",
    "        \"\"\"Return how many items the sequence can hold: infinite.\"\"\"\n",
    "        return math.inf  # infinite capacity\n",
    "\n",
    "    def length(self) -> int:\n",
    "        \"\"\"Return the number of items in the sequence.\n",
    "\n",
    "        Postconditions: 0 <= self.length() <= self.capacity()\n",
    "        \"\"\"\n",
    "        return self.size\n",
    "\n",
    "    def get_item(self, index: int) -> object:\n",
    "        \"\"\"Return the item at position index.\n",
    "\n",
    "        Preconditions: 0 <= index < self.length()\n",
    "        Postconditions: the output is the n-th item of self, with n = index + 1\n",
    "        \"\"\"\n",
    "        return self.items.get_item(index)\n",
    "\n",
    "    def set_item(self, index: int, item: object) -> None:\n",
    "        \"\"\"Replace the item at position index with the given one.\n",
    "\n",
    "        Preconditions: 0 <= index < self.length()\n",
    "        Postconditions: post-self.get_item(index) == item\n",
    "        \"\"\"\n",
    "        self.items.set_item(index, item)\n",
    "\n",
    "    def insert(self, index: int, item: object) -> None:\n",
    "        \"\"\"Insert item at position index.\n",
    "\n",
    "        Preconditions: 0 <= index <= self.length() < self.capacity()\n",
    "        Postconditions: post-self is the sequence\n",
    "        pre-self.get_item(0), ..., pre-self.get_item(index - 1),\n",
    "        item, pre-self.get_item(index), ...,\n",
    "        pre-self.get_item(pre-self.length() - 1)\n",
    "        \"\"\"\n",
    "        if self.size == self.items.length():  # array full\n",
    "            self.items.resize(2 * self.size)  # double the capacity\n",
    "\n",
    "        for position in range(self.size - 1, index - 1, -1):\n",
    "            self.items.set_item(position + 1, self.items.get_item(position))\n",
    "        self.items.set_item(index, item)\n",
    "        self.size = self.size + 1"
   ]
  },
  {
   "cell_type": "markdown",
   "id": "8",
   "metadata": {},
   "source": [
    "The following code accesses the instance variables on purpose\n",
    "to show how the internal static array evolves.\n",
    "The array is printed with the `__str__` method inherited from `StaticArray`\n",
    "and the sequence is printed with the `__str__` method inherited from `Sequence`."
   ]
  },
  {
   "cell_type": "code",
   "execution_count": 3,
   "id": "9",
   "metadata": {},
   "outputs": [
    {
     "name": "stdout",
     "output_type": "stream",
     "text": [
      "array [None] stores sequence []\n",
      "array [0] stores sequence [0]\n",
      "array [0, 1] stores sequence [0, 1]\n",
      "array [0, 1, 2, None] stores sequence [0, 1, 2]\n",
      "array [0, 1, 2, 3] stores sequence [0, 1, 2, 3]\n",
      "array [0, 1, 2, 3, 4, None, None, None] stores sequence [0, 1, 2, 3, 4]\n"
     ]
    }
   ],
   "source": [
    "sequence = ArraySequence()\n",
    "print(\"array\", sequence.items, \"stores sequence\", sequence)\n",
    "for value in range(0, 5):\n",
    "    sequence.append(value)\n",
    "    print(\"array\", sequence.items, \"stores sequence\", sequence)"
   ]
  },
  {
   "cell_type": "markdown",
   "id": "10",
   "metadata": {},
   "source": [
    "As we can see, the length of the static array doubles step-wise from 1 to 8,\n",
    "and the unused positions have value `None`.\n",
    "\n",
    "Finally, let's test each method."
   ]
  },
  {
   "cell_type": "code",
   "execution_count": 4,
   "id": "11",
   "metadata": {},
   "outputs": [
    {
     "name": "stdout",
     "output_type": "stream",
     "text": [
      "Testing length 0\n",
      "Testing length 1\n",
      "Testing length 2\n",
      "Testing length 3\n",
      "Testing length 4\n",
      "Testing length 5\n",
      "Testing length 6\n",
      "Testing length 7\n",
      "Testing length 8\n",
      "Testing length 9\n"
     ]
    }
   ],
   "source": [
    "%run -i ../m269_test\n",
    "\n",
    "test_init(ArraySequence())\n",
    "for length in range(10):\n",
    "    print(\"Testing length\", length)\n",
    "    test_append(ArraySequence(), length)\n",
    "    test_insert_start(ArraySequence(), length)\n",
    "    test_set_item(ArraySequence(), length)"
   ]
  },
  {
   "cell_type": "markdown",
   "id": "12",
   "metadata": {},
   "source": [
    "#### Exercise 6.6.1 (optional)"
   ]
  },
  {
   "cell_type": "markdown",
   "id": "13",
   "metadata": {},
   "source": [
    "Add a `remove` method to the `ArraySequence` class, then run these tests:"
   ]
  },
  {
   "cell_type": "code",
   "execution_count": 5,
   "id": "14",
   "metadata": {},
   "outputs": [],
   "source": [
    "%run -i ../m269_test\n",
    "\n",
    "for length in range(5):\n",
    "    print(\"Testing length\", length)\n",
    "    test_remove(ArraySequence(), length)"
   ]
  },
  {
   "cell_type": "markdown",
   "id": "15",
   "metadata": {},
   "source": [
    "After the tests pass, add code to your `remove` method to shrink the array\n",
    "if the sequence, after the item was removed, is much shorter than the array.\n",
    "It's up to you what 'much shorter' means.\n",
    "\n",
    "You must shrink the capacity to a value that is proportional to the current one,\n",
    "in order to keep the overhead per removal constant.\n",
    "In addition, you must leave some spare capacity after shrinking:\n",
    "otherwise the next `insert` would make the array grow again.\n",
    "Having to grow a dynamic array right after shrinking it wouldn't be efficient.\n",
    "\n",
    "[Hint](../31_Hints/Hints_06_6_01.ipynb)"
   ]
  },
  {
   "cell_type": "markdown",
   "id": "16",
   "metadata": {},
   "source": [
    "⟵ [Previous section](06_5_dynamic_array.ipynb) | [Up](06-introduction.ipynb) | [Next section](06_7_linked_list.ipynb) ⟶"
   ]
  }
 ],
 "metadata": {
  "kernelspec": {
   "display_name": "Python 3",
   "language": "python",
   "name": "python3"
  },
  "language_info": {
   "codemirror_mode": {
    "name": "ipython",
    "version": 3
   },
   "file_extension": ".py",
   "mimetype": "text/x-python",
   "name": "python",
   "nbconvert_exporter": "python",
   "pygments_lexer": "ipython3",
   "version": "3.12.10"
  }
 },
 "nbformat": 4,
 "nbformat_minor": 5
}
