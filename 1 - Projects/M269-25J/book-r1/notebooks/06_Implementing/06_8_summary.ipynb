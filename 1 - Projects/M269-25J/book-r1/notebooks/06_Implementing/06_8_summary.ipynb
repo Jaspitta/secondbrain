{
 "cells": [
  {
   "cell_type": "markdown",
   "id": "0",
   "metadata": {},
   "source": [
    "## 6.8 Summary"
   ]
  },
  {
   "cell_type": "markdown",
   "id": "1",
   "metadata": {},
   "source": [
    "### 6.8.1 Classes"
   ]
  },
  {
   "cell_type": "markdown",
   "id": "2",
   "metadata": {},
   "source": [
    "A **class** defines a data type in Python.\n",
    "A value of a type defined by a class *C* is said to be an **object** and\n",
    "in particular, an **instance of class** *C*.\n",
    "The instance variables hold the data for each instance of the class.\n",
    "A method is an operation provided by a class. In Python,\n",
    "the first argument of each method for class *C* is an instance of *C*.\n",
    "Methods often modify the class instance to which they are applied\n",
    "and in such cases do not implement a mathematical function.\n",
    "\n",
    "The methods form the class's **interface**.\n",
    "A class may change its instance variables without changing its interface.\n",
    "A class's **attributes** are its instance variables and methods.\n",
    "\n",
    "To define a class `C`, write:"
   ]
  },
  {
   "cell_type": "code",
   "execution_count": 1,
   "id": "3",
   "metadata": {},
   "outputs": [],
   "source": [
    "class C:\n",
    "    \"\"\"What class C represents.\"\"\"\n",
    "\n",
    "    def __init__(self) -> None:\n",
    "        \"\"\"Initialise a new instance of C.\"\"\"\n",
    "        # create the instance variables with self.x = value\n",
    "\n",
    "    # define further methods"
   ]
  },
  {
   "cell_type": "markdown",
   "id": "4",
   "metadata": {},
   "source": [
    "If all instances of class *A* are also instances of class *B*,\n",
    "then *A* is a **subclass** of *B* and *B* a **superclass** of *A*.\n",
    "Class *A* inherits the methods of *B*.\n",
    "In Python, write `class A(B):` to define a subclass of *B*.\n",
    "\n",
    "An **abstract class** isn't meant to be instantiated.\n",
    "It usually doesn't have an `__init__` method nor does it implement most methods.\n",
    "It can be used to define an ADT.\n",
    "\n",
    "In Python, if a class `Auxiliary` is defined within a class `Main`, then it\n",
    "must be referred to by its full name: `Main.Auxiliary`.\n",
    "\n",
    "White-box tests access the instance variables while black-box tests\n",
    "only use a class's interface to test the behaviour of each method.\n",
    "Running the same tests after a change is called regression testing.\n",
    "Black-box testing facilitates regression testing, as changes to\n",
    "instance variables and method bodies don't require changing the black-box tests."
   ]
  },
  {
   "cell_type": "markdown",
   "id": "5",
   "metadata": {},
   "source": [
    "### 6.8.2 Data structures"
   ]
  },
  {
   "cell_type": "markdown",
   "id": "6",
   "metadata": {},
   "source": [
    "A data type implements an ADT with a **data structure**,\n",
    "a particular way of organising data.\n",
    "A linear data structure organises data sequentially.\n",
    "\n",
    "A **static array** is a data structure that stores a fixed-length sequence\n",
    "contiguously in memory, with the same number of bytes per item.\n",
    "This allows any item to be accessed and replaced in constant time.\n",
    "\n",
    "In Python, a static array can be emulated by creating a list with\n",
    "`[initial_value] * length` and never applying operations that change its\n",
    "length.\n",
    "\n",
    "A sequence can be stored in a static array of references to the\n",
    "actual items. A **reference** is an object that refers another one.\n",
    "A **pointer** is the memory address of the referred objected.\n",
    "**Garbage collection** is the process of freeing the memory occupied by objects\n",
    "that are no longer used because no object refers to them.\n",
    "\n",
    "A **bounded** sequence has a fixed **capacity**,\n",
    "the maximum number of items it can hold, set at creation time.\n",
    "The sequence is full when its length and capacity are equal.\n",
    "A bounded sequence can be implemented with a static array and\n",
    "a variable to keep track of the sequence's length.\n",
    "\n",
    "A **dynamic array** is a succession of static arrays to give the illusion that\n",
    "the length of the dynamic array shrinks and grows.\n",
    "Resizing the dynamic array involves copying the items from\n",
    "the current static array to a new static array with the new length,\n",
    "and therefore takes time linear in the new length.\n",
    "Python lists are implemented with dynamic arrays.\n",
    "\n",
    "A **linked list** is a chain of nodes,\n",
    "each holding an item and pointing to the next node.\n",
    "The last node has a **null pointer** to indicate there's no further node.\n",
    "A null pointer dereference occurs when trying to access the object\n",
    "referenced by a pointer without first checking that it's the null pointer.\n",
    "The first node is called the **head** of the list.\n",
    "Linked lists don't require a resize operation nor shifting items when\n",
    "inserting or removing one."
   ]
  },
  {
   "cell_type": "markdown",
   "id": "7",
   "metadata": {},
   "source": [
    "### 6.8.3 Complexity"
   ]
  },
  {
   "cell_type": "markdown",
   "id": "8",
   "metadata": {},
   "source": [
    "Implementing operations may require making **space–time tradeoffs** to\n",
    "reduce the run-time by using extra memory.\n",
    "\n",
    "The complexity of an operation depends on the underlying data structure.\n",
    "In the following table, *s* is a sequence and\n",
    "*i* is the index of the item to access, replace, insert or remove.\n",
    "Contrary to the table in [Section&nbsp;6.7.4](../06_Implementing/06_7_linked_list.ipynb#6.7.4-Linked-list-v.-array),\n",
    "this one accounts for the space-time tradeoffs mentioned in that section.\n",
    "\n",
    "Sequence operation | Dynamic array | Linked list\n",
    "-|-|-\n",
    "length  | Θ(1)  | Θ(1)\n",
    "indexing, replace  | Θ(1)  | Θ(*i*)\n",
    "insert, remove  | Θ(│*s*│ − *i*) | Θ(*i*)\n",
    "append  | Θ(1) | Θ(1)"
   ]
  },
  {
   "cell_type": "markdown",
   "id": "9",
   "metadata": {},
   "source": [
    "### 6.8.4 Python"
   ]
  },
  {
   "cell_type": "markdown",
   "id": "10",
   "metadata": {},
   "source": [
    "The Python statement `pass` does nothing.\n",
    "It can be used to indicate that abstract class methods do nothing:\n",
    "they have to be implemented in a subclass.\n",
    "\n",
    "Module `math` defines constant `inf` for positive infinity.\n",
    "It can be used to represent the capacity of an unbounded sequence.\n",
    "Negative infinity is represented as `-inf`."
   ]
  },
  {
   "cell_type": "markdown",
   "id": "11",
   "metadata": {},
   "source": [
    "⟵ [Previous section](06_7_linked_list.ipynb) | [Up](06-introduction.ipynb) | [Next section](../07_Ordered/07-introduction.ipynb) ⟶"
   ]
  }
 ],
 "metadata": {
  "kernelspec": {
   "display_name": "Python 3",
   "language": "python",
   "name": "python3"
  },
  "language_info": {
   "codemirror_mode": {
    "name": "ipython",
    "version": 3
   },
   "file_extension": ".py",
   "mimetype": "text/x-python",
   "name": "python",
   "nbconvert_exporter": "python",
   "pygments_lexer": "ipython3",
   "version": "3.12.10"
  }
 },
 "nbformat": 4,
 "nbformat_minor": 5
}
