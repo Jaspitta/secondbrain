{
 "cells": [
  {
   "cell_type": "markdown",
   "id": "0",
   "metadata": {},
   "source": [
    "## 6.4 Bounded sequences"
   ]
  },
  {
   "cell_type": "markdown",
   "id": "1",
   "metadata": {},
   "source": [
    "Using a static array, we can implement the sequence ADT for bounded\n",
    "sequences,\n",
    "because static arrays can't grow.\n",
    "The capacity of the sequence is the length of the static array.\n",
    "We must keep track of the sequence's current length, so that\n",
    "we know which positions on the static array are occupied by sequence elements\n",
    "and which ones are available for the sequence to grow.\n",
    "We can't assume that the value `None` represents an available position,\n",
    "because `None` is a potentially valid item of a sequence.\n",
    "\n",
    "The next figure shows the data structures (a static array for the items and an integer for the size) for a sequence of\n",
    "length three and capacity five, with values `True`, `None` and `0.2`.\n",
    "The static array was initialised with five pointers to the same `None` object,\n",
    "two of which have been replaced.\n",
    "The size of the sequence is also the index of the next available position\n",
    "because indices start at zero.\n",
    "To illustrate this, I write the indices below the array.\n",
    "As I wrote earlier, indices are also a form of reference.\n",
    "\n",
    "<p id=\"fig-6.4.1\"></p>\n",
    "\n",
    "*[Figure 6.4.1](../33_Figures/Figures_06_4.ipynb#Figure-6.4.1)*\n",
    "\n",
    "![Image 06_4_bounded.png](06_4_bounded.png)\n",
    "\n",
    "Most sequence operations are straightforward to implement for bounded sequences,\n",
    "by iterating over one or two static arrays (the input and output sequences).\n",
    "The insert and remove methods require a bit more care.\n",
    "I will implement insertion: the removal algorithm is largely symmetric.\n",
    "Before that, let's take a little detour."
   ]
  },
  {
   "cell_type": "markdown",
   "id": "2",
   "metadata": {},
   "source": [
    "### 6.4.1 Outlining algorithms"
   ]
  },
  {
   "cell_type": "markdown",
   "id": "3",
   "metadata": {},
   "source": [
    "In verbal and written communication with colleagues, algorithms are often\n",
    "presented in a succinct way, just outlining the steps they carry out.\n",
    "This is often sufficient to be able to implement the algorithm.\n",
    "For example, here's how I'd outline the algorithm for the  `__str__` method\n",
    "in the abstract `Sequence` class:\n",
    "\n",
    "> The algorithm converts the sequence to a list,\n",
    "> which is then converted to a string.\n",
    "> To obtain the list, it starts by creating an empty list.\n",
    "> It goes through the items in the sequence, appending each to the list.\n",
    "> The list is converted to a string with the `str` function.\n",
    "\n",
    "Algorithms are commands for the computer to execute, so if you prefer,\n",
    "you can outline them in the imperative tense. Here's the same example:\n",
    "\n",
    "> Convert the sequence to a list and then convert the list to a string.\n",
    "> To obtain the list, first create an empty list,\n",
    "> then go through the items in the sequence, appending each to the list.\n",
    "> Convert the list to a string with the `str` function.\n",
    "\n",
    "When outlining algorithms, you can assume the reader or listener already knows\n",
    "the problem, i.e. what the inputs and output are and\n",
    "what the algorithm is supposed to accomplish.\n",
    "It's good practice to first give a 'bird's eye view' of the algorithm,\n",
    "describing its various stages or phases, and then detail each one.\n",
    "This helps the reader or listener see the wood for the trees.\n",
    "An outline that sounds like reading the code aloud is not effective\n",
    "communication: it's too detailed and it overwhelms the recipient because\n",
    "they must keep many details in their head to follow the outline.\n",
    "\n",
    "For subtle or complicated algorithms, the outline should help\n",
    "the reader or listener understand not just what the algorithm does but also\n",
    "why it works.\n",
    "So do try to explain the rationale of any hairy part of an algorithm.\n",
    "\n",
    "The outline has to be tailored to the knowledge level of the recipient.\n",
    "The above outlines are Greek to most people,\n",
    "or Latin if they happen to speak Greek.\n",
    "In M269, the recipient is your tutor or a fellow student, so\n",
    "you can assume they have the same knowledge as you.\n",
    "\n",
    "Like everything else, outlining algorithms requires practice.\n",
    "If you have a study buddy, call them, outline an algorithm in this book\n",
    "and have them critique your outline, e.g. if it's missing important details\n",
    "or if it's too detailed or confusing.\n",
    "If your buddy can follow your outline just by listening to it,\n",
    "without looking at the algorithm in their copy of the book,\n",
    "then it's probably a good one. You can also post and critique outlines\n",
    "in the M269 forums, e.g. of alternative solutions to the book's exercises.\n",
    "\n",
    "With this in mind, let's tackle the insert operation."
   ]
  },
  {
   "cell_type": "markdown",
   "id": "4",
   "metadata": {},
   "source": [
    "### 6.4.2 Insertion"
   ]
  },
  {
   "cell_type": "markdown",
   "id": "5",
   "metadata": {},
   "source": [
    "As usual, before designing an algorithm, we must think of problem instances.\n",
    "For this operation, the edge cases are\n",
    "lists with length zero and one, and inserting an item at the first, last and\n",
    "after the last index. The latter corresponds to appending the item.\n",
    "The table columns are the variables in the\n",
    "operation definition: *values* is the input/output sequence;\n",
    "*value* and *index* are the item to be inserted and its position.\n",
    "The item to be inserted is not relevant, so I use the same for all test cases.\n",
    "This saves me from writing a very repetitive column for *value*.\n",
    "Remember that we write abstract sequences within parentheses.\n",
    "\n",
    "Case | Pre-*values* | *index* | Post-*values*\n",
    "-|-|-|-\n",
    "length&nbsp;0  | ( ) | 0 | ('!')\n",
    "length&nbsp;1, before  | ( 0 )  | 0  | ('!', 0)\n",
    "length&nbsp;1, after  | ( 0 )  |  1 | (0, '!')\n",
    "length&nbsp;2, before  | (0, 1)  | 0  | ('!', 0, 1)\n",
    "length&nbsp;2, middle  | (0, 1)  | 1  | (0, '!', 1)\n",
    "length&nbsp;2, after  | (0, 1)  | 2  | (0, 1, '!')\n",
    "\n",
    "We can assume the bounded sequence has capacity for at least one more item.\n",
    "The algorithm must somehow 'push' the items from the given index one position\n",
    "to the right, to then put the item at the position given by the index.\n",
    "Let's take one problem instance to help visualise the process.\n",
    "I choose the fourth test case, inserting at the start of a length&nbsp;2&nbsp;sequence,\n",
    "before handling the possibly trickier case of inserting in an empty sequence or\n",
    "inserting at the end.\n",
    "\n",
    "The sequence is (0, 1). To obtain the end result ('!', 0, 1) I must copy\n",
    "each item to the next position up. I can't start by copying the first item, as\n",
    "it would overwrite the value there and lose it forever: (0, 0).\n",
    "I must start copying from the end:\n",
    "\n",
    "- (0, 1, 1): copy the last item to the vacant position\n",
    "- (0, 0, 1): copy the first item to the next position\n",
    "- ('!', 0, 1): put the new item in the input position.\n",
    "\n",
    "Here's a possible outline of the algorithm:\n",
    "\n",
    "> Go through the items backwards, from the last one to\n",
    "> the one at the given index, and copy each item to the next position.\n",
    "> Put the given item at the given index.\n",
    "\n",
    "From this, I can write an algorithm in English.\n",
    "I can't iterate backwards over items, but I can iterate downwards over integers.\n",
    "\n",
    "1. for each *position* from │*values*│ − 1 down to *index*:\n",
    "   1. let *values*[*position* + 1] be *values*[*position*]\n",
    "2. let *values*[*index*] be *value*\n",
    "\n",
    "Step&nbsp;1.1 copies each item one position up, i.e. to the right.\n",
    "\n",
    "Before moving on to implementing this algorithm in Python, let's check it works\n",
    "for the other test cases. The penultimate case (inserting in the middle)\n",
    "is similar to inserting at the start.\n",
    "All other cases (first, third and last) append an item.\n",
    "Does the algorithm work for them?\n",
    "\n",
    "___\n",
    "\n",
    "The item is appended when *index* = │*values*│. In that case, the loop\n",
    "doesn't execute because the start position is larger than the end position.\n",
    "The item is immediately put in its position.\n",
    "\n",
    "The complexity of this algorithm is as stated in\n",
    "[Section&nbsp;4.6.1](../04_Iteration/04_6_lists.ipynb#4.6.1-Modifying-sequences):\n",
    "Θ(1) when appending and Θ(│*values*│ − *index*) otherwise."
   ]
  },
  {
   "cell_type": "markdown",
   "id": "6",
   "metadata": {},
   "source": [
    "### 6.4.3 The `BoundedSequence` class"
   ]
  },
  {
   "cell_type": "markdown",
   "id": "7",
   "metadata": {},
   "source": [
    "Translating the insertion algorithm to code requires one more detail:\n",
    "incrementing the size variable, because we're dealing with\n",
    "concrete data structures and not abstract sequences.\n",
    "\n",
    "Here's an implementation of the abstract class methods for bounded sequences.\n",
    "In Python we write `class A(B):` to define *A* as a subclass of *B*."
   ]
  },
  {
   "cell_type": "code",
   "execution_count": 1,
   "id": "8",
   "metadata": {},
   "outputs": [],
   "source": [
    "%run -i ../m269_array\n",
    "%run -i ../m269_sequence\n",
    "\n",
    "\n",
    "class BoundedSequence(Sequence):\n",
    "    \"\"\"A sequence with a fixed capacity.\"\"\"\n",
    "\n",
    "    def __init__(self, capacity: int) -> None:\n",
    "        \"\"\"Create an empty sequence that can hold 'capacity' items.\n",
    "\n",
    "        Preconditions: capacity >= 0\n",
    "        \"\"\"\n",
    "        self.items = StaticArray(capacity)\n",
    "        self.size = 0\n",
    "\n",
    "    def capacity(self) -> int:\n",
    "        \"\"\"Return how many items the sequence can hold.\n",
    "\n",
    "        Postconditions: the output is the value set at creation time\n",
    "        \"\"\"\n",
    "        return self.items.length()\n",
    "\n",
    "    def length(self) -> int:\n",
    "        \"\"\"Return the number of items in the sequence.\n",
    "\n",
    "        Postconditions: 0 <= self.length() <= self.capacity()\n",
    "        \"\"\"\n",
    "        return self.size\n",
    "\n",
    "    def get_item(self, index: int) -> object:\n",
    "        \"\"\"Return the item at position index.\n",
    "\n",
    "        Preconditions: 0 <= index < self.length()\n",
    "        Postconditions: the output is the n-th item of self, with n = index + 1\n",
    "        \"\"\"\n",
    "        return self.items.get_item(index)\n",
    "\n",
    "    def set_item(self, index: int, item: object) -> None:\n",
    "        \"\"\"Replace the item at position index with the given one.\n",
    "\n",
    "        Preconditions: 0 <= index < self.length()\n",
    "        Postconditions: post-self.get_item(index) == item\n",
    "        \"\"\"\n",
    "        self.items.set_item(index, item)\n",
    "\n",
    "    def insert(self, index: int, item: object) -> None:\n",
    "        \"\"\"Insert item at position index.\n",
    "\n",
    "        Preconditions: 0 <= index <= self.length() < self.capacity()\n",
    "        Postconditions: post-self is the sequence\n",
    "        pre-self.get_item(0), ..., pre-self.get_item(index - 1),\n",
    "        item, pre-self.get_item(index), ...,\n",
    "        pre-self.get_item(pre-self.length() - 1)\n",
    "        \"\"\"\n",
    "        for position in range(self.size - 1, index, -1):\n",
    "            self.items.set_item(position + 1, self.items.get_item(position))\n",
    "        self.items.set_item(index, item)\n",
    "        self.size = self.size + 1"
   ]
  },
  {
   "cell_type": "markdown",
   "id": "9",
   "metadata": {},
   "source": [
    "The following example uses the `append` and `__str__` methods,\n",
    "provided by the abstract superclass."
   ]
  },
  {
   "cell_type": "code",
   "execution_count": 2,
   "id": "10",
   "metadata": {},
   "outputs": [
    {
     "name": "stdout",
     "output_type": "stream",
     "text": [
      "[]\n",
      "['ready']\n",
      "['ready', 'set']\n",
      "['ready', 'set', 'go!']\n",
      "Can have 2 more items.\n"
     ]
    }
   ],
   "source": [
    "items = BoundedSequence(5)\n",
    "print(items)\n",
    "for item in (\"ready\", \"set\", \"go!\"):\n",
    "    items.append(item)\n",
    "    print(items)\n",
    "print(\"Can have\", items.capacity() - items.length(), \"more items.\")"
   ]
  },
  {
   "cell_type": "markdown",
   "id": "11",
   "metadata": {},
   "source": [
    "Let's run the tests created in the previous section,\n",
    "for different capacities and lengths.\n",
    "Each test takes an empty bounded sequence of some capacity\n",
    "and grows it to a given length."
   ]
  },
  {
   "cell_type": "code",
   "execution_count": 3,
   "id": "12",
   "metadata": {},
   "outputs": [
    {
     "name": "stdout",
     "output_type": "stream",
     "text": [
      "Testing capacity 0\n",
      "Testing length 0\n",
      "Testing capacity 1\n",
      "Testing length 0\n",
      "Testing length 1\n",
      "Testing capacity 2\n",
      "Testing length 0\n",
      "Testing length 1\n",
      "Testing length 2\n",
      "insert at 0: n-th item FAILED for [0, None] : None instead of 1\n",
      "Testing capacity 3\n",
      "Testing length 0\n",
      "Testing length 1\n",
      "Testing length 2\n",
      "insert at 0: n-th item FAILED for [0, None] : None instead of 1\n",
      "Testing length 3\n",
      "insert at 0: n-th item FAILED for [0, None, None] : None instead of 1\n",
      "insert at 0: n-th item FAILED for [0, None, None] : None instead of 2\n"
     ]
    }
   ],
   "source": [
    "%run -i ../m269_test\n",
    "\n",
    "for capacity in range(4):\n",
    "    print(\"Testing capacity\", capacity)\n",
    "    test_init(BoundedSequence(capacity))\n",
    "    for length in range(capacity + 1):\n",
    "        print(\"Testing length\", length)\n",
    "        test_append(BoundedSequence(capacity), length)\n",
    "        test_insert_start(BoundedSequence(capacity), length)\n",
    "        test_set_item(BoundedSequence(capacity), length)"
   ]
  },
  {
   "cell_type": "markdown",
   "id": "13",
   "metadata": {},
   "source": [
    "Oh dear! The test for inserting at the start failed for lists longer than one.\n",
    "In all cases the resulting sequence is 0 followed by `None`, instead of being\n",
    "0, 1, 2, ..."
   ]
  },
  {
   "cell_type": "markdown",
   "id": "14",
   "metadata": {},
   "source": [
    "#### Exercise 6.4.1"
   ]
  },
  {
   "cell_type": "markdown",
   "id": "15",
   "metadata": {},
   "source": [
    "Explain the error and how to fix it.\n",
    "(By the way, this was a genuine error: I didn't do it on purpose.)"
   ]
  },
  {
   "cell_type": "markdown",
   "id": "16",
   "metadata": {},
   "source": [
    "_Write your answer here._"
   ]
  },
  {
   "cell_type": "markdown",
   "id": "17",
   "metadata": {},
   "source": [
    "[Hint](../31_Hints/Hints_06_4_01.ipynb)\n",
    "[Answer](../32_Answers/Answers_06_4_01.ipynb)"
   ]
  },
  {
   "cell_type": "markdown",
   "id": "18",
   "metadata": {},
   "source": [
    "#### Exercise 6.4.2"
   ]
  },
  {
   "cell_type": "markdown",
   "id": "19",
   "metadata": {},
   "source": [
    "Fix the error in the `insert` method.\n",
    "Rerun the tests.\n",
    "\n",
    "[Answer](../32_Answers/Answers_06_4_02.ipynb)"
   ]
  },
  {
   "cell_type": "markdown",
   "id": "20",
   "metadata": {},
   "source": [
    "#### Exercise 6.4.3 (optional)"
   ]
  },
  {
   "cell_type": "markdown",
   "id": "21",
   "metadata": {},
   "source": [
    "Add a `remove` method to the `BoundedSequence` class above.\n",
    "Run its code cell again, then run these tests:"
   ]
  },
  {
   "cell_type": "code",
   "execution_count": 4,
   "id": "22",
   "metadata": {},
   "outputs": [],
   "source": [
    "for capacity in range(4):\n",
    "    print(\"Testing capacity\", capacity)\n",
    "    for length in range(capacity + 1):\n",
    "        print(\"Testing length\", length)\n",
    "        test_remove(BoundedSequence(capacity), length)"
   ]
  },
  {
   "cell_type": "markdown",
   "id": "23",
   "metadata": {},
   "source": [
    "[Hint](../31_Hints/Hints_06_4_03.ipynb)"
   ]
  },
  {
   "cell_type": "markdown",
   "id": "24",
   "metadata": {},
   "source": [
    "⟵ [Previous section](06_3_develop_type.ipynb) | [Up](06-introduction.ipynb) | [Next section](06_5_dynamic_array.ipynb) ⟶"
   ]
  }
 ],
 "metadata": {
  "kernelspec": {
   "display_name": "Python 3",
   "language": "python",
   "name": "python3"
  },
  "language_info": {
   "codemirror_mode": {
    "name": "ipython",
    "version": 3
   },
   "file_extension": ".py",
   "mimetype": "text/x-python",
   "name": "python",
   "nbconvert_exporter": "python",
   "pygments_lexer": "ipython3",
   "version": "3.12.10"
  }
 },
 "nbformat": 4,
 "nbformat_minor": 5
}
