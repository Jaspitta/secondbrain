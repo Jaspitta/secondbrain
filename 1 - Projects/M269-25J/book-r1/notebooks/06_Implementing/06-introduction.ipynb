{
 "cells": [
  {
   "cell_type": "markdown",
   "id": "0",
   "metadata": {},
   "source": [
    "# 6 Implementing sequences"
   ]
  },
  {
   "cell_type": "markdown",
   "id": "1",
   "metadata": {},
   "source": [
    "This chapter explains how the sequence ADT can be implemented using two\n",
    "different **data structures**, i.e. ways of organising data:\n",
    "arrays and linked lists.\n",
    "A data type implements an ADT using a particular data structure. For example,\n",
    "Python's list data type implements the sequence ADT with arrays, but\n",
    "we can define our own data type implementing the same ADT with a linked list.\n",
    "\n",
    "The same data structure can be used by data types implementing different ADTs.\n",
    "Chapter&nbsp;7 introduces other sequence-like ADTs and how they can be implemented\n",
    "with the array and linked list data structures."
   ]
  },
  {
   "cell_type": "markdown",
   "id": "2",
   "metadata": {},
   "source": [
    "<div class=\"alert alert-info\">\n",
    "<strong>Info:</strong> Some texts use 'data structure' as a synonym of 'data type',\n",
    "i.e. as the implementation of an abstract data type.\n",
    "</div>"
   ]
  },
  {
   "cell_type": "markdown",
   "id": "3",
   "metadata": {},
   "source": [
    "Arrays and linked lists are **linear** data structures:\n",
    "the data is arranged sequentially. This makes it easy to go through the data items,\n",
    "one by one, with a single loop. Linear data structures are widely used\n",
    "by Python and other languages to implement various kinds of sequence ADTs.\n",
    "\n",
    "Learning about data structures not only helps you understand\n",
    "a data type's behaviour, e.g. why some operations take constant time,\n",
    "it also gives you the foundations to implement ADTs.\n",
    "\n",
    "This chapter supports the following learning outcomes.\n",
    "\n",
    "- Understand the common general-purpose data structures, algorithmic techniques and complexity classes – you will learn two fundamental data structures (arrays and linked lists).\n",
    "- Explain how an algorithm or data structure works, in order to communicate with relevant stakeholders –\n",
    "  this chapter illustrates how to communicate the gist of an algorithm or data structure.\n",
    "- Analyse the complexity of algorithms to support software design choices –\n",
    "  this chapter shows how the choice of data structure affects\n",
    "  the complexity of the data type's operations.\n",
    "- Write readable, tested, documented and efficient Python code –\n",
    "  this chapter shows how to implement data types with Python classes\n",
    "  and how to test them.\n",
    "\n",
    "Before starting to work on this chapter, check the M269\n",
    "[news](https://learn2.open.ac.uk/blocks/news/all.php?bi=326014) and [errata](https://learn2.open.ac.uk/mod/url/view.php?id=2554721),\n",
    "and check the TMAs for what is assessed."
   ]
  },
  {
   "cell_type": "markdown",
   "id": "4",
   "metadata": {
    "nbsphinx-toctree": {
     "hidden": true,
     "maxdepth": 1,
     "numbered": false
    }
   },
   "source": [
    "1. [Defining data types](06_1_define_type.ipynb)\n",
    "1. [Static arrays](06_2_static_array.ipynb)\n",
    "1. [Developing data types](06_3_develop_type.ipynb)\n",
    "1. [Bounded sequences](06_4_bounded.ipynb)\n",
    "1. [Dynamic arrays](06_5_dynamic_array.ipynb)\n",
    "1. [Using dynamic arrays](06_6_use_dyn_array.ipynb)\n",
    "1. [Linked lists](06_7_linked_list.ipynb)\n",
    "1. [Summary](06_8_summary.ipynb)"
   ]
  },
  {
   "cell_type": "markdown",
   "id": "5",
   "metadata": {},
   "source": [
    "⟵ [Previous chapter](../05_TMA01-1/05-introduction.ipynb) | [Up](../M269.ipynb) | [Next chapter](../07_Ordered/07-introduction.ipynb) ⟶"
   ]
  }
 ],
 "metadata": {
  "kernelspec": {
   "display_name": "Python 3",
   "language": "python",
   "name": "python3"
  },
  "language_info": {
   "codemirror_mode": {
    "name": "ipython",
    "version": 3
   },
   "file_extension": ".py",
   "mimetype": "text/x-python",
   "name": "python",
   "nbconvert_exporter": "python",
   "pygments_lexer": "ipython3",
   "version": "3.12.10"
  }
 },
 "nbformat": 4,
 "nbformat_minor": 5
}
