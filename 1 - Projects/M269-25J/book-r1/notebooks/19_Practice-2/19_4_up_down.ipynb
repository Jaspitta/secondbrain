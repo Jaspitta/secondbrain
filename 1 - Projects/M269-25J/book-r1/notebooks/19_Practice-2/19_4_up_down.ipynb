{
 "cells": [
  {
   "cell_type": "markdown",
   "id": "0",
   "metadata": {},
   "source": [
    "## 19.4 Up and down"
   ]
  },
  {
   "cell_type": "markdown",
   "id": "1",
   "metadata": {},
   "source": [
    "Find the maximum of a given non-empty sequence of integers,\n",
    "knowing that they first ascend and then descend and that\n",
    "there are no consecutive repeated integers.\n",
    "The ascending or the descending part may be empty: see the tests below.\n",
    "The next diagram shows the three possible shapes of the sequence,\n",
    "if we plot each integer at each index: only up, only down, up and down.\n",
    "The circles highlight where the maximum is in each case.\n",
    "\n",
    "<p id=\"fig-19.4.1\"></p>\n",
    "\n",
    "*[Figure 19.4.1](../33_Figures/Figures_19_4.ipynb#Figure-19.4.1)*\n",
    "\n",
    "![Image 19_4_shapes.png](19_4_shapes.png)\n",
    "\n",
    "Sequences like (−3, −1, −1, 0) aren't problem instances because\n",
    "they have consecutive repeated numbers, but sequences like (−3, −1, 0, −1)\n",
    "are allowed."
   ]
  },
  {
   "cell_type": "markdown",
   "id": "2",
   "metadata": {},
   "source": [
    "### 19.4.1 Exercises"
   ]
  },
  {
   "cell_type": "markdown",
   "id": "3",
   "metadata": {},
   "source": [
    "#### Exercise 19.4.1"
   ]
  },
  {
   "cell_type": "markdown",
   "id": "4",
   "metadata": {},
   "source": [
    "Which algorithmic technique can be applied to efficiently solve this problem?"
   ]
  },
  {
   "cell_type": "markdown",
   "id": "5",
   "metadata": {},
   "source": [
    "_Write your answer here._"
   ]
  },
  {
   "cell_type": "markdown",
   "id": "6",
   "metadata": {},
   "source": [
    "[Hint](../31_Hints/Hints_19_4_01.ipynb)\n",
    "[Answer](../32_Answers/Answers_19_4_01.ipynb)"
   ]
  },
  {
   "cell_type": "markdown",
   "id": "7",
   "metadata": {},
   "source": [
    "#### Exercise 19.4.2"
   ]
  },
  {
   "cell_type": "markdown",
   "id": "8",
   "metadata": {},
   "source": [
    "Outline an algorithm."
   ]
  },
  {
   "cell_type": "markdown",
   "id": "9",
   "metadata": {},
   "source": [
    "_Write your answer here._"
   ]
  },
  {
   "cell_type": "markdown",
   "id": "10",
   "metadata": {},
   "source": [
    "[Hint](../31_Hints/Hints_19_4_02.ipynb)\n",
    "[Answer](../32_Answers/Answers_19_4_02.ipynb)"
   ]
  },
  {
   "cell_type": "markdown",
   "id": "11",
   "metadata": {},
   "source": [
    "#### Exercise 19.4.3"
   ]
  },
  {
   "cell_type": "markdown",
   "id": "12",
   "metadata": {},
   "source": [
    "Complete the cell below and run it.\n",
    "Don't forget to complete the function header and to add a docstring."
   ]
  },
  {
   "cell_type": "code",
   "execution_count": 1,
   "id": "13",
   "metadata": {},
   "outputs": [],
   "source": [
    "from algoesup import test\n",
    "\n",
    "\n",
    "def max_up_down(numbers):\n",
    "    pass\n",
    "\n",
    "\n",
    "max_up_down_tests = [\n",
    "    # case,             numbers,           largest\n",
    "    ('1 number',        [-1],                  -1),\n",
    "    ('only descending', [3, 2],                 3),\n",
    "    ('only ascending',  [-3, -1, 0],            0),\n",
    "    ('up and down',     [-3, -1, 0, 3, 2, -1],  3),\n",
    "]\n",
    "\n",
    "test(max_up_down, max_up_down_tests)"
   ]
  },
  {
   "cell_type": "markdown",
   "id": "14",
   "metadata": {},
   "source": [
    "[Hint](../31_Hints/Hints_19_4_03.ipynb)\n",
    "[Answer](../32_Answers/Answers_19_4_03.ipynb)"
   ]
  },
  {
   "cell_type": "markdown",
   "id": "15",
   "metadata": {},
   "source": [
    "⟵ [Previous section](19_3_beams.ipynb) | [Up](19-introduction.ipynb) | [Next section](19_5_knight.ipynb) ⟶"
   ]
  }
 ],
 "metadata": {
  "kernelspec": {
   "display_name": "Python 3",
   "language": "python",
   "name": "python3"
  },
  "language_info": {
   "codemirror_mode": {
    "name": "ipython",
    "version": 3
   },
   "file_extension": ".py",
   "mimetype": "text/x-python",
   "name": "python",
   "nbconvert_exporter": "python",
   "pygments_lexer": "ipython3",
   "version": "3.12.10"
  }
 },
 "nbformat": 4,
 "nbformat_minor": 5
}
