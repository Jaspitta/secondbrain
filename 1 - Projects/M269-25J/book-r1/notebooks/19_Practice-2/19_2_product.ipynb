{
 "cells": [
  {
   "cell_type": "markdown",
   "id": "0",
   "metadata": {},
   "source": [
    "## 19.2 Dot product"
   ]
  },
  {
   "cell_type": "markdown",
   "id": "1",
   "metadata": {},
   "source": [
    "The dot product of two equal-length sequences of integers\n",
    "$X = (x_1, \\ldots, x_n)$ and $Y = (y_1, \\ldots, y_n)$\n",
    "is $$X\\cdot Y = x_1×y_1 + x_2×y_2 + \\cdots + x_n×y_n.$$\n",
    "\n",
    "Given two sequences with *n* > 0,\n",
    "what's the smallest dot product we could obtain,\n",
    "if we could rearrange the order of the numbers within each sequence?\n",
    "\n",
    "For example, the sequences (1, 2, –1) and (2, 6, 3) have dot product\n",
    "\n",
    "(1, 2, –1) · (2, 6, 3) = 2 + 12 + –3 = 11.\n",
    "\n",
    "But if we rearrange one or both sequences, the lowest dot product we get is 1.\n",
    "Various rearrangements lead to it, including\n",
    "\n",
    "(1, 2, –1) · (3, 2, 6) = 3 + 4 + –6 = 1\n",
    "\n",
    "and\n",
    "\n",
    "(–1, 2, 1) · (6, 2, 3) = −6 + 4 + 3 = 1.\n",
    "\n",
    "As a further example, if the sequences are\n",
    "(1, −1, 5, 0, 7) and (3, 7, −9, 2, 0) then the lowest dot product is –68,\n",
    "which can be obtained as follows, among other ways:\n",
    "\n",
    "(1, –1, 5, 0, 7) · (2, 7, 0, 3, –9) = 2 + –7 + 0 + 0 + –63 = –68."
   ]
  },
  {
   "cell_type": "markdown",
   "id": "2",
   "metadata": {},
   "source": [
    "### 19.2.1 Exercises"
   ]
  },
  {
   "cell_type": "markdown",
   "id": "3",
   "metadata": {},
   "source": [
    "#### Exercise 19.2.1"
   ]
  },
  {
   "cell_type": "markdown",
   "id": "4",
   "metadata": {},
   "source": [
    "1. Outline an exhaustive search algorithm to solve this problem.\n",
    "1. What's the complexity for sequences of length *n*?\n",
    "1. Assuming the search generates and tests each candidate in a nanosecond,\n",
    "   how long will it take for *n* = 20?\n",
    "\n",
    "Conclude whether exhaustive search is a practical approach for this problem."
   ]
  },
  {
   "cell_type": "markdown",
   "id": "5",
   "metadata": {},
   "source": [
    "_Write your answer here._"
   ]
  },
  {
   "cell_type": "markdown",
   "id": "6",
   "metadata": {},
   "source": [
    "[Hint](../31_Hints/Hints_19_2_01.ipynb)\n",
    "[Answer](../32_Answers/Answers_19_2_01.ipynb)"
   ]
  },
  {
   "cell_type": "markdown",
   "id": "7",
   "metadata": {},
   "source": [
    "#### Exercise 19.2.2"
   ]
  },
  {
   "cell_type": "markdown",
   "id": "8",
   "metadata": {},
   "source": [
    "When I presented greedy choices for the\n",
    "[interval scheduling problem](../18_Greed/18_1_scheduling.ipynb#18.1.2-Greedy-choices), I provided\n",
    "an informal rationale for each one: why that choice seemed a good idea.\n",
    "The goal was to maximise the number of non-overlapping intervals, so for example\n",
    "I chose at each step the interval with the fewest overlaps\n",
    "to reduce the number of intervals eliminated at each step.\n",
    "\n",
    "Present a greedy choice for the dot product minimisation problem\n",
    "and your rationale.\n",
    "You must explain which integer of *X* and which integer of *Y*\n",
    "you choose to multiply in each step, to attempt to minimise the overall sum.\n",
    "\n",
    "Your greedy choice must produce the correct result for\n",
    "the above examples but you're not asked to prove it is correct for all inputs."
   ]
  },
  {
   "cell_type": "markdown",
   "id": "9",
   "metadata": {},
   "source": [
    "_Write your answer here._"
   ]
  },
  {
   "cell_type": "markdown",
   "id": "10",
   "metadata": {},
   "source": [
    "[Answer](../32_Answers/Answers_19_2_02.ipynb)"
   ]
  },
  {
   "cell_type": "markdown",
   "id": "11",
   "metadata": {},
   "source": [
    "#### Exercise 19.2.3"
   ]
  },
  {
   "cell_type": "markdown",
   "id": "12",
   "metadata": {},
   "source": [
    "Implement and test a greedy algorithm based on your greedy choice.\n",
    "Complete the function header and docstring."
   ]
  },
  {
   "cell_type": "code",
   "execution_count": 1,
   "id": "13",
   "metadata": {},
   "outputs": [],
   "source": [
    "from algoesup import test\n",
    "\n",
    "\n",
    "def min_dot_product(x, y):\n",
    "    pass\n",
    "\n",
    "\n",
    "min_dot_product_tests = [\n",
    "    # case,        x,                 y,              smallest\n",
    "    ('n = 3',      [1, 2, -1],        [2, 6, 3],           1),\n",
    "    ('n = 5',      [1, -1, 5, 0, 7],  [3, 7, -9, 2, 0],  -68),\n",
    "    # your tests\n",
    "]\n",
    "\n",
    "test(min_dot_product, min_dot_product_tests)"
   ]
  },
  {
   "cell_type": "markdown",
   "id": "14",
   "metadata": {},
   "source": [
    "[Hint](../31_Hints/Hints_19_2_03.ipynb)\n",
    "[Answer](../32_Answers/Answers_19_2_03.ipynb)"
   ]
  },
  {
   "cell_type": "markdown",
   "id": "15",
   "metadata": {},
   "source": [
    "⟵ [Previous section](19_1_jousting.ipynb) | [Up](19-introduction.ipynb) | [Next section](19_3_beams.ipynb) ⟶"
   ]
  }
 ],
 "metadata": {
  "kernelspec": {
   "display_name": "Python 3",
   "language": "python",
   "name": "python3"
  },
  "language_info": {
   "codemirror_mode": {
    "name": "ipython",
    "version": 3
   },
   "file_extension": ".py",
   "mimetype": "text/x-python",
   "name": "python",
   "nbconvert_exporter": "python",
   "pygments_lexer": "ipython3",
   "version": "3.12.10"
  }
 },
 "nbformat": 4,
 "nbformat_minor": 5
}
