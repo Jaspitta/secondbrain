{
 "cells": [
  {
   "cell_type": "markdown",
   "id": "0",
   "metadata": {},
   "source": [
    "## 19.1 Jousting"
   ]
  },
  {
   "cell_type": "markdown",
   "id": "1",
   "metadata": {},
   "source": [
    "Once upon a time, in a far, far away land, jolly knights jousted every day to\n",
    "practise killing marauding dragons that put damsels in distress.\n",
    "As the number of dragons alive decreased and\n",
    "the number of damsels who could defend themselves increased,\n",
    "the knights got idle and paid more attention to the king's politics.\n",
    "To avoid closer scrutiny of his actions, the king created a distraction:\n",
    "a prestigious tournament with a pompous title and a pointless trophy.\n",
    "That kept the knights jolly and busy.\n",
    "\n",
    "To give his weak (but very rich and very supportive) cousin a fighting chance,\n",
    "the monarch changed the rules under the pretence of fairness, inclusivity and\n",
    "innovation. He decreed that jousts would be carried out one after the other,\n",
    "each between the two strongest knights still in the competition.\n",
    "\n",
    "The monarch and his cousin reasoned that if the strong knights fight and\n",
    "eliminate each other, and get weaker in the process, the cousin,\n",
    "being among the last knights to fight, might become the champion.\n",
    "The calculating cousin prefers to not leave anything to chance and\n",
    "asks for a simulation of the tournament.\n",
    "\n",
    "The input is a sequence of the knights' strengths, including the cousin's,\n",
    "in no particular order. The strengths are represented by positive integers.\n",
    "\n",
    "The tournament is a succession of jousts, each between the two strongest\n",
    "remaining knights. When two knights of equal strength fight,\n",
    "they knock each other out: both are eliminated.\n",
    "Otherwise, the weaker knight is eliminated and the stronger one remains in the competition, but his strength is diminished by the opponent's strength.\n",
    "The output is the index of the knight who wins the tournament.\n",
    "If the final joust ends in a simultaneous knock-out (KO) of two equal-strength knights,\n",
    "the output is −1.\n",
    "\n",
    "For example, if the knights have strengths 5, 3, 6, 2, then the first and third\n",
    "knights joust first. The third knight wins, but his strength drops to 6 – 5 = 1.\n",
    "The second and fourth knights fight next because now they're the strongest.\n",
    "The second knight wins and his remaining strength is 3 – 2 = 1.\n",
    "Finally, the second and third knights joust but neither wins. The output is −1."
   ]
  },
  {
   "cell_type": "markdown",
   "id": "2",
   "metadata": {},
   "source": [
    "### 19.1.1 Exercises"
   ]
  },
  {
   "cell_type": "markdown",
   "id": "3",
   "metadata": {},
   "source": [
    "#### Exercise 19.1.1"
   ]
  },
  {
   "cell_type": "markdown",
   "id": "4",
   "metadata": {},
   "source": [
    "[Outline](../06_Implementing/06_4_bounded.ipynb#6.4.1-Outlining-algorithms) an algorithm to\n",
    "simulate the tournament. Indicate any necessary ADTs."
   ]
  },
  {
   "cell_type": "markdown",
   "id": "5",
   "metadata": {},
   "source": [
    "_Write your answer here._"
   ]
  },
  {
   "cell_type": "markdown",
   "id": "6",
   "metadata": {},
   "source": [
    "[Hint](../31_Hints/Hints_19_1_01.ipynb)\n",
    "[Answer](../32_Answers/Answers_19_1_01.ipynb)"
   ]
  },
  {
   "cell_type": "markdown",
   "id": "7",
   "metadata": {},
   "source": [
    "#### Exercise 19.1.2"
   ]
  },
  {
   "cell_type": "markdown",
   "id": "8",
   "metadata": {},
   "source": [
    "What's the worst-case scenario for the simulation? What is its complexity?\n",
    "State your assumptions, e.g. which data structures are used for the ADTs."
   ]
  },
  {
   "cell_type": "markdown",
   "id": "9",
   "metadata": {},
   "source": [
    "_Write your answer here._"
   ]
  },
  {
   "cell_type": "markdown",
   "id": "10",
   "metadata": {},
   "source": [
    "[Hint](../31_Hints/Hints_19_1_02.ipynb)\n",
    "[Answer](../32_Answers/Answers_19_1_02.ipynb)"
   ]
  },
  {
   "cell_type": "markdown",
   "id": "11",
   "metadata": {},
   "source": [
    "#### Exercise 19.1.3"
   ]
  },
  {
   "cell_type": "markdown",
   "id": "12",
   "metadata": {},
   "source": [
    "Add tests below and implement your algorithm."
   ]
  },
  {
   "cell_type": "code",
   "execution_count": 1,
   "id": "13",
   "metadata": {},
   "outputs": [],
   "source": [
    "from algoesup import test\n",
    "\n",
    "\n",
    "def winner(strength: list) -> int:\n",
    "    \"\"\"Return the index of the winning knight or -1 if no one wins.\n",
    "\n",
    "    Preconditions: all items in strength are positive integers\n",
    "    \"\"\"\n",
    "    pass\n",
    "\n",
    "\n",
    "winner_tests = [\n",
    "    # case,         strength,   winner\n",
    "    ('no one wins', [5, 3, 6, 2],   -1),\n",
    "    ('second wins', [5, 3, 6, 1],    1), # winner has initial strength 3\n",
    "    # your tests\n",
    "]\n",
    "\n",
    "test(winner, winner_tests)"
   ]
  },
  {
   "cell_type": "markdown",
   "id": "14",
   "metadata": {},
   "source": [
    "[Hint](../31_Hints/Hints_19_1_03.ipynb)\n",
    "[Answer](../32_Answers/Answers_19_1_03.ipynb)\n",
    "\n",
    "Once the cousin ran the simulation, he realised he wouldn't win and\n",
    "gave the king a lame excuse to chicken out of the tournament.\n",
    "According to legend, he later had an unfortunate encounter with a dragon.\n",
    "(Dragons do like chickens, especially roasted.)"
   ]
  },
  {
   "cell_type": "markdown",
   "id": "15",
   "metadata": {},
   "source": [
    "⟵ [Previous section](19-introduction.ipynb) | [Up](19-introduction.ipynb) | [Next section](19_2_product.ipynb) ⟶"
   ]
  }
 ],
 "metadata": {
  "kernelspec": {
   "display_name": "Python 3",
   "language": "python",
   "name": "python3"
  },
  "language_info": {
   "codemirror_mode": {
    "name": "ipython",
    "version": 3
   },
   "file_extension": ".py",
   "mimetype": "text/x-python",
   "name": "python",
   "nbconvert_exporter": "python",
   "pygments_lexer": "ipython3",
   "version": "3.12.10"
  }
 },
 "nbformat": 4,
 "nbformat_minor": 5
}
