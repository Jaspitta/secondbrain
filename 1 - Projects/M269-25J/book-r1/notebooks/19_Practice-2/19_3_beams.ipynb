{
 "cells": [
  {
   "cell_type": "markdown",
   "id": "0",
   "metadata": {},
   "source": [
    "## 19.3 Beams"
   ]
  },
  {
   "cell_type": "markdown",
   "id": "1",
   "metadata": {},
   "source": [
    "Bridges, buildings and other structures often use beams that are joined to form triangles,\n",
    "as they improve the stability of the structure.\n",
    "Given some points in the structure, and which ones are joined by beams,\n",
    "find the weak points, i.e. those that are not part of a triangle.\n",
    "\n",
    "For example, the set of pairs {(1,2), (1,3)} represents two beams,\n",
    "one joining points 1 and 2, the other joining points 1 and 3.\n",
    "This doesn't form a triangle, so all points are weak.\n",
    "Adding a beam to join points 2 and 3 would make all points strong.\n",
    "\n",
    "Structural points that aren't mentioned in the input don't exist. For example,\n",
    "for input {(2,3), (3,7)} report only that points 2, 3, and 7 are weak,\n",
    "and ignore points 1, 4, 5 and 6.\n",
    "\n",
    "**Function**: weak points\\\n",
    "**Inputs**: *beams*, a set of pairs of integers\\\n",
    "**Preconditions**: for every pair (*a*, *b*) in *beams*, *a* ≠ *b*\\\n",
    "**Output**: *weak*, a set of integers\\\n",
    "**Postconditions**: *weak* has exactly all integers occurring in *beams* that aren't part of a triangle"
   ]
  },
  {
   "cell_type": "markdown",
   "id": "2",
   "metadata": {},
   "source": [
    "### 19.3.1 Exercises"
   ]
  },
  {
   "cell_type": "markdown",
   "id": "3",
   "metadata": {},
   "source": [
    "#### Exercise 19.3.1"
   ]
  },
  {
   "cell_type": "markdown",
   "id": "4",
   "metadata": {},
   "source": [
    "Both examples above each comprise two beams with a common point.\n",
    "They don't form a triangle and all three points are weak.\n",
    "Which further problem instances should be tested?\n",
    "You don't have to write a test table: just describe the problem instances."
   ]
  },
  {
   "cell_type": "markdown",
   "id": "5",
   "metadata": {},
   "source": [
    "_Write your answer here._"
   ]
  },
  {
   "cell_type": "markdown",
   "id": "6",
   "metadata": {},
   "source": [
    "[Hint](../31_Hints/Hints_19_3_01.ipynb)\n",
    "[Answer](../32_Answers/Answers_19_3_01.ipynb)"
   ]
  },
  {
   "cell_type": "markdown",
   "id": "7",
   "metadata": {},
   "source": [
    "#### Exercise 19.3.2"
   ]
  },
  {
   "cell_type": "markdown",
   "id": "8",
   "metadata": {},
   "source": [
    "Which ADT(s) would you use to represent a structure made of points and beams?"
   ]
  },
  {
   "cell_type": "markdown",
   "id": "9",
   "metadata": {},
   "source": [
    "_Write your answer here._"
   ]
  },
  {
   "cell_type": "markdown",
   "id": "10",
   "metadata": {},
   "source": [
    "[Hint](../31_Hints/Hints_19_3_02.ipynb)\n",
    "[Answer](../32_Answers/Answers_19_3_02.ipynb)"
   ]
  },
  {
   "cell_type": "markdown",
   "id": "11",
   "metadata": {},
   "source": [
    "#### Exercise 19.3.3"
   ]
  },
  {
   "cell_type": "markdown",
   "id": "12",
   "metadata": {},
   "source": [
    "Outline an algorithm to solve the problem. It doesn't have to be efficient.\n",
    "You may wish to draw some points and beams to help think\n",
    "how an algorithm can detect the weak points."
   ]
  },
  {
   "cell_type": "markdown",
   "id": "13",
   "metadata": {},
   "source": [
    "_Write your answer here._"
   ]
  },
  {
   "cell_type": "markdown",
   "id": "14",
   "metadata": {},
   "source": [
    "[Hint](../31_Hints/Hints_19_3_03.ipynb)\n",
    "[Answer](../32_Answers/Answers_19_3_03.ipynb)"
   ]
  },
  {
   "cell_type": "markdown",
   "id": "15",
   "metadata": {},
   "source": [
    "#### Exercise 19.3.4"
   ]
  },
  {
   "cell_type": "markdown",
   "id": "16",
   "metadata": {},
   "source": [
    "What are the best- and worst-case scenarios for your algorithm?\n",
    "What are their complexities?"
   ]
  },
  {
   "cell_type": "markdown",
   "id": "17",
   "metadata": {},
   "source": [
    "_Write your answer here._"
   ]
  },
  {
   "cell_type": "markdown",
   "id": "18",
   "metadata": {},
   "source": [
    "[Hint](../31_Hints/Hints_19_3_04.ipynb)\n",
    "[Answer](../32_Answers/Answers_19_3_04.ipynb)"
   ]
  },
  {
   "cell_type": "markdown",
   "id": "19",
   "metadata": {},
   "source": [
    "#### Exercise 19.3.5"
   ]
  },
  {
   "cell_type": "markdown",
   "id": "20",
   "metadata": {},
   "source": [
    "Add tests according to your answers to Exercises 19.3.1 and 19.3.4,\n",
    "i.e. make sure the tests also include best- and worst-case inputs.\n",
    "Write and run the function."
   ]
  },
  {
   "cell_type": "code",
   "execution_count": 1,
   "id": "21",
   "metadata": {},
   "outputs": [],
   "source": [
    "from algoesup import test\n",
    "\n",
    "\n",
    "def weak_points(beams: set) -> set:\n",
    "    \"\"\"Return the points that aren't part of any triangle.\n",
    "\n",
    "    beams is a set of pairs of integers.\n",
    "    The output is a set of integers.\n",
    "    Each integer represents a point.\n",
    "\n",
    "    Preconditions: for every pair (a, b), a ≠ b\n",
    "    Postconditions: the output only has points occurring in beams\n",
    "    \"\"\"\n",
    "    pass\n",
    "\n",
    "\n",
    "weak_points_tests = [\n",
    "    # case,             beams,                      weak points\n",
    "    ('no triangle',     {(1,2), (3,1)},             {1, 2, 3}),\n",
    "    ('missing points',  {(7,3), (3,2)},             {2, 3, 7}),\n",
    "    # your tests:\n",
    "]\n",
    "\n",
    "test(weak_points, weak_points_tests)"
   ]
  },
  {
   "cell_type": "markdown",
   "id": "22",
   "metadata": {},
   "source": [
    "[Answer](../32_Answers/Answers_19_3_05.ipynb)"
   ]
  },
  {
   "cell_type": "markdown",
   "id": "23",
   "metadata": {},
   "source": [
    "⟵ [Previous section](19_2_product.ipynb) | [Up](19-introduction.ipynb) | [Next section](19_4_up_down.ipynb) ⟶"
   ]
  }
 ],
 "metadata": {
  "kernelspec": {
   "display_name": "Python 3",
   "language": "python",
   "name": "python3"
  },
  "language_info": {
   "codemirror_mode": {
    "name": "ipython",
    "version": 3
   },
   "file_extension": ".py",
   "mimetype": "text/x-python",
   "name": "python",
   "nbconvert_exporter": "python",
   "pygments_lexer": "ipython3",
   "version": "3.12.10"
  }
 },
 "nbformat": 4,
 "nbformat_minor": 5
}
