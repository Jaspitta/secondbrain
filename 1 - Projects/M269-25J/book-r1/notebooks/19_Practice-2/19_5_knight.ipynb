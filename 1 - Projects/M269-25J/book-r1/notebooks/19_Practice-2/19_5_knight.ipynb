{
 "cells": [
  {
   "cell_type": "markdown",
   "id": "0",
   "metadata": {},
   "source": [
    "## 19.5 A knight goes places"
   ]
  },
  {
   "cell_type": "markdown",
   "id": "1",
   "metadata": {},
   "source": [
    "And to finish off, another problem about jolly knights.\n",
    "\n",
    "In the game of chess, the board is a grid of squares and\n",
    "the knight is a piece that moves in an L-shaped way:\n",
    "it moves two squares vertically and one square horizontally,\n",
    "or two squares horizontally and one square vertically.\n",
    "\n",
    "The next figure shows a knight in row 3, column 4, and\n",
    "how many moves it takes to reach each square.\n",
    "The L-shaped lines with arrows show the four possible first moves.\n",
    "\n",
    "<p id=\"fig-19.5.1\"></p>\n",
    "\n",
    "*[Figure 19.5.1](../33_Figures/Figures_19_5.ipynb#Figure-19.5.1)*\n",
    "\n",
    "![Image 19_5_knight.png](19_5_knight.png)\n",
    "\n",
    "For example, the knight can reach the bottom left-hand corner in three moves:\n",
    "\n",
    "1. move two squares up and one to the left to row 1, column 3\n",
    "1. move two squares left and one square down to row 2, column 1\n",
    "1. move two squares down and one square left to row 4, column 0.\n",
    "\n",
    "The second move could have been to row 3, column 2 instead.\n",
    "\n",
    "Given the number of rows and columns, and the start and end squares of the\n",
    "knight, we want to know the smallest number of moves needed to reach\n",
    "the end square.\n",
    "For example, if the start and end squares are the same, the output is zero.\n",
    "You can assume the board has at least one square and that the start and end\n",
    "squares exist.\n",
    "\n",
    "The knight cannot move outside the board and then back inside,\n",
    "so for some inputs the end square may not be reachable.\n",
    "In such cases the output should be –1.\n",
    "For example, a knight cannot reach the middle square of a 3 × 3 board,\n",
    "unless it starts there.\n",
    "\n",
    "<p id=\"fig-19.5.2\"></p>\n",
    "\n",
    "*[Figure 19.5.2](../33_Figures/Figures_19_5.ipynb#Figure-19.5.2)*\n",
    "\n",
    "![Image 19_5_knight3x3.png](19_5_knight3x3.png)"
   ]
  },
  {
   "cell_type": "markdown",
   "id": "2",
   "metadata": {},
   "source": [
    "### 19.5.1 Exercises"
   ]
  },
  {
   "cell_type": "markdown",
   "id": "3",
   "metadata": {},
   "source": [
    "#### Exercise 19.5.1"
   ]
  },
  {
   "cell_type": "markdown",
   "id": "4",
   "metadata": {},
   "source": [
    "Describe some edge cases that should be tested."
   ]
  },
  {
   "cell_type": "markdown",
   "id": "5",
   "metadata": {},
   "source": [
    "_Write your answer here._"
   ]
  },
  {
   "cell_type": "markdown",
   "id": "6",
   "metadata": {},
   "source": [
    "[Hint](../31_Hints/Hints_19_5_01.ipynb)\n",
    "[Answer](../32_Answers/Answers_19_5_01.ipynb)"
   ]
  },
  {
   "cell_type": "markdown",
   "id": "7",
   "metadata": {},
   "source": [
    "#### Exercise 19.5.2"
   ]
  },
  {
   "cell_type": "markdown",
   "id": "8",
   "metadata": {},
   "source": [
    "What ADT(s) will you use to represent the board and the knight's movements?"
   ]
  },
  {
   "cell_type": "markdown",
   "id": "9",
   "metadata": {},
   "source": [
    "_Write your answer here._"
   ]
  },
  {
   "cell_type": "markdown",
   "id": "10",
   "metadata": {},
   "source": [
    "[Hint](../31_Hints/Hints_19_5_02.ipynb)\n",
    "[Answer](../32_Answers/Answers_19_5_02.ipynb)"
   ]
  },
  {
   "cell_type": "markdown",
   "id": "11",
   "metadata": {},
   "source": [
    "#### Exercise 19.5.3"
   ]
  },
  {
   "cell_type": "markdown",
   "id": "12",
   "metadata": {},
   "source": [
    "Outline an algorithm to solve the problem.\n",
    "\n",
    "[Hint](../31_Hints/Hints_19_5_03.ipynb)\n",
    "[Answer](../32_Answers/Answers_19_5_03.ipynb)"
   ]
  },
  {
   "cell_type": "markdown",
   "id": "13",
   "metadata": {},
   "source": [
    "#### Exercise 19.5.4"
   ]
  },
  {
   "cell_type": "markdown",
   "id": "14",
   "metadata": {},
   "source": [
    "Implement and test your algorithm."
   ]
  },
  {
   "cell_type": "code",
   "execution_count": 1,
   "id": "15",
   "metadata": {},
   "outputs": [],
   "source": [
    "from algoesup import test\n",
    "\n",
    "\n",
    "def knight_moves(size: tuple, start: tuple, end: tuple) -> int:\n",
    "    \"\"\"Return least number of knight moves from start to end.\n",
    "\n",
    "    Return -1 if end is not reachable from start.\n",
    "\n",
    "    Preconditions:\n",
    "    - size is a pair (rows, columns) with rows > 0 and columns > 0\n",
    "    - start and end are pairs (r, c) with 0 <= r < rows and 0 <= c < columns\n",
    "    \"\"\"\n",
    "    pass\n",
    "\n",
    "\n",
    "knight_moves_tests = [\n",
    "    # case,             size,   start,  end,    moves\n",
    "    ('1x1 board',       (1, 1), (0, 0), (0, 0),     0),\n",
    "    ('1 row, 2 cols',   (1, 2), (0, 0), (0, 1),    -1),\n",
    "    ('2 rows, 1 col',   (2, 1), (1, 0), (0, 0),    -1),\n",
    "    ('start = end',     (3, 3), (1, 1), (1, 1),     0),\n",
    "    ('bottom left',     (5, 6), (3, 4), (4, 0),     3), # figure 19.5.1\n",
    "    ('bottom right',    (5, 6), (3, 4), (4, 5),     4), # figure 19.5.1\n",
    "    ('3x3 to centre',   (3, 3), (0, 0), (1, 1),    -1), # figure 19.5.2\n",
    "]\n",
    "\n",
    "test(knight_moves, knight_moves_tests)"
   ]
  },
  {
   "cell_type": "markdown",
   "id": "16",
   "metadata": {},
   "source": [
    "[Hint](../31_Hints/Hints_19_5_04.ipynb)\n",
    "[Answer](../32_Answers/Answers_19_5_04.ipynb)"
   ]
  },
  {
   "cell_type": "markdown",
   "id": "17",
   "metadata": {},
   "source": [
    "⟵ [Previous section](19_4_up_down.ipynb) | [Up](19-introduction.ipynb) | [Next section](../20_TMA02-2/20-introduction.ipynb) ⟶"
   ]
  }
 ],
 "metadata": {
  "kernelspec": {
   "display_name": "Python 3",
   "language": "python",
   "name": "python3"
  },
  "language_info": {
   "codemirror_mode": {
    "name": "ipython",
    "version": 3
   },
   "file_extension": ".py",
   "mimetype": "text/x-python",
   "name": "python",
   "nbconvert_exporter": "python",
   "pygments_lexer": "ipython3",
   "version": "3.12.10"
  }
 },
 "nbformat": 4,
 "nbformat_minor": 5
}
