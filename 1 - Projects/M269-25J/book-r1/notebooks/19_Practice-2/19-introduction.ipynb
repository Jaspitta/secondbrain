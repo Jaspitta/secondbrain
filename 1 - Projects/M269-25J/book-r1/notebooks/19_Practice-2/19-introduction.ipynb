{
 "cells": [
  {
   "cell_type": "markdown",
   "id": "0",
   "metadata": {},
   "source": [
    "# 19 Practice 2"
   ]
  },
  {
   "cell_type": "markdown",
   "id": "1",
   "metadata": {},
   "source": [
    "This chapter introduces no new concepts, only new problems to practise\n",
    "algorithmic techniques and data structures,\n",
    "without you being told in advance which one to use.\n",
    "You should skim the advice in the [next chapter](../20_TMA02-2/20-introduction.ipynb#20-TMA-02-part-2)\n",
    "before attempting the problems.\n",
    "They are in increasing difficulty order, in my opinion.\n",
    "Each problem can be solved with a technique or data structure introduced since Chapter&nbsp;11.\n",
    "\n",
    "The advice of [Chapter&nbsp;9](../09_Practice-1/09-introduction.ipynb#9-Practice-1) applies again:\n",
    "\n",
    "- Read all problems first, to decide in which order to tackle them.\n",
    "- Don't worry if you don't finish them all: next week's TMA submission has priority.\n",
    "- Compare approaches with your study buddy.\n",
    "- Post alternative solutions to mine in the forums, with appropriate spoiler alerts.\n",
    "\n",
    "This chapter's problems support the following learning outcomes.\n",
    "\n",
    "- Develop and apply algorithms and data structures to solve computational problems – you will apply several of the ADTs and techniques you learned.\n",
    "- Explain how an algorithm or data structure works, in order to communicate with relevant stakeholders – you will be asked to describe your approach, before implementing it.\n",
    "- Analyse the complexity of algorithms to support software design choices – you will have to suggest or evaluate alternative approaches.\n",
    "- Write readable, tested, documented and efficient Python code – you will have to add tests and use Python data types and operations.\n",
    "\n",
    "Before starting to work on this chapter, check the M269\n",
    "[news](https://learn2.open.ac.uk/blocks/news/all.php?bi=326014) and [errata](https://learn2.open.ac.uk/mod/url/view.php?id=2554721),\n",
    "and check the TMAs for what is assessed."
   ]
  },
  {
   "cell_type": "markdown",
   "id": "2",
   "metadata": {
    "nbsphinx-toctree": {
     "hidden": true,
     "maxdepth": 1,
     "numbered": false
    }
   },
   "source": [
    "1. [Jousting](19_1_jousting.ipynb)\n",
    "1. [Dot product](19_2_product.ipynb)\n",
    "1. [Beams](19_3_beams.ipynb)\n",
    "1. [Up and down](19_4_up_down.ipynb)\n",
    "1. [A knight goes places](19_5_knight.ipynb)"
   ]
  },
  {
   "cell_type": "markdown",
   "id": "3",
   "metadata": {},
   "source": [
    "⟵ [Previous chapter](../18_Greed/18-introduction.ipynb) | [Up](../M269.ipynb) | [Next chapter](../20_TMA02-2/20-introduction.ipynb) ⟶"
   ]
  }
 ],
 "metadata": {
  "kernelspec": {
   "display_name": "Python 3",
   "language": "python",
   "name": "python3"
  },
  "language_info": {
   "codemirror_mode": {
    "name": "ipython",
    "version": 3
   },
   "file_extension": ".py",
   "mimetype": "text/x-python",
   "name": "python",
   "nbconvert_exporter": "python",
   "pygments_lexer": "ipython3",
   "version": "3.12.10"
  }
 },
 "nbformat": 4,
 "nbformat_minor": 5
}
