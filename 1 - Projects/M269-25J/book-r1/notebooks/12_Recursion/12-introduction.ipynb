{
 "cells": [
  {
   "cell_type": "markdown",
   "id": "0",
   "metadata": {},
   "source": [
    "# 12 Recursion"
   ]
  },
  {
   "cell_type": "markdown",
   "id": "1",
   "metadata": {},
   "source": [
    "This chapter introduces **recursion**, a programming technique\n",
    "in which a function calls itself. It has been proven that every computable\n",
    "problem can be solved with either an iterative algorithm that uses loops,\n",
    "or a recursive algorithm that doesn't. You can see recursion as a style that\n",
    "can be applied to various algorithmic techniques. For some problems,\n",
    "recursive algorithms are shorter and simpler than iterative ones.\n",
    "It's useful to know how to program recursively.\n",
    "\n",
    "There's a group of programming languages, called functional languages,\n",
    "where recursion is the main or only means of iterating,\n",
    "instead of using for- and while-loops.\n",
    "Such languages have specialised but important applications in\n",
    "telecommunications, finance and other domains.\n",
    "So another reason to have recursion in your algorithmic toolbox is to be able to use functional languages."
   ]
  },
  {
   "cell_type": "markdown",
   "id": "2",
   "metadata": {},
   "source": [
    "<div class=\"alert alert-info\">\n",
    "<strong>Info:</strong> If you're interested, the Wikipedia article on\n",
    "<a href=\"https://en.wikipedia.org/wiki/Functional_programming\">functional programming</a>\n",
    "provides a good overview and points to industrial applications.\n",
    "</div>"
   ]
  },
  {
   "cell_type": "markdown",
   "id": "3",
   "metadata": {},
   "source": [
    "For pedagogical reasons, I'll introduce recursion\n",
    "with simple examples for which it's not the best choice in Python,\n",
    "before moving on to more appropriate examples.\n",
    "Complexity analysis of recursive algorithms is explained in the next chapter.\n",
    "\n",
    "This chapter supports these learning outcomes:\n",
    "\n",
    "- Develop and apply algorithms and data structures to solve computational problems – you will learn how to design recursive algorithms.\n",
    "- Write readable, tested, documented and efficient Python code – you will learn how to write recursive functions in Python.\n",
    "\n",
    "Before starting to work on this chapter, check the M269\n",
    "[news](https://learn2.open.ac.uk/blocks/news/all.php?bi=326014) and [errata](https://learn2.open.ac.uk/mod/url/view.php?id=2554721),\n",
    "and check the TMAs for what is assessed."
   ]
  },
  {
   "cell_type": "markdown",
   "id": "4",
   "metadata": {
    "nbsphinx-toctree": {
     "hidden": true,
     "maxdepth": 1,
     "numbered": false
    }
   },
   "source": [
    "1. [The factorial function](12_1_factorial.ipynb)\n",
    "1. [Recursion on integers](12_2_integers.ipynb)\n",
    "1. [Length of a sequence](12_3_length.ipynb)\n",
    "1. [Inspecting sequences](12_4_inspect_sequences.ipynb)\n",
    "1. [Creating sequences](12_5_create_sequences.ipynb)\n",
    "1. [Avoiding slicing](12_6_avoid_slicing.ipynb)\n",
    "1. [Multiple recursion](12_7_multiple.ipynb)\n",
    "1. [Summary](12_8_summary.ipynb)"
   ]
  },
  {
   "cell_type": "markdown",
   "id": "5",
   "metadata": {},
   "source": [
    "⟵ [Previous chapter](../11_Search/11-introduction.ipynb) | [Up](../M269.ipynb) | [Next chapter](../13_Divide/13-introduction.ipynb) ⟶"
   ]
  }
 ],
 "metadata": {
  "kernelspec": {
   "display_name": "Python 3",
   "language": "python",
   "name": "python3"
  },
  "language_info": {
   "codemirror_mode": {
    "name": "ipython",
    "version": 3
   },
   "file_extension": ".py",
   "mimetype": "text/x-python",
   "name": "python",
   "nbconvert_exporter": "python",
   "pygments_lexer": "ipython3",
   "version": "3.12.10"
  }
 },
 "nbformat": 4,
 "nbformat_minor": 5
}
