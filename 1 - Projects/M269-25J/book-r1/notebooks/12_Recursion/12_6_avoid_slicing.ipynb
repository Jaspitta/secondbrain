{
 "cells": [
  {
   "cell_type": "markdown",
   "id": "0",
   "metadata": {},
   "source": [
    "## 12.6 Avoiding slicing"
   ]
  },
  {
   "cell_type": "markdown",
   "id": "1",
   "metadata": {},
   "source": [
    "Recursive algorithms that use the tail operation on arrays\n",
    "aren't very efficient because it takes linear time to slice an array.\n",
    "\n",
    "To avoid slicing, we add two parameters to the recursive function:\n",
    "the start and end indices of the slice to be processed.\n",
    "Each recursive call reduces the range of the indices instead of\n",
    "creating a new smaller sequence. In other words, we keep track of the slice\n",
    "but don't extract it from the sequence. Let's see an example."
   ]
  },
  {
   "cell_type": "markdown",
   "id": "2",
   "metadata": {},
   "source": [
    "### 12.6.1 Problem definition"
   ]
  },
  {
   "cell_type": "markdown",
   "id": "3",
   "metadata": {},
   "source": [
    "Consider the [membership function](../04_Iteration/04_1_sequences.ipynb#4.1.1.6-Membership).\n",
    "\n",
    "**Function**: membership\\\n",
    "**Inputs**: *items*, a sequence; *item*, an object\\\n",
    "**Preconditions**: true\\\n",
    "**Output**: *exists*, a Boolean\\\n",
    "**Postconditions**: *exists* is true if and only if there's an integer *index* such that *items*[*index*] = *item*\n",
    "\n",
    "A more general membership operation allows the user to specify in which\n",
    "slice of the input sequence the item should be searched.\n",
    "\n",
    "**Function**: slice membership\\\n",
    "**Inputs**: *items*, a sequence; *item*, an object; *start*, an integer; *end*, an integer\\\n",
    "**Preconditions**: 0 ≤ *start* ≤ *end* ≤ │*items*│\\\n",
    "**Output**: *exists*, a Boolean\\\n",
    "**Postconditions**: *exists* is true if and only if there's an integer *index* such that *items*[*index*] = *item* and *start* ≤ *index* < *end*\n",
    "\n",
    "This new operation can be seen as a combination of the\n",
    "[slicing](../04_Iteration/04_1_sequences.ipynb#4.1.2.1-Slicing) and membership operations.\n",
    "As such, it has the same preconditions as the slicing operation and\n",
    "follows the same convention of not including the end item in the slice.\n",
    "\n",
    "The less general membership function can now be defined more simply:\n",
    "the item exists in the sequence if it exists in\n",
    "the slice comprising the whole sequence.\n",
    "\n",
    "**Function**: membership\\\n",
    "**Inputs**: *items*, a sequence; *item*, an object\\\n",
    "**Preconditions**: true\\\n",
    "**Output**: *exists*, a Boolean\\\n",
    "**Postconditions**: *exists* = slice membership(*items*, *item*, 0, │*items*│)"
   ]
  },
  {
   "cell_type": "markdown",
   "id": "4",
   "metadata": {},
   "source": [
    "### 12.6.2 Recursive definition"
   ]
  },
  {
   "cell_type": "markdown",
   "id": "5",
   "metadata": {},
   "source": [
    "For the recursive definitions,\n",
    "I use the shorter function name 'has' instead of 'membership'.\n",
    "\n",
    "Function has(*items*, *item*) was defined as follows in\n",
    "[Section&nbsp;12.4.2](../12_Recursion/12_4_inspect_sequences.ipynb#12.4.2-Membership):\n",
    "\n",
    "- if *items* is empty: has(*items*, *item*) = false\n",
    "- otherwise if *item* is head(*items*): has(*items*, *item*) = true\n",
    "- otherwise: has(*items*, *item*) = has(tail(*items*), *item*).\n",
    "\n",
    "The new function slice\\_has(*items*, *item*, *start*, *end*) is defined in\n",
    "a similar way, but works on the slice given by the start and end indices\n",
    "instead of the whole sequence.\n",
    "The first base case is for the slice to be empty.\n",
    "\n",
    "- if *start* = *end*: slice\\_has(*items*, *item*, *start*, *end*) = false\n",
    "\n",
    "The second base case is for the head of the slice to be the sought item.\n",
    "\n",
    "- otherwise if *items*[*start*] = *item*: slice\\_has(*items*, *item*, *start*, *end*) = true\n",
    "\n",
    "The recurrence relation looks for the item in the tail of the slice, i.e.\n",
    "after the current *start* index.\n",
    "\n",
    "- otherwise: slice\\_has(*items*, *item*, *start*, *end*) = slice\\_has(*items*, *item*, *start* + 1, *end*)\n",
    "\n",
    "The recurrence relation is progressing towards the first base case,\n",
    "as it should:\n",
    "increasing the start index gets it closer to being equal to the end index."
   ]
  },
  {
   "cell_type": "markdown",
   "id": "6",
   "metadata": {},
   "source": [
    "#### Exercise 12.6.1"
   ]
  },
  {
   "cell_type": "markdown",
   "id": "7",
   "metadata": {},
   "source": [
    "Here again is the algorithmic pattern for a\n",
    "[recursive linear search](../12_Recursion/12_5_create_sequences.ipynb#12.5.2-Linear-search) that outputs\n",
    "all items from the input sequence *candidates* which satisfy some conditions."
   ]
  },
  {
   "cell_type": "markdown",
   "id": "8",
   "metadata": {},
   "source": [
    "1. if *candidates* is empty:\n",
    "   1. let *solutions* be ()\n",
    "2. otherwise:\n",
    "   1. let *solutions* be search(tail(*candidates*))\n",
    "   2. if head(*candidates*) satisfies the conditions:\n",
    "      1. let *solutions* be prepend(head(*candidates*), *solutions*)"
   ]
  },
  {
   "cell_type": "markdown",
   "id": "9",
   "metadata": {},
   "source": [
    "Modify the pattern so that it implements the function\n",
    "search(*candidates*, *start*, *end*), which only searches the slice\n",
    "*candidates*[*start*:*end*].\n",
    "The precondition is 0 ≤ *start* ≤ *end* ≤ │*numbers*│."
   ]
  },
  {
   "cell_type": "markdown",
   "id": "10",
   "metadata": {},
   "source": [
    "_Write your answer here._"
   ]
  },
  {
   "cell_type": "markdown",
   "id": "11",
   "metadata": {},
   "source": [
    "[Hint](../31_Hints/Hints_12_6_01.ipynb)\n",
    "[Answer](../32_Answers/Answers_12_6_01.ipynb)"
   ]
  },
  {
   "cell_type": "markdown",
   "id": "12",
   "metadata": {},
   "source": [
    "#### Exercise 12.6.2"
   ]
  },
  {
   "cell_type": "markdown",
   "id": "13",
   "metadata": {},
   "source": [
    "Here again is the recursive definition of the maximum operation\n",
    "on a non-empty sequence of numbers.\n",
    "\n",
    "- if length(*numbers*) = 1: maximum(*numbers*) = head(*numbers*)\n",
    "- otherwise: maximum(*numbers*) = max(head(*numbers*), maximum(tail(*numbers*)))\n",
    "\n",
    "Write a recursive definition for a function maximum(*numbers*, *start*, *end*)\n",
    "that returns the largest number in the slice *numbers*[*start*:*end*].\n",
    "The precondition is 0 ≤ *start* < *end* ≤ │*numbers*│."
   ]
  },
  {
   "cell_type": "markdown",
   "id": "14",
   "metadata": {},
   "source": [
    "_Write your answer here._"
   ]
  },
  {
   "cell_type": "markdown",
   "id": "15",
   "metadata": {},
   "source": [
    "[Hint](../31_Hints/Hints_12_6_02.ipynb)\n",
    "[Answer](../32_Answers/Answers_12_6_02.ipynb)"
   ]
  },
  {
   "cell_type": "markdown",
   "id": "16",
   "metadata": {},
   "source": [
    "### 12.6.3 Code"
   ]
  },
  {
   "cell_type": "markdown",
   "id": "17",
   "metadata": {},
   "source": [
    "The algorithm and code directly follow the recursive definition,\n",
    "so I skip the algorithm."
   ]
  },
  {
   "cell_type": "code",
   "execution_count": 1,
   "id": "18",
   "metadata": {},
   "outputs": [
    {
     "name": "stdout",
     "output_type": "stream",
     "text": [
      "Testing has...\n",
      "Tests finished: 3 passed (100%), 0 failed.\n"
     ]
    }
   ],
   "source": [
    "from algoesup import test\n",
    "\n",
    "\n",
    "def slice_has(items: list, item: object, start: int, end: int) -> bool:\n",
    "    \"\"\"Return True if and only if item is a member of slice items[start:end].\n",
    "\n",
    "    Preconditions: 0 <= start <= end <= len(items)\n",
    "    \"\"\"\n",
    "    if start == end:\n",
    "        return False\n",
    "    elif items[start] == item:\n",
    "        return True\n",
    "    else:\n",
    "        return slice_has(items, item, start + 1, end)\n",
    "\n",
    "\n",
    "def has(items: list, item: object) -> bool:\n",
    "    \"\"\"Return True if and only if item is a member of items.\"\"\"\n",
    "    return slice_has(items, item, 0, len(items))\n",
    "\n",
    "\n",
    "has_tests = [\n",
    "    # case,         items,   item,  has?\n",
    "    ('empty list',  [],         3,  False),\n",
    "    ('last member', [1, 2, 3],  3,  True),\n",
    "    ('not member',  [1, 2, 3],  4,  False),\n",
    "]\n",
    "\n",
    "test(has, has_tests)"
   ]
  },
  {
   "cell_type": "markdown",
   "id": "19",
   "metadata": {},
   "source": [
    "If for some reason we don't want to provide the `slice_has` function\n",
    "to the user, we can hide it by nesting it inside the main `has` function.\n",
    "I introduced inner functions in\n",
    "[Section&nbsp;11.3.3](../11_Search/11_3_constraints.ipynb#11.3.3-Code-and-performance)\n",
    "to test a candidate for complicated conditions.\n",
    "An inner function can access the arguments of the outer function.\n",
    "Here, the sequence being searched and the sought item are never modified,\n",
    "so we don't have to constantly pass them to each recursive call.\n",
    "The code becomes slightly shorter."
   ]
  },
  {
   "cell_type": "code",
   "execution_count": 2,
   "id": "20",
   "metadata": {},
   "outputs": [
    {
     "name": "stdout",
     "output_type": "stream",
     "text": [
      "Testing has...\n",
      "Tests finished: 3 passed (100%), 0 failed.\n"
     ]
    }
   ],
   "source": [
    "def has(items: list, item: object) -> bool:\n",
    "    \"\"\"Return True if and only if item is a member of items.\"\"\"\n",
    "\n",
    "    def in_slice(start: int, end: int) -> bool:\n",
    "        \"\"\"Return True if and only if item is in slice items[start:end].\n",
    "\n",
    "        Preconditions: 0 <= start <= end <= len(items)\n",
    "        \"\"\"\n",
    "        if start == end:\n",
    "            return False\n",
    "        elif items[start] == item:\n",
    "            return True\n",
    "        else:\n",
    "            return in_slice(start + 1, end)\n",
    "\n",
    "    return in_slice(0, len(items))\n",
    "\n",
    "\n",
    "test(has, has_tests)  # run against the same tests"
   ]
  },
  {
   "cell_type": "markdown",
   "id": "21",
   "metadata": {},
   "source": [
    "#### Exercise 12.6.3"
   ]
  },
  {
   "cell_type": "markdown",
   "id": "22",
   "metadata": {},
   "source": [
    "Implement the maximum function, as defined in the previous exercise,\n",
    "using an inner function."
   ]
  },
  {
   "cell_type": "code",
   "execution_count": 3,
   "id": "23",
   "metadata": {},
   "outputs": [],
   "source": [
    "from algoesup import test\n",
    "\n",
    "\n",
    "def maximum(numbers: list) -> int:\n",
    "    \"\"\"Return the largest number in numbers.\n",
    "\n",
    "    Preconditions: numbers is a non-empty list of integers\n",
    "    \"\"\"\n",
    "    pass\n",
    "\n",
    "\n",
    "maximum_tests = [\n",
    "    # case,             numbers,       maximum\n",
    "    ('shortest input',  [5],                5),\n",
    "    ('all equal',       [-1, -1],          -1),\n",
    "    ('ascending',       [-1, 0, 3],         3),\n",
    "    ('descending',      [4, 2, 1],          4),\n",
    "    ('unsorted',        [2, 4, 3, 4, 1],    4)\n",
    "]\n",
    "\n",
    "test(maximum, maximum_tests)"
   ]
  },
  {
   "cell_type": "markdown",
   "id": "24",
   "metadata": {},
   "source": [
    "[Answer](../32_Answers/Answers_12_6_03.ipynb)"
   ]
  },
  {
   "cell_type": "markdown",
   "id": "25",
   "metadata": {},
   "source": [
    "⟵ [Previous section](12_5_create_sequences.ipynb) | [Up](12-introduction.ipynb) | [Next section](12_7_multiple.ipynb) ⟶"
   ]
  }
 ],
 "metadata": {
  "kernelspec": {
   "display_name": "Python 3",
   "language": "python",
   "name": "python3"
  },
  "language_info": {
   "codemirror_mode": {
    "name": "ipython",
    "version": 3
   },
   "file_extension": ".py",
   "mimetype": "text/x-python",
   "name": "python",
   "nbconvert_exporter": "python",
   "pygments_lexer": "ipython3",
   "version": "3.12.10"
  }
 },
 "nbformat": 4,
 "nbformat_minor": 5
}
