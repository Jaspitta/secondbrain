{
 "cells": [
  {
   "cell_type": "markdown",
   "id": "0",
   "metadata": {},
   "source": [
    "## 12.4 Inspecting sequences"
   ]
  },
  {
   "cell_type": "markdown",
   "id": "1",
   "metadata": {},
   "source": [
    "This section shows how to\n",
    "implement other operations that inspect sequences,\n",
    "in order to illustrate some finer points of recursion."
   ]
  },
  {
   "cell_type": "markdown",
   "id": "2",
   "metadata": {},
   "source": [
    "### 12.4.1 Maximum"
   ]
  },
  {
   "cell_type": "markdown",
   "id": "3",
   "metadata": {},
   "source": [
    "Let's imagine that we have a\n",
    "[maximum function](../02_Sequence/02_2_operations.ipynb#2.2.1-On-real-numbers) max(*x*, *y*)\n",
    "that only takes two numbers.\n",
    "We can use it to find the maximum of a sequence.\n",
    "As usual, we start with the questions leading to a recursive definition.\n",
    "\n",
    "1. What's the smallest input and its output?\n",
    "2. What's the output for sequence S, given the output for the tail of S?\n",
    "\n",
    "Applied to this problem, they are:\n",
    "\n",
    "1. What's the smallest number sequence and its largest number?\n",
    "2. What's the largest number in S, knowing the largest number in the tail of S?\n",
    "\n",
    "___\n",
    "\n",
    "1. The smallest input is a sequence of length one; the output is the head.\n",
    "2. The largest number in S is the larger of the head and the largest of the tail.\n",
    "\n",
    "This is an example where the base case isn't the empty sequence,\n",
    "because the largest number of an empty sequence is undefined.\n",
    "It's also an example of a more complicated combination step that\n",
    "involves comparing the head with the solution for the tail to determine\n",
    "the solution for the whole sequence.\n",
    "\n",
    "Given that we already defined the length operation, we can use it.\n",
    "The recursive definition can be written like this:\n",
    "\n",
    "- if length(*numbers*) = 1: maximum(*numbers*) = head(*numbers*)\n",
    "- otherwise: maximum(*numbers*) = max(head(*numbers*), maximum(tail(*numbers*))).\n",
    "\n",
    "Most recursive algorithms have similar base cases, decrease and recur steps;\n",
    "it's the combination step that mostly determines what is being computed.\n",
    "The recursive definitions of sum and length in the previous section only differ\n",
    "in the combination step."
   ]
  },
  {
   "cell_type": "markdown",
   "id": "4",
   "metadata": {},
   "source": [
    "#### Exercise 12.4.1"
   ]
  },
  {
   "cell_type": "markdown",
   "id": "5",
   "metadata": {},
   "source": [
    "Complete the function header, add a docstring and write the function body,\n",
    "following the recursive definition above.\n",
    "Use Python's `len` and `max` functions and\n",
    "the `head` and `tail` functions in file  `m269_rec_list.py`."
   ]
  },
  {
   "cell_type": "code",
   "execution_count": 1,
   "id": "6",
   "metadata": {},
   "outputs": [],
   "source": [
    "from algoesup import test\n",
    "\n",
    "%run -i ../m269_rec_list\n",
    "\n",
    "\n",
    "def maximum(numbers):\n",
    "    pass\n",
    "\n",
    "\n",
    "maximum_tests = [\n",
    "    # case,             numbers,       maximum\n",
    "    ('shortest input',  [5],                5),\n",
    "    ('all equal',       [-1, -1],          -1),\n",
    "    ('ascending',       [-1, 0, 3],         3),\n",
    "    ('descending',      [4, 2, 1],          4),\n",
    "    ('unsorted',        [2, 4, 3, 4, 1],    4)\n",
    "]\n",
    "\n",
    "test(maximum, maximum_tests)"
   ]
  },
  {
   "cell_type": "markdown",
   "id": "7",
   "metadata": {},
   "source": [
    "[Answer](../32_Answers/Answers_12_4_01.ipynb)"
   ]
  },
  {
   "cell_type": "markdown",
   "id": "8",
   "metadata": {},
   "source": [
    "### 12.4.2 Membership"
   ]
  },
  {
   "cell_type": "markdown",
   "id": "9",
   "metadata": {},
   "source": [
    "Let's now turn our attention to the membership problem: has(*items*, *item*)\n",
    "is true if and only if *item* is a member of sequence *items*.\n",
    "\n",
    "I start with the usual two questions.\n",
    "\n",
    "1. What's the smallest input and the corresponding output?\n",
    "   It's the empty sequence, which doesn't have any item, so the output is false.\n",
    "2. What's the output for sequence S, given the output for the tail of S?\n",
    "   The output is true if the item is in the tail or the item is the head.\n",
    "\n",
    "The recursive definition can be written like this:\n",
    "\n",
    "- if *items* is empty: has(*items*, *item*) = false\n",
    "- otherwise: has(*items*, *item*) = has(tail(*items*), *item*) or\n",
    "  head(*items*) is *item*.\n",
    "\n",
    "This definition follows the usual base case, decrease, recur and combine steps.\n",
    "Here, the combination involves a disjunction.\n",
    "\n",
    "However, it's pointless to search the tail for the item if it's the head.\n",
    "In languages with [short-circuit disjunction](../03_Selection/03_1_booleans.ipynb#3.1.3-The-bool-type)\n",
    "we just have to swap the order of the disjunction operands.\n",
    "Another way is to make the head item a base case.\n",
    "\n",
    "- if *items* is empty: has(*items*, *item*) = false\n",
    "- otherwise if *item* is head(*items*): has(*items*, *item*) = true\n",
    "- otherwise: has(*items*, *item*) = has(tail(*items*), *item*).\n",
    "\n",
    "This example illustrates that some recursive algorithms have more than one base\n",
    "case, not just the smallest input."
   ]
  },
  {
   "cell_type": "markdown",
   "id": "10",
   "metadata": {},
   "source": [
    "<div class=\"alert alert-warning\">\n",
    "<strong>Note:</strong> A base case is any input that doesn't require a recursive call.\n",
    "</div>"
   ]
  },
  {
   "cell_type": "markdown",
   "id": "11",
   "metadata": {},
   "source": [
    "As usual, the recursive definition can be directly translated to Python code."
   ]
  },
  {
   "cell_type": "code",
   "execution_count": 2,
   "id": "12",
   "metadata": {},
   "outputs": [
    {
     "data": {
      "text/plain": [
       "False"
      ]
     },
     "execution_count": 2,
     "metadata": {},
     "output_type": "execute_result"
    }
   ],
   "source": [
    "%run -i ../m269_rec_list\n",
    "\n",
    "\n",
    "def has(items: list, item: object) -> bool:\n",
    "    \"\"\"Return True if and only if item is a member of items.\"\"\"\n",
    "    if is_empty(items):\n",
    "        return False\n",
    "    elif head(items) == item:\n",
    "        return True\n",
    "    else:\n",
    "        return has(tail(items), item)\n",
    "\n",
    "\n",
    "has([1, 3, -1], 2)"
   ]
  },
  {
   "cell_type": "markdown",
   "id": "13",
   "metadata": {},
   "source": [
    "There's no combination step after the recursive step, i.e. after calling `has`.\n",
    "When the recursive call is the last operation in a function,\n",
    "it's called **tail recursion**.\n",
    "\n",
    "When a function is tail recursive,\n",
    "the result of the recursive call is passed directly to the caller,\n",
    "which in turn passes it directly to its caller, and so on.\n",
    "Because there's no combination step, the result of the final recursive call\n",
    "can be passed directly to the first call.\n",
    "The interpreter can keep only the current frame on the stack:\n",
    "there's no point in storing all local variables of all intermediate calls,\n",
    "as they won't be used – the code does nothing after the recursive call.\n",
    "\n",
    "Tail recursion can thus be implemented in a very efficient way without\n",
    "a stack that keeps growing. The Python and Java interpreters don't do\n",
    "tail-recursion optimisation; functional language interpreters usually do\n",
    "and for other languages you may be able to turn the optimisation on or off."
   ]
  },
  {
   "cell_type": "markdown",
   "id": "14",
   "metadata": {},
   "source": [
    "#### Exercise 12.4.2"
   ]
  },
  {
   "cell_type": "markdown",
   "id": "15",
   "metadata": {},
   "source": [
    "Write a recursive definition for function ascending(*numbers*),\n",
    "which returns true if and only if each number in sequence *numbers*\n",
    "is smaller than the next number or if │*numbers*│ < 2."
   ]
  },
  {
   "cell_type": "markdown",
   "id": "16",
   "metadata": {},
   "source": [
    "- if ...: ascending(*numbers*) = ...\n",
    "- otherwise ..."
   ]
  },
  {
   "cell_type": "markdown",
   "id": "17",
   "metadata": {},
   "source": [
    "[Hint](../31_Hints/Hints_12_4_02.ipynb)\n",
    "[Answer](../32_Answers/Answers_12_4_02.ipynb)"
   ]
  },
  {
   "cell_type": "markdown",
   "id": "18",
   "metadata": {},
   "source": [
    "### 12.4.3 Indexing"
   ]
  },
  {
   "cell_type": "markdown",
   "id": "19",
   "metadata": {},
   "source": [
    "Functions with more than one argument may require several of them\n",
    "being decreased or being checked for a base case.\n",
    "\n",
    "Consider the [indexing operation](../04_Iteration/04_1_sequences.ipynb#4.1.1-Inspecting-sequences):\n",
    "return the value of a sequence *items* at a given *index*.\n",
    "Recall that the precondition is 0 ≤ *index* < │*items*│,\n",
    "which implies that the sequence can't be empty.\n",
    "\n",
    "The smallest possible inputs are *index* = 0  and a sequence with just one item.\n",
    "However, it's possible to access the first item of any non-empty sequence.\n",
    "So the base case is just *index* = 0, not that the sequence has one item.\n",
    "The corresponding output is the head.\n",
    "\n",
    "- if *index* = 0: value(*items*, *index*) = head(*items*)\n",
    "\n",
    "As for the recurrence relation, it must define the *n*-th item of a sequence\n",
    "in terms of some item of the tail: it's the *n*−1-th item,\n",
    "e.g. the fifth element of a sequence is the fourth element of its tail.\n",
    "\n",
    "- otherwise: value(*items*, *index*) = value(tail(*items*), *index* − 1)\n",
    "\n",
    "This problem illustrates that a recursive definition may only\n",
    "check one of the arguments for the base case but may have to\n",
    "decrease two or more arguments. It's also another example of tail recursion."
   ]
  },
  {
   "cell_type": "markdown",
   "id": "20",
   "metadata": {},
   "source": [
    "#### Exercise 12.4.3"
   ]
  },
  {
   "cell_type": "markdown",
   "id": "21",
   "metadata": {},
   "source": [
    "Write the code and some tests."
   ]
  },
  {
   "cell_type": "code",
   "execution_count": 3,
   "id": "22",
   "metadata": {},
   "outputs": [],
   "source": [
    "from algoesup import test\n",
    "\n",
    "%run -i ../m269_rec_list\n",
    "\n",
    "\n",
    "def value(items, index) -> ...:\n",
    "    # add type annotations and a docstring\n",
    "    pass\n",
    "\n",
    "\n",
    "value_tests = [\n",
    "    # your tests here\n",
    "]\n",
    "\n",
    "test(value, value_tests)"
   ]
  },
  {
   "cell_type": "markdown",
   "id": "23",
   "metadata": {},
   "source": [
    "[Answer](../32_Answers/Answers_12_4_03.ipynb)"
   ]
  },
  {
   "cell_type": "markdown",
   "id": "24",
   "metadata": {},
   "source": [
    "⟵ [Previous section](12_3_length.ipynb) | [Up](12-introduction.ipynb) | [Next section](12_5_create_sequences.ipynb) ⟶"
   ]
  }
 ],
 "metadata": {
  "kernelspec": {
   "display_name": "Python 3",
   "language": "python",
   "name": "python3"
  },
  "language_info": {
   "codemirror_mode": {
    "name": "ipython",
    "version": 3
   },
   "file_extension": ".py",
   "mimetype": "text/x-python",
   "name": "python",
   "nbconvert_exporter": "python",
   "pygments_lexer": "ipython3",
   "version": "3.12.10"
  }
 },
 "nbformat": 4,
 "nbformat_minor": 5
}
