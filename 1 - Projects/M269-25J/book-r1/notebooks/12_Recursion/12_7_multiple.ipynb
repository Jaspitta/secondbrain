{
 "cells": [
  {
   "cell_type": "markdown",
   "id": "0",
   "metadata": {},
   "source": [
    "## 12.7 Multiple recursion"
   ]
  },
  {
   "cell_type": "markdown",
   "id": "1",
   "metadata": {},
   "source": [
    "Recursive algorithms decrease the input to bring it 'closer' to the base case.\n",
    "So far we've reduced the size of the input collection by separating one item\n",
    "from it, and making a recursive call on the rest of the collection.\n",
    "Nothing prevents us from dividing the input in a different way,\n",
    "e.g. we could divide a sequence in two halves,\n",
    "recur into each half and then combine the subsolutions obtained."
   ]
  },
  {
   "cell_type": "markdown",
   "id": "2",
   "metadata": {},
   "source": [
    "### 12.7.1 Dividing the input"
   ]
  },
  {
   "cell_type": "markdown",
   "id": "3",
   "metadata": {},
   "source": [
    "Let's revisit the maximum of a non-empty sequence of numbers.\n",
    "You implemented the following algorithm in a\n",
    "[previous exercise](../12_Recursion/12_4_inspect_sequences.ipynb#12.4.1-Maximum):\n",
    "separate the sequence into its head and tail,\n",
    "compute the maximum of the tail and return the larger of it and the head.\n",
    "\n",
    "1. if │*numbers*│ = 1:\n",
    "   1. let *solution* be head(*numbers*)\n",
    "2. otherwise:\n",
    "   1. let *solution* be max(head(*numbers*), maximum(tail(*numbers*)))\n",
    "\n",
    "An alternative approach divides the sequence in two halves,\n",
    "computes their maxima and returns the larger of the two.\n",
    "\n",
    "1. let *n* be │*numbers*│\n",
    "1. if *n* = 1:\n",
    "   1. let *solution* be head(*numbers*)\n",
    "1. otherwise:\n",
    "   1. let *middle* be floor(*n* / 2)\n",
    "   1. let *largest left* be maximum(*numbers*[0:*middle*])\n",
    "   1. let *largest right* be maximum(*numbers*[*middle*:*n*])\n",
    "   1. let *solution* be max(*largest left*, *largest right*)\n",
    "\n",
    "Steps 3.2 and 3.3 make a recursive call each,\n",
    "on the left and right halves of the sequence.\n",
    "This algorithm involves **multiple recursion**;\n",
    "all previous algorithms were examples of **single recursion**.\n",
    "Multiple-recursion algorithms aren't tail recursive, because\n",
    "the first recursive call isn't the last operation of the algorithm.\n",
    "\n",
    "Splitting a sequence in two equal-sized (or nearly equal-sized) parts is just\n",
    "a matter of convenience because it's easy to calculate the middle index.\n",
    "It's not essential for recursion to work.\n",
    "I could have divided the sequence into a left part with one third of the items\n",
    "and a right part with the remaining two thirds of them, or any other ratio.\n",
    "I could also have divided the sequence in three parts and return the largest of\n",
    "the three maxima.\n",
    "These alternative ways of dividing the input complicate the algorithm and,\n",
    "if we're careless, make it incorrect. Consider the one versus two thirds split.\n",
    "\n",
    "3. otherwise:\n",
    "   1. let *third* be floor(*n* / 3)\n",
    "   1. let *largest left* be maximum(*numbers*[0:*third*])\n",
    "   1. let *largest right* be maximum(*numbers*[*third*:*n*])\n",
    "   1. let *solution* be max(*largest left*, *largest right*)\n",
    "\n",
    "If *n* = 2, then *third* = 0, the left part is empty and\n",
    "the right part is *numbers*.\n",
    "The right part doesn't reduce in size so the recursion doesn't stop.\n",
    "This issue can be solved by handling *n* = 2 as an additional base case."
   ]
  },
  {
   "cell_type": "markdown",
   "id": "4",
   "metadata": {},
   "source": [
    "### 12.7.2 Designing multiple recursion"
   ]
  },
  {
   "cell_type": "markdown",
   "id": "5",
   "metadata": {},
   "source": [
    "When designing algorithms with multiple recursion, the questions to ask yourself are:\n",
    "\n",
    "1. How can the input be divided in two or more parts? (decrease step)\n",
    "2. If I know the output for each part, what's the output for the whole input? (combine step)\n",
    "3. What are the smallest parts that cannot be further divided and their corresponding outputs? (base cases)\n",
    "\n",
    "Previously there were only two questions:\n",
    "first about the base cases, then about the combine step.\n",
    "The input was always decreased in the same way: remove one item or\n",
    "decrement the input integer by one.\n",
    "\n",
    "With multiple recursion there are usually several ways to decrease the input,\n",
    "some more appropriate to the problem at hand than others, and\n",
    "each may have different base cases, so it's best to think of them after\n",
    "deciding how to partition the input.\n",
    "\n",
    "Slicing a sequence in two or more parts takes linear time,\n",
    "whether the sequence is represented with an array or a linked list.\n",
    "We can reuse the technique of keeping track of the slice's start and end\n",
    "instead of extracting the slice.\n",
    "The algorithm for maximum(*numbers*, *start*, *end*) is as follows.\n",
    "\n",
    "1. if *start* + 1 = *end*:\n",
    "   1. let *solution* be *numbers*[*start*]\n",
    "2. otherwise:\n",
    "   1. let *middle* be *start* + floor((*end* – *start*) / 2)\n",
    "   1. let *largest left* be maximum(*numbers*, *start*, *middle*)\n",
    "   1. let *largest right* be maximum(*numbers*, *middle*, *end*)\n",
    "   1. let *solution* be max(*largest left*, *largest right*)\n",
    "\n",
    "Step&nbsp;2.1 obtains the middle index by adding half of the length of the slice\n",
    "to the start index. When *start* = 0 and *end* = │*numbers*│,\n",
    "the middle index is as in the earlier algorithm:\\\n",
    "*start* + floor((*end* – *start*) / 2) = floor(│*numbers*│ / 2)."
   ]
  },
  {
   "cell_type": "markdown",
   "id": "6",
   "metadata": {},
   "source": [
    "#### Exercise 12.7.1"
   ]
  },
  {
   "cell_type": "markdown",
   "id": "7",
   "metadata": {},
   "source": [
    "Write a multiple-recursive algorithm for the\n",
    "[membership function](../12_Recursion/12_6_avoid_slicing.ipynb#12.6.1-Problem-definition)\n",
    "has(*items*, *item*, *start*, *end*)."
   ]
  },
  {
   "cell_type": "markdown",
   "id": "8",
   "metadata": {},
   "source": [
    "_Write your answer here._"
   ]
  },
  {
   "cell_type": "markdown",
   "id": "9",
   "metadata": {},
   "source": [
    "[Hint](../31_Hints/Hints_12_7_01.ipynb)\n",
    "[Answer](../32_Answers/Answers_12_7_01.ipynb)"
   ]
  },
  {
   "cell_type": "markdown",
   "id": "10",
   "metadata": {},
   "source": [
    "#### Exercise 12.7.2"
   ]
  },
  {
   "cell_type": "markdown",
   "id": "11",
   "metadata": {},
   "source": [
    "Implement your algorithm of the previous exercise."
   ]
  },
  {
   "cell_type": "code",
   "execution_count": 1,
   "id": "12",
   "metadata": {},
   "outputs": [],
   "source": [
    "from algoesup import test\n",
    "\n",
    "\n",
    "def has(items: list, item: object) -> bool:\n",
    "    \"\"\"Return True if and only if item is a member of items.\"\"\"\n",
    "\n",
    "    def in_slice(start: int, end: int) -> bool:\n",
    "        \"\"\"Return True if and only if item is in slice items[start:end].\n",
    "\n",
    "        Preconditions: 0 <= start <= end <= len(items)\n",
    "        \"\"\"\n",
    "        pass\n",
    "\n",
    "    return in_slice(0, len(items))\n",
    "\n",
    "\n",
    "has_tests = [\n",
    "    # case,         items,   item,  has?\n",
    "    ('empty list',  [],         3,  False),\n",
    "    ('last member', [1, 2, 3],  3,  True),\n",
    "    ('not member',  [1, 2, 3],  4,  False),\n",
    "]\n",
    "\n",
    "test(has, has_tests)    # run against the same tests"
   ]
  },
  {
   "cell_type": "markdown",
   "id": "13",
   "metadata": {},
   "source": [
    "[Answer](../32_Answers/Answers_12_7_02.ipynb)"
   ]
  },
  {
   "cell_type": "markdown",
   "id": "14",
   "metadata": {},
   "source": [
    "⟵ [Previous section](12_6_avoid_slicing.ipynb) | [Up](12-introduction.ipynb) | [Next section](12_8_summary.ipynb) ⟶"
   ]
  }
 ],
 "metadata": {
  "kernelspec": {
   "display_name": "Python 3",
   "language": "python",
   "name": "python3"
  },
  "language_info": {
   "codemirror_mode": {
    "name": "ipython",
    "version": 3
   },
   "file_extension": ".py",
   "mimetype": "text/x-python",
   "name": "python",
   "nbconvert_exporter": "python",
   "pygments_lexer": "ipython3",
   "version": "3.12.10"
  }
 },
 "nbformat": 4,
 "nbformat_minor": 5
}
