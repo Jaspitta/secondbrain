{
 "cells": [
  {
   "cell_type": "markdown",
   "id": "0",
   "metadata": {},
   "source": [
    "## 12.5 Creating sequences"
   ]
  },
  {
   "cell_type": "markdown",
   "id": "1",
   "metadata": {},
   "source": [
    "This section shows further examples of recursion applied to sequences.\n",
    "The operations here return a new sequence, instead of a single value."
   ]
  },
  {
   "cell_type": "markdown",
   "id": "2",
   "metadata": {},
   "source": [
    "### 12.5.1 Prepend"
   ]
  },
  {
   "cell_type": "markdown",
   "id": "3",
   "metadata": {},
   "source": [
    "Sequences are decomposed into a head and a tail;\n",
    "therefore they can be composed using prepend (insert at index&nbsp;0).\n",
    "The recursive definition of a sequence can be restated as:\n",
    "\n",
    "> A sequence S is either empty or prepend(head(S), tail(S)).\n",
    "\n",
    "I put the sequence as the second argument of the prepend operation to\n",
    "reinforce that the prepended item comes first in the output sequence.\n",
    "The operation can be implemented in two ways, depending on whether\n",
    "we want to modify the sequence ...\n",
    "```python\n",
    "def prepend(item: object, items: list) -> None:\n",
    "    items.insert(0, item)\n",
    "```\n",
    "... or create a new one. I'll take that approach."
   ]
  },
  {
   "cell_type": "code",
   "execution_count": 1,
   "id": "4",
   "metadata": {},
   "outputs": [],
   "source": [
    "# this code is also in m269_rec_list.py\n",
    "\n",
    "\n",
    "def prepend(item: object, items: list) -> list:\n",
    "    \"\"\"Return a new list with item as head and items as tail.\"\"\"\n",
    "    return [item] + items"
   ]
  },
  {
   "cell_type": "markdown",
   "id": "5",
   "metadata": {},
   "source": [
    "### 12.5.2 Linear search"
   ]
  },
  {
   "cell_type": "markdown",
   "id": "6",
   "metadata": {},
   "source": [
    "[Section&nbsp;12.4.1](../12_Recursion/12_4_inspect_sequences.ipynb#12.4.1-Maximum) showed a recursive way of\n",
    "finding the maximum number in a sequence.\n",
    "The same approach can be used to implement a linear search for all\n",
    "candidates that satisfy some conditions. Let's take the questions in order:\n",
    "\n",
    "1. What's the smallest input and the corresponding output?\n",
    "\n",
    "The smallest input is the empty sequence and so is the output.\n",
    "\n",
    "2. If we know the output for the tail of S, what's the output for S?\n",
    "\n",
    "If we found all matching items in the tail, then we must prepend the head\n",
    "if it also satisfies the conditions.\n",
    "Otherwise, the solutions for S are just the solutions for the tail of S.\n",
    "By using prepend, the solutions are in the same order as the candidates.\n",
    "\n",
    "The recursive definition is:\n",
    "\n",
    "- if *candidates* is empty: search(*candidates*) = ()\n",
    "- otherwise if head(*candidates*) doesn't satisfy the conditions: search(*candidates*) = search(tail(*candidates*))\n",
    "- otherwise: search(*candidates*) = prepend(head(*candidates*), search(tail(*candidates*))).\n",
    "\n",
    "The algorithmic pattern is a direct translation of the definition:\n",
    "\n",
    "1. if *candidates* is empty:\n",
    "   1. let *solutions* be ()\n",
    "2. otherwise:\n",
    "   1. if head(*candidates*) doesn't satisfy the conditions:\n",
    "      1. let *solutions* be search(tail(*candidates*))\n",
    "   2. otherwise:\n",
    "      1. let *solutions* be prepend(head(*candidates*), search(tail(*candidates*))).\n",
    "\n",
    "Step&nbsp;2.2.1 decreases the input, recurs and combines the head with\n",
    "the solution for the tail, while step&nbsp;2.1.1 doesn't do any combination.\n",
    "A slightly shorter version of step&nbsp;2 is:\n",
    "\n",
    "2. otherwise:\n",
    "   1. let *solutions* be search(tail(*candidates*))\n",
    "   2. if head(*candidates*) satisfies the conditions:\n",
    "      1. let *solutions* be prepend(head(*candidates*), *solutions*)"
   ]
  },
  {
   "cell_type": "markdown",
   "id": "7",
   "metadata": {},
   "source": [
    "#### Exercise 12.5.1"
   ]
  },
  {
   "cell_type": "markdown",
   "id": "8",
   "metadata": {},
   "source": [
    "Use the above pattern (either version of step&nbsp;2) to implement a Python function\n",
    "that returns all positive numbers in a sequence in the order they occur.\n",
    "Add tests."
   ]
  },
  {
   "cell_type": "code",
   "execution_count": 2,
   "id": "9",
   "metadata": {},
   "outputs": [],
   "source": [
    "from algoesup import test\n",
    "\n",
    "%run -i ../m269_rec_list\n",
    "\n",
    "\n",
    "def positive(numbers: list) -> list:\n",
    "    \"\"\"Return a new list of all positive numbers in the input.\n",
    "\n",
    "    Preconditions: all elements of numbers are integers or floats\n",
    "    Postconditions:\n",
    "    the output's elements are in the same order as in the input\n",
    "    \"\"\"\n",
    "    pass\n",
    "\n",
    "\n",
    "positive_tests = [\n",
    "    # case,             numbers,        positive\n",
    "    ('shortest input',  [],             []),\n",
    "    # new tests:\n",
    "]\n",
    "\n",
    "test(positive, positive_tests)"
   ]
  },
  {
   "cell_type": "markdown",
   "id": "10",
   "metadata": {},
   "source": [
    "[Hint](../31_Hints/Hints_12_5_01.ipynb)\n",
    "[Answer](../32_Answers/Answers_12_5_01.ipynb)"
   ]
  },
  {
   "cell_type": "markdown",
   "id": "11",
   "metadata": {},
   "source": [
    "### 12.5.3 Append and insert"
   ]
  },
  {
   "cell_type": "markdown",
   "id": "12",
   "metadata": {},
   "source": [
    "Other basic operations that construct sequences can be defined in terms of\n",
    "prepend, e.g. the append(*items*, *item*) operation,\n",
    "which produces a new sequence with *item* at the end.\n",
    "\n",
    "Obtaining a recursive definition is the same old story.\n",
    "I first think about the smallest input and its output.\n",
    "For this operation, the base case is the empty sequence.\n",
    "The output is a sequence with the given item only.\n",
    "Appending an item to an empty sequence is the same as prepending it.\n",
    "\n",
    "As for the non-empty case, if I've appended the item to the tail,\n",
    "I only need to put the head back on at the start. The definition is:\n",
    "\n",
    "- if *items* is empty: append(*items*, *item*) = prepend(*item*, *items*)\n",
    "- otherwise: append(*items*, *item*) = prepend(head(*items*), append(tail(*items*), *item*))."
   ]
  },
  {
   "cell_type": "markdown",
   "id": "13",
   "metadata": {},
   "source": [
    "#### Exercise 12.5.2"
   ]
  },
  {
   "cell_type": "markdown",
   "id": "14",
   "metadata": {},
   "source": [
    "Define operation reverse(*items*) recursively, using the append function.\n",
    "For example, reverse( (1, 2, 3) ) = (3, 2, 1) and reverse( () ) = ()."
   ]
  },
  {
   "cell_type": "markdown",
   "id": "15",
   "metadata": {},
   "source": [
    "_Write your answer here._"
   ]
  },
  {
   "cell_type": "markdown",
   "id": "16",
   "metadata": {},
   "source": [
    "[Hint](../31_Hints/Hints_12_5_02.ipynb)\n",
    "[Answer](../32_Answers/Answers_12_5_02.ipynb)"
   ]
  },
  {
   "cell_type": "markdown",
   "id": "17",
   "metadata": {},
   "source": [
    "#### Exercise 12.5.3"
   ]
  },
  {
   "cell_type": "markdown",
   "id": "18",
   "metadata": {},
   "source": [
    "Define insert(*items*, *item*, *index*) recursively, using prepend.\n",
    "For example, insert( (1, 2), 1.5, 1) = (1, 1.5, 2).\n",
    "Assume 0 ≤ *index* < │*items*│."
   ]
  },
  {
   "cell_type": "markdown",
   "id": "19",
   "metadata": {},
   "source": [
    "_Write your answer here._"
   ]
  },
  {
   "cell_type": "markdown",
   "id": "20",
   "metadata": {},
   "source": [
    "[Hint](../31_Hints/Hints_12_5_03.ipynb)\n",
    "[Answer](../32_Answers/Answers_12_5_03.ipynb)"
   ]
  },
  {
   "cell_type": "markdown",
   "id": "21",
   "metadata": {},
   "source": [
    "⟵ [Previous section](12_4_inspect_sequences.ipynb) | [Up](12-introduction.ipynb) | [Next section](12_6_avoid_slicing.ipynb) ⟶"
   ]
  }
 ],
 "metadata": {
  "kernelspec": {
   "display_name": "Python 3",
   "language": "python",
   "name": "python3"
  },
  "language_info": {
   "codemirror_mode": {
    "name": "ipython",
    "version": 3
   },
   "file_extension": ".py",
   "mimetype": "text/x-python",
   "name": "python",
   "nbconvert_exporter": "python",
   "pygments_lexer": "ipython3",
   "version": "3.12.10"
  }
 },
 "nbformat": 4,
 "nbformat_minor": 5
}
