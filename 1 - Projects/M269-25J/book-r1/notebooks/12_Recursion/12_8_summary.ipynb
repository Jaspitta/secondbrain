{
 "cells": [
  {
   "cell_type": "markdown",
   "id": "0",
   "metadata": {},
   "source": [
    "## 12.8 Summary"
   ]
  },
  {
   "cell_type": "markdown",
   "id": "1",
   "metadata": {},
   "source": [
    "A function (in the mathematical sense) can be defined recursively with\n",
    "one or more **base cases**, for which the output can be directly computed, and\n",
    "one or more **recurrence relations**, which define how the output is obtained by\n",
    "applying the same function (hence the adjective 'recursive')\n",
    "to one or more parts of the input.\n",
    "\n",
    "A **recursive algorithm** does the following:\n",
    "\n",
    "- check if the input is a base case and, if so, compute the output and stop\n",
    "- divide the input into smaller parts\n",
    "- recur over one or more parts to solve the problem for those smaller instances\n",
    "- combine the partial solutions with the parts not recurred over to obtain the solution for the problem.\n",
    "\n",
    "A **single-recursion** algorithm only recurs over one part;\n",
    "a **multiple-recursion** algorithm recurs over two or more parts.\n",
    "\n",
    "If the input is a collection of items,\n",
    "a single-recursion algorithm usually partitions it into\n",
    "an item and the rest of the collection, and recurs over the latter.\n",
    "A multiple-recursion algorithm usually partitions the input collection in\n",
    "two halves, and recurs over both.\n",
    "\n",
    "A single-recursion algorithm is **tail recursive** if\n",
    "the recursive call is the last operation of the algorithm.\n",
    "\n",
    "A sequence can be defined recursively as either being empty (the base case),\n",
    "or by prepending an item (the **head**) to a shorter sequence (the **tail**).\n",
    "This allows us to define algorithms on sequences recursively.\n",
    "File `m269_rec_list.py` provides functions `is_empty`, `head`, `tail` and\n",
    "`prepend` for Python lists.\n",
    "\n",
    "Obtaining the tail of an array or partitioning a sequence in two or more parts\n",
    "requires linear-time slicing. We can avoid it by passing to each recursive call\n",
    "the start and end indices of the slice to be processed.\n",
    "\n",
    "A programming language interpreter executes functions with the help of a\n",
    "**call stack** where the information about each suspended function call is stored\n",
    "in a so called **stack frame**,\n",
    "so that the suspended function can be resumed after the current call ends.\n",
    "A recursive call is a call to the same function that is currently executing.\n",
    "\n",
    "There is limited space for the call stack, so making many recursive calls\n",
    "will lead to an error. This happens especially for recursive algorithms that\n",
    "decrease large inputs only by one item at a time.\n",
    "Some interpreters (but not for Python) can\n",
    "execute tail-recursive functions without increasing the call stack."
   ]
  },
  {
   "cell_type": "markdown",
   "id": "2",
   "metadata": {},
   "source": [
    "⟵ [Previous section](12_7_multiple.ipynb) | [Up](12-introduction.ipynb) | [Next section](../13_Divide/13-introduction.ipynb) ⟶"
   ]
  }
 ],
 "metadata": {
  "kernelspec": {
   "display_name": "Python 3",
   "language": "python",
   "name": "python3"
  },
  "language_info": {
   "codemirror_mode": {
    "name": "ipython",
    "version": 3
   },
   "file_extension": ".py",
   "mimetype": "text/x-python",
   "name": "python",
   "nbconvert_exporter": "python",
   "pygments_lexer": "ipython3",
   "version": "3.12.10"
  }
 },
 "nbformat": 4,
 "nbformat_minor": 5
}
