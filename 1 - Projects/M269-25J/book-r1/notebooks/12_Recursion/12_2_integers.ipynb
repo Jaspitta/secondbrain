{
 "cells": [
  {
   "cell_type": "markdown",
   "id": "0",
   "metadata": {},
   "source": [
    "## 12.2 Recursion on integers"
   ]
  },
  {
   "cell_type": "markdown",
   "id": "1",
   "metadata": {},
   "source": [
    "Let's step back from the factorial example and see\n",
    "how to design a recursive algorithm on integers.\n",
    "Consider a problem on an integer *n* with precondition *n* ≥ *lowest*.\n",
    "Computing the factorial is such a problem, with *lowest* = 0."
   ]
  },
  {
   "cell_type": "markdown",
   "id": "2",
   "metadata": {},
   "source": [
    "### 12.2.1 Algorithm"
   ]
  },
  {
   "cell_type": "markdown",
   "id": "3",
   "metadata": {},
   "source": [
    "A recursive algorithm repeatedly decreases *n* by one each time,\n",
    "until it can't be further decreased, i.e. until the input is *lowest*.\n",
    "At that point we reached the base case and the answer is directly computed.\n",
    "Then, the output for *lowest* is used to obtain the answer for *lowest* + 1.\n",
    "That output is then used to obtain the output for *lowest* + 2 and so on,\n",
    "until we get the output for the original input *n*.\n",
    "\n",
    "The algorithmic pattern for a recursive decrease by one function f(*n*) is:\n",
    "\n",
    "1. if *n* = *lowest*:\n",
    "   1. let *solution* be ...\n",
    "3. otherwise:\n",
    "   1. let *subproblem* be *n*−1\n",
    "   1. let *subsolution* be f(*subproblem*)\n",
    "   2. let *solution* be based on *subsolution* and *n*\n",
    "\n",
    "The algorithm first checks for the base case (step&nbsp;1) and\n",
    "computes the output directly (step&nbsp;1.1).\n",
    "Otherwise, the algorithm decreases the input (step&nbsp;2.1), makes a recursive call\n",
    "to solve the smaller subproblem (step&nbsp;2.2),\n",
    "and finally combines the 'subsolution' (the solution for the subproblem)\n",
    "with *n* to get the solution for the original problem (step&nbsp;2.3).\n",
    "As you shall see, for some problems the solution can be computed from the\n",
    "subsolution only, without using the value of *n*, but that's rare.\n",
    "\n",
    "To sum up, a recursive algorithm usually consists of four steps:\n",
    "\n",
    "- check and compute the base case\n",
    "- decrease the input\n",
    "- recur\n",
    "- combine.\n",
    "\n",
    "If the last three steps are simple and short,\n",
    "they are merged into a single expression, as done for the factorial.\n",
    "\n",
    "The second step usually decreases the input by one to make sure\n",
    "it reaches the base case. For example, if *lowest* = 3 and\n",
    "the input were decreased by two at a time,\n",
    "then the recursion wouldn't stop for any even *n*,\n",
    "because the successive inputs would be ..., 4, 2, 0, −2, −4, ..."
   ]
  },
  {
   "cell_type": "markdown",
   "id": "4",
   "metadata": {},
   "source": [
    "### 12.2.2 Recursive definition"
   ]
  },
  {
   "cell_type": "markdown",
   "id": "5",
   "metadata": {},
   "source": [
    "To fill in the algorithmic pattern, you only need to come up with\n",
    "the recursive definition and for that you need to answer just two questions:\n",
    "\n",
    "1. What's the lowest value for the input and what's the corresponding output?\n",
    "2. If I know the output for *n*−1, how can I use it to compute the output for *n*?\n",
    "\n",
    "The recursive definition for function f is then:\n",
    "\n",
    "- if *n* = *lowest*: f(*n*) = output\n",
    "- if *n* > *lowest*: f(*n*) = some expression based on f(*n*−1) and *n*.\n",
    "\n",
    "Not all problems on integers can be defined recursively. For example,\n",
    "as far as I know there's no recursive definition for being prime, because\n",
    "whether *n*−1 is prime doesn't in general provide a clue about whether *n* is prime.\n",
    "So for this example, it's not possible, at least without advanced mathematical knowledge,\n",
    "to answer question 2 above."
   ]
  },
  {
   "cell_type": "markdown",
   "id": "6",
   "metadata": {},
   "source": [
    "#### Exercise 12.2.1"
   ]
  },
  {
   "cell_type": "markdown",
   "id": "7",
   "metadata": {},
   "source": [
    "Write a recursive definition of whether a positive integer is even,\n",
    "i.e. divisible by two."
   ]
  },
  {
   "cell_type": "markdown",
   "id": "8",
   "metadata": {},
   "source": [
    "- if *n* = ...: even(*n*) = ...\n",
    "- if *n* > ...: even(*n*) = ..."
   ]
  },
  {
   "cell_type": "markdown",
   "id": "9",
   "metadata": {},
   "source": [
    "[Hint](../31_Hints/Hints_12_2_01.ipynb)\n",
    "[Answer](../32_Answers/Answers_12_2_01.ipynb)"
   ]
  },
  {
   "cell_type": "markdown",
   "id": "10",
   "metadata": {},
   "source": [
    "#### Exercise 12.2.2"
   ]
  },
  {
   "cell_type": "markdown",
   "id": "11",
   "metadata": {},
   "source": [
    "Implement it and add more tests. Add print statements if you wish."
   ]
  },
  {
   "cell_type": "code",
   "execution_count": 1,
   "id": "12",
   "metadata": {},
   "outputs": [],
   "source": [
    "from algoesup import test\n",
    "\n",
    "\n",
    "def even(n: int) -> bool:\n",
    "    \"\"\"Write the docstring here.\"\"\"\n",
    "    pass\n",
    "\n",
    "\n",
    "even_tests = [\n",
    "    # case,             n,      even?\n",
    "    ('smallest even',   2,      True),\n",
    "    ('larger even',     100,    True),\n",
    "    # your tests here\n",
    "]\n",
    "\n",
    "test(even, even_tests)"
   ]
  },
  {
   "cell_type": "markdown",
   "id": "13",
   "metadata": {},
   "source": [
    "[Answer](../32_Answers/Answers_12_2_02.ipynb)"
   ]
  },
  {
   "cell_type": "markdown",
   "id": "14",
   "metadata": {},
   "source": [
    "⟵ [Previous section](12_1_factorial.ipynb) | [Up](12-introduction.ipynb) | [Next section](12_3_length.ipynb) ⟶"
   ]
  }
 ],
 "metadata": {
  "kernelspec": {
   "display_name": "Python 3",
   "language": "python",
   "name": "python3"
  },
  "language_info": {
   "codemirror_mode": {
    "name": "ipython",
    "version": 3
   },
   "file_extension": ".py",
   "mimetype": "text/x-python",
   "name": "python",
   "nbconvert_exporter": "python",
   "pygments_lexer": "ipython3",
   "version": "3.12.10"
  }
 },
 "nbformat": 4,
 "nbformat_minor": 5
}
