{
 "cells": [
  {
   "cell_type": "markdown",
   "id": "0",
   "metadata": {},
   "source": [
    "## 14.1 Preliminaries"
   ]
  },
  {
   "cell_type": "markdown",
   "id": "1",
   "metadata": {},
   "source": [
    "This section introduces the problem and the terminology used\n",
    "in the rest of the chapter."
   ]
  },
  {
   "cell_type": "markdown",
   "id": "2",
   "metadata": {},
   "source": [
    "### 14.1.1 Problem"
   ]
  },
  {
   "cell_type": "markdown",
   "id": "3",
   "metadata": {},
   "source": [
    "The problem to be solved is to put the items of an input sequence in ascending\n",
    "order; more precisely, in non-decreasing order, because items may be duplicated.\n",
    "For example, if the input is (1, 3, 2, 4, 2), the output is (1, 2, 2, 3, 4).\n",
    "Sorting in descending order can be done with the same algorithm,\n",
    "but using the opposite comparison, so we won't consider it further.\n",
    "I'll use 'ascending' to mean 'non-decreasing'\n",
    "because the latter is a bit of a mouthful.\n",
    "\n",
    "Imagine the items represent playing cards, with\n",
    "a value (ace, two, ..., ten, jack, queen, king) and\n",
    "a suit (clubs, diamonds, hearts, spades).\n",
    "Depending on the game played, we may wish to sort just by suit, just by value,\n",
    "by both, by colour (spades and clubs are black, hearts and diamonds are red)\n",
    "or even by a bespoke order. For example, depending on the game, the highest\n",
    "card in a suit may be the ace, the king, the seven or something else.\n",
    "\n",
    "To allow the same items to be sorted in many different ways, we'll assume\n",
    "the user provides a function that computes a key for any given item.\n",
    "The problem then consists of putting items in ascending order of their keys.\n",
    "The keys must be of a comparable type, like integers or strings:\n",
    "otherwise it's impossible to sort them.\n",
    "\n",
    "For example, to sort cards by value, from ace up to king,\n",
    "one possible function is:\n",
    "\n",
    "$$\\text{key}(value, suit) = \\begin{cases}\n",
    "1       & \\text{if } value = \\text{ace} \\\\\n",
    "11      & \\text{if } value = \\text{jack} \\\\\n",
    "12      & \\text{if } value = \\text{queen} \\\\\n",
    "13      & \\text{if } value = \\text{king} \\\\\n",
    "value   & \\text{otherwise}\n",
    "\\end{cases}$$\n",
    "\n",
    "This key function ignores the suit.\n",
    "If the ace is the highest instead of the lowest card, then\n",
    "the function must return a value higher than 13 for an ace.\n",
    "There are infinitely many possible functions, as long as\n",
    "key(2, *suit*) < key(3, *suit*) < ... < key(king, *suit*) < key(ace, *suit*).\n",
    "\n",
    "There are two versions of the sorting problem.\n",
    "One creates a new sorted sequence.\n",
    "In the following definition and the rest of this chapter,\n",
    "*n* is the length of the input sequence.\n",
    "\n",
    "**Function**: create ascending sequence \\\n",
    "**Inputs**: *unsorted*, a sequence; *key*, a function of object to object\\\n",
    "**Preconditions**: *key*(*a*) and *key*(*b*) are comparable for\n",
    "any *a* and *b* in *unsorted*\\\n",
    "**Output**: *sorted*, a sequence \\\n",
    "**Postconditions**:\n",
    "\n",
    "- *sorted* is a permutation of *unsorted*\n",
    "- *key*(*sorted*[*i*]) ≤ *key*(*sorted*[*j*]) for every 0 ≤ *i* < *j* < *n*\n",
    "\n",
    "The first postcondition states that the output has the same items as the input.\n",
    "The second postcondition could be stated as\n",
    "*key*(*sorted*[0]) ≤ *key*(*sorted*[1]) ≤ ... ≤ *key*(*sorted*[*n*−1]).\n",
    "\n",
    "The second version modifies the input sequence.\n",
    "\n",
    "**Operation**: put in ascending order \\\n",
    "**Input/Output**: *items*, a sequence\\\n",
    "**Inputs**: *key*, a function of object to object\\\n",
    "**Preconditions**: *key*(*a*) and *key*(*b*) are comparable for\n",
    "any *a* and *b* in *items*\\\n",
    "**Postconditions**:\n",
    "\n",
    "- post-*items* is a permutation of pre-*items*\n",
    "- *key*(post-*items*[*i*]) ≤ *key*(post-*items*[*j*]) for every 0 ≤ *i* < *j* < *n*\n",
    "\n",
    "The rest of this chapter assumes that sequences are represented as arrays,\n",
    "so that algorithms can efficiently access any item in the sequence."
   ]
  },
  {
   "cell_type": "markdown",
   "id": "4",
   "metadata": {},
   "source": [
    "### 14.1.2 Problem instances"
   ]
  },
  {
   "cell_type": "markdown",
   "id": "5",
   "metadata": {},
   "source": [
    "To test the sorting algorithms to be presented, I'll use playing cards,\n",
    "each represented by a string of length&nbsp;2, e.g. 'AS' (ace of spades),\n",
    "'7H' (seven of hearts) and 'TD' (ten of diamonds).\n",
    "\n",
    "Many other representations of cards are possible.\n",
    "Some are easier for a user to understand;\n",
    "others make key functions easier to implement.\n",
    "I chose this one because it makes tests quick to type and easy to understand.\n",
    "It's up to the key function to transform a user-friendly representation into\n",
    "a sortable key.\n",
    "I define three key functions:\n",
    "\n",
    "- A key function that returns the value of a card as an integer from 1 to 13\n",
    "  allows us to sort the cards by ascending value.\n",
    "- A key function that returns the suit of a card allows us to sort cards\n",
    "  alphabetically by suit: clubs, diamonds, hearts, spades.\n",
    "- A key function that returns the suit–value pair allows us to sort the cards\n",
    "  first alphabetically by suit and within the same suit by ascending value,\n",
    "  due to the [lexicographic comparison](../04_Iteration/04_1_sequences.ipynb#4.1.1.7-Comparison) of pairs."
   ]
  },
  {
   "cell_type": "code",
   "execution_count": 1,
   "id": "6",
   "metadata": {},
   "outputs": [],
   "source": [
    "# this code is also in m269_sorting.py\n",
    "\n",
    "\n",
    "def suit(card: str) -> str:\n",
    "    \"\"\"Return the second character of the card.\n",
    "\n",
    "    Preconditions: card has two characters;\n",
    "    the first is 'A', '2' to '9', 'T', 'J', 'Q' or 'K'\n",
    "    the second is 'C', 'D', 'H' or 'S'\n",
    "    \"\"\"\n",
    "    return card[1]\n",
    "\n",
    "\n",
    "VALUES = \"A23456789TJQK\"\n",
    "\n",
    "\n",
    "def value(card: str) -> int:\n",
    "    \"\"\"Return the value of the card.\n",
    "\n",
    "    Preconditions: as for function 'suit'\n",
    "    Postconditions: the output is 1 to 13 respectively for\n",
    "    'A', '2' to '9', 'T', 'J', 'Q', 'K'\n",
    "    \"\"\"\n",
    "    for index in range(len(VALUES)):\n",
    "        if VALUES[index] == card[0]:\n",
    "            return index + 1  # return 1—13, not 0—12\n",
    "\n",
    "\n",
    "def suit_value(card: str) -> tuple:\n",
    "    \"\"\"Return a tuple with the suit and value of the card.\n",
    "\n",
    "    Preconditions: as for function 'suit'\n",
    "    \"\"\"\n",
    "    return (suit(card), value(card))"
   ]
  },
  {
   "cell_type": "code",
   "execution_count": 2,
   "id": "7",
   "metadata": {},
   "outputs": [
    {
     "data": {
      "text/plain": [
       "('D', 10)"
      ]
     },
     "execution_count": 2,
     "metadata": {},
     "output_type": "execute_result"
    }
   ],
   "source": [
    "suit_value(\"TD\")"
   ]
  },
  {
   "cell_type": "markdown",
   "id": "8",
   "metadata": {},
   "source": [
    "I can now write a few tests, using Python lists for the sequences.\n",
    "These tests will only work for the first version of the problem,\n",
    "where the sorting function returns a sorted sequence."
   ]
  },
  {
   "cell_type": "code",
   "execution_count": 3,
   "id": "9",
   "metadata": {},
   "outputs": [],
   "source": [
    "# this code is also in m269_sorting.py\n",
    "\n",
    "UP_DOWN = [\"AS\", \"3H\", \"QD\", \"KC\"]  # ascending values, descending suits\n",
    "SAME_VALUE = [\"TD\", \"TS\", \"TH\", \"TC\"]\n",
    "\n",
    "sorting_tests = [\n",
    "    # case,        unsorted,           key, sorted\n",
    "    ('empty list', [],          suit_value, []),\n",
    "    ('1 card',     ['AS'],      suit_value, ['AS']),\n",
    "    ('same cards', ['6D','6D'], suit_value, ['6D','6D']),\n",
    "    ('3 cards',    ['JC','8D','TS'], value, ['8D','TS','JC']),\n",
    "    ('values up',  UP_DOWN,          value, UP_DOWN),\n",
    "    ('suits down', UP_DOWN,           suit, ['KC','QD','3H','AS']),\n",
    "    ('same value', SAME_VALUE,  suit_value, ['TC','TD','TH','TS']),\n",
    "]"
   ]
  },
  {
   "cell_type": "markdown",
   "id": "10",
   "metadata": {},
   "source": [
    "To check the test table, I must tell `check_tests` that the 'key' argument is a function.\n",
    "In Python, functions are objects of type `Callable`, defined in the `typing` module."
   ]
  },
  {
   "cell_type": "code",
   "execution_count": 4,
   "id": "11",
   "metadata": {},
   "outputs": [
    {
     "name": "stdout",
     "output_type": "stream",
     "text": [
      "OK: the test table passed the automatic checks.\n"
     ]
    }
   ],
   "source": [
    "from typing import Callable\n",
    "from algoesup import check_tests\n",
    "\n",
    "check_tests(sorting_tests, [list, Callable, list])"
   ]
  },
  {
   "cell_type": "markdown",
   "id": "12",
   "metadata": {},
   "source": [
    "To measure the performance of sorting algorithms we need long sequences,\n",
    "but there are only 52 cards. I'll use long sequences of integers.\n",
    "Integers can be compared, so a key function\n",
    "that returns the item itself suffices.\n",
    "A function that returns its input is called the identity function."
   ]
  },
  {
   "cell_type": "code",
   "execution_count": 5,
   "id": "13",
   "metadata": {},
   "outputs": [],
   "source": [
    "# this code is also in m269_sorting.py\n",
    "\n",
    "\n",
    "def identity(item: object) -> object:\n",
    "    \"\"\"Return the item, i.e. the key is the whole item.\"\"\"\n",
    "    return item"
   ]
  },
  {
   "cell_type": "markdown",
   "id": "14",
   "metadata": {},
   "source": [
    "### 14.1.3 Algorithms"
   ]
  },
  {
   "cell_type": "markdown",
   "id": "15",
   "metadata": {},
   "source": [
    "An algorithm is **in-place** if it doesn't use any additional memory,\n",
    "other than the call stack and a fixed number of local variables\n",
    "for individual items in the sequence, for indices, Booleans, etc.\n",
    "For example, finding a pair of items that add up to a given amount can be done\n",
    "in-place with an exhaustive search (nested loop) for all pairs, or\n",
    "not in-place, with an additional map as in an [earlier exercise](../09_Practice-1/09_3_voucher.ipynb#9.3-Voucher).\n",
    "\n",
    "Sorting algorithms that return a new sorted sequence aren't in-place.\n",
    "Those that modify the input sequence are usually in-place, but if an algorithm\n",
    "would create a temporary new sorted sequence and then copy the items\n",
    "to the input sequence, it wouldn't be in-place."
   ]
  },
  {
   "cell_type": "markdown",
   "id": "16",
   "metadata": {},
   "source": [
    "### 14.1.4 Sorting in Python"
   ]
  },
  {
   "cell_type": "markdown",
   "id": "17",
   "metadata": {},
   "source": [
    "You've seen in [Chapter&nbsp;4](../04_Iteration/04_6_lists.ipynb#4.6-Lists) that Python has a `sorted` function which\n",
    "returns a sorted list from a given sequence and\n",
    "a list method `sort` which modifies the list.\n",
    "The method sorts the input sequence in-place; the function doesn't.\n",
    "Both can take an argument indicating which key function to use."
   ]
  },
  {
   "cell_type": "code",
   "execution_count": 6,
   "id": "18",
   "metadata": {},
   "outputs": [
    {
     "data": {
      "text/plain": [
       "['AD', '2D', 'AS', '2S']"
      ]
     },
     "execution_count": 6,
     "metadata": {},
     "output_type": "execute_result"
    }
   ],
   "source": [
    "items = [\"2S\", \"AS\", \"2D\", \"AD\"]\n",
    "items.sort(key=suit_value)\n",
    "items"
   ]
  },
  {
   "cell_type": "markdown",
   "id": "19",
   "metadata": {},
   "source": [
    "Like for the `reverse` parameter, omitting the parameter name leads to an error."
   ]
  },
  {
   "cell_type": "code",
   "execution_count": 7,
   "id": "20",
   "metadata": {},
   "outputs": [
    {
     "ename": "TypeError",
     "evalue": "sort() takes no positional arguments",
     "output_type": "error",
     "traceback": [
      "\u001b[0;31m---------------------------------------------------------------------------\u001b[0m",
      "\u001b[0;31mTypeError\u001b[0m                                 Traceback (most recent call last)",
      "Cell \u001b[0;32mIn[7], line 1\u001b[0m\n\u001b[0;32m----> 1\u001b[0m \u001b[43mitems\u001b[49m\u001b[38;5;241;43m.\u001b[39;49m\u001b[43msort\u001b[49m\u001b[43m(\u001b[49m\u001b[43msuit_value\u001b[49m\u001b[43m)\u001b[49m\n",
      "\u001b[0;31mTypeError\u001b[0m: sort() takes no positional arguments"
     ]
    }
   ],
   "source": [
    "items.sort(suit_value)"
   ]
  },
  {
   "cell_type": "markdown",
   "id": "21",
   "metadata": {},
   "source": [
    "Python uses the Powersort algorithm, an improvement over Timsort, which in turn is\n",
    "derived from the insertion sort and merge sort algorithms explained in later sections.\n",
    "Powersort and Timsort are in-place algorithms with linear complexity\n",
    "in the best case and log-linear complexity in the worst case.\n",
    "You're unlikely to need another algorithm for sorting arrays in memory.\n",
    "I won't explain Powersort, Timsort or how to sort data that doesn't fit in memory.\n",
    "This chapter isn't about the best way of sorting; instead it presents\n",
    "algorithms that illustrate previous concepts and techniques."
   ]
  },
  {
   "cell_type": "markdown",
   "id": "22",
   "metadata": {},
   "source": [
    "⟵ [Previous section](14-introduction.ipynb) | [Up](14-introduction.ipynb) | [Next section](14_2_bogosort.ipynb) ⟶"
   ]
  }
 ],
 "metadata": {
  "kernelspec": {
   "display_name": "Python 3",
   "language": "python",
   "name": "python3"
  },
  "language_info": {
   "codemirror_mode": {
    "name": "ipython",
    "version": 3
   },
   "file_extension": ".py",
   "mimetype": "text/x-python",
   "name": "python",
   "nbconvert_exporter": "python",
   "pygments_lexer": "ipython3",
   "version": "3.12.10"
  }
 },
 "nbformat": 4,
 "nbformat_minor": 5
}
