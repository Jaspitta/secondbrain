{
 "cells": [
  {
   "cell_type": "markdown",
   "id": "0",
   "metadata": {},
   "source": [
    "## 14.6 Quicksort"
   ]
  },
  {
   "cell_type": "markdown",
   "id": "1",
   "metadata": {},
   "source": [
    "Like merge sort, **quicksort** divides the input sequence in two partitions,\n",
    "recursively sorts each partition and then puts them together.\n",
    "Whereas merge sort divides the sequence by position, in two halves,\n",
    "quicksort divides the items by key: those with smaller keys go into\n",
    "one partition, those with larger keys go in the other.\n",
    "After the partitions are sorted,\n",
    "they just have to be concatenated, which is much simpler than merging.\n",
    "\n",
    "Insertion sort did less work than selection sort when splitting the input but\n",
    "more when combining the subsolution with the removed item.\n",
    "Likewise, merge sort does less work than quicksort when splitting but\n",
    "more work when combining the subsolutions."
   ]
  },
  {
   "cell_type": "markdown",
   "id": "2",
   "metadata": {},
   "source": [
    "<div class=\"alert alert-warning\">\n",
    "<strong>Note:</strong> You can design different decrease-and-conquer or divide-and-conquer algorithms\n",
    "by making different phases of the approach simpler.\n",
    "</div>"
   ]
  },
  {
   "cell_type": "markdown",
   "id": "3",
   "metadata": {},
   "source": [
    "### 14.6.1 Algorithm"
   ]
  },
  {
   "cell_type": "markdown",
   "id": "4",
   "metadata": {},
   "source": [
    "Quicksort starts by choosing one item as the **pivot**,\n",
    "then splits the other items into those smaller and those larger than the pivot.\n",
    "After each partition is sorted, they're put together:\n",
    "first the smaller items, then the pivot and finally the larger items.\n",
    "\n",
    "Here's how quicksort processes our example, with the pivot\n",
    "being the first item:\n",
    "\n",
    "<p id=\"fig-14.6.1\"></p>\n",
    "\n",
    "*[Figure 14.6.1](../33_Figures/Figures_14_6.ipynb#Figure-14.6.1)*\n",
    "\n",
    "![Image 14_6_quicksort.png](14_6_quicksort.png)\n",
    "\n",
    "In the first step, the pivot is S, the letters that come before S are\n",
    "ORING and the only letter that comes after is T. After sorting ORING into GINOR,\n",
    "the S and T are concatenated back in that order, resulting in GINORST.\n",
    "\n",
    "Here's a recursive quicksort algorithm.\n",
    "It uses an auxiliary function that partitions the unsorted sequence into\n",
    "three sequences: the smaller items, a sequence of length&nbsp;1 with the pivot and\n",
    "the sequence of larger items.\n",
    "\n",
    "1. if *n* < 2:\n",
    "   1. let *sorted* be *unsorted*\n",
    "1. otherwise:\n",
    "    1. let (*smaller*, *pivot*, *larger*) be partition(*unsorted*)\n",
    "    1. let *sorted* be quicksort(*smaller*, *key*) concatenated with *pivot* and quicksort(*larger*, *key*)\n",
    "\n",
    "Step&nbsp;2.1 is an abuse of the assignment notation to\n",
    "make the algorithm more readable.\n",
    "\n",
    "The partition function simply chooses the first item as the pivot and adds the\n",
    "other items to either partition, depending on how they compare to the pivot.\n",
    "\n",
    "1. let *smaller* be ()\n",
    "2. let *larger* be ()\n",
    "3. let *pivot* be *unsorted*[0]\n",
    "4. for each *index* from 1 to *n* − 1:\n",
    "   1. let *item* be *unsorted*[*index*]\n",
    "   1. if *key*(*item*) < *key*(*pivot*):\n",
    "      1. append *item* to *smaller*\n",
    "   2. otherwise:\n",
    "      1. append *item* to *larger*\n",
    "5. let *output* be (*smaller*, (*pivot*), *larger*)\n",
    "\n",
    "Note that the final step doesn't return the pivot but a sequence with it,\n",
    "so that the concatenation operation can be applied in step&nbsp;2.2 of quicksort."
   ]
  },
  {
   "cell_type": "markdown",
   "id": "5",
   "metadata": {},
   "source": [
    "### 14.6.2 Complexity"
   ]
  },
  {
   "cell_type": "markdown",
   "id": "6",
   "metadata": {},
   "source": [
    "Each recursive call goes through its input sequence twice:\n",
    "first to partition it and then to concatenate the partitions and the pivot.\n",
    "The recursive complexity definition is:\n",
    "\n",
    "- if *n* < 2: T(*n*) = Θ(1)\n",
    "- if *n* ≥ 2: T(*n*) = Θ(*n*) + T(│*smaller*│) + T(│*larger*│) + Θ(*n*)\n",
    "  = T(│*smaller*│) + T(│*larger*│) + Θ(*n*).\n",
    "\n",
    "If the input is sorted, then the pivot (the first item)\n",
    "is the smallest one. So all other items are put in partition *larger*  and\n",
    "partition *smaller*  is empty. The recurrence relation becomes:\n",
    "\n",
    "T(*n*) = T(0) + T(*n* − 1) + Θ(*n*) = Θ(1) + T(*n* − 1) + Θ(*n*) = T(*n* − 1) + Θ(*n*).\n",
    "\n",
    "We've seen before that this resolves to T(*n*) = Θ(*n*²).\n",
    "\n",
    "In the best-case scenario, the pivot is the middle value and quicksort halves\n",
    "the sequence, like merge sort. The recurrence becomes:\n",
    "\n",
    "T(*n*) = T(*n* / 2) + T(*n* / 2) + Θ(*n*) = 2×T(*n* / 2) + Θ(*n*).\n",
    "\n",
    "This resolves to T(*n*) = Θ(*n* log *n*).\n",
    "\n",
    "It has been proven that the average complexity of quicksort,\n",
    "when items are in random order, is also log-linear."
   ]
  },
  {
   "cell_type": "markdown",
   "id": "7",
   "metadata": {},
   "source": [
    "#### Exercise 14.6.1"
   ]
  },
  {
   "cell_type": "markdown",
   "id": "8",
   "metadata": {},
   "source": [
    "What's the complexity of quicksort if the input is in reverse order?"
   ]
  },
  {
   "cell_type": "markdown",
   "id": "9",
   "metadata": {},
   "source": [
    "_Write your answer here._"
   ]
  },
  {
   "cell_type": "markdown",
   "id": "10",
   "metadata": {},
   "source": [
    "[Hint](../31_Hints/Hints_14_6_01.ipynb)\n",
    "[Answer](../32_Answers/Answers_14_6_01.ipynb)\n",
    "\n",
    "As the analysis shows, the choice of pivot is crucial to achieve\n",
    "log-linear complexity. One common approach is to choose a random item.\n",
    "Another way is to pick the median of the first, middle and last items.\n",
    "Unless we're unlucky and those three items have duplicate keys, this guarantees\n",
    "the pivot has neither the lowest nor the highest key in the sequence,\n",
    "which would lead to quadratic complexity."
   ]
  },
  {
   "cell_type": "markdown",
   "id": "11",
   "metadata": {},
   "source": [
    "### 14.6.3 Code and performance"
   ]
  },
  {
   "cell_type": "markdown",
   "id": "12",
   "metadata": {},
   "source": [
    "The code mainly follows the algorithm with two small changes.\n",
    "First, the pivot's key is computed only once.\n",
    "Second, the partitioning algorithm isn't in a separate function.\n",
    "This makes the code shorter and easier to follow, in my opinion."
   ]
  },
  {
   "cell_type": "code",
   "execution_count": 1,
   "id": "13",
   "metadata": {},
   "outputs": [
    {
     "name": "stdout",
     "output_type": "stream",
     "text": [
      "Testing quick_sorted...\n",
      "Tests finished: 7 passed (100%), 0 failed.\n"
     ]
    }
   ],
   "source": [
    "from typing import Callable\n",
    "from algoesup import test\n",
    "\n",
    "%run -i ../m269_sorting\n",
    "\n",
    "\n",
    "def quick_sorted(unsorted: list, key: Callable) -> list:\n",
    "    \"\"\"Return a permutation with keys in non-decreasing order.\n",
    "\n",
    "    Preconditions: for any indices i and j,\n",
    "    key(unsorted[i]) and key(unsorted[j]) are comparable\n",
    "    \"\"\"\n",
    "    # base case: sequences with 0 or 1 items are sorted\n",
    "    if len(unsorted) < 2:\n",
    "        return unsorted\n",
    "    else:\n",
    "        # divide the input: select the pivot and create the partitions\n",
    "        smaller = []\n",
    "        larger = []\n",
    "        pivot = unsorted[0]\n",
    "        pivot_key = key(pivot)\n",
    "        for index in range(1, len(unsorted)):\n",
    "            item = unsorted[index]\n",
    "            if key(item) < pivot_key:\n",
    "                smaller.append(item)\n",
    "            else:\n",
    "                larger.append(item)\n",
    "        # recur into the partitions and combine the results\n",
    "        return quick_sorted(smaller, key) + [pivot] + quick_sorted(larger, key)\n",
    "\n",
    "\n",
    "test(quick_sorted, sorting_tests)"
   ]
  },
  {
   "cell_type": "markdown",
   "id": "14",
   "metadata": {},
   "source": [
    "Let's confirm that sorting an ascending sequence takes quadratic time:"
   ]
  },
  {
   "cell_type": "code",
   "execution_count": 2,
   "id": "15",
   "metadata": {},
   "outputs": [
    {
     "name": "stdout",
     "output_type": "stream",
     "text": [
      "256 μs ± 865 ns per loop (mean ± std. dev. of 5 runs, 1,000 loops each)\n",
      "951 μs ± 2.99 μs per loop (mean ± std. dev. of 5 runs, 1,000 loops each)\n",
      "3.71 ms ± 2.53 μs per loop (mean ± std. dev. of 5 runs, 100 loops each)\n",
      "15.2 ms ± 8.48 μs per loop (mean ± std. dev. of 5 runs, 100 loops each)\n",
      "61.9 ms ± 30 μs per loop (mean ± std. dev. of 5 runs, 10 loops each)\n"
     ]
    }
   ],
   "source": [
    "for doubling in range(5):\n",
    "    items = list(range(100 * 2**doubling))\n",
    "    %timeit -r 5 quick_sorted(items, identity)"
   ]
  },
  {
   "cell_type": "markdown",
   "id": "16",
   "metadata": {},
   "source": [
    "To observe the log-linear complexity, I use a Python function to\n",
    "shuffle the items to put them in random order:"
   ]
  },
  {
   "cell_type": "code",
   "execution_count": 3,
   "id": "17",
   "metadata": {},
   "outputs": [
    {
     "name": "stdout",
     "output_type": "stream",
     "text": [
      "47.8 μs ± 109 ns per loop (mean ± std. dev. of 5 runs, 10,000 loops each)\n",
      "111 μs ± 114 ns per loop (mean ± std. dev. of 5 runs, 10,000 loops each)\n",
      "253 μs ± 646 ns per loop (mean ± std. dev. of 5 runs, 1,000 loops each)\n",
      "588 μs ± 2.28 μs per loop (mean ± std. dev. of 5 runs, 1,000 loops each)\n",
      "1.24 ms ± 996 ns per loop (mean ± std. dev. of 5 runs, 1,000 loops each)\n"
     ]
    }
   ],
   "source": [
    "from random import shuffle\n",
    "\n",
    "for doubling in range(5):\n",
    "    items = list(range(100 * 2**doubling))\n",
    "    shuffle(items)\n",
    "    %timeit -r 5 quick_sorted(items, identity)"
   ]
  },
  {
   "cell_type": "markdown",
   "id": "18",
   "metadata": {},
   "source": [
    "### 14.6.4 In-place version"
   ]
  },
  {
   "cell_type": "markdown",
   "id": "19",
   "metadata": {},
   "source": [
    "Quicksort is usually implemented in-place, swapping smaller and larger items\n",
    "so that the smaller items end up in the left-hand part of the sequence and\n",
    "the larger items in the right-hand part, with the pivot between them.\n",
    "Once each part is sorted, no concatenation is necessary.\n",
    "A visualisation explaining the in-place algorithm is [here](https://learn2.open.ac.uk/mod/oucontent/view.php?id=2554725&extra=thumbnail_idm38).\n",
    "\n",
    "In-place quicksort uses less memory and is much faster\n",
    "than the version above because it doesn't create and concatenate sequences.\n",
    "It nevertheless has the same best-, average- and worst-case complexities."
   ]
  },
  {
   "cell_type": "markdown",
   "id": "20",
   "metadata": {},
   "source": [
    "<div class=\"alert alert-info\">\n",
    "<strong>Info:</strong> Many programming languages used some variant of quicksort before Timsort was invented.\n",
    "</div>"
   ]
  },
  {
   "cell_type": "markdown",
   "id": "21",
   "metadata": {},
   "source": [
    "⟵ [Previous section](14_5_merge_sort.ipynb) | [Up](14-introduction.ipynb) | [Next section](14_7_quicksort_variants.ipynb) ⟶"
   ]
  }
 ],
 "metadata": {
  "kernelspec": {
   "display_name": "Python 3",
   "language": "python",
   "name": "python3"
  },
  "language_info": {
   "codemirror_mode": {
    "name": "ipython",
    "version": 3
   },
   "file_extension": ".py",
   "mimetype": "text/x-python",
   "name": "python",
   "nbconvert_exporter": "python",
   "pygments_lexer": "ipython3",
   "version": "3.12.10"
  }
 },
 "nbformat": 4,
 "nbformat_minor": 5
}
