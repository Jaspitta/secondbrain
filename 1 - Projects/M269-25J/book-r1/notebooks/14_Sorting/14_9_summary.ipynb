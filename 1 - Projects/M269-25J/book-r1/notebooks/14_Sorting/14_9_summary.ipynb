{
 "cells": [
  {
   "cell_type": "markdown",
   "id": "0",
   "metadata": {},
   "source": [
    "## 14.9 Summary"
   ]
  },
  {
   "cell_type": "markdown",
   "id": "1",
   "metadata": {},
   "source": [
    "For the purposes of M269, sorting consists of\n",
    "putting a sequence of items in non-decreasing order of their keys.\n",
    "Python's built-in `sort` method and `sorted` function can take a parameter\n",
    "named `key` indicating the function that returns an item's key.\n",
    "\n",
    "**In-place sorting** modifies the input sequence and\n",
    "only uses a constant amount of additional memory.\n",
    "\n",
    "A **comparison sort** algorithm compares the keys of two items at a time, whereas\n",
    "a **distribution sort** algorithm first separates the unsorted items according to\n",
    "their keys and then collects them from lowest to highest key, without ever comparing keys.\n",
    "All algorithms below are comparison sorts, except for pigeonhole sort."
   ]
  },
  {
   "cell_type": "markdown",
   "id": "2",
   "metadata": {},
   "source": [
    "### 14.9.1 Algorithms"
   ]
  },
  {
   "cell_type": "markdown",
   "id": "3",
   "metadata": {},
   "source": [
    "**Bogosort** is an exhaustive search algorithm that generates each permutation of\n",
    "the input sequence and tests whether it's sorted.\n",
    "\n",
    "**Insertion sort** and **selection sort** both move one item at a time\n",
    "from an unsorted part to a sorted part. Insertion sort\n",
    "takes the next unsorted item and finds its place in the sorted part.\n",
    "Selection sort\n",
    "finds the smallest unsorted item and puts it at the end of the sorted part,\n",
    "or finds the largest unsorted item and puts it at the start of the sorted part.\n",
    "\n",
    "**Merge sort** and **quicksort** are recursive divide-and-conquer algorithms.\n",
    "Merge sort partitions the input sequence into two halves, recursively sorts them\n",
    "and merges them. Quicksort chooses a pivot item and partitions the other items\n",
    "into those smaller than the pivot and those larger than or equal to the pivot.\n",
    "The recursively sorted partitions are concatenated, with the pivot in between.\n",
    "A three-way variant of quicksort creates a third partition that has all items\n",
    "with the same key as the pivot.\n",
    "\n",
    "**Quickselect** is a modified quicksort algorithm that solves the **selection\n",
    "problem**: find the *k*-th smallest item in an unsorted sequence.\n",
    "Quickselect is a recursive decrease-and-conquer algorithm that\n",
    "searches only one of the partitions, depending on their size.\n",
    "Its average complexity is linear.\n",
    "\n",
    "**Pigeonhole sort** is a distribution sort that\n",
    "creates a lookup table with enough slots for all the keys.\n",
    "Each item is appended to the slot corresponding to its key.\n",
    "Finally, items are collected from the first to the last slot.\n",
    "The algorithm requires keys to be natural numbers within a bounded range."
   ]
  },
  {
   "cell_type": "markdown",
   "id": "4",
   "metadata": {},
   "source": [
    "### 14.9.2 Complexities"
   ]
  },
  {
   "cell_type": "markdown",
   "id": "5",
   "metadata": {},
   "source": [
    "The following table shows the characteristics of the implementations presented\n",
    "in the previous sections, where *n* is the length of the input sequence\n",
    "and *k* is the number of different keys.\n",
    "The last row shows the characteristics of Python's built-in algorithm.\n",
    "The complexities listed assume that it takes constant time to\n",
    "obtain the key of an item and compare two keys.\n",
    "\n",
    "Algorithm | In-place | Best case | Worst case\n",
    "-|-|-|-\n",
    "Bogosort  | no  |  Θ(*n*) | Θ(*n*! × *n*)\n",
    "Insertion sort  |  yes | Θ(*n*) | Θ(*n*²)\n",
    "Selection sort  | yes | Θ(*n*²) | Θ(*n*²)\n",
    "Mergesort  | no | Θ(*n* log *n*)| Θ(*n* log *n*)\n",
    "Two-way quicksort | no |  Θ(*n* log *n*) | Θ(*n*²)\n",
    "Three-way quicksort | no  | Θ(*n*) | Θ(*n*²)\n",
    "Pigeonhole sort  | no | Θ(*n* + *k*) | Θ(*n* + *k*)\n",
    "Powersort  | yes  |  Θ(*n*) | Θ(*n* log *n*)\n",
    "\n",
    "Quicksort has quadratic complexity when the smallest or largest item is chosen\n",
    "at each step. To avoid this, choose a random pivot or the median of three items.\n",
    "\n",
    "Quicksort has log-linear complexity in the average case.\n",
    "This can observed with a sequence of items in random order, e.g.\n",
    "as produced by function `shuffle` in module `random`.\n",
    "\n",
    "An in-place version of quicksort is faster but\n",
    "has the same complexities.\n",
    "\n",
    "Comparison sorts can't take less than linear time in the best case\n",
    "and less than log-linear time in the worst case,\n",
    "because each comparison reduces the search space\n",
    "(initially, all permutations of the input) by half at most."
   ]
  },
  {
   "cell_type": "markdown",
   "id": "6",
   "metadata": {},
   "source": [
    "⟵ [Previous section](14_8_pigeonhole.ipynb) | [Up](14-introduction.ipynb) | [Next section](../15_TMA02-1/15-introduction.ipynb) ⟶"
   ]
  }
 ],
 "metadata": {
  "kernelspec": {
   "display_name": "Python 3",
   "language": "python",
   "name": "python3"
  },
  "language_info": {
   "codemirror_mode": {
    "name": "ipython",
    "version": 3
   },
   "file_extension": ".py",
   "mimetype": "text/x-python",
   "name": "python",
   "nbconvert_exporter": "python",
   "pygments_lexer": "ipython3",
   "version": "3.12.10"
  }
 },
 "nbformat": 4,
 "nbformat_minor": 5
}
