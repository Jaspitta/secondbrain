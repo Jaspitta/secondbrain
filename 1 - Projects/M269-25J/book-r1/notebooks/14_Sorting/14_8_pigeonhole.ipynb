{
 "cells": [
  {
   "cell_type": "markdown",
   "id": "0",
   "metadata": {},
   "source": [
    "## 14.8 Pigeonhole sort"
   ]
  },
  {
   "cell_type": "markdown",
   "id": "1",
   "metadata": {},
   "source": [
    "The algorithms presented so far are **comparison sorts**:\n",
    "they're based on comparing pairs of items, or their keys.\n",
    "This section shows an example of a **distribution sort**, which\n",
    "first distributes the items based on their keys and then collects them in order.\n",
    "The reason for a different kind of sorting algorithm is efficiency."
   ]
  },
  {
   "cell_type": "markdown",
   "id": "2",
   "metadata": {},
   "source": [
    "### 14.8.1 Comparison sort complexity"
   ]
  },
  {
   "cell_type": "markdown",
   "id": "3",
   "metadata": {},
   "source": [
    "[Earlier](../04_Iteration/04_6_lists.ipynb#4.6.2-Creating-lists) we assumed that sorting is linear\n",
    "in the best case, to check the input is already sorted, and\n",
    "quadratic in the worst case: comparing all items to each other should be\n",
    "enough to put each item in its correct place in the sequence.\n",
    "\n",
    "Insertion sort is linear in the best case and quadratic in the worst case,\n",
    "as it has to compare each unsorted item to at least one and at most all\n",
    "previously sorted items. Selection sort is always quadratic\n",
    "because it compares each unsorted item to all other unsorted items.\n",
    "\n",
    "Our earlier argument only posited that sorting doesn't need more than\n",
    "quadratic time, but as we have meanwhile seen, human imagination is able to\n",
    "come up with worse solutions than needed (like bogosort) and with\n",
    "better solutions than expected (like merge sort, which is always log-linear).\n",
    "It turns out that log-linear is the lowest worst-case complexity\n",
    "for comparison sorts, as I'll show next.\n",
    "\n",
    "Let's assume the *n* items have unique keys.\n",
    "Therefore, there's a single ascending permutation. As bogosort did, we can see\n",
    "sorting as searching for the one permutation that is sorted.\n",
    "\n",
    "If for example we find out that key(A) < key(B), we can discard all permutations where item A comes after (to the right of) item B,\n",
    "because those aren't sorted.\n",
    "For each permutation to be removed from the search space,\n",
    "because A and B are in the wrong order,\n",
    "there's exactly one other permutation that is kept in the search space,\n",
    "because it's equal except that A and B swapped places and\n",
    "hence are in the correct order. In summary, every comparison gives enough\n",
    "information to discard half the search space.\n",
    "\n",
    "After one comparison the search space has *n*! / 2 permutations.\n",
    "After two comparisons it has *n*!/2/2 = *n*!/2² permutations. In general,\n",
    "after *c* comparisons, the search space has size *n*!/$2^c$.\n",
    "The algorithm stops when the search space has one permutation (the sorted one),\n",
    "i.e. when *n*!/$2^c$ = 1, which is the same as *n*! = $2^c$ or *c* = log *n*!.\n",
    "It has been proven that log *n*! is about the same as *n* log *n* and so that's\n",
    "the number of comparisons needed."
   ]
  },
  {
   "cell_type": "markdown",
   "id": "4",
   "metadata": {},
   "source": [
    "### 14.8.2 Algorithm"
   ]
  },
  {
   "cell_type": "markdown",
   "id": "5",
   "metadata": {},
   "source": [
    "If we assume more about the sorting keys than just being comparable, then\n",
    "we can use more efficient sorting algorithms, like **pigeonhole sort**.\n",
    "\n",
    "The algorithm gets its name from the pigeonholes used in mail sorting.\n",
    "You can see them at start of the second part of the\n",
    "[BBC programme](https://learn2.open.ac.uk/mod/oucontent/view.php?id=2554724).\n",
    "All mail to the same postcode, the sorting key, goes in the same pigeonhole.\n",
    "We need to know in advance the possible keys to create a pigeonhole for each.\n",
    "\n",
    "Pigeonhole sort uses a map of keys to items with that key.\n",
    "This can be done with a lookup table of length *k* and\n",
    "a key function that returns natural numbers from 0 to *k* – 1.\n",
    "In the first phase (step&nbsp;3 below)\n",
    "the algorithm distributes the items according to their keys.\n",
    "In the second phase (steps 4 and 5)\n",
    "it collects the items from lowest to highest key.\n",
    "\n",
    "1. let *pigeonholes* be ()\n",
    "2. repeat *k* times:\n",
    "   1. append an empty collection to *pigeonholes*\n",
    "3. for each *item* in *unsorted*:\n",
    "   1. add *item* to *pigeonholes*[*key*(*item*)]\n",
    "4. let *sorted* be ()\n",
    "5. for each *slot* in *pigeonholes*:\n",
    "   1. for each *item* in *slot*:\n",
    "      1. append *item* to *sorted*"
   ]
  },
  {
   "cell_type": "markdown",
   "id": "6",
   "metadata": {},
   "source": [
    "### 14.8.3 Complexity"
   ]
  },
  {
   "cell_type": "markdown",
   "id": "7",
   "metadata": {},
   "source": [
    "The algorithm only uses constant-time operations.\n",
    "Step&nbsp;2.1 is done *k* times, steps 3 and 5.1.1 are each executed *n* times\n",
    "to add all items in unsorted order and retrieve them in sorted order.\n",
    "The complexity is thus Θ(*n* + *k*).\n",
    "Usually *k* is either a constant or a multiple of *n*, so the complexity of\n",
    "pigeonhole sort is linear in the length of the input.\n",
    "\n",
    "Pigeonhole sort is based on the same idea as selection sort: at each step\n",
    "append the smallest unsorted item to the sorted items.\n",
    "The difference is that it uses natural number keys and a lookup table to\n",
    "select the minimum in constant instead of linear time.\n",
    "This enables pigeonhole sort to process *n* items in linear time,\n",
    "while selection sort takes quadratic time."
   ]
  },
  {
   "cell_type": "markdown",
   "id": "8",
   "metadata": {},
   "source": [
    "### 14.8.4 Code and tests"
   ]
  },
  {
   "cell_type": "markdown",
   "id": "9",
   "metadata": {},
   "source": [
    "Pigeonhole requires an extra parameter to know how many slots to create."
   ]
  },
  {
   "cell_type": "code",
   "execution_count": 1,
   "id": "10",
   "metadata": {},
   "outputs": [],
   "source": [
    "from typing import Callable\n",
    "\n",
    "\n",
    "def pigeonhole_sorted(unsorted: list, key: Callable, slots: int) -> list:\n",
    "    \"\"\"Return a permutation with keys in non-decreasing order.\n",
    "\n",
    "    Precondition: for each item in unsorted 0 <= key(item) < slots\n",
    "    \"\"\"\n",
    "    pigeonholes = []\n",
    "    for slot in range(slots):  # noqa: B007\n",
    "        pigeonholes.append([])\n",
    "    for item in unsorted:\n",
    "        pigeonholes[key(item)].append(item)\n",
    "    result = []\n",
    "    for slot in pigeonholes:\n",
    "        for item in slot:\n",
    "            result.append(item)\n",
    "    return result"
   ]
  },
  {
   "cell_type": "markdown",
   "id": "11",
   "metadata": {},
   "source": [
    "I can't reuse the [same tests](../14_Sorting/14_1_sort_prep.ipynb#14.1.2-Problem-instances)\n",
    "as for the previous sorting algorithms\n",
    "because of the extra `slot` parameter and because the key functions don't return\n",
    "natural numbers from 0 onwards. I must redefine the key functions and\n",
    "the test table. I will however use the same problem instances."
   ]
  },
  {
   "cell_type": "code",
   "execution_count": 2,
   "id": "12",
   "metadata": {},
   "outputs": [
    {
     "name": "stdout",
     "output_type": "stream",
     "text": [
      "Testing pigeonhole_sorted...\n",
      "Tests finished: 7 passed (100%), 0 failed.\n"
     ]
    }
   ],
   "source": [
    "from algoesup import test\n",
    "\n",
    "%run -i ../m269_sorting\n",
    "\n",
    "\n",
    "def value_nat(card: str) -> int:\n",
    "    \"\"\"Return 0 to 12 for value A2...9TJQK respectively.\n",
    "\n",
    "    Preconditions: as for function 'suit'\n",
    "    \"\"\"\n",
    "    return value(card) - 1  # the value function returns 1 to 13\n",
    "\n",
    "\n",
    "def suit_nat(card: str) -> int:\n",
    "    \"\"\"Return 0 to 3 for suit 'C', 'D', 'H' and 'S' respectively.\n",
    "\n",
    "    Preconditions: as for function 'suit'\n",
    "    \"\"\"\n",
    "    return {\"C\": 0, \"D\": 1, \"H\": 2, \"S\": 3}[card[1]]\n",
    "\n",
    "\n",
    "def card_nat(card: str) -> int:\n",
    "    \"\"\"Return 0 to 51 according to the sorted order of the card.\n",
    "\n",
    "    Cards are sorted first by suit, then by value.\n",
    "    Preconditions: as for function 'suit'\n",
    "    \"\"\"\n",
    "    return suit_nat(card) * 13 + value_nat(card)\n",
    "\n",
    "\n",
    "pigeonhole_sorted_tests = [\n",
    "    # case,       unsorted,          key,    slots, sorted\n",
    "    ('no cards',   [],               card_nat,  52, []),\n",
    "    ('1 card',     ['AS'],           card_nat,  52, ['AS']),\n",
    "    ('same card',  ['6D','6D'],      card_nat,  52, ['6D','6D']),\n",
    "    ('3 cards',    ['JC','8D','TS'], value_nat, 13, ['8D','TS','JC']),\n",
    "    ('value up',   UP_DOWN,          value_nat, 13, UP_DOWN),\n",
    "    ('suit down',  UP_DOWN,          suit_nat,   4, ['KC','QD','3H','AS']),\n",
    "    ('same value', SAME_VALUE,       card_nat,  52, ['TC','TD','TH','TS']),\n",
    "]\n",
    "\n",
    "test(pigeonhole_sorted, pigeonhole_sorted_tests)"
   ]
  },
  {
   "cell_type": "markdown",
   "id": "13",
   "metadata": {},
   "source": [
    "### 14.8.5 Performance"
   ]
  },
  {
   "cell_type": "markdown",
   "id": "14",
   "metadata": {},
   "source": [
    "Pigeonhole sort takes linear time on all inputs.\n",
    "Insertion sort is also linear when the input is sorted.\n",
    "Which do you expect to be faster for sorted inputs:\n",
    "insertion sort or pigeonhole sort?\n",
    "\n",
    "___\n",
    "\n",
    "Insertion sort uses no extra data structure.\n",
    "It does no swaps and only one comparison if the item is in its sorted place,\n",
    "so it should be faster. Let's eat the pudding, so to speak."
   ]
  },
  {
   "cell_type": "code",
   "execution_count": 3,
   "id": "15",
   "metadata": {},
   "outputs": [
    {
     "name": "stdout",
     "output_type": "stream",
     "text": [
      "10.8 μs ± 11.2 ns per loop (mean ± std. dev. of 5 runs, 100,000 loops each)\n",
      "21.8 μs ± 39.2 ns per loop (mean ± std. dev. of 5 runs, 10,000 loops each)\n",
      "44.2 μs ± 83.1 ns per loop (mean ± std. dev. of 5 runs, 10,000 loops each)\n",
      "92.6 μs ± 293 ns per loop (mean ± std. dev. of 5 runs, 10,000 loops each)\n",
      "187 μs ± 333 ns per loop (mean ± std. dev. of 5 runs, 10,000 loops each)\n"
     ]
    }
   ],
   "source": [
    "for doubling in range(5):\n",
    "    items = list(range(100 * 2**doubling))\n",
    "    %timeit -r 5 pigeonhole_sorted(items, identity, len(items))"
   ]
  },
  {
   "cell_type": "markdown",
   "id": "16",
   "metadata": {},
   "source": [
    "Comparing these values to\n",
    "[those for insertion sort](../14_Sorting/14_3_insertion_sort.ipynb#14.3.4-Performance),\n",
    "the latter is indeed slightly faster.\n",
    "\n",
    "Pigeonhole not only has better complexity than comparison sorts,\n",
    "it's also simpler: there are no recursive calls, swaps or partitions.\n",
    "It's thus quite faster than our versions of\n",
    "[merge sort](../14_Sorting/14_5_merge_sort.ipynb#14.5.3-Code-and-performance) or\n",
    "[quicksort](../14_Sorting/14_6_quicksort.ipynb#14.6.3-Code-and-performance), which aren't in-place either."
   ]
  },
  {
   "cell_type": "markdown",
   "id": "17",
   "metadata": {},
   "source": [
    "⟵ [Previous section](14_7_quicksort_variants.ipynb) | [Up](14-introduction.ipynb) | [Next section](14_9_summary.ipynb) ⟶"
   ]
  }
 ],
 "metadata": {
  "kernelspec": {
   "display_name": "Python 3",
   "language": "python",
   "name": "python3"
  },
  "language_info": {
   "codemirror_mode": {
    "name": "ipython",
    "version": 3
   },
   "file_extension": ".py",
   "mimetype": "text/x-python",
   "name": "python",
   "nbconvert_exporter": "python",
   "pygments_lexer": "ipython3",
   "version": "3.12.10"
  }
 },
 "nbformat": 4,
 "nbformat_minor": 5
}
