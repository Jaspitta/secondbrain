{
 "cells": [
  {
   "cell_type": "markdown",
   "id": "0",
   "metadata": {},
   "source": [
    "## 14.2 Bogosort"
   ]
  },
  {
   "cell_type": "markdown",
   "id": "1",
   "metadata": {},
   "source": [
    "Every proper textbook includes some daft algorithms to show when *not* to\n",
    "use a particular technique or data structure. Bogosort is such an algorithm.\n",
    "\n",
    "The postconditions of the sorting problem state that the output sequence is\n",
    "a permutation of the input sequence that is in ascending order.\n",
    "Bogosort approaches the sorting problem as a search problem:\n",
    "find a permutation of the input sequence that is in ascending order.\n",
    "Since the keys are pairwise comparable, at least one permutation is\n",
    "in ascending order: the search is guaranteed to be successful.\n",
    "\n",
    "The exhaustive search algorithm simply\n",
    "generates each permutation and tests if it's in ascending order\n",
    "with an auxiliary function.\n",
    "\n",
    "1. for each permutation *p* of *unsorted*:\n",
    "   1. if is_ascending(*p*):\n",
    "      1. let *sorted* be *p*\n",
    "      2. stop\n",
    "\n",
    "You wrote a recursive definition of the auxiliary test function\n",
    "[earlier](../12_Recursion/12_4_inspect_sequences.ipynb#Exercise-12.4.2).\n",
    "I'm sure you can write an iterative algorithm too.\n",
    "\n",
    "In the best-case scenario for the test, the first two items of a permutation are\n",
    "in descending order and so the test returns false in constant time.\n",
    "In the worst-case scenario, the permutation is in ascending order\n",
    "and the test takes linear time Θ(*n*) to return true.\n",
    "\n",
    "What are the best- and worst-case complexities of bogosort?\n",
    "Assume that the first permutation generated is the input sequence.\n",
    "\n",
    "___\n",
    "\n",
    "In the best case, the input sequence is already sorted, and so the algorithm\n",
    "only generates and tests a single candidate in linear time.\n",
    "In the worst case, the algorithm generates and tests all permutations\n",
    "in Θ(*n*! × *n*) time.\n",
    "\n",
    "The aim of this section is to illustrate, once more, that many problems can be\n",
    "cast as search problems, but that exhaustive search isn't always appropriate.\n",
    "Given the appalling complexity of bogosort, I won't implement it.\n",
    "That's why we do the complexity analysis before coding.\n",
    "\n",
    "If you think bogosort is bad, here's a worse version:\n",
    "keep generating random permutations and check if they're sorted.\n",
    "Deterministic bogosort, the first version presented,\n",
    "generates the candidate permutations systematically and eventually terminates.\n",
    "Randomised bogosort may continue forever ..."
   ]
  },
  {
   "cell_type": "markdown",
   "id": "2",
   "metadata": {},
   "source": [
    "⟵ [Previous section](14_1_sort_prep.ipynb) | [Up](14-introduction.ipynb) | [Next section](14_3_insertion_sort.ipynb) ⟶"
   ]
  }
 ],
 "metadata": {
  "kernelspec": {
   "display_name": "Python 3",
   "language": "python",
   "name": "python3"
  },
  "language_info": {
   "codemirror_mode": {
    "name": "ipython",
    "version": 3
   },
   "file_extension": ".py",
   "mimetype": "text/x-python",
   "name": "python",
   "nbconvert_exporter": "python",
   "pygments_lexer": "ipython3",
   "version": "3.12.10"
  }
 },
 "nbformat": 4,
 "nbformat_minor": 5
}
