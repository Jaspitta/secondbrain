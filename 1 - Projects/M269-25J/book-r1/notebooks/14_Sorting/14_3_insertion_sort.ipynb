{
 "cells": [
  {
   "cell_type": "markdown",
   "id": "0",
   "metadata": {},
   "source": [
    "## 14.3 Insertion sort"
   ]
  },
  {
   "cell_type": "markdown",
   "id": "1",
   "metadata": {},
   "source": [
    "Let's apply decrease and conquer to sorting, instead of exhaustive search."
   ]
  },
  {
   "cell_type": "markdown",
   "id": "2",
   "metadata": {},
   "source": [
    "### 14.3.1 Recursive version"
   ]
  },
  {
   "cell_type": "markdown",
   "id": "3",
   "metadata": {},
   "source": [
    "I start with the usual questions.\n",
    "\n",
    "1. What are the smallest possible unsorted sequence and its sorted counterpart?\n",
    "   The unsorted and sorted sequences are empty.\n",
    "2. If the tail were already sorted, how could we sort the whole sequence?\n",
    "   We simply insert the head in the appropriate place.\n",
    "\n",
    "This is the core idea of **insertion sort**: the next item to be processed is\n",
    "inserted into an already sorted part of the sequence.\n",
    "After processing all items, the sequence is sorted.\n",
    "\n",
    "This is one way players sort their cards: with one hand\n",
    "they pick up the cards they were dealt, one by one,\n",
    "inserting each one in its place in a fan of cards held in their other hand.\n",
    "\n",
    "The algorithm for function insertion_sorted(*unsorted*, *key*) is:\n",
    "\n",
    "1. if *unsorted* is empty:\n",
    "   1. let *sorted* be ()\n",
    "2. otherwise:\n",
    "   1. let *subsolution* be insertion_sorted(tail(*unsorted*), *key*)\n",
    "   1. let *sorted* be insert(head(*unsorted*), *subsolution*, *key*)\n",
    "\n",
    "Inserting an item into a sorted sequence (step&nbsp;2.2) also requires\n",
    "the key function.\n",
    "The algorithm for function insert(*item*, *sorted*, *key*) has to compare\n",
    "the keys of the item to be inserted and of the head, to know if\n",
    "the item is to be inserted before or after the head.\n",
    "It's another decrease-and-conquer algorithm.\n",
    "I call the output variable *inserted*.\n",
    "\n",
    "1. if *sorted* is empty:\n",
    "   1. let *inserted* be (*item*)\n",
    "2. otherwise if *key*(*item*) ≤ *key*(head(*sorted*)):\n",
    "   1. let *inserted* be prepend(*item*, *sorted*)\n",
    "2. otherwise:\n",
    "   1. let *subsolution* be insert(*item*, tail(*sorted*), *key*)\n",
    "   1. let *inserted* be prepend(head(*sorted*), *subsolution*)\n",
    "\n",
    "This version of insertion sort isn't tail recursive.\n",
    "It exhausts the call stack when sorting a sequence with thousands of items.\n",
    "We need an iterative version."
   ]
  },
  {
   "cell_type": "markdown",
   "id": "4",
   "metadata": {},
   "source": [
    "### 14.3.2 Iterative version"
   ]
  },
  {
   "cell_type": "markdown",
   "id": "5",
   "metadata": {},
   "source": [
    "Here's a version that can be implemented in-place, on the input array.\n",
    "\n",
    "Continuing with the card game analogy,\n",
    "the player fans all the dealt cards in one hand and\n",
    "mentally divides them in two parts:\n",
    "the sorted cards are on the left and the unsorted cards are on the right.\n",
    "Initially, the sorted part is the first card and the unsorted part has all\n",
    "other ones. At each step, the player uses their free hand to pick the\n",
    "left-most unsorted card and put it in its correct place in the sorted part.\n",
    "Each step grows the sorted part by one card and shrinks the unsorted part\n",
    "by one card. The sorting ends when the unsorted part is empty.\n",
    "\n",
    "The next table shows step by step how in-place insertion sort\n",
    "alphabetically sorts a sequence of seven letters.\n",
    "I use monospaced font to highlight the already sorted left part of the sequence.\n",
    "\n",
    "0 | 1 | 2 | 3 | 4 | 5 | 6\n",
    "-|-|-|-|-|-|-\n",
    "`S`|O|R|T|I|N|G\n",
    "`O`|`S`|R|T|I|N|G\n",
    "`O`|`R`|`S`|T|I|N|G\n",
    "`O`|`R`|`S`|`T`|I|N|G\n",
    "`I`|`O`|`R`|`S`|`T`|N|G\n",
    "`I`|`N`|`O`|`R`|`S`|`T`|G\n",
    "`G`|`I`|`N`|`O`|`R`|`S`|`T`\n",
    "\n",
    "To insert each unsorted item in the sorted part, the algorithm\n",
    "shifts right all sorted items that are larger than the unsorted item.\n",
    "This overwrites the unsorted item but makes place to put it in the sorted part.\n",
    "This [visualisation](https://learn2.open.ac.uk/mod/oucontent/view.php?id=2554725&extra=thumbnail_idm26) shows the shifting in more detail.\n",
    "\n",
    "I proceed directly to the code. As shown in the visualisation,\n",
    "insertion sort goes through the sorted items from right to left and\n",
    "shifts each one to the right if it's larger than the unsorted item.\n",
    "\n",
    "Remember that our sorting algorithms take a [key function](../14_Sorting/14_1_sort_prep.ipynb#14.1.1-Problem)\n",
    "as a second argument and that functions are objects of type `Callable`."
   ]
  },
  {
   "cell_type": "code",
   "execution_count": 1,
   "id": "6",
   "metadata": {},
   "outputs": [],
   "source": [
    "from typing import Callable\n",
    "\n",
    "\n",
    "def insertion_sort(items: list, key: Callable) -> None:\n",
    "    \"\"\"Sort the items in-place, with keys in non-decreasing order.\n",
    "\n",
    "    Preconditions: for any indices i and j,\n",
    "    key(items[i]) and key(items[j]) are comparable\n",
    "    \"\"\"\n",
    "    # go through all items in the unsorted part\n",
    "    for first_unsorted in range(1, len(items)):\n",
    "        to_sort = items[first_unsorted]\n",
    "        # apply the key function given as input\n",
    "        the_key = key(to_sort)\n",
    "        # to start, index where to put item is index where it is now\n",
    "        index = first_unsorted\n",
    "        # for each sorted item larger than the one to sort\n",
    "        while index > 0 and key(items[index - 1]) > the_key:\n",
    "            # copy it to the right, i.e. one position up\n",
    "            items[index] = items[index - 1]\n",
    "            # and proceed with the next sorted item on the left\n",
    "            index = index - 1\n",
    "        # sorted item on the left isn't larger: we found the index\n",
    "        items[index] = to_sort  # put the unsorted item there"
   ]
  },
  {
   "cell_type": "markdown",
   "id": "7",
   "metadata": {},
   "source": [
    "There are [two versions](../14_Sorting/14_1_sort_prep.ipynb#14.1.1-Problem) of\n",
    "the sorting problem: one modifies the input, the other returns a sorted copy.\n",
    "I follow the same naming convention as Python:\n",
    "`sort` for the in-place version and `sorted` for the other.\n",
    "\n",
    "To use the `test` function, I need the sorting function to return an output,\n",
    "so I will implement the `sorted` version that makes a copy of the input list,\n",
    "using the `list` constructor: `copy = list(original)`.\n",
    "Note that `copy = original` would create a new reference to the *same* list\n",
    "and hence modify the original input."
   ]
  },
  {
   "cell_type": "code",
   "execution_count": 2,
   "id": "8",
   "metadata": {},
   "outputs": [
    {
     "name": "stdout",
     "output_type": "stream",
     "text": [
      "Testing insertion_sorted...\n",
      "Tests finished: 7 passed (100%), 0 failed.\n"
     ]
    }
   ],
   "source": [
    "from algoesup import test\n",
    "\n",
    "%run -i ../m269_sorting\n",
    "\n",
    "\n",
    "def insertion_sorted(unsorted: list, key: Callable) -> list:\n",
    "    \"\"\"Return a permutation with keys in non-decreasing order.\n",
    "\n",
    "    Preconditions: for any indices i and j,\n",
    "    key(unsorted[i]) and key(unsorted[j]) are comparable\n",
    "    \"\"\"\n",
    "    result = list(unsorted)  # make a copy\n",
    "    insertion_sort(result, key)\n",
    "    return result\n",
    "\n",
    "\n",
    "test(insertion_sorted, sorting_tests)"
   ]
  },
  {
   "cell_type": "markdown",
   "id": "9",
   "metadata": {},
   "source": [
    "Remember that our [sorting test table](../14_Sorting/14_1_sort_prep.ipynb#14.1.2-Problem-instances)\n",
    "indicates which key function (`value`, `suit` or `suit_value`) each test uses."
   ]
  },
  {
   "cell_type": "markdown",
   "id": "10",
   "metadata": {},
   "source": [
    "### 14.3.3 Complexity"
   ]
  },
  {
   "cell_type": "markdown",
   "id": "11",
   "metadata": {},
   "source": [
    "For this and the following algorithms, we assume that\n",
    "the key function takes constant time and so does comparing two keys.\n",
    "\n",
    "The algorithm does the least work when the while-loop never executes.\n",
    "This happens if the condition is always false:\n",
    "the key of the left neighbour of the unsorted item has a lower or equal key.\n",
    "In that case, the `index` variable doesn't change and the unsorted item remains\n",
    "in its place, becoming the new right-most sorted item.\n",
    "What's the best-case complexity of insertion sort?\n",
    "\n",
    "___\n",
    "\n",
    "The for-loop does *n* − 1 iterations, each only doing constant-time operations,\n",
    "because the while-loop is skipped. The complexity is Θ(*n*).\n",
    "\n",
    "The algorithm does the most work if, for each unsorted item,\n",
    "*all* the sorted items are shifted.\n",
    "The first unsorted item requires one shift because the sorted part has one item.\n",
    "The second unsorted item requires two shifts because the sorted part has now\n",
    "two items. In total, the number of shifts is\n",
    "1 + 2 + ... + *n*−1 = ((*n*–1)² + (*n*–1)) / 2 by using the formula\n",
    "seen in the [previous chapter](../13_Divide/13_1_decrease_one.ipynb#13.1.2-Sequence-length).\n",
    "Each shift takes constant time, so the worst-case complexity is Θ(*n*²).\n",
    "Can you think of a scenario with this worst-case complexity?\n",
    "\n",
    "___\n",
    "\n",
    "If inserting an unsorted item shifts all sorted items, then\n",
    "the unsorted item must be smaller than all of them\n",
    "and go to index zero. If each unsorted item triggers shifting, then it must be\n",
    "smaller than the previous unsorted item. A worst-case scenario is therefore the\n",
    "sequence being in descending order, or more generally, in reverse sorted order."
   ]
  },
  {
   "cell_type": "markdown",
   "id": "12",
   "metadata": {},
   "source": [
    "### 14.3.4 Performance"
   ]
  },
  {
   "cell_type": "markdown",
   "id": "13",
   "metadata": {},
   "source": [
    "Let's check the best-case complexity by generating ascending\n",
    "integer sequences, always doubling the length.\n",
    "As previously advised, I don't start with very short sequences,\n",
    "but not too long ones either because the worst-case is quadratic."
   ]
  },
  {
   "cell_type": "code",
   "execution_count": 3,
   "id": "14",
   "metadata": {},
   "outputs": [
    {
     "name": "stdout",
     "output_type": "stream",
     "text": [
      "6.95 μs ± 9.73 ns per loop (mean ± std. dev. of 5 runs, 100,000 loops each)\n",
      "13.7 μs ± 9.58 ns per loop (mean ± std. dev. of 5 runs, 100,000 loops each)\n",
      "30.4 μs ± 162 ns per loop (mean ± std. dev. of 5 runs, 10,000 loops each)\n",
      "65 μs ± 43.8 ns per loop (mean ± std. dev. of 5 runs, 10,000 loops each)\n",
      "135 μs ± 92.1 ns per loop (mean ± std. dev. of 5 runs, 10,000 loops each)\n"
     ]
    }
   ],
   "source": [
    "%run -i ../m269_sorting\n",
    "\n",
    "for doubling in range(5):\n",
    "    # generate lists of length 100, 200, 400, 800, 1600\n",
    "    # each list has the integers from 0 to length - 1\n",
    "    items = list(range(100 * 2**doubling))\n",
    "    %timeit -r 5 insertion_sorted(items, identity)"
   ]
  },
  {
   "cell_type": "markdown",
   "id": "15",
   "metadata": {},
   "source": [
    "Let's check the worst-case complexity with descending sequences."
   ]
  },
  {
   "cell_type": "code",
   "execution_count": 4,
   "id": "16",
   "metadata": {},
   "outputs": [
    {
     "name": "stdout",
     "output_type": "stream",
     "text": [
      "280 μs ± 147 ns per loop (mean ± std. dev. of 5 runs, 1,000 loops each)\n",
      "1.1 ms ± 806 ns per loop (mean ± std. dev. of 5 runs, 1,000 loops each)\n",
      "4.74 ms ± 11.2 μs per loop (mean ± std. dev. of 5 runs, 100 loops each)\n",
      "21.4 ms ± 16.1 μs per loop (mean ± std. dev. of 5 runs, 10 loops each)\n",
      "92.5 ms ± 72.6 μs per loop (mean ± std. dev. of 5 runs, 10 loops each)\n"
     ]
    }
   ],
   "source": [
    "for doubling in range(5):\n",
    "    items = list(range(100 * 2**doubling, -1, -1))\n",
    "    %timeit -r 5 insertion_sorted(items, identity)"
   ]
  },
  {
   "cell_type": "markdown",
   "id": "17",
   "metadata": {},
   "source": [
    "Do the run-times confirm the best- and worst-case complexities?\n",
    "\n",
    "___\n",
    "\n",
    "For ascending sequences, the run-time doubles as the length doubles,\n",
    "thus confirming the linear complexity.\n",
    "For descending sequences, the run-time roughly quadruples as the length doubles,\n",
    "thus confirming the quadratic complexity."
   ]
  },
  {
   "cell_type": "markdown",
   "id": "18",
   "metadata": {},
   "source": [
    "#### Exercise 14.3.1"
   ]
  },
  {
   "cell_type": "markdown",
   "id": "19",
   "metadata": {},
   "source": [
    "The above code isn't just measuring the run-time of insertion sort:\n",
    "it's also measuring the time to copy the input list.\n",
    "Wouldn't it be better to directly call the in-place `insertion_sort`\n",
    "instead of `insertion_sorted`?"
   ]
  },
  {
   "cell_type": "markdown",
   "id": "20",
   "metadata": {},
   "source": [
    "_Write your answer here._"
   ]
  },
  {
   "cell_type": "markdown",
   "id": "21",
   "metadata": {},
   "source": [
    "[Hint](../31_Hints/Hints_14_3_01.ipynb)\n",
    "[Answer](../32_Answers/Answers_14_3_01.ipynb)"
   ]
  },
  {
   "cell_type": "markdown",
   "id": "22",
   "metadata": {},
   "source": [
    "⟵ [Previous section](14_2_bogosort.ipynb) | [Up](14-introduction.ipynb) | [Next section](14_4_selection_sort.ipynb) ⟶"
   ]
  }
 ],
 "metadata": {
  "kernelspec": {
   "display_name": "Python 3",
   "language": "python",
   "name": "python3"
  },
  "language_info": {
   "codemirror_mode": {
    "name": "ipython",
    "version": 3
   },
   "file_extension": ".py",
   "mimetype": "text/x-python",
   "name": "python",
   "nbconvert_exporter": "python",
   "pygments_lexer": "ipython3",
   "version": "3.12.10"
  }
 },
 "nbformat": 4,
 "nbformat_minor": 5
}
