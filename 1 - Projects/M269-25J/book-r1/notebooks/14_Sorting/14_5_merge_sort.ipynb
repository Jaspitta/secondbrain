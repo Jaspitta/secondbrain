{
 "cells": [
  {
   "cell_type": "markdown",
   "id": "0",
   "metadata": {},
   "source": [
    "## 14.5 Merge sort"
   ]
  },
  {
   "cell_type": "markdown",
   "id": "1",
   "metadata": {},
   "source": [
    "Let's now look at a divide-and-conquer approach to sorting."
   ]
  },
  {
   "cell_type": "markdown",
   "id": "2",
   "metadata": {},
   "source": [
    "### 14.5.1 Algorithm"
   ]
  },
  {
   "cell_type": "markdown",
   "id": "3",
   "metadata": {},
   "source": [
    "**Merge sort** divides the sequence into two halves, sorts each one recursively,\n",
    "and merges them by taking the smallest item of each half until both are empty.\n",
    "The bases cases are sequences of length&nbsp;0 or 1,\n",
    "as they can't be split into smaller sequences.\n",
    "When the length is odd, it doesn't matter which half has one element more.\n",
    "The next figure shows the process applied to our familiar example.\n",
    "\n",
    "<p id=\"fig-14.5.1\"></p>\n",
    "\n",
    "*[Figure 14.5.1](../33_Figures/Figures_14_5.ipynb#Figure-14.5.1)*\n",
    "\n",
    "![Image 14_5_mergesort.png](14_5_mergesort.png)\n",
    "\n",
    "Here's the recursive algorithm for mergesort(*unsorted*, *key*):\n",
    "\n",
    "1. if *n* < 2:\n",
    "   1. let *sorted* be *unsorted*\n",
    "2. otherwise:\n",
    "   1. let *middle* be floor(*n* / 2)\n",
    "   1. let *left sorted* be mergesort(*unsorted*[0:*middle*], *key*)\n",
    "   1. let *right sorted* be mergesort(*unsorted*[*middle*:*n*], *key*)\n",
    "   1. let *sorted* be merge(*left sorted*, *right sorted*, *key*)\n",
    "\n",
    "The previous M269 team produced a [visualisation](https://learn2.open.ac.uk/mod/oucontent/view.php?id=2554725&extra=thumbnail_idm34) of step&nbsp;2.4,\n",
    "so that you can see it in more detail.\n",
    "The code shown in the visualisation doesn't use a key function.\n",
    "Here's the algorithm for merge(*left*, *right*, *key*)\n",
    "with the precondition that both input sequences are sorted.\n",
    "\n",
    "1. let *left index* be 0\n",
    "1. let *right index* be 0\n",
    "1. let *sorted* be the empty sequence\n",
    "1. while *left index* < │*left sorted*│ and *right index* < │*right sorted*│:\n",
    "   1. let *left item* be *left sorted*[*left index*]\n",
    "   1. let *right item* be *right sorted*[*right index*]\n",
    "   1. if *key*(*left item*) < *key*(*right item*):\n",
    "      1. append *left item* to *sorted*\n",
    "      2. let *left index* be *left index* + 1\n",
    "   1. otherwise:\n",
    "      1. append *right item* to *sorted*\n",
    "      2. let *right index* be *right index* + 1\n",
    "1. for *index* from *left index* to │*left sorted*│ – 1:\n",
    "   1. append *left sorted*[*index*] to *sorted*\n",
    "1. for *index* from *right index* to │*right sorted*│ – 1:\n",
    "   1. append *right sorted*[*index*] to *sorted*\n",
    "\n",
    "Step&nbsp;4 and its sub-steps merge both sequences until one is copied to the output.\n",
    "The unprocessed items in the other half are then copied by either\n",
    "step&nbsp;5 or step&nbsp;6. Only one of those for-loops will execute."
   ]
  },
  {
   "cell_type": "markdown",
   "id": "4",
   "metadata": {},
   "source": [
    "### 14.5.2 Complexity"
   ]
  },
  {
   "cell_type": "markdown",
   "id": "5",
   "metadata": {},
   "source": [
    "Let's first obtain the complexity in a visual way.\n",
    "In the above figure, each level splits sequences\n",
    "in half and a later corresponding level merges the sorted halves.\n",
    "Each splitting and merging corresponds to one recursive call.\n",
    "Since the input is always split in half, there are $\\log_2$ *n* recursive calls\n",
    "until the sequences have length&nbsp;1 and start being merged.\n",
    "In the example, *n* = 7, so there are 3 recursive call levels.\n",
    "\n",
    "Each level processes the whole input, of length *n*, albeit split in substrings.\n",
    "For example, the second level processes 4&nbsp;sequences of one or two characters\n",
    "each, while the third level processes seven sequences of one character each.\n",
    "Processing each character takes constant time, both\n",
    "when it's being copied from the input to an unsorted half and\n",
    "when it's copied from a sorted half to the output.\n",
    "The complexity is therefore log *n* × *n* × Θ(1) = Θ(*n* log *n*).\n",
    "\n",
    "Informal reasoning can sometimes have subtle flaws, so it's safest to\n",
    "systematically define the complexity recursively, following the algorithm."
   ]
  },
  {
   "cell_type": "markdown",
   "id": "6",
   "metadata": {},
   "source": [
    "#### Exercise 14.5.1"
   ]
  },
  {
   "cell_type": "markdown",
   "id": "7",
   "metadata": {},
   "source": [
    "Write the recursive definition of T and\n",
    "confirm that merge sort has log-linear complexity.\n",
    "\n",
    "- if *n* < 2: T(*n*) = ...\n",
    "- if *n* ≥ 2: T(*n*) = ...\n",
    "\n",
    "[Hint](../31_Hints/Hints_14_5_01.ipynb)\n",
    "[Answer](../32_Answers/Answers_14_5_01.ipynb)\n",
    "\n",
    "Merge sort has two advantages over insertion and selection sort:\n",
    "it has better than quadratic complexity for unsorted input sequences and,\n",
    "being a divide-and-conquer algorithm, can be implemented in parallel."
   ]
  },
  {
   "cell_type": "markdown",
   "id": "8",
   "metadata": {},
   "source": [
    "### 14.5.3 Code and performance"
   ]
  },
  {
   "cell_type": "code",
   "execution_count": 1,
   "id": "9",
   "metadata": {},
   "outputs": [
    {
     "name": "stdout",
     "output_type": "stream",
     "text": [
      "Testing merge_sorted...\n",
      "Tests finished: 7 passed (100%), 0 failed.\n"
     ]
    }
   ],
   "source": [
    "from typing import Callable\n",
    "from algoesup import test\n",
    "\n",
    "%run -i ../m269_sorting\n",
    "\n",
    "\n",
    "def merge(left: list, right: list, key: Callable) -> list:\n",
    "    \"\"\"Merge both lists into one with keys in non-decreasing order.\n",
    "\n",
    "    Preconditions: left and right have keys in non-decreasing order\n",
    "    \"\"\"\n",
    "    left_index = 0\n",
    "    right_index = 0\n",
    "    result = []\n",
    "    while left_index < len(left) and right_index < len(right):\n",
    "        left_item = left[left_index]\n",
    "        right_item = right[right_index]\n",
    "        if key(left_item) < key(right_item):\n",
    "            result.append(left_item)\n",
    "            left_index = left_index + 1\n",
    "        else:\n",
    "            result.append(right_item)\n",
    "            right_index = right_index + 1\n",
    "    for index in range(left_index, len(left)):\n",
    "        result.append(left[index])\n",
    "    for index in range(right_index, len(right)):\n",
    "        result.append(right[index])\n",
    "    return result\n",
    "\n",
    "\n",
    "def merge_sorted(unsorted: list, key: Callable) -> list:\n",
    "    \"\"\"Return a permutation with keys in non-decreasing order.\n",
    "\n",
    "    Preconditions: for any indices i and j,\n",
    "    key(unsorted[i]) and key(unsorted[j]) are comparable\n",
    "    \"\"\"\n",
    "    n = len(unsorted)\n",
    "    if n < 2:\n",
    "        return unsorted\n",
    "    else:\n",
    "        middle = n // 2\n",
    "        left_sorted = merge_sorted(unsorted[:middle], key)\n",
    "        right_sorted = merge_sorted(unsorted[middle:], key)\n",
    "        return merge(left_sorted, right_sorted, key)\n",
    "\n",
    "\n",
    "test(merge_sorted, sorting_tests)"
   ]
  },
  {
   "cell_type": "markdown",
   "id": "10",
   "metadata": {},
   "source": [
    "Remember that the start and end indices of a slice\n",
    "[can be omitted](../04_Iteration/04_9_summary.ipynb#4.9.1-Sequence-operations).\n",
    "\n",
    "Since the complexity is always the same,\n",
    "I measure the run-time for sequences that are easy to generate."
   ]
  },
  {
   "cell_type": "code",
   "execution_count": 2,
   "id": "11",
   "metadata": {},
   "outputs": [
    {
     "name": "stdout",
     "output_type": "stream",
     "text": [
      "73.8 μs ± 86.7 ns per loop (mean ± std. dev. of 5 runs, 10,000 loops each)\n",
      "160 μs ± 606 ns per loop (mean ± std. dev. of 5 runs, 10,000 loops each)\n",
      "340 μs ± 262 ns per loop (mean ± std. dev. of 5 runs, 1,000 loops each)\n",
      "730 μs ± 1.33 μs per loop (mean ± std. dev. of 5 runs, 1,000 loops each)\n",
      "1.58 ms ± 5.65 μs per loop (mean ± std. dev. of 5 runs, 1,000 loops each)\n"
     ]
    }
   ],
   "source": [
    "for doubling in range(5):\n",
    "    items = [0] * 100 * 2**doubling  # 100, 200, 400, ... zeros\n",
    "    %timeit -r 5 merge_sorted(items, identity)"
   ]
  },
  {
   "cell_type": "markdown",
   "id": "12",
   "metadata": {},
   "source": [
    "The run-times more than double but don't quadruple when the input size doubles.\n",
    "This confirms the complexity is between linear and quadratic."
   ]
  },
  {
   "cell_type": "markdown",
   "id": "13",
   "metadata": {},
   "source": [
    "⟵ [Previous section](14_4_selection_sort.ipynb) | [Up](14-introduction.ipynb) | [Next section](14_6_quicksort.ipynb) ⟶"
   ]
  }
 ],
 "metadata": {
  "kernelspec": {
   "display_name": "Python 3",
   "language": "python",
   "name": "python3"
  },
  "language_info": {
   "codemirror_mode": {
    "name": "ipython",
    "version": 3
   },
   "file_extension": ".py",
   "mimetype": "text/x-python",
   "name": "python",
   "nbconvert_exporter": "python",
   "pygments_lexer": "ipython3",
   "version": "3.12.10"
  }
 },
 "nbformat": 4,
 "nbformat_minor": 5
}
