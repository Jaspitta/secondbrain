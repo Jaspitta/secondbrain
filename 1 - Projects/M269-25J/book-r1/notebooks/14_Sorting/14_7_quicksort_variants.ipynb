{
 "cells": [
  {
   "cell_type": "markdown",
   "id": "0",
   "metadata": {},
   "source": [
    "## 14.7 Quicksort variants"
   ]
  },
  {
   "cell_type": "markdown",
   "id": "1",
   "metadata": {},
   "source": [
    "This section presents two variations on quicksort to further reinforce\n",
    "the divide-and-conquer approach and its relation to decrease and conquer."
   ]
  },
  {
   "cell_type": "markdown",
   "id": "2",
   "metadata": {},
   "source": [
    "### 14.7.1 Three-way quicksort"
   ]
  },
  {
   "cell_type": "markdown",
   "id": "3",
   "metadata": {},
   "source": [
    "Divide and conquer doesn't have to be in halves.\n",
    "We can partition the *unsorted* sequence in three,\n",
    "with the items smaller than, equal to and larger than the pivot.\n",
    "Items with the same key as the pivot don't have to be further sorted.\n",
    "\n",
    "The main quicksort algorithm stays the same, because it already\n",
    "divides the input in three sequences and recurs into two of them.\n",
    "\n",
    "1. if *n* < 2:\n",
    "   1. let *sorted* be *unsorted*\n",
    "1. otherwise:\n",
    "    1. let (*smaller*, *pivot*, *larger*) be partition(*unsorted*)\n",
    "    1. let *sorted* be quicksort(*smaller*, *key*) concatenated with *pivot* and quicksort(*larger*, *key*)\n",
    "\n",
    "The partition function does change slightly:\n",
    "the middle sequence is no longer one item (the pivot),\n",
    "but is all items with the same key as the pivot.\n",
    "\n",
    "I take the opportunity to choose a random pivot to reduce the chance of\n",
    "quadratic complexity for already sorted inputs.\n",
    "\n",
    "1. let *smaller* be the empty sequence\n",
    "1. let *equal* be the empty sequence\n",
    "1. let *larger* be the empty sequence\n",
    "1. let *pivot* be a random element of *unsorted*\n",
    "1. for each *item* in *unsorted*:\n",
    "   1. if *key*(*item*) < *key*(*pivot*):\n",
    "      1. append *item* to *smaller*\n",
    "   1. otherwise if *key*(*item*) = *key*(*pivot*):\n",
    "      1. append *item* to *equal*\n",
    "   1. otherwise\n",
    "      1. append *item* to *larger*\n",
    "1. let *output* be (*smaller*, *equal*, *larger*)"
   ]
  },
  {
   "cell_type": "markdown",
   "id": "4",
   "metadata": {},
   "source": [
    "#### Exercise 14.7.1"
   ]
  },
  {
   "cell_type": "markdown",
   "id": "5",
   "metadata": {},
   "source": [
    "If all items in the input sequence have the same key, what's the complexity of\n",
    "\n",
    "- 'normal' quicksort, i.e. three-way quicksort without steps 5.2 and 5.2.1?\n",
    "- three-way quicksort?"
   ]
  },
  {
   "cell_type": "markdown",
   "id": "6",
   "metadata": {},
   "source": [
    "_Write your answer here._"
   ]
  },
  {
   "cell_type": "markdown",
   "id": "7",
   "metadata": {},
   "source": [
    "[Hint](../31_Hints/Hints_14_7_01.ipynb)\n",
    "[Answer](../32_Answers/Answers_14_7_01.ipynb)\n",
    "\n",
    "Three-way quicksort still has quadratic worst-case complexity\n",
    "if each chosen pivot has the lowest or highest key. However, it's unlikely that\n",
    "every recursive call will randomly choose the worst possible pivot.\n",
    "\n",
    "A sorted and a reverse-sorted input are no longer worst-case scenarios:\n",
    "both are sorted in log-linear time due to the random pivot choice."
   ]
  },
  {
   "cell_type": "markdown",
   "id": "8",
   "metadata": {},
   "source": [
    "### 14.7.2 Quickselect"
   ]
  },
  {
   "cell_type": "markdown",
   "id": "9",
   "metadata": {},
   "source": [
    "Next I'm going to show a decrease-and-conquer adaption of quicksort to\n",
    "solve a different problem.\n",
    "\n",
    "Consider the **selection problem**: find the *k*-th smallest item in a non-empty\n",
    "unsorted sequence, with 0 < *k* ≤ *n*. For example,\n",
    "if *k* = 1 then we're looking for the minimum and\n",
    "if *k* = *n* then we're looking for the maximum.\n",
    "\n",
    "If we know that there will be many queries on the same sequence,\n",
    "then it's best to sort it once and return the *k*-th item for each query.\n",
    "Let's assume we don't know that and thus must solve the selection problem\n",
    "without sorting.\n",
    "\n",
    "The **quickselect** algorithm adapts two-way quicksort. It only recursively\n",
    "searches the partition that includes the sought item,\n",
    "discarding the other partition. How does it know where the item is?\n",
    "\n",
    "Well, if partition *smaller* has *k* − 1 items, then the pivot, which is\n",
    "the next larger item, is the *k*-th smallest item. This is a base case:\n",
    "the algorithm returns the pivot without recurring into either partition.\n",
    "\n",
    "If partition *smaller* has *k* or more items, then the *k*-th smallest\n",
    "must be there, so the algorithm recurs into it and ignores partition *larger*.\n",
    "\n",
    "Finally, if partition *smaller* has fewer than *k* − 1 items, the sought item is\n",
    "in the other partition. But it's not the *k*-th smallest item of that partition.\n",
    "Let's suppose we're looking for the 17th smallest item among 20 items and that\n",
    "partition *smaller* has 14 items. Together with the pivot, we can discard\n",
    "15 items. The sought item is thus the second smallest in partition *larger*.\n",
    "More generally, if *smaller* has *s* items,\n",
    "we search for the *k*−*s*−1-th smallest item in *larger*.\n",
    "\n",
    "It has been proven that on average quickselect has linear complexity."
   ]
  },
  {
   "cell_type": "markdown",
   "id": "10",
   "metadata": {},
   "source": [
    "#### Exercise 14.7.2"
   ]
  },
  {
   "cell_type": "markdown",
   "id": "11",
   "metadata": {},
   "source": [
    "What kind of decrease and conquer is quickselect?"
   ]
  },
  {
   "cell_type": "markdown",
   "id": "12",
   "metadata": {},
   "source": [
    "_Write your answer here._"
   ]
  },
  {
   "cell_type": "markdown",
   "id": "13",
   "metadata": {},
   "source": [
    "[Hint](../31_Hints/Hints_14_7_02.ipynb)\n",
    "[Answer](../32_Answers/Answers_14_7_02.ipynb)"
   ]
  },
  {
   "cell_type": "markdown",
   "id": "14",
   "metadata": {},
   "source": [
    "#### Exercise 14.7.3"
   ]
  },
  {
   "cell_type": "markdown",
   "id": "15",
   "metadata": {},
   "source": [
    "Here again is the quicksort algorithm.\n",
    "The *pivot* returned by the auxiliary function is a single-item sequence."
   ]
  },
  {
   "cell_type": "markdown",
   "id": "16",
   "metadata": {},
   "source": [
    "1. if *n* < 2:\n",
    "   1. let *sorted* be *unsorted*\n",
    "1. otherwise:\n",
    "    1. let (*smaller*, *pivot*, *larger*) be partition(*unsorted*)\n",
    "    1. let *sorted* be quicksort(*smaller*, *key*) concatenated with *pivot* and quicksort(*larger*, *key*)"
   ]
  },
  {
   "cell_type": "markdown",
   "id": "17",
   "metadata": {},
   "source": [
    "Modify the above to become the quickselect algorithm.\n",
    "You can assume the function call is quickselect(*unsorted*, *key*, *k*)\n",
    "with a non-empty *unsorted* sequence and 0 < *k* ≤ *n*.\n",
    "\n",
    "[Hint](../31_Hints/Hints_14_7_03.ipynb)\n",
    "[Answer](../32_Answers/Answers_14_7_03.ipynb)"
   ]
  },
  {
   "cell_type": "markdown",
   "id": "18",
   "metadata": {},
   "source": [
    "⟵ [Previous section](14_6_quicksort.ipynb) | [Up](14-introduction.ipynb) | [Next section](14_8_pigeonhole.ipynb) ⟶"
   ]
  }
 ],
 "metadata": {
  "kernelspec": {
   "display_name": "Python 3",
   "language": "python",
   "name": "python3"
  },
  "language_info": {
   "codemirror_mode": {
    "name": "ipython",
    "version": 3
   },
   "file_extension": ".py",
   "mimetype": "text/x-python",
   "name": "python",
   "nbconvert_exporter": "python",
   "pygments_lexer": "ipython3",
   "version": "3.12.10"
  }
 },
 "nbformat": 4,
 "nbformat_minor": 5
}
