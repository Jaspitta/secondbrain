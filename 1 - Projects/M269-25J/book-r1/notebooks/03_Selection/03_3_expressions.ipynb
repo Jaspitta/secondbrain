{
 "cells": [
  {
   "cell_type": "markdown",
   "id": "0",
   "metadata": {},
   "source": [
    "## 3.3 Boolean expressions"
   ]
  },
  {
   "cell_type": "markdown",
   "id": "1",
   "metadata": {},
   "source": [
    "Besides two-state properties,\n",
    "Booleans can represent whether a condition holds or not,\n",
    "e.g. whether a temperature is below some threshold.\n",
    "To express such conditions we need to be able to compare values."
   ]
  },
  {
   "cell_type": "markdown",
   "id": "2",
   "metadata": {},
   "source": [
    "### 3.3.1 Comparisons"
   ]
  },
  {
   "cell_type": "markdown",
   "id": "3",
   "metadata": {},
   "source": [
    "There are six comparison operations.\n",
    "\n",
    "The **equality** operation checks if two expressions have the same value.\n",
    "Any values can be compared for equality, not just Booleans.\n",
    "The equality operator is = in mathematics and `==` in Python."
   ]
  },
  {
   "cell_type": "code",
   "execution_count": 1,
   "id": "4",
   "metadata": {},
   "outputs": [
    {
     "data": {
      "text/plain": [
       "False"
      ]
     },
     "execution_count": 1,
     "metadata": {},
     "output_type": "execute_result"
    }
   ],
   "source": [
    "3 == 5"
   ]
  },
  {
   "cell_type": "code",
   "execution_count": 2,
   "id": "5",
   "metadata": {},
   "outputs": [
    {
     "data": {
      "text/plain": [
       "False"
      ]
     },
     "execution_count": 2,
     "metadata": {},
     "output_type": "execute_result"
    }
   ],
   "source": [
    "True == 42  # any values can be compared"
   ]
  },
  {
   "cell_type": "code",
   "execution_count": 3,
   "id": "6",
   "metadata": {},
   "outputs": [
    {
     "data": {
      "text/plain": [
       "True"
      ]
     },
     "execution_count": 3,
     "metadata": {},
     "output_type": "execute_result"
    }
   ],
   "source": [
    "False == False"
   ]
  },
  {
   "cell_type": "markdown",
   "id": "7",
   "metadata": {},
   "source": [
    "The **inequality** operation, written ≠ in maths and `!=` in Python,\n",
    "checks if two values are different. It returns the opposite value of equality."
   ]
  },
  {
   "cell_type": "code",
   "execution_count": 4,
   "id": "8",
   "metadata": {},
   "outputs": [
    {
     "data": {
      "text/plain": [
       "True"
      ]
     },
     "execution_count": 4,
     "metadata": {},
     "output_type": "execute_result"
    }
   ],
   "source": [
    "3 != 5"
   ]
  },
  {
   "cell_type": "code",
   "execution_count": 5,
   "id": "9",
   "metadata": {},
   "outputs": [
    {
     "data": {
      "text/plain": [
       "True"
      ]
     },
     "execution_count": 5,
     "metadata": {},
     "output_type": "execute_result"
    }
   ],
   "source": [
    "True != 42  # any values can be compared"
   ]
  },
  {
   "cell_type": "code",
   "execution_count": 6,
   "id": "10",
   "metadata": {},
   "outputs": [
    {
     "data": {
      "text/plain": [
       "False"
      ]
     },
     "execution_count": 6,
     "metadata": {},
     "output_type": "execute_result"
    }
   ],
   "source": [
    "False != False"
   ]
  },
  {
   "cell_type": "markdown",
   "id": "11",
   "metadata": {},
   "source": [
    "The remaining comparison operators are\n",
    "<, ≤, >, ≥ in mathematics, and `<`, `<=`, `>`, `>=` in Python.\n",
    "They can be applied to various data types, as we shall see.\n",
    "For the moment, they only apply to numbers."
   ]
  },
  {
   "cell_type": "code",
   "execution_count": 7,
   "id": "12",
   "metadata": {},
   "outputs": [
    {
     "data": {
      "text/plain": [
       "True"
      ]
     },
     "execution_count": 7,
     "metadata": {},
     "output_type": "execute_result"
    }
   ],
   "source": [
    "4 >= 3.5"
   ]
  },
  {
   "cell_type": "markdown",
   "id": "13",
   "metadata": {},
   "source": [
    "The comparison operators have lower precedence\n",
    "than arithmetic operators, but higher precedence than logical operators.\n",
    "This allows writing without parentheses complex Boolean expressions with\n",
    "all three kinds of operations."
   ]
  },
  {
   "cell_type": "code",
   "execution_count": 8,
   "id": "14",
   "metadata": {},
   "outputs": [
    {
     "data": {
      "text/plain": [
       "True"
      ]
     },
     "execution_count": 8,
     "metadata": {},
     "output_type": "execute_result"
    }
   ],
   "source": [
    "51 - 20 == 29 + 2 and not False"
   ]
  },
  {
   "cell_type": "markdown",
   "id": "15",
   "metadata": {},
   "source": [
    "Can you explain how the result was obtained?\n",
    "\n",
    "___\n",
    "\n",
    "The arithmetic subexpressions are evaluated first: 31 = 31 and not false.\n",
    "The comparisons are evaluated next: true and not false.\n",
    "Finally, the logical operators are applied, leading to the final true value.\n",
    "\n",
    "Comparisons are left-associative. A double inequality like 1 ≤ *day* ≤ 31,\n",
    "which checks whether a variable's value is within a certain interval,\n",
    "is equivalent to '1 ≤ *day* and *day* ≤ 31'. The latter doesn't need parentheses\n",
    "because comparisons are evaluated before logical operations.\n",
    "The expression 0 < *day* < 32 is equivalent if *day* is an integer,\n",
    "but less clear in my opinion, because it doesn't state\n",
    "the lower and upper bounds of the interval explicitly.\n",
    "Python supports the double inequality notation, as shown in the next example."
   ]
  },
  {
   "cell_type": "markdown",
   "id": "16",
   "metadata": {},
   "source": [
    "<div class=\"alert alert-info\">\n",
    "<strong>Info:</strong> MU123 Unit&nbsp;2 Section&nbsp;4.2 and MST124 Unit&nbsp;3 Section&nbsp;1.1 introduce\n",
    "double inequalities and intervals.\n",
    "</div>"
   ]
  },
  {
   "cell_type": "markdown",
   "id": "17",
   "metadata": {},
   "source": [
    "The short-circuit conjunction and disjunction are useful to\n",
    "guard against errors. For example, let's suppose I want to check if\n",
    "a fraction corresponds to a probability, i.e.\n",
    "is in the interval from zero to one. If the denominator is zero,\n",
    "the fraction is undefined and thus not a probability."
   ]
  },
  {
   "cell_type": "code",
   "execution_count": 9,
   "id": "18",
   "metadata": {},
   "outputs": [
    {
     "data": {
      "text/plain": [
       "False"
      ]
     },
     "execution_count": 9,
     "metadata": {},
     "output_type": "execute_result"
    }
   ],
   "source": [
    "numerator = 5\n",
    "denominator = 0\n",
    "is_probability = denominator != 0 and 0 <= numerator / denominator <= 1\n",
    "is_probability"
   ]
  },
  {
   "cell_type": "markdown",
   "id": "19",
   "metadata": {},
   "source": [
    "There's no division by zero error.\n",
    "The left operand of the conjunction guarantees that\n",
    "the right operand is only evaluated if the fraction has a defined value.\n",
    "If you wish, you can change the denominator to, say,\n",
    "one ($\\frac{5}{1}$ isn't a probability) and then\n",
    "ten ($\\frac{5}{10}$ is a chance of one in two).\n",
    "\n",
    "We will avoid writing algorithms that depend on the short-circuit behaviour,\n",
    "because not all programming languages implement it.\n",
    "\n",
    "We assume comparisons are done in hardware and take constant time."
   ]
  },
  {
   "cell_type": "code",
   "execution_count": 10,
   "id": "20",
   "metadata": {},
   "outputs": [
    {
     "name": "stdout",
     "output_type": "stream",
     "text": [
      "14.8 ns ± 0.257 ns per loop (mean ± std. dev. of 3 runs, 1,000 loops each)\n",
      "16 ns ± 0.325 ns per loop (mean ± std. dev. of 3 runs, 1,000 loops each)\n",
      "22.3 ns ± 0.477 ns per loop (mean ± std. dev. of 3 runs, 1,000 loops each)\n",
      "22.2 ns ± 0.118 ns per loop (mean ± std. dev. of 3 runs, 1,000 loops each)\n"
     ]
    }
   ],
   "source": [
    "%timeit -r 3 -n 1000 9 > 8\n",
    "%timeit -r 3 -n 1000 9_999_999 > 9_999_998\n",
    "%timeit -r 3 -n 1000 9 != False\n",
    "%timeit -r 3 -n 1000 9_999_999 != False"
   ]
  },
  {
   "cell_type": "markdown",
   "id": "21",
   "metadata": {},
   "source": [
    "### 3.3.2 Mistakes"
   ]
  },
  {
   "cell_type": "markdown",
   "id": "22",
   "metadata": {},
   "source": [
    "In Python, a single equals sign is the assignment operator, not equality!\n",
    "The Boolean expression `x == y` checks if `x` and `y` refer to the same value,\n",
    "whereas the assignment `x = y` makes `x` refer to the same value as `y`.\n",
    "For example, `phone_on == False` checks if the phone is off,\n",
    "whereas `phone_on = False` turns it off.\n",
    "The Python interpreter may not raise an error and execute the assignment,\n",
    "even if you intended a comparison for equality.\n",
    "The interpreter can't read your mind (fortunately!) and\n",
    "executes any program that looks meaningful."
   ]
  },
  {
   "cell_type": "markdown",
   "id": "23",
   "metadata": {},
   "source": [
    "<div class=\"alert alert-warning\">\n",
    "<strong>Note:</strong> The difference between what we think we wrote and what we actually wrote\n",
    "is a source of many subtle errors. Always double-check your code.\n",
    "</div>"
   ]
  },
  {
   "cell_type": "markdown",
   "id": "24",
   "metadata": {},
   "source": [
    "More often than not, Python can detect the error, like in this case:"
   ]
  },
  {
   "cell_type": "code",
   "execution_count": 11,
   "id": "25",
   "metadata": {},
   "outputs": [
    {
     "ename": "SyntaxError",
     "evalue": "cannot assign to True (2676614206.py, line 1)",
     "output_type": "error",
     "traceback": [
      "\u001b[0;36m  Cell \u001b[0;32mIn[11], line 1\u001b[0;36m\u001b[0m\n\u001b[0;31m    True = 42\u001b[0m\n\u001b[0m    ^\u001b[0m\n\u001b[0;31mSyntaxError\u001b[0m\u001b[0;31m:\u001b[0m cannot assign to True\n"
     ]
    }
   ],
   "source": [
    "True = 42"
   ]
  },
  {
   "cell_type": "markdown",
   "id": "26",
   "metadata": {},
   "source": [
    "In `!=`, `<=` and `>=` there must be no space before the equals sign.\n",
    "If there is one, it separates a single operation (e.g. `>=`)\n",
    "into two (`>` and assignment), which leads to a syntax error."
   ]
  },
  {
   "cell_type": "code",
   "execution_count": 12,
   "id": "27",
   "metadata": {},
   "outputs": [
    {
     "ename": "SyntaxError",
     "evalue": "invalid syntax (3339432849.py, line 1)",
     "output_type": "error",
     "traceback": [
      "\u001b[0;36m  Cell \u001b[0;32mIn[12], line 1\u001b[0;36m\u001b[0m\n\u001b[0;31m    4 > = 3\u001b[0m\n\u001b[0m        ^\u001b[0m\n\u001b[0;31mSyntaxError\u001b[0m\u001b[0;31m:\u001b[0m invalid syntax\n"
     ]
    }
   ],
   "source": [
    "4 > = 3"
   ]
  },
  {
   "cell_type": "markdown",
   "id": "28",
   "metadata": {},
   "source": [
    "Another kind of mistake is to compare floats for equality.\n",
    "Due to their approximate representation of most decimal numbers,\n",
    "comparisons for equality may not work."
   ]
  },
  {
   "cell_type": "code",
   "execution_count": 13,
   "id": "29",
   "metadata": {},
   "outputs": [
    {
     "data": {
      "text/plain": [
       "False"
      ]
     },
     "execution_count": 13,
     "metadata": {},
     "output_type": "execute_result"
    }
   ],
   "source": [
    "0.1 + 0.2 == 0.3"
   ]
  },
  {
   "cell_type": "markdown",
   "id": "30",
   "metadata": {},
   "source": [
    "One way to handle such cases is to check if\n",
    "the value of the expression is within some error margin."
   ]
  },
  {
   "cell_type": "code",
   "execution_count": 14,
   "id": "31",
   "metadata": {},
   "outputs": [
    {
     "data": {
      "text/plain": [
       "True"
      ]
     },
     "execution_count": 14,
     "metadata": {},
     "output_type": "execute_result"
    }
   ],
   "source": [
    "margin = 0.001\n",
    "0.3 - margin <= 0.1 + 0.2 <= 0.3 + margin"
   ]
  },
  {
   "cell_type": "markdown",
   "id": "32",
   "metadata": {},
   "source": [
    "Comparisons having higher precedence than logical operations occasionally\n",
    "leads to somewhat surprising mistakes. For example, `False == not True` looks\n",
    "like an innocuous expression showing that false is the opposite of true.\n",
    "However, when evaluating it..."
   ]
  },
  {
   "cell_type": "code",
   "execution_count": 15,
   "id": "33",
   "metadata": {},
   "outputs": [
    {
     "ename": "SyntaxError",
     "evalue": "invalid syntax (1386348353.py, line 1)",
     "output_type": "error",
     "traceback": [
      "\u001b[0;36m  Cell \u001b[0;32mIn[15], line 1\u001b[0;36m\u001b[0m\n\u001b[0;31m    False == not True\u001b[0m\n\u001b[0m             ^\u001b[0m\n\u001b[0;31mSyntaxError\u001b[0m\u001b[0;31m:\u001b[0m invalid syntax\n"
     ]
    }
   ],
   "source": [
    "False == not True"
   ]
  },
  {
   "cell_type": "markdown",
   "id": "34",
   "metadata": {},
   "source": [
    "the interpreter raises a syntax error because it evaluates\n",
    "the comparison `False == not` first, which makes no sense.\n",
    "We must write `False == (not True)` to evaluate the expression as intended.\n",
    "\n",
    "We're used to arithmetic expressions since childhood,\n",
    "but the precedence rules of Boolean expressions are unfamiliar to most of us.\n",
    "Forgetting brackets can lead to syntax errors or, even worse,\n",
    "the wrong value being computed,\n",
    "e.g. due to the precedence of conjunction over disjunction.\n",
    "I therefore recommend:"
   ]
  },
  {
   "cell_type": "markdown",
   "id": "35",
   "metadata": {},
   "source": [
    "<div class=\"alert alert-warning\">\n",
    "<strong>Note:</strong> In a Boolean expression, put parentheses around each separate condition.\n",
    "</div>"
   ]
  },
  {
   "cell_type": "markdown",
   "id": "36",
   "metadata": {},
   "source": [
    "This may lead to a Boolean expression with redundant brackets, but\n",
    "clarity is worth a few extra characters."
   ]
  },
  {
   "cell_type": "markdown",
   "id": "37",
   "metadata": {},
   "source": [
    "#### Exercise 3.3.1"
   ]
  },
  {
   "cell_type": "markdown",
   "id": "38",
   "metadata": {},
   "source": [
    "Write an expression, in mathematical notation, not Python,\n",
    "that captures the meaning of 'either *left* or *right*',\n",
    "where *left* and *right* are Boolean values. The expression is true\n",
    "if and only if exactly one of *left* and *right* is true."
   ]
  },
  {
   "cell_type": "markdown",
   "id": "39",
   "metadata": {},
   "source": [
    "_Write your answer here._"
   ]
  },
  {
   "cell_type": "markdown",
   "id": "40",
   "metadata": {},
   "source": [
    "[Answer](../32_Answers/Answers_03_3_01.ipynb)"
   ]
  },
  {
   "cell_type": "markdown",
   "id": "41",
   "metadata": {},
   "source": [
    "#### Exercise 3.3.2"
   ]
  },
  {
   "cell_type": "markdown",
   "id": "42",
   "metadata": {},
   "source": [
    "1. List what's wrong in the expression `-5 > = value > -20 but value not 0`.\n",
    "1. Resolve the errors to get a syntactically correct expression.\n",
    "1. Simplify the expression."
   ]
  },
  {
   "cell_type": "markdown",
   "id": "43",
   "metadata": {},
   "source": [
    "_Write your answer here._"
   ]
  },
  {
   "cell_type": "markdown",
   "id": "44",
   "metadata": {},
   "source": [
    "[Hint](../31_Hints/Hints_03_3_02.ipynb)\n",
    "[Answer](../32_Answers/Answers_03_3_02.ipynb)"
   ]
  },
  {
   "cell_type": "markdown",
   "id": "45",
   "metadata": {},
   "source": [
    "⟵ [Previous section](03_2_decision.ipynb) | [Up](03-introduction.ipynb) | [Next section](03_4_classification.ipynb) ⟶"
   ]
  }
 ],
 "metadata": {
  "kernelspec": {
   "display_name": "Python 3",
   "language": "python",
   "name": "python3"
  },
  "language_info": {
   "codemirror_mode": {
    "name": "ipython",
    "version": 3
   },
   "file_extension": ".py",
   "mimetype": "text/x-python",
   "name": "python",
   "nbconvert_exporter": "python",
   "pygments_lexer": "ipython3",
   "version": "3.12.10"
  }
 },
 "nbformat": 4,
 "nbformat_minor": 5
}
