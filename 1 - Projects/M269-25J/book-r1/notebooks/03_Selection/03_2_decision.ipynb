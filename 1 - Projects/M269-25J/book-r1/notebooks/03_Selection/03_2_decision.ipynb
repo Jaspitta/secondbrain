{
 "cells": [
  {
   "cell_type": "markdown",
   "id": "0",
   "metadata": {},
   "source": [
    "## 3.2 Decision problems"
   ]
  },
  {
   "cell_type": "markdown",
   "id": "1",
   "metadata": {},
   "source": [
    "A problem that has only two possible outcomes is called a **decision problem**,\n",
    "like deciding whether an integer is even or odd, or is a natural number or not.\n",
    "The output of such problems is best represented as a Boolean.\n",
    "\n",
    "This section shows the process of solving a computational problem,\n",
    "using a decision problem as an example."
   ]
  },
  {
   "cell_type": "markdown",
   "id": "2",
   "metadata": {},
   "source": [
    "### 3.2.1 Problem definition"
   ]
  },
  {
   "cell_type": "markdown",
   "id": "3",
   "metadata": {},
   "source": [
    "Consider the following informal problem description:\n",
    "\n",
    "> Many mobile phone apps require internet access to work.\n",
    "> Implement a function that apps can call\n",
    "> to check if the phone has an internet connection, i.e.\n",
    "> if it's not in flight mode (which ceases all communications) and\n",
    "> Wi-Fi or mobile data are on.\n",
    "\n",
    "The first step towards solving this problem is to define the function.\n",
    "Decision problems should also have names that become yes/no questions\n",
    "when appending a question mark.\n",
    "Here are some options (other names are possible):\n",
    "\n",
    "**Function**: is internet connected\\\n",
    "**Function**: connected to internet\\\n",
    "**Function**: internet connection\n",
    "\n",
    "Next, I must think about the inputs.\n",
    "To determine if there's an internet connection, the function requires\n",
    "the current state of the flight mode, Wi-Fi connection and data connection.\n",
    "Each of those can be on or off. The operation therefore has three Boolean inputs.\n",
    "\n",
    "**Inputs**:\n",
    "*in flight mode*, a Boolean; *wifi on*, a Boolean; *data on*, a Boolean\n",
    "\n",
    "Remember that variable names are in lowercase and can't include hyphens,\n",
    "so it's *wifi on*, not _Wi-Fi on_.\n",
    "\n",
    "I can't think of any excluded value combinations, so:\n",
    "\n",
    "**Preconditions**: true\n",
    "\n",
    "In M269, the output of a decision problem is always a Boolean.\n",
    "\n",
    "**Output**: *internet on*, a Boolean\n",
    "\n",
    "The postcondition is given by the problem statement above:\n",
    "the phone has an internet connection if it's not in flight mode and\n",
    "Wi-Fi or mobile data are on.\n",
    "This statement, in everyday English, is like the statement about Alice:\n",
    "it doesn't use 'and' and 'or' with the same precedence as Boolean logic does.\n",
    "I must therefore translate it to the unambiguous English version we\n",
    "use in function definitions and algorithms, which relies on a precise meaning,\n",
    "precedence and associativity for 'and', 'or' and every other operation.\n",
    "\n",
    "**Postconditions**:\n",
    "*internet on* = true if and only if *in flight mode* = false and\n",
    "(*wifi on* = true or *data on* = true)\n",
    "\n",
    "A condition of the form '*b* = true', where *b* is a Boolean variable,\n",
    "is true when *b* is true and false when *b* is false.\n",
    "In other words, the condition has the same value as the variable and\n",
    "can thus be simplified to just *b*. Similarly,\n",
    "a condition of the form '*b* = false' has the opposite value of *b* and so\n",
    "can be simplified to 'not *b*'.\n",
    "Here's the whole definition, with these simplifications:\n",
    "\n",
    "**Function**: internet connection\\\n",
    "**Inputs**:\n",
    "*in flight mode*, a Boolean; *wifi on*, a Boolean; *data on*, a Boolean\\\n",
    "**Preconditions**: true\\\n",
    "**Output**: *internet on*, a Boolean\\\n",
    "**Postconditions**:\n",
    "*internet on* if and only if not *in flight mode* and\n",
    "(*wifi on* or *data on*)"
   ]
  },
  {
   "cell_type": "markdown",
   "id": "4",
   "metadata": {},
   "source": [
    "### 3.2.2 Problem instances"
   ]
  },
  {
   "cell_type": "markdown",
   "id": "5",
   "metadata": {},
   "source": [
    "The next step of the process is to think how we'll check our solution,\n",
    "when we have it."
   ]
  },
  {
   "cell_type": "markdown",
   "id": "6",
   "metadata": {},
   "source": [
    "<div class=\"alert alert-info\">\n",
    "<strong>Info:</strong> Defining tests before devising an algorithm is part of test-driven development.\n",
    "</div>"
   ]
  },
  {
   "cell_type": "markdown",
   "id": "7",
   "metadata": {},
   "source": [
    "The function definition describes the general problem.\n",
    "A **problem instance** is a concrete problem: a collection of values,\n",
    "one per input, that satisfy the preconditions. The problem instances are those for which the algorithm must produce the correct output,\n",
    "i.e. that satisfies the postconditions.\n",
    "\n",
    "A **test case** is a problem instance and its expected output.\n",
    "Writing a **test table** with one test case per row helps us check that\n",
    "we didn't forget any input, pre- or postcondition and\n",
    "helps us check our algorithm, once we write it.\n",
    "\n",
    "The table has one column per input and output, and\n",
    "one extra column to describe the test case.\n",
    "You should include problem instances for the **edge cases**,\n",
    "i.e. values that occur at the boundaries.\n",
    "Examples of edge cases are: the input's lowest and highest possible values;\n",
    "zero (the boundary between negative and positive integers);\n",
    "1 (the lowest positive number); −1 (the highest negative number).\n",
    "You can only include edge cases that satisfy the preconditions, or else\n",
    "the edge case is not a problem instance.\n",
    "\n",
    "This function has three inputs, each with two possible values, so there are\n",
    "only 2 × 2 × 2 = 8 problem instances. I consider the most interesting ones and\n",
    "leave the rest as an exercise for you.\n",
    "\n",
    "Case | *in flight mode* | *wifi on* | *data on* | *internet on*\n",
    "-|-|-|-|-\n",
    "all on | true | true | true | false\n",
    "all off | false | false | false | false\n",
    "Wi-Fi connection | false | true | false | true\n",
    "data connection | false | false | true | true\n",
    "both connections | false | true | true | true\n",
    "\n",
    "The chosen instances cover all cases for Wi-Fi and data: both, neither, or only\n",
    "one of them is on. In the first instance, the flight mode overrides the Wi-Fi\n",
    "and data connections and so there's no internet access."
   ]
  },
  {
   "cell_type": "markdown",
   "id": "8",
   "metadata": {},
   "source": [
    "<div class=\"alert alert-info\">\n",
    "<strong>Info:</strong> TM112 Block&nbsp;1 Section&nbsp;4.2.2 introduces test tables.\n",
    "</div>"
   ]
  },
  {
   "cell_type": "markdown",
   "id": "9",
   "metadata": {},
   "source": [
    "#### Exercise 3.2.1"
   ]
  },
  {
   "cell_type": "markdown",
   "id": "10",
   "metadata": {},
   "source": [
    "Write the three remaining problem instances in the table below.\n",
    "\n",
    "Case | *in flight mode* | *wifi on* | *data on* | *internet on*\n",
    "-|-|-|-|-\n",
    "  |   |   |   |\n",
    "  |   |   |   |\n",
    "  |   |   |   |\n",
    "\n",
    "\n",
    "[Hint](../31_Hints/Hints_03_2_01.ipynb)\n",
    "[Answer](../32_Answers/Answers_03_2_01.ipynb)"
   ]
  },
  {
   "cell_type": "markdown",
   "id": "11",
   "metadata": {},
   "source": [
    "### 3.2.3 Algorithm"
   ]
  },
  {
   "cell_type": "markdown",
   "id": "12",
   "metadata": {},
   "source": [
    "The next step is to write an algorithm in plain but unambiguous English\n",
    "(and some maths, if necessary).\n",
    "This is the most creative step of the whole process: there's no recipe for it.\n",
    "M269 teaches several algorithmic techniques to put you in the right\n",
    "direction, but coming up with the algorithm can still be hard work.\n",
    "\n",
    "For this problem I must translate the postcondition into an assignment:\n",
    "\n",
    "> let *internet on* be (not *flight mode*) and (*wifi on* or *data on*)\n",
    "\n",
    "The first pair of parentheses is redundant because\n",
    "negations are evaluated before conjunctions, but\n",
    "I think they make the expression easier to read and understand."
   ]
  },
  {
   "cell_type": "markdown",
   "id": "13",
   "metadata": {},
   "source": [
    "### 3.2.4 Complexity"
   ]
  },
  {
   "cell_type": "markdown",
   "id": "14",
   "metadata": {},
   "source": [
    "The next step is to analyse the complexity of our algorithm and,\n",
    "if it turns out to be too high, i.e. the algorithm is too inefficient,\n",
    "go back to the previous step and improve or completely redesign the algorithm.\n",
    "\n",
    "My algorithm does a fixed number of operations:\n",
    "one assignment and three logical operations (one of each). The algorithm has\n",
    "constant complexity, assuming that logical operations have constant complexity.\n",
    "Do you think that's a reasonable assumption?\n",
    "\n",
    "___\n",
    "\n",
    "Definitely, for three reasons. First, logical operations are\n",
    "executed in hardware, by the computer's arithmetic and logic unit (ALU).\n",
    "Second, Booleans can't grow in value and size, unlike numbers, because\n",
    "there's only two of them. Hence the run-time of logical operations can't grow.\n",
    "Third, computing the result of a logical operation consists of a fixed number\n",
    "of elementary steps to look up a truth table of at most four rows."
   ]
  },
  {
   "cell_type": "markdown",
   "id": "15",
   "metadata": {},
   "source": [
    "<div class=\"alert alert-info\">\n",
    "<strong>Info:</strong> TM112 Block&nbsp;1 Section&nbsp;3.1.1 introduces the ALU.\n",
    "</div>"
   ]
  },
  {
   "cell_type": "markdown",
   "id": "16",
   "metadata": {},
   "source": [
    "The algorithm has complexity Θ(1). That's as good as it gets."
   ]
  },
  {
   "cell_type": "markdown",
   "id": "17",
   "metadata": {},
   "source": [
    "### 3.2.5 Code and tests"
   ]
  },
  {
   "cell_type": "markdown",
   "id": "18",
   "metadata": {},
   "source": [
    "Finally, we translate the function definition and the algorithm\n",
    "to a Python function.\n",
    "The header is rather long and so I write the parameters over multiple lines."
   ]
  },
  {
   "cell_type": "code",
   "execution_count": 1,
   "id": "19",
   "metadata": {},
   "outputs": [],
   "source": [
    "def internet_connection(in_flight_mode: bool, wifi_on: bool, data_on: bool) -> bool:\n",
    "    \"\"\"Return whether there's a connection to the internet.\n",
    "\n",
    "    Postconditions: the output is true if and only if\n",
    "    (not in_flight_mode) and (wifi_on or data_on)\n",
    "    \"\"\"\n",
    "    internet_on = (not in_flight_mode) and (wifi_on or data_on)\n",
    "    return internet_on"
   ]
  },
  {
   "cell_type": "markdown",
   "id": "20",
   "metadata": {},
   "source": [
    "To check the algorithm and its translation to Python, I must\n",
    "call the Python function for each test case in my table and\n",
    "compare the interpreter's output with the last column of the table."
   ]
  },
  {
   "cell_type": "code",
   "execution_count": 2,
   "id": "21",
   "metadata": {},
   "outputs": [
    {
     "data": {
      "text/plain": [
       "False"
      ]
     },
     "execution_count": 2,
     "metadata": {},
     "output_type": "execute_result"
    }
   ],
   "source": [
    "internet_connection(True, True, True)"
   ]
  },
  {
   "cell_type": "code",
   "execution_count": 3,
   "id": "22",
   "metadata": {},
   "outputs": [
    {
     "data": {
      "text/plain": [
       "False"
      ]
     },
     "execution_count": 3,
     "metadata": {},
     "output_type": "execute_result"
    }
   ],
   "source": [
    "internet_connection(False, False, False)"
   ]
  },
  {
   "cell_type": "code",
   "execution_count": 4,
   "id": "23",
   "metadata": {},
   "outputs": [
    {
     "data": {
      "text/plain": [
       "True"
      ]
     },
     "execution_count": 4,
     "metadata": {},
     "output_type": "execute_result"
    }
   ],
   "source": [
    "internet_connection(False, True, False)"
   ]
  },
  {
   "cell_type": "code",
   "execution_count": 5,
   "id": "24",
   "metadata": {},
   "outputs": [
    {
     "data": {
      "text/plain": [
       "True"
      ]
     },
     "execution_count": 5,
     "metadata": {},
     "output_type": "execute_result"
    }
   ],
   "source": [
    "internet_connection(False, False, True)"
   ]
  },
  {
   "cell_type": "code",
   "execution_count": 6,
   "id": "25",
   "metadata": {},
   "outputs": [
    {
     "data": {
      "text/plain": [
       "True"
      ]
     },
     "execution_count": 6,
     "metadata": {},
     "output_type": "execute_result"
    }
   ],
   "source": [
    "internet_connection(False, True, True)"
   ]
  },
  {
   "cell_type": "markdown",
   "id": "26",
   "metadata": {},
   "source": [
    "#### Exercise 3.2.2"
   ]
  },
  {
   "cell_type": "markdown",
   "id": "27",
   "metadata": {},
   "source": [
    "Add the calls for the remaining three problem instances.\n",
    "The quickest way is to copy and paste code cells and change as necessary.\n",
    "\n",
    "[Answer](../32_Answers/Answers_03_2_02.ipynb)"
   ]
  },
  {
   "cell_type": "markdown",
   "id": "28",
   "metadata": {},
   "source": [
    "### 3.2.6 Performance"
   ]
  },
  {
   "cell_type": "markdown",
   "id": "29",
   "metadata": {},
   "source": [
    "The last step is to measure the run-time of the implemented function.\n",
    "As explained in the previous chapter, complexity analysis only gives us an idea\n",
    "of how the run-time grows for increasingly large inputs:\n",
    "it doesn't tell us whether the implemented algorithm runs slow or fast.\n",
    "\n",
    "Often we won't do any run-time measurement as there's little point in it,\n",
    "like in this example. I expect the run-times to be pretty small,\n",
    "given that the function just does a few logical operations, one assignment\n",
    "and one return statement (which also takes constant time).\n",
    "\n",
    "Let's check that logical operations take constant time."
   ]
  },
  {
   "cell_type": "code",
   "execution_count": 7,
   "id": "30",
   "metadata": {},
   "outputs": [
    {
     "name": "stdout",
     "output_type": "stream",
     "text": [
      "52.5 ns ± 0.472 ns per loop (mean ± std. dev. of 3 runs, 1,000 loops each)\n",
      "61.8 ns ± 0.465 ns per loop (mean ± std. dev. of 3 runs, 1,000 loops each)\n"
     ]
    }
   ],
   "source": [
    "%timeit -r 3 -n 1000 internet_connection(True, True, True)\n",
    "%timeit -r 3 -n 1000 internet_connection(False, False, False)"
   ]
  },
  {
   "cell_type": "markdown",
   "id": "31",
   "metadata": {},
   "source": [
    "On my computer the second call takes longer than the first one.\n",
    "Can you explain the reason?\n",
    "\n",
    "___\n",
    "\n",
    "The first call doesn't execute the disjunction operation.\n",
    "It short-circuits the conjunction because `in_flight_mode` is true\n",
    "and thus the left operand (`not in_flight_mode`) is false.\n",
    "The second call takes longer to run because it doesn't short-circuit any\n",
    "operation: the left operand of the conjunction is true and\n",
    "the left operand of the disjunction (`wifi_on`) is false.\n",
    "\n",
    "To compare like for like, we must make two calls that do the same number of\n",
    "evaluations. Here are two that don't short-circuit any expression and therefore\n",
    "execute all logical operations (negation, conjunction and disjunction)."
   ]
  },
  {
   "cell_type": "code",
   "execution_count": 8,
   "id": "32",
   "metadata": {},
   "outputs": [
    {
     "name": "stdout",
     "output_type": "stream",
     "text": [
      "61.8 ns ± 0.425 ns per loop (mean ± std. dev. of 3 runs, 1,000 loops each)\n",
      "61.8 ns ± 0.343 ns per loop (mean ± std. dev. of 3 runs, 1,000 loops each)\n"
     ]
    }
   ],
   "source": [
    "%timeit -r 3 -n 1000 internet_connection(False, False, False)\n",
    "%timeit -r 3 -n 1000 internet_connection(False, False, True)"
   ]
  },
  {
   "cell_type": "markdown",
   "id": "33",
   "metadata": {},
   "source": [
    "The run-times are now more similar."
   ]
  },
  {
   "cell_type": "markdown",
   "id": "34",
   "metadata": {},
   "source": [
    "#### Exercise 3.2.3"
   ]
  },
  {
   "cell_type": "markdown",
   "id": "35",
   "metadata": {},
   "source": [
    "Measure the run-times of two function calls that\n",
    "don't short-circuit the conjunction, but short-circuit the disjunction."
   ]
  },
  {
   "cell_type": "code",
   "execution_count": 9,
   "id": "36",
   "metadata": {},
   "outputs": [],
   "source": [
    "# replace with your code"
   ]
  },
  {
   "cell_type": "markdown",
   "id": "37",
   "metadata": {},
   "source": [
    "[Hint](../31_Hints/Hints_03_2_03.ipynb)\n",
    "[Answer](../32_Answers/Answers_03_2_03.ipynb)"
   ]
  },
  {
   "cell_type": "markdown",
   "id": "38",
   "metadata": {},
   "source": [
    "⟵ [Previous section](03_1_booleans.ipynb) | [Up](03-introduction.ipynb) | [Next section](03_3_expressions.ipynb) ⟶"
   ]
  }
 ],
 "metadata": {
  "kernelspec": {
   "display_name": "Python 3",
   "language": "python",
   "name": "python3"
  },
  "language_info": {
   "codemirror_mode": {
    "name": "ipython",
    "version": 3
   },
   "file_extension": ".py",
   "mimetype": "text/x-python",
   "name": "python",
   "nbconvert_exporter": "python",
   "pygments_lexer": "ipython3",
   "version": "3.12.10"
  }
 },
 "nbformat": 4,
 "nbformat_minor": 5
}
