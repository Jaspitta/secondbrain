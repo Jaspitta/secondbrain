{
 "cells": [
  {
   "cell_type": "markdown",
   "id": "0",
   "metadata": {},
   "source": [
    "## 3.1 Booleans"
   ]
  },
  {
   "cell_type": "markdown",
   "id": "1",
   "metadata": {},
   "source": [
    "Besides numbers, most algorithms need logical values in order to represent\n",
    "binary properties (this section) and conditions\n",
    "([Section&nbsp;3.3](../03_Selection/03_3_expressions.ipynb#3.3-Boolean-expressions))."
   ]
  },
  {
   "cell_type": "markdown",
   "id": "2",
   "metadata": {},
   "source": [
    "### 3.1.1 The Boolean ADT"
   ]
  },
  {
   "cell_type": "markdown",
   "id": "3",
   "metadata": {},
   "source": [
    "The Boolean ADT consists of two logical values, true and false,\n",
    "and three logical operations, all of them functions in the mathematical sense\n",
    "(they produce one output, without changing the inputs):\n",
    "\n",
    "- The output of the **conjunction** operation, written *left* and *right*,\n",
    "where *left* and *right* are Boolean values,\n",
    "is true if both operands are true, otherwise it's false.\n",
    "\n",
    "- The output of the **disjunction** operation, written *left* or *right*,\n",
    "is false if both operands are false, otherwise it's true.\n",
    "\n",
    "- The output of the **negation** operation, written not *right*,\n",
    "is true if the operand is false, and false if the operand is true.\n",
    "\n",
    "We use the terms 'arithmetic negation' and 'logical negation' when\n",
    "it's not clear from the context what 'negation' refers to."
   ]
  },
  {
   "cell_type": "markdown",
   "id": "4",
   "metadata": {},
   "source": [
    "<div class=\"alert alert-info\">\n",
    "<strong>Info:</strong> The conjunction, disjunction and negation operators are also written as\n",
    "∧, ∨ and ¬, respectively.\n",
    "</div>"
   ]
  },
  {
   "cell_type": "markdown",
   "id": "5",
   "metadata": {},
   "source": [
    "These definitions can be written using the M269 function template.\n",
    "Here's an example:\n",
    "\n",
    "**Function**: conjunction\\\n",
    "**Inputs**: *left*, a Boolean; *right*, a Boolean\\\n",
    "**Preconditions**: true\\\n",
    "**Output**: *result*, a Boolean\\\n",
    "**Postconditions**:\n",
    "if *left* = *right* = true, then *result* = true, otherwise *result* = false\n",
    "\n",
    "Only the input values that make the preconditions true are allowed.\n",
    "So, if the precondition is always true, any input value satisfies it.\n",
    "We henceforth write 'true' as the precondition when all input values are valid.\n",
    "\n",
    "There are only two Boolean values, so if the output isn't true,\n",
    "it must be false, and vice versa. This leads to a more succinct way of\n",
    "writing postconditions for operations with a Boolean output.\n",
    "\n",
    "**Postconditions**: *result* = true if and only if *left* = *right* = true\n",
    "\n",
    "This states that the output is true if both inputs are true,\n",
    "and only in that case is the output true, i.e.\n",
    "for other input values the output is false."
   ]
  },
  {
   "cell_type": "markdown",
   "id": "6",
   "metadata": {},
   "source": [
    "<div class=\"alert alert-info\">\n",
    "<strong>Info:</strong> Some authors shorten 'if and only if' to 'iff'.\n",
    "</div>"
   ]
  },
  {
   "cell_type": "markdown",
   "id": "7",
   "metadata": {},
   "source": [
    "An alternative way of defining the Boolean operations is to\n",
    "write a **truth table** that shows the outputs for all possible inputs.\n",
    "\n",
    "*left* | *right* | *left* and *right* | *left* or *right*\n",
    "-|-|-|-\n",
    "false | false | false | false | true\n",
    "false | true | false | true | false\n",
    "true | false | false | true | true\n",
    "true | true  | true  | true | false\n",
    "\n",
    "*value* | not *value*\n",
    "-|-\n",
    "false | true\n",
    "true  |  false"
   ]
  },
  {
   "cell_type": "markdown",
   "id": "8",
   "metadata": {},
   "source": [
    "<div class=\"alert alert-info\">\n",
    "<strong>Info:</strong> TM112 Block&nbsp;1 Section&nbsp;1.3 introduces the logical operations and truth tables.\n",
    "Truth tables sometimes use 0 and 1, or F and T, for false and true.\n",
    "</div>"
   ]
  },
  {
   "cell_type": "markdown",
   "id": "9",
   "metadata": {},
   "source": [
    "Negation is right-associative and has higher precedence than conjunction,\n",
    "which in turn has higher precedence than disjunction.\n",
    "Conjunction and disjunction are left-associative. For example,\n",
    "the expression 'true and not true or true' is evaluated as follows:\\\n",
    "(true and (not true)) or true = (true and false) or true = false or true = true."
   ]
  },
  {
   "cell_type": "markdown",
   "id": "10",
   "metadata": {},
   "source": [
    "#### Exercise 3.1.1"
   ]
  },
  {
   "cell_type": "markdown",
   "id": "11",
   "metadata": {},
   "source": [
    "Fill the function definition template for the disjunction operation.\n",
    "Don't forget to keep the backslash at the end of each line.\n",
    "\n",
    "**Function**: disjunction\\\n",
    "**Inputs**: the name and data type of each input\\\n",
    "**Preconditions**: any conditions on the inputs\\\n",
    "**Output**: the name and data type of the result\\\n",
    "**Postconditions**: how the output relates to the inputs\n",
    "\n",
    "[Hint](../31_Hints/Hints_03_1_01.ipynb)\n",
    "[Answer](../32_Answers/Answers_03_1_01.ipynb)"
   ]
  },
  {
   "cell_type": "markdown",
   "id": "12",
   "metadata": {},
   "source": [
    "#### Exercise 3.1.2"
   ]
  },
  {
   "cell_type": "markdown",
   "id": "13",
   "metadata": {},
   "source": [
    "Define the negation operation. Make the postcondition as brief as possible.\n",
    "\n",
    "**Function**: \\\n",
    "**Inputs**: \\\n",
    "**Preconditions**: \\\n",
    "**Output**: \\\n",
    "**Postconditions**:\n",
    "\n",
    "[Hint](../31_Hints/Hints_03_1_02.ipynb)\n",
    "[Answer](../32_Answers/Answers_03_1_02.ipynb)"
   ]
  },
  {
   "cell_type": "markdown",
   "id": "14",
   "metadata": {},
   "source": [
    "### 3.1.2 Using Booleans"
   ]
  },
  {
   "cell_type": "markdown",
   "id": "15",
   "metadata": {},
   "source": [
    "Booleans are used to represent properties that have only two possible states:\n",
    "on/off, open/closed, up/down, pass/fail, inside/outside, etc.\n",
    "We have to decide which state is represented by which Boolean value.\n",
    "\n",
    "For example, a Boolean variable can represent whether a mobile phone\n",
    "is on or off. Let's assume that value true indicates that the phone is on.\n",
    "The variable name must reflect that choice, so I'll call it *phone on*.\n",
    "When bought, the phone is off, so the variable is initialised to false.\n",
    "\n",
    "> let *phone on* be false\n",
    "\n",
    "If I prefer to represent the off state as the true value,\n",
    "then I must change the variable's name and initial value.\n",
    "\n",
    "> let *phone off* be true\n",
    "\n",
    "A rule of thumb for choosing Boolean variable names is that they should\n",
    "become unambiguous yes/no questions when you add a question mark at the end.\n",
    "The name *phone is on* is a good one too, albeit more verbose,\n",
    "because 'phone is on?' is a precise yes/no question.\n",
    "The name *phone* is a very poor one, because 'phone?' is an ambiguous question.\n",
    "It can mean 'do you need a phone?' or 'do you have a phone?' or something else.\n",
    "\n",
    "Negation switches from one state to the other,\n",
    "like when flipping a switch or tapping a button. For example,\n",
    "\n",
    "> let *phone on* be not *phone on*\n",
    "\n",
    "turns the phone off if it was on and vice versa."
   ]
  },
  {
   "cell_type": "markdown",
   "id": "16",
   "metadata": {},
   "source": [
    "#### Exercise 3.1.3"
   ]
  },
  {
   "cell_type": "markdown",
   "id": "17",
   "metadata": {},
   "source": [
    "Is *phone state* a good name for a Boolean variable?"
   ]
  },
  {
   "cell_type": "markdown",
   "id": "18",
   "metadata": {},
   "source": [
    "_Write your answer here._"
   ]
  },
  {
   "cell_type": "markdown",
   "id": "19",
   "metadata": {},
   "source": [
    "[Answer](../32_Answers/Answers_03_1_03.ipynb)"
   ]
  },
  {
   "cell_type": "markdown",
   "id": "20",
   "metadata": {},
   "source": [
    "#### Exercise 3.1.4"
   ]
  },
  {
   "cell_type": "markdown",
   "id": "21",
   "metadata": {},
   "source": [
    "Look at the settings of your mobile phone.\n",
    "List some that can be represented as Booleans."
   ]
  },
  {
   "cell_type": "markdown",
   "id": "22",
   "metadata": {},
   "source": [
    "_Write your answer here._"
   ]
  },
  {
   "cell_type": "markdown",
   "id": "23",
   "metadata": {},
   "source": [
    "[Answer](../32_Answers/Answers_03_1_04.ipynb)"
   ]
  },
  {
   "cell_type": "markdown",
   "id": "24",
   "metadata": {},
   "source": [
    "### 3.1.3 The `bool` type"
   ]
  },
  {
   "cell_type": "markdown",
   "id": "25",
   "metadata": {},
   "source": [
    "Python's `bool` type implements the Boolean ADT.\n",
    "The logical values true and false are represented by\n",
    "the literals `True` and `False`, which are keywords.\n",
    "Notice the initial uppercase letter!\n",
    "\n",
    "The conjunction, disjunction and negation operations are written with\n",
    "the operators `and`, `or` and `not` respectively, which are keywords too.\n",
    "Here are some earlier examples, now in Python:"
   ]
  },
  {
   "cell_type": "code",
   "execution_count": 1,
   "id": "26",
   "metadata": {},
   "outputs": [
    {
     "data": {
      "text/plain": [
       "True"
      ]
     },
     "execution_count": 1,
     "metadata": {},
     "output_type": "execute_result"
    }
   ],
   "source": [
    "True and not True or True"
   ]
  },
  {
   "cell_type": "code",
   "execution_count": 2,
   "id": "27",
   "metadata": {},
   "outputs": [
    {
     "data": {
      "text/plain": [
       "True"
      ]
     },
     "execution_count": 2,
     "metadata": {},
     "output_type": "execute_result"
    }
   ],
   "source": [
    "phone_on = False\n",
    "phone_on = not phone_on\n",
    "phone_on"
   ]
  },
  {
   "cell_type": "markdown",
   "id": "28",
   "metadata": {},
   "source": [
    "The Python interpreter stops evaluating conjunctions and disjunctions\n",
    "as soon as it can determine the value of the expression.\n",
    "If the left operand of a conjunction is false then the whole conjunction is false,\n",
    "so the right operand isn't evaluated.\n",
    "Likewise, if the left operand of a disjunction is true then\n",
    "the whole disjunction is true, so the right operand isn't evaluated.\n",
    "This is called the **short-circuit** evaluation of Boolean expressions.\n",
    "We'll see later why this is useful."
   ]
  },
  {
   "cell_type": "markdown",
   "id": "29",
   "metadata": {},
   "source": [
    "#### Exercise 3.1.5"
   ]
  },
  {
   "cell_type": "markdown",
   "id": "30",
   "metadata": {},
   "source": [
    "Put parentheses in this expression so that it evaluates to false."
   ]
  },
  {
   "cell_type": "code",
   "execution_count": 3,
   "id": "31",
   "metadata": {},
   "outputs": [],
   "source": [
    "True and not True or True"
   ]
  },
  {
   "cell_type": "markdown",
   "id": "32",
   "metadata": {},
   "source": [
    "I've removed the output in this and future exercises with Python code.\n",
    "Until you complete the exercises, their code output is necessarily wrong,\n",
    "so there's no point in showing it.\n",
    "\n",
    "[Hint](../31_Hints/Hints_03_1_05.ipynb)\n",
    "[Answer](../32_Answers/Answers_03_1_05.ipynb)"
   ]
  },
  {
   "cell_type": "markdown",
   "id": "33",
   "metadata": {},
   "source": [
    "#### Exercise 3.1.6"
   ]
  },
  {
   "cell_type": "markdown",
   "id": "34",
   "metadata": {},
   "source": [
    "What may happen if you write Booleans in lowercase, i.e. `true` and `false`?"
   ]
  },
  {
   "cell_type": "markdown",
   "id": "35",
   "metadata": {},
   "source": [
    "_Write your answer here._"
   ]
  },
  {
   "cell_type": "markdown",
   "id": "36",
   "metadata": {},
   "source": [
    "[Hint](../31_Hints/Hints_03_1_06.ipynb)\n",
    "[Answer](../32_Answers/Answers_03_1_06.ipynb)"
   ]
  },
  {
   "cell_type": "markdown",
   "id": "37",
   "metadata": {},
   "source": [
    "### 3.1.4 Mistakes"
   ]
  },
  {
   "cell_type": "markdown",
   "id": "38",
   "metadata": {},
   "source": [
    "In everyday English, 'this or that' often means 'either this or that',\n",
    "i.e. only one of them can be true,\n",
    "as in the statement 'We will go to the movies or to the park'.\n",
    "In Boolean logic, disjunction never has that meaning.\n",
    "If it had, 'true or true' would be false.\n",
    "\n",
    "It's easy to forget that conjunction is evaluated before disjunction,\n",
    "because it tends to be the other way round in English. The sentence\n",
    "'Alice is tall and has blue or brown eyes' means that\n",
    "Alice is tall and that Alice has blue or brown eyes.\n",
    "But read as a Boolean expression, the sentence means that\n",
    "Alice is tall and has blue eyes, or that Alice has brown eyes.\n",
    "If Alice is short and has brown eyes,\n",
    "the sentence is false according to the usual meaning in English,\n",
    "but true according to the logical meaning."
   ]
  },
  {
   "cell_type": "code",
   "execution_count": 4,
   "id": "39",
   "metadata": {},
   "outputs": [
    {
     "data": {
      "text/plain": [
       "True"
      ]
     },
     "execution_count": 4,
     "metadata": {},
     "output_type": "execute_result"
    }
   ],
   "source": [
    "is_tall = False\n",
    "blue_eyes = False\n",
    "brown_eyes = True\n",
    "is_tall and blue_eyes or brown_eyes"
   ]
  },
  {
   "cell_type": "markdown",
   "id": "40",
   "metadata": {},
   "source": [
    "The informal English meaning of the statement is obtained with parentheses:"
   ]
  },
  {
   "cell_type": "code",
   "execution_count": 5,
   "id": "41",
   "metadata": {},
   "outputs": [
    {
     "data": {
      "text/plain": [
       "False"
      ]
     },
     "execution_count": 5,
     "metadata": {},
     "output_type": "execute_result"
    }
   ],
   "source": [
    "is_tall and (blue_eyes or brown_eyes)"
   ]
  },
  {
   "cell_type": "markdown",
   "id": "42",
   "metadata": {},
   "source": [
    "<div class=\"alert alert-warning\">\n",
    "<strong>Note:</strong> The meaning of conjunction and disjunction in Boolean logic is not the same\n",
    "as the meaning of 'and' and 'or' in everyday English.\n",
    "</div>"
   ]
  },
  {
   "cell_type": "markdown",
   "id": "43",
   "metadata": {},
   "source": [
    "The short-circuit evaluation of conjunction and disjunction can lead to\n",
    "errors that are hard to detect. For example, the expression"
   ]
  },
  {
   "cell_type": "code",
   "execution_count": 6,
   "id": "44",
   "metadata": {},
   "outputs": [
    {
     "data": {
      "text/plain": [
       "True"
      ]
     },
     "execution_count": 6,
     "metadata": {},
     "output_type": "execute_result"
    }
   ],
   "source": [
    "is_tall and blue_eys or brown_eyes"
   ]
  },
  {
   "cell_type": "markdown",
   "id": "45",
   "metadata": {},
   "source": [
    "is evaluated as before, even though the second variable is misspelled.\n",
    "(Did you spot it?)\n",
    "There's no name error because the right operand isn't evaluated."
   ]
  },
  {
   "cell_type": "markdown",
   "id": "46",
   "metadata": {},
   "source": [
    "#### Exercise 3.1.7"
   ]
  },
  {
   "cell_type": "markdown",
   "id": "47",
   "metadata": {},
   "source": [
    "Show the step-by-step evaluation of the following expression,\n",
    "using the precedence and associativity rules.\n",
    "\n",
    "> true or not true and false or not false"
   ]
  },
  {
   "cell_type": "markdown",
   "id": "48",
   "metadata": {},
   "source": [
    "_Write your answer here._"
   ]
  },
  {
   "cell_type": "markdown",
   "id": "49",
   "metadata": {},
   "source": [
    "[Hint](../31_Hints/Hints_03_1_07.ipynb)\n",
    "[Answer](../32_Answers/Answers_03_1_07.ipynb)"
   ]
  },
  {
   "cell_type": "markdown",
   "id": "50",
   "metadata": {},
   "source": [
    "⟵ [Previous section](03-introduction.ipynb) | [Up](03-introduction.ipynb) | [Next section](03_2_decision.ipynb) ⟶"
   ]
  }
 ],
 "metadata": {
  "kernelspec": {
   "display_name": "Python 3",
   "language": "python",
   "name": "python3"
  },
  "language_info": {
   "codemirror_mode": {
    "name": "ipython",
    "version": 3
   },
   "file_extension": ".py",
   "mimetype": "text/x-python",
   "name": "python",
   "nbconvert_exporter": "python",
   "pygments_lexer": "ipython3",
   "version": "3.12.10"
  }
 },
 "nbformat": 4,
 "nbformat_minor": 5
}
