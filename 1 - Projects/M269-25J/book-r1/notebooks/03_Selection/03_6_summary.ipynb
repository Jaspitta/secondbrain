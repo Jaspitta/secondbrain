{
 "cells": [
  {
   "cell_type": "markdown",
   "id": "0",
   "metadata": {},
   "source": [
    "## 3.6 Summary"
   ]
  },
  {
   "cell_type": "markdown",
   "id": "1",
   "metadata": {},
   "source": [
    "### 3.6.1 Booleans"
   ]
  },
  {
   "cell_type": "markdown",
   "id": "2",
   "metadata": {},
   "source": [
    "The **Boolean** ADT and Python's `bool` type consist of\n",
    "two values and three logical operations.\n",
    "\n",
    "Values and operations | Boolean ADT | `bool` type\n",
    "-|-|-\n",
    "values  | true false  | `True` `False`\n",
    "negation  | not *value* | `not b`\n",
    "conjunction | *left* and *right* | `left and right`\n",
    "disjunction | *left* or *right* | `left or right`\n",
    "\n",
    "In Python, the Boolean literals and logical operators are keywords.\n",
    "\n",
    "A **negation** is true if and only if the operand is false.\n",
    "A **conjunction** is true if and only if both operands are true.\n",
    "A **disjunction** is true if and only if at least one of the operands is true.\n",
    "In Python, conjunction and disjunction are **short-circuit operators**:\n",
    "the right operand isn't evaluated if the left operand determines the result.\n",
    "\n",
    "The comparison operations compare any two values *v1* and *v2*,\n",
    "or any two numbers *n1* and *n2*, and produce a Boolean:\n",
    "\n",
    "Operation | Maths | Python\n",
    "-|-|-\n",
    "equality  | *v1* = *v2* | `v1 == v2`\n",
    "inequality  | *v1* ≠ *v2* | `v1 != v2`\n",
    "less than | *n1* < *n2* | `n1 < n2`\n",
    "less than or equal to | *n1* ≤ *n2* | `n1 <= n2`\n",
    "greater than | *n1* > *n2* | `n1 > n2`\n",
    "greater than or equal to | *n1* ≥ *n2* | `n1 >= n2`\n",
    "\n",
    "All logical and comparison operators are left-associative,\n",
    "except negation, which is right-associative.\n",
    "The precedence of operations, from highest to lowest, is:\n",
    "arithmetic operations, comparisons, negations, conjunctions, disjunctions.\n",
    "\n",
    "All comparison and logical operations take constant time."
   ]
  },
  {
   "cell_type": "markdown",
   "id": "3",
   "metadata": {},
   "source": [
    "### 3.6.2 Solving problems"
   ]
  },
  {
   "cell_type": "markdown",
   "id": "4",
   "metadata": {},
   "source": [
    "The M269 problem-solving process has the following steps.\n",
    "\n",
    "1. Define the function by filling in the template given in the previous chapter.\n",
    "\n",
    "2. Write a test table. Each row is a **test case**: a **problem instance**\n",
    "(input values that satisfy the preconditions) and its corresponding output.\n",
    "The table has one column per input,\n",
    "one column for the output, and one column to describe the test case.\n",
    "The test table should ideally cover all edge cases (boundary values).\n",
    "\n",
    "3. Write an algorithm in plain English with mathematical notation\n",
    "as necessary. To check if the algorithm is incorrect, try to find a\n",
    "**counter-example** – a problem instance that leads to a wrong output.\n",
    "\n",
    "4. Analyse the complexity of the algorithm by looking at\n",
    "how many operations it executes and the complexity of each one.\n",
    "Check if there's a **best- or worst-case scenario**, i.e. a collection of\n",
    "problem instances that require the algorithm to do the least\n",
    "(respectively, most) work.\n",
    "All best- or worst-case scenarios have respectively\n",
    "the same **best- or worst-case complexity**.\n",
    "If the best- and worst-case complexities are the same,\n",
    "just state 'the algorithm has complexity ...'.\n",
    "\n",
    "5. Translate the function definition and algorithm to a Python function.\n",
    "\n",
    "6. Test the Python function by calling it with each problem instance in the test\n",
    "   table and comparing the returned value to the expected output.\n",
    "   The function passes the tests if all equalities are true.\n",
    "\n",
    "7. Measure the function's performance for a range of input values,\n",
    "   with the `%timeit` command.\n",
    "\n",
    "The process is iterative: doing one step may require revising a previous one."
   ]
  },
  {
   "cell_type": "markdown",
   "id": "5",
   "metadata": {},
   "source": [
    "### 3.6.3 Classification problems"
   ]
  },
  {
   "cell_type": "markdown",
   "id": "6",
   "metadata": {},
   "source": [
    "A **classification problem** assigns each problem instance to a category.\n",
    "A **decision problem** is a classification problem with two categories,\n",
    "i.e. a problem with a yes/no answer, represented as a Boolean output.\n",
    "\n",
    "A simple classification algorithm is a sequence of selection statements\n",
    "(also called conditional statements) to determine the category.\n",
    "\n",
    "1. if *input* is ...:\n",
    "   1. let *category* be ...\n",
    "1. if *input* is ...:\n",
    "   1. let *category* be ...\n",
    "1. etc.\n",
    "\n",
    "For this algorithm to be correct, the conditions must be\n",
    "mutually exclusive (they don't overlap) and\n",
    "comprehensive (they cover all problem instances).\n",
    "This ensures that for each valid input exactly one condition is true,\n",
    "i.e. each problem instance is classified in exactly one category,\n",
    "and that the order of the selection statements doesn't matter.\n",
    "\n",
    "The condition of a statement starting with 'otherwise' is only evaluated\n",
    "if the previous ones failed.\n",
    "This may allow for simpler conditions, depending on their order.\n",
    "The last condition can be omitted.\n",
    "\n",
    "1. if *input* is ...:\n",
    "   1. let *category* be ...\n",
    "1. otherwise if *input* is ...:\n",
    "   1. let *category* be ...\n",
    "1. etc.\n",
    "1. otherwise:\n",
    "   1. let *category* be the remaining one\n",
    "\n",
    "Instead of using 'otherwise', an algorithm in English may use the instruction\n",
    "'stop' to immediately stop the execution of the algorithm:\n",
    "\n",
    "1. if *input* is ...:\n",
    "   1. let *category* be ...\n",
    "   2. stop\n",
    "1. if *input* is ...:\n",
    "   1. let *category* be ...\n",
    "   2. stop\n",
    "1. etc.\n",
    "1. let *category* be the remaining one\n",
    "\n",
    "The words 'if', 'otherwise if' and 'otherwise' in the English algorithm\n",
    "are translated to the Python keywords `if`, `elif`, and `else`, respectively.\n",
    "```python\n",
    "if input ...:\n",
    "    category = ...\n",
    "elif input ...:\n",
    "    category = ...\n",
    "...\n",
    "else:\n",
    "    category = ...\n",
    "```\n",
    "The two steps\n",
    "\n",
    "1. let *output* be expression\n",
    "2. stop\n",
    "\n",
    "are translated to Python as `return expression`."
   ]
  },
  {
   "cell_type": "markdown",
   "id": "7",
   "metadata": {},
   "source": [
    "⟵ [Previous section](03_5_exercises.ipynb) | [Up](03-introduction.ipynb) | [Next section](../04_Iteration/04-introduction.ipynb) ⟶"
   ]
  }
 ],
 "metadata": {
  "kernelspec": {
   "display_name": "Python 3",
   "language": "python",
   "name": "python3"
  },
  "language_info": {
   "codemirror_mode": {
    "name": "ipython",
    "version": 3
   },
   "file_extension": ".py",
   "mimetype": "text/x-python",
   "name": "python",
   "nbconvert_exporter": "python",
   "pygments_lexer": "ipython3",
   "version": "3.12.10"
  }
 },
 "nbformat": 4,
 "nbformat_minor": 5
}
