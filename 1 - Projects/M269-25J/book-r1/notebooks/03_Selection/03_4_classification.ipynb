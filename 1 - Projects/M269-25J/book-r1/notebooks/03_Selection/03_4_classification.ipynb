{
 "cells": [
  {
   "cell_type": "markdown",
   "id": "0",
   "metadata": {},
   "source": [
    "## 3.4 Classification problems"
   ]
  },
  {
   "cell_type": "markdown",
   "id": "1",
   "metadata": {},
   "source": [
    "So far, all algorithms have been just sequences of instructions:\n",
    "first do this, then do this, next do that, etc.\n",
    "Most algorithms don't execute all their instructions, only some of them,\n",
    "based on certain conditions. Programming languages have conditional statements\n",
    "that allow us to select which instructions to execute under which conditions.\n",
    "Let's consider a classic problem that requires selection and conditions,\n",
    "stated as Boolean expressions. I follow again the same process to solve it."
   ]
  },
  {
   "cell_type": "markdown",
   "id": "2",
   "metadata": {},
   "source": [
    "<div class=\"alert alert-info\">\n",
    "<strong>Info:</strong> TM112 introduces selection in Block&nbsp;1 Sections 4.3 and&nbsp;4.4, and includes\n",
    "a more complicated version of the following problem in Block&nbsp;2 Section&nbsp;2.5.\n",
    "</div>"
   ]
  },
  {
   "cell_type": "markdown",
   "id": "3",
   "metadata": {},
   "source": [
    "### 3.4.1 Problem definition and instances"
   ]
  },
  {
   "cell_type": "markdown",
   "id": "4",
   "metadata": {},
   "source": [
    "Given a mark (an integer from 0 to 100), we wish to\n",
    "award the corresponding pass grade, from 1 (distinction) to 5 (fail).\n",
    "This is a **classification problem**: each of the many possible input values is\n",
    "classified into one of a few categories.\n",
    "A decision problem is a classification problem with only two categories."
   ]
  },
  {
   "cell_type": "markdown",
   "id": "5",
   "metadata": {},
   "source": [
    "<div class=\"alert alert-info\">\n",
    "<strong>Info:</strong> Question 19 of the TM112 Block&nbsp;1 Quiz is a classification problem too:\n",
    "given the Richter magnitude of an earthquake,\n",
    "classify it as a minor, moderate or major earthquake.\n",
    "TM358 introduces machine learning algorithms for difficult classification problems.\n",
    "</div>"
   ]
  },
  {
   "cell_type": "markdown",
   "id": "6",
   "metadata": {},
   "source": [
    "Let's assume that, in some fictitious module,\n",
    "the pass grade boundaries are 40, 50, 60 and 80.\n",
    "Marks on the boundaries are awarded the higher pass grade.\n",
    "\n",
    "**Function**: grading\\\n",
    "**Inputs**: *mark*, an integer\\\n",
    "**Preconditions**: 0 ≤ *mark* ≤ 100\\\n",
    "**Output**: *pass*, an integer\\\n",
    "**Postconditions**:\n",
    "\n",
    "- *pass* = 5 if 0 ≤ *mark* < 40\n",
    "- *pass* = 4 if 40 ≤ *mark* < 50\n",
    "- *pass* = 3 if 50 ≤ *mark* < 60\n",
    "- *pass* = 2 if 60 ≤ *mark* < 80\n",
    "- *pass* = 1 if 80 ≤ *mark* ≤ 100\n",
    "\n",
    "There's no simple formula to transform a mark into a pass grade.\n",
    "It's easier to write one condition per grade."
   ]
  },
  {
   "cell_type": "markdown",
   "id": "7",
   "metadata": {},
   "source": [
    "<div class=\"alert alert-info\">\n",
    "<strong>Info:</strong> Functions that have different formulas for different intervals of the input\n",
    "values are called piecewise-defined functions in MST124 Unit&nbsp;3 Section&nbsp;1.3.\n",
    "</div>"
   ]
  },
  {
   "cell_type": "markdown",
   "id": "8",
   "metadata": {},
   "source": [
    "It's easy to make a test table because..."
   ]
  },
  {
   "cell_type": "markdown",
   "id": "9",
   "metadata": {},
   "source": [
    "<div class=\"alert alert-warning\">\n",
    "<strong>Note:</strong> The edge cases for a classification problem are the categories' boundaries.\n",
    "</div>"
   ]
  },
  {
   "cell_type": "markdown",
   "id": "10",
   "metadata": {},
   "source": [
    "Case | *mark* | *pass*\n",
    "-|-|-\n",
    "lowest fail  | 0  |  5\n",
    "highest fail  | 39  |  5\n",
    "lowest pass 4 | 40  |  4\n",
    "highest pass 4 | 49  |  4\n",
    "lowest pass 3 | 50  |  3\n",
    "highest pass 3 | 59  |  3\n",
    "lowest merit  | 60  |  2\n",
    "highest merit  | 79  |  2\n",
    "lowest distinction  | 80  |  1\n",
    "highest distinction  | 100  |  1"
   ]
  },
  {
   "cell_type": "markdown",
   "id": "11",
   "metadata": {},
   "source": [
    "### 3.4.2 Algorithm"
   ]
  },
  {
   "cell_type": "markdown",
   "id": "12",
   "metadata": {},
   "source": [
    "The algorithm for a classification problem is a sequence of statements of the\n",
    "form 'if the input value is like this, then the category is that one',\n",
    "which is essentially how the postconditions are expressed,\n",
    "making their translation to an algorithm rather easy.\n",
    "\n",
    "1. if 0 ≤ *mark* < 40:\n",
    "    1.  let *pass* be 5\n",
    "1. if 40 ≤ *mark* < 50:\n",
    "    1.  let *pass* be 4\n",
    "1. if 50 ≤ *mark* < 60:\n",
    "    1.  let *pass* be 3\n",
    "1. if 60 ≤ *mark* < 80:\n",
    "    1.  let *pass* be 2\n",
    "1. if 80 ≤ *mark* ≤ 100:\n",
    "    1.  let *pass* be 1\n",
    "\n",
    "The algorithm simply follows the typographic convention in English of\n",
    "introducing sublists of items (here, instructions) with colons, and indenting them.\n",
    "We refer to individual steps as 1, 1.1, 2, 2.1, etc.\n",
    "\n",
    "This is a fine algorithm. It's easy to check the algorithm is correct\n",
    "because it directly follows the postconditions,\n",
    "showing explicitly every category boundary.\n",
    "The conditions are mutually exclusive\n",
    "(at most one is true for each problem instance) and comprehensive\n",
    "(at least one is true for each problem instance).\n",
    "For any input value that satisfies the preconditions,\n",
    "exactly one condition is true,\n",
    "and this allows the output to be uniquely determined.\n",
    "\n",
    "However, the algorithm is not the most efficient.\n",
    "If the mark is, say, 30, only the first condition applies, but\n",
    "the remaining conditions are checked too, even though they're false.\n",
    "A more efficient algorithm stops as soon as the grade is determined.\n",
    "\n",
    "1. if 0 ≤ *mark* < 40:\n",
    "    1.  let *pass* be 5\n",
    "1. otherwise if 40 ≤ *mark* < 50:\n",
    "    1.  let *pass* be 4\n",
    "1. otherwise if 50 ≤ *mark* < 60:\n",
    "    1.  let *pass* be 3\n",
    "1. otherwise if 60 ≤ *mark* < 80:\n",
    "    1.  let *pass* be 2\n",
    "1. otherwise if 80 ≤ *mark* ≤ 100:\n",
    "    1.  let *pass* be 1\n",
    "\n",
    "The word 'otherwise' indicates that the next condition is checked only if\n",
    "the previous ones failed. This allows us to check fewer conditions. For example,\n",
    "if the second condition gets evaluated, it means the first one is false,\n",
    "i.e. the mark isn't in the range 0–39. It's therefore redundant to check\n",
    "if it's greater or equal to 40 (because it is). The algorithm becomes:\n",
    "\n",
    "1. if 0 ≤ *mark* < 40:\n",
    "    1.  let *pass* be 5\n",
    "1. otherwise if *mark* < 50:\n",
    "    1.  let *pass* be 4\n",
    "1. otherwise if *mark* < 60:\n",
    "    1.  let *pass* be 3\n",
    "1. otherwise if *mark* < 80:\n",
    "    1.  let *pass* be 2\n",
    "1. otherwise if *mark* ≤ 100:\n",
    "    1.  let *pass* be 1\n",
    "\n",
    "We can omit the first part of the first check and all of the final check because 0 ≤ *mark* ≤ 100 is always true,\n",
    "due to the preconditions.\n",
    "\n",
    "1. if *mark* < 40:\n",
    "    1.  let *pass* be 5\n",
    "1. otherwise if *mark* < 50:\n",
    "    1.  let *pass* be 4\n",
    "1. otherwise if *mark* < 60:\n",
    "    1.  let *pass* be 3\n",
    "1. otherwise if *mark* < 80:\n",
    "    1.  let *pass* be 2\n",
    "1. otherwise:\n",
    "    1.  let *pass* be 1\n",
    "\n",
    "The last part of the algorithm states that if none of the previous cases\n",
    "applies then the grade must be a distinction."
   ]
  },
  {
   "cell_type": "markdown",
   "id": "13",
   "metadata": {},
   "source": [
    "<div class=\"alert alert-warning\">\n",
    "<strong>Note:</strong> Check input intervals from the lowest to the highest or\n",
    "from the highest to the lowest, so that you can simplify the conditions.\n",
    "</div>"
   ]
  },
  {
   "cell_type": "markdown",
   "id": "14",
   "metadata": {},
   "source": [
    "The following exercises show the importance of the order in which\n",
    "conditions are checked."
   ]
  },
  {
   "cell_type": "markdown",
   "id": "15",
   "metadata": {},
   "source": [
    "#### Exercise 3.4.1"
   ]
  },
  {
   "cell_type": "markdown",
   "id": "16",
   "metadata": {},
   "source": [
    "My algorithm, repeated below, does one comparison for a pass 5 mark\n",
    "and four comparisons for a pass 1 mark."
   ]
  },
  {
   "cell_type": "markdown",
   "id": "17",
   "metadata": {},
   "source": [
    "1. if *mark* < 40:\n",
    "    1.  let *pass* be 5\n",
    "1. otherwise if *mark* < 50:\n",
    "    1.  let *pass* be 4\n",
    "1. otherwise if *mark* < 60:\n",
    "    1.  let *pass* be 3\n",
    "1. otherwise if *mark* < 80:\n",
    "    1.  let *pass* be 2\n",
    "1. otherwise:\n",
    "    1.  let *pass* be 1"
   ]
  },
  {
   "cell_type": "markdown",
   "id": "18",
   "metadata": {},
   "source": [
    "Change the algorithm so that\n",
    "the minimum number of comparisons is made for pass 1 marks,\n",
    "and the maximum number of comparisons is made for pass 5 marks.\n",
    "Do as few comparisons as possible.\n",
    "\n",
    "[Hint](../31_Hints/Hints_03_4_01.ipynb)\n",
    "[Answer](../32_Answers/Answers_03_4_01.ipynb)"
   ]
  },
  {
   "cell_type": "markdown",
   "id": "19",
   "metadata": {},
   "source": [
    "#### Exercise 3.4.2"
   ]
  },
  {
   "cell_type": "markdown",
   "id": "20",
   "metadata": {},
   "source": [
    "Consider the following grading algorithm. Is it correct?\n",
    "\n",
    "1. if 60 ≤ *mark* < 80:\n",
    "    1.  let *pass* be 2\n",
    "1. otherwise if 0 ≤ *mark* < 40:\n",
    "    1.  let *pass* be 5\n",
    "1. otherwise if 50 ≤ *mark* < 60:\n",
    "    1.  let *pass* be 3\n",
    "1. otherwise if 80 ≤ *mark* ≤ 100:\n",
    "    1.  let *pass* be 1\n",
    "1. otherwise if 40 ≤ *mark* < 50:\n",
    "    1.  let *pass* be 4\n",
    "\n",
    "\n",
    "[Hint](../31_Hints/Hints_03_4_02.ipynb)\n",
    "[Answer](../32_Answers/Answers_03_4_02.ipynb)"
   ]
  },
  {
   "cell_type": "markdown",
   "id": "21",
   "metadata": {},
   "source": [
    "#### Exercise 3.4.3"
   ]
  },
  {
   "cell_type": "markdown",
   "id": "22",
   "metadata": {},
   "source": [
    "Consider the following simplification of the above conditions."
   ]
  },
  {
   "cell_type": "markdown",
   "id": "23",
   "metadata": {},
   "source": [
    "1. if *mark* < 80:\n",
    "    1.  let *pass* be 2\n",
    "1. otherwise if *mark* < 40:\n",
    "    1.  let *pass* be 5\n",
    "1. otherwise if *mark* < 60:\n",
    "    1.  let *pass* be 3\n",
    "1. otherwise if *mark* ≤ 100:\n",
    "    1.  let *pass* be 1\n",
    "1. otherwise if *mark* < 50:\n",
    "    1.  let *pass* be 4"
   ]
  },
  {
   "cell_type": "markdown",
   "id": "24",
   "metadata": {},
   "source": [
    "Explain why the algorithm is incorrect by showing *one* **counter-example**:\n",
    "a problem instance for which the algorithm produces the wrong output."
   ]
  },
  {
   "cell_type": "markdown",
   "id": "25",
   "metadata": {},
   "source": [
    "_Write your answer here._"
   ]
  },
  {
   "cell_type": "markdown",
   "id": "26",
   "metadata": {},
   "source": [
    "Copy the text cell with the algorithm to below this paragraph and fix it.\n",
    "You can only change the conditions, not their order.\n",
    "\n",
    "[Hint](../31_Hints/Hints_03_4_03.ipynb)\n",
    "[Answer](../32_Answers/Answers_03_4_03.ipynb)"
   ]
  },
  {
   "cell_type": "markdown",
   "id": "27",
   "metadata": {},
   "source": [
    "### 3.4.3 Complexity"
   ]
  },
  {
   "cell_type": "markdown",
   "id": "28",
   "metadata": {},
   "source": [
    "The fourth version of the algorithm, the one just before the exercises,\n",
    "always does one assignment, but it may execute one to four comparisons,\n",
    "against 40, 50, 60 and 80 marks, depending on the input value.\n",
    "To handle these situations, complexity analysis distinguishes between\n",
    "best- and worst-case scenarios.\n",
    "\n",
    "A **best-case scenario** is a group of problem instances that lead to the\n",
    "algorithm doing the least work, i.e. running fastest.\n",
    "For the algorithm at hand, a best-case scenario is a mark from 0 to 39,\n",
    "as only one comparison is made.\n",
    "A **worst-case scenario** is a group of problem instances that require the\n",
    "algorithm to do the most work, i.e. running slowest.\n",
    "A worst-case scenario for this algorithm is a mark from 60 upwards,\n",
    "because it requires four comparisons.\n",
    "(Best and worst cases are for the algorithm, not for the student's grade.)\n",
    "\n",
    "The algorithm does one assignment and one comparison\n",
    "in the best-case scenario. That's a fixed number of constant-time operations, so\n",
    "the algorithm has **best-case complexity** Θ(1). In the worst-case scenario,\n",
    "the algorithm does one assignment and four comparisons,\n",
    "which takes constant time too. The **worst-case complexity** is also Θ(1).\n",
    "When an algorithm's best- and worst-case complexities are the same,\n",
    "we simply state the algorithm's complexity without any qualification.\n",
    "In this example, we just state that the algorithm has constant complexity.\n",
    "\n",
    "As you'll see in later chapters, there may be different equivalent best-case\n",
    "(or worst-case) scenarios, so we tend to speak of\n",
    "*a* best- or worst-case scenario rather than *the* best- or worst-case scenario.\n",
    "All best- (or worst-) case scenarios necessarily have the same complexity,\n",
    "otherwise some scenarios would be better (respectively, worse) than others."
   ]
  },
  {
   "cell_type": "markdown",
   "id": "29",
   "metadata": {},
   "source": [
    "### 3.4.4 Code"
   ]
  },
  {
   "cell_type": "markdown",
   "id": "30",
   "metadata": {},
   "source": [
    "Python's syntax closely follows English, with 'if', 'otherwise' and\n",
    "'otherwise if' being the keywords `if`, `else` and `elif`, respectively.\n",
    "\n",
    "Problem definitions indicate the output's name\n",
    "so that postconditions can refer to it.\n",
    "Function headers don't name the output, so I write instead 'the output is 4'\n",
    "or more simply 'return 4' in the docstring.\n",
    "I take the opportunity to rely on the preconditions,\n",
    "i.e. that marks go from 0 to 100, to\n",
    "slightly simplify the formulation of the postconditions."
   ]
  },
  {
   "cell_type": "code",
   "execution_count": 1,
   "id": "31",
   "metadata": {},
   "outputs": [],
   "source": [
    "def grading(mark: int) -> int:\n",
    "    \"\"\"Return the pass grade, from 1 to 5, for the given mark.\n",
    "\n",
    "    Preconditions: 0 <= mark <= 100\n",
    "    Postconditions:\n",
    "    - if mark < 40, return 5\n",
    "    - if 40 <= mark < 50, return 4\n",
    "    - if 50 <= mark < 60, return 3\n",
    "    - if 60 <= mark < 80, return 2\n",
    "    - if mark >= 80, return 1\n",
    "    \"\"\"\n",
    "    if mark < 40:\n",
    "        grade = 5\n",
    "    elif mark < 50:\n",
    "        grade = 4\n",
    "    elif mark < 60:\n",
    "        grade = 3\n",
    "    elif mark < 80:\n",
    "        grade = 2\n",
    "    else:\n",
    "        grade = 1\n",
    "    return grade"
   ]
  },
  {
   "cell_type": "markdown",
   "id": "32",
   "metadata": {},
   "source": [
    "We can immediately return the grade once it's determined,\n",
    "which leads to another version:\n",
    "```python\n",
    "if mark < 40:\n",
    "    return 5\n",
    "if mark < 50:\n",
    "    return 4\n",
    "if mark < 60:\n",
    "    return 3\n",
    "if mark < 80:\n",
    "    return 2\n",
    "return 1\n",
    "```\n",
    "In English, we write this algorithm as:\n",
    "\n",
    "1. if mark < 40:\n",
    "   1. let *pass* be 5\n",
    "   2. stop\n",
    "1. if mark < 50:\n",
    "   1. let *pass* be 4\n",
    "   2. stop\n",
    "1. if mark < 60:\n",
    "   1. let *pass* be 3\n",
    "   2. stop\n",
    "1. if mark < 80:\n",
    "   1. let *pass* be 2\n",
    "   2. stop\n",
    "1. let *pass* be 1\n",
    "\n",
    "With the explicit 'stop' instruction we don't need to use 'otherwise'.\n",
    "For this example, I prefer to use 'otherwise' instead of 'stop',\n",
    "as it makes the algorithm shorter and easier to understand, in my view.\n",
    "\n",
    "Remember that our algorithms in English must assign a value\n",
    "to the output variable mentioned in the function definition template,\n",
    "whereas algorithms in Python can directly return the value,\n",
    "as there's no output name in the Python function header.\n",
    "\n",
    "Some authors advocate having a single stopping point in an algorithm,\n",
    "usually implicit after the final step,\n",
    "as having several may make the algorithm harder to understand.\n",
    "In M269 you can use either 'style':\n",
    "one style may be more convenient for the algorithm you're working on."
   ]
  },
  {
   "cell_type": "markdown",
   "id": "33",
   "metadata": {},
   "source": [
    "### 3.4.5 Tests"
   ]
  },
  {
   "cell_type": "markdown",
   "id": "34",
   "metadata": {},
   "source": [
    "Previously, we called the function on each problem instance and manually checked\n",
    "if the output was the same as in the last column of the test table. We can use\n",
    "Boolean expressions to compare the returned grade against the expected one.\n",
    "It's much faster and less error-prone to see if all outputs are true\n",
    "than to check if each output is the right grade."
   ]
  },
  {
   "cell_type": "code",
   "execution_count": 2,
   "id": "35",
   "metadata": {},
   "outputs": [
    {
     "data": {
      "text/plain": [
       "True"
      ]
     },
     "execution_count": 2,
     "metadata": {},
     "output_type": "execute_result"
    }
   ],
   "source": [
    "grading(0) == 5"
   ]
  },
  {
   "cell_type": "code",
   "execution_count": 3,
   "id": "36",
   "metadata": {},
   "outputs": [
    {
     "data": {
      "text/plain": [
       "True"
      ]
     },
     "execution_count": 3,
     "metadata": {},
     "output_type": "execute_result"
    }
   ],
   "source": [
    "grading(39) == 5"
   ]
  },
  {
   "cell_type": "code",
   "execution_count": 4,
   "id": "37",
   "metadata": {},
   "outputs": [
    {
     "data": {
      "text/plain": [
       "True"
      ]
     },
     "execution_count": 4,
     "metadata": {},
     "output_type": "execute_result"
    }
   ],
   "source": [
    "grading(40) == 4"
   ]
  },
  {
   "cell_type": "code",
   "execution_count": 5,
   "id": "38",
   "metadata": {},
   "outputs": [
    {
     "data": {
      "text/plain": [
       "True"
      ]
     },
     "execution_count": 5,
     "metadata": {},
     "output_type": "execute_result"
    }
   ],
   "source": [
    "grading(49) == 4"
   ]
  },
  {
   "cell_type": "code",
   "execution_count": 6,
   "id": "39",
   "metadata": {},
   "outputs": [
    {
     "data": {
      "text/plain": [
       "True"
      ]
     },
     "execution_count": 6,
     "metadata": {},
     "output_type": "execute_result"
    }
   ],
   "source": [
    "grading(50) == 3"
   ]
  },
  {
   "cell_type": "code",
   "execution_count": 7,
   "id": "40",
   "metadata": {},
   "outputs": [
    {
     "data": {
      "text/plain": [
       "True"
      ]
     },
     "execution_count": 7,
     "metadata": {},
     "output_type": "execute_result"
    }
   ],
   "source": [
    "grading(59) == 3"
   ]
  },
  {
   "cell_type": "code",
   "execution_count": 8,
   "id": "41",
   "metadata": {},
   "outputs": [
    {
     "data": {
      "text/plain": [
       "True"
      ]
     },
     "execution_count": 8,
     "metadata": {},
     "output_type": "execute_result"
    }
   ],
   "source": [
    "grading(60) == 2"
   ]
  },
  {
   "cell_type": "code",
   "execution_count": 9,
   "id": "42",
   "metadata": {},
   "outputs": [
    {
     "data": {
      "text/plain": [
       "True"
      ]
     },
     "execution_count": 9,
     "metadata": {},
     "output_type": "execute_result"
    }
   ],
   "source": [
    "grading(79) == 2"
   ]
  },
  {
   "cell_type": "code",
   "execution_count": 10,
   "id": "43",
   "metadata": {},
   "outputs": [
    {
     "data": {
      "text/plain": [
       "True"
      ]
     },
     "execution_count": 10,
     "metadata": {},
     "output_type": "execute_result"
    }
   ],
   "source": [
    "grading(80) == 1"
   ]
  },
  {
   "cell_type": "code",
   "execution_count": 11,
   "id": "44",
   "metadata": {},
   "outputs": [
    {
     "data": {
      "text/plain": [
       "True"
      ]
     },
     "execution_count": 11,
     "metadata": {},
     "output_type": "execute_result"
    }
   ],
   "source": [
    "grading(100) == 1"
   ]
  },
  {
   "cell_type": "markdown",
   "id": "45",
   "metadata": {},
   "source": [
    "### 3.4.6 Performance"
   ]
  },
  {
   "cell_type": "markdown",
   "id": "46",
   "metadata": {},
   "source": [
    "Remember that in the best-case scenario (any fail mark)\n",
    "only one comparison is made,\n",
    "whereas in the worst-case scenario (any distinction mark)\n",
    "four comparisons are made. For curiosity's sake,\n",
    "let's see the difference between the best- and the worst-case run-times."
   ]
  },
  {
   "cell_type": "code",
   "execution_count": 12,
   "id": "47",
   "metadata": {},
   "outputs": [
    {
     "name": "stdout",
     "output_type": "stream",
     "text": [
      "49.3 ns ± 0.367 ns per loop (mean ± std. dev. of 3 runs, 1,000 loops each)\n",
      "73.2 ns ± 0.484 ns per loop (mean ± std. dev. of 3 runs, 1,000 loops each)\n"
     ]
    }
   ],
   "source": [
    "%timeit -r 3 -n 1000 grading(0)\n",
    "%timeit -r 3 -n 1000 grading(100)"
   ]
  },
  {
   "cell_type": "markdown",
   "id": "48",
   "metadata": {},
   "source": [
    "On my computer the second call doesn't take four times longer to run,\n",
    "because most of the time goes into calling the function and returning from it,\n",
    "not in executing comparisons."
   ]
  },
  {
   "cell_type": "markdown",
   "id": "49",
   "metadata": {},
   "source": [
    "### 3.4.7 Mistakes"
   ]
  },
  {
   "cell_type": "markdown",
   "id": "50",
   "metadata": {},
   "source": [
    "Writing `else if` instead of `elif` is a syntax error.\n",
    "\n",
    "If the conditions are not comprehensive,\n",
    "i.e. don't cover all possible input values,\n",
    "then no output is computed for some problem instances.\n",
    "\n",
    "If the conditions are not mutually exclusive,\n",
    "i.e. they overlap for some input values,\n",
    "then some problem instances can be classified in more than one category.\n",
    "The algorithm will assign the category for the first condition that succeeds,\n",
    "so the order in which conditions are checked may lead to the correct\n",
    "answer for some inputs, but not for others.\n",
    "Consider again the algorithm of Exercise&nbsp;3.4.3:\n",
    "\n",
    "1. if *mark* < 80:\n",
    "    1.  let *pass* be 2\n",
    "1. otherwise if *mark* < 40:\n",
    "    1.  let *pass* be 5\n",
    "1. otherwise if *mark* < 60:\n",
    "    1.  let *pass* be 3\n",
    "1. otherwise if *mark* ≤ 100:\n",
    "    1.  let *pass* be 1\n",
    "1. otherwise if *mark* < 50:\n",
    "    1.  let *pass* be 4\n",
    "\n",
    "The conditions overlap, e.g. marks up to 40&nbsp;satisfy all conditions, and\n",
    "due to the order they're checked, marks below 60 get the wrong grade."
   ]
  },
  {
   "cell_type": "markdown",
   "id": "51",
   "metadata": {},
   "source": [
    "<div class=\"alert alert-warning\">\n",
    "<strong>Note:</strong> Write at least one test for each category, so that you're more likely\n",
    "to catch missing and overlapping conditions.\n",
    "</div>"
   ]
  },
  {
   "cell_type": "markdown",
   "id": "52",
   "metadata": {},
   "source": [
    "⟵ [Previous section](03_3_expressions.ipynb) | [Up](03-introduction.ipynb) | [Next section](03_5_exercises.ipynb) ⟶"
   ]
  }
 ],
 "metadata": {
  "kernelspec": {
   "display_name": "Python 3",
   "language": "python",
   "name": "python3"
  },
  "language_info": {
   "codemirror_mode": {
    "name": "ipython",
    "version": 3
   },
   "file_extension": ".py",
   "mimetype": "text/x-python",
   "name": "python",
   "nbconvert_exporter": "python",
   "pygments_lexer": "ipython3",
   "version": "3.12.10"
  }
 },
 "nbformat": 4,
 "nbformat_minor": 5
}
