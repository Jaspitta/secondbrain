{
 "cells": [
  {
   "cell_type": "markdown",
   "id": "0",
   "metadata": {},
   "source": [
    "## 15.1 Brute-force search"
   ]
  },
  {
   "cell_type": "markdown",
   "id": "1",
   "metadata": {},
   "source": [
    "To apply brute-force search, you should ask yourself:\n",
    "\n",
    "- What type of problem is it?\n",
    "- What are the candidates?\n",
    "- How can I generate and test them?\n",
    "- What should I do with each solution found?"
   ]
  },
  {
   "cell_type": "markdown",
   "id": "2",
   "metadata": {},
   "source": [
    "### 15.1.1 Problem type"
   ]
  },
  {
   "cell_type": "markdown",
   "id": "3",
   "metadata": {},
   "source": [
    "If you can rephrase the problem in one of the following forms, you can solve it\n",
    "with brute-force search; otherwise, you may have to look for a different\n",
    "approach.\n",
    "\n",
    "1. Search problem: Find all/one/at most *n* ... that ..., e.g. find all products in store that are size 7&nbsp;shoes.\n",
    "2. Optimisation or constraint satisfaction problem (CSP): Find all/one/at most *n* of the smallest/largest/cheapest/etc. ... that ..., e.g. find any of the cheapest products in store that are size 7&nbsp;shoes.\n",
    "3. Decision problem: The input has/is ... if and only if a ... that ... can/cannot be found, e.g. the item is the cheapest if and only if a product that has a lower price cannot be found.\n",
    "4. Counting problem: How many ... are ...?, e.g. how many products in the store are size 7&nbsp;shoes?"
   ]
  },
  {
   "cell_type": "markdown",
   "id": "4",
   "metadata": {},
   "source": [
    "### 15.1.2 Candidates"
   ]
  },
  {
   "cell_type": "markdown",
   "id": "5",
   "metadata": {},
   "source": [
    "If you can apply brute-force search, the next step is to think what the\n",
    "candidates are.\n",
    "\n",
    "1. Are the candidates one of the inputs?\n",
    "2. Are the candidates integers? If so, what is the range of candidates, i.e.\n",
    "   what are the smallest and largest integers?\n",
    "3. Are the candidates items, indices or slices of a sequence?\n",
    "1. Are the candidates tuples or sets of items? This is often the case in CSPs,\n",
    "   which ask for multiple items that together satisfy the constraints.\n",
    "4. Do the candidates include the solutions sought?\n",
    "   Otherwise, the algorithm will produce the wrong output.\n",
    "5. Is there a finite number of candidates?\n",
    "   Otherwise, the algorithm can't generate all of them.\n",
    "\n",
    "If you rephrased the problem as 'find all *C* that ...',\n",
    "or something similar, then the candidates are *C* or some of them.\n",
    "For example, the factorisation problem can be stated as\n",
    "'find all positive integers that divide the given number',\n",
    "but there are infinite positive integers, so we must\n",
    "restrict the candidates to be only some of the positive integers."
   ]
  },
  {
   "cell_type": "markdown",
   "id": "6",
   "metadata": {},
   "source": [
    "### 15.1.3 Generate"
   ]
  },
  {
   "cell_type": "markdown",
   "id": "7",
   "metadata": {},
   "source": [
    "Once you know the candidates, think how to generate them.\n",
    "The fewer candidates the algorithm generates, the faster it is.\n",
    "Pruning the search space has the greatest effect on the algorithm's run-time.\n",
    "\n",
    "1. If the candidates are items in a sequence or integers in a range,\n",
    "   use a for-loop.\n",
    "2. If the candidates are tuples, use nested loops or\n",
    "   iterate over permutations or subsets.\n",
    "3. Is it possible to stop early, i.e. is there a point where no further\n",
    "   solutions can be found? This may be the case if candidates are sorted.\n",
    "4. Is it possible to avoid generating some solutions by computing them from others?\n",
    "5. Is it possible to avoid generating candidates that will be rejected anyhow?\n",
    "\n",
    "Examples of problems to which the above apply are:\n",
    "\n",
    "1. find size 7&nbsp;shoes in a given store; find factors from 1 to *n*\n",
    "2. find pairs of products to spend a voucher; find the shortest tour;\n",
    "   find the most valuable subset of items that fit in a knapsack\n",
    "3. stop after size 7&nbsp;shoes when going through a sorted store\n",
    "4. generate factors from 1 to $\\sqrt{n}$ and compute the others\n",
    "5. for the voucher problem, don't generate the symmetric product pair."
   ]
  },
  {
   "cell_type": "markdown",
   "id": "8",
   "metadata": {},
   "source": [
    "### 15.1.4 Test"
   ]
  },
  {
   "cell_type": "markdown",
   "id": "9",
   "metadata": {},
   "source": [
    "The next step is to think about how to test each candidate.\n",
    "\n",
    "- What are a candidate's properties for it to be a solution?\n",
    "- Can the candidate be tested in isolation, or must it be compared to other\n",
    "  candidates? For optimisation problems, test if the candidate is better than the solutions found so far.\n",
    "- Is the test complicated? If so, consider it as a separate decision problem,\n",
    "  solved with an auxiliary function.\n",
    "- Can the test be done in constant time?\n",
    "- Can the test be simplified by generating candidates that\n",
    "  already satisfy some criterion? For example, by generating non-symmetric\n",
    "  product pairs, the test just checks if their prices add up to the voucher.\n",
    "\n",
    "If you rephrased the problem as 'find all *C* that *T*',\n",
    "or something similar, then *T* is the test,\n",
    "i.e. the criterion that candidates *C* must satisfy to be solutions."
   ]
  },
  {
   "cell_type": "markdown",
   "id": "10",
   "metadata": {},
   "source": [
    "### 15.1.5 Solutions"
   ]
  },
  {
   "cell_type": "markdown",
   "id": "11",
   "metadata": {},
   "source": [
    "The final step is to think of what to do with each solution found.\n",
    "\n",
    "- Does the problem ask for all, any one, or some of the solutions? If it doesn't\n",
    "  ask for all solutions, then the algorithm can stop when enough solutions are found,\n",
    "  provided it's not an optimisation problem.\n",
    "  If it is, it can't stop as there may be better solutions ahead.\n",
    "- Does the problem ask for the number of solutions but not the solutions\n",
    "  themselves? If so, the algorithm may not need to keep a collection of solutions.\n",
    "- Is it an optimisation problem? If so, the algorithm must check\n",
    "  if the new solution found is worse, as good, or better than the solutions so\n",
    "  far and process it accordingly."
   ]
  },
  {
   "cell_type": "markdown",
   "id": "12",
   "metadata": {},
   "source": [
    "### 15.1.6 Algorithm"
   ]
  },
  {
   "cell_type": "markdown",
   "id": "13",
   "metadata": {},
   "source": [
    "The exhaustive search algorithm depends on the answers to the above questions,\n",
    "but it's usually some variation on the basic generate-and-test template:\n",
    "\n",
    "1. let *solutions* be the empty sequence\n",
    "2. for each *candidate* in *candidates*:\n",
    "   1. if *candidate* is a solution:\n",
    "      1. add *candidate* to *solutions*\n",
    "\n",
    "For example, if the problem asks only for the number of solutions, then the\n",
    "sequence of solutions is replaced by an integer counter that starts at zero.\n",
    "If the problem asks for the first 10&nbsp;solutions, then the algorithm stops\n",
    "if the sequence reaches that length. If the problem asks for unique solutions,\n",
    "then they should be kept in a set instead of a sequence. If it's a CSP, then\n",
    "step&nbsp;2 probably iterates over all permutations or subsets, or has nested loops.\n",
    "And so on. Patterns of linear search that can be further adapted are in\n",
    "Sections [5.2](../05_TMA01-1/05_2_algorithms.ipynb#5.2-Algorithms-and-complexity) and\n",
    "[11.1](../11_Search/11_1_linear.ipynb)."
   ]
  },
  {
   "cell_type": "markdown",
   "id": "14",
   "metadata": {},
   "source": [
    "### 15.1.7 Complexity"
   ]
  },
  {
   "cell_type": "markdown",
   "id": "15",
   "metadata": {},
   "source": [
    "The complexity of exhaustive search is usually the number of generated\n",
    "candidates multiplied by the complexity of generating and testing each one.\n",
    "\n",
    "In the worst case, the number of candidates is usually *n*, *n*! or 2ⁿ,\n",
    "where *n* is the size of the input collection.\n",
    "This depends on whether the candidates are respectively\n",
    "the input items themselves, or permutations or subsets thereof.\n",
    "\n",
    "Testing each candidate usually takes constant time or linear time\n",
    "in the size of the candidate. If the size of each candidate is bounded,\n",
    "e.g. if each candidate is a word in some language, then\n",
    "testing takes constant rather than linear time.\n",
    "\n",
    "Sorting can be done in log-linear time. Take that into account to decide\n",
    "whether it's worth sorting the input before searching."
   ]
  },
  {
   "cell_type": "markdown",
   "id": "16",
   "metadata": {},
   "source": [
    "### 15.1.8 Performance"
   ]
  },
  {
   "cell_type": "markdown",
   "id": "17",
   "metadata": {},
   "source": [
    "When measuring run-times, use the following table to check\n",
    "the algorithm has the expected complexity.\n",
    "\n",
    "If the run-time ... | when the input size ... | then the complexity is ...\n",
    ":-|:-|:-\n",
    "stays the same              | grows     | constant\n",
    "grows by a fixed amount     | doubles   | logarithmic\n",
    "doubles                     | doubles   | linear\n",
    "quadruples                  | doubles   | quadratic\n",
    "multiplies by 8             | doubles   | cubic\n",
    "grows by a fixed factor     | grows by 1| exponential\n",
    "grows by increasing factors | grows by 1| factorial"
   ]
  },
  {
   "cell_type": "markdown",
   "id": "18",
   "metadata": {},
   "source": [
    "⟵ [Previous section](15-introduction.ipynb) | [Up](15-introduction.ipynb) | [Next section](15_2_divide_conquer.ipynb) ⟶"
   ]
  }
 ],
 "metadata": {
  "kernelspec": {
   "display_name": "Python 3",
   "language": "python",
   "name": "python3"
  },
  "language_info": {
   "codemirror_mode": {
    "name": "ipython",
    "version": 3
   },
   "file_extension": ".py",
   "mimetype": "text/x-python",
   "name": "python",
   "nbconvert_exporter": "python",
   "pygments_lexer": "ipython3",
   "version": "3.12.10"
  }
 },
 "nbformat": 4,
 "nbformat_minor": 5
}
