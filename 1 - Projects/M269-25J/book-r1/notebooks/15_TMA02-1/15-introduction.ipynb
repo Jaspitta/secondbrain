{
 "cells": [
  {
   "cell_type": "markdown",
   "id": "0",
   "metadata": {},
   "source": [
    "# 15 TMA 02 part 1"
   ]
  },
  {
   "cell_type": "markdown",
   "id": "1",
   "metadata": {},
   "source": [
    "This study-free week is for you to catch up if you need to,\n",
    "and to complete the first part of TMA&nbsp;02. If you haven't done so yet,\n",
    "download TMA&nbsp;02 from the ['Assessment' tab](https://learn2.open.ac.uk/course/view.php?id=240036&area=assessment) of the M269 website,\n",
    "and put it in a `TMA02` subfolder of your M269 folder.\n",
    "\n",
    "Before attempting TMA&nbsp;02, I suggest you look again at\n",
    "your tutor's feedback on TMA&nbsp;01.\n",
    "\n",
    "This chapter complements the summaries of Chapters\n",
    "[11 (exhaustive search)](../11_Search/11_7_summary.ipynb),\n",
    "[12 (recursion)](../12_Recursion/12_8_summary.ipynb),\n",
    "[13 (divide and conquer)](../13_Divide/13_7_summary.ipynb) and\n",
    "[14 (sorting)](../14_Sorting/14_9_summary.ipynb)\n",
    "with higher level advice for designing and analysing algorithms.\n",
    "\n",
    "The guidance in [Chapter&nbsp;5](../05_TMA01-1/05-introduction.ipynb#5-TMA-01-part-1) and\n",
    "[Chapter&nbsp;10](../10_TMA01-2/10-introduction.ipynb#10-TMA-01-part-2) still applies.\n",
    "\n",
    "Before starting to work on this chapter, check the M269\n",
    "[news](https://learn2.open.ac.uk/blocks/news/all.php?bi=326014) and [errata](https://learn2.open.ac.uk/mod/url/view.php?id=2554721)."
   ]
  },
  {
   "cell_type": "markdown",
   "id": "2",
   "metadata": {
    "nbsphinx-toctree": {
     "hidden": true,
     "maxdepth": 1,
     "numbered": false
    }
   },
   "source": [
    "1. [Brute-force search](15_1_exhaustive_search.ipynb)\n",
    "1. [Divide and conquer](15_2_divide_conquer.ipynb)"
   ]
  },
  {
   "cell_type": "markdown",
   "id": "3",
   "metadata": {},
   "source": [
    "⟵ [Previous chapter](../14_Sorting/14-introduction.ipynb) | [Up](../M269.ipynb) | [Next chapter](../16_Trees/16-introduction.ipynb) ⟶"
   ]
  }
 ],
 "metadata": {
  "kernelspec": {
   "display_name": "Python 3",
   "language": "python",
   "name": "python3"
  },
  "language_info": {
   "codemirror_mode": {
    "name": "ipython",
    "version": 3
   },
   "file_extension": ".py",
   "mimetype": "text/x-python",
   "name": "python",
   "nbconvert_exporter": "python",
   "pygments_lexer": "ipython3",
   "version": "3.12.10"
  }
 },
 "nbformat": 4,
 "nbformat_minor": 5
}
