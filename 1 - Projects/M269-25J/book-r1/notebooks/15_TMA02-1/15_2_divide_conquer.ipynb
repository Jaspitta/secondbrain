{
 "cells": [
  {
   "cell_type": "markdown",
   "id": "0",
   "metadata": {},
   "source": [
    "## 15.2 Divide and conquer"
   ]
  },
  {
   "cell_type": "markdown",
   "id": "1",
   "metadata": {},
   "source": [
    "A recursive divide-and-conquer algorithm follows these steps:\n",
    "\n",
    "1. if the input is a base case, compute the output directly and stop\n",
    "2. divide the input into *p* > 1 parts\n",
    "3. recursively apply the algorithm to conquer, i.e. solve, each part\n",
    "4. combine the subsolutions to get the solution for the whole input.\n",
    "\n",
    "If the algorithm divides the input in two parts,\n",
    "one of which has a fixed size, typically one,\n",
    "and recursively processes the other, larger, part in step&nbsp;3,\n",
    "then it's a decrease-by-constant-amount algorithm.\n",
    "Decrease-by-constant-amount algorithms should be iterative whenever possible\n",
    "as recursive ones run the risk of exceeding the call stack capacity.\n",
    "\n",
    "If the algorithm divides the input into equally sized parts but only\n",
    "processes one of them in step&nbsp;3, then it's a\n",
    "decrease-by-constant-factor algorithm, where the factor is *p*.\n",
    "\n",
    "The key questions to see if a problem can be solved by a\n",
    "divide- (or decrease-) and-conquer algorithm are:\n",
    "\n",
    "- Are there any inputs small enough to be solved directly?\n",
    "- Is there an easy and efficient way to partition the input?\n",
    "- Can subsolutions be easily combined?\n",
    "\n",
    "The answers to these questions lead to steps 1, 2 and 4 above. For example,\n",
    "insertion and merge sort make partitioning easy, while\n",
    "selection sort and quicksort make combining easy.\n",
    "\n",
    "If the input data type can be defined recursively,\n",
    "like the head and tail of a sequence,\n",
    "then a divide- or decrease-and-conquer algorithm is often the natural choice,\n",
    "because it can follow the recursive structure of the data.\n",
    "\n",
    "If the input data is an ordered sequence, e.g. a range of numbers,\n",
    "and the problem is a search problem, consider using some form of binary search.\n",
    "If the input isn't sorted, you may still use a decrease-and-conquer algorithm if\n",
    "the properties of the partitions or of the chosen pivot allow you to\n",
    "easily decide which partition to search. Quickselect is an example."
   ]
  },
  {
   "cell_type": "markdown",
   "id": "2",
   "metadata": {},
   "source": [
    "### 15.2.1 Complexity"
   ]
  },
  {
   "cell_type": "markdown",
   "id": "3",
   "metadata": {},
   "source": [
    "For a recursive decrease-and-conquer algorithm that\n",
    "decreases the input of size *n* by one, define the complexity as follows:\n",
    "\n",
    "- if *n* ≤ *s*: T(*n*) = Θ(*b*)\n",
    "- if *n* > *s*: T(*n*) = Θ(*d*) + T(*n* − 1) + Θ(*c*)\n",
    "\n",
    "where\n",
    "\n",
    "- *s* is the size of the largest base case, usually 0 or 1\n",
    "- Θ(*b*) is the complexity of handling the base cases, usually Θ(1) because their size is bounded\n",
    "- Θ(*d*) is the complexity of decreasing the input\n",
    "- Θ(*c*) is the complexity of computing the solution from the subsolution for *n* − 1\n",
    "- *d* and *c* are either 1 or expressions in *n*.\n",
    "\n",
    "For the recursive factorial algorithm *d* = *c* = 1, but for recursively\n",
    "computing the length of a sequence with slicing *d* = *n* and *c* = 1.\n",
    "\n",
    "If a recursive algorithm divides the input into *p* > 1 partitions of equal size\n",
    "(the best case) and processes one or more of them,\n",
    "then the complexity definition is of the form\n",
    "\n",
    "- if *n* ≤ *s*: T(*n*) = Θ(*b*)\n",
    "- if *n* > *s*: T(*n*) = Θ(*d*) + *r*×T(*n* / *p*) + Θ(*c*)\n",
    "\n",
    "where\n",
    "\n",
    "- *p* is usually 2 or 3\n",
    "- *r* is the number of recursive calls, with 1 ≤ *r* ≤ *p*\n",
    "- Θ(*d*) is the complexity of creating the partitions\n",
    "- Θ(*c*) is the complexity of combining the subsolutions.\n",
    "\n",
    "Usually *r* = 1 for a decrease-and-conquer algorithm that\n",
    "decreases the input by a constant factor, like binary search,\n",
    "and *r* = *p* for a divide-and-conquer algorithm, like two-way quicksort.\n",
    "\n",
    "Usually *d* = *n* when using slicing and\n",
    "*d* = 1 when passing the range of indices.\n",
    "\n",
    "Once you write the recursive definition, you can look up the complexity\n",
    "in the following table, assuming the base cases take constant time.\n",
    "\n",
    "If T(*n*) = ... | then the complexity is ... | Example\n",
    ":-|-:|:-\n",
    "T(*n* − 1) + Θ(1) | Θ(*n*) | factorial\n",
    "T(*n* − 1) + Θ(*n*) | Θ(*n*²) | length of sequence with slicing\n",
    "T(*n*/*p*) + Θ(1) | Θ(log *n*) | binary search without slicing\n",
    "T(*n*/*p*) + Θ(*n*) | Θ(*n*) | binary search with slicing\n",
    "*p*×T(*n*/*p*) + Θ(1) | Θ(*n*) | maximum without slicing\n",
    "*p*×T(*n*/*p*) + Θ(*n*) | Θ(*n* log *n*) | merge sort"
   ]
  },
  {
   "cell_type": "markdown",
   "id": "4",
   "metadata": {},
   "source": [
    "⟵ [Previous section](15_1_exhaustive_search.ipynb) | [Up](15-introduction.ipynb) | [Next section](../16_Trees/16-introduction.ipynb) ⟶"
   ]
  }
 ],
 "metadata": {
  "kernelspec": {
   "display_name": "Python 3",
   "language": "python",
   "name": "python3"
  },
  "language_info": {
   "codemirror_mode": {
    "name": "ipython",
    "version": 3
   },
   "file_extension": ".py",
   "mimetype": "text/x-python",
   "name": "python",
   "nbconvert_exporter": "python",
   "pygments_lexer": "ipython3",
   "version": "3.12.10"
  }
 },
 "nbformat": 4,
 "nbformat_minor": 5
}
