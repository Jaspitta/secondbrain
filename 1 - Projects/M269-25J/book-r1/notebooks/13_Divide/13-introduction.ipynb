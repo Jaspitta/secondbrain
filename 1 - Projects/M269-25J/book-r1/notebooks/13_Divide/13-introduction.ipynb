{
 "cells": [
  {
   "cell_type": "markdown",
   "id": "0",
   "metadata": {},
   "source": [
    "# 13 Divide and conquer"
   ]
  },
  {
   "cell_type": "markdown",
   "id": "1",
   "metadata": {},
   "source": [
    "**Divide and conquer** is a problem-solving strategy that divides the\n",
    "input into two or more parts, solves (conquers) the smaller problem instances then\n",
    "combines the solutions for the parts to obtain\n",
    "the solution for the original input.\n",
    "Divide-and-conquer algorithms are usually written with multiple recursion.\n",
    "The algorithm that finds the maximum of a sequence by\n",
    "[finding the maximum of each half](../12_Recursion/12_7_multiple.ipynb#12.7.1-Dividing-the-input)\n",
    "is an example of divide and conquer.\n",
    "\n",
    "A **decrease-and-conquer** algorithm is a divide-and-conquer algorithm that\n",
    "creates only one smaller part or that creates multiple parts but only\n",
    "solves one of them. You've seen examples of decrease and conquer\n",
    "in the previous chapter. They all created a single smaller part,\n",
    "e.g. the tail of the input sequence. This chapter will show an example\n",
    "of partitioning the input into two parts but only conquering one of them.\n",
    "Decrease-and-conquer algorithms usually use single recursion.\n",
    "Tail-recursive algorithms can be easily rewritten using iteration.\n",
    "\n",
    "The previous chapter presented decrease-and-conquer algorithms that\n",
    "reduce the input size just by one. This chapter presents algorithms that\n",
    "decrease the size by a larger amount and are therefore more efficient.\n",
    "You will see that the complexity of a recursive algorithm can be\n",
    "defined recursively.\n",
    "\n",
    "This chapter supports these learning outcomes:\n",
    "\n",
    "- Understand the common general-purpose data structures, algorithmic techniques and complexity classes – you will learn\n",
    "  various forms of decrease-and-conquer algorithms, including binary search,\n",
    "  and their logarithmic and log-linear complexities.\n",
    "- Analyse the complexity of algorithms to support software design choices – you will learn how to determine the complexity of some recursive algorithms.\n",
    "\n",
    "Before starting to work on this chapter, check the M269\n",
    "[news](https://learn2.open.ac.uk/blocks/news/all.php?bi=326014) and [errata](https://learn2.open.ac.uk/mod/url/view.php?id=2554721),\n",
    "and check the TMAs for what is assessed."
   ]
  },
  {
   "cell_type": "markdown",
   "id": "2",
   "metadata": {
    "nbsphinx-toctree": {
     "hidden": true,
     "maxdepth": 1,
     "numbered": false
    }
   },
   "source": [
    "1. [Decrease by one](13_1_decrease_one.ipynb)\n",
    "1. [Decrease by half](13_2_decrease_half.ipynb)\n",
    "1. [Variable decrease](13_3_variable_decrease.ipynb)\n",
    "1. [Binary search](13_4_binary_search.ipynb)\n",
    "1. [Binary search variants](13_5_variants.ipynb)\n",
    "1. [Divide and conquer](13_6_divide.ipynb)\n",
    "1. [Summary](13_7_summary.ipynb)"
   ]
  },
  {
   "cell_type": "markdown",
   "id": "3",
   "metadata": {},
   "source": [
    "⟵ [Previous chapter](../12_Recursion/12-introduction.ipynb) | [Up](../M269.ipynb) | [Next chapter](../14_Sorting/14-introduction.ipynb) ⟶"
   ]
  }
 ],
 "metadata": {
  "kernelspec": {
   "display_name": "Python 3",
   "language": "python",
   "name": "python3"
  },
  "language_info": {
   "codemirror_mode": {
    "name": "ipython",
    "version": 3
   },
   "file_extension": ".py",
   "mimetype": "text/x-python",
   "name": "python",
   "nbconvert_exporter": "python",
   "pygments_lexer": "ipython3",
   "version": "3.12.10"
  }
 },
 "nbformat": 4,
 "nbformat_minor": 5
}
