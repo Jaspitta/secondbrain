{
 "cells": [
  {
   "cell_type": "markdown",
   "id": "0",
   "metadata": {},
   "source": [
    "## 13.6 Divide and conquer"
   ]
  },
  {
   "cell_type": "markdown",
   "id": "1",
   "metadata": {},
   "source": [
    "A decrease-and-conquer algorithm may divide the input into multiple parts,\n",
    "but only conquers (i.e. solves the problem for) one of them.\n",
    "Binary search is an example: the input sequence is\n",
    "divided into two halves, but only one of them is searched.\n",
    "\n",
    "A divide-and-conquer algorithm conquers more than one part, usually all of them,\n",
    "and then combines their solutions.\n",
    "The [multiple recursion](../12_Recursion/12_7_multiple.ipynb#12.7-Multiple-recursion) examples\n",
    "in the previous chapter are divide-and-conquer algorithms."
   ]
  },
  {
   "cell_type": "markdown",
   "id": "2",
   "metadata": {},
   "source": [
    "### 13.6.1 Complexity"
   ]
  },
  {
   "cell_type": "markdown",
   "id": "3",
   "metadata": {},
   "source": [
    "Let *n* be the size of the input and\n",
    "*s* be the size of the smallest input, which is necessarily a base case.\n",
    "Let's assume the algorithm divides the input into *p* parts of\n",
    "equal or nearly equal size. Then its complexity is defined by\n",
    "\n",
    "- if *n* = *s*: T(*n*) = Θ(*b*)\n",
    "- if *n* > *s*: T(*n*) = Θ(*d*) + *p* × T(*n* / *p*) + Θ(*c*)\n",
    "\n",
    "where Θ(*b*) is the complexity of handling the base case,\n",
    "Θ(*d*) is the complexity of dividing the input and\n",
    "Θ(*c*) is the complexity of combining the subsolutions for the parts.\n",
    "\n",
    "The expression *p* × T(*n* / *p*) is the time it takes to solve\n",
    "the *p* subproblems, each of size *n* / *p*.\n",
    "\n",
    "Let's analyse the complexity of the divide-and-conquer algorithm for\n",
    "maximum(*numbers*, *start*, *end*), presented in the previous chapter.\n",
    "Remember that the input sequence isn't empty."
   ]
  },
  {
   "cell_type": "markdown",
   "id": "4",
   "metadata": {},
   "source": [
    "#### Maximum with slicing"
   ]
  },
  {
   "cell_type": "markdown",
   "id": "5",
   "metadata": {},
   "source": [
    "The first algorithm presented was:\n",
    "\n",
    "1. let *n* be │*numbers*│\n",
    "1. if *n* = 1:\n",
    "   1. let *solution* be head(*numbers*)\n",
    "1. otherwise:\n",
    "   1. let *middle* be floor(*n* / 2)\n",
    "   1. let *largest left* be maximum(*numbers*[0:*middle*])\n",
    "   1. let *largest right* be maximum(*numbers*[*middle*:*n*])\n",
    "   1. let *solution* be max(*largest left*, *largest right*)\n",
    "\n",
    "The base case has size *s* = 1 and takes constant time to process (step&nbsp;2.1).\n",
    "Steps 3.1 to 3.3 take linear time to divide the input into *p* = 2 parts.\n",
    "Step&nbsp;3.4 takes constant time to combine the subsolutions.\n",
    "We have:\n",
    "\n",
    "- if *n* = 1: T(*n*) = Θ(1)\n",
    "- if *n* > 1: T(*n*) = Θ(*n*) + 2 × T(*n* / 2) + Θ(1) = 2×T(*n* / 2) + Θ(*n*).\n",
    "\n",
    "It has been proven that this corresponds to T(*n*) = Θ(*n* × log *n*).\n",
    "This is called **log-linear** complexity.\n",
    "It's slightly worse than linear but much better than quadratic complexity,\n",
    "because logarithmic run-times grow very slowly as the input size grows.\n",
    "In maths, the multiplication operator is omitted when that causes no confusion,\n",
    "so we usually write Θ(*n* log *n*)."
   ]
  },
  {
   "cell_type": "markdown",
   "id": "6",
   "metadata": {},
   "source": [
    "<div class=\"alert alert-info\">\n",
    "<strong>Info:</strong> Log-linear complexity is also called linearithmic complexity.\n",
    "</div>"
   ]
  },
  {
   "cell_type": "markdown",
   "id": "7",
   "metadata": {},
   "source": [
    "#### Maximum without slicing"
   ]
  },
  {
   "cell_type": "markdown",
   "id": "8",
   "metadata": {},
   "source": [
    "The second version presented was:\n",
    "\n",
    "1. if *start* + 1 = *end*:\n",
    "   1. let *solution* be *numbers*[*start*]\n",
    "2. otherwise:\n",
    "   1. let *middle* be *start* + floor((*end* – *start*) / 2)\n",
    "   1. let *largest left* be maximum(*numbers*, *start*, *middle*)\n",
    "   1. let *largest right* be maximum(*numbers*, *middle*, *end*)\n",
    "   1. let *solution* be max(*largest left*, *largest right*)\n",
    "\n",
    "The base case has size *s* = 1 and takes constant time to process (step&nbsp;1.1).\n",
    "Steps 2.1 to 2.3 take constant time to divide the input into *p* = 2 parts.\n",
    "Step&nbsp;2.4 takes constant time to combine the subsolutions.\n",
    "We have:\n",
    "\n",
    "- if *n* = 1: T(*n*) = Θ(1)\n",
    "- if *n* > 1: T(*n*) = Θ(1) + 2 × T(*n* / 2) + Θ(1) = 2×T(*n* / 2) + Θ(1).\n",
    "\n",
    "It has been proven that this corresponds to T(*n*) = Θ(*n*)."
   ]
  },
  {
   "cell_type": "markdown",
   "id": "9",
   "metadata": {},
   "source": [
    "#### General comments"
   ]
  },
  {
   "cell_type": "markdown",
   "id": "10",
   "metadata": {},
   "source": [
    "The direct expressions for T(*n*) remain the same for any other *p* > 2,\n",
    "as long as dividing and combining takes constant time. In other words,\n",
    "dividing into more than two parts and combining their results doesn't reduce the\n",
    "complexity but complicates the algorithm and increases the run-time.\n",
    "Therefore, most divide-and-conquer algorithms just divide the input into halves."
   ]
  },
  {
   "cell_type": "markdown",
   "id": "11",
   "metadata": {},
   "source": [
    "<div class=\"alert alert-warning\">\n",
    "<strong>Note:</strong> If T(<em>s</em>) = Θ(1), where <em>s</em> is the smallest input size, and\n",
    "T(<em>n</em>) = <em>p</em> × T(<em>n</em> / <em>p</em>) + Θ(1) for <em>n</em> > <em>s</em> and <em>p</em> > 1,\n",
    "then T(<em>n</em>) = Θ(<em>n</em>).\n",
    "If instead T(<em>n</em>) = <em>p</em> × T(<em>n</em> / <em>p</em>) + Θ(<em>n</em>), then T(<em>n</em>) = Θ(<em>n</em> log <em>n</em>).\n",
    "</div>"
   ]
  },
  {
   "cell_type": "markdown",
   "id": "12",
   "metadata": {},
   "source": [
    "If a divide-and-conquer algorithm, like the one above, does the same steps\n",
    "for all inputs, i.e. there's no input for which it stops early, then\n",
    "the complexity obtained is both the best- and worst-case complexity.\n",
    "Otherwise, the recursive definition captures the worst-case complexity.\n",
    "\n",
    "The analysis shows that it's not worth computing the maximum with\n",
    "a divide-and-conquer algorithm: it isn't more efficient than a much\n",
    "simpler iterative linear search. The next chapter presents two examples\n",
    "in which divide and conquer pays off.\n",
    "\n",
    "Divide and conquer is a good approach if implemented in a parallel fashion\n",
    "to take advantage of multi-processor hardware.\n",
    "Each recursive call can be executed as a separate thread that\n",
    "works independently on its part of the input. The operating system allocates\n",
    "each thread to an available processor, reducing the time the user waits\n",
    "for the result, compared to executing the algorithm in one thread.\n",
    "Writing a multi-threaded algorithm requires special libraries or\n",
    "programming language constructs that are outside the scope of M269."
   ]
  },
  {
   "cell_type": "markdown",
   "id": "13",
   "metadata": {},
   "source": [
    "<div class=\"alert alert-info\">\n",
    "<strong>Info:</strong> The Operating Systems block of TM129 introduces threads.\n",
    "</div>"
   ]
  },
  {
   "cell_type": "markdown",
   "id": "14",
   "metadata": {},
   "source": [
    "⟵ [Previous section](13_5_variants.ipynb) | [Up](13-introduction.ipynb) | [Next section](13_7_summary.ipynb) ⟶"
   ]
  }
 ],
 "metadata": {
  "kernelspec": {
   "display_name": "Python 3",
   "language": "python",
   "name": "python3"
  },
  "language_info": {
   "codemirror_mode": {
    "name": "ipython",
    "version": 3
   },
   "file_extension": ".py",
   "mimetype": "text/x-python",
   "name": "python",
   "nbconvert_exporter": "python",
   "pygments_lexer": "ipython3",
   "version": "3.12.10"
  }
 },
 "nbformat": 4,
 "nbformat_minor": 5
}
