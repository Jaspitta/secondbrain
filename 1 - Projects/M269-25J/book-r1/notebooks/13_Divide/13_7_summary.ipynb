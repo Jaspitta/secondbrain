{
 "cells": [
  {
   "cell_type": "markdown",
   "id": "0",
   "metadata": {},
   "source": [
    "## 13.7 Summary"
   ]
  },
  {
   "cell_type": "markdown",
   "id": "1",
   "metadata": {},
   "source": [
    "A **divide-and-conquer** algorithm divides the input into smaller instances of the\n",
    "same problem, solves (conquers) each instance and combines their solutions.\n",
    "A **decrease-and-conquer** algorithm only solves one smaller problem instance.\n",
    "If the input is small enough, the solution is computed directly.\n",
    "Divide-and-conquer algorithms use multiple recursion;\n",
    "decrease-and-conquer algorithms use single recursion or iteration.\n",
    "\n",
    "Tail-recursive algorithms can be rewritten as iterative algorithms:\n",
    "the loop reduces the input size or value until it's one of the base cases,\n",
    "which are handled after the loop.\n",
    "\n",
    "A decrease-and-conquer approach can decrease the input by\n",
    "a constant amount (typically one), by a variable amount or\n",
    "by a constant factor (typically by halving the input)."
   ]
  },
  {
   "cell_type": "markdown",
   "id": "2",
   "metadata": {},
   "source": [
    "### 13.7.1 Complexity"
   ]
  },
  {
   "cell_type": "markdown",
   "id": "3",
   "metadata": {},
   "source": [
    "The complexity of a recursive algorithm can be defined recursively,\n",
    "in the form of a function (traditionally named T)\n",
    "on the size or value *n* of the input.\n",
    "\n",
    "The base case for T is the algorithm's complexity for the base case,\n",
    "typically Θ(1). The recurrence relation is of the form\n",
    "T(*n*) = T(*n*−1) + Θ(...) for a decrease-by-one algorithm and\n",
    "T(*n*) = T(*n* / 2) + Θ(...) for a decrease-by-half algorithm,\n",
    "where Θ(...) is the complexity of each recursive call. The direct expression\n",
    "for the complexity T(*n*) depends on the form of recurrence relation.\n",
    "\n",
    "If T(*n*) = | then T(*n*) = | Example\n",
    ":-|:-|:-\n",
    "T(*n* − 1) + Θ(1) | Θ(*n*) | length without slicing\n",
    "T(*n* − 1) + Θ(*n*) | Θ(*n*²) | length with slicing\n",
    "T(*n* / 2) + Θ(1) | Θ(log *n*) | binary search without slicing\n",
    "T(*n* / 2) + Θ(*n*) | Θ(*n*) | binary search with slicing\n",
    "*p* × T(*n* / *p*) + Θ(1) | Θ(*n*) | maximum without slicing\n",
    "*p* × T(*n* / *p*) + Θ(*n*) | Θ(*n* log *n*) | maximum with slicing\n",
    "\n",
    "An algorithm with **logarithmic complexity** Θ(log *n*) is very efficient:\n",
    "its run-time grows very slowly with input size.\n",
    "If the input doubles, the run-time increases by a fixed amount.\n",
    "We assume that exponentiation takes logarithmic time.\n",
    "\n",
    "An algorithm with **log-linear complexity** Θ(*n* log *n*) is less efficient than\n",
    "a linear algorithm but much more efficient than a quadratic algorithm.\n",
    "\n",
    "If the exact best- or worst-case complexity isn't known, e.g.\n",
    "if the input is decreased each time by a variable amount, we should instead\n",
    "provide an upper bound (as low as we can) with **Big-Oh notation** O(...).\n",
    "For example, Euclid's algorithm for the greatest common divisor of *a* and *b*\n",
    "has worst-case complexity O(log max(*a*, *b*)).\n",
    "This means that the worst-case complexity is logarithmic or better:\n",
    "it depends on the input values.\n",
    "All terminology (logarithmic, linear, exponential, etc.) applies to\n",
    "Big-Oh notation too."
   ]
  },
  {
   "cell_type": "markdown",
   "id": "4",
   "metadata": {},
   "source": [
    "### 13.7.2 Binary search"
   ]
  },
  {
   "cell_type": "markdown",
   "id": "5",
   "metadata": {},
   "source": [
    "A **binary search** is a generate-and-test and a decrease-and-conquer algorithm:\n",
    "it generates the middle element of a sorted sequence and\n",
    "tests if it's the sought item.\n",
    "If it isn't, the search conquers either the left or the right half.\n",
    "Binary search keeps halving the search space after testing each candidate,\n",
    "until it finds a solution or the search space is empty.\n",
    "If the generate-and-test steps take constant time,\n",
    "binary search takes logarithmic time."
   ]
  },
  {
   "cell_type": "markdown",
   "id": "6",
   "metadata": {},
   "source": [
    "⟵ [Previous section](13_6_divide.ipynb) | [Up](13-introduction.ipynb) | [Next section](../14_Sorting/14-introduction.ipynb) ⟶"
   ]
  }
 ],
 "metadata": {
  "kernelspec": {
   "display_name": "Python 3",
   "language": "python",
   "name": "python3"
  },
  "language_info": {
   "codemirror_mode": {
    "name": "ipython",
    "version": 3
   },
   "file_extension": ".py",
   "mimetype": "text/x-python",
   "name": "python",
   "nbconvert_exporter": "python",
   "pygments_lexer": "ipython3",
   "version": "3.12.10"
  }
 },
 "nbformat": 4,
 "nbformat_minor": 5
}
