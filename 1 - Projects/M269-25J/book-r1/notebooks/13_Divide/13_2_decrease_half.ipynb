{
 "cells": [
  {
   "cell_type": "markdown",
   "id": "0",
   "metadata": {},
   "source": [
    "## 13.2 Decrease by half"
   ]
  },
  {
   "cell_type": "markdown",
   "id": "1",
   "metadata": {},
   "source": [
    "Progressing towards the base case one item at a time is slow.\n",
    "This and the next section show more efficient decrease-and-conquer algorithms\n",
    "that decrease the input each time by a substantial amount.\n",
    "\n",
    "One way is to decrease the input by a **constant factor** *f* rather than by\n",
    "a constant amount *a*, i.e. the size or value is reduced to *n* / *f*\n",
    "rather than *n* – *a*. Usually *f* = 2, i.e. the input is decreased by half."
   ]
  },
  {
   "cell_type": "markdown",
   "id": "2",
   "metadata": {},
   "source": [
    "### 13.2.1 Problem"
   ]
  },
  {
   "cell_type": "markdown",
   "id": "3",
   "metadata": {},
   "source": [
    "Consider the [exponentiation operation](../02_Sequence/02_2_operations.ipynb#2.2.2-On-integers):\n",
    "compute $b^{n}$ for integers *b* (the base) and *n* (the exponent),\n",
    "with non-negative *n*.\n",
    "\n",
    "A decrease-by-one definition is similar to the factorial:\n",
    "\n",
    "- if *n* = 0: $b^{n} = 1$\n",
    "- if *n* > 0: $b^{n} = b^{n-1} \\times b$.\n",
    "\n",
    "This effectively multiplies *b* by itself *n* times, in linear time.\n",
    "The algorithm follows directly from the recursive definition,\n",
    "so I skip to the code. For the mathematical notation,\n",
    "it's convenient to have single-letter variable names, but\n",
    "when writing code they should be descriptive."
   ]
  },
  {
   "cell_type": "code",
   "execution_count": 1,
   "id": "4",
   "metadata": {},
   "outputs": [
    {
     "data": {
      "text/plain": [
       "True"
      ]
     },
     "execution_count": 1,
     "metadata": {},
     "output_type": "execute_result"
    }
   ],
   "source": [
    "def power_by_one(base: int, exponent: int) -> int:\n",
    "    \"\"\"Return the base to the power of the exponent.\n",
    "\n",
    "    Preconditions: exponent >= 0\n",
    "    \"\"\"\n",
    "    if exponent == 0:\n",
    "        return 1\n",
    "    else:\n",
    "        return power_by_one(base, exponent - 1) * base\n",
    "\n",
    "\n",
    "power_by_one(3, 20) == 3**20  # test with Python's power operator"
   ]
  },
  {
   "cell_type": "markdown",
   "id": "5",
   "metadata": {},
   "source": [
    "### 13.2.2 Algorithm"
   ]
  },
  {
   "cell_type": "markdown",
   "id": "6",
   "metadata": {},
   "source": [
    "Using some properties of exponentiation,\n",
    "we can halve the exponent instead of decreasing it by one,\n",
    "to do fewer multiplications.\n",
    "For example, 4⁶ = 4³ × 4³. Assuming 4³ requires three multiplications,\n",
    "we need four instead of six multiplications to obtain 4⁶.\n",
    "By halving the exponent we get twice the same expression\n",
    "and only compute it once.\n",
    "If the exponent is odd, we need one extra multiplication, e.g.\n",
    "4⁵ = 4² × 4² × 4. The general recursive definition is:\n",
    "\n",
    "- if *n* = 0: $b^{n} = 1$\n",
    "- if *n* > 0 and is even: $b^{n} = b^{n/2} × b^{n/2}$\n",
    "- if *n* is odd: $b^{n} = b^{(n-1)/2} \\times b^{(n-1)/2} \\times b$.\n",
    "\n",
    "The definition has one base case and two recurrence relations.\n",
    "They cover all possible values of *n*.\n",
    "For example, if *n* = 1 then the last case applies and we have\n",
    "*b*¹ = *b*⁰ × *b*⁰ × *b* = 1 × 1 × *b* = *b*.\n",
    "\n",
    "Here's the algorithm, with an auxiliary variable for the subsolution\n",
    "to avoid recomputing it.\n",
    "\n",
    "1. if *n* = 0:\n",
    "   1. let *solution* be 1\n",
    "1. otherwise:\n",
    "   1. let *subsolution* be power(*b*, floor(*n* / 2))\n",
    "   1. if *n* mod 2 = 0:\n",
    "      1. let *solution* be *subsolution* × *subsolution*\n",
    "   1. otherwise:\n",
    "      1. let *solution* be *subsolution* × *subsolution* × *b*\n",
    "\n",
    "The last steps could also be written as:\n",
    "\n",
    "2. otherwise:\n",
    "    1. let *subsolution* be power(*b*, floor(*n* / 2))\n",
    "    1. let *solution* be *subsolution* × *subsolution*\n",
    "    1. if *n* mod 2 = 1:\n",
    "       1. let *solution* be *solution* × *b*\n",
    "\n",
    "I prefer the first alternative: its intent is clearer, in my opinion."
   ]
  },
  {
   "cell_type": "markdown",
   "id": "7",
   "metadata": {},
   "source": [
    "### 13.2.3 Complexity"
   ]
  },
  {
   "cell_type": "markdown",
   "id": "8",
   "metadata": {},
   "source": [
    "Each recursive call takes constant time because it does at most four arithmetic\n",
    "operations: integer division, modulo and one or two multiplications.\n",
    "The complexity is therefore *r* × Θ(1) = Θ(*r*),\n",
    "where *r* is the number of recursive calls.\n",
    "\n",
    "Each extra recursive call can handle up to double the value of the exponent.\n",
    "With *r* recursive calls, the algorithm can handle any *n* up to $2^r$.\n",
    "You've seen this exponential growth rate\n",
    "[before](../11_Search/11_5_subsets.ipynb#11.5.3-Complexity):\n",
    "every item added to a set doubles the number of subsets the set has.\n",
    "\n",
    "What we're really interested in is the inverse relationship:\n",
    "how $r$ grows in terms of the input $n$.\n",
    "The inverse of the exponential is the logarithm: $\\log_b b^y = y$\n",
    "for any real number $b > 1$.\n",
    "The notation $\\log_b n$ is read 'logarithm of $n$ to base $b$'.\n",
    "For this problem, $n = 2^r$, so $\\log_2 n = \\log_2 2^r = r$. We say that\n",
    "the exponentiation algorithm has **logarithmic complexity** Θ($\\log_2 n$).\n",
    "\n",
    "Actually, the base of the logarithm doesn't matter for complexity analysis\n",
    "because it has been shown that the logarithms of the same number\n",
    "in different bases only differ by a constant factor.\n",
    "Thus, $\\log_a n$ and $\\log_b n$ have the same growth rate for\n",
    "any bases $a$ and $b$, and we just write Θ($\\log n$) without any base."
   ]
  },
  {
   "cell_type": "markdown",
   "id": "9",
   "metadata": {},
   "source": [
    "<div class=\"alert alert-info\">\n",
    "<strong>Info:</strong> Logarithms are covered in MU123 Unit&nbsp;13 Sections 4 and 5,\n",
    "and in MST124 Unit&nbsp;3 Section&nbsp;4.\n",
    "</div>"
   ]
  },
  {
   "cell_type": "markdown",
   "id": "10",
   "metadata": {},
   "source": [
    "The safest way to analyse recursive algorithms is to write the\n",
    "recursive definition of T and see which pattern it follows.\n",
    "For this algorithm we have:\n",
    "\n",
    "- if *n* = 0: T(n) = Θ(1)\n",
    "- if *n* > 0: T(n) = T(floor(*n* / 2)) + Θ(1).\n",
    "\n",
    "Whether the algorithm halves an even exponent or halves and rounds down an\n",
    "odd exponent makes no difference to the complexity, so we can simply write\n",
    "T(*n*) = T(*n* / 2) + Θ(1). It has been proven that such a\n",
    "recursive definition leads to T(*n*) = Θ(log *n*)."
   ]
  },
  {
   "cell_type": "markdown",
   "id": "11",
   "metadata": {},
   "source": [
    "<div class=\"alert alert-warning\">\n",
    "<strong>Note:</strong> If T(0) = Θ(1) and T(<em>n</em>) = T(<em>n</em> / 2) + Θ(1), then T(<em>n</em>) = Θ(log <em>n</em>).\n",
    "</div>"
   ]
  },
  {
   "cell_type": "markdown",
   "id": "12",
   "metadata": {},
   "source": [
    "When introducing [run-time measurements](../02_Sequence/02_8_time.ipynb#2.8.1-Checking-growth-rates),\n",
    "I noted that although we assumed $b^{n}$ to take Θ(*n*)\n",
    "to do *n* constant-time multiplications,\n",
    "Python's interpreter took less than linear time to compute it.\n",
    "We henceforth assume exponentiation takes logarithmic time in *n*."
   ]
  },
  {
   "cell_type": "markdown",
   "id": "13",
   "metadata": {},
   "source": [
    "### 13.2.4 Code and performance"
   ]
  },
  {
   "cell_type": "markdown",
   "id": "14",
   "metadata": {},
   "source": [
    "Let's implement the decrease-by-half approach."
   ]
  },
  {
   "cell_type": "code",
   "execution_count": 2,
   "id": "15",
   "metadata": {},
   "outputs": [
    {
     "data": {
      "text/plain": [
       "True"
      ]
     },
     "execution_count": 2,
     "metadata": {},
     "output_type": "execute_result"
    }
   ],
   "source": [
    "def power_by_half(base: int, exponent: int) -> int:\n",
    "    \"\"\"Return the base to the power of the exponent.\n",
    "\n",
    "    Preconditions: exponent >= 0\n",
    "    \"\"\"\n",
    "    if exponent == 0:\n",
    "        return 1\n",
    "    else:\n",
    "        subsolution = power_by_half(base, exponent // 2)\n",
    "        if exponent % 2 == 0:\n",
    "            return subsolution * subsolution\n",
    "        else:\n",
    "            return subsolution * subsolution * base\n",
    "\n",
    "\n",
    "power_by_half(3, 20) == 3**20"
   ]
  },
  {
   "cell_type": "markdown",
   "id": "16",
   "metadata": {},
   "source": [
    "Since the complexity depends on the exponent only,\n",
    "to measure the run-time I use always the same base,\n",
    "start with a not too small exponent and double it each time."
   ]
  },
  {
   "cell_type": "code",
   "execution_count": 3,
   "id": "17",
   "metadata": {},
   "outputs": [
    {
     "name": "stdout",
     "output_type": "stream",
     "text": [
      "1.21 μs ± 246 ns per loop (mean ± std. dev. of 5 runs, 10,000 loops each)\n",
      "1.83 μs ± 45 ns per loop (mean ± std. dev. of 5 runs, 10,000 loops each)\n",
      "3.86 μs ± 13.4 ns per loop (mean ± std. dev. of 5 runs, 10,000 loops each)\n",
      "10.5 μs ± 133 ns per loop (mean ± std. dev. of 5 runs, 10,000 loops each)\n"
     ]
    }
   ],
   "source": [
    "exponent = 20\n",
    "while exponent <= 200:\n",
    "    %timeit -r 5 -n 10_000 power_by_one(3, exponent)\n",
    "    exponent = 2 * exponent"
   ]
  },
  {
   "cell_type": "markdown",
   "id": "18",
   "metadata": {},
   "source": [
    "The doubling of the run-time confirms the algorithm is linear in the exponent.\n",
    "Now the decrease-by-half approach."
   ]
  },
  {
   "cell_type": "code",
   "execution_count": 4,
   "id": "19",
   "metadata": {},
   "outputs": [
    {
     "name": "stdout",
     "output_type": "stream",
     "text": [
      "342 ns ± 4.37 ns per loop (mean ± std. dev. of 5 runs, 10,000 loops each)\n",
      "413 ns ± 1.22 ns per loop (mean ± std. dev. of 5 runs, 10,000 loops each)\n",
      "496 ns ± 0.582 ns per loop (mean ± std. dev. of 5 runs, 10,000 loops each)\n",
      "592 ns ± 0.717 ns per loop (mean ± std. dev. of 5 runs, 10,000 loops each)\n"
     ]
    }
   ],
   "source": [
    "exponent = 20\n",
    "while exponent <= 200:\n",
    "    %timeit -r 5 -n 10_000 power_by_half(3, exponent)\n",
    "    exponent = 2 * exponent"
   ]
  },
  {
   "cell_type": "markdown",
   "id": "20",
   "metadata": {},
   "source": [
    "The run-time increases by a fixed amount each time\n",
    "because doubling the exponent requires a single extra multiplication."
   ]
  },
  {
   "cell_type": "markdown",
   "id": "21",
   "metadata": {},
   "source": [
    "<div class=\"alert alert-warning\">\n",
    "<strong>Note:</strong> If doubling the input size increases the run-time by a fixed amount,\n",
    "then the complexity is logarithmic.\n",
    "</div>"
   ]
  },
  {
   "cell_type": "markdown",
   "id": "22",
   "metadata": {},
   "source": [
    "An exponential function with integer base greater than one grows very fast;\n",
    "the logarithm function with the same base thus grows very slowly.\n",
    "For example, $2^{20}$ is about one million, so computing $b^{1,000,000}$\n",
    "takes just $\\log_2$ 1,000,000 ≈ 20 recursive calls!\n",
    "Even if each one does two multiplications (the worst case),\n",
    "40 multiplications is far better than doing a million of them.\n",
    "The efficiency gain is tremendous, even compared to a linear algorithm.\n",
    "If you find a logarithmic algorithm for a problem, you're on to a winner."
   ]
  },
  {
   "cell_type": "markdown",
   "id": "23",
   "metadata": {},
   "source": [
    "⟵ [Previous section](13_1_decrease_one.ipynb) | [Up](13-introduction.ipynb) | [Next section](13_3_variable_decrease.ipynb) ⟶"
   ]
  }
 ],
 "metadata": {
  "kernelspec": {
   "display_name": "Python 3",
   "language": "python",
   "name": "python3"
  },
  "language_info": {
   "codemirror_mode": {
    "name": "ipython",
    "version": 3
   },
   "file_extension": ".py",
   "mimetype": "text/x-python",
   "name": "python",
   "nbconvert_exporter": "python",
   "pygments_lexer": "ipython3",
   "version": "3.12.10"
  }
 },
 "nbformat": 4,
 "nbformat_minor": 5
}
