{
 "cells": [
  {
   "cell_type": "markdown",
   "id": "0",
   "metadata": {},
   "source": [
    "## 13.4 Binary search"
   ]
  },
  {
   "cell_type": "markdown",
   "id": "1",
   "metadata": {},
   "source": [
    "In Chapter&nbsp;11 you saw that searching for an item *x* in an ascending sequence\n",
    "is often faster than in an unsorted sequence because we can stop when\n",
    "the current item is larger than *x*:\n",
    "at that point we know *x* can't be in the rest of the sequence.\n",
    "\n",
    "We can search in a sorted sequence much faster with **binary search**.\n",
    "It's a generate-and-test algorithm that generates very few candidates because\n",
    "it decreases the search space by half after testing the current candidate.\n",
    "Binary search is a decrease-and-conquer algorithm and not an exhaustive search\n",
    "because it doesn't go through all candidates."
   ]
  },
  {
   "cell_type": "markdown",
   "id": "2",
   "metadata": {},
   "source": [
    "### 13.4.1 Recursive, with slicing"
   ]
  },
  {
   "cell_type": "markdown",
   "id": "3",
   "metadata": {},
   "source": [
    "Binary search implements the membership operation on sorted sequences.\n",
    "If I'm looking for 4 in the ascending sequence (..., 5, ...),\n",
    "then the number must be in the left part, before the 5, if it exists.\n",
    "If the sequence is in descending order instead,\n",
    "then the 4 must be in the right part, after the 5.\n",
    "More generally, inspecting the middle element of a sorted sequence\n",
    "will always discard half of the items no matter where the sought item is\n",
    "and whether the order is ascending or descending."
   ]
  },
  {
   "cell_type": "markdown",
   "id": "4",
   "metadata": {},
   "source": [
    "#### Algorithm"
   ]
  },
  {
   "cell_type": "markdown",
   "id": "5",
   "metadata": {},
   "source": [
    "The algorithm stops when it reaches one of two base cases:\n",
    "either the middle element is the sought element or the sequence is empty.\n",
    "Here's the recursive definition for has(*items*, *item*),\n",
    "assuming that the sequence is in ascending order.\n",
    "\n",
    "- if *items* is empty: has(*items*, *item*) = false\n",
    "- if *item* = middle element of *items*: has(*items*, *item*) = true\n",
    "- if *item* < middle element of *items*: has(*items*, *item*) = has(left half of *items*, *item*)\n",
    "- if *item* > middle element of *items*: has(*items*, *item*) = has(right half of *items*, *item*)\n",
    "\n",
    "I defined the function in informal terms to convey the gist of binary search.\n",
    "The algorithm computes the middle element and slices each half as done before\n",
    "for [computing the maximum](../12_Recursion/12_7_multiple.ipynb#12.7.1-Dividing-the-input).\n",
    "\n",
    "1. let *n* be │*items*│\n",
    "1. if *n* = 0:\n",
    "   1. let *exists* be false\n",
    "1. otherwise:\n",
    "   1. let *middle* be floor(*n* / 2)\n",
    "   2. let *middle item* be *items*[*middle*]\n",
    "   3. if *middle item* = *item*:\n",
    "      1. let *exists* be true\n",
    "   4. otherwise if *item* < *middle item*:\n",
    "      1. let *exists* be has(*items*[0:*middle*], *item*)\n",
    "   5. otherwise:\n",
    "      1. let *exists* be has(*items*[*middle* + 1:*n*], *item*)\n",
    "\n",
    "Contrary to the [multiple recursion membership algorithm](../12_Recursion/12_7_multiple.ipynb#Exercise-12.7.1),\n",
    "this one searches only one of the halves: it's a single-recursion algorithm.\n",
    "The difference between multiple and single recursion is not about\n",
    "how many recursive calls are in the algorithm, but how many are executed.\n",
    "\n",
    "Steps 2 and 3.3 check for the base cases; steps 3.4.1 and 3.5.1\n",
    "decrease the sequence and recur. There's no combination step,\n",
    "so the algorithm is tail recursive: the last step is either 3.4.1 or 3.5.1.\n",
    "\n",
    "Neither half includes the middle item\n",
    "(remember that the last index of a slice isn't included), so\n",
    "each recursive call does indeed reduce the size of the input.\n",
    "We don't need another base case."
   ]
  },
  {
   "cell_type": "markdown",
   "id": "6",
   "metadata": {},
   "source": [
    "#### Exercise 13.4.1"
   ]
  },
  {
   "cell_type": "markdown",
   "id": "7",
   "metadata": {},
   "source": [
    "How would you change the algorithm if the sequence were in descending order?\n",
    "Just describe the change briefly: don't write the full algorithm."
   ]
  },
  {
   "cell_type": "markdown",
   "id": "8",
   "metadata": {},
   "source": [
    "_Write your answer here._"
   ]
  },
  {
   "cell_type": "markdown",
   "id": "9",
   "metadata": {},
   "source": [
    "[Answer](../32_Answers/Answers_13_4_01.ipynb)"
   ]
  },
  {
   "cell_type": "markdown",
   "id": "10",
   "metadata": {},
   "source": [
    "#### Complexity"
   ]
  },
  {
   "cell_type": "markdown",
   "id": "11",
   "metadata": {},
   "source": [
    "In the best-case scenario, the middle element is the sought one:\n",
    "the algorithm takes constant time.\n",
    "\n",
    "In a worst-case scenario, the sequence doesn't contain the item.\n",
    "We can define the complexity T(*n*) recursively, using *n* = │*items*│.\n",
    "The base case (steps 2 and 2.1) takes constant time, so T(0) = Θ(1).\n",
    "For a non-empty sequence, each call takes\n",
    "\n",
    "- Θ(1) for steps 3.1 to 3.3 (which fails in the worst case) and 3.4 or 3.5\n",
    "- Θ(*n* / 2) for slicing half the sequence in either 3.4.1 or 3.5.1\n",
    "- T(*n* / 2) for the recursive call in the same step.\n",
    "\n",
    "Putting it all together:\n",
    "\n",
    "- if *n* = 0: T(*n*) = Θ(1)\n",
    "- if *n* > 0: T(*n*) = Θ(1) + Θ(*n* / 2) + T(*n* / 2) = T(*n* / 2) + Θ(*n*).\n",
    "\n",
    "It has been proven that this leads to T(*n*) = Θ(*n*)."
   ]
  },
  {
   "cell_type": "markdown",
   "id": "12",
   "metadata": {},
   "source": [
    "<div class=\"alert alert-warning\">\n",
    "<strong>Note:</strong> If T(0) = Θ(1) and T(<em>n</em>) = T(<em>n</em> / 2) + Θ(<em>n</em>), then T(<em>n</em>) = Θ(<em>n</em>).\n",
    "</div>"
   ]
  },
  {
   "cell_type": "markdown",
   "id": "13",
   "metadata": {},
   "source": [
    "### 13.4.2 Recursive, without slicing"
   ]
  },
  {
   "cell_type": "markdown",
   "id": "14",
   "metadata": {},
   "source": [
    "Binary search with slicing is no better than linear search\n",
    "in terms of complexity and is much worse in terms of memory due to all\n",
    "the intermediate slices created.\n",
    "To make the algorithm more efficient, I keep track of the start and end indices\n",
    "of the slice to [avoid creating it](../12_Recursion/12_6_avoid_slicing.ipynb#12.6-Avoiding-slicing).\n",
    "\n",
    "Here's the recursive binary search algorithm for membership function\n",
    "has(*items*, *item*, *start*, *end*), with 0 ≤ *start* ≤ *end* ≤ │*items*│.\n",
    "\n",
    "1. if *start* = *end*:\n",
    "   1. let *exists* be false\n",
    "2. otherwise:\n",
    "   1. let *middle* be *start* + floor((*end* – *start*) / 2)\n",
    "   1. let *middle item* be *items*[*middle*]\n",
    "   1. if *middle item* = *item*:\n",
    "      1. let *exists* be true\n",
    "   2. otherwise if *item* < *middle item*:\n",
    "      1. let *exists* be has(*items*, *item*, *start*, *middle*)\n",
    "   2. otherwise:\n",
    "      1. let *exists* be has(*items*, *item*, *middle* + 1, *end*)\n",
    "\n",
    "I code the algorithm with an inner function to hide the\n",
    "extra arguments from the user.\n",
    "I add a print statement that shows the sequence searched in each call.\n",
    "Feel free to uncomment it and to also print the middle item."
   ]
  },
  {
   "cell_type": "code",
   "execution_count": 1,
   "id": "15",
   "metadata": {},
   "outputs": [],
   "source": [
    "def has(items: list, item: object) -> bool:\n",
    "    \"\"\"Return True if and only if item is a member of items.\n",
    "\n",
    "    Preconditions:\n",
    "    - items is in ascending order\n",
    "    - item is comparable to all members of items\n",
    "    \"\"\"\n",
    "\n",
    "    def in_slice(start: int, end: int) -> bool:\n",
    "        \"\"\"Return True if and only if item is in slice items[start:end].\n",
    "\n",
    "        Preconditions: 0 <= start <= end <= len(items)\n",
    "        \"\"\"\n",
    "        # print('Searching', item, 'in', items[start:end])\n",
    "        if end == start:\n",
    "            return False\n",
    "        else:\n",
    "            middle = start + (end - start) // 2\n",
    "            middle_item = items[middle]\n",
    "            if middle_item == item:\n",
    "                return True\n",
    "            elif item < middle_item:\n",
    "                return in_slice(start, middle)\n",
    "            else:\n",
    "                return in_slice(middle + 1, end)\n",
    "\n",
    "    return in_slice(0, len(items))"
   ]
  },
  {
   "cell_type": "markdown",
   "id": "16",
   "metadata": {},
   "source": [
    "Here are some tests. You may wish to add more, e.g. with all items the same."
   ]
  },
  {
   "cell_type": "code",
   "execution_count": 2,
   "id": "17",
   "metadata": {},
   "outputs": [
    {
     "name": "stdout",
     "output_type": "stream",
     "text": [
      "Testing has...\n",
      "Tests finished: 9 passed (100%), 0 failed.\n"
     ]
    }
   ],
   "source": [
    "from algoesup import test\n",
    "\n",
    "has_tests = [\n",
    "    # case,                 items,  item,   has?\n",
    "    ('empty list',          [],     1,      False),\n",
    "    ('is before 1 item',    [2],    1,      False),\n",
    "    ('is the 1 item',       [1],    1,      True),\n",
    "    ('is after 1 item',     [2],    3,      False),\n",
    "    ('is before 2 items',   [2, 4], 1,      False),\n",
    "    ('is between 2 items',  [2, 4], 3,      False),\n",
    "    ('is after 2 items',    [2, 4], 5,      False),\n",
    "    ('is 1st of 2 items',   [2, 4], 2,      True),\n",
    "    ('is 2nd of 2 items',   [2, 4], 4,      True),\n",
    "]\n",
    "\n",
    "test(has, has_tests)"
   ]
  },
  {
   "cell_type": "markdown",
   "id": "18",
   "metadata": {},
   "source": [
    "#### Exercise 13.4.2"
   ]
  },
  {
   "cell_type": "markdown",
   "id": "19",
   "metadata": {},
   "source": [
    "Write the recursive definition of T for this algorithm's worst case and\n",
    "determine the complexity by checking if the definition has a form seen before."
   ]
  },
  {
   "cell_type": "markdown",
   "id": "20",
   "metadata": {},
   "source": [
    "_Write your answer here._"
   ]
  },
  {
   "cell_type": "markdown",
   "id": "21",
   "metadata": {},
   "source": [
    "[Hint](../31_Hints/Hints_13_4_02.ipynb)\n",
    "[Answer](../32_Answers/Answers_13_4_02.ipynb)\n",
    "\n",
    "You saw brute-force searches that don't generate symmetric candidates\n",
    "in order to shrink the search space by half or better. For example, for the\n",
    "[factorisation problem](../11_Search/11_2_factorisation.ipynb#11.2.3-Sort-candidates) we decreased\n",
    "the upper limit of the search space from *n* to $\\sqrt{n}$.\n",
    "Binary search prunes the search space by half after *each* test,\n",
    "not just at the start of the algorithm.\n",
    "This makes a tremendous difference, as you've seen for the\n",
    "[exponentiation operation](../13_Divide/13_2_decrease_half.ipynb#13.2.4-Code-and-performance)."
   ]
  },
  {
   "cell_type": "markdown",
   "id": "22",
   "metadata": {},
   "source": [
    "### 13.4.3 Iterative"
   ]
  },
  {
   "cell_type": "markdown",
   "id": "23",
   "metadata": {},
   "source": [
    "The recursive algorithm is tail recursive, so an iterative version is due.\n",
    "It's not strictly necessary because a recursive decrease-by-half function\n",
    "doesn't exceed the call stack limit: processing one billion items requires\n",
    "at most $\\log_2$ 10⁹ ≈ 30 calls.\n",
    "\n",
    "An iterative implementation has the same complexity but is marginally faster,\n",
    "as it avoids the constant-time function call overheads.\n",
    "It simply reduces the slice until it's empty or the item is found.\n",
    "I don't repeat the docstring."
   ]
  },
  {
   "cell_type": "code",
   "execution_count": 3,
   "id": "24",
   "metadata": {},
   "outputs": [
    {
     "name": "stdout",
     "output_type": "stream",
     "text": [
      "Testing has_iterative...\n",
      "Tests finished: 9 passed (100%), 0 failed.\n"
     ]
    }
   ],
   "source": [
    "def has_iterative(items: list, item: object) -> bool:  # noqa: D103\n",
    "    start = 0\n",
    "    end = len(items)\n",
    "    while start < end:  # alternative: while start != end\n",
    "        middle = start + (end - start) // 2\n",
    "        middle_item = items[middle]\n",
    "        if middle_item == item:\n",
    "            return True\n",
    "        elif item < middle_item:\n",
    "            end = middle  # search left half [start:middle]\n",
    "        else:\n",
    "            start = middle + 1  # search right half [middle+1:end]\n",
    "    return False\n",
    "\n",
    "\n",
    "test(has_iterative, has_tests)"
   ]
  },
  {
   "cell_type": "markdown",
   "id": "25",
   "metadata": {},
   "source": [
    "Let's compare the run-times for a worst case: the item isn't in the sequence."
   ]
  },
  {
   "cell_type": "code",
   "execution_count": 4,
   "id": "26",
   "metadata": {},
   "outputs": [
    {
     "name": "stdout",
     "output_type": "stream",
     "text": [
      "3.08 μs ± 3.09 ns per loop (mean ± std. dev. of 5 runs, 100,000 loops each)\n",
      "2.27 μs ± 45.3 ns per loop (mean ± std. dev. of 5 runs, 100,000 loops each)\n"
     ]
    }
   ],
   "source": [
    "# If running this cell in the VCE leads to a crash, set `items` to fewer zeros.\n",
    "items = [0] * 1_000_000_000  # a billion zeros\n",
    "\n",
    "%timeit -r 5 has(items, 1)\n",
    "%timeit -r 5 has_iterative(items, 1)"
   ]
  },
  {
   "cell_type": "markdown",
   "id": "27",
   "metadata": {},
   "source": [
    "Doing 30 iterations instead of 30 recursive calls only saves a few microseconds.\n",
    "Recursion, even without tail optimisation, adds a very small overhead.\n",
    "The efficiency of a search algorithm depends on how it prunes the search space,\n",
    "not on whether it's recursive or iterative."
   ]
  },
  {
   "cell_type": "markdown",
   "id": "28",
   "metadata": {},
   "source": [
    "<div class=\"alert alert-warning\">\n",
    "<strong>Note:</strong> Recursion isn't inherently inefficient.\n",
    "</div>"
   ]
  },
  {
   "cell_type": "markdown",
   "id": "29",
   "metadata": {},
   "source": [
    "⟵ [Previous section](13_3_variable_decrease.ipynb) | [Up](13-introduction.ipynb) | [Next section](13_5_variants.ipynb) ⟶"
   ]
  }
 ],
 "metadata": {
  "kernelspec": {
   "display_name": "Python 3",
   "language": "python",
   "name": "python3"
  },
  "language_info": {
   "codemirror_mode": {
    "name": "ipython",
    "version": 3
   },
   "file_extension": ".py",
   "mimetype": "text/x-python",
   "name": "python",
   "nbconvert_exporter": "python",
   "pygments_lexer": "ipython3",
   "version": "3.12.10"
  }
 },
 "nbformat": 4,
 "nbformat_minor": 5
}
