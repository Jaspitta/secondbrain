{
 "cells": [
  {
   "cell_type": "markdown",
   "id": "0",
   "metadata": {},
   "source": [
    "## 1.4 Summary"
   ]
  },
  {
   "cell_type": "markdown",
   "id": "1",
   "metadata": {},
   "source": [
    "The following summarises the main points about using notebooks in JupyterLab.\n",
    "Other Jupyter platforms behave slightly differently.\n",
    "You may wish to print this notebook or keep it open\n",
    "until you're familiar with the commands.\n",
    "\n",
    "I follow the convention of writing letter keys\n",
    "as they're printed on keyboards: in uppercase.\n",
    "Ctrl-A means to just press those two keys and is different from Ctrl-Shift-A.\n",
    "Likewise, A and Shift-A are different commands."
   ]
  },
  {
   "cell_type": "markdown",
   "id": "2",
   "metadata": {},
   "source": [
    "### 1.4.1 Notebooks"
   ]
  },
  {
   "cell_type": "markdown",
   "id": "3",
   "metadata": {},
   "source": [
    "A notebook is a sequence of text and code cells.\n",
    "Each notebook is associated to a kernel (a Python interpreter) that\n",
    "executes the code cells of that notebook and holds the variables' state.\n",
    "Running a text cell formats its text; running a code cell executes its code.\n",
    "\n",
    "At any point, the notebook is either in command or edit mode.\n",
    "Command mode allows us to change whole cells or the notebook, while\n",
    "edit mode allows us to change the content of the currently selected cell,\n",
    "which is indicated by a thick bar to its left.\n",
    "In edit mode, you can see a cursor inside the current cell.\n",
    "\n",
    "To switch to edit mode, press Enter, click inside a code cell, or double-click inside a text cell.\n",
    "To switch to command mode, press the Escape key or click to the left of a cell.\n",
    "\n",
    "To use notebooks in a productive way:\n",
    "\n",
    "- Prefer using the keyboard to the mouse.\n",
    "- Learn the common shortcuts to copy/cut/paste text, undo/redo edits,\n",
    "  move the cursor to the start/end of the word/line, select text with the keyboard, etc.\n",
    "- Create a checkpoint when you open the notebook and after completing each exercise.\n",
    "- Press Ctrl-Shift-Q to close and halt a notebook (stop its kernel).\n",
    "  Don't just close the notebook's tab.\n",
    "\n",
    "To halt all open notebooks and exit JupyterLab, select File > Shut Down from the menu bar."
   ]
  },
  {
   "cell_type": "markdown",
   "id": "4",
   "metadata": {},
   "source": [
    "### 1.4.2 Common commands"
   ]
  },
  {
   "cell_type": "markdown",
   "id": "5",
   "metadata": {},
   "source": [
    "The following can be used in both edit mode and command mode.\n",
    "(If you're reading this section in HTML, you may have to scroll\n",
    "the next two tables to the right to see all their columns.)\n",
    "\n",
    "Effect | Key | Menu bar | Tool bar\n",
    ":-|:-|:-|:-\n",
    "save notebook, create checkpoint | Ctrl-S or Cmd-S | File > Save and Checkpoint | disk icon\n",
    "run current cell, switch to command mode | Ctrl-Enter or Cmd-Enter | Run > Run Selected Cell and Do not Advance  |\n",
    "run current cell, switch to command mode, select next cell | Shift-Enter | Run > Run Selected Cell | play\n",
    "replace text in the current cell or all cells | Ctrl-F or Cmd-F | Edit > Find  |\n",
    "list of keystrokes | | Help > Show Keyboard Shortcuts |\n",
    "run first to the last cell, stop at first error | | Run > Run All Cells |\n",
    "shutdown kernel, start new one, then as above |   |  Run > Restart Kernel and Run All Cells | fast forward\n",
    "run first to previous cell, stop at first error | | Run > Run All Above Selected Cell |\n",
    "discard changes, reinstate last checkpoint | | File > Revert Notebook to Checkpoint |\n",
    "close notebook, shut down kernel | Ctr-Shift-Q | File > Close and Shut Down Notebook |"
   ]
  },
  {
   "cell_type": "markdown",
   "id": "6",
   "metadata": {},
   "source": [
    "### 1.4.3 Command mode"
   ]
  },
  {
   "cell_type": "markdown",
   "id": "7",
   "metadata": {},
   "source": [
    "The following keyboard shortcuts can be used in command mode only.\n",
    "\n",
    "Effect | Key | Menu bar | Tool bar\n",
    ":-|:-|:-|:-\n",
    "select previous/next cell | up/down arrow | |\n",
    "add code cell above current cell, select it | A |\n",
    "add code cell below current cell, select it | B | | plus icon\n",
    "copy current cell  | C | Edit > Copy Cell | copy icon\n",
    "paste copied cell below current cell | V | Edit > Paste Cell Below | clipboard icon\n",
    "delete current cell  | DD | Edit > Delete Cell |\n",
    "change current cell to a (Markdown) text cell | M | | dropdown\n",
    "change current cell to a (pYthon) code cell | Y | | dropdown\n",
    "show/hide line numbers in all code cells | Shift-L\n",
    "scroll the notebook down/up | Space / Shift-Space\n",
    "switch to edit mode | Enter"
   ]
  },
  {
   "cell_type": "markdown",
   "id": "8",
   "metadata": {},
   "source": [
    "### 1.4.4 Edit mode"
   ]
  },
  {
   "cell_type": "markdown",
   "id": "9",
   "metadata": {},
   "source": [
    "The following apply to text and code cells.\n",
    "\n",
    "Effect | Key\n",
    ":-|:-\n",
    "indent (move right) current line (or selected lines) | Ctrl-] or Cmd-]\n",
    "dedent (move left) current line (or selected lines) | Ctrl-[ or Cmd-[\n",
    "switch to command mode, don't run current cell | Esc\n",
    "comment/uncomment current line (or selected lines) | Ctrl-/ or Cmd-/\n",
    "\n",
    "The following only applies to code cells.\n",
    "\n",
    "Effect | Key\n",
    ":-|:-\n",
    "autocomplete the word to the left of the cursor | Tab"
   ]
  },
  {
   "cell_type": "markdown",
   "id": "10",
   "metadata": {},
   "source": [
    "⟵ [Previous section](01_3_software.ipynb) | [Up](01-introduction.ipynb) | [Next section](../02_Sequence/02-introduction.ipynb) ⟶"
   ]
  }
 ],
 "metadata": {
  "kernelspec": {
   "display_name": "Python 3",
   "language": "python",
   "name": "python3"
  },
  "language_info": {
   "codemirror_mode": {
    "name": "ipython",
    "version": 3
   },
   "file_extension": ".py",
   "mimetype": "text/x-python",
   "name": "python",
   "nbconvert_exporter": "python",
   "pygments_lexer": "ipython3",
   "version": "3.12.10"
  }
 },
 "nbformat": 4,
 "nbformat_minor": 5
}
