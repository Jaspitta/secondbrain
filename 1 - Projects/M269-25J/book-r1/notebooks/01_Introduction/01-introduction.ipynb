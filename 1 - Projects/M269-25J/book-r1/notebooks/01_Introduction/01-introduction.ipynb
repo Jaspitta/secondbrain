{
 "cells": [
  {
   "cell_type": "markdown",
   "id": "0",
   "metadata": {},
   "source": [
    "# 1 Introduction"
   ]
  },
  {
   "cell_type": "markdown",
   "id": "1",
   "metadata": {},
   "source": [
    "Money may make the world go round, but it's algorithms that make money go round.\n",
    "When you shop online or in-store,\n",
    "algorithms are the step-by-step procedures that computers follow\n",
    "to apply discounts and taxes,\n",
    "to encrypt and transmit your card details, to do any currency conversions,\n",
    "and to finally debit your account and credit the seller's.\n",
    "\n",
    "Algorithms recommend what to read, watch and buy, whom to date\n",
    "and whether we should get a loan.\n",
    "Algorithms predict the weather, drive cars, recognise faces\n",
    "and trade in the stock market.\n",
    "Our lives increasingly depend on algorithms.\n",
    "\n",
    "M269 is an introduction to what algorithms are and how they work.\n",
    "You will learn some general algorithmic techniques and\n",
    "ways of organising data so that algorithms can use it.\n",
    "Techniques, algorithms and data structures that are quite advanced or \n",
    "specific to particular domains (imaging, artificial intelligence, etc.)\n",
    "are outside the scope of this module.\n",
    "\n",
    "Algorithms should produce their results as quickly as possible.\n",
    "You will learn how to measure the efficiency of an algorithm\n",
    "in a way that doesn't depend on which computer executes it.\n",
    "In the last part of this module\n",
    "you will become aware of the limitations of algorithms and learn about\n",
    "problems for which no efficient algorithm is currently known,\n",
    "and problems that can't be solved by any algorithm.\n",
    "\n",
    "This chapter tells you what to expect in M269\n",
    "and guides you in preparing for it."
   ]
  },
  {
   "cell_type": "markdown",
   "id": "2",
   "metadata": {
    "nbsphinx-toctree": {
     "hidden": true,
     "maxdepth": 1,
     "numbered": false
    }
   },
   "source": [
    "1. [What to expect](01_1_expectations.ipynb)\n",
    "1. [How to study](01_2_preparation.ipynb)\n",
    "1. [Software](01_3_software.ipynb)\n",
    "1. [Summary](01_4_summary.ipynb)"
   ]
  },
  {
   "cell_type": "markdown",
   "id": "3",
   "metadata": {},
   "source": [
    "[Up](../M269.ipynb) | [Next chapter](../02_Sequence/02-introduction.ipynb) ⟶"
   ]
  }
 ],
 "metadata": {
  "kernelspec": {
   "display_name": "Python 3",
   "language": "python",
   "name": "python3"
  },
  "language_info": {
   "codemirror_mode": {
    "name": "ipython",
    "version": 3
   },
   "file_extension": ".py",
   "mimetype": "text/x-python",
   "name": "python",
   "nbconvert_exporter": "python",
   "pygments_lexer": "ipython3",
   "version": "3.12.10"
  }
 },
 "nbformat": 4,
 "nbformat_minor": 5
}
