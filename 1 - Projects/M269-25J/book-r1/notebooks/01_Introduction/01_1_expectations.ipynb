{
 "cells": [
  {
   "cell_type": "markdown",
   "id": "0",
   "metadata": {},
   "source": [
    "## 1.1 What to expect"
   ]
  },
  {
   "cell_type": "markdown",
   "id": "1",
   "metadata": {},
   "source": [
    "This section briefly describes what you can expect from M269 and\n",
    "what is expected of you."
   ]
  },
  {
   "cell_type": "markdown",
   "id": "2",
   "metadata": {},
   "source": [
    "### 1.1.1 Content"
   ]
  },
  {
   "cell_type": "markdown",
   "id": "3",
   "metadata": {},
   "source": [
    "Algorithms, data structures and computability have been core topics of\n",
    "Computing courses around the world for decades, and for a good reason.\n",
    "The first two topics are eminently practical: knowledge of how to\n",
    "structure data, construct algorithms and analyse their efficiency\n",
    "is useful for the design and implementation of any software system.\n",
    "It's knowledge you can immediately put to use in other modules\n",
    "and in your professional life.\n",
    "The third topic is somewhat theoretical, but it is *the* Computer Science topic.\n",
    "Computability addresses the fundamental questions of what computation is\n",
    "and what can and can't be computed.\n",
    "I'm sure you will find M269 useful and intellectually stimulating.\n",
    "\n",
    "M269 covers most of the core algorithm, data structure and computability\n",
    "topics recommended for undergraduate computing curricula by professional bodies.\n",
    "The first third of M269 (Chapters 2–10) explains the basic data structures\n",
    "and programming constructs needed for the rest of M269.\n",
    "Those chapters are therefore the most intensive with respect to the amount of\n",
    "terminology and concepts introduced, but\n",
    "you should know several of them from prior study.\n",
    "Half of M269 (Chapters 11–25) is dedicated to algorithmic techniques,\n",
    "introducing further data structures, as needed.\n",
    "The final Chapters 26–28 are about the complexity and computability of\n",
    "computational problems. As in most modules, you can expect\n",
    "the material to get more difficult as you progress."
   ]
  },
  {
   "cell_type": "markdown",
   "id": "4",
   "metadata": {},
   "source": [
    "<div class=\"alert alert-info\">\n",
    "<strong>Info:</strong> The recommended core topics are listed\n",
    "<a href=\"https://csed.acm.org/cs2013-version/\">here</a>.\n",
    "</div>"
   ]
  },
  {
   "cell_type": "markdown",
   "id": "5",
   "metadata": {},
   "source": [
    "A recurring theme of M269 is abstraction. As you shall see later,\n",
    "an algorithm is an abstraction of the steps executed by a computer,\n",
    "data structures abstract the relationships between the data being processed,\n",
    "and the complexity of an algorithm is an abstraction of its run-time.\n",
    "Abstracting from problem-specific details leads to general models, rules\n",
    "and concepts that help us tackle new problems: that's the power of abstraction.\n",
    "The cover of this book illustrates the abstraction process, going from\n",
    "a detailed representation of a cow to a general geometric shape, the rectangle."
   ]
  },
  {
   "cell_type": "markdown",
   "id": "6",
   "metadata": {},
   "source": [
    "<div class=\"alert alert-info\">\n",
    "<strong>Info:</strong> The cover shows Theo van Doesburg's\n",
    "<a href=\"https://www.moma.org/interactives/exhibitions/2012/inventingabstraction/?work=77\"><em>Composition VIII (The Cow)</em></a>\n",
    "and three studies leading to it, all from 1917–18. MoMA's website has more\n",
    "<a href=\"https://www.moma.org/interactives/exhibitions/2012/inventingabstraction/?work=208\">drawings</a>\n",
    "and more information on the\n",
    "<a href=\"https://www.moma.org/interactives/exhibitions/2012/inventingabstraction/?work=207\">final study</a>.\n",
    "</div>"
   ]
  },
  {
   "cell_type": "markdown",
   "id": "7",
   "metadata": {},
   "source": [
    "The emphasis of M269 is computational problem solving. The module\n",
    "gives you techniques and a process for solving several types of problems,\n",
    "comparing alternative solutions,\n",
    "and communicating problems and solutions clearly.\n",
    "Many examples illustrate all of this.\n",
    "Much of the teaching is done through examples and exercise solutions.\n",
    "Study them carefully. Don't just glance through them: make sure you\n",
    "understand each example and solution before moving on.\n",
    "\n",
    "However, learning is not passive: it's an activity. We don't learn\n",
    "how to walk, drive a car or play a musical instrument just by watching others doing it.\n",
    "The only way to learn how to solve problems is to solve problems,\n",
    "and M269 is full of exercises for you to practise.\n",
    "Expect to spend most of your time figuring out how to solve a problem,\n",
    "trying out different approaches, analysing which one is best,\n",
    "writing, testing and debugging code, and documenting your solution.\n",
    "\n",
    "Algorithms can be described in plain English but must be implemented in some\n",
    "programming language for computers to execute them. M269 uses Python\n",
    "because it's an expressive, readable and uncluttered programming language.\n",
    "\n",
    "M269 aims for you to develop sought-after cognitive and professional skills\n",
    "around problem solving, programming and communication.\n",
    "The intended learning outcomes of M269 are:\n",
    "\n",
    "- Knowledge and understanding:\n",
    "    - Understand the common general-purpose data structures, algorithmic techniques and complexity classes.\n",
    "    - Know about the limits of computation and their practical implications.\n",
    "    - Understand the Turing Machine model of computation.\n",
    "- Cognitive skills:\n",
    "    - Develop and apply algorithms and data structures to solve computational problems.\n",
    "    - Analyse the complexity of algorithms to support software design choices.\n",
    "- Key skills:\n",
    "    - Explain how an algorithm or data structure works, in order to communicate with relevant stakeholders.\n",
    "- Practical and professional skills:\n",
    "    - Write readable, tested, documented and efficient Python code."
   ]
  },
  {
   "cell_type": "markdown",
   "id": "8",
   "metadata": {},
   "source": [
    "### 1.1.2 Challenges"
   ]
  },
  {
   "cell_type": "markdown",
   "id": "9",
   "metadata": {},
   "source": [
    "There's usually a jump in pace and difficulty from Stage 1 to Stage 2 modules\n",
    "and M269 is among the most challenging Stage 2 Computing modules.\n",
    "If you don't have experience of high-intensity study, in which you need\n",
    "to understand and apply many terms, concepts and techniques,\n",
    "you may wish to pass a Stage 2 module before starting M269.\n",
    "\n",
    "M269 is challenging mainly for three reasons.\n",
    "First, it contains lots of material and over 5,000 lines of Python code\n",
    "in order to cover the recommended core topics in a single module,\n",
    "due to how the OU curriculum is organised.\n",
    "Other universities spread the M269 material (and additional topics)\n",
    "across two or three modules.\n",
    "\n",
    "To cope with the amount of M269 material, previous students found it useful to:\n",
    "\n",
    "- use [concept-mapping](https://en.wikipedia.org/wiki/Concept_map) software\n",
    "  to organise the M269 topics and terminology\n",
    "- look at the TMAs *before* working through the corresponding chapters\n",
    "  to gauge what to study in depth, what to skim and what to skip.\n",
    "  The TMAs are in the ['Assessment' tab](https://learn2.open.ac.uk/course/view.php?id=240036&area=assessment) of the M269 website.\n",
    "\n",
    "Second, M269 is about solving computational problems, which is inherently difficult:\n",
    "it requires experience, technical knowledge, persistence and creativity.\n",
    "No wonder good problem-solvers are sought after and well paid!\n",
    "\n",
    "I've written parts of this book in a 'think aloud' style,\n",
    "so that you can see how I approach a problem. Another feature of this textbook\n",
    "is the question checklists in Chapters 5, 10, 15, 20, 25 and 28\n",
    "to help steer you in the right direction when solving a problem.\n",
    "\n",
    "Nevertheless, learning by yourself how to solve problems is difficult.\n",
    "Problem solving is best done together with others, to bounce off ideas and\n",
    "check potential solutions for errors and possible improvements.\n",
    "I encourage you to actively participate in the forums and tutorials.\n",
    "Just reading other's posts or watching recorded tutorials doesn't provide\n",
    "the same learning experience as interacting with peers and tutors.\n",
    "\n",
    "Third, the M269 topics are inherently abstract and not easy to convey just with\n",
    "text and static figures. Understanding how code works and\n",
    "how it changes data in memory is not easy from just reading the code.\n",
    "Some students found [Python tutor](http://pythontutor.com) useful to\n",
    "visualise the step-by-step execution of M269 code.\n",
    "\n",
    "Let's not beat about the bush: M269 is hard work and challenging.\n",
    "But if you put in the effort, you'll gain conceptual and\n",
    "practical problem-solving skills sought by employers."
   ]
  },
  {
   "cell_type": "markdown",
   "id": "10",
   "metadata": {},
   "source": [
    "### 1.1.3 Previous knowledge"
   ]
  },
  {
   "cell_type": "markdown",
   "id": "11",
   "metadata": {},
   "source": [
    "I assume you have had an introduction to Python, like in TM112,\n",
    "and that you can write simple short programs using the following constructs:\n",
    "\n",
    "- variables, expressions and assignments\n",
    "- integers, Booleans, strings, lists and some operations on them\n",
    "- selection statements (if-elif-else and nested ifs)\n",
    "- iteration statements (while-loop, for-in-range, for-in-collection)\n",
    "- function definitions and calls.\n",
    "\n",
    "Chapters 2 to 4 recap these constructs, but you may find the pace too fast\n",
    "and the explanations too brief if you don't have Python experience.\n",
    "The initial chapters include new material too, so don't skip them even if you are familiar with Python.\n",
    "\n",
    "I also assume you have basic mathematical proficiency:\n",
    "\n",
    "- you understand and know how to use percentages, powers (like *n*⁴ and 2ⁿ), logarithms and scientific notation (like 4.3×$10^{-8}$)\n",
    "- you can write and evaluate expressions for 'word problems' like calculating\n",
    "the service charge as a percentage of a restaurant bill\n",
    "- you can manipulate algebraic expressions, e.g. transform $x + 4y = 20$ into $y=5 - x/4$.\n",
    "\n",
    "You can check your Python and maths knowledge with the 'Are you ready for M269'\n",
    "quiz, if you haven't done it before registering for M269.\n",
    "The quiz and revision resources are available from the\n",
    "[M269 page](https://learn2.open.ac.uk/mod/oustudyplansubpage/view.php?id=1715788) of the Computing & IT study site."
   ]
  },
  {
   "cell_type": "markdown",
   "id": "12",
   "metadata": {},
   "source": [
    "#### Activities"
   ]
  },
  {
   "cell_type": "markdown",
   "id": "13",
   "metadata": {},
   "source": [
    "Before continuing with the next section,\n",
    "do the [Getting Started](https://learn2.open.ac.uk/mod/oucontent/view.php?id=2577199) activities for Section&nbsp;1.1,\n",
    "to help you get a better idea of what to expect in M269.\n",
    "This includes watching a BBC programme on algorithms;\n",
    "some of them will be presented in more detail in M269."
   ]
  },
  {
   "cell_type": "markdown",
   "id": "14",
   "metadata": {},
   "source": [
    "⟵ [Previous section](01-introduction.ipynb) | [Up](01-introduction.ipynb) | [Next section](01_2_preparation.ipynb) ⟶"
   ]
  }
 ],
 "metadata": {
  "kernelspec": {
   "display_name": "Python 3",
   "language": "python",
   "name": "python3"
  },
  "language_info": {
   "codemirror_mode": {
    "name": "ipython",
    "version": 3
   },
   "file_extension": ".py",
   "mimetype": "text/x-python",
   "name": "python",
   "nbconvert_exporter": "python",
   "pygments_lexer": "ipython3",
   "version": "3.12.10"
  }
 },
 "nbformat": 4,
 "nbformat_minor": 5
}
