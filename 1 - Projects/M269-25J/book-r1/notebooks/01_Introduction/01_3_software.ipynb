{
 "cells": [
  {
   "cell_type": "markdown",
   "id": "0",
   "metadata": {},
   "source": [
    "## 1.3 Software"
   ]
  },
  {
   "cell_type": "markdown",
   "id": "1",
   "metadata": {},
   "source": [
    "As mentioned before, this book and the TNAs are in the form of Jupyter notebooks so that\n",
    "you can run and modify the code we provide, and write your own code for exercises and assessment.\n",
    "\n",
    "You can use any platform that supports Jupyter notebooks, but the one\n",
    "your tutor and the module team support is the JupyterLab interface in a web browser."
   ]
  },
  {
   "cell_type": "markdown",
   "id": "2",
   "metadata": {},
   "source": [
    "<div class=\"alert alert-warning\">\n",
    "<strong>Note:</strong> To avoid problems later on, update your browser now to its most recent version.\n",
    "</div>"
   ]
  },
  {
   "cell_type": "markdown",
   "id": "3",
   "metadata": {},
   "source": [
    "<div class=\"alert alert-info\">\n",
    "<strong>Info:</strong> If you're familiar with an integrated development environment that supports notebooks,\n",
    "like Visual Studio Code and PyCharm, you may prefer to use it instead of JupyterLab.\n",
    "</div>"
   ]
  },
  {
   "cell_type": "markdown",
   "id": "4",
   "metadata": {},
   "source": [
    "You have two options for working with JupyterLab.\n",
    "You can use the M269 virtual computing environment (VCE) on the OU's Open Computing Lab,\n",
    "or you can install JupyterLab locally on your desktop or laptop.\n",
    "\n",
    "Using the VCE has two advantages: you can work on a tablet (but it may not be very practical)\n",
    "and you don't have to install or configure any software.\n",
    "However, if there's no internet connection or there's a problem with the OU servers,\n",
    "you won't be able to access the VCE.\n",
    "Using a local installation on your desktop or laptop allows you to work offline,\n",
    "but you must install and configure the M269&nbsp;software.\n",
    "\n",
    "You can use both the VCE and a local installation, but it can get tedious.\n",
    "As you work through the notebooks and modify them,\n",
    "you need to upload and download them to and from the VCE to keep\n",
    "your local and remote workspaces in sync. To avoid that, I suggest\n",
    "you use the VCE and the local installation for different purposes,\n",
    "e.g. use one to just read the notebooks and the other to do the exercises."
   ]
  },
  {
   "cell_type": "markdown",
   "id": "5",
   "metadata": {},
   "source": [
    "<div class=\"alert alert-warning\">\n",
    "<strong>Note:</strong> If you modify the VCE notebooks, set a recurring reminder to back up them up.\n",
    "</div>"
   ]
  },
  {
   "cell_type": "markdown",
   "id": "6",
   "metadata": {},
   "source": [
    "The easiest way to back up your VCE content is to create a zip archive on the VCE\n",
    "and then download that file to your computer.\n",
    "\n",
    "To work through this book on your local machine, follow these steps.\n",
    "1. Create a folder named `m269-25j` or `M269-25J` somewhere on your disk.\n",
    "   This folder will be referred to as your M269 folder.\n",
    "   It can be put in a cloud drive, like Google Drive or OneDrive, if you want to\n",
    "   access it from multiple computers and automatically back up any changes.\n",
    "2. Download the M269 book zip archive from the [Resources](https://learn2.open.ac.uk/course/view.php?id=240036&area=resources) tab\n",
    "   of the M269 website (not from the VCE!) to your M269 folder and unzip it there.\n",
    "3. Install the M269&nbsp;software and start JupyterLab,\n",
    "   as explained in https://dsa-ou.github.io/m269-installer.\n",
    "\n",
    "Whether you are using the VCE or the locally installed software,\n",
    "the rest of this week is for you to learn how to use JupyterLab.\n",
    "See the [Getting Started](https://learn2.open.ac.uk/mod/oucontent/view.php?id=2577199) pages of the M269 website."
   ]
  },
  {
   "cell_type": "markdown",
   "id": "7",
   "metadata": {},
   "source": [
    "⟵ [Previous section](01_2_preparation.ipynb) | [Up](01-introduction.ipynb) | [Next section](01_4_summary.ipynb) ⟶"
   ]
  }
 ],
 "metadata": {
  "kernelspec": {
   "display_name": "Python 3",
   "language": "python",
   "name": "python3"
  },
  "language_info": {
   "codemirror_mode": {
    "name": "ipython",
    "version": 3
   },
   "file_extension": ".py",
   "mimetype": "text/x-python",
   "name": "python",
   "nbconvert_exporter": "python",
   "pygments_lexer": "ipython3",
   "version": "3.12.10"
  }
 },
 "nbformat": 4,
 "nbformat_minor": 5
}
