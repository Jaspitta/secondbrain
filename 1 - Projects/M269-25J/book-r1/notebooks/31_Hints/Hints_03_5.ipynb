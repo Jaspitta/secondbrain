{
 "cells": [
  {
   "cell_type": "markdown",
   "id": "0",
   "metadata": {},
   "source": [
    "### 29.2.5 Practice"
   ]
  },
  {
   "cell_type": "markdown",
   "id": "1",
   "metadata": {
    "nbsphinx-toctree": {
     "hidden": true,
     "maxdepth": 1,
     "numbered": false
    }
   },
   "source": [
    "1. [Exercise 3.5.1 hint](Hints_03_5_01.ipynb)\n",
    "1. [Exercise 3.5.2 hint](Hints_03_5_02.ipynb)\n",
    "1. [Exercise 3.5.3 hint](Hints_03_5_03.ipynb)\n",
    "1. [Exercise 3.5.4 hint](Hints_03_5_04.ipynb)\n",
    "1. [Exercise 3.5.5 hint](Hints_03_5_05.ipynb)\n",
    "1. [Exercise 3.5.8 hint](Hints_03_5_08.ipynb)\n",
    "1. [Exercise 3.5.9 hint](Hints_03_5_09.ipynb)"
   ]
  },
  {
   "cell_type": "markdown",
   "id": "2",
   "metadata": {},
   "source": [
    "⟵ [Previous section](Hints_02.ipynb) | [Up](31-introduction.ipynb) | [Next section](Hints_04.ipynb) ⟶"
   ]
  }
 ],
 "metadata": {
  "kernelspec": {
   "display_name": "Python 3",
   "language": "python",
   "name": "python3"
  },
  "language_info": {
   "codemirror_mode": {
    "name": "ipython",
    "version": 3
   },
   "file_extension": ".py",
   "mimetype": "text/x-python",
   "name": "python",
   "nbconvert_exporter": "python",
   "pygments_lexer": "ipython3",
   "version": "3.12.10"
  }
 },
 "nbformat": 4,
 "nbformat_minor": 5
}
