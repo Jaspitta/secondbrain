{
 "cells": [
  {
   "cell_type": "markdown",
   "id": "0",
   "metadata": {},
   "source": [
    "#### Exercise 24.2.2 hint"
   ]
  },
  {
   "cell_type": "markdown",
   "id": "1",
   "metadata": {},
   "source": [
    "In this problem, we must execute as many tasks as possible per step (week).\n",
    "Look again at [Kahn's algorithm](../21_Graphs_2/21_3_topological.ipynb#21.3.2-Algorithm-and-code).\n",
    "\n",
    "It keeps a set of nodes with in-degree 0 and in each iteration\n",
    "picks *one* of the nodes, appends it to the topological sort and\n",
    "decreases the degree of its out-neighbours.\n",
    "If any out-neighbour degree decreases to zero, then it's added to the set.\n",
    "\n",
    "For this problem, how many nodes must you pick in each iteration?\n",
    "Do you need to keep an extra collection of nodes?"
   ]
  }
 ],
 "metadata": {
  "kernelspec": {
   "display_name": "Python 3",
   "language": "python",
   "name": "python3"
  },
  "language_info": {
   "codemirror_mode": {
    "name": "ipython",
    "version": 3
   },
   "file_extension": ".py",
   "mimetype": "text/x-python",
   "name": "python",
   "nbconvert_exporter": "python",
   "pygments_lexer": "ipython3",
   "version": "3.12.10"
  }
 },
 "nbformat": 4,
 "nbformat_minor": 5
}
