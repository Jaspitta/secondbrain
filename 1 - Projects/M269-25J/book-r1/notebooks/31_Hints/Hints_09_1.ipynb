{
 "cells": [
  {
   "cell_type": "markdown",
   "id": "0",
   "metadata": {},
   "source": [
    "### 29.7.1 Pangram"
   ]
  },
  {
   "cell_type": "markdown",
   "id": "1",
   "metadata": {
    "nbsphinx-toctree": {
     "hidden": true,
     "maxdepth": 1,
     "numbered": false
    }
   },
   "source": [
    "1. [Exercise 9.1.1 hint](Hints_09_1_01.ipynb)\n",
    "1. [Exercise 9.1.2 hint](Hints_09_1_02.ipynb)\n",
    "1. [Exercise 9.1.3 hint](Hints_09_1_03.ipynb)\n",
    "1. [Exercise 9.1.4 hint](Hints_09_1_04.ipynb)\n",
    "1. [Exercise 9.1.6 hint](Hints_09_1_06.ipynb)"
   ]
  },
  {
   "cell_type": "markdown",
   "id": "2",
   "metadata": {},
   "source": [
    "⟵ [Previous section](Hints_08.ipynb) | [Up](31-introduction.ipynb) | [Next section](Hints_11.ipynb) ⟶"
   ]
  }
 ],
 "metadata": {
  "kernelspec": {
   "display_name": "Python 3",
   "language": "python",
   "name": "python3"
  },
  "language_info": {
   "codemirror_mode": {
    "name": "ipython",
    "version": 3
   },
   "file_extension": ".py",
   "mimetype": "text/x-python",
   "name": "python",
   "nbconvert_exporter": "python",
   "pygments_lexer": "ipython3",
   "version": "3.12.10"
  }
 },
 "nbformat": 4,
 "nbformat_minor": 5
}
