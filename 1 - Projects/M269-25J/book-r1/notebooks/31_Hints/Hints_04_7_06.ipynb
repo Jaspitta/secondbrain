{
 "cells": [
  {
   "cell_type": "markdown",
   "id": "0",
   "metadata": {},
   "source": [
    "#### Exercise 4.7.6 hint"
   ]
  },
  {
   "cell_type": "markdown",
   "id": "1",
   "metadata": {},
   "source": [
    "We must swap the first item with the last item, the second with the penultimate, etc.\n",
    "Start with your left index finger on the first item and\n",
    "your right index finger on the last item. Swap the items pointed to by your fingers.\n",
    "Move your left finger forward (to the right) and\n",
    "your right finger backward (to the left). Swap those two items.\n",
    "When do you stop swapping?\n",
    "Make sure your algorithm works for lists of length&nbsp;0 and&nbsp;1."
   ]
  }
 ],
 "metadata": {
  "kernelspec": {
   "display_name": "Python 3",
   "language": "python",
   "name": "python3"
  },
  "language_info": {
   "codemirror_mode": {
    "name": "ipython",
    "version": 3
   },
   "file_extension": ".py",
   "mimetype": "text/x-python",
   "name": "python",
   "nbconvert_exporter": "python",
   "pygments_lexer": "ipython3",
   "version": "3.12.10"
  }
 },
 "nbformat": 4,
 "nbformat_minor": 5
}
