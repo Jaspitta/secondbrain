{
 "cells": [
  {
   "cell_type": "markdown",
   "id": "0",
   "metadata": {},
   "source": [
    "#### Exercise 24.5.5 hint"
   ]
  },
  {
   "cell_type": "markdown",
   "id": "1",
   "metadata": {},
   "source": [
    "The length of the longest path from the square in row *r*, column *c* is\n",
    "recursively defined as follows.\n",
    "\n",
    "- if (*r*, *c*) has no higher neighbours: length(*r*, *c*) = 1\n",
    "- otherwise: length(*r*, *c*) = 1 + highest of\n",
    "  - length(*ra*, *ca*) for every adjacent square (*ra*, *ca*) with a higher number\n",
    "\n",
    "First implement a purely recursive inner function `length(row, column)`.\n",
    "Function `higher` must call it for every square in the grid\n",
    "and return the largest of all lengths.\n",
    "\n",
    "Then add a matrix cache to obtain a top-down dynamic programming solution,\n",
    "with `cache[r][c]` being the length of the longest path starting at\n",
    "square (*r*, *c*).\n",
    "\n",
    "The longest path from square S may go next to the square\n",
    "above, below, left or right of S, so there's no way of filling the cache with\n",
    "two nested loops that iterate over the rows and columns in a strict\n",
    "top-down left-right (or some other) fashion.\n",
    "You're therefore not expected to produce a bottom-up version."
   ]
  },
  {
   "cell_type": "markdown",
   "id": "2",
   "metadata": {},
   "source": [
    "<div class=\"alert alert-info\">\n",
    "<strong>Info:</strong> This is LeetCode problem\n",
    "<a href=\"https://leetcode.com/problems/longest-increasing-path-in-a-matrix\">329</a>.\n",
    "Dynamic programming solutions can be found in the Discuss tab next to\n",
    "the locked Solution tab.\n",
    "</div>"
   ]
  }
 ],
 "metadata": {
  "kernelspec": {
   "display_name": "Python 3",
   "language": "python",
   "name": "python3"
  },
  "language_info": {
   "codemirror_mode": {
    "name": "ipython",
    "version": 3
   },
   "file_extension": ".py",
   "mimetype": "text/x-python",
   "name": "python",
   "nbconvert_exporter": "python",
   "pygments_lexer": "ipython3",
   "version": "3.12.10"
  }
 },
 "nbformat": 4,
 "nbformat_minor": 5
}
