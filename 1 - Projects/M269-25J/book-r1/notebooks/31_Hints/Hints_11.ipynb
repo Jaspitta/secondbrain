{
 "cells": [
  {
   "cell_type": "markdown",
   "id": "0",
   "metadata": {},
   "source": [
    "## 29.8 Exhaustive search"
   ]
  },
  {
   "cell_type": "markdown",
   "id": "1",
   "metadata": {
    "nbsphinx-toctree": {
     "hidden": true,
     "maxdepth": 1,
     "numbered": false
    }
   },
   "source": [
    "1. [Linear search, again](Hints_11_1.ipynb)\n",
    "1. [Factorisation](Hints_11_2.ipynb)\n",
    "1. [Constraint satisfaction](Hints_11_3.ipynb)\n",
    "1. [Searching permutations](Hints_11_4.ipynb)\n",
    "1. [Searching subsets](Hints_11_5.ipynb)\n",
    "1. [Practice](Hints_11_6.ipynb)"
   ]
  },
  {
   "cell_type": "markdown",
   "id": "2",
   "metadata": {},
   "source": [
    "⟵ [Previous section](Hints_09.ipynb) | [Up](31-introduction.ipynb) | [Next section](Hints_12.ipynb) ⟶"
   ]
  }
 ],
 "metadata": {
  "kernelspec": {
   "display_name": "Python 3",
   "language": "python",
   "name": "python3"
  },
  "language_info": {
   "codemirror_mode": {
    "name": "ipython",
    "version": 3
   },
   "file_extension": ".py",
   "mimetype": "text/x-python",
   "name": "python",
   "nbconvert_exporter": "python",
   "pygments_lexer": "ipython3",
   "version": "3.12.10"
  }
 },
 "nbformat": 4,
 "nbformat_minor": 5
}
