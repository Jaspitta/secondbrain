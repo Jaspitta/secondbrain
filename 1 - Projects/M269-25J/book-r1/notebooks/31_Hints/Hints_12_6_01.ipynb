{
 "cells": [
  {
   "cell_type": "markdown",
   "id": "0",
   "metadata": {},
   "source": [
    "#### Exercise 12.6.1 hint"
   ]
  },
  {
   "cell_type": "markdown",
   "id": "1",
   "metadata": {},
   "source": [
    "The transformation is similar to what was done for the membership operation.\n",
    "Copy the pattern to the answer cell.\n",
    "Add two extra arguments to all calls of the search function.\n",
    "Replace all occurrences of the head and tail operations.\n",
    "For the base case, check if the slice to be searched is empty."
   ]
  }
 ],
 "metadata": {
  "kernelspec": {
   "display_name": "Python 3",
   "language": "python",
   "name": "python3"
  },
  "language_info": {
   "codemirror_mode": {
    "name": "ipython",
    "version": 3
   },
   "file_extension": ".py",
   "mimetype": "text/x-python",
   "name": "python",
   "nbconvert_exporter": "python",
   "pygments_lexer": "ipython3",
   "version": "3.12.10"
  }
 },
 "nbformat": 4,
 "nbformat_minor": 5
}
