{
 "cells": [
  {
   "cell_type": "markdown",
   "id": "0",
   "metadata": {},
   "source": [
    "#### Exercise 2.5.1 hint"
   ]
  },
  {
   "cell_type": "markdown",
   "id": "1",
   "metadata": {},
   "source": [
    "You may wish to remind yourself of the\n",
    "[first exercise](../02_Sequence/02_4_assignments.ipynb#Exercise-2.4.1)\n",
    "in the previous section, and its solution,\n",
    "which provides the formula for the postcondition in this exercise.\n",
    "\n",
    "You must also consider how to represent the VAT rate, e.g. as a percentage,\n",
    "and what unit the prices are in."
   ]
  }
 ],
 "metadata": {
  "kernelspec": {
   "display_name": "Python 3",
   "language": "python",
   "name": "python3"
  },
  "language_info": {
   "codemirror_mode": {
    "name": "ipython",
    "version": 3
   },
   "file_extension": ".py",
   "mimetype": "text/x-python",
   "name": "python",
   "nbconvert_exporter": "python",
   "pygments_lexer": "ipython3",
   "version": "3.12.10"
  }
 },
 "nbformat": 4,
 "nbformat_minor": 5
}
