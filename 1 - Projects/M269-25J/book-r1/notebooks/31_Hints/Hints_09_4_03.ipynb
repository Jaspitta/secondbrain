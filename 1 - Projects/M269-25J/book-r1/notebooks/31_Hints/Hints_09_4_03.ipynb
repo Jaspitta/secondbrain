{
 "cells": [
  {
   "cell_type": "markdown",
   "id": "0",
   "metadata": {},
   "source": [
    "#### Exercise 9.4.3 hint"
   ]
  },
  {
   "cell_type": "markdown",
   "id": "1",
   "metadata": {},
   "source": [
    "Think with your hands. Draw the track on paper, take coins, dice or\n",
    "other small objects to represent the wagons. You need two copies of each,\n",
    "one initially in the east and the other in the west to indicate the desired\n",
    "order. Move the objects from the east around, following the example.\n",
    "How does the configuration in the west change to 'tick off' the wagons\n",
    "already processed? Try to solve each problem instance in the provided tests.\n",
    "\n",
    "Which ADT(s) best represent the wagon configurations, and how they change,\n",
    "in the east, west, and in the station?"
   ]
  }
 ],
 "metadata": {
  "kernelspec": {
   "display_name": "Python 3",
   "language": "python",
   "name": "python3"
  },
  "language_info": {
   "codemirror_mode": {
    "name": "ipython",
    "version": 3
   },
   "file_extension": ".py",
   "mimetype": "text/x-python",
   "name": "python",
   "nbconvert_exporter": "python",
   "pygments_lexer": "ipython3",
   "version": "3.12.10"
  }
 },
 "nbformat": 4,
 "nbformat_minor": 5
}
