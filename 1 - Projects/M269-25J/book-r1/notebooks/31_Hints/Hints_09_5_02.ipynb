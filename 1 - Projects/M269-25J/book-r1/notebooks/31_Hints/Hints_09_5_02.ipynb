{
 "cells": [
  {
   "cell_type": "markdown",
   "id": "0",
   "metadata": {},
   "source": [
    "#### Exercise 9.5.2 hint"
   ]
  },
  {
   "cell_type": "markdown",
   "id": "1",
   "metadata": {},
   "source": [
    "Is it better to have a sequence of word–score pairs or score–word pairs?\n",
    "Don't forget that the `__init__` method must store the data in\n",
    "an instance variable which is then used by the `completions` method.\n",
    "\n",
    "See the [Chapter&nbsp;4&nbsp;summary](../04_Iteration/04_9_summary.ipynb#4.9.1-Sequence-operations) for sorting.\n",
    "\n",
    "Use [slicing](../04_Iteration/04_2_strings.ipynb#4.2.3-Creating-strings) to check if\n",
    "a word starts with a prefix."
   ]
  }
 ],
 "metadata": {
  "kernelspec": {
   "display_name": "Python 3",
   "language": "python",
   "name": "python3"
  },
  "language_info": {
   "codemirror_mode": {
    "name": "ipython",
    "version": 3
   },
   "file_extension": ".py",
   "mimetype": "text/x-python",
   "name": "python",
   "nbconvert_exporter": "python",
   "pygments_lexer": "ipython3",
   "version": "3.12.10"
  }
 },
 "nbformat": 4,
 "nbformat_minor": 5
}
