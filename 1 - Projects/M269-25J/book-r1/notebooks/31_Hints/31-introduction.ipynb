{
 "cells": [
  {
   "cell_type": "markdown",
   "id": "0",
   "metadata": {},
   "source": [
    "# 29 Hints"
   ]
  },
  {
   "cell_type": "markdown",
   "id": "1",
   "metadata": {},
   "source": [
    "This chapter contains all hints for exercises throughout the book.\n",
    "Not every exercise has a hint."
   ]
  },
  {
   "cell_type": "markdown",
   "id": "2",
   "metadata": {
    "nbsphinx-toctree": {
     "hidden": true,
     "maxdepth": 1,
     "numbered": false
    }
   },
   "source": [
    "1. [Numbers and sequence](Hints_02.ipynb)\n",
    "1. [Booleans and selection](Hints_03.ipynb)\n",
    "1. [Sequences and iteration](Hints_04.ipynb)\n",
    "1. [Implementing sequences](Hints_06.ipynb)\n",
    "1. [Stacks and queues](Hints_07.ipynb)\n",
    "1. [Unordered collections](Hints_08.ipynb)\n",
    "1. [Practice 1](Hints_09.ipynb)\n",
    "1. [Exhaustive search](Hints_11.ipynb)\n",
    "1. [Recursion](Hints_12.ipynb)\n",
    "1. [Divide and conquer](Hints_13.ipynb)\n",
    "1. [Sorting](Hints_14.ipynb)\n",
    "1. [Rooted trees](Hints_16.ipynb)\n",
    "1. [Graphs 1](Hints_17.ipynb)\n",
    "1. [Greed](Hints_18.ipynb)\n",
    "1. [Practice 2](Hints_19.ipynb)\n",
    "1. [Graphs 2](Hints_21.ipynb)\n",
    "1. [Backtracking](Hints_22.ipynb)\n",
    "1. [Dynamic Programming](Hints_23.ipynb)\n",
    "1. [Practice 3](Hints_24.ipynb)\n",
    "1. [Complexity classes](Hints_26.ipynb)\n",
    "1. [Computability](Hints_27.ipynb)"
   ]
  },
  {
   "cell_type": "markdown",
   "id": "3",
   "metadata": {},
   "source": [
    "⟵ [Previous chapter](../28_TMA03-2/28-introduction.ipynb) | [Up](../M269.ipynb) | [Next chapter](../32_Answers/32-introduction.ipynb) ⟶"
   ]
  }
 ],
 "metadata": {
  "kernelspec": {
   "display_name": "Python 3",
   "language": "python",
   "name": "python3"
  },
  "language_info": {
   "codemirror_mode": {
    "name": "ipython",
    "version": 3
   },
   "file_extension": ".py",
   "mimetype": "text/x-python",
   "name": "python",
   "nbconvert_exporter": "python",
   "pygments_lexer": "ipython3",
   "version": "3.12.10"
  }
 },
 "nbformat": 4,
 "nbformat_minor": 5
}
