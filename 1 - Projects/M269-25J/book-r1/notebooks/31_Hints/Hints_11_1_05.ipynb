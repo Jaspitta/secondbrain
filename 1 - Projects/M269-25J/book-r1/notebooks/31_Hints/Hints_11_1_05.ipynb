{
 "cells": [
  {
   "cell_type": "markdown",
   "id": "0",
   "metadata": {},
   "source": [
    "#### Exercise 11.1.5 hint"
   ]
  },
  {
   "cell_type": "markdown",
   "id": "1",
   "metadata": {},
   "source": [
    "Keep a collection of the equally best candidates found so far.\n",
    "Each new candidate is compared against only one of those best candidates,\n",
    "because they're all equally good.\n",
    "What happens if the current candidate is as good as one of the best?\n",
    "What happens if the current candidate is better?"
   ]
  }
 ],
 "metadata": {
  "kernelspec": {
   "display_name": "Python 3",
   "language": "python",
   "name": "python3"
  },
  "language_info": {
   "codemirror_mode": {
    "name": "ipython",
    "version": 3
   },
   "file_extension": ".py",
   "mimetype": "text/x-python",
   "name": "python",
   "nbconvert_exporter": "python",
   "pygments_lexer": "ipython3",
   "version": "3.12.10"
  }
 },
 "nbformat": 4,
 "nbformat_minor": 5
}
