{
 "cells": [
  {
   "cell_type": "markdown",
   "id": "0",
   "metadata": {},
   "source": [
    "#### Exercise 14.7.3 hint"
   ]
  },
  {
   "cell_type": "markdown",
   "id": "1",
   "metadata": {},
   "source": [
    "Replace step&nbsp;2.2 with an if-statement that handles the three cases mentioned:\n",
    "return the pivot, search partition *smaller* or search partition *larger*.\n",
    "\n",
    "In addition, you must handle the base case of a short sequence that can't be split.\n",
    "In two-way quicksort, that's when the sequence is empty or has a single item.\n",
    "What's the corresponding base case for quickselect and how is it handled?"
   ]
  }
 ],
 "metadata": {
  "kernelspec": {
   "display_name": "Python 3",
   "language": "python",
   "name": "python3"
  },
  "language_info": {
   "codemirror_mode": {
    "name": "ipython",
    "version": 3
   },
   "file_extension": ".py",
   "mimetype": "text/x-python",
   "name": "python",
   "nbconvert_exporter": "python",
   "pygments_lexer": "ipython3",
   "version": "3.12.10"
  }
 },
 "nbformat": 4,
 "nbformat_minor": 5
}
