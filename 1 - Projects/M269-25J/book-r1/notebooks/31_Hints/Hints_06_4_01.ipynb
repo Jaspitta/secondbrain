{
 "cells": [
  {
   "cell_type": "markdown",
   "id": "0",
   "metadata": {},
   "source": [
    "#### Exercise 6.4.1 hint"
   ]
  },
  {
   "cell_type": "markdown",
   "id": "1",
   "metadata": {},
   "source": [
    "The 'ready, set, go' example works, even though the append operation is\n",
    "implemented in the abstract class in terms of the insert operation.\n",
    "Why does inserting at the end work, but not inserting at the start?\n",
    "\n",
    "Remember that the `test_insert_start`\n",
    "[function](../06_Implementing/06_3_develop_type.ipynb#6.3.2-Testing-data-types)\n",
    "always inserts at index&nbsp;0 and so inserts the numbers in inverse order.\n",
    "For a length of 3, the test first inserts 2, then 1 and finally 0.\n",
    "It then checks whether the resulting sequence is 0, 1, 2."
   ]
  }
 ],
 "metadata": {
  "kernelspec": {
   "display_name": "Python 3",
   "language": "python",
   "name": "python3"
  },
  "language_info": {
   "codemirror_mode": {
    "name": "ipython",
    "version": 3
   },
   "file_extension": ".py",
   "mimetype": "text/x-python",
   "name": "python",
   "nbconvert_exporter": "python",
   "pygments_lexer": "ipython3",
   "version": "3.12.10"
  }
 },
 "nbformat": 4,
 "nbformat_minor": 5
}
