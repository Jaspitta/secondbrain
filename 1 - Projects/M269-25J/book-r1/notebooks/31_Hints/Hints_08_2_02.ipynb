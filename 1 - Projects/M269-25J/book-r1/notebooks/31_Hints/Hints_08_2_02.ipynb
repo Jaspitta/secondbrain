{
 "cells": [
  {
   "cell_type": "markdown",
   "id": "0",
   "metadata": {},
   "source": [
    "#### Exercise 8.2.2 hint"
   ]
  },
  {
   "cell_type": "markdown",
   "id": "1",
   "metadata": {},
   "source": [
    "Think about the algorithm incrementally, for each entry in the original\n",
    "dictionary. Design an algorithm that works for the first entry ('alface').\n",
    "Check if it can also handle a map with the first two entries\n",
    "('alface' and 'carro'). If it can't, change the algorithm.\n",
    "Then consider the third entry, and so on.\n",
    "\n",
    "As you progress, manually fill the inverted map table while thinking\n",
    "(or even speaking aloud) what the algorithm must do."
   ]
  }
 ],
 "metadata": {
  "kernelspec": {
   "display_name": "Python 3",
   "language": "python",
   "name": "python3"
  },
  "language_info": {
   "codemirror_mode": {
    "name": "ipython",
    "version": 3
   },
   "file_extension": ".py",
   "mimetype": "text/x-python",
   "name": "python",
   "nbconvert_exporter": "python",
   "pygments_lexer": "ipython3",
   "version": "3.12.10"
  }
 },
 "nbformat": 4,
 "nbformat_minor": 5
}
