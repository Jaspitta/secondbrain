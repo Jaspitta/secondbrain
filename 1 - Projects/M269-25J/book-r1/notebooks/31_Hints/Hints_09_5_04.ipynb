{
 "cells": [
  {
   "cell_type": "markdown",
   "id": "0",
   "metadata": {},
   "source": [
    "#### Exercise 9.5.4 hint"
   ]
  },
  {
   "cell_type": "markdown",
   "id": "1",
   "metadata": {},
   "source": [
    "Do as much as possible in the initialisation\n",
    "and as little as possible in the completions operation. What ADT allows you to\n",
    "return the completions in constant time, no matter what prefix is given?\n",
    "Think backwards: first design the completions operation to know what\n",
    "collection the initialisation must produce."
   ]
  }
 ],
 "metadata": {
  "kernelspec": {
   "display_name": "Python 3",
   "language": "python",
   "name": "python3"
  },
  "language_info": {
   "codemirror_mode": {
    "name": "ipython",
    "version": 3
   },
   "file_extension": ".py",
   "mimetype": "text/x-python",
   "name": "python",
   "nbconvert_exporter": "python",
   "pygments_lexer": "ipython3",
   "version": "3.12.10"
  }
 },
 "nbformat": 4,
 "nbformat_minor": 5
}
