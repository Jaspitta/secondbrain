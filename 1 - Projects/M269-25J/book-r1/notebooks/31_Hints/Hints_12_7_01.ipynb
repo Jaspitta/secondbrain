{
 "cells": [
  {
   "cell_type": "markdown",
   "id": "0",
   "metadata": {},
   "source": [
    "#### Exercise 12.7.1 hint"
   ]
  },
  {
   "cell_type": "markdown",
   "id": "1",
   "metadata": {},
   "source": [
    "Answer the three questions. Here's a hint for each one.\n",
    "\n",
    "1. Keep it simple, as in the maximum example.\n",
    "2. If the items exists in the sequence, it must be in one of the halves.\n",
    "3. For which lengths can't a sequence be divided into shorter parts?"
   ]
  }
 ],
 "metadata": {
  "kernelspec": {
   "display_name": "Python 3",
   "language": "python",
   "name": "python3"
  },
  "language_info": {
   "codemirror_mode": {
    "name": "ipython",
    "version": 3
   },
   "file_extension": ".py",
   "mimetype": "text/x-python",
   "name": "python",
   "nbconvert_exporter": "python",
   "pygments_lexer": "ipython3",
   "version": "3.12.10"
  }
 },
 "nbformat": 4,
 "nbformat_minor": 5
}
