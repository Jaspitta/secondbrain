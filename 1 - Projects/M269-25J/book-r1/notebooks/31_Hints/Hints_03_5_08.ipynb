{
 "cells": [
  {
   "cell_type": "markdown",
   "id": "0",
   "metadata": {},
   "source": [
    "#### Exercise 3.5.8 hint"
   ]
  },
  {
   "cell_type": "markdown",
   "id": "1",
   "metadata": {},
   "source": [
    "1. What's the first year for which you can say whether it's a leap year or not?\n",
    "   If you can't write the postconditions as one 'if and only if' statement,\n",
    "   then list several mutually exclusive and comprehensive conditions,\n",
    "   depending on whether the year is divisible by 4, 100 or 400.\n",
    "   Remember which operation checks for divisibility.\n",
    "1. You need at least two more cases: the year isn't divisible by four;\n",
    "   the year is divisible by four but not by 100."
   ]
  }
 ],
 "metadata": {
  "kernelspec": {
   "display_name": "Python 3",
   "language": "python",
   "name": "python3"
  },
  "language_info": {
   "codemirror_mode": {
    "name": "ipython",
    "version": 3
   },
   "file_extension": ".py",
   "mimetype": "text/x-python",
   "name": "python",
   "nbconvert_exporter": "python",
   "pygments_lexer": "ipython3",
   "version": "3.12.10"
  }
 },
 "nbformat": 4,
 "nbformat_minor": 5
}
