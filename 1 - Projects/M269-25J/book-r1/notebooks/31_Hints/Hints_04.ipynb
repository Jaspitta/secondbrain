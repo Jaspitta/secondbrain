{
 "cells": [
  {
   "cell_type": "markdown",
   "id": "0",
   "metadata": {},
   "source": [
    "## 29.3 Sequences and iteration"
   ]
  },
  {
   "cell_type": "markdown",
   "id": "1",
   "metadata": {
    "nbsphinx-toctree": {
     "hidden": true,
     "maxdepth": 1,
     "numbered": false
    }
   },
   "source": [
    "1. [The Sequence ADT](Hints_04_1.ipynb)\n",
    "1. [Strings](Hints_04_2.ipynb)\n",
    "1. [Iteration](Hints_04_3.ipynb)\n",
    "1. [Linear search](Hints_04_4.ipynb)\n",
    "1. [Tuples and tables](Hints_04_5.ipynb)\n",
    "1. [Lists](Hints_04_6.ipynb)\n",
    "1. [Reversal](Hints_04_7.ipynb)\n",
    "1. [Optional practice](Hints_04_8.ipynb)"
   ]
  },
  {
   "cell_type": "markdown",
   "id": "2",
   "metadata": {},
   "source": [
    "⟵ [Previous section](Hints_03.ipynb) | [Up](31-introduction.ipynb) | [Next section](Hints_06.ipynb) ⟶"
   ]
  }
 ],
 "metadata": {
  "kernelspec": {
   "display_name": "Python 3",
   "language": "python",
   "name": "python3"
  },
  "language_info": {
   "codemirror_mode": {
    "name": "ipython",
    "version": 3
   },
   "file_extension": ".py",
   "mimetype": "text/x-python",
   "name": "python",
   "nbconvert_exporter": "python",
   "pygments_lexer": "ipython3",
   "version": "3.12.10"
  }
 },
 "nbformat": 4,
 "nbformat_minor": 5
}
