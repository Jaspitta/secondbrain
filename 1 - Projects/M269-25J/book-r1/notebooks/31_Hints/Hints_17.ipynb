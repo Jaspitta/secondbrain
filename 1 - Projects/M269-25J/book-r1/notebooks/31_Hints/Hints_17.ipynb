{
 "cells": [
  {
   "cell_type": "markdown",
   "id": "0",
   "metadata": {},
   "source": [
    "## 29.13 Graphs 1"
   ]
  },
  {
   "cell_type": "markdown",
   "id": "1",
   "metadata": {
    "nbsphinx-toctree": {
     "hidden": true,
     "maxdepth": 1,
     "numbered": false
    }
   },
   "source": [
    "1. [Modelling with graphs](Hints_17_1.ipynb)\n",
    "1. [Basic concepts](Hints_17_2.ipynb)\n",
    "1. [Edge list representation](Hints_17_3.ipynb)\n",
    "1. [Adjacency matrix representation](Hints_17_4.ipynb)\n",
    "1. [Adjacency list representation](Hints_17_5.ipynb)\n",
    "1. [Classes for graphs](Hints_17_6.ipynb)\n",
    "1. [Traversing a graph](Hints_17_7.ipynb)"
   ]
  },
  {
   "cell_type": "markdown",
   "id": "2",
   "metadata": {},
   "source": [
    "⟵ [Previous section](Hints_16.ipynb) | [Up](31-introduction.ipynb) | [Next section](Hints_18.ipynb) ⟶"
   ]
  }
 ],
 "metadata": {
  "kernelspec": {
   "display_name": "Python 3",
   "language": "python",
   "name": "python3"
  },
  "language_info": {
   "codemirror_mode": {
    "name": "ipython",
    "version": 3
   },
   "file_extension": ".py",
   "mimetype": "text/x-python",
   "name": "python",
   "nbconvert_exporter": "python",
   "pygments_lexer": "ipython3",
   "version": "3.12.10"
  }
 },
 "nbformat": 4,
 "nbformat_minor": 5
}
