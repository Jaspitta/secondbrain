{
 "cells": [
  {
   "cell_type": "markdown",
   "id": "0",
   "metadata": {},
   "source": [
    "#### Exercise 24.3.3 hint"
   ]
  },
  {
   "cell_type": "markdown",
   "id": "1",
   "metadata": {},
   "source": [
    "Copy and modify the\n",
    "[code for Dijkstra's algorithm](../18_Greed/18_4_shortest_path.ipynb#18.4.2-Code)\n",
    "so that it stops when a node (*borrower*, *day*) is reached and\n",
    "returns the distance of that node from the (*lender*, Mon) start node,\n",
    "instead of returning the tree of all shortest paths.\n",
    "\n",
    "Write code that creates the\n",
    "[example graph](../32_Answers/Answers_24_3_02.ipynb).\n",
    "Test your modified algorithm with that graph.\n",
    "\n",
    "Finally, if you have time, write an auxiliary function that\n",
    "takes a tabular schedule and returns the corresponding transition graph."
   ]
  },
  {
   "cell_type": "markdown",
   "id": "2",
   "metadata": {},
   "source": [
    "<div class=\"alert alert-info\">\n",
    "<strong>Info:</strong> These exercises are based on problem <em>Book Hand Delivery</em> from the\n",
    "2011 Portuguese Inter-University Programming Marathon.\n",
    "</div>"
   ]
  }
 ],
 "metadata": {
  "kernelspec": {
   "display_name": "Python 3",
   "language": "python",
   "name": "python3"
  },
  "language_info": {
   "codemirror_mode": {
    "name": "ipython",
    "version": 3
   },
   "file_extension": ".py",
   "mimetype": "text/x-python",
   "name": "python",
   "nbconvert_exporter": "python",
   "pygments_lexer": "ipython3",
   "version": "3.12.10"
  }
 },
 "nbformat": 4,
 "nbformat_minor": 5
}
