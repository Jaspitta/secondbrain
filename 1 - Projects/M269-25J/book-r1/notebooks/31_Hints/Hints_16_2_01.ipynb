{
 "cells": [
  {
   "cell_type": "markdown",
   "id": "0",
   "metadata": {},
   "source": [
    "#### Exercise 16.2.1 hint"
   ]
  },
  {
   "cell_type": "markdown",
   "id": "1",
   "metadata": {},
   "source": [
    "If you know the height of each subtree, what's the height of the whole tree?\n",
    "As usual, working out the result by hand for a problem instance helps.\n",
    "For the first tree in this chapter, the left subtree (with the multiplication)\n",
    "has height 3 and the right subtree, with leaf 6, has height 1.\n",
    "From an earlier exercise you know the height of the whole tree is 4.\n",
    "Can you derive a general expression based\n",
    "on the heights of the left and right subtrees?"
   ]
  }
 ],
 "metadata": {
  "kernelspec": {
   "display_name": "Python 3",
   "language": "python",
   "name": "python3"
  },
  "language_info": {
   "codemirror_mode": {
    "name": "ipython",
    "version": 3
   },
   "file_extension": ".py",
   "mimetype": "text/x-python",
   "name": "python",
   "nbconvert_exporter": "python",
   "pygments_lexer": "ipython3",
   "version": "3.12.10"
  }
 },
 "nbformat": 4,
 "nbformat_minor": 5
}
