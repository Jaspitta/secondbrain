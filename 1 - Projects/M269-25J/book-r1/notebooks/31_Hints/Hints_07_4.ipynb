{
 "cells": [
  {
   "cell_type": "markdown",
   "id": "0",
   "metadata": {},
   "source": [
    "### 29.5.4 Priority queues"
   ]
  },
  {
   "cell_type": "markdown",
   "id": "1",
   "metadata": {
    "nbsphinx-toctree": {
     "hidden": true,
     "maxdepth": 1,
     "numbered": false
    }
   },
   "source": [
    "1. [Exercise 7.4.1 hint](Hints_07_4_01.ipynb)\n",
    "1. [Exercise 7.4.2 hint](Hints_07_4_02.ipynb)\n",
    "1. [Exercise 7.4.4 hint](Hints_07_4_04.ipynb)\n",
    "1. [Exercise 7.4.5 hint](Hints_07_4_05.ipynb)\n",
    "1. [Exercise 7.4.7 hint](Hints_07_4_07.ipynb)\n",
    "1. [Exercise 7.4.8 hint](Hints_07_4_08.ipynb)"
   ]
  },
  {
   "cell_type": "markdown",
   "id": "2",
   "metadata": {},
   "source": [
    "⟵ [Previous section](Hints_06.ipynb) | [Up](31-introduction.ipynb) | [Next section](Hints_08.ipynb) ⟶"
   ]
  }
 ],
 "metadata": {
  "kernelspec": {
   "display_name": "Python 3",
   "language": "python",
   "name": "python3"
  },
  "language_info": {
   "codemirror_mode": {
    "name": "ipython",
    "version": 3
   },
   "file_extension": ".py",
   "mimetype": "text/x-python",
   "name": "python",
   "nbconvert_exporter": "python",
   "pygments_lexer": "ipython3",
   "version": "3.12.10"
  }
 },
 "nbformat": 4,
 "nbformat_minor": 5
}
