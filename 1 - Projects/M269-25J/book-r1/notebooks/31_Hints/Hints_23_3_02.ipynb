{
 "cells": [
  {
   "cell_type": "markdown",
   "id": "0",
   "metadata": {},
   "source": [
    "#### Exercise 23.3.2 hint"
   ]
  },
  {
   "cell_type": "markdown",
   "id": "1",
   "metadata": {},
   "source": [
    "1. The DAG only has two kinds of edges.\n",
    "   If each node is a list–capacity pair, then the edges are:\n",
    "\n",
    "- (*items*, *c*) ⟵ (tail(*items*), *c*) to indicate the first item was skipped\n",
    "- (*items*, *c*) ⟵ (tail(*items*), *c* − weight(head(*items*))) to indicate the first item was taken (added to the knapsack).\n",
    "\n",
    "If you write each node as an index–capacity pair, then the edges are:\n",
    "\n",
    "- (*i*, *c*) ⟵ (*i* + 1, *c*)\n",
    "- (*i*, *c*) ⟵ (*i* + 1, *c* − weight(*i*)).\n",
    "\n",
    "A node where the list is empty, or the index is the number of items,\n",
    "has no in-neighbours as there are no further items to consider.\n",
    "\n",
    "2. A subproblem is solved as often as there are paths from it to the\n",
    "   root problem."
   ]
  }
 ],
 "metadata": {
  "kernelspec": {
   "display_name": "Python 3",
   "language": "python",
   "name": "python3"
  },
  "language_info": {
   "codemirror_mode": {
    "name": "ipython",
    "version": 3
   },
   "file_extension": ".py",
   "mimetype": "text/x-python",
   "name": "python",
   "nbconvert_exporter": "python",
   "pygments_lexer": "ipython3",
   "version": "3.12.10"
  }
 },
 "nbformat": 4,
 "nbformat_minor": 5
}
