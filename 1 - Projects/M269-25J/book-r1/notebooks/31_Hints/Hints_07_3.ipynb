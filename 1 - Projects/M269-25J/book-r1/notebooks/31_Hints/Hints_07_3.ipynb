{
 "cells": [
  {
   "cell_type": "markdown",
   "id": "0",
   "metadata": {},
   "source": [
    "### 29.5.3 Queues"
   ]
  },
  {
   "cell_type": "markdown",
   "id": "1",
   "metadata": {
    "nbsphinx-toctree": {
     "hidden": true,
     "maxdepth": 1,
     "numbered": false
    }
   },
   "source": [
    "1. [Exercise 7.3.1 hint](Hints_07_3_01.ipynb)\n",
    "1. [Exercise 7.3.3 hint](Hints_07_3_03.ipynb)\n",
    "1. [Exercise 7.3.4 hint](Hints_07_3_04.ipynb)\n",
    "1. [Exercise 7.3.5 hint](Hints_07_3_05.ipynb)\n",
    "1. [Exercise 7.3.6 hint](Hints_07_3_06.ipynb)\n",
    "1. [Exercise 7.3.7 hint](Hints_07_3_07.ipynb)"
   ]
  },
  {
   "cell_type": "markdown",
   "id": "2",
   "metadata": {},
   "source": [
    "⟵ [Previous section](Hints_06.ipynb) | [Up](31-introduction.ipynb) | [Next section](Hints_08.ipynb) ⟶"
   ]
  }
 ],
 "metadata": {
  "kernelspec": {
   "display_name": "Python 3",
   "language": "python",
   "name": "python3"
  },
  "language_info": {
   "codemirror_mode": {
    "name": "ipython",
    "version": 3
   },
   "file_extension": ".py",
   "mimetype": "text/x-python",
   "name": "python",
   "nbconvert_exporter": "python",
   "pygments_lexer": "ipython3",
   "version": "3.12.10"
  }
 },
 "nbformat": 4,
 "nbformat_minor": 5
}
