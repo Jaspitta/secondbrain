{
 "cells": [
  {
   "cell_type": "markdown",
   "id": "0",
   "metadata": {},
   "source": [
    "#### Exercise 19.3.3 hint"
   ]
  },
  {
   "cell_type": "markdown",
   "id": "1",
   "metadata": {},
   "source": [
    "Consider the following graph. Node 2 is weak: it isn't part of a triangle.\n",
    "There's no edge between any of its neighbours 1, 5 and 6.\n",
    "Node 6 is strong because there's an edge between two of its neighbours,\n",
    "forming a triangle with nodes 3 and 4.\n",
    "\n",
    "<p id=\"fig-19.3.1\"></p>\n",
    "\n",
    "*[Figure 19.3.1](../33_Figures/Figures_19_3.ipynb#Figure-19.3.1)*\n",
    "\n",
    "![Image 19_3_beams.png](19_3_beams.png)\n",
    "\n",
    "What algorithmic strategy can you use to find all weak nodes?"
   ]
  }
 ],
 "metadata": {
  "kernelspec": {
   "display_name": "Python 3",
   "language": "python",
   "name": "python3"
  },
  "language_info": {
   "codemirror_mode": {
    "name": "ipython",
    "version": 3
   },
   "file_extension": ".py",
   "mimetype": "text/x-python",
   "name": "python",
   "nbconvert_exporter": "python",
   "pygments_lexer": "ipython3",
   "version": "3.12.10"
  }
 },
 "nbformat": 4,
 "nbformat_minor": 5
}
