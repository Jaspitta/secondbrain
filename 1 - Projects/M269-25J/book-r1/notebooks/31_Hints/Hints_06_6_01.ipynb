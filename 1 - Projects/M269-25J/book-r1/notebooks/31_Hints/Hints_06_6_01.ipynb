{
 "cells": [
  {
   "cell_type": "markdown",
   "id": "0",
   "metadata": {},
   "source": [
    "#### Exercise 6.6.1 hint"
   ]
  },
  {
   "cell_type": "markdown",
   "id": "1",
   "metadata": {},
   "source": [
    "An item is removed from a dynamic array in the same way as from a static array,\n",
    "so you can copy your\n",
    "[previous code](../06_Implementing/06_4_bounded.ipynb#Exercise-6.4.3-(optional)).\n",
    "\n",
    "One possible shrinking policy is:\n",
    "if the new sequence length, after removing the item, is 50% of the capacity,\n",
    "set the new capacity to 75% of the current one.\n",
    "For example, if the length is 50 and the capacity is 100, the new capacity\n",
    "will be 75, which allows to add 25 items before the capacity is increased."
   ]
  }
 ],
 "metadata": {
  "kernelspec": {
   "display_name": "Python 3",
   "language": "python",
   "name": "python3"
  },
  "language_info": {
   "codemirror_mode": {
    "name": "ipython",
    "version": 3
   },
   "file_extension": ".py",
   "mimetype": "text/x-python",
   "name": "python",
   "nbconvert_exporter": "python",
   "pygments_lexer": "ipython3",
   "version": "3.12.10"
  }
 },
 "nbformat": 4,
 "nbformat_minor": 5
}
