{
 "cells": [
  {
   "cell_type": "markdown",
   "id": "0",
   "metadata": {},
   "source": [
    "## 21.2 Directed graph components"
   ]
  },
  {
   "cell_type": "markdown",
   "id": "1",
   "metadata": {},
   "source": [
    "Contrary to undirected graphs, digraphs have two kinds of components.\n",
    "Consider the following example.\n",
    "\n",
    "<p id=\"fig-21.2.1\"></p>\n",
    "\n",
    "*[Figure 21.2.1](../33_Figures/Figures_21_2.ipynb#Figure-21.2.1)*\n",
    "\n",
    "![Image 21_2_digraph.png](21_2_digraph.png)\n",
    "\n",
    "If we ignore the edge directions then we get this undirected graph,\n",
    "with three connected components:\n",
    "\n",
    "<p id=\"fig-21.2.2\"></p>\n",
    "\n",
    "*[Figure 21.2.2](../33_Figures/Figures_21_2.ipynb#Figure-21.2.2)*\n",
    "\n",
    "![Image 21_2_ungraph.png](21_2_ungraph.png)\n",
    "\n",
    "The **weakly connected components** of a digraph G are the connected components\n",
    "of the undirected version of G. So, the above digraph has three\n",
    "weakly connected components: nodes A, B, C and their three directed edges;\n",
    "nodes D and E and their edge; node F.\n",
    "Nodes of weakly connected components are mutually reachable\n",
    "if we ignore the edge directions.\n",
    "\n",
    "By contrast, a **strongly connected component** is a largest subgraph\n",
    "where all nodes are mutually reachable when considering the edge directions.\n",
    "Nodes A, B and C are mutually reachable because their edges form a cycle.\n",
    "Each other node forms a strongly connected component by itself,\n",
    "because the other nodes can only reach themselves, via paths of length zero.\n",
    "To sum up, the above digraph has three weakly and four strongly\n",
    "connected components.\n",
    "\n",
    "Just to check your understanding, how many weakly and strongly\n",
    "connected components does digraph A⟶B⟵C have?\n",
    "\n",
    "___\n",
    "\n",
    "It has one weakly connected component (the whole graph) and\n",
    "three strongly connected components (each node by itself)."
   ]
  },
  {
   "cell_type": "markdown",
   "id": "2",
   "metadata": {},
   "source": [
    "### 21.2.1 Problem and instances"
   ]
  },
  {
   "cell_type": "markdown",
   "id": "3",
   "metadata": {},
   "source": [
    "Before we turn to the problem of computing components in digraphs,\n",
    "here's the digraph in Figure 21.2.1, for testing."
   ]
  },
  {
   "cell_type": "code",
   "execution_count": 1,
   "id": "4",
   "metadata": {},
   "outputs": [],
   "source": [
    "%run -i ../m269_digraph\n",
    "%run -i ../m269_queue\n",
    "%run -i ../m269_stack\n",
    "\n",
    "digraph = DiGraph()\n",
    "for node in \"ABCDEF\":\n",
    "    digraph.add_node(node)\n",
    "for edge in (\"AB\", \"BC\", \"CA\", \"DE\"):\n",
    "    digraph.add_edge(edge[0], edge[1])"
   ]
  },
  {
   "cell_type": "markdown",
   "id": "5",
   "metadata": {},
   "source": [
    "I will compute the strongly connected components and\n",
    "leave the weakly connected components to you."
   ]
  },
  {
   "cell_type": "markdown",
   "id": "6",
   "metadata": {},
   "source": [
    "#### Exercise 21.2.1"
   ]
  },
  {
   "cell_type": "markdown",
   "id": "7",
   "metadata": {},
   "source": [
    "Complete the following function."
   ]
  },
  {
   "cell_type": "code",
   "execution_count": 2,
   "id": "8",
   "metadata": {},
   "outputs": [],
   "source": [
    "def weakly_connected_components(graph: DiGraph) -> dict:\n",
    "    \"\"\"Return the weakly connected components of graph.\n",
    "\n",
    "    Postconditions: the output maps each node to its component,\n",
    "    numbered from 1 onwards.\n",
    "    \"\"\"\n",
    "    pass\n",
    "\n",
    "\n",
    "weakly_connected_components(digraph)"
   ]
  },
  {
   "cell_type": "markdown",
   "id": "9",
   "metadata": {},
   "source": [
    "You should obtain three components: A, B and C; D and E; F.\n",
    "\n",
    "[Hint](../31_Hints/Hints_21_2_01.ipynb)\n",
    "[Answer](../32_Answers/Answers_21_2_01.ipynb)"
   ]
  },
  {
   "cell_type": "markdown",
   "id": "10",
   "metadata": {},
   "source": [
    "### 21.2.2 Algorithm and complexity"
   ]
  },
  {
   "cell_type": "markdown",
   "id": "11",
   "metadata": {},
   "source": [
    "The algorithm for the strongly connected components is similar to\n",
    "the algorithm for connected components in undirected graphs:\n",
    "for each node A that isn't yet in the map, we find the nodes that are\n",
    "in the same component as A and add them to the map.\n",
    "\n",
    "Node B is in the same component as A if there's a path from A to B and\n",
    "a path from B to A. If we compute the set of all nodes that have paths *from* A\n",
    "and the set of all nodes that have paths *to* A, then the intersection of\n",
    "both sets is the set of nodes in the component of A,\n",
    "because those nodes have a path from and to A.\n",
    "\n",
    "Traversal algorithms follow the directions of the edges and\n",
    "hence compute the paths *from* a given node A.\n",
    "One way to compute all paths *to* A is\n",
    "to reverse the direction of all edges to obtain the **reverse graph**,\n",
    "and then compute the paths *from* A in the reverse graph.\n",
    "As mentioned in [Section&nbsp;17.1](../17_Graphs_1/17_1_modelling.ipynb#17.1-Modelling-with-graphs),\n",
    "if a digraph represents the 'follows' relationship on Twitter,\n",
    "then its reverse graph represents the 'is followed by' relation.\n",
    "Here is the reverse graph of our example.\n",
    "\n",
    "<p id=\"fig-21.2.3\"></p>\n",
    "\n",
    "*[Figure 21.2.3](../33_Figures/Figures_21_2.ipynb#Figure-21.2.3)*\n",
    "\n",
    "![Image 21_2_reverse.png](21_2_reverse.png)"
   ]
  },
  {
   "cell_type": "markdown",
   "id": "12",
   "metadata": {},
   "source": [
    "<div class=\"alert alert-info\">\n",
    "<strong>Info:</strong> The reverse graph is also called the transpose graph because\n",
    "it can be obtained by transposing the adjacency matrix.\n",
    "</div>"
   ]
  },
  {
   "cell_type": "markdown",
   "id": "13",
   "metadata": {},
   "source": [
    "If we traverse the original graph from A, we obtain the tree A⟶B⟶C\n",
    "and thereby the nodes that can be reached from A.\n",
    "If we traverse the reverse graph from A, we obtain the tree A⟶C⟶B,\n",
    "and thereby the nodes that can reach A in the original graph.\n",
    "Nodes A, B and C are in both trees, so they all can reach A and\n",
    "be reached from A, which means they form a strongly connected component.\n",
    "\n",
    "As a further example,\n",
    "if we traverse the original graph from D, we obtain tree D⟶E.\n",
    "If we traverse the reverse graph from D, we obtain tree D (a single node).\n",
    "Both trees have only D in common, so it forms a strongly connected component\n",
    "by itself.\n",
    "\n",
    "To sum up: for each node V that isn't yet in the map, we find\n",
    "which nodes are reachable from V (using the input graph) and\n",
    "from which nodes we can reach V (using the reverse graph). The nodes in\n",
    "both sets are by definition in the same strongly connected component as V.\n",
    "Here's the algorithm, using again a depth-first traversal,\n",
    "but any kind of traversal will do.\n",
    "\n",
    "1. let *reverse graph* be the reverse of *graph*\n",
    "2. let *component* be an empty map\n",
    "3. let *current* be 1\n",
    "4. for each *node* in *graph*:\n",
    "   1. if *node* not in *component*:\n",
    "      1. let *forward* be the nodes of DFS(*node*, *graph*)\n",
    "      2. let *backward* be the nodes of DFS(*node*, *reverse graph*)\n",
    "      3. for each *common* in *forward* intersected with *backward*:\n",
    "         1. let *component*(*common*) be *current*\n",
    "      4. let *current* be *current* + 1\n",
    "\n",
    "Step&nbsp;1 always has complexity Θ(*n* + *e*). In the worst case:\n",
    "\n",
    "- steps 4.1.1 to 4.1.4 are executed *n* times\n",
    "- steps 4.1.1 and 4.1.2 visit together the whole graph in Θ(*n* + *e*)\n",
    "- step&nbsp;4.1.3 takes Θ(*n*) to compute the intersection of two node sets.\n",
    "\n",
    "The total complexity is $$Θ(n+e) + n×(Θ(n+e) + Θ(n)) = n×Θ(n+e) = Θ(n²+ne)$$\n",
    "by considering only the fastest growing part of the expression.\n",
    "\n",
    "In the best case, the loop executes only once, adding all nodes to the map.\n",
    "(This means the best-case scenario is when the graph has\n",
    "only one strongly connected component.)\n",
    "Replacing the worst-case *n* iterations with a best-case single iteration\n",
    "in the previous formula,\n",
    "we get the best-case complexity: $$Θ(n+e) + 1×(Θ(n+e) + Θ(n)) = Θ(n+e).$$"
   ]
  },
  {
   "cell_type": "markdown",
   "id": "14",
   "metadata": {},
   "source": [
    "### 21.2.3 Code and tests"
   ]
  },
  {
   "cell_type": "markdown",
   "id": "15",
   "metadata": {},
   "source": [
    "Here's the code for reversing a digraph and\n",
    "computing its strongly connected components."
   ]
  },
  {
   "cell_type": "code",
   "execution_count": 3,
   "id": "16",
   "metadata": {},
   "outputs": [],
   "source": [
    "# this code is also in m269_digraph.py\n",
    "\n",
    "\n",
    "def reverse(graph: DiGraph) -> DiGraph:\n",
    "    \"\"\"Return the same graph but with edge directions reversed.\"\"\"\n",
    "    result = DiGraph()\n",
    "    for node in graph.nodes():\n",
    "        result.add_node(node)\n",
    "    for edge in graph.edges():\n",
    "        result.add_edge(edge[1], edge[0])\n",
    "    return result\n",
    "\n",
    "\n",
    "def strongly_connected_components(graph: DiGraph) -> dict:\n",
    "    \"\"\"Return the strongly connected components of graph.\n",
    "\n",
    "    Postconditions: the output maps each node to its component,\n",
    "    numbered from 1 onwards.\n",
    "    \"\"\"\n",
    "    reverse_graph = reverse(graph)\n",
    "    component = dict()\n",
    "    counter = 1\n",
    "    for node in graph.nodes():\n",
    "        if node not in component:\n",
    "            forward = dfs(graph, node).nodes()\n",
    "            backward = dfs(reverse_graph, node).nodes()\n",
    "            for common in forward.intersection(backward):\n",
    "                component[common] = counter\n",
    "            counter = counter + 1\n",
    "    return component"
   ]
  },
  {
   "cell_type": "markdown",
   "id": "17",
   "metadata": {},
   "source": [
    "Let's test the code with the example digraph."
   ]
  },
  {
   "cell_type": "code",
   "execution_count": 4,
   "id": "18",
   "metadata": {},
   "outputs": [
    {
     "data": {
      "text/plain": [
       "{'E': 1, 'D': 2, 'C': 3, 'B': 3, 'A': 3, 'F': 4}"
      ]
     },
     "execution_count": 4,
     "metadata": {},
     "output_type": "execute_result"
    }
   ],
   "source": [
    "strongly_connected_components(digraph)"
   ]
  },
  {
   "cell_type": "markdown",
   "id": "19",
   "metadata": {},
   "source": [
    "As expected, nodes A, B, C are in one component and\n",
    "each other node is in its own component."
   ]
  },
  {
   "cell_type": "markdown",
   "id": "20",
   "metadata": {},
   "source": [
    "⟵ [Previous section](21_1_un_components.ipynb) | [Up](21-introduction.ipynb) | [Next section](21_3_topological.ipynb) ⟶"
   ]
  }
 ],
 "metadata": {
  "kernelspec": {
   "display_name": "Python 3",
   "language": "python",
   "name": "python3"
  },
  "language_info": {
   "codemirror_mode": {
    "name": "ipython",
    "version": 3
   },
   "file_extension": ".py",
   "mimetype": "text/x-python",
   "name": "python",
   "nbconvert_exporter": "python",
   "pygments_lexer": "ipython3",
   "version": "3.12.10"
  }
 },
 "nbformat": 4,
 "nbformat_minor": 5
}
