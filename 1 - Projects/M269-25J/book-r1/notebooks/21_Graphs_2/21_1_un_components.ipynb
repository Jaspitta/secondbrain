{
 "cells": [
  {
   "cell_type": "markdown",
   "id": "0",
   "metadata": {},
   "source": [
    "## 21.1 Undirected graph components"
   ]
  },
  {
   "cell_type": "markdown",
   "id": "1",
   "metadata": {},
   "source": [
    "Sometimes we want to know if there's a path between two given nodes,\n",
    "but the actual path, if it exists, is of little relevance.\n",
    "For example, if bad weather brings power cables down, we want to know\n",
    "for each residential or industrial area if it's connected to a generator.\n",
    "We don't need the path from the generator to the area:\n",
    "we only want to know whether it exists, to determine the cut-off areas.\n",
    "\n",
    "The more general problem is to compute, for a given graph,\n",
    "its various separate subgraphs of mutually reachable nodes.\n",
    "The problem is slightly different for undirected and directed graphs,\n",
    "so let's first look at the former.\n",
    "Consider the following undirected graph.\n",
    "\n",
    "<p id=\"fig-21.1.1\"></p>\n",
    "\n",
    "*[Figure 21.1.1](../33_Figures/Figures_21_1.ipynb#Figure-21.1.1)*\n",
    "\n",
    "![Image 21_1_components.png](21_1_components.png)\n",
    "\n",
    "It has three subgraphs of connected nodes.\n",
    "One subgraph consists of nodes A, B, C and their edges,\n",
    "another of nodes D and E and their edge, and the third has node F by itself.\n",
    "Each of these subgraphs is called a **connected component** of the whole graph.\n",
    "\n",
    "A component of an undirected graph is a largest possible connected subgraph.\n",
    "For example, edge A–B and its nodes aren't a component:\n",
    "while they form a connected subgraph, it isn't as large as possible because\n",
    "we can add node C and edge A–C to get a larger connected subgraph.\n",
    "There are no further edges for nodes A, B and C, so they (and their edges)\n",
    "form a component: there's no larger connected subgraph they're part of.\n",
    "\n",
    "In other words, a connected component of an undirected graph is a largest\n",
    "set of nodes that are mutually reachable together with all their edges.\n",
    "For example, if the above graph had edge B–C, the component would be\n",
    "subgraph A–B–C–A: omitting any of the edges between those nodes\n",
    "would lead to a subgraph that isn't the largest possible."
   ]
  },
  {
   "cell_type": "markdown",
   "id": "2",
   "metadata": {},
   "source": [
    "### 21.1.1 Problem definition and instances"
   ]
  },
  {
   "cell_type": "markdown",
   "id": "3",
   "metadata": {},
   "source": [
    "The general problem we want to solve is:\n",
    "given an undirected graph and two nodes A and B,\n",
    "is there a path between them? Are they mutually reachable?\n",
    "In the power grid example, we want to know if electricity can flow from a generator A to a residential or industrial estate B and back.\n",
    "\n",
    "Since components are subgraphs of mutually reachable nodes,\n",
    "to answer the question we compute the components and\n",
    "then check if A and B are in the same component.\n",
    "For example, in the graph above, A and E are in different components,\n",
    "so they're not mutually reachable.\n",
    "\n",
    "We need an ADT that associates each node with the component that it's in:\n",
    "that's the map ADT.\n",
    "The easiest way to label the components is to number them from 1 onwards.\n",
    "Here's the precise problem definition.\n",
    "\n",
    "**Function:** connected components\\\n",
    "**Inputs:** *graph*, an undirected graph\\\n",
    "**Preconditions**: true\\\n",
    "**Output**: *component*, a map of objects to integers\\\n",
    "**Postconditions**:\n",
    "\n",
    "- *component* maps the nodes of *graph* to the integers from 1 to\n",
    "  the number of connected components in *graph*\n",
    "- *component*(*a*) = *component*(*b*) if and only if\n",
    "  nodes *a* and *b* are mutually reachable\n",
    "\n",
    "To create some graphs for testing, I must first load the necessary code.\n",
    "Since breadth- and depth-first search use queues and stacks, it's safest to\n",
    "always load the queue and stack implementations too,\n",
    "even if we end up not traversing graphs."
   ]
  },
  {
   "cell_type": "code",
   "execution_count": 1,
   "id": "4",
   "metadata": {},
   "outputs": [],
   "source": [
    "%run -i ../m269_digraph\n",
    "%run -i ../m269_ungraph\n",
    "%run -i ../m269_queue\n",
    "%run -i ../m269_stack"
   ]
  },
  {
   "cell_type": "markdown",
   "id": "5",
   "metadata": {},
   "source": [
    "Let's create the above graph to later test the computation of components."
   ]
  },
  {
   "cell_type": "code",
   "execution_count": 2,
   "id": "6",
   "metadata": {},
   "outputs": [],
   "source": [
    "undirected = UndirectedGraph()\n",
    "for node in \"ABCDEF\":\n",
    "    undirected.add_node(node)\n",
    "undirected.add_edge(\"A\", \"B\")\n",
    "undirected.add_edge(\"A\", \"C\")\n",
    "undirected.add_edge(\"D\", \"E\")"
   ]
  },
  {
   "cell_type": "markdown",
   "id": "7",
   "metadata": {},
   "source": [
    "We also need to test with edge cases: a graph with the fewest possible components and\n",
    "a graph with the most components.\n",
    "Describe two such graphs and how many components they have.\n",
    "\n",
    "___\n",
    "\n",
    "A null graph (without edges) has the most components: one per node.\n",
    "A connected graph has the fewest components: only one.\n",
    "\n",
    "We already have functions to\n",
    "[generate null and connected graphs](../17_Graphs_1/17_6_classes.ipynb#17.6.3-Special-graphs).\n",
    "We'll use them later to create problem instances for testing."
   ]
  },
  {
   "cell_type": "markdown",
   "id": "8",
   "metadata": {},
   "source": [
    "### 21.1.2 Algorithm and complexity"
   ]
  },
  {
   "cell_type": "markdown",
   "id": "9",
   "metadata": {},
   "source": [
    "The key idea to compute the components is that traversing an undirected\n",
    "graph from node A visits all nodes reachable from A,\n",
    "and therefore visits all nodes in the same component as A.\n",
    "\n",
    "To compute all components, we repeatedly traverse the graph from each node that\n",
    "hasn't been assigned to a component yet.\n",
    "Each traversal adds the nodes it visits to a new component.\n",
    "Here's an outline of the algorithm:\n",
    "\n",
    "> Create an empty map. Initialise a component counter with 1.\n",
    "> Go through each node in the graph.\n",
    "> If the node is in the map, we already know its component, so do nothing.\n",
    "> Otherwise, do any graph traversal from that node.\n",
    "> Add all nodes returned by the traversal to the map,\n",
    "> associated to the current component counter. Then increment the counter.\n",
    "> After going through all nodes, return the map.\n",
    "\n",
    "The complexity can be analysed as follows.\n",
    "Remember that *n* and *e* refer to the number of nodes and edges in a graph.\n",
    "\n",
    "- Checking if a node is in the map takes constant time if the map is\n",
    "  implemented with a hash table. So checking all *n* nodes takes Θ(*n*).\n",
    "- The counter increments take Θ(1) in the best case and Θ(*n*) in the worst\n",
    "  case, because that's the least and most number of components, as seen earlier.\n",
    "- Each traversal only visits part of the graph, but together the traversals\n",
    "  visit every node and edge once. They're equivalent to\n",
    "  a single traversal of the whole graph, which has complexity Θ(*n* + *e*)\n",
    "  ([Section&nbsp;17.7.2](../17_Graphs_1/17_7_traversal.ipynb#17.7.2-Complexity)).\n",
    "\n",
    "Considering only the fastest-growing term, we can say that\n",
    "the complexity of the algorithm is Θ(*n* + *e*).\n",
    "This is both the best- and worst-case complexity,\n",
    "because the whole graph is traversed to find all components."
   ]
  },
  {
   "cell_type": "markdown",
   "id": "10",
   "metadata": {},
   "source": [
    "### 21.1.3 Code and tests"
   ]
  },
  {
   "cell_type": "markdown",
   "id": "11",
   "metadata": {},
   "source": [
    "In translating the algorithm outline to Python we must remember that\n",
    "our [traversal functions](../17_Graphs_1/17_7_traversal.ipynb#17.7.4-Second-algorithm) return\n",
    "the tree of all paths from the start node.\n",
    "We must add each tree node to the map.\n",
    "\n",
    "Any traversal will work. The code below uses depth-first search (DFS).\n",
    "You can replace it with breadth-first search (BFS) and\n",
    "confirm you get the same components."
   ]
  },
  {
   "cell_type": "code",
   "execution_count": 3,
   "id": "12",
   "metadata": {},
   "outputs": [],
   "source": [
    "# this code is also in m269_ungraph.py\n",
    "\n",
    "\n",
    "def connected_components(graph: UndirectedGraph) -> dict:\n",
    "    \"\"\"Return the connected components of graph.\n",
    "\n",
    "    Postconditions: the output maps each node to its component,\n",
    "    numbered from 1 onwards.\n",
    "    \"\"\"\n",
    "    component = dict()\n",
    "    counter = 1\n",
    "    for node in graph.nodes():\n",
    "        if node not in component:\n",
    "            tree = dfs(graph, node)\n",
    "            for reached in tree.nodes():\n",
    "                component[reached] = counter\n",
    "            counter = counter + 1\n",
    "    return component"
   ]
  },
  {
   "cell_type": "markdown",
   "id": "13",
   "metadata": {},
   "source": [
    "Let's test the code with the example graph."
   ]
  },
  {
   "cell_type": "code",
   "execution_count": 4,
   "id": "14",
   "metadata": {},
   "outputs": [
    {
     "data": {
      "text/plain": [
       "{'E': 1, 'D': 1, 'C': 2, 'B': 2, 'A': 2, 'F': 3}"
      ]
     },
     "execution_count": 4,
     "metadata": {},
     "output_type": "execute_result"
    }
   ],
   "source": [
    "connected_components(undirected)"
   ]
  },
  {
   "cell_type": "markdown",
   "id": "15",
   "metadata": {},
   "source": [
    "As expected, it finds the three components:\n",
    "nodes A, B and C, nodes D and E, and node F by itself.\n",
    "\n",
    "Let's test with the edge cases.\n",
    "Remember that the graphs that `m269_graphs.py` generates have nodes 0, 1, 2, ..., *n*&nbsp;–&nbsp;1."
   ]
  },
  {
   "cell_type": "code",
   "execution_count": 5,
   "id": "16",
   "metadata": {},
   "outputs": [
    {
     "data": {
      "text/plain": [
       "{0: 1, 1: 2, 2: 3, 3: 4, 4: 5}"
      ]
     },
     "execution_count": 5,
     "metadata": {},
     "output_type": "execute_result"
    }
   ],
   "source": [
    "%run -i ../m269_graphs\n",
    "\n",
    "# most components: no node has neighbours\n",
    "connected_components(null_graph(5))"
   ]
  },
  {
   "cell_type": "code",
   "execution_count": 6,
   "id": "17",
   "metadata": {},
   "outputs": [
    {
     "data": {
      "text/plain": [
       "{0: 1, 1: 1, 2: 1, 3: 1, 4: 1}"
      ]
     },
     "execution_count": 6,
     "metadata": {},
     "output_type": "execute_result"
    }
   ],
   "source": [
    "# fewest components: a connected graph; could be cycle graph or complete graph\n",
    "connected_components(path_graph(5))"
   ]
  },
  {
   "cell_type": "markdown",
   "id": "18",
   "metadata": {},
   "source": [
    "As expected, every node of the null graph is in a separate component\n",
    "and all nodes of a connected graph are in the same component."
   ]
  },
  {
   "cell_type": "markdown",
   "id": "19",
   "metadata": {},
   "source": [
    "#### Exercise 21.1.1"
   ]
  },
  {
   "cell_type": "markdown",
   "id": "20",
   "metadata": {},
   "source": [
    "This exercise asks you to apply your knowledge of how connected components\n",
    "are computed to create a bespoke algorithm for a particular problem.\n",
    "\n",
    "Consider again the power grid example. Implement the next function, which\n",
    "returns the set of nodes not connected to any power source node."
   ]
  },
  {
   "cell_type": "code",
   "execution_count": 7,
   "id": "21",
   "metadata": {},
   "outputs": [],
   "source": [
    "def disconnected(graph: UndirectedGraph, sources: set) -> set:\n",
    "    \"\"\"Return all nodes not connected to any of the sources.\n",
    "\n",
    "    Preconditions: sources is a non-empty subset of the graph's nodes\n",
    "    \"\"\"\n",
    "    pass\n",
    "\n",
    "\n",
    "disconnected(undirected, {\"A\"})  # you should obtain {'D', 'E', 'F'}"
   ]
  },
  {
   "cell_type": "markdown",
   "id": "22",
   "metadata": {},
   "source": [
    "[Hint](../31_Hints/Hints_21_1_01.ipynb)\n",
    "[Answer](../32_Answers/Answers_21_1_01.ipynb)"
   ]
  },
  {
   "cell_type": "markdown",
   "id": "23",
   "metadata": {},
   "source": [
    "#### Exercise 21.1.2"
   ]
  },
  {
   "cell_type": "markdown",
   "id": "24",
   "metadata": {},
   "source": [
    "The following is an exercise in modelling a situation.\n",
    "There's no right or wrong answer.\n",
    "\n",
    "A government agency wants to know which train stations are critical:\n",
    "that is, which stations would cause the most disruption if, due to accident or incident,\n",
    "they had to be closed and no trains could\n",
    "start, terminate or pass through those stations.\n",
    "\n",
    "Given a connected undirected graph representing the train network,\n",
    "how would you define the critical nodes, based on the notion of components?"
   ]
  },
  {
   "cell_type": "markdown",
   "id": "25",
   "metadata": {},
   "source": [
    "_Write your answer here._"
   ]
  },
  {
   "cell_type": "markdown",
   "id": "26",
   "metadata": {},
   "source": [
    "[Hint](../31_Hints/Hints_21_1_02.ipynb)\n",
    "[Answer](../32_Answers/Answers_21_1_02.ipynb)"
   ]
  },
  {
   "cell_type": "markdown",
   "id": "27",
   "metadata": {},
   "source": [
    "⟵ [Previous section](21-introduction.ipynb) | [Up](21-introduction.ipynb) | [Next section](21_2_di_components.ipynb) ⟶"
   ]
  }
 ],
 "metadata": {
  "kernelspec": {
   "display_name": "Python 3",
   "language": "python",
   "name": "python3"
  },
  "language_info": {
   "codemirror_mode": {
    "name": "ipython",
    "version": 3
   },
   "file_extension": ".py",
   "mimetype": "text/x-python",
   "name": "python",
   "nbconvert_exporter": "python",
   "pygments_lexer": "ipython3",
   "version": "3.12.10"
  }
 },
 "nbformat": 4,
 "nbformat_minor": 5
}
