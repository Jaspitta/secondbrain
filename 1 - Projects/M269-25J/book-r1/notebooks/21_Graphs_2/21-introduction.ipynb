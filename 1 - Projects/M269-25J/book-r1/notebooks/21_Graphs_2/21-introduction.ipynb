{
 "cells": [
  {
   "cell_type": "markdown",
   "id": "0",
   "metadata": {},
   "source": [
    "# 21 Graphs 2"
   ]
  },
  {
   "cell_type": "markdown",
   "id": "1",
   "metadata": {},
   "source": [
    "This chapter further illustrates the versatility of graphs and how general\n",
    "abstract algorithms on graphs can be used to solve concrete practical problems.\n",
    "\n",
    "[Section&nbsp;17.1](../17_Graphs_1/17_1_modelling.ipynb#17.1-Modelling-with-graphs) on modelling with graphs\n",
    "mentioned that graphs can represent transport networks.\n",
    "These are usually connected: one can reach every node from any other node.\n",
    "However, that may not be the case after disruptions like\n",
    "road flooding and flight cancellations.\n",
    "In the extreme case, the network breaks down into separate, disconnected\n",
    "subnetworks and travel from one subnetwork to another becomes impossible.\n",
    "Sections 1 and 2 of this chapter are about the problem of finding the nodes\n",
    "that are in their own separate subgraph and therefore cut off from other nodes.\n",
    "\n",
    "Section&nbsp;17.1 also noted that directed graphs can represent dependency networks,\n",
    "like which spreadsheet cells depend on which other ones.\n",
    "Section&nbsp;3 of this chapter introduces an algorithm that determines the order\n",
    "in which cells must be evaluated so that\n",
    "no cell is evaluated before any cell it depends on.\n",
    "\n",
    "Section&nbsp;17.1 included an example of a state transition graph for the\n",
    "Noughts and Crosses game. The nodes represent the states of the board;\n",
    "the edges represent the possible player moves. Section&nbsp;4 of this chapter shows that\n",
    "problems that look complicated may be solved with a standard graph algorithm\n",
    "if we model those problems with state transition graphs.\n",
    "\n",
    "This chapter supports these learning outcomes:\n",
    "\n",
    "- Develop and apply algorithms and data structures to solve computational problems – you will learn that\n",
    "  some problems can be solved with general-purpose graph algorithms by\n",
    "  transforming the input into a graph.\n",
    "- Analyse the complexity of algorithms to support software design choices – you will be asked to determine the complexity of alternative algorithms.\n",
    "\n",
    "You should first read again the summaries of Chapters\n",
    "[17](../17_Graphs_1/17_9_summary.ipynb) and\n",
    "[18](../18_Greed/18_5_summary.ipynb) to refresh your memory about\n",
    "graph-related concepts and algorithms needed for this chapter.\n",
    "\n",
    "Before starting to work on this chapter, check the M269\n",
    "[news](https://learn2.open.ac.uk/blocks/news/all.php?bi=326014) and [errata](https://learn2.open.ac.uk/mod/url/view.php?id=2554721),\n",
    "and check the TMAs for what is assessed."
   ]
  },
  {
   "cell_type": "markdown",
   "id": "2",
   "metadata": {
    "nbsphinx-toctree": {
     "hidden": true,
     "maxdepth": 1,
     "numbered": false
    }
   },
   "source": [
    "1. [Undirected graph components](21_1_un_components.ipynb)\n",
    "1. [Directed graph components](21_2_di_components.ipynb)\n",
    "1. [Topological sort](21_3_topological.ipynb)\n",
    "1. [State graphs](21_4_states.ipynb)\n",
    "1. [Practice](21_5_practice.ipynb)\n",
    "1. [Summary](21_6_summary.ipynb)"
   ]
  },
  {
   "cell_type": "markdown",
   "id": "3",
   "metadata": {},
   "source": [
    "⟵ [Previous chapter](../20_TMA02-2/20-introduction.ipynb) | [Up](../M269.ipynb) | [Next chapter](../22_Backtracking/22-introduction.ipynb) ⟶"
   ]
  }
 ],
 "metadata": {
  "kernelspec": {
   "display_name": "Python 3",
   "language": "python",
   "name": "python3"
  },
  "language_info": {
   "codemirror_mode": {
    "name": "ipython",
    "version": 3
   },
   "file_extension": ".py",
   "mimetype": "text/x-python",
   "name": "python",
   "nbconvert_exporter": "python",
   "pygments_lexer": "ipython3",
   "version": "3.12.10"
  }
 },
 "nbformat": 4,
 "nbformat_minor": 5
}
