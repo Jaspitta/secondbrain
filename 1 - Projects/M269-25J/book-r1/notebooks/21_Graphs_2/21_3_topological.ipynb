{
 "cells": [
  {
   "cell_type": "markdown",
   "id": "0",
   "metadata": {},
   "source": [
    "## 21.3 Topological sort"
   ]
  },
  {
   "cell_type": "markdown",
   "id": "1",
   "metadata": {},
   "source": [
    "I mentioned in [Section&nbsp;17.1](../17_Graphs_1/17_1_modelling.ipynb#17.1-Modelling-with-graphs)\n",
    "that digraphs can represent scheduling constraints:\n",
    "an edge A ⟶ B states that task or event A must occur before task or event B.\n",
    "The example was the evaluation of formulas in spreadsheet cells.\n",
    "Here again is the cell dependency digraph.\n",
    "If cell A2 changes, the spreadsheet must first re-evaluate B2 and only then C2\n",
    "because C2 depends on A2 and B2.\n",
    "\n",
    "<p id=\"fig-21.3.1\"></p>\n",
    "\n",
    "*[Figure 21.3.1](../33_Figures/Figures_21_3.ipynb#Figure-21.3.1)*\n",
    "\n",
    "![Image ../17_Graphs_1/17_1_cells.png](../17_Graphs_1/17_1_cells.png)"
   ]
  },
  {
   "cell_type": "markdown",
   "id": "2",
   "metadata": {},
   "source": [
    "### 21.3.1 Problem"
   ]
  },
  {
   "cell_type": "markdown",
   "id": "3",
   "metadata": {},
   "source": [
    "Given a digraph, we want to know a possible schedule that indicates\n",
    "in which order to do the tasks or carry out the events represented by the nodes.\n",
    "Such a schedule is called a **topological sort** of the digraph:\n",
    "it's a sequence of the graph's nodes so that for every edge  A⟶B,\n",
    "node A appears before node B in the sequence.\n",
    "If you can lay out a digraph so that every edge points from left to right, then\n",
    "a topological sort is obtained by reading the nodes from left to right.\n",
    "\n",
    "The spreadsheet graph above is laid out from left to right and so\n",
    "has topological sort (A2, B2, C2). That's the only possible topological sort.\n",
    "For example, sequence (A2, C2, B2) isn't a topological sort because\n",
    "C2 comes before B2, contrary to the order imposed by edge B2⟶C2.\n",
    "\n",
    "Some digraphs have multiple topological sorts. For example,\n",
    "\n",
    "<p id=\"fig-21.3.2\"></p>\n",
    "\n",
    "*[Figure 21.3.2](../33_Figures/Figures_21_3.ipynb#Figure-21.3.2)*\n",
    "\n",
    "![Image 21_3_many_sorts.png](21_3_many_sorts.png)\n",
    "\n",
    "has topological sorts (A, B, C, D), (A, C, B, D), (C, A, B, D), etc.\n",
    "Only the node permutations where B appears before A or D appears before C,\n",
    "like (B, A, C, D) and (D, A, B, C), aren't topological sorts.\n",
    "\n",
    "A cyclic digraph, like the following one, has no topological sort.\n",
    "\n",
    "<p id=\"fig-21.3.3\"></p>\n",
    "\n",
    "*[Figure 21.3.3](../33_Figures/Figures_21_3.ipynb#Figure-21.3.3)*\n",
    "\n",
    "![Image 21_3_no_sort.png](21_3_no_sort.png)\n",
    "\n",
    "Any ordering of the nodes will go against one of the edges.\n",
    "For example, (A, B, C) isn't a topological sort because C must appear before A\n",
    "due to edge C⟶A. No matter which node we choose to start the sequence,\n",
    "some other node must appear before it, so no topological sort is possible.\n",
    "There's also a visual explanation.\n",
    "A graph with a cycle can't be laid out with all edges pointing left to right,\n",
    "because there's always a right-to-left edge to close the cycle.\n",
    "\n",
    "In summary, every acyclic digraph has at least one topological sort.\n",
    "We want to compute one of them, it doesn't matter which.\n",
    "\n",
    "**Function:** topological sort\\\n",
    "**Inputs:** *graph*, a digraph\\\n",
    "**Preconditions**: *graph* is acyclic\\\n",
    "**Output**: *schedule*, a sequence of objects\\\n",
    "**Postconditions**:\n",
    "\n",
    "- *schedule* is a permutation of the *graph*'s nodes\n",
    "- for every edge A⟶B in *graph*, A appears before B in *schedule*\n",
    "\n",
    "Let's construct the spreadsheet graph for testing."
   ]
  },
  {
   "cell_type": "code",
   "execution_count": 1,
   "id": "4",
   "metadata": {},
   "outputs": [],
   "source": [
    "%run -i ../m269_digraph\n",
    "\n",
    "spreadsheet = DiGraph()\n",
    "for node in (\"A2\", \"B2\", \"C2\"):\n",
    "    spreadsheet.add_node(node)\n",
    "spreadsheet.add_edge(\"A2\", \"B2\")\n",
    "spreadsheet.add_edge(\"A2\", \"C2\")\n",
    "spreadsheet.add_edge(\"B2\", \"C2\")"
   ]
  },
  {
   "cell_type": "markdown",
   "id": "5",
   "metadata": {},
   "source": [
    "### 21.3.2 Algorithm and code"
   ]
  },
  {
   "cell_type": "markdown",
   "id": "6",
   "metadata": {},
   "source": [
    "The key idea to obtain a topological sort is that the first node we visit\n",
    "(the first task we schedule) must not have incoming edges,\n",
    "otherwise it would have to come after some other node.\n",
    "Let's call the first visited node V.\n",
    "\n",
    "V has no incoming edges but it may have an outgoing edge V⟶B.\n",
    "Since V was visited first, it will come before all other nodes.\n",
    "The ordering imposed by edge V⟶B is therefore satisfied.\n",
    "\n",
    "If we remove all outgoing edges from V, to 'discharge' those order constraints,\n",
    "nodes that only depend on V will have no incoming edge anymore and\n",
    "can be visited next.\n",
    "\n",
    "The algorithm thus proceeds by visiting and removing nodes with in-degree zero:\n",
    "those nodes depend on no other node and can be scheduled next.\n",
    "Here's the outline of what's known as **Kahn's algorithm**:\n",
    "\n",
    "> Create an empty sequence. While there's a node with in-degree zero,\n",
    "> remove it from the graph and append it to the sequence.\n",
    "> When the while-loop ends, return the sequence.\n",
    "\n",
    "It's a greedy algorithm: at each step it chooses one of the 'best'\n",
    "remaining nodes – those without incoming edges.\n",
    "\n",
    "Let's see the algorithm in action on the example graph.\n",
    "The next figure shows from left to right how each iteration removes one node\n",
    "and appends it to the sequence. We start with a digraph and the empty sequence.\n",
    "We finish with the empty graph and a topological sort.\n",
    "The numbers next to the nodes are their in-degrees.\n",
    "\n",
    "<p id=\"fig-21.3.4\"></p>\n",
    "\n",
    "*[Figure 21.3.4](../33_Figures/Figures_21_3.ipynb#Figure-21.3.4)*\n",
    "\n",
    "![Image 21_3_toposort.png](21_3_toposort.png)\n",
    "\n",
    "This version of the algorithm is not very good as it destroys the input graph.\n",
    "We can instead simulate the removal of nodes and how the in-degrees change.\n",
    "We store the initial in-degree of each node and simulate\n",
    "the removal of an edge A⟶B by decrementing the in-degree value of B.\n",
    "Here's the new version of the algorithm applied to the example graph.\n",
    "This version only changes the in-degree values associated to the nodes:\n",
    "it doesn't modify the graph. For example, the removal of A2 and its edges is\n",
    "simulated by decrementing the in-degrees of B2 and C2.\n",
    "\n",
    "<p id=\"fig-21.3.5\"></p>\n",
    "\n",
    "*[Figure 21.3.5](../33_Figures/Figures_21_3.ipynb#Figure-21.3.5)*\n",
    "\n",
    "![Image 21_3_kahn.png](21_3_kahn.png)\n",
    "\n",
    "Kahn's algorithm can be reformulated as follows:\n",
    "\n",
    "> Create an empty sequence. Compute and store the in-degree of each node.\n",
    "> Put all zero-degree nodes in a collection of nodes to visit.\n",
    "> While the collection isn't empty, remove one node from it,\n",
    "> append the node to the sequence and\n",
    "> decrement the in-degree of the node's out-neighbours.\n",
    "> If an out-neighbour's degree becomes zero,\n",
    "> add that out-neighbour to the nodes to visit.\n",
    "> When the while-loop ends, return the sequence.\n",
    "\n",
    "The collection of nodes to visit can be a set, queue or stack.\n",
    "The latter is the most efficient in terms of memory and run-time."
   ]
  },
  {
   "cell_type": "code",
   "execution_count": 2,
   "id": "7",
   "metadata": {},
   "outputs": [],
   "source": [
    "%run -i ../m269_stack"
   ]
  },
  {
   "cell_type": "code",
   "execution_count": 3,
   "id": "8",
   "metadata": {},
   "outputs": [],
   "source": [
    "# this code is also in m269_digraph.py\n",
    "\n",
    "\n",
    "def topological_sort(graph: DiGraph) -> list:\n",
    "    \"\"\"Return a topological sort of graph.\n",
    "\n",
    "    Preconditions: graph is acyclic\n",
    "    Postconditions:\n",
    "    - the output is a permutation of the graph's nodes\n",
    "    - for every edge A -> B, node A appears before B in the output\n",
    "    \"\"\"\n",
    "    schedule = []\n",
    "\n",
    "    # compute the initial in-degrees\n",
    "    indegree = dict()\n",
    "    for node in graph.nodes():\n",
    "        indegree[node] = 0\n",
    "    for edge in graph.edges():\n",
    "        indegree[edge[1]] = indegree[edge[1]] + 1\n",
    "\n",
    "    # compute the nodes that can be visited first\n",
    "    to_visit = Stack()\n",
    "    for node in graph.nodes():\n",
    "        if indegree[node] == 0:\n",
    "            to_visit.push(node)\n",
    "\n",
    "    while to_visit.size() > 0:\n",
    "        visited = to_visit.pop()\n",
    "        schedule.append(visited)\n",
    "        # simulate the removal of the visited node\n",
    "        for neighbour in graph.neighbours(visited):\n",
    "            indegree[neighbour] = indegree[neighbour] - 1\n",
    "            if indegree[neighbour] == 0:\n",
    "                to_visit.push(neighbour)\n",
    "    return schedule"
   ]
  },
  {
   "cell_type": "code",
   "execution_count": 4,
   "id": "9",
   "metadata": {},
   "outputs": [
    {
     "data": {
      "text/plain": [
       "['A2', 'B2', 'C2']"
      ]
     },
     "execution_count": 4,
     "metadata": {},
     "output_type": "execute_result"
    }
   ],
   "source": [
    "topological_sort(spreadsheet)"
   ]
  },
  {
   "cell_type": "markdown",
   "id": "10",
   "metadata": {},
   "source": [
    "### 21.3.3 Complexity"
   ]
  },
  {
   "cell_type": "markdown",
   "id": "11",
   "metadata": {},
   "source": [
    "The algorithm always goes through the whole graph and adds all nodes to\n",
    "the output sequence, so there's no best- or worst-case scenario.\n",
    "The complexity can be broken down as follows:\n",
    "\n",
    "- Go through the graph to construct the in-degree map: Θ(*n* + *e*).\n",
    "- Do a linear search for the nodes with in-degree zero: Θ(*n*).\n",
    "- Add each node to the `to_visit` set, remove it from the set and\n",
    "  append it to the sequence: Θ(*n*).\n",
    "- For each node, go through its out-neighbours:\n",
    "  Θ(*e*), because visiting all neighbours of all nodes\n",
    "  [goes through all edges](../17_Graphs_1/17_7_traversal.ipynb#17.7.2-Complexity).\n",
    "\n",
    "The complexity is given by the fastest-growing term: Θ(*n* + *e*)."
   ]
  },
  {
   "cell_type": "markdown",
   "id": "12",
   "metadata": {},
   "source": [
    "### 21.3.4 Exercises"
   ]
  },
  {
   "cell_type": "markdown",
   "id": "13",
   "metadata": {},
   "source": [
    "The following exercises show a different application of Kahn's algorithm and\n",
    "ask you to consider the efficiency of alternative algorithms."
   ]
  },
  {
   "cell_type": "markdown",
   "id": "14",
   "metadata": {},
   "source": [
    "#### Exercise 21.3.1"
   ]
  },
  {
   "cell_type": "markdown",
   "id": "15",
   "metadata": {},
   "source": [
    "Alice remembers that the `DiGraph` class has a method to compute the in-degree.\n",
    "She simplifies the `topological_sort` code as follows.\n",
    "(The rest of the function remains the same.)\n",
    "```python\n",
    "    indegree = dict()\n",
    "    to_visit = set()\n",
    "    for node in graph.nodes():\n",
    "        indegree[node] = graph.in_degree(node)\n",
    "        if indegree[node] == 0:\n",
    "            to_visit.add(node)\n",
    "```\n",
    "Is this more efficient than the original, unmodified code?"
   ]
  },
  {
   "cell_type": "markdown",
   "id": "16",
   "metadata": {},
   "source": [
    "_Write your answer here._"
   ]
  },
  {
   "cell_type": "markdown",
   "id": "17",
   "metadata": {},
   "source": [
    "[Hint](../31_Hints/Hints_21_3_01.ipynb)\n",
    "[Answer](../32_Answers/Answers_21_3_01.ipynb)"
   ]
  },
  {
   "cell_type": "markdown",
   "id": "18",
   "metadata": {},
   "source": [
    "#### Exercise 21.3.2"
   ]
  },
  {
   "cell_type": "markdown",
   "id": "19",
   "metadata": {},
   "source": [
    "What happens if we ignore the preconditions of `topological_sort`\n",
    "and provide as input a cyclic digraph?\n",
    "Does the function stop with an error? Does it enter an infinite loop?\n",
    "If neither of those cases happen, what is the output?"
   ]
  },
  {
   "cell_type": "markdown",
   "id": "20",
   "metadata": {},
   "source": [
    "_Write your answer here._"
   ]
  },
  {
   "cell_type": "markdown",
   "id": "21",
   "metadata": {},
   "source": [
    "[Hint](../31_Hints/Hints_21_3_02.ipynb)\n",
    "[Answer](../32_Answers/Answers_21_3_02.ipynb)"
   ]
  },
  {
   "cell_type": "markdown",
   "id": "22",
   "metadata": {},
   "source": [
    "#### Exercise 21.3.3"
   ]
  },
  {
   "cell_type": "markdown",
   "id": "23",
   "metadata": {},
   "source": [
    "1. Based on the previous exercise, write and test a function that\n",
    "   checks if a digraph is cyclic."
   ]
  },
  {
   "cell_type": "code",
   "execution_count": 5,
   "id": "24",
   "metadata": {},
   "outputs": [],
   "source": [
    "from algoesup import test\n",
    "\n",
    "\n",
    "def is_cyclic(graph: DiGraph) -> bool:\n",
    "    \"\"\"Return True if and only if the graph has a cycle.\"\"\"\n",
    "    pass\n",
    "\n",
    "\n",
    "digraph = DiGraph()  # from Section 21.2.1\n",
    "for node in \"ABCDEF\":\n",
    "    digraph.add_node(node)\n",
    "for edge in (\"AB\", \"BC\", \"CA\", \"DE\"):  # cycle A -> B -> C -> A\n",
    "    digraph.add_edge(edge[0], edge[1])\n",
    "\n",
    "is_cyclic_tests = [\n",
    "    # case,         graph,          is cyclic?\n",
    "    ('has cycle',   digraph,        True),\n",
    "    ('no cycle',    spreadsheet,    False)\n",
    "]\n",
    "\n",
    "test(is_cyclic, is_cyclic_tests)"
   ]
  },
  {
   "cell_type": "markdown",
   "id": "25",
   "metadata": {},
   "source": [
    "2. What's the worst-case scenario for your algorithm to decide\n",
    "   whether a digraph is cyclic? What's the worst-case complexity?"
   ]
  },
  {
   "cell_type": "markdown",
   "id": "26",
   "metadata": {},
   "source": [
    "_Write your answer here._"
   ]
  },
  {
   "cell_type": "markdown",
   "id": "27",
   "metadata": {},
   "source": [
    "[Hint](../31_Hints/Hints_21_3_03.ipynb)\n",
    "[Answer](../32_Answers/Answers_21_3_03.ipynb)"
   ]
  },
  {
   "cell_type": "markdown",
   "id": "28",
   "metadata": {},
   "source": [
    "#### Exercise 21.3.4"
   ]
  },
  {
   "cell_type": "markdown",
   "id": "29",
   "metadata": {},
   "source": [
    "Looking at the tests above, Bob realises a digraph is cyclic\n",
    "if and only if it has a strongly connected component with two or more nodes.\n",
    "He adapts the algorithm for computing the\n",
    "[strongly connected components](../21_Graphs_2/21_2_di_components.ipynb#21.2.2-Algorithm-and-complexity) as follows:\n",
    "\n",
    "> When computing the intersection of the *forward* and *backward* sets of nodes,\n",
    "> check if the intersection's size is larger than 1.\n",
    "> If so, immediately return true: the digraph is cyclic.\n",
    "> Otherwise continue the algorithm as normal.\n",
    "> Return false after the loop goes through all nodes:\n",
    "> the digraph is acyclic because each component has one node only.\n",
    "\n",
    "1. Explain why a cyclic digraph has a strongly connected component with\n",
    "   more than one node.\n",
    "2. What's the worst-case complexity of Bob's algorithm?\n",
    "   Is it worth using his algorithm instead of Kahn's to check for cycles?"
   ]
  },
  {
   "cell_type": "markdown",
   "id": "30",
   "metadata": {},
   "source": [
    "_Write your answer here._"
   ]
  },
  {
   "cell_type": "markdown",
   "id": "31",
   "metadata": {},
   "source": [
    "[Hint](../31_Hints/Hints_21_3_04.ipynb)\n",
    "[Answer](../32_Answers/Answers_21_3_04.ipynb)"
   ]
  },
  {
   "cell_type": "markdown",
   "id": "32",
   "metadata": {},
   "source": [
    "⟵ [Previous section](21_2_di_components.ipynb) | [Up](21-introduction.ipynb) | [Next section](21_4_states.ipynb) ⟶"
   ]
  }
 ],
 "metadata": {
  "kernelspec": {
   "display_name": "Python 3",
   "language": "python",
   "name": "python3"
  },
  "language_info": {
   "codemirror_mode": {
    "name": "ipython",
    "version": 3
   },
   "file_extension": ".py",
   "mimetype": "text/x-python",
   "name": "python",
   "nbconvert_exporter": "python",
   "pygments_lexer": "ipython3",
   "version": "3.12.10"
  }
 },
 "nbformat": 4,
 "nbformat_minor": 5
}
