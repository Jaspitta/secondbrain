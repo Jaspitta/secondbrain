{
 "cells": [
  {
   "cell_type": "markdown",
   "id": "0",
   "metadata": {},
   "source": [
    "## 21.5 Practice"
   ]
  },
  {
   "cell_type": "markdown",
   "id": "1",
   "metadata": {},
   "source": [
    "This section is for you to practice solving problems by\n",
    "converting the input to a graph and then applying a graph algorithm.\n",
    "I present some guiding questions to help you figure out what kind of graph\n",
    "and what algorithm are needed to solve such problems.\n",
    "\n",
    "I first recap the solution for the rook's moves problem of the previous section,\n",
    "but now following the guiding questions.\n",
    "Then I present a new problem for you to solve, following the same questions."
   ]
  },
  {
   "cell_type": "markdown",
   "id": "2",
   "metadata": {},
   "source": [
    "### 21.5.1 Rook's moves"
   ]
  },
  {
   "cell_type": "markdown",
   "id": "3",
   "metadata": {},
   "source": [
    "The problem asked for the fewest vertical and horizontal rook moves\n",
    "from a start square to an end square, but the distance of each move varies.\n",
    "The output must be –1 if the end square can't be reached.\n",
    "\n",
    "To obtain a solution, I had to find answers to the following questions.\n",
    "\n",
    "- What graph problem is this problem most similar to?\n",
    "\n",
    "The graph problems seen so far are: finding a shortest path, a shortest tour,\n",
    "a minimum spanning tree, all components, a topological sort and\n",
    "determining if a digraph is cyclic.\n",
    "Finding the least number of moves suggests a shortest path problem.\n",
    "\n",
    "- What algorithm and graph are needed to solve that graph problem?\n",
    "\n",
    "The shortest path problem can be solved with a breadth-first search if\n",
    "the graph isn't weighted and with Dijkstra's algorithm if it is,\n",
    "provided no weight is negative. Both algorithms work on directed and undirected\n",
    "graphs, so for this problem thinking about what algorithm is needed\n",
    "has unfortunately not helped restricting the kind of graph.\n",
    "\n",
    "- What graph can be constructed from the input? In particular:\n",
    "    - What do the nodes represent? Are they places, states, tasks, events, ...?\n",
    "    - What do the edges represent? When is there an edge between nodes A and B?\n",
    "    - Are the edges directed? What do the directions represent?\n",
    "    - Are the edges weighted? Do weights represent distance, time, cost, ...?\n",
    "\n",
    "The problem is about something (a rook) moving in a space (a board).\n",
    "This suggests nodes represent places (squares of the board) and edges\n",
    "connect nodes that can be reached from each other.\n",
    "However, each move depends on past moves, e.g. the rook can move to an adjacent\n",
    "square if it's the first move or the previous move was three squares.\n",
    "To know which move the rook can make at any point, we must know its state:\n",
    "the square it's on and how far it can move next.\n",
    "We therefore need a directed state transition graph.\n",
    "The answers to the above questions are as follows.\n",
    "\n",
    "The graph is directed but not weighted. The nodes represent\n",
    "the rook's possible states and the edges the state transitions.\n",
    "The nodes are pairs (*s*, $d$) for each square *s* and distance $d$ = 1, 2, 3.\n",
    "There's an edge (A, $d_A$) ⟶ (B, $d_B$) for each pair of squares A and B that\n",
    "are $d_A$ squares away from each other.\n",
    "If $d_A$ = 3, then $d_B$ = 1, otherwise $d_B$ = $d_A$ + 1.\n",
    "\n",
    "- Which standard graph algorithm can be used to produce the output?\n",
    "  Which modifications, if any, are needed?\n",
    "\n",
    "The graph algorithms seen so far are:\n",
    "BFS, DFS, Dijkstra's, Prim's and Kahn's algorithms.\n",
    "The graph isn't weighted, so we can use BFS to find the shortest path\n",
    "from the *start* square to the *end* square.\n",
    "The rook begins in state (*start*, 1) but it can finish in one of three states:\n",
    "(*end*, 1), (*end*, 2), (*end*, 3).\n",
    "We must modify the BFS algorithm to stop at any of those nodes.\n",
    "We must also modify it so that instead of\n",
    "returning the tree traversed from the start node\n",
    "it returns the length of the path to the target node first reached\n",
    "(or –1 if there's no path).\n",
    "\n",
    "Now that you've seen how this set of questions led me to the solution of\n",
    "the rook's moves problem, here's a problem for you to solve,\n",
    "following the same questions."
   ]
  },
  {
   "cell_type": "markdown",
   "id": "4",
   "metadata": {},
   "source": [
    "### 21.5.2 Islands"
   ]
  },
  {
   "cell_type": "markdown",
   "id": "5",
   "metadata": {},
   "source": [
    "This problem is about counting islands on a satellite image.\n",
    "The image was divided into small squares with the same area, say 10×10 metres.\n",
    "Each square is classified as water if most of its pixels are blue,\n",
    "otherwise as land. The result can be stored as a grid of Booleans but\n",
    "we'll use a more visual representation: letter L for land and space for water.\n",
    "The problem's input is a list of strings of the same length, like this:"
   ]
  },
  {
   "cell_type": "code",
   "execution_count": 1,
   "id": "6",
   "metadata": {},
   "outputs": [],
   "source": [
    "image = [\n",
    "    'LLL L ',\n",
    "    'L L  L',\n",
    "    'L LL L',\n",
    "    ' LLL L'\n",
    "]"
   ]
  },
  {
   "cell_type": "markdown",
   "id": "7",
   "metadata": {},
   "source": [
    "Two land squares belong to the same island if\n",
    "they're vertically or horizontally adjacent.\n",
    "\n",
    "The example has three islands:\n",
    "\n",
    "1. a big island in the west, with 11 land squares surrounding a lake\n",
    "1. a 3-square north–south island in the east\n",
    "1. a single-square island in the north-east.\n",
    "\n",
    "Given such a list of strings, we want to know how many islands there are."
   ]
  },
  {
   "cell_type": "markdown",
   "id": "8",
   "metadata": {},
   "source": [
    "<div class=\"alert alert-info\">\n",
    "<strong>Info:</strong> This is LeetCode problem\n",
    "<a href=\"https://leetcode.com/problems/number-of-islands/\">200</a>\n",
    "with a different input format.\n",
    "</div>"
   ]
  },
  {
   "cell_type": "markdown",
   "id": "9",
   "metadata": {},
   "source": [
    "#### Exercise 21.5.1"
   ]
  },
  {
   "cell_type": "markdown",
   "id": "10",
   "metadata": {},
   "source": [
    "What graph problem is this problem most similar to?"
   ]
  },
  {
   "cell_type": "markdown",
   "id": "11",
   "metadata": {},
   "source": [
    "_Write your answer here._"
   ]
  },
  {
   "cell_type": "markdown",
   "id": "12",
   "metadata": {},
   "source": [
    "[Hint](../31_Hints/Hints_21_5_01.ipynb)\n",
    "[Answer](../32_Answers/Answers_21_5_01.ipynb)"
   ]
  },
  {
   "cell_type": "markdown",
   "id": "13",
   "metadata": {},
   "source": [
    "#### Exercise 21.5.2"
   ]
  },
  {
   "cell_type": "markdown",
   "id": "14",
   "metadata": {},
   "source": [
    "What algorithm and graph are needed to solve that graph problem?"
   ]
  },
  {
   "cell_type": "markdown",
   "id": "15",
   "metadata": {},
   "source": [
    "_Write your answer here._"
   ]
  },
  {
   "cell_type": "markdown",
   "id": "16",
   "metadata": {},
   "source": [
    "[Hint](../31_Hints/Hints_21_5_02.ipynb)\n",
    "[Answer](../32_Answers/Answers_21_5_02.ipynb)"
   ]
  },
  {
   "cell_type": "markdown",
   "id": "17",
   "metadata": {},
   "source": [
    "#### Exercise 21.5.3"
   ]
  },
  {
   "cell_type": "markdown",
   "id": "18",
   "metadata": {},
   "source": [
    "What graph can be constructed from the input? In particular:\n",
    "\n",
    "- What do the nodes represent? Are they places, states, tasks, events, ...?\n",
    "- What do the edges represent? When is there an edge between nodes A and B?\n",
    "- Are the edges directed? What do the directions represent?\n",
    "- Are the edges weighted? Do weights represent distance, time, cost, ...?"
   ]
  },
  {
   "cell_type": "markdown",
   "id": "19",
   "metadata": {},
   "source": [
    "_Write your answer here._"
   ]
  },
  {
   "cell_type": "markdown",
   "id": "20",
   "metadata": {},
   "source": [
    "[Hint](../31_Hints/Hints_21_5_03.ipynb)\n",
    "[Answer](../32_Answers/Answers_21_5_03.ipynb)"
   ]
  },
  {
   "cell_type": "markdown",
   "id": "21",
   "metadata": {},
   "source": [
    "#### Exercise 21.5.4"
   ]
  },
  {
   "cell_type": "markdown",
   "id": "22",
   "metadata": {},
   "source": [
    "Which standard graph algorithm can be used to produce the output?\n",
    "Which modifications, if any, are needed?"
   ]
  },
  {
   "cell_type": "markdown",
   "id": "23",
   "metadata": {},
   "source": [
    "_Write your answer here._"
   ]
  },
  {
   "cell_type": "markdown",
   "id": "24",
   "metadata": {},
   "source": [
    "[Hint](../31_Hints/Hints_21_5_04.ipynb)\n",
    "[Answer](../32_Answers/Answers_21_5_04.ipynb)"
   ]
  },
  {
   "cell_type": "markdown",
   "id": "25",
   "metadata": {},
   "source": [
    "#### Exercise 21.5.5 (optional)"
   ]
  },
  {
   "cell_type": "markdown",
   "id": "26",
   "metadata": {},
   "source": [
    "Implement the outlined solution, i.e. write code that takes a list of\n",
    "equal-length strings of Ls and spaces, and returns the number of islands.\n",
    "The code first constructs the graph you defined in the third exercise and then\n",
    "applies the algorithm you defined in the previous exercise."
   ]
  },
  {
   "cell_type": "markdown",
   "id": "27",
   "metadata": {},
   "source": [
    "⟵ [Previous section](21_4_states.ipynb) | [Up](21-introduction.ipynb) | [Next section](21_6_summary.ipynb) ⟶"
   ]
  }
 ],
 "metadata": {
  "kernelspec": {
   "display_name": "Python 3",
   "language": "python",
   "name": "python3"
  },
  "language_info": {
   "codemirror_mode": {
    "name": "ipython",
    "version": 3
   },
   "file_extension": ".py",
   "mimetype": "text/x-python",
   "name": "python",
   "nbconvert_exporter": "python",
   "pygments_lexer": "ipython3",
   "version": "3.12.10"
  }
 },
 "nbformat": 4,
 "nbformat_minor": 5
}
