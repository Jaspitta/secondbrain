{
 "cells": [
  {
   "cell_type": "markdown",
   "id": "0",
   "metadata": {},
   "source": [
    "## 21.6 Summary"
   ]
  },
  {
   "cell_type": "markdown",
   "id": "1",
   "metadata": {},
   "source": [
    "In this chapter you've seen further practical problems on graphs:\n",
    "\n",
    "- Compute the components of a graph to find the disconnected parts of a network.\n",
    "- Compute a schedule that is compatible with the precedence given by the edges.\n",
    "- Check if a digraph has a cycle.\n",
    "\n",
    "You've also seen that finding a suitable graph representation can make problems\n",
    "easier to solve than designing bespoke algorithms.\n",
    "\n",
    "The chapter introduced the following concepts and algorithms.\n",
    "\n",
    "A **connected component** of an undirected graph is a largest possible subgraph\n",
    "of mutually reachable nodes.\n",
    "These components can be found with repeated traversals of any kind.\n",
    "Each traversal from a node A finds all other nodes in the same component as A.\n",
    "The complexity is linear in the size of the graph: Θ(*n* + *e*).\n",
    "\n",
    "A **weakly connected component** of a digraph is a largest possible subgraph\n",
    "of mutually reachable nodes, if we ignore the direction of edges.\n",
    "These components can be found by computing the connected components of\n",
    "the undirected version of the digraph. The complexity is also Θ(*n* + *e*).\n",
    "\n",
    "A **strongly connected component** of a digraph is a largest possible subgraph\n",
    "of mutually reachable nodes. These components can be found with\n",
    "repeated traversals of the original graph and its reverse.\n",
    "The worst-case complexity is Θ(*n*×(*n*+*e*)).\n",
    "\n",
    "The **reverse graph** of a digraph has the same nodes and edges\n",
    "but with the directions reversed. The reverse graph represents the inverse\n",
    "relation of the original graph, e.g. 'A follows B' becomes 'B is followed by A'.\n",
    "The reverse graph is computed in Θ(*n* + *e*) time.\n",
    "\n",
    "A **topological sort** of a directed acyclic graph (DAG) is\n",
    "a permutation of its nodes so that for every edge A⟶B,\n",
    "node A comes before node B in the permutation.\n",
    "A DAG has one or more topological sorts.\n",
    "Cyclic digraphs have no topological sort.\n",
    "\n",
    "**Kahn's algorithm** computes a topological sort in a greedy fashion.\n",
    "In each iteration it (virtually) removes one node with in-degree zero\n",
    "from the digraph and appends it to an initially empty sequence.\n",
    "The complexity is Θ(*n* + *e*).\n",
    "\n",
    "If the digraph has a cycle, Kahn's algorithm returns a sequence\n",
    "without all the graph's nodes, thus making it easy to detect cycles in digraphs."
   ]
  },
  {
   "cell_type": "markdown",
   "id": "2",
   "metadata": {},
   "source": [
    "⟵ [Previous section](21_5_practice.ipynb) | [Up](21-introduction.ipynb) | [Next section](../22_Backtracking/22-introduction.ipynb) ⟶"
   ]
  }
 ],
 "metadata": {
  "kernelspec": {
   "display_name": "Python 3",
   "language": "python",
   "name": "python3"
  },
  "language_info": {
   "codemirror_mode": {
    "name": "ipython",
    "version": 3
   },
   "file_extension": ".py",
   "mimetype": "text/x-python",
   "name": "python",
   "nbconvert_exporter": "python",
   "pygments_lexer": "ipython3",
   "version": "3.12.10"
  }
 },
 "nbformat": 4,
 "nbformat_minor": 5
}
