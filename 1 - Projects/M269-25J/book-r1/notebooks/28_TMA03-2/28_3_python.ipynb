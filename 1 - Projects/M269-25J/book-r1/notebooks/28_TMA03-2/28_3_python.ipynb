{
 "cells": [
  {
   "cell_type": "markdown",
   "id": "0",
   "metadata": {},
   "source": [
    "## 28.3 Python"
   ]
  },
  {
   "cell_type": "markdown",
   "id": "1",
   "metadata": {},
   "source": [
    "Unless a TMA&nbsp;03 question explicitly states otherwise,\n",
    "your code can only use the types, classes, methods, functions,\n",
    "statements, constants and code templates introduced in this book.\n",
    "Here's a non-comprehensive index of them, in addition to Sections\n",
    "[10.4](../10_TMA01-2/10_4_python.ipynb) and\n",
    "[20.3](../20_TMA02-2/20_3_python.ipynb)."
   ]
  },
  {
   "cell_type": "markdown",
   "id": "2",
   "metadata": {},
   "source": [
    "### 28.3.1 Standard library"
   ]
  },
  {
   "cell_type": "markdown",
   "id": "3",
   "metadata": {},
   "source": [
    "- function `getsource` from module `inspect`\n",
    "  ([27.3.1](../27_Computability/27_3_static_analysis.ipynb#27.3.1-Functions-on-functions))"
   ]
  },
  {
   "cell_type": "markdown",
   "id": "4",
   "metadata": {},
   "source": [
    "### 28.3.2 M269 library"
   ]
  },
  {
   "cell_type": "markdown",
   "id": "5",
   "metadata": {},
   "source": [
    "**Undirected graphs** (file `m269_ungraph.py`):\n",
    "\n",
    "- function `connected_components`\n",
    "  ([21.1.3](../21_Graphs_2/21_1_un_components.ipynb#21.1.3-Code-and-tests))\n",
    "\n",
    "**Directed graphs** (file `m269_digraph.py`):\n",
    "\n",
    "- functions `reverse` and `strongly_connected_components`\n",
    "  ([21.2.3](../21_Graphs_2/21_2_di_components.ipynb#21.2.3-Code-and-tests))\n",
    "- function `topological_sort` ([21.3.2](../21_Graphs_2/21_3_topological.ipynb#21.3.2-Algorithm-and-code))\n",
    "\n",
    "**Turing machines** (file `m269_tm.py`):\n",
    "\n",
    "- functions `check_tm`, `check_tm_tests`, `test_tm` and `run_tm` ([27.1.3](../27_Computability/27_1_turing_machine.ipynb#27.1.3-Implementation))"
   ]
  },
  {
   "cell_type": "markdown",
   "id": "6",
   "metadata": {},
   "source": [
    "⟵ [Previous section](28_2_Turing_machines.ipynb) | [Up](28-introduction.ipynb) | [Next section](28_4_the_end.ipynb) ⟶"
   ]
  }
 ],
 "metadata": {
  "kernelspec": {
   "display_name": "Python 3",
   "language": "python",
   "name": "python3"
  },
  "language_info": {
   "codemirror_mode": {
    "name": "ipython",
    "version": 3
   },
   "file_extension": ".py",
   "mimetype": "text/x-python",
   "name": "python",
   "nbconvert_exporter": "python",
   "pygments_lexer": "ipython3",
   "version": "3.12.10"
  }
 },
 "nbformat": 4,
 "nbformat_minor": 5
}
