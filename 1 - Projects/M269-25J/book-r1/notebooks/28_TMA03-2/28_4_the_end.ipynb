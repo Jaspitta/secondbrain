{
 "cells": [
  {
   "cell_type": "markdown",
   "id": "0",
   "metadata": {},
   "source": [
    "## 28.4 Final words"
   ]
  },
  {
   "cell_type": "markdown",
   "id": "1",
   "metadata": {},
   "source": [
    "I hope you found M269 interesting and useful.\n",
    "No matter what computational problems you will face, it's likely that you can\n",
    "tackle them efficiently with some of the\n",
    "data structures (linked lists, hash tables, trees, graphs, etc.) and\n",
    "techniques (divide-and-conquer, greed, backtracking, dynamic programming)\n",
    "you learned.\n",
    "\n",
    "M269&nbsp;has given you a process that you should continue to apply, even for simple\n",
    "problems that don't require sophisticated data structures or algorithms:\n",
    "define the problem, write tests, design an algorithm,\n",
    "analyse its complexity, implement it if it's efficient enough,\n",
    "test it, and confirm its efficiency with run-time performance measures.\n",
    "Remember that the process is iterative:\n",
    "never be content with your first attempt.\n",
    "\n",
    "Please keep writing elegant, documented, tested, readable code:\n",
    "those who have to maintain your code will thank you.\n",
    "\n",
    "Last but not least, I hope M269 inspired you to learn more about\n",
    "this fascinating field.\n",
    "We haven't covered specialised algorithms and data structures for\n",
    "text, sound and image processing, bioinformatics, databases\n",
    "or whatever domain you're interested in.\n",
    "We also haven't learned about\n",
    "\n",
    "- memory complexity to better assess how efficient a solution is\n",
    "- algorithmic techniques for handling NP-hard problems\n",
    "- algorithm engineering techniques to improve run-time performance\n",
    "- parallel and distributed algorithms\n",
    "\n",
    "and much more, but what you learned in M269&nbsp;should help you\n",
    "start exploring those topics.\n",
    "On behalf of the whole module team,\n",
    "best wishes for your lifelong learning!"
   ]
  },
  {
   "cell_type": "markdown",
   "id": "2",
   "metadata": {},
   "source": [
    "⟵ [Previous section](28_3_python.ipynb) | [Up](28-introduction.ipynb) | [Next section](../31_Hints/31-introduction.ipynb) ⟶"
   ]
  }
 ],
 "metadata": {
  "kernelspec": {
   "display_name": "Python 3",
   "language": "python",
   "name": "python3"
  },
  "language_info": {
   "codemirror_mode": {
    "name": "ipython",
    "version": 3
   },
   "file_extension": ".py",
   "mimetype": "text/x-python",
   "name": "python",
   "nbconvert_exporter": "python",
   "pygments_lexer": "ipython3",
   "version": "3.12.10"
  }
 },
 "nbformat": 4,
 "nbformat_minor": 5
}
