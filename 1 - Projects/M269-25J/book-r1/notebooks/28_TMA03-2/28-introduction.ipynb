{
 "cells": [
  {
   "cell_type": "markdown",
   "id": "0",
   "metadata": {},
   "source": [
    "# 28 TMA 03 part 2"
   ]
  },
  {
   "cell_type": "markdown",
   "id": "1",
   "metadata": {},
   "source": [
    "You have now reached the end of M269. Well done!\n",
    "\n",
    "The remaining time is for you to complete and submit the final TMA,\n",
    "which follows different rules from the previous TMAs: see\n",
    "the ['Assessment' tab](https://learn2.open.ac.uk/course/view.php?id=240036&area=assessment) of the M269 website.\n",
    "\n",
    "This chapter provides some advice that complements\n",
    "the summaries of Chapters\n",
    "[26 (complexity classes)](../26_Complexity_classes/26_6_summary.ipynb) and\n",
    "[27 (computability)](../27_Computability/27_5_summary.ipynb).\n",
    "The guidance in Chapters [5](../05_TMA01-1/05-introduction.ipynb#5-TMA-01-part-1),\n",
    "[10](../10_TMA01-2/10-introduction.ipynb#10-TMA-01-part-2) (in particular about checking your TMA),\n",
    "[15](../15_TMA02-1/15-introduction.ipynb#15-TMA-02-part-1), [20](../20_TMA02-2/20-introduction.ipynb#20-TMA-02-part-2)\n",
    "and [25](../25_TMA03-1/25-introduction.ipynb#25-TMA-03-part-1) still applies.\n",
    "\n",
    "Before starting to work on this chapter, check the M269\n",
    "[news](https://learn2.open.ac.uk/blocks/news/all.php?bi=326014) and [errata](https://learn2.open.ac.uk/mod/url/view.php?id=2554721)."
   ]
  },
  {
   "cell_type": "markdown",
   "id": "2",
   "metadata": {
    "nbsphinx-toctree": {
     "hidden": true,
     "maxdepth": 1,
     "numbered": false
    }
   },
   "source": [
    "1. [Problem classes](28_1_problem_classes.ipynb)\n",
    "1. [Turing machines](28_2_Turing_machines.ipynb)\n",
    "1. [Python](28_3_python.ipynb)\n",
    "1. [Final words](28_4_the_end.ipynb)"
   ]
  },
  {
   "cell_type": "markdown",
   "id": "3",
   "metadata": {},
   "source": [
    "⟵ [Previous chapter](../27_Computability/27-introduction.ipynb) | [Up](../M269.ipynb) | [Next chapter](../31_Hints/31-introduction.ipynb) ⟶"
   ]
  }
 ],
 "metadata": {
  "kernelspec": {
   "display_name": "Python 3",
   "language": "python",
   "name": "python3"
  },
  "language_info": {
   "codemirror_mode": {
    "name": "ipython",
    "version": 3
   },
   "file_extension": ".py",
   "mimetype": "text/x-python",
   "name": "python",
   "nbconvert_exporter": "python",
   "pygments_lexer": "ipython3",
   "version": "3.12.10"
  }
 },
 "nbformat": 4,
 "nbformat_minor": 5
}
