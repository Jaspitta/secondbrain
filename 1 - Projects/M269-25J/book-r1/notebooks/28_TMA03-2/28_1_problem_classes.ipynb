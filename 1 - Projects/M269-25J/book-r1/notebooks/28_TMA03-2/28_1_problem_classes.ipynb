{
 "cells": [
  {
   "cell_type": "markdown",
   "id": "0",
   "metadata": {},
   "source": [
    "## 28.1 Problem classes"
   ]
  },
  {
   "cell_type": "markdown",
   "id": "1",
   "metadata": {},
   "source": [
    "This section summarises how you can prove that a problem *Given*\n",
    "is in a particular class. Some proofs are based on the following facts:\n",
    "\n",
    "If ... | Then *Given* is ...\n",
    ":-|:-\n",
    "*Given* reduces to a computable problem | computable\n",
    "*Given* reduces in polynomial time to a tractable problem | tractable\n",
    "an NP-hard problem reduces in polynomial time to *Given* | NP-hard\n",
    "\n",
    "Note that to determine whether *Given* is computable, we don't care about\n",
    "the complexity of the reduction. A problem is (or isn't) computable if\n",
    "there is (or isn't) *some* algorithm that solves it:\n",
    "the algorithm's complexity is irrelevant.\n",
    "\n",
    "Note also that the reduction goes in one direction when showing that\n",
    "a problem is computable or tractable, and goes in the opposite direction when\n",
    "showing that the problem is NP-hard."
   ]
  },
  {
   "cell_type": "markdown",
   "id": "2",
   "metadata": {},
   "source": [
    "### 28.1.1 Computable"
   ]
  },
  {
   "cell_type": "markdown",
   "id": "3",
   "metadata": {},
   "source": [
    "There are two ways of proving that *Given* is computable. The direct way is:\n",
    "\n",
    "- Provide an algorithm that solves *Given*.\n",
    "\n",
    "What 'provide' means depends on what you're asked for:\n",
    "it may be just an outline or a Python implementation or a Turing machine.\n",
    "Do *not* analyse the complexity of your algorithm\n",
    "(unless you're asked to, of course) because its efficiency is irrelevant.\n",
    "Go for the simplest algorithm you can think of, e.g. a brute-force search.\n",
    "\n",
    "\n",
    "The second, indirect, way uses reduction as an algorithmic technique to\n",
    "provide an algorithm for *Given* (first row of the above table):\n",
    "\n",
    "1. Select a problem *Chosen*: usually it's a more general problem than *Given*.\n",
    "1. Explain why *Chosen* is computable: either provide an algorithm for *Chosen* or point to\n",
    "   such an algorithm in this book, by referring to a section or exercise.\n",
    "1. Show that *Given* reduces to *Chosen* by providing the input/output transformations.\n",
    "\n",
    "Since the efficiency of the algorithm for *Given* is irrelevant,\n",
    "the input/output transformations do *not* have to be polynomial.\n",
    "\n",
    "The second way of proving computability may be simpler than the first way,\n",
    "if the given problem *Given* is similar to or a special case of a problem\n",
    "solved in this book, and the transformations are simple.\n",
    "\n",
    "Unless asked otherwise, you can choose either way of proving computability\n",
    "and you don't need to write algorithms in detail: outlines will do."
   ]
  },
  {
   "cell_type": "markdown",
   "id": "4",
   "metadata": {},
   "source": [
    "### 28.1.2 Tractable"
   ]
  },
  {
   "cell_type": "markdown",
   "id": "5",
   "metadata": {},
   "source": [
    "To prove that *Given* is tractable, you must prove that it's computable\n",
    "by an algorithm with worst-case polynomial complexity.\n",
    "So it's a computability proof with an additional complexity analysis step.\n",
    "The direct way is:\n",
    "\n",
    "1. Provide an algorithm that solves *Given*.\n",
    "1. Analyse the worst-case complexity of the algorithm\n",
    "   to confirm it's polynomial.\n",
    "\n",
    "The confirmation can be as simple as stating, for example,\n",
    "'The worst-case complexity is quadratic and therefore polynomial.'\n",
    "\n",
    "The second, indirect, way follows the second row in the above table:\n",
    "\n",
    "1. Select a problem *Chosen*: usually it's a more general problem than *Given*.\n",
    "1. Explain why *Chosen* is tractable: either provide a polynomial algorithm for *Chosen* or\n",
    "   refer to the section or exercise in this book that has such an algorithm.\n",
    "1. Show that *Given* reduces to *Chosen* by providing the input/output transformations.\n",
    "1. Analyse the worst-case complexities of the transformations,\n",
    "   confirming they are polynomial."
   ]
  },
  {
   "cell_type": "markdown",
   "id": "6",
   "metadata": {},
   "source": [
    "### 28.1.3 Intractable"
   ]
  },
  {
   "cell_type": "markdown",
   "id": "7",
   "metadata": {},
   "source": [
    "To prove that *Given* isn't tractable:\n",
    "\n",
    "- Show that the size of the output is non-polynomial in the size of the input.\n",
    "\n",
    "Typically, intractable problems ask for all (or most of the)\n",
    "subsets or permutations of the input.\n",
    "Even if each subset or permutation could be produced in constant time,\n",
    "producing the whole output would take exponential or factorial time\n",
    "in the worst case."
   ]
  },
  {
   "cell_type": "markdown",
   "id": "8",
   "metadata": {},
   "source": [
    "### 28.1.4 NP-hard"
   ]
  },
  {
   "cell_type": "markdown",
   "id": "9",
   "metadata": {},
   "source": [
    "To prove that *Given* is NP-hard, use the third row of the table:\n",
    "\n",
    "1. Choose an NP-hard problem *Chosen* from\n",
    "   [Section&nbsp;26.6.3](../26_Complexity_classes/26_6_summary.ipynb#26.6.3-Problems).\n",
    "1. Show that *Chosen* reduces to *Given* by providing the input/output transformations.\n",
    "1. Analyse the worst-case complexities of the transformations,\n",
    "   confirming they are polynomial.\n",
    "\n",
    "Steps 1 and 2 are the creative part of the proof: there's no recipe for them.\n",
    "However, here are some general suggestions that might (or might not) work for\n",
    "the problem you're given.\n",
    "\n",
    "If problem *Given* is about ... | Then problem *Chosen* might be ...\n",
    ":-|:-\n",
    "putting items in some order | (decision) TSP or longest path\n",
    "numeric values | subset sum or 0/1 knapsack\n",
    "selecting items that are in a binary relation | maximal independent set\n",
    "satisfying constraints | SAT"
   ]
  },
  {
   "cell_type": "markdown",
   "id": "10",
   "metadata": {},
   "source": [
    "### 28.1.5 NP"
   ]
  },
  {
   "cell_type": "markdown",
   "id": "11",
   "metadata": {},
   "source": [
    "To prove that *Given* (which must be a decision problem) is in NP:\n",
    "\n",
    "1. Define a certificate for each input that leads to a 'yes’ decision.\n",
    "2. Provide the verifier’s algorithm, explaining why it does confirm 'yes’ decisions.\n",
    "3. Analyse the verifier's worst-case complexity, confirming it is polynomial.\n",
    "\n",
    "In step&nbsp;1, you must think of what piece of information would convince you that\n",
    "the input to problem *Given* leads to a true output. Try to rephrase\n",
    "the decision problem as a search problem:\n",
    "'Is there an X that satisfies condition C?' or similar.\n",
    "If the answer is 'yes', then there is such an X, and that's the certificate.\n",
    "\n",
    "For example, the SAT problem asks\n",
    "'Is there an interpretation that makes the input expression true?' and so\n",
    "the certificate is one such interpretation.\n",
    "Another example: the decision TSP asks\n",
    "'Is there a tour of the input graph with total weight *w* or less?' and so\n",
    "the certificate is one such tour.\n",
    "\n",
    "In step&nbsp;2, you must provide an algorithm that checks the certificate against\n",
    "the input to confirm the decision is 'yes'. To know what the verifier must do,\n",
    "it often helps to look at the postconditions of *Given*.\n",
    "\n",
    "For example, the postcondition of SAT is: the output is true if and only if\n",
    "there's an interpretation that makes the Boolean expression true.\n",
    "The interpretation is the certificate and the verifier checks it indeed makes\n",
    "the input expression true.\n",
    "As for the decision TSP, its postcondition is: the output is true if and only if\n",
    "there's a tour of the input graph with total weight equal to or less than\n",
    "the input integer.\n",
    "Hence, the certificate is a tour and the verifier checks its weight is indeed\n",
    "not larger than the given integer."
   ]
  },
  {
   "cell_type": "markdown",
   "id": "12",
   "metadata": {},
   "source": [
    "### 28.1.6 NP-complete"
   ]
  },
  {
   "cell_type": "markdown",
   "id": "13",
   "metadata": {},
   "source": [
    "To prove that *Given* is NP-complete, just follow the definition of NP-completeness:\n",
    "\n",
    "1. Prove that *Given* is in NP.\n",
    "1. Prove that *Given* is NP-hard."
   ]
  },
  {
   "cell_type": "markdown",
   "id": "14",
   "metadata": {},
   "source": [
    "⟵ [Previous section](28-introduction.ipynb) | [Up](28-introduction.ipynb) | [Next section](28_2_Turing_machines.ipynb) ⟶"
   ]
  }
 ],
 "metadata": {
  "kernelspec": {
   "display_name": "Python 3",
   "language": "python",
   "name": "python3"
  },
  "language_info": {
   "codemirror_mode": {
    "name": "ipython",
    "version": 3
   },
   "file_extension": ".py",
   "mimetype": "text/x-python",
   "name": "python",
   "nbconvert_exporter": "python",
   "pygments_lexer": "ipython3",
   "version": "3.12.10"
  }
 },
 "nbformat": 4,
 "nbformat_minor": 5
}
