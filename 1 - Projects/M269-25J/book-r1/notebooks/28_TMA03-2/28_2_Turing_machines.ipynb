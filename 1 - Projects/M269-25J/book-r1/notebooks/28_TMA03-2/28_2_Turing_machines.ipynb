{
 "cells": [
  {
   "cell_type": "markdown",
   "id": "0",
   "metadata": {},
   "source": [
    "## 28.2 Turing machines"
   ]
  },
  {
   "cell_type": "markdown",
   "id": "1",
   "metadata": {},
   "source": [
    "If you're asked to write a Turing machine to solve a problem,\n",
    "I suggest you start working through a simple and short example\n",
    "with pencil and paper, to figure out how the head moves and\n",
    "which symbols have to be written.\n",
    "\n",
    "When you need some extra piece of information to know how to\n",
    "process the current symbol, think whether that information is best conveyed\n",
    "through an additional state or by writing additional symbols on the tape.\n",
    "If you need to mark a position of the tape so that you can later\n",
    "return the head to it, you will likely need a new symbol to mark the position\n",
    "and a new state for when the head is moving towards that position.\n",
    "\n",
    "If your algorithm has various 'phases', then you will likely need at least\n",
    "one state per phase. Examples of phases are:\n",
    "processing the input left to right, writing the output,\n",
    "and returning the head to the start of the output.\n",
    "\n",
    "Read the problem description carefully,\n",
    "especially regarding the expected output.\n",
    "The output is the symbol sequence starting from the head's final position.\n",
    "Returning the head to the original left-most position may be the wrong thing\n",
    "to do for the problem at hand.\n",
    "\n",
    "When writing the transition table as a Python dictionary,\n",
    "you can write the individual transitions in any order,\n",
    "but the two best orders are to either group the transitions by state\n",
    "or to list the transitions in the order they are executed by the algorithm,\n",
    "as illustrated in the [parity bit](../27_Computability/27_1_turing_machine.ipynb#27.1.3-Implementation) example.\n",
    "\n",
    "You may wish to add some comments to your transition table to help your tutor\n",
    "follow your reasoning.\n",
    "\n",
    "If you're asked for an outline or explanation of your algorithm,\n",
    "do *not* simply translate the transition table to English, row by row.\n",
    "Instead, give a high-level view of the algorithm.\n",
    "Explain what each state is for, what is done in each state,\n",
    "and how and where the machine stops."
   ]
  },
  {
   "cell_type": "markdown",
   "id": "2",
   "metadata": {},
   "source": [
    "⟵ [Previous section](28_1_problem_classes.ipynb) | [Up](28-introduction.ipynb) | [Next section](28_3_python.ipynb) ⟶"
   ]
  }
 ],
 "metadata": {
  "kernelspec": {
   "display_name": "Python 3",
   "language": "python",
   "name": "python3"
  },
  "language_info": {
   "codemirror_mode": {
    "name": "ipython",
    "version": 3
   },
   "file_extension": ".py",
   "mimetype": "text/x-python",
   "name": "python",
   "nbconvert_exporter": "python",
   "pygments_lexer": "ipython3",
   "version": "3.12.10"
  }
 },
 "nbformat": 4,
 "nbformat_minor": 5
}
