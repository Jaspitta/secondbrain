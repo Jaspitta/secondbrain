{
 "cells": [
  {
   "cell_type": "markdown",
   "id": "0",
   "metadata": {},
   "source": [
    "## 9.2 Election"
   ]
  },
  {
   "cell_type": "markdown",
   "id": "1",
   "metadata": {},
   "source": [
    "Given a list of votes, each vote being the name of a candidate,\n",
    "which candidate won the election?\n",
    "The votes are in the order they were cast.\n",
    "If two or more candidates are tied, a second round is needed."
   ]
  },
  {
   "cell_type": "code",
   "execution_count": 1,
   "id": "2",
   "metadata": {},
   "outputs": [],
   "source": [
    "from algoesup import test\n",
    "\n",
    "\n",
    "def winner(votes: list) -> str:\n",
    "    \"\"\"Return the most frequent string in votes, a list of strings.\n",
    "\n",
    "    Preconditions:\n",
    "    - votes isn't empty and doesn't have the string 'round 2'\n",
    "    Postconditions:\n",
    "    - return 'round 2' if two or more strings are equally frequent\n",
    "    \"\"\"\n",
    "    pass\n",
    "\n",
    "\n",
    "winner_tests = [\n",
    "    # case,         votes,                              name\n",
    "    ['2 of 2 tied', ['Alice', 'Bob', 'Bob', 'Alice'],   'round 2'],\n",
    "    ['1 of 2 wins', ['Alice', 'Bob', 'Alice', 'Alice'], 'Alice'  ],\n",
    "    ['1 of 3 wins', ['Bob', 'Chan', 'Chan', 'Alice'],   'Chan'   ],\n",
    "    # new tests:\n",
    "]\n",
    "\n",
    "test(winner, winner_tests)"
   ]
  },
  {
   "cell_type": "markdown",
   "id": "3",
   "metadata": {},
   "source": [
    "### 9.2.1 Problem definition"
   ]
  },
  {
   "cell_type": "markdown",
   "id": "4",
   "metadata": {},
   "source": [
    "#### Exercise 9.2.1"
   ]
  },
  {
   "cell_type": "markdown",
   "id": "5",
   "metadata": {},
   "source": [
    "Which further problem instances should be tested?\n",
    "\n",
    "Case | *votes* | *name*\n",
    ":-|:-|:-\n",
    "  |   |\n",
    "\n",
    "\n",
    "[Hint](../31_Hints/Hints_09_2_01.ipynb)\n",
    "[Answer](../32_Answers/Answers_09_2_01.ipynb)"
   ]
  },
  {
   "cell_type": "markdown",
   "id": "6",
   "metadata": {},
   "source": [
    "### 9.2.2 Algorithm and complexity"
   ]
  },
  {
   "cell_type": "markdown",
   "id": "7",
   "metadata": {},
   "source": [
    "#### Exercise 9.2.2"
   ]
  },
  {
   "cell_type": "markdown",
   "id": "8",
   "metadata": {},
   "source": [
    "Outline an algorithm and its ADT(s) to solve this problem."
   ]
  },
  {
   "cell_type": "markdown",
   "id": "9",
   "metadata": {},
   "source": [
    "_Write your answer here._"
   ]
  },
  {
   "cell_type": "markdown",
   "id": "10",
   "metadata": {},
   "source": [
    "[Hint](../31_Hints/Hints_09_2_02.ipynb)\n",
    "[Answer](../32_Answers/Answers_09_2_02.ipynb)"
   ]
  },
  {
   "cell_type": "markdown",
   "id": "11",
   "metadata": {},
   "source": [
    "#### Exercise 9.2.3"
   ]
  },
  {
   "cell_type": "markdown",
   "id": "12",
   "metadata": {},
   "source": [
    "What is the worst-case complexity of your algorithm?"
   ]
  },
  {
   "cell_type": "markdown",
   "id": "13",
   "metadata": {},
   "source": [
    "_Write your answer here._"
   ]
  },
  {
   "cell_type": "markdown",
   "id": "14",
   "metadata": {},
   "source": [
    "[Hint](../31_Hints/Hints_09_2_03.ipynb)\n",
    "[Answer](../32_Answers/Answers_09_2_03.ipynb)"
   ]
  },
  {
   "cell_type": "markdown",
   "id": "15",
   "metadata": {},
   "source": [
    "#### Exercise 9.2.4"
   ]
  },
  {
   "cell_type": "markdown",
   "id": "16",
   "metadata": {},
   "source": [
    "Consider the following outline of an algorithm:\n",
    "\n",
    "> Go through the votes once, to count them for each candidate.\n",
    "> Sort the candidate–vote pairs in decreasing order of their votes.\n",
    "> If there's only one candidate, that's the winner.\n",
    "> Otherwise, check if the first two candidates are tied.\n",
    "\n",
    "Is it more efficient than yours?"
   ]
  },
  {
   "cell_type": "markdown",
   "id": "17",
   "metadata": {},
   "source": [
    "_Write your answer here._"
   ]
  },
  {
   "cell_type": "markdown",
   "id": "18",
   "metadata": {},
   "source": [
    "[Hint](../31_Hints/Hints_09_2_04.ipynb)\n",
    "[Answer](../32_Answers/Answers_09_2_04.ipynb)"
   ]
  },
  {
   "cell_type": "markdown",
   "id": "19",
   "metadata": {},
   "source": [
    "### 9.2.3 Code and tests"
   ]
  },
  {
   "cell_type": "markdown",
   "id": "20",
   "metadata": {},
   "source": [
    "#### Exercise 9.2.5"
   ]
  },
  {
   "cell_type": "markdown",
   "id": "21",
   "metadata": {},
   "source": [
    "Implement and test your approach.\n",
    "Add tests according to your answer to the first exercise.\n",
    "\n",
    "[Hint](../31_Hints/Hints_09_2_05.ipynb)\n",
    "[Answer](../32_Answers/Answers_09_2_05.ipynb)"
   ]
  },
  {
   "cell_type": "markdown",
   "id": "22",
   "metadata": {},
   "source": [
    "⟵ [Previous section](09_1_pangram.ipynb) | [Up](09-introduction.ipynb) | [Next section](09_3_voucher.ipynb) ⟶"
   ]
  }
 ],
 "metadata": {
  "kernelspec": {
   "display_name": "Python 3",
   "language": "python",
   "name": "python3"
  },
  "language_info": {
   "codemirror_mode": {
    "name": "ipython",
    "version": 3
   },
   "file_extension": ".py",
   "mimetype": "text/x-python",
   "name": "python",
   "nbconvert_exporter": "python",
   "pygments_lexer": "ipython3",
   "version": "3.12.10"
  }
 },
 "nbformat": 4,
 "nbformat_minor": 5
}
