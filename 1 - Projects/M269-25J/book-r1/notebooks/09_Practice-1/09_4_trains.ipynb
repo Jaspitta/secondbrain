{
 "cells": [
  {
   "cell_type": "markdown",
   "id": "0",
   "metadata": {},
   "source": [
    "## 9.4 Trains"
   ]
  },
  {
   "cell_type": "markdown",
   "id": "1",
   "metadata": {},
   "source": [
    "Consider a track layout in the shape of the letter Y.\n",
    "\n",
    "<p id=\"fig-9.4.1\"></p>\n",
    "\n",
    "*[Figure 9.4.1](../33_Figures/Figures_09_4.ipynb#Figure-9.4.1)*\n",
    "\n",
    "![Image 09_4_track.png](09_4_track.png)\n",
    "\n",
    "A train formed of wagons numbered 1, 2, 3, ..., *n* comes from the east\n",
    "into the station and needs to leave it to the west with the wagons\n",
    "in a possibly different order.\n",
    "Each wagon can be detached from the others and\n",
    "the station has capacity for all *n* wagons.\n",
    "Once a wagon is in the station, it can't be moved back to the east.\n",
    "Once a wagon is in the west track, it can't be moved back to the station.\n",
    "\n",
    "The example in the figure is a train with 3 wagons that must leave in the order\n",
    "1, 3, 2. The following operations achieve that order:\n",
    "\n",
    "- move wagon 1 from the east into the station and out to the west\n",
    "- move wagon 2 into the station\n",
    "- move wagon 3 into the station and out\n",
    "- move wagon 2 out of the station.\n",
    "\n",
    "The station master wants to know, given the number of wagons and their\n",
    "outgoing order, if it's possible to achieve that order."
   ]
  },
  {
   "cell_type": "code",
   "execution_count": 1,
   "id": "2",
   "metadata": {},
   "outputs": [],
   "source": [
    "from algoesup import test\n",
    "\n",
    "\n",
    "def rearrange(wagons: int, outgoing: list) -> bool:\n",
    "    \"\"\"Check if the incoming train can be rearranged into outgoing.\n",
    "\n",
    "    Preconditions:\n",
    "    - wagons > 0\n",
    "    - outgoing is a permutation of the numbers from 1 to wagons\n",
    "    \"\"\"\n",
    "    pass\n",
    "\n",
    "\n",
    "rearrange_tests = [\n",
    "    # case,             wagons, outgoing,       rearrange?\n",
    "    ['keep order',      3,      [1, 2, 3],          True],\n",
    "    ['invert',          3,      [3, 2, 1],          True],\n",
    "    ['swap',            3,      [1, 3, 2],          True],\n",
    "    ['move to front',   5,      [5, 1, 2, 3, 4],    False],\n",
    "    # new tests:\n",
    "]\n",
    "\n",
    "test(rearrange, rearrange_tests)"
   ]
  },
  {
   "cell_type": "markdown",
   "id": "3",
   "metadata": {},
   "source": [
    "### 9.4.1 Problem definition"
   ]
  },
  {
   "cell_type": "markdown",
   "id": "4",
   "metadata": {},
   "source": [
    "#### Exercise 9.4.1"
   ]
  },
  {
   "cell_type": "markdown",
   "id": "5",
   "metadata": {},
   "source": [
    "What kind of problem is this?"
   ]
  },
  {
   "cell_type": "markdown",
   "id": "6",
   "metadata": {},
   "source": [
    "_Write your answer here._"
   ]
  },
  {
   "cell_type": "markdown",
   "id": "7",
   "metadata": {},
   "source": [
    "[Answer](../32_Answers/Answers_09_4_01.ipynb)"
   ]
  },
  {
   "cell_type": "markdown",
   "id": "8",
   "metadata": {},
   "source": [
    "#### Exercise 9.4.2"
   ]
  },
  {
   "cell_type": "markdown",
   "id": "9",
   "metadata": {},
   "source": [
    "Which further problem instances should be tested?\n",
    "\n",
    "Case | *wagons* | *outgoing* | rearrange?\n",
    ":-|:-|:-|:-\n",
    "  |   |\n",
    "\n",
    "[Answer](../32_Answers/Answers_09_4_02.ipynb)"
   ]
  },
  {
   "cell_type": "markdown",
   "id": "10",
   "metadata": {},
   "source": [
    "### 9.4.2 Algorithm and complexity"
   ]
  },
  {
   "cell_type": "markdown",
   "id": "11",
   "metadata": {},
   "source": [
    "#### Exercise 9.4.3"
   ]
  },
  {
   "cell_type": "markdown",
   "id": "12",
   "metadata": {},
   "source": [
    "Outline an algorithm and its ADT(s) to solve this problem."
   ]
  },
  {
   "cell_type": "markdown",
   "id": "13",
   "metadata": {},
   "source": [
    "_Write your answer here._"
   ]
  },
  {
   "cell_type": "markdown",
   "id": "14",
   "metadata": {},
   "source": [
    "[Hint](../31_Hints/Hints_09_4_03.ipynb)\n",
    "[Answer](../32_Answers/Answers_09_4_03.ipynb)"
   ]
  },
  {
   "cell_type": "markdown",
   "id": "15",
   "metadata": {},
   "source": [
    "#### Exercise 9.4.4"
   ]
  },
  {
   "cell_type": "markdown",
   "id": "16",
   "metadata": {},
   "source": [
    "What is the worst-case complexity of your algorithm?"
   ]
  },
  {
   "cell_type": "markdown",
   "id": "17",
   "metadata": {},
   "source": [
    "_Write your answer here._"
   ]
  },
  {
   "cell_type": "markdown",
   "id": "18",
   "metadata": {},
   "source": [
    "[Hint](../31_Hints/Hints_09_4_04.ipynb)\n",
    "[Answer](../32_Answers/Answers_09_4_04.ipynb)"
   ]
  },
  {
   "cell_type": "markdown",
   "id": "19",
   "metadata": {},
   "source": [
    "### 9.4.3 Code and tests"
   ]
  },
  {
   "cell_type": "markdown",
   "id": "20",
   "metadata": {},
   "source": [
    "#### Exercise 9.4.5"
   ]
  },
  {
   "cell_type": "markdown",
   "id": "21",
   "metadata": {},
   "source": [
    "Implement and test your approach.\n",
    "Add tests according to your answer to the second exercise.\n",
    "\n",
    "[Hint](../31_Hints/Hints_09_4_05.ipynb)\n",
    "[Answer](../32_Answers/Answers_09_4_05.ipynb)"
   ]
  },
  {
   "cell_type": "markdown",
   "id": "22",
   "metadata": {},
   "source": [
    "⟵ [Previous section](09_3_voucher.ipynb) | [Up](09-introduction.ipynb) | [Next section](09_5_sms.ipynb) ⟶"
   ]
  }
 ],
 "metadata": {
  "kernelspec": {
   "display_name": "Python 3",
   "language": "python",
   "name": "python3"
  },
  "language_info": {
   "codemirror_mode": {
    "name": "ipython",
    "version": 3
   },
   "file_extension": ".py",
   "mimetype": "text/x-python",
   "name": "python",
   "nbconvert_exporter": "python",
   "pygments_lexer": "ipython3",
   "version": "3.12.10"
  }
 },
 "nbformat": 4,
 "nbformat_minor": 5
}
