{
 "cells": [
  {
   "cell_type": "markdown",
   "id": "0",
   "metadata": {},
   "source": [
    "## 9.3 Voucher"
   ]
  },
  {
   "cell_type": "markdown",
   "id": "1",
   "metadata": {},
   "source": [
    "Given a list of products in a store and their prices,\n",
    "we want to know all product pairs that can be bought by spending\n",
    "exactly a certain amount."
   ]
  },
  {
   "cell_type": "code",
   "execution_count": 1,
   "id": "2",
   "metadata": {},
   "outputs": [],
   "source": [
    "from algoesup import test\n",
    "\n",
    "\n",
    "def pairs(store: list, voucher: int) -> set:\n",
    "    \"\"\"Return all pairs of products that together cost voucher.\n",
    "\n",
    "    A product is represented by a string–integer tuple:\n",
    "    the product's name and its positive price.\n",
    "    Store is a list of products.\n",
    "    The output is a set of product pairs (tuples).\n",
    "\n",
    "    Preconditions: voucher > 0\n",
    "\n",
    "    Postconditions: for each (p1, p2) in the output,\n",
    "    - p1 and p2 occur in store\n",
    "    - p1 doesn't occur after p2 in store\n",
    "    - the price of p1 + the price of p2 == voucher\n",
    "    \"\"\"\n",
    "    results = set()\n",
    "    pass\n",
    "    return results\n",
    "\n",
    "\n",
    "F1 = (\"food\", 1)\n",
    "F2 = (\"food\", 2)\n",
    "F5 = (\"food\", 5)\n",
    "F6 = (\"food\", 6)\n",
    "T5 = (\"toy\", 5)\n",
    "\n",
    "pairs_tests = [\n",
    "    # case,         store,          voucher, results\n",
    "    ('0 products',  [],             5,       set()),\n",
    "    ('1 product',   [F5],           5,       set()),\n",
    "    ('no pair',     [F1,F5,F2,F6],  9,       set()),\n",
    "    ('1 pair',      [F1,F5,F2,F6],  3,       {(F1,F2)}),\n",
    "    ('2 pairs',     [F1,F5,F2,F6],  7,       {(F1,F6), (F5, F2)}),\n",
    "    ('same price',  [F1,F5,F2,T5],  10,      {(F5,F5), (F5,T5), (T5,T5)})\n",
    "]\n",
    "\n",
    "test(pairs, pairs_tests)"
   ]
  },
  {
   "cell_type": "markdown",
   "id": "3",
   "metadata": {},
   "source": [
    "### 9.3.1 Algorithm and complexity"
   ]
  },
  {
   "cell_type": "markdown",
   "id": "4",
   "metadata": {},
   "source": [
    "#### Exercise 9.3.1"
   ]
  },
  {
   "cell_type": "markdown",
   "id": "5",
   "metadata": {},
   "source": [
    "Outline an algorithm and its ADT(s) to solve this problem\n",
    "in Θ(│*store*│) time in the best case."
   ]
  },
  {
   "cell_type": "markdown",
   "id": "6",
   "metadata": {},
   "source": [
    "_Write your answer here._"
   ]
  },
  {
   "cell_type": "markdown",
   "id": "7",
   "metadata": {},
   "source": [
    "[Hint](../31_Hints/Hints_09_3_01.ipynb)\n",
    "[Answer](../32_Answers/Answers_09_3_01.ipynb)"
   ]
  },
  {
   "cell_type": "markdown",
   "id": "8",
   "metadata": {},
   "source": [
    "#### Exercise 9.3.2"
   ]
  },
  {
   "cell_type": "markdown",
   "id": "9",
   "metadata": {},
   "source": [
    "Explain why your algorithm has the desired best-case complexity."
   ]
  },
  {
   "cell_type": "markdown",
   "id": "10",
   "metadata": {},
   "source": [
    "_Write your answer here._"
   ]
  },
  {
   "cell_type": "markdown",
   "id": "11",
   "metadata": {},
   "source": [
    "[Hint](../31_Hints/Hints_09_3_02.ipynb)\n",
    "[Answer](../32_Answers/Answers_09_3_02.ipynb)"
   ]
  },
  {
   "cell_type": "markdown",
   "id": "12",
   "metadata": {},
   "source": [
    "#### Exercise 9.3.3"
   ]
  },
  {
   "cell_type": "markdown",
   "id": "13",
   "metadata": {},
   "source": [
    "What's the worst-case complexity of your algorithm?"
   ]
  },
  {
   "cell_type": "markdown",
   "id": "14",
   "metadata": {},
   "source": [
    "_Write your answer here._"
   ]
  },
  {
   "cell_type": "markdown",
   "id": "15",
   "metadata": {},
   "source": [
    "[Hint](../31_Hints/Hints_09_3_03.ipynb)\n",
    "[Answer](../32_Answers/Answers_09_3_03.ipynb)"
   ]
  },
  {
   "cell_type": "markdown",
   "id": "16",
   "metadata": {},
   "source": [
    "### 9.3.2 Code and tests"
   ]
  },
  {
   "cell_type": "markdown",
   "id": "17",
   "metadata": {},
   "source": [
    "#### Exercise 9.3.4"
   ]
  },
  {
   "cell_type": "markdown",
   "id": "18",
   "metadata": {},
   "source": [
    "What's the best way of implementing the ADT used?\n",
    "\n",
    "[Hint](../31_Hints/Hints_09_3_04.ipynb)\n",
    "[Answer](../32_Answers/Answers_09_3_04.ipynb)"
   ]
  },
  {
   "cell_type": "markdown",
   "id": "19",
   "metadata": {},
   "source": [
    "#### Exercise 9.3.5"
   ]
  },
  {
   "cell_type": "markdown",
   "id": "20",
   "metadata": {},
   "source": [
    "Implement and test your approach. You don't need to add tests.\n",
    "\n",
    "[Answer](../32_Answers/Answers_09_3_05.ipynb)"
   ]
  },
  {
   "cell_type": "markdown",
   "id": "21",
   "metadata": {},
   "source": [
    "⟵ [Previous section](09_2_election.ipynb) | [Up](09-introduction.ipynb) | [Next section](09_4_trains.ipynb) ⟶"
   ]
  }
 ],
 "metadata": {
  "kernelspec": {
   "display_name": "Python 3",
   "language": "python",
   "name": "python3"
  },
  "language_info": {
   "codemirror_mode": {
    "name": "ipython",
    "version": 3
   },
   "file_extension": ".py",
   "mimetype": "text/x-python",
   "name": "python",
   "nbconvert_exporter": "python",
   "pygments_lexer": "ipython3",
   "version": "3.12.10"
  }
 },
 "nbformat": 4,
 "nbformat_minor": 5
}
