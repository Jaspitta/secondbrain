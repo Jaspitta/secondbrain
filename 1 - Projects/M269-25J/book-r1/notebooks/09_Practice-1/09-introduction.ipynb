{
 "cells": [
  {
   "cell_type": "markdown",
   "id": "0",
   "metadata": {},
   "source": [
    "# 9 Practice 1"
   ]
  },
  {
   "cell_type": "markdown",
   "id": "1",
   "metadata": {},
   "source": [
    "This chapter introduces no new concepts:\n",
    "it only provides problems to practise for the TMA.\n",
    "In previous exercises, you knew in advance which data type to use;\n",
    "the main aim of this chapter is to practise choosing appropriate types,\n",
    "and using a combination of types when necessary.\n",
    "You should skim the advice in the [next chapter](../10_TMA01-2/10-introduction.ipynb#10-TMA-01-part-2)\n",
    "before attempting the problems.\n",
    "\n",
    "The problems are in increasing difficulty order, but that's only my opinion:\n",
    "your mileage may vary. I recommend you first read through all the problems to\n",
    "decide which to attempt and in what order.\n",
    "I suggest you do one each of the easier (Pangram and Election),\n",
    "medium (Voucher and Trains) and harder (Browsing and SMS) problems.\n",
    "If you still have time left, attempt the remaining problems.\n",
    "Attempt all non-optional exercises before attempting any of the optional ones.\n",
    "Don't worry if you don't finish all the problems:\n",
    "your priority is to complete and submit your first TMA next week.\n",
    "\n",
    "Every problem in this chapter can be solved in various ways: the solutions I\n",
    "present aren't exhaustive. If you find a different approach, I encourage you to\n",
    "post it in the forums. Please provide spoiler alerts for your fellow\n",
    "students who haven't solved the problem yet.\n",
    "\n",
    "Note that my answers are often more verbose than expected in a TMA as\n",
    "they also include alternatives, notes and the thinking process.\n",
    "\n",
    "You can freely discuss the problems with your tutor, in tutorials and on the\n",
    "forums. If you have a study buddy, you may wish to think independently about a\n",
    "problem, discuss it together, implement different or similar\n",
    "solutions separately, and finally review each other's code.\n",
    "Working together has several advantages:\n",
    "you may come up with solutions you wouldn't have thought of if working alone;\n",
    "you practise explaining algorithms to other people;\n",
    "you get an extra pair of eyes to look at your code and suggest improvements.\n",
    "\n",
    "This chapter's problems support the following learning outcomes.\n",
    "\n",
    "- Develop and apply algorithms and data structures to solve computational problems – you will apply several of the ADTs and techniques you learned.\n",
    "- Explain how an algorithm or data structure works, in order to communicate with relevant stakeholders – you will be asked to outline your approach, rather than implement it.\n",
    "- Analyse the complexity of algorithms to support software design choices – you will have to suggest or evaluate alternative approaches.\n",
    "- Write readable, tested, documented and efficient Python code – you will have to add tests and use Python data types and operations.\n",
    "\n",
    "Before starting to work on this chapter, check the M269\n",
    "[news](https://learn2.open.ac.uk/blocks/news/all.php?bi=326014) and [errata](https://learn2.open.ac.uk/mod/url/view.php?id=2554721),\n",
    "and check the TMAs for what is assessed."
   ]
  },
  {
   "cell_type": "markdown",
   "id": "2",
   "metadata": {
    "nbsphinx-toctree": {
     "hidden": true,
     "maxdepth": 1,
     "numbered": false
    }
   },
   "source": [
    "1. [Pangram](09_1_pangram.ipynb)\n",
    "1. [Election](09_2_election.ipynb)\n",
    "1. [Voucher](09_3_voucher.ipynb)\n",
    "1. [Trains](09_4_trains.ipynb)\n",
    "1. [SMS](09_5_sms.ipynb)"
   ]
  },
  {
   "cell_type": "markdown",
   "id": "3",
   "metadata": {},
   "source": [
    "⟵ [Previous chapter](../08_Unordered/08-introduction.ipynb) | [Up](../M269.ipynb) | [Next chapter](../10_TMA01-2/10-introduction.ipynb) ⟶"
   ]
  }
 ],
 "metadata": {
  "kernelspec": {
   "display_name": "Python 3",
   "language": "python",
   "name": "python3"
  },
  "language_info": {
   "codemirror_mode": {
    "name": "ipython",
    "version": 3
   },
   "file_extension": ".py",
   "mimetype": "text/x-python",
   "name": "python",
   "nbconvert_exporter": "python",
   "pygments_lexer": "ipython3",
   "version": "3.12.10"
  }
 },
 "nbformat": 4,
 "nbformat_minor": 5
}
