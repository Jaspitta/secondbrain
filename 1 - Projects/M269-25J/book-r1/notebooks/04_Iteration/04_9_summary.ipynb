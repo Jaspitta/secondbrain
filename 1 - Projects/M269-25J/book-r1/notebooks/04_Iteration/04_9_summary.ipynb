{
 "cells": [
  {
   "cell_type": "markdown",
   "id": "0",
   "metadata": {},
   "source": [
    "## 4.9 Summary"
   ]
  },
  {
   "cell_type": "markdown",
   "id": "1",
   "metadata": {},
   "source": [
    "A **sequence** is an ordered collection of zero or more **items**, also called\n",
    "the sequence's **members** or **elements**.\n",
    "The empty sequence has no members.\n",
    "A sequence is **sorted** if it is ordered by ascending or descending value.\n",
    "This requires all items to be **pairwise comparable**.\n",
    "If a sequence can't be modified, it's **immutable**; otherwise, it's **mutable**.\n",
    "If two sequences have the same items, but possibly in a different order,\n",
    "then each sequence is a **permutation** of the other.\n",
    "**Strings** are sequences of characters.\n",
    "\n",
    "Python's `str`, `range`, `tuple` and `list` types implement immutable strings,\n",
    "immutable sequences of integers, immutable sequences and mutable sequences,\n",
    "respectively.\n",
    "Tuples and lists can contain items of any type, in particular\n",
    "other tuples or lists. This can be used to represent tables."
   ]
  },
  {
   "cell_type": "markdown",
   "id": "2",
   "metadata": {},
   "source": [
    "### 4.9.1 Sequence operations"
   ]
  },
  {
   "cell_type": "markdown",
   "id": "3",
   "metadata": {},
   "source": [
    "The following tables list the operations supported by the sequence ADT\n",
    "and Python's data types, and their assumed complexities in M269.\n",
    "If two complexities are listed, they're the best- and worst-case complexities.\n",
    "\n",
    "In the following, *s*, *s1*, ... are sequences and *i*, *i1*, ... are integers.\n",
    "\n",
    "Operation | English/maths | Python | Complexity\n",
    ":-|:-|:-|:-\n",
    "length | │*s*│ | `len(s)` | Θ(1)\n",
    "membership | *item* in *s* or *item*&nbsp;$\\in$&nbsp;*s*| `item in s` | Θ(1), Θ(│*s*│)\n",
    "minimum, maximum  | min(*s*) max(*s*)  | `min(s)` `max(s)` | Θ(│*s*│)\n",
    "comparisons | *s1* = *s2*, *s1* < *s2*, etc. | `s1 == s2`, etc. | Θ(1), Θ(min(│*s1*│,&nbsp;│*s2*│))\n",
    "concatenation | *s1* + *s2* | `s1 + s2` | Θ(│*s1*│ + │*s2*│)\n",
    "repeated concatenation | *s* × *i* or *i* × *s* | `s * i` | Θ(│*s*│ × *i*)\n",
    "indexing | $s_i$ or *s*[*i*] | `s[i]` | Θ(1)\n",
    "slicing | *s*[*i1*:*i2*] | `s[i1:i2]` | Θ(*i2* - *i1*)\n",
    "sorting | *s* in ascending order | `sorted(s)` | Θ(│*s*│), Θ(│*s*│²)\n",
    "&nbsp;  | *s* in descending order | `sorted(s, reverse=True)` | Θ(│*s*│), Θ(│*s*│²)\n",
    "\n",
    "The indexing operation obtains the item at the given index.\n",
    "The first (left-most) item is at index zero.\n",
    "\n",
    "The slice *s*[*i1*:*i2*] is the sequence from *s*[*i1*] to *s*[*i2*-1].\n",
    "In Python, either index can be omitted:\n",
    "`s[:i]` is the same as `s[0:i]` and `s[i:]` is the same as `s[i:len(s)]`.\n",
    "\n",
    "If sequences *s1*, *s2* and *s* satisfy *s1* + *s2* = *s*, then\n",
    "*s1* is a **prefix** of *s* and *s2* is a **suffix** of *s*.\n",
    "If sequences *s1*, *s2*, *s3* and *s* satisfy *s1* + *s2* + *s3* = *s*,\n",
    "then *s2* is a **substring** of *s*.\n",
    "\n",
    "The following operations apply to mutable sequences only.\n",
    "\n",
    "Operation | English | Python | Complexity\n",
    "-|-|-|-\n",
    "replace item  | let *s*[*i*] be *new* | `s[i] = new` | Θ(1)\n",
    "remove item | remove *s*[*i*] | `s.pop(i)` | Θ(│*s*│ - *i*)\n",
    "insert item | insert *new* at *i* in *s* | `s.insert(i, new)` | Θ(│*s*│ - *i*)\n",
    "append item | append *new* to *s* | `s.append(new)` | Θ(1)\n",
    "sort sequence | put *s* in ascending order | `s.sort()`  | Θ(│*s*│²)\n",
    "&nbsp; | put *s* in descending order | `s.sort(reverse=True)` | Θ(│*s*│²)\n",
    "\n",
    "Sequence *s1* is a **subsequence** of *s* if *s1* can be obtained from *s* by\n",
    "deleting zero or more, not necessarily consecutive, items."
   ]
  },
  {
   "cell_type": "markdown",
   "id": "4",
   "metadata": {},
   "source": [
    "### 4.9.2 IPython"
   ]
  },
  {
   "cell_type": "markdown",
   "id": "5",
   "metadata": {},
   "source": [
    "The IPython command `%run -i filename` runs the code in file `filename.py`,\n",
    "which must be in the same folder as the notebook.\n",
    "If the file is in a different folder, write `%run -i path/filename`.\n",
    "We will use this to load auxiliary files with repeatedly used code.\n",
    "Don't modify the `m269_...py` files in folder `notebooks`."
   ]
  },
  {
   "cell_type": "markdown",
   "id": "6",
   "metadata": {},
   "source": [
    "### 4.9.3 Python"
   ]
  },
  {
   "cell_type": "markdown",
   "id": "7",
   "metadata": {},
   "source": [
    "The `from m import f` statement imports function `f` from module `m`.\n",
    "This allows subsequent code to refer directly to `f`, rather than using `m.f`.\n",
    "\n",
    "A **constant** is a variable that keeps its initial value.\n",
    "Names of constants are written in uppercase.\n",
    "\n",
    "A **constructor** is a function with the same name as a type.\n",
    "It creates values of that type.\n",
    "\n",
    "Trying to apply an operation to the wrong type of values leads to a type error.\n",
    "Trying to access an item outside the range of indices leads to an index error.\n",
    "Python supports negative indices, which access items from right to left:\n",
    "the last (right-most) item is at index -1.\n",
    "\n",
    "If a function body ends without executing a return statement, then\n",
    "the return value is `None`, a keyword that represents 'nothing'.\n",
    "The only operations on `None` are the equality and inequality comparisons.\n",
    "\n",
    "A **method** is a function that is only known in the context of a data type.\n",
    "It is called using **dot notation**: `expression.method(arguments)`.\n",
    "To consult the documentation of a method, use dot notation: `help(type.method)`."
   ]
  },
  {
   "cell_type": "markdown",
   "id": "8",
   "metadata": {},
   "source": [
    "#### Strings"
   ]
  },
  {
   "cell_type": "markdown",
   "id": "9",
   "metadata": {},
   "source": [
    "A string literal starts and ends with the same kind of quote marks,\n",
    "either single quote (`'`), double quote (`\"`) or three quotes (`'''` or `\"\"\"`).\n",
    "The enclosing quotes are not part of the string, and they cannot occur in the\n",
    "string, e.g. a string enclosed in single quotes must not contain single quotes.\n",
    "Strings spanning multiple lines must be enclosed in three quotes.\n",
    "\n",
    "The `str` constructor produces a string representation of\n",
    "Booleans, numbers, lists and tuples.\n",
    "The `int` constructor converts a string to an integer.\n",
    "\n",
    "In Python, `s1 in s2` checks if `s1` is a substring of `s2`.\n",
    "This corresponds to the membership operation if `s1` is a single character."
   ]
  },
  {
   "cell_type": "markdown",
   "id": "10",
   "metadata": {},
   "source": [
    "#### Ranges"
   ]
  },
  {
   "cell_type": "markdown",
   "id": "11",
   "metadata": {},
   "source": [
    "The data type `range` represents an immutable sequence of integers.\n",
    "The expression `range(start, end, step)` is the sequence\n",
    "`start`, `start+step`, ..., until `end-1`."
   ]
  },
  {
   "cell_type": "markdown",
   "id": "12",
   "metadata": {},
   "source": [
    "#### Lists"
   ]
  },
  {
   "cell_type": "markdown",
   "id": "13",
   "metadata": {},
   "source": [
    "A list literal is enclosed by square brackets, with items separated by commas.\n",
    "The `list` constructor converts any sequence type to a list."
   ]
  },
  {
   "cell_type": "markdown",
   "id": "14",
   "metadata": {},
   "source": [
    "#### Tuples"
   ]
  },
  {
   "cell_type": "markdown",
   "id": "15",
   "metadata": {},
   "source": [
    "Tuple literals are enclosed in parentheses, with items separated by commas.\n",
    "A tuple of length one is written `(item,)`."
   ]
  },
  {
   "cell_type": "markdown",
   "id": "16",
   "metadata": {},
   "source": [
    "#### Iteration"
   ]
  },
  {
   "cell_type": "markdown",
   "id": "17",
   "metadata": {},
   "source": [
    "English | Python\n",
    ":-|:-\n",
    "for each *i* from *i1* to *i2*:  |  `for i in range(i1, i2+1):`\n",
    "for each *i* from *i1* down to *i2*:  |  `for i in range(i1, i2-1, -1):`\n",
    "for each *item* in *sequence*:  |  `for item in sequence:`\n",
    "while *condition*:  | `while condition:`\n",
    "repeat *n* times:  |  `for times in range(n):`\n",
    "\n",
    "A repeat-until loop like\n",
    "\n",
    "1. repeat:\n",
    "   1. do something\n",
    "2. until *condition*\n",
    "\n",
    "is translated to\n",
    "```python\n",
    "stop = False\n",
    "while not stop:\n",
    "    # do something\n",
    "    stop = condition\n",
    "```\n",
    "Both `for` and `while` are keywords.\n",
    "\n",
    "A for-loop and 'repeat *n* times' should be used when\n",
    "the number of iterations is known before entering the loop;\n",
    "a while-loop or repeat-until loop should be used when\n",
    "the algorithm must decide each iteration whether to continue or stop,\n",
    "respectively.\n",
    "A while-loop may execute zero or more times;\n",
    "a repeat-until loop is executed one or more times.\n",
    "\n",
    "The following are equivalent ways of going through the items in a sequence.\n",
    "```python\n",
    "index = 0\n",
    "while index < len(sequence):\n",
    "    item = sequence[index]\n",
    "    # process item\n",
    "    index = index + 1\n",
    "```\n",
    "```python\n",
    "for index in range(len(sequence)):\n",
    "    item = sequence[index]\n",
    "    # process item\n",
    "```\n",
    "```python\n",
    "for item in sequence:\n",
    "    # process item\n",
    "```\n",
    "A nested loop is a loop within another, e.g. to go through all cells of a table."
   ]
  },
  {
   "cell_type": "markdown",
   "id": "18",
   "metadata": {},
   "source": [
    "### 4.9.4 Problems"
   ]
  },
  {
   "cell_type": "markdown",
   "id": "19",
   "metadata": {},
   "source": [
    "A **search problem** requires finding one or more items in a sequence that satisfy\n",
    "one or more conditions.\n",
    "A **linear search** checks every item of the sequence one by one.\n",
    "A **global condition**, that has to be satisfied by the whole sequence, can be\n",
    "represented by a **Boolean flag** that's set when the condition is satisfied.\n",
    "\n",
    "To define an operation that modifies some of its inputs, use this template:\n",
    "\n",
    "**Operation**: name\\\n",
    "**Inputs/Outputs**: variables that are modified\\\n",
    "**Inputs**: inputs that aren't modified\\\n",
    "**Preconditions**: conditions on the inputs and inputs/outputs\\\n",
    "**Output**: output that isn't an input\\\n",
    "**Postconditions**: conditions relating the inputs to the outputs\n",
    "\n",
    "In the postconditions, pre-*x* is the value of input/output variable *x*\n",
    "before the operation and post-*x* is its value after the operation.\n",
    "\n",
    "An **in-place algorithm** works directly on the input/output sequence,\n",
    "without using an additional sequence.\n",
    "\n",
    "The object ADT consists of all values of all other ADTs and\n",
    "two operations: equality and inequality."
   ]
  },
  {
   "cell_type": "markdown",
   "id": "20",
   "metadata": {},
   "source": [
    "### 4.9.5 Testing"
   ]
  },
  {
   "cell_type": "markdown",
   "id": "21",
   "metadata": {},
   "source": [
    "In M269, we write, check and run test tables in Python as follows:\n",
    "```python\n",
    "from algoesup import check_tests, test\n",
    "\n",
    "problem_name_tests = [\n",
    "    # case,     input1,     input2,     ..., output\n",
    "    (\"test 1\",  value1_1,   value2_1,   ..., output_1),\n",
    "    (\"test 2\",  value1_2,   value2_2,   ..., output_2),\n",
    "    ...\n",
    "]\n",
    "\n",
    "check_tests(problem_name_tests, [input1_type, input2_type, ..., output_type])\n",
    "\n",
    "def function_name(input1: input1_type, input2: input2_type, ...) -> output_type:\n",
    "    ...\n",
    "\n",
    "test(function_name, problem_name_tests)\n",
    "```\n"
   ]
  },
  {
   "cell_type": "markdown",
   "id": "22",
   "metadata": {},
   "source": [
    "### 4.9.6 Complexity"
   ]
  },
  {
   "cell_type": "markdown",
   "id": "23",
   "metadata": {},
   "source": [
    "A best- or worst-case scenario is a group of problem instances of varying sizes\n",
    "for which the operation takes the least (respectively, most) time to execute.\n",
    "\n",
    "A **quadratic-time algorithm** has complexity Θ(*n*²),\n",
    "where *n* is an integer expression, e.g. the length of the input sequence.\n",
    "The algorithm's run-time quadruples when the input doubles."
   ]
  },
  {
   "cell_type": "markdown",
   "id": "24",
   "metadata": {},
   "source": [
    "⟵ [Previous section](04_8_practice.ipynb) | [Up](04-introduction.ipynb) | [Next section](../05_TMA01-1/05-introduction.ipynb) ⟶"
   ]
  }
 ],
 "metadata": {
  "kernelspec": {
   "display_name": "Python 3",
   "language": "python",
   "name": "python3"
  },
  "language_info": {
   "codemirror_mode": {
    "name": "ipython",
    "version": 3
   },
   "file_extension": ".py",
   "mimetype": "text/x-python",
   "name": "python",
   "nbconvert_exporter": "python",
   "pygments_lexer": "ipython3",
   "version": "3.12.10"
  }
 },
 "nbformat": 4,
 "nbformat_minor": 5
}
