{
 "cells": [
  {
   "cell_type": "markdown",
   "id": "0",
   "metadata": {},
   "source": [
    "## 4.5 Tuples and tables"
   ]
  },
  {
   "cell_type": "markdown",
   "id": "1",
   "metadata": {},
   "source": [
    "In Python, a tuple is an immutable sequence of items,\n",
    "which can be of any type, including other tuples.\n",
    "This allows for nested tuples, which we can use to represent tabular data."
   ]
  },
  {
   "cell_type": "markdown",
   "id": "2",
   "metadata": {},
   "source": [
    "### 4.5.1 Literals and operations"
   ]
  },
  {
   "cell_type": "markdown",
   "id": "3",
   "metadata": {},
   "source": [
    "Tuples are written within parentheses, with items separated by commas.\n",
    "For example `()` is the empty tuple and `(1, (2, 3), True)` is a\n",
    "tuple with three items: an integer, a tuple with two integers and a Boolean.\n",
    "\n",
    "Python's `tuple` data type supports the same operations as `str`,\n",
    "with the same notation, so a few brief examples suffice."
   ]
  },
  {
   "cell_type": "code",
   "execution_count": 1,
   "id": "4",
   "metadata": {},
   "outputs": [
    {
     "data": {
      "text/plain": [
       "3"
      ]
     },
     "execution_count": 1,
     "metadata": {},
     "output_type": "execute_result"
    }
   ],
   "source": [
    "len((1, (2, 3), True))"
   ]
  },
  {
   "cell_type": "code",
   "execution_count": 2,
   "id": "5",
   "metadata": {},
   "outputs": [
    {
     "data": {
      "text/plain": [
       "(2, 3)"
      ]
     },
     "execution_count": 2,
     "metadata": {},
     "output_type": "execute_result"
    }
   ],
   "source": [
    "(1, (2, 3), True)[1]  # indexing: 2nd item is a pair of integers"
   ]
  },
  {
   "cell_type": "code",
   "execution_count": 3,
   "id": "6",
   "metadata": {},
   "outputs": [
    {
     "data": {
      "text/plain": [
       "True"
      ]
     },
     "execution_count": 3,
     "metadata": {},
     "output_type": "execute_result"
    }
   ],
   "source": [
    "(1, 2, 3) < (1, 4, 3)  # comparison: item by item"
   ]
  },
  {
   "cell_type": "code",
   "execution_count": 4,
   "id": "7",
   "metadata": {},
   "outputs": [
    {
     "data": {
      "text/plain": [
       "((2, 3), True)"
      ]
     },
     "execution_count": 4,
     "metadata": {},
     "output_type": "execute_result"
    }
   ],
   "source": [
    "(1, (2, 3), True)[1:3]  # slicing: 2nd to 3rd items"
   ]
  },
  {
   "cell_type": "code",
   "execution_count": 5,
   "id": "8",
   "metadata": {},
   "outputs": [
    {
     "data": {
      "text/plain": [
       "-2"
      ]
     },
     "execution_count": 5,
     "metadata": {},
     "output_type": "execute_result"
    }
   ],
   "source": [
    "min((3, 4, -2, 7, 9))  # extra parentheses for the tuple"
   ]
  },
  {
   "cell_type": "markdown",
   "id": "9",
   "metadata": {},
   "source": [
    "For tuples, the `in` operator checks for membership,\n",
    "not for a substring like with strings."
   ]
  },
  {
   "cell_type": "code",
   "execution_count": 6,
   "id": "10",
   "metadata": {},
   "outputs": [
    {
     "data": {
      "text/plain": [
       "True"
      ]
     },
     "execution_count": 6,
     "metadata": {},
     "output_type": "execute_result"
    }
   ],
   "source": [
    "2 in (1, 2, 3)  # (1, 2, 3) does have member 2"
   ]
  },
  {
   "cell_type": "code",
   "execution_count": 7,
   "id": "11",
   "metadata": {},
   "outputs": [
    {
     "data": {
      "text/plain": [
       "False"
      ]
     },
     "execution_count": 7,
     "metadata": {},
     "output_type": "execute_result"
    }
   ],
   "source": [
    "(1, 2) in (1, 2, 3)  # (1, 2, 3) doesn't have member (1, 2)"
   ]
  },
  {
   "cell_type": "code",
   "execution_count": 8,
   "id": "12",
   "metadata": {},
   "outputs": [
    {
     "data": {
      "text/plain": [
       "True"
      ]
     },
     "execution_count": 8,
     "metadata": {},
     "output_type": "execute_result"
    }
   ],
   "source": [
    "(1, 2) in ((1, 2), 3)  # ((1, 2), 3) does have member (1, 2)"
   ]
  },
  {
   "cell_type": "markdown",
   "id": "13",
   "metadata": {},
   "source": [
    "The `tuple` constructor creates a tuple from another sequence."
   ]
  },
  {
   "cell_type": "code",
   "execution_count": 9,
   "id": "14",
   "metadata": {},
   "outputs": [
    {
     "data": {
      "text/plain": [
       "('h', 'e', 'l', 'l', 'o')"
      ]
     },
     "execution_count": 9,
     "metadata": {},
     "output_type": "execute_result"
    }
   ],
   "source": [
    "tuple(\"hello\")"
   ]
  },
  {
   "cell_type": "code",
   "execution_count": 10,
   "id": "15",
   "metadata": {},
   "outputs": [
    {
     "data": {
      "text/plain": [
       "(1, 2, 3)"
      ]
     },
     "execution_count": 10,
     "metadata": {},
     "output_type": "execute_result"
    }
   ],
   "source": [
    "tuple(range(1, 4))"
   ]
  },
  {
   "cell_type": "markdown",
   "id": "16",
   "metadata": {},
   "source": [
    "As tuples are sequences, we can directly iterate over them:"
   ]
  },
  {
   "cell_type": "code",
   "execution_count": 11,
   "id": "17",
   "metadata": {},
   "outputs": [
    {
     "name": "stdout",
     "output_type": "stream",
     "text": [
      "1\n",
      "(2, 3)\n",
      "True\n"
     ]
    }
   ],
   "source": [
    "for item in (1, (2, 3), True):\n",
    "    print(item)"
   ]
  },
  {
   "cell_type": "markdown",
   "id": "18",
   "metadata": {},
   "source": [
    "### 4.5.2 Mistakes"
   ]
  },
  {
   "cell_type": "markdown",
   "id": "19",
   "metadata": {},
   "source": [
    "Forgetting a comma between items, or forgetting an item between two commas,\n",
    "usually leads to a syntax error. However, consider this example:"
   ]
  },
  {
   "cell_type": "code",
   "execution_count": 12,
   "id": "20",
   "metadata": {},
   "outputs": [
    {
     "name": "stderr",
     "output_type": "stream",
     "text": [
      "<>:1: SyntaxWarning: 'int' object is not callable; perhaps you missed a comma?\n",
      "<>:1: SyntaxWarning: 'int' object is not callable; perhaps you missed a comma?\n",
      "/var/folders/b2/13mhcbxn2b3fsdkb4d9lh32jc84fk1/T/ipykernel_71728/3144750586.py:1: SyntaxWarning: 'int' object is not callable; perhaps you missed a comma?\n",
      "  (1(2, 3), True)\n"
     ]
    },
    {
     "ename": "TypeError",
     "evalue": "'int' object is not callable",
     "output_type": "error",
     "traceback": [
      "\u001b[0;31m---------------------------------------------------------------------------\u001b[0m",
      "\u001b[0;31mTypeError\u001b[0m                                 Traceback (most recent call last)",
      "Cell \u001b[0;32mIn[12], line 1\u001b[0m\n\u001b[0;32m----> 1\u001b[0m (\u001b[38;5;241;43m1\u001b[39;49m\u001b[43m(\u001b[49m\u001b[38;5;241;43m2\u001b[39;49m\u001b[43m,\u001b[49m\u001b[43m \u001b[49m\u001b[38;5;241;43m3\u001b[39;49m\u001b[43m)\u001b[49m, \u001b[38;5;28;01mTrue\u001b[39;00m)\n",
      "\u001b[0;31mTypeError\u001b[0m: 'int' object is not callable"
     ]
    }
   ],
   "source": [
    "(1(2, 3), True)"
   ]
  },
  {
   "cell_type": "markdown",
   "id": "21",
   "metadata": {},
   "source": [
    "This strange type error is due to the missing comma after the first item.\n",
    "The interpreter thinks that `1` is meant to be a function\n",
    "with arguments `(2, 3)` and duly reports that we can't call an integer,\n",
    "only functions.\n",
    "\n",
    "The error messages of most programming language interpreters are sometimes\n",
    "baffling. They can misguide us in finding the error's source.\n",
    "I've been making errors on purpose to show various 'diseases' (errors) and their corresponding 'symptoms' (messages). I recommend you do the same."
   ]
  },
  {
   "cell_type": "markdown",
   "id": "22",
   "metadata": {},
   "source": [
    "<div class=\"alert alert-warning\">\n",
    "<strong>Note:</strong> When learning a programming language, make deliberate mistakes in your code to\n",
    "associate error messages with their causes.\n",
    "</div>"
   ]
  },
  {
   "cell_type": "markdown",
   "id": "23",
   "metadata": {},
   "source": [
    "A single item within parentheses is a normal expression\n",
    "with redundant parentheses, not a tuple with a single item.\n",
    "To let the interpreter know we mean a tuple, we must add a comma."
   ]
  },
  {
   "cell_type": "code",
   "execution_count": 13,
   "id": "24",
   "metadata": {},
   "outputs": [
    {
     "data": {
      "text/plain": [
       "7"
      ]
     },
     "execution_count": 13,
     "metadata": {},
     "output_type": "execute_result"
    }
   ],
   "source": [
    "(3) + (4)  # arithmetic expression with redundant parentheses"
   ]
  },
  {
   "cell_type": "code",
   "execution_count": 14,
   "id": "25",
   "metadata": {},
   "outputs": [
    {
     "data": {
      "text/plain": [
       "(3, 4)"
      ]
     },
     "execution_count": 14,
     "metadata": {},
     "output_type": "execute_result"
    }
   ],
   "source": [
    "(3,) + (4,)  # concatenation of tuples of length 1"
   ]
  },
  {
   "cell_type": "markdown",
   "id": "26",
   "metadata": {},
   "source": [
    "Applying the `tuple` constructor to a Boolean or number results in a type error,\n",
    "because it can only be applied to sequences."
   ]
  },
  {
   "cell_type": "code",
   "execution_count": 15,
   "id": "27",
   "metadata": {},
   "outputs": [
    {
     "ename": "TypeError",
     "evalue": "'bool' object is not iterable",
     "output_type": "error",
     "traceback": [
      "\u001b[0;31m---------------------------------------------------------------------------\u001b[0m",
      "\u001b[0;31mTypeError\u001b[0m                                 Traceback (most recent call last)",
      "Cell \u001b[0;32mIn[15], line 1\u001b[0m\n\u001b[0;32m----> 1\u001b[0m \u001b[38;5;28;43mtuple\u001b[39;49m\u001b[43m(\u001b[49m\u001b[38;5;28;43;01mTrue\u001b[39;49;00m\u001b[43m)\u001b[49m\n",
      "\u001b[0;31mTypeError\u001b[0m: 'bool' object is not iterable"
     ]
    }
   ],
   "source": [
    "tuple(True)"
   ]
  },
  {
   "cell_type": "markdown",
   "id": "28",
   "metadata": {},
   "source": [
    "The error message states that Boolean values can't be iterated over and so\n",
    "it's not possible to create a tuple."
   ]
  },
  {
   "cell_type": "markdown",
   "id": "29",
   "metadata": {},
   "source": [
    "### 4.5.3 Tables"
   ]
  },
  {
   "cell_type": "markdown",
   "id": "30",
   "metadata": {},
   "source": [
    "Data is often arranged in tabular form. We can use tuples to represent tables.\n",
    "A table is a sequence of rows, each row being a sequence of cells.\n",
    "Here's a small selection of board games I enjoy, with one game per row."
   ]
  },
  {
   "cell_type": "code",
   "execution_count": 16,
   "id": "31",
   "metadata": {},
   "outputs": [],
   "source": [
    "games_by_row = (  # each item is a row\n",
    "    (\"Board game\", \"Rating\", \"Owned\"),  # header row\n",
    "    (\"Power Grid\", 10, True),  # first data row\n",
    "    (\"Vintage\", 8, True),\n",
    "    (\"Pandemic\", 9, False),\n",
    ")"
   ]
  },
  {
   "cell_type": "markdown",
   "id": "32",
   "metadata": {},
   "source": [
    "The header row is a tuple of strings;\n",
    "the other rows are tuples of strings, integers and Booleans.\n",
    "\n",
    "I formatted the tuples like tables, with right-aligned values,\n",
    "to better show the structure of the nested tuples. But you don't have to:\n",
    "the interpreter doesn't care about spacing around tuple items."
   ]
  },
  {
   "cell_type": "code",
   "execution_count": 17,
   "id": "33",
   "metadata": {},
   "outputs": [
    {
     "data": {
      "text/plain": [
       "(('Board game', 'Rating', 'Owned'),\n",
       " ('Power Grid', 10, True),\n",
       " ('Vintage', 8, True),\n",
       " ('Pandemic', 9, False))"
      ]
     },
     "execution_count": 17,
     "metadata": {},
     "output_type": "execute_result"
    }
   ],
   "source": [
    "games_by_row"
   ]
  },
  {
   "cell_type": "markdown",
   "id": "34",
   "metadata": {},
   "source": [
    "To access a single cell's value, we must first index the row and\n",
    "then the column within that row.\n",
    "Let's suppose we want to check whether I own Power Grid."
   ]
  },
  {
   "cell_type": "code",
   "execution_count": 18,
   "id": "35",
   "metadata": {},
   "outputs": [
    {
     "data": {
      "text/plain": [
       "True"
      ]
     },
     "execution_count": 18,
     "metadata": {},
     "output_type": "execute_result"
    }
   ],
   "source": [
    "row_index = 1  # Power Grid is in the 2nd row\n",
    "column_index = 2  # ownership is in the 3rd column\n",
    "row = games_by_row[row_index]\n",
    "cell = row[column_index]\n",
    "cell"
   ]
  },
  {
   "cell_type": "markdown",
   "id": "36",
   "metadata": {},
   "source": [
    "The first indexing operation selects a row of the table;\n",
    "the second indexing operation selects a cell of that row.\n",
    "The following line is equivalent to the above step-by-step process."
   ]
  },
  {
   "cell_type": "code",
   "execution_count": 19,
   "id": "37",
   "metadata": {},
   "outputs": [
    {
     "data": {
      "text/plain": [
       "True"
      ]
     },
     "execution_count": 19,
     "metadata": {},
     "output_type": "execute_result"
    }
   ],
   "source": [
    "games_by_row[1][2]  # 2nd row, 3rd column"
   ]
  },
  {
   "cell_type": "markdown",
   "id": "38",
   "metadata": {},
   "source": [
    "Indexing is left-associative:\n",
    "each operation takes the result produced by the previous operation.\n",
    "The next example shows that the order of indices matters."
   ]
  },
  {
   "cell_type": "code",
   "execution_count": 20,
   "id": "39",
   "metadata": {},
   "outputs": [
    {
     "data": {
      "text/plain": [
       "8"
      ]
     },
     "execution_count": 20,
     "metadata": {},
     "output_type": "execute_result"
    }
   ],
   "source": [
    "games_by_row[2][1]  # 3rd row (Vintage), 2nd column (Rating)"
   ]
  },
  {
   "cell_type": "markdown",
   "id": "40",
   "metadata": {},
   "source": [
    "The first index always selects a row; the second index always selects a column.\n",
    "\n",
    "The header row is at index zero, so each game is at its 'natural' index:\n",
    "the first game is at index&nbsp;1, the second game is at index&nbsp;2, etc.\n",
    "However, it's easy to get confused about which index corresponds to which column\n",
    "for wide tables. Giving them memorable names helps."
   ]
  },
  {
   "cell_type": "code",
   "execution_count": 21,
   "id": "41",
   "metadata": {},
   "outputs": [],
   "source": [
    "GAME = 0\n",
    "RATING = 1\n",
    "OWNED = 2"
   ]
  },
  {
   "cell_type": "code",
   "execution_count": 22,
   "id": "42",
   "metadata": {},
   "outputs": [
    {
     "data": {
      "text/plain": [
       "True"
      ]
     },
     "execution_count": 22,
     "metadata": {},
     "output_type": "execute_result"
    }
   ],
   "source": [
    "games_by_row[1][OWNED]"
   ]
  },
  {
   "cell_type": "code",
   "execution_count": 23,
   "id": "43",
   "metadata": {},
   "outputs": [
    {
     "data": {
      "text/plain": [
       "8"
      ]
     },
     "execution_count": 23,
     "metadata": {},
     "output_type": "execute_result"
    }
   ],
   "source": [
    "games_by_row[2][RATING]"
   ]
  },
  {
   "cell_type": "markdown",
   "id": "44",
   "metadata": {},
   "source": [
    "I can hear you exclaim 'Variable names should be in lowercase!'\n",
    "The convention in Python is that if a variable name is all in uppercase,\n",
    "then the value should not be further changed:\n",
    "the variable should be treated like a **constant**.\n",
    "Other programming languages have proper constants,\n",
    "i.e. a second assignment to the constant raises an error,\n",
    "but Python has constants by convention."
   ]
  },
  {
   "cell_type": "markdown",
   "id": "45",
   "metadata": {},
   "source": [
    "#### Exercise 4.5.1"
   ]
  },
  {
   "cell_type": "markdown",
   "id": "46",
   "metadata": {},
   "source": [
    "We can organise the data differently, with one game per column."
   ]
  },
  {
   "cell_type": "code",
   "execution_count": 24,
   "id": "47",
   "metadata": {},
   "outputs": [],
   "source": [
    "games_by_column = (  # each item is a column\n",
    "    (\"Board game\", \"Power Grid\", \"Vintage\", \"Pandemic\"),\n",
    "    (\"Rating\", 10, 8, 9),\n",
    "    (\"Owned\", True, True, False),\n",
    ")"
   ]
  },
  {
   "cell_type": "markdown",
   "id": "48",
   "metadata": {},
   "source": [
    "Write an expression that indexes this table to retrieve my rating for Pandemic.\n",
    "Use constants. The expression should evaluate to `9`."
   ]
  },
  {
   "cell_type": "code",
   "execution_count": 25,
   "id": "49",
   "metadata": {},
   "outputs": [],
   "source": [
    "# replace with your expression"
   ]
  },
  {
   "cell_type": "markdown",
   "id": "50",
   "metadata": {},
   "source": [
    "[Hint](../31_Hints/Hints_04_5_01.ipynb)\n",
    "[Answer](../32_Answers/Answers_04_5_01.ipynb)"
   ]
  },
  {
   "cell_type": "markdown",
   "id": "51",
   "metadata": {},
   "source": [
    "### 4.5.4 Iterating"
   ]
  },
  {
   "cell_type": "markdown",
   "id": "52",
   "metadata": {},
   "source": [
    "Tabular data is processed with iterative algorithms that\n",
    "go through one or more rows or columns, depending on the problem.\n",
    "For example, the following algorithm computes the mean rating of the games."
   ]
  },
  {
   "cell_type": "markdown",
   "id": "53",
   "metadata": {},
   "source": [
    "<div class=\"alert alert-info\">\n",
    "<strong>Info:</strong> MU123 Unit&nbsp;4 Section&nbsp;3.2 and\n",
    "TM112 Block&nbsp;2 Section&nbsp;2.4.2 introduce the mean and how to compute it.\n",
    "</div>"
   ]
  },
  {
   "cell_type": "code",
   "execution_count": 26,
   "id": "54",
   "metadata": {},
   "outputs": [
    {
     "name": "stdout",
     "output_type": "stream",
     "text": [
      "9.0\n"
     ]
    }
   ],
   "source": [
    "total = 0\n",
    "count = 0\n",
    "for row in range(1, len(games_by_row)):  # skip header row\n",
    "    count = count + 1\n",
    "    total = total + games_by_row[row][RATING]\n",
    "print(total / count)"
   ]
  },
  {
   "cell_type": "markdown",
   "id": "55",
   "metadata": {},
   "source": [
    "This algorithm works for any number of games in the table,\n",
    "as long as there's at least one, to avoid division by zero.\n",
    "\n",
    "A slightly simpler and faster algorithm computes the number of games\n",
    "instead of counting them one by one."
   ]
  },
  {
   "cell_type": "code",
   "execution_count": 27,
   "id": "56",
   "metadata": {},
   "outputs": [
    {
     "name": "stdout",
     "output_type": "stream",
     "text": [
      "9.0\n"
     ]
    }
   ],
   "source": [
    "total = 0\n",
    "for row in range(1, len(games_by_row)):  # skip header row\n",
    "    total = total + games_by_row[row][RATING]\n",
    "print(total / (len(games_by_row) - 1))"
   ]
  },
  {
   "cell_type": "markdown",
   "id": "57",
   "metadata": {},
   "source": [
    "To go through all cells of a table, we need nested loops:\n",
    "one to iterate over the rows and the other to iterate over the columns."
   ]
  },
  {
   "cell_type": "code",
   "execution_count": 28,
   "id": "58",
   "metadata": {},
   "outputs": [
    {
     "name": "stdout",
     "output_type": "stream",
     "text": [
      "Board game\n",
      "Rating\n",
      "Owned\n",
      "Power Grid\n",
      "10\n",
      "True\n",
      "Vintage\n",
      "8\n",
      "True\n",
      "Pandemic\n",
      "9\n",
      "False\n"
     ]
    }
   ],
   "source": [
    "for row in games_by_row:\n",
    "    for cell in row:\n",
    "        print(cell)"
   ]
  },
  {
   "cell_type": "markdown",
   "id": "59",
   "metadata": {},
   "source": [
    "To iterate first by column and then by row requires indexing:"
   ]
  },
  {
   "cell_type": "code",
   "execution_count": 29,
   "id": "60",
   "metadata": {},
   "outputs": [
    {
     "name": "stdout",
     "output_type": "stream",
     "text": [
      "Board game\n",
      "Power Grid\n",
      "Vintage\n",
      "Pandemic\n",
      "Rating\n",
      "10\n",
      "8\n",
      "9\n",
      "Owned\n",
      "True\n",
      "True\n",
      "False\n"
     ]
    }
   ],
   "source": [
    "for column in range(len(games_by_row[0])):\n",
    "    for row in range(len(games_by_row)):\n",
    "        print(games_by_row[row][column])"
   ]
  },
  {
   "cell_type": "markdown",
   "id": "61",
   "metadata": {},
   "source": [
    "<div class=\"alert alert-info\">\n",
    "<strong>Info:</strong> TM351 introduces more sophisticated data types to\n",
    "represent and analyse tabular data.\n",
    "</div>"
   ]
  },
  {
   "cell_type": "markdown",
   "id": "62",
   "metadata": {},
   "source": [
    "#### Exercise 4.5.2"
   ]
  },
  {
   "cell_type": "markdown",
   "id": "63",
   "metadata": {},
   "source": [
    "The next tuple represents the state of a Noughts and Crosses game after\n",
    "three turns of each player.\n",
    "(You don't need to know the game to solve this exercise.)"
   ]
  },
  {
   "cell_type": "code",
   "execution_count": 30,
   "id": "64",
   "metadata": {},
   "outputs": [],
   "source": [
    "tic_tac_toe = (\n",
    "    ('X', 'O', 'X'),\n",
    "    (' ', 'X', ' '),\n",
    "    ('O', ' ', 'O')\n",
    ")"
   ]
  },
  {
   "cell_type": "markdown",
   "id": "65",
   "metadata": {},
   "source": [
    "The number of empty spaces (character `' '`) can be used to determine whose\n",
    "turn it is next or whether the game has ended.\n",
    "Write an algorithm in Python that displays the number of empty spaces\n",
    "for a board represented in the variable `tic_tac_toe`.\n",
    "You should obtain the value `3` for the board above. Change the tuple and\n",
    "rerun both cells to test with another board configuration."
   ]
  },
  {
   "cell_type": "code",
   "execution_count": 31,
   "id": "66",
   "metadata": {},
   "outputs": [],
   "source": [
    "# replace with your code"
   ]
  },
  {
   "cell_type": "markdown",
   "id": "67",
   "metadata": {},
   "source": [
    "[Hint](../31_Hints/Hints_04_5_02.ipynb)\n",
    "[Answer](../32_Answers/Answers_04_5_02.ipynb)"
   ]
  },
  {
   "cell_type": "markdown",
   "id": "68",
   "metadata": {},
   "source": [
    "#### Exercise 4.5.3"
   ]
  },
  {
   "cell_type": "markdown",
   "id": "69",
   "metadata": {},
   "source": [
    "This exercise is about how to make use of the data types you learned so far to\n",
    "represent some data in a way that eases the implementation of some operations.\n",
    "\n",
    "Moksha Patam, better known as Snakes and Ladders, is an ancient Indian board\n",
    "game, played usually on a 10 × 10 board, with positions numbered from 1 to 100,\n",
    "and some snakes and ladders connecting pairs of positions.\n",
    "\n",
    "A player moves their pawn forward by rolling a die. If the pawn lands on the\n",
    "bottom of a ladder, it immediately moves forward to the position at the top\n",
    "of the ladder. If it lands on the head of a snake, it immediately moves backward\n",
    "to the position at the tail of the snake. Then it's the next player's turn. The\n",
    "first player to reach the position 100 (which has no snake head) wins.\n",
    "\n",
    "How would you represent a board and its configuration of snakes and ladders\n",
    "with tuples? Do you have to represent the board as a table, with nested tuples?\n",
    "Assuming that the current position of each pawn is in a separate variable,\n",
    "how would the position be represented?\n",
    "\n",
    "Devise a representation for the board and pawn positions that\n",
    "makes it easy to implement the movement of pawns."
   ]
  },
  {
   "cell_type": "markdown",
   "id": "70",
   "metadata": {},
   "source": [
    "_Write your answer here._"
   ]
  },
  {
   "cell_type": "markdown",
   "id": "71",
   "metadata": {},
   "source": [
    "[Hint](../31_Hints/Hints_04_5_03.ipynb)\n",
    "[Answer](../32_Answers/Answers_04_5_03.ipynb)"
   ]
  },
  {
   "cell_type": "markdown",
   "id": "72",
   "metadata": {},
   "source": [
    "⟵ [Previous section](04_4_search.ipynb) | [Up](04-introduction.ipynb) | [Next section](04_6_lists.ipynb) ⟶"
   ]
  }
 ],
 "metadata": {
  "kernelspec": {
   "display_name": "Python 3",
   "language": "python",
   "name": "python3"
  },
  "language_info": {
   "codemirror_mode": {
    "name": "ipython",
    "version": 3
   },
   "file_extension": ".py",
   "mimetype": "text/x-python",
   "name": "python",
   "nbconvert_exporter": "python",
   "pygments_lexer": "ipython3",
   "version": "3.12.10"
  }
 },
 "nbformat": 4,
 "nbformat_minor": 5
}
