{
 "cells": [
  {
   "cell_type": "markdown",
   "id": "0",
   "metadata": {},
   "source": [
    "## 4.2 Strings"
   ]
  },
  {
   "cell_type": "markdown",
   "id": "1",
   "metadata": {},
   "source": [
    "Many applications process textual data or present text messages to the user.\n",
    "Text is formed from characters that represent letters, digits, punctuation,\n",
    "mathematical symbols, etc.\n",
    "A sequence of zero or more characters is a **string**, e.g. (H, i, !).\n",
    "\n",
    "The usual, and more compact, notation is to write strings within\n",
    "single or double quotation marks, also known simply as quotes, e.g.\n",
    "'Hi!' or \"Hi!\". The quotes signal the start and end of the string.\n",
    "They're not part of the string itself, in the same way that the parentheses\n",
    "and commas in (H, i, !) are not items of the sequence.\n",
    "\n",
    "In M269, the string ADT is a restricted form of the sequence ADT,\n",
    "where the values are immutable strings.\n",
    "Python's `str` type implements the string ADT."
   ]
  },
  {
   "cell_type": "markdown",
   "id": "2",
   "metadata": {},
   "source": [
    "### 4.2.1 Literals"
   ]
  },
  {
   "cell_type": "markdown",
   "id": "3",
   "metadata": {},
   "source": [
    "Python follows the same notation as English.\n",
    "For example, we write `'Hi!'` or `\"Hi!\"`.\n",
    "The double quote is the single character `\"`, not two single-quotes.\n",
    "Two single-quotes `''` (or two double quotes `\"\"`) denote the empty string,\n",
    "a sequence of no characters, a characterless string.\n",
    "\n",
    "If a string includes a single-quote or apostrophe (they're the same character),\n",
    "then it must be enclosed in double quotes, e.g. `\"It's OK\"`. Vice versa,\n",
    "strings that include double quotes must be enclosed in single-quotes, e.g.\n",
    "`'Kane whispered \"Rosebud\" as he died.'` If a string has both kinds of quotes,\n",
    "or spans multiple lines like docstrings,\n",
    "enclose it in three single or double quotes, e.g.\n",
    "`'''Rhett said \"Frankly, my dear, I don't give a damn.\" and left.'''`\n",
    "\n",
    "A string literal represents a value, hence it's an expression, and\n",
    "therefore gets evaluated."
   ]
  },
  {
   "cell_type": "code",
   "execution_count": 1,
   "id": "4",
   "metadata": {},
   "outputs": [
    {
     "data": {
      "text/plain": [
       "\"Rick: And remember, this gun's pointed right at your heart.\\nLouis: That is my least vulnerable spot.\""
      ]
     },
     "execution_count": 1,
     "metadata": {},
     "output_type": "execute_result"
    }
   ],
   "source": [
    "\"\"\"Rick: And remember, this gun's pointed right at your heart.\n",
    "Louis: That is my least vulnerable spot.\"\"\""
   ]
  },
  {
   "cell_type": "markdown",
   "id": "5",
   "metadata": {},
   "source": [
    "The interpreter shows an alternative literal for the multi-line string,\n",
    "with double quotes and newline characters (`\\n`).\n",
    "Not very readable, I must say.\n",
    "The `print` function displays the string itself, without the enclosing quotes."
   ]
  },
  {
   "cell_type": "code",
   "execution_count": 2,
   "id": "6",
   "metadata": {},
   "outputs": [
    {
     "name": "stdout",
     "output_type": "stream",
     "text": [
      "Rick: And remember, this gun's pointed right at your heart.\n",
      "Louis: That is my least vulnerable spot.\n"
     ]
    }
   ],
   "source": [
    "print(\"\"\"Rick: And remember, this gun's pointed right at your heart.\n",
    "Louis: That is my least vulnerable spot.\"\"\")"
   ]
  },
  {
   "cell_type": "markdown",
   "id": "7",
   "metadata": {},
   "source": [
    "String literals can have accented characters like ñ, é, ö and\n",
    "any character listed in the Unicode standard,\n",
    "which covers Chinese, Arabic and most other written languages."
   ]
  },
  {
   "cell_type": "markdown",
   "id": "8",
   "metadata": {},
   "source": [
    "<div class=\"alert alert-info\">\n",
    "<strong>Info:</strong> TM112 Block&nbsp;1 Section&nbsp;1.1.5 introduces the Unicode standard.\n",
    "</div>"
   ]
  },
  {
   "cell_type": "markdown",
   "id": "9",
   "metadata": {},
   "source": [
    "#### Mistakes"
   ]
  },
  {
   "cell_type": "markdown",
   "id": "10",
   "metadata": {},
   "source": [
    "Typeset quotes are often curved, but in Python they're straight.\n",
    "If you copy curved quotes from a PDF, HTML or Word document into Python code,\n",
    "you get a syntax error."
   ]
  },
  {
   "cell_type": "code",
   "execution_count": 3,
   "id": "11",
   "metadata": {},
   "outputs": [
    {
     "ename": "SyntaxError",
     "evalue": "invalid character '‘' (U+2018) (1225574369.py, line 1)",
     "output_type": "error",
     "traceback": [
      "\u001b[0;36m  Cell \u001b[0;32mIn[3], line 1\u001b[0;36m\u001b[0m\n\u001b[0;31m    ‘Game over ...’\u001b[0m\n\u001b[0m    ^\u001b[0m\n\u001b[0;31mSyntaxError\u001b[0m\u001b[0;31m:\u001b[0m invalid character '‘' (U+2018)\n"
     ]
    }
   ],
   "source": [
    "‘Game over ...’"
   ]
  },
  {
   "cell_type": "markdown",
   "id": "12",
   "metadata": {},
   "source": [
    "The starting quote isn't the `'` character,\n",
    "so the interpreter doesn't recognise the start of a string literal,\n",
    "assuming instead it's an identifier with a strange character.\n",
    "\n",
    "Starting a literal with one kind of quote and ending with another\n",
    "is also a syntax error."
   ]
  },
  {
   "cell_type": "code",
   "execution_count": 4,
   "id": "13",
   "metadata": {},
   "outputs": [
    {
     "ename": "SyntaxError",
     "evalue": "unterminated string literal (detected at line 1) (1971414413.py, line 1)",
     "output_type": "error",
     "traceback": [
      "\u001b[0;36m  Cell \u001b[0;32mIn[4], line 1\u001b[0;36m\u001b[0m\n\u001b[0;31m    'holy guacamole!\"\u001b[0m\n\u001b[0m    ^\u001b[0m\n\u001b[0;31mSyntaxError\u001b[0m\u001b[0;31m:\u001b[0m unterminated string literal (detected at line 1)\n"
     ]
    }
   ],
   "source": [
    "'holy guacamole!\""
   ]
  },
  {
   "cell_type": "markdown",
   "id": "14",
   "metadata": {},
   "source": [
    "Strings within single and double quotes can't span multiple lines."
   ]
  },
  {
   "cell_type": "code",
   "execution_count": 5,
   "id": "15",
   "metadata": {},
   "outputs": [
    {
     "ename": "SyntaxError",
     "evalue": "unterminated string literal (detected at line 1) (502687848.py, line 1)",
     "output_type": "error",
     "traceback": [
      "\u001b[0;36m  Cell \u001b[0;32mIn[5], line 1\u001b[0;36m\u001b[0m\n\u001b[0;31m    \"Rick: And remember, this gun's pointed right at your heart.\u001b[0m\n\u001b[0m    ^\u001b[0m\n\u001b[0;31mSyntaxError\u001b[0m\u001b[0;31m:\u001b[0m unterminated string literal (detected at line 1)\n"
     ]
    }
   ],
   "source": [
    "\"Rick: And remember, this gun's pointed right at your heart.\n",
    "Louis: That is my least vulnerable spot.\""
   ]
  },
  {
   "cell_type": "markdown",
   "id": "16",
   "metadata": {},
   "source": [
    "In both examples the interpreter complains that\n",
    "it reached the end of the line (EOL) before it reached the end of the string.\n",
    "\n",
    "Jupyter notebooks and other code editors use syntax colouring to distinguish\n",
    "strings (in red), keywords (in bold green), operators (in bold purple), etc.\n",
    "That's useful to detect errors before running the code.\n",
    "When the whole string or part of it isn't in red, as in two of the examples,\n",
    "you know there's some mistake."
   ]
  },
  {
   "cell_type": "markdown",
   "id": "17",
   "metadata": {},
   "source": [
    "### 4.2.2 Inspecting strings"
   ]
  },
  {
   "cell_type": "markdown",
   "id": "18",
   "metadata": {},
   "source": [
    "Python's `str` type supports many operations, in particular\n",
    "the length, indexing, comparison and membership operations."
   ]
  },
  {
   "cell_type": "markdown",
   "id": "19",
   "metadata": {},
   "source": [
    "#### Length"
   ]
  },
  {
   "cell_type": "markdown",
   "id": "20",
   "metadata": {},
   "source": [
    "The function `len` returns the size of a string."
   ]
  },
  {
   "cell_type": "code",
   "execution_count": 6,
   "id": "21",
   "metadata": {},
   "outputs": [
    {
     "data": {
      "text/plain": [
       "0"
      ]
     },
     "execution_count": 6,
     "metadata": {},
     "output_type": "execute_result"
    }
   ],
   "source": [
    "len('')     # length of the empty string"
   ]
  },
  {
   "cell_type": "code",
   "execution_count": 7,
   "id": "22",
   "metadata": {},
   "outputs": [
    {
     "data": {
      "text/plain": [
       "8"
      ]
     },
     "execution_count": 7,
     "metadata": {},
     "output_type": "execute_result"
    }
   ],
   "source": [
    "len(\"\"\"\n",
    "Hello!\n",
    "\"\"\")        # string includes 2 newline characters, but no quotes"
   ]
  },
  {
   "cell_type": "markdown",
   "id": "23",
   "metadata": {},
   "source": [
    "#### Indexing"
   ]
  },
  {
   "cell_type": "markdown",
   "id": "24",
   "metadata": {},
   "source": [
    "Python is more flexible than the indexing operation I defined:\n",
    "it allows any integer index."
   ]
  },
  {
   "cell_type": "code",
   "execution_count": 8,
   "id": "25",
   "metadata": {},
   "outputs": [
    {
     "data": {
      "text/plain": [
       "'h'"
      ]
     },
     "execution_count": 8,
     "metadata": {},
     "output_type": "execute_result"
    }
   ],
   "source": [
    "'hello'[0]          # retrieve the first character"
   ]
  },
  {
   "cell_type": "code",
   "execution_count": 9,
   "id": "26",
   "metadata": {},
   "outputs": [
    {
     "data": {
      "text/plain": [
       "'o'"
      ]
     },
     "execution_count": 9,
     "metadata": {},
     "output_type": "execute_result"
    }
   ],
   "source": [
    "'hello'[5 - 1]      # the index can be an integer expression"
   ]
  },
  {
   "cell_type": "code",
   "execution_count": 10,
   "id": "27",
   "metadata": {},
   "outputs": [
    {
     "data": {
      "text/plain": [
       "'o'"
      ]
     },
     "execution_count": 10,
     "metadata": {},
     "output_type": "execute_result"
    }
   ],
   "source": [
    "'hello'[-1]"
   ]
  },
  {
   "cell_type": "markdown",
   "id": "28",
   "metadata": {},
   "source": [
    "Negative indices count from the end of the string:\n",
    "the character at index -1 is the first character from the end,\n",
    "the character at index -2 is the second character from the end, etc.\n",
    "In M269, we shall use mainly index -1, because it's a convenient\n",
    "shorthand for `len(s) - 1` to access the last item of sequence `s`."
   ]
  },
  {
   "cell_type": "code",
   "execution_count": 11,
   "id": "29",
   "metadata": {},
   "outputs": [
    {
     "data": {
      "text/plain": [
       "'o'"
      ]
     },
     "execution_count": 11,
     "metadata": {},
     "output_type": "execute_result"
    }
   ],
   "source": [
    "text = 'hello'\n",
    "text[len(text) - 1]     # the same as text[-1]"
   ]
  },
  {
   "cell_type": "markdown",
   "id": "30",
   "metadata": {},
   "source": [
    "#### Comparisons"
   ]
  },
  {
   "cell_type": "markdown",
   "id": "31",
   "metadata": {},
   "source": [
    "All six comparison operators apply to strings."
   ]
  },
  {
   "cell_type": "code",
   "execution_count": 12,
   "id": "32",
   "metadata": {},
   "outputs": [
    {
     "data": {
      "text/plain": [
       "False"
      ]
     },
     "execution_count": 12,
     "metadata": {},
     "output_type": "execute_result"
    }
   ],
   "source": [
    "'Tweedledee' == 'Tweedledum'"
   ]
  },
  {
   "cell_type": "code",
   "execution_count": 13,
   "id": "33",
   "metadata": {},
   "outputs": [
    {
     "data": {
      "text/plain": [
       "True"
      ]
     },
     "execution_count": 13,
     "metadata": {},
     "output_type": "execute_result"
    }
   ],
   "source": [
    "'hello' < 'high'        # e comes before i, so 'hello' < 'high'"
   ]
  },
  {
   "cell_type": "code",
   "execution_count": 14,
   "id": "34",
   "metadata": {},
   "outputs": [
    {
     "data": {
      "text/plain": [
       "True"
      ]
     },
     "execution_count": 14,
     "metadata": {},
     "output_type": "execute_result"
    }
   ],
   "source": [
    "'underpass' > 'under'"
   ]
  },
  {
   "cell_type": "markdown",
   "id": "35",
   "metadata": {},
   "source": [
    "Python's lexicographic comparison uses the character ordering of the Unicode\n",
    "standard, which leads to results you may not expect."
   ]
  },
  {
   "cell_type": "code",
   "execution_count": 15,
   "id": "36",
   "metadata": {},
   "outputs": [
    {
     "data": {
      "text/plain": [
       "False"
      ]
     },
     "execution_count": 15,
     "metadata": {},
     "output_type": "execute_result"
    }
   ],
   "source": [
    "'aardvark' < 'Zeus'     # A-Z comes before a-z in Unicode"
   ]
  },
  {
   "cell_type": "code",
   "execution_count": 16,
   "id": "37",
   "metadata": {},
   "outputs": [
    {
     "data": {
      "text/plain": [
       "False"
      ]
     },
     "execution_count": 16,
     "metadata": {},
     "output_type": "execute_result"
    }
   ],
   "source": [
    "'exposé' < 'exposed'    # accented letters come after non-accented"
   ]
  },
  {
   "cell_type": "markdown",
   "id": "38",
   "metadata": {},
   "source": [
    "As long as you compare two strings *left* and *right* that only have\n",
    "the unaccented letters a to z and follow the same lower/uppercase pattern, then\n",
    "*left* < *right* is true if and only if dictionaries list *left* before *right*."
   ]
  },
  {
   "cell_type": "code",
   "execution_count": 17,
   "id": "39",
   "metadata": {},
   "outputs": [
    {
     "data": {
      "text/plain": [
       "True"
      ]
     },
     "execution_count": 17,
     "metadata": {},
     "output_type": "execute_result"
    }
   ],
   "source": [
    "'Aardvark' < 'Zeus'     # capital first letter, rest lowercase"
   ]
  },
  {
   "cell_type": "markdown",
   "id": "40",
   "metadata": {},
   "source": [
    "The 26 lowercase letters are listed consecutively, in alphabetical order,\n",
    "in the Unicode standard. We can thus use comparisons to check\n",
    "if a character is a lowercase letter."
   ]
  },
  {
   "cell_type": "code",
   "execution_count": 18,
   "id": "41",
   "metadata": {},
   "outputs": [
    {
     "data": {
      "text/plain": [
       "False"
      ]
     },
     "execution_count": 18,
     "metadata": {},
     "output_type": "execute_result"
    }
   ],
   "source": [
    "character = '!'\n",
    "'a' <= character <= 'z'     # is the character a lowercase letter?"
   ]
  },
  {
   "cell_type": "markdown",
   "id": "42",
   "metadata": {},
   "source": [
    "We can write similar expressions to check if a character is a digit or\n",
    "an uppercase letter.\n",
    "\n",
    "We can apply the minimum and maximum operations to obtain the character that\n",
    "appears first or last in the Unicode table."
   ]
  },
  {
   "cell_type": "code",
   "execution_count": 19,
   "id": "43",
   "metadata": {},
   "outputs": [
    {
     "data": {
      "text/plain": [
       "'Z'"
      ]
     },
     "execution_count": 19,
     "metadata": {},
     "output_type": "execute_result"
    }
   ],
   "source": [
    "min('Zeus')         # in Unicode, A-Z comes before a-z"
   ]
  },
  {
   "cell_type": "code",
   "execution_count": 20,
   "id": "44",
   "metadata": {},
   "outputs": [
    {
     "data": {
      "text/plain": [
       "'y'"
      ]
     },
     "execution_count": 20,
     "metadata": {},
     "output_type": "execute_result"
    }
   ],
   "source": [
    "max('By Jove!')     # in Unicode, space and ! come before A-Z"
   ]
  },
  {
   "cell_type": "markdown",
   "id": "45",
   "metadata": {},
   "source": [
    "#### Membership"
   ]
  },
  {
   "cell_type": "markdown",
   "id": "46",
   "metadata": {},
   "source": [
    "Python's `in` operator checks if the left operand\n",
    "is a substring of the right operand."
   ]
  },
  {
   "cell_type": "code",
   "execution_count": 21,
   "id": "47",
   "metadata": {},
   "outputs": [
    {
     "data": {
      "text/plain": [
       "True"
      ]
     },
     "execution_count": 21,
     "metadata": {},
     "output_type": "execute_result"
    }
   ],
   "source": [
    "'pose' in 'exposed'"
   ]
  },
  {
   "cell_type": "code",
   "execution_count": 22,
   "id": "48",
   "metadata": {},
   "outputs": [
    {
     "data": {
      "text/plain": [
       "False"
      ]
     },
     "execution_count": 22,
     "metadata": {},
     "output_type": "execute_result"
    }
   ],
   "source": [
    "'hello' in 'Hello, world!'      # h and H are different characters"
   ]
  },
  {
   "cell_type": "markdown",
   "id": "49",
   "metadata": {},
   "source": [
    "When the left operand is a single character,\n",
    "this becomes the membership operation."
   ]
  },
  {
   "cell_type": "code",
   "execution_count": 23,
   "id": "50",
   "metadata": {},
   "outputs": [
    {
     "data": {
      "text/plain": [
       "True"
      ]
     },
     "execution_count": 23,
     "metadata": {},
     "output_type": "execute_result"
    }
   ],
   "source": [
    "',' in 'Hello, world!'  # does the string contain a comma?"
   ]
  },
  {
   "cell_type": "markdown",
   "id": "51",
   "metadata": {},
   "source": [
    "A Boolean expression of the form `not (substring in string)`\n",
    "can also be written as `substring not in string`, which is easier to read."
   ]
  },
  {
   "cell_type": "code",
   "execution_count": 24,
   "id": "52",
   "metadata": {},
   "outputs": [
    {
     "data": {
      "text/plain": [
       "True"
      ]
     },
     "execution_count": 24,
     "metadata": {},
     "output_type": "execute_result"
    }
   ],
   "source": [
    "'hello' not in 'Hello, world!'"
   ]
  },
  {
   "cell_type": "markdown",
   "id": "53",
   "metadata": {},
   "source": [
    "#### Exercise 4.2.1"
   ]
  },
  {
   "cell_type": "markdown",
   "id": "54",
   "metadata": {},
   "source": [
    "Assume `character` is a string of length&nbsp;1. Write a Boolean expression that\n",
    "is true if and only if `character` is a decimal digit. Don't use comparisons."
   ]
  },
  {
   "cell_type": "code",
   "execution_count": 25,
   "id": "55",
   "metadata": {},
   "outputs": [],
   "source": [
    "character = '6'\n",
    "# replace this by your expression"
   ]
  },
  {
   "cell_type": "markdown",
   "id": "56",
   "metadata": {},
   "source": [
    "After running your code (you should get `True`),\n",
    "change the character to a letter and rerun the code (you should get `False`).\n",
    "\n",
    "[Hint](../31_Hints/Hints_04_2_01.ipynb)\n",
    "[Answer](../32_Answers/Answers_04_2_01.ipynb)"
   ]
  },
  {
   "cell_type": "markdown",
   "id": "57",
   "metadata": {},
   "source": [
    "#### Mistakes"
   ]
  },
  {
   "cell_type": "markdown",
   "id": "58",
   "metadata": {},
   "source": [
    "A frequent mistake is to forget that indices start from zero.\n",
    "This leads to 'off by one' errors where you intend to access the *n*-th item\n",
    "of a sequence but are instead accessing the next item.\n",
    "If the index is 'out of bounds', the interpreter raises an **index error**,\n",
    "but if it's not, the 'off by one' error may only become apparent far later\n",
    "in the execution of the algorithm."
   ]
  },
  {
   "cell_type": "code",
   "execution_count": 26,
   "id": "59",
   "metadata": {},
   "outputs": [
    {
     "ename": "IndexError",
     "evalue": "string index out of range",
     "output_type": "error",
     "traceback": [
      "\u001b[0;31m---------------------------------------------------------------------------\u001b[0m",
      "\u001b[0;31mIndexError\u001b[0m                                Traceback (most recent call last)",
      "Cell \u001b[0;32mIn[26], line 1\u001b[0m\n\u001b[0;32m----> 1\u001b[0m \u001b[38;5;124;43m'\u001b[39;49m\u001b[38;5;124;43mhello\u001b[39;49m\u001b[38;5;124;43m'\u001b[39;49m\u001b[43m[\u001b[49m\u001b[38;5;241;43m5\u001b[39;49m\u001b[43m]\u001b[49m  \u001b[38;5;66;03m# there's no 6th character, counting from the start\u001b[39;00m\n",
      "\u001b[0;31mIndexError\u001b[0m: string index out of range"
     ]
    }
   ],
   "source": [
    "'hello'[5]  # there's no 6th character, counting from the start"
   ]
  },
  {
   "cell_type": "code",
   "execution_count": 27,
   "id": "60",
   "metadata": {},
   "outputs": [
    {
     "ename": "IndexError",
     "evalue": "string index out of range",
     "output_type": "error",
     "traceback": [
      "\u001b[0;31m---------------------------------------------------------------------------\u001b[0m",
      "\u001b[0;31mIndexError\u001b[0m                                Traceback (most recent call last)",
      "Cell \u001b[0;32mIn[27], line 1\u001b[0m\n\u001b[0;32m----> 1\u001b[0m \u001b[38;5;124;43m'\u001b[39;49m\u001b[38;5;124;43mhello\u001b[39;49m\u001b[38;5;124;43m'\u001b[39;49m\u001b[43m[\u001b[49m\u001b[38;5;241;43m-\u001b[39;49m\u001b[38;5;241;43m6\u001b[39;49m\u001b[43m]\u001b[49m \u001b[38;5;66;03m# there's no 6th character, counting from the end\u001b[39;00m\n",
      "\u001b[0;31mIndexError\u001b[0m: string index out of range"
     ]
    }
   ],
   "source": [
    "'hello'[-6] # there's no 6th character, counting from the end"
   ]
  },
  {
   "cell_type": "markdown",
   "id": "61",
   "metadata": {},
   "source": [
    "If we apply an operation to operands of the wrong type, we get a **type error**."
   ]
  },
  {
   "cell_type": "code",
   "execution_count": 28,
   "id": "62",
   "metadata": {},
   "outputs": [
    {
     "ename": "TypeError",
     "evalue": "'<' not supported between instances of 'str' and 'int'",
     "output_type": "error",
     "traceback": [
      "\u001b[0;31m---------------------------------------------------------------------------\u001b[0m",
      "\u001b[0;31mTypeError\u001b[0m                                 Traceback (most recent call last)",
      "Cell \u001b[0;32mIn[28], line 1\u001b[0m\n\u001b[0;32m----> 1\u001b[0m \u001b[38;5;124;43m'\u001b[39;49m\u001b[38;5;124;43mfive\u001b[39;49m\u001b[38;5;124;43m'\u001b[39;49m\u001b[43m \u001b[49m\u001b[38;5;241;43m<\u001b[39;49m\u001b[43m \u001b[49m\u001b[38;5;241;43m5\u001b[39;49m\n",
      "\u001b[0;31mTypeError\u001b[0m: '<' not supported between instances of 'str' and 'int'"
     ]
    }
   ],
   "source": [
    "'five' < 5"
   ]
  },
  {
   "cell_type": "markdown",
   "id": "63",
   "metadata": {},
   "source": [
    "#### Exercise 4.2.2"
   ]
  },
  {
   "cell_type": "markdown",
   "id": "64",
   "metadata": {},
   "source": [
    "Explain whether these expressions are valid or\n",
    "lead to a syntax, type or index error:\n",
    "\n",
    "1. `\"hello\"['e']`\n",
    "1. `''[0]`\n",
    "1. `len('goodman'[-1])`\n",
    "1. `42 in 'Everyone wears jersey 42 on Jackie Robinson Day'`\n",
    "\n",
    "[Hint](../31_Hints/Hints_04_2_02.ipynb)\n",
    "[Answer](../32_Answers/Answers_04_2_02.ipynb)"
   ]
  },
  {
   "cell_type": "markdown",
   "id": "65",
   "metadata": {},
   "source": [
    "### 4.2.3 Creating strings"
   ]
  },
  {
   "cell_type": "markdown",
   "id": "66",
   "metadata": {},
   "source": [
    "Python's `str` type also supports the concatenation and slicing operations,\n",
    "again with some 'extensions'."
   ]
  },
  {
   "cell_type": "markdown",
   "id": "67",
   "metadata": {},
   "source": [
    "#### Concatenation"
   ]
  },
  {
   "cell_type": "markdown",
   "id": "68",
   "metadata": {},
   "source": [
    "Python overloads the addition operator to also represent concatenation:"
   ]
  },
  {
   "cell_type": "code",
   "execution_count": 29,
   "id": "69",
   "metadata": {},
   "outputs": [
    {
     "data": {
      "text/plain": [
       "'Hello,world!'"
      ]
     },
     "execution_count": 29,
     "metadata": {},
     "output_type": "execute_result"
    }
   ],
   "source": [
    "'Hello,' + 'world!'     # concatenation doesn't add spaces"
   ]
  },
  {
   "cell_type": "code",
   "execution_count": 30,
   "id": "70",
   "metadata": {},
   "outputs": [
    {
     "data": {
      "text/plain": [
       "'Hello, world!'"
      ]
     },
     "execution_count": 30,
     "metadata": {},
     "output_type": "execute_result"
    }
   ],
   "source": [
    "'Hello' + ', ' + 'world' + '!'"
   ]
  },
  {
   "cell_type": "markdown",
   "id": "71",
   "metadata": {},
   "source": [
    "Multiplication is just repeated additions, e.g. 3 × 4 = 4 + 4 + 4.\n",
    "By analogy, Python reuses the multiplication operator for repeated\n",
    "concatenation."
   ]
  },
  {
   "cell_type": "code",
   "execution_count": 31,
   "id": "72",
   "metadata": {},
   "outputs": [
    {
     "data": {
      "text/plain": [
       "'HoHoHo'"
      ]
     },
     "execution_count": 31,
     "metadata": {},
     "output_type": "execute_result"
    }
   ],
   "source": [
    "3 * 'Ho'    # thus spoke Father Christmas"
   ]
  },
  {
   "cell_type": "code",
   "execution_count": 32,
   "id": "73",
   "metadata": {},
   "outputs": [
    {
     "data": {
      "text/plain": [
       "''"
      ]
     },
     "execution_count": 32,
     "metadata": {},
     "output_type": "execute_result"
    }
   ],
   "source": [
    "'Ho' * 0    # repeating zero times produces the empty string"
   ]
  },
  {
   "cell_type": "markdown",
   "id": "74",
   "metadata": {},
   "source": [
    "We'll use repeated concatenation mainly for creating long test strings."
   ]
  },
  {
   "cell_type": "markdown",
   "id": "75",
   "metadata": {},
   "source": [
    "#### Exercise 4.2.3"
   ]
  },
  {
   "cell_type": "markdown",
   "id": "76",
   "metadata": {},
   "source": [
    "What are the best- and worst-case scenarios of repeated concatenation?\n",
    "What are the corresponding complexities?"
   ]
  },
  {
   "cell_type": "markdown",
   "id": "77",
   "metadata": {},
   "source": [
    "_Write your answer here._"
   ]
  },
  {
   "cell_type": "markdown",
   "id": "78",
   "metadata": {},
   "source": [
    "[Hint](../31_Hints/Hints_04_2_03.ipynb)\n",
    "[Answer](../32_Answers/Answers_04_2_03.ipynb)"
   ]
  },
  {
   "cell_type": "markdown",
   "id": "79",
   "metadata": {},
   "source": [
    "#### Slicing"
   ]
  },
  {
   "cell_type": "markdown",
   "id": "80",
   "metadata": {},
   "source": [
    "Python allows arbitrary integers as the start and end indices.\n",
    "The character at the end index is excluded from the slice."
   ]
  },
  {
   "cell_type": "code",
   "execution_count": 33,
   "id": "81",
   "metadata": {},
   "outputs": [
    {
     "data": {
      "text/plain": [
       "'h'"
      ]
     },
     "execution_count": 33,
     "metadata": {},
     "output_type": "execute_result"
    }
   ],
   "source": [
    "'hello'[0:1]        # indices 0 to 0, i.e. 'hello'[0]"
   ]
  },
  {
   "cell_type": "code",
   "execution_count": 34,
   "id": "82",
   "metadata": {},
   "outputs": [
    {
     "data": {
      "text/plain": [
       "'ell'"
      ]
     },
     "execution_count": 34,
     "metadata": {},
     "output_type": "execute_result"
    }
   ],
   "source": [
    "'hello'[1:4]        # indices 1 to 3, i.e. 2nd to 4th character"
   ]
  },
  {
   "cell_type": "code",
   "execution_count": 35,
   "id": "83",
   "metadata": {},
   "outputs": [
    {
     "data": {
      "text/plain": [
       "''"
      ]
     },
     "execution_count": 35,
     "metadata": {},
     "output_type": "execute_result"
    }
   ],
   "source": [
    "'hello'[3:3]        # if start = end, the slice is empty"
   ]
  },
  {
   "cell_type": "code",
   "execution_count": 36,
   "id": "84",
   "metadata": {},
   "outputs": [
    {
     "data": {
      "text/plain": [
       "''"
      ]
     },
     "execution_count": 36,
     "metadata": {},
     "output_type": "execute_result"
    }
   ],
   "source": [
    "'hello'[2:1]        # if start > end, the slice is empty"
   ]
  },
  {
   "cell_type": "code",
   "execution_count": 37,
   "id": "85",
   "metadata": {},
   "outputs": [
    {
     "data": {
      "text/plain": [
       "'ll'"
      ]
     },
     "execution_count": 37,
     "metadata": {},
     "output_type": "execute_result"
    }
   ],
   "source": [
    "'hello'[2:-1]       # 3rd to penultimate character (-1 not included)"
   ]
  },
  {
   "cell_type": "markdown",
   "id": "86",
   "metadata": {},
   "source": [
    "The following examples show why the last index isn't included."
   ]
  },
  {
   "cell_type": "code",
   "execution_count": 38,
   "id": "87",
   "metadata": {},
   "outputs": [
    {
     "data": {
      "text/plain": [
       "'ell'"
      ]
     },
     "execution_count": 38,
     "metadata": {},
     "output_type": "execute_result"
    }
   ],
   "source": [
    "'hello'[1:4]        # len(text[start:end]) = end - start"
   ]
  },
  {
   "cell_type": "code",
   "execution_count": 39,
   "id": "88",
   "metadata": {},
   "outputs": [
    {
     "data": {
      "text/plain": [
       "'hell'"
      ]
     },
     "execution_count": 39,
     "metadata": {},
     "output_type": "execute_result"
    }
   ],
   "source": [
    "'hello'[0:1] + 'hello'[1:4]     # text[a:b] + text[b:c] = text[a:c]"
   ]
  },
  {
   "cell_type": "markdown",
   "id": "89",
   "metadata": {},
   "source": [
    "As an example of slicing, here's how to swap the two halves of a string."
   ]
  },
  {
   "cell_type": "code",
   "execution_count": 40,
   "id": "90",
   "metadata": {},
   "outputs": [
    {
     "data": {
      "text/plain": [
       "'and BobAlice '"
      ]
     },
     "execution_count": 40,
     "metadata": {},
     "output_type": "execute_result"
    }
   ],
   "source": [
    "text = 'Alice and Bob'\n",
    "middle = len(text) // 2\n",
    "text[middle:len(text)] + text[0:middle]"
   ]
  },
  {
   "cell_type": "markdown",
   "id": "91",
   "metadata": {},
   "source": [
    "In Python, the start index of a slice can be omitted (it defaults to zero)\n",
    "and so can the end index (it defaults to the length of the string).\n",
    "In other words, `s[:i]` is the same as `s[0:i]` and\n",
    "`s[i:]` is the same as `s[i:len(s)]`.\n",
    "The previous expression to swap both halves can be more succinctly written as:"
   ]
  },
  {
   "cell_type": "code",
   "execution_count": 41,
   "id": "92",
   "metadata": {},
   "outputs": [
    {
     "data": {
      "text/plain": [
       "'and BobAlice '"
      ]
     },
     "execution_count": 41,
     "metadata": {},
     "output_type": "execute_result"
    }
   ],
   "source": [
    "text[middle:] + text[:middle]"
   ]
  },
  {
   "cell_type": "markdown",
   "id": "93",
   "metadata": {},
   "source": [
    "I think this shows more clearly that the result is\n",
    "the text from the middle onwards, followed by the text up to the middle."
   ]
  },
  {
   "cell_type": "markdown",
   "id": "94",
   "metadata": {},
   "source": [
    "#### Exercise 4.2.4"
   ]
  },
  {
   "cell_type": "markdown",
   "id": "95",
   "metadata": {},
   "source": [
    "Explain why the swapping code works for strings of length&nbsp;0 and 1,\n",
    "the edge cases, without raising an index error."
   ]
  },
  {
   "cell_type": "markdown",
   "id": "96",
   "metadata": {},
   "source": [
    "_Write your answer here._"
   ]
  },
  {
   "cell_type": "markdown",
   "id": "97",
   "metadata": {},
   "source": [
    "[Hint](../31_Hints/Hints_04_2_04.ipynb)\n",
    "[Answer](../32_Answers/Answers_04_2_04.ipynb)"
   ]
  },
  {
   "cell_type": "markdown",
   "id": "98",
   "metadata": {},
   "source": [
    "#### Conversion"
   ]
  },
  {
   "cell_type": "markdown",
   "id": "99",
   "metadata": {},
   "source": [
    "Each Python data type has a **constructor**, a function with the same name as the type to create a value of that type.\n",
    "Constructor `str` creates a string from a number:"
   ]
  },
  {
   "cell_type": "code",
   "execution_count": 42,
   "id": "100",
   "metadata": {},
   "outputs": [
    {
     "data": {
      "text/plain": [
       "'2020'"
      ]
     },
     "execution_count": 42,
     "metadata": {},
     "output_type": "execute_result"
    }
   ],
   "source": [
    "str(2020)"
   ]
  },
  {
   "cell_type": "markdown",
   "id": "101",
   "metadata": {},
   "source": [
    "#### Exercise 4.2.5"
   ]
  },
  {
   "cell_type": "markdown",
   "id": "102",
   "metadata": {},
   "source": [
    "What is the complexity of converting an integer to a string?"
   ]
  },
  {
   "cell_type": "markdown",
   "id": "103",
   "metadata": {},
   "source": [
    "_Write your answer here._"
   ]
  },
  {
   "cell_type": "markdown",
   "id": "104",
   "metadata": {},
   "source": [
    "[Hint](../31_Hints/Hints_04_2_05.ipynb)\n",
    "[Answer](../32_Answers/Answers_04_2_05.ipynb)"
   ]
  },
  {
   "cell_type": "markdown",
   "id": "105",
   "metadata": {},
   "source": [
    "#### Mistakes"
   ]
  },
  {
   "cell_type": "markdown",
   "id": "106",
   "metadata": {},
   "source": [
    "The `+` operator means addition if both operands are numbers,\n",
    "and concatenation if both are strings.\n",
    "The `*` operator means multiplication if both operands are numbers,\n",
    "and repeated concatenation if one is an integer and the other is a string.\n",
    "Any other combination leads to a type error. The exact message may vary."
   ]
  },
  {
   "cell_type": "code",
   "execution_count": 43,
   "id": "107",
   "metadata": {},
   "outputs": [
    {
     "ename": "TypeError",
     "evalue": "unsupported operand type(s) for +: 'int' and 'str'",
     "output_type": "error",
     "traceback": [
      "\u001b[0;31m---------------------------------------------------------------------------\u001b[0m",
      "\u001b[0;31mTypeError\u001b[0m                                 Traceback (most recent call last)",
      "Cell \u001b[0;32mIn[43], line 1\u001b[0m\n\u001b[0;32m----> 1\u001b[0m \u001b[38;5;241;43m3\u001b[39;49m\u001b[43m \u001b[49m\u001b[38;5;241;43m+\u001b[39;49m\u001b[43m \u001b[49m\u001b[38;5;124;43m'\u001b[39;49m\u001b[38;5;124;43m3\u001b[39;49m\u001b[38;5;124;43m'\u001b[39;49m\n",
      "\u001b[0;31mTypeError\u001b[0m: unsupported operand type(s) for +: 'int' and 'str'"
     ]
    }
   ],
   "source": [
    "3 + '3'"
   ]
  },
  {
   "cell_type": "code",
   "execution_count": 44,
   "id": "108",
   "metadata": {},
   "outputs": [
    {
     "ename": "TypeError",
     "evalue": "can't multiply sequence by non-int of type 'float'",
     "output_type": "error",
     "traceback": [
      "\u001b[0;31m---------------------------------------------------------------------------\u001b[0m",
      "\u001b[0;31mTypeError\u001b[0m                                 Traceback (most recent call last)",
      "Cell \u001b[0;32mIn[44], line 1\u001b[0m\n\u001b[0;32m----> 1\u001b[0m \u001b[38;5;124;43m'\u001b[39;49m\u001b[38;5;124;43mhigh\u001b[39;49m\u001b[38;5;124;43m'\u001b[39;49m\u001b[43m \u001b[49m\u001b[38;5;241;43m*\u001b[39;49m\u001b[43m \u001b[49m\u001b[38;5;241;43m5.0\u001b[39;49m\n",
      "\u001b[0;31mTypeError\u001b[0m: can't multiply sequence by non-int of type 'float'"
     ]
    }
   ],
   "source": [
    "'high' * 5.0"
   ]
  },
  {
   "cell_type": "markdown",
   "id": "109",
   "metadata": {},
   "source": [
    "You may think repeated concatenation doesn't make sense for negative integers,\n",
    "but the Python designers decided to produce the empty string instead of raising\n",
    "an error."
   ]
  },
  {
   "cell_type": "code",
   "execution_count": 45,
   "id": "110",
   "metadata": {},
   "outputs": [
    {
     "data": {
      "text/plain": [
       "''"
      ]
     },
     "execution_count": 45,
     "metadata": {},
     "output_type": "execute_result"
    }
   ],
   "source": [
    "'Ho' * -5"
   ]
  },
  {
   "cell_type": "markdown",
   "id": "111",
   "metadata": {},
   "source": [
    "#### Exercise 4.2.6"
   ]
  },
  {
   "cell_type": "markdown",
   "id": "112",
   "metadata": {},
   "source": [
    "Assume that you have a string variable `text` and\n",
    "an integer variable `times` with a positive value.\n",
    "Write an expression that repeats the text the given number of times,\n",
    "separated by ellipses (`...`)."
   ]
  },
  {
   "cell_type": "code",
   "execution_count": 46,
   "id": "113",
   "metadata": {},
   "outputs": [],
   "source": [
    "text = 'hello'\n",
    "times = 3\n",
    "# replace this by your expression"
   ]
  },
  {
   "cell_type": "markdown",
   "id": "114",
   "metadata": {},
   "source": [
    "Running the previous cell should create the string `'hello...hello...hello'`.\n",
    "If you run the cell with `times = 1`, you should obtain just `'hello'`.\n",
    "\n",
    "[Hint](../31_Hints/Hints_04_2_06.ipynb)\n",
    "[Answer](../32_Answers/Answers_04_2_06.ipynb)"
   ]
  },
  {
   "cell_type": "markdown",
   "id": "115",
   "metadata": {},
   "source": [
    "⟵ [Previous section](04_1_sequences.ipynb) | [Up](04-introduction.ipynb) | [Next section](04_3_iteration.ipynb) ⟶"
   ]
  }
 ],
 "metadata": {
  "kernelspec": {
   "display_name": "Python 3",
   "language": "python",
   "name": "python3"
  },
  "language_info": {
   "codemirror_mode": {
    "name": "ipython",
    "version": 3
   },
   "file_extension": ".py",
   "mimetype": "text/x-python",
   "name": "python",
   "nbconvert_exporter": "python",
   "pygments_lexer": "ipython3",
   "version": "3.12.10"
  }
 },
 "nbformat": 4,
 "nbformat_minor": 5
}
