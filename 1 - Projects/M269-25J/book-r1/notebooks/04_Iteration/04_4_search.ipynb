{
 "cells": [
  {
   "cell_type": "markdown",
   "id": "0",
   "metadata": {},
   "source": [
    "## 4.4 Linear search"
   ]
  },
  {
   "cell_type": "markdown",
   "id": "1",
   "metadata": {},
   "source": [
    "Many problems using sequences are **search problems**: they involve\n",
    "finding one or more elements of the sequence that satisfy some condition.\n",
    "Such problems can be solved with a **linear search**, an algorithm\n",
    "that goes systematically through the sequence and checks each element.\n",
    "This section shows some examples of linear searches at work\n",
    "and *en passant* illustrates some finer points of the problem-solving process."
   ]
  },
  {
   "cell_type": "markdown",
   "id": "2",
   "metadata": {},
   "source": [
    "<div class=\"alert alert-info\">\n",
    "<strong>Info:</strong> TM112 Block&nbsp;2 Section&nbsp;2.3 introduces search problems and\n",
    "algorithmic patterns for them.\n",
    "</div>"
   ]
  },
  {
   "cell_type": "markdown",
   "id": "3",
   "metadata": {},
   "source": [
    "### 4.4.1 Finding characters"
   ]
  },
  {
   "cell_type": "markdown",
   "id": "4",
   "metadata": {},
   "source": [
    "Imagine that we have a non-empty string with one or more sentences,\n",
    "each ending with a full stop.\n",
    "We're asked to create a new string with just the first sentence.\n",
    "\n",
    "Although this isn't formulated as a search problem, it involves a search:\n",
    "finding the first full stop in the string. Once we know its index,\n",
    "we simply take the slice up to that index: that's the first sentence."
   ]
  },
  {
   "cell_type": "markdown",
   "id": "5",
   "metadata": {},
   "source": [
    "<div class=\"alert alert-warning\">\n",
    "<strong>Note:</strong> Even if a problem isn't stated as a search problem,\n",
    "think whether doing a search could solve it.\n",
    "</div>"
   ]
  },
  {
   "cell_type": "markdown",
   "id": "6",
   "metadata": {},
   "source": [
    "#### Problem definition and instances"
   ]
  },
  {
   "cell_type": "markdown",
   "id": "7",
   "metadata": {},
   "source": [
    "Let's take the opportunity to define the more general problem of\n",
    "finding the first occurrence of a given character in a given string.\n",
    "\n",
    "**Function**: first index\\\n",
    "**Inputs**: *text*, a string; *character*, a string\\\n",
    "**Preconditions**: │*character*│ = 1\\\n",
    "**Output**: *index*, an integer\\\n",
    "**Postconditions**: if  *character* in *text*,\n",
    "*index* is the smallest integer such that *text*[*index*] = *character*,\n",
    "otherwise *index* = │*text*│\n",
    "\n",
    "Search problems often have postconditions of the form\n",
    "'... is the first / last / smallest / largest ... such that ...' or similar.\n",
    "To indicate that the character doesn't occur in the text,\n",
    "the output is set to an impossible index.\n",
    "\n",
    "For the test table, I need to think of edge cases.\n",
    "An input sequence with the smallest allowed length is always an edge case.\n",
    "I also need to create tests for different options of where and how often\n",
    "*character* occurs in *text*.\n",
    "\n",
    "Case | *text* | *character* | *index*\n",
    "-|-|-|-\n",
    "smallest input | ''  | 'a'  | 0\n",
    "occurs at start  | 'all'  | 'a'  | 0\n",
    "occurs in the middle  | 'abracadabra'  | 'c'  | 4\n",
    "occurs at the end  | 'hi!'  | '!'  | 2\n",
    "multiple occurrences  | 'abracadabra'  | 'b'  | 1\n",
    "no occurrence  | 'abracadabra'  | 'k'  | 11"
   ]
  },
  {
   "cell_type": "markdown",
   "id": "8",
   "metadata": {},
   "source": [
    "#### Algorithm"
   ]
  },
  {
   "cell_type": "markdown",
   "id": "9",
   "metadata": {},
   "source": [
    "The linear search algorithm simply goes through all the indices of the text and\n",
    "stops when it finds the character. The output is the index at which it stopped.\n",
    "Otherwise, the postconditions tell us the output is the length of the string.\n",
    "\n",
    "1. for each *index* from 0 to │*text*│ - 1:\n",
    "   1. if *text*[*index*] = *character*:\n",
    "      1. stop\n",
    "1. let *index* be │*text*│"
   ]
  },
  {
   "cell_type": "markdown",
   "id": "10",
   "metadata": {},
   "source": [
    "#### Complexity"
   ]
  },
  {
   "cell_type": "markdown",
   "id": "11",
   "metadata": {},
   "source": [
    "Whenever there's a stop statement within a loop, we must think of\n",
    "best- and worst-case scenarios: under which conditions does the algorithm\n",
    "stop the earliest and stop the latest?\n",
    "\n",
    "For this algorithm, the loop can stop in its first iteration\n",
    "if the first character of the text is the sought character.\n",
    "In that case step&nbsp;1.1, which takes constant time, is executed once,\n",
    "so the algorithm has best-case complexity Θ(1).\n",
    "\n",
    "In a worst-case scenario the algorithm goes through all characters.\n",
    "This may happen because the character doesn't occur at all\n",
    "or only in the last position.\n",
    "Step&nbsp;1.1 is executed │*text*│ times; the worst-case complexity is Θ(│*text*│).\n",
    "\n",
    "The complexity of linear search algorithms is often, but not always, constant in the best case and linear in the size of the sequence in the worst case."
   ]
  },
  {
   "cell_type": "markdown",
   "id": "12",
   "metadata": {},
   "source": [
    "#### Code and tests"
   ]
  },
  {
   "cell_type": "markdown",
   "id": "13",
   "metadata": {},
   "source": [
    "The translation to Python makes use of the `range` constructor.\n",
    "We must not forget that the end of the range isn't included and so must be\n",
    "one higher (or lower, if iterating backwards) than we need."
   ]
  },
  {
   "cell_type": "code",
   "execution_count": 1,
   "id": "14",
   "metadata": {},
   "outputs": [],
   "source": [
    "def first_index(text: str, character: str) -> int:\n",
    "    \"\"\"Return the lowest index of character in text.\n",
    "\n",
    "    Preconditions: len(character) = 1\n",
    "    Postconditions: if text includes character, then the output is\n",
    "    the lowest index such that text[index] = character,\n",
    "    otherwise the output is len(text)\n",
    "    \"\"\"\n",
    "    for index in range(len(text)):\n",
    "        if text[index] == character:\n",
    "            return index\n",
    "    return len(text)"
   ]
  },
  {
   "cell_type": "code",
   "execution_count": 2,
   "id": "15",
   "metadata": {},
   "outputs": [
    {
     "data": {
      "text/plain": [
       "True"
      ]
     },
     "execution_count": 2,
     "metadata": {},
     "output_type": "execute_result"
    }
   ],
   "source": [
    "first_index(\"\", \"a\") == 0"
   ]
  },
  {
   "cell_type": "code",
   "execution_count": 3,
   "id": "16",
   "metadata": {},
   "outputs": [
    {
     "data": {
      "text/plain": [
       "True"
      ]
     },
     "execution_count": 3,
     "metadata": {},
     "output_type": "execute_result"
    }
   ],
   "source": [
    "first_index(\"all\", \"a\") == 0"
   ]
  },
  {
   "cell_type": "code",
   "execution_count": 4,
   "id": "17",
   "metadata": {},
   "outputs": [
    {
     "data": {
      "text/plain": [
       "True"
      ]
     },
     "execution_count": 4,
     "metadata": {},
     "output_type": "execute_result"
    }
   ],
   "source": [
    "first_index(\"abracadabra\", \"c\") == 4"
   ]
  },
  {
   "cell_type": "code",
   "execution_count": 5,
   "id": "18",
   "metadata": {},
   "outputs": [
    {
     "data": {
      "text/plain": [
       "True"
      ]
     },
     "execution_count": 5,
     "metadata": {},
     "output_type": "execute_result"
    }
   ],
   "source": [
    "first_index(\"hi!\", \"!\") == 2"
   ]
  },
  {
   "cell_type": "code",
   "execution_count": 6,
   "id": "19",
   "metadata": {},
   "outputs": [
    {
     "data": {
      "text/plain": [
       "True"
      ]
     },
     "execution_count": 6,
     "metadata": {},
     "output_type": "execute_result"
    }
   ],
   "source": [
    "first_index(\"abracadabra\", \"b\") == 1"
   ]
  },
  {
   "cell_type": "code",
   "execution_count": 7,
   "id": "20",
   "metadata": {},
   "outputs": [
    {
     "data": {
      "text/plain": [
       "True"
      ]
     },
     "execution_count": 7,
     "metadata": {},
     "output_type": "execute_result"
    }
   ],
   "source": [
    "first_index(\"abracadabra\", \"k\") == 11"
   ]
  },
  {
   "cell_type": "markdown",
   "id": "21",
   "metadata": {},
   "source": [
    "#### Performance"
   ]
  },
  {
   "cell_type": "markdown",
   "id": "22",
   "metadata": {},
   "source": [
    "To illustrate the use of repeated concatenation, let's check that the\n",
    "worst-case complexity is linear in the size of the input string.\n",
    "A worst-case scenario is for the sought character to not occur."
   ]
  },
  {
   "cell_type": "code",
   "execution_count": 8,
   "id": "23",
   "metadata": {},
   "outputs": [
    {
     "name": "stdout",
     "output_type": "stream",
     "text": [
      "12.4 μs ± 1.45 μs per loop (mean ± std. dev. of 3 runs, 1,000 loops each)\n",
      "20.5 μs ± 836 ns per loop (mean ± std. dev. of 3 runs, 1,000 loops each)\n",
      "42.5 μs ± 406 ns per loop (mean ± std. dev. of 3 runs, 1,000 loops each)\n",
      "87.5 μs ± 169 ns per loop (mean ± std. dev. of 3 runs, 1,000 loops each)\n"
     ]
    }
   ],
   "source": [
    "text = 100 * \"blah\"  # start with a not too short string\n",
    "%timeit -r 3 -n 1000 first_index(text, '!')\n",
    "text = 200 * \"blah\"\n",
    "%timeit -r 3 -n 1000 first_index(text, '!')\n",
    "text = 400 * \"blah\"\n",
    "%timeit -r 3 -n 1000 first_index(text, '!')\n",
    "text = 800 * \"blah\"\n",
    "%timeit -r 3 -n 1000 first_index(text, '!')"
   ]
  },
  {
   "cell_type": "markdown",
   "id": "24",
   "metadata": {},
   "source": [
    "On my computer, the run-time roughly doubles as the input size doubles,\n",
    "thereby confirming that the worst-case complexity is linear."
   ]
  },
  {
   "cell_type": "markdown",
   "id": "25",
   "metadata": {},
   "source": [
    "### 4.4.2 Valid password"
   ]
  },
  {
   "cell_type": "markdown",
   "id": "26",
   "metadata": {},
   "source": [
    "Consider the problem of deciding whether a given string is a valid password,\n",
    "which we take to mean having at least one lowercase letter and one digit.\n",
    "To keep the example short, I focus on the problem definition, algorithm and complexity only.\n",
    "\n",
    "**Function**: valid password\\\n",
    "**Inputs**: *password*, a string\\\n",
    "**Preconditions**: true\\\n",
    "**Output**: *is valid*, a Boolean\\\n",
    "**Postconditions**:\n",
    "*is valid* if and only if *password* contains a digit and a lowercase letter\n",
    "\n",
    "There are two conditions to be satisfied, so we should write at least four\n",
    "tests, with inputs that satisfy both, neither or just one of the conditions."
   ]
  },
  {
   "cell_type": "markdown",
   "id": "27",
   "metadata": {},
   "source": [
    "#### Exercise 4.4.1"
   ]
  },
  {
   "cell_type": "markdown",
   "id": "28",
   "metadata": {},
   "source": [
    "Write a test table. Add rows as necessary.\n",
    "\n",
    "Case | *password* | *is valid*\n",
    "-|-|-\n",
    "  |   |\n",
    "\n",
    "[Hint](../31_Hints/Hints_04_4_01.ipynb)\n",
    "[Answer](../32_Answers/Answers_04_4_01.ipynb)"
   ]
  },
  {
   "cell_type": "markdown",
   "id": "29",
   "metadata": {},
   "source": [
    "#### Algorithm"
   ]
  },
  {
   "cell_type": "markdown",
   "id": "30",
   "metadata": {},
   "source": [
    "This is a decision problem that can be solved by\n",
    "searching for two characters with certain properties.\n",
    "We can use linear search again, as long as we remember if we found\n",
    "a lowercase letter and a digit so far. There are only two states for each,\n",
    "found or not found, so Boolean variables will do.\n",
    "This problem doesn't require keeping track of indices,\n",
    "so we can iterate over the string directly.\n",
    "\n",
    "1. let *has letter* be false\n",
    "2. let *has digit* be false\n",
    "3. for each *character* in *password*:\n",
    "   1. if '0' ≤ *character* ≤ '9':\n",
    "      1. let *has digit* be true\n",
    "   1. if 'a' ≤ *character* ≤ 'z':\n",
    "      1. let *has letter* be true\n",
    "1. let *is valid* be *has digit* and *has letter*\n",
    "\n",
    "This is a typical use of Boolean variables as **flags**.\n",
    "A flag is 'raised', i.e. the Boolean is set to true, when some condition occurs\n",
    "and it stays raised to remember that the condition occurred.\n",
    "The use of Boolean flags is common in searches."
   ]
  },
  {
   "cell_type": "markdown",
   "id": "31",
   "metadata": {},
   "source": [
    "#### Exercise 4.4.2"
   ]
  },
  {
   "cell_type": "markdown",
   "id": "32",
   "metadata": {},
   "source": [
    "Explain whether the following algorithm is correct.\n",
    "\n",
    "1. let *has letter* be false\n",
    "2. let *has digit* be false\n",
    "3. for each *character* in *password*:\n",
    "   1. let *has digit* be '0' ≤ *character* ≤ '9'\n",
    "   1. let *has letter* be 'a' ≤ *character* ≤ 'z'\n",
    "1. let *is valid* be *has digit* and *has letter*"
   ]
  },
  {
   "cell_type": "markdown",
   "id": "33",
   "metadata": {},
   "source": [
    "_Write your answer here._"
   ]
  },
  {
   "cell_type": "markdown",
   "id": "34",
   "metadata": {},
   "source": [
    "[Hint](../31_Hints/Hints_04_4_02.ipynb)\n",
    "[Answer](../32_Answers/Answers_04_4_02.ipynb)"
   ]
  },
  {
   "cell_type": "markdown",
   "id": "35",
   "metadata": {},
   "source": [
    "#### Exercise 4.4.3"
   ]
  },
  {
   "cell_type": "markdown",
   "id": "36",
   "metadata": {},
   "source": [
    "The algorithm goes through the whole string even\n",
    "if a lowercase letter and digit appear early on in the string.\n",
    "Alice and Bob are modifying the algorithm to stop as soon as it can.\n",
    "This is Alice's algorithm:\n",
    "\n",
    "1. let *has letter* be false\n",
    "2. let *has digit* be false\n",
    "3. for each *character* in *password*:\n",
    "   1. if '0' ≤ *character* ≤ '9':\n",
    "      1. let *has digit* be true\n",
    "   1. if 'a' ≤ *character* ≤ 'z':\n",
    "      1. let *has letter* be true\n",
    "   1. if *has digit* and *has letter*:\n",
    "      1. stop\n",
    "1. let *is valid* be *has digit* and *has letter*\n",
    "\n",
    "This is Bob's algorithm:\n",
    "\n",
    "1. let *has letter* be false\n",
    "2. let *has digit* be false\n",
    "3. for each *character* in *password*:\n",
    "   1. if '0' ≤ *character* ≤ '9':\n",
    "      1. let *has digit* be true\n",
    "   1. if 'a' ≤ *character* ≤ 'z':\n",
    "      1. let *has letter* be true\n",
    "   1. let *is valid* be *has digit* and *has letter*\n",
    "   1. if *is valid*:\n",
    "      1. stop\n",
    "\n",
    "For each algorithm, explain whether it's correct or not."
   ]
  },
  {
   "cell_type": "markdown",
   "id": "37",
   "metadata": {},
   "source": [
    "_Write your answer here._"
   ]
  },
  {
   "cell_type": "markdown",
   "id": "38",
   "metadata": {},
   "source": [
    "[Answer](../32_Answers/Answers_04_4_03.ipynb)"
   ]
  },
  {
   "cell_type": "markdown",
   "id": "39",
   "metadata": {},
   "source": [
    "#### Complexity"
   ]
  },
  {
   "cell_type": "markdown",
   "id": "40",
   "metadata": {},
   "source": [
    "The complexity of an algorithm is an indication of how its run-time grows\n",
    "for increasingly large inputs. By definition, a constant-time step doesn't make\n",
    "the run-time grow and so doesn't contribute to the complexity of the algorithm.\n",
    "We can thus ignore all constant-time steps when analysing the complexity.\n",
    "Well, not quite all: we can't ignore if and stop statements,\n",
    "because they affect how the algorithm behaves. For the original algorithm,\n",
    "and Alice's, we ignore steps 1, 2, 3.1.1, 3.2.1 and&nbsp;4.\n",
    "(Bob's algorithm doesn't have a step&nbsp;4: we ignore step&nbsp;3.3 instead.)\n",
    "\n",
    "The 'partial' algorithm\n",
    "\n",
    "3. for each *character* in *password*:\n",
    "   1. if '0' ≤ *character* ≤ '9':\n",
    "   1. if 'a' ≤ *character* ≤ 'z':\n",
    "\n",
    "has exactly the same complexity as the complete algorithm.\n",
    "Both if-statements take constant time, as each does one or two comparisons.\n",
    "Whether the current character is a letter, digit or something else,\n",
    "each iteration takes constant time.\n",
    "The complexity is thus linear in the number of iterations,\n",
    "which is the length of the input string: Θ(│*password*│).\n",
    "\n",
    "As mentioned before, the complexity of an algorithm is not about the\n",
    "run-times for particular problem instances, but rather about the growth of\n",
    "the run-times for instances with increasingly large values or sizes.\n",
    "Therefore, a scenario is a *collection* of problem instances with\n",
    "increasing sizes or values: a scenario is not a *single* problem instance.\n",
    "Even though this algorithm does the least work for the empty string,\n",
    "because the loop is skipped, the empty string is *not* a best-case scenario."
   ]
  },
  {
   "cell_type": "markdown",
   "id": "41",
   "metadata": {},
   "source": [
    "#### Exercise 4.4.4"
   ]
  },
  {
   "cell_type": "markdown",
   "id": "42",
   "metadata": {},
   "source": [
    "What are best- and worst-case scenarios for a linear search algorithm that\n",
    "stops as soon as it knows the password is valid?"
   ]
  },
  {
   "cell_type": "markdown",
   "id": "43",
   "metadata": {},
   "source": [
    "_Write your answer here._"
   ]
  },
  {
   "cell_type": "markdown",
   "id": "44",
   "metadata": {},
   "source": [
    "[Hint](../31_Hints/Hints_04_4_04.ipynb)\n",
    "[Answer](../32_Answers/Answers_04_4_04.ipynb)"
   ]
  },
  {
   "cell_type": "markdown",
   "id": "45",
   "metadata": {},
   "source": [
    "#### Exercise 4.4.5"
   ]
  },
  {
   "cell_type": "markdown",
   "id": "46",
   "metadata": {},
   "source": [
    "Implement and test the password-validation function.\n",
    "You can choose the original algorithm or\n",
    "the more efficient version that stops early."
   ]
  },
  {
   "cell_type": "code",
   "execution_count": 9,
   "id": "47",
   "metadata": {},
   "outputs": [],
   "source": [
    "# replace this with your code"
   ]
  },
  {
   "cell_type": "markdown",
   "id": "48",
   "metadata": {},
   "source": [
    "Add code cells for the tests.\n",
    "\n",
    "[Answer](../32_Answers/Answers_04_4_05.ipynb)"
   ]
  },
  {
   "cell_type": "markdown",
   "id": "49",
   "metadata": {},
   "source": [
    "⟵ [Previous section](04_3_iteration.ipynb) | [Up](04-introduction.ipynb) | [Next section](04_5_tuples.ipynb) ⟶"
   ]
  }
 ],
 "metadata": {
  "kernelspec": {
   "display_name": "Python 3",
   "language": "python",
   "name": "python3"
  },
  "language_info": {
   "codemirror_mode": {
    "name": "ipython",
    "version": 3
   },
   "file_extension": ".py",
   "mimetype": "text/x-python",
   "name": "python",
   "nbconvert_exporter": "python",
   "pygments_lexer": "ipython3",
   "version": "3.12.10"
  }
 },
 "nbformat": 4,
 "nbformat_minor": 5
}
