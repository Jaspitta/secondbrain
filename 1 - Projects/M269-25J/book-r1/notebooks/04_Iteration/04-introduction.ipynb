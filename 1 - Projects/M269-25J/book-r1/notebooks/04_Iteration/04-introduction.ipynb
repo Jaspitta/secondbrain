{
 "cells": [
  {
   "cell_type": "markdown",
   "id": "0",
   "metadata": {},
   "source": [
    "# 4 Sequences and iteration"
   ]
  },
  {
   "cell_type": "markdown",
   "id": "1",
   "metadata": {},
   "source": [
    "There's not much that algorithms using only sequences and selections of\n",
    "instructions can do. The ability to handle large inputs comes from\n",
    "iteration: the ability to repeatedly loop through instructions,\n",
    "either for a fixed number of times or until some condition occurs.\n",
    "The three ways of structuring instructions can be arbitrarily combined:\n",
    "we can have a sequence of selections, a selection of iterations,\n",
    "an iteration of iterations, etc.\n",
    "The power of computation comes from this flexibility.\n",
    "This chapter covers the loop instructions used in M269.\n",
    "\n",
    "Likewise, there's not much that algorithms using only numeric and logical\n",
    "variables can do. The ability to handle large data comes from aggregating\n",
    "individual values into **collections**, sometimes also called **containers**.\n",
    "One of the simplest collection types\n",
    "is a sequence of data items, one after the other.\n",
    "Data sequences almost always require iterative algorithms\n",
    "in order to process all items, one by one. This chapter introduces\n",
    "the sequence ADT and four implementations of it in Python.\n",
    "\n",
    "This chapter supports the following learning outcomes:\n",
    "\n",
    "- Understand the common general-purpose data structures, algorithmic techniques and complexity classes –\n",
    "  this chapter introduces sequence data types and iterative algorithms.\n",
    "- Analyse the complexity of algorithms to support software design choices –\n",
    "  this chapter introduces the analysis of algorithms with loops.\n",
    "- Write readable, tested, documented and efficient Python code –\n",
    "  this chapter introduces a simple framework to automatically test functions."
   ]
  },
  {
   "cell_type": "markdown",
   "id": "2",
   "metadata": {},
   "source": [
    "<div class=\"alert alert-warning\">\n",
    "<strong>Note:</strong> This is the longest chapter in the book.\n",
    "Don't feel rushed to complete it in one week.\n",
    "You can use part of next week to catch up.\n",
    "</div>"
   ]
  },
  {
   "cell_type": "markdown",
   "id": "3",
   "metadata": {},
   "source": [
    "Before starting to work on this chapter, check the M269\n",
    "[news](https://learn2.open.ac.uk/blocks/news/all.php?bi=326014) and [errata](https://learn2.open.ac.uk/mod/url/view.php?id=2554721),\n",
    "and check the TMAs for what is assessed."
   ]
  },
  {
   "cell_type": "markdown",
   "id": "4",
   "metadata": {
    "nbsphinx-toctree": {
     "hidden": true,
     "maxdepth": 1,
     "numbered": false
    }
   },
   "source": [
    "1. [The Sequence ADT](04_1_sequences.ipynb)\n",
    "1. [Strings](04_2_strings.ipynb)\n",
    "1. [Iteration](04_3_iteration.ipynb)\n",
    "1. [Linear search](04_4_search.ipynb)\n",
    "1. [Tuples and tables](04_5_tuples.ipynb)\n",
    "1. [Lists](04_6_lists.ipynb)\n",
    "1. [Reversal](04_7_reverse.ipynb)\n",
    "1. [Optional practice](04_8_practice.ipynb)\n",
    "1. [Summary](04_9_summary.ipynb)"
   ]
  },
  {
   "cell_type": "markdown",
   "id": "5",
   "metadata": {},
   "source": [
    "⟵ [Previous chapter](../03_Selection/03-introduction.ipynb) | [Up](../M269.ipynb) | [Next chapter](../05_TMA01-1/05-introduction.ipynb) ⟶"
   ]
  }
 ],
 "metadata": {
  "kernelspec": {
   "display_name": "Python 3",
   "language": "python",
   "name": "python3"
  },
  "language_info": {
   "codemirror_mode": {
    "name": "ipython",
    "version": 3
   },
   "file_extension": ".py",
   "mimetype": "text/x-python",
   "name": "python",
   "nbconvert_exporter": "python",
   "pygments_lexer": "ipython3",
   "version": "3.12.10"
  }
 },
 "nbformat": 4,
 "nbformat_minor": 5
}
