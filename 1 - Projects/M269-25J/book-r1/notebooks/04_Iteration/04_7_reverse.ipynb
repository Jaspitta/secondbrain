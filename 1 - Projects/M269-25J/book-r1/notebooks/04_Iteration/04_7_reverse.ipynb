{
 "cells": [
  {
   "cell_type": "markdown",
   "id": "0",
   "metadata": {},
   "source": [
    "## 4.7 Reversal"
   ]
  },
  {
   "cell_type": "markdown",
   "id": "1",
   "metadata": {},
   "source": [
    "This section presents a single problem, reversing a sequence, to further\n",
    "illustrate sequences, iteration and the problem-solving process."
   ]
  },
  {
   "cell_type": "markdown",
   "id": "2",
   "metadata": {},
   "source": [
    "### 4.7.1 Problem definition"
   ]
  },
  {
   "cell_type": "markdown",
   "id": "3",
   "metadata": {},
   "source": [
    "This is the definition from the\n",
    "[previous section](../04_Iteration/04_6_lists.ipynb#Exercise-4.6.1).\n",
    "\n",
    "**Function**: reverse sequence\\\n",
    "**Inputs**: *values*, a sequence\\\n",
    "**Preconditions**: true\\\n",
    "**Output**: *reverse*, a sequence\\\n",
    "**Postconditions**: *reverse* =\n",
    "(*values*[│ *values* │ - 1], *values*[│ *values* │ - 2], ..., *values*[1], *values*[0])\n",
    "\n",
    "With the Python operations we have seen so far, it's impossible to write\n",
    "a Python function that reverses any sequence, be it a string, tuple or list.\n",
    "We have to restrict the problem to a particular data type. I'll solve it\n",
    "for lists and I'll leave strings to you as an exercise.\n",
    "(Tuples are handled similarly.)\n",
    "\n",
    "**Function**: reverse list\\\n",
    "**Inputs**: *values*, a list\\\n",
    "**Preconditions**: true\\\n",
    "**Output**: *reverse*, a list\\\n",
    "**Postconditions**: *reverse* =\n",
    "[*values*[│ *values* │ - 1], *values*[│ *values* │ - 2], ..., *values*[1], *values*[0]]\n",
    "\n",
    "Since this function is for a Python data type,\n",
    "I use Python's notation (square brackets for lists) in the postcondition."
   ]
  },
  {
   "cell_type": "markdown",
   "id": "4",
   "metadata": {},
   "source": [
    "### 4.7.2 Problem instances"
   ]
  },
  {
   "cell_type": "markdown",
   "id": "5",
   "metadata": {},
   "source": [
    "I have to think of some problem instances to test the function.\n",
    "The smallest possible inputs are always edge cases and\n",
    "must be included in the test table. For this example, it's the empty list.\n",
    "If the preconditions allow the empty sequence, then a sequence with\n",
    "a single item is an edge case too: it's the smallest non-empty sequence.\n",
    "\n",
    "For problems about sequences, it's often convenient to test sequences of\n",
    "odd and even length, because the middle element of a list of odd length\n",
    "may be treated differently. In this problem, the middle member is\n",
    "the only one that has the same position in the reverse list.\n",
    "\n",
    "Test cases for sequences should also include, if the preconditions allow,\n",
    "duplicate and unique items, and values of different types.\n",
    "\n",
    "When thinking about problem instances, put your hacker hat on:\n",
    "you're trying to break the algorithm to reveal it's incorrect.\n",
    "Throw curveballs: think of valid inputs that most people wouldn't dream of\n",
    "when reading the problem description.\n",
    "You don't need large inputs to properly test an algorithm.\n",
    "An algorithm is often incorrect because it failed to consider a particular\n",
    "case, e.g. all items in a sequence being the same.\n",
    "Such cases can be covered with small inputs.\n",
    "When it comes to problem instances for testing, think small, think wildly.\n",
    "(But not too wildly: all test cases must satisfy the preconditions.)\n",
    "\n",
    "So far, we wrote test tables in Markdown and translated them to\n",
    "one code cell per test case. We can now write them directly in Python,\n",
    "as a list (or tuple) of test cases, each represented by a list or tuple.\n",
    "I prefer to write test tables as a list of tuples,\n",
    "so that I can later append a test case if I forgot one,\n",
    "but you can use any combination you prefer.\n",
    "\n",
    "The table's name is the operation's name followed by `_tests`.\n",
    "Each row is the test case description (a string), followed by the input values\n",
    "and ending with the expected output value.\n",
    "The column headings are a comment instead of a row;\n",
    "you'll see why when we get to the actual testing.\n",
    "\n",
    "Here's a possible table for the reversal problem.\n",
    "It includes odd- and even-length lists, values of different types,\n",
    "and lists with duplicate items."
   ]
  },
  {
   "cell_type": "code",
   "execution_count": 1,
   "id": "6",
   "metadata": {},
   "outputs": [],
   "source": [
    "reverse_list_tests = [\n",
    "    # case,             values,             reverse\n",
    "    ('empty list',      [],                 []              ),\n",
    "    ('length 1',        [4],                [4]             ),\n",
    "    ('length 2',        [5, True],          [True, 5]       ),\n",
    "    ('length 5',        [5, 6, 7, 8, 9],    [9, 8, 7, 6, 5] ),\n",
    "    ('same items',      [0, 0, 0],          [0, 0, 0]       )\n",
    "]"
   ]
  },
  {
   "cell_type": "markdown",
   "id": "7",
   "metadata": {},
   "source": [
    "The `algoesup` module, part of the M269&nbsp;software, has a function `check_tests`\n",
    "that checks if the test table is well formed. It takes two arguments: the table\n",
    "and a list with the types of the inputs and output. In this example, there's only\n",
    "one input (a list to be reversed) and the output is also a list (the reversed one),\n",
    "so we write:"
   ]
  },
  {
   "cell_type": "code",
   "execution_count": 2,
   "id": "8",
   "metadata": {},
   "outputs": [
    {
     "name": "stdout",
     "output_type": "stream",
     "text": [
      "OK: the test table passed the automatic checks.\n"
     ]
    }
   ],
   "source": [
    "import algoesup\n",
    "\n",
    "algoesup.check_tests(reverse_list_tests, [list, list])"
   ]
  },
  {
   "cell_type": "markdown",
   "id": "9",
   "metadata": {},
   "source": [
    "When we need a function `f` from a module `m`,\n",
    "we can write `from m import f` to directly refer to `f`, instead of writing `m.f`."
   ]
  },
  {
   "cell_type": "code",
   "execution_count": 3,
   "id": "10",
   "metadata": {},
   "outputs": [
    {
     "name": "stdout",
     "output_type": "stream",
     "text": [
      "OK: the test table passed the automatic checks.\n"
     ]
    }
   ],
   "source": [
    "from algoesup import check_tests\n",
    "\n",
    "check_tests(reverse_list_tests, [list, list])"
   ]
  },
  {
   "cell_type": "markdown",
   "id": "11",
   "metadata": {},
   "source": [
    "Function `check_tests` only spots structural mistakes, like\n",
    "the table not being a list or tuple of tests,\n",
    "or a test not starting with a string describing the test case.\n",
    "Even if the table is OK, the tests may be wrong.\n",
    "For example, the checks won't spot if the expected output is wrong."
   ]
  },
  {
   "cell_type": "markdown",
   "id": "12",
   "metadata": {},
   "source": [
    "### 4.7.3 Algorithm"
   ]
  },
  {
   "cell_type": "markdown",
   "id": "13",
   "metadata": {},
   "source": [
    "Sometimes the best way to come up with an algorithm is to think how we'd\n",
    "do it manually. And I literally mean with our hands.\n",
    "\n",
    "The reverse operation takes one list and produces another one.\n",
    "Lists have to be processed item by item. I use my left index finger to\n",
    "point at the item being processed in the input list and\n",
    "my right index finger to point to the position where\n",
    "that item should be put in the output list.\n",
    "\n",
    "Initially, my left finger points at the first item of *values* and\n",
    "my right finger points to an empty *reverse* list. Let's use the length&nbsp;2 test case.\n",
    "\n",
    "<p id=\"fig-4.7.1\"></p>\n",
    "\n",
    "*[Figure 4.7.1](../33_Figures/Figures_04_7.ipynb#Figure-4.7.1)*\n",
    "\n",
    "![Image 04_7_reverse_1.png](04_7_reverse_1.png)\n",
    "\n",
    "The first two steps are obvious: insert the item pointed by the left finger\n",
    "into the empty list and move the left finger to the next item.\n",
    "\n",
    "<p id=\"fig-4.7.2\"></p>\n",
    "\n",
    "*[Figure 4.7.2](../33_Figures/Figures_04_7.ipynb#Figure-4.7.2)*\n",
    "\n",
    "![Image 04_7_reverse_2.png](04_7_reverse_2.png)\n",
    "\n",
    "The second item of *values* should be inserted at the start of *reverse*,\n",
    "hence I can keep the right finger where it is.\n",
    "\n",
    "<p id=\"fig-4.7.3\"></p>\n",
    "\n",
    "*[Figure 4.7.3](../33_Figures/Figures_04_7.ipynb#Figure-4.7.3)*\n",
    "\n",
    "![Image 04_7_reverse_3.png](04_7_reverse_3.png)\n",
    "\n",
    "If the input list were longer, I would continue in the same way.\n",
    "Each item of *values* has to be inserted at index&nbsp;0 of *reverse*\n",
    "to push the previous items to the right. I'm ready to write the algorithm:\n",
    "\n",
    "1. let *reverse* be the empty list\n",
    "2. for each *item* in *values*:\n",
    "   1. insert *item* at index&nbsp;0 of *reverse*\n",
    "\n",
    "Before implementing this algorithm, let's check it works for the edge cases.\n",
    "Does it work for lists of length&nbsp;0 and 1?\n",
    "\n",
    "___\n",
    "\n",
    "Yes, it does. The loop is executed as often as the length of the input list,\n",
    "so the output is the same as the input for lists of length&nbsp;0 and 1."
   ]
  },
  {
   "cell_type": "markdown",
   "id": "14",
   "metadata": {},
   "source": [
    "### 4.7.4 Complexity"
   ]
  },
  {
   "cell_type": "markdown",
   "id": "15",
   "metadata": {},
   "source": [
    "I can ignore step&nbsp;1 because it takes constant time.\n",
    "Step&nbsp;2 is executed │*values*│ times.\n",
    "The complexity of inserting an item at index *i* in a list of length *l* is\n",
    "Θ(*l* - *i*). In step&nbsp;3, *i* = 0, so that step has complexity Θ(│*reverse*│):\n",
    "it shifts all items in *reverse* up to make space for a new item at index&nbsp;0.\n",
    "The complexity of the loop is hence\n",
    "│*values*│ × Θ(│*reverse*│) = Θ(│*values*│ × │*reverse*│).\n",
    "Unfortunately, I can't write it like that because *reverse* isn't an input.\n",
    "Fortunately, │*reverse*│ = │*values*│ because\n",
    "reversing a list doesn't change its length.\n",
    "The algorithm has quadratic complexity: Θ(│*values*│²)."
   ]
  },
  {
   "cell_type": "markdown",
   "id": "16",
   "metadata": {},
   "source": [
    "### 4.7.5 Code"
   ]
  },
  {
   "cell_type": "markdown",
   "id": "17",
   "metadata": {},
   "source": [
    "The translation of the function definition and the algorithm to Python is:"
   ]
  },
  {
   "cell_type": "code",
   "execution_count": 4,
   "id": "18",
   "metadata": {},
   "outputs": [],
   "source": [
    "def reverse_list(values: list) -> list:\n",
    "    \"\"\"Return the same items as values, in inverse order.\n",
    "\n",
    "    Postconditions: the output is\n",
    "    [values[-1], values [-2], ..., values[1], values[0]]\n",
    "    \"\"\"\n",
    "    reverse = []\n",
    "    for item in values:\n",
    "        reverse.insert(0, item)\n",
    "    return reverse"
   ]
  },
  {
   "cell_type": "markdown",
   "id": "19",
   "metadata": {},
   "source": [
    "### 4.7.6 Tests"
   ]
  },
  {
   "cell_type": "markdown",
   "id": "20",
   "metadata": {},
   "source": [
    "Having put the test cases in a table, we can automatically run all tests,\n",
    "instead of manually writing one code cell for each.\n",
    "This is done by function `algoesup.test`, which takes the\n",
    "function to be tested and the table of tests."
   ]
  },
  {
   "cell_type": "code",
   "execution_count": 5,
   "id": "21",
   "metadata": {},
   "outputs": [
    {
     "name": "stdout",
     "output_type": "stream",
     "text": [
      "Testing reverse_list...\n",
      "Tests finished: 5 passed (100%), 0 failed.\n"
     ]
    }
   ],
   "source": [
    "from algoesup import test\n",
    "\n",
    "test(reverse_list, reverse_list_tests)"
   ]
  },
  {
   "cell_type": "markdown",
   "id": "22",
   "metadata": {},
   "source": [
    "The `test` function goes through each row of the test table,\n",
    "extracts the case description, the input and the expected output, calls\n",
    "the `reverse_list` function on that input and compares the result to the expected output.\n",
    "If the actual and expected outputs differ, the test fails and is reported.\n",
    "\n",
    "The `test` function checks the test table before running the tests,\n",
    "but does fewer checks than `check_tests`, namely it doesn't\n",
    "check the types of the tests' inputs and output. Despite this, I will use mostly\n",
    "function `test` to check the table, and only call `check_tests` when `test` can't be used,\n",
    "namely when I've yet to write the function to be tested."
   ]
  },
  {
   "cell_type": "markdown",
   "id": "23",
   "metadata": {},
   "source": [
    "<div class=\"alert alert-info\">\n",
    "<strong>Info:</strong> The <code>algoesup</code> module was written by former M269&nbsp;student Michael Snowden and myself,\n",
    "to support the writing of algorithmic essays in Jupyter notebooks.\n",
    "If you have the time, I recommend you write an essay on a problem of your choice,\n",
    "to practice M269 concepts and your communication skills.\n",
    "See our <a href=\"https://dsa-ou.github.io/algoesup\">website</a> for example essays,\n",
    "essay templates, and guidance to get you started.\n",
    "</div>"
   ]
  },
  {
   "cell_type": "markdown",
   "id": "24",
   "metadata": {},
   "source": [
    "### 4.7.7 Performance"
   ]
  },
  {
   "cell_type": "markdown",
   "id": "25",
   "metadata": {},
   "source": [
    "An algorithm with quadratic complexity takes much longer than\n",
    "an algorithm with linear complexity.\n",
    "Let's assume an algorithm with complexity Θ(*e*) does exactly *e* operations,\n",
    "each taking one microsecond. Here are the run-times for various input sizes *n*.\n",
    "\n",
    "*n* | Θ(1) | Θ(*n*) | Θ(*n*²)\n",
    "-|-|-|-\n",
    "10  | 1&nbsp;µs  | 10&nbsp;µs  | 100&nbsp;µs\n",
    "1,000  | 1&nbsp;µs  | 1&nbsp;ms  | 1&nbsp;s\n",
    "2,000  | 1&nbsp;µs  | 2&nbsp;ms  | 4&nbsp;s\n",
    "2,000,000 | 1&nbsp;µs  | 2&nbsp;s  | 4,000,000&nbsp;s = 46&nbsp;days\n",
    "\n",
    "When the input size doubles, a linear algorithm takes double the time,\n",
    "but a quadratic algorithm takes 2² = 4 times as long.\n",
    "If the input is a thousand times as long then a linear algorithm takes a thousand\n",
    "times as long, but a quadratic algorithm takes 1000² = 1,000,000 times as long!"
   ]
  },
  {
   "cell_type": "markdown",
   "id": "26",
   "metadata": {},
   "source": [
    "<div class=\"alert alert-warning\">\n",
    "<strong>Note:</strong> When the input size doubles, the run-time of algorithms with constant, linear\n",
    "and quadratic complexity respectively stays the same, doubles or quadruples.\n",
    "</div>"
   ]
  },
  {
   "cell_type": "markdown",
   "id": "27",
   "metadata": {},
   "source": [
    "To measure the run-times of quadratic algorithms\n",
    "we can't use very large inputs, unless we're prepared to wait quite a bit."
   ]
  },
  {
   "cell_type": "code",
   "execution_count": 6,
   "id": "28",
   "metadata": {},
   "outputs": [
    {
     "name": "stdout",
     "output_type": "stream",
     "text": [
      "Reversing 10 numbers:\n",
      "264 ns ± 1.09 ns per loop (mean ± std. dev. of 5 runs, 1,000,000 loops each)\n",
      "Reversing 20 numbers:\n",
      "499 ns ± 3.2 ns per loop (mean ± std. dev. of 5 runs, 1,000,000 loops each)\n",
      "Reversing 40 numbers:\n",
      "1.13 μs ± 6.59 ns per loop (mean ± std. dev. of 5 runs, 1,000,000 loops each)\n",
      "Reversing 80 numbers:\n",
      "3.33 μs ± 24.7 ns per loop (mean ± std. dev. of 5 runs, 100,000 loops each)\n",
      "Reversing 160 numbers:\n",
      "9.91 μs ± 28.4 ns per loop (mean ± std. dev. of 5 runs, 100,000 loops each)\n",
      "Reversing 320 numbers:\n",
      "31.9 μs ± 192 ns per loop (mean ± std. dev. of 5 runs, 10,000 loops each)\n",
      "Reversing 640 numbers:\n",
      "111 μs ± 309 ns per loop (mean ± std. dev. of 5 runs, 10,000 loops each)\n",
      "Reversing 1280 numbers:\n",
      "409 μs ± 2.12 μs per loop (mean ± std. dev. of 5 runs, 1,000 loops each)\n",
      "Reversing 2560 numbers:\n",
      "1.58 ms ± 19.7 μs per loop (mean ± std. dev. of 5 runs, 1,000 loops each)\n",
      "Reversing 5120 numbers:\n",
      "6.18 ms ± 30.2 μs per loop (mean ± std. dev. of 5 runs, 100 loops each)\n"
     ]
    }
   ],
   "source": [
    "size = 10\n",
    "for measurement in range(10):\n",
    "    numbers = list(range(size))  # list [0, 1, 2, ..., size-1]\n",
    "    print(\"Reversing\", size, \"numbers:\")\n",
    "    %timeit -r 5 reverse_list(numbers)\n",
    "    size = size * 2"
   ]
  },
  {
   "cell_type": "markdown",
   "id": "29",
   "metadata": {},
   "source": [
    "On my machine the run-times start quadrupling for the larger values:\n",
    "the run-times for very small inputs are not a reliable indication of complexity.\n",
    "I should have started with a size of, say, 500, and do fewer than ten measurements."
   ]
  },
  {
   "cell_type": "markdown",
   "id": "30",
   "metadata": {},
   "source": [
    "#### Exercise 4.7.1"
   ]
  },
  {
   "cell_type": "markdown",
   "id": "31",
   "metadata": {},
   "source": [
    "Write a more efficient algorithm to produce a reverse list.\n",
    "(The next exercise asks you to justify why it's more efficient.)"
   ]
  },
  {
   "cell_type": "markdown",
   "id": "32",
   "metadata": {},
   "source": [
    "_Write your answer here._"
   ]
  },
  {
   "cell_type": "markdown",
   "id": "33",
   "metadata": {},
   "source": [
    "[Hint](../31_Hints/Hints_04_7_01.ipynb)\n",
    "[Answer](../32_Answers/Answers_04_7_01.ipynb)"
   ]
  },
  {
   "cell_type": "markdown",
   "id": "34",
   "metadata": {},
   "source": [
    "#### Exercise 4.7.2"
   ]
  },
  {
   "cell_type": "markdown",
   "id": "35",
   "metadata": {},
   "source": [
    "Analyse the complexity of your algorithm,\n",
    "showing that it's more efficient than the original algorithm.\n",
    "\n",
    "[Answer](../32_Answers/Answers_04_7_02.ipynb)"
   ]
  },
  {
   "cell_type": "markdown",
   "id": "36",
   "metadata": {},
   "source": [
    "#### Exercise 4.7.3"
   ]
  },
  {
   "cell_type": "markdown",
   "id": "37",
   "metadata": {},
   "source": [
    "Translate your algorithm to Python and test it."
   ]
  },
  {
   "cell_type": "code",
   "execution_count": 7,
   "id": "38",
   "metadata": {},
   "outputs": [],
   "source": [
    "def reverse_list_2(values: list) -> list:\n",
    "    \"\"\"Return the same items as values, in inverse order.\n",
    "\n",
    "    This is a more efficient version of reverse_list.\n",
    "    Postconditions: the output is\n",
    "    [values[-1], values [-2], ..., values[1], values[0]]\n",
    "    \"\"\"\n",
    "    # replace with your function body\n",
    "\n",
    "\n",
    "test(reverse_list_2, reverse_list_tests)"
   ]
  },
  {
   "cell_type": "markdown",
   "id": "39",
   "metadata": {},
   "source": [
    "[Hint](../31_Hints/Hints_04_7_03.ipynb)\n",
    "[Answer](../32_Answers/Answers_04_7_03.ipynb)"
   ]
  },
  {
   "cell_type": "markdown",
   "id": "40",
   "metadata": {},
   "source": [
    "#### Exercise 4.7.4"
   ]
  },
  {
   "cell_type": "markdown",
   "id": "41",
   "metadata": {},
   "source": [
    "Write a reversal algorithm for when *values* and *reverse* are strings."
   ]
  },
  {
   "cell_type": "markdown",
   "id": "42",
   "metadata": {},
   "source": [
    "_Write your answer here._"
   ]
  },
  {
   "cell_type": "markdown",
   "id": "43",
   "metadata": {},
   "source": [
    "[Hint](../31_Hints/Hints_04_7_04.ipynb)\n",
    "[Answer](../32_Answers/Answers_04_7_04.ipynb)"
   ]
  },
  {
   "cell_type": "markdown",
   "id": "44",
   "metadata": {},
   "source": [
    "#### Exercise 4.7.5"
   ]
  },
  {
   "cell_type": "markdown",
   "id": "45",
   "metadata": {},
   "source": [
    "What is the complexity of your reversal algorithm for strings?"
   ]
  },
  {
   "cell_type": "markdown",
   "id": "46",
   "metadata": {},
   "source": [
    "_Write your answer here._"
   ]
  },
  {
   "cell_type": "markdown",
   "id": "47",
   "metadata": {},
   "source": [
    "[Hint](../31_Hints/Hints_04_7_05.ipynb)\n",
    "[Answer](../32_Answers/Answers_04_7_05.ipynb)"
   ]
  },
  {
   "cell_type": "markdown",
   "id": "48",
   "metadata": {},
   "source": [
    "#### Exercise 4.7.6"
   ]
  },
  {
   "cell_type": "markdown",
   "id": "49",
   "metadata": {},
   "source": [
    "Write an algorithm in English that reverses a list **in-place**, i.e.\n",
    "without creating a new list. There's a single input/output variable *values*.\n",
    "(See the solution to\n",
    "[Exercise 4.6.1](../04_Iteration/04_6_lists.ipynb#Exercise-4.6.1).)\n",
    "Think with your hands."
   ]
  },
  {
   "cell_type": "markdown",
   "id": "50",
   "metadata": {},
   "source": [
    "_Write your answer here._"
   ]
  },
  {
   "cell_type": "markdown",
   "id": "51",
   "metadata": {},
   "source": [
    "[Hint](../31_Hints/Hints_04_7_06.ipynb)\n",
    "[Answer](../32_Answers/Answers_04_7_06.ipynb)"
   ]
  },
  {
   "cell_type": "markdown",
   "id": "52",
   "metadata": {},
   "source": [
    "#### Exercise 4.7.7"
   ]
  },
  {
   "cell_type": "markdown",
   "id": "53",
   "metadata": {},
   "source": [
    "Implement your algorithm in the next code cell and run it.\n",
    "\n",
    "Note that the header indicates that the function returns `None`.\n",
    "That's Python's way of saying that it returns nothing, because the reversal is done in-place.\n",
    "Like `True` and `False`, `None` is both a value\n",
    "(that can be compared with the equality and inequality operations) and\n",
    "a keyword (so that it can't be used as a variable name by mistake).\n",
    "In Python, all functions that haven't a `return` statement return `None`."
   ]
  },
  {
   "cell_type": "code",
   "execution_count": 8,
   "id": "54",
   "metadata": {},
   "outputs": [],
   "source": [
    "def reverse_in_place(values: list) -> None:\n",
    "    \"\"\"Write the docstring.\"\"\"\n",
    "    # replace this with your code\n",
    "    # modify `values` variable and do NOT use a return statement\n",
    "\n",
    "\n",
    "# `algoesup.test` can only test functions that return values,\n",
    "# so I've written the testing code for you\n",
    "for test in reverse_list_tests:\n",
    "    name = test[0]\n",
    "    values = test[1]\n",
    "    reverse = test[2]\n",
    "    reverse_in_place(values)\n",
    "    if values != reverse:\n",
    "        print(name, \"FAILED:\", values, \"instead of\", reverse)\n",
    "print(\"Tests finished.\")"
   ]
  },
  {
   "cell_type": "markdown",
   "id": "55",
   "metadata": {},
   "source": [
    "[Answer](../32_Answers/Answers_04_7_07.ipynb)"
   ]
  },
  {
   "cell_type": "markdown",
   "id": "56",
   "metadata": {},
   "source": [
    "⟵ [Previous section](04_6_lists.ipynb) | [Up](04-introduction.ipynb) | [Next section](04_8_practice.ipynb) ⟶"
   ]
  }
 ],
 "metadata": {
  "kernelspec": {
   "display_name": "Python 3",
   "language": "python",
   "name": "python3"
  },
  "language_info": {
   "codemirror_mode": {
    "name": "ipython",
    "version": 3
   },
   "file_extension": ".py",
   "mimetype": "text/x-python",
   "name": "python",
   "nbconvert_exporter": "python",
   "pygments_lexer": "ipython3",
   "version": "3.12.10"
  }
 },
 "nbformat": 4,
 "nbformat_minor": 5
}
