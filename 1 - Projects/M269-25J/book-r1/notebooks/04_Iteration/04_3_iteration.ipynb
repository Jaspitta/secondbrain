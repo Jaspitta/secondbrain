{
 "cells": [
  {
   "cell_type": "markdown",
   "id": "0",
   "metadata": {},
   "source": [
    "## 4.3 Iteration"
   ]
  },
  {
   "cell_type": "markdown",
   "id": "1",
   "metadata": {},
   "source": [
    "There are two main ways of repeating instructions:\n",
    "a for-loop executes the instructions a fixed number of times;\n",
    "a while-loop repeatedly executes the instructions while a condition is true.\n",
    "Python supports both kinds of loops.\n",
    "I'll cover them through very simple examples that focus on\n",
    "how to express iteration in English and in Python.\n",
    "Full problems are left for a later section."
   ]
  },
  {
   "cell_type": "markdown",
   "id": "2",
   "metadata": {},
   "source": [
    "<div class=\"alert alert-info\">\n",
    "<strong>Info:</strong> TM112 introduces iteration in Block&nbsp;1:\n",
    "for-loops in Section&nbsp;2.2 and while-loops in Section&nbsp;4.5.\n",
    "</div>"
   ]
  },
  {
   "cell_type": "markdown",
   "id": "3",
   "metadata": {},
   "source": [
    "### 4.3.1 For-loops"
   ]
  },
  {
   "cell_type": "markdown",
   "id": "4",
   "metadata": {},
   "source": [
    "Here's an algorithm that displays some text vertically, one character per line:\n",
    "\n",
    "1. let *text* be 'hello'\n",
    "1. for each *character* in *text*:\n",
    "   1. print *character*\n",
    "\n",
    "This is translated to Python by just dropping the word 'each':"
   ]
  },
  {
   "cell_type": "code",
   "execution_count": 1,
   "id": "5",
   "metadata": {},
   "outputs": [
    {
     "name": "stdout",
     "output_type": "stream",
     "text": [
      "h\n",
      "e\n",
      "l\n",
      "l\n",
      "o\n"
     ]
    }
   ],
   "source": [
    "text = \"hello\"\n",
    "for character in text:\n",
    "    print(character)"
   ]
  },
  {
   "cell_type": "markdown",
   "id": "6",
   "metadata": {},
   "source": [
    "Python's for-loop can only iterate over sequences.\n",
    "So, if we want to iterate over some numbers,\n",
    "we must create an integer sequence in Python.\n",
    "Python's `range` data type represents a sequence of consecutive integers.\n",
    "The corresponding constructor `range(start, end)` creates the sequence\n",
    "`start`, `start+1`, ..., `end-1`.\n",
    "The constructor behaves like the slicing operation:\n",
    "the start number is included, but the end number isn't.\n",
    "This means that the sequence is empty if `start >= end`.\n",
    "\n",
    "Here's a simple algorithm that prints some even numbers:\n",
    "\n",
    "1. for each *number* from 1 to 5:\n",
    "   1. print 2 × *number*\n",
    "\n",
    "This is translated to Python as follows:"
   ]
  },
  {
   "cell_type": "code",
   "execution_count": 2,
   "id": "7",
   "metadata": {},
   "outputs": [
    {
     "name": "stdout",
     "output_type": "stream",
     "text": [
      "2\n",
      "4\n",
      "6\n",
      "8\n",
      "10\n"
     ]
    }
   ],
   "source": [
    "for number in range(1, 6):  # the end number is set one higher\n",
    "    print(2 * number)"
   ]
  },
  {
   "cell_type": "markdown",
   "id": "8",
   "metadata": {},
   "source": [
    "Some further examples:"
   ]
  },
  {
   "cell_type": "code",
   "execution_count": 3,
   "id": "9",
   "metadata": {},
   "outputs": [
    {
     "name": "stdout",
     "output_type": "stream",
     "text": [
      "-2\n"
     ]
    }
   ],
   "source": [
    "for number in range(-2, -1):\n",
    "    print(number)"
   ]
  },
  {
   "cell_type": "code",
   "execution_count": 4,
   "id": "10",
   "metadata": {},
   "outputs": [],
   "source": [
    "for number in range(3, 3):  # no output if start = end\n",
    "    print(number)"
   ]
  },
  {
   "cell_type": "code",
   "execution_count": 5,
   "id": "11",
   "metadata": {},
   "outputs": [],
   "source": [
    "for number in range(0, -1):  # no output if start > end\n",
    "    print(number)"
   ]
  },
  {
   "cell_type": "code",
   "execution_count": 6,
   "id": "12",
   "metadata": {},
   "outputs": [
    {
     "name": "stdout",
     "output_type": "stream",
     "text": [
      "0\n",
      "1\n",
      "2\n",
      "3\n"
     ]
    }
   ],
   "source": [
    "for number in range(4):  # start = 0 if omitted\n",
    "    print(number)"
   ]
  },
  {
   "cell_type": "markdown",
   "id": "13",
   "metadata": {},
   "source": [
    "Since the upper bound is excluded, and the lower bound is zero by default,\n",
    "`for index in range(len(s))` iterates over the indices of string `s`."
   ]
  },
  {
   "cell_type": "code",
   "execution_count": 7,
   "id": "14",
   "metadata": {},
   "outputs": [
    {
     "name": "stdout",
     "output_type": "stream",
     "text": [
      "h\n",
      "e\n",
      "l\n",
      "l\n",
      "o\n"
     ]
    }
   ],
   "source": [
    "text = \"hello\"\n",
    "for index in range(len(text)):\n",
    "    print(text[index])"
   ]
  },
  {
   "cell_type": "markdown",
   "id": "15",
   "metadata": {},
   "source": [
    "The corresponding English algorithm is:\n",
    "\n",
    "1. let *text* be 'hello'\n",
    "2. for each *index* from 0 to │*text*│ - 1:\n",
    "   1. print *text*[*index*]\n",
    "\n",
    "It's possible to iterate backwards. Here's a countdown algorithm:\n",
    "\n",
    "1. for each *number* from 10 down to 1:\n",
    "   1. print *number*\n",
    "\n",
    "This can be translated to Python like so:"
   ]
  },
  {
   "cell_type": "code",
   "execution_count": 8,
   "id": "16",
   "metadata": {},
   "outputs": [
    {
     "name": "stdout",
     "output_type": "stream",
     "text": [
      "10\n",
      "9\n",
      "8\n",
      "7\n",
      "6\n",
      "5\n",
      "4\n",
      "3\n",
      "2\n",
      "1\n"
     ]
    }
   ],
   "source": [
    "for number in range(10, 0, -1):\n",
    "    print(number)"
   ]
  },
  {
   "cell_type": "markdown",
   "id": "17",
   "metadata": {},
   "source": [
    "The third argument of `range` is the stepwise increment or decrement\n",
    "between consecutive numbers in the sequence, e.g.\n",
    "`range(start, end)` is shorthand for `range(start, end, 1)`.\n",
    "The end number is always excluded from the sequence, so\n",
    "here we must say the end is zero. Without the -1, the loop wouldn't execute,\n",
    "as the start (10) is larger than the end (0)."
   ]
  },
  {
   "cell_type": "markdown",
   "id": "18",
   "metadata": {},
   "source": [
    "#### Exercise 4.3.1"
   ]
  },
  {
   "cell_type": "markdown",
   "id": "19",
   "metadata": {},
   "source": [
    "Change step&nbsp;2 of this algorithm so that the string is printed backwards,\n",
    "character by character."
   ]
  },
  {
   "cell_type": "markdown",
   "id": "20",
   "metadata": {},
   "source": [
    "1. let *text* be 'hello'\n",
    "2. for each *index* from 0 to │*text*│ - 1:\n",
    "   1. print *text*[*index*]"
   ]
  },
  {
   "cell_type": "markdown",
   "id": "21",
   "metadata": {},
   "source": [
    "Translate step&nbsp;2 of your algorithm to Python."
   ]
  },
  {
   "cell_type": "code",
   "execution_count": 9,
   "id": "22",
   "metadata": {},
   "outputs": [
    {
     "ename": "TypeError",
     "evalue": "range expected at least 1 argument, got 0",
     "output_type": "error",
     "traceback": [
      "\u001b[0;31m---------------------------------------------------------------------------\u001b[0m",
      "\u001b[0;31mTypeError\u001b[0m                                 Traceback (most recent call last)",
      "Cell \u001b[0;32mIn[9], line 2\u001b[0m\n\u001b[1;32m      1\u001b[0m text \u001b[38;5;241m=\u001b[39m \u001b[38;5;124m\"\u001b[39m\u001b[38;5;124mhello\u001b[39m\u001b[38;5;124m\"\u001b[39m\n\u001b[0;32m----> 2\u001b[0m \u001b[38;5;28;01mfor\u001b[39;00m index \u001b[38;5;129;01min\u001b[39;00m \u001b[38;5;28;43mrange\u001b[39;49m\u001b[43m(\u001b[49m\u001b[43m)\u001b[49m:  \u001b[38;5;66;03m# put the correct arguments in\u001b[39;00m\n\u001b[1;32m      3\u001b[0m     \u001b[38;5;28mprint\u001b[39m(text[index])\n",
      "\u001b[0;31mTypeError\u001b[0m: range expected at least 1 argument, got 0"
     ]
    }
   ],
   "source": [
    "text = \"hello\"\n",
    "for index in range():  # put the correct arguments in\n",
    "    print(text[index])"
   ]
  },
  {
   "cell_type": "markdown",
   "id": "23",
   "metadata": {},
   "source": [
    "[Hint](../31_Hints/Hints_04_3_01.ipynb)\n",
    "[Answer](../32_Answers/Answers_04_3_01.ipynb)"
   ]
  },
  {
   "cell_type": "markdown",
   "id": "24",
   "metadata": {},
   "source": [
    "### 4.3.2 While-loops"
   ]
  },
  {
   "cell_type": "markdown",
   "id": "25",
   "metadata": {},
   "source": [
    "A for-loop executes a fixed number of times,\n",
    "while a while-loop executes as long as some condition is true.\n",
    "Strictly speaking, for-loops are unnecessary because something like\n",
    "\n",
    "1. for *number* from *start* to *end*:\n",
    "   1. do something with *number*\n",
    "\n",
    "can be rewritten as:\n",
    "\n",
    "1. let *number* be *start*\n",
    "2. while *number* ≤ *end*:\n",
    "   1. do something with *number*\n",
    "   1. let *number* be *number* + 1\n",
    "\n",
    "However, it's best to use for-loops rather than while-loops when\n",
    "the number of iterations is fixed, as for-loops make that clearer.\n",
    "\n",
    "Consider the problem of writing all the positive even numbers\n",
    "until some limit *highest*, given as input.\n",
    "We don't know in advance how many numbers to print,\n",
    "so a while-loop is the natural choice.\n",
    "\n",
    "1. let *number* be 2\n",
    "2. while *number* ≤ *highest*:\n",
    "   1. print *number*\n",
    "   2. let *number* be *number* + 2\n",
    "\n",
    "This translates directly to Python:"
   ]
  },
  {
   "cell_type": "code",
   "execution_count": 10,
   "id": "26",
   "metadata": {},
   "outputs": [
    {
     "name": "stdout",
     "output_type": "stream",
     "text": [
      "2\n",
      "4\n",
      "6\n"
     ]
    }
   ],
   "source": [
    "highest = 6  # or some other value\n",
    "number = 2\n",
    "while number <= highest:\n",
    "    print(number)\n",
    "    number = number + 2"
   ]
  },
  {
   "cell_type": "markdown",
   "id": "27",
   "metadata": {},
   "source": [
    "For this particular problem, it's possible to use a for-loop in Python,\n",
    "making use of the stepwise increment of the `range` constructor."
   ]
  },
  {
   "cell_type": "code",
   "execution_count": 11,
   "id": "28",
   "metadata": {},
   "outputs": [
    {
     "name": "stdout",
     "output_type": "stream",
     "text": [
      "2\n",
      "4\n",
      "6\n"
     ]
    }
   ],
   "source": [
    "highest = 6\n",
    "for number in range(2, highest + 1, 2):  # 2 to highest in steps of 2\n",
    "    print(number)"
   ]
  },
  {
   "cell_type": "markdown",
   "id": "29",
   "metadata": {},
   "source": [
    "In general, for 'open-ended' iterations we must use a while-loop.\n",
    "For example, consider printing the outstanding mortgage, until it's paid off.\n",
    "Let's assume the inputs are the annual rate (a percentage),\n",
    "the monthly fixed payment, and the starting mortgage.\n",
    "Every month we must add the interest and deduct the payment, like so:\n",
    "\n",
    "1. while *mortgage* ≠ 0:\n",
    "   1. let *interest* be *mortgage* × *rate* / 12\n",
    "   2. let *mortgage* be *mortgage* + *interest* - *payment*\n",
    "   3. print *mortgage*\n",
    "\n",
    "Contrary to for-loops, while-loops may never stop.\n",
    "If the mortgage never becomes exactly zero, which is likely,\n",
    "we have an **infinite loop**. For this problem, to avoid looping forever\n",
    "we must guarantee that the mortgage decreases,\n",
    "i.e. have the precondition *payment* > *mortgage* × *rate* / 12,\n",
    "and change the while condition to *mortgage* > 0."
   ]
  },
  {
   "cell_type": "markdown",
   "id": "30",
   "metadata": {},
   "source": [
    "<div class=\"alert alert-info\">\n",
    "<strong>Info:</strong> The mortgage problem and infinite loops are introduced in\n",
    "TM112 Block&nbsp;1 Section&nbsp;4.5.\n",
    "</div>"
   ]
  },
  {
   "cell_type": "markdown",
   "id": "31",
   "metadata": {},
   "source": [
    "### 4.3.3 Repeat-loops"
   ]
  },
  {
   "cell_type": "markdown",
   "id": "32",
   "metadata": {},
   "source": [
    "Sometimes we want to repeat some instructions a fixed number of times.\n",
    "In those cases we use a 'repeat *n* times' loop, like this one:\n",
    "\n",
    "1. repeat 3 times:\n",
    "   1. print 'echo...'\n",
    "\n",
    "Python doesn't have this kind of loop, so it must be translated to a for-loop:\n",
    "```python\n",
    "for times in range(3):\n",
    "    print('echo...')\n",
    "```\n",
    "It takes a moment to realise that the variable isn't used within the loop.\n",
    "The English description makes this much clearer by not having a variable at all.\n",
    "\n",
    "A repeat-until loop iterates at least once, until a condition becomes true.\n",
    "There's always at least one mortgage payment, so we can use a repeat-until loop.\n",
    "\n",
    "1. repeat:\n",
    "   1. let *interest* be *mortgage* × *rate* / 12\n",
    "   2. let *mortgage* be *mortgage* + *interest* - *payment*\n",
    "   3. print *mortgage*\n",
    "2. until *mortgage* ≤ 0\n",
    "\n",
    "The Boolean expression in a while-loop is a continuation condition\n",
    "(if it's true, the loop carries on), whereas the Boolean expression\n",
    "in a repeat-until loop is a stopping condition (if it's true, the loop stops).\n",
    "Every repeat-until loop can be written as a while-loop:\n",
    "\n",
    "1. repeat:\n",
    "   1. do something\n",
    "2. until *condition*\n",
    "\n",
    "is equivalent to\n",
    "\n",
    "1. let *stop* be false\n",
    "2. while not *stop*:\n",
    "   1. do something\n",
    "   2. let *stop* be *condition*"
   ]
  },
  {
   "cell_type": "markdown",
   "id": "33",
   "metadata": {},
   "source": [
    "### 4.3.4 Nested loops"
   ]
  },
  {
   "cell_type": "markdown",
   "id": "34",
   "metadata": {},
   "source": [
    "Any instructions can be executed repeatedly, including other loops.\n",
    "Writing the times table up to some input number *n* requires nested loops."
   ]
  },
  {
   "cell_type": "markdown",
   "id": "35",
   "metadata": {},
   "source": [
    "<div class=\"alert alert-info\">\n",
    "<strong>Info:</strong> TM112 introduces nested loops and a times table program in Block&nbsp;1 Section&nbsp;2.5.\n",
    "</div>"
   ]
  },
  {
   "cell_type": "markdown",
   "id": "36",
   "metadata": {},
   "source": [
    "1. for each *left* from 1 to *n*:\n",
    "   1. for each *right* from 1 to *n*:\n",
    "      1. let *product* be *left* × *right*\n",
    "      1. print *left* '×' *right* '=' *product*\n",
    "\n",
    "Step&nbsp;1.1 is executed for each value of *left*, so the successive products are\n",
    "1×1, 1×2, ..., 1×*n*, 2×1, ..., 2×*n*, 3×1, etc.\n",
    "Step&nbsp;1.1.2 prints each line of the table, e.g. '2 × 3 = 6'.\n",
    "\n",
    "Steps 1.1.1 and 1.1.2 take constant time and are executed *n* × *n* times.\n",
    "The overall run-time is proportional to *n*².\n",
    "We say the algorithm has **quadratic complexity**: Θ(*n*²).\n",
    "More generally, if a loop does *i* iterations and each iteration has complexity\n",
    "Θ(*e*), then the loop has complexity Θ(*i* × *e*).\n",
    "In this example, the inner loop has complexity *n* × Θ(1) = Θ(*n*) and\n",
    "the outer loop has complexity *n* × Θ(*n*) = Θ(*n*²)."
   ]
  },
  {
   "cell_type": "markdown",
   "id": "37",
   "metadata": {},
   "source": [
    "<div class=\"alert alert-warning\">\n",
    "<strong>Note:</strong> The complexity of a loop is the number of iterations multiplied by the\n",
    "complexity of the body of the loop.\n",
    "</div>"
   ]
  },
  {
   "cell_type": "markdown",
   "id": "38",
   "metadata": {},
   "source": [
    "Here's the corresponding Python code:"
   ]
  },
  {
   "cell_type": "code",
   "execution_count": 12,
   "id": "39",
   "metadata": {},
   "outputs": [
    {
     "name": "stdout",
     "output_type": "stream",
     "text": [
      "1 x 1 = 1\n",
      "1 x 2 = 2\n",
      "1 x 3 = 3\n",
      "2 x 1 = 2\n",
      "2 x 2 = 4\n",
      "2 x 3 = 6\n",
      "3 x 1 = 3\n",
      "3 x 2 = 6\n",
      "3 x 3 = 9\n"
     ]
    }
   ],
   "source": [
    "n = 3  # or some other positive integer\n",
    "for left in range(1, n + 1):\n",
    "    for right in range(1, n + 1):\n",
    "        product = left * right\n",
    "        print(left, \"x\", right, \"=\", product)"
   ]
  },
  {
   "cell_type": "markdown",
   "id": "40",
   "metadata": {},
   "source": [
    "Like `min` and `max`, `print` can take one or more arguments.\n",
    "It prints them separated by spaces.\n",
    "Arguments can be any integer, Boolean or string expressions, so\n",
    "the last argument can be the multiplication expression.\n",
    "Moreover, when there are no arguments, `print` produces an empty line.\n",
    "Putting all this together, here's a more pleasing program and result."
   ]
  },
  {
   "cell_type": "code",
   "execution_count": 13,
   "id": "41",
   "metadata": {},
   "outputs": [
    {
     "name": "stdout",
     "output_type": "stream",
     "text": [
      "1 x 1 = 1\n",
      "1 x 2 = 2\n",
      "1 x 3 = 3\n",
      "\n",
      "2 x 1 = 2\n",
      "2 x 2 = 4\n",
      "2 x 3 = 6\n",
      "\n",
      "3 x 1 = 3\n",
      "3 x 2 = 6\n",
      "3 x 3 = 9\n",
      "\n"
     ]
    }
   ],
   "source": [
    "n = 3  # or some other positive integer\n",
    "for left in range(1, n + 1):\n",
    "    for right in range(1, n + 1):\n",
    "        print(left, \"x\", right, \"=\", left * right)\n",
    "    print()"
   ]
  },
  {
   "cell_type": "markdown",
   "id": "42",
   "metadata": {},
   "source": [
    "The indentation makes the first `print` part of the inner loop\n",
    "and the second one part of the outer loop.\n",
    "\n",
    "It's possible to have more than two nested loops and to have while-loops within\n",
    "for-loops and vice versa."
   ]
  },
  {
   "cell_type": "markdown",
   "id": "43",
   "metadata": {},
   "source": [
    "⟵ [Previous section](04_2_strings.ipynb) | [Up](04-introduction.ipynb) | [Next section](04_4_search.ipynb) ⟶"
   ]
  }
 ],
 "metadata": {
  "kernelspec": {
   "display_name": "Python 3",
   "language": "python",
   "name": "python3"
  },
  "language_info": {
   "codemirror_mode": {
    "name": "ipython",
    "version": 3
   },
   "file_extension": ".py",
   "mimetype": "text/x-python",
   "name": "python",
   "nbconvert_exporter": "python",
   "pygments_lexer": "ipython3",
   "version": "3.12.10"
  }
 },
 "nbformat": 4,
 "nbformat_minor": 5
}
