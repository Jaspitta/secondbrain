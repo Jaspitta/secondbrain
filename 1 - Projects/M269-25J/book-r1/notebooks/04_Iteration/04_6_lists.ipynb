{
 "cells": [
  {
   "cell_type": "markdown",
   "id": "0",
   "metadata": {},
   "source": [
    "## 4.6 Lists"
   ]
  },
  {
   "cell_type": "markdown",
   "id": "1",
   "metadata": {},
   "source": [
    "Python provides various sequence types. The ones we've seen so far\n",
    "(`str`, `range` and `tuple`) are immutable: the sequence can't be modified.\n",
    "Python's `list` data type is the most flexible one:\n",
    "**lists** are mutable and may have items of different types.\n",
    "All operations on tuples work in the same way on lists,\n",
    "so I won't repeat them.\n",
    "This section focuses on the operations that change lists,\n",
    "so let's first revisit the sequence ADT."
   ]
  },
  {
   "cell_type": "markdown",
   "id": "2",
   "metadata": {},
   "source": [
    "<div class=\"alert alert-info\">\n",
    "<strong>Info:</strong> Some texts use 'list' as a synonym of 'sequence'.\n",
    "In M269 the term refers to Python's data type.\n",
    "</div>"
   ]
  },
  {
   "cell_type": "markdown",
   "id": "3",
   "metadata": {},
   "source": [
    "### 4.6.1 Modifying sequences"
   ]
  },
  {
   "cell_type": "markdown",
   "id": "4",
   "metadata": {},
   "source": [
    "Besides operations to inspect and create sequences,\n",
    "we need operations to remove and add individual items.\n",
    "They modify the input sequence, i.e. they aren't mathematical functions.\n",
    "To define them, we replace 'Function:' with 'Operation:' in the template and\n",
    "add an entry 'Inputs/Outputs:' for variables that have their value changed by\n",
    "the operation. When we must distinguish the value of an input/output variable\n",
    "*x* before and after the operation, we use pre-*x* and post-*x* respectively.\n",
    "Here's how we can define the operation to remove the item at a given index *i*,\n",
    "which we write as 'remove $s_i$' or 'remove *s*[*i*]' in algorithms in English.\n",
    "\n",
    "**Operation**: remove\\\n",
    "**Inputs/Outputs**: *values*, a sequence\\\n",
    "**Inputs**: *index*, an integer\\\n",
    "**Preconditions**: 0 ≤ *index* < │*values*│\\\n",
    "**Postconditions**: post-*values* =\n",
    "(pre-*values*[0], ..., pre-*values*[*index* - 1],\n",
    "pre-*values*[*index* + 1], ..., pre-*values*[│pre-*values*│ - 1])\n",
    "\n",
    "The postcondition states that the value at the given index has 'disappeared'\n",
    "but all other items remain in the same order.\n",
    "Without the 'pre-' and 'post-' indications,\n",
    "the postcondition would be ambiguous.\n",
    "For example, if the sequence has length&nbsp;5 before an item is removed,\n",
    "it has length&nbsp;4 afterwards, so which length would │*values*│ refer to?\n",
    "Writing │pre-*values*│ or │post-*values*│ makes it clear.\n",
    "\n",
    "We assume that removing the item at index *i* from a sequence of length *n* is\n",
    "implemented by copying each of the subsequent *n* - *i* - 1 items one position down.\n",
    "Also, the length has to be updated whenever the sequence changes,\n",
    "so that the size operation can just look it up in constant time.\n",
    "Copying values in RAM and subtracting one from an integer take constant time,\n",
    "so the removal operation does *n* - *i* - 1 + 1 constant-time operations.\n",
    "The complexity is Θ(*n* - *i*) or Θ(│*values*│ - *index*).\n",
    "\n",
    "Using the pre-*x* notation in preconditions or complexity expressions is\n",
    "unnecessary. By definition, they can only refer to input values.\n",
    "\n",
    "A **subsequence** is obtained by deleting zero or more items from the input\n",
    "sequence.\n",
    "Every substring is a subsequence, but not every subsequence is a substring.\n",
    "For example, (1, 3, 5) is a subsequence of (1, 2, 3, 4, 5) but not a substring,\n",
    "because 1, 3 and 5 aren't consecutive items in the longer sequence.\n",
    "\n",
    "The operation to add an item, more precisely to insert it at a given position,\n",
    "can be defined like this:\n",
    "\n",
    "**Operation**: insert\\\n",
    "**Inputs/Outputs**: *values*, a sequence\\\n",
    "**Inputs**: *index*, an integer; *value*, an object\\\n",
    "**Preconditions**: 0 ≤ *index* ≤ │*values*│\\\n",
    "**Postconditions**: post-*values* =\n",
    "(pre-*values*[0], ..., pre-*values*[*index* - 1], *value*,\n",
    "pre-*values*[*index*], ..., pre-*values*[│pre-*values*│ - 1])\n",
    "\n",
    "The postcondition defines what inserting at a certain position means:\n",
    "to shift all items from that position onwards to the next position,\n",
    "in order to 'make space' for the new item.\n",
    "As the postcondition explicitly shows, post-*values*[*index*] = *value*.\n",
    "If *index* = │pre-*values*│, as the preconditions allow,\n",
    "then the item is effectively added to the end of the sequence.\n",
    "This special case of insertion is so common it has a name: **appending**.\n",
    "In algorithms in English, we write these operations respectively as\n",
    "\n",
    "- insert *value* in *values* at *index*\n",
    "- append *value* to *values*.\n",
    "\n",
    "The insertion operation shifts not just the items after the index, but also\n",
    "the item at the index itself, so it copies *n* - *i* values and increments the\n",
    "length. The complexity is therefore Θ(│*values*│ - *index* + 1).\n",
    "In the grand scheme of things, i.e. for long sequences,\n",
    "the operation spends most of its time shifting items.\n",
    "The update of the length hardly impacts the overall run-time.\n",
    "So, we write simply Θ(│*values*│ - *index*).\n",
    "More generally, a fixed number doesn't affect the growth of the run-time."
   ]
  },
  {
   "cell_type": "markdown",
   "id": "5",
   "metadata": {},
   "source": [
    "<div class=\"alert alert-warning\">\n",
    "<strong>Note:</strong> In complexity analysis, Θ(<em>e</em> + <em>c</em>) = Θ(<em>e</em> - <em>c</em>) = Θ(<em>e</em>)\n",
    "if <em>c</em> is an integer constant and\n",
    "<em>e</em> is an expression involving the input values or sizes.\n",
    "</div>"
   ]
  },
  {
   "cell_type": "markdown",
   "id": "6",
   "metadata": {},
   "source": [
    "If the value is appended then the complexity is Θ(1), as no shifting takes place.\n",
    "\n",
    "Replacing the item at a given index with a new item can be achieved by\n",
    "first removing it and then inserting the new item at the same index.\n",
    "Shifting all subsequent items first down and then up is very inefficient.\n",
    "The assignment 'let $s_i$ be *x*' does the replacement in constant time."
   ]
  },
  {
   "cell_type": "markdown",
   "id": "7",
   "metadata": {},
   "source": [
    "#### Exercise 4.6.1"
   ]
  },
  {
   "cell_type": "markdown",
   "id": "8",
   "metadata": {},
   "source": [
    "The following defines a function that outputs the reverse of the input sequence."
   ]
  },
  {
   "cell_type": "markdown",
   "id": "9",
   "metadata": {},
   "source": [
    "**Function**: reversed sequence\\\n",
    "**Inputs**: *values*, a sequence\\\n",
    "**Preconditions**: true\\\n",
    "**Output**: *reversed*, a sequence\\\n",
    "**Postconditions**: *reversed* =\n",
    "(*values*[│ *values* │ - 1], *values*[│ *values* │ - 2], ..., *values*[1], *values*[0])"
   ]
  },
  {
   "cell_type": "markdown",
   "id": "10",
   "metadata": {},
   "source": [
    "Modify the definition so that it reverses the input sequence instead of\n",
    "creating a new sequence."
   ]
  },
  {
   "cell_type": "markdown",
   "id": "11",
   "metadata": {},
   "source": [
    "_Write your answer here._"
   ]
  },
  {
   "cell_type": "markdown",
   "id": "12",
   "metadata": {},
   "source": [
    "[Hint](../31_Hints/Hints_04_6_01.ipynb)\n",
    "[Answer](../32_Answers/Answers_04_6_01.ipynb)"
   ]
  },
  {
   "cell_type": "markdown",
   "id": "13",
   "metadata": {},
   "source": [
    "### 4.6.2 Creating lists"
   ]
  },
  {
   "cell_type": "markdown",
   "id": "14",
   "metadata": {},
   "source": [
    "Let's now see how Python implements the sequence ADT with type `list`.\n",
    "\n",
    "Like with tuples and strings, lists can be created in various ways.\n",
    "The simplest is to write a list literal.\n",
    "It looks like a tuple literal but with square brackets instead of parentheses.\n",
    "The empty list is `[]` and `[1, [2, 3], ('A', 'B'), True]` is\n",
    "a list with four elements of different types: an integer, a list of integers,\n",
    "a tuple of strings and a Boolean.\n",
    "Contrary to tuples, a list of length&nbsp;1 doesn't need an extra comma,\n",
    "because the square brackets can't be confused with redundant parentheses.\n",
    "\n",
    "As with strings, printing a list and\n",
    "displaying it (by just writing the variable name) produces different outputs."
   ]
  },
  {
   "cell_type": "code",
   "execution_count": 1,
   "id": "15",
   "metadata": {},
   "outputs": [
    {
     "data": {
      "text/plain": [
       "['finish writing this chapter',\n",
       " 'write the next one',\n",
       " 'rinse and repeat for another 20+ chapters']"
      ]
     },
     "execution_count": 1,
     "metadata": {},
     "output_type": "execute_result"
    }
   ],
   "source": [
    "to_do = [\n",
    "    'finish writing this chapter',\n",
    "    'write the next one',\n",
    "    'rinse and repeat for another 20+ chapters'\n",
    "]\n",
    "to_do"
   ]
  },
  {
   "cell_type": "code",
   "execution_count": 2,
   "id": "16",
   "metadata": {},
   "outputs": [
    {
     "name": "stdout",
     "output_type": "stream",
     "text": [
      "['finish writing this chapter', 'write the next one', 'rinse and repeat for another 20+ chapters']\n"
     ]
    }
   ],
   "source": [
    "print(to_do)"
   ]
  },
  {
   "cell_type": "markdown",
   "id": "17",
   "metadata": {},
   "source": [
    "Lists can also be created by slicing or concatenating existing lists.\n",
    "Repeated concatenation is particularly convenient for creating\n",
    "long lists with all elements initialised to the same value."
   ]
  },
  {
   "cell_type": "code",
   "execution_count": 3,
   "id": "18",
   "metadata": {},
   "outputs": [
    {
     "data": {
      "text/plain": [
       "[0, 0, 0, 0, 0, 0, 0, 0, 0, 0]"
      ]
     },
     "execution_count": 3,
     "metadata": {},
     "output_type": "execute_result"
    }
   ],
   "source": [
    "10 * [0]  # create an integer list initialised to zeros"
   ]
  },
  {
   "cell_type": "markdown",
   "id": "19",
   "metadata": {},
   "source": [
    "We can use the `list` constructor to convert another sequence to a\n",
    "list."
   ]
  },
  {
   "cell_type": "code",
   "execution_count": 4,
   "id": "20",
   "metadata": {},
   "outputs": [
    {
     "data": {
      "text/plain": [
       "[1, 2, 3, 4, 5, 6, 7, 8, 9]"
      ]
     },
     "execution_count": 4,
     "metadata": {},
     "output_type": "execute_result"
    }
   ],
   "source": [
    "list(range(1, 10))"
   ]
  },
  {
   "cell_type": "code",
   "execution_count": 5,
   "id": "21",
   "metadata": {},
   "outputs": [
    {
     "data": {
      "text/plain": [
       "['H', 'e', 'l', 'l', 'o', ',', ' ', 'w', 'o', 'r', 'l', 'd', '!']"
      ]
     },
     "execution_count": 5,
     "metadata": {},
     "output_type": "execute_result"
    }
   ],
   "source": [
    "list(\"Hello, world!\")"
   ]
  },
  {
   "cell_type": "code",
   "execution_count": 6,
   "id": "22",
   "metadata": {},
   "outputs": [
    {
     "data": {
      "text/plain": [
       "[('X', 'O', 'X'), (' ', ' ', ' '), ('O', 'X', ' ')]"
      ]
     },
     "execution_count": 6,
     "metadata": {},
     "output_type": "execute_result"
    }
   ],
   "source": [
    "board = ((\"X\", \"O\", \"X\"), (\" \", \" \", \" \"), (\"O\", \"X\", \" \"))\n",
    "list(board)  # doesn't convert nested tuples"
   ]
  },
  {
   "cell_type": "markdown",
   "id": "23",
   "metadata": {},
   "source": [
    "Finally, we can use the `sorted` function to obtain a sorted list from\n",
    "any sequence of pairwise comparable items.\n",
    "The function has a second optional Boolean parameter to indicate whether\n",
    "to sort in descending order."
   ]
  },
  {
   "cell_type": "code",
   "execution_count": 7,
   "id": "24",
   "metadata": {},
   "outputs": [
    {
     "data": {
      "text/plain": [
       "[' ', '!', ',', 'H', 'd', 'e', 'l', 'l', 'l', 'o', 'o', 'r', 'w']"
      ]
     },
     "execution_count": 7,
     "metadata": {},
     "output_type": "execute_result"
    }
   ],
   "source": [
    "sorted(\"Hello, world!\")"
   ]
  },
  {
   "cell_type": "code",
   "execution_count": 8,
   "id": "25",
   "metadata": {},
   "outputs": [
    {
     "data": {
      "text/plain": [
       "[-3, 2, 4, 4.1]"
      ]
     },
     "execution_count": 8,
     "metadata": {},
     "output_type": "execute_result"
    }
   ],
   "source": [
    "sorted([2, 4, -3, 4.1])"
   ]
  },
  {
   "cell_type": "code",
   "execution_count": 9,
   "id": "26",
   "metadata": {},
   "outputs": [
    {
     "data": {
      "text/plain": [
       "[4.1, 4, 2, -3]"
      ]
     },
     "execution_count": 9,
     "metadata": {},
     "output_type": "execute_result"
    }
   ],
   "source": [
    "sorted([2, 4, -3, 4.1], reverse=True)  # sort in descending order"
   ]
  },
  {
   "cell_type": "markdown",
   "id": "27",
   "metadata": {},
   "source": [
    "We'll look at sorting algorithms in [Chapter&nbsp;14](../14_Sorting/14-introduction.ipynb#14-Sorting).\n",
    "For the moment we assume\n",
    "that sorting takes linear time in the length of the sequence in the best case\n",
    "and quadratic time in the worst case. In the best case, a single pass\n",
    "over the sequence detects that it's already sorted. In the worst case,\n",
    "a sorting algorithm must compare every item to every other item,\n",
    "which takes a quadratic number of comparisons,\n",
    "to know where each item appears in the sorted sequence."
   ]
  },
  {
   "cell_type": "markdown",
   "id": "28",
   "metadata": {},
   "source": [
    "### 4.6.3 Mistakes"
   ]
  },
  {
   "cell_type": "markdown",
   "id": "29",
   "metadata": {},
   "source": [
    "In Python, some arguments of some functions have to be named:\n",
    "you can't just pass a value.\n",
    "If you do, the interpreter doesn't know what to do with it\n",
    "and says that the function is being called with too many arguments."
   ]
  },
  {
   "cell_type": "code",
   "execution_count": 10,
   "id": "30",
   "metadata": {},
   "outputs": [
    {
     "ename": "TypeError",
     "evalue": "sorted expected 1 argument, got 2",
     "output_type": "error",
     "traceback": [
      "\u001b[0;31m---------------------------------------------------------------------------\u001b[0m",
      "\u001b[0;31mTypeError\u001b[0m                                 Traceback (most recent call last)",
      "Cell \u001b[0;32mIn[10], line 1\u001b[0m\n\u001b[0;32m----> 1\u001b[0m \u001b[38;5;28;43msorted\u001b[39;49m\u001b[43m(\u001b[49m\u001b[43m[\u001b[49m\u001b[38;5;241;43m1\u001b[39;49m\u001b[43m,\u001b[49m\u001b[43m \u001b[49m\u001b[38;5;241;43m2\u001b[39;49m\u001b[43m,\u001b[49m\u001b[43m \u001b[49m\u001b[38;5;241;43m3\u001b[39;49m\u001b[43m]\u001b[49m\u001b[43m,\u001b[49m\u001b[43m \u001b[49m\u001b[38;5;28;43;01mTrue\u001b[39;49;00m\u001b[43m)\u001b[49m  \u001b[38;5;66;03m# sort in descending order\u001b[39;00m\n",
      "\u001b[0;31mTypeError\u001b[0m: sorted expected 1 argument, got 2"
     ]
    }
   ],
   "source": [
    "sorted([1, 2, 3], True)  # sort in descending order"
   ]
  },
  {
   "cell_type": "markdown",
   "id": "31",
   "metadata": {},
   "source": [
    "Forgetting a comma before a nested list makes the interpreter think we're\n",
    "trying to index the previous item because indexing uses square brackets too.\n",
    "This leads to a type error if the item's type doesn't include the indexing operation."
   ]
  },
  {
   "cell_type": "code",
   "execution_count": 11,
   "id": "32",
   "metadata": {},
   "outputs": [
    {
     "name": "stderr",
     "output_type": "stream",
     "text": [
      "<>:1: SyntaxWarning: 'int' object is not subscriptable; perhaps you missed a comma?\n",
      "<>:1: SyntaxWarning: 'int' object is not subscriptable; perhaps you missed a comma?\n",
      "/var/folders/b2/13mhcbxn2b3fsdkb4d9lh32jc84fk1/T/ipykernel_71734/3918117735.py:1: SyntaxWarning: 'int' object is not subscriptable; perhaps you missed a comma?\n",
      "  [1[2, 3], True]  # comma missing after 1\n"
     ]
    },
    {
     "ename": "TypeError",
     "evalue": "'int' object is not subscriptable",
     "output_type": "error",
     "traceback": [
      "\u001b[0;31m---------------------------------------------------------------------------\u001b[0m",
      "\u001b[0;31mTypeError\u001b[0m                                 Traceback (most recent call last)",
      "Cell \u001b[0;32mIn[11], line 1\u001b[0m\n\u001b[0;32m----> 1\u001b[0m [\u001b[38;5;241;43m1\u001b[39;49m\u001b[43m[\u001b[49m\u001b[38;5;241;43m2\u001b[39;49m\u001b[43m,\u001b[49m\u001b[43m \u001b[49m\u001b[38;5;241;43m3\u001b[39;49m\u001b[43m]\u001b[49m, \u001b[38;5;28;01mTrue\u001b[39;00m]  \u001b[38;5;66;03m# comma missing after 1\u001b[39;00m\n",
      "\u001b[0;31mTypeError\u001b[0m: 'int' object is not subscriptable"
     ]
    }
   ],
   "source": [
    "[1[2, 3], True]  # comma missing after 1"
   ]
  },
  {
   "cell_type": "markdown",
   "id": "33",
   "metadata": {},
   "source": [
    "You can't concatenate sequences of different types."
   ]
  },
  {
   "cell_type": "code",
   "execution_count": 12,
   "id": "34",
   "metadata": {},
   "outputs": [
    {
     "ename": "TypeError",
     "evalue": "can only concatenate list (not \"str\") to list",
     "output_type": "error",
     "traceback": [
      "\u001b[0;31m---------------------------------------------------------------------------\u001b[0m",
      "\u001b[0;31mTypeError\u001b[0m                                 Traceback (most recent call last)",
      "Cell \u001b[0;32mIn[12], line 1\u001b[0m\n\u001b[0;32m----> 1\u001b[0m \u001b[43m[\u001b[49m\u001b[38;5;124;43m\"\u001b[39;49m\u001b[38;5;124;43mfirst task\u001b[39;49m\u001b[38;5;124;43m\"\u001b[39;49m\u001b[43m,\u001b[49m\u001b[43m \u001b[49m\u001b[38;5;124;43m\"\u001b[39;49m\u001b[38;5;124;43msecond task\u001b[39;49m\u001b[38;5;124;43m\"\u001b[39;49m\u001b[43m]\u001b[49m\u001b[43m \u001b[49m\u001b[38;5;241;43m+\u001b[39;49m\u001b[43m \u001b[49m\u001b[38;5;124;43m\"\u001b[39;49m\u001b[38;5;124;43mthird task\u001b[39;49m\u001b[38;5;124;43m\"\u001b[39;49m\n",
      "\u001b[0;31mTypeError\u001b[0m: can only concatenate list (not \"str\") to list"
     ]
    }
   ],
   "source": [
    "[\"first task\", \"second task\"] + \"third task\""
   ]
  },
  {
   "cell_type": "code",
   "execution_count": 13,
   "id": "35",
   "metadata": {},
   "outputs": [
    {
     "ename": "TypeError",
     "evalue": "can only concatenate tuple (not \"list\") to tuple",
     "output_type": "error",
     "traceback": [
      "\u001b[0;31m---------------------------------------------------------------------------\u001b[0m",
      "\u001b[0;31mTypeError\u001b[0m                                 Traceback (most recent call last)",
      "Cell \u001b[0;32mIn[13], line 1\u001b[0m\n\u001b[0;32m----> 1\u001b[0m \u001b[43m(\u001b[49m\u001b[38;5;241;43m1\u001b[39;49m\u001b[43m,\u001b[49m\u001b[43m \u001b[49m\u001b[38;5;241;43m2\u001b[39;49m\u001b[43m)\u001b[49m\u001b[43m \u001b[49m\u001b[38;5;241;43m+\u001b[39;49m\u001b[43m \u001b[49m\u001b[43m[\u001b[49m\u001b[38;5;241;43m3\u001b[39;49m\u001b[43m,\u001b[49m\u001b[43m \u001b[49m\u001b[38;5;241;43m4\u001b[39;49m\u001b[43m]\u001b[49m\n",
      "\u001b[0;31mTypeError\u001b[0m: can only concatenate tuple (not \"list\") to tuple"
     ]
    }
   ],
   "source": [
    "(1, 2) + [3, 4]"
   ]
  },
  {
   "cell_type": "markdown",
   "id": "36",
   "metadata": {},
   "source": [
    "### 4.6.4 Modifying lists"
   ]
  },
  {
   "cell_type": "markdown",
   "id": "37",
   "metadata": {},
   "source": [
    "A list can be changed by replacing, removing, or inserting a new item.\n",
    "As mentioned above, we replace an item with an assignment, e.g.\n",
    "\n",
    "1. let *daily temperature* be [-5, -2, 0, 1, -1]\n",
    "1. let *daily temperature*[1] be -4\n",
    "\n",
    "In Python this becomes"
   ]
  },
  {
   "cell_type": "code",
   "execution_count": 14,
   "id": "38",
   "metadata": {},
   "outputs": [],
   "source": [
    "daily_temperature = [-5, -2, 0, 1, -1]\n",
    "daily_temperature[1] = -4"
   ]
  },
  {
   "cell_type": "markdown",
   "id": "39",
   "metadata": {},
   "source": [
    "The list has indeed changed:"
   ]
  },
  {
   "cell_type": "code",
   "execution_count": 15,
   "id": "40",
   "metadata": {},
   "outputs": [
    {
     "data": {
      "text/plain": [
       "[-5, -4, 0, 1, -1]"
      ]
     },
     "execution_count": 15,
     "metadata": {},
     "output_type": "execute_result"
    }
   ],
   "source": [
    "daily_temperature"
   ]
  },
  {
   "cell_type": "markdown",
   "id": "41",
   "metadata": {},
   "source": [
    "The `insert` method adds an item at a given position.\n",
    "A **method** is a function that is only known in the context of\n",
    "a particular data type. Whereas `print` and `len` are functions that\n",
    "can be applied to various data types,\n",
    "`insert` only applies to lists, so the syntax is different.\n",
    "It uses **dot notation**:\n",
    "first write an expression (typically a variable) of the required data type,\n",
    "then a dot, then the method name with the remaining inputs in parentheses.\n",
    "In the case of the `insert` method, the remaining inputs are\n",
    "first the index and then the item to be inserted."
   ]
  },
  {
   "cell_type": "code",
   "execution_count": 16,
   "id": "42",
   "metadata": {},
   "outputs": [
    {
     "data": {
      "text/plain": [
       "[-6, -5, -4, 0, 1, -1]"
      ]
     },
     "execution_count": 16,
     "metadata": {},
     "output_type": "execute_result"
    }
   ],
   "source": [
    "daily_temperature.insert(0, -6)  # insert -6 at index 0\n",
    "daily_temperature"
   ]
  },
  {
   "cell_type": "code",
   "execution_count": 17,
   "id": "43",
   "metadata": {},
   "outputs": [
    {
     "data": {
      "text/plain": [
       "[-6, -5, -4, 0, 1, 'week 2:', -1]"
      ]
     },
     "execution_count": 17,
     "metadata": {},
     "output_type": "execute_result"
    }
   ],
   "source": [
    "daily_temperature.insert(-1, \"week 2:\")\n",
    "daily_temperature"
   ]
  },
  {
   "cell_type": "markdown",
   "id": "44",
   "metadata": {},
   "source": [
    "Hmm, this didn't work. I wanted to add the text to the end of the list,\n",
    "but instead it got into the penultimate position.\n",
    "Can you explain why and figure a way of making it appear last?\n",
    "\n",
    "___\n",
    "\n",
    "The operation worked as described. I asked to insert the text\n",
    "in the last position, so the value at that position shifted right.\n",
    "Let's start afresh."
   ]
  },
  {
   "cell_type": "code",
   "execution_count": 18,
   "id": "45",
   "metadata": {},
   "outputs": [],
   "source": [
    "daily_temperature = [-5, -2, 0, 1, -1]"
   ]
  },
  {
   "cell_type": "markdown",
   "id": "46",
   "metadata": {},
   "source": [
    "The insertion operation takes the index of where the item will be put.\n",
    "If I want it to appear after the current last item then\n",
    "I can't use the index of that item: I must use the next index."
   ]
  },
  {
   "cell_type": "code",
   "execution_count": 19,
   "id": "47",
   "metadata": {},
   "outputs": [
    {
     "data": {
      "text/plain": [
       "[-5, -2, 0, 1, -1, 'week 2:']"
      ]
     },
     "execution_count": 19,
     "metadata": {},
     "output_type": "execute_result"
    }
   ],
   "source": [
    "daily_temperature.insert(len(daily_temperature), \"week 2:\")\n",
    "daily_temperature"
   ]
  },
  {
   "cell_type": "markdown",
   "id": "48",
   "metadata": {},
   "source": [
    "The `append` method adds an item to the end of a list:\n",
    "`a_list.append(an_item)` is short for `a_list.insert(len(a_list), an_item)`."
   ]
  },
  {
   "cell_type": "code",
   "execution_count": 20,
   "id": "49",
   "metadata": {},
   "outputs": [
    {
     "data": {
      "text/plain": [
       "[-5, -2, 0, 1, -1, 'week 2:', 6]"
      ]
     },
     "execution_count": 20,
     "metadata": {},
     "output_type": "execute_result"
    }
   ],
   "source": [
    "daily_temperature.append(6)\n",
    "daily_temperature"
   ]
  },
  {
   "cell_type": "markdown",
   "id": "50",
   "metadata": {},
   "source": [
    "To remove an item, we use the `pop` method, indicating the index of the item\n",
    "to be removed. For convenience, the method returns the item that was removed."
   ]
  },
  {
   "cell_type": "code",
   "execution_count": 21,
   "id": "51",
   "metadata": {},
   "outputs": [
    {
     "data": {
      "text/plain": [
       "-5"
      ]
     },
     "execution_count": 21,
     "metadata": {},
     "output_type": "execute_result"
    }
   ],
   "source": [
    "daily_temperature.pop(0)  # remove first item"
   ]
  },
  {
   "cell_type": "code",
   "execution_count": 22,
   "id": "52",
   "metadata": {},
   "outputs": [
    {
     "data": {
      "text/plain": [
       "6"
      ]
     },
     "execution_count": 22,
     "metadata": {},
     "output_type": "execute_result"
    }
   ],
   "source": [
    "daily_temperature.pop(-1)  # remove last item"
   ]
  },
  {
   "cell_type": "code",
   "execution_count": 23,
   "id": "53",
   "metadata": {},
   "outputs": [
    {
     "data": {
      "text/plain": [
       "[-2, 0, 1, -1, 'week 2:']"
      ]
     },
     "execution_count": 23,
     "metadata": {},
     "output_type": "execute_result"
    }
   ],
   "source": [
    "daily_temperature"
   ]
  },
  {
   "cell_type": "markdown",
   "id": "54",
   "metadata": {},
   "source": [
    "If you want to see a method's documentation, you must use dot notation to\n",
    "indicate which data type has that method."
   ]
  },
  {
   "cell_type": "code",
   "execution_count": 24,
   "id": "55",
   "metadata": {},
   "outputs": [
    {
     "name": "stdout",
     "output_type": "stream",
     "text": [
      "Help on method_descriptor:\n",
      "\n",
      "insert(self, index, object, /) unbound builtins.list method\n",
      "    Insert object before index.\n",
      "\n"
     ]
    }
   ],
   "source": [
    "help(list.insert)"
   ]
  },
  {
   "cell_type": "markdown",
   "id": "56",
   "metadata": {},
   "source": [
    "Lists have a further method to sort a list,\n",
    "instead of creating a new sorted list.\n",
    "It has the same optional parameter as `sorted`."
   ]
  },
  {
   "cell_type": "code",
   "execution_count": 25,
   "id": "57",
   "metadata": {},
   "outputs": [
    {
     "data": {
      "text/plain": [
       "[-2, 1, 3, 4]"
      ]
     },
     "execution_count": 25,
     "metadata": {},
     "output_type": "execute_result"
    }
   ],
   "source": [
    "numbers = [1, 4, -2, 3]\n",
    "numbers.sort()\n",
    "numbers"
   ]
  },
  {
   "cell_type": "code",
   "execution_count": 26,
   "id": "58",
   "metadata": {},
   "outputs": [
    {
     "data": {
      "text/plain": [
       "[4, 3, 1, -2]"
      ]
     },
     "execution_count": 26,
     "metadata": {},
     "output_type": "execute_result"
    }
   ],
   "source": [
    "numbers.sort(reverse=True)\n",
    "numbers"
   ]
  },
  {
   "cell_type": "markdown",
   "id": "59",
   "metadata": {},
   "source": [
    "#### Exercise 4.6.2"
   ]
  },
  {
   "cell_type": "markdown",
   "id": "60",
   "metadata": {},
   "source": [
    "We can also append an item using concatenation:"
   ]
  },
  {
   "cell_type": "code",
   "execution_count": 27,
   "id": "61",
   "metadata": {},
   "outputs": [],
   "source": [
    "daily_temperature = daily_temperature + [6]"
   ]
  },
  {
   "cell_type": "markdown",
   "id": "62",
   "metadata": {},
   "source": [
    "From a complexity point of view, is this a good idea?"
   ]
  },
  {
   "cell_type": "markdown",
   "id": "63",
   "metadata": {},
   "source": [
    "_Write your answer here._"
   ]
  },
  {
   "cell_type": "markdown",
   "id": "64",
   "metadata": {},
   "source": [
    "[Hint](../31_Hints/Hints_04_6_02.ipynb)\n",
    "[Answer](../32_Answers/Answers_04_6_02.ipynb)"
   ]
  },
  {
   "cell_type": "markdown",
   "id": "65",
   "metadata": {},
   "source": [
    "#### Exercise 4.6.3"
   ]
  },
  {
   "cell_type": "markdown",
   "id": "66",
   "metadata": {},
   "source": [
    "Here's the board games table again, with one game per row,\n",
    "but this time as a list of lists, so that it can be modified."
   ]
  },
  {
   "cell_type": "code",
   "execution_count": 28,
   "id": "67",
   "metadata": {},
   "outputs": [],
   "source": [
    "games_by_row = [\n",
    "    ['Board game', 'Rating', 'Owned'],\n",
    "    ['Power Grid',      10 ,   True ],\n",
    "    [   'Vintage',       8 ,   True ],\n",
    "    [  'Pandemic',       9 ,  False ]\n",
    "]"
   ]
  },
  {
   "cell_type": "markdown",
   "id": "68",
   "metadata": {},
   "source": [
    "Write code that adds one more column with game prices\n",
    "and one more row with another game. Use fictitious data.\n",
    "The new column should be the right-most column.\n",
    "The new game should be listed first, before Power Grid."
   ]
  },
  {
   "cell_type": "code",
   "execution_count": 29,
   "id": "69",
   "metadata": {},
   "outputs": [],
   "source": [
    "# replace this by your code to change the table\n",
    "games_by_row  # display the new table"
   ]
  },
  {
   "cell_type": "markdown",
   "id": "70",
   "metadata": {},
   "source": [
    "[Hint](../31_Hints/Hints_04_6_03.ipynb)\n",
    "[Answer](../32_Answers/Answers_04_6_03.ipynb)"
   ]
  },
  {
   "cell_type": "markdown",
   "id": "71",
   "metadata": {},
   "source": [
    "### 4.6.5 Mistakes"
   ]
  },
  {
   "cell_type": "markdown",
   "id": "72",
   "metadata": {},
   "source": [
    "Replacing, removing or adding an item of an immutable type leads to\n",
    "a type error: the operation is attempted on a type that doesn't support it."
   ]
  },
  {
   "cell_type": "code",
   "execution_count": 30,
   "id": "73",
   "metadata": {},
   "outputs": [
    {
     "ename": "TypeError",
     "evalue": "'str' object does not support item assignment",
     "output_type": "error",
     "traceback": [
      "\u001b[0;31m---------------------------------------------------------------------------\u001b[0m",
      "\u001b[0;31mTypeError\u001b[0m                                 Traceback (most recent call last)",
      "Cell \u001b[0;32mIn[30], line 2\u001b[0m\n\u001b[1;32m      1\u001b[0m text \u001b[38;5;241m=\u001b[39m \u001b[38;5;124m\"\u001b[39m\u001b[38;5;124mi love grilled fish\u001b[39m\u001b[38;5;124m\"\u001b[39m\n\u001b[0;32m----> 2\u001b[0m \u001b[43mtext\u001b[49m\u001b[43m[\u001b[49m\u001b[38;5;241;43m0\u001b[39;49m\u001b[43m]\u001b[49m \u001b[38;5;241m=\u001b[39m \u001b[38;5;124m\"\u001b[39m\u001b[38;5;124mI\u001b[39m\u001b[38;5;124m\"\u001b[39m\n",
      "\u001b[0;31mTypeError\u001b[0m: 'str' object does not support item assignment"
     ]
    }
   ],
   "source": [
    "text = \"i love grilled fish\"\n",
    "text[0] = \"I\""
   ]
  },
  {
   "cell_type": "markdown",
   "id": "74",
   "metadata": {},
   "source": [
    "Calling a method without using dot notation leads to a name error,\n",
    "because there's no such function in the 'global' context."
   ]
  },
  {
   "cell_type": "code",
   "execution_count": 31,
   "id": "75",
   "metadata": {},
   "outputs": [
    {
     "ename": "NameError",
     "evalue": "name 'pop' is not defined",
     "output_type": "error",
     "traceback": [
      "\u001b[0;31m---------------------------------------------------------------------------\u001b[0m",
      "\u001b[0;31mNameError\u001b[0m                                 Traceback (most recent call last)",
      "Cell \u001b[0;32mIn[31], line 1\u001b[0m\n\u001b[0;32m----> 1\u001b[0m \u001b[43mpop\u001b[49m([\u001b[38;5;241m1\u001b[39m, \u001b[38;5;241m2\u001b[39m, \u001b[38;5;241m3\u001b[39m], \u001b[38;5;241m1\u001b[39m)  \u001b[38;5;66;03m# there's no pop function ...\u001b[39;00m\n",
      "\u001b[0;31mNameError\u001b[0m: name 'pop' is not defined"
     ]
    }
   ],
   "source": [
    "pop([1, 2, 3], 1)  # there's no pop function ..."
   ]
  },
  {
   "cell_type": "markdown",
   "id": "76",
   "metadata": {},
   "source": [
    "A method's name is only known in the context of a particular data type.\n",
    "The interpreter must know the type before it's told the method name.\n",
    "The dot notation does exactly that:\n",
    "the interpreter, which reads code left to right like you and I do,\n",
    "first looks at the type of the expression before the dot\n",
    "and then checks whether that data type has a method with the name after the dot."
   ]
  },
  {
   "cell_type": "code",
   "execution_count": 32,
   "id": "77",
   "metadata": {},
   "outputs": [
    {
     "data": {
      "text/plain": [
       "2"
      ]
     },
     "execution_count": 32,
     "metadata": {},
     "output_type": "execute_result"
    }
   ],
   "source": [
    "[1, 2, 3].pop(1)  # but lists do have a method named pop"
   ]
  },
  {
   "cell_type": "markdown",
   "id": "78",
   "metadata": {},
   "source": [
    "⟵ [Previous section](04_5_tuples.ipynb) | [Up](04-introduction.ipynb) | [Next section](04_7_reverse.ipynb) ⟶"
   ]
  }
 ],
 "metadata": {
  "kernelspec": {
   "display_name": "Python 3",
   "language": "python",
   "name": "python3"
  },
  "language_info": {
   "codemirror_mode": {
    "name": "ipython",
    "version": 3
   },
   "file_extension": ".py",
   "mimetype": "text/x-python",
   "name": "python",
   "nbconvert_exporter": "python",
   "pygments_lexer": "ipython3",
   "version": "3.12.10"
  }
 },
 "nbformat": 4,
 "nbformat_minor": 5
}
