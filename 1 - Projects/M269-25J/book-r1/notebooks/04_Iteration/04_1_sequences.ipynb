{
 "cells": [
  {
   "cell_type": "markdown",
   "id": "0",
   "metadata": {},
   "source": [
    "## 4.1 The Sequence ADT"
   ]
  },
  {
   "cell_type": "markdown",
   "id": "1",
   "metadata": {},
   "source": [
    "A text is a sequence of characters. A to-do list is a sequence of tasks.\n",
    "A top 40 chart is a sequence of songs. A queue is a sequence of people.\n",
    "A **sequence** is a collection of items in a particular order:\n",
    "one item comes first, another comes second, and so on until the last item.\n",
    "The items in a sequence are also called its **members** or **elements**.\n",
    "An **empty sequence** has no elements, e.g. when all tasks have been done."
   ]
  },
  {
   "cell_type": "markdown",
   "id": "2",
   "metadata": {},
   "source": [
    "<div class=\"alert alert-info\">\n",
    "<strong>Info:</strong> In mathematics, sequences are usually lists of numbers that follow a certain pattern, like 1, 4, 7, 10, ... or 5, 10, 20, 40, ...\n",
    "They are special cases of the sequences used in computing.\n",
    "Numeric sequences are introduced in MU123 Unit&nbsp;9 Section&nbsp;1.1 and MST124 Unit&nbsp;10.\n",
    "</div>"
   ]
  },
  {
   "cell_type": "markdown",
   "id": "3",
   "metadata": {},
   "source": [
    "In M269 we write sequences as comma-separated lists of items,\n",
    "enclosed in parentheses: () is the empty sequence, while\n",
    "(1, 2, true) is a sequence of two integers and one Boolean.\n",
    "The order matters, so (1, 2, 3) and (1, 3, 2) are different sequences."
   ]
  },
  {
   "cell_type": "markdown",
   "id": "4",
   "metadata": {},
   "source": [
    "<div class=\"alert alert-info\">\n",
    "<strong>Info:</strong> There's no standard bracket to enclose sequences. Some texts use {...} or\n",
    "⟨...⟩ or no brackets at all, like the MU123 and MST124 books.\n",
    "</div>"
   ]
  },
  {
   "cell_type": "markdown",
   "id": "5",
   "metadata": {},
   "source": [
    "The following are the most common operations on **immutable** sequences,\n",
    "i.e. sequences that cannot be modified.\n",
    "Operations on **mutable** sequences are given in [Section&nbsp;4.6](../04_Iteration/04_6_lists.ipynb#4.6-Lists)."
   ]
  },
  {
   "cell_type": "markdown",
   "id": "6",
   "metadata": {},
   "source": [
    "### 4.1.1 Inspecting sequences"
   ]
  },
  {
   "cell_type": "markdown",
   "id": "7",
   "metadata": {},
   "source": [
    "The following functions allow us to obtain some information about a sequence."
   ]
  },
  {
   "cell_type": "markdown",
   "id": "8",
   "metadata": {},
   "source": [
    "#### Size"
   ]
  },
  {
   "cell_type": "markdown",
   "id": "9",
   "metadata": {},
   "source": [
    "The **length** or **size** of a sequence *s*, written │*s*│,\n",
    "is the number of its elements. The empty sequence has length zero.\n",
    "We assume the size is stored in memory together with the sequence, and that\n",
    "the size is computed and updated when the sequence is created and modified.\n",
    "Hence the length operation can look up the size in constant time."
   ]
  },
  {
   "cell_type": "markdown",
   "id": "10",
   "metadata": {},
   "source": [
    "#### Indexing"
   ]
  },
  {
   "cell_type": "markdown",
   "id": "11",
   "metadata": {},
   "source": [
    "It's possible to obtain the first, second, ..., last item of a sequence\n",
    "with the **indexing** operation. In the sequence (true, false),\n",
    "true is at index zero and false is at index one. Because indices start at 0,\n",
    "the last index is one less than the sequence's length.\n",
    "\n",
    "The indexing function takes a sequence and an index, and returns\n",
    "the item at that index. The members of a sequence can be of any type, so\n",
    "we need a general ADT that includes every possible data item.\n",
    "In M269 we call it the **object** ADT.\n",
    "It only has two operations: equality and inequality.\n",
    "We can now define the indexing operation.\n",
    "\n",
    "**Function**: indexing\\\n",
    "**Inputs**: *values*, a sequence; *index*, an integer\\\n",
    "**Preconditions**: 0 ≤ *index* < │*values*│ \\\n",
    "**Output**: *value*, an object\\\n",
    "**Postconditions**: *value* is the *n*-th item of *values*, with *n* = *index* + 1\n",
    "\n",
    "The indexing operation is written in mathematics as $s_i$,\n",
    "for a sequence $s$ and index $i$.\n",
    "In computing, the more common notation is *s*[*i*].\n",
    "You can use both notations in M269.\n",
    "\n",
    "In M269, all data we need to process fits and is stored in the computer's main\n",
    "random-access memory (RAM). Any RAM position can be accessed in the same time,\n",
    "so we assume that indexing takes constant time."
   ]
  },
  {
   "cell_type": "markdown",
   "id": "12",
   "metadata": {},
   "source": [
    "#### Exercise 4.1.1"
   ]
  },
  {
   "cell_type": "markdown",
   "id": "13",
   "metadata": {},
   "source": [
    "Does the definition of the indexing function allow the operation\n",
    "to be applied to the empty sequence?"
   ]
  },
  {
   "cell_type": "markdown",
   "id": "14",
   "metadata": {},
   "source": [
    "_Write your answer here._"
   ]
  },
  {
   "cell_type": "markdown",
   "id": "15",
   "metadata": {},
   "source": [
    "[Hint](../31_Hints/Hints_04_1_01.ipynb)\n",
    "[Answer](../32_Answers/Answers_04_1_01.ipynb)"
   ]
  },
  {
   "cell_type": "markdown",
   "id": "16",
   "metadata": {},
   "source": [
    "#### Membership"
   ]
  },
  {
   "cell_type": "markdown",
   "id": "17",
   "metadata": {},
   "source": [
    "The **membership** operation, written $v \\in s$ or *v* in *s*,\n",
    "checks whether value *v* is an element of sequence *s*.\n",
    "Here's one way to define it.\n",
    "\n",
    "**Function**: membership\\\n",
    "**Inputs**: *values*, a sequence; *value*, an object\\\n",
    "**Preconditions**: true\\\n",
    "**Output**: *is member*, a Boolean\\\n",
    "**Postconditions**: *is member* if and only if there's an integer *index*\n",
    "such that *values*[*index*] = *value*\n",
    "\n",
    "The postcondition states that the output is true only when there's an integer\n",
    "for which the indexing operation is defined and returns the input value.\n",
    "Note that the postcondition does *not* state how such an index can be found.\n",
    "In the previous chapters, the postconditions were similar to the algorithm\n",
    "that implemented the operation. But postconditions aren't algorithms:\n",
    "they are conditions – Boolean expressions that must be true after the algorithm\n",
    "does its job. Postconditions *check* the output: they don't *compute* it.\n",
    "\n",
    "We assume the membership operation has best-case complexity Θ(1) and\n",
    "worst-case complexity Θ(│*values*│). The reasoning is as follows.\n",
    "To decide whether *value* is an element of *values*, the operation has to\n",
    "go through each member of *values* and check if it's equal to *value*.\n",
    "The best-case scenario, when the operation does the least work,\n",
    "is when the first member of the sequence is *value*:\n",
    "the search is over after one comparison.\n",
    "\n",
    "There are two worst-case scenarios, when the operation does the most work:\n",
    "the *value* is the last item of the sequence or it doesn't occur at all.\n",
    "In both scenarios, the operation compares *value* against all sequence members,\n",
    "i.e. it takes linear time in the length of the sequence:\n",
    "if the number of items doubles, the operation does double the work."
   ]
  },
  {
   "cell_type": "markdown",
   "id": "18",
   "metadata": {},
   "source": [
    "#### Comparison"
   ]
  },
  {
   "cell_type": "markdown",
   "id": "19",
   "metadata": {},
   "source": [
    "If the items of a sequence are **pairwise comparable**, i.e.\n",
    "each item can be compared to every other item, then\n",
    "we can apply the minimum and maximum operations to\n",
    "determine the smallest and largest values.\n",
    "\n",
    "The **lexicographic comparison** of two sequences does a\n",
    "pairwise comparison of items, one by one, until a decision can be made, i.e.\n",
    "items are compared until they differ or one sequence ends before the other.\n",
    "If two sequences are equal until one ends, then the shorter sequence is\n",
    "considered 'less than' the longer one. Some examples:\n",
    "\n",
    "- (1, 2) < (1, 2, 3) because the left sequence ends before the right one\n",
    "- (1, 3, 3) > (1, 2, 3) because the second item of the left sequence is greater than the second item of the right one\n",
    "- () < *s* for any non-empty sequence *s*\n",
    "- (1, 2, 3) ≠ (1, true) because the second items differ.\n",
    "\n",
    "The last two sequences can only be compared for equality and inequality,\n",
    "because the other comparison operations aren't defined for 2 and true.\n",
    "\n",
    "As usual, we write *s1* ≤ *s2* to mean *s1* < *s2* or *s1* = *s2*,\n",
    "and similarly for other operations.\n",
    "\n",
    "The comparison operations on sequences have best-case complexity Θ(1)\n",
    "because in the best-case scenario the first item of both sequences differ\n",
    "and a decision can be made after one comparison, which takes constant time.\n",
    "The comparisons have worst-case complexity Θ(min(│*left*│, │*right*│))\n",
    "because in a worst-case scenario all items of the shorter sequence\n",
    "(or all except the last one) are equal to the corresponding items of the longer\n",
    "sequence and the decision is delayed until the end of the shorter sequence."
   ]
  },
  {
   "cell_type": "markdown",
   "id": "20",
   "metadata": {},
   "source": [
    "### 4.1.2 Creating sequences"
   ]
  },
  {
   "cell_type": "markdown",
   "id": "21",
   "metadata": {},
   "source": [
    "The following operations create new sequences from existing ones."
   ]
  },
  {
   "cell_type": "markdown",
   "id": "22",
   "metadata": {},
   "source": [
    "#### Slicing"
   ]
  },
  {
   "cell_type": "markdown",
   "id": "23",
   "metadata": {},
   "source": [
    "The **slicing** operation extracts a consecutive sequence of items\n",
    "from the input sequence *s*. The resulting **slice** is defined by\n",
    "the given start and end indices. We follow Python's notation *s*[*start*:*end*]\n",
    "with the understanding that the item at index *end* is  *not* included.\n",
    "A slice is also called a **substring**.\n",
    "The term 'subsequence' has another meaning,\n",
    "explained in [Section&nbsp;4.6](../04_Iteration/04_6_lists.ipynb#4.6.1-Modifying-sequences).\n",
    "\n",
    "For example, if *s* = (6, 7, 8, 9), then *s*[1:4] is the substring (7, 8, 9),\n",
    "with the items from indices 1 to 3, inclusive.\n",
    "In other words, it's the slice from the second to the fourth item.\n",
    "If *s* has fewer than four items, then the slice isn't defined.\n",
    "Here's a definition:\n",
    "\n",
    "**Function**: slicing\\\n",
    "**Inputs**: *values*, a sequence; *start*, an integer; *end*, an integer\\\n",
    "**Preconditions**: 0 ≤ *start* ≤ *end* ≤ │*values*│\\\n",
    "**Output**: *substring*, a sequence\\\n",
    "**Postconditions**: if *start* = *end*, then *substring* = (), otherwise\n",
    "*substring* = (*values*[*start*], *values*[*start* + 1], ..., *values*[*end* - 1])\n",
    "\n",
    "The preconditions allow the end index to be equal to the length of the sequence,\n",
    "so that the last item can be included in the slice.\n",
    "If *start* = *end*, then the slice is empty.\n",
    "\n",
    "There are two reasons why the item at index *end* isn't included in the slice.\n",
    "First, it makes it easier to see how many items are in the slice. If the end\n",
    "item were included, the length of the slice would be *end* − *start* + 1.\n",
    "By not including it, │*s*[*start*:*end*]│ = *end* - *start*, e.g.\n",
    "*s*[2:7] has five items.\n",
    "\n",
    "The second reason is to make it easier to split sequences.\n",
    "If you want to split a sequence *s* at index *i*, then\n",
    "the 'left' part of the sequence is *s*[0:*i*] and\n",
    "the 'right' part is *s*[*i*:│ *s* │].\n",
    "\n",
    "The slicing operation copies all items in the slice to a new sequence,\n",
    "so the complexity is linear in the size of the slice: Θ(*end* - *start*)."
   ]
  },
  {
   "cell_type": "markdown",
   "id": "24",
   "metadata": {},
   "source": [
    "#### Concatenating"
   ]
  },
  {
   "cell_type": "markdown",
   "id": "25",
   "metadata": {},
   "source": [
    "The **concatenation** operation, written *left* + *right* in M269,\n",
    "forms a new sequence by joining both input sequences.\n",
    "\n",
    "**Function**: concatenation\\\n",
    "**Inputs**: *left*, a sequence; *right*, a sequence\\\n",
    "**Preconditions**: true\\\n",
    "**Output**: *joined*, a sequence\\\n",
    "**Postconditions**: *joined* = (*left*[0], ..., *left*[│ *left* │ - 1],\n",
    "*right*[0], ..., *right*[│ *right* │ - 1])\n",
    "\n",
    "If sequence *s* is empty, then there are no items *s*[0], ..., *s*[│ *s* │ - 1].\n",
    "For example, if *left* is empty, then\n",
    "*joined* = (*right*[0], ..., *right*[│ *right* │ - 1]).\n",
    "And if *right* is also empty, then *joined* = ().\n",
    "\n",
    "The concatenation *left* + *right* copies all items of *left* and\n",
    "all items of *right*  to the new sequence, so the run-time is proportional to\n",
    "the number of items copied: │*left*│ + │*right*│. The concatenation operation is\n",
    "linear in the total length of the inputs: Θ(│*left*│ + │*right*│).\n",
    "If both inputs double their length, then the total number of items doubles,\n",
    "and so does the run-time of concatenation.\n",
    "\n",
    "A sequence *pattern* is a **prefix** of a sequence *s* if there's a sequence\n",
    "*rest* such that *pattern* + *rest* = *s*. In other words,\n",
    "*pattern* is a substring of *s* that starts at index&nbsp;0 of *s*.\n",
    "Vice versa, if there's a sequence *rest* such that *rest* + *pattern* = *s*, i.e. *s* ends with *pattern*, then *pattern* is a **suffix** of *s*.\n",
    "For every sequence *s*, () + *s* = *s* + () = *s*. This means that\n",
    "the empty sequence () is a prefix and a suffix (and thus a substring)\n",
    "of every sequence,\n",
    "and every sequence is a prefix and a suffix (and thus a substring) of itself."
   ]
  },
  {
   "cell_type": "markdown",
   "id": "26",
   "metadata": {},
   "source": [
    "#### Sorting"
   ]
  },
  {
   "cell_type": "markdown",
   "id": "27",
   "metadata": {},
   "source": [
    "A sequence can be **sorted** in ascending (smallest to largest item) or\n",
    "descending order if the items are pairwise comparable.\n",
    "For example, (3, 3, 7, 9) is in ascending order and\n",
    "(9, 7, 3, 3) is in descending order.\n",
    "Here's one definition:\n",
    "\n",
    "**Function**: ascending sort\\\n",
    "**Inputs**: *original*, a sequence\\\n",
    "**Preconditions**: all items in *original* are pairwise comparable\\\n",
    "**Output**: *sorted*, a sequence\\\n",
    "**Postconditions**:\n",
    "\n",
    "- *sorted* is a permutation of *original*\n",
    "- *sorted*[*index*] ≤ *sorted*[*index*+1] for *index* = 0, 1, ..., │*sorted*│ - 2\n",
    "\n",
    "A **permutation** is a rearrangement.\n",
    "The first postcondition relates the output to the input:\n",
    "the output has the same items as the input, possibly in a different order.\n",
    "(The input sequence may already be in ascending order.)\n",
    "The second postcondition defines what ascending order means.\n",
    "\n",
    "In algorithms in English we write '*s* in ascending order' or\n",
    "'*s* in descending order' for some sequence *s*.\n",
    "The sorting functions produce a new sequence that can be part of\n",
    "a longer expression or be the right-hand side of an assignment, like\n",
    "\n",
    "> let *sorted* be *sequence* in ascending order\n",
    "\n",
    "Sorting can be the basis for solving other problems, e.g.\n",
    "finding the median (the middle value when values are sorted)\n",
    "or the ten largest values. We'll consider the complexity of sorting later."
   ]
  },
  {
   "cell_type": "markdown",
   "id": "28",
   "metadata": {},
   "source": [
    "⟵ [Previous section](04-introduction.ipynb) | [Up](04-introduction.ipynb) | [Next section](04_2_strings.ipynb) ⟶"
   ]
  }
 ],
 "metadata": {
  "kernelspec": {
   "display_name": "Python 3",
   "language": "python",
   "name": "python3"
  },
  "language_info": {
   "codemirror_mode": {
    "name": "ipython",
    "version": 3
   },
   "file_extension": ".py",
   "mimetype": "text/x-python",
   "name": "python",
   "nbconvert_exporter": "python",
   "pygments_lexer": "ipython3",
   "version": "3.12.10"
  }
 },
 "nbformat": 4,
 "nbformat_minor": 5
}
