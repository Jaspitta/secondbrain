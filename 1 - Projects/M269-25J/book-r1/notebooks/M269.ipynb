{
 "cells": [
  {
   "cell_type": "markdown",
   "id": "0",
   "metadata": {},
   "source": [
    "# Algorithms, Data Structures and Computability"
   ]
  },
  {
   "cell_type": "markdown",
   "id": "1",
   "metadata": {},
   "source": [
    "### Michel Wermelinger"
   ]
  },
  {
   "cell_type": "markdown",
   "id": "2",
   "metadata": {},
   "source": [
    "![4 depictions of a cow](cover.jpg)\n",
    "\n",
    "This textbook is part of the 2025/26 presentation of the\n",
    "Open University module M269 *Algorithms, data structures and computability*.\n",
    "\n",
    "This is the version as of 29 August 2025.\n",
    "\n",
    "Copyright © 2020–2025 The Open University\n",
    "\n",
    "All rights reserved. No part of this publication may be reproduced, stored in a\n",
    "retrieval system, transmitted or utilised in any form or by any means,\n",
    "electronic, mechanical, photocopying, recording or otherwise, without written\n",
    "permission from the publisher or a licence from the Copyright Licensing Agency\n",
    "Ltd. Details of such licences (for reprographic reproduction) may be obtained\n",
    "from the Copyright Licensing Agency Ltd, 5th Floor,\n",
    "Shackleton House, 4 Battle Bridge Lane, London SE1 2HX (website www.cla.co.uk).\n",
    "\n",
    "Open University materials may also be made available in electronic formats for\n",
    "use by students of the University. All rights, including copyright and related\n",
    "rights and database rights, in electronic materials and their contents are owned\n",
    "by or licensed to The Open University, or otherwise used by The Open University\n",
    "as permitted by applicable law.\n",
    "\n",
    "In using electronic materials and their contents you agree that your use will be\n",
    "solely for the purposes of following an Open University course of study or\n",
    "otherwise as licensed by The Open University or its assigns.\n",
    "\n",
    "Except as permitted above you undertake not to copy, store in any medium\n",
    "(including electronic storage or use in a website), distribute, transmit or\n",
    "retransmit, broadcast, modify or show in public such electronic materials in\n",
    "whole or in part without the prior written consent of The Open University or in\n",
    "accordance with the Copyright, Designs and Patents Act 1988.\n",
    "\n",
    "**Acknowledgements**\n",
    "\n",
    "I thank my colleagues Alistair Willis, Andy Connolly, Phil Molyneux, Shena Deuchars\n",
    "(critical readers), Jonathan Darch (editor) and Andrew Whitehead (graphic designer)\n",
    "for their input, which greatly improved the content and presentation of this book.\n",
    "Thanks are also due to Alan Bradshaw, Allan Thrower and Mark Hall for\n",
    "specifying, procuring and configuring the JupyterHub server.\n",
    "\n",
    "Many thanks to Tony Hirst and all students and tutors who reported typos and other mistakes.\n",
    "\n",
    "Thanks to Margarida Mamede for suggesting some exercises and to\n",
    "Steve Halim for his [Methods to Solve](https://cpbook.net/methodstosolve) site,\n",
    "from which I selected some problems.\n",
    "\n",
    "A very special thanks to the rest of the M269 team: Adam Linson, Alexis Lansbury, Ann Walshe,\n",
    "Brendan Quinn, Jane Evans, Oli Howson and Phil Hackett.\n",
    "Without their support and their hard work to\n",
    "get the myriad other things done (write TMAs and marking guides, hire tutors,\n",
    "produce all the paperwork and budgets necessary, etc. etc.) the new M269 wouldn't exist.\n",
    "Last but not least, many thanks to the tutors for their tutorials, student support,\n",
    "marking feedback and for coping with the many changes introduced by the new edition."
   ]
  },
  {
   "cell_type": "markdown",
   "id": "3",
   "metadata": {},
   "source": [
    "## Table of Contents"
   ]
  },
  {
   "cell_type": "markdown",
   "id": "4",
   "metadata": {},
   "source": [
    "1. [Introduction](01_Introduction/01-introduction.ipynb)\n",
    "1. [Numbers and sequence](02_Sequence/02-introduction.ipynb)\n",
    "1. [Booleans and selection](03_Selection/03-introduction.ipynb)\n",
    "1. [Sequences and iteration](04_Iteration/04-introduction.ipynb)\n",
    "1. [TMA 01 part 1](05_TMA01-1/05-introduction.ipynb)\n",
    "1. [Implementing sequences](06_Implementing/06-introduction.ipynb)\n",
    "1. [Stacks and queues](07_Ordered/07-introduction.ipynb)\n",
    "1. [Unordered collections](08_Unordered/08-introduction.ipynb)\n",
    "1. [Practice 1](09_Practice-1/09-introduction.ipynb)\n",
    "1. [TMA 01 part 2](10_TMA01-2/10-introduction.ipynb)\n",
    "1. [Exhaustive search](11_Search/11-introduction.ipynb)\n",
    "1. [Recursion](12_Recursion/12-introduction.ipynb)\n",
    "1. [Divide and conquer](13_Divide/13-introduction.ipynb)\n",
    "1. [Sorting](14_Sorting/14-introduction.ipynb)\n",
    "1. [TMA 02 part 1](15_TMA02-1/15-introduction.ipynb)\n",
    "1. [Rooted trees](16_Trees/16-introduction.ipynb)\n",
    "1. [Graphs 1](17_Graphs_1/17-introduction.ipynb)\n",
    "1. [Greed](18_Greed/18-introduction.ipynb)\n",
    "1. [Practice 2](19_Practice-2/19-introduction.ipynb)\n",
    "1. [TMA 02 part 2](20_TMA02-2/20-introduction.ipynb)\n",
    "1. [Graphs 2](21_Graphs_2/21-introduction.ipynb)\n",
    "1. [Backtracking](22_Backtracking/22-introduction.ipynb)\n",
    "1. [Dynamic Programming](23_Dynamic_Programming/23-introduction.ipynb)\n",
    "1. [Practice 3](24_Practice-3/24-introduction.ipynb)\n",
    "1. [TMA 03 part 1](25_TMA03-1/25-introduction.ipynb)\n",
    "1. [Complexity classes](26_Complexity_classes/26-introduction.ipynb)\n",
    "1. [Computability](27_Computability/27-introduction.ipynb)\n",
    "1. [TMA 03 part 2](28_TMA03-2/28-introduction.ipynb)\n",
    "1. [Hints](31_Hints/31-introduction.ipynb)\n",
    "1. [Answers](32_Answers/32-introduction.ipynb)\n",
    "1. [Figures](33_Figures/33-introduction.ipynb)"
   ]
  }
 ],
 "metadata": {
  "kernelspec": {
   "display_name": "Python 3",
   "language": "python",
   "name": "python3"
  }
 },
 "nbformat": 4,
 "nbformat_minor": 5
}
