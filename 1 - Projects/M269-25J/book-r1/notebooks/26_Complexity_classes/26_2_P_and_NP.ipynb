{
 "cells": [
  {
   "cell_type": "markdown",
   "id": "0",
   "metadata": {},
   "source": [
    "## 26.2 The P and NP classes"
   ]
  },
  {
   "cell_type": "markdown",
   "id": "1",
   "metadata": {},
   "source": [
    "This section is about decision problems, i.e. those with a Boolean output.\n",
    "There are two major classes of decision problems, called P and NP.\n",
    "I will use the arguably most famous decision problem to introduce both classes."
   ]
  },
  {
   "cell_type": "markdown",
   "id": "2",
   "metadata": {},
   "source": [
    "### 26.2.1 SAT"
   ]
  },
  {
   "cell_type": "markdown",
   "id": "3",
   "metadata": {},
   "source": [
    "Consider the Boolean expression 'not (A or (B and C))'. Depending on the values\n",
    "of the three variables, the expression may be true or false.\n",
    "If A is true, then the expression is false,\n",
    "but if A and B are false, then the expression is true.\n",
    "\n",
    "An **interpretation** is a set of assignments\n",
    "of a Boolean value to each variable. For example, the interpretations\n",
    "\n",
    "- {A = true, B = false, C = false}\n",
    "- {A = true, B = true, C = true}\n",
    "\n",
    "make the expression false, while the interpretations\n",
    "\n",
    "- {A = false, B = false, C = false}\n",
    "- {A = false, B = false, C = true}\n",
    "\n",
    "make the expression true. A Boolean expression with *n* variables has\n",
    "2ⁿ different interpretations, because each variable has two possible values.\n",
    "\n",
    "A Boolean expression is **satisfiable** if\n",
    "at least one interpretation satisfies the expression, i.e. makes it true.\n",
    "The expression 'not (A or (B and C))' is satisfiable, but 'A and not A' isn't:\n",
    "neither {A = false} nor {A = true} makes the expression true.\n",
    "The **satisfaction problem** (also known as **SAT**) is the problem of deciding\n",
    "whether a given Boolean expression is satisfiable.\n",
    "\n",
    "SAT can be solved with brute-force search:\n",
    "generate all possible interpretations for the input expression and\n",
    "evaluate the expression with each interpretation.\n",
    "If a candidate interpretation makes the expression true,\n",
    "stop searching and output true: the expression is satisfiable.\n",
    "Otherwise, output false after generating and testing all interpretations.\n",
    "\n",
    "Testing one interpretation takes linear time:\n",
    "one pass over the expression to replace the variables with their values\n",
    "(as given by the interpretation) and one pass to evaluate the Boolean operators,\n",
    "each in constant time.\n",
    "\n",
    "In the worst case, the search generates and tests all 2ⁿ interpretations to\n",
    "realise that none of them (or only the last one) makes the expression true.\n",
    "There are SAT algorithms that are quite efficient in the average case,\n",
    "i.e. for most Boolean expressions,\n",
    "but all known SAT algorithms have exponential worst-case complexity."
   ]
  },
  {
   "cell_type": "markdown",
   "id": "4",
   "metadata": {},
   "source": [
    "### 26.2.2 Class P"
   ]
  },
  {
   "cell_type": "markdown",
   "id": "5",
   "metadata": {},
   "source": [
    "**Class P** is the set of tractable decision problems:\n",
    "those that can be solved in polynomial time. For example,\n",
    "the problem of deciding whether a given string is a\n",
    "[valid password](../04_Iteration/04_4_search.ipynb#4.4.2-Valid-password) is in P,\n",
    "because a simple linear-time algorithm solves it.\n",
    "\n",
    "As I mentioned before, for some problems like the TSP we don't know if\n",
    "they're tractable, and the same happens with some decision problems.\n",
    "For example, we don't know whether SAT is tractable,\n",
    "i.e. if it's in P or not, because while current SAT algorithms are exponential,\n",
    "there's no proof that a polynomial algorithm for SAT can't exist."
   ]
  },
  {
   "cell_type": "markdown",
   "id": "6",
   "metadata": {},
   "source": [
    "### 26.2.3 Class NP"
   ]
  },
  {
   "cell_type": "markdown",
   "id": "7",
   "metadata": {},
   "source": [
    "If for some Boolean expression the output for the SAT problem is true,\n",
    "then we can verify in linear time that the expression is indeed satisfiable,\n",
    "provided we're given an interpretation that satisfies the expression:\n",
    "we simply evaluate the expression with the interpretation to confirm\n",
    "it makes the expression true.\n",
    "\n",
    "In more general terms, SAT is a decision problem with this property:\n",
    "for every input that leads to a true output (the decision is 'yes'),\n",
    "we can provide some data that allows us to confirm the decision\n",
    "in polynomial time.\n",
    "**Class NP** is the set of all decision problems with this property.\n",
    "\n",
    "Class P is the set of decision problems for which the 'yes' or 'no' decision\n",
    "can be *computed* in polynomial time; class NP is the set of decision problems for\n",
    "which a 'yes' decision can be *checked* in polynomial time.\n",
    "\n",
    "The additional data to check the 'yes' decision is called a **certificate**\n",
    "because it certifies that the output must be true for that input.\n",
    "The polynomial algorithm that takes an input and its associated certificate\n",
    "to confirm the decision must be 'yes' is called the **verifier**.\n",
    "For each input for which the decision is 'yes',\n",
    "the certificate is the extra information needed to verify the decision.\n",
    "\n",
    "To show that a decision problem is in NP, we must\n",
    "\n",
    "1. define a certificate for each input that leads to a 'yes' decision\n",
    "2. outline the verifier's algorithm, explaining why it does confirm 'yes' decisions\n",
    "3. justify that the algorithm has polynomial complexity.\n",
    "\n",
    "Here's how I would answer a TMA question asking to show that SAT is in NP:\n",
    "\n",
    "1. If the output is true, the input is a satisfiable expression. The associated\n",
    "   certificate is an interpretation that satisfies the expression.\n",
    "1. The verifier takes an input expression and an interpretation, and\n",
    "   evaluates the expression using the interpretation. If the expression evaluates to true, this confirms the expression is satisfiable\n",
    "   because this interpretation makes the expression true.\n",
    "1. If the expression has *v* variable occurrences and *o* Boolean operators,\n",
    "   the verifier takes linear time in the size of the expression: Θ(*v* + *o*).\n",
    "   It takes Θ(*v*) to replace the variables with the interpretation's values\n",
    "   and *o*×Θ(1) to evaluate the operators.\n",
    "\n",
    "As a further example, consider the decision problem of whether\n",
    "a sequence has even length. It can be shown to be in NP:\n",
    "\n",
    "1. The certificate is an integer: the length of the input sequence.\n",
    "2. The verifier takes the list and its certificate and checks that\n",
    "   the certificate is an even number that corresponds to the length of\n",
    "   the sequence. This confirms that the sequence has even length.\n",
    "3. The verifier takes constant time to check that the certificate is\n",
    "   an even number, using the modulo operation. The verifier takes at most linear time to compute the length of the sequence and check\n",
    "   it's equal to the certificate.\n",
    "\n",
    "Note that only checking if the certificate is an even number isn't enough\n",
    "to confirm the list has even length: it could be that\n",
    "the certificate was incorrectly computed.\n",
    "The verifier is checking that a given input leads to a 'yes' decision,\n",
    "so the verifier can't use only the certificate and ignore the input.\n",
    "\n",
    "For this example we can produce certificates for all input sequences,\n",
    "not just those of even length, but in general you only have to indicate\n",
    "what the certificate is for each input leading to a true output."
   ]
  },
  {
   "cell_type": "markdown",
   "id": "8",
   "metadata": {},
   "source": [
    "#### Exercise 26.2.1"
   ]
  },
  {
   "cell_type": "markdown",
   "id": "9",
   "metadata": {},
   "source": [
    "Alice has an extended lunch break during a conference.\n",
    "Can she walk around the city to see all the major landmarks and\n",
    "return to the hotel within 2&nbsp;hours?\n",
    "Her problem is a particular case of the **decision TSP**:\n",
    "\n",
    "> Given a complete weighted graph and a positive integer *w*,\n",
    "> does the graph have a tour with total weight less than or equal to *w*?\n",
    "\n",
    "1. What is the certificate for a graph and integer that lead to a 'yes' answer?"
   ]
  },
  {
   "cell_type": "markdown",
   "id": "10",
   "metadata": {},
   "source": [
    "_Write your answer here._"
   ]
  },
  {
   "cell_type": "markdown",
   "id": "11",
   "metadata": {},
   "source": [
    "2. Outline the verifier algorithm."
   ]
  },
  {
   "cell_type": "markdown",
   "id": "12",
   "metadata": {},
   "source": [
    "_Write your answer here._"
   ]
  },
  {
   "cell_type": "markdown",
   "id": "13",
   "metadata": {},
   "source": [
    "3. Explain why the verifier takes polynomial time."
   ]
  },
  {
   "cell_type": "markdown",
   "id": "14",
   "metadata": {},
   "source": [
    "_Write your answer here._"
   ]
  },
  {
   "cell_type": "markdown",
   "id": "15",
   "metadata": {},
   "source": [
    "[Hint](../31_Hints/Hints_26_2_01.ipynb)\n",
    "[Answer](../32_Answers/Answers_26_2_01.ipynb)"
   ]
  },
  {
   "cell_type": "markdown",
   "id": "16",
   "metadata": {},
   "source": [
    "### 26.2.4 P versus NP"
   ]
  },
  {
   "cell_type": "markdown",
   "id": "17",
   "metadata": {},
   "source": [
    "When I proved that deciding whether a sequence has even length is an NP problem,\n",
    "you may have noticed that the certificate is redundant because the verifier\n",
    "computes the length of the sequence anyway. The verifier is in effect\n",
    "the decision algorithm: it computes the length and checks it is even.\n",
    "\n",
    "Deciding if a sequence has even length is a tractable problem and\n",
    "so we can use its polynomial algorithm to confirm a 'yes' decision\n",
    "without really making use of the certificate.\n",
    "\n",
    "The argument that every tractable decision problem is in NP goes as follows:\n",
    "\n",
    "1. For every input, the certificate can be anything:\n",
    "   zero, the empty set, the string 'whatever', etc.\n",
    "2. The verifier algorithm takes an input and its certificate,\n",
    "   ignores the certificate, calls the decision algorithm on the input\n",
    "   and checks the output is true, to confirm it.\n",
    "1. The decision algorithm (and therefore the verifier) takes polynomial time\n",
    "   because the problem is tractable.\n",
    "\n",
    "In summary, if a decision can be computed in polynomial time,\n",
    "then it can be verified in polynomial time. Therefore,\n",
    "every decision problem that is in set P is also in set NP."
   ]
  },
  {
   "cell_type": "markdown",
   "id": "18",
   "metadata": {},
   "source": [
    "<div class=\"alert alert-warning\">\n",
    "<strong>Note:</strong> P ⊆ NP.\n",
    "</div>"
   ]
  },
  {
   "cell_type": "markdown",
   "id": "19",
   "metadata": {},
   "source": [
    "If P is a subset of NP, do we have P = NP or P $\\subset$ NP (and thus P ≠ NP)?\n",
    "The next figure shows both possibilities.\n",
    "I've added empty columns for non-decision problems to emphasise that\n",
    "classes P and NP are only about decision problems.\n",
    "\n",
    "<p id=\"fig-26.2.1\"></p>\n",
    "\n",
    "*[Figure 26.2.1](../33_Figures/Figures_26_2.ipynb#Figure-26.2.1)*\n",
    "\n",
    "![Image 26_2_p_vs_np.png](26_2_p_vs_np.png)\n",
    "\n",
    "In the left-hand diagram, P and NP are the same set: the tractable decision problems.\n",
    "In the right-hand diagram, P $\\subset$ NP:\n",
    "NP includes P (as conveyed by the dashed line) and includes\n",
    "the intractable decision problems that can be verified in polynomial time.\n",
    "There are further intractable decision problems, outside class NP.\n",
    "\n",
    "Which of these two possibilities is actually the case?\n",
    "Is every NP problem in P (and therefore P = NP) or\n",
    "are some NP problems not in P (and therefore P ≠ NP)?\n",
    "Asking if NP = P can also be phrased as: is every NP problem tractable?\n",
    "In other words, for *every* decision problem for which\n",
    "we can *check* the 'yes' decisions in polynomial time,\n",
    "can we also *compute* them in polynomial time?\n",
    "\n",
    "This is known as the **P versus NP problem** or the **'P = NP?' question**.\n",
    "It is literally a million-dollar question.\n",
    "Since 2000, the Clay Mathematics Institute has been offering\n",
    "one million dollars for a proof of P = NP or of P ≠ NP."
   ]
  },
  {
   "cell_type": "markdown",
   "id": "20",
   "metadata": {},
   "source": [
    "<div class=\"alert alert-info\">\n",
    "<strong>Info:</strong> You can find informal and formal descriptions of the problem,\n",
    "together with the rules for claiming the prize, on\n",
    "<a href=\"https://www.claymath.org/millennium/p-vs-np\">their website</a>.\n",
    "</div>"
   ]
  },
  {
   "cell_type": "markdown",
   "id": "21",
   "metadata": {},
   "source": [
    "Here are two suggestions for how you can get a million bucks.\n",
    "(No need to thank me.)\n",
    "\n",
    "To prove that P ≠ NP, you 'just' have to prove that\n",
    "*one* NP problem of your choice is intractable.\n",
    "Since all problems in P are tractable by definition,\n",
    "this would show that P and NP are not the same set of problems.\n",
    "\n",
    "To prove P = NP, you 'just' have to invent a polynomial algorithm for SAT.\n",
    "I know, it sounds unbelievable that inventing an efficient algorithm\n",
    "for *one* particular problem proves that *all* the infinitely many NP problems\n",
    "can also be solved (not just verified) efficiently.\n",
    "As Tolkien might have noted if he had known about SAT:\n",
    "one problem to bind them all.\n",
    "\n",
    "The next two sections will explain why a polynomial algorithm for SAT\n",
    "'unlocks' polynomial algorithms for all NP problems.\n",
    "That's why the P v. NP issue is so famous and significant, and why there's\n",
    "a large bounty on an elusive algorithm or proof that settles the issue.\n",
    "\n",
    "The majority of computer scientists believe that P ≠ NP, partly\n",
    "because no polynomial algorithm for SAT has been found in the past 50 years,\n",
    "since the study of the P v. NP question began.\n",
    "The key word in the previous sentence is 'believe',\n",
    "because there's no certainty either way."
   ]
  },
  {
   "cell_type": "markdown",
   "id": "22",
   "metadata": {},
   "source": [
    "⟵ [Previous section](26_1_tractable.ipynb) | [Up](26-introduction.ipynb) | [Next section](26_3_reductions.ipynb) ⟶"
   ]
  }
 ],
 "metadata": {
  "kernelspec": {
   "display_name": "Python 3",
   "language": "python",
   "name": "python3"
  },
  "language_info": {
   "codemirror_mode": {
    "name": "ipython",
    "version": 3
   },
   "file_extension": ".py",
   "mimetype": "text/x-python",
   "name": "python",
   "nbconvert_exporter": "python",
   "pygments_lexer": "ipython3",
   "version": "3.12.10"
  }
 },
 "nbformat": 4,
 "nbformat_minor": 5
}
