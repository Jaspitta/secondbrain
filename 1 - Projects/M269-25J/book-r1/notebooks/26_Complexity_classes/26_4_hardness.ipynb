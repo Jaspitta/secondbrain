{
 "cells": [
  {
   "cell_type": "markdown",
   "id": "0",
   "metadata": {},
   "source": [
    "## 26.4 Problem hardness"
   ]
  },
  {
   "cell_type": "markdown",
   "id": "1",
   "metadata": {},
   "source": [
    "So far we used reduction to obtain an algorithm for an unsolved problem,\n",
    "given an algorithm for an already-solved problem.\n",
    "This section shows how reduction can be used to classify problems."
   ]
  },
  {
   "cell_type": "markdown",
   "id": "2",
   "metadata": {},
   "source": [
    "### 26.4.1 Comparing problems"
   ]
  },
  {
   "cell_type": "markdown",
   "id": "3",
   "metadata": {},
   "source": [
    "By reducing problem A to problem B,\n",
    "we obtain an algorithm for A: it transforms the inputs,\n",
    "uses the most efficient algorithm for B and transforms the output.\n",
    "So, the complexity of problem A is at most\n",
    "the sum of the complexities of the input and output transformations and\n",
    "of problem B.\n",
    "(Remember that the complexity of a problem is the complexity of\n",
    "the most efficient algorithm that solves it.)\n",
    "\n",
    "We say 'at most' because there could be a more efficient algorithm for A,\n",
    "possibly without using reduction. For example,\n",
    "the reduction of the interval scheduling to the maximal independent set problem\n",
    "shows that the complexity of the former is at most exponential, and in fact\n",
    "there's a far more efficient greedy algorithm.\n",
    "\n",
    "We say that problem A is **at most as hard as** problem B,\n",
    "and B is **at least as hard as** A,\n",
    "if A can be reduced to B with two polynomial transformation algorithms.\n",
    "\n",
    "All examples in the previous section use polynomial-time transformations,\n",
    "so finding the median is at most as hard as sorting, finding the minimum\n",
    "or maximum is at most as hard as selecting the *n*-th smallest value, and\n",
    "the interval scheduling problem is at most as hard as\n",
    "the maximal independent set problem.\n",
    "\n",
    "Intuitively, A being at most as hard as B means that\n",
    "\n",
    "- either A is as hard as B (both are tractable or both are intractable)\n",
    "- or A is less hard than B (A is tractable and B is intractable).\n",
    "\n",
    "This only happens if both transformations take polynomial time.\n",
    "If at least one transformation takes longer than polynomial time,\n",
    "then even if B is tractable,\n",
    "the complexity of the reduction algorithm for A is non-polynomial and\n",
    "A could be intractable\n",
    "(if no algorithm that is more efficient exists).\n",
    "\n",
    "To sum up, if one or both transformations are non-polynomial it's possible\n",
    "for A to be harder than B (A is intractable and B is tractable).\n",
    "With polynomial transformations, A is always at most as hard as B.\n",
    "\n",
    "If A reduces in polynomial time to B and B is tractable, then so is A, because A can't be harder\n",
    "than B. More precisely, A is tractable because the sum of the polynomial complexities of the transformations and of the algorithm for B is polynomial.\n",
    "This is our first example of how reduction helps classify problems."
   ]
  },
  {
   "cell_type": "markdown",
   "id": "4",
   "metadata": {},
   "source": [
    "<div class=\"alert alert-warning\">\n",
    "<strong>Note:</strong> If problem A reduces in polynomial time to a tractable problem,\n",
    "then A is tractable too.\n",
    "</div>"
   ]
  },
  {
   "cell_type": "markdown",
   "id": "5",
   "metadata": {},
   "source": [
    "### 26.4.2 Transitivity"
   ]
  },
  {
   "cell_type": "markdown",
   "id": "6",
   "metadata": {},
   "source": [
    "Before I introduce the final two complexity classes, we must realise that\n",
    "reduction is *transitive*: if problem A reduces to problem B, and\n",
    "B reduces to problem C, then A reduces to C. The reason is simple:\n",
    "if we can transform A's inputs into B's and B's inputs into C's,\n",
    "then we can just write one transformation algorithm after the other to\n",
    "transform A's inputs directly into C's, and\n",
    "similarly for the output transformations.\n",
    "\n",
    "The next figure shows that. The top diagram shows A being reduced to B, which\n",
    "is reduced to C, while the bottom diagram shows the direct reduction of A to C.\n",
    "Algorithms $\\mathrm{IT}_\\mathrm{A} + \\mathrm{IT}_\\mathrm{B}$ and\n",
    "$\\mathrm{OT}_\\mathrm{C} + \\mathrm{OT}_\\mathrm{B}$ are the concatenation\n",
    "of the input and of the output transformation algorithms.\n",
    "\n",
    "<p id=\"fig-26.4.1\"></p>\n",
    "\n",
    "*[Figure 26.4.1](../33_Figures/Figures_26_4.ipynb#Figure-26.4.1)*\n",
    "\n",
    "![Image 26_4_transitive.png](26_4_transitive.png)"
   ]
  },
  {
   "cell_type": "markdown",
   "id": "7",
   "metadata": {},
   "source": [
    "<div class=\"alert alert-warning\">\n",
    "<strong>Note:</strong> If A reduces to B and B reduces to C, then A reduces to C.\n",
    "If the reductions of A to B and of B to C take polynomial time,\n",
    "so does the reduction of A to C.\n",
    "</div>"
   ]
  },
  {
   "cell_type": "markdown",
   "id": "8",
   "metadata": {},
   "source": [
    "### 26.4.3 The NP-hard class"
   ]
  },
  {
   "cell_type": "markdown",
   "id": "9",
   "metadata": {},
   "source": [
    "In 1971, Stephen Cook proved something extraordinary: *any* decision problem\n",
    "in NP can be reduced in polynomial time to SAT, the satisfiability problem.\n",
    "This means that, by definition, SAT is at least as hard as every NP problem.\n",
    "Problems that are as hard as every problem in NP are called **NP-hard**.\n",
    "\n",
    "At the moment, no polynomial algorithm for SAT is known,\n",
    "but there's no proof that it can't exist.\n",
    "Imagine that someone finds a polynomial algorithm for SAT,\n",
    "thus proving that SAT is tractable.\n",
    "We saw earlier that if a problem A reduces in polynomial time to a tractable problem,\n",
    "then A must be tractable.\n",
    "So, since every NP problem reduces in polynomial time to SAT,\n",
    "if SAT turns out to be tractable,\n",
    "then every NP problem is tractable: NP = P.\n",
    "That's why I wrote in [Section&nbsp;26.2.4](../26_Complexity_classes/26_2_P_and_NP.ipynb#26.2.4-P-versus-NP)\n",
    "that SAT binds classes P and NP: to prove that P = NP\n",
    "you only have to find a polynomial algorithm for SAT.\n",
    "\n",
    "SAT was the first NP-hard problem to be found, but many others exist.\n",
    "Imagine that an NP-hard problem A reduces in polynomial time to problem B.\n",
    "Since any NP problem reduces in polynomial time to A, because A is NP-hard,\n",
    "then by transitivity of reduction it also reduces in polynomial time to B.\n",
    "Well, if there's a polynomial-time reduction from each NP problem to B,\n",
    "then B is NP-hard by definition.\n",
    "We have just proved the following statement."
   ]
  },
  {
   "cell_type": "markdown",
   "id": "10",
   "metadata": {},
   "source": [
    "<div class=\"alert alert-warning\">\n",
    "<strong>Note:</strong> If an NP-hard problem A reduces in polynomial time to problem B,\n",
    "then B is NP-hard too.\n",
    "</div>"
   ]
  },
  {
   "cell_type": "markdown",
   "id": "11",
   "metadata": {},
   "source": [
    "This is the second example of using reduction to classify problems.\n",
    "Starting from SAT and using polynomial-time reductions,\n",
    "computer scientists have proven many problems to be NP-hard.\n",
    "I'll list a few in [Section&nbsp;26.5.1](../26_Complexity_classes/26_5_theory_practice.ipynb#26.5.1-Theory).\n",
    "The earlier argument of why a polynomial algorithm for SAT proves that NP = P\n",
    "can be applied to any other NP-hard problem."
   ]
  },
  {
   "cell_type": "markdown",
   "id": "12",
   "metadata": {},
   "source": [
    "<div class=\"alert alert-warning\">\n",
    "<strong>Note:</strong> If someone finds a polynomial algorithm for <em>one</em> NP-hard problem, then NP = P.\n",
    "</div>"
   ]
  },
  {
   "cell_type": "markdown",
   "id": "13",
   "metadata": {},
   "source": [
    "### 26.4.4 The NP-complete class"
   ]
  },
  {
   "cell_type": "markdown",
   "id": "14",
   "metadata": {},
   "source": [
    "An NP-hard problem is *at least* as hard as any NP problem,\n",
    "so it may not be in the NP class.\n",
    "When a problem is both NP-hard and in NP, the problem is **NP-complete**.\n",
    "\n",
    "SAT is NP-complete because it is NP-hard (as proven by Stephen Cook) and in NP\n",
    "(as shown [before](../26_Complexity_classes/26_2_P_and_NP.ipynb#26.2.3-Class-NP)).\n",
    "Another NP-complete problem is the\n",
    "[decision TSP](../26_Complexity_classes/26_2_P_and_NP.ipynb#Exercise-26.2.1).\n",
    "We've seen it's in NP, but the proof that it's NP-hard will be omitted.\n",
    "\n",
    "The NP-complete problems are the hardest problems in NP,\n",
    "because they are at least as hard as every other NP problem.\n",
    "\n",
    "One striking property of NP-complete problems is that\n",
    "they all reduce in polynomial time to each other.\n",
    "The reason for this is as follows.\n",
    "Consider any two NP-complete problems A and B, i.e. both are in NP and NP-hard.\n",
    "Since A is in NP and B is NP-hard, there's a polynomial-time reduction of A to B,\n",
    "by definition of NP-hardness.\n",
    "However, since B is in NP and A is NP-hard, there's also a polynomial-time reduction of B to A.\n",
    "So any two NP-complete problems reduce in polynomial time to each other.\n",
    "In a sense, all NP-complete problems are the same problem."
   ]
  },
  {
   "cell_type": "markdown",
   "id": "15",
   "metadata": {},
   "source": [
    "### 26.4.5 P versus NP"
   ]
  },
  {
   "cell_type": "markdown",
   "id": "16",
   "metadata": {},
   "source": [
    "To conclude this section, let's see how the NP-hard and NP-complete classes fit\n",
    "with the other classes under both scenarios: P = NP and P ≠ NP.\n",
    "Here's a diagram showing the class relations.\n",
    "\n",
    "<p id=\"fig-26.4.2\"></p>\n",
    "\n",
    "*[Figure 26.4.2](../33_Figures/Figures_26_4.ipynb#Figure-26.4.2)*\n",
    "\n",
    "![Image 26_4_p_vs_np.png](26_4_p_vs_np.png)\n",
    "\n",
    "In both cases, due to the definition of NP-completeness,\n",
    "the NP-complete class is the intersection of the NP and NP-hard classes.\n",
    "\n",
    "The NP-hard class also includes non-decision problems because\n",
    "it has been proven that the travelling salesman problem and\n",
    "many other problems that don't have Boolean outputs are NP-hard.\n",
    "\n",
    "We've seen earlier that if *any one* NP-hard problem is tractable, then\n",
    "*all* NP problems are tractable too.\n",
    "So when P ≠ NP (right-hand diagram), all NP-hard problems must be intractable,\n",
    "because otherwise we'd have NP = P.\n",
    "Since the NP-complete problems are a subset of the NP-hard problems,\n",
    "they must be intractable too when P ≠ NP."
   ]
  },
  {
   "cell_type": "markdown",
   "id": "17",
   "metadata": {},
   "source": [
    "⟵ [Previous section](26_3_reductions.ipynb) | [Up](26-introduction.ipynb) | [Next section](26_5_theory_practice.ipynb) ⟶"
   ]
  }
 ],
 "metadata": {
  "kernelspec": {
   "display_name": "Python 3",
   "language": "python",
   "name": "python3"
  },
  "language_info": {
   "codemirror_mode": {
    "name": "ipython",
    "version": 3
   },
   "file_extension": ".py",
   "mimetype": "text/x-python",
   "name": "python",
   "nbconvert_exporter": "python",
   "pygments_lexer": "ipython3",
   "version": "3.12.10"
  }
 },
 "nbformat": 4,
 "nbformat_minor": 5
}
