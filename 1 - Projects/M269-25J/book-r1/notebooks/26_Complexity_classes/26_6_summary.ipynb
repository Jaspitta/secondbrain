{
 "cells": [
  {
   "cell_type": "markdown",
   "id": "0",
   "metadata": {},
   "source": [
    "## 26.6 Summary"
   ]
  },
  {
   "cell_type": "markdown",
   "id": "1",
   "metadata": {},
   "source": [
    "Computer scientists have classified computational problems in many ways,\n",
    "based on the complexity of the algorithms that solve the problems."
   ]
  },
  {
   "cell_type": "markdown",
   "id": "2",
   "metadata": {},
   "source": [
    "### 26.6.1 Reductions"
   ]
  },
  {
   "cell_type": "markdown",
   "id": "3",
   "metadata": {},
   "source": [
    "A **polynomial** algorithm has a worst-case complexity of the form O($n^c$),\n",
    "where *n* is the input size and *c* is a constant. For example,\n",
    "algorithms with complexity O(*n*³), i.e. that run in cubic time or less,\n",
    "are polynomial,\n",
    "whereas algorithms with exponential or factorial complexity aren't.\n",
    "\n",
    "The **complexity of a problem** is the lowest worst-case complexity of all\n",
    "algorithms that solve the problem. To know a problem's complexity we must\n",
    "have an algorithm of that complexity and a proof that no other more efficient\n",
    "algorithm solves the problem.\n",
    "\n",
    "Problem A **reduces** to problem B if there's an algorithm of the\n",
    "following form that solves A.\n",
    "\n",
    "1. Transform the inputs of A into the inputs of B.\n",
    "2. Use any algorithm for B.\n",
    "3. Transform the obtained output for B into A's output.\n",
    "\n",
    "Problem A is **at most as hard as** problem B,\n",
    "and B is **at least as hard as** A, if A reduces to B in polynomial time, i.e.\n",
    "if steps 1 and 3 take polynomial time.\n",
    "\n",
    "A polynomial-time reduction of problem A to problem B can be used for three purposes:\n",
    "\n",
    "- Obtain a (possibly inefficient) algorithm for unsolved problem A,\n",
    "  given an algorithm for solved problem B.\n",
    "- Prove that A is tractable, if we know that B is.\n",
    "- Prove that B is NP-hard, if we know that A is."
   ]
  },
  {
   "cell_type": "markdown",
   "id": "4",
   "metadata": {},
   "source": [
    "### 26.6.2 Problem classes"
   ]
  },
  {
   "cell_type": "markdown",
   "id": "5",
   "metadata": {},
   "source": [
    "The classes (sets) of problems covered in M269 are the following.\n",
    "(The first two are based on the output type: they aren't complexity classes.)\n",
    "\n",
    "- Decision problems: those that have as output a Boolean value.\n",
    "- Non-decision problems: all other problems.\n",
    "- **Tractable** problems: those that can be solved by a polynomial algorithm.\n",
    "- **Intractable** problems: those that can only be solved by non-polynomial algorithms.\n",
    "- Class **P**: the tractable decision problems, i.e.\n",
    "  those that can be solved in polynomial time.\n",
    "- Class **NP**: the decision problems that can be verified in polynomial time.\n",
    "- Class **NP-hard**: the problems that are at least as hard as every NP problem.\n",
    "- Class **NP-complete**: the NP problems that are NP-hard.\n",
    "\n",
    "A problem is in NP if there's a polynomial **verifier** algorithm\n",
    "that, for each input that leads to a true output (a 'yes' decision),\n",
    "takes the input and a **certificate**, and confirms that the decision is 'yes'.\n",
    "\n",
    "From the definitions it follows that:\n",
    "\n",
    "- any NP problem reduces in polynomial time to any NP-hard problem\n",
    "- all NP-complete problems reduce in polynomial time to each other\n",
    "- all problems in P are also in NP: P $\\subseteq$ NP.\n",
    "\n",
    "It's unknown if P $\\subset$ NP or P = NP: this is the\n",
    "**P versus NP problem** or **‘P = NP?’ question**.\n",
    "\n",
    "The relationships between the classes are as follows, for P = NP and for P ≠ NP:\n",
    "\n",
    "<p id=\"fig-26.6.1\"></p>\n",
    "\n",
    "*[Figure 26.6.1](../33_Figures/Figures_26_6.ipynb#Figure-26.6.1)*\n",
    "\n",
    "![Image 26_4_p_vs_np.png](26_4_p_vs_np.png)\n",
    "\n",
    "In practice, a tractable problem may have no usable polynomial algorithm and\n",
    "an NP-complete or NP-hard problem may have a usable exponential algorithm;\n",
    "usability depends on the exponent of the complexity, the hidden constant factors\n",
    "and the real-world problem instances to be dealt with\n",
    "(their sizes and whether they are worst cases).\n",
    "For example, there's a polynomial algorithm to check if an integer is prime,\n",
    "but due to its large exponent (*c* = 12), it's not used in practice.\n",
    "\n",
    "Heuristic algorithms are often used to\n",
    "handle large instances of NP-complete and NP-hard problems.\n",
    "They compute approximate answers or the correct answer with high probability."
   ]
  },
  {
   "cell_type": "markdown",
   "id": "6",
   "metadata": {},
   "source": [
    "### 26.6.3 Problems"
   ]
  },
  {
   "cell_type": "markdown",
   "id": "7",
   "metadata": {},
   "source": [
    "The **satisfiability problem** (**SAT**) is:\n",
    "\n",
    "**Function:** SAT\\\n",
    "**Inputs**: *expression*, a string\\\n",
    "**Preconditions:** the string represents a Boolean expression with only variables and logical operators\\\n",
    "**Output:** *satisfiable*, a Boolean\\\n",
    "**Postconditions:** *satisfiable* is true if and only if there are values\n",
    "for the Boolean variables that make *expression* true\n",
    "\n",
    "The postcondition could be rephrased as '... if there's an interpretation\n",
    "that satisfies *expression*'. An **interpretation** is an assignment of a Boolean value to each variable in the expression.\n",
    "\n",
    "The **2-SAT** problem is like SAT, but the Boolean expression is a conjunction\n",
    "of disjunctions, with two variables or their negation per disjunction.\n",
    "\n",
    "The **decision TSP** takes as input a complete weighted graph and\n",
    "a positive integer *w*. The Boolean output is true if and only if the graph has\n",
    "a tour with total weight *w* or less.\n",
    "\n",
    "The **fractional knapsack** problem is like the 0/1 knapsack problem,\n",
    "but the solution can involve taking only part of each item.\n",
    "The output is therefore not just the subset of items put in the knapsack but\n",
    "also the percentage of each item.\n",
    "\n",
    "The **all-pairs shortest** (or **longest**) **path** problem asks for\n",
    "a shortest (or longest non-cyclic) path in a graph, between any two nodes.\n",
    "If the graph is unweighted, the path has the fewest (or most) edges;\n",
    "if the graph is weighted, the path has the lowest (or highest) sum of weights.\n",
    "\n",
    "Seemingly similar problems can be in different complexity classes:\n",
    "\n",
    "Class | Problems\n",
    "-|-\n",
    "NP-hard | (decision) [TSP](../22_Backtracking/22_5_tsp.ipynb#22.5-Back-to-the-TSP), [0/1 knapsack](../22_Backtracking/22_7_knapsack.ipynb#22.7-Back-to-the-knapsack), [subset sum](../11_Search/11_6_practice.ipynb#11.6.2-Subset-sum), [maximal independent set](../11_Search/11_5_subsets.ipynb#Exercise-11.5.1), all-pairs longest path, SAT\n",
    "NP-complete | SAT, decision TSP\n",
    "tractable |  all-pairs shortest path, fractional knapsack, 2-SAT, [primality](../11_Search/11_2_factorisation.ipynb#11.2.4-Prime-numbers)\n",
    "P  |  2-SAT, primality\n",
    "\n",
    "Most problems presented in M269 are tractable."
   ]
  },
  {
   "cell_type": "markdown",
   "id": "8",
   "metadata": {},
   "source": [
    "⟵ [Previous section](26_5_theory_practice.ipynb) | [Up](26-introduction.ipynb) | [Next section](../27_Computability/27-introduction.ipynb) ⟶"
   ]
  }
 ],
 "metadata": {
  "kernelspec": {
   "display_name": "Python 3",
   "language": "python",
   "name": "python3"
  },
  "language_info": {
   "codemirror_mode": {
    "name": "ipython",
    "version": 3
   },
   "file_extension": ".py",
   "mimetype": "text/x-python",
   "name": "python",
   "nbconvert_exporter": "python",
   "pygments_lexer": "ipython3",
   "version": "3.12.10"
  }
 },
 "nbformat": 4,
 "nbformat_minor": 5
}
