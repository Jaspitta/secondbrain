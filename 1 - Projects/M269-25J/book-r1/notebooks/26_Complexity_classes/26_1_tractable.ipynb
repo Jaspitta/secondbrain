{
 "cells": [
  {
   "cell_type": "markdown",
   "id": "0",
   "metadata": {},
   "source": [
    "## 26.1 Tractable and intractable problems"
   ]
  },
  {
   "cell_type": "markdown",
   "id": "1",
   "metadata": {},
   "source": [
    "Before we look at two major classes of problems, we must transfer\n",
    "the notion of complexity from algorithms to problems."
   ]
  },
  {
   "cell_type": "markdown",
   "id": "2",
   "metadata": {},
   "source": [
    "### 26.1.1 Problem complexity"
   ]
  },
  {
   "cell_type": "markdown",
   "id": "3",
   "metadata": {},
   "source": [
    "The classification of problems is based on how efficiently they can be solved,\n",
    "so the **complexity of a problem** is defined as\n",
    "the complexity of the most efficient algorithm that solves it.\n",
    "Like for algorithms, we could distinguish between the best-, average- and\n",
    "worst-case complexity of a problem, but for the classification of problems\n",
    "we're only interested in worst-case scenarios."
   ]
  },
  {
   "cell_type": "markdown",
   "id": "4",
   "metadata": {},
   "source": [
    "<div class=\"alert alert-warning\">\n",
    "<strong>Note:</strong> In this chapter, we only consider worst-case complexities\n",
    "and I will therefore often omit the ' worst-case' adjective.\n",
    "</div>"
   ]
  },
  {
   "cell_type": "markdown",
   "id": "5",
   "metadata": {},
   "source": [
    "It's important to realise that the complexity of a problem is\n",
    "the lowest complexity of *all* algorithms that solve the problem,\n",
    "including those that haven't been discovered yet.\n",
    "To be able to say that a problem has, say, quadratic complexity,\n",
    "we must construct a quadratic algorithm that solves the problem *and*\n",
    "we must *prove* that it's impossible to write a more efficient algorithm.\n",
    "\n",
    "Consider the problem of sorting comparable items.\n",
    "This problem has log-linear complexity because\n",
    "there are log-linear algorithms that solve it, like merge sort and heapsort,\n",
    "and there's [a proof](../14_Sorting/14_8_pigeonhole.ipynb#14.8.1-Comparison-sort-complexity) that\n",
    "a log-linear number of comparisons is needed to sort the items.\n",
    "Hence no algorithm with a lower complexity is possible.\n",
    "(More efficient algorithms, like pigeonhole sort, only work\n",
    "for items that can be sorted without comparing them.)\n",
    "\n",
    "For many problems, like the TSP, their exact complexity is unknown because\n",
    "there's currently no proof that the most efficient algorithm we know of\n",
    "is also the most efficient algorithm there will ever be. In other words,\n",
    "there's no proof that a more efficient algorithm is impossible.\n",
    "\n",
    "All we can say for such problems is that their complexity is\n",
    "*at most* the complexity of the most efficient known algorithm and\n",
    "*at least* the complexity it takes to produce the output.\n",
    "For example, the complexity of the TSP is at least linear, because\n",
    "it takes linear time to copy all nodes to the output tour,\n",
    "and at most exponential, because the best known algorithm has that complexity.\n",
    "The exact complexity of the TSP could be linear, exponential,\n",
    "or anything in between. We don't know which one it is yet."
   ]
  },
  {
   "cell_type": "markdown",
   "id": "6",
   "metadata": {},
   "source": [
    "### 26.1.2 Tractable problems"
   ]
  },
  {
   "cell_type": "markdown",
   "id": "7",
   "metadata": {},
   "source": [
    "A polynomial is an expression of the form\n",
    "$a_o + a_1×n + a_2×n² + ... + a_c×n^c$,\n",
    "where the $a$'s and the $c$ are constants and $n$ is a numeric variable.\n",
    "For example, 5 + 3*n* + 2.5*n*² + 0.5*n*⁴  is a polynomial with $a_3$ = 0."
   ]
  },
  {
   "cell_type": "markdown",
   "id": "8",
   "metadata": {},
   "source": [
    "<div class=\"alert alert-info\">\n",
    "<strong>Info:</strong> MST124 Unit&nbsp;3 Section&nbsp;1.6 introduces polynomials.\n",
    "</div>"
   ]
  },
  {
   "cell_type": "markdown",
   "id": "9",
   "metadata": {},
   "source": [
    "In complexity analysis,\n",
    "only the highest term counts and constant factors are ignored, so\n",
    "$$\\mathrm{O}(a_o + a_1×n + a_2×n² + ... + a_c×n^c) = \\mathrm{O}(n^c).$$\n",
    "That's why we say that\n",
    "an algorithm with complexity O($n^c$) has **polynomial complexity**,\n",
    "or vice versa, that a **polynomial algorithm** has complexity O($n^c$).\n",
    "\n",
    "Big-Oh indicates an upper bound, so having polynomial complexity means to have\n",
    "complexity Θ($n^c$) or better. Therefore, any algorithm with\n",
    "constant, logarithmic, linear, log-linear, quadratic or cubic complexity\n",
    "is polynomial because it has complexity Θ(*n*³) or better.\n",
    "Most M269 algorithms have polynomial complexity.\n",
    "\n",
    "A problem is **tractable** if it has polynomial complexity, i.e. if\n",
    "the most efficient algorithm that solves the problem\n",
    "has complexity Θ($n^c$) or better, for input size $n$ and some constant $c$.\n",
    "Most M269 problems are tractable.\n",
    "\n",
    "We don't always need to know the exact complexity of a problem to know if\n",
    "it's tractable: a single algorithm of polynomial complexity is sufficient.\n",
    "For example, if the only known sorting algorithm were insertion sort,\n",
    "that would be enough to show that the sorting problem is tractable, as follows:\n",
    "\n",
    "1. Since the most efficient sorting algorithm can't be worse than\n",
    "   insertion sort, it must have complexity Θ(*n*²) or better.\n",
    "1. Since the most efficient sorting algorithm has complexity Θ($n^c$) or better\n",
    "   for *c* = 2, it has by definition polynomial complexity.\n",
    "1. Since the most efficient sorting algorithm has polynomial complexity,\n",
    "   by definition the sorting problem has polynomial complexity.\n",
    "1. Since the sorting problem has polynomial complexity,\n",
    "   it is by definition tractable.\n",
    "\n",
    "Usually, we don't spell out all these steps: we simply say that\n",
    "the sorting problem is tractable because it is solved by a polynomial algorithm,\n",
    "e.g. insertion sort, which has quadratic complexity."
   ]
  },
  {
   "cell_type": "markdown",
   "id": "10",
   "metadata": {},
   "source": [
    "<div class=\"alert alert-warning\">\n",
    "<strong>Note:</strong> To show that a problem is tractable you only need to indicate or construct\n",
    "<em>one</em> polynomial algorithm that solves the problem.\n",
    "</div>"
   ]
  },
  {
   "cell_type": "markdown",
   "id": "11",
   "metadata": {},
   "source": [
    "### 26.1.3 Intractable problems"
   ]
  },
  {
   "cell_type": "markdown",
   "id": "12",
   "metadata": {},
   "source": [
    "A problem is **intractable** if it's not tractable:\n",
    "there's no polynomial algorithm for it.\n",
    "The most efficient algorithm for an intractable problem has complexity higher\n",
    "than O($n^c$). There are many such complexities but in M269 you learned\n",
    "only two: the exponential and factorial complexities Θ(2ⁿ) and Θ(*n*!).\n",
    "\n",
    "A problem that can be solved with an exponential or factorial algorithm\n",
    "isn't necessarily intractable: there might be a polynomial algorithm that\n",
    "solves it, making the problem tractable. For example,\n",
    "the sorting problem can be solved with the factorial [bogosort](../14_Sorting/14_2_bogosort.ipynb#14.2-Bogosort)\n",
    "algorithm, but the sorting problem is actually tractable, as explained above.\n",
    "\n",
    "To classify a problem as intractable we must prove that no polynomial algorithm\n",
    "solves it. There's a case where this can be easily proven, namely\n",
    "if the size of the output is exponential or factorial in the size of the input.\n",
    "In that case, even if each item in the output can be computed in constant time,\n",
    "it will take an exponential or factorial time to produce the output,\n",
    "and therefore no polynomial algorithm for it can exist.\n",
    "\n",
    "For example, the problem of\n",
    "[computing all subsets](../11_Search/11_5_subsets.ipynb#11.5.4-Code)\n",
    "of a given set with *n* items is intractable, because there are 2ⁿ subsets.\n",
    "Even if each subset were produced in constant time,\n",
    "it would take exponential time to produce all of them,\n",
    "and so no polynomial algorithm can solve the problem."
   ]
  },
  {
   "cell_type": "markdown",
   "id": "13",
   "metadata": {},
   "source": [
    "<div class=\"alert alert-warning\">\n",
    "<strong>Note:</strong> If the size of the output is exponential or factorial in the size of the input,\n",
    "then the problem is intractable.\n",
    "</div>"
   ]
  },
  {
   "cell_type": "markdown",
   "id": "14",
   "metadata": {},
   "source": [
    "In Python, floating-point numbers have a fixed size (64&nbsp;bits),\n",
    "but integers can be arbitrarily large. So\n",
    "be careful when analysing the complexity of problems that have integer inputs,\n",
    "because the complexity is the growth rate of the run-time with respect to\n",
    "the input *size*, not the input *value*.\n",
    "\n",
    "For example, the multiplication of integers *x* and *y* takes\n",
    "constant time for 64-bit integers. But for arbitrarily large integers,\n",
    "an algorithm that multiplies each digit of *x* with each digit of *y*\n",
    "has complexity Θ(│*x*│ × │*y*│), the product of the sizes of both numbers.\n",
    "\n",
    "The size of an integer *n* is │*n*│ = $\\log_2$ *n* because that's the\n",
    "least number of bits required to store *n*.\n",
    "For example, │23│ = $\\log_2$ 23 = 4.52.\n",
    "In fact, 23 is written 10111 in binary, which takes 5&nbsp;bits,\n",
    "but we'll ignore the rounding up because it doesn't affect the complexity.\n",
    "\n",
    "Since the logarithm and exponentiation are inverse operations,\n",
    "we have $n = 2^{\\log_2 n} = 2^{│n│}$.\n",
    "So, if we have a complexity expression in terms of the value $n$, then\n",
    "the expression in terms of the size │$n$│ is obtained by\n",
    "replacing $n$ with $2^{│n│}$, which in turn can be replaced with $2^{\\log n}$\n",
    "because we [ignore the base of logarithms](../13_Divide/13_2_decrease_half.ipynb#13.2.3-Complexity)\n",
    "when analysing complexity.\n",
    "\n",
    "For example, our [factorisation algorithm](../11_Search/11_2_factorisation.ipynb#11.2.3-Sort-candidates)\n",
    "for a positive integer $n$ has complexity $Θ(\\sqrt{n}) = Θ(n^{0.5})$.\n",
    "This means the factorisation algorithm is polynomial in the input *value*\n",
    "because the complexity is of the form Θ($n^c$).\n",
    "However, to express the complexity in terms of the input *size* we must write\n",
    "$$Θ(n^{0.5}) = Θ((2^{│n│})^{0.5}) = Θ((2^{\\log n})^{0.5})\n",
    "= Θ(2^{0.5 \\log n}) = Θ(2^{\\log n}).$$\n",
    "(Remember that complexity analysis ignores constant factors.)\n",
    "It thus turns out that factorisation is exponential in terms of the input size,\n",
    "which is the log *n* bits required to represent *n*."
   ]
  },
  {
   "cell_type": "markdown",
   "id": "15",
   "metadata": {},
   "source": [
    "<div class=\"alert alert-info\">\n",
    "<strong>Info:</strong> MU123 Unit&nbsp;3 Section&nbsp;1.5 explains why $(x^y)^z = x^{y × z}$ and\n",
    "Section&nbsp;3.4 explains why $\\sqrt{x} = x^{0.5}$.\n",
    "</div>"
   ]
  },
  {
   "cell_type": "markdown",
   "id": "16",
   "metadata": {},
   "source": [
    "Algorithms that have polynomial complexity in the *value* (but not in the *size*)\n",
    "of an integer input are called **pseudo-polynomial**."
   ]
  },
  {
   "cell_type": "markdown",
   "id": "17",
   "metadata": {},
   "source": [
    "<div class=\"alert alert-warning\">\n",
    "<strong>Note:</strong> A pseudo-polynomial algorithm seems polynomial but is in fact exponential.\n",
    "</div>"
   ]
  },
  {
   "cell_type": "markdown",
   "id": "18",
   "metadata": {},
   "source": [
    "### 26.1.4 The twilight zone"
   ]
  },
  {
   "cell_type": "markdown",
   "id": "19",
   "metadata": {},
   "source": [
    "For some problems, we don't know if they're tractable or not.\n",
    "This happens when the currently most efficient algorithm is *not* polynomial but\n",
    "the output's size *is* polynomial in the size of the input and so\n",
    "a polynomial algorithm *might* be possible.\n",
    "\n",
    "For example, I wrote earlier that the exact complexity of the TSP is\n",
    "at least linear and at most exponential.\n",
    "So the problem could be tractable or intractable.\n",
    "\n",
    "- If someone invents a polynomial algorithm for the TSP,\n",
    "  then we know it's tractable.\n",
    "- If someone proves that there can't be a polynomial algorithm for the TSP,\n",
    "  then we know it's intractable."
   ]
  },
  {
   "cell_type": "markdown",
   "id": "20",
   "metadata": {},
   "source": [
    "<div class=\"alert alert-warning\">\n",
    "<strong>Note:</strong> If a problem's complexity is at most non-polynomial but could be polynomial,\n",
    "then we don't know if the problem is tractable or intractable.\n",
    "</div>"
   ]
  },
  {
   "cell_type": "markdown",
   "id": "21",
   "metadata": {},
   "source": [
    "#### Exercise 26.1.1"
   ]
  },
  {
   "cell_type": "markdown",
   "id": "22",
   "metadata": {},
   "source": [
    "Based only on what you have read in this book,\n",
    "is the [interval scheduling](../18_Greed/18_1_scheduling.ipynb#18.1-Interval-scheduling) problem\n",
    "tractable, intractable or can't you say either way?"
   ]
  },
  {
   "cell_type": "markdown",
   "id": "23",
   "metadata": {},
   "source": [
    "_Write your answer here._"
   ]
  },
  {
   "cell_type": "markdown",
   "id": "24",
   "metadata": {},
   "source": [
    "[Hint](../31_Hints/Hints_26_1_01.ipynb)\n",
    "[Answer](../32_Answers/Answers_26_1_01.ipynb)"
   ]
  },
  {
   "cell_type": "markdown",
   "id": "25",
   "metadata": {},
   "source": [
    "#### Exercise 26.1.2"
   ]
  },
  {
   "cell_type": "markdown",
   "id": "26",
   "metadata": {},
   "source": [
    "Based only on what you have read in this book,\n",
    "is the [0/1 knapsack](../23_Dynamic_Programming/23_3_knapsack.ipynb#23.3-Knapsack) problem\n",
    "tractable, intractable or can't you say either way?"
   ]
  },
  {
   "cell_type": "markdown",
   "id": "27",
   "metadata": {},
   "source": [
    "_Write your answer here._"
   ]
  },
  {
   "cell_type": "markdown",
   "id": "28",
   "metadata": {},
   "source": [
    "[Hint](../31_Hints/Hints_26_1_02.ipynb)\n",
    "[Answer](../32_Answers/Answers_26_1_02.ipynb)"
   ]
  },
  {
   "cell_type": "markdown",
   "id": "29",
   "metadata": {},
   "source": [
    "#### Exercise 26.1.3"
   ]
  },
  {
   "cell_type": "markdown",
   "id": "30",
   "metadata": {},
   "source": [
    "A group of tourists is visiting a city on foot.\n",
    "They start the day in their hotel.\n",
    "They know the restaurants where they will have lunch and dinner.\n",
    "They will visit a museum immediately after lunch.\n",
    "\n",
    "Given an unweighted, undirected, connected graph representing the city's\n",
    "places and streets, we want to compute all paths from node *Hotel* to\n",
    "node *Dinner* that go through nodes *Lunch* and *Museum* one after the other.\n",
    "\n",
    "Is this problem tractable, intractable or can't you say?"
   ]
  },
  {
   "cell_type": "markdown",
   "id": "31",
   "metadata": {},
   "source": [
    "_Write your answer here._"
   ]
  },
  {
   "cell_type": "markdown",
   "id": "32",
   "metadata": {},
   "source": [
    "[Hint](../31_Hints/Hints_26_1_03.ipynb)\n",
    "[Answer](../32_Answers/Answers_26_1_03.ipynb)"
   ]
  },
  {
   "cell_type": "markdown",
   "id": "33",
   "metadata": {},
   "source": [
    "#### Exercise 26.1.4"
   ]
  },
  {
   "cell_type": "markdown",
   "id": "34",
   "metadata": {},
   "source": [
    "Are pseudo-polynomial algorithms intractable?\n",
    "(This may be considered a trick question.)"
   ]
  },
  {
   "cell_type": "markdown",
   "id": "35",
   "metadata": {},
   "source": [
    "_Write your answer here._"
   ]
  },
  {
   "cell_type": "markdown",
   "id": "36",
   "metadata": {},
   "source": [
    "[Hint](../31_Hints/Hints_26_1_04.ipynb)\n",
    "[Answer](../32_Answers/Answers_26_1_04.ipynb)"
   ]
  },
  {
   "cell_type": "markdown",
   "id": "37",
   "metadata": {},
   "source": [
    "⟵ [Previous section](26-introduction.ipynb) | [Up](26-introduction.ipynb) | [Next section](26_2_P_and_NP.ipynb) ⟶"
   ]
  }
 ],
 "metadata": {
  "kernelspec": {
   "display_name": "Python 3",
   "language": "python",
   "name": "python3"
  },
  "language_info": {
   "codemirror_mode": {
    "name": "ipython",
    "version": 3
   },
   "file_extension": ".py",
   "mimetype": "text/x-python",
   "name": "python",
   "nbconvert_exporter": "python",
   "pygments_lexer": "ipython3",
   "version": "3.12.10"
  }
 },
 "nbformat": 4,
 "nbformat_minor": 5
}
