{
 "cells": [
  {
   "cell_type": "markdown",
   "id": "0",
   "metadata": {},
   "source": [
    "# 26 Complexity classes"
   ]
  },
  {
   "cell_type": "markdown",
   "id": "1",
   "metadata": {},
   "source": [
    "Biologists have classified plants and animals into a ranked taxonomy,\n",
    "formed of species, genus, family, order, and so on. This classification\n",
    "makes it easier to identify new species, relate them to existing ones and\n",
    "understand the evolution of organisms.\n",
    "\n",
    "Likewise, computer scientists have classified problems to understand\n",
    "their similarities and differences. Computational problems are classified\n",
    "according to how efficiently they can be solved. For example, problems like\n",
    "[interval scheduling](../18_Greed/18_1_scheduling.ipynb#18.1-Interval-scheduling) and\n",
    "[topological sort](../21_Graphs_2/21_3_topological.ipynb#21.3-Topological-sort) are in the same class,\n",
    "because both can be efficiently solved in less than quadratic time.\n",
    "\n",
    "As you shall see later in this chapter, it's unknown whether problems like the\n",
    "travelling salesman problem (TSP) are in that same class.\n",
    "Has nobody been clever enough to find an efficient algorithm for the TSP,\n",
    "or is the TSP genuinely a harder problem than others?\n",
    "Computer scientists have put problems like the TSP in their own class.\n",
    "Knowing that a problem is in the same class as the TSP means that it's\n",
    "unlikely there's an efficient algorithm for that problem.\n",
    "That's useful knowledge. Instead of trying (and likely failing) to design\n",
    "an efficient correct algorithm, we should look for a different approach,\n",
    "e.g. an efficient approximate algorithm that returns a 'good enough' solution.\n",
    "\n",
    "This chapter introduces six classes (sets) of problems and\n",
    "a versatile technique, called problem reduction, that\n",
    "helps classify problems but can also be used as an algorithmic technique.\n",
    "\n",
    "This chapter supports these learning outcomes:\n",
    "\n",
    "- Understand the common general-purpose data structures, algorithmic techniques and complexity classes – this chapter introduces problem reduction (as an algorithmic technique) and six complexity classes: tractable, intractable, P, NP, NP-hard, NP-complete.\n",
    "- Analyse the complexity of algorithms to support software design choices – this chapter introduces problem reduction as a complexity analysis technique.\n",
    "\n",
    "Before starting to work on this chapter, check the M269\n",
    "[news](https://learn2.open.ac.uk/blocks/news/all.php?bi=326014) and [errata](https://learn2.open.ac.uk/mod/url/view.php?id=2554721),\n",
    "and check the TMAs for what is assessed."
   ]
  },
  {
   "cell_type": "markdown",
   "id": "2",
   "metadata": {
    "nbsphinx-toctree": {
     "hidden": true,
     "maxdepth": 1,
     "numbered": false
    }
   },
   "source": [
    "1. [Tractable and intractable problems](26_1_tractable.ipynb)\n",
    "1. [The P and NP classes](26_2_P_and_NP.ipynb)\n",
    "1. [Reductions](26_3_reductions.ipynb)\n",
    "1. [Problem hardness](26_4_hardness.ipynb)\n",
    "1. [Theory and Practice](26_5_theory_practice.ipynb)\n",
    "1. [Summary](26_6_summary.ipynb)"
   ]
  },
  {
   "cell_type": "markdown",
   "id": "3",
   "metadata": {},
   "source": [
    "⟵ [Previous chapter](../25_TMA03-1/25-introduction.ipynb) | [Up](../M269.ipynb) | [Next chapter](../27_Computability/27-introduction.ipynb) ⟶"
   ]
  }
 ],
 "metadata": {
  "kernelspec": {
   "display_name": "Python 3",
   "language": "python",
   "name": "python3"
  },
  "language_info": {
   "codemirror_mode": {
    "name": "ipython",
    "version": 3
   },
   "file_extension": ".py",
   "mimetype": "text/x-python",
   "name": "python",
   "nbconvert_exporter": "python",
   "pygments_lexer": "ipython3",
   "version": "3.12.10"
  }
 },
 "nbformat": 4,
 "nbformat_minor": 5
}
