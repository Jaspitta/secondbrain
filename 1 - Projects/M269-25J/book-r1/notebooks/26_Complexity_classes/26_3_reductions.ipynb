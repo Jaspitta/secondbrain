{
 "cells": [
  {
   "cell_type": "markdown",
   "id": "0",
   "metadata": {},
   "source": [
    "## 26.3 Reductions"
   ]
  },
  {
   "cell_type": "markdown",
   "id": "1",
   "metadata": {},
   "source": [
    "This section introduces problem reduction as an algorithmic technique.\n",
    "(The next section will show how to use problem reduction to classify problems.)\n",
    "\n",
    "Imagine I'm asked to write an algorithm for problem *Unsolved*.\n",
    "It just happens that I know of a similar problem *Solved* for which there is\n",
    "an algorithm. I can then write the following algorithm to handle *Unsolved*:\n",
    "\n",
    "1. Transform the inputs of *Unsolved* into the inputs of *Solved*.\n",
    "2. Apply the known algorithm to obtain the output of *Solved*.\n",
    "3. Transform the output of *Solved* into the output of *Unsolved*.\n",
    "\n",
    "This algorithm is called a **reduction** of problem *Unsolved*\n",
    "to problem *Solved*."
   ]
  },
  {
   "cell_type": "markdown",
   "id": "2",
   "metadata": {},
   "source": [
    "<div class=\"alert alert-info\">\n",
    "<strong>Info:</strong> There are several kinds of reductions. This one is called a mapping reduction\n",
    "because it maps the inputs and output of one problem to those of another problem.\n",
    "</div>"
   ]
  },
  {
   "cell_type": "markdown",
   "id": "3",
   "metadata": {},
   "source": [
    "The next figure shows the reduction schematically. Each box is an algorithm,\n",
    "where IT and OT stand for input and output transformation.\n",
    "The numbers in the boxes are the corresponding steps above.\n",
    "\n",
    "<p id=\"fig-26.3.1\"></p>\n",
    "\n",
    "*[Figure 26.3.1](../33_Figures/Figures_26_3.ipynb#Figure-26.3.1)*\n",
    "\n",
    "![Image 26_3_reduction.png](26_3_reduction.png)\n",
    "\n",
    "The complexity of the algorithm for *Unsolved* is the sum of the complexities of\n",
    "the two transformations and of the algorithm for *Solved*.\n",
    "If transforming the inputs and output takes longer than the algorithm for\n",
    "*Solved*, then reducing *Unsolved* to *Solved* is not very helpful.\n",
    "However, if we find a problem *Solved* that makes the transformations\n",
    "easy and efficient, then reduction might be a good approach to quickly write\n",
    "an initial algorithm for *Unsolved*."
   ]
  },
  {
   "cell_type": "markdown",
   "id": "4",
   "metadata": {},
   "source": [
    "<div class=\"alert alert-warning\">\n",
    "<strong>Note:</strong> Normally we're only interested in reducing problem <em>Unsolved</em> to\n",
    "problem <em>Solved</em> if the complexity of the transformations is lower than\n",
    "the complexity of <em>Solved</em>.\n",
    "</div>"
   ]
  },
  {
   "cell_type": "markdown",
   "id": "5",
   "metadata": {},
   "source": [
    "Let's look at some examples."
   ]
  },
  {
   "cell_type": "markdown",
   "id": "6",
   "metadata": {},
   "source": [
    "### 26.3.1 Median"
   ]
  },
  {
   "cell_type": "markdown",
   "id": "7",
   "metadata": {},
   "source": [
    "Let's assume that *Unsolved* is the problem of finding the median of\n",
    "a sequence of numbers.\n",
    "Since the median is the middle number (or the mean of two middle numbers)\n",
    "if they're sorted, we can reduce the median problem to the sorting problem.\n",
    "\n",
    "The following code implements the reduction algorithm.\n",
    "I use generic variable names and some unnecessary assignments just to\n",
    "make the various steps of the reduction clearer.\n",
    "```python\n",
    "def median(numbers: list) -> float:\n",
    "    \"\"\"Return the median of the numbers.\n",
    "\n",
    "    Preconditions: numbers isn't empty\n",
    "    \"\"\"\n",
    "    # finding the median is the unsolved problem\n",
    "    unsolved_input = numbers\n",
    "\n",
    "    # transform input of solved problem into input of unsolved problem\n",
    "    solved_input = unsolved_input\n",
    "\n",
    "    # obtain output of solved problem by applying a known algorithm\n",
    "    solved_output = sorted(solved_input)\n",
    "\n",
    "    # transform output of solved problem into output of unsolved problem\n",
    "    length = len(solved_output)\n",
    "    middle = length // 2\n",
    "    # if the length is odd, the median is the middle number\n",
    "    if length % 2 == 1:\n",
    "        unsolved_output = solved_output[middle]\n",
    "    # otherwise it's the mean of the two middle numbers\n",
    "    else:\n",
    "        left = solved_output[middle]\n",
    "        right = solved_output[middle + 1]\n",
    "        unsolved_output = (left + right) / 2\n",
    "    return unsolved_output\n",
    "```\n",
    "The input transformation just passes the list of numbers to\n",
    "the sorting algorithm, in constant time.\n",
    "The output transformation is not as simple, as it has to distinguish\n",
    "odd- and even-length sequences, but it also takes constant time.\n",
    "Since both transformations take constant time,\n",
    "the complexity of this algorithm is the complexity of sorting:\n",
    "the median problem can be solved in log-linear time by reducing it to\n",
    "the sorting problem."
   ]
  },
  {
   "cell_type": "markdown",
   "id": "8",
   "metadata": {},
   "source": [
    "### 26.3.2 Minimum and maximum"
   ]
  },
  {
   "cell_type": "markdown",
   "id": "9",
   "metadata": {},
   "source": [
    "Consider the problem of finding the smallest value of a non-empty sequence of\n",
    "comparable values. It's similar to (it's actually a special case of)\n",
    "the [selection problem](../14_Sorting/14_7_quicksort_variants.ipynb#14.7.2-Quickselect):\n",
    "return the *n*-th smallest value of a sequence with *n* or more values.\n",
    "There's an efficient algorithm for this problem (quickselect), so\n",
    "we can reduce the problem of finding the smallest value to the problem of\n",
    "finding the *n*-th smallest.\n",
    "```python\n",
    "def minimum(items: list) -> object:\n",
    "    \"\"\"Return the smallest item in items.\n",
    "\n",
    "    Preconditions:\n",
    "    - all items are pairwise comparable\n",
    "    - len(items) > 0\n",
    "    \"\"\"\n",
    "    # transform minimum problem input to selection problem input\n",
    "    solved_items = items\n",
    "    solved_n = 1\n",
    "    # solve the selection problem\n",
    "    solved_output = quick_select(solved_items, solved_n)\n",
    "    # transform selection problem output to minimum problem output\n",
    "    unsolved_output = solved_output\n",
    "    return unsolved_output\n",
    "```\n",
    "The input transformation adds the second parameter that the selection problem\n",
    "requires: finding the minimum is finding the first smallest value, so *n* = 1.\n",
    "The output transformation just passes on the output of the selection problem.\n",
    "\n",
    "The transformations take constant time and quickselect takes linear time,\n",
    "so the minimum can be found in linear time. Even though the reduction has\n",
    "the same complexity as a linear search for the minimum,\n",
    "the latter is a simpler and faster algorithm than quickselect."
   ]
  },
  {
   "cell_type": "markdown",
   "id": "10",
   "metadata": {},
   "source": [
    "<div class=\"alert alert-warning\">\n",
    "<strong>Note:</strong> A reduction is often not the simplest algorithm for a problem.\n",
    "</div>"
   ]
  },
  {
   "cell_type": "markdown",
   "id": "11",
   "metadata": {},
   "source": [
    "#### Exercise 26.3.1"
   ]
  },
  {
   "cell_type": "markdown",
   "id": "12",
   "metadata": {},
   "source": [
    "Reduce the problem of finding the maximum value in a non-empty sequence\n",
    "of comparable values to the selection problem.\n",
    "You only need to indicate how you would change the code above.\n",
    "\n",
    "[Hint](../31_Hints/Hints_26_3_01.ipynb)\n",
    "[Answer](../32_Answers/Answers_26_3_01.ipynb)"
   ]
  },
  {
   "cell_type": "markdown",
   "id": "13",
   "metadata": {},
   "source": [
    "### 26.3.3 Interval scheduling"
   ]
  },
  {
   "cell_type": "markdown",
   "id": "14",
   "metadata": {},
   "source": [
    "To show that one problem reduces to another, we can write code as above,\n",
    "or just outline the input and output transformation algorithms.\n",
    "Here's an example, using the [interval scheduling](../18_Greed/18_1_scheduling.ipynb#18.1-Interval-scheduling) and\n",
    "[maximal independent set](../11_Search/11_5_subsets.ipynb#Exercise-11.5.1) problems.\n",
    "\n",
    "**Operation**: largest interval schedule \\\n",
    "**Inputs**: *intervals*, a set of pairs of natural numbers \\\n",
    "**Preconditions**: for every pair (*start*, *end*), *start* < *end* \\\n",
    "**Output**: *schedule*, a set of pairs of natural numbers \\\n",
    "**Postconditions**: *schedule* is a largest subset of *intervals* such that\n",
    "for any ($s_1$, $e_1$) ≠ ($s_2$, $e_2$) in *schedule*, either $e_1$ < $s_2$ or $e_2$ < $s_1$\n",
    "\n",
    "**Operation**: maximal independent set\\\n",
    "**Inputs**:\n",
    "*items*, a set of objects; *incompatible*, a set of pairs of objects\\\n",
    "**Preconditions**:\n",
    "every pair in *incompatible* consists of two different members of *items* \\\n",
    "**Output**: *compatible*, a set of objects\\\n",
    "**Postconditions**: *compatible* is a largest subset of *items* that\n",
    "has no pair of elements from *incompatible*\n",
    "\n",
    "Previously, we reduced the specific problem of finding the minimum (or maximum)\n",
    "to the general problem of finding the *n*-th smallest value.\n",
    "The general problem had one extra input, *n*.\n",
    "\n",
    "Similarly, the interval scheduling problem is a specific version of\n",
    "the independent set problem: we want a largest subset of intervals that\n",
    "aren't incompatible (overlapping).\n",
    "The incompatibility relation is implicitly given by the start and end times of\n",
    "the intervals, whereas the generic problem has an extra input indicating\n",
    "which elements are incompatible.\n",
    "\n",
    "If there's an algorithm for a general problem we can usually reuse it to solve\n",
    "more specific problems."
   ]
  },
  {
   "cell_type": "markdown",
   "id": "15",
   "metadata": {},
   "source": [
    "<div class=\"alert alert-warning\">\n",
    "<strong>Note:</strong> We can usually reduce a specific problem to a more general one.\n",
    "</div>"
   ]
  },
  {
   "cell_type": "markdown",
   "id": "16",
   "metadata": {},
   "source": [
    "#### Reduction"
   ]
  },
  {
   "cell_type": "markdown",
   "id": "17",
   "metadata": {},
   "source": [
    "The next figure shows the reduction of the interval scheduling problem\n",
    "(*Unsolved*) to the maximal independent set problem (*Solved*),\n",
    "with their inputs and outputs.\n",
    "\n",
    "<p id=\"fig-26.3.2\"></p>\n",
    "\n",
    "*[Figure 26.3.2](../33_Figures/Figures_26_3.ipynb#Figure-26.3.2)*\n",
    "\n",
    "![Image 26_3_is_to_mis.png](26_3_is_to_mis.png)\n",
    "\n",
    "The input transformation algorithm constructs\n",
    "the inputs of the *Solved* problem (*items* and *incompatible*)\n",
    "from the inputs of the *Unsolved* problem (*intervals*) as follows:\n",
    "\n",
    "1. let *items* be *intervals*\n",
    "2. let *incompatible* be the empty set\n",
    "3. for every *interval 1* in *intervals*:\n",
    "   1. for every *interval 2* in *intervals*:\n",
    "      1. if *interval 1* ≠ *interval 2* and not compatible(*interval 1*, *interval 2*):\n",
    "         1. add (*interval 1*, *interval 2*) to *incompatible*\n",
    "\n",
    "The auxiliary function 'compatible' checks that\n",
    "one interval ends before the other one starts.\n",
    "\n",
    "Now the output transformation algorithm: it constructs the output of\n",
    "*Unsolved* (*schedule*) from the output of *Solved* (*compatible*).\n",
    "\n",
    "1. let *schedule* be *compatible*\n",
    "\n",
    "The input transformation constructs the set of overlapping pairs of intervals.\n",
    "The output transformation simply passes on the result:\n",
    "any algorithm that computes a maximal independent set also\n",
    "solves the interval scheduling problem,\n",
    "i.e. computes a largest subset of non-overlapping intervals,\n",
    "because the input *items* are the intervals and\n",
    "the *incompatible* pairs are the overlapping intervals."
   ]
  },
  {
   "cell_type": "markdown",
   "id": "18",
   "metadata": {},
   "source": [
    "#### Complexity"
   ]
  },
  {
   "cell_type": "markdown",
   "id": "19",
   "metadata": {},
   "source": [
    "To determine the complexity of a reduction, we must add the complexities of\n",
    "the transformations and of the most efficient algorithm for problem *Solved*.\n",
    "\n",
    "What are the complexities of the input transformation and\n",
    "of the output transformation for the above reduction?\n",
    "\n",
    "___\n",
    "\n",
    "The output transformation takes constant time.\n",
    "The input transformation generates all pairs of intervals in quadratic time\n",
    "and checks each one in constant time\n",
    "by just comparing the integer start and end times.\n",
    "So the input transformation has quadratic complexity\n",
    "in the number of intervals.\n",
    "\n",
    "The most efficient algorithm we know for the maximal independent set is\n",
    "[brute-force search](../32_Answers/Answers_11_5_01.ipynb):\n",
    "go through the 2ⁿ subsets of the *n* *items*,\n",
    "from largest to smallest subset, and stop when a compatible subset is found.\n",
    "\n",
    "This means that problem reduction leads to an interval scheduling algorithm\n",
    "with exponential worst-case complexity. This is much worse than the\n",
    "log-linear greedy algorithm for interval scheduling."
   ]
  },
  {
   "cell_type": "markdown",
   "id": "20",
   "metadata": {},
   "source": [
    "<div class=\"alert alert-warning\">\n",
    "<strong>Note:</strong> Reduction may be a way of quickly obtaining an initial algorithm for a problem,\n",
    "but it may be a very inefficient algorithm.\n",
    "</div>"
   ]
  },
  {
   "cell_type": "markdown",
   "id": "21",
   "metadata": {},
   "source": [
    "### 26.3.4 Reduction template"
   ]
  },
  {
   "cell_type": "markdown",
   "id": "22",
   "metadata": {},
   "source": [
    "If you are asked in a TMA to reduce a given *Unsolved* problem to a *Solved*\n",
    "problem of your choice, you have to indicate the name of your chosen problem,\n",
    "its inputs and output, and the input and output transformations.\n",
    "You can present the transformations as step-by-step algorithms or just outline them.\n",
    "We suggest you present a reduction as follows.\n",
    "\n",
    "&nbsp; | Unsolved | Solved\n",
    "-|-|-\n",
    "**Problem**: | interval scheduling | maximal independent set |\n",
    "**Input**: | *intervals*, a set of integer pairs | *items*, a set of objects; <br/> *incompatible*, a set of pairs of objects |\n",
    "**Output**: | *schedule*, a set of integer pairs | *compatible*, a set of objects |\n",
    "\n",
    "**Input transformation** (*Unsolved* to *Solved*):\n",
    "Let *items* be *intervals*. Let *incompatible* be the empty set.\n",
    "For each pair of intervals, if one starts before the other one ends,\n",
    "then add the pair to *incompatible*.\n",
    "\n",
    "**Output transformation** (*Solved* to *Unsolved*):\n",
    "Let *schedule* be *compatible*."
   ]
  },
  {
   "cell_type": "markdown",
   "id": "23",
   "metadata": {},
   "source": [
    "#### Exercise 26.3.2"
   ]
  },
  {
   "cell_type": "markdown",
   "id": "24",
   "metadata": {},
   "source": [
    "Complete the template below to show how the problem of finding the maximum\n",
    "can be reduced to the sorting problem."
   ]
  },
  {
   "cell_type": "markdown",
   "id": "25",
   "metadata": {},
   "source": [
    "&nbsp; | Unsolved | Solved\n",
    "-|-|-\n",
    "**Problem**: | maximum | sorting |\n",
    "**Input**: | *items*, a sequence of objects | |\n",
    "**Output**: | *largest*, an object | |\n",
    "\n",
    "**Input transformation** (*Unsolved* to *Solved*):\n",
    "\n",
    "**Output transformation** (*Solved* to *Unsolved*):"
   ]
  },
  {
   "cell_type": "markdown",
   "id": "26",
   "metadata": {},
   "source": [
    "What is the complexity of your reduction?"
   ]
  },
  {
   "cell_type": "markdown",
   "id": "27",
   "metadata": {},
   "source": [
    "_Write your answer here._"
   ]
  },
  {
   "cell_type": "markdown",
   "id": "28",
   "metadata": {},
   "source": [
    "[Hint](../31_Hints/Hints_26_3_02.ipynb)\n",
    "[Answer](../32_Answers/Answers_26_3_02.ipynb)"
   ]
  },
  {
   "cell_type": "markdown",
   "id": "29",
   "metadata": {},
   "source": [
    "#### Exercise 26.3.3 (optional)"
   ]
  },
  {
   "cell_type": "markdown",
   "id": "30",
   "metadata": {},
   "source": [
    "Describe the reductions of Sections 26.3.1 and 26.3.2 using the template."
   ]
  },
  {
   "cell_type": "markdown",
   "id": "31",
   "metadata": {},
   "source": [
    "⟵ [Previous section](26_2_P_and_NP.ipynb) | [Up](26-introduction.ipynb) | [Next section](26_4_hardness.ipynb) ⟶"
   ]
  }
 ],
 "metadata": {
  "kernelspec": {
   "display_name": "Python 3",
   "language": "python",
   "name": "python3"
  },
  "language_info": {
   "codemirror_mode": {
    "name": "ipython",
    "version": 3
   },
   "file_extension": ".py",
   "mimetype": "text/x-python",
   "name": "python",
   "nbconvert_exporter": "python",
   "pygments_lexer": "ipython3",
   "version": "3.12.10"
  }
 },
 "nbformat": 4,
 "nbformat_minor": 5
}
