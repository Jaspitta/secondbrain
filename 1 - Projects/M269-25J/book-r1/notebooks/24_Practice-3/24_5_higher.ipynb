{
 "cells": [
  {
   "cell_type": "markdown",
   "id": "0",
   "metadata": {},
   "source": [
    "## 24.5 Higher and higher"
   ]
  },
  {
   "cell_type": "markdown",
   "id": "1",
   "metadata": {},
   "source": [
    "Given a grid of non-negative integers,\n",
    "what is the length of the longest path of ascending numbers,\n",
    "if we only move vertically or horizontally to an adjacent integer?\n",
    "Consider the following grid.\n",
    "\n",
    "<p id=\"fig-24.5.1\"></p>\n",
    "\n",
    "*[Figure 24.5.1](../33_Figures/Figures_24_5.ipynb#Figure-24.5.1)*\n",
    "\n",
    "![Image 24_5_two_by_three.png](24_5_two_by_three.png)\n",
    "\n",
    "The longest ascending path is (7, 10, 82, 90) and therefore the answer is 4.\n",
    "Paths (3, 10) and (10, 82, 90) also ascend, but they're shorter.\n",
    "Path (3, 82, 90) isn't valid because 82 isn't adjacent to 3.\n",
    "Path (3, 7, 10, 82, 90) isn't valid because 3 and 7 are diagonally adjacent.\n",
    "\n",
    "If there were any paths with duplicate integers, they wouldn't be valid either\n",
    "because the sequence must be strictly ascending."
   ]
  },
  {
   "cell_type": "code",
   "execution_count": 1,
   "id": "2",
   "metadata": {},
   "outputs": [
    {
     "name": "stdout",
     "output_type": "stream",
     "text": [
      "OK: the test table passed the automatic checks.\n"
     ]
    }
   ],
   "source": [
    "from algoesup import check_tests, test\n",
    "\n",
    "higher_tests = [\n",
    "    # case                  grid                        length\n",
    "    ('one longest path',    [[10,7,10], [3,90,82]],     4),\n",
    "    ('all numbers equal',   [[2, 2], [2, 2]],           1),\n",
    "    ('go around grid',      [[2,3], [1,4], [6,5]],      6),\n",
    "    ('two longest paths',   [[6,7,8],[6,5,4],[3,2,1]],  5)\n",
    "]\n",
    "\n",
    "check_tests(higher_tests, [list, int])"
   ]
  },
  {
   "cell_type": "markdown",
   "id": "3",
   "metadata": {},
   "source": [
    "### 24.5.1 Exercises"
   ]
  },
  {
   "cell_type": "markdown",
   "id": "4",
   "metadata": {},
   "source": [
    "#### Exercise 24.5.1"
   ]
  },
  {
   "cell_type": "markdown",
   "id": "5",
   "metadata": {},
   "source": [
    "Explain why this problem can be solved with backtracking."
   ]
  },
  {
   "cell_type": "markdown",
   "id": "6",
   "metadata": {},
   "source": [
    "_Write your answer here._"
   ]
  },
  {
   "cell_type": "markdown",
   "id": "7",
   "metadata": {},
   "source": [
    "[Hint](../31_Hints/Hints_24_5_01.ipynb)\n",
    "[Answer](../32_Answers/Answers_24_5_01.ipynb)"
   ]
  },
  {
   "cell_type": "markdown",
   "id": "8",
   "metadata": {},
   "source": [
    "#### Exercise 24.5.2"
   ]
  },
  {
   "cell_type": "markdown",
   "id": "9",
   "metadata": {},
   "source": [
    "Explain which [backtracking template](../25_TMA03-1/25_2_backtracking.ipynb)\n",
    "you will use and how you will adapt it to this problem,\n",
    "by answering these questions:\n",
    "\n",
    "- Which of the templates applies to this problem:\n",
    "  - all permutations satisfying the constraints\n",
    "  - best permutation satisfying the constraints\n",
    "  - all subsets satisfying the constraints\n",
    "  - best subset satisfying the constraints?\n",
    "- What are the candidates and the extensions?\n",
    "- When is an extension compatible with the current candidate?\n",
    "- What are the local and global constraints?\n",
    "- When is a candidate a solution?\n",
    "- What is the initial best solution?"
   ]
  },
  {
   "cell_type": "markdown",
   "id": "10",
   "metadata": {},
   "source": [
    "_Write your answer here._"
   ]
  },
  {
   "cell_type": "markdown",
   "id": "11",
   "metadata": {},
   "source": [
    "[Answer](../32_Answers/Answers_24_5_02.ipynb)"
   ]
  },
  {
   "cell_type": "markdown",
   "id": "12",
   "metadata": {},
   "source": [
    "#### Exercise 24.5.3"
   ]
  },
  {
   "cell_type": "markdown",
   "id": "13",
   "metadata": {},
   "source": [
    "Implement your algorithm."
   ]
  },
  {
   "cell_type": "code",
   "execution_count": 2,
   "id": "14",
   "metadata": {},
   "outputs": [],
   "source": [
    "def higher(grid: list) -> int:\n",
    "    \"\"\"Return the length of the longest path of ascending numbers in grid.\n",
    "\n",
    "    Preconditions: grid is a table of non-negative integers\n",
    "                   with r > 0 rows and c > 0 columns\n",
    "    \"\"\"\n",
    "    pass\n",
    "\n",
    "\n",
    "test(higher, higher_tests)"
   ]
  },
  {
   "cell_type": "markdown",
   "id": "15",
   "metadata": {},
   "source": [
    "[Hint](../31_Hints/Hints_24_5_03.ipynb)\n",
    "[Answer](../32_Answers/Answers_24_5_03.ipynb)"
   ]
  },
  {
   "cell_type": "markdown",
   "id": "16",
   "metadata": {},
   "source": [
    "#### Exercise 24.5.4"
   ]
  },
  {
   "cell_type": "markdown",
   "id": "17",
   "metadata": {},
   "source": [
    "There's another algorithmic technique that solves this problem\n",
    "more efficiently than backtracking.\n",
    "Which technique is it and why is it more efficient?\n",
    "(You're not asked to outline an algorithm:\n",
    "you only have to justify that a more efficient alternative technique exists.)"
   ]
  },
  {
   "cell_type": "markdown",
   "id": "18",
   "metadata": {},
   "source": [
    "_Write your answer here._"
   ]
  },
  {
   "cell_type": "markdown",
   "id": "19",
   "metadata": {},
   "source": [
    "[Hint](../31_Hints/Hints_24_5_04.ipynb)\n",
    "[Answer](../32_Answers/Answers_24_5_04.ipynb)"
   ]
  },
  {
   "cell_type": "markdown",
   "id": "20",
   "metadata": {},
   "source": [
    "#### Exercise 24.5.5 (optional)"
   ]
  },
  {
   "cell_type": "markdown",
   "id": "21",
   "metadata": {},
   "source": [
    "Implement the more efficient approach."
   ]
  },
  {
   "cell_type": "code",
   "execution_count": 3,
   "id": "22",
   "metadata": {},
   "outputs": [],
   "source": [
    "def higher(grid: list) -> int:\n",
    "    \"\"\"Return the length of the longest path of ascending numbers in grid.\n",
    "\n",
    "    Preconditions: grid is a table of non-negative integers\n",
    "                   with r > 0 rows and c > 0 columns\n",
    "    \"\"\"\n",
    "    pass\n",
    "\n",
    "\n",
    "test(higher, higher_tests)"
   ]
  },
  {
   "cell_type": "markdown",
   "id": "23",
   "metadata": {},
   "source": [
    "[Hint](../31_Hints/Hints_24_5_05.ipynb)"
   ]
  },
  {
   "cell_type": "markdown",
   "id": "24",
   "metadata": {},
   "source": [
    "⟵ [Previous section](24_4_levenshtein.ipynb) | [Up](24-introduction.ipynb) | [Next section](../25_TMA03-1/25-introduction.ipynb) ⟶"
   ]
  }
 ],
 "metadata": {
  "kernelspec": {
   "display_name": "Python 3",
   "language": "python",
   "name": "python3"
  },
  "language_info": {
   "codemirror_mode": {
    "name": "ipython",
    "version": 3
   },
   "file_extension": ".py",
   "mimetype": "text/x-python",
   "name": "python",
   "nbconvert_exporter": "python",
   "pygments_lexer": "ipython3",
   "version": "3.12.10"
  }
 },
 "nbformat": 4,
 "nbformat_minor": 5
}
