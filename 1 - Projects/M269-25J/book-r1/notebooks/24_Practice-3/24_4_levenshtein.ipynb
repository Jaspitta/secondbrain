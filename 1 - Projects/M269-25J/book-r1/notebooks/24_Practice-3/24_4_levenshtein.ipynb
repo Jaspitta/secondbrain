{
 "cells": [
  {
   "cell_type": "markdown",
   "id": "0",
   "metadata": {},
   "source": [
    "## 24.4 Levenshtein distance"
   ]
  },
  {
   "cell_type": "markdown",
   "id": "1",
   "metadata": {},
   "source": [
    "When spell checkers detect a misspelled word, they only suggest similar words\n",
    "as replacements. They do this by computing the edit distance between\n",
    "a valid word and the misspelled word: the number of editing operations\n",
    "it takes to turn the misspelled word into the valid word.\n",
    "If the number of edits is low, e.g. three or less, then\n",
    "the valid word is added to the suggestions.\n",
    "\n",
    "Different edit distances can be defined by allowing different kinds of\n",
    "operations. If the allowed operations are insertion, deletion and replacement,\n",
    "then the edit distance is commonly known as the Levenshtein distance.\n",
    "For example,\n",
    "'fast' becomes 'haste' in two operations: replace 'f' with 'h', and insert 'e'.\n",
    "Vice versa, deleting 'e' and replacing 'h' with 'f' turns 'haste' into 'fast'.\n",
    "It's not possible to transform one string into the other with fewer operations,\n",
    "so the Levenshtein distance of 'fast' and 'haste' is 2.\n",
    "\n",
    "The Levenshtein distance can be computed for any two strings:\n",
    "the tests below include DNA strings and English words without misspellings.\n",
    "We'll name the function edit(*left*, *right*) instead of\n",
    "levenshtein(*left*, *right*) to make it faster and easier to type.\n",
    "The tests are:"
   ]
  },
  {
   "cell_type": "code",
   "execution_count": 1,
   "id": "2",
   "metadata": {},
   "outputs": [
    {
     "name": "stdout",
     "output_type": "stream",
     "text": [
      "OK: the test table passed the automatic checks.\n"
     ]
    }
   ],
   "source": [
    "from algoesup import check_tests, test\n",
    "\n",
    "edit_tests = [\n",
    "    # case,                 left,           right,    distance\n",
    "    ('same word',           'hello',        'hello',        0),\n",
    "    ('insert',              'rate',         'grate',        1),\n",
    "    ('delete',              'rate',         'ate',          1),\n",
    "    ('replace',             'rate',         'fate',         1),\n",
    "    ('replace',             'algorithm',    'logarithm',    3),\n",
    "    ('replace & delete',    'yes',          'no',           3),\n",
    "    ('delete & insert',     'great',        'grate',        2),\n",
    "    ('replace & insert',    'fast',         'haste',        2),\n",
    "    ('all three edits',     'GATACA',       'CATCAT',       3),\n",
    "    # common typo: pressing neighbouring letter on keyboard\n",
    "    ('replace',             'mimt',         'mint',         1),\n",
    "    # common typo: pressing neighbouring letters in wrong order\n",
    "    ('swap letters',        'perquel',      'prequel',      2),\n",
    "]\n",
    "\n",
    "check_tests(edit_tests, [str, str, int])"
   ]
  },
  {
   "cell_type": "markdown",
   "id": "3",
   "metadata": {},
   "source": [
    "### 24.4.1 Exercises"
   ]
  },
  {
   "cell_type": "markdown",
   "id": "4",
   "metadata": {},
   "source": [
    "#### Exercise 24.4.1"
   ]
  },
  {
   "cell_type": "markdown",
   "id": "5",
   "metadata": {},
   "source": [
    "Write a recursive definition of the Levenshtein distance,\n",
    "using the head and tail operations on strings.\n",
    "This is not trivial so break it down and think of concrete examples:\n",
    "\n",
    "- What are the base cases? What's the distance in such cases, i.e.\n",
    "  how many operations does it take to transform one string into the other?\n",
    "- What's the edit distance if both strings have the same head?\n",
    "- If the heads are different, what are the three ways of transforming\n",
    "  the left string into the right string?\n",
    "  The edit distance will be the lowest of the corresponding edit distances.\n",
    "\n",
    "Complete the following."
   ]
  },
  {
   "cell_type": "markdown",
   "id": "6",
   "metadata": {},
   "source": [
    "- if *left* = ...: edit(*left*, *right*) = ...\n",
    "- if *right* = ...: edit(*left*, *right*) = ...\n",
    "- if head(*left*) = head(*right*): edit(*left*, *right*) = ...\n",
    "- otherwise: edit(*left*, *right*) = lowest of\n",
    "   - ...\n",
    "   - ...\n",
    "   - ...\n",
    "\n",
    "[Hint](../31_Hints/Hints_24_4_01.ipynb)\n",
    "[Answer](../32_Answers/Answers_24_4_01.ipynb)"
   ]
  },
  {
   "cell_type": "markdown",
   "id": "7",
   "metadata": {},
   "source": [
    "#### Exercise 24.4.2"
   ]
  },
  {
   "cell_type": "markdown",
   "id": "8",
   "metadata": {},
   "source": [
    "Implement the recursive definition, using `...[0]` and `...[1:]`\n",
    "for the head and tail operations.\n",
    "\n",
    "The `timeit` line in this and the following code cells helps you see how\n",
    "the different approaches improve the run-time."
   ]
  },
  {
   "cell_type": "code",
   "execution_count": 2,
   "id": "9",
   "metadata": {},
   "outputs": [],
   "source": [
    "def edit(left: str, right: str) -> int:\n",
    "    \"\"\"Return the Levenshtein distance between the strings.\"\"\"\n",
    "    pass\n",
    "\n",
    "\n",
    "test(edit, edit_tests)\n",
    "%timeit edit('algorithm', 'logarithm')"
   ]
  },
  {
   "cell_type": "markdown",
   "id": "10",
   "metadata": {},
   "source": [
    "[Hint](../31_Hints/Hints_24_4_02.ipynb)\n",
    "[Answer](../32_Answers/Answers_24_4_02.ipynb)"
   ]
  },
  {
   "cell_type": "markdown",
   "id": "11",
   "metadata": {},
   "source": [
    "#### Exercise 24.4.3"
   ]
  },
  {
   "cell_type": "markdown",
   "id": "12",
   "metadata": {},
   "source": [
    "Copy your code to the next cell and modify it so that\n",
    "it uses indices `l` and `r` instead of slicing the strings."
   ]
  },
  {
   "cell_type": "code",
   "execution_count": 3,
   "id": "13",
   "metadata": {},
   "outputs": [],
   "source": [
    "def edit_indices(left: str, right: str) -> int:\n",
    "    \"\"\"Return the Levenshtein distance between the strings.\"\"\"\n",
    "\n",
    "    def edit(l: int, r: int) -> int:\n",
    "        \"\"\"Return the Levenshtein distance of left[l:] and right[r:].\n",
    "\n",
    "        Preconditions: 0 ≤ l ≤ len(left) and 0 ≤ r ≤ len(right)\n",
    "        \"\"\"\n",
    "        pass\n",
    "\n",
    "    pass  # call the inner function and return the result\n",
    "\n",
    "\n",
    "test(edit_indices, edit_tests)\n",
    "%timeit edit_indices('algorithm', 'logarithm')"
   ]
  },
  {
   "cell_type": "markdown",
   "id": "14",
   "metadata": {},
   "source": [
    "[Hint](../31_Hints/Hints_24_4_03.ipynb)\n",
    "[Answer](../32_Answers/Answers_24_4_03.ipynb)"
   ]
  },
  {
   "cell_type": "markdown",
   "id": "15",
   "metadata": {},
   "source": [
    "#### Exercise 24.4.4"
   ]
  },
  {
   "cell_type": "markdown",
   "id": "16",
   "metadata": {},
   "source": [
    "Explain why dynamic programming is applicable to\n",
    "the Levenshtein distance problem."
   ]
  },
  {
   "cell_type": "markdown",
   "id": "17",
   "metadata": {},
   "source": [
    "_Write your answer here._"
   ]
  },
  {
   "cell_type": "markdown",
   "id": "18",
   "metadata": {},
   "source": [
    "[Hint](../31_Hints/Hints_24_4_04.ipynb)\n",
    "[Answer](../32_Answers/Answers_24_4_04.ipynb)"
   ]
  },
  {
   "cell_type": "markdown",
   "id": "19",
   "metadata": {},
   "source": [
    "#### Exercise 24.4.5"
   ]
  },
  {
   "cell_type": "markdown",
   "id": "20",
   "metadata": {},
   "source": [
    "Compute the Levenshtein distance with a top-down dynamic programming algorithm.\n",
    "Copy your Exercise 24.4.3 code to the next cell and add a cache."
   ]
  },
  {
   "cell_type": "code",
   "execution_count": 4,
   "id": "21",
   "metadata": {},
   "outputs": [],
   "source": [
    "def edit_topdown(left: str, right: str) -> int:\n",
    "    \"\"\"Return the Levenshtein distance between the strings.\"\"\"\n",
    "\n",
    "    def edit(l: int, r: int) -> int:\n",
    "        \"\"\"Return the Levenshtein distance of left[l:] and right[r:].\n",
    "\n",
    "        Preconditions: 0 ≤ l ≤ len(left) and 0 ≤ r ≤ len(right)\n",
    "        \"\"\"\n",
    "        pass\n",
    "\n",
    "    pass\n",
    "\n",
    "\n",
    "test(edit_topdown, edit_tests)\n",
    "%timeit edit_topdown('algorithm', 'logarithm')"
   ]
  },
  {
   "cell_type": "markdown",
   "id": "22",
   "metadata": {},
   "source": [
    "[Hint](../31_Hints/Hints_24_4_05.ipynb)\n",
    "[Answer](../32_Answers/Answers_24_4_05.ipynb)"
   ]
  },
  {
   "cell_type": "markdown",
   "id": "23",
   "metadata": {},
   "source": [
    "#### Exercise 24.4.6"
   ]
  },
  {
   "cell_type": "markdown",
   "id": "24",
   "metadata": {},
   "source": [
    "For bottom-up dynamic programming, in which order must the cache be filled?"
   ]
  },
  {
   "cell_type": "markdown",
   "id": "25",
   "metadata": {},
   "source": [
    "_Write your answer here._"
   ]
  },
  {
   "cell_type": "markdown",
   "id": "26",
   "metadata": {},
   "source": [
    "[Hint](../31_Hints/Hints_24_4_06.ipynb)\n",
    "[Answer](../32_Answers/Answers_24_4_06.ipynb)"
   ]
  },
  {
   "cell_type": "markdown",
   "id": "27",
   "metadata": {},
   "source": [
    "#### Exercise 24.4.7"
   ]
  },
  {
   "cell_type": "markdown",
   "id": "28",
   "metadata": {},
   "source": [
    "Compute the Levenshtein distance with bottom-up dynamic programming.\n",
    "Copy your Exercise 24.4.5 code to the next cell and modify it."
   ]
  },
  {
   "cell_type": "code",
   "execution_count": 5,
   "id": "29",
   "metadata": {},
   "outputs": [],
   "source": [
    "def edit_bottomup(left: str, right: str) -> int:\n",
    "    \"\"\"Return the Levenshtein distance between the strings.\"\"\"\n",
    "    pass\n",
    "\n",
    "\n",
    "test(edit_bottomup, edit_tests)\n",
    "%timeit edit_bottomup('algorithm', 'logarithm')"
   ]
  },
  {
   "cell_type": "markdown",
   "id": "30",
   "metadata": {},
   "source": [
    "[Answer](../32_Answers/Answers_24_4_07.ipynb)"
   ]
  },
  {
   "cell_type": "markdown",
   "id": "31",
   "metadata": {},
   "source": [
    "#### Exercise 24.4.8"
   ]
  },
  {
   "cell_type": "markdown",
   "id": "32",
   "metadata": {},
   "source": [
    "What's the worst-case complexity?"
   ]
  },
  {
   "cell_type": "markdown",
   "id": "33",
   "metadata": {},
   "source": [
    "_Write your answer here._"
   ]
  },
  {
   "cell_type": "markdown",
   "id": "34",
   "metadata": {},
   "source": [
    "[Hint](../31_Hints/Hints_24_4_08.ipynb)\n",
    "[Answer](../32_Answers/Answers_24_4_08.ipynb)"
   ]
  },
  {
   "cell_type": "markdown",
   "id": "35",
   "metadata": {},
   "source": [
    "⟵ [Previous section](24_3_book.ipynb) | [Up](24-introduction.ipynb) | [Next section](24_5_higher.ipynb) ⟶"
   ]
  }
 ],
 "metadata": {
  "kernelspec": {
   "display_name": "Python 3",
   "language": "python",
   "name": "python3"
  },
  "language_info": {
   "codemirror_mode": {
    "name": "ipython",
    "version": 3
   },
   "file_extension": ".py",
   "mimetype": "text/x-python",
   "name": "python",
   "nbconvert_exporter": "python",
   "pygments_lexer": "ipython3",
   "version": "3.12.10"
  }
 },
 "nbformat": 4,
 "nbformat_minor": 5
}
