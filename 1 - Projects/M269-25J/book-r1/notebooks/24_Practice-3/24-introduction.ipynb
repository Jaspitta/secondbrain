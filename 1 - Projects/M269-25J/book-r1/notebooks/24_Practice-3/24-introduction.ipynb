{
 "cells": [
  {
   "cell_type": "markdown",
   "id": "0",
   "metadata": {},
   "source": [
    "# 24 Practice 3"
   ]
  },
  {
   "cell_type": "markdown",
   "id": "1",
   "metadata": {},
   "source": [
    "This chapter introduces no new concepts, only new problems to practise\n",
    "algorithmic techniques and data structures.\n",
    "You should skim the advice in the [next chapter](../25_TMA03-1/25-introduction.ipynb#25-TMA-03-part-1)\n",
    "before attempting the problems.\n",
    "They are in increasing difficulty order, in my opinion,\n",
    "but your mileage may vary.\n",
    "\n",
    "Each problem can be solved with a technique or algorithm\n",
    "introduced in Chapters 21 to 23, possibly in addition to earlier\n",
    "algorithms and data structures.\n",
    "\n",
    "The advice of [Chapter&nbsp;9](../09_Practice-1/09-introduction.ipynb#9-Practice-1) applies again:\n",
    "\n",
    "- Read all problems first, to decide in which order to tackle them.\n",
    "- Don't worry if you don't finish them all:\n",
    "  next week's TMA preparation has priority.\n",
    "- Compare approaches with your study buddy.\n",
    "- Post alternative solutions to mine in the forums,\n",
    "  with appropriate spoiler alerts.\n",
    "\n",
    "This chapter's problems support the following learning outcomes.\n",
    "\n",
    "- Develop and apply algorithms and data structures to solve computational problems – you will apply several of the ADTs and techniques you learned.\n",
    "- Explain how an algorithm or data structure works, in order to communicate with relevant stakeholders – some exercises ask you to only outline the algorithm.\n",
    "- Write readable, tested, documented and efficient Python code – you will adapt generic code templates to the problem at hand and\n",
    "  use Python data types and operations.\n",
    "\n",
    "If you have the time and interest in solving further problems, have a look at\n",
    "Steven Halim's [*Methods to Solve*](https://cpbook.net/methodstosolve) website,\n",
    "which provides one-line hints to thousands of problems, although\n",
    "most require techniques not covered in M269.\n",
    "I selected several problems in this book from there.\n",
    "\n",
    "Another good site for practising is\n",
    "[LeetCode](https://leetcode.com/problemset/all/)\n",
    "as it's easy to search for problems on a particular topic.\n",
    "All problems have official or user-provided solutions in different languages.\n",
    "\n",
    "Before starting to work on this chapter, check the M269\n",
    "[news](https://learn2.open.ac.uk/blocks/news/all.php?bi=326014) and [errata](https://learn2.open.ac.uk/mod/url/view.php?id=2554721),\n",
    "and check the TMAs for what is assessed."
   ]
  },
  {
   "cell_type": "markdown",
   "id": "2",
   "metadata": {
    "nbsphinx-toctree": {
     "hidden": true,
     "maxdepth": 1,
     "numbered": false
    }
   },
   "source": [
    "1. [Safe places](24_1_safe_places.ipynb)\n",
    "1. [Extra staff](24_2_extra_staff.ipynb)\n",
    "1. [Borrow a book](24_3_book.ipynb)\n",
    "1. [Levenshtein distance](24_4_levenshtein.ipynb)\n",
    "1. [Higher and higher](24_5_higher.ipynb)"
   ]
  },
  {
   "cell_type": "markdown",
   "id": "3",
   "metadata": {},
   "source": [
    "⟵ [Previous chapter](../23_Dynamic_Programming/23-introduction.ipynb) | [Up](../M269.ipynb) | [Next chapter](../25_TMA03-1/25-introduction.ipynb) ⟶"
   ]
  }
 ],
 "metadata": {
  "kernelspec": {
   "display_name": "Python 3",
   "language": "python",
   "name": "python3"
  },
  "language_info": {
   "codemirror_mode": {
    "name": "ipython",
    "version": 3
   },
   "file_extension": ".py",
   "mimetype": "text/x-python",
   "name": "python",
   "nbconvert_exporter": "python",
   "pygments_lexer": "ipython3",
   "version": "3.12.10"
  }
 },
 "nbformat": 4,
 "nbformat_minor": 5
}
