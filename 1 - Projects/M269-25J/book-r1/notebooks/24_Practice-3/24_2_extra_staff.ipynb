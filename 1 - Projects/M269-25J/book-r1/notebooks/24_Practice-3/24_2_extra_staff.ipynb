{
 "cells": [
  {
   "cell_type": "markdown",
   "id": "0",
   "metadata": {},
   "source": [
    "## 24.2 Extra staff"
   ]
  },
  {
   "cell_type": "markdown",
   "id": "1",
   "metadata": {},
   "source": [
    "A project manager has constructed a directed acyclic graph (DAG) where\n",
    "the nodes represent the project's tasks and\n",
    "each edge A⟶B states that task A must be finished before task B starts.\n",
    "Each task takes one person one week to finish.\n",
    "\n",
    "To shorten the duration of the project, the manager wants as many tasks\n",
    "as possible to be done simultaneously. Consider the following example.\n",
    "\n",
    "<p id=\"fig-24.2.1\"></p>\n",
    "\n",
    "*[Figure 24.2.1](../33_Figures/Figures_24_2.ipynb#Figure-24.2.1)*\n",
    "\n",
    "![Image 24_2_project.png](24_2_project.png)\n",
    "\n",
    "This project takes five weeks to complete:\n",
    "\n",
    "1. Tasks 1 and 4\n",
    "1. Tasks 0, 2 and 3\n",
    "1. Task 5\n",
    "1. Task 8\n",
    "1. Tasks 6 and 7.\n",
    "\n",
    "The project team has P people. To budget for the project, the manager wants to know\n",
    "how many weeks require extra people. For the example,\n",
    "if P = 2, then the answer is one: only the second week needs extra people.\n",
    "But if P = 1, then the answer is three:\n",
    "the first, second and fifth weeks need extra people.\n",
    "Results for other values of P are given below, in the test table."
   ]
  },
  {
   "cell_type": "markdown",
   "id": "2",
   "metadata": {},
   "source": [
    "### 24.2.1 Exercises"
   ]
  },
  {
   "cell_type": "markdown",
   "id": "3",
   "metadata": {},
   "source": [
    "#### Exercise 24.2.1"
   ]
  },
  {
   "cell_type": "markdown",
   "id": "4",
   "metadata": {},
   "source": [
    "1. Which [standard graph problem](../25_TMA03-1/25_1_graphs.ipynb#25.1.2-Starting-with-the-general-problem)\n",
    "   is relevant for this problem?\n",
    "2. What algorithm will you need to use or adapt?"
   ]
  },
  {
   "cell_type": "markdown",
   "id": "5",
   "metadata": {},
   "source": [
    "_Write your answer here._"
   ]
  },
  {
   "cell_type": "markdown",
   "id": "6",
   "metadata": {},
   "source": [
    "[Answer](../32_Answers/Answers_24_2_01.ipynb)"
   ]
  },
  {
   "cell_type": "markdown",
   "id": "7",
   "metadata": {},
   "source": [
    "#### Exercise 24.2.2"
   ]
  },
  {
   "cell_type": "markdown",
   "id": "8",
   "metadata": {},
   "source": [
    "Outline an algorithm to solve the problem.\n",
    "Indicate any changes you need to make to the algorithm in your previous answer."
   ]
  },
  {
   "cell_type": "markdown",
   "id": "9",
   "metadata": {},
   "source": [
    "_Write your answer here._"
   ]
  },
  {
   "cell_type": "markdown",
   "id": "10",
   "metadata": {},
   "source": [
    "[Hint](../31_Hints/Hints_24_2_02.ipynb)\n",
    "[Answer](../32_Answers/Answers_24_2_02.ipynb)"
   ]
  },
  {
   "cell_type": "markdown",
   "id": "11",
   "metadata": {},
   "source": [
    "#### Exercise 24.2.3"
   ]
  },
  {
   "cell_type": "markdown",
   "id": "12",
   "metadata": {},
   "source": [
    "Implement the algorithm."
   ]
  },
  {
   "cell_type": "code",
   "execution_count": 1,
   "id": "13",
   "metadata": {},
   "outputs": [],
   "source": [
    "%run -i ../m269_digraph\n",
    "from algoesup import test\n",
    "\n",
    "\n",
    "def extra_staff(project: DiGraph, people: int) -> int:\n",
    "    \"\"\"Return how many weeks need more than people on the project.\n",
    "\n",
    "    Preconditions: project is acyclic, people ≥ 0\n",
    "    \"\"\"\n",
    "    pass\n",
    "\n",
    "\n",
    "project = DiGraph()\n",
    "for task in range(9):\n",
    "    project.add_node(task)\n",
    "project.add_edge(1, 0)\n",
    "project.add_edge(1, 6)\n",
    "project.add_edge(0, 5)\n",
    "project.add_edge(0, 6)\n",
    "project.add_edge(5, 8)\n",
    "project.add_edge(8, 6)\n",
    "project.add_edge(8, 7)\n",
    "project.add_edge(4, 2)\n",
    "project.add_edge(4, 3)\n",
    "\n",
    "extra_staff_tests = [\n",
    "    # case,      project, people, weeks\n",
    "    (\"0 people\", project, 0,      5),\n",
    "    (\"1 person\", project, 1,      3),\n",
    "    (\"2 people\", project, 2,      1),\n",
    "    (\"3 people\", project, 3,      0),\n",
    "]\n",
    "\n",
    "test(extra_staff, extra_staff_tests)"
   ]
  },
  {
   "cell_type": "markdown",
   "id": "14",
   "metadata": {},
   "source": [
    "[Hint](../31_Hints/Hints_24_2_03.ipynb)\n",
    "[Answer](../32_Answers/Answers_24_2_03.ipynb)"
   ]
  },
  {
   "cell_type": "markdown",
   "id": "15",
   "metadata": {},
   "source": [
    "⟵ [Previous section](24_1_safe_places.ipynb) | [Up](24-introduction.ipynb) | [Next section](24_3_book.ipynb) ⟶"
   ]
  }
 ],
 "metadata": {
  "kernelspec": {
   "display_name": "Python 3",
   "language": "python",
   "name": "python3"
  },
  "language_info": {
   "codemirror_mode": {
    "name": "ipython",
    "version": 3
   },
   "file_extension": ".py",
   "mimetype": "text/x-python",
   "name": "python",
   "nbconvert_exporter": "python",
   "pygments_lexer": "ipython3",
   "version": "3.12.10"
  }
 },
 "nbformat": 4,
 "nbformat_minor": 5
}
