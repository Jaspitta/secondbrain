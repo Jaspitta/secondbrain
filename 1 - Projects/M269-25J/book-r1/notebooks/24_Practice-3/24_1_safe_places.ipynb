{
 "cells": [
  {
   "cell_type": "markdown",
   "id": "0",
   "metadata": {},
   "source": [
    "## 24.1 Safe places"
   ]
  },
  {
   "cell_type": "markdown",
   "id": "1",
   "metadata": {},
   "source": [
    "To analyse the safety of a building in case it needs to be evacuated,\n",
    "the places and escape routes of the building have been modelled as a\n",
    "weighted directed graph.\n",
    "Each node is a place (office, meeting room, storage room, etc.) and\n",
    "each edge is a passage between places (corridor, stairs, door, etc.).\n",
    "The weights indicate the expected time to walk across that passage.\n",
    "\n",
    "One node represents the space in front of the building,\n",
    "where staff and visitors must assemble.\n",
    "The assembly node can be reached from every other node.\n",
    "\n",
    "Given a time duration, e.g. 10 minutes, we want to know from how many places\n",
    "it is possible to reach the assembly place within that duration."
   ]
  },
  {
   "cell_type": "markdown",
   "id": "2",
   "metadata": {},
   "source": [
    "### 24.1.1 Exercises"
   ]
  },
  {
   "cell_type": "markdown",
   "id": "3",
   "metadata": {},
   "source": [
    "#### Exercise 24.1.1"
   ]
  },
  {
   "cell_type": "markdown",
   "id": "4",
   "metadata": {},
   "source": [
    "M269 introduced these standard graph problems, in this order: shortest tour,\n",
    "shortest paths, minimum spanning trees, connected components, topological sorts,\n",
    "detecting cycles.\n",
    "Which one does this problem require you to solve?"
   ]
  },
  {
   "cell_type": "markdown",
   "id": "5",
   "metadata": {},
   "source": [
    "_Write your answer here._"
   ]
  },
  {
   "cell_type": "markdown",
   "id": "6",
   "metadata": {},
   "source": [
    "[Answer](../32_Answers/Answers_24_1_01.ipynb)"
   ]
  },
  {
   "cell_type": "markdown",
   "id": "7",
   "metadata": {},
   "source": [
    "#### Exercise 24.1.2"
   ]
  },
  {
   "cell_type": "markdown",
   "id": "8",
   "metadata": {},
   "source": [
    "Complete the problem definition.\n",
    "The postconditions should refer to one or more standard graph problems."
   ]
  },
  {
   "cell_type": "markdown",
   "id": "9",
   "metadata": {},
   "source": [
    "**Function**: safe places\\\n",
    "**Inputs**: *building*, a digraph with integer weights; *assembly*, an object;\n",
    "*time*, an integer\\\n",
    "**Preconditions**:\n",
    "\n",
    "- *assembly* is a node of *building*\n",
    "- the weights and *time* are in the same unit (e.g. seconds) and aren't negative\n",
    "\n",
    "**Output**: *safe*, an integer\\\n",
    "**Postconditions**:\n",
    "*safe* is the number of nodes in *building* (except *assembly*) that ...\n",
    "\n",
    "[Answer](../32_Answers/Answers_24_1_02.ipynb)"
   ]
  },
  {
   "cell_type": "markdown",
   "id": "10",
   "metadata": {},
   "source": [
    "#### Exercise 24.1.3"
   ]
  },
  {
   "cell_type": "markdown",
   "id": "11",
   "metadata": {},
   "source": [
    "Which of the graph algorithm(s) you learned must you\n",
    "use or adapt for this problem?"
   ]
  },
  {
   "cell_type": "markdown",
   "id": "12",
   "metadata": {},
   "source": [
    "_Write your answer here._"
   ]
  },
  {
   "cell_type": "markdown",
   "id": "13",
   "metadata": {},
   "source": [
    "[Answer](../32_Answers/Answers_24_1_03.ipynb)"
   ]
  },
  {
   "cell_type": "markdown",
   "id": "14",
   "metadata": {},
   "source": [
    "#### Exercise 24.1.4"
   ]
  },
  {
   "cell_type": "markdown",
   "id": "15",
   "metadata": {},
   "source": [
    "Outline an exhaustive search algorithm that solves the problem."
   ]
  },
  {
   "cell_type": "markdown",
   "id": "16",
   "metadata": {},
   "source": [
    "_Write your answer here._"
   ]
  },
  {
   "cell_type": "markdown",
   "id": "17",
   "metadata": {},
   "source": [
    "[Answer](../32_Answers/Answers_24_1_04.ipynb)"
   ]
  },
  {
   "cell_type": "markdown",
   "id": "18",
   "metadata": {},
   "source": [
    "#### Exercise 24.1.5"
   ]
  },
  {
   "cell_type": "markdown",
   "id": "19",
   "metadata": {},
   "source": [
    "What's the worst-case complexity of your algorithm?"
   ]
  },
  {
   "cell_type": "markdown",
   "id": "20",
   "metadata": {},
   "source": [
    "_Write your answer here._"
   ]
  },
  {
   "cell_type": "markdown",
   "id": "21",
   "metadata": {},
   "source": [
    "[Hint](../31_Hints/Hints_24_1_05.ipynb)\n",
    "[Answer](../32_Answers/Answers_24_1_05.ipynb)"
   ]
  },
  {
   "cell_type": "markdown",
   "id": "22",
   "metadata": {},
   "source": [
    "#### Exercise 24.1.6"
   ]
  },
  {
   "cell_type": "markdown",
   "id": "23",
   "metadata": {},
   "source": [
    "Outline a more efficient algorithm than exhaustive search to solve this problem.\n",
    "\n",
    "[Hint](../31_Hints/Hints_24_1_06.ipynb)\n",
    "[Answer](../32_Answers/Answers_24_1_06.ipynb)"
   ]
  },
  {
   "cell_type": "markdown",
   "id": "24",
   "metadata": {},
   "source": [
    "#### Exercise 24.1.7"
   ]
  },
  {
   "cell_type": "markdown",
   "id": "25",
   "metadata": {},
   "source": [
    "Indicate the worst-case complexity of your algorithm for the previous exercise.\n",
    "\n",
    "[Answer](../32_Answers/Answers_24_1_07.ipynb)"
   ]
  },
  {
   "cell_type": "markdown",
   "id": "26",
   "metadata": {},
   "source": [
    "⟵ [Previous section](24-introduction.ipynb) | [Up](24-introduction.ipynb) | [Next section](24_2_extra_staff.ipynb) ⟶"
   ]
  }
 ],
 "metadata": {
  "kernelspec": {
   "display_name": "Python 3",
   "language": "python",
   "name": "python3"
  },
  "language_info": {
   "codemirror_mode": {
    "name": "ipython",
    "version": 3
   },
   "file_extension": ".py",
   "mimetype": "text/x-python",
   "name": "python",
   "nbconvert_exporter": "python",
   "pygments_lexer": "ipython3",
   "version": "3.12.10"
  }
 },
 "nbformat": 4,
 "nbformat_minor": 5
}
