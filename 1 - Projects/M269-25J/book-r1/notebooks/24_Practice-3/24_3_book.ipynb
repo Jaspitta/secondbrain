{
 "cells": [
  {
   "cell_type": "markdown",
   "id": "0",
   "metadata": {},
   "source": [
    "## 24.3 Borrow a book"
   ]
  },
  {
   "cell_type": "markdown",
   "id": "1",
   "metadata": {},
   "source": [
    "A group of friends goes to the same places every week.\n",
    "If one friend wants to borrow a book from another friend,\n",
    "the book is passed on when two friends meet at the same place on the same day.\n",
    "\n",
    "Here's an example weekly schedule of three friends.\n",
    "Each person is at most in one place each day.\n",
    "\n",
    "Person | Mon | Tue | Wed | Thu | Fri | Sat | Sun\n",
    "-|-|-|-|-|-|-|-\n",
    "Alice | gym | | uni | | | pool|\n",
    "Bob |  |pool | uni | uni | gym | | gym\n",
    "Celia | uni |pool | gym | pool| uni | pool|\n",
    "\n",
    "If Alice wants to lend a book to Celia,\n",
    "Alice can pass the book to Bob on Wednesday when they're both at uni, then\n",
    "Bob passes it to Celia on Tuesday when they're both at the pool.\n",
    "If we start counting on Monday, it takes eight days\n",
    "(from Monday to Tuesday the week after) for Celia to get the book.\n",
    "\n",
    "However, Alice can lend the book directly to Celia on Saturday, at the pool.\n",
    "That way Celia only waits five days (Monday to Saturday) to get the book.\n",
    "\n",
    "Given the weekly schedule, the lender and the borrower, we want to know the\n",
    "fewest days the borrower waits to get the book, starting from a Monday.\n",
    "The number of days should be infinite\n",
    "if the book can't be passed on from the borrower to the lender."
   ]
  },
  {
   "cell_type": "markdown",
   "id": "2",
   "metadata": {},
   "source": [
    "### 24.3.1 Exercises"
   ]
  },
  {
   "cell_type": "markdown",
   "id": "3",
   "metadata": {},
   "source": [
    "#### Exercise 24.3.1"
   ]
  },
  {
   "cell_type": "markdown",
   "id": "4",
   "metadata": {},
   "source": [
    "Chapters 21 to 23&nbsp;have introduced\n",
    "\n",
    "- graph problems (finding components, computing a topological sort, modelling state transitions)\n",
    "- backtracking to solve constraint satisfaction and optimisation problems\n",
    "- dynamic programming to solve problems with overlapping subproblems.\n",
    "\n",
    "Which approach do you think is needed for this problem and why?"
   ]
  },
  {
   "cell_type": "markdown",
   "id": "5",
   "metadata": {},
   "source": [
    "_Write your answer here._"
   ]
  },
  {
   "cell_type": "markdown",
   "id": "6",
   "metadata": {},
   "source": [
    "[Hint](../31_Hints/Hints_24_3_01.ipynb)\n",
    "[Answer](../32_Answers/Answers_24_3_01.ipynb)"
   ]
  },
  {
   "cell_type": "markdown",
   "id": "7",
   "metadata": {},
   "source": [
    "#### Exercise 24.3.2"
   ]
  },
  {
   "cell_type": "markdown",
   "id": "8",
   "metadata": {},
   "source": [
    "Outline an algorithm and the required ADT or data structures.\n",
    "\n",
    "[Hint](../31_Hints/Hints_24_3_02.ipynb)\n",
    "[Answer](../32_Answers/Answers_24_3_02.ipynb)"
   ]
  },
  {
   "cell_type": "markdown",
   "id": "9",
   "metadata": {},
   "source": [
    "#### Exercise 24.3.3 (optional)"
   ]
  },
  {
   "cell_type": "markdown",
   "id": "10",
   "metadata": {},
   "source": [
    "Implement and test your approach.\n",
    "\n",
    "[Hint](../31_Hints/Hints_24_3_03.ipynb)"
   ]
  },
  {
   "cell_type": "markdown",
   "id": "11",
   "metadata": {},
   "source": [
    "⟵ [Previous section](24_2_extra_staff.ipynb) | [Up](24-introduction.ipynb) | [Next section](24_4_levenshtein.ipynb) ⟶"
   ]
  }
 ],
 "metadata": {
  "kernelspec": {
   "display_name": "Python 3",
   "language": "python",
   "name": "python3"
  },
  "language_info": {
   "codemirror_mode": {
    "name": "ipython",
    "version": 3
   },
   "file_extension": ".py",
   "mimetype": "text/x-python",
   "name": "python",
   "nbconvert_exporter": "python",
   "pygments_lexer": "ipython3",
   "version": "3.12.10"
  }
 },
 "nbformat": 4,
 "nbformat_minor": 5
}
