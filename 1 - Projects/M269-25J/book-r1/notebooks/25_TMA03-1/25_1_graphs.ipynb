{
 "cells": [
  {
   "cell_type": "markdown",
   "id": "0",
   "metadata": {},
   "source": [
    "## 25.1 Problems on graphs"
   ]
  },
  {
   "cell_type": "markdown",
   "id": "1",
   "metadata": {},
   "source": [
    "Graphs are incredibly versatile: they can represent\n",
    "any collection of entities and binary relations between them.\n",
    "Many problems can be solved by modelling the input with a graph\n",
    "and applying a graph algorithm.\n",
    "\n",
    "There are two ways to approach such problems, and you may need to\n",
    "switch between both a few times to get a solution to your problem."
   ]
  },
  {
   "cell_type": "markdown",
   "id": "2",
   "metadata": {},
   "source": [
    "### 25.1.1 Starting with the graph"
   ]
  },
  {
   "cell_type": "markdown",
   "id": "3",
   "metadata": {},
   "source": [
    "The first approach is to start by modelling the problem,\n",
    "i.e. thinking about the required graph:\n",
    "\n",
    "- What are the entities, i.e. what do the nodes represent: people, places, states, tasks, events, …?\n",
    "- If nodes represent states, what are the possible states and how are they represented?\n",
    "- What is the relation between entities, i.e. what do the edges represent?\n",
    "  When is there an edge between nodes A and B?\n",
    "- Is the relation symmetric or not, i.e. are the edges undirected or directed?\n",
    "  If the latter, what do the directions represent?\n",
    "- Are the edges weighted? Do weights represent distance, time or cost?\n",
    "\n",
    "For problems on games, you probably need a state transition graph where\n",
    "the nodes represent the possible configurations of the game and\n",
    "the edges represent the possible moves.\n",
    "\n",
    "The current configuration of a game is the result of all the previous moves.\n",
    "More generally, a problem that involves remembering what happened before\n",
    "most likely needs to be modelled with a state transition graph,\n",
    "where each state contains the necessary information to make the next transition.\n",
    "For example, in the [rook's moves](../21_Graphs_2/21_4_states.ipynb#21.4-State-graphs) problem,\n",
    "every move depends on the previous one,\n",
    "so nodes must represent the state of the rook, not just its position.\n",
    "State transition graphs are usually directed and often weighted,\n",
    "where the weight typically represents the time or cost of the transition."
   ]
  },
  {
   "cell_type": "markdown",
   "id": "4",
   "metadata": {},
   "source": [
    "### 25.1.2 Starting with the general problem"
   ]
  },
  {
   "cell_type": "markdown",
   "id": "5",
   "metadata": {},
   "source": [
    "An alternative approach is to think which graph problem you learned about\n",
    "is most closely related to the problem you have at hand and\n",
    "let that guide your modelling. The general problems you learned about are:\n",
    "\n",
    "1. solving the TSP for complete weighted graphs with\n",
    "   [exhaustive search](../11_Search/11_4_permutations.ipynb#11.4-Searching-permutations) or\n",
    "   [backtracking](../22_Backtracking/22_5_tsp.ipynb#22.5-Back-to-the-TSP)\n",
    "2. solving the single-source shortest paths (SSSP) problem for\n",
    "   unweighted graphs, with [breadth-first search](../17_Graphs_1/17_8_bfs_dfs.ipynb#17.8.1-Breadth-first-search)\n",
    "3. solving the SSSP for graphs with non-negative weights, with\n",
    "   [Dijkstra's algorithm](../18_Greed/18_4_shortest_path.ipynb#18.4.1-Algorithm)\n",
    "4. computing a [minimum spanning tree](../18_Greed/18_3_mst.ipynb#18.3-Minimum-spanning-tree) of\n",
    "   a weighted undirected graph, with Prim's algorithm\n",
    "5. computing the components of a [directed](../21_Graphs_2/21_2_di_components.ipynb#21.2-Directed-graph-components) or\n",
    "   [undirected](../21_Graphs_2/21_1_un_components.ipynb#21.1-Undirected-graph-components) graph,\n",
    "   with any form of graph traversal\n",
    "6. computing a [topological sort](../21_Graphs_2/21_3_topological.ipynb#21.3-Topological-sort) of\n",
    "   a directed acyclic graph, with Kahn's algorithm\n",
    "7. detecting a cycle in a directed graph, with Kahn's algorithm.\n",
    "\n",
    "The first four problems were already mentioned before.\n",
    "To spot whether the last three fit your problem, ask yourself:\n",
    "\n",
    "- Is it a problem about connectivity, i.e. which entity is connected to which?\n",
    "- Does the problem involve grouping entities, like forming\n",
    "  [islands from land squares](../21_Graphs_2/21_5_practice.ipynb#21.5.2-Islands), to then\n",
    "  find the number of groups or the largest group?\n",
    "\n",
    "If the answer is yes to either question, then consider computing components.\n",
    "It's likely the graph you need isn't weighted or directed.\n",
    "\n",
    "- Does the problem ask for nodes by dependency order,\n",
    "  like when scheduling events or tasks?\n",
    "  Does it ask if no such order is possible?\n",
    "- Do you have to check if there's a path from a node back to itself?\n",
    "\n",
    "If the answer is yes to any of these questions,\n",
    "then consider using Kahn's algorithm to find a topological sort or\n",
    "to detect a cycle. In both cases the graph must be directed.\n",
    "\n",
    "Finally, always remember to consider:\n",
    "\n",
    "- Can the standard algorithm be applied as-is or\n",
    "  must it be adapted for this problem?\n",
    "\n",
    "Even if some modification of a graph traversal or of Prim's, Dijkstra's\n",
    "or Kahn's algorithm may be needed, it's safer to start from\n",
    "a tried-and-tested graph algorithm than inventing a new one from scratch."
   ]
  },
  {
   "cell_type": "markdown",
   "id": "6",
   "metadata": {},
   "source": [
    "⟵ [Previous section](25-introduction.ipynb) | [Up](25-introduction.ipynb) | [Next section](25_2_backtracking.ipynb) ⟶"
   ]
  }
 ],
 "metadata": {
  "kernelspec": {
   "display_name": "Python 3",
   "language": "python",
   "name": "python3"
  },
  "language_info": {
   "codemirror_mode": {
    "name": "ipython",
    "version": 3
   },
   "file_extension": ".py",
   "mimetype": "text/x-python",
   "name": "python",
   "nbconvert_exporter": "python",
   "pygments_lexer": "ipython3",
   "version": "3.12.10"
  }
 },
 "nbformat": 4,
 "nbformat_minor": 5
}
