{
 "cells": [
  {
   "cell_type": "markdown",
   "id": "0",
   "metadata": {},
   "source": [
    "# 25 TMA 03 part 1"
   ]
  },
  {
   "cell_type": "markdown",
   "id": "1",
   "metadata": {},
   "source": [
    "This study-free week is for you to catch up if you need to,\n",
    "and to complete the first part of TMA&nbsp;03. If you haven't done so yet,\n",
    "download TMA&nbsp;03 from the ['Assessment' tab](https://learn2.open.ac.uk/course/view.php?id=240036&area=assessment) of the M269 website,\n",
    "and put it in a `TMA03` subfolder of your M269 folder.\n",
    "\n",
    "TMA&nbsp;03 draws on the whole module: it is more demanding\n",
    "and contributes to a larger percentage of your grade than previous TMAs.\n",
    "Before attempting TMA&nbsp;03, I suggest you look again at\n",
    "your tutor's feedback on TMA&nbsp;01 and TMA&nbsp;02.\n",
    "\n",
    "Since TMA&nbsp;03 also covers material from Chapters 1–20,\n",
    "you can start working on Question 1 this week, even if you're behind schedule.\n",
    "Your tutor *cannot* give you an extension for TMA&nbsp;03,\n",
    "so I advise to start well in advance of the deadline.\n",
    "\n",
    "This chapter provides some advice that complements\n",
    "the summaries of Chapters [21 (graphs)](../21_Graphs_2/21_6_summary.ipynb),\n",
    "[22 (backtracking)](../22_Backtracking/22_8_summary.ipynb) and\n",
    "[23 (dynamic programming)](../23_Dynamic_Programming/23_4_summary.ipynb).\n",
    "\n",
    "The guidance in Chapters [5](../05_TMA01-1/05-introduction.ipynb#5-TMA-01-part-1), [10](../10_TMA01-2/10-introduction.ipynb#10-TMA-01-part-2),\n",
    "[15](../15_TMA02-1/15-introduction.ipynb#15-TMA-02-part-1) and [20](../20_TMA02-2/20-introduction.ipynb#20-TMA-02-part-2) still applies.\n",
    "\n",
    "Before starting to work on this chapter, check the M269\n",
    "[news](https://learn2.open.ac.uk/blocks/news/all.php?bi=326014) and [errata](https://learn2.open.ac.uk/mod/url/view.php?id=2554721)."
   ]
  },
  {
   "cell_type": "markdown",
   "id": "2",
   "metadata": {
    "nbsphinx-toctree": {
     "hidden": true,
     "maxdepth": 1,
     "numbered": false
    }
   },
   "source": [
    "1. [Problems on graphs](25_1_graphs.ipynb)\n",
    "1. [Backtracking](25_2_backtracking.ipynb)\n",
    "1. [Dynamic programming](25_3_dp.ipynb)"
   ]
  },
  {
   "cell_type": "markdown",
   "id": "3",
   "metadata": {},
   "source": [
    "⟵ [Previous chapter](../24_Practice-3/24-introduction.ipynb) | [Up](../M269.ipynb) | [Next chapter](../26_Complexity_classes/26-introduction.ipynb) ⟶"
   ]
  }
 ],
 "metadata": {
  "kernelspec": {
   "display_name": "Python 3",
   "language": "python",
   "name": "python3"
  },
  "language_info": {
   "codemirror_mode": {
    "name": "ipython",
    "version": 3
   },
   "file_extension": ".py",
   "mimetype": "text/x-python",
   "name": "python",
   "nbconvert_exporter": "python",
   "pygments_lexer": "ipython3",
   "version": "3.12.10"
  }
 },
 "nbformat": 4,
 "nbformat_minor": 5
}
