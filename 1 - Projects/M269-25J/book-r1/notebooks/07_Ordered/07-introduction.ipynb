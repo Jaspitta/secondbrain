{
 "cells": [
  {
   "cell_type": "markdown",
   "id": "0",
   "metadata": {},
   "source": [
    "# 7 Stacks and queues"
   ]
  },
  {
   "cell_type": "markdown",
   "id": "1",
   "metadata": {},
   "source": [
    "The sequence ADT allows any item to be accessed, replaced or removed,\n",
    "and to insert new items anywhere.\n",
    "In some situations we don't need such flexibility.\n",
    "This chapter introduces three restricted sequence ADTs\n",
    "with examples of their use: stacks, queues and priority queues.\n",
    "They only allow us to access or remove one particular item:\n",
    "the most recently added item (stacks), the least recently added item (queues) or\n",
    "the highest-priority item (priority queues).\n",
    "The chapter also shows how to implement these ADTs.\n",
    "\n",
    "This chapter supports the following learning outcomes:\n",
    "\n",
    "- Understand the common general-purpose data structures, algorithmic techniques and complexity classes – you will learn three ADTs (stacks, queues, priority queues)\n",
    "  and how to implement them with arrays and linked lists.\n",
    "\n",
    "This chapter includes further examples to support these learning outcomes:\n",
    "\n",
    "- Explain how an algorithm or data structure works, in order to communicate with relevant stakeholders.\n",
    "- Analyse the complexity of algorithms to support software design choices.\n",
    "- Write readable, tested, documented and efficient Python code.\n",
    "\n",
    "Before starting to work on this chapter, check the M269\n",
    "[news](https://learn2.open.ac.uk/blocks/news/all.php?bi=326014) and [errata](https://learn2.open.ac.uk/mod/url/view.php?id=2554721),\n",
    "and check the TMAs for what is assessed."
   ]
  },
  {
   "cell_type": "markdown",
   "id": "2",
   "metadata": {
    "nbsphinx-toctree": {
     "hidden": true,
     "maxdepth": 1,
     "numbered": false
    }
   },
   "source": [
    "1. [Stacks](07_1_stack.ipynb)\n",
    "1. [Using stacks](07_2_stack_usage.ipynb)\n",
    "1. [Queues](07_3_queue.ipynb)\n",
    "1. [Priority queues](07_4_priority_queue.ipynb)\n",
    "1. [Summary](07_5_summary.ipynb)"
   ]
  },
  {
   "cell_type": "markdown",
   "id": "3",
   "metadata": {},
   "source": [
    "⟵ [Previous chapter](../06_Implementing/06-introduction.ipynb) | [Up](../M269.ipynb) | [Next chapter](../08_Unordered/08-introduction.ipynb) ⟶"
   ]
  }
 ],
 "metadata": {
  "kernelspec": {
   "display_name": "Python 3",
   "language": "python",
   "name": "python3"
  },
  "language_info": {
   "codemirror_mode": {
    "name": "ipython",
    "version": 3
   },
   "file_extension": ".py",
   "mimetype": "text/x-python",
   "name": "python",
   "nbconvert_exporter": "python",
   "pygments_lexer": "ipython3",
   "version": "3.12.10"
  }
 },
 "nbformat": 4,
 "nbformat_minor": 5
}
