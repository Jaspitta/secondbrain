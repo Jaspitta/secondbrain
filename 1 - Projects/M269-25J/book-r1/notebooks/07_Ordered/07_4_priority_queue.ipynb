{
 "cells": [
  {
   "cell_type": "markdown",
   "id": "0",
   "metadata": {},
   "source": [
    "## 7.4 Priority queues"
   ]
  },
  {
   "cell_type": "markdown",
   "id": "1",
   "metadata": {},
   "source": [
    "Families with young children often board an airplane before other passengers.\n",
    "Hospitals treat patients with more severe conditions first.\n",
    "To-do list apps list tasks with higher priority first.\n",
    "\n",
    "All these are examples of queues that don't process items in a FIFO order.\n",
    "A **priority queue** is a sequence in which each item has a priority and\n",
    "items are removed from the queue from the highest to the lowest priority.\n",
    "In a **max-priority queue**, the highest priority corresponds to the largest\n",
    "value, whereas in a **min-priority queue** it is given by the smallest value.\n",
    "For example, if priorities are represented by positive integers, priority 1 is\n",
    "the highest priority in a min-priority queue and\n",
    "the lowest priority in a max-priority queue.\n",
    "\n",
    "In the rest of this section we only implement unbounded max-priority queues,\n",
    "as bounded and min-priority queues are implemented very similarly.\n",
    "Actually, if priorities are given by integers,\n",
    "we get a max-priority queue to behave like a min-priority queue\n",
    "by negating the priorities when adding the items to the queue.\n",
    "Suppose item A has priority 1 and item B has priority&nbsp;3.\n",
    "By inserting them with priorities −1 and −3, the max-priority queue\n",
    "will return A before B, as if it were a min-priority queue.\n",
    "\n",
    "Usually the order among items with the same priority is arbitrary,\n",
    "but a fairer priority queue keeps them in FIFO order.\n",
    "\n",
    "Traditionally, priority queue operations are named differently\n",
    "from queue operations, to make clear which kind of queue we're using.\n",
    "\n",
    "Operation | Effect | Algorithm in English\n",
    ":-|:-|:-\n",
    "new | create an empty priority queue | let *pq* be a new priority queue\n",
    "length | the number of items in *pq* |  │*pq*│\n",
    "insert  | add item *i* with priority *p* to *pq*  |  add (*p*, *i*) to *pq*\n",
    "find max | obtain an item with highest-priority value  | max(*pq*)\n",
    "remove max | remove the item obtained by find max   | remove max(*pq*)\n",
    "\n",
    "The find and remove operations are only defined for non-empty priority queues."
   ]
  },
  {
   "cell_type": "markdown",
   "id": "2",
   "metadata": {},
   "source": [
    "### 7.4.1 With dynamic arrays: version 1"
   ]
  },
  {
   "cell_type": "markdown",
   "id": "3",
   "metadata": {},
   "source": [
    "One simple way of implementing an unbounded max-priority queue is\n",
    "to use a dynamic array of priority–item pairs\n",
    "that are kept in ascending priority order.\n",
    "The insert operation appends a new priority–item pair and re-sorts the array.\n",
    "The find and remove operations simply access and remove the last pair."
   ]
  },
  {
   "cell_type": "markdown",
   "id": "4",
   "metadata": {},
   "source": [
    "#### Exercise 7.4.1"
   ]
  },
  {
   "cell_type": "markdown",
   "id": "5",
   "metadata": {},
   "source": [
    "With dynamic arrays, the new and length operations take constant time.\n",
    "What is the complexity of the other operations for the approach outlined?\n",
    "\n",
    "Operation | Complexity\n",
    ":-|:-\n",
    "insert  |\n",
    "find max  |\n",
    "remove max  |\n",
    "\n",
    "[Hint](../31_Hints/Hints_07_4_01.ipynb)\n",
    "[Answer](../32_Answers/Answers_07_4_01.ipynb)\n",
    "\n",
    "In Python, we can use a list of tuples to represent the priority queue.\n",
    "Here's a simple example, with priorities from 1 (lowest) to 3 (highest)."
   ]
  },
  {
   "cell_type": "code",
   "execution_count": 1,
   "id": "6",
   "metadata": {},
   "outputs": [
    {
     "name": "stdout",
     "output_type": "stream",
     "text": [
      "2 go on holiday\n",
      "3 finish this chapter\n",
      "1 answer email\n"
     ]
    }
   ],
   "source": [
    "tasks = []  # a priority queue\n",
    "tasks.append((\"go on holiday\", 2))\n",
    "tasks.sort()\n",
    "tasks.append((\"finish this chapter\", 3))\n",
    "tasks.sort()\n",
    "tasks.append((\"answer email\", 1))\n",
    "tasks.sort()\n",
    "for times in range(len(tasks)):  # noqa: B007\n",
    "    print(tasks[-1][1], tasks[-1][0])  # print priority and task\n",
    "    tasks.pop(-1)"
   ]
  },
  {
   "cell_type": "markdown",
   "id": "7",
   "metadata": {},
   "source": [
    "This is not quite working. The task with priority 3&nbsp;should be listed first.\n",
    "Where's the error?\n",
    "\n",
    "___\n",
    "\n",
    "The tuples are put in ascending order by comparing them item by item\n",
    "(lexicographic order): first the task, then its priority.\n",
    "So the tasks end up in alphabetical order in the list and\n",
    "the task starting with 'g' is considered the highest-priority task.\n",
    "\n",
    "How can we fix the issue?\n",
    "\n",
    "___\n",
    "\n",
    "Since the ordering is by priority, that must be the first item of the pair.\n",
    "\n",
    "Here's a similar example to show the correct ordering."
   ]
  },
  {
   "cell_type": "code",
   "execution_count": 2,
   "id": "8",
   "metadata": {},
   "outputs": [
    {
     "name": "stdout",
     "output_type": "stream",
     "text": [
      "3 finish this chapter\n",
      "2 go on holiday\n",
      "1 remove old files\n",
      "1 answer email\n"
     ]
    }
   ],
   "source": [
    "tasks = []  # a priority queue\n",
    "tasks.append((2, \"go on holiday\"))\n",
    "tasks.append((1, \"answer email\"))\n",
    "tasks.append((3, \"finish this chapter\"))\n",
    "tasks.append((1, \"remove old files\"))\n",
    "tasks.sort()\n",
    "while tasks != []:\n",
    "    task = tasks.pop(-1)\n",
    "    print(task[0], task[1])"
   ]
  },
  {
   "cell_type": "markdown",
   "id": "9",
   "metadata": {},
   "source": [
    "This example shows both the advantages and disadvantages of using Python lists\n",
    "instead of defining our own class. The advantages are a familiar notation\n",
    "and the flexibility of using list operations:\n",
    "we can sort only when needed,\n",
    "we can access and remove a highest-priority item with one operation,\n",
    "we can remove any other item if they leave the queue, etc.\n",
    "\n",
    "One disadvantage is that this approach exposes the data structure and\n",
    "doesn't restrict the operations, which can lead to mistakes.\n",
    "Another disadvantage is that, by sorting the tuples, the approach assumes\n",
    "that the items in the queue are comparable, thus restricting its applicability."
   ]
  },
  {
   "cell_type": "markdown",
   "id": "10",
   "metadata": {},
   "source": [
    "<div class=\"alert alert-warning\">\n",
    "<strong>Note:</strong> Try to restrict data types as little as possible.\n",
    "</div>"
   ]
  },
  {
   "cell_type": "markdown",
   "id": "11",
   "metadata": {},
   "source": [
    "Sorting priority–item pairs also leads to the priority queue not being fair.\n",
    "Among items with the same priority, the first to be removed is the one with\n",
    "highest-item value, not the one waiting longest.\n",
    "In the example, answering emails was added before but is done after the other\n",
    "priority 1 task, because of the alphabetical ordering."
   ]
  },
  {
   "cell_type": "markdown",
   "id": "12",
   "metadata": {},
   "source": [
    "### 7.4.2 With dynamic arrays: version 2"
   ]
  },
  {
   "cell_type": "markdown",
   "id": "13",
   "metadata": {},
   "source": [
    "The solution to all these issues is to define our own class,\n",
    "with a bespoke insertion algorithm that is fair and only compares priorities."
   ]
  },
  {
   "cell_type": "markdown",
   "id": "14",
   "metadata": {},
   "source": [
    "<div class=\"alert alert-warning\">\n",
    "<strong>Note:</strong> Using bespoke algorithms instead of general-purpose ones\n",
    "often leads to a better solution.\n",
    "</div>"
   ]
  },
  {
   "cell_type": "markdown",
   "id": "15",
   "metadata": {},
   "source": [
    "Here's an incomplete solution with separate lists (dynamic arrays) for\n",
    "the priorities and the items."
   ]
  },
  {
   "cell_type": "code",
   "execution_count": 3,
   "id": "16",
   "metadata": {},
   "outputs": [],
   "source": [
    "# this code is also in m269_priority.py\n",
    "\n",
    "\n",
    "class ArrayPriorityQueue:\n",
    "    \"\"\"A dynamic array implementation of a fair max-priority queue.\n",
    "\n",
    "    Items with the same priority are retrieved in FIFO order.\n",
    "    \"\"\"\n",
    "\n",
    "    def __init__(self) -> None:\n",
    "        \"\"\"Create a new empty priority queue.\"\"\"\n",
    "        self.priorities = []  # in ascending order\n",
    "        self.items = []\n",
    "\n",
    "    def length(self) -> int:\n",
    "        \"\"\"Return the number of items in the queue.\"\"\"\n",
    "        return len(self.items)\n",
    "\n",
    "    def find_max(self) -> object:\n",
    "        \"\"\"Return the oldest item with the highest priority.\n",
    "\n",
    "        Preconditions: self.length() > 0\n",
    "        \"\"\"\n",
    "        return self.items[-1]\n",
    "\n",
    "    def remove_max(self) -> None:\n",
    "        \"\"\"Remove the oldest item with the highest priority.\n",
    "\n",
    "        Preconditions: self.length() > 0\n",
    "        \"\"\"\n",
    "        self.items.pop(-1)\n",
    "        self.priorities.pop(-1)\n",
    "\n",
    "    def insert(self, item: object, priority: object) -> None:\n",
    "        \"\"\"Add item with the given priority to the queue.\n",
    "\n",
    "        Preconditions:\n",
    "        - priority is comparable to the priorities of all existing items\n",
    "        \"\"\"\n",
    "        index = 0\n",
    "        # compute the index where to insert the item\n",
    "        self.items.insert(index, item)\n",
    "        self.priorities.insert(index, priority)"
   ]
  },
  {
   "cell_type": "markdown",
   "id": "17",
   "metadata": {},
   "source": [
    "#### Exercise 7.4.2"
   ]
  },
  {
   "cell_type": "markdown",
   "id": "18",
   "metadata": {},
   "source": [
    "Write an algorithm in English that finds the index of where to insert the item.\n",
    "Use variables *priorities* and *priority* and set a value for *index*.\n",
    "You can assume that priorities can be compared with <, ≤, ≠, etc."
   ]
  },
  {
   "cell_type": "markdown",
   "id": "19",
   "metadata": {},
   "source": [
    "_Write your answer here._"
   ]
  },
  {
   "cell_type": "markdown",
   "id": "20",
   "metadata": {},
   "source": [
    "[Hint](../31_Hints/Hints_07_4_02.ipynb)\n",
    "[Answer](../32_Answers/Answers_07_4_02.ipynb)"
   ]
  },
  {
   "cell_type": "markdown",
   "id": "21",
   "metadata": {},
   "source": [
    "#### Exercise 7.4.3"
   ]
  },
  {
   "cell_type": "markdown",
   "id": "22",
   "metadata": {},
   "source": [
    "Implement the algorithm in method `insert`. Run the following test,\n",
    "where `None` represents a patient without identification\n",
    "to make sure that the items are not comparable."
   ]
  },
  {
   "cell_type": "code",
   "execution_count": 4,
   "id": "23",
   "metadata": {},
   "outputs": [],
   "source": [
    "%run -i ../m269_test\n",
    "\n",
    "hospital = ArrayPriorityQueue()\n",
    "hospital.insert(\"Bob\", 1)\n",
    "hospital.insert(\"Alice\", 3)\n",
    "hospital.insert(None, 1)\n",
    "for patient in (\"Alice\", \"Bob\", None):  # this is the expected order\n",
    "    check(\"find_max\", hospital.find_max(), patient, hospital.length())\n",
    "    hospital.remove_max()"
   ]
  },
  {
   "cell_type": "markdown",
   "id": "24",
   "metadata": {},
   "source": [
    "[Answer](../32_Answers/Answers_07_4_03.ipynb)"
   ]
  },
  {
   "cell_type": "markdown",
   "id": "25",
   "metadata": {},
   "source": [
    "#### Exercise 7.4.4"
   ]
  },
  {
   "cell_type": "markdown",
   "id": "26",
   "metadata": {},
   "source": [
    "Fill out the following table for the described approach.\n",
    "\n",
    "Operation | Complexity\n",
    ":-|:-\n",
    "insert  |\n",
    "find max  |\n",
    "remove max  |\n",
    "\n",
    "[Hint](../31_Hints/Hints_07_4_04.ipynb)\n",
    "[Answer](../32_Answers/Answers_07_4_04.ipynb)"
   ]
  },
  {
   "cell_type": "markdown",
   "id": "27",
   "metadata": {},
   "source": [
    "#### Exercise 7.4.5"
   ]
  },
  {
   "cell_type": "markdown",
   "id": "28",
   "metadata": {},
   "source": [
    "Is it more efficient to have two lists for the items and the priorities,\n",
    "a single list with priority–item pairs, or does it not matter much?\n",
    "By more efficient I mean doing less work,\n",
    "not necessarily having better complexity."
   ]
  },
  {
   "cell_type": "markdown",
   "id": "29",
   "metadata": {},
   "source": [
    "_Write your answer here._"
   ]
  },
  {
   "cell_type": "markdown",
   "id": "30",
   "metadata": {},
   "source": [
    "[Hint](../31_Hints/Hints_07_4_05.ipynb)\n",
    "[Answer](../32_Answers/Answers_07_4_05.ipynb)"
   ]
  },
  {
   "cell_type": "markdown",
   "id": "31",
   "metadata": {},
   "source": [
    "#### Exercise 7.4.6"
   ]
  },
  {
   "cell_type": "markdown",
   "id": "32",
   "metadata": {},
   "source": [
    "There's yet another way of implementing a priority queue with dynamic arrays,\n",
    "with the following complexities:\n",
    "\n",
    "Operation | Complexity\n",
    ":-|:-\n",
    "insert  |  Θ(1)\n",
    "find max  |  Θ(│*pq*│)\n",
    "remove max  |  Θ(│*pq*│)\n",
    "\n",
    "How? Outline the algorithm for each operation.\n",
    "\n",
    "[Answer](../32_Answers/Answers_07_4_06.ipynb)"
   ]
  },
  {
   "cell_type": "markdown",
   "id": "33",
   "metadata": {},
   "source": [
    "### 7.4.3 With a linked list"
   ]
  },
  {
   "cell_type": "markdown",
   "id": "34",
   "metadata": {},
   "source": [
    "Version 2 of the dynamic array implementation can be adapted to linked\n",
    "lists. The head node has the item with the highest-priority value, i.e.\n",
    "the item returned by find max.\n",
    "To insert a new item, we start from the head node,\n",
    "skip all nodes with higher or equal priority, and insert a new node in the found place.\n",
    "With a linked list, no items are copied when inserting a new one:\n",
    "the insertion itself takes constant time once the insertion point is found,\n",
    "and there's no need to resize a linked list."
   ]
  },
  {
   "cell_type": "markdown",
   "id": "35",
   "metadata": {},
   "source": [
    "### 7.4.4 Min-priority queues"
   ]
  },
  {
   "cell_type": "markdown",
   "id": "36",
   "metadata": {},
   "source": [
    "To finish this section, here's an example of using a max-priority queue\n",
    "as a min-priority queue.\n",
    "\n",
    "Calendar apps allow us to attach a reminder to an event with a period\n",
    "of our choice, e.g. 15&nbsp;minutes before the event.\n",
    "Reminders can be implemented as a priority queue, where an item is an\n",
    "event and its priority is the time when to issue the reminder.\n",
    "For example, the priority of a 3&nbsp;pm meeting with a 30-minute reminder\n",
    "is 2:30&nbsp;pm. The reminders are issued from earliest to latest time,\n",
    "so it's a min-priority queue, where the priority is the time.\n",
    "\n",
    "Times can be represented as integers (minutes after midnight),\n",
    "so we can negate them to use our max-priority queue implementation.\n",
    "Here's an example, using an already fully implemented class."
   ]
  },
  {
   "cell_type": "code",
   "execution_count": 5,
   "id": "37",
   "metadata": {},
   "outputs": [
    {
     "name": "stdout",
     "output_type": "stream",
     "text": [
      "M269 team meeting @ 11am\n",
      "student supervision @ 10am\n",
      "research group meeting @ 3pm\n"
     ]
    }
   ],
   "source": [
    "%run -i ../m269_priority\n",
    "\n",
    "reminders = ArrayPriorityQueue()\n",
    "# meeting with 30 minute advance reminder\n",
    "reminders.insert(\"research group meeting @ 3pm\", -(14 * 60 + 30))\n",
    "# meetings with same reminder time\n",
    "reminders.insert(\"M269 team meeting @ 11am\", -(9 * 60))\n",
    "reminders.insert(\"student supervision @ 10am\", -(9 * 60))\n",
    "while reminders.length() > 0:\n",
    "    print(reminders.find_max())\n",
    "    reminders.remove_max()"
   ]
  },
  {
   "cell_type": "markdown",
   "id": "38",
   "metadata": {},
   "source": [
    "#### Exercise 7.4.7"
   ]
  },
  {
   "cell_type": "markdown",
   "id": "39",
   "metadata": {},
   "source": [
    "Why not model reminders with a FIFO queue?"
   ]
  },
  {
   "cell_type": "markdown",
   "id": "40",
   "metadata": {},
   "source": [
    "_Write your answer here._"
   ]
  },
  {
   "cell_type": "markdown",
   "id": "41",
   "metadata": {},
   "source": [
    "[Hint](../31_Hints/Hints_07_4_07.ipynb)\n",
    "[Answer](../32_Answers/Answers_07_4_07.ipynb)"
   ]
  },
  {
   "cell_type": "markdown",
   "id": "42",
   "metadata": {},
   "source": [
    "#### Exercise 7.4.8"
   ]
  },
  {
   "cell_type": "markdown",
   "id": "43",
   "metadata": {},
   "source": [
    "The workaround for a max-priority queue to behave like a min-priority queue\n",
    "only works for integer priorities. Briefly explain how you would change our\n",
    "class's code to implement a min-priority queue for any comparable\n",
    "priority values."
   ]
  },
  {
   "cell_type": "markdown",
   "id": "44",
   "metadata": {},
   "source": [
    "_Write your answer here._"
   ]
  },
  {
   "cell_type": "markdown",
   "id": "45",
   "metadata": {},
   "source": [
    "[Hint](../31_Hints/Hints_07_4_08.ipynb)\n",
    "[Answer](../32_Answers/Answers_07_4_08.ipynb)"
   ]
  },
  {
   "cell_type": "markdown",
   "id": "46",
   "metadata": {},
   "source": [
    "⟵ [Previous section](07_3_queue.ipynb) | [Up](07-introduction.ipynb) | [Next section](07_5_summary.ipynb) ⟶"
   ]
  }
 ],
 "metadata": {
  "kernelspec": {
   "display_name": "Python 3",
   "language": "python",
   "name": "python3"
  },
  "language_info": {
   "codemirror_mode": {
    "name": "ipython",
    "version": 3
   },
   "file_extension": ".py",
   "mimetype": "text/x-python",
   "name": "python",
   "nbconvert_exporter": "python",
   "pygments_lexer": "ipython3",
   "version": "3.12.10"
  }
 },
 "nbformat": 4,
 "nbformat_minor": 5
}
