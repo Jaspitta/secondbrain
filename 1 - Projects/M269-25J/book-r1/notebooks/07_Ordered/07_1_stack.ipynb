{
 "cells": [
  {
   "cell_type": "markdown",
   "id": "0",
   "metadata": {},
   "source": [
    "## 7.1 Stacks"
   ]
  },
  {
   "cell_type": "markdown",
   "id": "1",
   "metadata": {},
   "source": [
    "A pile of boxes is a stack. Only the topmost box can be easily accessed.\n",
    "To access any other box, one usually must remove boxes from the top, one by one.\n",
    "To re-form the pile, one must put each box back on top of the previous boxes.\n",
    "\n",
    "Computationally, a **stack** is a restricted sequence in which\n",
    "new items are added to and removed from only one end of the sequence.\n",
    "A stack can be seen as a sequence ordered by 'age'.\n",
    "The 'oldest' item, the one added first, is at the bottom of the stack.\n",
    "The 'youngest' item, the one added last, is at the top.\n",
    "A stack is a **last-in, first-out (LIFO)** sequence:\n",
    "the last item to be added is the first to be removed."
   ]
  },
  {
   "cell_type": "markdown",
   "id": "2",
   "metadata": {},
   "source": [
    "<div class=\"alert alert-info\">\n",
    "<strong>Info:</strong> Some texts also use FILO (first-in, last-out) as a synonym for LIFO.\n",
    "</div>"
   ]
  },
  {
   "cell_type": "markdown",
   "id": "3",
   "metadata": {},
   "source": [
    "### 7.1.1 The stack ADT"
   ]
  },
  {
   "cell_type": "markdown",
   "id": "4",
   "metadata": {},
   "source": [
    "The stack ADT has five operations, where *s* is some stack:\n",
    "\n",
    "Operation | Effect | Algorithm in English\n",
    "-|-|-\n",
    "new  | create a new empty stack | let *s* be an empty stack\n",
    "size | obtain the size of *s* | │*s*│\n",
    "push | put an item on top of *s* | push *item* on *s*\n",
    "pop | remove the top item, if *s* isn't empty | pop *s*\n",
    "peek  | access the top item, if *s* isn't empty | top of *s*\n",
    "\n",
    "A common alternative pop operation also returns the removed item.\n",
    "This makes the peek operation redundant:\n",
    "the top item can be inspected by popping and pushing it.\n",
    "\n",
    "A stack is a sequence of objects and so\n",
    "we can use sequence ADT operations in defining the stack ADT.\n",
    "The push, pop and peek operations are simply restricted versions of\n",
    "the insert, remove and indexing operations of the sequence ADT.\n",
    "\n",
    "**ADT**: stack, a sequence of objects\n",
    "\n",
    "**Function**: new\\\n",
    "**Inputs**: none\\\n",
    "**Preconditions**: true\\\n",
    "**Output**: *items*, a stack\\\n",
    "**Postconditions**: *items* = ()\n",
    "\n",
    "**Function**: size\\\n",
    "**Inputs**: *items*, a stack\\\n",
    "**Preconditions**: true\\\n",
    "**Output**: *count*, an integer\\\n",
    "**Postconditions**: *count* = │*items*│"
   ]
  },
  {
   "cell_type": "markdown",
   "id": "5",
   "metadata": {},
   "source": [
    "#### Exercise 7.1.1"
   ]
  },
  {
   "cell_type": "markdown",
   "id": "6",
   "metadata": {},
   "source": [
    "Here again is the definition of the insert operation of the sequence ADT\n",
    "from [Section&nbsp;4.6](../04_Iteration/04_6_lists.ipynb#4.6.1-Modifying-sequences).\n",
    "Modify it for the push operation for a stack."
   ]
  },
  {
   "cell_type": "markdown",
   "id": "7",
   "metadata": {},
   "source": [
    "**Operation**: insert\\\n",
    "**Inputs/Outputs**: *values*, a sequence\\\n",
    "**Inputs**: *index*, an integer; *value*, an object\\\n",
    "**Preconditions**: 0 ≤ *index* ≤ │*values*│\\\n",
    "**Postconditions**: post-*values* =\n",
    "(pre-*values*[0], ..., pre-*values*[*index* − 1], *value*,\n",
    "pre-*values*[*index*], ..., pre-*values*[│pre-*values*│ − 1])"
   ]
  },
  {
   "cell_type": "markdown",
   "id": "8",
   "metadata": {},
   "source": [
    "[Hint](../31_Hints/Hints_07_1_01.ipynb)\n",
    "[Answer](../32_Answers/Answers_07_1_01.ipynb)"
   ]
  },
  {
   "cell_type": "markdown",
   "id": "9",
   "metadata": {},
   "source": [
    "#### Exercise 7.1.2"
   ]
  },
  {
   "cell_type": "markdown",
   "id": "10",
   "metadata": {},
   "source": [
    "Modify the definitions of the general remove and indexing operations\n",
    "to become the definitions of the pop and peek operations."
   ]
  },
  {
   "cell_type": "markdown",
   "id": "11",
   "metadata": {},
   "source": [
    "**Operation**: remove\\\n",
    "**Inputs/Outputs**: *values*, a sequence\\\n",
    "**Inputs**: *index*, an integer\\\n",
    "**Preconditions**: 0 ≤ *index* < │*values*│\\\n",
    "**Postconditions**: post-*values* =\n",
    "(pre-*values*[0], ..., pre-*values*[*index* − 1],\n",
    "pre-*values*[*index* + 1], ..., pre-*values*[│pre-*values*│ − 1])"
   ]
  },
  {
   "cell_type": "markdown",
   "id": "12",
   "metadata": {},
   "source": [
    "**Function**: indexing\\\n",
    "**Inputs**: *values*, a sequence; *index*, an integer\\\n",
    "**Preconditions**: 0 ≤ *index* < │*values*│ \\\n",
    "**Output**: *value*, an object\\\n",
    "**Postconditions**: *value* is the *n*-th item of *values*, with *n* = *index* + 1"
   ]
  },
  {
   "cell_type": "markdown",
   "id": "13",
   "metadata": {},
   "source": [
    "[Hint](../31_Hints/Hints_07_1_02.ipynb)\n",
    "[Answer](../32_Answers/Answers_07_1_02.ipynb)"
   ]
  },
  {
   "cell_type": "markdown",
   "id": "14",
   "metadata": {},
   "source": [
    "### 7.1.2 Implementing with an array"
   ]
  },
  {
   "cell_type": "markdown",
   "id": "15",
   "metadata": {},
   "source": [
    "Python doesn't provide a stack data type because stacks can be easily simulated\n",
    "with lists, as long as we only access, add and remove the last item.\n",
    "Here's a list being used as a stack:"
   ]
  },
  {
   "cell_type": "code",
   "execution_count": 1,
   "id": "16",
   "metadata": {},
   "outputs": [
    {
     "name": "stdout",
     "output_type": "stream",
     "text": [
      "push 0\n",
      "push 1\n",
      "push 2\n",
      "pop 2\n",
      "pop 1\n",
      "pop 0\n"
     ]
    }
   ],
   "source": [
    "numbers = []  # stack\n",
    "for number in range(3):\n",
    "    print(\"push\", number)\n",
    "    numbers.append(number)\n",
    "while len(numbers) > 0:\n",
    "    print(\"pop\", numbers[-1])\n",
    "    numbers.pop(-1)"
   ]
  },
  {
   "cell_type": "markdown",
   "id": "17",
   "metadata": {},
   "source": [
    "This example clearly shows the last-in, first-out behaviour of stacks:\n",
    "the items are popped in the opposite order they were pushed.\n",
    "\n",
    "Since Python's `pop` method also returns the removed item,\n",
    "it would be daft not to make use of it when convenient.\n",
    "The last two lines of the cell above can be rewritten as a single line:\n",
    "`print('pop', numbers.pop(-1))`.\n",
    "\n",
    "Lists are implemented with dynamic arrays, which means that all stack operations\n",
    "have constant-time complexity\n",
    "as they don't involve any shifting of items.\n",
    "\n",
    "Using list operations makes it harder to spot that a list is being\n",
    "used as a stack, and this may lead to errors when the code needs to be changed.\n",
    "We therefore implement the ADT with our own class,\n",
    "which simply uses a Python list and calls the corresponding operations."
   ]
  },
  {
   "cell_type": "code",
   "execution_count": 2,
   "id": "18",
   "metadata": {},
   "outputs": [],
   "source": [
    "# this code is also in m269_stack.py\n",
    "\n",
    "\n",
    "class Stack:\n",
    "    \"\"\"A last-in, first-out sequence of objects, implemented with a Python list.\"\"\"\n",
    "\n",
    "    def __init__(self) -> None:\n",
    "        \"\"\"Initialise the stack to be empty.\"\"\"\n",
    "        self.items = []\n",
    "\n",
    "    def size(self) -> int:\n",
    "        \"\"\"Return the number of items in the stack.\"\"\"\n",
    "        return len(self.items)\n",
    "\n",
    "    def peek(self) -> object:\n",
    "        \"\"\"Return the top item in the stack.\n",
    "\n",
    "        Preconditions: self.size() > 0\n",
    "        \"\"\"\n",
    "        return self.items[-1]\n",
    "\n",
    "    def pop(self) -> object:\n",
    "        \"\"\"Remove and return the top item from the stack.\n",
    "\n",
    "        Preconditions: self.size() > 0\n",
    "        \"\"\"\n",
    "        return self.items.pop(-1)\n",
    "\n",
    "    def push(self, item: object) -> None:\n",
    "        \"\"\"Put the given item on top of the stack.\n",
    "\n",
    "        Postconditions: post-self.peek() == item\n",
    "        \"\"\"\n",
    "        self.items.append(item)"
   ]
  },
  {
   "cell_type": "markdown",
   "id": "19",
   "metadata": {},
   "source": [
    "Let's test the class with the same example as before:"
   ]
  },
  {
   "cell_type": "code",
   "execution_count": 3,
   "id": "20",
   "metadata": {},
   "outputs": [
    {
     "name": "stdout",
     "output_type": "stream",
     "text": [
      "push 0\n",
      "push 1\n",
      "push 2\n",
      "pop 2\n",
      "pop 1\n",
      "pop 0\n"
     ]
    }
   ],
   "source": [
    "numbers = Stack()\n",
    "for number in range(3):\n",
    "    print(\"push\", number)\n",
    "    numbers.push(number)\n",
    "while numbers.size() > 0:\n",
    "    print(\"pop\", numbers.peek())\n",
    "    numbers.pop()"
   ]
  },
  {
   "cell_type": "markdown",
   "id": "21",
   "metadata": {},
   "source": [
    "<div class=\"alert alert-info\">\n",
    "<strong>Info:</strong> Class <code>Stack</code> in package <code>java.util</code> implements the stack ADT in Java.\n",
    "It's a subclass of <code>java.util.Vector</code>, a dynamic array data type.\n",
    "</div>"
   ]
  },
  {
   "cell_type": "markdown",
   "id": "22",
   "metadata": {},
   "source": [
    "We can implement a bounded stack with a static array, like we did for a\n",
    "[bounded sequence](../06_Implementing/06_4_bounded.ipynb#6.4-Bounded-sequences),\n",
    "by keeping track of the current size of the stack."
   ]
  },
  {
   "cell_type": "markdown",
   "id": "23",
   "metadata": {},
   "source": [
    "### 7.1.3 Implementing with a linked list"
   ]
  },
  {
   "cell_type": "markdown",
   "id": "24",
   "metadata": {},
   "source": [
    "The stack ADT can also be implemented with the linked list data structure.\n",
    "With an array, the top item is the *last* one, at the highest index,\n",
    "so that the push and pop operations don't have to shift items.\n",
    "With a linked list, the top item is the *first* one, in the head node,\n",
    "so that the push and pop operations don't have to traverse the linked list.\n",
    "\n",
    "Here's the same stack, obtained by pushing 0, 1 and 2 in this order,\n",
    "stored in a static array with capacity 5, and in a linked list.\n",
    "In both cases, an additional instance variable keeps track of the length.\n",
    "\n",
    "<p id=\"fig-7.1.1\"></p>\n",
    "\n",
    "*[Figure 7.1.1](../33_Figures/Figures_07_1.ipynb#Figure-7.1.1)*\n",
    "\n",
    "![Image 07_1_list_v_array.png](07_1_list_v_array.png)\n",
    "\n",
    "The implementation with a linked list is a special case of implementing\n",
    "sequence operations with a linked list, e.g. the push operation corresponds to\n",
    "[inserting at index&nbsp;0](../06_Implementing/06_7_linked_list.ipynb#6.7.2-Inserting-an-item).\n",
    "Each stack operation takes constant time, as it involves\n",
    "a few assignments to update pointers and an integer operation to update the length."
   ]
  },
  {
   "cell_type": "code",
   "execution_count": 4,
   "id": "25",
   "metadata": {},
   "outputs": [],
   "source": [
    "# this code is also in m269_stack.py\n",
    "\n",
    "\n",
    "class LinkedListStack:\n",
    "    \"\"\"A last-in, first-out sequence of objects, implemented with a linked list.\"\"\"\n",
    "\n",
    "    class Node:\n",
    "        \"\"\"A node in a linked list.\"\"\"\n",
    "\n",
    "        def __init__(self, item: object) -> None:\n",
    "            \"\"\"Initialise the node with the given item.\"\"\"\n",
    "            self.item = item\n",
    "            self.next = None\n",
    "\n",
    "    def __init__(self) -> None:\n",
    "        \"\"\"Initialise the stack to be empty.\"\"\"\n",
    "        self.head = None\n",
    "        self.length = 0\n",
    "\n",
    "    def size(self) -> int:\n",
    "        \"\"\"Return the number of items in the stack.\"\"\"\n",
    "        return self.length\n",
    "\n",
    "    def peek(self) -> object:\n",
    "        \"\"\"Return the top item in the stack.\n",
    "\n",
    "        Preconditions: self.size() > 0\n",
    "        \"\"\"\n",
    "        return self.head.item\n",
    "\n",
    "    def pop(self) -> object:\n",
    "        \"\"\"Remove and return the top item from the stack.\n",
    "\n",
    "        Preconditions: self.length() > 0\n",
    "        \"\"\"\n",
    "        item = self.head.item\n",
    "        self.head = self.head.next\n",
    "        self.length = self.length - 1\n",
    "        return item\n",
    "\n",
    "    def push(self, item: object) -> None:\n",
    "        \"\"\"Put the given item on top of the stack.\n",
    "\n",
    "        Postconditions: post-self.peek() == item\n",
    "        \"\"\"\n",
    "        node = LinkedListStack.Node(item)\n",
    "        node.next = self.head\n",
    "        self.head = node\n",
    "        self.length = self.length + 1"
   ]
  },
  {
   "cell_type": "markdown",
   "id": "26",
   "metadata": {},
   "source": [
    "And once more the same test:"
   ]
  },
  {
   "cell_type": "code",
   "execution_count": 5,
   "id": "27",
   "metadata": {},
   "outputs": [
    {
     "name": "stdout",
     "output_type": "stream",
     "text": [
      "push 0\n",
      "push 1\n",
      "push 2\n",
      "pop 2\n",
      "pop 1\n",
      "pop 0\n"
     ]
    }
   ],
   "source": [
    "numbers = LinkedListStack()\n",
    "for number in range(3):\n",
    "    print(\"push\", number)\n",
    "    numbers.push(number)\n",
    "while numbers.size() > 0:\n",
    "    print(\"pop\", numbers.peek())\n",
    "    numbers.pop()"
   ]
  },
  {
   "cell_type": "markdown",
   "id": "28",
   "metadata": {},
   "source": [
    "#### Exercise 7.1.3"
   ]
  },
  {
   "cell_type": "markdown",
   "id": "29",
   "metadata": {},
   "source": [
    "Is it better to implement stacks with dynamic arrays or linked lists?"
   ]
  },
  {
   "cell_type": "markdown",
   "id": "30",
   "metadata": {},
   "source": [
    "_Write your answer here._"
   ]
  },
  {
   "cell_type": "markdown",
   "id": "31",
   "metadata": {},
   "source": [
    "[Hint](../31_Hints/Hints_07_1_03.ipynb)\n",
    "[Answer](../32_Answers/Answers_07_1_03.ipynb)"
   ]
  },
  {
   "cell_type": "markdown",
   "id": "32",
   "metadata": {},
   "source": [
    "⟵ [Previous section](07-introduction.ipynb) | [Up](07-introduction.ipynb) | [Next section](07_2_stack_usage.ipynb) ⟶"
   ]
  }
 ],
 "metadata": {
  "kernelspec": {
   "display_name": "Python 3",
   "language": "python",
   "name": "python3"
  },
  "language_info": {
   "codemirror_mode": {
    "name": "ipython",
    "version": 3
   },
   "file_extension": ".py",
   "mimetype": "text/x-python",
   "name": "python",
   "nbconvert_exporter": "python",
   "pygments_lexer": "ipython3",
   "version": "3.12.10"
  }
 },
 "nbformat": 4,
 "nbformat_minor": 5
}
