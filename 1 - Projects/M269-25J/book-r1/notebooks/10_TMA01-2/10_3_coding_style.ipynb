{
 "cells": [
  {
   "cell_type": "markdown",
   "id": "0",
   "metadata": {},
   "source": [
    "## 10.3 Coding style"
   ]
  },
  {
   "cell_type": "markdown",
   "id": "1",
   "metadata": {},
   "source": [
    "The following is in addition to the style guide in\n",
    "[Chapter&nbsp;5](../05_TMA01-1/05_3_coding_style.ipynb).\n",
    "\n",
    "General:\n",
    "\n",
    "- Write `set()` for the empty set and `dict()` for the empty dictionary.\n",
    "- Don't chain too many methods.\n",
    "\n",
    "Classes:\n",
    "\n",
    "- Write class names with initial capitals and without underscores,\n",
    "  e.g. `PriorityQueue`.\n",
    "- The class name may indicate how it's implemented.\n",
    "- Write a docstring for each class.\n",
    "\n",
    "Methods:\n",
    "\n",
    "- Write method names in lowercase, with underscores separating words,\n",
    "  e.g. `has_item`.\n",
    "- A method name should describe *what* it returns or does, not\n",
    "  *how* it works.\n",
    "- Name the first argument of a method `self`.\n",
    "- Indicate the type of each parameter and of the output, with type annotations,\n",
    "  except for the type of `self`.\n",
    "- If a method's input or output is of the type of the class,\n",
    "  write the type annotation as a string.\n",
    "- Write a docstring for each method.\n",
    "- A method should modify the `self` input or no input at all.\n",
    "- Only a class's methods should access the instance variables."
   ]
  },
  {
   "cell_type": "markdown",
   "id": "2",
   "metadata": {},
   "source": [
    "⟵ [Previous section](10_2_algorithms.ipynb) | [Up](10-introduction.ipynb) | [Next section](10_4_python.ipynb) ⟶"
   ]
  }
 ],
 "metadata": {
  "kernelspec": {
   "display_name": "Python 3",
   "language": "python",
   "name": "python3"
  },
  "language_info": {
   "codemirror_mode": {
    "name": "ipython",
    "version": 3
   },
   "file_extension": ".py",
   "mimetype": "text/x-python",
   "name": "python",
   "nbconvert_exporter": "python",
   "pygments_lexer": "ipython3",
   "version": "3.12.10"
  }
 },
 "nbformat": 4,
 "nbformat_minor": 5
}
