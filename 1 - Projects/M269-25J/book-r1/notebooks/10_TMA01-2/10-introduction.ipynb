{
 "cells": [
  {
   "cell_type": "markdown",
   "id": "0",
   "metadata": {},
   "source": [
    "# 10 TMA 01 part 2"
   ]
  },
  {
   "cell_type": "markdown",
   "id": "1",
   "metadata": {},
   "source": [
    "This study-free week is for you to work on the second part of TMA&nbsp;01\n",
    "and submit it together with the first part.\n",
    "\n",
    "The rest of this chapter provides guidance for TMA&nbsp;01,\n",
    "in addition to [Chapter&nbsp;5](../05_TMA01-1/05-introduction.ipynb#5-TMA-01-part-1).\n",
    "\n",
    "Remember to give your TMA an overall check before you submit it:\n",
    "\n",
    "1. Save and close your TMA notebook.\n",
    "2. Have a good night's sleep.\n",
    "3. Check the M269 website for any errata or clarifications about the TMA.\n",
    "4. Open the TMA notebook and run all cells.\n",
    "5. Read again all questions and your answers, to check if\n",
    "   you addressed everything that is asked for, that all code tests pass, etc.\n",
    "   Remember that [linters](../05_TMA01-1/05_3_coding_style.ipynb#5.3.2-Linters) don't flag all of your code's issues.\n",
    "6. If you make any change to a code cell, restart the kernel and run all cells again.\n",
    "\n",
    "Step&nbsp;2 is crucial. You should let time pass between finishing work\n",
    "and checking it, to return to it with a refreshed brain and a 'new' pair of eyes\n",
    "to find those small silly mistakes and omissions that all of us are prone to.\n",
    "\n",
    "Before starting to work on this chapter, check the M269\n",
    "[news](https://learn2.open.ac.uk/blocks/news/all.php?bi=326014) and [errata](https://learn2.open.ac.uk/mod/url/view.php?id=2554721)."
   ]
  },
  {
   "cell_type": "markdown",
   "id": "2",
   "metadata": {
    "nbsphinx-toctree": {
     "hidden": true,
     "maxdepth": 1,
     "numbered": false
    }
   },
   "source": [
    "1. [Using collections](10_1_collections.ipynb)\n",
    "1. [Algorithms](10_2_algorithms.ipynb)\n",
    "1. [Coding style](10_3_coding_style.ipynb)\n",
    "1. [Python](10_4_python.ipynb)"
   ]
  },
  {
   "cell_type": "markdown",
   "id": "3",
   "metadata": {},
   "source": [
    "⟵ [Previous chapter](../09_Practice-1/09-introduction.ipynb) | [Up](../M269.ipynb) | [Next chapter](../11_Search/11-introduction.ipynb) ⟶"
   ]
  }
 ],
 "metadata": {
  "kernelspec": {
   "display_name": "Python 3",
   "language": "python",
   "name": "python3"
  },
  "language_info": {
   "codemirror_mode": {
    "name": "ipython",
    "version": 3
   },
   "file_extension": ".py",
   "mimetype": "text/x-python",
   "name": "python",
   "nbconvert_exporter": "python",
   "pygments_lexer": "ipython3",
   "version": "3.12.10"
  }
 },
 "nbformat": 4,
 "nbformat_minor": 5
}
