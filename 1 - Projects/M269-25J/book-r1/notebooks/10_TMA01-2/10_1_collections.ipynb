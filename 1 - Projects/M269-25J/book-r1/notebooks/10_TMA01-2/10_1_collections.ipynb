{
 "cells": [
  {
   "cell_type": "markdown",
   "id": "0",
   "metadata": {},
   "source": [
    "## 10.1 Using collections"
   ]
  },
  {
   "cell_type": "markdown",
   "id": "1",
   "metadata": {},
   "source": [
    "When solving a problem about collections of items,\n",
    "the choice of ADT (or ADTs – you may need different ones)\n",
    "affects the design and efficiency of the algorithm.\n",
    "\n",
    "When implementing a data type,\n",
    "determine which operations are more frequently needed and\n",
    "choose the data structure that supports those operations most efficiently.\n",
    "\n",
    "Here's the list of collection ADTs, data types and data structures seen so far,\n",
    "with a link to the end-of-chapter summaries.\n",
    "\n",
    "- [Chapter&nbsp;4](../04_Iteration/04_9_summary.ipynb): sequence, `str`, `tuple`, `list`\n",
    "- [Chapter&nbsp;6](../06_Implementing/06_8_summary.ipynb): static and dynamic arrays, linked list\n",
    "- [Chapter&nbsp;7](../07_Ordered/07_5_summary.ipynb): stack, (priority) queue\n",
    "- [Chapter&nbsp;8](../08_Unordered/08_5_summary.ipynb): map, `dict`, set, `set`, lookup and hash tables"
   ]
  },
  {
   "cell_type": "markdown",
   "id": "2",
   "metadata": {},
   "source": [
    "### 10.1.1 Ordered collections"
   ]
  },
  {
   "cell_type": "markdown",
   "id": "3",
   "metadata": {},
   "source": [
    "There are several ADTs for collections in which\n",
    "the order of the elements matters.\n",
    "\n",
    "Use this ADT | When you need to...\n",
    ":-|:-\n",
    "sequence |  access any item by position\n",
    "stack  |  process items in LIFO order, e.g. for nested structures\n",
    "queue |  process items in FIFO order\n",
    "priority queue  |  process items according to a given priority\n",
    "\n",
    "If you need to implement your own data type, the choice of data structure\n",
    "depends on the characteristics of your sequence: how long it can grow,\n",
    "which items need to be accessed, and whether there will be\n",
    "many insertions and removals in the middle of the sequence.\n",
    "\n",
    "Data structure | Capacity | Θ(1) access | Shift items on insert/remove?\n",
    ":-|:-|:-|:-\n",
    "static array | bounded | any item | yes, except at the end\n",
    "dynamic array | unbounded | any item | yes, except at the end\n",
    "linked list  | unbounded  | start and end  | no\n",
    "\n",
    "For the same sequence of items, static arrays use less memory than\n",
    "dynamic arrays, which in turn use less memory than linked lists.\n",
    "\n",
    "Python interpreters usually implement strings and tuples with static arrays,\n",
    "and lists with dynamic arrays."
   ]
  },
  {
   "cell_type": "markdown",
   "id": "4",
   "metadata": {},
   "source": [
    "### 10.1.2 Unordered collections"
   ]
  },
  {
   "cell_type": "markdown",
   "id": "5",
   "metadata": {},
   "source": [
    "There are a few ADTs for collections in which\n",
    "the order of the elements does *not* matter.\n",
    "\n",
    "Use a map when you need to access values by key, not by position.\n",
    "\n",
    "Use a set when you don't want or need to consider duplicate items or\n",
    "you need to know\n",
    "\n",
    "- the intersection of two collections, i.e.\n",
    "  which (or how many) items are in both collections\n",
    "- the union of two collections, i.e.\n",
    "  which (or how many) items are in either collection\n",
    "- the difference of two collections,\n",
    "  i.e. which (or how many) items are in one collection but not in the other.\n",
    "\n",
    "Python's `dict` and `set` data types,\n",
    "which are implemented with hash tables, suffice for most problems.\n",
    "If an unordered collection is bounded and its items are integers,\n",
    "consider using a lookup table."
   ]
  },
  {
   "cell_type": "markdown",
   "id": "6",
   "metadata": {},
   "source": [
    "⟵ [Previous section](10-introduction.ipynb) | [Up](10-introduction.ipynb) | [Next section](10_2_algorithms.ipynb) ⟶"
   ]
  }
 ],
 "metadata": {
  "kernelspec": {
   "display_name": "Python 3",
   "language": "python",
   "name": "python3"
  },
  "language_info": {
   "codemirror_mode": {
    "name": "ipython",
    "version": 3
   },
   "file_extension": ".py",
   "mimetype": "text/x-python",
   "name": "python",
   "nbconvert_exporter": "python",
   "pygments_lexer": "ipython3",
   "version": "3.12.10"
  }
 },
 "nbformat": 4,
 "nbformat_minor": 5
}
