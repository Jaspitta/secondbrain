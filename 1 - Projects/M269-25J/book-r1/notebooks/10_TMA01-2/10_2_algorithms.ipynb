{
 "cells": [
  {
   "cell_type": "markdown",
   "id": "0",
   "metadata": {},
   "source": [
    "## 10.2 Algorithms"
   ]
  },
  {
   "cell_type": "markdown",
   "id": "1",
   "metadata": {},
   "source": [
    "General:\n",
    "\n",
    "- Algorithms on unordered collections (maps, sets)\n",
    "  must not rely on any particular order of the items.\n",
    "- When sorting or searching, pay attention to the comparisons used.\n",
    "- If you’re pressed for time, try a simple algorithm that works:\n",
    "  it may be efficient enough.\n",
    "- Using bespoke algorithms instead of general-purpose ones\n",
    "  often leads to a better solution.\n",
    "\n",
    "Efficiency:\n",
    "\n",
    "- The shortest code is not necessarily the most efficient.\n",
    "- Avoid doing searches when possible, e.g. by looking up pre-computed values.\n",
    "- Exploit space–time tradeoffs when possible:\n",
    "  it's generally better to use more memory than to take more time.\n",
    "- If you have a quadratic algorithm to solve a problem on an unsorted list,\n",
    "  try to find an approach that first sorts the input and then applies a linear\n",
    "  algorithm. We'll see in [Chapter&nbsp;14](../14_Sorting/14-introduction.ipynb#14-Sorting) that a sequence can be\n",
    "  sorted in better than quadratic time, so\n",
    "  sorting followed by a linear algorithm is\n",
    "  usually better than not sorting followed by a quadratic algorithm.\n",
    "\n",
    "Complexity:\n",
    "\n",
    "- The complexity of a sequence of steps is the complexity of the slowest step."
   ]
  },
  {
   "cell_type": "markdown",
   "id": "2",
   "metadata": {},
   "source": [
    "⟵ [Previous section](10_1_collections.ipynb) | [Up](10-introduction.ipynb) | [Next section](10_3_coding_style.ipynb) ⟶"
   ]
  }
 ],
 "metadata": {
  "kernelspec": {
   "display_name": "Python 3",
   "language": "python",
   "name": "python3"
  },
  "language_info": {
   "codemirror_mode": {
    "name": "ipython",
    "version": 3
   },
   "file_extension": ".py",
   "mimetype": "text/x-python",
   "name": "python",
   "nbconvert_exporter": "python",
   "pygments_lexer": "ipython3",
   "version": "3.12.10"
  }
 },
 "nbformat": 4,
 "nbformat_minor": 5
}
