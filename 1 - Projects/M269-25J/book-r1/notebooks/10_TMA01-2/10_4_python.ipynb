{
 "cells": [
  {
   "cell_type": "markdown",
   "id": "0",
   "metadata": {},
   "source": [
    "## 10.4 Python"
   ]
  },
  {
   "cell_type": "markdown",
   "id": "1",
   "metadata": {},
   "source": [
    "Unless a TMA&nbsp;01 question explicitly states otherwise,\n",
    "your code can only use the types, classes, methods, functions,\n",
    "statements, constants and code templates introduced in Chapters 2–9 of this book.\n",
    "Here's a non-comprehensive index of them."
   ]
  },
  {
   "cell_type": "markdown",
   "id": "2",
   "metadata": {},
   "source": [
    "### 10.4.1 Language constructs"
   ]
  },
  {
   "cell_type": "markdown",
   "id": "3",
   "metadata": {},
   "source": [
    "- statements:\n",
    "  assignment ([2.4](../02_Sequence/02_4_assignments.ipynb#2.4-Assignments)),\n",
    "  selection ([3.4.4](../03_Selection/03_4_classification.ipynb#3.4.4-Code)),\n",
    "  for- and while-loops  ([4.3](../04_Iteration/04_3_iteration.ipynb#4.3-Iteration)),\n",
    "  `import` ([2.1.2](../02_Sequence/02_1_numbers.ipynb#2.1.2-int-and-float-literals)),\n",
    "  `from import` ([4.7](../04_Iteration/04_7_reverse.ipynb#4.7.6-Tests)),\n",
    "  `pass` ([6.3.1](../06_Implementing/06_3_develop_type.ipynb#6.3.1-Abstract-classes)),\n",
    "  `return` ([2.6](../02_Sequence/02_6_py_functions.ipynb#2.6-Functions-in-Python))\n",
    "- defining functions ([2.6](../02_Sequence/02_6_py_functions.ipynb#2.6-Functions-in-Python)),\n",
    "  including docstrings and type annotations\n",
    "- IPython commands `%timeit` ([2.8](../02_Sequence/02_8_time.ipynb#2.8-Run-times)) and\n",
    "  `%run -i` ([4.7.6](../04_Iteration/04_7_reverse.ipynb#4.7.6-Tests))\n",
    "- defining classes ([6.1.3](../06_Implementing/06_1_define_type.ipynb#6.1.3-Classes))"
   ]
  },
  {
   "cell_type": "markdown",
   "id": "4",
   "metadata": {},
   "source": [
    "### 10.4.2 Built-in types"
   ]
  },
  {
   "cell_type": "markdown",
   "id": "5",
   "metadata": {},
   "source": [
    "- operators `==` and `!=` ([3.3.1](../03_Selection/03_3_expressions.ipynb#3.3.1-Comparisons))"
   ]
  },
  {
   "cell_type": "markdown",
   "id": "6",
   "metadata": {},
   "source": [
    "#### Numbers"
   ]
  },
  {
   "cell_type": "markdown",
   "id": "7",
   "metadata": {},
   "source": [
    "Types `int` and `float`:\n",
    "\n",
    "- integer literals like `1234567`\n",
    "- float literals like `5432.1`\n",
    "  ([2.1.2](../02_Sequence/02_1_numbers.ipynb#2.1.2-int-and-float-literals))\n",
    "- arithmetic operators `+`, `-` (unary and binary), `*` and `/`\n",
    "    ([2.2.3](../02_Sequence/02_2_operations.ipynb#2.2.3-On-int-and-float))\n",
    "- comparison operators `<`, `<=`, `>`, `>=` ([3.3.1](../03_Selection/03_3_expressions.ipynb#3.3.1-Comparisons))\n",
    "- functions `min` and `max` ([2.2.3](../02_Sequence/02_2_operations.ipynb#2.2.3-On-int-and-float))\n",
    "- operators `//`, `%`, `**` on integers only ([2.2.5](../02_Sequence/02_2_operations.ipynb#2.2.5-On-int))"
   ]
  },
  {
   "cell_type": "markdown",
   "id": "8",
   "metadata": {},
   "source": [
    "#### Booleans"
   ]
  },
  {
   "cell_type": "markdown",
   "id": "9",
   "metadata": {},
   "source": [
    "Type `bool` ([3.1.3](../03_Selection/03_1_booleans.ipynb#3.1.3-The-bool-type)):\n",
    "\n",
    "- literals `True` and `False`\n",
    "- operators `not`, `and`, `or`"
   ]
  },
  {
   "cell_type": "markdown",
   "id": "10",
   "metadata": {},
   "source": [
    "#### Sequences"
   ]
  },
  {
   "cell_type": "markdown",
   "id": "11",
   "metadata": {},
   "source": [
    "Types `str`, `range`, `tuple`, `list`\n",
    "([4.9.1](../04_Iteration/04_9_summary.ipynb#4.9.1-Sequence-operations)):\n",
    "\n",
    "- function `len`\n",
    "- operators `in`, `+`, `*`\n",
    "- indexing and slicing: `s[index]`, `s[index1:index2]`, `s[index1:]`, `s[:index2]`\n",
    "\n",
    "Operations on any sequence of comparable items\n",
    "([4.9.1](../04_Iteration/04_9_summary.ipynb#4.9.1-Sequence-operations)):\n",
    "\n",
    "- comparison operators `<`, etc.\n",
    "- functions `min`, `max`\n",
    "- function `sorted` with optional parameter `reverse`\n",
    "\n",
    "Operations on lists ([4.6.4](../04_Iteration/04_6_lists.ipynb#4.6.4-Modifying-lists)):\n",
    "\n",
    "- assignment `s[index] = new_value`\n",
    "- methods `insert`, `append`, `pop`\n",
    "- method `sort` (with optional parameter `reverse`) if the items are comparable\n",
    "\n",
    "Sequence literals and constructors ([4.9.3](../17_Graphs_1/17_9_summary.ipynb#17.9.4-Python)):\n",
    "\n",
    "- strings: `'...'`, `\"...\"`, `'''...'''`, `\"\"\"...\"\"\"`, `str(expression)`\n",
    "- ranges: `range(start, end, step)`\n",
    "- lists: `[item1, item2, ...]`, `list(a_sequence)`\n",
    "- tuples: `(item,)`, `(item1, item2, ...)`, `tuple(a_sequence)`"
   ]
  },
  {
   "cell_type": "markdown",
   "id": "12",
   "metadata": {},
   "source": [
    "#### Dictionaries"
   ]
  },
  {
   "cell_type": "markdown",
   "id": "13",
   "metadata": {},
   "source": [
    "Type `dict` ([8.2](../08_Unordered/08_2_dictionary.ipynb#8.2-Dictionaries)):\n",
    "\n",
    "- operators `in`, `not in`, `==`, `!=`\n",
    "- function `len`\n",
    "- method `pop`\n",
    "- index with `d[key]` and assign with `d[key] = value`\n",
    "- iterate with `for key in d:` or `for (key, value) in d.items():`"
   ]
  },
  {
   "cell_type": "markdown",
   "id": "14",
   "metadata": {},
   "source": [
    "#### Sets"
   ]
  },
  {
   "cell_type": "markdown",
   "id": "15",
   "metadata": {},
   "source": [
    "Type `set` ([8.4.2](../08_Unordered/08_4_set.ipynb#8.4.2-Sets-in-Python)):\n",
    "\n",
    "- function `len`\n",
    "- methods `add`, `discard`, `union`, `intersection`, `difference`\n",
    "- operators `in`, `not in`, `|`, `&`, `-` and all comparisons"
   ]
  },
  {
   "cell_type": "markdown",
   "id": "16",
   "metadata": {},
   "source": [
    "### 10.4.3 Standard library"
   ]
  },
  {
   "cell_type": "markdown",
   "id": "17",
   "metadata": {},
   "source": [
    "- functions `print` ([2.4.1](../02_Sequence/02_4_assignments.ipynb#2.4.1-Algorithms)),\n",
    "  `help` ([2.6.1](../02_Sequence/02_6_py_functions.ipynb#2.6.1-Documentation)),\n",
    "  `ord` ([8.1.3](../08_Unordered/08_1_map.ipynb#8.1.3-Lookup-tables)),\n",
    "  `hash`([8.3.2](../08_Unordered/08_3_hash_table.ipynb#8.3.2-Hash-functions))\n",
    "- function `floor` ([2.2.4](../02_Sequence/02_2_operations.ipynb#2.2.4-On-float))\n",
    "  in module `math`\n",
    "- constants `pi` ([2.1.2](../02_Sequence/02_1_numbers.ipynb#2.1.2-int-and-float-literals)) and\n",
    "  `inf` ([6.3.1](../06_Implementing/06_3_develop_type.ipynb#6.3.1-Abstract-classes)) in module `math`"
   ]
  },
  {
   "cell_type": "markdown",
   "id": "18",
   "metadata": {},
   "source": [
    "### 10.4.4 Other"
   ]
  },
  {
   "cell_type": "markdown",
   "id": "19",
   "metadata": {},
   "source": [
    "- functions `check_tests` and `test` ([4.7](../04_Iteration/04_7_reverse.ipynb#4.7-Reversal)) in module `algoesup`"
   ]
  },
  {
   "cell_type": "markdown",
   "id": "20",
   "metadata": {},
   "source": [
    "### 10.4.5 M269 Library"
   ]
  },
  {
   "cell_type": "markdown",
   "id": "21",
   "metadata": {},
   "source": [
    "The following files are in the `notebooks` subfolder of your book's folder."
   ]
  },
  {
   "cell_type": "markdown",
   "id": "22",
   "metadata": {},
   "source": [
    "#### Testing"
   ]
  },
  {
   "cell_type": "markdown",
   "id": "23",
   "metadata": {},
   "source": [
    "- function `check` ([6.2.3](../06_Implementing/06_2_static_array.ipynb#6.2.3-Testing-methods)) in file `m269_test.py`"
   ]
  },
  {
   "cell_type": "markdown",
   "id": "24",
   "metadata": {},
   "source": [
    "#### Ordered collections"
   ]
  },
  {
   "cell_type": "markdown",
   "id": "25",
   "metadata": {},
   "source": [
    "- classes `StaticArray` ([6.2.2](../06_Implementing/06_2_static_array.ipynb#6.2.2-The-StaticArray-class)) and\n",
    "  `DynamicArray` ([6.5.1](../06_Implementing/06_5_dynamic_array.ipynb#6.5.1-The-DynamicArray-class))\n",
    "  in file `m269_array.py`\n",
    "- classes `Sequence` ([6.3.1](../06_Implementing/06_3_develop_type.ipynb#6.3.1-Abstract-classes)) and\n",
    "  `ArraySequence` ([6.6.2](../06_Implementing/06_6_use_dyn_array.ipynb#6.6.1-The-ArraySequence-class))\n",
    "  in file `m269_sequence.py`\n",
    "- class `ArrayPriorityQueue` ([7.6.2](../07_Ordered/07_4_priority_queue.ipynb#7.4.2-With-dynamic-arrays:-version-2))\n",
    "  in file `m269_priority.py`\n",
    "- classes `Stack` ([7.1.2](../07_Ordered/07_1_stack.ipynb#7.1.2-Implementing-with-an-array)) and\n",
    "  `LinkedListStack` ([7.1.3](../07_Ordered/07_1_stack.ipynb#7.1.3-Implementing-with-a-linked-list))\n",
    "  in file `m269_stack.py`\n",
    "- class `Queue` ([7.3.3](../07_Ordered/07_3_queue.ipynb#7.3.3-Queues-with-linked-lists)) in file `m269_queue.py`"
   ]
  },
  {
   "cell_type": "markdown",
   "id": "26",
   "metadata": {},
   "source": [
    "#### Image manipulation"
   ]
  },
  {
   "cell_type": "markdown",
   "id": "27",
   "metadata": {},
   "source": [
    "File `m269_image.py` ([4.8.6](../04_Iteration/04_8_practice.ipynb#4.8.6-Images)):\n",
    "\n",
    "- functions `new_image`, `load_image`, `save_image`, `show_image`, `width`, `height`\n",
    "- constants `R`, `G`, `B`, `BLACK`, `WHITE`, `SILVER`, `NAVY`, etc."
   ]
  },
  {
   "cell_type": "markdown",
   "id": "28",
   "metadata": {},
   "source": [
    "⟵ [Previous section](10_3_coding_style.ipynb) | [Up](10-introduction.ipynb) | [Next section](../11_Search/11-introduction.ipynb) ⟶"
   ]
  }
 ],
 "metadata": {
  "kernelspec": {
   "display_name": "Python 3",
   "language": "python",
   "name": "python3"
  },
  "language_info": {
   "codemirror_mode": {
    "name": "ipython",
    "version": 3
   },
   "file_extension": ".py",
   "mimetype": "text/x-python",
   "name": "python",
   "nbconvert_exporter": "python",
   "pygments_lexer": "ipython3",
   "version": "3.12.10"
  }
 },
 "nbformat": 4,
 "nbformat_minor": 5
}
