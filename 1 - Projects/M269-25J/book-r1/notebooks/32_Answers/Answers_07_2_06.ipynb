{
 "cells": [
  {
   "cell_type": "markdown",
   "id": "0",
   "metadata": {},
   "source": [
    "#### Exercise 7.2.6 answer"
   ]
  },
  {
   "cell_type": "code",
   "execution_count": 1,
   "id": "1",
   "metadata": {},
   "outputs": [
    {
     "name": "stdout",
     "output_type": "stream",
     "text": [
      "Testing evaluate...\n",
      "Tests finished: 6 passed (100%), 0 failed.\n"
     ]
    }
   ],
   "source": [
    "%run -i ../m269_stack\n",
    "\n",
    "from algoesup import test\n",
    "\n",
    "\n",
    "def evaluate(expression: list) -> int:\n",
    "    \"\"\"Return the value of the given postfix expression.\n",
    "\n",
    "    Preconditions:\n",
    "    - each item in the input list is a natural number, '-' or '*'\n",
    "    - the input represents a valid non-empty postfix expression\n",
    "    \"\"\"\n",
    "    values = Stack()\n",
    "    for item in expression:\n",
    "        if item == \"-\":\n",
    "            right = values.pop()\n",
    "            left = values.pop()\n",
    "            values.push(left - right)\n",
    "        elif item == \"*\":\n",
    "            right = values.pop()\n",
    "            left = values.pop()\n",
    "            values.push(left * right)\n",
    "        else:  # it's an operand\n",
    "            values.push(item)\n",
    "    return values.peek()\n",
    "\n",
    "\n",
    "evaluate_tests = [\n",
    "    # case,               expression,                   value\n",
    "    [\"3 * 4\",             [3, 4, \"*\"],                  12],\n",
    "    [\"3 - 4\",             [3, 4, \"-\"],                  -1],\n",
    "    [\"3 - 4 * 5\",         [3, 4, 5, \"*\", \"-\"],          -17],\n",
    "    [\"(3 - 4) * 5\",       [3, 4, \"-\", 5, \"*\"],          -5],\n",
    "    [\"(3 - 4) * (5 - 6)\", [3, 4, \"-\", 5, 6, \"-\", \"*\"],  1],\n",
    "    [\"no operation\",      [4],                          4]\n",
    "]\n",
    "\n",
    "test(evaluate, evaluate_tests)"
   ]
  }
 ],
 "metadata": {
  "kernelspec": {
   "display_name": "Python 3",
   "language": "python",
   "name": "python3"
  },
  "language_info": {
   "codemirror_mode": {
    "name": "ipython",
    "version": 3
   },
   "file_extension": ".py",
   "mimetype": "text/x-python",
   "name": "python",
   "nbconvert_exporter": "python",
   "pygments_lexer": "ipython3",
   "version": "3.12.10"
  }
 },
 "nbformat": 4,
 "nbformat_minor": 5
}
