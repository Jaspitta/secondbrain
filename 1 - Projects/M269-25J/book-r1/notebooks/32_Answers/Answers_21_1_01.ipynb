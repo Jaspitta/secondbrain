{
 "cells": [
  {
   "cell_type": "markdown",
   "id": "0",
   "metadata": {},
   "source": [
    "#### Exercise 21.1.1 answer"
   ]
  },
  {
   "cell_type": "markdown",
   "id": "1",
   "metadata": {},
   "source": [
    "One algorithm can be outlined as follows:\n",
    "\n",
    "> Create a set of disconnected nodes, initially with all the graph's nodes.\n",
    "> Compute the connected components.\n",
    "> For each node V and for each source node S,\n",
    "> if V and S are in the same component, then V is connected to the power grid,\n",
    "> so remove V from the set.\n",
    "> Return the remaining set after the loops finish.\n",
    "\n",
    "A more efficient algorithm computes only the components of the source nodes,\n",
    "by traversing the graph from each source.\n",
    "All nodes not in those components are disconnected from the power grid.\n",
    "We don't need to know the individual components, so we don't need a map.\n",
    "We can merge the source node components into a single set of reachable nodes.\n",
    "\n",
    "In the following code I use BFS instead of DFS to emphasise that\n",
    "any traversal can be used to find components."
   ]
  },
  {
   "cell_type": "code",
   "execution_count": 1,
   "id": "2",
   "metadata": {},
   "outputs": [],
   "source": [
    "%run -i ../m269_digraph\n",
    "%run -i ../m269_ungraph\n",
    "%run -i ../m269_queue\n",
    "%run -i ../m269_stack\n",
    "\n",
    "\n",
    "def disconnected(graph: UndirectedGraph, sources: set) -> set:\n",
    "    \"\"\"Return all nodes not connected to any of the sources.\n",
    "\n",
    "    Preconditions: sources is a non-empty subset of the graph's nodes\n",
    "    \"\"\"\n",
    "    connected = set()\n",
    "    for source in sources:\n",
    "        if source not in connected:\n",
    "            reached = bfs(graph, source).nodes()\n",
    "            connected = connected.union(reached)\n",
    "    return graph.nodes() - connected"
   ]
  },
  {
   "cell_type": "markdown",
   "id": "3",
   "metadata": {},
   "source": [
    "This bespoke algorithm draws on the two main ideas for computing components:\n",
    "\n",
    "- a traversal from node A finds the nodes in the same component as A\n",
    "- if we know the component of node A, we don't do a traversal from it."
   ]
  }
 ],
 "metadata": {
  "kernelspec": {
   "display_name": "Python 3",
   "language": "python",
   "name": "python3"
  },
  "language_info": {
   "codemirror_mode": {
    "name": "ipython",
    "version": 3
   },
   "file_extension": ".py",
   "mimetype": "text/x-python",
   "name": "python",
   "nbconvert_exporter": "python",
   "pygments_lexer": "ipython3",
   "version": "3.12.10"
  }
 },
 "nbformat": 4,
 "nbformat_minor": 5
}
