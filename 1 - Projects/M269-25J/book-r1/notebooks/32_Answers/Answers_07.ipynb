{
 "cells": [
  {
   "cell_type": "markdown",
   "id": "0",
   "metadata": {},
   "source": [
    "## 30.5 Stacks and queues"
   ]
  },
  {
   "cell_type": "markdown",
   "id": "1",
   "metadata": {
    "nbsphinx-toctree": {
     "hidden": true,
     "maxdepth": 1,
     "numbered": false
    }
   },
   "source": [
    "1. [Stacks](Answers_07_1.ipynb)\n",
    "1. [Using stacks](Answers_07_2.ipynb)\n",
    "1. [Queues](Answers_07_3.ipynb)\n",
    "1. [Priority queues](Answers_07_4.ipynb)"
   ]
  },
  {
   "cell_type": "markdown",
   "id": "2",
   "metadata": {},
   "source": [
    "⟵ [Previous section](Answers_06.ipynb) | [Up](32-introduction.ipynb) | [Next section](Answers_08.ipynb) ⟶"
   ]
  }
 ],
 "metadata": {
  "kernelspec": {
   "display_name": "Python 3",
   "language": "python",
   "name": "python3"
  },
  "language_info": {
   "codemirror_mode": {
    "name": "ipython",
    "version": 3
   },
   "file_extension": ".py",
   "mimetype": "text/x-python",
   "name": "python",
   "nbconvert_exporter": "python",
   "pygments_lexer": "ipython3",
   "version": "3.12.10"
  }
 },
 "nbformat": 4,
 "nbformat_minor": 5
}
