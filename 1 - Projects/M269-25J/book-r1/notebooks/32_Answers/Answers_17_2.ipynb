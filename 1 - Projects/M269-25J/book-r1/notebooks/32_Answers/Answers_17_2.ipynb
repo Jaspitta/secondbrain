{
 "cells": [
  {
   "cell_type": "markdown",
   "id": "0",
   "metadata": {},
   "source": [
    "### 30.13.2 Basic concepts"
   ]
  },
  {
   "cell_type": "markdown",
   "id": "1",
   "metadata": {
    "nbsphinx-toctree": {
     "hidden": true,
     "maxdepth": 1,
     "numbered": false
    }
   },
   "source": [
    "1. [Exercise 17.2.1 answer](Answers_17_2_01.ipynb)\n",
    "1. [Exercise 17.2.2 answer](Answers_17_2_02.ipynb)\n",
    "1. [Exercise 17.2.3 answer](Answers_17_2_03.ipynb)\n",
    "1. [Exercise 17.2.4 answer](Answers_17_2_04.ipynb)"
   ]
  },
  {
   "cell_type": "markdown",
   "id": "2",
   "metadata": {},
   "source": [
    "⟵ [Previous section](Answers_16.ipynb) | [Up](32-introduction.ipynb) | [Next section](Answers_18.ipynb) ⟶"
   ]
  }
 ],
 "metadata": {
  "kernelspec": {
   "display_name": "Python 3",
   "language": "python",
   "name": "python3"
  },
  "language_info": {
   "codemirror_mode": {
    "name": "ipython",
    "version": 3
   },
   "file_extension": ".py",
   "mimetype": "text/x-python",
   "name": "python",
   "nbconvert_exporter": "python",
   "pygments_lexer": "ipython3",
   "version": "3.12.10"
  }
 },
 "nbformat": 4,
 "nbformat_minor": 5
}
