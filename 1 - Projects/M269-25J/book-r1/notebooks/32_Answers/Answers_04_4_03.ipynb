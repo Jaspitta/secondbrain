{
 "cells": [
  {
   "cell_type": "markdown",
   "id": "0",
   "metadata": {},
   "source": [
    "#### Exercise 4.4.3 answer"
   ]
  },
  {
   "cell_type": "markdown",
   "id": "1",
   "metadata": {},
   "source": [
    "Alice's algorithm stops when the password is valid,\n",
    "but doesn't assign a value to the output variable, so\n",
    "the postconditions are undefined and thus not satisfied.\n",
    "\n",
    "Bob's has the same issue for only one input: the empty string.\n",
    "The loop (step&nbsp;3) is skipped and no value is assigned to the output variable,\n",
    "because Bob moved Alice's step&nbsp;4 to inside the loop.\n",
    "If Bob had an extra final step (outside the loop) that sets *is valid* to false\n",
    "to handle the empty string, he would have a correct algorithm."
   ]
  }
 ],
 "metadata": {
  "kernelspec": {
   "display_name": "Python 3",
   "language": "python",
   "name": "python3"
  },
  "language_info": {
   "codemirror_mode": {
    "name": "ipython",
    "version": 3
   },
   "file_extension": ".py",
   "mimetype": "text/x-python",
   "name": "python",
   "nbconvert_exporter": "python",
   "pygments_lexer": "ipython3",
   "version": "3.12.10"
  }
 },
 "nbformat": 4,
 "nbformat_minor": 5
}
