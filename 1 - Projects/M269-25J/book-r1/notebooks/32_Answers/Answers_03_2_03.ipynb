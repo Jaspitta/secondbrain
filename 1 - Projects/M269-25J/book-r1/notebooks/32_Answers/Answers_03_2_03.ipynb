{
 "cells": [
  {
   "cell_type": "markdown",
   "id": "0",
   "metadata": {},
   "source": [
    "#### Exercise 3.2.3 answer"
   ]
  },
  {
   "cell_type": "code",
   "execution_count": 1,
   "id": "1",
   "metadata": {},
   "outputs": [
    {
     "name": "stdout",
     "output_type": "stream",
     "text": [
      "99.1 ns ± 1.18 ns per loop (mean ± std. dev. of 3 runs, 1,000 loops each)\n",
      "99.7 ns ± 1.82 ns per loop (mean ± std. dev. of 3 runs, 1,000 loops each)\n"
     ]
    }
   ],
   "source": [
    "def internet_connection(in_flight_mode: bool, wifi_on: bool, data_on: bool) -> bool:\n",
    "    internet_on = (not in_flight_mode) and (wifi_on or data_on)\n",
    "    return internet_on\n",
    "\n",
    "\n",
    "%timeit -r 3 -n 1000 internet_connection(False, True, False)\n",
    "%timeit -r 3 -n 1000 internet_connection(False, True, True)"
   ]
  }
 ],
 "metadata": {
  "kernelspec": {
   "display_name": "Python 3",
   "language": "python",
   "name": "python3"
  },
  "language_info": {
   "codemirror_mode": {
    "name": "ipython",
    "version": 3
   },
   "file_extension": ".py",
   "mimetype": "text/x-python",
   "name": "python",
   "nbconvert_exporter": "python",
   "pygments_lexer": "ipython3",
   "version": "3.12.10"
  }
 },
 "nbformat": 4,
 "nbformat_minor": 5
}
