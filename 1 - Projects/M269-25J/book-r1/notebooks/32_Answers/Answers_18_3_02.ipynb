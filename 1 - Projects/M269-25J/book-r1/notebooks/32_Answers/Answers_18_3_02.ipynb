{
 "cells": [
  {
   "cell_type": "markdown",
   "id": "0",
   "metadata": {},
   "source": [
    "#### Exercise 18.3.2 answer"
   ]
  },
  {
   "cell_type": "markdown",
   "id": "1",
   "metadata": {},
   "source": [
    "The following graph has two best tours starting at 0 with total cost 40,\n",
    "as I remarked [earlier](../11_Search/11_4_permutations.ipynb#11.4.4-Code):\n",
    "(0, 1, 3, 2, 0) and (0, 2, 3, 1, 0).\n",
    "\n",
    "<p id=\"fig-18.3.3\"></p>\n",
    "\n",
    "*[Figure 18.3.3](../33_Figures/Figures_18_3.ipynb#Figure-18.3.3)*\n",
    "\n",
    "![Image ../11_Search/11_4_tsp.png](../11_Search/11_4_tsp.png)\n",
    "\n",
    "However, the greedy algorithm constructs tour (0, 3, 1, 2, 0) with cost 50\n",
    "because node 3 is nearest to node 0, and node 1 is nearest to node 3."
   ]
  }
 ],
 "metadata": {
  "kernelspec": {
   "display_name": "Python 3",
   "language": "python",
   "name": "python3"
  },
  "language_info": {
   "codemirror_mode": {
    "name": "ipython",
    "version": 3
   },
   "file_extension": ".py",
   "mimetype": "text/x-python",
   "name": "python",
   "nbconvert_exporter": "python",
   "pygments_lexer": "ipython3",
   "version": "3.12.10"
  }
 },
 "nbformat": 4,
 "nbformat_minor": 5
}
