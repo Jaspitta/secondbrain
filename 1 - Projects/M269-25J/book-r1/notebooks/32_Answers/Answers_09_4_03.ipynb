{
 "cells": [
  {
   "cell_type": "markdown",
   "id": "0",
   "metadata": {},
   "source": [
    "#### Exercise 9.4.3 answer"
   ]
  },
  {
   "cell_type": "markdown",
   "id": "1",
   "metadata": {},
   "source": [
    "Incoming and outgoing trains can be modelled as queues because\n",
    "wagons are attached to the back and detached from the front.\n",
    "The wagons in the station form a stack: the last one in is the first one out.\n",
    "(The layout of the track was a hint to use queues and a stack.)\n",
    "The algorithm is:\n",
    "\n",
    "Create an empty stack to represent the station.\n",
    "Create an empty queue for the incoming (east) train:\n",
    "enqueue all integers from 1 to *wagons*.\n",
    "Convert the *outgoing* list to a queue, representing the outgoing (west) train.\n",
    "\n",
    "While the outgoing queue isn't empty (i.e. there are still wagons to process)\n",
    "check if the wagon at the top of the station stack\n",
    "is the next expected outgoing wagon (front of the queue).\n",
    "If so, the wagon is removed from the station and the outgoing queue:\n",
    "it has been dealt with.\n",
    "If they don't match, the only alternative is to move the next incoming wagon\n",
    "in the east to the station. If the incoming queue is empty,\n",
    "we ran out of options and the outgoing permutation can't be produced."
   ]
  }
 ],
 "metadata": {
  "kernelspec": {
   "display_name": "Python 3",
   "language": "python",
   "name": "python3"
  },
  "language_info": {
   "codemirror_mode": {
    "name": "ipython",
    "version": 3
   },
   "file_extension": ".py",
   "mimetype": "text/x-python",
   "name": "python",
   "nbconvert_exporter": "python",
   "pygments_lexer": "ipython3",
   "version": "3.12.10"
  }
 },
 "nbformat": 4,
 "nbformat_minor": 5
}
