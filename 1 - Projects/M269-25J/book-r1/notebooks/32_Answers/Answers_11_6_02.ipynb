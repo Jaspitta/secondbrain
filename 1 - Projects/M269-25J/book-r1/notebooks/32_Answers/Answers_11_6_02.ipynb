{
 "cells": [
  {
   "cell_type": "markdown",
   "id": "0",
   "metadata": {},
   "source": [
    "#### Exercise 11.6.2 answer"
   ]
  },
  {
   "cell_type": "markdown",
   "id": "1",
   "metadata": {},
   "source": [
    "We must search for a pair of identical items.\n",
    "If such a pair exists, the sequence has duplicates, otherwise it hasn't.\n",
    "\n",
    "The candidates are therefore all pairs of items.\n",
    "If A isn't equal to B, then B isn't equal to A\n",
    "so we don't need to generate symmetric pairs. To generate pairs,\n",
    "we use two nested loops that iterate over all possible indices.\n",
    "To avoid generating symmetric pairs, the second index is larger than the first.\n",
    "\n",
    "1. for each *first* from 0 to │*items*│ – 2:\n",
    "   1. for each *second* from *first* + 1 to │*items*│ – 1:\n",
    "      1. if *items*[*first*] = *items*[*second*]:\n",
    "         1. let *duplicates* be true\n",
    "         2. stop\n",
    "2. let *duplicates* be false\n",
    "\n",
    "This is another example of a generate-and-test algorithm where\n",
    "the test involves more than one item."
   ]
  }
 ],
 "metadata": {
  "kernelspec": {
   "display_name": "Python 3",
   "language": "python",
   "name": "python3"
  },
  "language_info": {
   "codemirror_mode": {
    "name": "ipython",
    "version": 3
   },
   "file_extension": ".py",
   "mimetype": "text/x-python",
   "name": "python",
   "nbconvert_exporter": "python",
   "pygments_lexer": "ipython3",
   "version": "3.12.10"
  }
 },
 "nbformat": 4,
 "nbformat_minor": 5
}
