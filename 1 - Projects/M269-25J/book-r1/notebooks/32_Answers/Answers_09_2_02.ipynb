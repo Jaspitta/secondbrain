{
 "cells": [
  {
   "cell_type": "markdown",
   "id": "0",
   "metadata": {},
   "source": [
    "#### Exercise 9.2.2 answer"
   ]
  },
  {
   "cell_type": "markdown",
   "id": "1",
   "metadata": {},
   "source": [
    "The order in which votes were cast is irrelevant, only their frequency.\n",
    "The ADT of choice is a map, of candidates to the number of votes they got.\n",
    "A linear search over the key-value pairs will find\n",
    "the key (candidate) with the highest value (votes).\n",
    "Here's the outline of the algorithm:\n",
    "\n",
    "Create an empty map of candidates (strings) to votes (integers).\n",
    "For each occurrence of a candidate in the input list, increment their vote count.\n",
    "After processing the input, do a linear search over all candidate-vote pairs,\n",
    "keeping the pair with the highest number of votes.\n",
    "If a candidate ties for the highest votes so far,\n",
    "set the best candidate to 'round 2'.\n",
    "At the end of the search, return the best candidate."
   ]
  }
 ],
 "metadata": {
  "kernelspec": {
   "display_name": "Python 3",
   "language": "python",
   "name": "python3"
  },
  "language_info": {
   "codemirror_mode": {
    "name": "ipython",
    "version": 3
   },
   "file_extension": ".py",
   "mimetype": "text/x-python",
   "name": "python",
   "nbconvert_exporter": "python",
   "pygments_lexer": "ipython3",
   "version": "3.12.10"
  }
 },
 "nbformat": 4,
 "nbformat_minor": 5
}
