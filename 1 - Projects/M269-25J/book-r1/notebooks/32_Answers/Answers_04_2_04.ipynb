{
 "cells": [
  {
   "cell_type": "markdown",
   "id": "0",
   "metadata": {},
   "source": [
    "#### Exercise 4.2.4 answer"
   ]
  },
  {
   "cell_type": "markdown",
   "id": "1",
   "metadata": {},
   "source": [
    "For both strings of length&nbsp;0 and 1, `middle` is zero,\n",
    "because it's half the length rounded down.\n",
    "\n",
    "If the length is zero, the last line evaluates to\n",
    "`text[0:0] + text[0:0]`, which results in the empty string,\n",
    "because the start and end indices are the same.\n",
    "\n",
    "If the length is one, the last line evaluates to `text[0:1] + text[0:0]`.\n",
    "The right operand is the empty string and the left operand is `text`.\n",
    "\n",
    "In all cases the slices are well defined and don't raise an error."
   ]
  }
 ],
 "metadata": {
  "kernelspec": {
   "display_name": "Python 3",
   "language": "python",
   "name": "python3"
  },
  "language_info": {
   "codemirror_mode": {
    "name": "ipython",
    "version": 3
   },
   "file_extension": ".py",
   "mimetype": "text/x-python",
   "name": "python",
   "nbconvert_exporter": "python",
   "pygments_lexer": "ipython3",
   "version": "3.12.10"
  }
 },
 "nbformat": 4,
 "nbformat_minor": 5
}
