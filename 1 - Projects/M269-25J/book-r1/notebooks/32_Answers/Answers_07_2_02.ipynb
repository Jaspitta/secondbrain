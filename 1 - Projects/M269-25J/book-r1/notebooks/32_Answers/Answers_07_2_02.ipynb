{
 "cells": [
  {
   "cell_type": "markdown",
   "id": "0",
   "metadata": {},
   "source": [
    "#### Exercise 7.2.2 answer"
   ]
  },
  {
   "cell_type": "code",
   "execution_count": 1,
   "id": "1",
   "metadata": {},
   "outputs": [
    {
     "name": "stdout",
     "output_type": "stream",
     "text": [
      "Testing is_balanced...\n",
      "Tests finished: 9 passed (100%), 0 failed.\n"
     ]
    }
   ],
   "source": [
    "%run -i ../m269_stack\n",
    "\n",
    "from algoesup import test\n",
    "\n",
    "\n",
    "def is_balanced(text: str) -> bool:\n",
    "    \"\"\"Check if all brackets in text are balanced.\n",
    "\n",
    "    Preconditions: each bracket in 'text' is one of (, ), [, ]\n",
    "    \"\"\"\n",
    "    opened = Stack()  # opened but not closed brackets\n",
    "    for character in text:\n",
    "        if character in \"([\":\n",
    "            opened.push(character)\n",
    "        elif character == \")\":\n",
    "            if opened.size() > 0 and opened.peek() == \"(\":\n",
    "                opened.pop()\n",
    "            else:\n",
    "                return False\n",
    "        elif character == \"]\":\n",
    "            if opened.size() > 0 and opened.peek() == \"[\":\n",
    "                opened.pop()\n",
    "            else:\n",
    "                return False\n",
    "    return opened.size() == 0\n",
    "\n",
    "\n",
    "is_balanced_tests = [\n",
    "    # case,         text,                               balanced\n",
    "    ['no text',     '',                                 True],\n",
    "    ['no brackets', 'brackets are like Russian dolls',  True],\n",
    "    ['matched',     '(3 + 4)',                          True],\n",
    "    ['mismatched',  '(3 + 4]',                          False],\n",
    "    ['not opened',  '3 + 4]',                           False],\n",
    "    ['not closed',  '(3 + 4',                           False],\n",
    "    ['wrong order', 'close ) before open (',            False],\n",
    "    ['nested',      '([([])])',                         True],\n",
    "    ['nested pair', 'items[(i - 1):(i + 1)]',           True]\n",
    "]\n",
    "\n",
    "test(is_balanced, is_balanced_tests)"
   ]
  }
 ],
 "metadata": {
  "kernelspec": {
   "display_name": "Python 3",
   "language": "python",
   "name": "python3"
  },
  "language_info": {
   "codemirror_mode": {
    "name": "ipython",
    "version": 3
   },
   "file_extension": ".py",
   "mimetype": "text/x-python",
   "name": "python",
   "nbconvert_exporter": "python",
   "pygments_lexer": "ipython3",
   "version": "3.12.10"
  }
 },
 "nbformat": 4,
 "nbformat_minor": 5
}
