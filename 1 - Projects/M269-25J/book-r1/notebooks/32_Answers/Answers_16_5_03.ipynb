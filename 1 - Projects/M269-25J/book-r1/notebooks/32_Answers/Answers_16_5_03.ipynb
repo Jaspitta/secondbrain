{
 "cells": [
  {
   "cell_type": "markdown",
   "id": "0",
   "metadata": {},
   "source": [
    "#### Exercise 16.5.3 answer"
   ]
  },
  {
   "cell_type": "markdown",
   "id": "1",
   "metadata": {},
   "source": [
    "If a node has an invalid balance factor, the tree is unbalanced so\n",
    "there's no point in checking whether the subtrees are. Likewise,\n",
    "if the left subtree is unbalanced, we don't need to check the right one.\n",
    "Using short-circuit conjunction, the code becomes simpler and faster\n",
    "for many trees:\n",
    "```python\n",
    "if -1 <= height(tree.left) - height(tree.right) <= 1:\n",
    "    return is_balanced(tree.left) and is_balanced(tree.right)\n",
    "else:\n",
    "    return False\n",
    "```\n",
    "An even better approach for this problem is to use post-order traversal to avoid\n",
    "computing the height of a tall tree if a small subtree within it is unbalanced.\n",
    "```python\n",
    "if not is_balanced(tree.left):\n",
    "    return False\n",
    "elif not is_balanced(tree.right):\n",
    "    return False\n",
    "else:\n",
    "    return -1 <= height(tree.left) - height(tree.right) <= 1\n",
    "```\n",
    "The code can be made shorter with a rather long short-circuit conjunction:\n",
    "```python\n",
    "return is_balanced(tree.left) and is_balanced(tree.right) and -1 <= ...\n",
    "```"
   ]
  }
 ],
 "metadata": {
  "kernelspec": {
   "display_name": "Python 3",
   "language": "python",
   "name": "python3"
  },
  "language_info": {
   "codemirror_mode": {
    "name": "ipython",
    "version": 3
   },
   "file_extension": ".py",
   "mimetype": "text/x-python",
   "name": "python",
   "nbconvert_exporter": "python",
   "pygments_lexer": "ipython3",
   "version": "3.12.10"
  }
 },
 "nbformat": 4,
 "nbformat_minor": 5
}
