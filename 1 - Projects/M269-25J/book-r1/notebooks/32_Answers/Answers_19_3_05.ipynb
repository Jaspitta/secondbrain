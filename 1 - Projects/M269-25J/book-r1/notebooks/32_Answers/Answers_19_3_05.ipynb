{
 "cells": [
  {
   "cell_type": "markdown",
   "id": "0",
   "metadata": {},
   "source": [
    "#### Exercise 19.3.5 answer"
   ]
  },
  {
   "cell_type": "markdown",
   "id": "1",
   "metadata": {},
   "source": [
    "I use an\n",
    "[auxiliary nested function](../11_Search/11_3_constraints.ipynb#11.3.3-Code-and-performance)\n",
    "to test each node.\n",
    "\n",
    "As for the tests, the best case (Exercise 19.3.4) also covers the case of\n",
    "beams without common points (Exercise 19.3.1)."
   ]
  },
  {
   "cell_type": "code",
   "execution_count": 1,
   "id": "2",
   "metadata": {},
   "outputs": [
    {
     "name": "stdout",
     "output_type": "stream",
     "text": [
      "Testing weak_points...\n",
      "Tests finished: 6 passed (100%), 0 failed.\n"
     ]
    }
   ],
   "source": [
    "%run -i ../m269_digraph\n",
    "%run -i ../m269_ungraph\n",
    "%run -i ../m269_graphs\n",
    "from algoesup import test\n",
    "\n",
    "\n",
    "def weak_points(beams: set) -> set:\n",
    "    \"\"\"Return the points that aren't part of any triangle.\n",
    "\n",
    "    beams is a set of pairs of integers.\n",
    "    The output is a set of integers.\n",
    "    Each integer represents a point.\n",
    "\n",
    "    Preconditions: for every pair (a, b), a ≠ b\n",
    "    Postconditions: the output only has points occurring in beams\n",
    "    \"\"\"\n",
    "\n",
    "    def is_weak(point: int, structure: UndirectedGraph) -> bool:\n",
    "        \"\"\"Return True if point isn't part of a triangle in structure.\"\"\"\n",
    "        neighbours = structure.neighbours(point)\n",
    "        for point2 in neighbours:\n",
    "            for point3 in neighbours:\n",
    "                if structure.has_edge(point2, point3):\n",
    "                    return False\n",
    "        return True\n",
    "\n",
    "    structure = UndirectedGraph()\n",
    "    for beam in beams:\n",
    "        if not structure.has_node(beam[0]):\n",
    "            structure.add_node(beam[0])\n",
    "        if not structure.has_node(beam[1]):\n",
    "            structure.add_node(beam[1])\n",
    "        structure.add_edge(beam[0], beam[1])\n",
    "\n",
    "    weak = set()\n",
    "    for point in structure.nodes():\n",
    "        if is_weak(point, structure):\n",
    "            weak.add(point)\n",
    "    return weak\n",
    "\n",
    "\n",
    "T134 = {(1, 3), (1, 4), (3, 4)}  # some triangles\n",
    "T346 = {(3, 4), (4, 6), (6, 3)}\n",
    "worst = complete_graph(5)  # complete graphs are a worst case\n",
    "\n",
    "weak_points_tests = [\n",
    "    # case,             beams,                      weak points\n",
    "    ('no triangle',     {(1,2), (3,1)},             {1, 2, 3}),\n",
    "    ('missing points',  {(7,3), (3,2)},             {2, 3, 7}),\n",
    "    # your tests:\n",
    "    ('no points',       {},                         set()),\n",
    "    ('mixed points',    T134|T346|{(2,1), (6,9)},   {2, 9}),\n",
    "    ('best case',       {(1,3), (5,2)},             {1, 2, 3, 5}),\n",
    "    ('worst case',      worst.edges(),              set())\n",
    "]\n",
    "\n",
    "test(weak_points, weak_points_tests)"
   ]
  },
  {
   "cell_type": "markdown",
   "id": "3",
   "metadata": {},
   "source": [
    "With a small change, the algorithm becomes more efficient,\n",
    "but without improving the worst-case complexity.\n",
    "You may wish to discuss this with your study buddy or in the forums.\n",
    "(Hint: do you need to always check all neighbours?)"
   ]
  },
  {
   "cell_type": "markdown",
   "id": "4",
   "metadata": {},
   "source": [
    "<div class=\"alert alert-info\">\n",
    "<strong>Info:</strong> These exercises are based on problem\n",
    "<a href=\"https://open.kattis.com/problems/weakvertices\">Weak Vertices</a>.\n",
    "</div>"
   ]
  }
 ],
 "metadata": {
  "kernelspec": {
   "display_name": "Python 3",
   "language": "python",
   "name": "python3"
  },
  "language_info": {
   "codemirror_mode": {
    "name": "ipython",
    "version": 3
   },
   "file_extension": ".py",
   "mimetype": "text/x-python",
   "name": "python",
   "nbconvert_exporter": "python",
   "pygments_lexer": "ipython3",
   "version": "3.12.10"
  }
 },
 "nbformat": 4,
 "nbformat_minor": 5
}
