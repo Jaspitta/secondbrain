{
 "cells": [
  {
   "cell_type": "markdown",
   "id": "0",
   "metadata": {},
   "source": [
    "#### Exercise 16.2.2 answer"
   ]
  },
  {
   "cell_type": "code",
   "execution_count": 1,
   "id": "1",
   "metadata": {},
   "outputs": [
    {
     "name": "stdout",
     "output_type": "stream",
     "text": [
      "Testing height...\n",
      "Tests finished: 4 passed (100%), 0 failed.\n"
     ]
    }
   ],
   "source": [
    "%run -i ../m269_tree\n",
    "from algoesup import test\n",
    "\n",
    "\n",
    "def height(tree: Tree) -> int:\n",
    "    \"\"\"Return the height of the tree.\"\"\"\n",
    "    if is_empty(tree):\n",
    "        return 0\n",
    "    else:\n",
    "        return max(height(tree.left), height(tree.right)) + 1\n",
    "\n",
    "\n",
    "height_tests = [\n",
    "    # case,         tree,   height\n",
    "    ('empty tree',  Tree(), 0),\n",
    "    ('(3+4)*(5-6)', TPM,    3),\n",
    "    ('3+((4*5)-6)', PMT,    4),\n",
    "    ('(3+(4*5))-6', MPT,    4),\n",
    "]\n",
    "\n",
    "test(height, height_tests)"
   ]
  }
 ],
 "metadata": {
  "kernelspec": {
   "display_name": "Python 3",
   "language": "python",
   "name": "python3"
  },
  "language_info": {
   "codemirror_mode": {
    "name": "ipython",
    "version": 3
   },
   "file_extension": ".py",
   "mimetype": "text/x-python",
   "name": "python",
   "nbconvert_exporter": "python",
   "pygments_lexer": "ipython3",
   "version": "3.12.10"
  }
 },
 "nbformat": 4,
 "nbformat_minor": 5
}
