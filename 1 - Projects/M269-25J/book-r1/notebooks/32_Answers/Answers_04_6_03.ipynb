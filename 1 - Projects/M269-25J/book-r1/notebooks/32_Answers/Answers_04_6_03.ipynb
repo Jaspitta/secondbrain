{
 "cells": [
  {
   "cell_type": "markdown",
   "id": "0",
   "metadata": {},
   "source": [
    "#### Exercise 4.6.3 answer"
   ]
  },
  {
   "cell_type": "markdown",
   "id": "1",
   "metadata": {},
   "source": [
    "Adding a row is a doddle. It takes a single operation:\n",
    "appending or inserting a list with the full row in the table.\n",
    "It's therefore best to insert the column first.\n",
    "Adding a column requires appending or inserting a value in each row."
   ]
  },
  {
   "cell_type": "code",
   "execution_count": 1,
   "id": "2",
   "metadata": {},
   "outputs": [
    {
     "data": {
      "text/plain": [
       "[['Board game', 'Rating', 'Owned', 'Price in £'],\n",
       " ['Ticket to Ride', 8, False, 28],\n",
       " ['Power Grid', 10, True, 37],\n",
       " ['Vintage', 8, True, 47],\n",
       " ['Pandemic', 9, False, 26]]"
      ]
     },
     "execution_count": 1,
     "metadata": {},
     "output_type": "execute_result"
    }
   ],
   "source": [
    "games_by_row = [\n",
    "    ['Board game', 'Rating', 'Owned'],\n",
    "    ['Power Grid',      10 ,   True ],\n",
    "    [   'Vintage',       8 ,   True ],\n",
    "    [  'Pandemic',       9 ,  False ]\n",
    "]\n",
    "\n",
    "games_by_row[0].append('Price in £')    # add column to header row\n",
    "games_by_row[1].append(37)              # and every other row\n",
    "games_by_row[2].append(47)\n",
    "games_by_row[3].append(26)\n",
    "games_by_row.insert(1, ['Ticket to Ride', 8, False, 28])   # add row\n",
    "games_by_row    # display the new table"
   ]
  },
  {
   "cell_type": "markdown",
   "id": "3",
   "metadata": {},
   "source": [
    "<div class=\"alert alert-info\">\n",
    "<strong>Info:</strong> Prices were taken from BoardGamePrices.co.uk on 10 September 2019.\n",
    "</div>"
   ]
  }
 ],
 "metadata": {
  "kernelspec": {
   "display_name": "Python 3",
   "language": "python",
   "name": "python3"
  },
  "language_info": {
   "codemirror_mode": {
    "name": "ipython",
    "version": 3
   },
   "file_extension": ".py",
   "mimetype": "text/x-python",
   "name": "python",
   "nbconvert_exporter": "python",
   "pygments_lexer": "ipython3",
   "version": "3.12.10"
  }
 },
 "nbformat": 4,
 "nbformat_minor": 5
}
