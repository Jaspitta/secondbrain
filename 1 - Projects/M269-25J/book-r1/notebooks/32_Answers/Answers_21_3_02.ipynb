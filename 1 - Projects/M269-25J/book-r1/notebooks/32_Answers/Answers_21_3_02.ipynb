{
 "cells": [
  {
   "cell_type": "markdown",
   "id": "0",
   "metadata": {},
   "source": [
    "#### Exercise 21.3.2 answer"
   ]
  },
  {
   "cell_type": "markdown",
   "id": "1",
   "metadata": {},
   "source": [
    "In a cyclic digraph a group of nodes depend on each other.\n",
    "Their in-degrees are never decremented to zero and none of them is ever visited.\n",
    "At some point the algorithm stops without having further nodes to visit,\n",
    "but the output sequence doesn't have all the digraph's nodes."
   ]
  }
 ],
 "metadata": {
  "kernelspec": {
   "display_name": "Python 3",
   "language": "python",
   "name": "python3"
  },
  "language_info": {
   "codemirror_mode": {
    "name": "ipython",
    "version": 3
   },
   "file_extension": ".py",
   "mimetype": "text/x-python",
   "name": "python",
   "nbconvert_exporter": "python",
   "pygments_lexer": "ipython3",
   "version": "3.12.10"
  }
 },
 "nbformat": 4,
 "nbformat_minor": 5
}
