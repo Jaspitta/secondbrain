{
 "cells": [
  {
   "cell_type": "markdown",
   "id": "0",
   "metadata": {},
   "source": [
    "#### Exercise 26.3.2 answer"
   ]
  },
  {
   "cell_type": "markdown",
   "id": "1",
   "metadata": {},
   "source": [
    "&nbsp; | Unsolved | Solved\n",
    "-|-|-\n",
    "**Problem**: | maximum | sorting |\n",
    "**Input**: | *items*, a sequence of objects | *unsorted*, a sequence of objects |\n",
    "**Output**: | *largest*, an object | *sorted*, a sequence of objects |\n",
    "\n",
    "**Input transformation** (*Unsolved* to *Solved*):\n",
    "Let *unsorted* be *items*.\n",
    "\n",
    "**Output transformation** (*Solved* to *Unsolved*):\n",
    "Let *largest* be the last element of *sorted*.\n",
    "\n",
    "Both transformations take constant time and\n",
    "solving the sorting problem takes log-linear time.\n",
    "Overall, the reduction takes log-linear time."
   ]
  }
 ],
 "metadata": {
  "kernelspec": {
   "display_name": "Python 3",
   "language": "python",
   "name": "python3"
  },
  "language_info": {
   "codemirror_mode": {
    "name": "ipython",
    "version": 3
   },
   "file_extension": ".py",
   "mimetype": "text/x-python",
   "name": "python",
   "nbconvert_exporter": "python",
   "pygments_lexer": "ipython3",
   "version": "3.12.10"
  }
 },
 "nbformat": 4,
 "nbformat_minor": 5
}
