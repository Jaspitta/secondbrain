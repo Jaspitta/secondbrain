{
 "cells": [
  {
   "cell_type": "markdown",
   "id": "0",
   "metadata": {},
   "source": [
    "#### Exercise 19.5.3 answer"
   ]
  },
  {
   "cell_type": "markdown",
   "id": "1",
   "metadata": {},
   "source": [
    "A breadth-first search will find the shortest path from the start to the end\n",
    "square, if there is one. The algorithm in\n",
    "[Section&nbsp;17.8](../17_Graphs_1/17_8_bfs_dfs.ipynb#17.8.1-Breadth-first-search)\n",
    "must be modified. It must stop as soon as the end node is visited.\n",
    "It must otherwise return –1, i.e. when the queue gets empty. Moreover,\n",
    "the required output is the length of the shortest path, not the traversed tree.\n",
    "So when adding an edge to the queue we should include the number of the move\n",
    "that corresponds to following that edge.\n",
    "\n",
    "Here's the outline of the whole algorithm.\n",
    "I use numbered lists and sublists to make it easier to follow.\n",
    "\n",
    "1. If the end square is the start square:\n",
    "   1. Output zero and stop.\n",
    "1. Otherwise:\n",
    "   1. Create a graph with one node per square, and one edge between A and B if\n",
    "      squares A and B are one knight move apart.\n",
    "   1. Create a set of already visited nodes, initially just with\n",
    "      the start square.\n",
    "   1. Create a queue with triples (S, A, 1) where S is the start square and\n",
    "      A is a neighbour (in the graph, not in the board) of S.\n",
    "   1. While the queue isn't empty, do the following:\n",
    "      1. Remove the front triple (A, B, L) from the queue.\n",
    "      1. If B is the end square:\n",
    "         1. Output L and stop.\n",
    "      1. If B hasn't been visited:\n",
    "         1. Add B to the visited nodes.\n",
    "         1. Add to the queue all triples (B, C, L+1) where C is a neighbour of B.\n",
    "   1. Output −1 because the end node wasn't reached."
   ]
  }
 ],
 "metadata": {
  "kernelspec": {
   "display_name": "Python 3",
   "language": "python",
   "name": "python3"
  },
  "language_info": {
   "codemirror_mode": {
    "name": "ipython",
    "version": 3
   },
   "file_extension": ".py",
   "mimetype": "text/x-python",
   "name": "python",
   "nbconvert_exporter": "python",
   "pygments_lexer": "ipython3",
   "version": "3.12.10"
  }
 },
 "nbformat": 4,
 "nbformat_minor": 5
}
