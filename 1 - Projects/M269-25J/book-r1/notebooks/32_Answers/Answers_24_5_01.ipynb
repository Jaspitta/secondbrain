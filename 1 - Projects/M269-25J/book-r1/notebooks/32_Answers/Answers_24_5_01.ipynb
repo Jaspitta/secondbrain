{
 "cells": [
  {
   "cell_type": "markdown",
   "id": "0",
   "metadata": {},
   "source": [
    "#### Exercise 24.5.1 answer"
   ]
  },
  {
   "cell_type": "markdown",
   "id": "1",
   "metadata": {},
   "source": [
    "This is an optimisation problem. We must find a sequence of integers that\n",
    "satisfies some constraints (being a path of ascending numbers) and\n",
    "optimises a value: its length.\n",
    "\n",
    "The [Trackword](../22_Backtracking/22_3_trackword.ipynb#22.3-Trackword) problem also required\n",
    "finding a path in a grid. As we move in the grid,\n",
    "the path is incrementally extended by one square at a time,\n",
    "until no further squares can be visited. We can thus apply backtracking."
   ]
  }
 ],
 "metadata": {
  "kernelspec": {
   "display_name": "Python 3",
   "language": "python",
   "name": "python3"
  },
  "language_info": {
   "codemirror_mode": {
    "name": "ipython",
    "version": 3
   },
   "file_extension": ".py",
   "mimetype": "text/x-python",
   "name": "python",
   "nbconvert_exporter": "python",
   "pygments_lexer": "ipython3",
   "version": "3.12.10"
  }
 },
 "nbformat": 4,
 "nbformat_minor": 5
}
