{
 "cells": [
  {
   "cell_type": "markdown",
   "id": "0",
   "metadata": {},
   "source": [
    "#### Exercise 27.4.2 answer"
   ]
  },
  {
   "cell_type": "markdown",
   "id": "1",
   "metadata": {},
   "source": [
    "The rule\n",
    "\n",
    "> if a non-computable problem reduces to B, then B is non-computable too\n",
    "\n",
    "cannot be applied in this case because the halting problem\n",
    "does *not* reduce to SAT: it's the other way round.\n",
    "\n",
    "Alternatively, note that SAT reducing to the halting problem only means\n",
    "that any algorithm for the halting problem can be used to solve SAT.\n",
    "The absence of such an algorithm doesn't mean SAT can't be solved:\n",
    "it can, but it has to be by other means, not involving a reduction,\n",
    "namely a brute-force search over all possible interpretations."
   ]
  }
 ],
 "metadata": {
  "kernelspec": {
   "display_name": "Python 3",
   "language": "python",
   "name": "python3"
  },
  "language_info": {
   "codemirror_mode": {
    "name": "ipython",
    "version": 3
   },
   "file_extension": ".py",
   "mimetype": "text/x-python",
   "name": "python",
   "nbconvert_exporter": "python",
   "pygments_lexer": "ipython3",
   "version": "3.12.10"
  }
 },
 "nbformat": 4,
 "nbformat_minor": 5
}
