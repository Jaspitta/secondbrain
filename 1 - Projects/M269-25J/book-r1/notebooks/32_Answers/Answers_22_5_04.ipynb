{
 "cells": [
  {
   "cell_type": "markdown",
   "id": "0",
   "metadata": {},
   "source": [
    "#### Exercise 22.5.4 answer"
   ]
  },
  {
   "cell_type": "markdown",
   "id": "1",
   "metadata": {},
   "source": [
    "I replace the template functions `satisfies_global` and `value`\n",
    "with `is_tour` (Exercise 22.5.2) and `length` (Exercise 22.5.1), respectively.\n",
    "The `can_extend` function was implemented in Exercise 22.5.3.\n",
    "```python\n",
    "def extend(path: list, nodes: set,\n",
    "            graph: WeightedUndirectedGraph, shortest: list) -> None:\n",
    "    \"\"\"Update shortest if path is a shorter tour, otherwise extend it.\"\"\"\n",
    "    print('Visiting node', path, nodes)\n",
    "    if len(nodes) == 0:\n",
    "        if is_tour(path):\n",
    "            path_length = length(path, graph)\n",
    "            if path_length < shortest[VALUE]:\n",
    "                print('New shortest tour with length', path_length)\n",
    "                shortest[SOLUTION] = path\n",
    "                shortest[VALUE] = path_length\n",
    "    for node in nodes:\n",
    "        if can_extend(node, path, graph, shortest):\n",
    "            extend(path + [node], nodes - {node}, graph, shortest)\n",
    "```"
   ]
  }
 ],
 "metadata": {
  "kernelspec": {
   "display_name": "Python 3",
   "language": "python",
   "name": "python3"
  },
  "language_info": {
   "codemirror_mode": {
    "name": "ipython",
    "version": 3
   },
   "file_extension": ".py",
   "mimetype": "text/x-python",
   "name": "python",
   "nbconvert_exporter": "python",
   "pygments_lexer": "ipython3",
   "version": "3.12.10"
  }
 },
 "nbformat": 4,
 "nbformat_minor": 5
}
