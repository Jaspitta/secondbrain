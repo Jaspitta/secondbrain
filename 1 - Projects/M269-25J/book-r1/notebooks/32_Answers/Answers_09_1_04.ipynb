{
 "cells": [
  {
   "cell_type": "markdown",
   "id": "0",
   "metadata": {},
   "source": [
    "#### Exercise 9.1.4 answer"
   ]
  },
  {
   "cell_type": "markdown",
   "id": "1",
   "metadata": {},
   "source": [
    "The first algorithm seems the best: it can take constant time only and\n",
    "doesn't use additional memory. However, for each letter missing in *text*,\n",
    "the linear search goes through the whole, potentially very long, string.\n",
    "\n",
    "The second algorithm goes through *text* only once,\n",
    "to create the set of characters. Although the set uses extra memory and,\n",
    "in its Python implementation,\n",
    "requires hashing of all characters in *text* and then hashing all 26 letters\n",
    "to look them up, this may be better than doing several long linear searches.\n",
    "\n",
    "The third algorithm uses even more memory\n",
    "(a set of letters and the difference set) and does more operations\n",
    "(set difference and sorting), so I doubt it will be the most efficient.\n",
    "\n",
    "To sum up, assuming that *text* can be very long and be missing several\n",
    "letters, I think the second algorithm is the most efficient."
   ]
  },
  {
   "cell_type": "markdown",
   "id": "2",
   "metadata": {},
   "source": [
    "<div class=\"alert alert-warning\">\n",
    "<strong>Note:</strong> The best- and worst-case complexities don't account for typical cases\n",
    "and for the actual number of operations executed, which may be\n",
    "important factors when deciding between algorithms.\n",
    "</div>"
   ]
  }
 ],
 "metadata": {
  "kernelspec": {
   "display_name": "Python 3",
   "language": "python",
   "name": "python3"
  },
  "language_info": {
   "codemirror_mode": {
    "name": "ipython",
    "version": 3
   },
   "file_extension": ".py",
   "mimetype": "text/x-python",
   "name": "python",
   "nbconvert_exporter": "python",
   "pygments_lexer": "ipython3",
   "version": "3.12.10"
  }
 },
 "nbformat": 4,
 "nbformat_minor": 5
}
