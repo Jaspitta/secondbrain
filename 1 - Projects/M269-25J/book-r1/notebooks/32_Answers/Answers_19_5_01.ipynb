{
 "cells": [
  {
   "cell_type": "markdown",
   "id": "0",
   "metadata": {},
   "source": [
    "#### Exercise 19.5.1 answer"
   ]
  },
  {
   "cell_type": "markdown",
   "id": "1",
   "metadata": {},
   "source": [
    "An edge case is the smallest board, with one row and one column.\n",
    "In that case, the start and end square must be the same.\n",
    "\n",
    "The smallest boards for which the start and end squares can differ are\n",
    "the 1 × 2 and 2 × 1 boards. The knight can't move in either of them.\n",
    "Both should be tested with one square being the start and the other the end.\n",
    "\n",
    "The start and end squares being the same is another edge case.\n",
    "This should be tested with a larger board, e.g. 3 × 3, in which\n",
    "the knight has space to move."
   ]
  }
 ],
 "metadata": {
  "kernelspec": {
   "display_name": "Python 3",
   "language": "python",
   "name": "python3"
  },
  "language_info": {
   "codemirror_mode": {
    "name": "ipython",
    "version": 3
   },
   "file_extension": ".py",
   "mimetype": "text/x-python",
   "name": "python",
   "nbconvert_exporter": "python",
   "pygments_lexer": "ipython3",
   "version": "3.12.10"
  }
 },
 "nbformat": 4,
 "nbformat_minor": 5
}
