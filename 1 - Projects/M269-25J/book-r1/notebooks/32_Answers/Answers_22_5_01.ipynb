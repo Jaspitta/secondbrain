{
 "cells": [
  {
   "cell_type": "markdown",
   "id": "0",
   "metadata": {},
   "source": [
    "#### Exercise 22.5.1 answer"
   ]
  },
  {
   "cell_type": "markdown",
   "id": "1",
   "metadata": {},
   "source": [
    "I changed the function header to reflect that candidates are paths and\n",
    "that the value of a path is its length.\n",
    "```python\n",
    "def length(path: list, graph: WeightedUndirectedGraph) -> int:\n",
    "    \"\"\"Return the length of the path in graph.\"\"\"\n",
    "    total = 0\n",
    "    for index in range(1, len(path)):\n",
    "        total = total + graph.weight(path[index-1], path[index])\n",
    "    return total\n",
    "\n",
    "length([0, 1, 2, 3, 4, 0], example) == 55\n",
    "```"
   ]
  }
 ],
 "metadata": {
  "kernelspec": {
   "display_name": "Python 3",
   "language": "python",
   "name": "python3"
  },
  "language_info": {
   "codemirror_mode": {
    "name": "ipython",
    "version": 3
   },
   "file_extension": ".py",
   "mimetype": "text/x-python",
   "name": "python",
   "nbconvert_exporter": "python",
   "pygments_lexer": "ipython3",
   "version": "3.12.10"
  }
 },
 "nbformat": 4,
 "nbformat_minor": 5
}
