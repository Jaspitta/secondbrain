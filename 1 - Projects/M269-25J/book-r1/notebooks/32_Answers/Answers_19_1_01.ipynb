{
 "cells": [
  {
   "cell_type": "markdown",
   "id": "0",
   "metadata": {},
   "source": [
    "#### Exercise 19.1.1 answer"
   ]
  },
  {
   "cell_type": "markdown",
   "id": "1",
   "metadata": {},
   "source": [
    "To simulate the tournament, we use a priority queue where the items are the\n",
    "knights' indices and the associated priorities are their strengths,\n",
    "which change over the tournament. The algorithm is as follows,\n",
    "where *strength* is the input sequence.\n",
    "\n",
    "For each index *k*, add *k*\n",
    "with priority *strength*[*k*] to a max-priority queue.\n",
    "While the queue has length larger than one, remove the two front items (indices).\n",
    "If the first has a larger priority (strength) than the second, put the first\n",
    "back in the queue but with the reduced strength as the new priority.\n",
    "(If both priorities are the same, both items have been removed from the queue.)\n",
    "\n",
    "If the loop ends with an empty queue, the output is −1, otherwise\n",
    "it's the last remaining index in the queue."
   ]
  }
 ],
 "metadata": {
  "kernelspec": {
   "display_name": "Python 3",
   "language": "python",
   "name": "python3"
  },
  "language_info": {
   "codemirror_mode": {
    "name": "ipython",
    "version": 3
   },
   "file_extension": ".py",
   "mimetype": "text/x-python",
   "name": "python",
   "nbconvert_exporter": "python",
   "pygments_lexer": "ipython3",
   "version": "3.12.10"
  }
 },
 "nbformat": 4,
 "nbformat_minor": 5
}
