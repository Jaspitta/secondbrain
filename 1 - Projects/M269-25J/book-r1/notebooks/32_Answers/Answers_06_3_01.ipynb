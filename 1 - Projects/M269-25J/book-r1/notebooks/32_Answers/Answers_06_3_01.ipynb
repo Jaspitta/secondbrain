{
 "cells": [
  {
   "cell_type": "markdown",
   "id": "0",
   "metadata": {},
   "source": [
    "#### Exercise 6.3.1 answer"
   ]
  },
  {
   "cell_type": "code",
   "execution_count": 1,
   "id": "1",
   "metadata": {},
   "outputs": [],
   "source": [
    "class Sequence:\n",
    "    \"\"\"The sequence ADT.\"\"\"\n",
    "\n",
    "    def has(self, item: object) -> bool:\n",
    "        \"\"\"Return True if and only if item is a member of self.\"\"\"\n",
    "        for index in range(self.length()):\n",
    "            if self.get_item(index) == item:\n",
    "                return True\n",
    "        return False"
   ]
  },
  {
   "cell_type": "markdown",
   "id": "2",
   "metadata": {},
   "source": [
    "I've added this method to the `m269_sequence.py` file,\n",
    "so that it can be used in the remainder of this chapter."
   ]
  }
 ],
 "metadata": {
  "kernelspec": {
   "display_name": "Python 3",
   "language": "python",
   "name": "python3"
  },
  "language_info": {
   "codemirror_mode": {
    "name": "ipython",
    "version": 3
   },
   "file_extension": ".py",
   "mimetype": "text/x-python",
   "name": "python",
   "nbconvert_exporter": "python",
   "pygments_lexer": "ipython3",
   "version": "3.12.10"
  }
 },
 "nbformat": 4,
 "nbformat_minor": 5
}
