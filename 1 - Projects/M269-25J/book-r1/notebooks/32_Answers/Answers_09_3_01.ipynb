{
 "cells": [
  {
   "cell_type": "markdown",
   "id": "0",
   "metadata": {},
   "source": [
    "#### Exercise 9.3.1 answer"
   ]
  },
  {
   "cell_type": "markdown",
   "id": "1",
   "metadata": {},
   "source": [
    "The best way to find pairs that cost the voucher's amount is to organise\n",
    "products by price. If the current product costs *n*, I need to quickly know if\n",
    "any previously seen products cost *voucher* − *n*.\n",
    "I thus use a map of prices to products. No product is free, so\n",
    "products costing the voucher's amount or more can be ignored as\n",
    "they can't be matched with any other product.\n",
    "\n",
    "> Create an empty map of prices to product sequences.\n",
    "> Create an empty set *results*.\n",
    "> Iterate over *store*. For each product *current*,\n",
    "> if its cost *price* is less than *voucher*,\n",
    "> append *product* to the map's entry for *price*.\n",
    "> Then add (*previous*, *current*) to *results* for every product *previous*\n",
    "> in the map's entry for *voucher* − *price*.\n",
    "> The added pairs must not be (*current*, *previous*) due to the postconditions.\n",
    "\n",
    "Follow up question: does it matter whether we add the current product to the\n",
    "map before or after finding the matching products?\n",
    "Hint: consider the last test case."
   ]
  }
 ],
 "metadata": {
  "kernelspec": {
   "display_name": "Python 3",
   "language": "python",
   "name": "python3"
  },
  "language_info": {
   "codemirror_mode": {
    "name": "ipython",
    "version": 3
   },
   "file_extension": ".py",
   "mimetype": "text/x-python",
   "name": "python",
   "nbconvert_exporter": "python",
   "pygments_lexer": "ipython3",
   "version": "3.12.10"
  }
 },
 "nbformat": 4,
 "nbformat_minor": 5
}
