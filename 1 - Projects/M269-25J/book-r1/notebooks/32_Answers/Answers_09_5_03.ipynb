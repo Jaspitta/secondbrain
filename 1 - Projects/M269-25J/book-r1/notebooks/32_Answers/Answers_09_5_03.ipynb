{
 "cells": [
  {
   "cell_type": "markdown",
   "id": "0",
   "metadata": {},
   "source": [
    "#### Exercise 9.5.3 answer"
   ]
  },
  {
   "cell_type": "markdown",
   "id": "1",
   "metadata": {},
   "source": [
    "For my approach, the worst-case complexity is linear when\n",
    "there are fewer than three matches, like for prefix 'said'.\n",
    "As the vocabulary increases 100 times, from 100 to 10,000 words,\n",
    "I expect the same increase in the worst run-time.\n",
    "Indeed, this happened on my computer: about 9.5&nbsp;µs for 100 words and\n",
    "about 950&nbsp;µs for 10,000 words. To find completions among 100,000 words,\n",
    "I expect a further 10-fold increase in the worst-case run-time: 9500&nbsp;µs.\n",
    "That's about 10&nbsp;ms, well below the 50&nbsp;ms limit.\n",
    "(A mobile phone's processor may take longer, of course.)"
   ]
  },
  {
   "cell_type": "markdown",
   "id": "2",
   "metadata": {},
   "source": [
    "<div class=\"alert alert-warning\">\n",
    "<strong>Note:</strong> If you're pressed for time, try the simplest approach that works:\n",
    "it may be good enough.\n",
    "</div>"
   ]
  }
 ],
 "metadata": {
  "kernelspec": {
   "display_name": "Python 3",
   "language": "python",
   "name": "python3"
  },
  "language_info": {
   "codemirror_mode": {
    "name": "ipython",
    "version": 3
   },
   "file_extension": ".py",
   "mimetype": "text/x-python",
   "name": "python",
   "nbconvert_exporter": "python",
   "pygments_lexer": "ipython3",
   "version": "3.12.10"
  }
 },
 "nbformat": 4,
 "nbformat_minor": 5
}
