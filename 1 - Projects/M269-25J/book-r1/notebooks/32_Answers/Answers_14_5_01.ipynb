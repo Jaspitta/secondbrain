{
 "cells": [
  {
   "cell_type": "markdown",
   "id": "0",
   "metadata": {},
   "source": [
    "#### Exercise 14.5.1 answer"
   ]
  },
  {
   "cell_type": "markdown",
   "id": "1",
   "metadata": {},
   "source": [
    "Slicing or merging each half takes Θ(*n* / 2) and\n",
    "sorting each half takes T(*n* / 2), so the recursive definition is:\n",
    "\n",
    "- if *n* < 2: T(*n*) = Θ(1)\n",
    "- if *n* ≥ 2: T(*n*)\n",
    "  = 2×Θ(*n* / 2) + 2×T(*n* / 2) + 2×Θ(*n* / 2)\n",
    "  = 2×T(*n* / 2) + Θ(*n*).\n",
    "\n",
    "This form of definition leads to T(*n*) = Θ(*n* log *n*),\n",
    "confirming our informal analysis."
   ]
  }
 ],
 "metadata": {
  "kernelspec": {
   "display_name": "Python 3",
   "language": "python",
   "name": "python3"
  },
  "language_info": {
   "codemirror_mode": {
    "name": "ipython",
    "version": 3
   },
   "file_extension": ".py",
   "mimetype": "text/x-python",
   "name": "python",
   "nbconvert_exporter": "python",
   "pygments_lexer": "ipython3",
   "version": "3.12.10"
  }
 },
 "nbformat": 4,
 "nbformat_minor": 5
}
