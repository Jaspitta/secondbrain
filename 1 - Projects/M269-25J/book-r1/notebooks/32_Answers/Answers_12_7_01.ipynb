{
 "cells": [
  {
   "cell_type": "markdown",
   "id": "0",
   "metadata": {},
   "source": [
    "#### Exercise 12.7.1 answer"
   ]
  },
  {
   "cell_type": "markdown",
   "id": "1",
   "metadata": {},
   "source": [
    "I divide the sequence into halves.\n",
    "The results for each half are combined with disjunction.\n",
    "The algorithm requires two base cases,\n",
    "as when splitting a sequence into one third and two thirds.\n",
    "It's not possible to split sequences of length&nbsp;0 and 1 into two shorter sequences,\n",
    "so those are the base cases.\n",
    "\n",
    "1. if *start* = *end*:\n",
    "   1. let *exists* be false\n",
    "2. otherwise if *start* + 1 = *end*:\n",
    "   1. let *exists* be *items*[*start*] = *item*\n",
    "2. otherwise:\n",
    "   1. let *middle* be *start* + floor((*end* – *start*) / 2)\n",
    "   1. let *exists left* be has(*items*, *item*, *start*, *middle*)\n",
    "   1. let *exists right* be has(*items*, *item*, *middle*, *end*)\n",
    "   1. let *exists* be *exists left* or *exists right*\n",
    "\n",
    "Another way of spotting that the algorithm needs two bases cases is to realise\n",
    "that with the first base case alone the algorithm always returns false.\n",
    "An algorithm for a decision problem must be able to return either Boolean value.\n",
    "\n",
    "A more efficient version wouldn't recur into the right half if\n",
    "the item is in the left one."
   ]
  }
 ],
 "metadata": {
  "kernelspec": {
   "display_name": "Python 3",
   "language": "python",
   "name": "python3"
  },
  "language_info": {
   "codemirror_mode": {
    "name": "ipython",
    "version": 3
   },
   "file_extension": ".py",
   "mimetype": "text/x-python",
   "name": "python",
   "nbconvert_exporter": "python",
   "pygments_lexer": "ipython3",
   "version": "3.12.10"
  }
 },
 "nbformat": 4,
 "nbformat_minor": 5
}
