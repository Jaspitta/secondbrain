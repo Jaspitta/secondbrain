{
 "cells": [
  {
   "cell_type": "markdown",
   "id": "0",
   "metadata": {},
   "source": [
    "#### Exercise 2.5.1 answer"
   ]
  },
  {
   "cell_type": "markdown",
   "id": "1",
   "metadata": {},
   "source": [
    "Here's my solution; other variable names and currencies are possible.\n",
    "You could also represent the rate as an integer between 0 and 100.\n",
    "\n",
    "**Function**: total price\\\n",
    "**Inputs**: *price*, a real number; *vat rate*, a real number\\\n",
    "**Preconditions**: *price* > 0; *price* is in euros; 0 ≤ *vat rate* < 1\\\n",
    "**Output**: *total*, a real number\\\n",
    "**Postconditions**: *total* = *price* × (1 + *vat rate*); *total* is in euros"
   ]
  }
 ],
 "metadata": {
  "kernelspec": {
   "display_name": "Python 3",
   "language": "python",
   "name": "python3"
  },
  "language_info": {
   "codemirror_mode": {
    "name": "ipython",
    "version": 3
   },
   "file_extension": ".py",
   "mimetype": "text/x-python",
   "name": "python",
   "nbconvert_exporter": "python",
   "pygments_lexer": "ipython3",
   "version": "3.12.10"
  }
 },
 "nbformat": 4,
 "nbformat_minor": 5
}
