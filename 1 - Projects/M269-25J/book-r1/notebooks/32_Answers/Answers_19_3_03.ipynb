{
 "cells": [
  {
   "cell_type": "markdown",
   "id": "0",
   "metadata": {},
   "source": [
    "#### Exercise 19.3.3 answer"
   ]
  },
  {
   "cell_type": "markdown",
   "id": "1",
   "metadata": {},
   "source": [
    "An exhaustive search over the graph finds all weak nodes.\n",
    "For each candidate node, if it's not part of a triangle,\n",
    "add the node to an initially empty set of weak nodes.\n",
    "At the end of the search, that set is the output.\n",
    "\n",
    "To test if a candidate node A isn't in a triangle, do another brute-force\n",
    "search: generate all pairs of neighbours B and C and check if\n",
    "there's an edge (B, C). If there is, stop the search: edges (A, B), (A, C) and\n",
    "(B, C) form a triangle and therefore nodes A, B and C are strong.\n",
    "If the search ends without finding any edge (B, C), then A is weak.\n",
    "\n",
    "For the example graph given in the hint and repeated below,\n",
    "when testing if node 2 is weak, the algorithm generates all pairs of neighbours\n",
    "(1, 5), (1, 6) and (5, 6) and checks if any of them forms an edge.\n",
    "None does, so node 2 is weak.\n",
    "When testing if node 6 is weak, the algorithm generates the pairs of neighbours\n",
    "(2, 3), (2, 4) and (3, 4) but the latter is an edge, so node 6 is strong,\n",
    "and so are nodes 3 and 4.\n",
    "\n",
    "<p id=\"fig-19.3.2\"></p>\n",
    "\n",
    "*[Figure 19.3.2](../33_Figures/Figures_19_3.ipynb#Figure-19.3.2)*\n",
    "\n",
    "![Image ../31_Hints/19_3_beams.png](../31_Hints/19_3_beams.png)\n",
    "\n",
    "An alternative algorithm first finds all strong points and finally returns\n",
    "the weak points as the difference between all points and the strong points."
   ]
  }
 ],
 "metadata": {
  "kernelspec": {
   "display_name": "Python 3",
   "language": "python",
   "name": "python3"
  },
  "language_info": {
   "codemirror_mode": {
    "name": "ipython",
    "version": 3
   },
   "file_extension": ".py",
   "mimetype": "text/x-python",
   "name": "python",
   "nbconvert_exporter": "python",
   "pygments_lexer": "ipython3",
   "version": "3.12.10"
  }
 },
 "nbformat": 4,
 "nbformat_minor": 5
}
