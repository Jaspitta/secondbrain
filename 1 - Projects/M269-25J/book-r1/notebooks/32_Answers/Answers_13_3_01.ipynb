{
 "cells": [
  {
   "cell_type": "markdown",
   "id": "0",
   "metadata": {},
   "source": [
    "#### Exercise 13.3.1 answer"
   ]
  },
  {
   "cell_type": "markdown",
   "id": "1",
   "metadata": {},
   "source": [
    "The GCD of two positive numbers *a* and *b* is a positive factor of both,\n",
    "so it's at least 1 and can't be larger than *a* or *b*.\n",
    "The range of candidates is thus 1 to min(*a*, *b*).\n",
    "\n",
    "Since we want to find the greatest of them,\n",
    "we generate and test the candidates in reverse sorted order.\n",
    "The algorithm iterates over the integers from min(*a*, *b*) down to 1\n",
    "and stops when a candidate divides both input numbers.\n",
    "Since 1 divides any integer, the algorithm is guaranteed to stop."
   ]
  }
 ],
 "metadata": {
  "kernelspec": {
   "display_name": "Python 3",
   "language": "python",
   "name": "python3"
  },
  "language_info": {
   "codemirror_mode": {
    "name": "ipython",
    "version": 3
   },
   "file_extension": ".py",
   "mimetype": "text/x-python",
   "name": "python",
   "nbconvert_exporter": "python",
   "pygments_lexer": "ipython3",
   "version": "3.12.10"
  }
 },
 "nbformat": 4,
 "nbformat_minor": 5
}
