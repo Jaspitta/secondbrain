{
 "cells": [
  {
   "cell_type": "markdown",
   "id": "0",
   "metadata": {},
   "source": [
    "#### Exercise 19.2.1 answer"
   ]
  },
  {
   "cell_type": "markdown",
   "id": "1",
   "metadata": {},
   "source": [
    "1. For each permutation of *Y*, compute its dot product with *X* and\n",
    "   keep it if it's lower than the previous results.\n",
    "   Keeping *X* as it is and rearranging only *Y* will multiply each integer\n",
    "   in *X* with each integer in *Y* and thus generate all dot products.\n",
    "1. There are *n*! permutations of *Y* to go through.\n",
    "   Each permutation takes Θ(*n*) time to test if it's the best one, because\n",
    "   the dot product requires *n* multiplications and *n* additions.\n",
    "   The complexity is Θ(*n*! × *n*).\n",
    "1. For *n* = 20, if each candidate is generated and tested in one nanosecond,\n",
    "   we'd have to wait..."
   ]
  },
  {
   "cell_type": "code",
   "execution_count": 1,
   "id": "2",
   "metadata": {},
   "outputs": [
    {
     "name": "stdout",
     "output_type": "stream",
     "text": [
      "1542 years\n"
     ]
    }
   ],
   "source": [
    "from math import factorial\n",
    "\n",
    "NS_PER_YEAR = 365 * 24 * 60 * 60 * 1000 * 1000 * 1000  # nanoseconds in a year\n",
    "print(factorial(20) * 20 // NS_PER_YEAR, \"years\")"
   ]
  },
  {
   "cell_type": "markdown",
   "id": "3",
   "metadata": {},
   "source": [
    "Exhaustive search is not a practical approach for this problem."
   ]
  }
 ],
 "metadata": {
  "kernelspec": {
   "display_name": "Python 3",
   "language": "python",
   "name": "python3"
  },
  "language_info": {
   "codemirror_mode": {
    "name": "ipython",
    "version": 3
   },
   "file_extension": ".py",
   "mimetype": "text/x-python",
   "name": "python",
   "nbconvert_exporter": "python",
   "pygments_lexer": "ipython3",
   "version": "3.12.10"
  }
 },
 "nbformat": 4,
 "nbformat_minor": 5
}
