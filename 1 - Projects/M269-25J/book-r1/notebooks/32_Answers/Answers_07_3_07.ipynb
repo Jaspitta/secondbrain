{
 "cells": [
  {
   "cell_type": "markdown",
   "id": "0",
   "metadata": {},
   "source": [
    "#### Exercise 7.3.7 answer"
   ]
  },
  {
   "cell_type": "markdown",
   "id": "1",
   "metadata": {},
   "source": [
    "The first loop iterates *n* times to create the circle.\n",
    "The outer loop iterates *n* − 1 times to simulate the *n* − 1 rounds\n",
    "and the inner loop iterates 27 times.\n",
    "All methods take constant time, and so does the inner loop.\n",
    "\n",
    "The algorithm boils down to two linear-time loops, one after the other,\n",
    "and so the overall complexity is linear in *n*.\n",
    "In Big-Theta notation:\n",
    "Θ(*n*) + Θ(*n* - 1) × 27 × Θ(1) = Θ(*n*) + Θ(*n*) = Θ(2×*n*) = Θ(*n*)\n",
    "because constants are ignored."
   ]
  }
 ],
 "metadata": {
  "kernelspec": {
   "display_name": "Python 3",
   "language": "python",
   "name": "python3"
  },
  "language_info": {
   "codemirror_mode": {
    "name": "ipython",
    "version": 3
   },
   "file_extension": ".py",
   "mimetype": "text/x-python",
   "name": "python",
   "nbconvert_exporter": "python",
   "pygments_lexer": "ipython3",
   "version": "3.12.10"
  }
 },
 "nbformat": 4,
 "nbformat_minor": 5
}
