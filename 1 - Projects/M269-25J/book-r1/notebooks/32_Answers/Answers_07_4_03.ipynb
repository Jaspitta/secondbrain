{
 "cells": [
  {
   "cell_type": "markdown",
   "id": "0",
   "metadata": {},
   "source": [
    "#### Exercise 7.4.3 answer"
   ]
  },
  {
   "cell_type": "code",
   "execution_count": 1,
   "id": "1",
   "metadata": {},
   "outputs": [],
   "source": [
    "# this code is also in m269_priority.py\n",
    "\n",
    "\n",
    "class ArrayPriorityQueue:\n",
    "    def insert(self, item: object, priority: object) -> None:\n",
    "        index = 0\n",
    "        while index < len(self.priorities) and self.priorities[index] < priority:\n",
    "            index = index + 1\n",
    "        self.items.insert(index, item)\n",
    "        self.priorities.insert(index, priority)"
   ]
  }
 ],
 "metadata": {
  "kernelspec": {
   "display_name": "Python 3",
   "language": "python",
   "name": "python3"
  },
  "language_info": {
   "codemirror_mode": {
    "name": "ipython",
    "version": 3
   },
   "file_extension": ".py",
   "mimetype": "text/x-python",
   "name": "python",
   "nbconvert_exporter": "python",
   "pygments_lexer": "ipython3",
   "version": "3.12.10"
  }
 },
 "nbformat": 4,
 "nbformat_minor": 5
}
