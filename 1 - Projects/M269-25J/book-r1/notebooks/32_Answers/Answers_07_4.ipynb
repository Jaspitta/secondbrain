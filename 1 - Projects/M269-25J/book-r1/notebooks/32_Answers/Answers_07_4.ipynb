{
 "cells": [
  {
   "cell_type": "markdown",
   "id": "0",
   "metadata": {},
   "source": [
    "### 30.5.4 Priority queues"
   ]
  },
  {
   "cell_type": "markdown",
   "id": "1",
   "metadata": {
    "nbsphinx-toctree": {
     "hidden": true,
     "maxdepth": 1,
     "numbered": false
    }
   },
   "source": [
    "1. [Exercise 7.4.1 answer](Answers_07_4_01.ipynb)\n",
    "1. [Exercise 7.4.2 answer](Answers_07_4_02.ipynb)\n",
    "1. [Exercise 7.4.3 answer](Answers_07_4_03.ipynb)\n",
    "1. [Exercise 7.4.4 answer](Answers_07_4_04.ipynb)\n",
    "1. [Exercise 7.4.5 answer](Answers_07_4_05.ipynb)\n",
    "1. [Exercise 7.4.6 answer](Answers_07_4_06.ipynb)\n",
    "1. [Exercise 7.4.7 answer](Answers_07_4_07.ipynb)\n",
    "1. [Exercise 7.4.8 answer](Answers_07_4_08.ipynb)"
   ]
  },
  {
   "cell_type": "markdown",
   "id": "2",
   "metadata": {},
   "source": [
    "⟵ [Previous section](Answers_06.ipynb) | [Up](32-introduction.ipynb) | [Next section](Answers_08.ipynb) ⟶"
   ]
  }
 ],
 "metadata": {
  "kernelspec": {
   "display_name": "Python 3",
   "language": "python",
   "name": "python3"
  },
  "language_info": {
   "codemirror_mode": {
    "name": "ipython",
    "version": 3
   },
   "file_extension": ".py",
   "mimetype": "text/x-python",
   "name": "python",
   "nbconvert_exporter": "python",
   "pygments_lexer": "ipython3",
   "version": "3.12.10"
  }
 },
 "nbformat": 4,
 "nbformat_minor": 5
}
