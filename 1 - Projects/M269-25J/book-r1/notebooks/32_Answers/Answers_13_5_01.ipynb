{
 "cells": [
  {
   "cell_type": "markdown",
   "id": "0",
   "metadata": {},
   "source": [
    "#### Exercise 13.5.1 answer"
   ]
  },
  {
   "cell_type": "code",
   "execution_count": 1,
   "id": "1",
   "metadata": {},
   "outputs": [],
   "source": [
    "def first_positive(numbers: list) -> int:\n",
    "    def in_slice(start: int, end: int) -> int:\n",
    "        \"\"\"Return the first positive number within numbers[start:end].\n",
    "\n",
    "        Preconditions: 0 <= start < end <= len(items)\n",
    "        \"\"\"\n",
    "        if end - start == 1:\n",
    "            return numbers[start]\n",
    "        elif end - start == 2:\n",
    "            if numbers[start] > 0:\n",
    "                return numbers[start]\n",
    "            else:\n",
    "                return numbers[start + 1]\n",
    "        else:\n",
    "            middle = start + (end - start) // 2\n",
    "            if numbers[middle] > 0:\n",
    "                return in_slice(start, middle + 1)  # include middle\n",
    "            else:\n",
    "                return in_slice(middle + 1, end)\n",
    "\n",
    "    return in_slice(0, len(numbers))"
   ]
  }
 ],
 "metadata": {
  "kernelspec": {
   "display_name": "Python 3",
   "language": "python",
   "name": "python3"
  },
  "language_info": {
   "codemirror_mode": {
    "name": "ipython",
    "version": 3
   },
   "file_extension": ".py",
   "mimetype": "text/x-python",
   "name": "python",
   "nbconvert_exporter": "python",
   "pygments_lexer": "ipython3",
   "version": "3.12.10"
  }
 },
 "nbformat": 4,
 "nbformat_minor": 5
}
