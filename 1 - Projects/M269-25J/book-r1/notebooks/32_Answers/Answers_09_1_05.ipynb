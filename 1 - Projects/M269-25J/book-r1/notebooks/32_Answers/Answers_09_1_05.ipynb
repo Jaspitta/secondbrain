{
 "cells": [
  {
   "cell_type": "markdown",
   "id": "0",
   "metadata": {},
   "source": [
    "#### Exercise 9.1.5 answer"
   ]
  },
  {
   "cell_type": "code",
   "execution_count": 1,
   "id": "1",
   "metadata": {},
   "outputs": [
    {
     "name": "stdout",
     "output_type": "stream",
     "text": [
      "Testing missing_letters...\n",
      "Tests finished: 4 passed (100%), 0 failed.\n"
     ]
    }
   ],
   "source": [
    "from algoesup import test\n",
    "\n",
    "LETTERS = \"abcdefghijklmnopqrstuvwxyz\"\n",
    "\n",
    "\n",
    "def missing_letters(text: str) -> str:\n",
    "    \"\"\"Return all English alphabet letters that aren't in text.\n",
    "\n",
    "    Preconditions: all letters in text are lowercase\n",
    "    Postconditions: the output are the letters from a to z that\n",
    "    don't occur in text, in alphabetical order\n",
    "    \"\"\"\n",
    "    occurring = set(text)\n",
    "    missing = \"\"\n",
    "    for letter in LETTERS:\n",
    "        if letter not in occurring:\n",
    "            missing = missing + letter\n",
    "    return missing\n",
    "\n",
    "\n",
    "PANGRAM = \"the quick brown fox jumps over the lazy dog.\"\n",
    "\n",
    "missing_letters_tests = [\n",
    "    # case,         text,                           missing\n",
    "    ['pangram',     PANGRAM,                        ''],\n",
    "    ['no vowels',   'bcd fgh jklmn pqrst vwxyz',    'aeiou'],\n",
    "    # new tests:\n",
    "    ['no text',     '',                             LETTERS],\n",
    "    ['no a-z',      'Θ(1)',                         LETTERS]\n",
    "]\n",
    "\n",
    "test(missing_letters, missing_letters_tests)"
   ]
  }
 ],
 "metadata": {
  "kernelspec": {
   "display_name": "Python 3",
   "language": "python",
   "name": "python3"
  },
  "language_info": {
   "codemirror_mode": {
    "name": "ipython",
    "version": 3
   },
   "file_extension": ".py",
   "mimetype": "text/x-python",
   "name": "python",
   "nbconvert_exporter": "python",
   "pygments_lexer": "ipython3",
   "version": "3.12.10"
  }
 },
 "nbformat": 4,
 "nbformat_minor": 5
}
