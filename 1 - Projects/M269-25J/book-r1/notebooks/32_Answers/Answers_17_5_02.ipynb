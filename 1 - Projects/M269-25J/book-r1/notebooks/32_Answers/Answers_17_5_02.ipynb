{
 "cells": [
  {
   "cell_type": "markdown",
   "id": "0",
   "metadata": {},
   "source": [
    "#### Exercise 17.5.2 answer"
   ]
  },
  {
   "cell_type": "markdown",
   "id": "1",
   "metadata": {},
   "source": [
    "Operation | Complexity\n",
    "-|-\n",
    "add node A | Θ(1)\n",
    "remove node A | Θ(*n*)\n",
    "has edge (A, B) | Θ(1)\n",
    "add edge (A, B) | Θ(1)\n",
    "remove edge (A, B) | Θ(1)\n",
    "in-neighbours of A | Θ(*n*)\n",
    "out-neighbours of A | Θ(out-degree(A))\n",
    "in-degree of A | Θ(*n*)"
   ]
  }
 ],
 "metadata": {
  "kernelspec": {
   "display_name": "Python 3",
   "language": "python",
   "name": "python3"
  },
  "language_info": {
   "codemirror_mode": {
    "name": "ipython",
    "version": 3
   },
   "file_extension": ".py",
   "mimetype": "text/x-python",
   "name": "python",
   "nbconvert_exporter": "python",
   "pygments_lexer": "ipython3",
   "version": "3.12.10"
  }
 },
 "nbformat": 4,
 "nbformat_minor": 5
}
