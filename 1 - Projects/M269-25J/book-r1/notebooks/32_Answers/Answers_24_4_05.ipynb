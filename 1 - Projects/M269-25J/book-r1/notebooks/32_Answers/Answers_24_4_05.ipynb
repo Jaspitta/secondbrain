{
 "cells": [
  {
   "cell_type": "markdown",
   "id": "0",
   "metadata": {},
   "source": [
    "#### Exercise 24.4.5 answer"
   ]
  },
  {
   "cell_type": "markdown",
   "id": "1",
   "metadata": {},
   "source": [
    "I initialise the cache with an impossible negative distance."
   ]
  },
  {
   "cell_type": "code",
   "execution_count": 1,
   "id": "2",
   "metadata": {},
   "outputs": [],
   "source": [
    "def edit_topdown(left: str, right: str) -> int:\n",
    "    \"\"\"Return the Levenshtein distance between the strings.\"\"\"\n",
    "\n",
    "    def edit(l: int, r: int) -> int:\n",
    "        \"\"\"Return the Levenshtein distance of left[l:] and right[r:].\n",
    "\n",
    "        Preconditions: 0 ≤ l ≤ len(left) and 0 ≤ r ≤ len(right)\n",
    "        \"\"\"\n",
    "        if cache[l][r] == -1:\n",
    "            if l == len(left):\n",
    "                cache[l][r] = len(right) - r\n",
    "            elif r == len(right):\n",
    "                cache[l][r] = len(left) - l\n",
    "            elif left[l] == right[r]:\n",
    "                cache[l][r] = edit(l + 1, r + 1)\n",
    "            else:\n",
    "                delete = 1 + edit(l + 1, r)\n",
    "                insert = 1 + edit(l, r + 1)\n",
    "                replace = 1 + edit(l + 1, r + 1)\n",
    "                cache[l][r] = min(delete, insert, replace)\n",
    "        return cache[l][r]\n",
    "\n",
    "    cache = []\n",
    "    for l in range(len(left) + 1):\n",
    "        cache.append([-1] * (len(right) + 1))\n",
    "    return edit(0, 0)"
   ]
  }
 ],
 "metadata": {
  "kernelspec": {
   "display_name": "Python 3",
   "language": "python",
   "name": "python3"
  },
  "language_info": {
   "codemirror_mode": {
    "name": "ipython",
    "version": 3
   },
   "file_extension": ".py",
   "mimetype": "text/x-python",
   "name": "python",
   "nbconvert_exporter": "python",
   "pygments_lexer": "ipython3",
   "version": "3.12.10"
  }
 },
 "nbformat": 4,
 "nbformat_minor": 5
}
