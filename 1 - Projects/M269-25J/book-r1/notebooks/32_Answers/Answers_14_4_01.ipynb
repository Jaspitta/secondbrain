{
 "cells": [
  {
   "cell_type": "markdown",
   "id": "0",
   "metadata": {},
   "source": [
    "#### Exercise 14.4.1 answer"
   ]
  },
  {
   "cell_type": "markdown",
   "id": "1",
   "metadata": {},
   "source": [
    "Step&nbsp;1.2 takes constant time and hence can be ignored for analysis purposes.\n",
    "Like insertion sort, selection sort does *n* − 1 linear searches and hence is\n",
    "also quadratic. To be precise, step&nbsp;1.1 first searches among *n* items,\n",
    "then among *n*−1, then among *n*−2, and so on until only searching two items.\n",
    "As we've seen before, 2 + ... + *n* = (*n*² + *n*) / 2 – 1."
   ]
  }
 ],
 "metadata": {
  "kernelspec": {
   "display_name": "Python 3",
   "language": "python",
   "name": "python3"
  },
  "language_info": {
   "codemirror_mode": {
    "name": "ipython",
    "version": 3
   },
   "file_extension": ".py",
   "mimetype": "text/x-python",
   "name": "python",
   "nbconvert_exporter": "python",
   "pygments_lexer": "ipython3",
   "version": "3.12.10"
  }
 },
 "nbformat": 4,
 "nbformat_minor": 5
}
