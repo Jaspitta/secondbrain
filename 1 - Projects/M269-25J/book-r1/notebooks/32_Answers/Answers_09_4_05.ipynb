{
 "cells": [
  {
   "cell_type": "markdown",
   "id": "0",
   "metadata": {},
   "source": [
    "#### Exercise 9.4.5 answer"
   ]
  },
  {
   "cell_type": "markdown",
   "id": "1",
   "metadata": {},
   "source": [
    "I use two queues and a stack."
   ]
  },
  {
   "cell_type": "code",
   "execution_count": 1,
   "id": "2",
   "metadata": {},
   "outputs": [
    {
     "name": "stdout",
     "output_type": "stream",
     "text": [
      "Testing rearrange...\n",
      "Tests finished: 6 passed (100%), 0 failed.\n"
     ]
    }
   ],
   "source": [
    "%run -i ../m269_queue\n",
    "%run -i ../m269_stack\n",
    "from algoesup import test\n",
    "\n",
    "\n",
    "def rearrange(wagons: int, outgoing: list) -> bool:\n",
    "    \"\"\"Check if the incoming train can be rearranged into outgoing.\n",
    "\n",
    "    Preconditions:\n",
    "    - wagons > 0\n",
    "    - outgoing is a permutation of the numbers from 1 to wagons\n",
    "    \"\"\"\n",
    "    east = Queue()\n",
    "    for wagon in range(1, wagons + 1):\n",
    "        east.enqueue(wagon)\n",
    "\n",
    "    west = Queue()\n",
    "    for wagon in outgoing:\n",
    "        west.enqueue(wagon)\n",
    "\n",
    "    station = Stack()\n",
    "    while west.size() > 0:\n",
    "        if station.size() > 0 and west.front() == station.peek():\n",
    "            # move wagon out of station, tick it off the outgoing\n",
    "            west.dequeue()\n",
    "            station.pop()\n",
    "        elif east.size() == 0:\n",
    "            # no more incoming wagons available\n",
    "            return False\n",
    "        else:\n",
    "            # move incoming wagon to station\n",
    "            station.push(east.dequeue())\n",
    "    return True\n",
    "\n",
    "\n",
    "rearrange_tests = [\n",
    "    # case,             wagons, outgoing,       rearrange?\n",
    "    ['keep order',      3,      [1, 2, 3],          True],\n",
    "    ['invert',          3,      [3, 2, 1],          True],\n",
    "    ['swap',            3,      [1, 3, 2],          True],\n",
    "    ['move to front',   5,      [5, 1, 2, 3, 4],    False],\n",
    "    # new tests:\n",
    "    ['1 wagon',         1,      [1],                True],\n",
    "    ['move to back',    4,      [2, 3, 4, 1],       True]\n",
    "]\n",
    "\n",
    "test(rearrange, rearrange_tests)"
   ]
  },
  {
   "cell_type": "markdown",
   "id": "3",
   "metadata": {},
   "source": [
    "Both queues can be represented in a much simpler way,\n",
    "each with a single integer: the front wagon of the incoming `east` queue and\n",
    "the index of the next wagon in `outgoing` to be sent off.\n",
    "While this is more efficient in terms of memory and run-time,\n",
    "it's an implementation optimisation.\n",
    "Conceptually, the incoming and outgoing trains are queues,\n",
    "and thinking in terms of such abstractions helps to get a grip on a problem."
   ]
  },
  {
   "cell_type": "markdown",
   "id": "4",
   "metadata": {},
   "source": [
    "<div class=\"alert alert-warning\">\n",
    "<strong>Note:</strong> When solving a problem, try first to model it in terms of one or more ADTs.\n",
    "</div>"
   ]
  },
  {
   "cell_type": "markdown",
   "id": "5",
   "metadata": {},
   "source": [
    "<div class=\"alert alert-info\">\n",
    "<strong>Info:</strong> These exercises are based on problem\n",
    "<a href=\"https://onlinejudge.org/external/5/514.pdf\">Rails</a>.\n",
    "</div>"
   ]
  }
 ],
 "metadata": {
  "kernelspec": {
   "display_name": "Python 3",
   "language": "python",
   "name": "python3"
  },
  "language_info": {
   "codemirror_mode": {
    "name": "ipython",
    "version": 3
   },
   "file_extension": ".py",
   "mimetype": "text/x-python",
   "name": "python",
   "nbconvert_exporter": "python",
   "pygments_lexer": "ipython3",
   "version": "3.12.10"
  }
 },
 "nbformat": 4,
 "nbformat_minor": 5
}
