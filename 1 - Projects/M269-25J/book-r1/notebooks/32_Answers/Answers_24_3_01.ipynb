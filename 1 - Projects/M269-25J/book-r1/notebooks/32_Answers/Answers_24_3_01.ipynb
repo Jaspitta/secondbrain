{
 "cells": [
  {
   "cell_type": "markdown",
   "id": "0",
   "metadata": {},
   "source": [
    "#### Exercise 24.3.1 answer"
   ]
  },
  {
   "cell_type": "markdown",
   "id": "1",
   "metadata": {},
   "source": [
    "Finding the fewest days the book takes to get from the borrower to the lender\n",
    "sounds like a shortest path problem.\n",
    "This means we need to model the problem as a state transition graph that\n",
    "represents the states the book goes through from the lender to the borrower,\n",
    "similar to the [rook's moves](../21_Graphs_2/21_4_states.ipynb#21.4.1-Problem) problem.\n",
    "Here, it's the book that moves around."
   ]
  }
 ],
 "metadata": {
  "kernelspec": {
   "display_name": "Python 3",
   "language": "python",
   "name": "python3"
  },
  "language_info": {
   "codemirror_mode": {
    "name": "ipython",
    "version": 3
   },
   "file_extension": ".py",
   "mimetype": "text/x-python",
   "name": "python",
   "nbconvert_exporter": "python",
   "pygments_lexer": "ipython3",
   "version": "3.12.10"
  }
 },
 "nbformat": 4,
 "nbformat_minor": 5
}
