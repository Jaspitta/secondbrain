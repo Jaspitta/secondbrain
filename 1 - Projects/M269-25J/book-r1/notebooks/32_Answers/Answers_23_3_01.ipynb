{
 "cells": [
  {
   "cell_type": "markdown",
   "id": "0",
   "metadata": {},
   "source": [
    "#### Exercise 23.3.1 answer"
   ]
  },
  {
   "cell_type": "code",
   "execution_count": 1,
   "id": "1",
   "metadata": {},
   "outputs": [],
   "source": [
    "def knapsack_indices(items: list, capacity: int) -> list:  # noqa: D103\n",
    "    # docstring not repeated\n",
    "\n",
    "    def knapsack(index: int, capacity: int) -> list:\n",
    "        \"\"\"Return a subsequence of items[index:].\n",
    "\n",
    "        Preconditions: 0 ≤ index ≤ len(items) and 0 ≤ capacity\n",
    "        Postconditions: the output fits the capacity and maximises the value\n",
    "        \"\"\"\n",
    "        if index == len(items) or capacity == 0:\n",
    "            return []\n",
    "        else:\n",
    "            item = items[index]\n",
    "            skip = knapsack(index + 1, capacity)\n",
    "            if item[WEIGHT] > capacity:\n",
    "                return skip\n",
    "            else:\n",
    "                take = [item] + knapsack(index + 1, capacity - item[WEIGHT])\n",
    "                if value(skip) > value(take):\n",
    "                    return skip\n",
    "                else:\n",
    "                    return take\n",
    "\n",
    "    return knapsack(0, capacity)"
   ]
  }
 ],
 "metadata": {
  "kernelspec": {
   "display_name": "Python 3",
   "language": "python",
   "name": "python3"
  },
  "language_info": {
   "codemirror_mode": {
    "name": "ipython",
    "version": 3
   },
   "file_extension": ".py",
   "mimetype": "text/x-python",
   "name": "python",
   "nbconvert_exporter": "python",
   "pygments_lexer": "ipython3",
   "version": "3.12.10"
  }
 },
 "nbformat": 4,
 "nbformat_minor": 5
}
