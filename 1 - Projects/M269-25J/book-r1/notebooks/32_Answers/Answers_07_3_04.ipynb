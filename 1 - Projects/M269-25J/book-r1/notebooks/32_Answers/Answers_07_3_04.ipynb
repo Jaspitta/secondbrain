{
 "cells": [
  {
   "cell_type": "markdown",
   "id": "0",
   "metadata": {},
   "source": [
    "#### Exercise 7.3.4 answer"
   ]
  },
  {
   "cell_type": "markdown",
   "id": "1",
   "metadata": {},
   "source": [
    "At any point in time, the queue contains the children (more specifically,\n",
    "the number of each child) that haven't been counted out yet.\n",
    "The child at the front is the one Alice is currently pointing to.\n",
    "The rest of the queue contains the remaining children, in clockwise order.\n",
    "\n",
    "Here's an example of 6 children in a circle and the corresponding queue.\n",
    "For illustration, child 3&nbsp;has already been counted out and\n",
    "Alice is pointing at child 4.\n",
    "\n",
    "<p id=\"fig-7.3.1\"></p>\n",
    "\n",
    "*[Figure 7.3.1](../33_Figures/Figures_07_3.ipynb#Figure-7.3.1)*\n",
    "\n",
    "![Image 07_3_eeny_queue.png](07_3_eeny_queue.png)"
   ]
  }
 ],
 "metadata": {
  "kernelspec": {
   "display_name": "Python 3",
   "language": "python",
   "name": "python3"
  },
  "language_info": {
   "codemirror_mode": {
    "name": "ipython",
    "version": 3
   },
   "file_extension": ".py",
   "mimetype": "text/x-python",
   "name": "python",
   "nbconvert_exporter": "python",
   "pygments_lexer": "ipython3",
   "version": "3.12.10"
  }
 },
 "nbformat": 4,
 "nbformat_minor": 5
}
