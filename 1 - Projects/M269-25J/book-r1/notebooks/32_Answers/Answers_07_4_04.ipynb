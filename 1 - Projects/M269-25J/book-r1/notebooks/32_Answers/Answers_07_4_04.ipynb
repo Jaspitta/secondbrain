{
 "cells": [
  {
   "cell_type": "markdown",
   "id": "0",
   "metadata": {},
   "source": [
    "#### Exercise 7.4.4 answer"
   ]
  },
  {
   "cell_type": "markdown",
   "id": "1",
   "metadata": {},
   "source": [
    "If the new item has to be inserted at index *i*, then it takes\n",
    "*i* iterations to find the position and another │*priorities*│ − *i* iterations\n",
    "to push the remaining priorities and items one position up.\n",
    "The complexity is thus always Θ(│*priorities*│).\n",
    "\n",
    "Operation | Complexity\n",
    ":-|:-\n",
    "new |  Θ(1)\n",
    "length  |  Θ(1)\n",
    "insert  |  Θ(│*pq*│)\n",
    "find max  |  Θ(1)\n",
    "remove max  |  Θ(1)"
   ]
  }
 ],
 "metadata": {
  "kernelspec": {
   "display_name": "Python 3",
   "language": "python",
   "name": "python3"
  },
  "language_info": {
   "codemirror_mode": {
    "name": "ipython",
    "version": 3
   },
   "file_extension": ".py",
   "mimetype": "text/x-python",
   "name": "python",
   "nbconvert_exporter": "python",
   "pygments_lexer": "ipython3",
   "version": "3.12.10"
  }
 },
 "nbformat": 4,
 "nbformat_minor": 5
}
