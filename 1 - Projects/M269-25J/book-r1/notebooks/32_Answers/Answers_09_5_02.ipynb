{
 "cells": [
  {
   "cell_type": "markdown",
   "id": "0",
   "metadata": {},
   "source": [
    "#### Exercise 9.5.2 answer"
   ]
  },
  {
   "cell_type": "code",
   "execution_count": 1,
   "id": "1",
   "metadata": {},
   "outputs": [],
   "source": [
    "class SMS:\n",
    "    def __init__(self, filename: str) -> None:\n",
    "        data = []\n",
    "        with open(filename, \"r\") as infile:\n",
    "            for line in infile:\n",
    "                pair = line.split()\n",
    "                word = pair[0]\n",
    "                score = int(pair[1])\n",
    "                data.append((score, word))\n",
    "        data.sort(reverse=True)\n",
    "        for index in range(len(data)):\n",
    "            data[index] = data[index][1]  # discard the score\n",
    "        self.words = data\n",
    "\n",
    "    def completions(self, prefix: str) -> list:\n",
    "        suggestions = []\n",
    "        length = len(prefix)\n",
    "        for word in self.words:\n",
    "            if word[:length] == prefix:\n",
    "                suggestions.append(word)\n",
    "                if len(suggestions) == 3:\n",
    "                    return suggestions\n",
    "        return suggestions"
   ]
  },
  {
   "cell_type": "markdown",
   "id": "2",
   "metadata": {},
   "source": [
    "<div class=\"alert alert-info\">\n",
    "<strong>Info:</strong> The files contain the 100 (respectively 10,000) most common words of\n",
    "all the books in Project Gutenberg, as of 16 April 2006.\n",
    "Project Gutenberg is a collection of thousands of free e-books,\n",
    "mostly in English and out of copyright. The files hence include\n",
    "archaic English words, like 'thou' and 'thy'.\n",
    "I created the files from\n",
    "<a href=\"https://en.wiktionary.org/wiki/Wiktionary:Frequency_lists/PG/2006/04/1-10000\">Wiktionary data</a>.\n",
    "I rounded down all fractional frequencies, converted all words to lowercase,\n",
    "and replaced `mother+'s<code> with </code>mother's`. Wiktionary has more\n",
    "<a href=\"https://en.wiktionary.org/wiki/Wiktionary:Frequency_lists\">word frequency lists</a>,\n",
    "including for languages other than English.\n",
    "</div>"
   ]
  }
 ],
 "metadata": {
  "kernelspec": {
   "display_name": "Python 3",
   "language": "python",
   "name": "python3"
  },
  "language_info": {
   "codemirror_mode": {
    "name": "ipython",
    "version": 3
   },
   "file_extension": ".py",
   "mimetype": "text/x-python",
   "name": "python",
   "nbconvert_exporter": "python",
   "pygments_lexer": "ipython3",
   "version": "3.12.10"
  }
 },
 "nbformat": 4,
 "nbformat_minor": 5
}
