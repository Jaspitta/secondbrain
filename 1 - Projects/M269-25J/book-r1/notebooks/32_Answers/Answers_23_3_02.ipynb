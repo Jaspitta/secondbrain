{
 "cells": [
  {
   "cell_type": "markdown",
   "id": "0",
   "metadata": {},
   "source": [
    "#### Exercise 23.3.2 answer"
   ]
  },
  {
   "cell_type": "markdown",
   "id": "1",
   "metadata": {},
   "source": [
    "1. Here's my diagram, using indices instead of lists of items.\n",
    "The left child is the subproblem obtained by\n",
    "skipping the item at the current index.\n",
    "The right child is the subproblem obtained by taking the item.\n",
    "\n",
    "<p id=\"fig-23.3.1\"></p>\n",
    "\n",
    "*[Figure 23.3.1](../33_Figures/Figures_23_3.ipynb#Figure-23.3.1)*\n",
    "\n",
    "![Image 23_3_knapsack.png](23_3_knapsack.png)\n",
    "\n",
    "2. Subproblems (2, 3), (3, 3), (3, 0) and (4, 3)\n",
    "are solved twice because each has two paths to the input instance (0, 4).\n",
    "Subproblem (2, 3) corresponds to skipping the first or second item and\n",
    "taking the other one, with weight 1, so the capacity reduces to 3.\n",
    "Subproblem (3, 3) is reached by skipping the third item and\n",
    "subproblem (3, 0) by taking it: the third item has weight 3,\n",
    "so the knapsack has no further capacity."
   ]
  }
 ],
 "metadata": {
  "kernelspec": {
   "display_name": "Python 3",
   "language": "python",
   "name": "python3"
  },
  "language_info": {
   "codemirror_mode": {
    "name": "ipython",
    "version": 3
   },
   "file_extension": ".py",
   "mimetype": "text/x-python",
   "name": "python",
   "nbconvert_exporter": "python",
   "pygments_lexer": "ipython3",
   "version": "3.12.10"
  }
 },
 "nbformat": 4,
 "nbformat_minor": 5
}
