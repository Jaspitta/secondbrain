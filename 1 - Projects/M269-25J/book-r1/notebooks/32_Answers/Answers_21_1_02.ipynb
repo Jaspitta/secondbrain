{
 "cells": [
  {
   "cell_type": "markdown",
   "id": "0",
   "metadata": {},
   "source": [
    "#### Exercise 21.1.2 answer"
   ]
  },
  {
   "cell_type": "markdown",
   "id": "1",
   "metadata": {},
   "source": [
    "Here's my proposal.\n",
    "\n",
    "We're told the graph is connected; therefore it has one component.\n",
    "Removing a node and its edges may split the graph into two or more components.\n",
    "The more components, the more 'disconnection' the removal causes.\n",
    "The critical nodes would be those leading to the largest number of\n",
    "components, after the node's removal.\n",
    "\n",
    "If you have a different definition, please share it in the forums."
   ]
  }
 ],
 "metadata": {
  "kernelspec": {
   "display_name": "Python 3",
   "language": "python",
   "name": "python3"
  },
  "language_info": {
   "codemirror_mode": {
    "name": "ipython",
    "version": 3
   },
   "file_extension": ".py",
   "mimetype": "text/x-python",
   "name": "python",
   "nbconvert_exporter": "python",
   "pygments_lexer": "ipython3",
   "version": "3.12.10"
  }
 },
 "nbformat": 4,
 "nbformat_minor": 5
}
