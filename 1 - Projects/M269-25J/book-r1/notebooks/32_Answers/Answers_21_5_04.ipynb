{
 "cells": [
  {
   "cell_type": "markdown",
   "id": "0",
   "metadata": {},
   "source": [
    "#### Exercise 21.5.4 answer"
   ]
  },
  {
   "cell_type": "markdown",
   "id": "1",
   "metadata": {},
   "source": [
    "The algorithm that finds the connected components keeps a component counter\n",
    "and adds the nodes reached in each partial traversal to a map.\n",
    "There are two alternative ways to obtain the number of islands:\n",
    "\n",
    "- Change the algorithm to only keep the counter and not use a map.\n",
    "  When the algorithm stops, return the counter.\n",
    "- Apply the algorithm unchanged. Then do a linear search over the returned map\n",
    "  to find the highest component number."
   ]
  }
 ],
 "metadata": {
  "kernelspec": {
   "display_name": "Python 3",
   "language": "python",
   "name": "python3"
  },
  "language_info": {
   "codemirror_mode": {
    "name": "ipython",
    "version": 3
   },
   "file_extension": ".py",
   "mimetype": "text/x-python",
   "name": "python",
   "nbconvert_exporter": "python",
   "pygments_lexer": "ipython3",
   "version": "3.12.10"
  }
 },
 "nbformat": 4,
 "nbformat_minor": 5
}
