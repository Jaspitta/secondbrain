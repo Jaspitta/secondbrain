{
 "cells": [
  {
   "cell_type": "markdown",
   "id": "0",
   "metadata": {},
   "source": [
    "#### Exercise 12.6.3 answer"
   ]
  },
  {
   "cell_type": "code",
   "execution_count": 1,
   "id": "1",
   "metadata": {},
   "outputs": [],
   "source": [
    "def maximum(numbers: list) -> int:\n",
    "    \"\"\"Return the largest number in numbers.\n",
    "\n",
    "    Preconditions: numbers is a non-empty list of integers\n",
    "    \"\"\"\n",
    "\n",
    "    def in_slice(start: int, end: int) -> int:\n",
    "        \"\"\"Return the largest integer in slice numbers[start:end].\n",
    "\n",
    "        Preconditions: 0 <= start < end <= len(numbers)\n",
    "        \"\"\"\n",
    "        if start + 1 == end:\n",
    "            return numbers[start]\n",
    "        else:\n",
    "            return max(numbers[start], in_slice(start + 1, end))\n",
    "\n",
    "    return in_slice(0, len(numbers))"
   ]
  }
 ],
 "metadata": {
  "kernelspec": {
   "display_name": "Python 3",
   "language": "python",
   "name": "python3"
  },
  "language_info": {
   "codemirror_mode": {
    "name": "ipython",
    "version": 3
   },
   "file_extension": ".py",
   "mimetype": "text/x-python",
   "name": "python",
   "nbconvert_exporter": "python",
   "pygments_lexer": "ipython3",
   "version": "3.12.10"
  }
 },
 "nbformat": 4,
 "nbformat_minor": 5
}
