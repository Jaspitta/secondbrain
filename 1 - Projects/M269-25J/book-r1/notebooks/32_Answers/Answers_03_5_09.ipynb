{
 "cells": [
  {
   "cell_type": "markdown",
   "id": "0",
   "metadata": {},
   "source": [
    "#### Exercise 3.5.9 answer"
   ]
  },
  {
   "cell_type": "markdown",
   "id": "1",
   "metadata": {},
   "source": [
    "My first algorithm checks the mutually exclusive and comprehensive conditions\n",
    "separately.\n",
    "\n",
    "1. if *year* mod 4 ≠ 0:\n",
    "   1. let *leap* be false\n",
    "1. if *year* mod 4 = 0 and *year* mod 100 ≠ 0:\n",
    "   1. let *leap* be true\n",
    "1. if *year* mod 100 = 0 and *year* mod 400 ≠ 0:\n",
    "   1. let *leap* be false\n",
    "1. if *year* mod 400 = 0:\n",
    "   1. let *leap* be true\n",
    "\n",
    "Next I use 'otherwise' to not re-check conditions that I know are false.\n",
    "\n",
    "1. if *year* mod 4 ≠ 0:\n",
    "   1. let *leap* be false\n",
    "1. otherwise if *year* mod 100 ≠ 0:\n",
    "   1. let *leap* be true\n",
    "1. otherwise if *year* mod 400 ≠ 0:\n",
    "   1. let *leap* be false\n",
    "1. otherwise:\n",
    "   1. let *leap* be true\n",
    "\n",
    "I notice that steps 3 and 4 assign the output variable to the opposite value\n",
    "of the condition in step&nbsp;3, so I can simplify those steps by using negation.\n",
    "\n",
    "1. if *year* mod 4 ≠ 0:\n",
    "   1. let *leap* be false\n",
    "1. otherwise if *year* mod 100 ≠ 0:\n",
    "   1. let *leap* be true\n",
    "1. otherwise:\n",
    "   1. let *leap* be not *year* mod 400 ≠ 0\n",
    "\n",
    "Step&nbsp;3.1 can be simplified because\n",
    "'not different from' is equivalent to 'is equal to'.\n",
    "\n",
    "1. if *year* mod 4 ≠ 0:\n",
    "   1. let *leap* be false\n",
    "1. otherwise if *year* mod 100 ≠ 0:\n",
    "   1. let *leap* be true\n",
    "1. otherwise:\n",
    "   1. let *leap* be *year* mod 400 = 0\n",
    "\n",
    "You may have checked conditions in the opposite order and obtained:\n",
    "\n",
    "1. if *year* mod 400 = 0:\n",
    "   1. let *leap* be true\n",
    "1. otherwise if *year* mod 100 = 0:\n",
    "   1. let *leap* be false\n",
    "1. otherwise:\n",
    "   1. let *leap* be *year* mod 4 = 0\n",
    "\n",
    "Other variations of the above are possible.\n",
    "\n",
    "Looking at the algorithm I see that the output is true when\n",
    "the year is divisible by 400 or\n",
    "when it's divisible by 4 but not 100. This leads to a much simpler algorithm:\n",
    "\n",
    "1. let *leap* be *year* mod 400 = 0 or (*year* mod 4 = 0 and *year* mod 100 ≠ 0)\n",
    "\n",
    "I can reformulate the postconditions accordingly,\n",
    "which I'll do in the Python docstring."
   ]
  }
 ],
 "metadata": {
  "kernelspec": {
   "display_name": "Python 3",
   "language": "python",
   "name": "python3"
  },
  "language_info": {
   "codemirror_mode": {
    "name": "ipython",
    "version": 3
   },
   "file_extension": ".py",
   "mimetype": "text/x-python",
   "name": "python",
   "nbconvert_exporter": "python",
   "pygments_lexer": "ipython3",
   "version": "3.12.10"
  }
 },
 "nbformat": 4,
 "nbformat_minor": 5
}
