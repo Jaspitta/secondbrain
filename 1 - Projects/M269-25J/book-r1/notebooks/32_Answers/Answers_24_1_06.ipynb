{
 "cells": [
  {
   "cell_type": "markdown",
   "id": "0",
   "metadata": {},
   "source": [
    "#### Exercise 24.1.6 answer"
   ]
  },
  {
   "cell_type": "markdown",
   "id": "1",
   "metadata": {},
   "source": [
    "Create the [reverse graph](../21_Graphs_2/21_6_summary.ipynb) and\n",
    "apply Dijkstra's algorithm once to it, with *assembly* being the start node.\n",
    "This finds the shortest paths from *assembly* to each other node,\n",
    "which are the same paths as in the original graph from each node to *assembly*,\n",
    "but with the order of the nodes reversed.\n",
    "\n",
    "Reversing the paths doesn't matter, since we only want to know their length, so\n",
    "after applying Dijkstra's algorithm on the reverse graph,\n",
    "iterate over all nodes to count those with a distance to *assembly*\n",
    "that doesn't exceed *time*."
   ]
  }
 ],
 "metadata": {
  "kernelspec": {
   "display_name": "Python 3",
   "language": "python",
   "name": "python3"
  },
  "language_info": {
   "codemirror_mode": {
    "name": "ipython",
    "version": 3
   },
   "file_extension": ".py",
   "mimetype": "text/x-python",
   "name": "python",
   "nbconvert_exporter": "python",
   "pygments_lexer": "ipython3",
   "version": "3.12.10"
  }
 },
 "nbformat": 4,
 "nbformat_minor": 5
}
