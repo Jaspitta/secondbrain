{
 "cells": [
  {
   "cell_type": "markdown",
   "id": "0",
   "metadata": {},
   "source": [
    "#### Exercise 12.5.3 answer"
   ]
  },
  {
   "cell_type": "markdown",
   "id": "1",
   "metadata": {},
   "source": [
    "The insight is similar to the indexing operation:\n",
    "inserting an item in the *n*-th position of a sequence\n",
    "is the same as inserting it in the *n*−1-th position of the tail,\n",
    "and inserting in position 0 means to prepend it.\n",
    "\n",
    "- if *index* is 0: insert(*items*, *item*, *index*) = prepend(*item*, *items*)\n",
    "- otherwise: insert(*items*, *item*, *index*) = prepend(head(*items*), insert(tail(*items*), *item*, *index* − 1))"
   ]
  }
 ],
 "metadata": {
  "kernelspec": {
   "display_name": "Python 3",
   "language": "python",
   "name": "python3"
  },
  "language_info": {
   "codemirror_mode": {
    "name": "ipython",
    "version": 3
   },
   "file_extension": ".py",
   "mimetype": "text/x-python",
   "name": "python",
   "nbconvert_exporter": "python",
   "pygments_lexer": "ipython3",
   "version": "3.12.10"
  }
 },
 "nbformat": 4,
 "nbformat_minor": 5
}
