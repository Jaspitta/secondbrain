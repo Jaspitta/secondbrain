{
 "cells": [
  {
   "cell_type": "markdown",
   "id": "0",
   "metadata": {},
   "source": [
    "#### Exercise 7.3.6 answer"
   ]
  },
  {
   "cell_type": "markdown",
   "id": "1",
   "metadata": {},
   "source": [
    "Here's one possible translation to Python of the algorithm's outline\n",
    "in the previous exercise."
   ]
  },
  {
   "cell_type": "code",
   "execution_count": 1,
   "id": "2",
   "metadata": {},
   "outputs": [
    {
     "name": "stdout",
     "output_type": "stream",
     "text": [
      "Testing counting_rhyme...\n",
      "Tests finished: 3 passed (100%), 0 failed.\n"
     ]
    }
   ],
   "source": [
    "%run -i ../m269_queue\n",
    "\n",
    "from algoesup import test\n",
    "\n",
    "\n",
    "def counting_rhyme(n: int) -> int:\n",
    "    \"\"\"Return which child from 1 to n remains last in the circle.\n",
    "\n",
    "    Preconditions: n > 0\n",
    "    \"\"\"\n",
    "    circle = Queue()\n",
    "    for child in range(1, n + 1):\n",
    "        circle.enqueue(child)\n",
    "    for round in range(n - 1):\n",
    "        # in each round, the child on syllable 28 leaves the circle\n",
    "        for syllable in range(27):\n",
    "            circle.enqueue(circle.dequeue())\n",
    "        circle.dequeue()\n",
    "    return circle.front()\n",
    "\n",
    "\n",
    "counting_rhyme_tests = [\n",
    "    # case,         n,  last child\n",
    "    ['1 child',     1,          1],\n",
    "    ['2 children',  2,          1],\n",
    "    ['3 children',  3,          2]\n",
    "]\n",
    "\n",
    "test(counting_rhyme, counting_rhyme_tests)"
   ]
  }
 ],
 "metadata": {
  "kernelspec": {
   "display_name": "Python 3",
   "language": "python",
   "name": "python3"
  },
  "language_info": {
   "codemirror_mode": {
    "name": "ipython",
    "version": 3
   },
   "file_extension": ".py",
   "mimetype": "text/x-python",
   "name": "python",
   "nbconvert_exporter": "python",
   "pygments_lexer": "ipython3",
   "version": "3.12.10"
  }
 },
 "nbformat": 4,
 "nbformat_minor": 5
}
