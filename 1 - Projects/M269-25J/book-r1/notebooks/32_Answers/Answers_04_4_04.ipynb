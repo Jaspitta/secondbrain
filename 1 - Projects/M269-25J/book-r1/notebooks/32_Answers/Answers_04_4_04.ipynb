{
 "cells": [
  {
   "cell_type": "markdown",
   "id": "0",
   "metadata": {},
   "source": [
    "#### Exercise 4.4.4 answer"
   ]
  },
  {
   "cell_type": "markdown",
   "id": "1",
   "metadata": {},
   "source": [
    "The best-case scenario is passwords that have a lowercase letter and a digit\n",
    "as their first two characters. The loop executes two iterations,\n",
    "i.e. a fixed number of constant-time operations.\n",
    "\n",
    "The algorithm does the most work if it goes through the whole input string.\n",
    "Two scenarios can lead to this. If the password is invalid,\n",
    "the conditions are never both true, and the loop can't stop early.\n",
    "Another worst-case scenario is for the password to be valid\n",
    "but the second condition only becomes true with the last character,\n",
    "e.g. '221b' or 'Milton Keynes MK7'."
   ]
  }
 ],
 "metadata": {
  "kernelspec": {
   "display_name": "Python 3",
   "language": "python",
   "name": "python3"
  },
  "language_info": {
   "codemirror_mode": {
    "name": "ipython",
    "version": 3
   },
   "file_extension": ".py",
   "mimetype": "text/x-python",
   "name": "python",
   "nbconvert_exporter": "python",
   "pygments_lexer": "ipython3",
   "version": "3.12.10"
  }
 },
 "nbformat": 4,
 "nbformat_minor": 5
}
