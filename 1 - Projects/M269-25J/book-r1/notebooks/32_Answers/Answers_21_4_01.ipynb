{
 "cells": [
  {
   "cell_type": "markdown",
   "id": "0",
   "metadata": {},
   "source": [
    "#### Exercise 21.4.1 answer"
   ]
  },
  {
   "cell_type": "markdown",
   "id": "1",
   "metadata": {},
   "source": [
    "1. There's one node per square and for each of the three move distances,\n",
    "   so $n = 3rc$.\n",
    "1. Each node has at most four edges, because at most one move is possible\n",
    "   in each direction in each state, so $e \\leq 4n = 12rc$.\n",
    "1. The complexity is thus Θ($n + e$) = Θ($3rc + 12rc$) = Θ($rc$)."
   ]
  }
 ],
 "metadata": {
  "kernelspec": {
   "display_name": "Python 3",
   "language": "python",
   "name": "python3"
  },
  "language_info": {
   "codemirror_mode": {
    "name": "ipython",
    "version": 3
   },
   "file_extension": ".py",
   "mimetype": "text/x-python",
   "name": "python",
   "nbconvert_exporter": "python",
   "pygments_lexer": "ipython3",
   "version": "3.12.10"
  }
 },
 "nbformat": 4,
 "nbformat_minor": 5
}
