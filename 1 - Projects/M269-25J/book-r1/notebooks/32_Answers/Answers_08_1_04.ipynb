{
 "cells": [
  {
   "cell_type": "markdown",
   "id": "0",
   "metadata": {},
   "source": [
    "#### Exercise 8.1.4 answer"
   ]
  },
  {
   "cell_type": "markdown",
   "id": "1",
   "metadata": {},
   "source": [
    "1. If the priorities are known in advance, we can use a lookup table,\n",
    "   possibly with a hash function (if priorities aren't integers).\n",
    "   If the hash function takes constant time, so will the three operations.\n",
    "2. Even without knowing the priorities in advance, in most real-life cases\n",
    "   the number of priorities is a small number, so operations that\n",
    "   are linear in the number of priorities take effectively constant time.\n",
    "   Unless the priority queue never grows much, using a map is preferable.\n",
    "\n",
    "This exercise shows that the most obvious data representation,\n",
    "e.g. a sorted sequence for a priority queue, is not always the best."
   ]
  }
 ],
 "metadata": {
  "kernelspec": {
   "display_name": "Python 3",
   "language": "python",
   "name": "python3"
  },
  "language_info": {
   "codemirror_mode": {
    "name": "ipython",
    "version": 3
   },
   "file_extension": ".py",
   "mimetype": "text/x-python",
   "name": "python",
   "nbconvert_exporter": "python",
   "pygments_lexer": "ipython3",
   "version": "3.12.10"
  }
 },
 "nbformat": 4,
 "nbformat_minor": 5
}
