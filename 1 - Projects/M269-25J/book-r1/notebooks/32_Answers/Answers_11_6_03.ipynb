{
 "cells": [
  {
   "cell_type": "markdown",
   "id": "0",
   "metadata": {},
   "source": [
    "#### Exercise 11.6.3 answer"
   ]
  },
  {
   "cell_type": "markdown",
   "id": "1",
   "metadata": {},
   "source": [
    "All operations within the loops take constant time, so the complexity\n",
    "just depends on how many candidates are generated and tested.\n",
    "\n",
    "In a best-case scenario, the first two items are duplicates and\n",
    "the algorithm stops after the first iteration of each loop.\n",
    "The best-case complexity is constant.\n",
    "\n",
    "In a worst-case scenario, no items are duplicates and the algorithm\n",
    "generates and tests all non-symmetric pairs. If there are *n* items, there are\n",
    "roughly *n*² / 2&nbsp;such pairs, so the worst-case complexity is quadratic."
   ]
  }
 ],
 "metadata": {
  "kernelspec": {
   "display_name": "Python 3",
   "language": "python",
   "name": "python3"
  },
  "language_info": {
   "codemirror_mode": {
    "name": "ipython",
    "version": 3
   },
   "file_extension": ".py",
   "mimetype": "text/x-python",
   "name": "python",
   "nbconvert_exporter": "python",
   "pygments_lexer": "ipython3",
   "version": "3.12.10"
  }
 },
 "nbformat": 4,
 "nbformat_minor": 5
}
