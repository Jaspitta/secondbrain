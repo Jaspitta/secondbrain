{
 "cells": [
  {
   "cell_type": "markdown",
   "id": "0",
   "metadata": {},
   "source": [
    "#### Exercise 8.4.4 answer"
   ]
  },
  {
   "cell_type": "markdown",
   "id": "1",
   "metadata": {},
   "source": [
    "The algorithm keeps a set of the schools which already have a certificate.\n",
    "If a team's school isn't in that set, then the team gets a certificate\n",
    "and the school is added to the set."
   ]
  },
  {
   "cell_type": "code",
   "execution_count": 1,
   "id": "2",
   "metadata": {},
   "outputs": [],
   "source": [
    "def certificates(ranking: list) -> list:\n",
    "    best_teams = []\n",
    "    awarded_schools = set()\n",
    "    for team in ranking:\n",
    "        school = team[:-1]  # school name without digit\n",
    "        if school not in awarded_schools:\n",
    "            awarded_schools.add(school)\n",
    "            best_teams.append(team)\n",
    "    return best_teams\n",
    "\n",
    "\n",
    "certificates_tests = [\n",
    "    # case,         ranking,                    certificates\n",
    "    ('3 schools',   ['C1','B2','B1','A1','C2'], ['C1','B2','A1']),\n",
    "    # new tests:\n",
    "    ('1 team',      ['A1'],                     ['A1']),\n",
    "    ('1 school',    ['C3', 'C1', 'C2'],         ['C3']),\n",
    "    ('1 team per school', ['C1', 'B1', 'A1'],   ['C1', 'B1', 'A1'])\n",
    "]"
   ]
  },
  {
   "cell_type": "markdown",
   "id": "3",
   "metadata": {},
   "source": [
    "<div class=\"alert alert-info\">\n",
    "<strong>Info:</strong> This exercise is based on problem\n",
    "<a href=\"https://open.kattis.com/problems/icpcawards\">ICPC Awards</a>.\n",
    "</div>"
   ]
  }
 ],
 "metadata": {
  "kernelspec": {
   "display_name": "Python 3",
   "language": "python",
   "name": "python3"
  },
  "language_info": {
   "codemirror_mode": {
    "name": "ipython",
    "version": 3
   },
   "file_extension": ".py",
   "mimetype": "text/x-python",
   "name": "python",
   "nbconvert_exporter": "python",
   "pygments_lexer": "ipython3",
   "version": "3.12.10"
  }
 },
 "nbformat": 4,
 "nbformat_minor": 5
}
