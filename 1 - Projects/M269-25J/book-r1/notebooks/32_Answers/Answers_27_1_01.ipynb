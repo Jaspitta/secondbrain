{
 "cells": [
  {
   "cell_type": "markdown",
   "id": "0",
   "metadata": {},
   "source": [
    "#### Exercise 27.1.1 answer"
   ]
  },
  {
   "cell_type": "markdown",
   "id": "1",
   "metadata": {},
   "source": [
    "Besides the 'start' state, we need three states 'letter', 'digit' and 'both'\n",
    "to remember what symbols have been read. When the first symbol is read,\n",
    "the state changes from 'start' to 'letter' or 'digit'.\n",
    "As further symbols are read, the state remains the same or changes to 'both'\n",
    "when the other symbol is read.\n",
    "\n",
    "When the current symbol is blank,\n",
    "the machine writes true if the state is 'both', otherwise it writes false.\n",
    "The head stays over the Boolean symbol to indicate that's the output.\n",
    "The machine stays in the current state.\n",
    "There's no transition for when the current symbol is a Boolean,\n",
    "so the machine stops."
   ]
  }
 ],
 "metadata": {
  "kernelspec": {
   "display_name": "Python 3",
   "language": "python",
   "name": "python3"
  },
  "language_info": {
   "codemirror_mode": {
    "name": "ipython",
    "version": 3
   },
   "file_extension": ".py",
   "mimetype": "text/x-python",
   "name": "python",
   "nbconvert_exporter": "python",
   "pygments_lexer": "ipython3",
   "version": "3.12.10"
  }
 },
 "nbformat": 4,
 "nbformat_minor": 5
}
