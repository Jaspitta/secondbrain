{
 "cells": [
  {
   "cell_type": "markdown",
   "id": "0",
   "metadata": {},
   "source": [
    "#### Exercise 3.5.2 answer"
   ]
  },
  {
   "cell_type": "markdown",
   "id": "1",
   "metadata": {},
   "source": [
    "The boundary values are one (signal isn't strong enough)\n",
    "and two (it's strong enough).\n",
    "I add a test case where the flight mode overrides the signal strength.\n",
    "\n",
    "Case | *flight mode* | *signal strength* | *make calls*\n",
    "-|-|-|-\n",
    "weak signal | false | 1 | false\n",
    "strong enough | false | 2 | true\n",
    "flight mode on | true | 4 | false"
   ]
  }
 ],
 "metadata": {
  "kernelspec": {
   "display_name": "Python 3",
   "language": "python",
   "name": "python3"
  },
  "language_info": {
   "codemirror_mode": {
    "name": "ipython",
    "version": 3
   },
   "file_extension": ".py",
   "mimetype": "text/x-python",
   "name": "python",
   "nbconvert_exporter": "python",
   "pygments_lexer": "ipython3",
   "version": "3.12.10"
  }
 },
 "nbformat": 4,
 "nbformat_minor": 5
}
