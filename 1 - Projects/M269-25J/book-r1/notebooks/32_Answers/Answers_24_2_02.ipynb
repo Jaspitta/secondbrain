{
 "cells": [
  {
   "cell_type": "markdown",
   "id": "0",
   "metadata": {},
   "source": [
    "#### Exercise 24.2.2 answer"
   ]
  },
  {
   "cell_type": "markdown",
   "id": "1",
   "metadata": {},
   "source": [
    "For this problem,\n",
    "we must visit *all* nodes currently with degree zero in the same iteration,\n",
    "which corresponds to all possible tasks in the current week,\n",
    "and from them compute the nodes to visit in the next iteration,\n",
    "i.e. the tasks for the following week.\n",
    "\n",
    "We therefore need two collections of nodes, for the current and\n",
    "for the next week's tasks. The outline of the algorithm is as follows.\n",
    "\n",
    "1. Initialise the counter of the weeks needing additional people to zero.\n",
    "1. Create a collection with the current week's tasks, i.e.\n",
    "   with all nodes with in-degree zero, as in Kahn's algorithm.\n",
    "1. While there are current tasks:\n",
    "   1. If there are more current tasks than the number of people P,\n",
    "      increment the counter.\n",
    "   2. Initialise the next week's tasks with the empty collection.\n",
    "   3. For each current task, decrement the degree of each of its out-neighbours\n",
    "      and if the degree reaches zero,\n",
    "      add that out-neighbour to the next week's tasks.\n",
    "   4. Let the current tasks be the next week's tasks.\n",
    "1. Finally, return the value of the counter.\n",
    "\n",
    "Contrary to the\n",
    "[topological sort algorithm](../21_Graphs_2/21_3_topological.ipynb#21.3.2-Algorithm-and-code),\n",
    "this one doesn't remove tasks from the current week (the nodes to visit),\n",
    "so the collection doesn't have to be a set, queue or stack:\n",
    "it can be a simple sequence."
   ]
  }
 ],
 "metadata": {
  "kernelspec": {
   "display_name": "Python 3",
   "language": "python",
   "name": "python3"
  },
  "language_info": {
   "codemirror_mode": {
    "name": "ipython",
    "version": 3
   },
   "file_extension": ".py",
   "mimetype": "text/x-python",
   "name": "python",
   "nbconvert_exporter": "python",
   "pygments_lexer": "ipython3",
   "version": "3.12.10"
  }
 },
 "nbformat": 4,
 "nbformat_minor": 5
}
