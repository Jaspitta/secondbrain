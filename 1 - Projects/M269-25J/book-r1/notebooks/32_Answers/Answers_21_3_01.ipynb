{
 "cells": [
  {
   "cell_type": "markdown",
   "id": "0",
   "metadata": {},
   "source": [
    "#### Exercise 21.3.1 answer"
   ]
  },
  {
   "cell_type": "markdown",
   "id": "1",
   "metadata": {},
   "source": [
    "Method `in_degree(A)` goes through all nodes to check if `A` is\n",
    "each node's out-neighbour. This takes Θ(*n*).\n",
    "The complexity of Alice's loop is *n* × (Θ(*n*) + Θ(1)) = Θ(*n*²).\n",
    "\n",
    "By contrast, the earlier version of Kahn's algorithm takes Θ(*n*+*e*)\n",
    "to initialise `indegree` and `to_visit`. Since *e* is much less than *n*²\n",
    "for most graphs, the original code is more efficient."
   ]
  }
 ],
 "metadata": {
  "kernelspec": {
   "display_name": "Python 3",
   "language": "python",
   "name": "python3"
  },
  "language_info": {
   "codemirror_mode": {
    "name": "ipython",
    "version": 3
   },
   "file_extension": ".py",
   "mimetype": "text/x-python",
   "name": "python",
   "nbconvert_exporter": "python",
   "pygments_lexer": "ipython3",
   "version": "3.12.10"
  }
 },
 "nbformat": 4,
 "nbformat_minor": 5
}
