{
 "cells": [
  {
   "cell_type": "markdown",
   "id": "0",
   "metadata": {},
   "source": [
    "#### Exercise 27.2.1 answer"
   ]
  },
  {
   "cell_type": "markdown",
   "id": "1",
   "metadata": {},
   "source": [
    "Since 'X' may occur in the input, we need a new marker symbol that is\n",
    "neither a letter nor 0 nor 1, e.g. '!'.\n",
    "To mark and skip letters, we need one transition per letter for each state:\n",
    "```python\n",
    "    ('start', 'a'):     ('!', RIGHT, 'up'),\n",
    "    ...\n",
    "    ('start', 'Z'):     ('!', RIGHT, 'up'),\n",
    "    ('up', 'a'):        ('a', RIGHT, 'up'),\n",
    "    ...\n",
    "    ('up', 'Z'):        ('Z', RIGHT, 'up'),\n",
    "    ('back', 'a'):      ('a', LEFT, 'back'),\n",
    "    ...\n",
    "    ('back', 'Z'):      ('Z', LEFT, 'back'),\n",
    "```\n",
    "In addition, we must change the transition that restarts the counting,\n",
    "after the head returns to the last marked position.\n",
    "With a single marker symbol we can't remember which letter was at that position,\n",
    "so we simply keep the marker. The transition\n",
    "```python\n",
    "    ('back', 'X'):      ('a', RIGHT, 'start')\n",
    "```\n",
    "is changed to\n",
    "```python\n",
    "    ('back', '!'):      ('!', RIGHT, 'start')\n",
    "```"
   ]
  }
 ],
 "metadata": {
  "kernelspec": {
   "display_name": "Python 3",
   "language": "python",
   "name": "python3"
  },
  "language_info": {
   "codemirror_mode": {
    "name": "ipython",
    "version": 3
   },
   "file_extension": ".py",
   "mimetype": "text/x-python",
   "name": "python",
   "nbconvert_exporter": "python",
   "pygments_lexer": "ipython3",
   "version": "3.12.10"
  }
 },
 "nbformat": 4,
 "nbformat_minor": 5
}
