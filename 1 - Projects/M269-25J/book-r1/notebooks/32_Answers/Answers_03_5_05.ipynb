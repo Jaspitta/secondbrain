{
 "cells": [
  {
   "cell_type": "markdown",
   "id": "0",
   "metadata": {},
   "source": [
    "#### Exercise 3.5.5 answer"
   ]
  },
  {
   "cell_type": "markdown",
   "id": "1",
   "metadata": {},
   "source": [
    "1. My function definition is as follows:\n",
    "\n",
    "**Function**: maximum\\\n",
    "**Inputs**: *left*, a real number; *right*, a real number\\\n",
    "**Preconditions**: true\\\n",
    "**Output**: *largest*, a real number\\\n",
    "**Postconditions**:\n",
    "*largest* = *left* if *left* > *right*, otherwise *largest* = *right*\n",
    "\n",
    "Although the output can only be one of two values (either *left* or *right*),\n",
    "we can't treat them as if they were Booleans and use 'if and only if' in the\n",
    "postconditions. The following is wrong because it doesn't specify\n",
    "which of the infinitely many real numbers the output is when *left* ≤ *right*.\n",
    "\n",
    "**Postconditions**: *largest* = *left* if and only if *left* > *right*\n",
    "\n",
    "2. My test table uses a mix of integers and decimal numbers and\n",
    "   has one test case for each possible relationship between the inputs.\n",
    "\n",
    "Case | *left* | *right* | *largest*\n",
    "-|-|-|-\n",
    "*left* > *right*  | 5  | 3.5  | 5\n",
    "*left* < *right*  | −5.3  | 3.5  | 3.5\n",
    "*left* = *right*  | −3  | −3  |  −3"
   ]
  }
 ],
 "metadata": {
  "kernelspec": {
   "display_name": "Python 3",
   "language": "python",
   "name": "python3"
  },
  "language_info": {
   "codemirror_mode": {
    "name": "ipython",
    "version": 3
   },
   "file_extension": ".py",
   "mimetype": "text/x-python",
   "name": "python",
   "nbconvert_exporter": "python",
   "pygments_lexer": "ipython3",
   "version": "3.12.10"
  }
 },
 "nbformat": 4,
 "nbformat_minor": 5
}
