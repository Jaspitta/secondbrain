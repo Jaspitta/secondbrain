{
 "cells": [
  {
   "cell_type": "markdown",
   "id": "0",
   "metadata": {},
   "source": [
    "#### Exercise 13.5.3 answer"
   ]
  },
  {
   "cell_type": "markdown",
   "id": "1",
   "metadata": {},
   "source": [
    "Since the numbers are in ascending order and unique,\n",
    "if the middle number is larger than its index, as happens in (1, 2, 3),\n",
    "then all numbers to its right are also larger than their indices.\n",
    "So we search the left half.\n",
    "Vice versa, if the middle number is below its index, as in (-1, 0, 2),\n",
    "so are the numbers to the left, so we search the right half.\n",
    "\n",
    "Here's a recursive algorithm for right_place(*numbers*, *start*, *end*)\n",
    "with precondition 0 ≤ *start* ≤ *end* ≤ │*numbers*│:\n",
    "\n",
    "1. if *end* = *start*:\n",
    "   1. let *found* be false\n",
    "2. otherwise:\n",
    "   1. let *middle* be *start* + floor((*end* − *start*) / 2)\n",
    "   2. if *numbers*[*middle*] = *middle*:\n",
    "      1. let *found* be true\n",
    "   2. otherwise if *numbers*[*middle*] < *middle*:\n",
    "      1. let *found* be right_place(*numbers*, *middle* + 1, *end*)\n",
    "   2. otherwise:\n",
    "      1. let *found* be right_place(*numbers*, *start*, *middle*)\n",
    "\n",
    "Neither recursive search includes the middle number, so the slice is decreased."
   ]
  }
 ],
 "metadata": {
  "kernelspec": {
   "display_name": "Python 3",
   "language": "python",
   "name": "python3"
  },
  "language_info": {
   "codemirror_mode": {
    "name": "ipython",
    "version": 3
   },
   "file_extension": ".py",
   "mimetype": "text/x-python",
   "name": "python",
   "nbconvert_exporter": "python",
   "pygments_lexer": "ipython3",
   "version": "3.12.10"
  }
 },
 "nbformat": 4,
 "nbformat_minor": 5
}
