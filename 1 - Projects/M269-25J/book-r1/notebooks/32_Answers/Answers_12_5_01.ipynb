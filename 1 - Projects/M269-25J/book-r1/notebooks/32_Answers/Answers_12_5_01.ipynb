{
 "cells": [
  {
   "cell_type": "markdown",
   "id": "0",
   "metadata": {},
   "source": [
    "#### Exercise 12.5.1 answer"
   ]
  },
  {
   "cell_type": "code",
   "execution_count": 1,
   "id": "1",
   "metadata": {},
   "outputs": [],
   "source": [
    "def positive(numbers: list) -> list:\n",
    "    \"\"\"Return a new list of all positive numbers in the input.\n",
    "\n",
    "    Preconditions: all elements of numbers are integers or floats\n",
    "    Postconditions:\n",
    "    the output's elements are in the same order as in the input\n",
    "    \"\"\"\n",
    "    if is_empty(numbers):\n",
    "        return []\n",
    "    else:\n",
    "        solutions = positive(tail(numbers))\n",
    "        if head(numbers) > 0:\n",
    "            solutions = prepend(head(numbers), solutions)\n",
    "        return solutions\n",
    "\n",
    "\n",
    "positive_tests = [\n",
    "    # case,             numbers,        positive\n",
    "    ('shortest input',  [],             []),\n",
    "    # new tests:\n",
    "    ('no positives',    [-1, 0, -3],    []),\n",
    "    ('all positive',    [1, 3],         [1, 3]),\n",
    "    ('mixed signs',     [3, 0, -1, 2],  [3, 2])\n",
    "]"
   ]
  }
 ],
 "metadata": {
  "kernelspec": {
   "display_name": "Python 3",
   "language": "python",
   "name": "python3"
  },
  "language_info": {
   "codemirror_mode": {
    "name": "ipython",
    "version": 3
   },
   "file_extension": ".py",
   "mimetype": "text/x-python",
   "name": "python",
   "nbconvert_exporter": "python",
   "pygments_lexer": "ipython3",
   "version": "3.12.10"
  }
 },
 "nbformat": 4,
 "nbformat_minor": 5
}
