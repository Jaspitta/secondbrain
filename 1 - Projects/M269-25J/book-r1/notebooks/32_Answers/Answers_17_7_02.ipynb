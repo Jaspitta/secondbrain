{
 "cells": [
  {
   "cell_type": "markdown",
   "id": "0",
   "metadata": {},
   "source": [
    "#### Exercise 17.7.2 answer"
   ]
  },
  {
   "cell_type": "markdown",
   "id": "1",
   "metadata": {},
   "source": [
    "The simplest algorithm is to first check if *n* – 1 = *e* for the input graph.\n",
    "If it isn't, the graph can't be a tree. If it is, use the algorithm from\n",
    "the previous exercise to check if the input graph is connected.\n",
    "\n",
    "An alternative, less efficient approach is based on the following reasoning.\n",
    "If the input is a tree, there's only one path between each pair of nodes.\n",
    "The traversal therefore has no choice in how to reach the other nodes from the start.\n",
    "The traversed subgraph will be the whole tree.\n",
    "\n",
    "The algorithm does a traversal from some start node and then checks if\n",
    "every node and edge of the input graph is also in the generated subgraph.\n",
    "Since the input graph is undirected but the output graph is directed, we must\n",
    "check for each edge (A, B) of the input if (A, B) or (B, A) are in the output."
   ]
  }
 ],
 "metadata": {
  "kernelspec": {
   "display_name": "Python 3",
   "language": "python",
   "name": "python3"
  },
  "language_info": {
   "codemirror_mode": {
    "name": "ipython",
    "version": 3
   },
   "file_extension": ".py",
   "mimetype": "text/x-python",
   "name": "python",
   "nbconvert_exporter": "python",
   "pygments_lexer": "ipython3",
   "version": "3.12.10"
  }
 },
 "nbformat": 4,
 "nbformat_minor": 5
}
