{
 "cells": [
  {
   "cell_type": "markdown",
   "id": "0",
   "metadata": {},
   "source": [
    "### 30.3.7 Reversal"
   ]
  },
  {
   "cell_type": "markdown",
   "id": "1",
   "metadata": {
    "nbsphinx-toctree": {
     "hidden": true,
     "maxdepth": 1,
     "numbered": false
    }
   },
   "source": [
    "1. [Exercise 4.7.1 answer](Answers_04_7_01.ipynb)\n",
    "1. [Exercise 4.7.2 answer](Answers_04_7_02.ipynb)\n",
    "1. [Exercise 4.7.3 answer](Answers_04_7_03.ipynb)\n",
    "1. [Exercise 4.7.4 answer](Answers_04_7_04.ipynb)\n",
    "1. [Exercise 4.7.5 answer](Answers_04_7_05.ipynb)\n",
    "1. [Exercise 4.7.6 answer](Answers_04_7_06.ipynb)\n",
    "1. [Exercise 4.7.7 answer](Answers_04_7_07.ipynb)"
   ]
  },
  {
   "cell_type": "markdown",
   "id": "2",
   "metadata": {},
   "source": [
    "⟵ [Previous section](Answers_03.ipynb) | [Up](32-introduction.ipynb) | [Next section](Answers_06.ipynb) ⟶"
   ]
  }
 ],
 "metadata": {
  "kernelspec": {
   "display_name": "Python 3",
   "language": "python",
   "name": "python3"
  },
  "language_info": {
   "codemirror_mode": {
    "name": "ipython",
    "version": 3
   },
   "file_extension": ".py",
   "mimetype": "text/x-python",
   "name": "python",
   "nbconvert_exporter": "python",
   "pygments_lexer": "ipython3",
   "version": "3.12.10"
  }
 },
 "nbformat": 4,
 "nbformat_minor": 5
}
