{
 "cells": [
  {
   "cell_type": "markdown",
   "id": "0",
   "metadata": {},
   "source": [
    "#### Exercise 7.2.5 answer"
   ]
  },
  {
   "cell_type": "markdown",
   "id": "1",
   "metadata": {},
   "source": [
    "Create an empty stack that will contain the operands.\n",
    "Iterate over the sequence representing the expression.\n",
    "If the item is a number, push it on the stack.\n",
    "If the item is a character, peek and pop the right operand\n",
    "(because it was pushed last),\n",
    "then peek and pop the left operand.\n",
    "Apply the operation given by the operator character to both operands and\n",
    "push the result back on the stack.\n",
    "After the sequence is processed, there's only one number in the stack:\n",
    "the value of the expression."
   ]
  }
 ],
 "metadata": {
  "kernelspec": {
   "display_name": "Python 3",
   "language": "python",
   "name": "python3"
  },
  "language_info": {
   "codemirror_mode": {
    "name": "ipython",
    "version": 3
   },
   "file_extension": ".py",
   "mimetype": "text/x-python",
   "name": "python",
   "nbconvert_exporter": "python",
   "pygments_lexer": "ipython3",
   "version": "3.12.10"
  }
 },
 "nbformat": 4,
 "nbformat_minor": 5
}
