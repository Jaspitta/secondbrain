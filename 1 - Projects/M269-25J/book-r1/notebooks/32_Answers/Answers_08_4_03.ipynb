{
 "cells": [
  {
   "cell_type": "markdown",
   "id": "0",
   "metadata": {},
   "source": [
    "#### Exercise 8.4.3 answer"
   ]
  },
  {
   "cell_type": "markdown",
   "id": "1",
   "metadata": {},
   "source": [
    "1. The expression constructs a potentially large set,\n",
    "   if the intersection has many members, only to check if it's non-empty.\n",
    "   This wastes time and memory.\n",
    "2. Compare the sizes of both sets to determine the smaller one.\n",
    "   Iterate over it, checking if each member is in the larger set.\n",
    "   If it is, the sets aren't disjoint: stop and return false.\n",
    "   After iterating over the whole set, return true: no common member was found.\n",
    "3. This approach doesn't construct a set, thus saving memory.\n",
    "   A worst-case scenario is when the sets are disjoint:\n",
    "   the algorithm is linear in the size of the shortest set, like the expression.\n",
    "   In a best-case scenario, a common item is found after a few iterations:\n",
    "   the best-case complexity is constant."
   ]
  }
 ],
 "metadata": {
  "kernelspec": {
   "display_name": "Python 3",
   "language": "python",
   "name": "python3"
  },
  "language_info": {
   "codemirror_mode": {
    "name": "ipython",
    "version": 3
   },
   "file_extension": ".py",
   "mimetype": "text/x-python",
   "name": "python",
   "nbconvert_exporter": "python",
   "pygments_lexer": "ipython3",
   "version": "3.12.10"
  }
 },
 "nbformat": 4,
 "nbformat_minor": 5
}
