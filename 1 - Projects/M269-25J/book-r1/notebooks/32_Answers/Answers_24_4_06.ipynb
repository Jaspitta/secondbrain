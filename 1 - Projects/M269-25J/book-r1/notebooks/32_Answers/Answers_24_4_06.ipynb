{
 "cells": [
  {
   "cell_type": "markdown",
   "id": "0",
   "metadata": {},
   "source": [
    "#### Exercise 24.4.6 answer"
   ]
  },
  {
   "cell_type": "markdown",
   "id": "1",
   "metadata": {},
   "source": [
    "Cell `cache[l][r]` may depend on cells\n",
    "`cache[l][r+1]` (same line, next column),\n",
    "`cache[l+1][r]` (next line, same column) and\n",
    "`cache[l+1][r+1]` (next line, next column).\n",
    "When `cache[l][r]` is computed,\n",
    "the cells below and to the right must already be filled.\n",
    "We therefore fill the cache bottom-up (last to first row)\n",
    "and left to right within each row (last to first column)."
   ]
  }
 ],
 "metadata": {
  "kernelspec": {
   "display_name": "Python 3",
   "language": "python",
   "name": "python3"
  },
  "language_info": {
   "codemirror_mode": {
    "name": "ipython",
    "version": 3
   },
   "file_extension": ".py",
   "mimetype": "text/x-python",
   "name": "python",
   "nbconvert_exporter": "python",
   "pygments_lexer": "ipython3",
   "version": "3.12.10"
  }
 },
 "nbformat": 4,
 "nbformat_minor": 5
}
