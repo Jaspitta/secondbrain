{
 "cells": [
  {
   "cell_type": "markdown",
   "id": "0",
   "metadata": {},
   "source": [
    "#### Exercise 11.6.11 answer"
   ]
  },
  {
   "cell_type": "markdown",
   "id": "1",
   "metadata": {},
   "source": [
    "One approach uses four nested loops, each iterating from 1 to 9.\n",
    "The PIN is computed from the four digits\n",
    "(1000 times first digit plus 100 times second digit, etc.) and\n",
    "an auxiliary function tests if the PIN and the digits satisfy the conditions:\n",
    "all digits are different and divide the PIN.\n",
    "If they do, the PIN is added to the solutions set.\n",
    "\n",
    "Another approach generates each 4-subset from the set {1, ..., 9} to guarantee\n",
    "by construction that all digits are different, and then generates\n",
    "all permutations of those four digits.\n",
    "Each such PIN is tested for divisibility by its digits."
   ]
  },
  {
   "cell_type": "markdown",
   "id": "2",
   "metadata": {},
   "source": [
    "<div class=\"alert alert-info\">\n",
    "<strong>Info:</strong> This exercise is adapted from problem\n",
    "[Heir’s Dilemma](https://open.kattis.com/problems/heirsdilemma).\n",
    "</div>"
   ]
  }
 ],
 "metadata": {
  "kernelspec": {
   "display_name": "Python 3",
   "language": "python",
   "name": "python3"
  },
  "language_info": {
   "codemirror_mode": {
    "name": "ipython",
    "version": 3
   },
   "file_extension": ".py",
   "mimetype": "text/x-python",
   "name": "python",
   "nbconvert_exporter": "python",
   "pygments_lexer": "ipython3",
   "version": "3.12.10"
  }
 },
 "nbformat": 4,
 "nbformat_minor": 5
}
