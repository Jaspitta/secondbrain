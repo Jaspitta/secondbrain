{
 "cells": [
  {
   "cell_type": "markdown",
   "id": "0",
   "metadata": {},
   "source": [
    "#### Exercise 9.2.5 answer"
   ]
  },
  {
   "cell_type": "code",
   "execution_count": 1,
   "id": "1",
   "metadata": {},
   "outputs": [
    {
     "name": "stdout",
     "output_type": "stream",
     "text": [
      "Testing winner...\n",
      "Tests finished: 7 passed (100%), 0 failed.\n"
     ]
    }
   ],
   "source": [
    "from algoesup import test\n",
    "\n",
    "\n",
    "def winner(votes: list) -> str:\n",
    "    results = dict()  # map candidate (str) to their votes (int)\n",
    "    for candidate in votes:\n",
    "        if candidate in results:\n",
    "            results[candidate] = results[candidate] + 1\n",
    "        else:\n",
    "            results[candidate] = 1\n",
    "    winner_votes = 0\n",
    "    for (candidate_name, candidate_votes) in results.items():\n",
    "        if candidate_votes > winner_votes:\n",
    "            winner_votes = candidate_votes\n",
    "            winner_name = candidate_name\n",
    "        elif candidate_votes == winner_votes:\n",
    "            winner_name = \"round 2\"\n",
    "    return winner_name\n",
    "\n",
    "\n",
    "winner_tests = [\n",
    "    # case,         votes,                              name\n",
    "    ['2 of 2 tied', ['Alice', 'Bob', 'Bob', 'Alice'],   'round 2'],\n",
    "    ['1 of 2 wins', ['Alice', 'Bob', 'Alice', 'Alice'], 'Alice'  ],\n",
    "    ['1 of 3 wins', ['Bob', 'Chan', 'Chan', 'Alice'],   'Chan'   ],\n",
    "    # new tests:\n",
    "    ['1 vote',      ['Chan'],                           'Chan'   ],\n",
    "    ['1 vote per candidate', ['Bob', 'Chan', 'Alice'],  'round 2'],\n",
    "    ['1 candidate', ['Bob'] * 5,                        'Bob'    ],\n",
    "    ['2 of 3 tied', ['Al', 'Bob', 'Chan', 'Al', 'Bob'], 'round 2']\n",
    "]\n",
    "\n",
    "test(winner, winner_tests)"
   ]
  },
  {
   "cell_type": "markdown",
   "id": "2",
   "metadata": {},
   "source": [
    "<div class=\"alert alert-info\">\n",
    "<strong>Info:</strong> This exercise is based on problem\n",
    "<a href=\"https://open.kattis.com/problems/recount\">Recount</a>.\n",
    "</div>"
   ]
  }
 ],
 "metadata": {
  "kernelspec": {
   "display_name": "Python 3",
   "language": "python",
   "name": "python3"
  },
  "language_info": {
   "codemirror_mode": {
    "name": "ipython",
    "version": 3
   },
   "file_extension": ".py",
   "mimetype": "text/x-python",
   "name": "python",
   "nbconvert_exporter": "python",
   "pygments_lexer": "ipython3",
   "version": "3.12.10"
  }
 },
 "nbformat": 4,
 "nbformat_minor": 5
}
