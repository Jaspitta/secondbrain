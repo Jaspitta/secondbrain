{
 "cells": [
  {
   "cell_type": "markdown",
   "id": "0",
   "metadata": {},
   "source": [
    "#### Exercise 7.1.2 answer"
   ]
  },
  {
   "cell_type": "markdown",
   "id": "1",
   "metadata": {},
   "source": [
    "**Operation**: pop\\\n",
    "**Inputs/Outputs**: *values*, a stack\\\n",
    "**Inputs**: none\\\n",
    "**Preconditions**: 0 < │*values*│\\\n",
    "**Postconditions**: post-*values* =\n",
    "(pre-*values*[0], ..., pre-*values*[│pre-*values*│ − 2])\n",
    "\n",
    "**Function**: peek\\\n",
    "**Inputs**: *values*, a stack\\\n",
    "**Preconditions**: 0 < │*values*│ \\\n",
    "**Output**: *value*, an object\\\n",
    "**Postconditions**: *value* is the *n*-th item of *values*, with *n* = │*values*│"
   ]
  }
 ],
 "metadata": {
  "kernelspec": {
   "display_name": "Python 3",
   "language": "python",
   "name": "python3"
  },
  "language_info": {
   "codemirror_mode": {
    "name": "ipython",
    "version": 3
   },
   "file_extension": ".py",
   "mimetype": "text/x-python",
   "name": "python",
   "nbconvert_exporter": "python",
   "pygments_lexer": "ipython3",
   "version": "3.12.10"
  }
 },
 "nbformat": 4,
 "nbformat_minor": 5
}
