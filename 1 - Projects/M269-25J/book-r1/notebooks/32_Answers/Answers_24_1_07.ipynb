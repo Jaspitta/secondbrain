{
 "cells": [
  {
   "cell_type": "markdown",
   "id": "0",
   "metadata": {},
   "source": [
    "#### Exercise 24.1.7 answer"
   ]
  },
  {
   "cell_type": "markdown",
   "id": "1",
   "metadata": {},
   "source": [
    "My algorithm takes Θ(*n* + *e*) to reverse the graph,\n",
    "O(*e* log *e*) to find all shortest paths and Θ(*n*) to count the nodes\n",
    "within the required distance. The complexity is Θ(*n* + *e*) + O(*e* log *e*).\n",
    "\n",
    "It's possible to simplify the complexity expression to\n",
    "O(*n* + *e* + *e* log *e*) = O(*n* + *e* log *e*) but it's more precise to\n",
    "indicate the complexity with a mix of Big-Theta and Big-Oh."
   ]
  },
  {
   "cell_type": "markdown",
   "id": "2",
   "metadata": {},
   "source": [
    "<div class=\"alert alert-info\">\n",
    "<strong>Info:</strong> These exercises are inspired by problem\n",
    "<a href=\"https://vjudge.net/problem/SPOJ-MICEMAZE\">Mice and Maze</a> from the\n",
    "2001 ACM ICPC Southwestern European Regional Contest.\n",
    "</div>"
   ]
  }
 ],
 "metadata": {
  "kernelspec": {
   "display_name": "Python 3",
   "language": "python",
   "name": "python3"
  },
  "language_info": {
   "codemirror_mode": {
    "name": "ipython",
    "version": 3
   },
   "file_extension": ".py",
   "mimetype": "text/x-python",
   "name": "python",
   "nbconvert_exporter": "python",
   "pygments_lexer": "ipython3",
   "version": "3.12.10"
  }
 },
 "nbformat": 4,
 "nbformat_minor": 5
}
