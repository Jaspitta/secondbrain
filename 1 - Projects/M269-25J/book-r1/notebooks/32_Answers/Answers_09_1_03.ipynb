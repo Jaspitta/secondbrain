{
 "cells": [
  {
   "cell_type": "markdown",
   "id": "0",
   "metadata": {},
   "source": [
    "#### Exercise 9.1.3 answer"
   ]
  },
  {
   "cell_type": "markdown",
   "id": "1",
   "metadata": {},
   "source": [
    "The shortest output (*missing* is the empty string) occurs when\n",
    "*text* is a pangram.\n",
    "The longest output (*missing* is the string 'abc..xyz') occurs when\n",
    "*text* hasn't any of 'a' to 'z'.\n",
    "However, creating a string of at most 26 characters\n",
    "takes constant time, so the length of the output doesn't affect the complexity.\n",
    "\n",
    "My first algorithm always does 26 linear searches over the string *text*:\n",
    "in the best case it has constant complexity\n",
    "(when all letters occur in the first 26 positions of *text*)\n",
    "and in the worst case it has complexity Θ(│*text*│).\n",
    "\n",
    "My second algorithm first goes through *text* to create a set of its characters:\n",
    "this has complexity Θ(│*text*│).\n",
    "Then it executes 26 membership operations on that set, which take constant time.\n",
    "\n",
    "My third algorithm first creates two sets, one with the 26 lowercase letters,\n",
    "the other with *text*'s characters: this has complexity Θ(│*text*│).\n",
    "All the remaining operations (set difference, sorting, constructing *missing*)\n",
    "take constant time: they handle at most 26 letters.\n",
    "\n",
    "To sum up, the first algorithm has constant complexity in the best case and\n",
    "linear complexity in the worst case.\n",
    "The other two algorithms always have linear complexity."
   ]
  }
 ],
 "metadata": {
  "kernelspec": {
   "display_name": "Python 3",
   "language": "python",
   "name": "python3"
  },
  "language_info": {
   "codemirror_mode": {
    "name": "ipython",
    "version": 3
   },
   "file_extension": ".py",
   "mimetype": "text/x-python",
   "name": "python",
   "nbconvert_exporter": "python",
   "pygments_lexer": "ipython3",
   "version": "3.12.10"
  }
 },
 "nbformat": 4,
 "nbformat_minor": 5
}
