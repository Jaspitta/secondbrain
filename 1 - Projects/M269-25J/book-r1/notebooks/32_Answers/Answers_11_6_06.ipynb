{
 "cells": [
  {
   "cell_type": "markdown",
   "id": "0",
   "metadata": {},
   "source": [
    "#### Exercise 11.6.6 answer"
   ]
  },
  {
   "cell_type": "markdown",
   "id": "1",
   "metadata": {},
   "source": [
    "This problem is a simplified version of the 0/1 knapsack, where\n",
    "there are only values instead of values and weights.\n",
    "The voucher amount plays the role of the knapsack's capacity.\n",
    "\n",
    "The algorithm sets the best difference to infinity\n",
    "and the solution to the empty set.\n",
    "Then it generates all subsets and for each one computes the difference between the voucher amount and the subset's price.\n",
    "If the difference isn't negative and is lower than the best one,\n",
    "then the best difference and the solution are updated."
   ]
  }
 ],
 "metadata": {
  "kernelspec": {
   "display_name": "Python 3",
   "language": "python",
   "name": "python3"
  },
  "language_info": {
   "codemirror_mode": {
    "name": "ipython",
    "version": 3
   },
   "file_extension": ".py",
   "mimetype": "text/x-python",
   "name": "python",
   "nbconvert_exporter": "python",
   "pygments_lexer": "ipython3",
   "version": "3.12.10"
  }
 },
 "nbformat": 4,
 "nbformat_minor": 5
}
