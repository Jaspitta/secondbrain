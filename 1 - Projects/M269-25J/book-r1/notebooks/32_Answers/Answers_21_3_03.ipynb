{
 "cells": [
  {
   "cell_type": "markdown",
   "id": "0",
   "metadata": {},
   "source": [
    "#### Exercise 21.3.3 answer"
   ]
  },
  {
   "cell_type": "markdown",
   "id": "1",
   "metadata": {},
   "source": [
    "1. I just need to check the sequence doesn't have all the *n* nodes of the digraph."
   ]
  },
  {
   "cell_type": "code",
   "execution_count": 1,
   "id": "2",
   "metadata": {},
   "outputs": [],
   "source": [
    "%run -i ../m269_digraph\n",
    "\n",
    "\n",
    "def is_cyclic(graph: DiGraph) -> bool:\n",
    "    \"\"\"Return True if and only if the graph has a cycle.\"\"\"\n",
    "    return len(topological_sort(graph)) < len(graph.nodes())"
   ]
  },
  {
   "cell_type": "markdown",
   "id": "3",
   "metadata": {},
   "source": [
    "The expression\n",
    "```python\n",
    "set(topological_sort(graph)) != graph.nodes()\n",
    "```\n",
    "would be correct too, but would take longer and use more memory\n",
    "because of the conversion to a set.\n",
    "\n",
    "2. Obtaining the graph's nodes always takes Θ(*n*). Computing and comparing\n",
    "   the sizes of the sequence and the set always takes Θ(1).\n",
    "   Kahn's algorithm takes Θ(*n* + *e*) when the digraph is acyclic.\n",
    "   If it's cyclic, the construction of the topological sort ends early.\n",
    "   So the worst-case scenario is an acyclic digraph and\n",
    "   the worst-case complexity is Θ(*n* + *e*) + Θ(*n*) + Θ(1) = Θ(*n* + *e*)."
   ]
  }
 ],
 "metadata": {
  "kernelspec": {
   "display_name": "Python 3",
   "language": "python",
   "name": "python3"
  },
  "language_info": {
   "codemirror_mode": {
    "name": "ipython",
    "version": 3
   },
   "file_extension": ".py",
   "mimetype": "text/x-python",
   "name": "python",
   "nbconvert_exporter": "python",
   "pygments_lexer": "ipython3",
   "version": "3.12.10"
  }
 },
 "nbformat": 4,
 "nbformat_minor": 5
}
