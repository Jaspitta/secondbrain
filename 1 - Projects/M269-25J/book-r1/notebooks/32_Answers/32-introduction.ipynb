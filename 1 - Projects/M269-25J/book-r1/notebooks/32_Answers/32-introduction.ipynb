{
 "cells": [
  {
   "cell_type": "markdown",
   "id": "0",
   "metadata": {},
   "source": [
    "# 30 Answers"
   ]
  },
  {
   "cell_type": "markdown",
   "id": "1",
   "metadata": {},
   "source": [
    "This chapter contains the answers for all exercises throughout the book."
   ]
  },
  {
   "cell_type": "markdown",
   "id": "2",
   "metadata": {
    "nbsphinx-toctree": {
     "hidden": true,
     "maxdepth": 1,
     "numbered": false
    }
   },
   "source": [
    "1. [Numbers and sequence](Answers_02.ipynb)\n",
    "1. [Booleans and selection](Answers_03.ipynb)\n",
    "1. [Sequences and iteration](Answers_04.ipynb)\n",
    "1. [Implementing sequences](Answers_06.ipynb)\n",
    "1. [Stacks and queues](Answers_07.ipynb)\n",
    "1. [Unordered collections](Answers_08.ipynb)\n",
    "1. [Practice 1](Answers_09.ipynb)\n",
    "1. [Exhaustive search](Answers_11.ipynb)\n",
    "1. [Recursion](Answers_12.ipynb)\n",
    "1. [Divide and conquer](Answers_13.ipynb)\n",
    "1. [Sorting](Answers_14.ipynb)\n",
    "1. [Rooted trees](Answers_16.ipynb)\n",
    "1. [Graphs 1](Answers_17.ipynb)\n",
    "1. [Greed](Answers_18.ipynb)\n",
    "1. [Practice 2](Answers_19.ipynb)\n",
    "1. [Graphs 2](Answers_21.ipynb)\n",
    "1. [Backtracking](Answers_22.ipynb)\n",
    "1. [Dynamic Programming](Answers_23.ipynb)\n",
    "1. [Practice 3](Answers_24.ipynb)\n",
    "1. [Complexity classes](Answers_26.ipynb)\n",
    "1. [Computability](Answers_27.ipynb)"
   ]
  },
  {
   "cell_type": "markdown",
   "id": "3",
   "metadata": {},
   "source": [
    "⟵ [Previous chapter](../31_Hints/31-introduction.ipynb) | [Up](../M269.ipynb) | [Next chapter](../33_Figures/33-introduction.ipynb) ⟶"
   ]
  }
 ],
 "metadata": {
  "kernelspec": {
   "display_name": "Python 3",
   "language": "python",
   "name": "python3"
  },
  "language_info": {
   "codemirror_mode": {
    "name": "ipython",
    "version": 3
   },
   "file_extension": ".py",
   "mimetype": "text/x-python",
   "name": "python",
   "nbconvert_exporter": "python",
   "pygments_lexer": "ipython3",
   "version": "3.12.10"
  }
 },
 "nbformat": 4,
 "nbformat_minor": 5
}
