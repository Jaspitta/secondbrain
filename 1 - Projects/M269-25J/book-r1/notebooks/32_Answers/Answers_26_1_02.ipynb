{
 "cells": [
  {
   "cell_type": "markdown",
   "id": "0",
   "metadata": {},
   "source": [
    "#### Exercise 26.1.2 answer"
   ]
  },
  {
   "cell_type": "markdown",
   "id": "1",
   "metadata": {},
   "source": [
    "The 0/1 knapsack problem has inputs *items* (a set or sequence) and\n",
    "*capacity* (an integer).\n",
    "The output is a subset or subsequence of *items*,\n",
    "so it could be produced in linear time.\n",
    "\n",
    "The dynamic programming approach has complexity Θ(│*items*│² × *capacity*).\n",
    "This is pseudo-polynomial: it's linear in the value of *capacity*  but\n",
    "exponential in the size of *capacity*.\n",
    "However, there's no proof in this book that a better algorithm doesn't exist.\n",
    "\n",
    "The exact complexity is thus at least polynomial (based on the output size) and\n",
    "at most non-polynomial. So we can't say if the problem is tractable or intractable."
   ]
  }
 ],
 "metadata": {
  "kernelspec": {
   "display_name": "Python 3",
   "language": "python",
   "name": "python3"
  },
  "language_info": {
   "codemirror_mode": {
    "name": "ipython",
    "version": 3
   },
   "file_extension": ".py",
   "mimetype": "text/x-python",
   "name": "python",
   "nbconvert_exporter": "python",
   "pygments_lexer": "ipython3",
   "version": "3.12.10"
  }
 },
 "nbformat": 4,
 "nbformat_minor": 5
}
