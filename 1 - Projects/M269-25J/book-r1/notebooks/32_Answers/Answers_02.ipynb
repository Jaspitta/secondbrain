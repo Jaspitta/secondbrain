{
 "cells": [
  {
   "cell_type": "markdown",
   "id": "0",
   "metadata": {},
   "source": [
    "## 30.1 Numbers and sequence"
   ]
  },
  {
   "cell_type": "markdown",
   "id": "1",
   "metadata": {
    "nbsphinx-toctree": {
     "hidden": true,
     "maxdepth": 1,
     "numbered": false
    }
   },
   "source": [
    "1. [Arithmetic operations](Answers_02_2.ipynb)\n",
    "1. [Expressions](Answers_02_3.ipynb)\n",
    "1. [Assignments](Answers_02_4.ipynb)\n",
    "1. [Functions in mathematics](Answers_02_5.ipynb)\n",
    "1. [Functions in Python](Answers_02_6.ipynb)\n",
    "1. [Complexity](Answers_02_7.ipynb)\n",
    "1. [Run-times](Answers_02_8.ipynb)"
   ]
  },
  {
   "cell_type": "markdown",
   "id": "2",
   "metadata": {},
   "source": [
    "⟵ [Previous section](32-introduction.ipynb) | [Up](32-introduction.ipynb) | [Next section](Answers_03.ipynb) ⟶"
   ]
  }
 ],
 "metadata": {
  "kernelspec": {
   "display_name": "Python 3",
   "language": "python",
   "name": "python3"
  },
  "language_info": {
   "codemirror_mode": {
    "name": "ipython",
    "version": 3
   },
   "file_extension": ".py",
   "mimetype": "text/x-python",
   "name": "python",
   "nbconvert_exporter": "python",
   "pygments_lexer": "ipython3",
   "version": "3.12.10"
  }
 },
 "nbformat": 4,
 "nbformat_minor": 5
}
