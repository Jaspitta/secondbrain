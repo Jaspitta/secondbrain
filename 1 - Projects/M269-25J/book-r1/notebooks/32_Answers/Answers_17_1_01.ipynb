{
 "cells": [
  {
   "cell_type": "markdown",
   "id": "0",
   "metadata": {},
   "source": [
    "#### Exercise 17.1.1 answer"
   ]
  },
  {
   "cell_type": "markdown",
   "id": "1",
   "metadata": {},
   "source": [
    "One can travel without changing trains between any two stations on the same line.\n",
    "The next figure shows the same graph drawn in two ways.\n",
    "The left layout obeys the geographical placement of the stations;\n",
    "the right layout avoids edges crossing.\n",
    "\n",
    "<p id=\"fig-17.1.5\"></p>\n",
    "\n",
    "*[Figure 17.1.5](../33_Figures/Figures_17_1.ipynb#Figure-17.1.5)*\n",
    "\n",
    "![Image 17_1_trains.png](17_1_trains.png)"
   ]
  }
 ],
 "metadata": {
  "kernelspec": {
   "display_name": "Python 3",
   "language": "python",
   "name": "python3"
  },
  "language_info": {
   "codemirror_mode": {
    "name": "ipython",
    "version": 3
   },
   "file_extension": ".py",
   "mimetype": "text/x-python",
   "name": "python",
   "nbconvert_exporter": "python",
   "pygments_lexer": "ipython3",
   "version": "3.12.10"
  }
 },
 "nbformat": 4,
 "nbformat_minor": 5
}
