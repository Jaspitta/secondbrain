{
 "cells": [
  {
   "cell_type": "markdown",
   "id": "0",
   "metadata": {},
   "source": [
    "#### Exercise 14.7.1 answer"
   ]
  },
  {
   "cell_type": "markdown",
   "id": "1",
   "metadata": {},
   "source": [
    "If all keys are the same, the sequence is sorted and two-way quicksort takes\n",
    "quadratic time, as seen in the previous section.\n",
    "\n",
    "Three-way quicksort puts all items in the *equal* partition.\n",
    "The recursive calls on the other two partitions return immediately because\n",
    "they're empty. The algorithm takes linear time to create the partitions\n",
    "and concatenate them again."
   ]
  }
 ],
 "metadata": {
  "kernelspec": {
   "display_name": "Python 3",
   "language": "python",
   "name": "python3"
  },
  "language_info": {
   "codemirror_mode": {
    "name": "ipython",
    "version": 3
   },
   "file_extension": ".py",
   "mimetype": "text/x-python",
   "name": "python",
   "nbconvert_exporter": "python",
   "pygments_lexer": "ipython3",
   "version": "3.12.10"
  }
 },
 "nbformat": 4,
 "nbformat_minor": 5
}
