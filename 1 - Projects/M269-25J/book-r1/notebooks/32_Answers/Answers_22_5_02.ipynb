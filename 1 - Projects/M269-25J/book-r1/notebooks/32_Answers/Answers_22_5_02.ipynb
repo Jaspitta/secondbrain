{
 "cells": [
  {
   "cell_type": "markdown",
   "id": "0",
   "metadata": {},
   "source": [
    "#### Exercise 22.5.2 answer"
   ]
  },
  {
   "cell_type": "markdown",
   "id": "1",
   "metadata": {},
   "source": [
    "To check if a path ends with node 0, we don't need the instance graph\n",
    "so we can omit the `instance` parameter of the template.\n",
    "\n",
    "I renamed the function to better reflect that the global constraint is\n",
    "for the candidate path to be a tour, i.e. to return to node 0.\n",
    "```python\n",
    "def is_tour(path: list) -> bool:\n",
    "    \"\"\"Check if the path ends at the start node.\"\"\"\n",
    "    return path[-1] == 0\n",
    "```"
   ]
  }
 ],
 "metadata": {
  "kernelspec": {
   "display_name": "Python 3",
   "language": "python",
   "name": "python3"
  },
  "language_info": {
   "codemirror_mode": {
    "name": "ipython",
    "version": 3
   },
   "file_extension": ".py",
   "mimetype": "text/x-python",
   "name": "python",
   "nbconvert_exporter": "python",
   "pygments_lexer": "ipython3",
   "version": "3.12.10"
  }
 },
 "nbformat": 4,
 "nbformat_minor": 5
}
