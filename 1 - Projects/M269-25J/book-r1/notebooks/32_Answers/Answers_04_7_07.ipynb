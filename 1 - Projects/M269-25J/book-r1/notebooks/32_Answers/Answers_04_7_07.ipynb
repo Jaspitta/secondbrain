{
 "cells": [
  {
   "cell_type": "markdown",
   "id": "0",
   "metadata": {},
   "source": [
    "#### Exercise 4.7.7 answer"
   ]
  },
  {
   "cell_type": "code",
   "execution_count": 1,
   "id": "1",
   "metadata": {},
   "outputs": [
    {
     "name": "stdout",
     "output_type": "stream",
     "text": [
      "Tests finished.\n"
     ]
    }
   ],
   "source": [
    "def reverse_in_place(values: list) -> None:\n",
    "    \"\"\"Reverse the order of the values.\n",
    "\n",
    "    Postconditions: post-values = [pre-values[len(pre-values) - 1],\n",
    "        ..., pre-values[1], pre-values[0]]\n",
    "    \"\"\"\n",
    "    left_index = 0\n",
    "    right_index = len(values) - 1\n",
    "    while left_index < right_index:\n",
    "        left_item = values[left_index]\n",
    "        values[left_index] = values[right_index]\n",
    "        values[right_index] = left_item\n",
    "        left_index = left_index + 1\n",
    "        right_index = right_index - 1\n",
    "\n",
    "\n",
    "reverse_list_tests = [\n",
    "    # case,             values,             reverse\n",
    "    ('empty list',      [],                 []              ),\n",
    "    ('length 1',        [4],                [4]             ),\n",
    "    ('length 2',        [5, True],          [True, 5]       ),\n",
    "    ('length 5',        [5, 6, 7, 8, 9],    [9, 8, 7, 6, 5] ),\n",
    "    ('same items',      [0, 0, 0],          [0, 0, 0]       )\n",
    "]\n",
    "\n",
    "# `algoesup.test` can only test functions that return values,\n",
    "# so I've written the testing code for you\n",
    "for test in reverse_list_tests:\n",
    "     name = test[0]\n",
    "     values = test[1]\n",
    "     reverse = test[2]\n",
    "     reverse_in_place(values)\n",
    "     if values != reverse:\n",
    "         print(name, 'FAILED:', values, 'instead of', reverse)\n",
    "print('Tests finished.')"
   ]
  }
 ],
 "metadata": {
  "kernelspec": {
   "display_name": "Python 3",
   "language": "python",
   "name": "python3"
  },
  "language_info": {
   "codemirror_mode": {
    "name": "ipython",
    "version": 3
   },
   "file_extension": ".py",
   "mimetype": "text/x-python",
   "name": "python",
   "nbconvert_exporter": "python",
   "pygments_lexer": "ipython3",
   "version": "3.12.10"
  }
 },
 "nbformat": 4,
 "nbformat_minor": 5
}
