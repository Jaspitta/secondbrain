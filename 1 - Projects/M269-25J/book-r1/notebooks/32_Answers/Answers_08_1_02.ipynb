{
 "cells": [
  {
   "cell_type": "markdown",
   "id": "0",
   "metadata": {},
   "source": [
    "#### Exercise 8.1.2 answer"
   ]
  },
  {
   "cell_type": "markdown",
   "id": "1",
   "metadata": {},
   "source": [
    "Find max: \\\n",
    "Iterate over the keys, doing a linear search for the highest key value\n",
    "(highest priority). Access the front item of the queue associated with that key.\n",
    "\n",
    "Remove max: \\\n",
    "Find the highest priority as in find max.\n",
    "Remove the front item of the associated queue. If it becomes empty,\n",
    "remove the highest priority and the queue from the dictionary.\n",
    "\n",
    "Add:\\\n",
    "See if the given priority is a key in the dictionary.\n",
    "If it is, add the given item to the back of the associated queue.\n",
    "It it isn't, add a new key–value pair, where the key is the priority\n",
    "and the value is a new FIFO queue with just the given item."
   ]
  }
 ],
 "metadata": {
  "kernelspec": {
   "display_name": "Python 3",
   "language": "python",
   "name": "python3"
  },
  "language_info": {
   "codemirror_mode": {
    "name": "ipython",
    "version": 3
   },
   "file_extension": ".py",
   "mimetype": "text/x-python",
   "name": "python",
   "nbconvert_exporter": "python",
   "pygments_lexer": "ipython3",
   "version": "3.12.10"
  }
 },
 "nbformat": 4,
 "nbformat_minor": 5
}
