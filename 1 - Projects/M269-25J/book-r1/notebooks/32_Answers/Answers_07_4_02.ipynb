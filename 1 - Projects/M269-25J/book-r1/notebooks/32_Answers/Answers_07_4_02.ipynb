{
 "cells": [
  {
   "cell_type": "markdown",
   "id": "0",
   "metadata": {},
   "source": [
    "#### Exercise 7.4.2 answer"
   ]
  },
  {
   "cell_type": "markdown",
   "id": "1",
   "metadata": {},
   "source": [
    "The priorities are in ascending order, so we do a linear search for\n",
    "the first priority that is higher than the priority of the new item.\n",
    "\n",
    "If existing items have the same priority as the new item, then the new item gets inserted in\n",
    "the first index of the existing items, so that it is removed last from the priority queue.\n",
    "\n",
    "In other words, as we go through the array of existing priorities,\n",
    "we skip all those that are lower than the new item's priority.\n",
    "If we reach the end of the array, the index is equal to the length:\n",
    "the new item will be appended. Here's one algorithm:\n",
    "\n",
    "1. for each *index* from 0 to │*priorities*│ − 1:\n",
    "   1. if *priorities*[*index*] ≥ *priority*:\n",
    "      1. stop\n",
    "2. let *index* be │*priorities*│\n",
    "\n",
    "Unfortunately, it's not a good one for this context.\n",
    "We usually translate 'stop' to a `return` statement, but here we can't return\n",
    "from the `insert` method at this point: we need to use the value of `index`.\n",
    "\n",
    "Here's a better algorithm,\n",
    "with the added benefit of making its gist (skip lower priorities) clearer.\n",
    "\n",
    "1. let *index* be 0\n",
    "2. while *index* < │*priorities*│ and *priorities*[*index*] < *priority*:\n",
    "   1. let *index* be *index* + 1\n",
    "\n",
    "This algorithm uses Python's short-circuit conjunction to avoid indexing\n",
    "the array beyond its end. It's an instructive exercise to\n",
    "rewrite the algorithm to not rely on short-circuiting."
   ]
  }
 ],
 "metadata": {
  "kernelspec": {
   "display_name": "Python 3",
   "language": "python",
   "name": "python3"
  },
  "language_info": {
   "codemirror_mode": {
    "name": "ipython",
    "version": 3
   },
   "file_extension": ".py",
   "mimetype": "text/x-python",
   "name": "python",
   "nbconvert_exporter": "python",
   "pygments_lexer": "ipython3",
   "version": "3.12.10"
  }
 },
 "nbformat": 4,
 "nbformat_minor": 5
}
