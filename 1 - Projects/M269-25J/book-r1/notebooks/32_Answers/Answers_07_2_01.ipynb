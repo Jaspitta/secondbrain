{
 "cells": [
  {
   "cell_type": "markdown",
   "id": "0",
   "metadata": {},
   "source": [
    "#### Exercise 7.2.1 answer"
   ]
  },
  {
   "cell_type": "markdown",
   "id": "1",
   "metadata": {},
   "source": [
    "All stack operations and comparisons take constant time.\n",
    "\n",
    "The least work is done when the loop stops in its first iteration.\n",
    "The best-case scenario is a closing bracket at the start of the string.\n",
    "The best-case complexity is constant.\n",
    "\n",
    "The algorithm does the most work if a decision can only be made\n",
    "after reaching the end of the string, in step&nbsp;3.\n",
    "A worst-case scenario is a balanced string.\n",
    "The worst-case complexity is linear in the length of the string.\n",
    "\n",
    "Other worst-case scenarios, with the same complexity obviously, are\n",
    "strings where the final character is a mismatched closing bracket and\n",
    "strings that have more opening than closing brackets, which otherwise match."
   ]
  }
 ],
 "metadata": {
  "kernelspec": {
   "display_name": "Python 3",
   "language": "python",
   "name": "python3"
  },
  "language_info": {
   "codemirror_mode": {
    "name": "ipython",
    "version": 3
   },
   "file_extension": ".py",
   "mimetype": "text/x-python",
   "name": "python",
   "nbconvert_exporter": "python",
   "pygments_lexer": "ipython3",
   "version": "3.12.10"
  }
 },
 "nbformat": 4,
 "nbformat_minor": 5
}
