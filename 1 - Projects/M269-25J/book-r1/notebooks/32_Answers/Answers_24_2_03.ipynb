{
 "cells": [
  {
   "cell_type": "markdown",
   "id": "0",
   "metadata": {},
   "source": [
    "#### Exercise 24.2.3 answer"
   ]
  },
  {
   "cell_type": "markdown",
   "id": "1",
   "metadata": {},
   "source": [
    "I've changed the variable names to better reflect the problem,\n",
    "but you didn't have to do it. Apart from name changes,\n",
    "I added three lines, indented four lines and changed another four."
   ]
  },
  {
   "cell_type": "code",
   "execution_count": 1,
   "id": "2",
   "metadata": {},
   "outputs": [],
   "source": [
    "%run -i ../m269_digraph\n",
    "\n",
    "\n",
    "def extra_staff(project: DiGraph, people: int) -> int:\n",
    "    \"\"\"Return how many weeks need more than people on the project.\n",
    "\n",
    "    Preconditions: project is acyclic, people ≥ 0\n",
    "    \"\"\"\n",
    "    # weeks needing extra staff\n",
    "    weeks = 0  # changed\n",
    "\n",
    "    # compute the initial in-degrees\n",
    "    indegree = dict()\n",
    "    for task in project.nodes():\n",
    "        indegree[task] = 0\n",
    "    for edge in project.edges():\n",
    "        indegree[edge[1]] = indegree[edge[1]] + 1\n",
    "\n",
    "    # compute the tasks that can be executed first\n",
    "    current_week = []\n",
    "    for task in project.nodes():\n",
    "        if indegree[task] == 0:\n",
    "            current_week.append(task)\n",
    "\n",
    "    while len(current_week) > 0:\n",
    "        if len(current_week) > people:  # changed\n",
    "            weeks = weeks + 1  # changed\n",
    "\n",
    "        next_week = []  # added\n",
    "        for task in current_week:  # added\n",
    "            # simulate the removal of the executed task\n",
    "            for next_task in project.neighbours(task):\n",
    "                indegree[next_task] = indegree[next_task] - 1\n",
    "                if indegree[next_task] == 0:\n",
    "                    next_week.append(next_task)\n",
    "        current_week = next_week  # added\n",
    "\n",
    "    return weeks  # changed"
   ]
  },
  {
   "cell_type": "markdown",
   "id": "3",
   "metadata": {},
   "source": [
    "<div class=\"alert alert-info\">\n",
    "<strong>Info:</strong> These exercises are based on problem <em>Hard Weeks</em> from the\n",
    "[2014 Portuguese Inter-University Programming Marathon](http://github.com/miup2014/problem-set/raw/master/problem-set.pdf).\n",
    "</div>"
   ]
  }
 ],
 "metadata": {
  "kernelspec": {
   "display_name": "Python 3",
   "language": "python",
   "name": "python3"
  },
  "language_info": {
   "codemirror_mode": {
    "name": "ipython",
    "version": 3
   },
   "file_extension": ".py",
   "mimetype": "text/x-python",
   "name": "python",
   "nbconvert_exporter": "python",
   "pygments_lexer": "ipython3",
   "version": "3.12.10"
  }
 },
 "nbformat": 4,
 "nbformat_minor": 5
}
