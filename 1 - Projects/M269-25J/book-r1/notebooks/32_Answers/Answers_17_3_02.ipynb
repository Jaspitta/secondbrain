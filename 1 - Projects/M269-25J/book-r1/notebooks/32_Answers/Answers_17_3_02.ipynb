{
 "cells": [
  {
   "cell_type": "markdown",
   "id": "0",
   "metadata": {},
   "source": [
    "#### Exercise 17.3.2 answer"
   ]
  },
  {
   "cell_type": "markdown",
   "id": "1",
   "metadata": {},
   "source": [
    "Operation | Implementation | Complexity\n",
    ":-|:-|:-\n",
    "add node A | add to the set of nodes | Θ(1)\n",
    "remove node A | remove A from the set of nodes and remove all pairs (A, B) and (B, A) from the set of edges | Θ(*e*)\n",
    "has edge (A, B) | check membership in the set of edges | Θ(1)\n",
    "add edge (A, B) | add to the set of edges | Θ(1)\n",
    "remove edge (A, B) | remove from the set of edges | Θ(1)\n",
    "in-neighbours of A | return all B such that (B, A) is in the set of edges | Θ(*e*)\n",
    "out-neighbours of A | return all B such that (A, B) is in the set of edges | Θ(*e*)\n",
    "in-degree of A | count edges of the form (B, A) in the set of edges | Θ(*e*)"
   ]
  }
 ],
 "metadata": {
  "kernelspec": {
   "display_name": "Python 3",
   "language": "python",
   "name": "python3"
  },
  "language_info": {
   "codemirror_mode": {
    "name": "ipython",
    "version": 3
   },
   "file_extension": ".py",
   "mimetype": "text/x-python",
   "name": "python",
   "nbconvert_exporter": "python",
   "pygments_lexer": "ipython3",
   "version": "3.12.10"
  }
 },
 "nbformat": 4,
 "nbformat_minor": 5
}
