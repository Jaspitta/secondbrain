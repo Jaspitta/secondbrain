{
 "cells": [
  {
   "cell_type": "markdown",
   "id": "0",
   "metadata": {},
   "source": [
    "#### Exercise 11.6.9 answer"
   ]
  },
  {
   "cell_type": "markdown",
   "id": "1",
   "metadata": {},
   "source": [
    "In the worst case, *s* isn't a substring of *t*.\n",
    "My algorithm will compute │*t*│ − │*s*│ slices, each taking Θ(│*s*│).\n",
    "The worst-case complexity is Θ((│*t*│ − │*s*│)×│*s*│).\n",
    "\n",
    "Usually *t* is much longer than *s*, e.g. *s* is a word and *t* is a document,\n",
    "so the complexity can be simplified to Θ(│*t*│×│*s*│)."
   ]
  }
 ],
 "metadata": {
  "kernelspec": {
   "display_name": "Python 3",
   "language": "python",
   "name": "python3"
  },
  "language_info": {
   "codemirror_mode": {
    "name": "ipython",
    "version": 3
   },
   "file_extension": ".py",
   "mimetype": "text/x-python",
   "name": "python",
   "nbconvert_exporter": "python",
   "pygments_lexer": "ipython3",
   "version": "3.12.10"
  }
 },
 "nbformat": 4,
 "nbformat_minor": 5
}
