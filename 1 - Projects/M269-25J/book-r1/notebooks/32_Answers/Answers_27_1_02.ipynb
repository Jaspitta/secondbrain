{
 "cells": [
  {
   "cell_type": "markdown",
   "id": "0",
   "metadata": {},
   "source": [
    "#### Exercise 27.1.2 answer"
   ]
  },
  {
   "cell_type": "code",
   "execution_count": 1,
   "id": "1",
   "metadata": {},
   "outputs": [
    {
     "name": "stdout",
     "output_type": "stream",
     "text": [
      "OK: the transition table passed the automatic checks\n"
     ]
    }
   ],
   "source": [
    "%run -i ../m269_tm\n",
    "\n",
    "VALID_IN = {\"0\", \"a\"}\n",
    "VALID_OUT = {True, False}\n",
    "\n",
    "is_valid = {\n",
    "    ('start', 'a'):     ('a', RIGHT, 'letter'),\n",
    "    ('start', '0'):     ('0', RIGHT, 'digit'),\n",
    "    ('start', None):    (False, STAY, 'start'),\n",
    "\n",
    "    ('letter', 'a'):    ('a', RIGHT, 'letter'),\n",
    "    ('letter', '0'):    ('0', RIGHT, 'both'),\n",
    "    ('letter', None):   (False, STAY, 'letter'),\n",
    "\n",
    "    ('digit', 'a'):     ('a', RIGHT, 'both'),\n",
    "    ('digit', '0'):     ('0', RIGHT, 'digit'),\n",
    "    ('digit', None):    (False, STAY, 'digit'),\n",
    "\n",
    "    ('both', 'a'):      ('a', RIGHT, 'both'),\n",
    "    ('both', '0'):      ('0', RIGHT, 'both'),\n",
    "    ('both', None):     (True, STAY, 'both'),\n",
    "}\n",
    "\n",
    "check_tm(is_valid, VALID_IN, VALID_OUT)"
   ]
  },
  {
   "cell_type": "markdown",
   "id": "2",
   "metadata": {},
   "source": [
    "When the output is written, the machine could change to a fifth state,\n",
    "e.g. named 'end' or 'stop', that has no transitions.\n",
    "However, there's no need for it:\n",
    "what makes the machine stop is the absence of transitions for Boolean symbols."
   ]
  }
 ],
 "metadata": {
  "kernelspec": {
   "display_name": "Python 3",
   "language": "python",
   "name": "python3"
  },
  "language_info": {
   "codemirror_mode": {
    "name": "ipython",
    "version": 3
   },
   "file_extension": ".py",
   "mimetype": "text/x-python",
   "name": "python",
   "nbconvert_exporter": "python",
   "pygments_lexer": "ipython3",
   "version": "3.12.10"
  }
 },
 "nbformat": 4,
 "nbformat_minor": 5
}
