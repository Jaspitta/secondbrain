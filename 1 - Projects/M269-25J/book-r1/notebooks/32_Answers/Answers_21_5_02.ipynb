{
 "cells": [
  {
   "cell_type": "markdown",
   "id": "0",
   "metadata": {},
   "source": [
    "#### Exercise 21.5.2 answer"
   ]
  },
  {
   "cell_type": "markdown",
   "id": "1",
   "metadata": {},
   "source": [
    "We can find connected components in undirected graphs, and\n",
    "weakly and strongly connected components in directed graphs.\n",
    "The graphs may be weighted, but the weights are ignored.\n",
    "\n",
    "To determine the islands we only need to know which land squares are\n",
    "vertically and horizontally adjacent to each other.\n",
    "There's no need for directed paths.\n",
    "Or put differently, the adjacency relation is symmetric.\n",
    "This means an undirected graph suffices. We need the\n",
    "algorithm for finding the connected components of an undirected graph."
   ]
  }
 ],
 "metadata": {
  "kernelspec": {
   "display_name": "Python 3",
   "language": "python",
   "name": "python3"
  },
  "language_info": {
   "codemirror_mode": {
    "name": "ipython",
    "version": 3
   },
   "file_extension": ".py",
   "mimetype": "text/x-python",
   "name": "python",
   "nbconvert_exporter": "python",
   "pygments_lexer": "ipython3",
   "version": "3.12.10"
  }
 },
 "nbformat": 4,
 "nbformat_minor": 5
}
