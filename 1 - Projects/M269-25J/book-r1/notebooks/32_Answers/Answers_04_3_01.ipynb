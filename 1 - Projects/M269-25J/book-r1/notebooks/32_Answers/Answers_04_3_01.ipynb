{
 "cells": [
  {
   "cell_type": "markdown",
   "id": "0",
   "metadata": {},
   "source": [
    "#### Exercise 4.3.1 answer"
   ]
  },
  {
   "cell_type": "markdown",
   "id": "1",
   "metadata": {},
   "source": [
    "The change is to swap the start and end indices and add 'down'.\n",
    "\n",
    "1. let *text* be 'hello'\n",
    "2. for each *index* from │*text*│ - 1 down to 0:\n",
    "   1. print *text*[*index*]\n",
    "\n",
    "The translation involves replacing 'down' by -1 and decrementing the end index."
   ]
  },
  {
   "cell_type": "code",
   "execution_count": 1,
   "id": "2",
   "metadata": {},
   "outputs": [
    {
     "name": "stdout",
     "output_type": "stream",
     "text": [
      "o\n",
      "l\n",
      "l\n",
      "e\n",
      "h\n"
     ]
    }
   ],
   "source": [
    "text = \"hello\"\n",
    "for index in range(len(text) - 1, -1, -1):\n",
    "    print(text[index])"
   ]
  }
 ],
 "metadata": {
  "kernelspec": {
   "display_name": "Python 3",
   "language": "python",
   "name": "python3"
  },
  "language_info": {
   "codemirror_mode": {
    "name": "ipython",
    "version": 3
   },
   "file_extension": ".py",
   "mimetype": "text/x-python",
   "name": "python",
   "nbconvert_exporter": "python",
   "pygments_lexer": "ipython3",
   "version": "3.12.10"
  }
 },
 "nbformat": 4,
 "nbformat_minor": 5
}
