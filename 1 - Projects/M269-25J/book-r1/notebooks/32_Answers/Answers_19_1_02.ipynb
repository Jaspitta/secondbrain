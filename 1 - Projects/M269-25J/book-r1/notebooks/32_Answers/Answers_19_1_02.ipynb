{
 "cells": [
  {
   "cell_type": "markdown",
   "id": "0",
   "metadata": {},
   "source": [
    "#### Exercise 19.1.2 answer"
   ]
  },
  {
   "cell_type": "markdown",
   "id": "1",
   "metadata": {},
   "source": [
    "In the worst-case scenario, each joust eliminates one, not two, knights,\n",
    "so there are *n* – 1 jousts, until one knight remains.\n",
    "\n",
    "Implementing the priority queue with a heap,\n",
    "adding or removing one knight to the queue takes logarithmic time.\n",
    "First, we add *n* knights to an initially empty queue:\n",
    "this takes log-linear time.\n",
    "Then, we remove two knights and add one back for each joust.\n",
    "The three operations take logarithmic time.\n",
    "Doing this *n* – 1 times takes log-linear time.\n",
    "\n",
    "The worst-case complexity of the whole algorithm is\n",
    "log-linear in the number of knights."
   ]
  }
 ],
 "metadata": {
  "kernelspec": {
   "display_name": "Python 3",
   "language": "python",
   "name": "python3"
  },
  "language_info": {
   "codemirror_mode": {
    "name": "ipython",
    "version": 3
   },
   "file_extension": ".py",
   "mimetype": "text/x-python",
   "name": "python",
   "nbconvert_exporter": "python",
   "pygments_lexer": "ipython3",
   "version": "3.12.10"
  }
 },
 "nbformat": 4,
 "nbformat_minor": 5
}
