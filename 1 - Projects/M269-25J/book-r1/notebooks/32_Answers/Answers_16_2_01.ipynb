{
 "cells": [
  {
   "cell_type": "markdown",
   "id": "0",
   "metadata": {},
   "source": [
    "#### Exercise 16.2.1 answer"
   ]
  },
  {
   "cell_type": "markdown",
   "id": "1",
   "metadata": {},
   "source": [
    "The height is the number of levels, so we must see which subtree has most levels\n",
    "and add one for the extra level of the root.\n",
    "\n",
    "- if *tree* is empty: height(*tree*) = 0\n",
    "- otherwise: height(*tree*) = max(height(left(*tree*)), height(right(*tree*))) + 1"
   ]
  }
 ],
 "metadata": {
  "kernelspec": {
   "display_name": "Python 3",
   "language": "python",
   "name": "python3"
  },
  "language_info": {
   "codemirror_mode": {
    "name": "ipython",
    "version": 3
   },
   "file_extension": ".py",
   "mimetype": "text/x-python",
   "name": "python",
   "nbconvert_exporter": "python",
   "pygments_lexer": "ipython3",
   "version": "3.12.10"
  }
 },
 "nbformat": 4,
 "nbformat_minor": 5
}
