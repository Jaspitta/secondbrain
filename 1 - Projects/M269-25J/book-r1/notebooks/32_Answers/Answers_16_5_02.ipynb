{
 "cells": [
  {
   "cell_type": "markdown",
   "id": "0",
   "metadata": {},
   "source": [
    "#### Exercise 16.5.2 answer"
   ]
  },
  {
   "cell_type": "markdown",
   "id": "1",
   "metadata": {},
   "source": [
    "In the general case, each call takes\n",
    "\n",
    "- Θ(1) to compute the height of an empty tree\n",
    "- Θ(*n* − 1) to compute the height of the other subtree\n",
    "- T(0) to check the empty subtree is balanced\n",
    "- T(*n* − 1) to check the other subtree\n",
    "- Θ(1) for the arithmetic and logical operations.\n",
    "\n",
    "The base case takes constant time, so:\n",
    "\n",
    "- if *n* = 0: T(0) = Θ(1)\n",
    "- if *n* > 0: T(*n*) = Θ(1) + Θ(*n* − 1) + T(0) + T(*n* − 1) + Θ(1)\n",
    "  = T(*n* − 1) + Θ(*n*).\n",
    "\n",
    "This leads to T(*n*) = Θ(*n*²).\n",
    "\n",
    "This was to be expected: the function is computing the height for each node's\n",
    "single subtree and computing the height requires traversing the whole subtree.\n",
    "It does a linear operation *n* times, so it takes quadratic time."
   ]
  }
 ],
 "metadata": {
  "kernelspec": {
   "display_name": "Python 3",
   "language": "python",
   "name": "python3"
  },
  "language_info": {
   "codemirror_mode": {
    "name": "ipython",
    "version": 3
   },
   "file_extension": ".py",
   "mimetype": "text/x-python",
   "name": "python",
   "nbconvert_exporter": "python",
   "pygments_lexer": "ipython3",
   "version": "3.12.10"
  }
 },
 "nbformat": 4,
 "nbformat_minor": 5
}
