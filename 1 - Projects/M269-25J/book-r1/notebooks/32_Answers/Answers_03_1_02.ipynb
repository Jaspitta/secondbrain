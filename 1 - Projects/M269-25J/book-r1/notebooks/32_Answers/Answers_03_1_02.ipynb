{
 "cells": [
  {
   "cell_type": "markdown",
   "id": "0",
   "metadata": {},
   "source": [
    "#### Exercise 3.1.2 answer"
   ]
  },
  {
   "cell_type": "markdown",
   "id": "1",
   "metadata": {},
   "source": [
    "With only two Boolean values available, the output of the negation operation\n",
    "is uniquely determined by stating that it's different from the input.\n",
    "\n",
    "**Function**: negation\\\n",
    "**Inputs**: *value*, a Boolean\\\n",
    "**Preconditions**: true\\\n",
    "**Output**: *negated*, a Boolean\\\n",
    "**Postconditions**: *negated* ≠ *value*\n",
    "\n",
    "You may have used other input and output variable names. Note that\n",
    "\n",
    "**Postconditions**: *negated* = not *value*\n",
    "\n",
    "doesn't really define the negation operation: it just shows the notation.\n",
    "It's like saying 'the addition of two numbers is the sum of two numbers':\n",
    "it states that the sum is the result of adding numbers,\n",
    "but it doesn't define addition, what the operation does.\n",
    "If you don't know beforehand what addition is, then the statement doesn't help you."
   ]
  }
 ],
 "metadata": {
  "kernelspec": {
   "display_name": "Python 3",
   "language": "python",
   "name": "python3"
  },
  "language_info": {
   "codemirror_mode": {
    "name": "ipython",
    "version": 3
   },
   "file_extension": ".py",
   "mimetype": "text/x-python",
   "name": "python",
   "nbconvert_exporter": "python",
   "pygments_lexer": "ipython3",
   "version": "3.12.10"
  }
 },
 "nbformat": 4,
 "nbformat_minor": 5
}
