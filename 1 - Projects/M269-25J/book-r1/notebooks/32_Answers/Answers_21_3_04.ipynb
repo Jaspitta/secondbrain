{
 "cells": [
  {
   "cell_type": "markdown",
   "id": "0",
   "metadata": {},
   "source": [
    "#### Exercise 21.3.4 answer"
   ]
  },
  {
   "cell_type": "markdown",
   "id": "1",
   "metadata": {},
   "source": [
    "1. For a cycle to exist there must be at least two nodes A and B such that\n",
    "   there is a path from A to B and from B to A. But that's the same as saying\n",
    "   that A and B are mutually reachable and therefore in the same strongly\n",
    "   connected component. Thus, if there's a cycle there must be\n",
    "   a component with two or more nodes, and vice versa,\n",
    "   if there's a component with two or more nodes, that component has a cycle.\n",
    "1. The worst-case scenario for Bob's algorithm is to go through the whole graph\n",
    "   without finding a component with two or more nodes,\n",
    "   i.e. the input is acyclic.\n",
    "   Bob's algorithm has the same worst-case complexity as the original\n",
    "   algorithm for strongly connected components, Θ(*n*×(*n*+*e*)),\n",
    "   which isn't more efficient than using Kahn's."
   ]
  }
 ],
 "metadata": {
  "kernelspec": {
   "display_name": "Python 3",
   "language": "python",
   "name": "python3"
  },
  "language_info": {
   "codemirror_mode": {
    "name": "ipython",
    "version": 3
   },
   "file_extension": ".py",
   "mimetype": "text/x-python",
   "name": "python",
   "nbconvert_exporter": "python",
   "pygments_lexer": "ipython3",
   "version": "3.12.10"
  }
 },
 "nbformat": 4,
 "nbformat_minor": 5
}
