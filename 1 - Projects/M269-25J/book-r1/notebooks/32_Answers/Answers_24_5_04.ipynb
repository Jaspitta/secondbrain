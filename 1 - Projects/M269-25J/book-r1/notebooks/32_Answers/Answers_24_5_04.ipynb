{
 "cells": [
  {
   "cell_type": "markdown",
   "id": "0",
   "metadata": {},
   "source": [
    "#### Exercise 24.5.4 answer"
   ]
  },
  {
   "cell_type": "markdown",
   "id": "1",
   "metadata": {},
   "source": [
    "Backtracking extends a candidate path but\n",
    "the path followed so far is irrelevant: only its last square\n",
    "(the square currently visited) matters.\n",
    "Whatever squares were visited before, the remaining path can only\n",
    "visit squares with a higher value than the current square.\n",
    "\n",
    "In other words, finding the longest remaining path only depends on\n",
    "the current square, not those visited before. The problem becomes:\n",
    "what's the length of the longest ascending path from square S?\n",
    "\n",
    "The original problem is equivalent to solving the new problem for each square\n",
    "in the grid and taking the largest of all lengths.\n",
    "\n",
    "Next we have to think whether there are overlapping subproblems.\n",
    "There may be different paths to reach the same square S,\n",
    "so the longest path from S onwards will be computed several times.\n",
    "More precisely, if S has *n* neighbours with lower numbers, then\n",
    "there are at least *n* paths that reach S and\n",
    "problem instance 'length of longest path from S' is solved at least *n* times.\n",
    "Consider the following grid, which is one of the provided tests.\n",
    "\n",
    "<p id=\"fig-24.5.2\"></p>\n",
    "\n",
    "*[Figure 24.5.2](../33_Figures/Figures_24_5.ipynb#Figure-24.5.2)*\n",
    "\n",
    "![Image 24_5_three_by_three.png](24_5_three_by_three.png)\n",
    "\n",
    "The problem instances 'length of longest path from square with 4' and\n",
    "'length of longest path from square with 2'\n",
    "overlap on common subproblem 'length of longest path from 5'.\n",
    "\n",
    "To sum up, there's only one subproblem per square but there may be\n",
    "several candidate paths per square because each square may be reached in\n",
    "several ways, which also means each subproblem may be solved several times.\n",
    "Since there are fewer subproblems than candidates and\n",
    "subproblems overlap, dynamic programming is more efficient than backtracking."
   ]
  }
 ],
 "metadata": {
  "kernelspec": {
   "display_name": "Python 3",
   "language": "python",
   "name": "python3"
  },
  "language_info": {
   "codemirror_mode": {
    "name": "ipython",
    "version": 3
   },
   "file_extension": ".py",
   "mimetype": "text/x-python",
   "name": "python",
   "nbconvert_exporter": "python",
   "pygments_lexer": "ipython3",
   "version": "3.12.10"
  }
 },
 "nbformat": 4,
 "nbformat_minor": 5
}
