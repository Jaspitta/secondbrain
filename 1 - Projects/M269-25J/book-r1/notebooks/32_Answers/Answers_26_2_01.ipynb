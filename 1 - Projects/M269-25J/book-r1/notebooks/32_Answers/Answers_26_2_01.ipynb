{
 "cells": [
  {
   "cell_type": "markdown",
   "id": "0",
   "metadata": {},
   "source": [
    "#### Exercise 26.2.1 answer"
   ]
  },
  {
   "cell_type": "markdown",
   "id": "1",
   "metadata": {},
   "source": [
    "1. The certificate is a tour of the graph with total weight not exceeding *w*.\n",
    "1. The verifier looks up the edge weights in the graph to calculate\n",
    "   the length of the tour given by the certificate and checks that\n",
    "   the length is at most *w*. This confirms that the answer is 'yes'.\n",
    "1. If the graph has *n* nodes, then the tour has *n* edges.\n",
    "   It takes Θ(*n*) to look up the edges' weights in the graph and\n",
    "   add them. It takes constant time to compare the obtained length with *w*."
   ]
  }
 ],
 "metadata": {
  "kernelspec": {
   "display_name": "Python 3",
   "language": "python",
   "name": "python3"
  },
  "language_info": {
   "codemirror_mode": {
    "name": "ipython",
    "version": 3
   },
   "file_extension": ".py",
   "mimetype": "text/x-python",
   "name": "python",
   "nbconvert_exporter": "python",
   "pygments_lexer": "ipython3",
   "version": "3.12.10"
  }
 },
 "nbformat": 4,
 "nbformat_minor": 5
}
