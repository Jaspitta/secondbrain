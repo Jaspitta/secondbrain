{
 "cells": [
  {
   "cell_type": "markdown",
   "id": "0",
   "metadata": {},
   "source": [
    "#### Exercise 24.3.2 answer"
   ]
  },
  {
   "cell_type": "markdown",
   "id": "1",
   "metadata": {},
   "source": [
    "The state transition graph is a directed weighted graph.\n",
    "Each node is one possible state of the book.\n",
    "The directed edges point to the possible next states. The weight of each edge\n",
    "states how many days it takes for the book to go from one state to the next.\n",
    "\n",
    "The information we need to capture is who has the book when,\n",
    "so the state of the book is a person–day pair.\n",
    "There's a transition, i.e. a directed edge,\n",
    "from (*person*, *day*) to (*person*, *next day*) with weight 1\n",
    "if the person keeps the book from one day to the next.\n",
    "\n",
    "If two people are at the same place on the same day D,\n",
    "then the book can pass from either of them to the other one: we have edges\n",
    "(*person 1*, D)⟶(*person 2*, D) and (*person 2*, D)⟶(*person 1*, D)\n",
    "with weight zero because the book is transferred on the same day.\n",
    "\n",
    "Here's the weighted digraph for the given schedule, with\n",
    "Alice, Bob and Celia abbreviated as A, B and C to make the diagram more compact:\n",
    "\n",
    "<p id=\"fig-24.3.1\"></p>\n",
    "\n",
    "*[Figure 24.3.1](../33_Figures/Figures_24_3.ipynb#Figure-24.3.1)*\n",
    "\n",
    "![Image 24_3_book.png](24_3_book.png)\n",
    "\n",
    "Once we create the graph from the schedule, we apply Dijkstra's algorithm\n",
    "to find all shortest paths from node (*lender*, Mon).\n",
    "We stop as soon as node (*borrower*, *day*) is reached, for any day of the week,\n",
    "and return the distance of that node.\n",
    "If Dijkstra's algorithm ends without reaching a node for the borrower,\n",
    "we return infinity."
   ]
  }
 ],
 "metadata": {
  "kernelspec": {
   "display_name": "Python 3",
   "language": "python",
   "name": "python3"
  },
  "language_info": {
   "codemirror_mode": {
    "name": "ipython",
    "version": 3
   },
   "file_extension": ".py",
   "mimetype": "text/x-python",
   "name": "python",
   "nbconvert_exporter": "python",
   "pygments_lexer": "ipython3",
   "version": "3.12.10"
  }
 },
 "nbformat": 4,
 "nbformat_minor": 5
}
