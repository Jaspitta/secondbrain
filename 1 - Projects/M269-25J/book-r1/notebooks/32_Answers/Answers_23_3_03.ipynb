{
 "cells": [
  {
   "cell_type": "markdown",
   "id": "0",
   "metadata": {},
   "source": [
    "#### Exercise 23.3.3 answer"
   ]
  },
  {
   "cell_type": "code",
   "execution_count": 1,
   "id": "1",
   "metadata": {},
   "outputs": [],
   "source": [
    "def knapsack_topdown(items: list, capacity: int) -> list:  # noqa: D103\n",
    "    def knapsack(index: int, capacity: int) -> list:\n",
    "        \"\"\"Return a subsequence of items[index:].\n",
    "\n",
    "        Preconditions: 0 ≤ index ≤ len(items) and 0 ≤ capacity\n",
    "        Postconditions: the output fits the capacity and maximises the value\n",
    "        \"\"\"\n",
    "        if cache[index][capacity] == None:\n",
    "            if index == len(items) or capacity == 0:\n",
    "                cache[index][capacity] = []\n",
    "            else:\n",
    "                item = items[index]\n",
    "                skip = knapsack(index + 1, capacity)\n",
    "                if item[WEIGHT] > capacity:\n",
    "                    cache[index][capacity] = skip\n",
    "                else:\n",
    "                    take = [item] + knapsack(index + 1, capacity - item[WEIGHT])\n",
    "                    if value(skip) > value(take):\n",
    "                        cache[index][capacity] = skip\n",
    "                    else:\n",
    "                        cache[index][capacity] = take\n",
    "            print(\"cache[\", index, \"][\", capacity, \"] =\", cache[index][capacity])\n",
    "        return cache[index][capacity]\n",
    "\n",
    "    cache = []\n",
    "    for index in range(len(items) + 1):\n",
    "        cache.append([None] * (capacity + 1))\n",
    "    return knapsack(0, capacity)"
   ]
  }
 ],
 "metadata": {
  "kernelspec": {
   "display_name": "Python 3",
   "language": "python",
   "name": "python3"
  },
  "language_info": {
   "codemirror_mode": {
    "name": "ipython",
    "version": 3
   },
   "file_extension": ".py",
   "mimetype": "text/x-python",
   "name": "python",
   "nbconvert_exporter": "python",
   "pygments_lexer": "ipython3",
   "version": "3.12.10"
  }
 },
 "nbformat": 4,
 "nbformat_minor": 5
}
