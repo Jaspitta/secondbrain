{
 "cells": [
  {
   "cell_type": "markdown",
   "id": "0",
   "metadata": {},
   "source": [
    "#### Exercise 21.2.1 answer"
   ]
  },
  {
   "cell_type": "code",
   "execution_count": 1,
   "id": "1",
   "metadata": {},
   "outputs": [],
   "source": [
    "%run -i ../m269_digraph.py\n",
    "%run -i ../m269_ungraph.py\n",
    "%run -i ../m269_queue\n",
    "%run -i ../m269_stack\n",
    "\n",
    "\n",
    "def weakly_connected_components(graph: DiGraph) -> dict:\n",
    "    \"\"\"Return the weakly connected components of graph.\n",
    "\n",
    "    Postconditions: the output maps each node to its component,\n",
    "    numbered from 1 onwards.\n",
    "    \"\"\"\n",
    "    undirected = UndirectedGraph()\n",
    "    for node in graph.nodes():\n",
    "        undirected.add_node(node)\n",
    "    for edge in graph.edges():\n",
    "        undirected.add_edge(edge[0], edge[1])\n",
    "    return connected_components(undirected)"
   ]
  }
 ],
 "metadata": {
  "kernelspec": {
   "display_name": "Python 3",
   "language": "python",
   "name": "python3"
  },
  "language_info": {
   "codemirror_mode": {
    "name": "ipython",
    "version": 3
   },
   "file_extension": ".py",
   "mimetype": "text/x-python",
   "name": "python",
   "nbconvert_exporter": "python",
   "pygments_lexer": "ipython3",
   "version": "3.12.10"
  }
 },
 "nbformat": 4,
 "nbformat_minor": 5
}
