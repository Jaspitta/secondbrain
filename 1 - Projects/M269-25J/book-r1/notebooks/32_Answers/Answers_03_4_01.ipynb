{
 "cells": [
  {
   "cell_type": "markdown",
   "id": "0",
   "metadata": {},
   "source": [
    "#### Exercise 3.4.1 answer"
   ]
  },
  {
   "cell_type": "markdown",
   "id": "1",
   "metadata": {},
   "source": [
    "1. if *mark* ≥ 80:\n",
    "    1.  let *pass* be 1\n",
    "1. otherwise if *mark* ≥ 60:\n",
    "    1.  let *pass* be 2\n",
    "1. otherwise if *mark* ≥ 50:\n",
    "    1.  let *pass* be 3\n",
    "1. otherwise if *mark* ≥ 40:\n",
    "    1.  let *pass* be 4\n",
    "1. otherwise:\n",
    "    1.  let *pass* be 5"
   ]
  }
 ],
 "metadata": {
  "kernelspec": {
   "display_name": "Python 3",
   "language": "python",
   "name": "python3"
  },
  "language_info": {
   "codemirror_mode": {
    "name": "ipython",
    "version": 3
   },
   "file_extension": ".py",
   "mimetype": "text/x-python",
   "name": "python",
   "nbconvert_exporter": "python",
   "pygments_lexer": "ipython3",
   "version": "3.12.10"
  }
 },
 "nbformat": 4,
 "nbformat_minor": 5
}
