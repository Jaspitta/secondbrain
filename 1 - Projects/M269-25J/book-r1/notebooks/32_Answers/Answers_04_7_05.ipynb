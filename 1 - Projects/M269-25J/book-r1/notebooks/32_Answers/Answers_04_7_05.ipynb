{
 "cells": [
  {
   "cell_type": "markdown",
   "id": "0",
   "metadata": {},
   "source": [
    "#### Exercise 4.7.5 answer"
   ]
  },
  {
   "cell_type": "markdown",
   "id": "1",
   "metadata": {},
   "source": [
    "Concatenation copies the items in both operands, so step&nbsp;2.1\n",
    "has complexity Θ(│*reverse*│ + 1) = Θ(│*reverse*│).\n",
    "The loop is executed for each item in *values*, so the complexity is quadratic:\n",
    "│*values*│ × Θ(│*reverse*│) = Θ(│*values*│ × │*reverse*│) =\n",
    "Θ(│*values*│ × │*values*│) = Θ(│*values*│²)."
   ]
  }
 ],
 "metadata": {
  "kernelspec": {
   "display_name": "Python 3",
   "language": "python",
   "name": "python3"
  },
  "language_info": {
   "codemirror_mode": {
    "name": "ipython",
    "version": 3
   },
   "file_extension": ".py",
   "mimetype": "text/x-python",
   "name": "python",
   "nbconvert_exporter": "python",
   "pygments_lexer": "ipython3",
   "version": "3.12.10"
  }
 },
 "nbformat": 4,
 "nbformat_minor": 5
}
