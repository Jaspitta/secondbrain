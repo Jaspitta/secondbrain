{
 "cells": [
  {
   "cell_type": "markdown",
   "id": "0",
   "metadata": {},
   "source": [
    "#### Exercise 14.3.1 answer"
   ]
  },
  {
   "cell_type": "markdown",
   "id": "1",
   "metadata": {},
   "source": [
    "If the in-place version is used, sorting a descending sequence takes\n",
    "linear time too. The in-place version changes the input sequence; so after\n",
    "the first `%timeit` loop of the first run sorts the descending sequence in quadratic time,\n",
    "all subsequent `%timeit` loops of all subsequent runs take linear time. In other words,\n",
    "only the first iteration of the first run is executed on the intended input,\n",
    "all other executions just measure how long it takes to sort an ascending sequence."
   ]
  },
  {
   "cell_type": "markdown",
   "id": "2",
   "metadata": {},
   "source": [
    "<div class=\"alert alert-warning\">\n",
    "<strong>Note:</strong> If an algorithm modifies the input, measure each of its executions\n",
    "on a new copy of the input.\n",
    "</div>"
   ]
  }
 ],
 "metadata": {
  "kernelspec": {
   "display_name": "Python 3",
   "language": "python",
   "name": "python3"
  },
  "language_info": {
   "codemirror_mode": {
    "name": "ipython",
    "version": 3
   },
   "file_extension": ".py",
   "mimetype": "text/x-python",
   "name": "python",
   "nbconvert_exporter": "python",
   "pygments_lexer": "ipython3",
   "version": "3.12.10"
  }
 },
 "nbformat": 4,
 "nbformat_minor": 5
}
