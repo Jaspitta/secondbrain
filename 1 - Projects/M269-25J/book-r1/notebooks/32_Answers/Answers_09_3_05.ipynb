{
 "cells": [
  {
   "cell_type": "markdown",
   "id": "0",
   "metadata": {},
   "source": [
    "#### Exercise 9.3.5 answer"
   ]
  },
  {
   "cell_type": "code",
   "execution_count": 1,
   "id": "1",
   "metadata": {},
   "outputs": [],
   "source": [
    "def pairs(store: list, voucher: int) -> set:\n",
    "    results = set()\n",
    "    products_by_price = []\n",
    "    for price in range(voucher):\n",
    "        products_by_price.append([])\n",
    "\n",
    "    for product in store:\n",
    "        price = product[1]\n",
    "        if price < voucher:\n",
    "            products_by_price[price].append(product)\n",
    "            for matched in products_by_price[voucher - price]:\n",
    "                results.add((matched, product))\n",
    "    return results"
   ]
  },
  {
   "cell_type": "markdown",
   "id": "2",
   "metadata": {},
   "source": [
    "<div class=\"alert alert-info\">\n",
    "<strong>Info:</strong> A simpler version of this problem, with a single matching pair, is a classic:\n",
    "it's <a href=\"https://leetcode.com/problems/two-sum/\">Two Sum</a> on LeetCode,\n",
    "<em>Store Credit</em>\n",
    "in Google Code Jam Africa 2010 (problem statement no longer available) and\n",
    "<a href=\"https://adventofcode.com/2020/day/1\">Report Repair</a> in Advent of Code 2020.\n",
    "</div>"
   ]
  }
 ],
 "metadata": {
  "kernelspec": {
   "display_name": "Python 3",
   "language": "python",
   "name": "python3"
  },
  "language_info": {
   "codemirror_mode": {
    "name": "ipython",
    "version": 3
   },
   "file_extension": ".py",
   "mimetype": "text/x-python",
   "name": "python",
   "nbconvert_exporter": "python",
   "pygments_lexer": "ipython3",
   "version": "3.12.10"
  }
 },
 "nbformat": 4,
 "nbformat_minor": 5
}
