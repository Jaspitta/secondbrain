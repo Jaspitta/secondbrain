{
 "cells": [
  {
   "cell_type": "markdown",
   "id": "0",
   "metadata": {},
   "source": [
    "#### Exercise 24.4.2 answer"
   ]
  },
  {
   "cell_type": "code",
   "execution_count": 1,
   "id": "1",
   "metadata": {},
   "outputs": [],
   "source": [
    "def edit(left: str, right: str) -> int:\n",
    "    \"\"\"Return the Levenshtein distance between the strings.\"\"\"\n",
    "    if left == \"\":\n",
    "        return len(right)\n",
    "    elif right == \"\":\n",
    "        return len(left)\n",
    "    elif left[0] == right[0]:\n",
    "        return edit(left[1:], right[1:])\n",
    "    else:\n",
    "        delete = 1 + edit(left[1:], right)  # delete left head\n",
    "        insert = 1 + edit(left, right[1:])  # insert right head\n",
    "        replace = 1 + edit(left[1:], right[1:])\n",
    "        return min(delete, insert, replace)"
   ]
  }
 ],
 "metadata": {
  "kernelspec": {
   "display_name": "Python 3",
   "language": "python",
   "name": "python3"
  },
  "language_info": {
   "codemirror_mode": {
    "name": "ipython",
    "version": 3
   },
   "file_extension": ".py",
   "mimetype": "text/x-python",
   "name": "python",
   "nbconvert_exporter": "python",
   "pygments_lexer": "ipython3",
   "version": "3.12.10"
  }
 },
 "nbformat": 4,
 "nbformat_minor": 5
}
