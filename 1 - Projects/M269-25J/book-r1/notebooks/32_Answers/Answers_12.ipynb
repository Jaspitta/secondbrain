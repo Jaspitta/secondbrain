{
 "cells": [
  {
   "cell_type": "markdown",
   "id": "0",
   "metadata": {},
   "source": [
    "## 30.9 Recursion"
   ]
  },
  {
   "cell_type": "markdown",
   "id": "1",
   "metadata": {
    "nbsphinx-toctree": {
     "hidden": true,
     "maxdepth": 1,
     "numbered": false
    }
   },
   "source": [
    "1. [Recursion on integers](Answers_12_2.ipynb)\n",
    "1. [Length of a sequence](Answers_12_3.ipynb)\n",
    "1. [Inspecting sequences](Answers_12_4.ipynb)\n",
    "1. [Creating sequences](Answers_12_5.ipynb)\n",
    "1. [Avoiding slicing](Answers_12_6.ipynb)\n",
    "1. [Multiple recursion](Answers_12_7.ipynb)"
   ]
  },
  {
   "cell_type": "markdown",
   "id": "2",
   "metadata": {},
   "source": [
    "⟵ [Previous section](Answers_11.ipynb) | [Up](32-introduction.ipynb) | [Next section](Answers_13.ipynb) ⟶"
   ]
  }
 ],
 "metadata": {
  "kernelspec": {
   "display_name": "Python 3",
   "language": "python",
   "name": "python3"
  },
  "language_info": {
   "codemirror_mode": {
    "name": "ipython",
    "version": 3
   },
   "file_extension": ".py",
   "mimetype": "text/x-python",
   "name": "python",
   "nbconvert_exporter": "python",
   "pygments_lexer": "ipython3",
   "version": "3.12.10"
  }
 },
 "nbformat": 4,
 "nbformat_minor": 5
}
