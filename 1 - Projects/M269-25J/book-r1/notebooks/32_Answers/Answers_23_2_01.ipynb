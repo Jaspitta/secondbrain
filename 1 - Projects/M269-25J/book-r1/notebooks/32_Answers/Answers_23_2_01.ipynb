{
 "cells": [
  {
   "cell_type": "markdown",
   "id": "0",
   "metadata": {},
   "source": [
    "#### Exercise 23.2.1 answer"
   ]
  },
  {
   "cell_type": "code",
   "execution_count": 1,
   "id": "1",
   "metadata": {},
   "outputs": [],
   "source": [
    "%run -i ../m269_rec_list\n",
    "\n",
    "\n",
    "def lcs(left: str, right: str) -> str:\n",
    "    \"\"\"Return the longest common subsequence of both strings.\"\"\"\n",
    "    if left == '' or right == '':\n",
    "        return ''\n",
    "    elif head(left) == head(right):\n",
    "        return head(left) + lcs(tail(left), tail(right))\n",
    "    else:\n",
    "        skip_right = lcs(left, tail(right))\n",
    "        skip_left = lcs(tail(left), right)\n",
    "        if len(skip_left) > len(skip_right):\n",
    "            return skip_left\n",
    "        else:\n",
    "            return skip_right"
   ]
  },
  {
   "cell_type": "markdown",
   "id": "2",
   "metadata": {},
   "source": [
    "When skipping the left or right head leads to equally long common subsequences,\n",
    "I choose to skip the right head. Writing `>=` instead of `>`\n",
    "would skip the left head instead in such cases.\n",
    "The following cell produces a different LCS depending on which head is skipped."
   ]
  },
  {
   "cell_type": "code",
   "execution_count": 2,
   "id": "3",
   "metadata": {},
   "outputs": [
    {
     "data": {
      "text/plain": [
       "'aa'"
      ]
     },
     "execution_count": 2,
     "metadata": {},
     "output_type": "execute_result"
    }
   ],
   "source": [
    "lcs(\"aba\", \"baca\")"
   ]
  },
  {
   "cell_type": "markdown",
   "id": "4",
   "metadata": {},
   "source": [
    "Instead of calling functions `head` and `tail` I could have written:\n",
    "```python\n",
    "    ...\n",
    "    elif left[0] == right[0]:\n",
    "        return left[0] + lcs(left[1:], right[1:])\n",
    "    else:\n",
    "        skip_left = lcs(left[1:], right)\n",
    "        skip_right = lcs(left, right[1:])\n",
    "        ...\n",
    "```"
   ]
  }
 ],
 "metadata": {
  "kernelspec": {
   "display_name": "Python 3",
   "language": "python",
   "name": "python3"
  },
  "language_info": {
   "codemirror_mode": {
    "name": "ipython",
    "version": 3
   },
   "file_extension": ".py",
   "mimetype": "text/x-python",
   "name": "python",
   "nbconvert_exporter": "python",
   "pygments_lexer": "ipython3",
   "version": "3.12.10"
  }
 },
 "nbformat": 4,
 "nbformat_minor": 5
}
