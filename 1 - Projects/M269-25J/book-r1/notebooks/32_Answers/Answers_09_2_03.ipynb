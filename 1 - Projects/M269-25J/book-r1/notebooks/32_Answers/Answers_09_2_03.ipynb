{
 "cells": [
  {
   "cell_type": "markdown",
   "id": "0",
   "metadata": {},
   "source": [
    "#### Exercise 9.2.3 answer"
   ]
  },
  {
   "cell_type": "markdown",
   "id": "1",
   "metadata": {},
   "source": [
    "The first phase of the algorithm (creating the map) goes through all votes, whereas\n",
    "the linear search goes through the candidates to find the winner.\n",
    "\n",
    "In the worst case, there are as many candidates as votes (each got 1 vote).\n",
    "The algorithm therefore goes twice through the votes.\n",
    "The worst-case complexity is Θ(│*votes*│)."
   ]
  }
 ],
 "metadata": {
  "kernelspec": {
   "display_name": "Python 3",
   "language": "python",
   "name": "python3"
  },
  "language_info": {
   "codemirror_mode": {
    "name": "ipython",
    "version": 3
   },
   "file_extension": ".py",
   "mimetype": "text/x-python",
   "name": "python",
   "nbconvert_exporter": "python",
   "pygments_lexer": "ipython3",
   "version": "3.12.10"
  }
 },
 "nbformat": 4,
 "nbformat_minor": 5
}
