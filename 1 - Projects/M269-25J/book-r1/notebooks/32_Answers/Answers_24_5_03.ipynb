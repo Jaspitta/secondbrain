{
 "cells": [
  {
   "cell_type": "markdown",
   "id": "0",
   "metadata": {},
   "source": [
    "#### Exercise 24.5.3 answer"
   ]
  },
  {
   "cell_type": "markdown",
   "id": "1",
   "metadata": {},
   "source": [
    "The value being optimised is the length of the path,\n",
    "so I don't need to write a value function: I use the built-in `len` function.\n",
    "\n",
    "I also don't need a function to check the global constraints: there aren't any."
   ]
  },
  {
   "cell_type": "code",
   "execution_count": 1,
   "id": "2",
   "metadata": {},
   "outputs": [],
   "source": [
    "SOLUTION = 0\n",
    "VALUE = 1\n",
    "\n",
    "\n",
    "def higher(grid: list) -> int:\n",
    "    \"\"\"Return the length of the longest path of ascending numbers in grid.\n",
    "\n",
    "    Preconditions: grid is a table of non-negative integers\n",
    "                   with r > 0 rows and c > 0 columns\n",
    "    \"\"\"\n",
    "    path = []  # initial candidate\n",
    "    squares = set()  # the extensions\n",
    "    for row in range(len(grid)):\n",
    "        for column in range(len(grid[0])):\n",
    "            squares.add((row, column))\n",
    "    solution = [(0, 0)]  # path just with top-left square\n",
    "    best = [solution, len(solution)]\n",
    "    extend(path, squares, grid, best)\n",
    "    return best[VALUE]\n",
    "\n",
    "\n",
    "def extend(path: list, squares: set, grid: list, best: list) -> None:\n",
    "    \"\"\"Update best if path is a better solution, then extend it.\"\"\"\n",
    "    path_value = len(path)\n",
    "    if path_value > best[VALUE]:\n",
    "        best[SOLUTION] = path\n",
    "        best[VALUE] = path_value\n",
    "    for square in squares:\n",
    "        if can_extend(square, path, grid):\n",
    "            extend(path + [square], squares - {square}, grid, best)\n",
    "\n",
    "\n",
    "def can_extend(square: tuple, path: list, grid: list) -> bool:\n",
    "    \"\"\"Check if square may extend the path towards a solution.\"\"\"\n",
    "    if path == []:  # the empty path can be extended in any way\n",
    "        return True\n",
    "    last_row = path[-1][0]\n",
    "    last_column = path[-1][1]\n",
    "    row = square[0]\n",
    "    column = square[1]\n",
    "    higher = grid[row][column] > grid[last_row][last_column]\n",
    "    horizontal = (row == last_row) and abs(column - last_column) == 1\n",
    "    vertical = (column == last_column) and abs(row - last_row) == 1\n",
    "    return higher and (horizontal or vertical)"
   ]
  }
 ],
 "metadata": {
  "kernelspec": {
   "display_name": "Python 3",
   "language": "python",
   "name": "python3"
  },
  "language_info": {
   "codemirror_mode": {
    "name": "ipython",
    "version": 3
   },
   "file_extension": ".py",
   "mimetype": "text/x-python",
   "name": "python",
   "nbconvert_exporter": "python",
   "pygments_lexer": "ipython3",
   "version": "3.12.10"
  }
 },
 "nbformat": 4,
 "nbformat_minor": 5
}
