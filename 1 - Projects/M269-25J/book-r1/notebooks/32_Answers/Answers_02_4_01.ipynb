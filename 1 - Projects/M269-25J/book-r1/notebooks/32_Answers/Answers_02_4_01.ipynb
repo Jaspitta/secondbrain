{
 "cells": [
  {
   "cell_type": "markdown",
   "id": "0",
   "metadata": {},
   "source": [
    "#### Exercise 2.4.1 answer"
   ]
  },
  {
   "cell_type": "markdown",
   "id": "1",
   "metadata": {},
   "source": [
    "Here's my solution.\n",
    "\n",
    "1. let *price* be 100\n",
    "2. let *tax rate* be 0.2\n",
    "3. let *total price* be *price* × (1 + *tax rate*)\n",
    "4. print *total price*\n",
    "\n",
    "You may have chosen a different price and different names,\n",
    "but make sure the names are descriptive.\n",
    "You may also have written\n",
    "\n",
    "2. let *tax rate* be 20 / 100\n",
    "3. let *total price* be *price* + *price* × *tax rate*\n",
    "\n",
    "You may have remembered that code cells can display a value\n",
    "if it's the last line of the cell, and have omitted the word 'print' from step&nbsp;4.\n",
    "I'm sorry to say that's wrong.\n",
    "An English description of an algorithm is an abstract description\n",
    "that can be translated to different computational environments,\n",
    "Jupyter notebooks being only one of them."
   ]
  }
 ],
 "metadata": {
  "kernelspec": {
   "display_name": "Python 3",
   "language": "python",
   "name": "python3"
  },
  "language_info": {
   "codemirror_mode": {
    "name": "ipython",
    "version": 3
   },
   "file_extension": ".py",
   "mimetype": "text/x-python",
   "name": "python",
   "nbconvert_exporter": "python",
   "pygments_lexer": "ipython3",
   "version": "3.12.10"
  }
 },
 "nbformat": 4,
 "nbformat_minor": 5
}
