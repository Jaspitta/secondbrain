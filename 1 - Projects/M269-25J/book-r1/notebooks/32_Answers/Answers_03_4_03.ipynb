{
 "cells": [
  {
   "cell_type": "markdown",
   "id": "0",
   "metadata": {},
   "source": [
    "#### Exercise 3.4.3 answer"
   ]
  },
  {
   "cell_type": "markdown",
   "id": "1",
   "metadata": {},
   "source": [
    "The algorithm only produces two grades: merit and distinction.\n",
    "Step&nbsp;1.1 classifies any mark below 80 as a merit\n",
    "and step&nbsp;4.1 classifies the remaining marks as distinctions.\n",
    "Any mark below 60 is a counter-example because it shouldn't get a merit.\n",
    "\n",
    "To correct the algorithm, the first condition can't be simplified.\n",
    "The upper bound of the fourth condition can be omitted due to the preconditions.\n",
    "The final condition can be omitted because it covers whatever cases remain.\n",
    "\n",
    "1. if 60 ≤ *mark* < 80:\n",
    "    1.  let *pass* be 2\n",
    "1. otherwise if *mark* < 40:\n",
    "    1.  let *pass* be 5\n",
    "1. otherwise if 50 ≤ *mark* < 60:\n",
    "    1.  let *pass* be 3\n",
    "1. otherwise if 80 ≤ *mark*:\n",
    "    1.  let *pass* be 1\n",
    "1. otherwise:\n",
    "    1.  let *pass* be 4\n",
    "\n",
    "As both examples show, checking for the category boundaries in a\n",
    "haphazard order doesn't allow for many simplifications."
   ]
  }
 ],
 "metadata": {
  "kernelspec": {
   "display_name": "Python 3",
   "language": "python",
   "name": "python3"
  },
  "language_info": {
   "codemirror_mode": {
    "name": "ipython",
    "version": 3
   },
   "file_extension": ".py",
   "mimetype": "text/x-python",
   "name": "python",
   "nbconvert_exporter": "python",
   "pygments_lexer": "ipython3",
   "version": "3.12.10"
  }
 },
 "nbformat": 4,
 "nbformat_minor": 5
}
