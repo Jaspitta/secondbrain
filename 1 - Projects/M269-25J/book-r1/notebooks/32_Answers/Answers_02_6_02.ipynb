{
 "cells": [
  {
   "cell_type": "markdown",
   "id": "0",
   "metadata": {},
   "source": [
    "#### Exercise 2.6.2 answer"
   ]
  },
  {
   "cell_type": "code",
   "execution_count": 1,
   "id": "1",
   "metadata": {},
   "outputs": [
    {
     "data": {
      "text/plain": [
       "120.0"
      ]
     },
     "execution_count": 1,
     "metadata": {},
     "output_type": "execute_result"
    }
   ],
   "source": [
    "def total_price(price: float, vat_rate: float) -> float:\n",
    "    \"\"\"Return the total price, including VAT at the given rate.\n",
    "\n",
    "    Preconditions:\n",
    "    - price > 0 and price is in euros\n",
    "    - 0 <= vat_rate < 1\n",
    "    Postconditions:\n",
    "    - the output is price * (1 + vat_rate)\n",
    "    - the output is in euros\n",
    "    \"\"\"\n",
    "    return price * (1 + vat_rate)\n",
    "\n",
    "\n",
    "total_price(100, 0.2)"
   ]
  }
 ],
 "metadata": {
  "kernelspec": {
   "display_name": "Python 3",
   "language": "python",
   "name": "python3"
  },
  "language_info": {
   "codemirror_mode": {
    "name": "ipython",
    "version": 3
   },
   "file_extension": ".py",
   "mimetype": "text/x-python",
   "name": "python",
   "nbconvert_exporter": "python",
   "pygments_lexer": "ipython3",
   "version": "3.12.10"
  }
 },
 "nbformat": 4,
 "nbformat_minor": 5
}
