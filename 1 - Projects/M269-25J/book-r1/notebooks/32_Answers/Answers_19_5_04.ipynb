{
 "cells": [
  {
   "cell_type": "markdown",
   "id": "0",
   "metadata": {},
   "source": [
    "#### Exercise 19.5.4 answer"
   ]
  },
  {
   "cell_type": "code",
   "execution_count": 1,
   "id": "1",
   "metadata": {},
   "outputs": [
    {
     "name": "stdout",
     "output_type": "stream",
     "text": [
      "Testing knight_moves...\n",
      "Tests finished: 7 passed (100%), 0 failed.\n"
     ]
    }
   ],
   "source": [
    "from algoesup import test\n",
    "\n",
    "%run -i ../m269_queue\n",
    "%run -i ../m269_digraph\n",
    "%run -i ../m269_ungraph\n",
    "\n",
    "\n",
    "def knight_moves(size: tuple, start: tuple, end: tuple) -> int:\n",
    "    \"\"\"Return least number of knight moves from start to end.\n",
    "\n",
    "    Return -1 if end is not reachable from start.\n",
    "\n",
    "    Preconditions:\n",
    "    - size is a pair (rows, columns) with rows > 0 and columns > 0\n",
    "    - start and end are pairs (r, c) with 0 <= r < rows and 0 <= c < columns\n",
    "    \"\"\"\n",
    "\n",
    "    def can_move(square1: tuple, square2: tuple) -> bool:\n",
    "        \"\"\"Check if a knight can move from one square to the other.\n",
    "\n",
    "        Preconditions:\n",
    "        the inputs are pairs (r, c) with 0 <= r < rows and 0 <= c < columns\n",
    "        \"\"\"\n",
    "        vertical = abs(square1[0] - square2[0])  # movement between rows\n",
    "        horizontal = abs(square1[1] - square2[1])  # movement between columns\n",
    "        movement = (vertical, horizontal)\n",
    "        return movement == (2, 1) or movement == (1, 2)\n",
    "\n",
    "    if end == start:\n",
    "        return 0\n",
    "\n",
    "    graph = UndirectedGraph()\n",
    "    for row in range(size[0]):\n",
    "        for column in range(size[1]):\n",
    "            graph.add_node((row, column))\n",
    "    for node1 in graph.nodes():\n",
    "        for node2 in graph.nodes():\n",
    "            if can_move(node1, node2):\n",
    "                graph.add_edge(node1, node2)\n",
    "\n",
    "    visited = {start}\n",
    "    unprocessed = Queue()\n",
    "    for neighbour in graph.out_neighbours(start):\n",
    "        unprocessed.enqueue((start, neighbour, 1))\n",
    "    while unprocessed.size() > 0:\n",
    "        edge = unprocessed.dequeue()\n",
    "        previous = edge[0]\n",
    "        current = edge[1]\n",
    "        length = edge[2]\n",
    "        if current == end:\n",
    "            return length\n",
    "        elif current not in visited:\n",
    "            visited.add(current)\n",
    "            for neighbour in graph.out_neighbours(current):\n",
    "                unprocessed.enqueue((current, neighbour, length + 1))\n",
    "    return -1\n",
    "\n",
    "\n",
    "knight_moves_tests = [\n",
    "    # case,             size,   start,  end,    moves\n",
    "    ('1x1 board',       (1, 1), (0, 0), (0, 0),     0),\n",
    "    ('1 row, 2 cols',   (1, 2), (0, 0), (0, 1),    -1),\n",
    "    ('2 rows, 1 col',   (2, 1), (1, 0), (0, 0),    -1),\n",
    "    ('start = end',     (3, 3), (1, 1), (1, 1),     0),\n",
    "    ('bottom left',     (5, 6), (3, 4), (4, 0),     3), # figure 19.5.1\n",
    "    ('bottom right',    (5, 6), (3, 4), (4, 5),     4), # figure 19.5.1\n",
    "    ('3x3 to centre',   (3, 3), (0, 0), (1, 1),    -1), # figure 19.5.2\n",
    "]\n",
    "\n",
    "test(knight_moves, knight_moves_tests)"
   ]
  },
  {
   "cell_type": "markdown",
   "id": "2",
   "metadata": {},
   "source": [
    "<div class=\"alert alert-info\">\n",
    "<strong>Info:</strong> These exercises are based on problem\n",
    "<a href=\"https://open.kattis.com/problems/grasshopper\">Gregory the Grasshopper</a>.\n",
    "</div>"
   ]
  }
 ],
 "metadata": {
  "kernelspec": {
   "display_name": "Python 3",
   "language": "python",
   "name": "python3"
  },
  "language_info": {
   "codemirror_mode": {
    "name": "ipython",
    "version": 3
   },
   "file_extension": ".py",
   "mimetype": "text/x-python",
   "name": "python",
   "nbconvert_exporter": "python",
   "pygments_lexer": "ipython3",
   "version": "3.12.10"
  }
 },
 "nbformat": 4,
 "nbformat_minor": 5
}
