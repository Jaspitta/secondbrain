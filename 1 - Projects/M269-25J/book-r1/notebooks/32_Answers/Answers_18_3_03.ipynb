{
 "cells": [
  {
   "cell_type": "markdown",
   "id": "0",
   "metadata": {},
   "source": [
    "#### Exercise 18.3.3 answer"
   ]
  },
  {
   "cell_type": "markdown",
   "id": "1",
   "metadata": {},
   "source": [
    "Previous traversal algorithms use sets, stacks and queues for the *unprocessed*\n",
    "collection, with edges added and removed in constant time.\n",
    "With a priority queue, adding and removing edges takes logarithmic time.\n",
    "One way to make the algorithm more efficient is to not make the queue longer\n",
    "than necessary: when adding the edges of the just-visited node,\n",
    "we should only add those that lead to yet-unvisited nodes.\n",
    "\n",
    "Even though this change puts only edges to unvisited nodes in\n",
    "the priority queue, the algorithm must still check in step&nbsp;4.3 if the edge\n",
    "removed from the priority queue leads to an unvisited node.\n",
    "I'll leave it as an exercise for you to explain to your study buddy\n",
    "or in the forums why that's the case."
   ]
  }
 ],
 "metadata": {
  "kernelspec": {
   "display_name": "Python 3",
   "language": "python",
   "name": "python3"
  },
  "language_info": {
   "codemirror_mode": {
    "name": "ipython",
    "version": 3
   },
   "file_extension": ".py",
   "mimetype": "text/x-python",
   "name": "python",
   "nbconvert_exporter": "python",
   "pygments_lexer": "ipython3",
   "version": "3.12.10"
  }
 },
 "nbformat": 4,
 "nbformat_minor": 5
}
