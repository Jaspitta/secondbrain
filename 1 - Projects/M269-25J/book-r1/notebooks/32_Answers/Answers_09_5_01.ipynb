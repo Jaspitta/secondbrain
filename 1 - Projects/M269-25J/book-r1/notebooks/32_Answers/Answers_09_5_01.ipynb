{
 "cells": [
  {
   "cell_type": "markdown",
   "id": "0",
   "metadata": {},
   "source": [
    "#### Exercise 9.5.1 answer"
   ]
  },
  {
   "cell_type": "markdown",
   "id": "1",
   "metadata": {},
   "source": [
    "The completions operation is described as returning the first three words that\n",
    "match the prefix, when words are in descending score order.\n",
    "So all I need is a sequence of words in that order.\n",
    "Implementing a sequence as a dynamic array uses the least additional memory.\n",
    "\n",
    "Initialisation: Create a sequence of all score–word pairs, sort it by\n",
    "descending score and then remove the scores, i.e. replace each score–word pair\n",
    "with the word, as they're no longer needed. This reduces the memory used.\n",
    "\n",
    "In the best case, the initialisation does three iterations over all words, so\n",
    "the best-case complexity is linear in the number of words.\n",
    "In the worst case, the sorting takes quadratic time in the number of words.\n",
    "\n",
    "Completions: Create an empty suggestions sequence.\n",
    "Do a linear search over the sorted sequence of words. For each word,\n",
    "if it starts with the given prefix, append it to the suggestions.\n",
    "Stop on finding three suggestions or on reaching the end of the word sequence.\n",
    "\n",
    "The linear search takes constant time in the best case\n",
    "(when the matching words are at the start of the sequence) and\n",
    "linear time in a worst case, e.g. if there are fewer than three matching words."
   ]
  }
 ],
 "metadata": {
  "kernelspec": {
   "display_name": "Python 3",
   "language": "python",
   "name": "python3"
  },
  "language_info": {
   "codemirror_mode": {
    "name": "ipython",
    "version": 3
   },
   "file_extension": ".py",
   "mimetype": "text/x-python",
   "name": "python",
   "nbconvert_exporter": "python",
   "pygments_lexer": "ipython3",
   "version": "3.12.10"
  }
 },
 "nbformat": 4,
 "nbformat_minor": 5
}
