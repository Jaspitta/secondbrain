{
 "cells": [
  {
   "cell_type": "markdown",
   "id": "0",
   "metadata": {},
   "source": [
    "#### Exercise 24.4.7 answer"
   ]
  },
  {
   "cell_type": "code",
   "execution_count": 1,
   "id": "1",
   "metadata": {},
   "outputs": [],
   "source": [
    "def edit_bottomup(left: str, right: str) -> int:\n",
    "    \"\"\"Return the Levenshtein distance between the strings.\"\"\"\n",
    "    cache = []\n",
    "    for l in range(len(left) + 1):\n",
    "        cache.append([-1] * (len(right) + 1))\n",
    "\n",
    "    for l in range(len(left), -1, -1):\n",
    "        for r in range(len(right), -1, -1):\n",
    "            if l == len(left):\n",
    "                cache[l][r] = len(right) - r\n",
    "            elif r == len(right):\n",
    "                cache[l][r] = len(left) - l\n",
    "            elif left[l] == right[r]:\n",
    "                cache[l][r] = cache[l + 1][r + 1]\n",
    "            else:\n",
    "                delete = cache[l + 1][r] + 1\n",
    "                insert = cache[l][r + 1] + 1\n",
    "                replace = cache[l + 1][r + 1] + 1\n",
    "                cache[l][r] = min(replace, delete, insert)\n",
    "\n",
    "    return cache[0][0]"
   ]
  },
  {
   "cell_type": "markdown",
   "id": "2",
   "metadata": {},
   "source": [
    "On my machine, this solution is about thousand times faster than\n",
    "the initial recursive version, with slicing."
   ]
  }
 ],
 "metadata": {
  "kernelspec": {
   "display_name": "Python 3",
   "language": "python",
   "name": "python3"
  },
  "language_info": {
   "codemirror_mode": {
    "name": "ipython",
    "version": 3
   },
   "file_extension": ".py",
   "mimetype": "text/x-python",
   "name": "python",
   "nbconvert_exporter": "python",
   "pygments_lexer": "ipython3",
   "version": "3.12.10"
  }
 },
 "nbformat": 4,
 "nbformat_minor": 5
}
