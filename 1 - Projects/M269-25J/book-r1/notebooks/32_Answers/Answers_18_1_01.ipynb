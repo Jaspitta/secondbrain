{
 "cells": [
  {
   "cell_type": "markdown",
   "id": "0",
   "metadata": {},
   "source": [
    "#### Exercise 18.1.1 answer"
   ]
  },
  {
   "cell_type": "markdown",
   "id": "1",
   "metadata": {},
   "source": [
    "Consider a knapsack with a capacity of 3&nbsp;kg and two items:\n",
    "one is worth £3 and weighs 3&nbsp;kg, the other is worth £2 and weighs 2&nbsp;kg.\n",
    "The value is maximised by packing the £3 item, which fills the knapsack.\n",
    "\n",
    "1. Choosing the lightest first will put only the £2 item in the knapsack.\n",
    "1. The items are equally profitable (1&nbsp;£/kg).\n",
    "   Since there's a tie for the choice, the algorithm may make the wrong one,\n",
    "   choosing the £2 item."
   ]
  }
 ],
 "metadata": {
  "kernelspec": {
   "display_name": "Python 3",
   "language": "python",
   "name": "python3"
  },
  "language_info": {
   "codemirror_mode": {
    "name": "ipython",
    "version": 3
   },
   "file_extension": ".py",
   "mimetype": "text/x-python",
   "name": "python",
   "nbconvert_exporter": "python",
   "pygments_lexer": "ipython3",
   "version": "3.12.10"
  }
 },
 "nbformat": 4,
 "nbformat_minor": 5
}
