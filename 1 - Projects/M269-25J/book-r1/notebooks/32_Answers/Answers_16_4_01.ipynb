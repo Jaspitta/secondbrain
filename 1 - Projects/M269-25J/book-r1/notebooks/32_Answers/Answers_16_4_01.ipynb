{
 "cells": [
  {
   "cell_type": "markdown",
   "id": "0",
   "metadata": {},
   "source": [
    "#### Exercise 16.4.1 answer"
   ]
  },
  {
   "cell_type": "markdown",
   "id": "1",
   "metadata": {},
   "source": [
    "The membership and lookup operations are very similar.\n",
    "The latter doesn't have a base case for the empty tree, because of the precondition,\n",
    "and returns the root's value, instead of a Boolean, for the other base case."
   ]
  },
  {
   "cell_type": "code",
   "execution_count": 1,
   "id": "2",
   "metadata": {},
   "outputs": [],
   "source": [
    "%run -i ../m269_tree\n",
    "\n",
    "\n",
    "def lookup(tree: Tree, key: object) -> object:\n",
    "    \"\"\"Return the value associated to the key.\n",
    "\n",
    "    Preconditions: tree is a BST and has the key\n",
    "    \"\"\"\n",
    "    if tree.root[KEY] == key:\n",
    "        return tree.root[VALUE]\n",
    "    elif tree.root[KEY] < key:\n",
    "        return lookup(tree.right, key)\n",
    "    else:\n",
    "        return lookup(tree.left, key)"
   ]
  }
 ],
 "metadata": {
  "kernelspec": {
   "display_name": "Python 3",
   "language": "python",
   "name": "python3"
  },
  "language_info": {
   "codemirror_mode": {
    "name": "ipython",
    "version": 3
   },
   "file_extension": ".py",
   "mimetype": "text/x-python",
   "name": "python",
   "nbconvert_exporter": "python",
   "pygments_lexer": "ipython3",
   "version": "3.12.10"
  }
 },
 "nbformat": 4,
 "nbformat_minor": 5
}
