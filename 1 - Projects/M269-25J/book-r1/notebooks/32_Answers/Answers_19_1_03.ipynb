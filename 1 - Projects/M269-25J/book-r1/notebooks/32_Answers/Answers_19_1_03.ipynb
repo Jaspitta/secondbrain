{
 "cells": [
  {
   "cell_type": "markdown",
   "id": "0",
   "metadata": {},
   "source": [
    "#### Exercise 19.1.3 answer"
   ]
  },
  {
   "cell_type": "code",
   "execution_count": 1,
   "id": "1",
   "metadata": {},
   "outputs": [
    {
     "name": "stdout",
     "output_type": "stream",
     "text": [
      "Testing winner...\n",
      "Tests finished: 6 passed (100%), 0 failed.\n"
     ]
    }
   ],
   "source": [
    "from algoesup import test\n",
    "from heapq import heappush, heappop\n",
    "\n",
    "\n",
    "def winner(strength: list) -> int:\n",
    "    \"\"\"Return the index of the winning knight or -1 if no one wins.\n",
    "\n",
    "    Preconditions: all items in strength are positive integers\n",
    "    \"\"\"\n",
    "    remaining = []  # priority queue of knights still jousting\n",
    "    for knight in range(len(strength)):\n",
    "        heappush(remaining, (-strength[knight], knight))\n",
    "\n",
    "    while len(remaining) > 1:\n",
    "        # take the two strongest knights\n",
    "        first = heappop(remaining)\n",
    "        second = heappop(remaining)\n",
    "        # if they don't knock each other out\n",
    "        if first[0] != second[0]:\n",
    "            # the first (stronger) remains with diminished strength\n",
    "            heappush(remaining, (first[0] - second[0], first[1]))\n",
    "    if len(remaining) == 0:\n",
    "        return -1\n",
    "    else:\n",
    "        return remaining[0][1]  # return knight at head of queue\n",
    "\n",
    "\n",
    "winner_tests = [\n",
    "    # case,         strength,   winner\n",
    "    ('no one wins', [5, 3, 6, 2],   -1),\n",
    "    ('second wins', [5, 3, 6, 1],    1), # winner has initial strength 3\n",
    "    # your tests\n",
    "    ('no jousts',   [5],             0),\n",
    "    ('no knights',  [],             -1),\n",
    "    # if all knights have the same strength, no one or last one wins\n",
    "    ('last wins',   [1, 1, 1],       2),    # odd number: last wins\n",
    "    ('all KO',      [1, 1, 1, 1],   -1)     # even number: all KO\n",
    "]\n",
    "\n",
    "test(winner, winner_tests)"
   ]
  },
  {
   "cell_type": "markdown",
   "id": "2",
   "metadata": {},
   "source": [
    "<div class=\"alert alert-info\">\n",
    "<strong>Info:</strong> This is a modification of LeetCode problem\n",
    "<a href=\"https://leetcode.com/problems/last-stone-weight/\">1046</a>.\n",
    "</div>"
   ]
  }
 ],
 "metadata": {
  "kernelspec": {
   "display_name": "Python 3",
   "language": "python",
   "name": "python3"
  },
  "language_info": {
   "codemirror_mode": {
    "name": "ipython",
    "version": 3
   },
   "file_extension": ".py",
   "mimetype": "text/x-python",
   "name": "python",
   "nbconvert_exporter": "python",
   "pygments_lexer": "ipython3",
   "version": "3.12.10"
  }
 },
 "nbformat": 4,
 "nbformat_minor": 5
}
