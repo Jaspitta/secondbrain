{
 "cells": [
  {
   "cell_type": "markdown",
   "id": "0",
   "metadata": {},
   "source": [
    "#### Exercise 19.2.2 answer"
   ]
  },
  {
   "cell_type": "markdown",
   "id": "1",
   "metadata": {},
   "source": [
    "To minimise the contribution of the highest value in *Y* to the dot product,\n",
    "I multiply it with the lowest value in *X*.\n",
    "My greedy choice at each step is to take the lowest unprocessed value in *X*\n",
    "and the largest unprocessed value in *Y*, multiply them and\n",
    "add the product to the sum so far.\n",
    "\n",
    "An alternative is to choose at each step the largest unprocessed value in *X*\n",
    "and the lowest unprocessed value in *Y*.\n",
    "\n",
    "Both greedy choices pair the largest, second largest, etc. value of\n",
    "one sequence with the smallest, second smallest, etc. value of the other.\n",
    "The example rearrangements do exactly that,\n",
    "so these greedy choices work for the examples given.\n",
    "\n",
    "If you found a different greedy choice that produces the same dot product\n",
    "for the example inputs, please share it in the M269 forums."
   ]
  }
 ],
 "metadata": {
  "kernelspec": {
   "display_name": "Python 3",
   "language": "python",
   "name": "python3"
  },
  "language_info": {
   "codemirror_mode": {
    "name": "ipython",
    "version": 3
   },
   "file_extension": ".py",
   "mimetype": "text/x-python",
   "name": "python",
   "nbconvert_exporter": "python",
   "pygments_lexer": "ipython3",
   "version": "3.12.10"
  }
 },
 "nbformat": 4,
 "nbformat_minor": 5
}
