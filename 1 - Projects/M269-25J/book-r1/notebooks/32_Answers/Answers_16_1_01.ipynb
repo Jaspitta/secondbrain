{
 "cells": [
  {
   "cell_type": "markdown",
   "id": "0",
   "metadata": {},
   "source": [
    "#### Exercise 16.1.1 answer"
   ]
  },
  {
   "cell_type": "markdown",
   "id": "1",
   "metadata": {},
   "source": [
    "1. All trees have size 7. Their heights are 3, 4 and 4, from left to right.\n",
    "3. The nodes at level 2 are 3, 4, 5 and 6 in the left-hand tree,\n",
    "   × and 6 in the middle tree, and 3 and × in the right-hand tree.\n",
    "4. In the left-hand tree, the multiplication is a parent of the subtraction, so\n",
    "   it's an ancestor, not a descendant. The multiplication is a child of\n",
    "   the subtraction in the middle tree and a child of a child in the right-hand tree:\n",
    "   in both cases it's a descendant."
   ]
  }
 ],
 "metadata": {
  "kernelspec": {
   "display_name": "Python 3",
   "language": "python",
   "name": "python3"
  },
  "language_info": {
   "codemirror_mode": {
    "name": "ipython",
    "version": 3
   },
   "file_extension": ".py",
   "mimetype": "text/x-python",
   "name": "python",
   "nbconvert_exporter": "python",
   "pygments_lexer": "ipython3",
   "version": "3.12.10"
  }
 },
 "nbformat": 4,
 "nbformat_minor": 5
}
