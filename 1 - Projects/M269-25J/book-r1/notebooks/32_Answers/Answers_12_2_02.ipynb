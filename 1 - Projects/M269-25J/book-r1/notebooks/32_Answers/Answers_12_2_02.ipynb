{
 "cells": [
  {
   "cell_type": "markdown",
   "id": "0",
   "metadata": {},
   "source": [
    "#### Exercise 12.2.2 answer"
   ]
  },
  {
   "cell_type": "code",
   "execution_count": 1,
   "id": "1",
   "metadata": {},
   "outputs": [
    {
     "name": "stdout",
     "output_type": "stream",
     "text": [
      "Testing even...\n",
      "Tests finished: 4 passed (100%), 0 failed.\n"
     ]
    }
   ],
   "source": [
    "from algoesup import test\n",
    "\n",
    "\n",
    "def even(n: int) -> bool:\n",
    "    \"\"\"Return True if and only if n is divisible by 2.\n",
    "\n",
    "    Preconditions: n > 0\n",
    "    \"\"\"\n",
    "    if n == 1:\n",
    "        return False\n",
    "    else:\n",
    "        return not even(n - 1)\n",
    "\n",
    "\n",
    "even_tests = [\n",
    "    # case,             n,      even?\n",
    "    ('smallest even',   2,      True),\n",
    "    ('larger even',     100,    True),\n",
    "    # your tests here\n",
    "    ('smallest input',  1,      False),\n",
    "    ('larger odd',      45,     False)\n",
    "]\n",
    "\n",
    "test(even, even_tests)"
   ]
  }
 ],
 "metadata": {
  "kernelspec": {
   "display_name": "Python 3",
   "language": "python",
   "name": "python3"
  },
  "language_info": {
   "codemirror_mode": {
    "name": "ipython",
    "version": 3
   },
   "file_extension": ".py",
   "mimetype": "text/x-python",
   "name": "python",
   "nbconvert_exporter": "python",
   "pygments_lexer": "ipython3",
   "version": "3.12.10"
  }
 },
 "nbformat": 4,
 "nbformat_minor": 5
}
