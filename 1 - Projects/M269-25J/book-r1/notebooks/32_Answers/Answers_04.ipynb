{
 "cells": [
  {
   "cell_type": "markdown",
   "id": "0",
   "metadata": {},
   "source": [
    "## 30.3 Sequences and iteration"
   ]
  },
  {
   "cell_type": "markdown",
   "id": "1",
   "metadata": {
    "nbsphinx-toctree": {
     "hidden": true,
     "maxdepth": 1,
     "numbered": false
    }
   },
   "source": [
    "1. [The Sequence ADT](Answers_04_1.ipynb)\n",
    "1. [Strings](Answers_04_2.ipynb)\n",
    "1. [Iteration](Answers_04_3.ipynb)\n",
    "1. [Linear search](Answers_04_4.ipynb)\n",
    "1. [Tuples and tables](Answers_04_5.ipynb)\n",
    "1. [Lists](Answers_04_6.ipynb)\n",
    "1. [Reversal](Answers_04_7.ipynb)"
   ]
  },
  {
   "cell_type": "markdown",
   "id": "2",
   "metadata": {},
   "source": [
    "⟵ [Previous section](Answers_03.ipynb) | [Up](32-introduction.ipynb) | [Next section](Answers_06.ipynb) ⟶"
   ]
  }
 ],
 "metadata": {
  "kernelspec": {
   "display_name": "Python 3",
   "language": "python",
   "name": "python3"
  },
  "language_info": {
   "codemirror_mode": {
    "name": "ipython",
    "version": 3
   },
   "file_extension": ".py",
   "mimetype": "text/x-python",
   "name": "python",
   "nbconvert_exporter": "python",
   "pygments_lexer": "ipython3",
   "version": "3.12.10"
  }
 },
 "nbformat": 4,
 "nbformat_minor": 5
}
