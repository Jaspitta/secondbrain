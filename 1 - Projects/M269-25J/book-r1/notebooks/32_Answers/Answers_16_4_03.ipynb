{
 "cells": [
  {
   "cell_type": "markdown",
   "id": "0",
   "metadata": {},
   "source": [
    "#### Exercise 16.4.3 answer"
   ]
  },
  {
   "cell_type": "markdown",
   "id": "1",
   "metadata": {},
   "source": [
    "The tree can't be empty because the smallest key is undefined in that case.\n",
    "The base case is when there's no left subtree: we've reached the left-most node.\n",
    "Otherwise the smallest key in the tree is the smallest in the left subtree.\n",
    "The tail recursive definition is\n",
    "\n",
    "- if left(tree) is empty: smallest(tree) = root(tree)\n",
    "- otherwise: smallest(tree) = smallest(left(tree)).\n",
    "\n",
    "This is a tail-recursive definition. The iterative version is:"
   ]
  },
  {
   "cell_type": "code",
   "execution_count": 1,
   "id": "2",
   "metadata": {},
   "outputs": [],
   "source": [
    "%run -i ../m269_tree\n",
    "\n",
    "\n",
    "def smallest(tree: Tree) -> object:\n",
    "    \"\"\"Return the item in the tree with the smallest key.\"\"\"\n",
    "    while not is_empty(tree.left):\n",
    "        tree = tree.left\n",
    "    return tree.root"
   ]
  }
 ],
 "metadata": {
  "kernelspec": {
   "display_name": "Python 3",
   "language": "python",
   "name": "python3"
  },
  "language_info": {
   "codemirror_mode": {
    "name": "ipython",
    "version": 3
   },
   "file_extension": ".py",
   "mimetype": "text/x-python",
   "name": "python",
   "nbconvert_exporter": "python",
   "pygments_lexer": "ipython3",
   "version": "3.12.10"
  }
 },
 "nbformat": 4,
 "nbformat_minor": 5
}
