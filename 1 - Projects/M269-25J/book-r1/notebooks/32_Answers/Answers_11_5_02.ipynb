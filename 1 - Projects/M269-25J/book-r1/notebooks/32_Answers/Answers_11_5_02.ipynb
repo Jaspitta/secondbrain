{
 "cells": [
  {
   "cell_type": "markdown",
   "id": "0",
   "metadata": {},
   "source": [
    "#### Exercise 11.5.2 answer"
   ]
  },
  {
   "cell_type": "markdown",
   "id": "1",
   "metadata": {},
   "source": [
    "Generate each subset of items and test if their total weight doesn't exceed\n",
    "the rucksack capacity. If it doesn't, add the items' values.\n",
    "If the total value exceeds the highest value so far,\n",
    "update the solution to be the current candidate subset.\n",
    "\n",
    "Note that every subset has to be generated, including the empty subset,\n",
    "for the edge case in which each item weighs more than the knapsack's capacity."
   ]
  }
 ],
 "metadata": {
  "kernelspec": {
   "display_name": "Python 3",
   "language": "python",
   "name": "python3"
  },
  "language_info": {
   "codemirror_mode": {
    "name": "ipython",
    "version": 3
   },
   "file_extension": ".py",
   "mimetype": "text/x-python",
   "name": "python",
   "nbconvert_exporter": "python",
   "pygments_lexer": "ipython3",
   "version": "3.12.10"
  }
 },
 "nbformat": 4,
 "nbformat_minor": 5
}
