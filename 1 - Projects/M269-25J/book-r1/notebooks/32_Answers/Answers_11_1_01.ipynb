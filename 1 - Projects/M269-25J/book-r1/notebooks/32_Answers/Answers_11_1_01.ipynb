{
 "cells": [
  {
   "cell_type": "markdown",
   "id": "0",
   "metadata": {},
   "source": [
    "#### Exercise 11.1.1 answer"
   ]
  },
  {
   "cell_type": "markdown",
   "id": "1",
   "metadata": {},
   "source": [
    "To avoid copying the input collection, we must put each\n",
    "candidate item back after testing it.\n",
    "We can enqueue each item back into a queue,\n",
    "because it doesn't affect the next candidate to be dequeued,\n",
    "but putting an item back in a priority queue won't\n",
    "allow us to access the candidates with lower priority."
   ]
  }
 ],
 "metadata": {
  "kernelspec": {
   "display_name": "Python 3",
   "language": "python",
   "name": "python3"
  },
  "language_info": {
   "codemirror_mode": {
    "name": "ipython",
    "version": 3
   },
   "file_extension": ".py",
   "mimetype": "text/x-python",
   "name": "python",
   "nbconvert_exporter": "python",
   "pygments_lexer": "ipython3",
   "version": "3.12.10"
  }
 },
 "nbformat": 4,
 "nbformat_minor": 5
}
