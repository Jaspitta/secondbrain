{
 "cells": [
  {
   "cell_type": "markdown",
   "id": "0",
   "metadata": {},
   "source": [
    "#### Exercise 7.4.1 answer"
   ]
  },
  {
   "cell_type": "markdown",
   "id": "1",
   "metadata": {},
   "source": [
    "Inserting is appending (constant time) followed by sorting\n",
    "(linear in the best case and quadratic in the worst), so the latter\n",
    "determines the overall complexity.\n",
    "\n",
    "Operation | Complexity\n",
    ":-|:-\n",
    "insert  |  best Θ(│*pq*│), worst Θ(│*pq*│²)\n",
    "find max  |  Θ(1)\n",
    "remove max  |  Θ(1)"
   ]
  }
 ],
 "metadata": {
  "kernelspec": {
   "display_name": "Python 3",
   "language": "python",
   "name": "python3"
  },
  "language_info": {
   "codemirror_mode": {
    "name": "ipython",
    "version": 3
   },
   "file_extension": ".py",
   "mimetype": "text/x-python",
   "name": "python",
   "nbconvert_exporter": "python",
   "pygments_lexer": "ipython3",
   "version": "3.12.10"
  }
 },
 "nbformat": 4,
 "nbformat_minor": 5
}
