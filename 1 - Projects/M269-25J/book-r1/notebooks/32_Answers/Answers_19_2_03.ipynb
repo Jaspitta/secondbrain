{
 "cells": [
  {
   "cell_type": "markdown",
   "id": "0",
   "metadata": {},
   "source": [
    "#### Exercise 19.2.3 answer"
   ]
  },
  {
   "cell_type": "markdown",
   "id": "1",
   "metadata": {},
   "source": [
    "Since I take at each step the lowest of the *X* and the highest of the *Y*,\n",
    "I simply sort the two sequences in ascending and descending order, respectively.\n",
    "I don't sort them in-place because I don't want to modify the inputs."
   ]
  },
  {
   "cell_type": "code",
   "execution_count": 1,
   "id": "2",
   "metadata": {},
   "outputs": [
    {
     "name": "stdout",
     "output_type": "stream",
     "text": [
      "Testing min_dot_product...\n",
      "Tests finished: 5 passed (100%), 0 failed.\n"
     ]
    }
   ],
   "source": [
    "from algoesup import test\n",
    "\n",
    "\n",
    "def min_dot_product(x: list, y: list) -> int:\n",
    "    \"\"\"Return the smallest dot product over all permutations of x and y.\n",
    "\n",
    "    Preconditions:\n",
    "    x and y are non-empty lists of integers of the same length\n",
    "    \"\"\"\n",
    "    x_up = sorted(x)\n",
    "    y_down = sorted(y, reverse=True)\n",
    "    product = 0\n",
    "    for index in range(len(x)):\n",
    "        product = product + x_up[index] * y_down[index]\n",
    "    return product\n",
    "\n",
    "\n",
    "min_dot_product_tests = [\n",
    "    # case,        x,                 y,              smallest\n",
    "    ('n = 3',      [1, 2, -1],        [2, 6, 3],           1),\n",
    "    ('n = 5',      [1, -1, 5, 0, 7],  [3, 7, -9, 2, 0],  -68),\n",
    "    # your tests\n",
    "    ('n = 1',      [4],               [-3],              -12),\n",
    "    ('x same',     [1, 1, 1],         [2, 4, 3],           9),\n",
    "    ('x up, y up', [1, 2, 3, 4],      [-1, 0, 5, 7],      13),\n",
    "]\n",
    "\n",
    "test(min_dot_product, min_dot_product_tests)"
   ]
  },
  {
   "cell_type": "markdown",
   "id": "3",
   "metadata": {},
   "source": [
    "<div class=\"alert alert-info\">\n",
    "<strong>Info:</strong> These exercises are based on problem\n",
    "<a href=\"https://open.kattis.com/problems/minimumscalar\">Minimum Scalar Product</a>.\n",
    "</div>"
   ]
  }
 ],
 "metadata": {
  "kernelspec": {
   "display_name": "Python 3",
   "language": "python",
   "name": "python3"
  },
  "language_info": {
   "codemirror_mode": {
    "name": "ipython",
    "version": 3
   },
   "file_extension": ".py",
   "mimetype": "text/x-python",
   "name": "python",
   "nbconvert_exporter": "python",
   "pygments_lexer": "ipython3",
   "version": "3.12.10"
  }
 },
 "nbformat": 4,
 "nbformat_minor": 5
}
