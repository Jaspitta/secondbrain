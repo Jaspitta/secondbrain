{
 "cells": [
  {
   "cell_type": "markdown",
   "id": "0",
   "metadata": {},
   "source": [
    "#### Exercise 6.4.1 answer"
   ]
  },
  {
   "cell_type": "markdown",
   "id": "1",
   "metadata": {},
   "source": [
    "The messages show that the inserted numbers aren't copied to the right.\n",
    "Each new number is put at index&nbsp;0, overwriting the number that was there.\n",
    "At the end, only the last inserted number (always 0) is in the sequence.\n",
    "\n",
    "The problem is therefore in the loop that copies the items to the right,\n",
    "which is skipped when an item is appended\n",
    "and that's why no error occurs in that case.\n",
    "\n",
    "The first line of the `insert` method iterates over `range(..., index, -1)`.\n",
    "The `range` constructor always excludes the value of the second argument,\n",
    "so the loop doesn't go down until `index`. It stops at `index + 1`.\n",
    "A loop 'from *x* down to *y*' must be translated to\n",
    "`range(x, y-1, -1)` in order to include *y*.\n",
    "(See the [summary](../04_Iteration/04_9_summary.ipynb#4.9.3-Python) on iteration.)\n",
    "This is a typical 'off by one' error."
   ]
  },
  {
   "cell_type": "markdown",
   "id": "2",
   "metadata": {},
   "source": [
    "<div class=\"alert alert-warning\">\n",
    "<strong>Note:</strong> Even if the algorithm in English is correct, its Python translation may not be.\n",
    "Always test your code.\n",
    "</div>"
   ]
  }
 ],
 "metadata": {
  "kernelspec": {
   "display_name": "Python 3",
   "language": "python",
   "name": "python3"
  },
  "language_info": {
   "codemirror_mode": {
    "name": "ipython",
    "version": 3
   },
   "file_extension": ".py",
   "mimetype": "text/x-python",
   "name": "python",
   "nbconvert_exporter": "python",
   "pygments_lexer": "ipython3",
   "version": "3.12.10"
  }
 },
 "nbformat": 4,
 "nbformat_minor": 5
}
