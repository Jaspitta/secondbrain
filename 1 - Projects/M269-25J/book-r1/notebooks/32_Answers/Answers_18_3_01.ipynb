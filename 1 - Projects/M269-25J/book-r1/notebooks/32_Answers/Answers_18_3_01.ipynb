{
 "cells": [
  {
   "cell_type": "markdown",
   "id": "0",
   "metadata": {},
   "source": [
    "#### Exercise 18.3.1 answer"
   ]
  },
  {
   "cell_type": "markdown",
   "id": "1",
   "metadata": {},
   "source": [
    "I changed some variable names to be more meaningful.\n",
    "\n",
    "1. let *tour* be the weighted undirected graph with single node *start*\n",
    "1. let *current* be *start*\n",
    "1. repeat *n* − 1 times:\n",
    "   1. find an edge (*current*, *next*) with lowest weight(*current*, *next*) such that *next* isn't in *tour*\n",
    "   1. add node *next* to *tour*\n",
    "   1. add edge (*current*, *next*, weight(*current*, *next*)) to *tour*\n",
    "   1. let *current* be *next*\n",
    "3. add edge (*current*, *start*, weight(*current*, *start*)) to *tour*"
   ]
  }
 ],
 "metadata": {
  "kernelspec": {
   "display_name": "Python 3",
   "language": "python",
   "name": "python3"
  },
  "language_info": {
   "codemirror_mode": {
    "name": "ipython",
    "version": 3
   },
   "file_extension": ".py",
   "mimetype": "text/x-python",
   "name": "python",
   "nbconvert_exporter": "python",
   "pygments_lexer": "ipython3",
   "version": "3.12.10"
  }
 },
 "nbformat": 4,
 "nbformat_minor": 5
}
