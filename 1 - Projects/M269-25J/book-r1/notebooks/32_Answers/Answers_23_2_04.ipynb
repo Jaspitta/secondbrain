{
 "cells": [
  {
   "cell_type": "markdown",
   "id": "0",
   "metadata": {},
   "source": [
    "#### Exercise 23.2.4 answer"
   ]
  },
  {
   "cell_type": "code",
   "execution_count": 1,
   "id": "1",
   "metadata": {},
   "outputs": [],
   "source": [
    "def lcs_topdown_matrix(left: str, right: str) -> str:\n",
    "    \"\"\"Return the LCS of both strings using top-down dynamic programming.\"\"\"\n",
    "\n",
    "    def lcs(l: int, r: int) -> str:\n",
    "        \"\"\"Return the LCS of left[l:] and right[r:].\n",
    "\n",
    "        Preconditions: 0 ≤ l ≤ len(left) and 0 ≤ r ≤ len(right)\n",
    "        \"\"\"\n",
    "        if cache[l][r] == None:\n",
    "            if l == len(left) or r == len(right):\n",
    "                cache[l][r] = \"\"\n",
    "            elif left[l] == right[r]:\n",
    "                cache[l][r] = left[l] + lcs(l + 1, r + 1)\n",
    "            else:\n",
    "                skip_left = lcs(l + 1, r)\n",
    "                skip_right = lcs(l, r + 1)\n",
    "                if len(skip_left) > len(skip_right):\n",
    "                    cache[l][r] = skip_left\n",
    "                else:\n",
    "                    cache[l][r] = skip_right\n",
    "            print(\"cache[\", l, \"][\", r, \"] =\", \"'\" + cache[l][r] + \"'\")\n",
    "        return cache[l][r]\n",
    "\n",
    "    cache = []\n",
    "    for row in range(len(left) + 1):  # noqa: B007\n",
    "        cache.append([None] * (len(right) + 1))\n",
    "    return lcs(0, 0)"
   ]
  }
 ],
 "metadata": {
  "kernelspec": {
   "display_name": "Python 3",
   "language": "python",
   "name": "python3"
  },
  "language_info": {
   "codemirror_mode": {
    "name": "ipython",
    "version": 3
   },
   "file_extension": ".py",
   "mimetype": "text/x-python",
   "name": "python",
   "nbconvert_exporter": "python",
   "pygments_lexer": "ipython3",
   "version": "3.12.10"
  }
 },
 "nbformat": 4,
 "nbformat_minor": 5
}
