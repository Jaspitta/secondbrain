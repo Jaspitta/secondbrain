{
 "cells": [
  {
   "cell_type": "markdown",
   "id": "0",
   "metadata": {},
   "source": [
    "#### Exercise 19.3.4 answer"
   ]
  },
  {
   "cell_type": "markdown",
   "id": "1",
   "metadata": {},
   "source": [
    "The input is a set of edges, so each node in the input has neighbours.\n",
    "\n",
    "The search does the least work when no node has a pair of neighbours, i.e.\n",
    "each node has exactly one neighbour and thus no two beams have a common point,\n",
    "as in the next example.\n",
    "\n",
    "<p id=\"fig-19.3.3\"></p>\n",
    "\n",
    "*[Figure 19.3.3](../33_Figures/Figures_19_3.ipynb#Figure-19.3.3)*\n",
    "\n",
    "![Image 19_3_separate.png](19_3_separate.png)\n",
    "\n",
    "In that case, the test of whether a node is in a triangle takes constant time,\n",
    "because the candidate has no pairs of neighbours.\n",
    "The algorithm tests the *n* nodes and adds all to the set of weak nodes.\n",
    "The best-case complexity is Θ(*n*).\n",
    "\n",
    "The search does the most work when each node has all other ones as neighbours,\n",
    "i.e. the graph is complete. The algorithm obtains the *n* – 1 neighbours,\n",
    "but detects in constant time that the first pair is connected and so the\n",
    "node isn't weak.\n",
    "Obtaining all neighbours of all nodes takes Θ(*n*²) time.\n",
    "None of the nodes is added to the set of weak nodes.\n",
    "The worst-case complexity is quadratic in the number of nodes."
   ]
  }
 ],
 "metadata": {
  "kernelspec": {
   "display_name": "Python 3",
   "language": "python",
   "name": "python3"
  },
  "language_info": {
   "codemirror_mode": {
    "name": "ipython",
    "version": 3
   },
   "file_extension": ".py",
   "mimetype": "text/x-python",
   "name": "python",
   "nbconvert_exporter": "python",
   "pygments_lexer": "ipython3",
   "version": "3.12.10"
  }
 },
 "nbformat": 4,
 "nbformat_minor": 5
}
