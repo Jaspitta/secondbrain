{
 "cells": [
  {
   "cell_type": "markdown",
   "id": "0",
   "metadata": {},
   "source": [
    "#### Exercise 17.1.3 answer"
   ]
  },
  {
   "cell_type": "markdown",
   "id": "1",
   "metadata": {},
   "source": [
    "We can represent a sequence of items with a digraph that has one node per item.\n",
    "An edge from node A to node B represents the relation\n",
    "'item A comes immediately before item B' in the sequence.\n",
    "The shape of the digraph is:\n",
    "\n",
    "<p id=\"fig-17.1.6\"></p>\n",
    "\n",
    "*[Figure 17.1.6](../33_Figures/Figures_17_1.ipynb#Figure-17.1.6)*\n",
    "\n",
    "![Image 17_1_sequence.png](17_1_sequence.png)\n",
    "\n",
    "An alternative is for edges to be in the opposite direction,\n",
    "representing the relation 'comes immediately after'."
   ]
  }
 ],
 "metadata": {
  "kernelspec": {
   "display_name": "Python 3",
   "language": "python",
   "name": "python3"
  },
  "language_info": {
   "codemirror_mode": {
    "name": "ipython",
    "version": 3
   },
   "file_extension": ".py",
   "mimetype": "text/x-python",
   "name": "python",
   "nbconvert_exporter": "python",
   "pygments_lexer": "ipython3",
   "version": "3.12.10"
  }
 },
 "nbformat": 4,
 "nbformat_minor": 5
}
