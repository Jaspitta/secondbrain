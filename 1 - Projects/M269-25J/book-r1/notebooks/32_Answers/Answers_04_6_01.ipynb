{
 "cells": [
  {
   "cell_type": "markdown",
   "id": "0",
   "metadata": {},
   "source": [
    "#### Exercise 4.6.1 answer"
   ]
  },
  {
   "cell_type": "markdown",
   "id": "1",
   "metadata": {},
   "source": [
    "**Operation**: reverse\\\n",
    "**Inputs/Outputs**: *values*, a sequence\\\n",
    "**Preconditions**: true\\\n",
    "**Postconditions**: post-*values* =\n",
    "(pre-*values*[│pre-*values*│ - 1], pre-*values*[│pre-*values*│ - 2], ...,\n",
    "pre-*values*[1], pre-*values*[0])"
   ]
  }
 ],
 "metadata": {
  "kernelspec": {
   "display_name": "Python 3",
   "language": "python",
   "name": "python3"
  },
  "language_info": {
   "codemirror_mode": {
    "name": "ipython",
    "version": 3
   },
   "file_extension": ".py",
   "mimetype": "text/x-python",
   "name": "python",
   "nbconvert_exporter": "python",
   "pygments_lexer": "ipython3",
   "version": "3.12.10"
  }
 },
 "nbformat": 4,
 "nbformat_minor": 5
}
