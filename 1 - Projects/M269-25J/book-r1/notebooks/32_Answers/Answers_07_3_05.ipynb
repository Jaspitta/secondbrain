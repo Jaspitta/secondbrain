{
 "cells": [
  {
   "cell_type": "markdown",
   "id": "0",
   "metadata": {},
   "source": [
    "#### Exercise 7.3.5 answer"
   ]
  },
  {
   "cell_type": "markdown",
   "id": "1",
   "metadata": {},
   "source": [
    "Create a queue with numbers 1, 2, ..., *n* in that order,\n",
    "i.e. with 1 at the front: the number of the child Alice is pointing to first.\n",
    "For each of *n* − 1 rounds, repeatedly remove the number at the front and add\n",
    "it to the back of the queue. This simulates Alice pointing to the next child.\n",
    "Repeat this 27 times for each round. On the 28th time, don't add the number\n",
    "back to the queue: this simulates the child leaving the circle.\n",
    "After all rounds, the front item is the number of the last remaining child."
   ]
  },
  {
   "cell_type": "markdown",
   "id": "2",
   "metadata": {},
   "source": [
    "<div class=\"alert alert-info\">\n",
    "<strong>Info:</strong> This scheme of processing the item at the front of a queue and\n",
    "putting it back at the end is used to implement\n",
    "[round-robin scheduling](https://en.wikipedia.org/wiki/Round-robin_scheduling).\n",
    "</div>"
   ]
  }
 ],
 "metadata": {
  "kernelspec": {
   "display_name": "Python 3",
   "language": "python",
   "name": "python3"
  },
  "language_info": {
   "codemirror_mode": {
    "name": "ipython",
    "version": 3
   },
   "file_extension": ".py",
   "mimetype": "text/x-python",
   "name": "python",
   "nbconvert_exporter": "python",
   "pygments_lexer": "ipython3",
   "version": "3.12.10"
  }
 },
 "nbformat": 4,
 "nbformat_minor": 5
}
