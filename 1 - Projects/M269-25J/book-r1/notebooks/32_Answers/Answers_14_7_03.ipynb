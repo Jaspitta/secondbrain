{
 "cells": [
  {
   "cell_type": "markdown",
   "id": "0",
   "metadata": {},
   "source": [
    "#### Exercise 14.7.3 answer"
   ]
  },
  {
   "cell_type": "markdown",
   "id": "1",
   "metadata": {},
   "source": [
    "I use *item* as the output variable name.\n",
    "\n",
    "A sequence can't be split if it's empty (which the preconditions don't allow)\n",
    "or has a single item, i.e. *n* = 1. In that case, it must be *k* = 1 and\n",
    "the smallest item is the only item in the sequence.\n",
    "\n",
    "1. if *n* = 1:\n",
    "   1. let *item* be *unsorted*[0]\n",
    "1. otherwise:\n",
    "   1. let (*smaller*, *pivot*, *larger*) be partition(*unsorted*)\n",
    "   1. if │*smaller*│ = *k* − 1:\n",
    "      1. let *item* be *pivot*[0]\n",
    "   1. otherwise if │*smaller*│ ≥ *k*:\n",
    "      1. let *item* be quickselect(*smaller*, *key*, *k*)\n",
    "   1. otherwise:\n",
    "      1. let *item* be quickselect(*larger*, *key*, *k* − │*smaller*│ − 1)"
   ]
  }
 ],
 "metadata": {
  "kernelspec": {
   "display_name": "Python 3",
   "language": "python",
   "name": "python3"
  },
  "language_info": {
   "codemirror_mode": {
    "name": "ipython",
    "version": 3
   },
   "file_extension": ".py",
   "mimetype": "text/x-python",
   "name": "python",
   "nbconvert_exporter": "python",
   "pygments_lexer": "ipython3",
   "version": "3.12.10"
  }
 },
 "nbformat": 4,
 "nbformat_minor": 5
}
