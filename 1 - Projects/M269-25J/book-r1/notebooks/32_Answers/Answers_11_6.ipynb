{
 "cells": [
  {
   "cell_type": "markdown",
   "id": "0",
   "metadata": {},
   "source": [
    "### 30.8.6 Practice"
   ]
  },
  {
   "cell_type": "markdown",
   "id": "1",
   "metadata": {
    "nbsphinx-toctree": {
     "hidden": true,
     "maxdepth": 1,
     "numbered": false
    }
   },
   "source": [
    "1. [Exercise 11.6.1 answer](Answers_11_6_01.ipynb)\n",
    "1. [Exercise 11.6.2 answer](Answers_11_6_02.ipynb)\n",
    "1. [Exercise 11.6.3 answer](Answers_11_6_03.ipynb)\n",
    "1. [Exercise 11.6.4 answer](Answers_11_6_04.ipynb)\n",
    "1. [Exercise 11.6.5 answer](Answers_11_6_05.ipynb)\n",
    "1. [Exercise 11.6.6 answer](Answers_11_6_06.ipynb)\n",
    "1. [Exercise 11.6.7 answer](Answers_11_6_07.ipynb)\n",
    "1. [Exercise 11.6.8 answer](Answers_11_6_08.ipynb)\n",
    "1. [Exercise 11.6.9 answer](Answers_11_6_09.ipynb)\n",
    "1. [Exercise 11.6.10 answer](Answers_11_6_10.ipynb)\n",
    "1. [Exercise 11.6.11 answer](Answers_11_6_11.ipynb)\n",
    "1. [Exercise 11.6.12 answer](Answers_11_6_12.ipynb)"
   ]
  },
  {
   "cell_type": "markdown",
   "id": "2",
   "metadata": {},
   "source": [
    "⟵ [Previous section](Answers_09.ipynb) | [Up](32-introduction.ipynb) | [Next section](Answers_12.ipynb) ⟶"
   ]
  }
 ],
 "metadata": {
  "kernelspec": {
   "display_name": "Python 3",
   "language": "python",
   "name": "python3"
  },
  "language_info": {
   "codemirror_mode": {
    "name": "ipython",
    "version": 3
   },
   "file_extension": ".py",
   "mimetype": "text/x-python",
   "name": "python",
   "nbconvert_exporter": "python",
   "pygments_lexer": "ipython3",
   "version": "3.12.10"
  }
 },
 "nbformat": 4,
 "nbformat_minor": 5
}
