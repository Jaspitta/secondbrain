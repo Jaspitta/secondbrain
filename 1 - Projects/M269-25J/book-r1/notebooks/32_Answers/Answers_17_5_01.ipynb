{
 "cells": [
  {
   "cell_type": "markdown",
   "id": "0",
   "metadata": {},
   "source": [
    "#### Exercise 17.5.1 answer"
   ]
  },
  {
   "cell_type": "markdown",
   "id": "1",
   "metadata": {},
   "source": [
    "Operation | Implementation | Complexity\n",
    "-|-|-\n",
    "add node A | add key A with value `[]` to the dictionary | Θ(1)\n",
    "remove node A | remove A from all lists and delete the entry for A | Θ(*e*)\n",
    "has edge (A, B) | check if B is in the list for A | Θ(out-degree(A))\n",
    "add edge (A, B) | append B to the list for A | Θ(1)\n",
    "remove edge (A, B) | remove B from the list for A | Θ(out-degree(A))\n",
    "in-neighbours of A | return all B such that A is in the list for B | Θ(*e*)\n",
    "out-neighbours of A | return a copy of A's out-neighbours | Θ(out-degree(A))\n",
    "in-degree of A | count how many lists include A | Θ(*e*)\n",
    "\n",
    "You may have considered the out-neighbours operation to take constant time."
   ]
  }
 ],
 "metadata": {
  "kernelspec": {
   "display_name": "Python 3",
   "language": "python",
   "name": "python3"
  },
  "language_info": {
   "codemirror_mode": {
    "name": "ipython",
    "version": 3
   },
   "file_extension": ".py",
   "mimetype": "text/x-python",
   "name": "python",
   "nbconvert_exporter": "python",
   "pygments_lexer": "ipython3",
   "version": "3.12.10"
  }
 },
 "nbformat": 4,
 "nbformat_minor": 5
}
