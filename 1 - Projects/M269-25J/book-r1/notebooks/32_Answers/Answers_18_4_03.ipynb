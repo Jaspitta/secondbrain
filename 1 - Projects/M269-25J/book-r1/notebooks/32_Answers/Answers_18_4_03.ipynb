{
 "cells": [
  {
   "cell_type": "markdown",
   "id": "0",
   "metadata": {},
   "source": [
    "#### Exercise 18.4.3 answer"
   ]
  },
  {
   "cell_type": "markdown",
   "id": "1",
   "metadata": {},
   "source": [
    "I wish to capture the intuition that a central station is in the middle of\n",
    "all other stations. One can more quickly reach all other stations than\n",
    "from a peripheral station.\n",
    "\n",
    "Let *lc* be the largest cost of all shortest paths starting at a node A.\n",
    "In other words, all nodes can be reached from A with cost *lc* or less.\n",
    "I consider a node to be central if it has the smallest *lc* value of all nodes.\n",
    "\n",
    "To compute the central nodes, I do a linear search over all nodes,\n",
    "computing the *lc* of each node and keeping the lowest value found so far\n",
    "and the set of nodes which have it.\n",
    "\n",
    "To compute the *lc* for a node, I run Dijkstra's algorithm from that node,\n",
    "but instead of returning a tree I return the cost of the last node visited,\n",
    "i.e. the priority of the last edge added to the tree.\n",
    "\n",
    "If you have come up with a different notion of central node,\n",
    "please share it in the forums."
   ]
  }
 ],
 "metadata": {
  "kernelspec": {
   "display_name": "Python 3",
   "language": "python",
   "name": "python3"
  },
  "language_info": {
   "codemirror_mode": {
    "name": "ipython",
    "version": 3
   },
   "file_extension": ".py",
   "mimetype": "text/x-python",
   "name": "python",
   "nbconvert_exporter": "python",
   "pygments_lexer": "ipython3",
   "version": "3.12.10"
  }
 },
 "nbformat": 4,
 "nbformat_minor": 5
}
