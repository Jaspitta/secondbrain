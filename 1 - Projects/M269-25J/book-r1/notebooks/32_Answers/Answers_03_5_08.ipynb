{
 "cells": [
  {
   "cell_type": "markdown",
   "id": "0",
   "metadata": {},
   "source": [
    "#### Exercise 3.5.8 answer"
   ]
  },
  {
   "cell_type": "markdown",
   "id": "1",
   "metadata": {},
   "source": [
    "This is a decision problem, so the output is a Boolean.\n",
    "The calendar was introduced in October 1582,\n",
    "so the first year for which the leap year rule applies is 1583.\n",
    "\n",
    "**Function**: is leap year\\\n",
    "**Inputs**: *year*, an integer\\\n",
    "**Preconditions**: *year* > 1582\\\n",
    "**Output**: *leap*, a Boolean\\\n",
    "**Postconditions**:\n",
    "\n",
    "- if *year* mod 4 ≠ 0, then *leap* = false\n",
    "- if *year* mod 4 = 0 and *year* mod 100 ≠ 0, then *leap* = true\n",
    "- if *year* mod 100 = 0 and *year* mod 400 ≠ 0, then *leap* = false\n",
    "- if *year* mod 400 = 0, then *leap* = true\n",
    "\n",
    "If you have written the conditions differently, check that\n",
    "for every integer exactly one of the conditions is true.\n",
    "\n",
    "The first full year of the Gregorian calendar is an edge case\n",
    "and hence included in the test table.\n",
    "\n",
    "Case | *input* | *output*\n",
    "-|-|-\n",
    "divisible by 400 | 1600 | true\n",
    "divisible by 100 but not by 400 | 1700 | false\n",
    "divisible by 4 but not by 100| 2020 | true\n",
    "smallest value (not divisible by 4) | 1583 | false"
   ]
  }
 ],
 "metadata": {
  "kernelspec": {
   "display_name": "Python 3",
   "language": "python",
   "name": "python3"
  },
  "language_info": {
   "codemirror_mode": {
    "name": "ipython",
    "version": 3
   },
   "file_extension": ".py",
   "mimetype": "text/x-python",
   "name": "python",
   "nbconvert_exporter": "python",
   "pygments_lexer": "ipython3",
   "version": "3.12.10"
  }
 },
 "nbformat": 4,
 "nbformat_minor": 5
}
