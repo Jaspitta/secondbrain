{
 "cells": [
  {
   "cell_type": "markdown",
   "id": "0",
   "metadata": {},
   "source": [
    "#### Exercise 18.3.4 answer"
   ]
  },
  {
   "cell_type": "markdown",
   "id": "1",
   "metadata": {},
   "source": [
    "If all edges have the same weight *w* then every spanning tree has\n",
    "the same total weight (*n* – 1) × *w*, i.e. any spanning tree is an MST.\n",
    "\n",
    "We can thus ignore the weights and use any traversal algorithm,\n",
    "because it produces a spanning tree if the input is connected.\n",
    "DFS produces a 'long and thin' spanning tree, while BFS produces a 'bushy' tree."
   ]
  }
 ],
 "metadata": {
  "kernelspec": {
   "display_name": "Python 3",
   "language": "python",
   "name": "python3"
  },
  "language_info": {
   "codemirror_mode": {
    "name": "ipython",
    "version": 3
   },
   "file_extension": ".py",
   "mimetype": "text/x-python",
   "name": "python",
   "nbconvert_exporter": "python",
   "pygments_lexer": "ipython3",
   "version": "3.12.10"
  }
 },
 "nbformat": 4,
 "nbformat_minor": 5
}
