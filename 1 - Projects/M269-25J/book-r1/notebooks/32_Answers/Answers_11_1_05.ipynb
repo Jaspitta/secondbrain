{
 "cells": [
  {
   "cell_type": "markdown",
   "id": "0",
   "metadata": {},
   "source": [
    "#### Exercise 11.1.5 answer"
   ]
  },
  {
   "cell_type": "markdown",
   "id": "1",
   "metadata": {},
   "source": [
    "The following doesn't change any of the existing steps;\n",
    "it only adds new steps to keep a collection of the solutions found so far.\n",
    "\n",
    "1. let *best* be the first of *candidates*\n",
    "2. let *solutions* be an empty collection\n",
    "3. for each *candidate* in *candidates*:\n",
    "   1. if *candidate* is better than *best*:\n",
    "      1. let *best* be *candidate*\n",
    "      2. let *solutions* be a collection just with *best*\n",
    "   2. otherwise if *candidate* is as good as *best*:\n",
    "      1. add *candidate* to *solutions*\n",
    "\n",
    "Step&nbsp;3.1.2 creates the solutions collection afresh, with the new best candidate.\n",
    "\n",
    "Again, the output collection could be\n",
    "a sequence to keep solutions in the order they're found,\n",
    "or a set to avoid duplicate solutions."
   ]
  }
 ],
 "metadata": {
  "kernelspec": {
   "display_name": "Python 3",
   "language": "python",
   "name": "python3"
  },
  "language_info": {
   "codemirror_mode": {
    "name": "ipython",
    "version": 3
   },
   "file_extension": ".py",
   "mimetype": "text/x-python",
   "name": "python",
   "nbconvert_exporter": "python",
   "pygments_lexer": "ipython3",
   "version": "3.12.10"
  }
 },
 "nbformat": 4,
 "nbformat_minor": 5
}
