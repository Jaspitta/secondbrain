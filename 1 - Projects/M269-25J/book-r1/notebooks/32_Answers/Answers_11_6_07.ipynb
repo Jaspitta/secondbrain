{
 "cells": [
  {
   "cell_type": "markdown",
   "id": "0",
   "metadata": {},
   "source": [
    "#### Exercise 11.6.7 answer"
   ]
  },
  {
   "cell_type": "markdown",
   "id": "1",
   "metadata": {},
   "source": [
    "We can substantially reduce the search space by removing all products\n",
    "costing more than the voucher, before starting to generate the subsets.\n",
    "Each product removed halves the search space!\n",
    "\n",
    "We can stop as soon as we get a subset of products that adds up exactly to\n",
    "the voucher amount, as no subset will be better.\n",
    "\n",
    "We can also stop if all *k*-combinations exceed the voucher amount.\n",
    "It's pointless to continue searching: if any *k* products exceed the amount,\n",
    "so will any *k* + 1 products, any *k* + 2 products, etc.\n",
    "Checking if all *k*-combinations exceed the amount requires a Boolean flag,\n",
    "because we want to know if several candidates, together, satisfy some condition."
   ]
  }
 ],
 "metadata": {
  "kernelspec": {
   "display_name": "Python 3",
   "language": "python",
   "name": "python3"
  },
  "language_info": {
   "codemirror_mode": {
    "name": "ipython",
    "version": 3
   },
   "file_extension": ".py",
   "mimetype": "text/x-python",
   "name": "python",
   "nbconvert_exporter": "python",
   "pygments_lexer": "ipython3",
   "version": "3.12.10"
  }
 },
 "nbformat": 4,
 "nbformat_minor": 5
}
