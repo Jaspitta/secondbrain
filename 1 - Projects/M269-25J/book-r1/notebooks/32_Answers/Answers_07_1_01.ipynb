{
 "cells": [
  {
   "cell_type": "markdown",
   "id": "0",
   "metadata": {},
   "source": [
    "#### Exercise 7.1.1 answer"
   ]
  },
  {
   "cell_type": "markdown",
   "id": "1",
   "metadata": {},
   "source": [
    "The item is appended to the items already in the stack, so\n",
    "no index is necessary, which simplifies the definition.\n",
    "\n",
    "**Operation**: push\\\n",
    "**Inputs/Outputs**: *values*, a stack\\\n",
    "**Inputs**: *value*, an object\\\n",
    "**Preconditions**: true\\\n",
    "**Postconditions**: post-*values* =\n",
    "(pre-*values*[0], ..., pre-*values*[│pre-*values*│ − 1], *value*)"
   ]
  }
 ],
 "metadata": {
  "kernelspec": {
   "display_name": "Python 3",
   "language": "python",
   "name": "python3"
  },
  "language_info": {
   "codemirror_mode": {
    "name": "ipython",
    "version": 3
   },
   "file_extension": ".py",
   "mimetype": "text/x-python",
   "name": "python",
   "nbconvert_exporter": "python",
   "pygments_lexer": "ipython3",
   "version": "3.12.10"
  }
 },
 "nbformat": 4,
 "nbformat_minor": 5
}
