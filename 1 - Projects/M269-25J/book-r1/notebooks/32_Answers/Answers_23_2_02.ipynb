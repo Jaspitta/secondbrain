{
 "cells": [
  {
   "cell_type": "markdown",
   "id": "0",
   "metadata": {},
   "source": [
    "#### Exercise 23.2.2 answer"
   ]
  },
  {
   "cell_type": "code",
   "execution_count": 1,
   "id": "1",
   "metadata": {},
   "outputs": [],
   "source": [
    "%run -i ../m269_rec_list\n",
    "\n",
    "\n",
    "def lcs_topdown(left: str, right: str) -> str:\n",
    "    \"\"\"Return the LCS of both strings using top-down dynamic programming.\"\"\"\n",
    "\n",
    "    def lcs(left: str, right: str) -> str:\n",
    "        \"\"\"Auxiliary recursive function.\"\"\"\n",
    "        if (left, right) not in cache:\n",
    "            if left == '' or right == '':\n",
    "                cache[(left, right)] = ''\n",
    "            elif head(left) == head(right):\n",
    "                cache[(left, right)] = head(left) + lcs(tail(left), tail(right))\n",
    "            else:\n",
    "                skip_right = lcs(left, tail(right))\n",
    "                skip_left = lcs(tail(left), right)\n",
    "                if len(skip_left) > len(skip_right):\n",
    "                    cache[(left, right)] = skip_left\n",
    "                else:\n",
    "                    cache[(left, right)] = skip_right\n",
    "            # print() doesn't show quote marks, so add them\n",
    "            print(\"cache[(\", \"'\" + left + \"'\", \",\", \"'\" + right + \"'\", \")] =\",\n",
    "                  \"'\" + cache[(left, right)] + \"'\")\n",
    "        return cache[(left, right)]\n",
    "\n",
    "    cache = dict()\n",
    "    return lcs(left, right)"
   ]
  },
  {
   "cell_type": "markdown",
   "id": "2",
   "metadata": {},
   "source": [
    "I could have written `left[0]` instead of `head(left)` and\n",
    "`left[1:]` instead of `tail(left)` and similarly for the right string."
   ]
  }
 ],
 "metadata": {
  "kernelspec": {
   "display_name": "Python 3",
   "language": "python",
   "name": "python3"
  },
  "language_info": {
   "codemirror_mode": {
    "name": "ipython",
    "version": 3
   },
   "file_extension": ".py",
   "mimetype": "text/x-python",
   "name": "python",
   "nbconvert_exporter": "python",
   "pygments_lexer": "ipython3",
   "version": "3.12.10"
  }
 },
 "nbformat": 4,
 "nbformat_minor": 5
}
