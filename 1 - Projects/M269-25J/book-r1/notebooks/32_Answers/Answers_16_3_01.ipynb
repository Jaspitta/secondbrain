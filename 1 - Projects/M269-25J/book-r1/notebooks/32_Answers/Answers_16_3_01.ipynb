{
 "cells": [
  {
   "cell_type": "markdown",
   "id": "0",
   "metadata": {},
   "source": [
    "#### Exercise 16.3.1 answer"
   ]
  },
  {
   "cell_type": "markdown",
   "id": "1",
   "metadata": {},
   "source": [
    "As mentioned earlier, the literals are the leaves of the expression trees.\n",
    "I add a base case to print leaves without enclosing brackets."
   ]
  },
  {
   "cell_type": "code",
   "execution_count": 1,
   "id": "2",
   "metadata": {},
   "outputs": [],
   "source": [
    "%run -i ../m269_tree\n",
    "\n",
    "\n",
    "def infix(expression: Tree) -> None:\n",
    "    \"\"\"Print infix form of expression, with full brackets.\"\"\"\n",
    "    if is_empty(expression):\n",
    "        return\n",
    "    if is_leaf(expression):\n",
    "        print(expression.root, end=\"\")\n",
    "        return\n",
    "    print(\"(\", end=\"\")\n",
    "    infix(expression.left)\n",
    "    print(\" \", expression.root, \" \", end=\"\")\n",
    "    infix(expression.right)\n",
    "    print(\")\", end=\"\")"
   ]
  }
 ],
 "metadata": {
  "kernelspec": {
   "display_name": "Python 3",
   "language": "python",
   "name": "python3"
  },
  "language_info": {
   "codemirror_mode": {
    "name": "ipython",
    "version": 3
   },
   "file_extension": ".py",
   "mimetype": "text/x-python",
   "name": "python",
   "nbconvert_exporter": "python",
   "pygments_lexer": "ipython3",
   "version": "3.12.10"
  }
 },
 "nbformat": 4,
 "nbformat_minor": 5
}
