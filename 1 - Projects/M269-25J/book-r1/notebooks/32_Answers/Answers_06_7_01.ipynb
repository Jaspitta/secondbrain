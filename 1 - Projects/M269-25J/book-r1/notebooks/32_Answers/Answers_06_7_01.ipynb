{
 "cells": [
  {
   "cell_type": "markdown",
   "id": "0",
   "metadata": {},
   "source": [
    "#### Exercise 6.7.1 answer"
   ]
  },
  {
   "cell_type": "markdown",
   "id": "1",
   "metadata": {},
   "source": [
    "If the item to be removed is the first one, i.e. *index* = 0,\n",
    "make the head point to the next node.\n",
    "Otherwise, iterate over the linked list to get a reference to the node before\n",
    "the one to be removed, i.e. at *index* − 1.\n",
    "Make that node point to the node after the one to be removed.\n",
    "This bypasses the node at position *index*, thus removing it from the chain."
   ]
  }
 ],
 "metadata": {
  "kernelspec": {
   "display_name": "Python 3",
   "language": "python",
   "name": "python3"
  },
  "language_info": {
   "codemirror_mode": {
    "name": "ipython",
    "version": 3
   },
   "file_extension": ".py",
   "mimetype": "text/x-python",
   "name": "python",
   "nbconvert_exporter": "python",
   "pygments_lexer": "ipython3",
   "version": "3.12.10"
  }
 },
 "nbformat": 4,
 "nbformat_minor": 5
}
