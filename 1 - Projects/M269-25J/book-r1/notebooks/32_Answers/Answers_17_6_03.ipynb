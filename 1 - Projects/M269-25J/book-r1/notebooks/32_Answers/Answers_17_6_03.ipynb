{
 "cells": [
  {
   "cell_type": "markdown",
   "id": "0",
   "metadata": {},
   "source": [
    "#### Exercise 17.6.3 answer"
   ]
  },
  {
   "cell_type": "markdown",
   "id": "1",
   "metadata": {},
   "source": [
    "The following solution collects all degree values and checks there's only one.\n",
    "A more efficient algorithm would stop as soon as a different degree is found,\n",
    "without using a set. I'll leave that as an optional exercise."
   ]
  },
  {
   "cell_type": "code",
   "execution_count": 1,
   "id": "2",
   "metadata": {},
   "outputs": [],
   "source": [
    "%run -i ../m269_digraph\n",
    "%run -i ../m269_ungraph\n",
    "\n",
    "\n",
    "def same_degree(graph: UndirectedGraph) -> bool:\n",
    "    \"\"\"Return True if and only if all nodes have the same degree.\n",
    "\n",
    "    Preconditions: graph isn't empty\n",
    "    \"\"\"\n",
    "    all_degrees = set()\n",
    "    for node in graph.nodes():\n",
    "        all_degrees.add(graph.degree(node))\n",
    "    return len(all_degrees) == 1"
   ]
  }
 ],
 "metadata": {
  "kernelspec": {
   "display_name": "Python 3",
   "language": "python",
   "name": "python3"
  },
  "language_info": {
   "codemirror_mode": {
    "name": "ipython",
    "version": 3
   },
   "file_extension": ".py",
   "mimetype": "text/x-python",
   "name": "python",
   "nbconvert_exporter": "python",
   "pygments_lexer": "ipython3",
   "version": "3.12.10"
  }
 },
 "nbformat": 4,
 "nbformat_minor": 5
}
