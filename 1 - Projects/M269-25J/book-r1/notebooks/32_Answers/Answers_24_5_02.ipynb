{
 "cells": [
  {
   "cell_type": "markdown",
   "id": "0",
   "metadata": {},
   "source": [
    "#### Exercise 24.5.2 answer"
   ]
  },
  {
   "cell_type": "markdown",
   "id": "1",
   "metadata": {},
   "source": [
    "- Which of the templates applies to this problem?\n",
    "\n",
    "This is an optimisation problem on all possible paths so\n",
    "I will use the template that generates permutations and keeps the best one.\n",
    "\n",
    "- What are the candidates and the extensions?\n",
    "\n",
    "Like for Trackword, the candidates are paths in the grid\n",
    "(permutations of squares) and the extensions are the sets of unvisited squares.\n",
    "\n",
    "- When is an extension compatible with the current candidate?\n",
    "\n",
    "If the path is empty, it can be extended with any square. Otherwise it can only\n",
    "be extended with a square that is vertically or horizontally adjacent\n",
    "and has a larger number than the last square of the path.\n",
    "\n",
    "- What are the local and global constraints?\n",
    "\n",
    "The next square being adjacent and having a larger number is a local constraint.\n",
    "There are no global constraints.\n",
    "\n",
    "- When is a candidate a solution?\n",
    "\n",
    "Any partial candidate can be a solution.\n",
    "Even if there are still extensions, none may be compatible with the candidate.\n",
    "If the candidate's length is the highest so far, it's the new best solution.\n",
    "\n",
    "- What is the initial best solution?\n",
    "\n",
    "I can't see a way to quickly compute an initial solution that's\n",
    "close to the best one, so I start with a path of length one: a single square.\n",
    "Any square will do."
   ]
  }
 ],
 "metadata": {
  "kernelspec": {
   "display_name": "Python 3",
   "language": "python",
   "name": "python3"
  },
  "language_info": {
   "codemirror_mode": {
    "name": "ipython",
    "version": 3
   },
   "file_extension": ".py",
   "mimetype": "text/x-python",
   "name": "python",
   "nbconvert_exporter": "python",
   "pygments_lexer": "ipython3",
   "version": "3.12.10"
  }
 },
 "nbformat": 4,
 "nbformat_minor": 5
}
