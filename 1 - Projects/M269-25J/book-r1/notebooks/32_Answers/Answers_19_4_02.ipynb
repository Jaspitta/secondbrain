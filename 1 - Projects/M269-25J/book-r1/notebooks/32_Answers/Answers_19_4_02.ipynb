{
 "cells": [
  {
   "cell_type": "markdown",
   "id": "0",
   "metadata": {},
   "source": [
    "#### Exercise 19.4.2 answer"
   ]
  },
  {
   "cell_type": "markdown",
   "id": "1",
   "metadata": {},
   "source": [
    "The base case is when the sequence has one number, which must be the largest.\n",
    "\n",
    "To know in which part the middle integer is, we must compare it to its\n",
    "left or right neighbour. Let's use the number to the right of the middle.\n",
    "\n",
    "The next figure shows the same sequence shapes with five values as before.\n",
    "The *x*-axis includes indices M and M+1 for the middle value and next value.\n",
    "\n",
    "<p id=\"fig-19.4.2\"></p>\n",
    "\n",
    "*[Figure 19.4.2](../33_Figures/Figures_19_4.ipynb#Figure-19.4.2)*\n",
    "\n",
    "![Image 19_4_middle.png](19_4_middle.png)\n",
    "\n",
    "If the middle integer is larger than the integer to its right,\n",
    "as it happens in the central chart,\n",
    "then the middle integer is in the descending part, so the maximum is\n",
    "in the middle (if it's the start of the descending part) or in the left half.\n",
    "\n",
    "There are no repeated consecutive integers, so\n",
    "if the middle integer isn't larger than the next integer, it must be smaller,\n",
    "as it happens in the left- and right-hand charts.\n",
    "This means the middle integer is in the ascending part, so the maximum\n",
    "is in the right half, excluding the middle.\n",
    "\n",
    "So far I'm assuming there's a value after the middle one. What if there's none,\n",
    "i.e. if the middle number is the last value of the sequence? This only happens\n",
    "for sequences of length&nbsp;1 (already treated as a base case) and 2.\n",
    "\n",
    "If there are only *n* = 2 numbers in the sequence, then the middle number\n",
    "is at index *n* / 2 = 1. The middle number is the second one\n",
    "and there's no number to the right to compare it to.\n",
    "One simple solution is to handle sequences of two numbers as another base case\n",
    "and return the larger of both numbers."
   ]
  }
 ],
 "metadata": {
  "kernelspec": {
   "display_name": "Python 3",
   "language": "python",
   "name": "python3"
  },
  "language_info": {
   "codemirror_mode": {
    "name": "ipython",
    "version": 3
   },
   "file_extension": ".py",
   "mimetype": "text/x-python",
   "name": "python",
   "nbconvert_exporter": "python",
   "pygments_lexer": "ipython3",
   "version": "3.12.10"
  }
 },
 "nbformat": 4,
 "nbformat_minor": 5
}
