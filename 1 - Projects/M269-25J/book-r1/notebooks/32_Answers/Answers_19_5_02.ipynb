{
 "cells": [
  {
   "cell_type": "markdown",
   "id": "0",
   "metadata": {},
   "source": [
    "#### Exercise 19.5.2 answer"
   ]
  },
  {
   "cell_type": "markdown",
   "id": "1",
   "metadata": {},
   "source": [
    "If the knight can move from square A to square B, it can also move back to A.\n",
    "In other words, the relation 'can move from A to B' is symmetric.\n",
    "I'll use an undirected unweighted graph:\n",
    "the nodes represent the squares and an edge connects two nodes if it's\n",
    "possible for the knight to move from one to the other."
   ]
  }
 ],
 "metadata": {
  "kernelspec": {
   "display_name": "Python 3",
   "language": "python",
   "name": "python3"
  },
  "language_info": {
   "codemirror_mode": {
    "name": "ipython",
    "version": 3
   },
   "file_extension": ".py",
   "mimetype": "text/x-python",
   "name": "python",
   "nbconvert_exporter": "python",
   "pygments_lexer": "ipython3",
   "version": "3.12.10"
  }
 },
 "nbformat": 4,
 "nbformat_minor": 5
}
