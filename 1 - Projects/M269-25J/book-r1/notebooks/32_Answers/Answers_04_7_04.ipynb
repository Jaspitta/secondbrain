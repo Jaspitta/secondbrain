{
 "cells": [
  {
   "cell_type": "markdown",
   "id": "0",
   "metadata": {},
   "source": [
    "#### Exercise 4.7.4 answer"
   ]
  },
  {
   "cell_type": "markdown",
   "id": "1",
   "metadata": {},
   "source": [
    "Strings can't be modified, so appending is replaced by concatenation.\n",
    "\n",
    "1. let *reverse* be the empty string\n",
    "2. for each *index* from │*values*│ - 1 down to 0:\n",
    "   1. let *reverse* be *reverse* + *values*[*index*]\n",
    "\n",
    "If you want additional practice, then create a new test table, copy\n",
    "the `reverse_list_2` function, rename it to `reverse_string`,\n",
    "change the header, docstring and body as necessary, and test it."
   ]
  }
 ],
 "metadata": {
  "kernelspec": {
   "display_name": "Python 3",
   "language": "python",
   "name": "python3"
  },
  "language_info": {
   "codemirror_mode": {
    "name": "ipython",
    "version": 3
   },
   "file_extension": ".py",
   "mimetype": "text/x-python",
   "name": "python",
   "nbconvert_exporter": "python",
   "pygments_lexer": "ipython3",
   "version": "3.12.10"
  }
 },
 "nbformat": 4,
 "nbformat_minor": 5
}
