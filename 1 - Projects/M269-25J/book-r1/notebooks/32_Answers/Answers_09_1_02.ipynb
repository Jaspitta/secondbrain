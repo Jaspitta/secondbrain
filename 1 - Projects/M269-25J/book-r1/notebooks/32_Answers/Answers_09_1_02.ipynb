{
 "cells": [
  {
   "cell_type": "markdown",
   "id": "0",
   "metadata": {},
   "source": [
    "#### Exercise 9.1.2 answer"
   ]
  },
  {
   "cell_type": "markdown",
   "id": "1",
   "metadata": {},
   "source": [
    "A straightforward algorithm checks whether each letter from 'a' to 'z'\n",
    "occurs in *text*. If not, it's appended to *missing*, which starts empty.\n",
    "\n",
    "1. let *missing* be the empty string\n",
    "2. for each *letter* in 'abc...xyz':\n",
    "   1. if *letter* isn't in *text*:\n",
    "      1. let *missing* be the concatenation of *missing* and *letter*\n",
    "\n",
    "Step&nbsp;2.1 does a linear search over the whole text for each letter.\n",
    "The order and frequency of the characters in *text* don't matter,\n",
    "so the appropriate data type to represent the text is a set.\n",
    "This reduces *text* to its unique characters,\n",
    "i.e. a much smaller collection in the typical case,\n",
    "making step&nbsp;2.1 more efficient.\n",
    "\n",
    "1. let *missing* be the empty string\n",
    "2. let *occurring* be the set of characters in *text*\n",
    "2. for each *letter* in 'abc...xyz':\n",
    "   1. if *letter* isn't in *occurring*:\n",
    "      1. let *missing* be the concatenation of *missing* and *letter*\n",
    "\n",
    "This makes me think of a second algorithm that uses set operations to directly\n",
    "compute the missing letters.\n",
    "The resulting set must be converted to a sorted string.\n",
    "\n",
    "1. let *occurring* be the set of characters in *text*\n",
    "1. let *all* be the set of letters from 'a' to 'z'\n",
    "1. let *absent* be *all* − *occurring*\n",
    "1. let *ordered* be *absent* as a sorted list\n",
    "1. let *missing* be the empty string\n",
    "1. for each *letter* in *ordered*:\n",
    "   1. let *missing* be the concatenation of *missing* and *letter*\n",
    "\n",
    "Step&nbsp;4 can be implemented with Python's `sorted` function."
   ]
  }
 ],
 "metadata": {
  "kernelspec": {
   "display_name": "Python 3",
   "language": "python",
   "name": "python3"
  },
  "language_info": {
   "codemirror_mode": {
    "name": "ipython",
    "version": 3
   },
   "file_extension": ".py",
   "mimetype": "text/x-python",
   "name": "python",
   "nbconvert_exporter": "python",
   "pygments_lexer": "ipython3",
   "version": "3.12.10"
  }
 },
 "nbformat": 4,
 "nbformat_minor": 5
}
