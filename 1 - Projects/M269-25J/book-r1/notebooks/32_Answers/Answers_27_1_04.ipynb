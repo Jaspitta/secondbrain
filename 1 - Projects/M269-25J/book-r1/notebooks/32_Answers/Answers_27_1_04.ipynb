{
 "cells": [
  {
   "cell_type": "markdown",
   "id": "0",
   "metadata": {},
   "source": [
    "#### Exercise 27.1.4 answer"
   ]
  },
  {
   "cell_type": "markdown",
   "id": "1",
   "metadata": {},
   "source": [
    "We need eight states to remember all possible combinations of\n",
    "conditions that have been satisfied so far:\n",
    "\n",
    "- 'start' (no letter, digit or mark)\n",
    "- 'letter', 'digit' and 'mark' (only one kind of character)\n",
    "- 'letter+digit', 'letter+mark', 'digit+mark' (only two kinds of character)\n",
    "- 'all' (all three kinds of character).\n",
    "\n",
    "Apart from the initial state, the states may have any name you wish."
   ]
  }
 ],
 "metadata": {
  "kernelspec": {
   "display_name": "Python 3",
   "language": "python",
   "name": "python3"
  },
  "language_info": {
   "codemirror_mode": {
    "name": "ipython",
    "version": 3
   },
   "file_extension": ".py",
   "mimetype": "text/x-python",
   "name": "python",
   "nbconvert_exporter": "python",
   "pygments_lexer": "ipython3",
   "version": "3.12.10"
  }
 },
 "nbformat": 4,
 "nbformat_minor": 5
}
