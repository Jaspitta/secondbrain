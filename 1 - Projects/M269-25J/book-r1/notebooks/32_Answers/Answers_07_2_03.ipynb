{
 "cells": [
  {
   "cell_type": "markdown",
   "id": "0",
   "metadata": {},
   "source": [
    "#### Exercise 7.2.3 answer"
   ]
  },
  {
   "cell_type": "markdown",
   "id": "1",
   "metadata": {},
   "source": [
    "If there are no square brackets, it's pointless to keep a stack that contains\n",
    "just '(': we only need to know how many of them are in the stack.\n",
    "An integer counter can thus replace the stack. The algorithm becomes:\n",
    "\n",
    "> Initialise  an integer counter with value zero.\n",
    "> It will count how many parentheses were opened but not yet closed.\n",
    "> Iterate over the string.\n",
    "> Increment the counter for each '(' and decrement it for each ')'.\n",
    "> If the counter becomes negative, then a ')' has no matching '(',\n",
    "> so stop immediately: the parentheses are unbalanced.\n",
    "> If the end of the string is reached, then the parentheses are balanced\n",
    "> if and only if the counter is zero."
   ]
  },
  {
   "cell_type": "markdown",
   "id": "2",
   "metadata": {},
   "source": [
    "<div class=\"alert alert-warning\">\n",
    "<strong>Note:</strong> Only use a collection data type if you need to track the individual items.\n",
    "</div>"
   ]
  }
 ],
 "metadata": {
  "kernelspec": {
   "display_name": "Python 3",
   "language": "python",
   "name": "python3"
  },
  "language_info": {
   "codemirror_mode": {
    "name": "ipython",
    "version": 3
   },
   "file_extension": ".py",
   "mimetype": "text/x-python",
   "name": "python",
   "nbconvert_exporter": "python",
   "pygments_lexer": "ipython3",
   "version": "3.12.10"
  }
 },
 "nbformat": 4,
 "nbformat_minor": 5
}
