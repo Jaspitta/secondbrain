{
 "cells": [
  {
   "cell_type": "markdown",
   "id": "0",
   "metadata": {},
   "source": [
    "#### Exercise 24.4.1 answer"
   ]
  },
  {
   "cell_type": "markdown",
   "id": "1",
   "metadata": {},
   "source": [
    "The base cases are when either string is empty.\n",
    "In such cases, the distance is the number of characters of the other string,\n",
    "e.g. it takes three deletions to transform 'yes' into '',\n",
    "and two insertions to transform '' into 'no'.\n",
    "\n",
    "- if *left* = '': edit(*left*, *right*) = │*right*│\n",
    "- if *right* = '': edit(*left*, *right*) = │*left*│\n",
    "\n",
    "If the heads are equal, we just skip them: no edit operation is needed.\n",
    "\n",
    "- if head(*left*) = head(*right*):\n",
    "   edit(*left*, *right*) = edit(tail(*left*), tail(*right*))\n",
    "\n",
    "If the heads differ, we use one operation to transform the left into\n",
    "the right string, but we don't know which. We may have to\n",
    "\n",
    "- delete the left head, e.g. to turn 'rate' into 'ate'\n",
    "- insert the right head, e.g. to turn 'rate' into 'grate'\n",
    "- replace the left head with the right one, e.g. to turn 'rate' into 'fate'.\n",
    "\n",
    "In each of these cases, we do one edit operation and\n",
    "skip one or both heads to continue processing the tails.\n",
    "\n",
    "- otherwise: edit(*left*, *right*) = lowest of\n",
    "   - 1 + edit(tail(*left*), *right*)\n",
    "   - 1 + edit(*left*, tail(*right*))\n",
    "   - 1 + edit(tail(*left*), tail(*right*))"
   ]
  }
 ],
 "metadata": {
  "kernelspec": {
   "display_name": "Python 3",
   "language": "python",
   "name": "python3"
  },
  "language_info": {
   "codemirror_mode": {
    "name": "ipython",
    "version": 3
   },
   "file_extension": ".py",
   "mimetype": "text/x-python",
   "name": "python",
   "nbconvert_exporter": "python",
   "pygments_lexer": "ipython3",
   "version": "3.12.10"
  }
 },
 "nbformat": 4,
 "nbformat_minor": 5
}
