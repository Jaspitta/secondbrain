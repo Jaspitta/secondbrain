{
 "cells": [
  {
   "cell_type": "markdown",
   "id": "0",
   "metadata": {},
   "source": [
    "#### Exercise 19.4.3 answer"
   ]
  },
  {
   "cell_type": "code",
   "execution_count": 1,
   "id": "1",
   "metadata": {},
   "outputs": [
    {
     "name": "stdout",
     "output_type": "stream",
     "text": [
      "Testing max_up_down...\n",
      "Tests finished: 4 passed (100%), 0 failed.\n"
     ]
    }
   ],
   "source": [
    "from algoesup import test\n",
    "\n",
    "\n",
    "def max_up_down(numbers: list) -> int:\n",
    "    \"\"\"Return the largest of numbers.\n",
    "\n",
    "    Preconditions:\n",
    "    - numbers is a non-empty list of non-duplicated integers\n",
    "    - numbers first ascend and then descend\n",
    "    - the ascending or the descending part may be empty\n",
    "    \"\"\"\n",
    "    start = 0\n",
    "    end = len(numbers)  # search in the slice [start:end]\n",
    "    while end - start > 2:\n",
    "        middle = start + (end - start) // 2\n",
    "        # at least 3 numbers, so there's one after the middle one\n",
    "        if numbers[middle] < numbers[middle + 1]:\n",
    "            # ascending part: maximum comes after the middle\n",
    "            start = middle + 1\n",
    "        else:\n",
    "            # descending part: maximum is middle or to its left\n",
    "            end = middle + 1\n",
    "    if end - start == 2:\n",
    "        return max(numbers[start], numbers[start + 1])\n",
    "    else:\n",
    "        return numbers[start]\n",
    "\n",
    "\n",
    "max_up_down_tests = [\n",
    "    # case,             numbers,           largest\n",
    "    ('1 number',        [-1],                  -1),\n",
    "    ('only descending', [3, 2],                 3),\n",
    "    ('only ascending',  [-3, -1, 0],            0),\n",
    "    ('up and down',     [-3, -1, 0, 3, 2, -1],  3),\n",
    "]\n",
    "\n",
    "test(max_up_down, max_up_down_tests)"
   ]
  },
  {
   "cell_type": "markdown",
   "id": "2",
   "metadata": {},
   "source": [
    "<div class=\"alert alert-info\">\n",
    "<strong>Info:</strong> This is LeetCode problem\n",
    "<a href=\"https://leetcode.com/problems/peak-index-in-a-mountain-array/\">852</a>.\n",
    "</div>"
   ]
  }
 ],
 "metadata": {
  "kernelspec": {
   "display_name": "Python 3",
   "language": "python",
   "name": "python3"
  },
  "language_info": {
   "codemirror_mode": {
    "name": "ipython",
    "version": 3
   },
   "file_extension": ".py",
   "mimetype": "text/x-python",
   "name": "python",
   "nbconvert_exporter": "python",
   "pygments_lexer": "ipython3",
   "version": "3.12.10"
  }
 },
 "nbformat": 4,
 "nbformat_minor": 5
}
