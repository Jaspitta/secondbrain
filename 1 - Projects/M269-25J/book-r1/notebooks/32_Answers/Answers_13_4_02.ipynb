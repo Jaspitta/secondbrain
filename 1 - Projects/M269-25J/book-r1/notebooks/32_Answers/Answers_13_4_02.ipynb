{
 "cells": [
  {
   "cell_type": "markdown",
   "id": "0",
   "metadata": {},
   "source": [
    "#### Exercise 13.4.2 answer"
   ]
  },
  {
   "cell_type": "markdown",
   "id": "1",
   "metadata": {},
   "source": [
    "All operations take constant time and the recursive call is made on one half, so\n",
    "\n",
    "- T(0) = Θ(1)\n",
    "- T(*n*) = T(*n* / 2) + Θ(1).\n",
    "\n",
    "As indicated for the [exponentiation algorithm](../13_Divide/13_2_decrease_half.ipynb#13.2.3-Complexity),\n",
    "this recursive definition leads to T(*n*) = Θ(log *n*)."
   ]
  }
 ],
 "metadata": {
  "kernelspec": {
   "display_name": "Python 3",
   "language": "python",
   "name": "python3"
  },
  "language_info": {
   "codemirror_mode": {
    "name": "ipython",
    "version": 3
   },
   "file_extension": ".py",
   "mimetype": "text/x-python",
   "name": "python",
   "nbconvert_exporter": "python",
   "pygments_lexer": "ipython3",
   "version": "3.12.10"
  }
 },
 "nbformat": 4,
 "nbformat_minor": 5
}
