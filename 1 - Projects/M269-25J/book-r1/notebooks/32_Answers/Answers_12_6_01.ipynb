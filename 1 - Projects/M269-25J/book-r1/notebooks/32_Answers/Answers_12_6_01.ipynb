{
 "cells": [
  {
   "cell_type": "markdown",
   "id": "0",
   "metadata": {},
   "source": [
    "#### Exercise 12.6.1 answer"
   ]
  },
  {
   "cell_type": "markdown",
   "id": "1",
   "metadata": {},
   "source": [
    "1. if *start* = *end*:\n",
    "   1. let *solutions* be ()\n",
    "2. otherwise:\n",
    "   1. let *solutions* be search(*candidates*, *start* + 1, *end*)\n",
    "   2. if *candidates*[*start*] satisfies conditions:\n",
    "      1. let *solutions* be prepend(*candidates*[*start*], *solutions*)"
   ]
  }
 ],
 "metadata": {
  "kernelspec": {
   "display_name": "Python 3",
   "language": "python",
   "name": "python3"
  },
  "language_info": {
   "codemirror_mode": {
    "name": "ipython",
    "version": 3
   },
   "file_extension": ".py",
   "mimetype": "text/x-python",
   "name": "python",
   "nbconvert_exporter": "python",
   "pygments_lexer": "ipython3",
   "version": "3.12.10"
  }
 },
 "nbformat": 4,
 "nbformat_minor": 5
}
