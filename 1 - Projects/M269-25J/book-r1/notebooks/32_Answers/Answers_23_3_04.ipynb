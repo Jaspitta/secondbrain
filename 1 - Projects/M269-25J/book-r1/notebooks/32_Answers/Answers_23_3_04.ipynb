{
 "cells": [
  {
   "cell_type": "markdown",
   "id": "0",
   "metadata": {},
   "source": [
    "#### Exercise 23.3.4 answer"
   ]
  },
  {
   "cell_type": "code",
   "execution_count": 1,
   "id": "1",
   "metadata": {},
   "outputs": [],
   "source": [
    "def knapsack_bottomup(items: list, capacity: int) -> list:  # noqa: D103\n",
    "    cache = []\n",
    "    for index in range(len(items) + 1):\n",
    "        cache.append([None] * (capacity + 1))\n",
    "\n",
    "    for index in range(len(items), -1, -1):\n",
    "        for c in range(capacity + 1):\n",
    "            if index == len(items) or c == 0:\n",
    "                cache[index][c] = []\n",
    "            else:\n",
    "                item = items[index]\n",
    "                skip = cache[index + 1][c]\n",
    "                if item[WEIGHT] > c:\n",
    "                    cache[index][c] = skip\n",
    "                else:\n",
    "                    take = [item] + cache[index+1][c - item[WEIGHT]]\n",
    "                    if value(skip) > value(take):\n",
    "                        cache[index][c] = skip\n",
    "                    else:\n",
    "                        cache[index][c] = take\n",
    "\n",
    "    return cache[0][capacity]"
   ]
  }
 ],
 "metadata": {
  "kernelspec": {
   "display_name": "Python 3",
   "language": "python",
   "name": "python3"
  },
  "language_info": {
   "codemirror_mode": {
    "name": "ipython",
    "version": 3
   },
   "file_extension": ".py",
   "mimetype": "text/x-python",
   "name": "python",
   "nbconvert_exporter": "python",
   "pygments_lexer": "ipython3",
   "version": "3.12.10"
  }
 },
 "nbformat": 4,
 "nbformat_minor": 5
}
