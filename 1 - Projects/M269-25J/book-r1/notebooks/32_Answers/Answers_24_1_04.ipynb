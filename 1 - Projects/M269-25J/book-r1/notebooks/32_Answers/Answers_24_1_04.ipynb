{
 "cells": [
  {
   "cell_type": "markdown",
   "id": "0",
   "metadata": {},
   "source": [
    "#### Exercise 24.1.4 answer"
   ]
  },
  {
   "cell_type": "markdown",
   "id": "1",
   "metadata": {},
   "source": [
    "Initialise the *safe* counter to zero. Iterate over each node of the graph.\n",
    "If the node isn't *assembly*, use Dijkstra's algorithm to find\n",
    "the shortest path (and its length) from that node to *assembly*.\n",
    "If the length of the path, i.e. the node's distance from *assembly*,\n",
    "doesn't exceed *time*, then increment *safe*."
   ]
  }
 ],
 "metadata": {
  "kernelspec": {
   "display_name": "Python 3",
   "language": "python",
   "name": "python3"
  },
  "language_info": {
   "codemirror_mode": {
    "name": "ipython",
    "version": 3
   },
   "file_extension": ".py",
   "mimetype": "text/x-python",
   "name": "python",
   "nbconvert_exporter": "python",
   "pygments_lexer": "ipython3",
   "version": "3.12.10"
  }
 },
 "nbformat": 4,
 "nbformat_minor": 5
}
