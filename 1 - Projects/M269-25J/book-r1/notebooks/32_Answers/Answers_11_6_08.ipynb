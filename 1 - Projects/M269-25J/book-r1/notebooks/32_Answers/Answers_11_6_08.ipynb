{
 "cells": [
  {
   "cell_type": "markdown",
   "id": "0",
   "metadata": {},
   "source": [
    "#### Exercise 11.6.8 answer"
   ]
  },
  {
   "cell_type": "markdown",
   "id": "1",
   "metadata": {},
   "source": [
    "The candidates are all possible slices of *t* of the same length as *s*.\n",
    "For each index *start* from 0 to │*t*│ − │*s*│,\n",
    "the algorithm generates the slice *t*[*start*:*start* + │*s*│]\n",
    "and tests if the slice is equal to *s*.\n",
    "If so, the algorithm stops with output true: *s* occurs in *t* at index *start*.\n",
    "If the loop reaches the end, *s* doesn't occur in *t* and the output is false."
   ]
  }
 ],
 "metadata": {
  "kernelspec": {
   "display_name": "Python 3",
   "language": "python",
   "name": "python3"
  },
  "language_info": {
   "codemirror_mode": {
    "name": "ipython",
    "version": 3
   },
   "file_extension": ".py",
   "mimetype": "text/x-python",
   "name": "python",
   "nbconvert_exporter": "python",
   "pygments_lexer": "ipython3",
   "version": "3.12.10"
  }
 },
 "nbformat": 4,
 "nbformat_minor": 5
}
