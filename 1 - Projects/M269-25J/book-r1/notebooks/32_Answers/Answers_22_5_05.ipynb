{
 "cells": [
  {
   "cell_type": "markdown",
   "id": "0",
   "metadata": {},
   "source": [
    "#### Exercise 22.5.5 answer"
   ]
  },
  {
   "cell_type": "markdown",
   "id": "1",
   "metadata": {},
   "source": [
    "Here is the modified code, without the docstring and the print statements.\n",
    "```python\n",
    "def extend(path: list, nodes: set,\n",
    "            graph: WeightedUndirectedGraph, shortest: list) -> None:\n",
    "    if len(nodes) == 0:\n",
    "        # if is_tour(path):             # removed line\n",
    "        path_length = length(path, graph)\n",
    "        if path_length < shortest[VALUE]:\n",
    "            shortest[SOLUTION] = path\n",
    "            shortest[VALUE] = path_length\n",
    "    for node in nodes:\n",
    "        if node != 0 or nodes == {0}:   # added line\n",
    "            if can_extend(node, path, graph, shortest):\n",
    "                extend(path + [node], nodes - {node}, graph, shortest)\n",
    "```"
   ]
  }
 ],
 "metadata": {
  "kernelspec": {
   "display_name": "Python 3",
   "language": "python",
   "name": "python3"
  },
  "language_info": {
   "codemirror_mode": {
    "name": "ipython",
    "version": 3
   },
   "file_extension": ".py",
   "mimetype": "text/x-python",
   "name": "python",
   "nbconvert_exporter": "python",
   "pygments_lexer": "ipython3",
   "version": "3.12.10"
  }
 },
 "nbformat": 4,
 "nbformat_minor": 5
}
