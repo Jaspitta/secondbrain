{
 "cells": [
  {
   "cell_type": "markdown",
   "id": "0",
   "metadata": {},
   "source": [
    "#### Exercise 27.2.2 answer"
   ]
  },
  {
   "cell_type": "markdown",
   "id": "1",
   "metadata": {},
   "source": [
    "We need one marker symbol per letter,\n",
    "so that we can replace each marker with the original letter.\n",
    "The markers can be negative numbers (like `-1` for 'a' to `-52` for 'Z'),\n",
    "strings (e.g. `'was a'`, `'was b'`, ...),\n",
    "the Unicode code of each letter (`ord('a')`, ...), and so on.\n",
    "The transitions related to letters become, for example:\n",
    "```python\n",
    "    ('start', 'a'):     ('was a', RIGHT, 'up'), # mark and increment counter\n",
    "    ...\n",
    "    ('start', 'Z'):     ('was Z', RIGHT, 'up'),\n",
    "    ('up', 'a'):        ('a', RIGHT, 'up'),     # skip letters\n",
    "    ...\n",
    "    ('up', 'Z'):        ('Z', RIGHT, 'up'),\n",
    "    ('back', 'a'):      ('a', LEFT, 'back'),    # return to marked position\n",
    "    ...\n",
    "    ('back', 'Z'):      ('Z', LEFT, 'back'),\n",
    "    ('back', 'was a'):  ('a', RIGHT, 'start'),  # restore letter and restart\n",
    "    ...\n",
    "    ('back', 'was Z'):  ('Z', RIGHT, 'start'),\n",
    "```"
   ]
  }
 ],
 "metadata": {
  "kernelspec": {
   "display_name": "Python 3",
   "language": "python",
   "name": "python3"
  },
  "language_info": {
   "codemirror_mode": {
    "name": "ipython",
    "version": 3
   },
   "file_extension": ".py",
   "mimetype": "text/x-python",
   "name": "python",
   "nbconvert_exporter": "python",
   "pygments_lexer": "ipython3",
   "version": "3.12.10"
  }
 },
 "nbformat": 4,
 "nbformat_minor": 5
}
