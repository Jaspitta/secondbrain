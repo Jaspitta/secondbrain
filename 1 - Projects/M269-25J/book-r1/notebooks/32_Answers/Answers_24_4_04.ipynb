{
 "cells": [
  {
   "cell_type": "markdown",
   "id": "0",
   "metadata": {},
   "source": [
    "#### Exercise 24.4.4 answer"
   ]
  },
  {
   "cell_type": "markdown",
   "id": "1",
   "metadata": {},
   "source": [
    "The following incomplete DAG shows some subproblems for one of the tests.\n",
    "The left and right children are obtained by skipping the left and right head,\n",
    "respectively, and the middle child by skipping both heads at the same time.\n",
    "\n",
    "<p id=\"fig-24.4.1\"></p>\n",
    "\n",
    "*[Figure 24.4.1](../33_Figures/Figures_24_4.ipynb#Figure-24.4.1)*\n",
    "\n",
    "![Image 24_4_levenshtein.png](24_4_levenshtein.png)\n",
    "\n",
    "If the heads of both strings differ then\n",
    "the recursive algorithm skips the left one, the right one and both.\n",
    "Skipping first the left head and then the right head, or vice versa,\n",
    "is the same as skipping both at the same time, so problem instance\n",
    "(tail(*left*), tail(*right*)) or (*l*+1, *r*+1) is solved several times.\n",
    "In general, problem instances\n",
    "(*l*, *r*), (*l* + 1, *r*) and (*l*, *r* + 1)\n",
    "overlap on common subproblem (*l* + 1, *r* + 1)."
   ]
  }
 ],
 "metadata": {
  "kernelspec": {
   "display_name": "Python 3",
   "language": "python",
   "name": "python3"
  },
  "language_info": {
   "codemirror_mode": {
    "name": "ipython",
    "version": 3
   },
   "file_extension": ".py",
   "mimetype": "text/x-python",
   "name": "python",
   "nbconvert_exporter": "python",
   "pygments_lexer": "ipython3",
   "version": "3.12.10"
  }
 },
 "nbformat": 4,
 "nbformat_minor": 5
}
