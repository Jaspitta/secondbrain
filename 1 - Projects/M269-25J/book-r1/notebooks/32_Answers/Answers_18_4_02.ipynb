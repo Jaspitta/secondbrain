{
 "cells": [
  {
   "cell_type": "markdown",
   "id": "0",
   "metadata": {},
   "source": [
    "#### Exercise 18.4.2 answer"
   ]
  },
  {
   "cell_type": "markdown",
   "id": "1",
   "metadata": {},
   "source": [
    "The algorithm can stop constructing the tree after visiting the end node, e.g.\n",
    "by emptying the queue.\n",
    "If the tree construction ends normally, without ever visiting the end node,\n",
    "then the algorithm returns the empty sequence and stops.\n",
    "\n",
    "Otherwise the algorithm proceeds to obtain the path from the tree.\n",
    "In a graph that represents a rooted tree, each node except the root has\n",
    "a single in-neighbour. The algorithm can thus traverse the path in reverse by\n",
    "visiting the in-neighbour of the end node, then the in-neighbour of that node,\n",
    "and so on, until getting to the start node, appending each node to a sequence\n",
    "as it visits them. Finally, the algorithm reverses the sequence and returns it."
   ]
  }
 ],
 "metadata": {
  "kernelspec": {
   "display_name": "Python 3",
   "language": "python",
   "name": "python3"
  },
  "language_info": {
   "codemirror_mode": {
    "name": "ipython",
    "version": 3
   },
   "file_extension": ".py",
   "mimetype": "text/x-python",
   "name": "python",
   "nbconvert_exporter": "python",
   "pygments_lexer": "ipython3",
   "version": "3.12.10"
  }
 },
 "nbformat": 4,
 "nbformat_minor": 5
}
