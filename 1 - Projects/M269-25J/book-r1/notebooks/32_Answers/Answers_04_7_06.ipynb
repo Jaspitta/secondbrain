{
 "cells": [
  {
   "cell_type": "markdown",
   "id": "0",
   "metadata": {},
   "source": [
    "#### Exercise 4.7.6 answer"
   ]
  },
  {
   "cell_type": "markdown",
   "id": "1",
   "metadata": {},
   "source": [
    "The algorithm stops when both fingers meet (the sequence has odd length)\n",
    "or cross each other (the sequence has even length).\n",
    "\n",
    "1. let *left index* be 0\n",
    "2. let *right index* be │*values*│ - 1\n",
    "3. while *left index* < *right index*:\n",
    "   1. *left item* = *values*[*left index*]\n",
    "   1. *right item* = *values*[*right index*]\n",
    "   1. let *values*[*left index*] be *right item*\n",
    "   1. let *values*[*right index*] be *left item*\n",
    "   1. let *left index* be *left index* + 1\n",
    "   1. let *right index* be *right index* - 1\n",
    "\n",
    "The first four steps in the loop can be simplified to:\n",
    "\n",
    "1. *left item* = *values*[*left index*]\n",
    "1. let *values*[*left index*] be *values*[*right index*]\n",
    "1. let *values*[*right index*] be *left item*\n",
    "\n",
    "but not to:\n",
    "\n",
    "1. let *values*[*left index*] be *values*[*right index*]\n",
    "1. let *values*[*right index*] be *values*[*left index*]"
   ]
  },
  {
   "cell_type": "markdown",
   "id": "2",
   "metadata": {},
   "source": [
    "<div class=\"alert alert-info\">\n",
    "<strong>Info:</strong> TM112 Block&nbsp;1 Activity 2.16 explains why.\n",
    "</div>"
   ]
  }
 ],
 "metadata": {
  "kernelspec": {
   "display_name": "Python 3",
   "language": "python",
   "name": "python3"
  },
  "language_info": {
   "codemirror_mode": {
    "name": "ipython",
    "version": 3
   },
   "file_extension": ".py",
   "mimetype": "text/x-python",
   "name": "python",
   "nbconvert_exporter": "python",
   "pygments_lexer": "ipython3",
   "version": "3.12.10"
  }
 },
 "nbformat": 4,
 "nbformat_minor": 5
}
