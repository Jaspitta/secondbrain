{
 "cells": [
  {
   "cell_type": "markdown",
   "id": "0",
   "metadata": {},
   "source": [
    "#### Exercise 13.5.2 answer"
   ]
  },
  {
   "cell_type": "markdown",
   "id": "1",
   "metadata": {},
   "source": [
    "Once the loop decreases the size to one of the base cases,\n",
    "either the start number is positive or else the second number is."
   ]
  },
  {
   "cell_type": "code",
   "execution_count": 1,
   "id": "2",
   "metadata": {},
   "outputs": [],
   "source": [
    "def first_positive(numbers: list) -> int:  # noqa: D103\n",
    "    start = 0\n",
    "    end = len(numbers)\n",
    "    while end - start > 2:\n",
    "        middle = start + (end - start) // 2\n",
    "        if numbers[middle] > 0:\n",
    "            end = middle + 1\n",
    "        else:\n",
    "            start = middle + 1\n",
    "    if numbers[start] > 0:\n",
    "        return numbers[start]\n",
    "    else:\n",
    "        return numbers[start + 1]"
   ]
  }
 ],
 "metadata": {
  "kernelspec": {
   "display_name": "Python 3",
   "language": "python",
   "name": "python3"
  },
  "language_info": {
   "codemirror_mode": {
    "name": "ipython",
    "version": 3
   },
   "file_extension": ".py",
   "mimetype": "text/x-python",
   "name": "python",
   "nbconvert_exporter": "python",
   "pygments_lexer": "ipython3",
   "version": "3.12.10"
  }
 },
 "nbformat": 4,
 "nbformat_minor": 5
}
