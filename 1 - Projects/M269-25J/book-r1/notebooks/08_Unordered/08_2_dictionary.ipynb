{
 "cells": [
  {
   "cell_type": "markdown",
   "id": "0",
   "metadata": {},
   "source": [
    "## 8.2 Dictionaries"
   ]
  },
  {
   "cell_type": "markdown",
   "id": "1",
   "metadata": {},
   "source": [
    "Python's `dict` class implements a restricted form of maps.\n",
    "In M269, 'dictionary' (without any further qualification)\n",
    "refers to an object of type `dict`."
   ]
  },
  {
   "cell_type": "markdown",
   "id": "2",
   "metadata": {},
   "source": [
    "<div class=\"alert alert-info\">\n",
    "<strong>Info:</strong> TM112 introduces Python dictionaries in Block&nbsp;3 Section&nbsp;2.1.\n",
    "Some texts use 'dictionary' as a synonym for 'map'.\n",
    "</div>"
   ]
  },
  {
   "cell_type": "markdown",
   "id": "3",
   "metadata": {},
   "source": [
    "The operations are written in Python as follows, using the familiar list\n",
    "notation, but using keys instead of 0, 1, 2, etc. as 'indices':\n",
    "\n",
    "Operation | Python\n",
    ":-|:-\n",
    "new  |  `d = dict()`\n",
    "size  |  `len(d)`\n",
    "membership  |  `key in d`\n",
    "associate  |  `d[key] = value`\n",
    "lookup |  `d[key]`\n",
    "delete  | `d.pop(key)`\n",
    "\n",
    "Like for lists, the `pop` method returns the associated value,\n",
    "and the negation of membership can be written `key not in d`.\n",
    "\n",
    "We can represent the bilingual dictionary with a Python dictionary\n",
    "in which the keys are strings and the values are lists of strings."
   ]
  },
  {
   "cell_type": "code",
   "execution_count": 1,
   "id": "4",
   "metadata": {},
   "outputs": [
    {
     "data": {
      "text/plain": [
       "True"
      ]
     },
     "execution_count": 1,
     "metadata": {},
     "output_type": "execute_result"
    }
   ],
   "source": [
    "pt_to_en = dict()  # Portuguese to English dictionary\n",
    "pt_to_en[\"alface\"] = [\"lattice\"]\n",
    "pt_to_en[\"alface\"] = [\"lettuce\"]  # replace wrong entry\n",
    "pt_to_en[\"carro\"] = [\"car\"]\n",
    "pt_to_en[\"andar\"] = [\"floor\", \"walk\"]\n",
    "\"carro\" in pt_to_en"
   ]
  },
  {
   "cell_type": "markdown",
   "id": "5",
   "metadata": {},
   "source": [
    "Dictionaries are iterable."
   ]
  },
  {
   "cell_type": "code",
   "execution_count": 2,
   "id": "6",
   "metadata": {},
   "outputs": [
    {
     "name": "stdout",
     "output_type": "stream",
     "text": [
      "alface means lettuce\n",
      "carro means car\n",
      "andar means floor\n",
      "andar means walk\n"
     ]
    }
   ],
   "source": [
    "for word in pt_to_en:  # iterate over the keys\n",
    "    for translation in pt_to_en[word]:\n",
    "        print(word, \"means\", translation)"
   ]
  },
  {
   "cell_type": "markdown",
   "id": "7",
   "metadata": {},
   "source": [
    "Python's implementation of maps guarantees that keys are iterated\n",
    "in the same order they were added or last updated,\n",
    "but you shouldn't rely on that in your M269 algorithms\n",
    "to keep them working with any implementation of the map ADT.\n",
    "\n",
    "The `items` method returns a list-like object of tuples,\n",
    "one for each key–value pair. It's mostly used in for-loops."
   ]
  },
  {
   "cell_type": "code",
   "execution_count": 3,
   "id": "8",
   "metadata": {},
   "outputs": [
    {
     "name": "stdout",
     "output_type": "stream",
     "text": [
      "alface means lettuce\n",
      "carro means car\n",
      "andar means floor\n",
      "andar means walk\n"
     ]
    }
   ],
   "source": [
    "for pair in pt_to_en.items():\n",
    "    word = pair[0]\n",
    "    for translation in pair[1]:\n",
    "        print(word, \"means\", translation)"
   ]
  },
  {
   "cell_type": "markdown",
   "id": "9",
   "metadata": {},
   "source": [
    "Python allows the following shorthand notation."
   ]
  },
  {
   "cell_type": "code",
   "execution_count": 4,
   "id": "10",
   "metadata": {},
   "outputs": [
    {
     "name": "stdout",
     "output_type": "stream",
     "text": [
      "alface means lettuce\n",
      "carro means car\n",
      "andar means floor\n",
      "andar means walk\n"
     ]
    }
   ],
   "source": [
    "for (word, translations) in pt_to_en.items():\n",
    "    for translation in translations:\n",
    "        print(word, \"means\", translation)"
   ]
  },
  {
   "cell_type": "markdown",
   "id": "11",
   "metadata": {},
   "source": [
    "Dictionary literals are written as comma-separated pairs within curly braces.\n",
    "A colon separates each key from the corresponding value.\n",
    "Here's a shorter way of defining the bilingual dictionary."
   ]
  },
  {
   "cell_type": "code",
   "execution_count": 5,
   "id": "12",
   "metadata": {},
   "outputs": [],
   "source": [
    "pt_to_en = {\n",
    "    'alface': ['lettuce'],\n",
    "    'carro': ['car'],\n",
    "    'andar': ['floor', 'walk']\n",
    "}"
   ]
  },
  {
   "cell_type": "markdown",
   "id": "13",
   "metadata": {},
   "source": [
    "<div class=\"alert alert-warning\">\n",
    "<strong>Note:</strong> The empty dictionary can be written as <code>{}</code>, but in M269 we use <code>dict()</code>\n",
    "instead, to avoid confusion with another data type, to be introduced later.\n",
    "</div>"
   ]
  },
  {
   "cell_type": "markdown",
   "id": "14",
   "metadata": {},
   "source": [
    "Dictionary keys may be integers that, unlike list indices,\n",
    "don't have to be consecutive.\n",
    "Here's a dictionary of addresses.\n",
    "The keys are the house numbers; the values are the residents' names."
   ]
  },
  {
   "cell_type": "code",
   "execution_count": 6,
   "id": "15",
   "metadata": {},
   "outputs": [],
   "source": [
    "our_houses = {23: \"Alice\", 45: \"Bob\"}"
   ]
  },
  {
   "cell_type": "markdown",
   "id": "16",
   "metadata": {},
   "source": [
    "We can check if two dictionaries have the same key–value pairs or not\n",
    "with the (in)equality operators.\n",
    "In a dictionary, the key–value pairs are in no particular order."
   ]
  },
  {
   "cell_type": "code",
   "execution_count": 7,
   "id": "17",
   "metadata": {},
   "outputs": [
    {
     "data": {
      "text/plain": [
       "True"
      ]
     },
     "execution_count": 7,
     "metadata": {},
     "output_type": "execute_result"
    }
   ],
   "source": [
    "our_street = {45: \"Bob\", 23: \"Alice\"}\n",
    "our_street == our_houses"
   ]
  },
  {
   "cell_type": "code",
   "execution_count": 8,
   "id": "18",
   "metadata": {},
   "outputs": [
    {
     "data": {
      "text/plain": [
       "True"
      ]
     },
     "execution_count": 8,
     "metadata": {},
     "output_type": "execute_result"
    }
   ],
   "source": [
    "our_street != {45: \"Bob\", 23: \"Alissa\"}"
   ]
  },
  {
   "cell_type": "markdown",
   "id": "19",
   "metadata": {},
   "source": [
    "Like sequences, maps may be nested, i.e.\n",
    "the value associated to a key may be a map.\n",
    "For the bilingual dictionary, this could be used to distinguish the\n",
    "meanings of a word.\n",
    "For example, if 'andar' is used as a noun, then its translation is 'floor', whereas if 'andar' is used as a verb, then its translation is 'walk'."
   ]
  },
  {
   "cell_type": "code",
   "execution_count": 9,
   "id": "20",
   "metadata": {},
   "outputs": [],
   "source": [
    "pt2en = {\n",
    "    'alface': {'noun': 'lettuce'},\n",
    "    'carro': {'noun': 'car'},\n",
    "    'andar': {'noun': 'floor', 'verb': 'walk'}\n",
    "}"
   ]
  },
  {
   "cell_type": "markdown",
   "id": "21",
   "metadata": {},
   "source": [
    "We access inner dictionary values in the same way as nested list items."
   ]
  },
  {
   "cell_type": "code",
   "execution_count": 10,
   "id": "22",
   "metadata": {},
   "outputs": [
    {
     "name": "stdout",
     "output_type": "stream",
     "text": [
      "walk\n",
      "walk\n"
     ]
    }
   ],
   "source": [
    "inner_dictionary = pt2en[\"andar\"]\n",
    "print(inner_dictionary[\"verb\"])\n",
    "print(pt2en[\"andar\"][\"verb\"])  # shorter alternative"
   ]
  },
  {
   "cell_type": "markdown",
   "id": "23",
   "metadata": {},
   "source": [
    "### 8.2.1 Mistakes"
   ]
  },
  {
   "cell_type": "markdown",
   "id": "24",
   "metadata": {},
   "source": [
    "Accessing or deleting a non-existent key raises an error."
   ]
  },
  {
   "cell_type": "code",
   "execution_count": 11,
   "id": "25",
   "metadata": {},
   "outputs": [
    {
     "ename": "KeyError",
     "evalue": "'car'",
     "output_type": "error",
     "traceback": [
      "\u001b[0;31m---------------------------------------------------------------------------\u001b[0m",
      "\u001b[0;31mKeyError\u001b[0m                                  Traceback (most recent call last)",
      "Cell \u001b[0;32mIn[11], line 1\u001b[0m\n\u001b[0;32m----> 1\u001b[0m \u001b[43mpt_to_en\u001b[49m\u001b[43m[\u001b[49m\u001b[38;5;124;43m\"\u001b[39;49m\u001b[38;5;124;43mcar\u001b[39;49m\u001b[38;5;124;43m\"\u001b[39;49m\u001b[43m]\u001b[49m  \u001b[38;5;66;03m# 'car' is among the values, not the keys\u001b[39;00m\n",
      "\u001b[0;31mKeyError\u001b[0m: 'car'"
     ]
    }
   ],
   "source": [
    "pt_to_en[\"car\"]  # 'car' is among the values, not the keys"
   ]
  },
  {
   "cell_type": "markdown",
   "id": "26",
   "metadata": {},
   "source": [
    "Dictionaries only retrieve data and check membership by key, not by value."
   ]
  },
  {
   "cell_type": "code",
   "execution_count": 12,
   "id": "27",
   "metadata": {},
   "outputs": [
    {
     "data": {
      "text/plain": [
       "True"
      ]
     },
     "execution_count": 12,
     "metadata": {},
     "output_type": "execute_result"
    }
   ],
   "source": [
    "\"carro\" in pt_to_en"
   ]
  },
  {
   "cell_type": "code",
   "execution_count": 13,
   "id": "28",
   "metadata": {},
   "outputs": [
    {
     "data": {
      "text/plain": [
       "False"
      ]
     },
     "execution_count": 13,
     "metadata": {},
     "output_type": "execute_result"
    }
   ],
   "source": [
    "\"car\" in pt_to_en"
   ]
  },
  {
   "cell_type": "markdown",
   "id": "29",
   "metadata": {},
   "source": [
    "Keys can't be added or removed while iterating over a dictionary."
   ]
  },
  {
   "cell_type": "code",
   "execution_count": 14,
   "id": "30",
   "metadata": {},
   "outputs": [
    {
     "ename": "RuntimeError",
     "evalue": "dictionary changed size during iteration",
     "output_type": "error",
     "traceback": [
      "\u001b[0;31m---------------------------------------------------------------------------\u001b[0m",
      "\u001b[0;31mRuntimeError\u001b[0m                              Traceback (most recent call last)",
      "Cell \u001b[0;32mIn[14], line 2\u001b[0m\n\u001b[1;32m      1\u001b[0m roman_to_arabic \u001b[38;5;241m=\u001b[39m {\u001b[38;5;124m\"\u001b[39m\u001b[38;5;124mI\u001b[39m\u001b[38;5;124m\"\u001b[39m: \u001b[38;5;241m1\u001b[39m, \u001b[38;5;124m\"\u001b[39m\u001b[38;5;124mV\u001b[39m\u001b[38;5;124m\"\u001b[39m: \u001b[38;5;241m5\u001b[39m, \u001b[38;5;124m\"\u001b[39m\u001b[38;5;124mX\u001b[39m\u001b[38;5;124m\"\u001b[39m: \u001b[38;5;241m10\u001b[39m, \u001b[38;5;124m\"\u001b[39m\u001b[38;5;124mL\u001b[39m\u001b[38;5;124m\"\u001b[39m: \u001b[38;5;241m50\u001b[39m}\n\u001b[0;32m----> 2\u001b[0m \u001b[38;5;28;43;01mfor\u001b[39;49;00m\u001b[43m \u001b[49m\u001b[43m(\u001b[49m\u001b[43mkey\u001b[49m\u001b[43m,\u001b[49m\u001b[43m \u001b[49m\u001b[43mvalue\u001b[49m\u001b[43m)\u001b[49m\u001b[43m \u001b[49m\u001b[38;5;129;43;01min\u001b[39;49;00m\u001b[43m \u001b[49m\u001b[43mroman_to_arabic\u001b[49m\u001b[38;5;241;43m.\u001b[39;49m\u001b[43mitems\u001b[49m\u001b[43m(\u001b[49m\u001b[43m)\u001b[49m\u001b[43m:\u001b[49m\n\u001b[1;32m      3\u001b[0m \u001b[43m    \u001b[49m\u001b[43mroman_to_arabic\u001b[49m\u001b[43m[\u001b[49m\u001b[43mkey\u001b[49m\u001b[43m \u001b[49m\u001b[38;5;241;43m+\u001b[39;49m\u001b[43m \u001b[49m\u001b[38;5;124;43m\"\u001b[39;49m\u001b[38;5;124;43mI\u001b[39;49m\u001b[38;5;124;43m\"\u001b[39;49m\u001b[43m]\u001b[49m\u001b[43m \u001b[49m\u001b[38;5;241;43m=\u001b[39;49m\u001b[43m \u001b[49m\u001b[43mvalue\u001b[49m\u001b[43m \u001b[49m\u001b[38;5;241;43m+\u001b[39;49m\u001b[43m \u001b[49m\u001b[38;5;241;43m1\u001b[39;49m\n",
      "\u001b[0;31mRuntimeError\u001b[0m: dictionary changed size during iteration"
     ]
    }
   ],
   "source": [
    "roman_to_arabic = {\"I\": 1, \"V\": 5, \"X\": 10, \"L\": 50}\n",
    "for (key, value) in roman_to_arabic.items():\n",
    "    roman_to_arabic[key + \"I\"] = value + 1"
   ]
  },
  {
   "cell_type": "markdown",
   "id": "31",
   "metadata": {},
   "source": [
    "You may however change the values."
   ]
  },
  {
   "cell_type": "code",
   "execution_count": 15,
   "id": "32",
   "metadata": {},
   "outputs": [
    {
     "data": {
      "text/plain": [
       "{'trousers': 0, 't-shirt': 0, 'dress': 0}"
      ]
     },
     "execution_count": 15,
     "metadata": {},
     "output_type": "execute_result"
    }
   ],
   "source": [
    "stock = {\"trousers\": 5, \"t-shirt\": 20, \"dress\": 12}\n",
    "for (key, value) in stock.items():  # noqa: B007\n",
    "    stock[key] = 0  # all sold out\n",
    "stock"
   ]
  },
  {
   "cell_type": "markdown",
   "id": "33",
   "metadata": {},
   "source": [
    "Dictionaries implement a restricted map ADT:\n",
    "keys can only be of types for which there's a hash function\n",
    "and that doesn't include lists and dictionaries. For example, consider a map of\n",
    "office building pairs to the names of their occupants. The keys can't be lists:"
   ]
  },
  {
   "cell_type": "code",
   "execution_count": 16,
   "id": "34",
   "metadata": {},
   "outputs": [
    {
     "ename": "TypeError",
     "evalue": "unhashable type: 'list'",
     "output_type": "error",
     "traceback": [
      "\u001b[0;31m---------------------------------------------------------------------------\u001b[0m",
      "\u001b[0;31mTypeError\u001b[0m                                 Traceback (most recent call last)",
      "Cell \u001b[0;32mIn[16], line 1\u001b[0m\n\u001b[0;32m----> 1\u001b[0m employee_by_location \u001b[38;5;241m=\u001b[39m {  \u001b[38;5;66;03m# occupants of each building's offices\u001b[39;00m\n\u001b[1;32m      2\u001b[0m     [\u001b[38;5;124m\"\u001b[39m\u001b[38;5;124mMain building\u001b[39m\u001b[38;5;124m\"\u001b[39m, \u001b[38;5;241m4\u001b[39m]: [\u001b[38;5;124m\"\u001b[39m\u001b[38;5;124mAlice\u001b[39m\u001b[38;5;124m\"\u001b[39m, \u001b[38;5;124m\"\u001b[39m\u001b[38;5;124mChan\u001b[39m\u001b[38;5;124m\"\u001b[39m],\n\u001b[1;32m      3\u001b[0m     [\u001b[38;5;124m\"\u001b[39m\u001b[38;5;124mAnnex\u001b[39m\u001b[38;5;124m\"\u001b[39m, \u001b[38;5;241m3\u001b[39m]: [\u001b[38;5;124m\"\u001b[39m\u001b[38;5;124mBob\u001b[39m\u001b[38;5;124m\"\u001b[39m],\n\u001b[1;32m      4\u001b[0m }\n",
      "\u001b[0;31mTypeError\u001b[0m: unhashable type: 'list'"
     ]
    }
   ],
   "source": [
    "employee_by_location = {  # occupants of each building's offices\n",
    "    [\"Main building\", 4]: [\"Alice\", \"Chan\"],\n",
    "    [\"Annex\", 3]: [\"Bob\"],\n",
    "}"
   ]
  },
  {
   "cell_type": "markdown",
   "id": "35",
   "metadata": {},
   "source": [
    "We get an error: lists are unhashable and thus the wrong type of key.\n",
    "The keys must be tuples:"
   ]
  },
  {
   "cell_type": "code",
   "execution_count": 17,
   "id": "36",
   "metadata": {},
   "outputs": [],
   "source": [
    "employee_by_location = {\n",
    "    ('Main building', 4): ['Alice', 'Chan'],\n",
    "    ('Annex', 3): ['Bob']\n",
    "}"
   ]
  },
  {
   "cell_type": "markdown",
   "id": "37",
   "metadata": {},
   "source": [
    "Using a list or a dictionary as part of a key also leads to an error.\n",
    "For example, `('Bob', [1, 'Jan', 1970])` and\n",
    "`('Bob', {'day': 1, 'month: '1', 'year': 1970})` aren't valid Python keys, but\n",
    "`('Bob', '1 Jan 1970')` and `('Bob', (1, 1, 1970))` are.\n",
    "Fortunately, most applications of dictionaries don't need complicated keys:\n",
    "integers, strings or tuples of both will suffice.\n",
    "\n",
    "I explain in the next section why tuples are hashable but why lists aren't."
   ]
  },
  {
   "cell_type": "markdown",
   "id": "38",
   "metadata": {},
   "source": [
    "#### Exercise 8.2.1"
   ]
  },
  {
   "cell_type": "markdown",
   "id": "39",
   "metadata": {},
   "source": [
    "Why can't we create a bilingual dictionary like this?"
   ]
  },
  {
   "cell_type": "code",
   "execution_count": 18,
   "id": "40",
   "metadata": {},
   "outputs": [],
   "source": [
    "bilingual = dict()\n",
    "bilingual[\"alface\"] = \"lettuce\"\n",
    "bilingual[\"carro\"] = \"car\"\n",
    "bilingual[\"andar\"] = \"floor\"\n",
    "bilingual[\"andar\"] = \"walk\""
   ]
  },
  {
   "cell_type": "markdown",
   "id": "41",
   "metadata": {},
   "source": [
    "_Write your answer here._"
   ]
  },
  {
   "cell_type": "markdown",
   "id": "42",
   "metadata": {},
   "source": [
    "[Answer](../32_Answers/Answers_08_2_01.ipynb)"
   ]
  },
  {
   "cell_type": "markdown",
   "id": "43",
   "metadata": {},
   "source": [
    "### 8.2.2 Using dictionaries"
   ]
  },
  {
   "cell_type": "markdown",
   "id": "44",
   "metadata": {},
   "source": [
    "To further illustrate the dictionary operations, let's consider the problem of\n",
    "inverting a map, i.e. swapping keys and values, for bilingual dictionaries.\n",
    "\n",
    "**Function**: invert\\\n",
    "**Inputs**: *original*, a map with strings as keys and sequences of strings as values\\\n",
    "**Preconditions**: true\\\n",
    "**Output**: *inverted*, a map with strings as keys and sequences of strings as values\\\n",
    "**Postconditions:** *inverted*(*word*) has *translation* if and only if\n",
    "*original*(*translation*) has *word*\n",
    "\n",
    "The postconditions state that string *a* translates to string *b* in\n",
    "the inverted map if and only if *b* translates to *a* in the original map.\n",
    "\n",
    "For testing I will use an empty map (edge case) and\n",
    "the Portuguese–English dictionary.\n",
    "The inversion of the former is the empty map; the inversion of the latter is:\n",
    "\n",
    "Key (English) | Value (Portuguese)\n",
    ":-|:-\n",
    "'lettuce'  |  ('alface')\n",
    "'car'  |  ('carro')\n",
    "'walk'  |  ('andar')\n",
    "'floor'  |  ('andar')\n",
    "\n",
    "Unfortunately, this isn't a very good test because the inverted dictionary\n",
    "doesn't have multiple Portuguese translations for the same English word.\n",
    "Let's add another translation of 'floor': 'chão'.\n",
    "Since I have to change the Portuguese–English dictionary anyhow,\n",
    "I add an edge case for the value: an empty sequence,\n",
    "i.e. I add a Portuguese word but no English translation.\n",
    "Here are the two new dictionaries: the input and the expected output.\n",
    "\n",
    "Key (Portuguese) | Value (English) | Key (English) | Value (Portuguese)\n",
    ":-|:-|-:|:-\n",
    "'alface' | ('lettuce') | 'lettuce'  |  ('alface')\n",
    "'carro' | ('car') | 'car'  |  ('carro')\n",
    "'andar' | ('floor', 'walk') | 'walk'  |  ('andar')\n",
    "'chão'  | ('floor')  | 'floor'  |  ('andar', 'chão')\n",
    "'saudade'  | ()  |   |"
   ]
  },
  {
   "cell_type": "markdown",
   "id": "45",
   "metadata": {},
   "source": [
    "#### Exercise 8.2.2"
   ]
  },
  {
   "cell_type": "markdown",
   "id": "46",
   "metadata": {},
   "source": [
    "Outline an algorithm that creates the right-hand side dictionary from\n",
    "the one on the left-hand side."
   ]
  },
  {
   "cell_type": "markdown",
   "id": "47",
   "metadata": {},
   "source": [
    "_Write your answer here._"
   ]
  },
  {
   "cell_type": "markdown",
   "id": "48",
   "metadata": {},
   "source": [
    "[Hint](../31_Hints/Hints_08_2_02.ipynb)\n",
    "[Answer](../32_Answers/Answers_08_2_02.ipynb)"
   ]
  },
  {
   "cell_type": "markdown",
   "id": "49",
   "metadata": {},
   "source": [
    "#### Exercise 8.2.3"
   ]
  },
  {
   "cell_type": "markdown",
   "id": "50",
   "metadata": {},
   "source": [
    "Implement the algorithm to replace `pass` in the function below.\n",
    "You don't need to add further tests."
   ]
  },
  {
   "cell_type": "code",
   "execution_count": 19,
   "id": "51",
   "metadata": {},
   "outputs": [],
   "source": [
    "from algoesup import test\n",
    "\n",
    "\n",
    "def invert(original: dict) -> dict:\n",
    "    \"\"\"Return the inverted dictionary.\n",
    "\n",
    "    In both dictionaries, the keys are strings and\n",
    "    the values are lists of strings.\n",
    "\n",
    "    Postconditions:\n",
    "    word1 in output[word2] if and only if word2 in original[word1]\n",
    "    \"\"\"\n",
    "    inverted = dict()\n",
    "    pass\n",
    "    return inverted\n",
    "\n",
    "\n",
    "pt_to_en = {\n",
    "    'carro': ['car'],\n",
    "    'andar': ['floor', 'walk'],     # as in 'second floor'\n",
    "    'chão': ['floor'],              # as in 'wooden floor'\n",
    "    'saudade': []                   # translation omitted\n",
    "}\n",
    "\n",
    "en_to_pt = {\n",
    "    'car' : ['carro'],\n",
    "    'walk': ['andar'],\n",
    "    'floor': ['andar', 'chão']\n",
    "}\n",
    "\n",
    "invert_tests = [\n",
    "    #case,              a_to_b,             inverted\n",
    "    ('no words',        dict(),             dict()),\n",
    "    ('pt_to_en',        pt_to_en,           en_to_pt)\n",
    "]\n",
    "\n",
    "test(invert, invert_tests)"
   ]
  },
  {
   "cell_type": "markdown",
   "id": "52",
   "metadata": {},
   "source": [
    "[Answer](../32_Answers/Answers_08_2_03.ipynb)"
   ]
  },
  {
   "cell_type": "markdown",
   "id": "53",
   "metadata": {},
   "source": [
    "⟵ [Previous section](08_1_map.ipynb) | [Up](08-introduction.ipynb) | [Next section](08_3_hash_table.ipynb) ⟶"
   ]
  }
 ],
 "metadata": {
  "kernelspec": {
   "display_name": "Python 3",
   "language": "python",
   "name": "python3"
  },
  "language_info": {
   "codemirror_mode": {
    "name": "ipython",
    "version": 3
   },
   "file_extension": ".py",
   "mimetype": "text/x-python",
   "name": "python",
   "nbconvert_exporter": "python",
   "pygments_lexer": "ipython3",
   "version": "3.12.10"
  }
 },
 "nbformat": 4,
 "nbformat_minor": 5
}
