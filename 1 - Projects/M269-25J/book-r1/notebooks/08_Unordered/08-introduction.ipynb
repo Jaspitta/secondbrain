{
 "cells": [
  {
   "cell_type": "markdown",
   "id": "0",
   "metadata": {},
   "source": [
    "# 8 Unordered collections"
   ]
  },
  {
   "cell_type": "markdown",
   "id": "1",
   "metadata": {},
   "source": [
    "Sequences impose an order on the items: there’s a first, a second, …,\n",
    "a last item, even if we don’t care about that order.\n",
    "This chapter introduces ADTs for collections of items that\n",
    "we don’t need to keep ordered and shows how to implement them.\n",
    "[Chapter&nbsp;10](../10_TMA01-2/10_1_collections.ipynb#10.1-Using-collections) will provide guidance on\n",
    "which ordered and unordered ADTs to use for which purpose.\n",
    "\n",
    "This chapter supports the following learning outcomes:\n",
    "\n",
    "- Understand the common general-purpose data structures, algorithmic techniques and complexity classes –\n",
    "  this chapter introduces two ADTs (maps and sets)\n",
    "  and two array-based data structures (lookup and hash tables).\n",
    "\n",
    "This chapter includes further examples to support these learning outcomes:\n",
    "\n",
    "- Explain how an algorithm or data structure works, in order to communicate with relevant stakeholders.\n",
    "- Analyse the complexity of algorithms to support software design choices.\n",
    "- Write readable, tested, documented and efficient Python code.\n",
    "\n",
    "Before starting to work on this chapter, check the M269\n",
    "[news](https://learn2.open.ac.uk/blocks/news/all.php?bi=326014) and [errata](https://learn2.open.ac.uk/mod/url/view.php?id=2554721),\n",
    "and check the TMAs for what is assessed."
   ]
  },
  {
   "cell_type": "markdown",
   "id": "2",
   "metadata": {
    "nbsphinx-toctree": {
     "hidden": true,
     "maxdepth": 1,
     "numbered": false
    }
   },
   "source": [
    "1. [Maps](08_1_map.ipynb)\n",
    "1. [Dictionaries](08_2_dictionary.ipynb)\n",
    "1. [Hash tables](08_3_hash_table.ipynb)\n",
    "1. [Sets](08_4_set.ipynb)\n",
    "1. [Summary](08_5_summary.ipynb)"
   ]
  },
  {
   "cell_type": "markdown",
   "id": "3",
   "metadata": {},
   "source": [
    "⟵ [Previous chapter](../07_Ordered/07-introduction.ipynb) | [Up](../M269.ipynb) | [Next chapter](../09_Practice-1/09-introduction.ipynb) ⟶"
   ]
  }
 ],
 "metadata": {
  "kernelspec": {
   "display_name": "Python 3",
   "language": "python",
   "name": "python3"
  },
  "language_info": {
   "codemirror_mode": {
    "name": "ipython",
    "version": 3
   },
   "file_extension": ".py",
   "mimetype": "text/x-python",
   "name": "python",
   "nbconvert_exporter": "python",
   "pygments_lexer": "ipython3",
   "version": "3.12.10"
  }
 },
 "nbformat": 4,
 "nbformat_minor": 5
}
