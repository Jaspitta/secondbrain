{
 "cells": [
  {
   "cell_type": "markdown",
   "id": "0",
   "metadata": {},
   "source": [
    "## 8.1 Maps"
   ]
  },
  {
   "cell_type": "markdown",
   "id": "1",
   "metadata": {},
   "source": [
    "For many applications, we wish to retrieve data when we know only part of it.\n",
    "For example, we may wish to get an employee's full record by just their last name or\n",
    "office extension.\n",
    "This section introduces an ADT that allows us to handle data in such a way."
   ]
  },
  {
   "cell_type": "markdown",
   "id": "2",
   "metadata": {},
   "source": [
    "### 8.1.1 The map ADT"
   ]
  },
  {
   "cell_type": "markdown",
   "id": "3",
   "metadata": {},
   "source": [
    "A **map** is an unordered collection of key–value pairs without duplicate keys.\n",
    "Each key–value pair is an item of the map.\n",
    "Different keys may be associated to the same value.\n",
    "The map ADT supports the following operations.\n",
    "\n",
    "Operation | Effect | Algorithm in English\n",
    ":-|:-|:-\n",
    "new  | create a new empty map  | let *m* be an empty map\n",
    "size  | the number of items in *m* | │*m*│\n",
    "membership  | check if *m* has a given key  | *key* in *m*\n",
    "associate | associate a value to a key in *m* | let *m*(*key*) be *value*\n",
    "lookup  | obtain the value associated to a key  | *m*(*key*)\n",
    "delete  | remove a key–value pair from *m*  | remove *m*(*key*)\n",
    "(in)equality | are two maps the same or different? | *m1* = *m2* or *m1* ≠ *m2*\n",
    "\n",
    "The associate operation replaces the current value if the key is in the map,\n",
    "otherwise it creates a new key–value pair.\n",
    "The precondition of the lookup and delete operations\n",
    "is for the key to be in the map.\n",
    "\n",
    "We assume that maps are **iterable**:\n",
    "it's possible to go through all keys with 'for each *key* in *map*'.\n",
    "This allows us to discover the keys in the map to then access the values.\n",
    "As maps are unordered collections, the order in which keys are traversed isn't\n",
    "known in advance and may even change after adding or removing key–value pairs,\n",
    "depending on how the map is implemented."
   ]
  },
  {
   "cell_type": "markdown",
   "id": "4",
   "metadata": {},
   "source": [
    "<div class=\"alert alert-info\">\n",
    "<strong>Info:</strong> Maps are also called associative arrays.\n",
    "Some texts have separate operations to insert a pair and to replace a value\n",
    "instead of a single associate operation.\n",
    "A lookup is also called a search.\n",
    "</div>"
   ]
  },
  {
   "cell_type": "markdown",
   "id": "5",
   "metadata": {},
   "source": [
    "The above table uses functional notation for some\n",
    "operations because a map is, mathematically, a\n",
    "[function](../02_Sequence/02_5_maths_functions.ipynb#2.5-Functions-in-mathematics):\n",
    "there's a set of inputs (the keys), a set of outputs (the values) and\n",
    "for each input there's a single output.\n",
    "Functions usually have a rule that computes the output for each input,\n",
    "whereas maps explicitly list all the inputs and their corresponding outputs.\n",
    "Most functions have infinite inputs, e.g. any positive integer,\n",
    "and hence correspond to infinite maps."
   ]
  },
  {
   "cell_type": "markdown",
   "id": "6",
   "metadata": {},
   "source": [
    "### 8.1.2 Using maps"
   ]
  },
  {
   "cell_type": "markdown",
   "id": "7",
   "metadata": {},
   "source": [
    "Maps are widely used because they allow us to access an item by a mnemonic key,\n",
    "instead of an arbitrary position that is meaningless for unordered collections.\n",
    "Returning to the employee example, we could define several maps,\n",
    "all with essentially the same values (the employee records)\n",
    "but with different keys:\n",
    "last names, social security numbers, office phone numbers, etc.\n",
    "Depending on which piece of information the user has,\n",
    "they would use a different map to look up the employee.\n",
    "If there are several employees for the same key, then the associated value is\n",
    "a sequence of employees or some other type of collection.\n",
    "\n",
    "Another example of a map is a bilingual dictionary:\n",
    "it associates each word in one language to one or more words in\n",
    "another language.\n",
    "Each key is a string and each value is a sequence of strings.\n",
    "Here's a tiny Portuguese–English dictionary.\n",
    "Maps are best written as two-column tables.\n",
    "\n",
    "Key | Value\n",
    ":-|:-\n",
    "'alface' | ('lettuce')\n",
    "'carro' | ('car')\n",
    "'andar' | ('floor', 'walk')\n",
    "\n",
    "\n",
    "Maps and other ADTs allow us to think about data in the most appropriate way\n",
    "for the problem at hand. The same data can be organised in different ways.\n",
    "The next two exercises provide an example."
   ]
  },
  {
   "cell_type": "markdown",
   "id": "8",
   "metadata": {},
   "source": [
    "#### Exercise 8.1.1"
   ]
  },
  {
   "cell_type": "markdown",
   "id": "9",
   "metadata": {},
   "source": [
    "A max-priority queue is an ordered collection of priority–item pairs,\n",
    "ordered by priority. The priorities can be any comparable values.\n",
    "For this and the next exercise, assume that items with the same priority\n",
    "must be ordered by arrival, i.e. FIFO, order.\n",
    "\n",
    "A priority queue can be seen as a map. What are the keys and values of the map?"
   ]
  },
  {
   "cell_type": "markdown",
   "id": "10",
   "metadata": {},
   "source": [
    "_Write your answer here._"
   ]
  },
  {
   "cell_type": "markdown",
   "id": "11",
   "metadata": {},
   "source": [
    "[Answer](../32_Answers/Answers_08_1_01.ipynb)"
   ]
  },
  {
   "cell_type": "markdown",
   "id": "12",
   "metadata": {},
   "source": [
    "#### Exercise 8.1.2"
   ]
  },
  {
   "cell_type": "markdown",
   "id": "13",
   "metadata": {},
   "source": [
    "Using map operations, [outline](../06_Implementing/06_4_bounded.ipynb#6.4.1-Outlining-algorithms)\n",
    "an algorithm for each operation: find max, remove max, add."
   ]
  },
  {
   "cell_type": "markdown",
   "id": "14",
   "metadata": {},
   "source": [
    "_Write your answer here._"
   ]
  },
  {
   "cell_type": "markdown",
   "id": "15",
   "metadata": {},
   "source": [
    "[Hint](../31_Hints/Hints_08_1_02.ipynb)\n",
    "[Answer](../32_Answers/Answers_08_1_02.ipynb)\n",
    "\n",
    "Almost anything can be seen as a map.\n",
    "The next exercise is a reminder that just because we have a hammer,\n",
    "it doesn't mean that every problem is a nail."
   ]
  },
  {
   "cell_type": "markdown",
   "id": "16",
   "metadata": {},
   "source": [
    "#### Exercise 8.1.3"
   ]
  },
  {
   "cell_type": "markdown",
   "id": "17",
   "metadata": {},
   "source": [
    "Booleans are hardly ever used as map keys. Why?"
   ]
  },
  {
   "cell_type": "markdown",
   "id": "18",
   "metadata": {},
   "source": [
    "_Write your answer here._"
   ]
  },
  {
   "cell_type": "markdown",
   "id": "19",
   "metadata": {},
   "source": [
    "[Answer](../32_Answers/Answers_08_1_03.ipynb)"
   ]
  },
  {
   "cell_type": "markdown",
   "id": "20",
   "metadata": {},
   "source": [
    "### 8.1.3 Lookup tables"
   ]
  },
  {
   "cell_type": "markdown",
   "id": "21",
   "metadata": {},
   "source": [
    "The simplest way to implement a map is with a dynamic array of key–value pairs.\n",
    "With this approach, the new and size operations take constant time, but\n",
    "the membership, lookup, associate and delete operations are linear\n",
    "in the size of the map, as they have to do a linear search for the given key.\n",
    "\n",
    "If a map's keys are natural numbers, we can use them to directly index the\n",
    "dynamic array. All map operations thereby take constant time.\n",
    "For example, a map from house numbers to sequences of strings,\n",
    "representing the residents of each house, can use this scheme.\n",
    "We initialise the dynamic array with, say, 10 empty sequences.\n",
    "When adding a new key–value pair, say Alice and Bob at house 50,\n",
    "we grow the dynamic array so that the largest index is 50,\n",
    "and then put string sequence ('Alice', 'Bob') at index&nbsp;50.\n",
    "\n",
    "If an array represents a map rather than a sequence, it's called a\n",
    "**lookup table**. Lookup tables are widely used to store pre-computed results.\n",
    "They're another example of a space–time tradeoff.\n",
    "\n",
    "Although lookup tables can be dynamic arrays, they're usually static arrays,\n",
    "i.e. they're used when the map's keys form a fixed and relatively small\n",
    "collection, known in advance.\n",
    "\n",
    "For example, consider a travel website that displays ever-changing forecast\n",
    "temperatures in degrees Celsius and Fahrenheit.\n",
    "They will all be within a certain range, e.g. −50 to 50 degrees Celsius.\n",
    "Using two lookup tables (mapping Celsius to Fahrenheit and vice versa)\n",
    "is more efficient than constantly re-applying the conversion formulas\n",
    "to the same temperature values.\n",
    "\n",
    "In Python, one of the tables could be created like this:"
   ]
  },
  {
   "cell_type": "code",
   "execution_count": 1,
   "id": "22",
   "metadata": {},
   "outputs": [],
   "source": [
    "FAHRENHEIT = [0] * 101\n",
    "for celsius in range(-50, 51):\n",
    "    FAHRENHEIT[celsius] = celsius * 9 // 5 + 32\n",
    "FAHRENHEIT = tuple(FAHRENHEIT)  # don't change table anymore"
   ]
  },
  {
   "cell_type": "markdown",
   "id": "23",
   "metadata": {},
   "source": [
    "The first 51 positions have the Fahrenheit values for 0 to 50 degrees Celsius,\n",
    "and the last 50 positions have the values for −50 to −1 degrees Celsius.\n",
    "In programming languages that don't support negative indices,\n",
    "we would write `FAHRENHEIT[celsius + 50] = ...`.\n",
    "\n",
    "What if the map's keys aren't integers? If we implement a **hash function** that\n",
    "converts each key to an index (this is called hashing the key),\n",
    "then we can still implement maps with lookup tables.\n",
    "Consider the following lookup table (in the form of a string)\n",
    "with a substitution cipher to encrypt text."
   ]
  },
  {
   "cell_type": "code",
   "execution_count": 2,
   "id": "24",
   "metadata": {},
   "outputs": [],
   "source": [
    "cipher = \"lejqawntgckmfyrboxvhzsdipu\""
   ]
  },
  {
   "cell_type": "markdown",
   "id": "25",
   "metadata": {},
   "source": [
    "We must convert each lowercase English letter to\n",
    "an index from 0 to 25 to then look up the corresponding encrypted letter.\n",
    "Fortunately, this is easy with Python's `ord` function, which\n",
    "returns the Unicode code of a character."
   ]
  },
  {
   "cell_type": "code",
   "execution_count": 3,
   "id": "26",
   "metadata": {},
   "outputs": [],
   "source": [
    "def index_of(character: str) -> int:\n",
    "    \"\"\"Return a valid index for the character.\n",
    "\n",
    "    Preconditions: character is a lowercase English letter\n",
    "    Postconditions: the output is 0 for a, 1 for b, ..., 25 for z\n",
    "    \"\"\"\n",
    "    return ord(character) - ord(\"a\")"
   ]
  },
  {
   "cell_type": "markdown",
   "id": "27",
   "metadata": {},
   "source": [
    "The hash function takes advantage of the lowercase letters being consecutive\n",
    "in the Unicode standard.\n",
    "\n",
    "Any text can now be encrypted."
   ]
  },
  {
   "cell_type": "code",
   "execution_count": 4,
   "id": "28",
   "metadata": {},
   "outputs": [
    {
     "data": {
      "text/plain": [
       "'Ttgv gv hrb vajxah!'"
      ]
     },
     "execution_count": 4,
     "metadata": {},
     "output_type": "execute_result"
    }
   ],
   "source": [
    "def encrypt(text: str, cipher: str) -> str:\n",
    "    \"\"\"Return the encrypted version of text, using cipher.\n",
    "\n",
    "    Preconditions: len(cipher) = 26\n",
    "    Postconditions: the output is text, with every lowercase letter\n",
    "    replaced by the corresponding character in cipher\n",
    "    \"\"\"\n",
    "    encrypted = \"\"\n",
    "    for character in text:\n",
    "        if \"a\" <= character <= \"z\":\n",
    "            # apply hash function and lookup table\n",
    "            encrypted = encrypted + cipher[index_of(character)]\n",
    "        else:\n",
    "            encrypted = encrypted + character\n",
    "    return encrypted\n",
    "\n",
    "\n",
    "encrypt(\"This is top secret!\", cipher)"
   ]
  },
  {
   "cell_type": "markdown",
   "id": "29",
   "metadata": {},
   "source": [
    "To sum up, if the keys aren't integers, then a map can be implemented with\n",
    "a lookup table together with a hash function that converts the keys to indices.\n",
    "The map operations will have the same complexity as the hash\n",
    "function, because once an index is obtained,\n",
    "accessing, replacing or deleting a value in the array takes constant time.\n",
    "(In a lookup table, deleting a value doesn't shift the others:\n",
    "the array represents a map, not a sequence.)\n",
    "Often, the hash function takes constant time, like `index_of`."
   ]
  },
  {
   "cell_type": "markdown",
   "id": "30",
   "metadata": {},
   "source": [
    "<div class=\"alert alert-info\">\n",
    "<strong>Info:</strong> Lookup tables are also called direct address (or addressing) tables.\n",
    "</div>"
   ]
  },
  {
   "cell_type": "markdown",
   "id": "31",
   "metadata": {},
   "source": [
    "#### Exercise 8.1.4"
   ]
  },
  {
   "cell_type": "markdown",
   "id": "32",
   "metadata": {},
   "source": [
    "You've now seen two implementations of a priority queue:\n",
    "with a dynamic array of priority–item pairs\n",
    "sorted by priority ([Section&nbsp;7.6](../07_Ordered/07_4_priority_queue.ipynb#7.4-Priority-queues)) and\n",
    "with a map of priorities to queues (exercises above).\n",
    "\n",
    "Implementing an ordered collection (priority queue) with an unordered one (map)\n",
    "led to each operation searching for the highest key (priority)\n",
    "and thus taking time linear in the size of the map (number of priorities).\n",
    "\n",
    "Operation | Sorted dynamic array | Map\n",
    ":-|:-|:-\n",
    "find max  | Θ(1)  |  Θ(*priorities*)\n",
    "remove max  | Θ(1)  | Θ(*priorities*)\n",
    "add  | Θ(│*priority queue*│)  |  Θ(*priorities*)\n",
    "\n",
    "These complexities assume that priorities aren't known in advance:\n",
    "they can be any comparable objects.\n",
    "\n",
    "1. In which way may the complexities be different\n",
    "   if we know the priorities in advance?"
   ]
  },
  {
   "cell_type": "markdown",
   "id": "33",
   "metadata": {},
   "source": [
    "_Write your answer here._"
   ]
  },
  {
   "cell_type": "markdown",
   "id": "34",
   "metadata": {},
   "source": [
    "2. If we don't know the priorities in advance, is it\n",
    "   always better to use sorted dynamic arrays?"
   ]
  },
  {
   "cell_type": "markdown",
   "id": "35",
   "metadata": {},
   "source": [
    "_Write your answer here._"
   ]
  },
  {
   "cell_type": "markdown",
   "id": "36",
   "metadata": {},
   "source": [
    "[Hint](../31_Hints/Hints_08_1_04.ipynb)\n",
    "[Answer](../32_Answers/Answers_08_1_04.ipynb)"
   ]
  },
  {
   "cell_type": "markdown",
   "id": "37",
   "metadata": {},
   "source": [
    "⟵ [Previous section](08-introduction.ipynb) | [Up](08-introduction.ipynb) | [Next section](08_2_dictionary.ipynb) ⟶"
   ]
  }
 ],
 "metadata": {
  "kernelspec": {
   "display_name": "Python 3",
   "language": "python",
   "name": "python3"
  },
  "language_info": {
   "codemirror_mode": {
    "name": "ipython",
    "version": 3
   },
   "file_extension": ".py",
   "mimetype": "text/x-python",
   "name": "python",
   "nbconvert_exporter": "python",
   "pygments_lexer": "ipython3",
   "version": "3.12.10"
  }
 },
 "nbformat": 4,
 "nbformat_minor": 5
}
